{
  "nbformat": 4,
  "nbformat_minor": 0,
  "metadata": {
    "colab": {
      "name": "HW2_Fall2021_Solution.ipynb",
      "provenance": [],
      "collapsed_sections": [],
      "authorship_tag": "ABX9TyP7+Vtd1CjEXGaBpoJhuGTv",
      "include_colab_link": true
    },
    "kernelspec": {
      "name": "ir",
      "display_name": "R"
    }
  },
  "cells": [
    {
      "cell_type": "markdown",
      "metadata": {
        "id": "view-in-github",
        "colab_type": "text"
      },
      "source": [
        "<a href=\"https://colab.research.google.com/github/christophermalone/stat360/blob/main/HW2_Fall2021_Solution.ipynb\" target=\"_parent\"><img src=\"https://colab.research.google.com/assets/colab-badge.svg\" alt=\"Open In Colab\"/></a>"
      ]
    },
    {
      "cell_type": "markdown",
      "metadata": {
        "id": "KhClO9b02SXA"
      },
      "source": [
        "# Homework #2 - Solution - Fall 2021"
      ]
    },
    {
      "cell_type": "markdown",
      "metadata": {
        "id": "i8vz2bOduHhk"
      },
      "source": [
        "## Problem #1 - Haystacks"
      ]
    },
    {
      "cell_type": "code",
      "metadata": {
        "id": "LgaibuX_DtWK",
        "cellView": "form",
        "colab": {
          "base_uri": "https://localhost:8080/"
        },
        "outputId": "7cb34c39-f1ff-4e11-94c3-fca35eea3256"
      },
      "source": [
        "#@title Load Tidyverse\n",
        "#load tidyverse package\n",
        "library(tidyverse)"
      ],
      "execution_count": 1,
      "outputs": [
        {
          "output_type": "stream",
          "name": "stderr",
          "text": [
            "Warning message in system(\"timedatectl\", intern = TRUE):\n",
            "“running command 'timedatectl' had status 1”\n",
            "── \u001b[1mAttaching packages\u001b[22m ─────────────────────────────────────── tidyverse 1.3.1 ──\n",
            "\n",
            "\u001b[32m✔\u001b[39m \u001b[34mggplot2\u001b[39m 3.3.5     \u001b[32m✔\u001b[39m \u001b[34mpurrr  \u001b[39m 0.3.4\n",
            "\u001b[32m✔\u001b[39m \u001b[34mtibble \u001b[39m 3.1.5     \u001b[32m✔\u001b[39m \u001b[34mdplyr  \u001b[39m 1.0.7\n",
            "\u001b[32m✔\u001b[39m \u001b[34mtidyr  \u001b[39m 1.1.4     \u001b[32m✔\u001b[39m \u001b[34mstringr\u001b[39m 1.4.0\n",
            "\u001b[32m✔\u001b[39m \u001b[34mreadr  \u001b[39m 2.0.2     \u001b[32m✔\u001b[39m \u001b[34mforcats\u001b[39m 0.5.1\n",
            "\n",
            "── \u001b[1mConflicts\u001b[22m ────────────────────────────────────────── tidyverse_conflicts() ──\n",
            "\u001b[31m✖\u001b[39m \u001b[34mdplyr\u001b[39m::\u001b[32mfilter()\u001b[39m masks \u001b[34mstats\u001b[39m::filter()\n",
            "\u001b[31m✖\u001b[39m \u001b[34mdplyr\u001b[39m::\u001b[32mlag()\u001b[39m    masks \u001b[34mstats\u001b[39m::lag()\n",
            "\n"
          ]
        }
      ]
    },
    {
      "cell_type": "code",
      "metadata": {
        "id": "e07lUbQ1F1cV",
        "colab": {
          "base_uri": "https://localhost:8080/"
        },
        "cellView": "form",
        "outputId": "c805ee4a-4860-497e-97e6-12d62676393e"
      },
      "source": [
        "#@title Reading Data\n",
        "\n",
        "# Reading data in using read_csv\n",
        "Haystacks <- read_csv(\"http://www.StatsClass.org/stat360/Datasets/Haystacks.csv\")"
      ],
      "execution_count": 2,
      "outputs": [
        {
          "output_type": "stream",
          "name": "stderr",
          "text": [
            "\u001b[1m\u001b[1mRows: \u001b[1m\u001b[22m\u001b[34m\u001b[34m120\u001b[34m\u001b[39m \u001b[1m\u001b[1mColumns: \u001b[1m\u001b[22m\u001b[34m\u001b[34m4\u001b[34m\u001b[39m\n",
            "\n",
            "\u001b[36m──\u001b[39m \u001b[1m\u001b[1mColumn specification\u001b[1m\u001b[22m \u001b[36m────────────────────────────────────────────────────────\u001b[39m\n",
            "\u001b[1mDelimiter:\u001b[22m \",\"\n",
            "\u001b[32mdbl\u001b[39m (4): RowID, Volume, Circumference, Over\n",
            "\n",
            "\n",
            "\u001b[36mℹ\u001b[39m Use \u001b[30m\u001b[47m\u001b[30m\u001b[47m`spec()`\u001b[47m\u001b[30m\u001b[49m\u001b[39m to retrieve the full column specification for this data.\n",
            "\u001b[36mℹ\u001b[39m Specify the column types or set \u001b[30m\u001b[47m\u001b[30m\u001b[47m`show_col_types = FALSE`\u001b[47m\u001b[30m\u001b[49m\u001b[39m to quiet this message.\n",
            "\n"
          ]
        }
      ]
    },
    {
      "cell_type": "code",
      "metadata": {
        "id": "HYKWH2i0EN6s",
        "colab": {
          "base_uri": "https://localhost:8080/",
          "height": 286
        },
        "cellView": "form",
        "outputId": "0fe2ddc2-febb-43f3-d290-2280d516994e"
      },
      "source": [
        "#@title View the first few rows of data\n",
        "head(Haystacks)"
      ],
      "execution_count": 4,
      "outputs": [
        {
          "output_type": "display_data",
          "data": {
            "text/plain": [
              "  RowID Volume Circumference Over\n",
              "1 1     2853   69.0          37.0\n",
              "2 2     2702   65.0          36.5\n",
              "3 3     3099   73.0          38.5\n",
              "4 4     1306   62.5          26.5\n",
              "5 5     2294   70.0          35.0\n",
              "6 6     2725   68.0          36.5"
            ],
            "text/latex": "A tibble: 6 × 4\n\\begin{tabular}{llll}\n RowID & Volume & Circumference & Over\\\\\n <dbl> & <dbl> & <dbl> & <dbl>\\\\\n\\hline\n\t 1 & 2853 & 69.0 & 37.0\\\\\n\t 2 & 2702 & 65.0 & 36.5\\\\\n\t 3 & 3099 & 73.0 & 38.5\\\\\n\t 4 & 1306 & 62.5 & 26.5\\\\\n\t 5 & 2294 & 70.0 & 35.0\\\\\n\t 6 & 2725 & 68.0 & 36.5\\\\\n\\end{tabular}\n",
            "text/markdown": "\nA tibble: 6 × 4\n\n| RowID &lt;dbl&gt; | Volume &lt;dbl&gt; | Circumference &lt;dbl&gt; | Over &lt;dbl&gt; |\n|---|---|---|---|\n| 1 | 2853 | 69.0 | 37.0 |\n| 2 | 2702 | 65.0 | 36.5 |\n| 3 | 3099 | 73.0 | 38.5 |\n| 4 | 1306 | 62.5 | 26.5 |\n| 5 | 2294 | 70.0 | 35.0 |\n| 6 | 2725 | 68.0 | 36.5 |\n\n",
            "text/html": [
              "<table class=\"dataframe\">\n",
              "<caption>A tibble: 6 × 4</caption>\n",
              "<thead>\n",
              "\t<tr><th scope=col>RowID</th><th scope=col>Volume</th><th scope=col>Circumference</th><th scope=col>Over</th></tr>\n",
              "\t<tr><th scope=col>&lt;dbl&gt;</th><th scope=col>&lt;dbl&gt;</th><th scope=col>&lt;dbl&gt;</th><th scope=col>&lt;dbl&gt;</th></tr>\n",
              "</thead>\n",
              "<tbody>\n",
              "\t<tr><td>1</td><td>2853</td><td>69.0</td><td>37.0</td></tr>\n",
              "\t<tr><td>2</td><td>2702</td><td>65.0</td><td>36.5</td></tr>\n",
              "\t<tr><td>3</td><td>3099</td><td>73.0</td><td>38.5</td></tr>\n",
              "\t<tr><td>4</td><td>1306</td><td>62.5</td><td>26.5</td></tr>\n",
              "\t<tr><td>5</td><td>2294</td><td>70.0</td><td>35.0</td></tr>\n",
              "\t<tr><td>6</td><td>2725</td><td>68.0</td><td>36.5</td></tr>\n",
              "</tbody>\n",
              "</table>\n"
            ]
          },
          "metadata": {}
        }
      ]
    },
    {
      "cell_type": "markdown",
      "metadata": {
        "id": "oV94hIr3Edo4"
      },
      "source": [
        "### Marginal Distribution"
      ]
    },
    {
      "cell_type": "code",
      "metadata": {
        "colab": {
          "base_uri": "https://localhost:8080/",
          "height": 129
        },
        "id": "4WsK4sxqdj1Z",
        "outputId": "2cdc82b2-f614-4749-a092-c1ffda127862"
      },
      "source": [
        "#@title Question 1: Marginal Distribution\n",
        "( Haystacks\n",
        "     %>% summarize(\n",
        "                    Avg = mean(Volume),\n",
        "                    'Standard Deviation' = sd(Volume),\n",
        "                    'Variance' = var(Volume),\n",
        "                    Count = n()\n",
        "                 )\n",
        "     %>% mutate('Total Unexplained' = (Count - 1) * Variance)\n",
        ")"
      ],
      "execution_count": 9,
      "outputs": [
        {
          "output_type": "display_data",
          "data": {
            "text/plain": [
              "  Avg      Standard Deviation Variance Count Total Unexplained\n",
              "1 3017.789 914.698            836672.5 120   99564027         "
            ],
            "text/latex": "A tibble: 1 × 5\n\\begin{tabular}{lllll}\n Avg & Standard Deviation & Variance & Count & Total Unexplained\\\\\n <dbl> & <dbl> & <dbl> & <int> & <dbl>\\\\\n\\hline\n\t 3017.789 & 914.698 & 836672.5 & 120 & 99564027\\\\\n\\end{tabular}\n",
            "text/markdown": "\nA tibble: 1 × 5\n\n| Avg &lt;dbl&gt; | Standard Deviation &lt;dbl&gt; | Variance &lt;dbl&gt; | Count &lt;int&gt; | Total Unexplained &lt;dbl&gt; |\n|---|---|---|---|---|\n| 3017.789 | 914.698 | 836672.5 | 120 | 99564027 |\n\n",
            "text/html": [
              "<table class=\"dataframe\">\n",
              "<caption>A tibble: 1 × 5</caption>\n",
              "<thead>\n",
              "\t<tr><th scope=col>Avg</th><th scope=col>Standard Deviation</th><th scope=col>Variance</th><th scope=col>Count</th><th scope=col>Total Unexplained</th></tr>\n",
              "\t<tr><th scope=col>&lt;dbl&gt;</th><th scope=col>&lt;dbl&gt;</th><th scope=col>&lt;dbl&gt;</th><th scope=col>&lt;int&gt;</th><th scope=col>&lt;dbl&gt;</th></tr>\n",
              "</thead>\n",
              "<tbody>\n",
              "\t<tr><td>3017.789</td><td>914.698</td><td>836672.5</td><td>120</td><td>99564027</td></tr>\n",
              "</tbody>\n",
              "</table>\n"
            ]
          },
          "metadata": {}
        }
      ]
    },
    {
      "cell_type": "markdown",
      "metadata": {
        "id": "iXv6YnWVwhLI"
      },
      "source": [
        "### Distribution of Volume | Circumference"
      ]
    },
    {
      "cell_type": "code",
      "metadata": {
        "colab": {
          "base_uri": "https://localhost:8080/",
          "height": 437
        },
        "id": "unWcESmxlu-j",
        "outputId": "3ec0c5ec-6c97-4d7e-8c2d-dccdb19f7241"
      },
      "source": [
        "#@title Question 2: Plot of Volume vs Circumference\n",
        "ggplot(data=Haystacks, aes(x=Circumference, y=Volume)) + \n",
        "  geom_point() +\n",
        "  theme_classic()"
      ],
      "execution_count": 11,
      "outputs": [
        {
          "output_type": "display_data",
          "data": {
            "image/png": "[encoded data removed]",
            "text/plain": [
              "plot without title"
            ]
          },
          "metadata": {
            "image/png": {
              "width": 420,
              "height": 420
            }
          }
        }
      ]
    },
    {
      "cell_type": "code",
      "metadata": {
        "id": "u2nm814gxGm4"
      },
      "source": [
        "#@title Question 4: Getting the predicted volume and plotting the function on the scatterplot\n",
        "Haystacks <- (Haystacks\n",
        "               %>% mutate(Predicted_Volume_withCircumference = (Circumference^3) / (12 * 3.1416^2))\n",
        "             )"
      ],
      "execution_count": 21,
      "outputs": []
    },
    {
      "cell_type": "code",
      "metadata": {
        "colab": {
          "base_uri": "https://localhost:8080/",
          "height": 437
        },
        "id": "MnOpbLqPxf6C",
        "outputId": "022b257e-fb94-4387-d4c0-489536785f20"
      },
      "source": [
        "ggplot(data=Haystacks, aes(x=Circumference, y=Volume)) + \n",
        "  geom_point() +\n",
        "  geom_line(aes(x=Circumference, y=Predicted_Volume_withCircumference)) +\n",
        "  theme_classic()"
      ],
      "execution_count": 22,
      "outputs": [
        {
          "output_type": "display_data",
          "data": {
            "image/png": "[encoded data removed]",
            "text/plain": [
              "plot without title"
            ]
          },
          "metadata": {
            "image/png": {
              "width": 420,
              "height": 420
            }
          }
        }
      ]
    },
    {
      "cell_type": "code",
      "metadata": {
        "colab": {
          "base_uri": "https://localhost:8080/",
          "height": 129
        },
        "id": "C1BFMV1q08sX",
        "outputId": "8f959d16-6617-439e-c5d5-1a8d309fc079"
      },
      "source": [
        "#@title Question 5: Total Unexplained Variation in Conditional Distribution\n",
        "Haystacks <- (Haystacks\n",
        "               %>% mutate(Residual_withCircumference = (Volume - Predicted_Volume_withCircumference),\n",
        "                          Residual_withCircumferenceSquared = Residual_withCircumference^2\n",
        "                         )\n",
        "             )\n",
        "\n",
        "(Haystacks\n",
        "     %>% summarize( \n",
        "                    'Total Unexplained Conditional' = sum(Residual_withCircumferenceSquared)\n",
        "                  )\n",
        ")     "
      ],
      "execution_count": 30,
      "outputs": [
        {
          "output_type": "display_data",
          "data": {
            "text/plain": [
              "  Total Unexplained Conditional\n",
              "1 50151624                     "
            ],
            "text/latex": "A tibble: 1 × 1\n\\begin{tabular}{l}\n Total Unexplained Conditional\\\\\n <dbl>\\\\\n\\hline\n\t 50151624\\\\\n\\end{tabular}\n",
            "text/markdown": "\nA tibble: 1 × 1\n\n| Total Unexplained Conditional &lt;dbl&gt; |\n|---|\n| 50151624 |\n\n",
            "text/html": [
              "<table class=\"dataframe\">\n",
              "<caption>A tibble: 1 × 1</caption>\n",
              "<thead>\n",
              "\t<tr><th scope=col>Total Unexplained Conditional</th></tr>\n",
              "\t<tr><th scope=col>&lt;dbl&gt;</th></tr>\n",
              "</thead>\n",
              "<tbody>\n",
              "\t<tr><td>50151624</td></tr>\n",
              "</tbody>\n",
              "</table>\n"
            ]
          },
          "metadata": {}
        }
      ]
    },
    {
      "cell_type": "markdown",
      "metadata": {
        "id": "fuU6XmaG3bxJ"
      },
      "source": [
        "### Distribution of Volume | Over"
      ]
    },
    {
      "cell_type": "code",
      "metadata": {
        "id": "CcxS1ve04wQn"
      },
      "source": [
        "Haystacks <- (Haystacks\n",
        "    %>% mutate(Predicted_Volume_withOver = ( 2*(Over^3) )/ (3 * 3.1416^2))\n",
        ")"
      ],
      "execution_count": 27,
      "outputs": []
    },
    {
      "cell_type": "code",
      "metadata": {
        "colab": {
          "base_uri": "https://localhost:8080/",
          "height": 437
        },
        "id": "PAGqe7DR3nU2",
        "outputId": "54eb47fa-2aec-4504-95c3-12675951f81b"
      },
      "source": [
        "#@title Question 7: Plot of Volume vs Over\n",
        "ggplot(data=Haystacks, aes(x=Over, y=Volume)) + \n",
        "  geom_point() +\n",
        "  geom_line(aes(x=Over, y=Predicted_Volume_withOver)) +\n",
        "  theme_classic()"
      ],
      "execution_count": 29,
      "outputs": [
        {
          "output_type": "display_data",
          "data": {
            "image/png": "[encoded data removed]",
            "text/plain": [
              "plot without title"
            ]
          },
          "metadata": {
            "image/png": {
              "width": 420,
              "height": 420
            }
          }
        }
      ]
    },
    {
      "cell_type": "code",
      "metadata": {
        "colab": {
          "base_uri": "https://localhost:8080/",
          "height": 129
        },
        "id": "odyTBJLc6CHp",
        "outputId": "276e9882-fc1b-450a-df18-0136c4473f23"
      },
      "source": [
        "#@title Question 8: Total Unexplained Variation in Conditional Distribution\n",
        "Haystacks <- (Haystacks\n",
        "               %>% mutate(Residual_withOver = (Volume - Predicted_Volume_withOver),\n",
        "                          Residual_withOverSquared = Residual_withOver^2\n",
        "                         )\n",
        "             )\n",
        "\n",
        "(Haystacks\n",
        "     %>% summarize( \n",
        "                    'Total Unexplained Conditional' = sum(Residual_withOverSquared)\n",
        "                  )\n",
        ")   "
      ],
      "execution_count": 32,
      "outputs": [
        {
          "output_type": "display_data",
          "data": {
            "text/plain": [
              "  Total Unexplained Conditional\n",
              "1 19953979                     "
            ],
            "text/latex": "A tibble: 1 × 1\n\\begin{tabular}{l}\n Total Unexplained Conditional\\\\\n <dbl>\\\\\n\\hline\n\t 19953979\\\\\n\\end{tabular}\n",
            "text/markdown": "\nA tibble: 1 × 1\n\n| Total Unexplained Conditional &lt;dbl&gt; |\n|---|\n| 19953979 |\n\n",
            "text/html": [
              "<table class=\"dataframe\">\n",
              "<caption>A tibble: 1 × 1</caption>\n",
              "<thead>\n",
              "\t<tr><th scope=col>Total Unexplained Conditional</th></tr>\n",
              "\t<tr><th scope=col>&lt;dbl&gt;</th></tr>\n",
              "</thead>\n",
              "<tbody>\n",
              "\t<tr><td>19953979</td></tr>\n",
              "</tbody>\n",
              "</table>\n"
            ]
          },
          "metadata": {}
        }
      ]
    },
    {
      "cell_type": "markdown",
      "metadata": {
        "id": "9rTeMxtu-Bf2"
      },
      "source": [
        "## Berkeley Guidance Study of Growth Rate"
      ]
    },
    {
      "cell_type": "code",
      "metadata": {
        "colab": {
          "base_uri": "https://localhost:8080/"
        },
        "id": "_bPQpu25-M7i",
        "outputId": "a2de2c2b-899d-4962-e5c6-09e930f5486a"
      },
      "source": [
        "# Reading data in using read_csv\n",
        "BGSGirls <- read_csv(\"http://www.StatsClass.org/stat360/Datasets/BGSGirls.csv\")"
      ],
      "execution_count": 33,
      "outputs": [
        {
          "output_type": "stream",
          "name": "stderr",
          "text": [
            "\u001b[1m\u001b[1mRows: \u001b[1m\u001b[22m\u001b[34m\u001b[34m70\u001b[34m\u001b[39m \u001b[1m\u001b[1mColumns: \u001b[1m\u001b[22m\u001b[34m\u001b[34m12\u001b[34m\u001b[39m\n",
            "\n",
            "\u001b[36m──\u001b[39m \u001b[1m\u001b[1mColumn specification\u001b[1m\u001b[22m \u001b[36m────────────────────────────────────────────────────────\u001b[39m\n",
            "\u001b[1mDelimiter:\u001b[22m \",\"\n",
            "\u001b[32mdbl\u001b[39m (12): TableID, SomatoType, Weight2, Height2, Weight9, Height9, Leg9, Str...\n",
            "\n",
            "\n",
            "\u001b[36mℹ\u001b[39m Use \u001b[30m\u001b[47m\u001b[30m\u001b[47m`spec()`\u001b[47m\u001b[30m\u001b[49m\u001b[39m to retrieve the full column specification for this data.\n",
            "\u001b[36mℹ\u001b[39m Specify the column types or set \u001b[30m\u001b[47m\u001b[30m\u001b[47m`show_col_types = FALSE`\u001b[47m\u001b[30m\u001b[49m\u001b[39m to quiet this message.\n",
            "\n"
          ]
        }
      ]
    },
    {
      "cell_type": "markdown",
      "metadata": {
        "id": "eowLkrCR-kaZ"
      },
      "source": [
        "Taking a look at the data.frame"
      ]
    },
    {
      "cell_type": "code",
      "metadata": {
        "colab": {
          "base_uri": "https://localhost:8080/",
          "height": 286
        },
        "id": "XMJKGqAj-kjJ",
        "outputId": "d91bcacd-cdc8-49dc-fdcc-3732a2b57500"
      },
      "source": [
        "head(BGSGirls)"
      ],
      "execution_count": 34,
      "outputs": [
        {
          "output_type": "display_data",
          "data": {
            "text/plain": [
              "  TableID SomatoType Weight2 Height2 Weight9 Height9 Leg9 Strength9 Weight18\n",
              "1 1       5.0        13.6    87.7    32.5    133.4   28.4  74       56.9    \n",
              "2 2       4.0        11.3    90.0    27.8    134.8   26.9  65       49.9    \n",
              "3 3       5.5        17.0    89.6    44.4    141.5   31.9 104       55.3    \n",
              "4 4       5.5        13.2    90.3    40.5    137.1   31.8  79       65.9    \n",
              "5 5       4.5        13.3    89.4    29.9    136.1   27.7  83       62.3    \n",
              "6 6       3.0        11.3    85.5    22.8    130.6   23.4  60       47.4    \n",
              "  Height18 Leg18 Strength18\n",
              "1 158.9    34.6  143       \n",
              "2 166.0    33.8  117       \n",
              "3 162.2    35.1  143       \n",
              "4 167.8    39.3  148       \n",
              "5 170.9    36.3  152       \n",
              "6 164.9    31.8  126       "
            ],
            "text/latex": "A tibble: 6 × 12\n\\begin{tabular}{llllllllllll}\n TableID & SomatoType & Weight2 & Height2 & Weight9 & Height9 & Leg9 & Strength9 & Weight18 & Height18 & Leg18 & Strength18\\\\\n <dbl> & <dbl> & <dbl> & <dbl> & <dbl> & <dbl> & <dbl> & <dbl> & <dbl> & <dbl> & <dbl> & <dbl>\\\\\n\\hline\n\t 1 & 5.0 & 13.6 & 87.7 & 32.5 & 133.4 & 28.4 &  74 & 56.9 & 158.9 & 34.6 & 143\\\\\n\t 2 & 4.0 & 11.3 & 90.0 & 27.8 & 134.8 & 26.9 &  65 & 49.9 & 166.0 & 33.8 & 117\\\\\n\t 3 & 5.5 & 17.0 & 89.6 & 44.4 & 141.5 & 31.9 & 104 & 55.3 & 162.2 & 35.1 & 143\\\\\n\t 4 & 5.5 & 13.2 & 90.3 & 40.5 & 137.1 & 31.8 &  79 & 65.9 & 167.8 & 39.3 & 148\\\\\n\t 5 & 4.5 & 13.3 & 89.4 & 29.9 & 136.1 & 27.7 &  83 & 62.3 & 170.9 & 36.3 & 152\\\\\n\t 6 & 3.0 & 11.3 & 85.5 & 22.8 & 130.6 & 23.4 &  60 & 47.4 & 164.9 & 31.8 & 126\\\\\n\\end{tabular}\n",
            "text/markdown": "\nA tibble: 6 × 12\n\n| TableID &lt;dbl&gt; | SomatoType &lt;dbl&gt; | Weight2 &lt;dbl&gt; | Height2 &lt;dbl&gt; | Weight9 &lt;dbl&gt; | Height9 &lt;dbl&gt; | Leg9 &lt;dbl&gt; | Strength9 &lt;dbl&gt; | Weight18 &lt;dbl&gt; | Height18 &lt;dbl&gt; | Leg18 &lt;dbl&gt; | Strength18 &lt;dbl&gt; |\n|---|---|---|---|---|---|---|---|---|---|---|---|\n| 1 | 5.0 | 13.6 | 87.7 | 32.5 | 133.4 | 28.4 |  74 | 56.9 | 158.9 | 34.6 | 143 |\n| 2 | 4.0 | 11.3 | 90.0 | 27.8 | 134.8 | 26.9 |  65 | 49.9 | 166.0 | 33.8 | 117 |\n| 3 | 5.5 | 17.0 | 89.6 | 44.4 | 141.5 | 31.9 | 104 | 55.3 | 162.2 | 35.1 | 143 |\n| 4 | 5.5 | 13.2 | 90.3 | 40.5 | 137.1 | 31.8 |  79 | 65.9 | 167.8 | 39.3 | 148 |\n| 5 | 4.5 | 13.3 | 89.4 | 29.9 | 136.1 | 27.7 |  83 | 62.3 | 170.9 | 36.3 | 152 |\n| 6 | 3.0 | 11.3 | 85.5 | 22.8 | 130.6 | 23.4 |  60 | 47.4 | 164.9 | 31.8 | 126 |\n\n",
            "text/html": [
              "<table class=\"dataframe\">\n",
              "<caption>A tibble: 6 × 12</caption>\n",
              "<thead>\n",
              "\t<tr><th scope=col>TableID</th><th scope=col>SomatoType</th><th scope=col>Weight2</th><th scope=col>Height2</th><th scope=col>Weight9</th><th scope=col>Height9</th><th scope=col>Leg9</th><th scope=col>Strength9</th><th scope=col>Weight18</th><th scope=col>Height18</th><th scope=col>Leg18</th><th scope=col>Strength18</th></tr>\n",
              "\t<tr><th scope=col>&lt;dbl&gt;</th><th scope=col>&lt;dbl&gt;</th><th scope=col>&lt;dbl&gt;</th><th scope=col>&lt;dbl&gt;</th><th scope=col>&lt;dbl&gt;</th><th scope=col>&lt;dbl&gt;</th><th scope=col>&lt;dbl&gt;</th><th scope=col>&lt;dbl&gt;</th><th scope=col>&lt;dbl&gt;</th><th scope=col>&lt;dbl&gt;</th><th scope=col>&lt;dbl&gt;</th><th scope=col>&lt;dbl&gt;</th></tr>\n",
              "</thead>\n",
              "<tbody>\n",
              "\t<tr><td>1</td><td>5.0</td><td>13.6</td><td>87.7</td><td>32.5</td><td>133.4</td><td>28.4</td><td> 74</td><td>56.9</td><td>158.9</td><td>34.6</td><td>143</td></tr>\n",
              "\t<tr><td>2</td><td>4.0</td><td>11.3</td><td>90.0</td><td>27.8</td><td>134.8</td><td>26.9</td><td> 65</td><td>49.9</td><td>166.0</td><td>33.8</td><td>117</td></tr>\n",
              "\t<tr><td>3</td><td>5.5</td><td>17.0</td><td>89.6</td><td>44.4</td><td>141.5</td><td>31.9</td><td>104</td><td>55.3</td><td>162.2</td><td>35.1</td><td>143</td></tr>\n",
              "\t<tr><td>4</td><td>5.5</td><td>13.2</td><td>90.3</td><td>40.5</td><td>137.1</td><td>31.8</td><td> 79</td><td>65.9</td><td>167.8</td><td>39.3</td><td>148</td></tr>\n",
              "\t<tr><td>5</td><td>4.5</td><td>13.3</td><td>89.4</td><td>29.9</td><td>136.1</td><td>27.7</td><td> 83</td><td>62.3</td><td>170.9</td><td>36.3</td><td>152</td></tr>\n",
              "\t<tr><td>6</td><td>3.0</td><td>11.3</td><td>85.5</td><td>22.8</td><td>130.6</td><td>23.4</td><td> 60</td><td>47.4</td><td>164.9</td><td>31.8</td><td>126</td></tr>\n",
              "</tbody>\n",
              "</table>\n"
            ]
          },
          "metadata": {}
        }
      ]
    },
    {
      "cell_type": "code",
      "metadata": {
        "colab": {
          "base_uri": "https://localhost:8080/",
          "height": 437
        },
        "id": "-kGzP_te-zU9",
        "outputId": "366b4b99-042f-49fd-9404-0f475d825d66"
      },
      "source": [
        "ggplot(data = BGSGirls, aes(x=Leg9, y=Leg18)) +\n",
        "  geom_point() +\n",
        "  geom_smooth(method='lm', formula = y ~ x, se=FALSE) +  \n",
        "  theme_classic()\n"
      ],
      "execution_count": 38,
      "outputs": [
        {
          "output_type": "display_data",
          "data": {
            "image/png": "[encoded data removed]",
            "text/plain": [
              "plot without title"
            ]
          },
          "metadata": {
            "image/png": {
              "width": 420,
              "height": 420
            }
          }
        }
      ]
    },
    {
      "cell_type": "markdown",
      "metadata": {
        "id": "-MZ1x4o6-gQh"
      },
      "source": [
        "Fitting the desired model for $Leg18 \\sim Leg9$"
      ]
    },
    {
      "cell_type": "code",
      "metadata": {
        "id": "3yQAK2Hz-gXJ"
      },
      "source": [
        "Leg_Model <- lm(Leg18 ~ Leg9, data=BGSGirls)"
      ],
      "execution_count": 39,
      "outputs": []
    },
    {
      "cell_type": "code",
      "metadata": {
        "colab": {
          "base_uri": "https://localhost:8080/",
          "height": 161
        },
        "id": "30P6tkkxAGMG",
        "outputId": "440b06b5-2c3c-4368-feac-c2a3cb24eb9a"
      },
      "source": [
        "#@title Question 12: Overall ANOVA test\n",
        "anova(Leg_Model)"
      ],
      "execution_count": 41,
      "outputs": [
        {
          "output_type": "display_data",
          "data": {
            "text/plain": [
              "          Df Sum Sq   Mean Sq    F value Pr(>F)     \n",
              "Leg9       1 273.9430 273.942952 99.8383 5.64627e-15\n",
              "Residuals 68 186.5829   2.743866      NA          NA"
            ],
            "text/latex": "A anova: 2 × 5\n\\begin{tabular}{r|lllll}\n  & Df & Sum Sq & Mean Sq & F value & Pr(>F)\\\\\n  & <int> & <dbl> & <dbl> & <dbl> & <dbl>\\\\\n\\hline\n\tLeg9 &  1 & 273.9430 & 273.942952 & 99.8383 & 5.64627e-15\\\\\n\tResiduals & 68 & 186.5829 &   2.743866 &      NA &          NA\\\\\n\\end{tabular}\n",
            "text/markdown": "\nA anova: 2 × 5\n\n| <!--/--> | Df &lt;int&gt; | Sum Sq &lt;dbl&gt; | Mean Sq &lt;dbl&gt; | F value &lt;dbl&gt; | Pr(&gt;F) &lt;dbl&gt; |\n|---|---|---|---|---|---|\n| Leg9 |  1 | 273.9430 | 273.942952 | 99.8383 | 5.64627e-15 |\n| Residuals | 68 | 186.5829 |   2.743866 |      NA |          NA |\n\n",
            "text/html": [
              "<table class=\"dataframe\">\n",
              "<caption>A anova: 2 × 5</caption>\n",
              "<thead>\n",
              "\t<tr><th></th><th scope=col>Df</th><th scope=col>Sum Sq</th><th scope=col>Mean Sq</th><th scope=col>F value</th><th scope=col>Pr(&gt;F)</th></tr>\n",
              "\t<tr><th></th><th scope=col>&lt;int&gt;</th><th scope=col>&lt;dbl&gt;</th><th scope=col>&lt;dbl&gt;</th><th scope=col>&lt;dbl&gt;</th><th scope=col>&lt;dbl&gt;</th></tr>\n",
              "</thead>\n",
              "<tbody>\n",
              "\t<tr><th scope=row>Leg9</th><td> 1</td><td>273.9430</td><td>273.942952</td><td>99.8383</td><td>5.64627e-15</td></tr>\n",
              "\t<tr><th scope=row>Residuals</th><td>68</td><td>186.5829</td><td>  2.743866</td><td>     NA</td><td>         NA</td></tr>\n",
              "</tbody>\n",
              "</table>\n"
            ]
          },
          "metadata": {}
        }
      ]
    },
    {
      "cell_type": "code",
      "metadata": {
        "colab": {
          "base_uri": "https://localhost:8080/",
          "height": 329
        },
        "id": "3rXiW26tD6nz",
        "outputId": "1cb01be5-4ce6-4eee-a0dc-00df4780397c"
      },
      "source": [
        "#@title Question 13/14: Model Estimates\n",
        "summary(Leg_Model)"
      ],
      "execution_count": 42,
      "outputs": [
        {
          "output_type": "display_data",
          "data": {
            "text/plain": [
              "\n",
              "Call:\n",
              "lm(formula = Leg18 ~ Leg9, data = BGSGirls)\n",
              "\n",
              "Residuals:\n",
              "    Min      1Q  Median      3Q     Max \n",
              "-3.6236 -0.9164  0.0044  0.9951  3.8555 \n",
              "\n",
              "Coefficients:\n",
              "            Estimate Std. Error t value Pr(>|t|)    \n",
              "(Intercept) 12.78279    2.27405   5.621 3.85e-07 ***\n",
              "Leg9         0.81319    0.08139   9.992 5.65e-15 ***\n",
              "---\n",
              "Signif. codes:  0 ‘***’ 0.001 ‘**’ 0.01 ‘*’ 0.05 ‘.’ 0.1 ‘ ’ 1\n",
              "\n",
              "Residual standard error: 1.656 on 68 degrees of freedom\n",
              "Multiple R-squared:  0.5948,\tAdjusted R-squared:  0.5889 \n",
              "F-statistic: 99.84 on 1 and 68 DF,  p-value: 5.646e-15\n"
            ]
          },
          "metadata": {}
        }
      ]
    },
    {
      "cell_type": "markdown",
      "metadata": {
        "id": "PYD2eVnLv83O"
      },
      "source": [
        "\n",
        "\n",
        "---\n",
        "\n",
        "\n",
        "End of Document"
      ]
    }
  ]
}