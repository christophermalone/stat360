{
  "nbformat": 4,
  "nbformat_minor": 0,
  "metadata": {
    "colab": {
      "name": "Introduction to Google Colab.ipynb",
      "provenance": [],
      "collapsed_sections": [],
      "authorship_tag": "ABX9TyMT267jQ8E4sSCIYIf7P+cp"
    },
    "kernelspec": {
      "name": "ir",
      "display_name": "R"
    }
  },
  "cells": [
    {
      "cell_type": "markdown",
      "metadata": {
        "id": "KhClO9b02SXA"
      },
      "source": [
        "# Handout #0: Introduction to Google Colab\n",
        "\n"
      ]
    },
    {
      "cell_type": "markdown",
      "metadata": {
        "id": "I_Q53E4nDurl"
      },
      "source": [
        "**What is Google Colab?**\n",
        "\n",
        "Google Colaboratory, or simply **Colab** for short, is an programming environment from Google Research. Colab allows on to write and execute arbitrary  python (and R) code through the browser, and is especially well suited to machine learning, data analysis, and education. \n",
        "\n",
        "Source: https://research.google.com/colaboratory/faq.html "
      ]
    },
    {
      "cell_type": "markdown",
      "metadata": {
        "id": "O-lGEmhpF-kb"
      },
      "source": [
        "<table>\n",
        "  <tr>\n",
        "    <td align='center'> Personal Computer<br>\n",
        "        <p align='center'><img src=\"https://drive.google.com/uc?export=view&id=1lNw9WWnrGM3fwyMbFFTDXLH5usVTCL70\" height='50%' width='50%'></img></p>\n",
        "      </td>\n",
        "      <td align='center'> Google Cloud<br>\n",
        "        <p align='center'><img src=\"https://drive.google.com/uc?export=view&id=1h6Jvk0xpIgyo4tAJO3jN5DzW8KoaNvYn\" height='50%' width='50%'></img></p>\n",
        "      </td>\n",
        "    </tr>\n",
        "</table>\n",
        "\n"
      ]
    },
    {
      "cell_type": "markdown",
      "metadata": {
        "id": "R9Qqg0RqXDG6"
      },
      "source": [
        "**Google Colab Environment**\n",
        "\n",
        "A Colab session is launched with a browser.  A Colab session is comprised of an iPython Notebook and its associated data files. The iPython Notebook consists of Python (or R) code. In fact, Google Colab permits one to use a variety of programming languages within the same notebook.\n",
        "\n",
        "<p align='center'><img src=\"https://drive.google.com/uc?export=view&id=16RXOmQTREcxdy118SuQuWLzqlB0AkdVK\" height='75%' width='75%'></img></p>\n"
      ]
    },
    {
      "cell_type": "markdown",
      "metadata": {
        "id": "njXGRUIC9Lgs"
      },
      "source": [
        "## Uploading Data into the Current Colab Session"
      ]
    },
    {
      "cell_type": "markdown",
      "metadata": {
        "id": "3eGZ0aSg_a5K"
      },
      "source": [
        "The iPython Notbebook is often saved to your Google Drive.  The actual Colab session is temporary as the session runs in the Cloud.  A Colab session starts when a iPython Notebook is opened and closes after a certain amount of inactivity or after closing the browser tab. Data can be loaded directly into the session by dragging and dropping a data file into an existing folder.  The **sample_data** folder is a commonplace for data to be stored within a Colab session. "
      ]
    },
    {
      "cell_type": "markdown",
      "metadata": {
        "id": "vpppE9Km9T93"
      },
      "source": [
        "<p align='center'><img src=\"https://drive.google.com/uc?export=view&id=1mIuBRDZpEBUfVI-gPRypgIGx6OmBqOzG\"></img></p>\n"
      ]
    },
    {
      "cell_type": "markdown",
      "metadata": {
        "id": "DWMRogIl8o_v"
      },
      "source": [
        "The following message is provided upon uploading a data file into the current Colab session. "
      ]
    },
    {
      "cell_type": "markdown",
      "metadata": {
        "id": "T8ULLlSnB4tl"
      },
      "source": [
        "<p align='center'><img src=\"https://drive.google.com/uc?export=view&id=12WN2hyGzYwzkofnJqRdYgzjH1lDhwHX2\"></img></p>"
      ]
    },
    {
      "cell_type": "markdown",
      "metadata": {
        "id": "DTpb86r69_Lv"
      },
      "source": [
        "<table width='100%' ><tr><td bgcolor='green'></td></tr></table>\n",
        "\n",
        "## Example 0.1\n",
        "\n",
        "Consider the following Crater Impact study that was done here at Winona State univeristy.  This study investigated the effect of certain variables on the size of an impact crater. \n",
        "<table>\n",
        "  <tr>\n",
        "    <td width='50%'>\n",
        "      <ul>\n",
        "        <li><strong>Response Variable</strong>: Diameter of crater (cm)</li><br>\n",
        "        <li>Variables under investigation (i.e. independent variables)</li>\n",
        "        <ul>\n",
        "          <li>Hight from which projectile was dropped</li>\n",
        "          <li>Projectile Type (glass, steel, or wood ball)</li>\n",
        "          <li>Sand Type (course, fine)</li>\n",
        "         </ul>\n",
        "    </ul>\n",
        "    </td>\n",
        "    <td width='50%'>\n",
        "<p align='center'><img src=\"https://drive.google.com/uc?export=view&id=1-8-xx31LD1kA95CeDpJ-cMlGDCXxG56G\"></img></p>\n",
        "  </td>\n",
        "</tr>\n",
        "</table>\n",
        "\n",
        "Data Folder: [OneDrive](https://mnscu-my.sharepoint.com/:f:/g/personal/aq7839yd_minnstate_edu/EmOQfrwxzzRBqq8PH_8qTmMBy-1qKgM11Hb8vzjs025EEA?e=wyShYs)\n",
        "\n",
        "\n",
        "YouTube: [Impact Craters](https://www.youtube.com/results?search_query=worlds+biggest+impact+craters)\n",
        "\n",
        "\n",
        "<table width='100%' ><tr><td bgcolor='green'></td></tr></table>"
      ]
    },
    {
      "cell_type": "markdown",
      "metadata": {
        "id": "W1FKL1wkCwTy"
      },
      "source": [
        "\n",
        "To upload a copy of a dataset into the temporary colab session, simple drag-and-drop the data file into the sample_data directory.  The file will appear upon a successful upload."
      ]
    },
    {
      "cell_type": "markdown",
      "metadata": {
        "id": "wMsHMTaEBq26"
      },
      "source": [
        "\n",
        "\n",
        "<p align='center'><img src=\"https://drive.google.com/uc?export=view&id=1nJLop0B524EKZxBYCNbc_IPYrv73_iCP\"></img></p> \n"
      ]
    },
    {
      "cell_type": "markdown",
      "metadata": {
        "id": "kzLE9xOPKwdp"
      },
      "source": [
        "### Reading Data into your R Session"
      ]
    },
    {
      "cell_type": "markdown",
      "metadata": {
        "id": "8V3Ft1xeK9YL"
      },
      "source": [
        "Tidyverse [ [Link](http://tidyverse.org) ] is a collection of R packages designed to make it easier to work with data. The R packages contained in this collection have been written to overcome some of the inherent limitations of base R.  For example, tidyverse uses alternatives for storing data and for creating quality graphics."
      ]
    },
    {
      "cell_type": "code",
      "metadata": {
        "id": "PlJhfbnzDE8s"
      },
      "source": [
        "# Load the tidyverse() libary in this session of R\n",
        "library(tidyverse)"
      ],
      "execution_count": null,
      "outputs": []
    },
    {
      "cell_type": "markdown",
      "metadata": {
        "id": "KGv63IB8pfQt"
      },
      "source": [
        "Using the **read_csv()** function to read the dataset into this R session."
      ]
    },
    {
      "cell_type": "code",
      "metadata": {
        "id": "OHbIi8elF0ru"
      },
      "source": [
        "# Reading in the data\n",
        "ImpactCraterData <- read_csv(\"/content/sample_data/ImpactCrater.csv\")"
      ],
      "execution_count": null,
      "outputs": []
    },
    {
      "cell_type": "markdown",
      "metadata": {
        "id": "2snagSSnpqwl"
      },
      "source": [
        "The **ls()** function can be used to obtain a list of all variables in this R session."
      ]
    },
    {
      "cell_type": "code",
      "metadata": {
        "id": "EPzo7XzEDNg0"
      },
      "source": [
        "#Get a list of all variables\n",
        "ls()"
      ],
      "execution_count": null,
      "outputs": []
    },
    {
      "cell_type": "markdown",
      "metadata": {
        "id": "JlLPBpappJ6G"
      },
      "source": [
        "The **str()** function can be used to view the structure of the data"
      ]
    },
    {
      "cell_type": "code",
      "metadata": {
        "id": "XMtHVdO1pKAk"
      },
      "source": [
        "# Identify the structure \n",
        "str(ImpactCraterData)"
      ],
      "execution_count": null,
      "outputs": []
    },
    {
      "cell_type": "markdown",
      "metadata": {
        "id": "kESZBBUgqMQc"
      },
      "source": [
        "To **View()** function can be used to print the data to the screen."
      ]
    },
    {
      "cell_type": "code",
      "metadata": {
        "id": "jiIs77Z_QVZm"
      },
      "source": [
        "# View data on screen\n",
        "View(ImpactCraterData)"
      ],
      "execution_count": null,
      "outputs": []
    }
  ]
}