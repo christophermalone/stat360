{
  "nbformat": 4,
  "nbformat_minor": 0,
  "metadata": {
    "colab": {
      "name": "Handout9.ipynb",
      "provenance": [],
      "collapsed_sections": [],
      "authorship_tag": "ABX9TyMeuKI/Ek7yMq4rL364GYA0",
      "include_colab_link": true
    },
    "kernelspec": {
      "display_name": "R",
      "name": "ir"
    }
  },
  "cells": [
    {
      "cell_type": "markdown",
      "metadata": {
        "id": "view-in-github",
        "colab_type": "text"
      },
      "source": [
        "<a href=\"https://colab.research.google.com/github/christophermalone/stat360/blob/main/Handout9.ipynb\" target=\"_parent\"><img src=\"https://colab.research.google.com/assets/colab-badge.svg\" alt=\"Open In Colab\"/></a>"
      ]
    },
    {
      "cell_type": "markdown",
      "metadata": {
        "id": "KhClO9b02SXA"
      },
      "source": [
        "# Handout #9 : The Influence of Individual Observations"
      ]
    },
    {
      "cell_type": "markdown",
      "metadata": {
        "id": "AXDYLbzK2o7e"
      },
      "source": [
        "<table width='100%' ><tr><td bgcolor='green'></td></tr></table>\n",
        "\n",
        "## Used Cars - Ford Focus Dataset\n",
        "\n",
        "Consider the following data collected from the FindCars.com website.  Findcars provides information on cars for sale in our geographic region.  \n",
        "<table>\n",
        "  <tr>\n",
        "    <td width='50%'>\n",
        "      <ul>\n",
        "        <li>Car Type: Ford Focus</li>\n",
        "        <li>Response Variable: Price ($)</li><br>\n",
        "        <li>Variables under investigation (i.e. independent variables)</li>\n",
        "        <ul>\n",
        "          <li>Miles; (data includes only cars with Miles > 5,000)</li>\n",
        "          <li>Age; Years old</li>\n",
        "         </ul>\n",
        "    </ul>\n",
        "    </td>\n",
        "    <td width='50%'>\n",
        "    <p align='center'><img src=\"https://drive.google.com/uc?export=view&id=1U4anANNmtMFMg9iLM_P5Lp_f39qGCZiZ\" width=\"50%\" height=\"50%\"></img></p>\n",
        "      \n",
        "  </td>\n",
        "</tr>\n",
        "</table>\n",
        "\n",
        "Data Folder: [OneDrive](https://mnscu-my.sharepoint.com/:f:/g/personal/aq7839yd_minnstate_edu/EmOQfrwxzzRBqq8PH_8qTmMBy-1qKgM11Hb8vzjs025EEA?e=wyShYs)\n",
        "\n",
        "\n",
        "\n",
        "<table width='100%' ><tr><td bgcolor='green'></td></tr></table>\n",
        "\n",
        "\n"
      ]
    },
    {
      "cell_type": "markdown",
      "metadata": {
        "id": "njXGRUIC9Lgs"
      },
      "source": [
        "## Load Data into R via URL"
      ]
    },
    {
      "cell_type": "markdown",
      "metadata": {
        "id": "FoT1NFX3DncH"
      },
      "source": [
        "The tidyverse R package will be used to assist with reading in the dataset into the current R session."
      ]
    },
    {
      "cell_type": "code",
      "metadata": {
        "id": "LgaibuX_DtWK",
        "colab": {
          "base_uri": "https://localhost:8080/"
        },
        "outputId": "4efc40d9-d69f-4d88-d695-214ce6a0d1f1"
      },
      "source": [
        "#@title Load Tidyverse\n",
        "#load tidyverse package\n",
        "library(tidyverse)"
      ],
      "execution_count": 1,
      "outputs": [
        {
          "output_type": "stream",
          "name": "stderr",
          "text": [
            "Warning message in system(\"timedatectl\", intern = TRUE):\n",
            "“running command 'timedatectl' had status 1”\n",
            "── \u001b[1mAttaching packages\u001b[22m ─────────────────────────────────────── tidyverse 1.3.1 ──\n",
            "\n",
            "\u001b[32m✔\u001b[39m \u001b[34mggplot2\u001b[39m 3.3.5     \u001b[32m✔\u001b[39m \u001b[34mpurrr  \u001b[39m 0.3.4\n",
            "\u001b[32m✔\u001b[39m \u001b[34mtibble \u001b[39m 3.1.4     \u001b[32m✔\u001b[39m \u001b[34mdplyr  \u001b[39m 1.0.7\n",
            "\u001b[32m✔\u001b[39m \u001b[34mtidyr  \u001b[39m 1.1.3     \u001b[32m✔\u001b[39m \u001b[34mstringr\u001b[39m 1.4.0\n",
            "\u001b[32m✔\u001b[39m \u001b[34mreadr  \u001b[39m 2.0.1     \u001b[32m✔\u001b[39m \u001b[34mforcats\u001b[39m 0.5.1\n",
            "\n",
            "── \u001b[1mConflicts\u001b[22m ────────────────────────────────────────── tidyverse_conflicts() ──\n",
            "\u001b[31m✖\u001b[39m \u001b[34mdplyr\u001b[39m::\u001b[32mfilter()\u001b[39m masks \u001b[34mstats\u001b[39m::filter()\n",
            "\u001b[31m✖\u001b[39m \u001b[34mdplyr\u001b[39m::\u001b[32mlag()\u001b[39m    masks \u001b[34mstats\u001b[39m::lag()\n",
            "\n"
          ]
        }
      ]
    },
    {
      "cell_type": "markdown",
      "metadata": {
        "id": "DPqIPen9D5T3"
      },
      "source": [
        "## Read in the data"
      ]
    },
    {
      "cell_type": "code",
      "metadata": {
        "colab": {
          "base_uri": "https://localhost:8080/"
        },
        "id": "e07lUbQ1F1cV",
        "outputId": "a5a326f2-4f04-435d-f2c4-130f1977d181"
      },
      "source": [
        "#@title Read in Data\n",
        "\n",
        "# Reading data in using read_csv \n",
        "FordFocus <- read_csv(\"http://www.StatsClass.org/stat360/Datasets/UsedCars_FordFocus.csv\")"
      ],
      "execution_count": 2,
      "outputs": [
        {
          "output_type": "stream",
          "name": "stderr",
          "text": [
            "\u001b[1m\u001b[1mRows: \u001b[1m\u001b[22m\u001b[34m\u001b[34m67\u001b[34m\u001b[39m \u001b[1m\u001b[1mColumns: \u001b[1m\u001b[22m\u001b[34m\u001b[34m4\u001b[34m\u001b[39m\n",
            "\n",
            "\u001b[36m──\u001b[39m \u001b[1m\u001b[1mColumn specification\u001b[1m\u001b[22m \u001b[36m────────────────────────────────────────────────────────\u001b[39m\n",
            "\u001b[1mDelimiter:\u001b[22m \",\"\n",
            "\u001b[31mchr\u001b[39m (1): Make:Model\n",
            "\u001b[32mdbl\u001b[39m (3): Price, Miles, Age\n",
            "\n",
            "\n",
            "\u001b[36mℹ\u001b[39m Use \u001b[30m\u001b[47m\u001b[30m\u001b[47m`spec()`\u001b[47m\u001b[30m\u001b[49m\u001b[39m to retrieve the full column specification for this data.\n",
            "\u001b[36mℹ\u001b[39m Specify the column types or set \u001b[30m\u001b[47m\u001b[30m\u001b[47m`show_col_types = FALSE`\u001b[47m\u001b[30m\u001b[49m\u001b[39m to quiet this message.\n",
            "\n"
          ]
        }
      ]
    },
    {
      "cell_type": "markdown",
      "metadata": {
        "id": "irbG4lJbENzv"
      },
      "source": [
        "View the first few rows of the data.frame."
      ]
    },
    {
      "cell_type": "code",
      "metadata": {
        "colab": {
          "base_uri": "https://localhost:8080/",
          "height": 303
        },
        "id": "HYKWH2i0EN6s",
        "outputId": "f68857c6-a7c8-4eda-f244-7dbceb36a859"
      },
      "source": [
        "#@title View the first few rows of data\n",
        "head(FordFocus)\n",
        "dim(FordFocus)"
      ],
      "execution_count": 3,
      "outputs": [
        {
          "output_type": "display_data",
          "data": {
            "text/plain": [
              "  Make:Model Price Miles Age\n",
              "1 Ford Focus 15998  7909 -2 \n",
              "2 Ford Focus  9999 11946 -5 \n",
              "3 Ford Focus 12998 12499 -3 \n",
              "4 Ford Focus 12998 12499 -3 \n",
              "5 Ford Focus 12445 13912 -1 \n",
              "6 Ford Focus  9999 14000 -5 "
            ],
            "text/latex": "A tibble: 6 × 4\n\\begin{tabular}{llll}\n Make:Model & Price & Miles & Age\\\\\n <chr> & <dbl> & <dbl> & <dbl>\\\\\n\\hline\n\t Ford Focus & 15998 &  7909 & -2\\\\\n\t Ford Focus &  9999 & 11946 & -5\\\\\n\t Ford Focus & 12998 & 12499 & -3\\\\\n\t Ford Focus & 12998 & 12499 & -3\\\\\n\t Ford Focus & 12445 & 13912 & -1\\\\\n\t Ford Focus &  9999 & 14000 & -5\\\\\n\\end{tabular}\n",
            "text/markdown": "\nA tibble: 6 × 4\n\n| Make:Model &lt;chr&gt; | Price &lt;dbl&gt; | Miles &lt;dbl&gt; | Age &lt;dbl&gt; |\n|---|---|---|---|\n| Ford Focus | 15998 |  7909 | -2 |\n| Ford Focus |  9999 | 11946 | -5 |\n| Ford Focus | 12998 | 12499 | -3 |\n| Ford Focus | 12998 | 12499 | -3 |\n| Ford Focus | 12445 | 13912 | -1 |\n| Ford Focus |  9999 | 14000 | -5 |\n\n",
            "text/html": [
              "<table class=\"dataframe\">\n",
              "<caption>A tibble: 6 × 4</caption>\n",
              "<thead>\n",
              "\t<tr><th scope=col>Make:Model</th><th scope=col>Price</th><th scope=col>Miles</th><th scope=col>Age</th></tr>\n",
              "\t<tr><th scope=col>&lt;chr&gt;</th><th scope=col>&lt;dbl&gt;</th><th scope=col>&lt;dbl&gt;</th><th scope=col>&lt;dbl&gt;</th></tr>\n",
              "</thead>\n",
              "<tbody>\n",
              "\t<tr><td>Ford Focus</td><td>15998</td><td> 7909</td><td>-2</td></tr>\n",
              "\t<tr><td>Ford Focus</td><td> 9999</td><td>11946</td><td>-5</td></tr>\n",
              "\t<tr><td>Ford Focus</td><td>12998</td><td>12499</td><td>-3</td></tr>\n",
              "\t<tr><td>Ford Focus</td><td>12998</td><td>12499</td><td>-3</td></tr>\n",
              "\t<tr><td>Ford Focus</td><td>12445</td><td>13912</td><td>-1</td></tr>\n",
              "\t<tr><td>Ford Focus</td><td> 9999</td><td>14000</td><td>-5</td></tr>\n",
              "</tbody>\n",
              "</table>\n"
            ]
          },
          "metadata": {}
        },
        {
          "output_type": "display_data",
          "data": {
            "text/plain": [
              "[1] 67  4"
            ],
            "text/latex": "\\begin{enumerate*}\n\\item 67\n\\item 4\n\\end{enumerate*}\n",
            "text/markdown": "1. 67\n2. 4\n\n\n",
            "text/html": [
              "<style>\n",
              ".list-inline {list-style: none; margin:0; padding: 0}\n",
              ".list-inline>li {display: inline-block}\n",
              ".list-inline>li:not(:last-child)::after {content: \"\\00b7\"; padding: 0 .5ex}\n",
              "</style>\n",
              "<ol class=list-inline><li>67</li><li>4</li></ol>\n"
            ]
          },
          "metadata": {}
        }
      ]
    },
    {
      "cell_type": "markdown",
      "metadata": {
        "id": "0-p-m75MrK0Z"
      },
      "source": [
        "The following snip-it of code can be used to remove all na values from a data.frame."
      ]
    },
    {
      "cell_type": "code",
      "metadata": {
        "colab": {
          "base_uri": "https://localhost:8080/",
          "height": 303
        },
        "id": "eoduLEK8rK7b",
        "outputId": "996afecc-e50d-4ac5-ca8e-2c418f655208"
      },
      "source": [
        "#@title Removing the NA from the data.frame\n",
        "FordFocus <- (\n",
        "              FordFocus\n",
        "                %>% drop_na()\n",
        "             )\n",
        "\n",
        "head(FordFocus)\n",
        "dim(FordFocus)"
      ],
      "execution_count": 4,
      "outputs": [
        {
          "output_type": "display_data",
          "data": {
            "text/plain": [
              "  Make:Model Price Miles Age\n",
              "1 Ford Focus 15998  7909 -2 \n",
              "2 Ford Focus  9999 11946 -5 \n",
              "3 Ford Focus 12998 12499 -3 \n",
              "4 Ford Focus 12998 12499 -3 \n",
              "5 Ford Focus 12445 13912 -1 \n",
              "6 Ford Focus  9999 14000 -5 "
            ],
            "text/latex": "A tibble: 6 × 4\n\\begin{tabular}{llll}\n Make:Model & Price & Miles & Age\\\\\n <chr> & <dbl> & <dbl> & <dbl>\\\\\n\\hline\n\t Ford Focus & 15998 &  7909 & -2\\\\\n\t Ford Focus &  9999 & 11946 & -5\\\\\n\t Ford Focus & 12998 & 12499 & -3\\\\\n\t Ford Focus & 12998 & 12499 & -3\\\\\n\t Ford Focus & 12445 & 13912 & -1\\\\\n\t Ford Focus &  9999 & 14000 & -5\\\\\n\\end{tabular}\n",
            "text/markdown": "\nA tibble: 6 × 4\n\n| Make:Model &lt;chr&gt; | Price &lt;dbl&gt; | Miles &lt;dbl&gt; | Age &lt;dbl&gt; |\n|---|---|---|---|\n| Ford Focus | 15998 |  7909 | -2 |\n| Ford Focus |  9999 | 11946 | -5 |\n| Ford Focus | 12998 | 12499 | -3 |\n| Ford Focus | 12998 | 12499 | -3 |\n| Ford Focus | 12445 | 13912 | -1 |\n| Ford Focus |  9999 | 14000 | -5 |\n\n",
            "text/html": [
              "<table class=\"dataframe\">\n",
              "<caption>A tibble: 6 × 4</caption>\n",
              "<thead>\n",
              "\t<tr><th scope=col>Make:Model</th><th scope=col>Price</th><th scope=col>Miles</th><th scope=col>Age</th></tr>\n",
              "\t<tr><th scope=col>&lt;chr&gt;</th><th scope=col>&lt;dbl&gt;</th><th scope=col>&lt;dbl&gt;</th><th scope=col>&lt;dbl&gt;</th></tr>\n",
              "</thead>\n",
              "<tbody>\n",
              "\t<tr><td>Ford Focus</td><td>15998</td><td> 7909</td><td>-2</td></tr>\n",
              "\t<tr><td>Ford Focus</td><td> 9999</td><td>11946</td><td>-5</td></tr>\n",
              "\t<tr><td>Ford Focus</td><td>12998</td><td>12499</td><td>-3</td></tr>\n",
              "\t<tr><td>Ford Focus</td><td>12998</td><td>12499</td><td>-3</td></tr>\n",
              "\t<tr><td>Ford Focus</td><td>12445</td><td>13912</td><td>-1</td></tr>\n",
              "\t<tr><td>Ford Focus</td><td> 9999</td><td>14000</td><td>-5</td></tr>\n",
              "</tbody>\n",
              "</table>\n"
            ]
          },
          "metadata": {}
        },
        {
          "output_type": "display_data",
          "data": {
            "text/plain": [
              "[1] 65  4"
            ],
            "text/latex": "\\begin{enumerate*}\n\\item 65\n\\item 4\n\\end{enumerate*}\n",
            "text/markdown": "1. 65\n2. 4\n\n\n",
            "text/html": [
              "<style>\n",
              ".list-inline {list-style: none; margin:0; padding: 0}\n",
              ".list-inline>li {display: inline-block}\n",
              ".list-inline>li:not(:last-child)::after {content: \"\\00b7\"; padding: 0 .5ex}\n",
              "</style>\n",
              "<ol class=list-inline><li>65</li><li>4</li></ol>\n"
            ]
          },
          "metadata": {}
        }
      ]
    },
    {
      "cell_type": "markdown",
      "metadata": {
        "id": "1yzIMikj6S_M"
      },
      "source": [
        "## Setup for Model #1, i.e. Price ~ Miles"
      ]
    },
    {
      "cell_type": "markdown",
      "metadata": {
        "id": "H4diIPrN6YMm"
      },
      "source": [
        "Consider the following setup for the simple linear regression model.\n",
        "\n",
        "<ul>\n",
        "  <li><strong>Response Variable</strong>: Price</li>\n",
        "  <li><strong>Independent / Predictor Variable</strong>: Miles</li>\n",
        "  <li><i>Assume</i> the following structure for the mean and variance functions</li>\n",
        "  </ul>"
      ]
    },
    {
      "cell_type": "markdown",
      "metadata": {
        "id": "X4gdlF3C60d2"
      },
      "source": [
        "<ul><ul>\n",
        "  <li>$E(Price | Miles) = \\beta_{0} + \\beta_{1} * Miles$</li>\n",
        "  <li>$Var(Price | Miles) = \\sigma^{2}$</li>\n",
        "</ul></ul>"
      ]
    },
    {
      "cell_type": "markdown",
      "metadata": {
        "id": "7GmolDPqqBXz"
      },
      "source": [
        "## Setup for Model #2, i.e. Price ~ Age"
      ]
    },
    {
      "cell_type": "markdown",
      "metadata": {
        "id": "fghoEv7gqFa3"
      },
      "source": [
        "Consider the following setup for the simple linear regression model.\n",
        "\n",
        "<ul>\n",
        "  <li><strong>Response Variable</strong>: Price</li>\n",
        "  <li><strong>Independent / Predictor Variable</strong>: Age</li>\n",
        "  <li><i>Assume</i> the following structure for the mean and variance functions</li>\n",
        "  </ul>"
      ]
    },
    {
      "cell_type": "markdown",
      "metadata": {
        "id": "nk7ceb7iqImz"
      },
      "source": [
        "<ul><ul>\n",
        "  <li>$E(Price | Age) = \\gamma_{0} + \\gamma_{1} * Age$</li>\n",
        "  <li>$Var(Price | Age) = \\delta^{2}$</li>\n",
        "</ul></ul>"
      ]
    },
    {
      "cell_type": "markdown",
      "metadata": {
        "id": "oV94hIr3Edo4"
      },
      "source": [
        "## Model #1 Output"
      ]
    },
    {
      "cell_type": "code",
      "metadata": {
        "colab": {
          "base_uri": "https://localhost:8080/",
          "height": 437
        },
        "id": "yHLAoooA4C1_",
        "outputId": "30f30131-2590-4e5c-8ba8-319946a92293"
      },
      "source": [
        "#@title Scatterplot with simple linear regression line\n",
        "ggplot(data=FordFocus, aes(x=Miles,y=Price)) + \n",
        "  geom_point() +   \n",
        "  geom_smooth(method='lm', formula = y ~ x, se=FALSE) +\n",
        "  theme_classic()"
      ],
      "execution_count": 5,
      "outputs": [
        {
          "output_type": "display_data",
          "data": {
            "image/png": "[encoded data removed]",
            "text/plain": [
              "plot without title"
            ]
          },
          "metadata": {
            "image/png": {
              "width": 420,
              "height": 420
            }
          }
        }
      ]
    },
    {
      "cell_type": "code",
      "metadata": {
        "id": "7sJchah397NR"
      },
      "source": [
        "#@title Fitting Model #1\n",
        "FordFocus_Model1 <- lm(Price ~ Miles, data=FordFocus)"
      ],
      "execution_count": 6,
      "outputs": []
    },
    {
      "cell_type": "code",
      "metadata": {
        "colab": {
          "base_uri": "https://localhost:8080/",
          "height": 329
        },
        "id": "yngvjUY0-lyB",
        "outputId": "abb8c5e8-6503-45fd-a442-a6cf51b399e2"
      },
      "source": [
        "#@title Getting a summary of the model\n",
        "summary(FordFocus_Model1)"
      ],
      "execution_count": 7,
      "outputs": [
        {
          "output_type": "display_data",
          "data": {
            "text/plain": [
              "\n",
              "Call:\n",
              "lm(formula = Price ~ Miles, data = FordFocus)\n",
              "\n",
              "Residuals:\n",
              "    Min      1Q  Median      3Q     Max \n",
              "-4306.7 -1131.3  -473.9   666.8  6669.6 \n",
              "\n",
              "Coefficients:\n",
              "              Estimate Std. Error t value Pr(>|t|)    \n",
              "(Intercept)  1.528e+04  5.398e+02   28.31   <2e-16 ***\n",
              "Miles       -8.162e-02  6.788e-03  -12.02   <2e-16 ***\n",
              "---\n",
              "Signif. codes:  0 ‘***’ 0.001 ‘**’ 0.01 ‘*’ 0.05 ‘.’ 0.1 ‘ ’ 1\n",
              "\n",
              "Residual standard error: 2440 on 63 degrees of freedom\n",
              "Multiple R-squared:  0.6965,\tAdjusted R-squared:  0.6917 \n",
              "F-statistic: 144.6 on 1 and 63 DF,  p-value: < 2.2e-16\n"
            ]
          },
          "metadata": {}
        }
      ]
    },
    {
      "cell_type": "markdown",
      "metadata": {
        "id": "5-ftqUNCq1VZ"
      },
      "source": [
        "## Model #2 Output"
      ]
    },
    {
      "cell_type": "code",
      "metadata": {
        "colab": {
          "base_uri": "https://localhost:8080/",
          "height": 437
        },
        "id": "T37ZJUCXq-3A",
        "outputId": "ee71ed76-b86c-449a-f44d-d270df15ff8a"
      },
      "source": [
        "#@title Scatterplot with simple linear regression line\n",
        "ggplot(data=FordFocus, aes(x=Age,y=Price)) + \n",
        "  geom_point() +   \n",
        "  geom_smooth(method='lm', formula = y ~ x, se=FALSE) +\n",
        "  theme_classic()"
      ],
      "execution_count": 8,
      "outputs": [
        {
          "output_type": "display_data",
          "data": {
            "image/png": "[encoded data removed]",
            "text/plain": [
              "plot without title"
            ]
          },
          "metadata": {
            "image/png": {
              "width": 420,
              "height": 420
            }
          }
        }
      ]
    },
    {
      "cell_type": "code",
      "metadata": {
        "id": "me5vQRdBr64s"
      },
      "source": [
        "#@title Fitting Model #2\n",
        "FordFocus_Model2 <- lm(Price ~ Age, data=FordFocus)"
      ],
      "execution_count": 9,
      "outputs": []
    },
    {
      "cell_type": "code",
      "metadata": {
        "colab": {
          "base_uri": "https://localhost:8080/",
          "height": 329
        },
        "id": "ickj6kpHr9nA",
        "outputId": "bbbf2cc0-d243-4376-8fc8-b0cc25616ec6"
      },
      "source": [
        "#@title Getting a summary of the model\n",
        "summary(FordFocus_Model2)"
      ],
      "execution_count": 10,
      "outputs": [
        {
          "output_type": "display_data",
          "data": {
            "text/plain": [
              "\n",
              "Call:\n",
              "lm(formula = Price ~ Age, data = FordFocus)\n",
              "\n",
              "Residuals:\n",
              "    Min      1Q  Median      3Q     Max \n",
              "-3562.4 -1835.6  -699.2  1169.4  7741.1 \n",
              "\n",
              "Coefficients:\n",
              "            Estimate Std. Error t value Pr(>|t|)    \n",
              "(Intercept)  14421.6      591.1  24.396  < 2e-16 ***\n",
              "Age            931.8       98.0   9.508 8.62e-14 ***\n",
              "---\n",
              "Signif. codes:  0 ‘***’ 0.001 ‘**’ 0.01 ‘*’ 0.05 ‘.’ 0.1 ‘ ’ 1\n",
              "\n",
              "Residual standard error: 2838 on 63 degrees of freedom\n",
              "Multiple R-squared:  0.5893,\tAdjusted R-squared:  0.5828 \n",
              "F-statistic: 90.41 on 1 and 63 DF,  p-value: 8.623e-14\n"
            ]
          },
          "metadata": {}
        }
      ]
    },
    {
      "cell_type": "markdown",
      "metadata": {
        "id": "qAez9giwHFlP"
      },
      "source": [
        "### Removing Age = -19 from consideration"
      ]
    },
    {
      "cell_type": "code",
      "metadata": {
        "colab": {
          "base_uri": "https://localhost:8080/",
          "height": 129
        },
        "id": "dLVTtnAsHFtt",
        "outputId": "c18d01ad-80ec-45b0-f240-11b0b7b3006d"
      },
      "source": [
        "FordFocus[c(65), ]"
      ],
      "execution_count": 23,
      "outputs": [
        {
          "output_type": "display_data",
          "data": {
            "text/plain": [
              "  Make:Model Price Miles  Age\n",
              "1 Ford Focus 2995  187334 -19"
            ],
            "text/latex": "A tibble: 1 × 4\n\\begin{tabular}{llll}\n Make:Model & Price & Miles & Age\\\\\n <chr> & <dbl> & <dbl> & <dbl>\\\\\n\\hline\n\t Ford Focus & 2995 & 187334 & -19\\\\\n\\end{tabular}\n",
            "text/markdown": "\nA tibble: 1 × 4\n\n| Make:Model &lt;chr&gt; | Price &lt;dbl&gt; | Miles &lt;dbl&gt; | Age &lt;dbl&gt; |\n|---|---|---|---|\n| Ford Focus | 2995 | 187334 | -19 |\n\n",
            "text/html": [
              "<table class=\"dataframe\">\n",
              "<caption>A tibble: 1 × 4</caption>\n",
              "<thead>\n",
              "\t<tr><th scope=col>Make:Model</th><th scope=col>Price</th><th scope=col>Miles</th><th scope=col>Age</th></tr>\n",
              "\t<tr><th scope=col>&lt;chr&gt;</th><th scope=col>&lt;dbl&gt;</th><th scope=col>&lt;dbl&gt;</th><th scope=col>&lt;dbl&gt;</th></tr>\n",
              "</thead>\n",
              "<tbody>\n",
              "\t<tr><td>Ford Focus</td><td>2995</td><td>187334</td><td>-19</td></tr>\n",
              "</tbody>\n",
              "</table>\n"
            ]
          },
          "metadata": {}
        }
      ]
    },
    {
      "cell_type": "markdown",
      "metadata": {
        "id": "uXlcvZHjGxkn"
      },
      "source": [
        "To remove this row from consideration, simply use the following syntax."
      ]
    },
    {
      "cell_type": "code",
      "metadata": {
        "id": "YtqPVlLoGxsH"
      },
      "source": [
        "#@title Fitting Model #2b\n",
        "FordFocus_Model2_without_row65 <- lm(Price ~ Age, data=FordFocus[-c(65), ])"
      ],
      "execution_count": 21,
      "outputs": []
    },
    {
      "cell_type": "code",
      "metadata": {
        "colab": {
          "base_uri": "https://localhost:8080/",
          "height": 329
        },
        "id": "9ZhoSD5YG-gj",
        "outputId": "eef8f476-26b2-43f8-e418-c8399f34660f"
      },
      "source": [
        "summary(FordFocus_Model2_without_row65)"
      ],
      "execution_count": 22,
      "outputs": [
        {
          "output_type": "display_data",
          "data": {
            "text/plain": [
              "\n",
              "Call:\n",
              "lm(formula = Price ~ Age, data = FordFocus[-c(65), ])\n",
              "\n",
              "Residuals:\n",
              "    Min      1Q  Median      3Q     Max \n",
              "-3411.0 -1726.3  -759.9  1239.1  7466.1 \n",
              "\n",
              "Coefficients:\n",
              "            Estimate Std. Error t value Pr(>|t|)    \n",
              "(Intercept)  14980.8      601.2  24.918  < 2e-16 ***\n",
              "Age           1074.0      107.4   9.996 1.52e-14 ***\n",
              "---\n",
              "Signif. codes:  0 ‘***’ 0.001 ‘**’ 0.01 ‘*’ 0.05 ‘.’ 0.1 ‘ ’ 1\n",
              "\n",
              "Residual standard error: 2707 on 62 degrees of freedom\n",
              "Multiple R-squared:  0.6171,\tAdjusted R-squared:  0.6109 \n",
              "F-statistic: 99.92 on 1 and 62 DF,  p-value: 1.516e-14\n"
            ]
          },
          "metadata": {}
        }
      ]
    },
    {
      "cell_type": "code",
      "metadata": {
        "colab": {
          "base_uri": "https://localhost:8080/",
          "height": 35
        },
        "id": "wPjLCTxJeXDs",
        "outputId": "d9e6da9b-36df-48cf-c747-332502ce1e70"
      },
      "source": [
        "sigma(FordFocus_Model2_without_row65)"
      ],
      "execution_count": 75,
      "outputs": [
        {
          "output_type": "display_data",
          "data": {
            "text/plain": [
              "[1] 2707.428"
            ],
            "text/latex": "2707.42756266275",
            "text/markdown": "2707.42756266275",
            "text/html": [
              "2707.42756266275"
            ]
          },
          "metadata": {}
        }
      ]
    },
    {
      "cell_type": "markdown",
      "metadata": {
        "id": "dL32LyKOsJLI"
      },
      "source": [
        "## The Concept of Leverage"
      ]
    },
    {
      "cell_type": "markdown",
      "metadata": {
        "id": "uweGkH_GkFT0"
      },
      "source": [
        "The Hat matrix is defined as follows\n",
        "\n",
        "$$\n",
        "\\bf{H} = \\bf{X}(\\bf{X}^{'}\\bf{X})^{-1} \\bf{X}^{'}\n",
        "$$"
      ]
    },
    {
      "cell_type": "markdown",
      "metadata": {
        "id": "C8oc8lZkyn7k"
      },
      "source": [
        "The following steps can be followed to obtain the $h_{i}$ values for each observation."
      ]
    },
    {
      "cell_type": "code",
      "metadata": {
        "id": "0EuXLYU_w4GB"
      },
      "source": [
        "#@title Setting up the X matrix\n",
        "x0 <- rep(1,65)\n",
        "x1 <- FordFocus$Age\n",
        "\n",
        "#Create the matrix\n",
        "X <- cbind(x0,x1)"
      ],
      "execution_count": 122,
      "outputs": []
    },
    {
      "cell_type": "code",
      "metadata": {
        "colab": {
          "base_uri": "https://localhost:8080/",
          "height": 156
        },
        "id": "CsXoWHSlw_Vk",
        "outputId": "632b3161-199b-4b7e-f1e9-ba056da2226a"
      },
      "source": [
        "#@title Getting Hat matrix\n",
        "#First, create XpX\n",
        "XpX <- t(X) %*% X\n",
        "\n",
        "#Next, getting its inverse\n",
        "XpXInv <- solve(XpX,diag(2))\n",
        "\n",
        "#Next, computing the H matrix\n",
        "H <- X %*% XpXInv %*% t(X)\n",
        "\n",
        "#Getting the diagonal elements of the Hat matrix\n",
        "diag(H)\n"
      ],
      "execution_count": 123,
      "outputs": [
        {
          "output_type": "display_data",
          "data": {
            "text/plain": [
              " [1] 0.02504587 0.01541284 0.01944954 0.01944954 0.03302752 0.01541284\n",
              " [7] 0.02504587 0.03302752 0.03302752 0.03302752 0.02504587 0.02504587\n",
              "[13] 0.02504587 0.02504587 0.01944954 0.03302752 0.01944954 0.01697248\n",
              "[19] 0.01697248 0.03302752 0.02504587 0.01623853 0.02504587 0.03302752\n",
              "[25] 0.03302752 0.01944954 0.01944954 0.01623853 0.03302752 0.01541284\n",
              "[31] 0.01623853 0.01623853 0.02504587 0.01944954 0.01697248 0.01541284\n",
              "[37] 0.01623853 0.01623853 0.01623853 0.01944954 0.01541284 0.01944954\n",
              "[43] 0.07642202 0.01541284 0.01541284 0.01623853 0.01697248 0.01697248\n",
              "[49] 0.07642202 0.01697248 0.01697248 0.01697248 0.01541284 0.01541284\n",
              "[55] 0.01541284 0.01697248 0.01697248 0.04706422 0.02724771 0.09467890\n",
              "[61] 0.09467890 0.03596330 0.04706422 0.09467890 0.25431193"
            ],
            "text/latex": "\\begin{enumerate*}\n\\item 0.025045871559633\n\\item 0.0154128440366972\n\\item 0.0194495412844037\n\\item 0.0194495412844037\n\\item 0.0330275229357798\n\\item 0.0154128440366972\n\\item 0.025045871559633\n\\item 0.0330275229357798\n\\item 0.0330275229357798\n\\item 0.0330275229357798\n\\item 0.025045871559633\n\\item 0.025045871559633\n\\item 0.025045871559633\n\\item 0.025045871559633\n\\item 0.0194495412844037\n\\item 0.0330275229357798\n\\item 0.0194495412844037\n\\item 0.0169724770642202\n\\item 0.0169724770642202\n\\item 0.0330275229357798\n\\item 0.025045871559633\n\\item 0.0162385321100917\n\\item 0.025045871559633\n\\item 0.0330275229357798\n\\item 0.0330275229357798\n\\item 0.0194495412844037\n\\item 0.0194495412844037\n\\item 0.0162385321100917\n\\item 0.0330275229357798\n\\item 0.0154128440366972\n\\item 0.0162385321100917\n\\item 0.0162385321100917\n\\item 0.025045871559633\n\\item 0.0194495412844037\n\\item 0.0169724770642202\n\\item 0.0154128440366972\n\\item 0.0162385321100917\n\\item 0.0162385321100917\n\\item 0.0162385321100917\n\\item 0.0194495412844037\n\\item 0.0154128440366972\n\\item 0.0194495412844037\n\\item 0.0764220183486238\n\\item 0.0154128440366972\n\\item 0.0154128440366972\n\\item 0.0162385321100917\n\\item 0.0169724770642202\n\\item 0.0169724770642202\n\\item 0.0764220183486238\n\\item 0.0169724770642202\n\\item 0.0169724770642202\n\\item 0.0169724770642202\n\\item 0.0154128440366972\n\\item 0.0154128440366972\n\\item 0.0154128440366972\n\\item 0.0169724770642202\n\\item 0.0169724770642202\n\\item 0.0470642201834862\n\\item 0.0272477064220183\n\\item 0.0946788990825688\n\\item 0.0946788990825688\n\\item 0.0359633027522936\n\\item 0.0470642201834862\n\\item 0.0946788990825688\n\\item 0.254311926605505\n\\end{enumerate*}\n",
            "text/markdown": "1. 0.025045871559633\n2. 0.0154128440366972\n3. 0.0194495412844037\n4. 0.0194495412844037\n5. 0.0330275229357798\n6. 0.0154128440366972\n7. 0.025045871559633\n8. 0.0330275229357798\n9. 0.0330275229357798\n10. 0.0330275229357798\n11. 0.025045871559633\n12. 0.025045871559633\n13. 0.025045871559633\n14. 0.025045871559633\n15. 0.0194495412844037\n16. 0.0330275229357798\n17. 0.0194495412844037\n18. 0.0169724770642202\n19. 0.0169724770642202\n20. 0.0330275229357798\n21. 0.025045871559633\n22. 0.0162385321100917\n23. 0.025045871559633\n24. 0.0330275229357798\n25. 0.0330275229357798\n26. 0.0194495412844037\n27. 0.0194495412844037\n28. 0.0162385321100917\n29. 0.0330275229357798\n30. 0.0154128440366972\n31. 0.0162385321100917\n32. 0.0162385321100917\n33. 0.025045871559633\n34. 0.0194495412844037\n35. 0.0169724770642202\n36. 0.0154128440366972\n37. 0.0162385321100917\n38. 0.0162385321100917\n39. 0.0162385321100917\n40. 0.0194495412844037\n41. 0.0154128440366972\n42. 0.0194495412844037\n43. 0.0764220183486238\n44. 0.0154128440366972\n45. 0.0154128440366972\n46. 0.0162385321100917\n47. 0.0169724770642202\n48. 0.0169724770642202\n49. 0.0764220183486238\n50. 0.0169724770642202\n51. 0.0169724770642202\n52. 0.0169724770642202\n53. 0.0154128440366972\n54. 0.0154128440366972\n55. 0.0154128440366972\n56. 0.0169724770642202\n57. 0.0169724770642202\n58. 0.0470642201834862\n59. 0.0272477064220183\n60. 0.0946788990825688\n61. 0.0946788990825688\n62. 0.0359633027522936\n63. 0.0470642201834862\n64. 0.0946788990825688\n65. 0.254311926605505\n\n\n",
            "text/html": [
              "<style>\n",
              ".list-inline {list-style: none; margin:0; padding: 0}\n",
              ".list-inline>li {display: inline-block}\n",
              ".list-inline>li:not(:last-child)::after {content: \"\\00b7\"; padding: 0 .5ex}\n",
              "</style>\n",
              "<ol class=list-inline><li>0.025045871559633</li><li>0.0154128440366972</li><li>0.0194495412844037</li><li>0.0194495412844037</li><li>0.0330275229357798</li><li>0.0154128440366972</li><li>0.025045871559633</li><li>0.0330275229357798</li><li>0.0330275229357798</li><li>0.0330275229357798</li><li>0.025045871559633</li><li>0.025045871559633</li><li>0.025045871559633</li><li>0.025045871559633</li><li>0.0194495412844037</li><li>0.0330275229357798</li><li>0.0194495412844037</li><li>0.0169724770642202</li><li>0.0169724770642202</li><li>0.0330275229357798</li><li>0.025045871559633</li><li>0.0162385321100917</li><li>0.025045871559633</li><li>0.0330275229357798</li><li>0.0330275229357798</li><li>0.0194495412844037</li><li>0.0194495412844037</li><li>0.0162385321100917</li><li>0.0330275229357798</li><li>0.0154128440366972</li><li>0.0162385321100917</li><li>0.0162385321100917</li><li>0.025045871559633</li><li>0.0194495412844037</li><li>0.0169724770642202</li><li>0.0154128440366972</li><li>0.0162385321100917</li><li>0.0162385321100917</li><li>0.0162385321100917</li><li>0.0194495412844037</li><li>0.0154128440366972</li><li>0.0194495412844037</li><li>0.0764220183486238</li><li>0.0154128440366972</li><li>0.0154128440366972</li><li>0.0162385321100917</li><li>0.0169724770642202</li><li>0.0169724770642202</li><li>0.0764220183486238</li><li>0.0169724770642202</li><li>0.0169724770642202</li><li>0.0169724770642202</li><li>0.0154128440366972</li><li>0.0154128440366972</li><li>0.0154128440366972</li><li>0.0169724770642202</li><li>0.0169724770642202</li><li>0.0470642201834862</li><li>0.0272477064220183</li><li>0.0946788990825688</li><li>0.0946788990825688</li><li>0.0359633027522936</li><li>0.0470642201834862</li><li>0.0946788990825688</li><li>0.254311926605505</li></ol>\n"
            ]
          },
          "metadata": {}
        }
      ]
    },
    {
      "cell_type": "markdown",
      "metadata": {
        "id": "kjGcz_rIyPEp"
      },
      "source": [
        "The hat values for each observations can be obtained using the hatvalues() function in R.  The hatvalues() function will return $h_{i}$ for each observations."
      ]
    },
    {
      "cell_type": "code",
      "metadata": {
        "colab": {
          "base_uri": "https://localhost:8080/",
          "height": 191
        },
        "id": "O8_AyqerkWs8",
        "outputId": "0a72a681-80c8-42fa-8b94-c40411f16b90"
      },
      "source": [
        "#@title Getting the hat values for Price ~ Age, i.e. Model2\n",
        "hatvalues(FordFocus_Model2)"
      ],
      "execution_count": 121,
      "outputs": [
        {
          "output_type": "display_data",
          "data": {
            "text/plain": [
              "         1          2          3          4          5          6          7 \n",
              "0.02504587 0.01541284 0.01944954 0.01944954 0.03302752 0.01541284 0.02504587 \n",
              "         8          9         10         11         12         13         14 \n",
              "0.03302752 0.03302752 0.03302752 0.02504587 0.02504587 0.02504587 0.02504587 \n",
              "        15         16         17         18         19         20         21 \n",
              "0.01944954 0.03302752 0.01944954 0.01697248 0.01697248 0.03302752 0.02504587 \n",
              "        22         23         24         25         26         27         28 \n",
              "0.01623853 0.02504587 0.03302752 0.03302752 0.01944954 0.01944954 0.01623853 \n",
              "        29         30         31         32         33         34         35 \n",
              "0.03302752 0.01541284 0.01623853 0.01623853 0.02504587 0.01944954 0.01697248 \n",
              "        36         37         38         39         40         41         42 \n",
              "0.01541284 0.01623853 0.01623853 0.01623853 0.01944954 0.01541284 0.01944954 \n",
              "        43         44         45         46         47         48         49 \n",
              "0.07642202 0.01541284 0.01541284 0.01623853 0.01697248 0.01697248 0.07642202 \n",
              "        50         51         52         53         54         55         56 \n",
              "0.01697248 0.01697248 0.01697248 0.01541284 0.01541284 0.01541284 0.01697248 \n",
              "        57         58         59         60         61         62         63 \n",
              "0.01697248 0.04706422 0.02724771 0.09467890 0.09467890 0.03596330 0.04706422 \n",
              "        64         65 \n",
              "0.09467890 0.25431193 "
            ],
            "text/latex": "\\begin{description*}\n\\item[1] 0.025045871559633\n\\item[2] 0.0154128440366972\n\\item[3] 0.0194495412844037\n\\item[4] 0.0194495412844037\n\\item[5] 0.0330275229357798\n\\item[6] 0.0154128440366972\n\\item[7] 0.025045871559633\n\\item[8] 0.0330275229357798\n\\item[9] 0.0330275229357798\n\\item[10] 0.0330275229357798\n\\item[11] 0.025045871559633\n\\item[12] 0.025045871559633\n\\item[13] 0.025045871559633\n\\item[14] 0.025045871559633\n\\item[15] 0.0194495412844037\n\\item[16] 0.0330275229357798\n\\item[17] 0.0194495412844037\n\\item[18] 0.0169724770642202\n\\item[19] 0.0169724770642202\n\\item[20] 0.0330275229357798\n\\item[21] 0.025045871559633\n\\item[22] 0.0162385321100917\n\\item[23] 0.025045871559633\n\\item[24] 0.0330275229357798\n\\item[25] 0.0330275229357798\n\\item[26] 0.0194495412844037\n\\item[27] 0.0194495412844037\n\\item[28] 0.0162385321100917\n\\item[29] 0.0330275229357798\n\\item[30] 0.0154128440366972\n\\item[31] 0.0162385321100917\n\\item[32] 0.0162385321100917\n\\item[33] 0.025045871559633\n\\item[34] 0.0194495412844037\n\\item[35] 0.0169724770642202\n\\item[36] 0.0154128440366972\n\\item[37] 0.0162385321100917\n\\item[38] 0.0162385321100917\n\\item[39] 0.0162385321100917\n\\item[40] 0.0194495412844037\n\\item[41] 0.0154128440366972\n\\item[42] 0.0194495412844037\n\\item[43] 0.0764220183486239\n\\item[44] 0.0154128440366972\n\\item[45] 0.0154128440366972\n\\item[46] 0.0162385321100917\n\\item[47] 0.0169724770642202\n\\item[48] 0.0169724770642202\n\\item[49] 0.0764220183486239\n\\item[50] 0.0169724770642202\n\\item[51] 0.0169724770642202\n\\item[52] 0.0169724770642202\n\\item[53] 0.0154128440366972\n\\item[54] 0.0154128440366972\n\\item[55] 0.0154128440366972\n\\item[56] 0.0169724770642202\n\\item[57] 0.0169724770642202\n\\item[58] 0.0470642201834862\n\\item[59] 0.0272477064220184\n\\item[60] 0.0946788990825688\n\\item[61] 0.0946788990825688\n\\item[62] 0.0359633027522936\n\\item[63] 0.0470642201834862\n\\item[64] 0.0946788990825688\n\\item[65] 0.254311926605505\n\\end{description*}\n",
            "text/markdown": "1\n:   0.0250458715596332\n:   0.01541284403669723\n:   0.01944954128440374\n:   0.01944954128440375\n:   0.03302752293577986\n:   0.01541284403669727\n:   0.0250458715596338\n:   0.03302752293577989\n:   0.033027522935779810\n:   0.033027522935779811\n:   0.02504587155963312\n:   0.02504587155963313\n:   0.02504587155963314\n:   0.02504587155963315\n:   0.019449541284403716\n:   0.033027522935779817\n:   0.019449541284403718\n:   0.016972477064220219\n:   0.016972477064220220\n:   0.033027522935779821\n:   0.02504587155963322\n:   0.016238532110091723\n:   0.02504587155963324\n:   0.033027522935779825\n:   0.033027522935779826\n:   0.019449541284403727\n:   0.019449541284403728\n:   0.016238532110091729\n:   0.033027522935779830\n:   0.015412844036697231\n:   0.016238532110091732\n:   0.016238532110091733\n:   0.02504587155963334\n:   0.019449541284403735\n:   0.016972477064220236\n:   0.015412844036697237\n:   0.016238532110091738\n:   0.016238532110091739\n:   0.016238532110091740\n:   0.019449541284403741\n:   0.015412844036697242\n:   0.019449541284403743\n:   0.076422018348623944\n:   0.015412844036697245\n:   0.015412844036697246\n:   0.016238532110091747\n:   0.016972477064220248\n:   0.016972477064220249\n:   0.076422018348623950\n:   0.016972477064220251\n:   0.016972477064220252\n:   0.016972477064220253\n:   0.015412844036697254\n:   0.015412844036697255\n:   0.015412844036697256\n:   0.016972477064220257\n:   0.016972477064220258\n:   0.047064220183486259\n:   0.027247706422018460\n:   0.094678899082568861\n:   0.094678899082568862\n:   0.035963302752293663\n:   0.047064220183486264\n:   0.094678899082568865\n:   0.254311926605505\n\n",
            "text/html": [
              "<style>\n",
              ".dl-inline {width: auto; margin:0; padding: 0}\n",
              ".dl-inline>dt, .dl-inline>dd {float: none; width: auto; display: inline-block}\n",
              ".dl-inline>dt::after {content: \":\\0020\"; padding-right: .5ex}\n",
              ".dl-inline>dt:not(:first-of-type) {padding-left: .5ex}\n",
              "</style><dl class=dl-inline><dt>1</dt><dd>0.025045871559633</dd><dt>2</dt><dd>0.0154128440366972</dd><dt>3</dt><dd>0.0194495412844037</dd><dt>4</dt><dd>0.0194495412844037</dd><dt>5</dt><dd>0.0330275229357798</dd><dt>6</dt><dd>0.0154128440366972</dd><dt>7</dt><dd>0.025045871559633</dd><dt>8</dt><dd>0.0330275229357798</dd><dt>9</dt><dd>0.0330275229357798</dd><dt>10</dt><dd>0.0330275229357798</dd><dt>11</dt><dd>0.025045871559633</dd><dt>12</dt><dd>0.025045871559633</dd><dt>13</dt><dd>0.025045871559633</dd><dt>14</dt><dd>0.025045871559633</dd><dt>15</dt><dd>0.0194495412844037</dd><dt>16</dt><dd>0.0330275229357798</dd><dt>17</dt><dd>0.0194495412844037</dd><dt>18</dt><dd>0.0169724770642202</dd><dt>19</dt><dd>0.0169724770642202</dd><dt>20</dt><dd>0.0330275229357798</dd><dt>21</dt><dd>0.025045871559633</dd><dt>22</dt><dd>0.0162385321100917</dd><dt>23</dt><dd>0.025045871559633</dd><dt>24</dt><dd>0.0330275229357798</dd><dt>25</dt><dd>0.0330275229357798</dd><dt>26</dt><dd>0.0194495412844037</dd><dt>27</dt><dd>0.0194495412844037</dd><dt>28</dt><dd>0.0162385321100917</dd><dt>29</dt><dd>0.0330275229357798</dd><dt>30</dt><dd>0.0154128440366972</dd><dt>31</dt><dd>0.0162385321100917</dd><dt>32</dt><dd>0.0162385321100917</dd><dt>33</dt><dd>0.025045871559633</dd><dt>34</dt><dd>0.0194495412844037</dd><dt>35</dt><dd>0.0169724770642202</dd><dt>36</dt><dd>0.0154128440366972</dd><dt>37</dt><dd>0.0162385321100917</dd><dt>38</dt><dd>0.0162385321100917</dd><dt>39</dt><dd>0.0162385321100917</dd><dt>40</dt><dd>0.0194495412844037</dd><dt>41</dt><dd>0.0154128440366972</dd><dt>42</dt><dd>0.0194495412844037</dd><dt>43</dt><dd>0.0764220183486239</dd><dt>44</dt><dd>0.0154128440366972</dd><dt>45</dt><dd>0.0154128440366972</dd><dt>46</dt><dd>0.0162385321100917</dd><dt>47</dt><dd>0.0169724770642202</dd><dt>48</dt><dd>0.0169724770642202</dd><dt>49</dt><dd>0.0764220183486239</dd><dt>50</dt><dd>0.0169724770642202</dd><dt>51</dt><dd>0.0169724770642202</dd><dt>52</dt><dd>0.0169724770642202</dd><dt>53</dt><dd>0.0154128440366972</dd><dt>54</dt><dd>0.0154128440366972</dd><dt>55</dt><dd>0.0154128440366972</dd><dt>56</dt><dd>0.0169724770642202</dd><dt>57</dt><dd>0.0169724770642202</dd><dt>58</dt><dd>0.0470642201834862</dd><dt>59</dt><dd>0.0272477064220184</dd><dt>60</dt><dd>0.0946788990825688</dd><dt>61</dt><dd>0.0946788990825688</dd><dt>62</dt><dd>0.0359633027522936</dd><dt>63</dt><dd>0.0470642201834862</dd><dt>64</dt><dd>0.0946788990825688</dd><dt>65</dt><dd>0.254311926605505</dd></dl>\n"
            ]
          },
          "metadata": {}
        }
      ]
    },
    {
      "cell_type": "code",
      "metadata": {
        "colab": {
          "base_uri": "https://localhost:8080/",
          "height": 437
        },
        "id": "cv04FiuIsJRq",
        "outputId": "c35d8f66-c224-4c06-cd00-e0e877fe3516"
      },
      "source": [
        "#@title Creating a plot of the hat values\n",
        "plot(jitter(FordFocus$Age), hatvalues(FordFocus_Model2) )  # add some jitter to Age\n",
        "#adding a reference line at 2 * (#parameters / n)\n",
        "abline(h=4/65)"
      ],
      "execution_count": 132,
      "outputs": [
        {
          "output_type": "display_data",
          "data": {
            "image/png": "[encoded data removed]",
            "text/plain": [
              "plot without title"
            ]
          },
          "metadata": {
            "image/png": {
              "width": 420,
              "height": 420
            }
          }
        }
      ]
    },
    {
      "cell_type": "markdown",
      "metadata": {
        "id": "1M9HeO4qKNUQ"
      },
      "source": [
        "Create a new vector that contains all the observations that have high leverage."
      ]
    },
    {
      "cell_type": "code",
      "metadata": {
        "id": "k3czhUclKNb3"
      },
      "source": [
        "highleverage <- which(hatvalues(FordFocus_Model2) > 4/65)"
      ],
      "execution_count": 45,
      "outputs": []
    },
    {
      "cell_type": "markdown",
      "metadata": {
        "id": "xeJ7b6lFMudH"
      },
      "source": [
        "Next, get the rows from the orginal data.frame that correspond to the observations with high leverage."
      ]
    },
    {
      "cell_type": "code",
      "metadata": {
        "colab": {
          "base_uri": "https://localhost:8080/",
          "height": 286
        },
        "id": "tr022sh0KeN_",
        "outputId": "5a0792f4-e0dd-45c4-a7dd-7c6d8bac6664"
      },
      "source": [
        "FordFocus[highleverage,]"
      ],
      "execution_count": 30,
      "outputs": [
        {
          "output_type": "display_data",
          "data": {
            "text/plain": [
              "  Make:Model Price Miles  Age\n",
              "1 Ford Focus 4900   75552 -12\n",
              "2 Ford Focus 4995   94476 -12\n",
              "3 Ford Focus 3495  143904 -13\n",
              "4 Ford Focus 2200  146235 -13\n",
              "5 Ford Focus 2945  159165 -13\n",
              "6 Ford Focus 2995  187334 -19"
            ],
            "text/latex": "A tibble: 6 × 4\n\\begin{tabular}{llll}\n Make:Model & Price & Miles & Age\\\\\n <chr> & <dbl> & <dbl> & <dbl>\\\\\n\\hline\n\t Ford Focus & 4900 &  75552 & -12\\\\\n\t Ford Focus & 4995 &  94476 & -12\\\\\n\t Ford Focus & 3495 & 143904 & -13\\\\\n\t Ford Focus & 2200 & 146235 & -13\\\\\n\t Ford Focus & 2945 & 159165 & -13\\\\\n\t Ford Focus & 2995 & 187334 & -19\\\\\n\\end{tabular}\n",
            "text/markdown": "\nA tibble: 6 × 4\n\n| Make:Model &lt;chr&gt; | Price &lt;dbl&gt; | Miles &lt;dbl&gt; | Age &lt;dbl&gt; |\n|---|---|---|---|\n| Ford Focus | 4900 |  75552 | -12 |\n| Ford Focus | 4995 |  94476 | -12 |\n| Ford Focus | 3495 | 143904 | -13 |\n| Ford Focus | 2200 | 146235 | -13 |\n| Ford Focus | 2945 | 159165 | -13 |\n| Ford Focus | 2995 | 187334 | -19 |\n\n",
            "text/html": [
              "<table class=\"dataframe\">\n",
              "<caption>A tibble: 6 × 4</caption>\n",
              "<thead>\n",
              "\t<tr><th scope=col>Make:Model</th><th scope=col>Price</th><th scope=col>Miles</th><th scope=col>Age</th></tr>\n",
              "\t<tr><th scope=col>&lt;chr&gt;</th><th scope=col>&lt;dbl&gt;</th><th scope=col>&lt;dbl&gt;</th><th scope=col>&lt;dbl&gt;</th></tr>\n",
              "</thead>\n",
              "<tbody>\n",
              "\t<tr><td>Ford Focus</td><td>4900</td><td> 75552</td><td>-12</td></tr>\n",
              "\t<tr><td>Ford Focus</td><td>4995</td><td> 94476</td><td>-12</td></tr>\n",
              "\t<tr><td>Ford Focus</td><td>3495</td><td>143904</td><td>-13</td></tr>\n",
              "\t<tr><td>Ford Focus</td><td>2200</td><td>146235</td><td>-13</td></tr>\n",
              "\t<tr><td>Ford Focus</td><td>2945</td><td>159165</td><td>-13</td></tr>\n",
              "\t<tr><td>Ford Focus</td><td>2995</td><td>187334</td><td>-19</td></tr>\n",
              "</tbody>\n",
              "</table>\n"
            ]
          },
          "metadata": {}
        }
      ]
    },
    {
      "cell_type": "markdown",
      "metadata": {
        "id": "ygumPjXOKt64"
      },
      "source": [
        "The orginal scatterplot with the high leverage points identified on the scatterplot."
      ]
    },
    {
      "cell_type": "code",
      "metadata": {
        "colab": {
          "base_uri": "https://localhost:8080/",
          "height": 437
        },
        "id": "C6BwLiVdKuEc",
        "outputId": "c5853838-12af-4b4b-acba-d11e2836e6dc"
      },
      "source": [
        "#@title Scatterplot showing the location of the observations with high leverage\n",
        "ggplot(data=FordFocus, aes(x=Age,y=Price)) + \n",
        "  geom_point() +   \n",
        "  geom_smooth(method='lm', formula = y ~ x, se=FALSE) +\n",
        "  geom_vline(xintercept=-11.9, color='gray') +\n",
        "  geom_segment(aes(x = -11.9, y = -2000, xend = -16, yend = -2000),\n",
        "                  arrow = arrow(length = unit(0.5, \"cm\")),color='gray') + \n",
        "  annotate(geom=\"text\", x=-12, y=-1000, hjust=1, label=\"High Leveraage\",\n",
        "              color='gray') + \n",
        "  theme_classic()"
      ],
      "execution_count": 44,
      "outputs": [
        {
          "output_type": "display_data",
          "data": {
            "image/png": "[encoded data removed]",
            "text/plain": [
              "plot without title"
            ]
          },
          "metadata": {
            "image/png": {
              "width": 420,
              "height": 420
            }
          }
        }
      ]
    },
    {
      "cell_type": "markdown",
      "metadata": {
        "id": "Bh6Qji4I7K3F"
      },
      "source": [
        "## DFBETA Algorithm"
      ]
    },
    {
      "cell_type": "markdown",
      "metadata": {
        "id": "Hxqd85t07PEU"
      },
      "source": [
        "Step 1: Create an empty data.frame to hold the outcomes from the algorithm"
      ]
    },
    {
      "cell_type": "code",
      "metadata": {
        "id": "GAyJtXmJOTng"
      },
      "source": [
        "DFBETA_Outcomes <-data.frame(rowid=numeric(), yintercept = numeric(), slope = numeric(), rmse = numeric())"
      ],
      "execution_count": 90,
      "outputs": []
    },
    {
      "cell_type": "markdown",
      "metadata": {
        "id": "eKY_DuGPXzKN"
      },
      "source": [
        "Step 2: Fit a model -- removing one observation at a time, put outcomes into  data.frame"
      ]
    },
    {
      "cell_type": "code",
      "metadata": {
        "id": "8ts7P1fj7PLv"
      },
      "source": [
        "for(i in 1:65){\n",
        "  model_i <- lm(Price ~ Age, data=FordFocus[-c(i), ])\n",
        "  DFBETA_Outcomes[i,1] <- i\n",
        "  DFBETA_Outcomes[i,2] <- model_i$coefficients[1]\n",
        "  DFBETA_Outcomes[i,3] <- model_i$coefficients[2]\n",
        "  DFBETA_Outcomes[i,4] <- sigma(model_i)\n",
        "}"
      ],
      "execution_count": 91,
      "outputs": []
    },
    {
      "cell_type": "markdown",
      "metadata": {
        "id": "wU8u3eJnPW-g"
      },
      "source": [
        "Step 3: Compute the change in y-intercept and slope for each observation removed"
      ]
    },
    {
      "cell_type": "code",
      "metadata": {
        "id": "dPlyRs30PXGL"
      },
      "source": [
        "DFBETA_Outcomes <- (DFBETA_Outcomes\n",
        "                      %>% mutate(\n",
        "                                  DFBeta_yint = (14421.6 - yintercept),\n",
        "                                  DFBeta_slope = (931.8 - slope)\n",
        "                                )\n",
        "                   )"
      ],
      "execution_count": 93,
      "outputs": []
    },
    {
      "cell_type": "markdown",
      "metadata": {
        "id": "wKmaDifmaR80"
      },
      "source": [
        "Step 4: Sort by the most change in the slope (or yintercept)"
      ]
    },
    {
      "cell_type": "code",
      "metadata": {
        "colab": {
          "base_uri": "https://localhost:8080/",
          "height": 286
        },
        "id": "l7En1m8laSF0",
        "outputId": "ba83873d-bc19-4e23-808c-699fd76947ee"
      },
      "source": [
        " (DFBETA_Outcomes\n",
        "   %>% arrange(desc(abs(DFBeta_slope)))\n",
        "   %>% head()\n",
        " )"
      ],
      "execution_count": 95,
      "outputs": [
        {
          "output_type": "display_data",
          "data": {
            "text/plain": [
              "  rowid yintercept slope     rmse     DFBeta_yint DFBeta_slope\n",
              "1 65    14980.85   1073.9707 2707.428 -559.2487   -142.17067  \n",
              "2  8    14183.96    902.8605 2749.587  237.6436     28.93947  \n",
              "3 12    14168.84    904.8896 2681.682  252.7647     26.91036  \n",
              "4 13    14168.84    904.8896 2681.682  252.7647     26.91036  \n",
              "5 11    14171.12    905.1334 2685.008  250.4790     26.66664  \n",
              "6  9    14219.04    907.1395 2780.375  202.5564     24.66053  "
            ],
            "text/latex": "A data.frame: 6 × 6\n\\begin{tabular}{r|llllll}\n  & rowid & yintercept & slope & rmse & DFBeta\\_yint & DFBeta\\_slope\\\\\n  & <dbl> & <dbl> & <dbl> & <dbl> & <dbl> & <dbl>\\\\\n\\hline\n\t1 & 65 & 14980.85 & 1073.9707 & 2707.428 & -559.2487 & -142.17067\\\\\n\t2 &  8 & 14183.96 &  902.8605 & 2749.587 &  237.6436 &   28.93947\\\\\n\t3 & 12 & 14168.84 &  904.8896 & 2681.682 &  252.7647 &   26.91036\\\\\n\t4 & 13 & 14168.84 &  904.8896 & 2681.682 &  252.7647 &   26.91036\\\\\n\t5 & 11 & 14171.12 &  905.1334 & 2685.008 &  250.4790 &   26.66664\\\\\n\t6 &  9 & 14219.04 &  907.1395 & 2780.375 &  202.5564 &   24.66053\\\\\n\\end{tabular}\n",
            "text/markdown": "\nA data.frame: 6 × 6\n\n| <!--/--> | rowid &lt;dbl&gt; | yintercept &lt;dbl&gt; | slope &lt;dbl&gt; | rmse &lt;dbl&gt; | DFBeta_yint &lt;dbl&gt; | DFBeta_slope &lt;dbl&gt; |\n|---|---|---|---|---|---|---|\n| 1 | 65 | 14980.85 | 1073.9707 | 2707.428 | -559.2487 | -142.17067 |\n| 2 |  8 | 14183.96 |  902.8605 | 2749.587 |  237.6436 |   28.93947 |\n| 3 | 12 | 14168.84 |  904.8896 | 2681.682 |  252.7647 |   26.91036 |\n| 4 | 13 | 14168.84 |  904.8896 | 2681.682 |  252.7647 |   26.91036 |\n| 5 | 11 | 14171.12 |  905.1334 | 2685.008 |  250.4790 |   26.66664 |\n| 6 |  9 | 14219.04 |  907.1395 | 2780.375 |  202.5564 |   24.66053 |\n\n",
            "text/html": [
              "<table class=\"dataframe\">\n",
              "<caption>A data.frame: 6 × 6</caption>\n",
              "<thead>\n",
              "\t<tr><th></th><th scope=col>rowid</th><th scope=col>yintercept</th><th scope=col>slope</th><th scope=col>rmse</th><th scope=col>DFBeta_yint</th><th scope=col>DFBeta_slope</th></tr>\n",
              "\t<tr><th></th><th scope=col>&lt;dbl&gt;</th><th scope=col>&lt;dbl&gt;</th><th scope=col>&lt;dbl&gt;</th><th scope=col>&lt;dbl&gt;</th><th scope=col>&lt;dbl&gt;</th><th scope=col>&lt;dbl&gt;</th></tr>\n",
              "</thead>\n",
              "<tbody>\n",
              "\t<tr><th scope=row>1</th><td>65</td><td>14980.85</td><td>1073.9707</td><td>2707.428</td><td>-559.2487</td><td>-142.17067</td></tr>\n",
              "\t<tr><th scope=row>2</th><td> 8</td><td>14183.96</td><td> 902.8605</td><td>2749.587</td><td> 237.6436</td><td>  28.93947</td></tr>\n",
              "\t<tr><th scope=row>3</th><td>12</td><td>14168.84</td><td> 904.8896</td><td>2681.682</td><td> 252.7647</td><td>  26.91036</td></tr>\n",
              "\t<tr><th scope=row>4</th><td>13</td><td>14168.84</td><td> 904.8896</td><td>2681.682</td><td> 252.7647</td><td>  26.91036</td></tr>\n",
              "\t<tr><th scope=row>5</th><td>11</td><td>14171.12</td><td> 905.1334</td><td>2685.008</td><td> 250.4790</td><td>  26.66664</td></tr>\n",
              "\t<tr><th scope=row>6</th><td> 9</td><td>14219.04</td><td> 907.1395</td><td>2780.375</td><td> 202.5564</td><td>  24.66053</td></tr>\n",
              "</tbody>\n",
              "</table>\n"
            ]
          },
          "metadata": {}
        }
      ]
    },
    {
      "cell_type": "markdown",
      "metadata": {
        "id": "yLUe85RCaRB4"
      },
      "source": [
        "Creating an index plot for the Change in Slope"
      ]
    },
    {
      "cell_type": "code",
      "metadata": {
        "colab": {
          "base_uri": "https://localhost:8080/",
          "height": 437
        },
        "id": "Yn4JpGMBaREO",
        "outputId": "92c387df-fd33-40ec-d568-064ecec4cc7c"
      },
      "source": [
        "ggplot(data=DFBETA_Outcomes, aes(x=rowid,y=Change_slope)) + \n",
        "  geom_point() + \n",
        "  ggtitle(\"Plot of Change in Slope (DFBETA Slope)\") + \n",
        "  geom_hline(yintercept=0) +\n",
        "  theme_classic()"
      ],
      "execution_count": 85,
      "outputs": [
        {
          "output_type": "display_data",
          "data": {
            "image/png": "[encoded data removed]",
            "text/plain": [
              "plot without title"
            ]
          },
          "metadata": {
            "image/png": {
              "width": 420,
              "height": 420
            }
          }
        }
      ]
    },
    {
      "cell_type": "markdown",
      "metadata": {
        "id": "xGtGV7nwoHsl"
      },
      "source": [
        "### Using the CAR package to more easily create DFBeta Plot"
      ]
    },
    {
      "cell_type": "code",
      "metadata": {
        "colab": {
          "base_uri": "https://localhost:8080/"
        },
        "id": "_w4js4VjoH0T",
        "outputId": "956060d6-16bb-4c95-fd00-5f25255d140e"
      },
      "source": [
        "#@title Load car package\n",
        "#load car package\n",
        "install.packages(\"car\")\n",
        "library(car)"
      ],
      "execution_count": 97,
      "outputs": [
        {
          "output_type": "stream",
          "name": "stderr",
          "text": [
            "Installing package into ‘/usr/local/lib/R/site-library’\n",
            "(as ‘lib’ is unspecified)\n",
            "\n",
            "also installing the dependencies ‘matrixStats’, ‘RcppArmadillo’, ‘numDeriv’, ‘SparseM’, ‘MatrixModels’, ‘conquer’, ‘sp’, ‘openxlsx’, ‘minqa’, ‘nloptr’, ‘RcppEigen’, ‘carData’, ‘abind’, ‘pbkrtest’, ‘quantreg’, ‘maptools’, ‘rio’, ‘lme4’\n",
            "\n",
            "\n",
            "Loading required package: carData\n",
            "\n",
            "\n",
            "Attaching package: ‘car’\n",
            "\n",
            "\n",
            "The following object is masked from ‘package:dplyr’:\n",
            "\n",
            "    recode\n",
            "\n",
            "\n",
            "The following object is masked from ‘package:purrr’:\n",
            "\n",
            "    some\n",
            "\n",
            "\n"
          ]
        }
      ]
    },
    {
      "cell_type": "markdown",
      "metadata": {
        "id": "5UzCLdVToh69"
      },
      "source": [
        "From the car() package, use the dfbetaPlots() function to create the same plot created above."
      ]
    },
    {
      "cell_type": "code",
      "metadata": {
        "colab": {
          "base_uri": "https://localhost:8080/",
          "height": 437
        },
        "id": "4eRXoUGYoiCN",
        "outputId": "c1e1c44c-d934-4841-9d19-222e79057b0b"
      },
      "source": [
        "dfbetaPlots(FordFocus_Model2)"
      ],
      "execution_count": 104,
      "outputs": [
        {
          "output_type": "display_data",
          "data": {
            "image/png": "[encoded data removed]",
            "text/plain": [
              "plot without title"
            ]
          },
          "metadata": {
            "image/png": {
              "width": 420,
              "height": 420
            }
          }
        }
      ]
    },
    {
      "cell_type": "markdown",
      "metadata": {
        "id": "iRRyFCpyx2e5"
      },
      "source": [
        "The car() package also has the influenceIndexPlot() function that can be used to investigate the influence of each observation on the regression model.  Here, the variable being plotted is the <i>hat</i> values."
      ]
    },
    {
      "cell_type": "code",
      "metadata": {
        "colab": {
          "base_uri": "https://localhost:8080/",
          "height": 437
        },
        "id": "ZRJ2rD5ix2pA",
        "outputId": "67552728-75d0-488e-e7bc-d6144793ff3d"
      },
      "source": [
        "influenceIndexPlot(FordFocus_Model2, vars=c(\"hat\"), grid=TRUE, main=\"Leverage (Hat) Plot\")"
      ],
      "execution_count": 127,
      "outputs": [
        {
          "output_type": "display_data",
          "data": {
            "image/png": "[encoded data removed]",
            "text/plain": [
              "plot without title"
            ]
          },
          "metadata": {
            "image/png": {
              "width": 420,
              "height": 420
            }
          }
        }
      ]
    },
    {
      "cell_type": "markdown",
      "metadata": {
        "id": "2T5U2E-ko9Y-"
      },
      "source": [
        "## Getting the Standardized Residuals"
      ]
    },
    {
      "cell_type": "markdown",
      "metadata": {
        "id": "raqePGKv0xGU"
      },
      "source": [
        "The standardized residuals are computed as follows.\n",
        "$$\n",
        "\\mbox{Standardized Residual} = \\frac{\\hat{e}_{i} - 0}{\\sqrt{\\hat{\\sigma}^{2}(1-h_{ii})}}\n",
        "$$"
      ]
    },
    {
      "cell_type": "code",
      "metadata": {
        "colab": {
          "base_uri": "https://localhost:8080/",
          "height": 121
        },
        "id": "nlztEimArlUH",
        "outputId": "26793984-3b9f-40e4-a874-a24418811960"
      },
      "source": [
        "#@title Getting the standardized residuals\n",
        "rstandard(FordFocus_Model1)"
      ],
      "execution_count": 134,
      "outputs": [
        {
          "output_type": "display_data",
          "data": {
            "text/plain": [
              "      1       2       3       4       5       6       7       8       9      10 \n",
              " 0.5706 -1.7998 -0.5275 -0.5275 -0.7099 -1.7282 -0.4253  2.4026  2.0411  0.1025 \n",
              "     11      12      13      14      15      16      17      18      19      20 \n",
              " 2.7489  2.7781  2.7781 -1.4355  0.2650  0.4991 -0.2951 -1.0820 -1.0679  1.0162 \n",
              "     21      22      23      24      25      26      27      28      29      30 \n",
              "-0.1965 -0.9663 -0.3954  0.2761  0.2761 -0.2417 -0.2417 -0.8572 -0.1822 -1.2944 \n",
              "     31      32      33      34      35      36      37      38      39      40 \n",
              "-0.4677 -0.4677 -0.0282  0.2197  1.9004  0.3463 -0.4383 -0.4383 -0.4383  1.1598 \n",
              "     41      42      43      44      45      46      47      48      49      50 \n",
              "-0.7251 -0.3012 -1.7416 -0.8556  0.1942 -0.3096 -0.2982 -0.3926 -1.0670 -0.2205 \n",
              "     51      52      53      54      55      56      57      58      59      60 \n",
              "-0.2205  0.0719  0.1547  0.3272  0.1194  0.3111  0.3111  0.0752  0.0053 -0.0171 \n",
              "     61      62      63      64      65 \n",
              "-0.4856  0.2733  0.1931  0.2804  1.3201 "
            ],
            "text/latex": "\\begin{description*}\n\\item[1] 0.5706\n\\item[2] -1.7998\n\\item[3] -0.5275\n\\item[4] -0.5275\n\\item[5] -0.7099\n\\item[6] -1.7282\n\\item[7] -0.4253\n\\item[8] 2.4026\n\\item[9] 2.0411\n\\item[10] 0.1025\n\\item[11] 2.7489\n\\item[12] 2.7781\n\\item[13] 2.7781\n\\item[14] -1.4355\n\\item[15] 0.265\n\\item[16] 0.4991\n\\item[17] -0.2951\n\\item[18] -1.082\n\\item[19] -1.0679\n\\item[20] 1.0162\n\\item[21] -0.1965\n\\item[22] -0.9663\n\\item[23] -0.3954\n\\item[24] 0.2761\n\\item[25] 0.2761\n\\item[26] -0.2417\n\\item[27] -0.2417\n\\item[28] -0.8572\n\\item[29] -0.1822\n\\item[30] -1.2944\n\\item[31] -0.4677\n\\item[32] -0.4677\n\\item[33] -0.0282\n\\item[34] 0.2197\n\\item[35] 1.9004\n\\item[36] 0.3463\n\\item[37] -0.4383\n\\item[38] -0.4383\n\\item[39] -0.4383\n\\item[40] 1.1598\n\\item[41] -0.7251\n\\item[42] -0.3012\n\\item[43] -1.7416\n\\item[44] -0.8556\n\\item[45] 0.1942\n\\item[46] -0.3096\n\\item[47] -0.2982\n\\item[48] -0.3926\n\\item[49] -1.067\n\\item[50] -0.2205\n\\item[51] -0.2205\n\\item[52] 0.0719\n\\item[53] 0.1547\n\\item[54] 0.3272\n\\item[55] 0.1194\n\\item[56] 0.3111\n\\item[57] 0.3111\n\\item[58] 0.0752\n\\item[59] 0.0053\n\\item[60] -0.0171\n\\item[61] -0.4856\n\\item[62] 0.2733\n\\item[63] 0.1931\n\\item[64] 0.2804\n\\item[65] 1.3201\n\\end{description*}\n",
            "text/markdown": "1\n:   0.57062\n:   -1.79983\n:   -0.52754\n:   -0.52755\n:   -0.70996\n:   -1.72827\n:   -0.42538\n:   2.40269\n:   2.041110\n:   0.102511\n:   2.748912\n:   2.778113\n:   2.778114\n:   -1.435515\n:   0.26516\n:   0.499117\n:   -0.295118\n:   -1.08219\n:   -1.067920\n:   1.016221\n:   -0.196522\n:   -0.966323\n:   -0.395424\n:   0.276125\n:   0.276126\n:   -0.241727\n:   -0.241728\n:   -0.857229\n:   -0.182230\n:   -1.294431\n:   -0.467732\n:   -0.467733\n:   -0.028234\n:   0.219735\n:   1.900436\n:   0.346337\n:   -0.438338\n:   -0.438339\n:   -0.438340\n:   1.159841\n:   -0.725142\n:   -0.301243\n:   -1.741644\n:   -0.855645\n:   0.194246\n:   -0.309647\n:   -0.298248\n:   -0.392649\n:   -1.06750\n:   -0.220551\n:   -0.220552\n:   0.071953\n:   0.154754\n:   0.327255\n:   0.119456\n:   0.311157\n:   0.311158\n:   0.075259\n:   0.005360\n:   -0.017161\n:   -0.485662\n:   0.273363\n:   0.193164\n:   0.280465\n:   1.3201\n\n",
            "text/html": [
              "<style>\n",
              ".dl-inline {width: auto; margin:0; padding: 0}\n",
              ".dl-inline>dt, .dl-inline>dd {float: none; width: auto; display: inline-block}\n",
              ".dl-inline>dt::after {content: \":\\0020\"; padding-right: .5ex}\n",
              ".dl-inline>dt:not(:first-of-type) {padding-left: .5ex}\n",
              "</style><dl class=dl-inline><dt>1</dt><dd>0.5706</dd><dt>2</dt><dd>-1.7998</dd><dt>3</dt><dd>-0.5275</dd><dt>4</dt><dd>-0.5275</dd><dt>5</dt><dd>-0.7099</dd><dt>6</dt><dd>-1.7282</dd><dt>7</dt><dd>-0.4253</dd><dt>8</dt><dd>2.4026</dd><dt>9</dt><dd>2.0411</dd><dt>10</dt><dd>0.1025</dd><dt>11</dt><dd>2.7489</dd><dt>12</dt><dd>2.7781</dd><dt>13</dt><dd>2.7781</dd><dt>14</dt><dd>-1.4355</dd><dt>15</dt><dd>0.265</dd><dt>16</dt><dd>0.4991</dd><dt>17</dt><dd>-0.2951</dd><dt>18</dt><dd>-1.082</dd><dt>19</dt><dd>-1.0679</dd><dt>20</dt><dd>1.0162</dd><dt>21</dt><dd>-0.1965</dd><dt>22</dt><dd>-0.9663</dd><dt>23</dt><dd>-0.3954</dd><dt>24</dt><dd>0.2761</dd><dt>25</dt><dd>0.2761</dd><dt>26</dt><dd>-0.2417</dd><dt>27</dt><dd>-0.2417</dd><dt>28</dt><dd>-0.8572</dd><dt>29</dt><dd>-0.1822</dd><dt>30</dt><dd>-1.2944</dd><dt>31</dt><dd>-0.4677</dd><dt>32</dt><dd>-0.4677</dd><dt>33</dt><dd>-0.0282</dd><dt>34</dt><dd>0.2197</dd><dt>35</dt><dd>1.9004</dd><dt>36</dt><dd>0.3463</dd><dt>37</dt><dd>-0.4383</dd><dt>38</dt><dd>-0.4383</dd><dt>39</dt><dd>-0.4383</dd><dt>40</dt><dd>1.1598</dd><dt>41</dt><dd>-0.7251</dd><dt>42</dt><dd>-0.3012</dd><dt>43</dt><dd>-1.7416</dd><dt>44</dt><dd>-0.8556</dd><dt>45</dt><dd>0.1942</dd><dt>46</dt><dd>-0.3096</dd><dt>47</dt><dd>-0.2982</dd><dt>48</dt><dd>-0.3926</dd><dt>49</dt><dd>-1.067</dd><dt>50</dt><dd>-0.2205</dd><dt>51</dt><dd>-0.2205</dd><dt>52</dt><dd>0.0719</dd><dt>53</dt><dd>0.1547</dd><dt>54</dt><dd>0.3272</dd><dt>55</dt><dd>0.1194</dd><dt>56</dt><dd>0.3111</dd><dt>57</dt><dd>0.3111</dd><dt>58</dt><dd>0.0752</dd><dt>59</dt><dd>0.0053</dd><dt>60</dt><dd>-0.0171</dd><dt>61</dt><dd>-0.4856</dd><dt>62</dt><dd>0.2733</dd><dt>63</dt><dd>0.1931</dd><dt>64</dt><dd>0.2804</dd><dt>65</dt><dd>1.3201</dd></dl>\n"
            ]
          },
          "metadata": {}
        }
      ]
    },
    {
      "cell_type": "markdown",
      "metadata": {
        "id": "on_ylc3Vrr15"
      },
      "source": [
        "Next, getting a plot of the standardized residuals for all observations."
      ]
    },
    {
      "cell_type": "code",
      "metadata": {
        "colab": {
          "base_uri": "https://localhost:8080/",
          "height": 437
        },
        "id": "qN1LoH8hrr9s",
        "outputId": "60d915ba-3176-4e6c-f4b2-00a28b87a541"
      },
      "source": [
        "plot(1:65,rstandard(FordFocus_Model1), main=\"Standardized Residuals\",ylim=c(-3,3))\n",
        "abline(h=c(-2,2),lty=2)"
      ],
      "execution_count": 135,
      "outputs": [
        {
          "output_type": "display_data",
          "data": {
            "image/png": "[encoded data removed]",
            "text/plain": [
              "Plot with title “Standardized Residuals”"
            ]
          },
          "metadata": {
            "image/png": {
              "width": 420,
              "height": 420
            }
          }
        }
      ]
    },
    {
      "cell_type": "markdown",
      "metadata": {
        "id": "DYZWR1hr2zdI"
      },
      "source": [
        "### Standardized Residuals via Brute Force"
      ]
    },
    {
      "cell_type": "code",
      "metadata": {
        "colab": {
          "base_uri": "https://localhost:8080/",
          "height": 255
        },
        "id": "IlZlL7Im2zlf",
        "outputId": "2509596b-1378-4d7c-ae4b-3cfc017701d1"
      },
      "source": [
        "FordFocus_StandardizedResiduals <- (FordFocus\n",
        "                                      %>% select(Price, Miles)\n",
        "                                      %>% mutate(Predicted_Price = predict(FordFocus_Model1, newdata=FordFocus))\n",
        "                                      %>% mutate(Residual = (Price - Predicted_Price))\n",
        "                                      %>% mutate(hii = hatvalues(FordFocus_Model1))\n",
        "                                      %>% mutate(Standardized_Resids = Residual / sqrt(2440^2 * (1-hii)))\n",
        "                                   )\n",
        "#Next, show only the outliers\n",
        "(FordFocus_StandardizedResiduals\n",
        "      %>% mutate(rowid = 1:65)\n",
        "      %>% filter(abs(Standardized_Resids) > 2)\n",
        ")"
      ],
      "execution_count": 151,
      "outputs": [
        {
          "output_type": "display_data",
          "data": {
            "text/plain": [
              "  Price Miles Predicted_Price Residual hii        Standardized_Resids rowid\n",
              "1 19599 17696 13836.35        5762.652 0.03333964 2.402125             8   \n",
              "2 18697 18134 13800.60        4896.401 0.03301452 2.040691             9   \n",
              "3 20229 20232 13629.36        6599.638 0.03149840 2.748401            11   \n",
              "4 20299 20232 13629.36        6669.638 0.03149840 2.777552            12   \n",
              "5 20299 20232 13629.36        6669.638 0.03149840 2.777552            13   "
            ],
            "text/latex": "A tibble: 5 × 7\n\\begin{tabular}{lllllll}\n Price & Miles & Predicted\\_Price & Residual & hii & Standardized\\_Resids & rowid\\\\\n <dbl> & <dbl> & <dbl> & <dbl> & <dbl> & <dbl> & <int>\\\\\n\\hline\n\t 19599 & 17696 & 13836.35 & 5762.652 & 0.03333964 & 2.402125 &  8\\\\\n\t 18697 & 18134 & 13800.60 & 4896.401 & 0.03301452 & 2.040691 &  9\\\\\n\t 20229 & 20232 & 13629.36 & 6599.638 & 0.03149840 & 2.748401 & 11\\\\\n\t 20299 & 20232 & 13629.36 & 6669.638 & 0.03149840 & 2.777552 & 12\\\\\n\t 20299 & 20232 & 13629.36 & 6669.638 & 0.03149840 & 2.777552 & 13\\\\\n\\end{tabular}\n",
            "text/markdown": "\nA tibble: 5 × 7\n\n| Price &lt;dbl&gt; | Miles &lt;dbl&gt; | Predicted_Price &lt;dbl&gt; | Residual &lt;dbl&gt; | hii &lt;dbl&gt; | Standardized_Resids &lt;dbl&gt; | rowid &lt;int&gt; |\n|---|---|---|---|---|---|---|\n| 19599 | 17696 | 13836.35 | 5762.652 | 0.03333964 | 2.402125 |  8 |\n| 18697 | 18134 | 13800.60 | 4896.401 | 0.03301452 | 2.040691 |  9 |\n| 20229 | 20232 | 13629.36 | 6599.638 | 0.03149840 | 2.748401 | 11 |\n| 20299 | 20232 | 13629.36 | 6669.638 | 0.03149840 | 2.777552 | 12 |\n| 20299 | 20232 | 13629.36 | 6669.638 | 0.03149840 | 2.777552 | 13 |\n\n",
            "text/html": [
              "<table class=\"dataframe\">\n",
              "<caption>A tibble: 5 × 7</caption>\n",
              "<thead>\n",
              "\t<tr><th scope=col>Price</th><th scope=col>Miles</th><th scope=col>Predicted_Price</th><th scope=col>Residual</th><th scope=col>hii</th><th scope=col>Standardized_Resids</th><th scope=col>rowid</th></tr>\n",
              "\t<tr><th scope=col>&lt;dbl&gt;</th><th scope=col>&lt;dbl&gt;</th><th scope=col>&lt;dbl&gt;</th><th scope=col>&lt;dbl&gt;</th><th scope=col>&lt;dbl&gt;</th><th scope=col>&lt;dbl&gt;</th><th scope=col>&lt;int&gt;</th></tr>\n",
              "</thead>\n",
              "<tbody>\n",
              "\t<tr><td>19599</td><td>17696</td><td>13836.35</td><td>5762.652</td><td>0.03333964</td><td>2.402125</td><td> 8</td></tr>\n",
              "\t<tr><td>18697</td><td>18134</td><td>13800.60</td><td>4896.401</td><td>0.03301452</td><td>2.040691</td><td> 9</td></tr>\n",
              "\t<tr><td>20229</td><td>20232</td><td>13629.36</td><td>6599.638</td><td>0.03149840</td><td>2.748401</td><td>11</td></tr>\n",
              "\t<tr><td>20299</td><td>20232</td><td>13629.36</td><td>6669.638</td><td>0.03149840</td><td>2.777552</td><td>12</td></tr>\n",
              "\t<tr><td>20299</td><td>20232</td><td>13629.36</td><td>6669.638</td><td>0.03149840</td><td>2.777552</td><td>13</td></tr>\n",
              "</tbody>\n",
              "</table>\n"
            ]
          },
          "metadata": {}
        }
      ]
    },
    {
      "cell_type": "markdown",
      "metadata": {
        "id": "sCXf0Qt3sIHS"
      },
      "source": [
        "The following code can be used to identify the observations in the original data.frame that are outliers."
      ]
    },
    {
      "cell_type": "code",
      "metadata": {
        "id": "ziziDqOisINT"
      },
      "source": [
        "outliers <- which( abs( rstandard(FordFocus_Model1))  > 2)"
      ],
      "execution_count": 145,
      "outputs": []
    },
    {
      "cell_type": "code",
      "metadata": {
        "colab": {
          "base_uri": "https://localhost:8080/",
          "height": 255
        },
        "id": "C4gILvxUsTD0",
        "outputId": "ae1f9578-dd0c-4ebf-db52-cc1207511c87"
      },
      "source": [
        "( FordFocus\n",
        "      %>% select(Price, Miles)\n",
        "      %>% slice(outliers)\n",
        ")"
      ],
      "execution_count": 150,
      "outputs": [
        {
          "output_type": "display_data",
          "data": {
            "text/plain": [
              "  Price Miles\n",
              "1 19599 17696\n",
              "2 18697 18134\n",
              "3 20229 20232\n",
              "4 20299 20232\n",
              "5 20299 20232"
            ],
            "text/latex": "A tibble: 5 × 2\n\\begin{tabular}{ll}\n Price & Miles\\\\\n <dbl> & <dbl>\\\\\n\\hline\n\t 19599 & 17696\\\\\n\t 18697 & 18134\\\\\n\t 20229 & 20232\\\\\n\t 20299 & 20232\\\\\n\t 20299 & 20232\\\\\n\\end{tabular}\n",
            "text/markdown": "\nA tibble: 5 × 2\n\n| Price &lt;dbl&gt; | Miles &lt;dbl&gt; |\n|---|---|\n| 19599 | 17696 |\n| 18697 | 18134 |\n| 20229 | 20232 |\n| 20299 | 20232 |\n| 20299 | 20232 |\n\n",
            "text/html": [
              "<table class=\"dataframe\">\n",
              "<caption>A tibble: 5 × 2</caption>\n",
              "<thead>\n",
              "\t<tr><th scope=col>Price</th><th scope=col>Miles</th></tr>\n",
              "\t<tr><th scope=col>&lt;dbl&gt;</th><th scope=col>&lt;dbl&gt;</th></tr>\n",
              "</thead>\n",
              "<tbody>\n",
              "\t<tr><td>19599</td><td>17696</td></tr>\n",
              "\t<tr><td>18697</td><td>18134</td></tr>\n",
              "\t<tr><td>20229</td><td>20232</td></tr>\n",
              "\t<tr><td>20299</td><td>20232</td></tr>\n",
              "\t<tr><td>20299</td><td>20232</td></tr>\n",
              "</tbody>\n",
              "</table>\n"
            ]
          },
          "metadata": {}
        }
      ]
    },
    {
      "cell_type": "code",
      "metadata": {
        "colab": {
          "base_uri": "https://localhost:8080/",
          "height": 437
        },
        "id": "isYSm7RIo9gH",
        "outputId": "956b5ac9-7d61-4de8-fa09-f6462015f071"
      },
      "source": [
        "#influenceIndexPlot(FordFocus_Model1, vars=c(\"Cook\", \"Studentized\", \"Bonf\", \"hat\"), id=TRUE, grid=TRUE, main=\"Diagnostic Plots\")\n",
        "influenceIndexPlot(FordFocus_Model1, vars=c(\"hat\"), grid=TRUE, main=\"Leverage (Hat) Plot\")\n"
      ],
      "execution_count": 126,
      "outputs": [
        {
          "output_type": "display_data",
          "data": {
            "image/png": "[encoded data removed]",
            "text/plain": [
              "plot without title"
            ]
          },
          "metadata": {
            "image/png": {
              "width": 420,
              "height": 420
            }
          }
        }
      ]
    },
    {
      "cell_type": "markdown",
      "metadata": {
        "id": "9kkg1lL30Rfw"
      },
      "source": [
        "End of Document"
      ]
    }
  ]
}