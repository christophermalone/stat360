{
  "nbformat": 4,
  "nbformat_minor": 0,
  "metadata": {
    "colab": {
      "name": "Handout13_LinearAlgebra.ipynb",
      "provenance": [],
      "collapsed_sections": [
        "bCmC17zpsBJ_",
        "njXGRUIC9Lgs"
      ],
      "authorship_tag": "ABX9TyPT2iJabC3bSF2mHYzi2EzD",
      "include_colab_link": true
    },
    "kernelspec": {
      "display_name": "R",
      "name": "ir"
    }
  },
  "cells": [
    {
      "cell_type": "markdown",
      "metadata": {
        "id": "view-in-github",
        "colab_type": "text"
      },
      "source": [
        "<a href=\"https://colab.research.google.com/github/christophermalone/stat360/blob/main/Handout13_LinearAlgebra.ipynb\" target=\"_parent\"><img src=\"https://colab.research.google.com/assets/colab-badge.svg\" alt=\"Open In Colab\"/></a>"
      ]
    },
    {
      "cell_type": "markdown",
      "metadata": {
        "id": "KhClO9b02SXA"
      },
      "source": [
        "# Handout #13 : Multicollinearity -- Linear Algebra Calculations"
      ]
    },
    {
      "cell_type": "markdown",
      "metadata": {
        "id": "bCmC17zpsBJ_"
      },
      "source": [
        "<table width='100%' ><tr><td bgcolor='green'></td></tr></table>\n",
        "\n",
        "## MN Gay Marriage Amendment\n",
        "\n",
        "Consider the following data collected on counties from all across Minnesota.  The goal here is to investigate the relationship between the outcome from the 2012 ballot measure to restrict marriage between a man and women in the State of MN and various demographics. <table>\n",
        "  <tr>\n",
        "    <td width='50%'>\n",
        "      <ul>\n",
        "        <li>Response Variable: Percent Voted Yes for Amendment #1</li><br>\n",
        "        <li>Variables under investigation (i.e. independent variables)</li>\n",
        "        <ul>\n",
        "          <li>% Voted Democrat</li>\n",
        "          <li>% Voted Republican</li>\n",
        "          <li>Population Per Square Mile</li>\n",
        "          <li>Per Capita Income</li>\n",
        "          <li>Average Household Size</li>\n",
        "          <li>% Bachelor or higher Education</li>\n",
        "          <li>% Unemployment</li>\n",
        "          <li>% Population Living in Poverty</li>\n",
        "          <li>% of Population: Age 0-17</li>\n",
        "          <li>% of Population: Age 18-24</li>\n",
        "          <li>% of Population: Age 25-44</li>\n",
        "          <li>% of Population: Age 45-64</li>\n",
        "          <li>% of Population: Age 65 and Over</li>\n",
        "          <li>% of Population: White</li>\n",
        "          <li>% of Population: African American</li>\n",
        "          <li>% of Population: American Indian</li>\n",
        "          <li>% of Population: Asian</li>\n",
        "          <li>% of Population: Other</li>\n",
        "          <li>% of Population: Of Hispanic Origin</li>\n",
        "         </ul>\n",
        "     </ul>\n",
        "    </td>\n",
        "    <td width='50%'>\n",
        "    <p align='center'><img src=\"https://drive.google.com/uc?export=view&id=1yat57mNueWJ95pux9YstUjp2JuTc7E9t\" width=\"50%\" height=\"50%\"></img></p>\n",
        "      \n",
        "  </td>\n",
        "</tr>\n",
        "<tr>\n",
        "    <td colspan='2' width='100%'>\n",
        "    The following is the actual ballot.  A vote of Yes suggests only a union of a man and a women shall be recognized as a marriage in Minnesota.\n",
        "     <p align='center'><img src=\"https://drive.google.com/uc?export=view&id=1QpvU-viFXzqRyiKdZXs-GhLa9OnFvBRb\"></img></p>\n",
        "\n",
        "\n",
        "  </td>\n",
        "</tr>\n",
        "</table>\n",
        "\n",
        "Data Folder: [OneDrive](https://mnscu-my.sharepoint.com/:f:/g/personal/aq7839yd_minnstate_edu/EmOQfrwxzzRBqq8PH_8qTmMBy-1qKgM11Hb8vzjs025EEA?e=wyShYs)\n",
        "\n",
        "\n",
        "\n",
        "<table width='100%' ><tr><td bgcolor='green'></td></tr></table>\n",
        "\n",
        "\n"
      ]
    },
    {
      "cell_type": "markdown",
      "metadata": {
        "id": "njXGRUIC9Lgs"
      },
      "source": [
        "## Load tidyverse"
      ]
    },
    {
      "cell_type": "markdown",
      "metadata": {
        "id": "FoT1NFX3DncH"
      },
      "source": [
        "The tidyverse R package will be used to assist with reading in the dataset into the current R session."
      ]
    },
    {
      "cell_type": "code",
      "metadata": {
        "colab": {
          "base_uri": "https://localhost:8080/"
        },
        "id": "LgaibuX_DtWK",
        "outputId": "be69e183-bde3-4e42-8913-d9189197ee36"
      },
      "source": [
        "#@title Load Tidyverse\n",
        "#load tidyverse package\n",
        "library(tidyverse)"
      ],
      "execution_count": 4,
      "outputs": [
        {
          "output_type": "stream",
          "name": "stderr",
          "text": [
            "Warning message in system(\"timedatectl\", intern = TRUE):\n",
            "“running command 'timedatectl' had status 1”\n",
            "── \u001b[1mAttaching packages\u001b[22m ─────────────────────────────────────── tidyverse 1.3.1 ──\n",
            "\n",
            "\u001b[32m✔\u001b[39m \u001b[34mggplot2\u001b[39m 3.3.5     \u001b[32m✔\u001b[39m \u001b[34mpurrr  \u001b[39m 0.3.4\n",
            "\u001b[32m✔\u001b[39m \u001b[34mtibble \u001b[39m 3.1.5     \u001b[32m✔\u001b[39m \u001b[34mdplyr  \u001b[39m 1.0.7\n",
            "\u001b[32m✔\u001b[39m \u001b[34mtidyr  \u001b[39m 1.1.4     \u001b[32m✔\u001b[39m \u001b[34mstringr\u001b[39m 1.4.0\n",
            "\u001b[32m✔\u001b[39m \u001b[34mreadr  \u001b[39m 2.0.2     \u001b[32m✔\u001b[39m \u001b[34mforcats\u001b[39m 0.5.1\n",
            "\n",
            "── \u001b[1mConflicts\u001b[22m ────────────────────────────────────────── tidyverse_conflicts() ──\n",
            "\u001b[31m✖\u001b[39m \u001b[34mdplyr\u001b[39m::\u001b[32mfilter()\u001b[39m masks \u001b[34mstats\u001b[39m::filter()\n",
            "\u001b[31m✖\u001b[39m \u001b[34mdplyr\u001b[39m::\u001b[32mlag()\u001b[39m    masks \u001b[34mstats\u001b[39m::lag()\n",
            "\n"
          ]
        }
      ]
    },
    {
      "cell_type": "markdown",
      "metadata": {
        "id": "u7fj-9Y5Wr8r"
      },
      "source": [
        "\n",
        "\n",
        "---\n",
        "\n",
        "\n"
      ]
    },
    {
      "cell_type": "markdown",
      "metadata": {
        "id": "DPqIPen9D5T3"
      },
      "source": [
        "## Load the initial data"
      ]
    },
    {
      "cell_type": "code",
      "metadata": {
        "colab": {
          "base_uri": "https://localhost:8080/"
        },
        "id": "hM3AnlVCu2vx",
        "outputId": "0e04747a-d90d-40c3-daa6-44f24b4d4542"
      },
      "source": [
        "# Reading data in using read_csv \n",
        "MN_Marriage_Amendment <- read_csv(\"http://www.StatsClass.org/stat360/Datasets/MN_Marriage_Amendment.csv\")"
      ],
      "execution_count": 5,
      "outputs": [
        {
          "output_type": "stream",
          "name": "stderr",
          "text": [
            "\u001b[1mRows: \u001b[22m\u001b[34m87\u001b[39m \u001b[1mColumns: \u001b[22m\u001b[34m23\u001b[39m\n",
            "\n",
            "\u001b[36m──\u001b[39m \u001b[1mColumn specification\u001b[22m \u001b[36m────────────────────────────────────────────────────────\u001b[39m\n",
            "\u001b[1mDelimiter:\u001b[22m \",\"\n",
            "\u001b[31mchr\u001b[39m  (2): State, County\n",
            "\u001b[32mdbl\u001b[39m (21): FIPSCode, Pct_Yes, Pct_Democrat, Pct_Republican, PopPerSqMile, Per...\n",
            "\n",
            "\n",
            "\u001b[36mℹ\u001b[39m Use \u001b[30m\u001b[47m\u001b[30m\u001b[47m`spec()`\u001b[47m\u001b[30m\u001b[49m\u001b[39m to retrieve the full column specification for this data.\n",
            "\u001b[36mℹ\u001b[39m Specify the column types or set \u001b[30m\u001b[47m\u001b[30m\u001b[47m`show_col_types = FALSE`\u001b[47m\u001b[30m\u001b[49m\u001b[39m to quiet this message.\n",
            "\n"
          ]
        }
      ]
    },
    {
      "cell_type": "markdown",
      "metadata": {
        "id": "y1E6q0ccvNgh"
      },
      "source": [
        "Taking a quick look at the initial data..."
      ]
    },
    {
      "cell_type": "code",
      "metadata": {
        "colab": {
          "base_uri": "https://localhost:8080/",
          "height": 549
        },
        "id": "sXtmoYGmvN4e",
        "outputId": "8ba37816-9b29-4d20-de4c-fb3db19e66b3"
      },
      "source": [
        "head(MN_Marriage_Amendment)"
      ],
      "execution_count": 6,
      "outputs": [
        {
          "output_type": "display_data",
          "data": {
            "text/plain": [
              "  FIPSCode State County               Pct_Yes Pct_Democrat Pct_Republican\n",
              "1 27001    MN    Aitkin County, MN    61.82   48.4         49.8          \n",
              "2 27003    MN    Anoka County, MN     50.61   47.7         50.3          \n",
              "3 27005    MN    Becker County, MN    62.92   41.8         56.4          \n",
              "4 27007    MN    Beltrami County, MN  51.08   53.8         43.9          \n",
              "5 27009    MN    Benton County, MN    55.39   41.9         55.6          \n",
              "6 27011    MN    Big Stone County, MN 67.05   48.3         49.8          \n",
              "  PopPerSqMile PerCapitaIncome AvgHousehold Size Pct_Bachelororhigher ⋯\n",
              "1   8.9        24694           2.06              15.1                 ⋯\n",
              "2 782.1        29894           2.70              25.8                 ⋯\n",
              "3  24.7        25233           2.38              21.4                 ⋯\n",
              "4  17.7        21753           2.56              29.1                 ⋯\n",
              "5  94.2        23924           2.48              18.8                 ⋯\n",
              "6  10.6        24960           2.15              16.8                 ⋯\n",
              "  Pct_Age18to24 Pct_Age25to44 Pct_Age45to64 Pct_Age65andOlder Pct_RaceWhite\n",
              "1  5.1          16.9          32.8          28.5              96           \n",
              "2  8.1          27.8          28.4          10.8              87           \n",
              "3  6.8          21.7          29.5          18.3              88           \n",
              "4 14.6          22.3          25.1          13.7              75           \n",
              "5 10.7          28.5          24.2          12.8              95           \n",
              "6  5.6          18.4          29.8          25.4              98           \n",
              "  Pct_RaceAfricanAmerican Pct_RaceAmericanIndian Pct_RaceAsian Pct_RaceOther\n",
              "1 0.4                      2.4                   0.2           0.2          \n",
              "2 4.0                      1.0                   4.0           1.5          \n",
              "3 0.4                      8.0                   0.4           0.3          \n",
              "4 0.6                     20.0                   0.7           0.3          \n",
              "5 1.9                      0.4                   1.1           0.4          \n",
              "6 0.2                      0.4                   0.1           0.3          \n",
              "  Pct_Hispanic\n",
              "1 0.9         \n",
              "2 3.6         \n",
              "3 1.2         \n",
              "4 1.5         \n",
              "5 1.6         \n",
              "6 0.8         "
            ],
            "text/latex": "A tibble: 6 × 23\n\\begin{tabular}{lllllllllllllllllllll}\n FIPSCode & State & County & Pct\\_Yes & Pct\\_Democrat & Pct\\_Republican & PopPerSqMile & PerCapitaIncome & AvgHousehold Size & Pct\\_Bachelororhigher & ⋯ & Pct\\_Age18to24 & Pct\\_Age25to44 & Pct\\_Age45to64 & Pct\\_Age65andOlder & Pct\\_RaceWhite & Pct\\_RaceAfricanAmerican & Pct\\_RaceAmericanIndian & Pct\\_RaceAsian & Pct\\_RaceOther & Pct\\_Hispanic\\\\\n <dbl> & <chr> & <chr> & <dbl> & <dbl> & <dbl> & <dbl> & <dbl> & <dbl> & <dbl> & ⋯ & <dbl> & <dbl> & <dbl> & <dbl> & <dbl> & <dbl> & <dbl> & <dbl> & <dbl> & <dbl>\\\\\n\\hline\n\t 27001 & MN & Aitkin County, MN    & 61.82 & 48.4 & 49.8 &   8.9 & 24694 & 2.06 & 15.1 & ⋯ &  5.1 & 16.9 & 32.8 & 28.5 & 96 & 0.4 &  2.4 & 0.2 & 0.2 & 0.9\\\\\n\t 27003 & MN & Anoka County, MN     & 50.61 & 47.7 & 50.3 & 782.1 & 29894 & 2.70 & 25.8 & ⋯ &  8.1 & 27.8 & 28.4 & 10.8 & 87 & 4.0 &  1.0 & 4.0 & 1.5 & 3.6\\\\\n\t 27005 & MN & Becker County, MN    & 62.92 & 41.8 & 56.4 &  24.7 & 25233 & 2.38 & 21.4 & ⋯ &  6.8 & 21.7 & 29.5 & 18.3 & 88 & 0.4 &  8.0 & 0.4 & 0.3 & 1.2\\\\\n\t 27007 & MN & Beltrami County, MN  & 51.08 & 53.8 & 43.9 &  17.7 & 21753 & 2.56 & 29.1 & ⋯ & 14.6 & 22.3 & 25.1 & 13.7 & 75 & 0.6 & 20.0 & 0.7 & 0.3 & 1.5\\\\\n\t 27009 & MN & Benton County, MN    & 55.39 & 41.9 & 55.6 &  94.2 & 23924 & 2.48 & 18.8 & ⋯ & 10.7 & 28.5 & 24.2 & 12.8 & 95 & 1.9 &  0.4 & 1.1 & 0.4 & 1.6\\\\\n\t 27011 & MN & Big Stone County, MN & 67.05 & 48.3 & 49.8 &  10.6 & 24960 & 2.15 & 16.8 & ⋯ &  5.6 & 18.4 & 29.8 & 25.4 & 98 & 0.2 &  0.4 & 0.1 & 0.3 & 0.8\\\\\n\\end{tabular}\n",
            "text/markdown": "\nA tibble: 6 × 23\n\n| FIPSCode &lt;dbl&gt; | State &lt;chr&gt; | County &lt;chr&gt; | Pct_Yes &lt;dbl&gt; | Pct_Democrat &lt;dbl&gt; | Pct_Republican &lt;dbl&gt; | PopPerSqMile &lt;dbl&gt; | PerCapitaIncome &lt;dbl&gt; | AvgHousehold Size &lt;dbl&gt; | Pct_Bachelororhigher &lt;dbl&gt; | ⋯ ⋯ | Pct_Age18to24 &lt;dbl&gt; | Pct_Age25to44 &lt;dbl&gt; | Pct_Age45to64 &lt;dbl&gt; | Pct_Age65andOlder &lt;dbl&gt; | Pct_RaceWhite &lt;dbl&gt; | Pct_RaceAfricanAmerican &lt;dbl&gt; | Pct_RaceAmericanIndian &lt;dbl&gt; | Pct_RaceAsian &lt;dbl&gt; | Pct_RaceOther &lt;dbl&gt; | Pct_Hispanic &lt;dbl&gt; |\n|---|---|---|---|---|---|---|---|---|---|---|---|---|---|---|---|---|---|---|---|---|\n| 27001 | MN | Aitkin County, MN    | 61.82 | 48.4 | 49.8 |   8.9 | 24694 | 2.06 | 15.1 | ⋯ |  5.1 | 16.9 | 32.8 | 28.5 | 96 | 0.4 |  2.4 | 0.2 | 0.2 | 0.9 |\n| 27003 | MN | Anoka County, MN     | 50.61 | 47.7 | 50.3 | 782.1 | 29894 | 2.70 | 25.8 | ⋯ |  8.1 | 27.8 | 28.4 | 10.8 | 87 | 4.0 |  1.0 | 4.0 | 1.5 | 3.6 |\n| 27005 | MN | Becker County, MN    | 62.92 | 41.8 | 56.4 |  24.7 | 25233 | 2.38 | 21.4 | ⋯ |  6.8 | 21.7 | 29.5 | 18.3 | 88 | 0.4 |  8.0 | 0.4 | 0.3 | 1.2 |\n| 27007 | MN | Beltrami County, MN  | 51.08 | 53.8 | 43.9 |  17.7 | 21753 | 2.56 | 29.1 | ⋯ | 14.6 | 22.3 | 25.1 | 13.7 | 75 | 0.6 | 20.0 | 0.7 | 0.3 | 1.5 |\n| 27009 | MN | Benton County, MN    | 55.39 | 41.9 | 55.6 |  94.2 | 23924 | 2.48 | 18.8 | ⋯ | 10.7 | 28.5 | 24.2 | 12.8 | 95 | 1.9 |  0.4 | 1.1 | 0.4 | 1.6 |\n| 27011 | MN | Big Stone County, MN | 67.05 | 48.3 | 49.8 |  10.6 | 24960 | 2.15 | 16.8 | ⋯ |  5.6 | 18.4 | 29.8 | 25.4 | 98 | 0.2 |  0.4 | 0.1 | 0.3 | 0.8 |\n\n",
            "text/html": [
              "<table class=\"dataframe\">\n",
              "<caption>A tibble: 6 × 23</caption>\n",
              "<thead>\n",
              "\t<tr><th scope=col>FIPSCode</th><th scope=col>State</th><th scope=col>County</th><th scope=col>Pct_Yes</th><th scope=col>Pct_Democrat</th><th scope=col>Pct_Republican</th><th scope=col>PopPerSqMile</th><th scope=col>PerCapitaIncome</th><th scope=col>AvgHousehold Size</th><th scope=col>Pct_Bachelororhigher</th><th scope=col>⋯</th><th scope=col>Pct_Age18to24</th><th scope=col>Pct_Age25to44</th><th scope=col>Pct_Age45to64</th><th scope=col>Pct_Age65andOlder</th><th scope=col>Pct_RaceWhite</th><th scope=col>Pct_RaceAfricanAmerican</th><th scope=col>Pct_RaceAmericanIndian</th><th scope=col>Pct_RaceAsian</th><th scope=col>Pct_RaceOther</th><th scope=col>Pct_Hispanic</th></tr>\n",
              "\t<tr><th scope=col>&lt;dbl&gt;</th><th scope=col>&lt;chr&gt;</th><th scope=col>&lt;chr&gt;</th><th scope=col>&lt;dbl&gt;</th><th scope=col>&lt;dbl&gt;</th><th scope=col>&lt;dbl&gt;</th><th scope=col>&lt;dbl&gt;</th><th scope=col>&lt;dbl&gt;</th><th scope=col>&lt;dbl&gt;</th><th scope=col>&lt;dbl&gt;</th><th scope=col>⋯</th><th scope=col>&lt;dbl&gt;</th><th scope=col>&lt;dbl&gt;</th><th scope=col>&lt;dbl&gt;</th><th scope=col>&lt;dbl&gt;</th><th scope=col>&lt;dbl&gt;</th><th scope=col>&lt;dbl&gt;</th><th scope=col>&lt;dbl&gt;</th><th scope=col>&lt;dbl&gt;</th><th scope=col>&lt;dbl&gt;</th><th scope=col>&lt;dbl&gt;</th></tr>\n",
              "</thead>\n",
              "<tbody>\n",
              "\t<tr><td>27001</td><td>MN</td><td>Aitkin County, MN   </td><td>61.82</td><td>48.4</td><td>49.8</td><td>  8.9</td><td>24694</td><td>2.06</td><td>15.1</td><td>⋯</td><td> 5.1</td><td>16.9</td><td>32.8</td><td>28.5</td><td>96</td><td>0.4</td><td> 2.4</td><td>0.2</td><td>0.2</td><td>0.9</td></tr>\n",
              "\t<tr><td>27003</td><td>MN</td><td>Anoka County, MN    </td><td>50.61</td><td>47.7</td><td>50.3</td><td>782.1</td><td>29894</td><td>2.70</td><td>25.8</td><td>⋯</td><td> 8.1</td><td>27.8</td><td>28.4</td><td>10.8</td><td>87</td><td>4.0</td><td> 1.0</td><td>4.0</td><td>1.5</td><td>3.6</td></tr>\n",
              "\t<tr><td>27005</td><td>MN</td><td>Becker County, MN   </td><td>62.92</td><td>41.8</td><td>56.4</td><td> 24.7</td><td>25233</td><td>2.38</td><td>21.4</td><td>⋯</td><td> 6.8</td><td>21.7</td><td>29.5</td><td>18.3</td><td>88</td><td>0.4</td><td> 8.0</td><td>0.4</td><td>0.3</td><td>1.2</td></tr>\n",
              "\t<tr><td>27007</td><td>MN</td><td>Beltrami County, MN </td><td>51.08</td><td>53.8</td><td>43.9</td><td> 17.7</td><td>21753</td><td>2.56</td><td>29.1</td><td>⋯</td><td>14.6</td><td>22.3</td><td>25.1</td><td>13.7</td><td>75</td><td>0.6</td><td>20.0</td><td>0.7</td><td>0.3</td><td>1.5</td></tr>\n",
              "\t<tr><td>27009</td><td>MN</td><td>Benton County, MN   </td><td>55.39</td><td>41.9</td><td>55.6</td><td> 94.2</td><td>23924</td><td>2.48</td><td>18.8</td><td>⋯</td><td>10.7</td><td>28.5</td><td>24.2</td><td>12.8</td><td>95</td><td>1.9</td><td> 0.4</td><td>1.1</td><td>0.4</td><td>1.6</td></tr>\n",
              "\t<tr><td>27011</td><td>MN</td><td>Big Stone County, MN</td><td>67.05</td><td>48.3</td><td>49.8</td><td> 10.6</td><td>24960</td><td>2.15</td><td>16.8</td><td>⋯</td><td> 5.6</td><td>18.4</td><td>29.8</td><td>25.4</td><td>98</td><td>0.2</td><td> 0.4</td><td>0.1</td><td>0.3</td><td>0.8</td></tr>\n",
              "</tbody>\n",
              "</table>\n"
            ]
          },
          "metadata": {}
        }
      ]
    },
    {
      "cell_type": "markdown",
      "metadata": {
        "id": "NSYSjyxvi_gM"
      },
      "source": [
        "\n",
        "\n",
        "---\n",
        "\n",
        "\n",
        "\n",
        "---\n",
        "\n"
      ]
    },
    {
      "cell_type": "markdown",
      "metadata": {
        "id": "HQsLeQhaVv8i"
      },
      "source": [
        "## Inverse Fail -- Silly Example"
      ]
    },
    {
      "cell_type": "markdown",
      "metadata": {
        "id": "jumhvz-xd30C"
      },
      "source": [
        "Suppose we have the following $X$ matrix in a regression setting.  Notice that the $1^{st}$ and $2^{nd}$ predictor variable are identical.  Fitting a regression model with these predictors would be **philosophically dumb** as there is no additional information gained from $2^{nd}$ predictor as it is the same as the $1^{st}$ predictor."
      ]
    },
    {
      "cell_type": "markdown",
      "metadata": {
        "id": "Pu8px7gwY3oa"
      },
      "source": [
        "$$X = \\begin{bmatrix}\n",
        "1&6&6&2 \\\\\n",
        "1&10&10&5 \\\\\n",
        "1&12&12&6 \\\\\n",
        "1&15&15&8 \\\\\n",
        "1&18&18&10 \\\\\n",
        "1&20&20&14 \\\\\n",
        "\\end{bmatrix} $$"
      ]
    },
    {
      "cell_type": "code",
      "metadata": {
        "colab": {
          "base_uri": "https://localhost:8080/",
          "height": 272
        },
        "id": "ekhVzkmsY3xB",
        "outputId": "2ce668ec-7475-4ea0-f8a2-3f5636400b06"
      },
      "source": [
        "#Setting up X matrix for silly example\n",
        "x0 = c( 1, 1, 1, 1, 1, 1)\n",
        "x1 = c( 6,10,12,15,18,20)\n",
        "x2 = c( 6,10,12,15,18,20)\n",
        "x3 = c( 2, 5, 6, 8,10,14 )\n",
        "X <- cbind(x0,x1,x2,x3)\n",
        "X"
      ],
      "execution_count": 38,
      "outputs": [
        {
          "output_type": "display_data",
          "data": {
            "text/plain": [
              "     x0 x1 x2 x3\n",
              "[1,] 1   6  6  2\n",
              "[2,] 1  10 10  5\n",
              "[3,] 1  12 12  6\n",
              "[4,] 1  15 15  8\n",
              "[5,] 1  18 18 10\n",
              "[6,] 1  20 20 14"
            ],
            "text/latex": "A matrix: 6 × 4 of type dbl\n\\begin{tabular}{llll}\n x0 & x1 & x2 & x3\\\\\n\\hline\n\t 1 &  6 &  6 &  2\\\\\n\t 1 & 10 & 10 &  5\\\\\n\t 1 & 12 & 12 &  6\\\\\n\t 1 & 15 & 15 &  8\\\\\n\t 1 & 18 & 18 & 10\\\\\n\t 1 & 20 & 20 & 14\\\\\n\\end{tabular}\n",
            "text/markdown": "\nA matrix: 6 × 4 of type dbl\n\n| x0 | x1 | x2 | x3 |\n|---|---|---|---|\n| 1 |  6 |  6 |  2 |\n| 1 | 10 | 10 |  5 |\n| 1 | 12 | 12 |  6 |\n| 1 | 15 | 15 |  8 |\n| 1 | 18 | 18 | 10 |\n| 1 | 20 | 20 | 14 |\n\n",
            "text/html": [
              "<table class=\"dataframe\">\n",
              "<caption>A matrix: 6 × 4 of type dbl</caption>\n",
              "<thead>\n",
              "\t<tr><th scope=col>x0</th><th scope=col>x1</th><th scope=col>x2</th><th scope=col>x3</th></tr>\n",
              "</thead>\n",
              "<tbody>\n",
              "\t<tr><td>1</td><td> 6</td><td> 6</td><td> 2</td></tr>\n",
              "\t<tr><td>1</td><td>10</td><td>10</td><td> 5</td></tr>\n",
              "\t<tr><td>1</td><td>12</td><td>12</td><td> 6</td></tr>\n",
              "\t<tr><td>1</td><td>15</td><td>15</td><td> 8</td></tr>\n",
              "\t<tr><td>1</td><td>18</td><td>18</td><td>10</td></tr>\n",
              "\t<tr><td>1</td><td>20</td><td>20</td><td>14</td></tr>\n",
              "</tbody>\n",
              "</table>\n"
            ]
          },
          "metadata": {}
        }
      ]
    },
    {
      "cell_type": "markdown",
      "metadata": {
        "id": "qJOjU20wbXJt"
      },
      "source": [
        "Next, compute $(X'X)$ which is needed to compute $Var(\\hat{\\bf{\\beta}})$"
      ]
    },
    {
      "cell_type": "code",
      "metadata": {
        "colab": {
          "base_uri": "https://localhost:8080/",
          "height": 192
        },
        "id": "HExDylRVbXYj",
        "outputId": "c284c0d4-14e0-417a-9c3b-e9ef5c0cc32a"
      },
      "source": [
        "#Getting X'X for the silly example\n",
        "XpX <- t(X) %*% X\n",
        "XpX"
      ],
      "execution_count": 40,
      "outputs": [
        {
          "output_type": "display_data",
          "data": {
            "text/plain": [
              "   x0 x1   x2   x3 \n",
              "x0  6   81   81  45\n",
              "x1 81 1229 1229 714\n",
              "x2 81 1229 1229 714\n",
              "x3 45  714  714 425"
            ],
            "text/latex": "A matrix: 4 × 4 of type dbl\n\\begin{tabular}{r|llll}\n  & x0 & x1 & x2 & x3\\\\\n\\hline\n\tx0 &  6 &   81 &   81 &  45\\\\\n\tx1 & 81 & 1229 & 1229 & 714\\\\\n\tx2 & 81 & 1229 & 1229 & 714\\\\\n\tx3 & 45 &  714 &  714 & 425\\\\\n\\end{tabular}\n",
            "text/markdown": "\nA matrix: 4 × 4 of type dbl\n\n| <!--/--> | x0 | x1 | x2 | x3 |\n|---|---|---|---|---|\n| x0 |  6 |   81 |   81 |  45 |\n| x1 | 81 | 1229 | 1229 | 714 |\n| x2 | 81 | 1229 | 1229 | 714 |\n| x3 | 45 |  714 |  714 | 425 |\n\n",
            "text/html": [
              "<table class=\"dataframe\">\n",
              "<caption>A matrix: 4 × 4 of type dbl</caption>\n",
              "<thead>\n",
              "\t<tr><th></th><th scope=col>x0</th><th scope=col>x1</th><th scope=col>x2</th><th scope=col>x3</th></tr>\n",
              "</thead>\n",
              "<tbody>\n",
              "\t<tr><th scope=row>x0</th><td> 6</td><td>  81</td><td>  81</td><td> 45</td></tr>\n",
              "\t<tr><th scope=row>x1</th><td>81</td><td>1229</td><td>1229</td><td>714</td></tr>\n",
              "\t<tr><th scope=row>x2</th><td>81</td><td>1229</td><td>1229</td><td>714</td></tr>\n",
              "\t<tr><th scope=row>x3</th><td>45</td><td> 714</td><td> 714</td><td>425</td></tr>\n",
              "</tbody>\n",
              "</table>\n"
            ]
          },
          "metadata": {}
        }
      ]
    },
    {
      "cell_type": "markdown",
      "metadata": {
        "id": "d5aHX-o3bkNJ"
      },
      "source": [
        "Notice that the 2nd and 3rd row of the $(X'X)$ matrix are identical.  If this happens, the system of equations is singular. Most importantly, this is **computationally dumb** because if a system of equations is singular, an inverse cannot be obtained. \n",
        "$$(X'X) = \\begin{bmatrix}\n",
        "6&81&81&45 \\\\\n",
        "81&1229&1229&714 \\\\\n",
        "81&1229&1229&714 \\\\\n",
        "45&714&714&425 \\\\\n",
        "\\end{bmatrix} $$"
      ]
    },
    {
      "cell_type": "markdown",
      "metadata": {
        "id": "hx47iFs6b168"
      },
      "source": [
        "The following code in R fails as the inverse of a singular matrix cannot be obtained."
      ]
    },
    {
      "cell_type": "code",
      "metadata": {
        "colab": {
          "base_uri": "https://localhost:8080/",
          "height": 151
        },
        "id": "XqtAE06wb2C7",
        "outputId": "949017de-10b5-4e5a-9124-050f51d986b8"
      },
      "source": [
        "XpXinv <- solve(XpX, diag(4))"
      ],
      "execution_count": 41,
      "outputs": [
        {
          "output_type": "error",
          "ename": "ERROR",
          "evalue": "ignored",
          "traceback": [
            "Error in solve.default(XpX, diag(4)): Lapack routine dgesv: system is exactly singular: U[3,3] = 0\nTraceback:\n",
            "1. solve(XpX, diag(4))",
            "2. solve.default(XpX, diag(4))"
          ]
        }
      ]
    },
    {
      "cell_type": "markdown",
      "metadata": {
        "id": "pCrbAhePi9h3"
      },
      "source": [
        "\n",
        "\n",
        "---\n",
        "\n",
        "\n",
        "\n",
        "---\n",
        "\n"
      ]
    },
    {
      "cell_type": "markdown",
      "metadata": {
        "id": "F0y1huSNf-7e"
      },
      "source": [
        "## MN Marriage Amendment Data"
      ]
    },
    {
      "cell_type": "markdown",
      "metadata": {
        "id": "y2muBzBDjD4F"
      },
      "source": [
        "First, let us consider the calulation of the standard errors for the model coefficients for Model #3.\n",
        "\n",
        "Model #3:  $PctYes ∼ PctDemocrat + PctRepublican + PctAge65andOlder$"
      ]
    },
    {
      "cell_type": "markdown",
      "metadata": {
        "id": "WA1Dcs90neKQ"
      },
      "source": [
        "For the data considered in this example, the correlation between $PctDemocrat$ and $PctRepublican$ is very strong (negative).  "
      ]
    },
    {
      "cell_type": "code",
      "metadata": {
        "colab": {
          "base_uri": "https://localhost:8080/",
          "height": 34
        },
        "id": "sVRwvbY8noQO",
        "outputId": "8e913158-a183-4825-a6de-e4d872b101e4"
      },
      "source": [
        "cor(MN_Marriage_Amendment$Pct_Democrat, MN_Marriage_Amendment$Pct_Republican)"
      ],
      "execution_count": 47,
      "outputs": [
        {
          "output_type": "display_data",
          "data": {
            "text/plain": [
              "[1] -0.9989434"
            ],
            "text/latex": "-0.998943418597169",
            "text/markdown": "-0.998943418597169",
            "text/html": [
              "-0.998943418597169"
            ]
          },
          "metadata": {}
        }
      ]
    },
    {
      "cell_type": "markdown",
      "metadata": {
        "id": "Bp5j25HYgGFb"
      },
      "source": [
        "Recall, the standard errors for the model coefficients are simply the diagonal elments of $Var(\\hat{\\bf{\\beta}}) = \\hat{\\sigma}^{2} (X'X)^{-1}$, i.e. the variance / covariance matrix of the estimated effects from the model."
      ]
    },
    {
      "cell_type": "code",
      "metadata": {
        "colab": {
          "base_uri": "https://localhost:8080/",
          "height": 192
        },
        "id": "k7eDByu0dwBU",
        "outputId": "71607369-4567-40ac-a5d2-9d8654739f60"
      },
      "source": [
        "#Setting up the X matrix\n",
        "x0 = rep(1,87)\n",
        "x1=MN_Marriage_Amendment$Pct_Democrat\n",
        "x2=MN_Marriage_Amendment$Pct_Republican\n",
        "x3=MN_Marriage_Amendment$Pct_Age65andOlder\n",
        "X <- cbind(x0,x1,x2,x3)\n",
        "\n",
        "#Getting X'X\n",
        "XpX <- t(X)%*%X\n",
        "XpX\n"
      ],
      "execution_count": 50,
      "outputs": [
        {
          "output_type": "display_data",
          "data": {
            "text/plain": [
              "   x0     x1        x2        x3      \n",
              "x0   87.0   4072.60   4447.30  1541.70\n",
              "x1 4072.6 194844.00 203949.61 72124.01\n",
              "x2 4447.3 203949.61 231618.95 78862.83\n",
              "x3 1541.7  72124.01  78862.83 28880.63"
            ],
            "text/latex": "A matrix: 4 × 4 of type dbl\n\\begin{tabular}{r|llll}\n  & x0 & x1 & x2 & x3\\\\\n\\hline\n\tx0 &   87.0 &   4072.60 &   4447.30 &  1541.70\\\\\n\tx1 & 4072.6 & 194844.00 & 203949.61 & 72124.01\\\\\n\tx2 & 4447.3 & 203949.61 & 231618.95 & 78862.83\\\\\n\tx3 & 1541.7 &  72124.01 &  78862.83 & 28880.63\\\\\n\\end{tabular}\n",
            "text/markdown": "\nA matrix: 4 × 4 of type dbl\n\n| <!--/--> | x0 | x1 | x2 | x3 |\n|---|---|---|---|---|\n| x0 |   87.0 |   4072.60 |   4447.30 |  1541.70 |\n| x1 | 4072.6 | 194844.00 | 203949.61 | 72124.01 |\n| x2 | 4447.3 | 203949.61 | 231618.95 | 78862.83 |\n| x3 | 1541.7 |  72124.01 |  78862.83 | 28880.63 |\n\n",
            "text/html": [
              "<table class=\"dataframe\">\n",
              "<caption>A matrix: 4 × 4 of type dbl</caption>\n",
              "<thead>\n",
              "\t<tr><th></th><th scope=col>x0</th><th scope=col>x1</th><th scope=col>x2</th><th scope=col>x3</th></tr>\n",
              "</thead>\n",
              "<tbody>\n",
              "\t<tr><th scope=row>x0</th><td>  87.0</td><td>  4072.60</td><td>  4447.30</td><td> 1541.70</td></tr>\n",
              "\t<tr><th scope=row>x1</th><td>4072.6</td><td>194844.00</td><td>203949.61</td><td>72124.01</td></tr>\n",
              "\t<tr><th scope=row>x2</th><td>4447.3</td><td>203949.61</td><td>231618.95</td><td>78862.83</td></tr>\n",
              "\t<tr><th scope=row>x3</th><td>1541.7</td><td> 72124.01</td><td> 78862.83</td><td>28880.63</td></tr>\n",
              "</tbody>\n",
              "</table>\n"
            ]
          },
          "metadata": {}
        }
      ]
    },
    {
      "cell_type": "markdown",
      "metadata": {
        "id": "ItW8c6qnl0PX"
      },
      "source": [
        "The $(X'X)$ matrix is given by the following.\n",
        "\n",
        "$$(X'X) = \\begin{bmatrix}\n",
        "87.0&4072.6&4447.3&1541.7 \\\\\n",
        "4072.6&194844.00&203949.61&72124.01 \\\\\n",
        "4447.3&203949.61&231618.95&78862.83 \\\\\n",
        "1541.7&72124.01&78862.83&28880.63 \\\\\n",
        "\\end{bmatrix} $$\n",
        "\n"
      ]
    },
    {
      "cell_type": "markdown",
      "metadata": {
        "id": "j3PKOrsBlogw"
      },
      "source": [
        "Notice that the 2nd and 3rd row of the $(X'X)$ matrix are not identical, but the values in these two rows are fairly close to one another.  This system of equations is near singular which are likley to cause issues when computing an inverse.  \n",
        "\n",
        "The following code will compute the variance of the estimated model parameters.  The inverse can be computed because the system of equations is not <i>exactly</i> singular; however, some would indicate that the calculations for the inverse are likley unstable."
      ]
    },
    {
      "cell_type": "code",
      "metadata": {
        "colab": {
          "base_uri": "https://localhost:8080/",
          "height": 160
        },
        "id": "77G9HrWUlool",
        "outputId": "66feff61-1504-4993-c5ed-8c45127a97f1"
      },
      "source": [
        "#Getting X'X Inv\n",
        "XpXinv <- solve(XpX, diag(4))\n",
        "\n",
        "#Getting Var(Beta_hat)\n",
        "Var_BetaHat = (4.705^2) * XpXinv\n",
        "Var_BetaHat"
      ],
      "execution_count": 49,
      "outputs": [
        {
          "output_type": "display_data",
          "data": {
            "text/plain": [
              "   [,1]          [,2]          [,3]          [,4]       \n",
              "x0 23754.0940712 -243.92953088 -241.64251832  0.97303757\n",
              "x1  -243.9295309    2.50678940    2.48060065 -0.01249051\n",
              "x2  -241.6425183    2.48060065    2.45985976 -0.01253775\n",
              "x3     0.9730376   -0.01249051   -0.01253775  0.01425290"
            ],
            "text/latex": "A matrix: 4 × 4 of type dbl\n\\begin{tabular}{r|llll}\n\tx0 & 23754.0940712 & -243.92953088 & -241.64251832 &  0.97303757\\\\\n\tx1 &  -243.9295309 &    2.50678940 &    2.48060065 & -0.01249051\\\\\n\tx2 &  -241.6425183 &    2.48060065 &    2.45985976 & -0.01253775\\\\\n\tx3 &     0.9730376 &   -0.01249051 &   -0.01253775 &  0.01425290\\\\\n\\end{tabular}\n",
            "text/markdown": "\nA matrix: 4 × 4 of type dbl\n\n| x0 | 23754.0940712 | -243.92953088 | -241.64251832 |  0.97303757 |\n| x1 |  -243.9295309 |    2.50678940 |    2.48060065 | -0.01249051 |\n| x2 |  -241.6425183 |    2.48060065 |    2.45985976 | -0.01253775 |\n| x3 |     0.9730376 |   -0.01249051 |   -0.01253775 |  0.01425290 |\n\n",
            "text/html": [
              "<table class=\"dataframe\">\n",
              "<caption>A matrix: 4 × 4 of type dbl</caption>\n",
              "<tbody>\n",
              "\t<tr><th scope=row>x0</th><td>23754.0940712</td><td>-243.92953088</td><td>-241.64251832</td><td> 0.97303757</td></tr>\n",
              "\t<tr><th scope=row>x1</th><td> -243.9295309</td><td>   2.50678940</td><td>   2.48060065</td><td>-0.01249051</td></tr>\n",
              "\t<tr><th scope=row>x2</th><td> -241.6425183</td><td>   2.48060065</td><td>   2.45985976</td><td>-0.01253775</td></tr>\n",
              "\t<tr><th scope=row>x3</th><td>    0.9730376</td><td>  -0.01249051</td><td>  -0.01253775</td><td> 0.01425290</td></tr>\n",
              "</tbody>\n",
              "</table>\n"
            ]
          },
          "metadata": {}
        }
      ]
    },
    {
      "cell_type": "markdown",
      "metadata": {
        "id": "yST4YE0Xhls1"
      },
      "source": [
        "The standard errors for the estimated model parameters for Model #3.\n",
        "\n",
        "*   $Std. \\, Error(\\hat{\\beta}_{1}) = \\sqrt{2.50678940} = 1.5834$\n",
        "*   $Std. \\, Error(\\hat{\\beta}_{2}) = \\sqrt{2.45985976} = 1.5685$\n",
        "*   $Std. \\, Error(\\hat{\\beta}_{3}) = \\sqrt{0.1425290} = 0.1194$\n",
        "\n"
      ]
    },
    {
      "cell_type": "markdown",
      "metadata": {
        "id": "tk1g2daaiRJd"
      },
      "source": [
        "Next, let us consider the calulation of the standard errors for the model coefficients for Model #1 (without $PctRepublican$).\n",
        "\n",
        "Model #1:  $PctYes∼PctDemocrat + PctAge65andOlder$"
      ]
    },
    {
      "cell_type": "code",
      "metadata": {
        "colab": {
          "base_uri": "https://localhost:8080/",
          "height": 128
        },
        "id": "YB4ITOtjiRPs",
        "outputId": "a1c29589-6b19-42bf-cdd3-75b0f0aec43e"
      },
      "source": [
        "#Setting up the X matrix\n",
        "x0 = rep(1,87)\n",
        "x1=MN_Marriage_Amendment$Pct_Democrat\n",
        "x3=MN_Marriage_Amendment$Pct_Age65andOlder\n",
        "X <- cbind(x0,x1,x3)\n",
        "\n",
        "#Getting X'X\n",
        "XpX <- t(X)%*%X\n",
        "\n",
        "#Getting X'X Inv\n",
        "XpXinv <- solve(XpX, diag(3))\n",
        "\n",
        "#Getting Var(Beta_hat)\n",
        "Var_BetaHat = (4.695^2) * XpXinv\n",
        "Var_BetaHat"
      ],
      "execution_count": 45,
      "outputs": [
        {
          "output_type": "display_data",
          "data": {
            "text/plain": [
              "   [,1]       [,2]          [,3]         \n",
              "x0 16.4485181 -0.2484872162 -0.2575008217\n",
              "x1 -0.2484872  0.0052505954  0.0001523078\n",
              "x3 -0.2575008  0.0001523078  0.0141287428"
            ],
            "text/latex": "A matrix: 3 × 3 of type dbl\n\\begin{tabular}{r|lll}\n\tx0 & 16.4485181 & -0.2484872162 & -0.2575008217\\\\\n\tx1 & -0.2484872 &  0.0052505954 &  0.0001523078\\\\\n\tx3 & -0.2575008 &  0.0001523078 &  0.0141287428\\\\\n\\end{tabular}\n",
            "text/markdown": "\nA matrix: 3 × 3 of type dbl\n\n| x0 | 16.4485181 | -0.2484872162 | -0.2575008217 |\n| x1 | -0.2484872 |  0.0052505954 |  0.0001523078 |\n| x3 | -0.2575008 |  0.0001523078 |  0.0141287428 |\n\n",
            "text/html": [
              "<table class=\"dataframe\">\n",
              "<caption>A matrix: 3 × 3 of type dbl</caption>\n",
              "<tbody>\n",
              "\t<tr><th scope=row>x0</th><td>16.4485181</td><td>-0.2484872162</td><td>-0.2575008217</td></tr>\n",
              "\t<tr><th scope=row>x1</th><td>-0.2484872</td><td> 0.0052505954</td><td> 0.0001523078</td></tr>\n",
              "\t<tr><th scope=row>x3</th><td>-0.2575008</td><td> 0.0001523078</td><td> 0.0141287428</td></tr>\n",
              "</tbody>\n",
              "</table>\n"
            ]
          },
          "metadata": {}
        }
      ]
    },
    {
      "cell_type": "markdown",
      "metadata": {
        "id": "fG8GaSs7ip0e"
      },
      "source": [
        "The standard errors for the estimated model parameters for Model #1.\n",
        "\n",
        "*    $Std. \\, Error(\\hat{\\beta}_{1}) = \\sqrt{0.0052505954} = 0.07247$\n",
        "*    $Std. \\, Error(\\hat{\\beta}_{3}) = \\sqrt{0.0141287428} = 0.11887$\n"
      ]
    },
    {
      "cell_type": "markdown",
      "metadata": {
        "id": "0rLpjbbEXUUa"
      },
      "source": [
        "Notice, that the $Std \\, Dev(\\hat{\\beta}_{1})$ from Model #1 is considerably lower than Model #3.  The reason this is the case is that Model #3 suffers from multicollinearity.\n"
      ]
    },
    {
      "cell_type": "markdown",
      "metadata": {
        "id": "f35ZmDxdojgQ"
      },
      "source": [
        "<strong><u>Moral of the Story</strong></u>: It is **philosophically** and **computational dumb** to ignore issues related to multicollinarity when building regression models."
      ]
    },
    {
      "cell_type": "markdown",
      "metadata": {
        "id": "9kkg1lL30Rfw"
      },
      "source": [
        "End of Document"
      ]
    }
  ]
}