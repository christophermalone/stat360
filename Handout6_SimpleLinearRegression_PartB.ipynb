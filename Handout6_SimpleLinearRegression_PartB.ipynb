{
  "nbformat": 4,
  "nbformat_minor": 0,
  "metadata": {
    "colab": {
      "provenance": [],
      "collapsed_sections": [],
      "authorship_tag": "ABX9TyPuaFXv09PdYOhyeJkfirXj",
      "include_colab_link": true
    },
    "kernelspec": {
      "name": "ir",
      "display_name": "R"
    }
  },
  "cells": [
    {
      "cell_type": "markdown",
      "metadata": {
        "id": "view-in-github",
        "colab_type": "text"
      },
      "source": [
        "<a href=\"https://colab.research.google.com/github/christophermalone/stat360/blob/main/Handout6_SimpleLinearRegression_PartB.ipynb\" target=\"_parent\"><img src=\"https://colab.research.google.com/assets/colab-badge.svg\" alt=\"Open In Colab\"/></a>"
      ]
    },
    {
      "cell_type": "markdown",
      "metadata": {
        "id": "KhClO9b02SXA"
      },
      "source": [
        "# Handout #6 - Part B : Understanding a Standard Error"
      ]
    },
    {
      "cell_type": "markdown",
      "metadata": {
        "id": "AXDYLbzK2o7e"
      },
      "source": [
        "<table width='100%' ><tr><td bgcolor='green'></td></tr></table>\n",
        "\n",
        "## Example 6.1\n",
        "\n",
        "Consider data on the home prices of homes in La Crosse and Winona.  This data was collected using Redfin website. \n",
        "<table>\n",
        "  <tr>\n",
        "    <td width='50%'>\n",
        "      <ul>\n",
        "        <li><strong>Response Variable</strong>: PRICE ($) </li><br>\n",
        "        <li>Variables under investigation (i.e. independent variables)</li>\n",
        "        <ul>\n",
        "          <li>SQUAREFEET, the size of the home (ft^2)</li>\n",
        "          <li>BEDS, number of bedrooms in home</li>\n",
        "          <li>BATHS, number of bathrooms in home</li>\n",
        "          <li>LOTSIZE, the size of the lot (ft^2)</li>\n",
        "          <li>YEARBUILT, the year in which the home was built</li>\n",
        "         </ul>\n",
        "    </ul>\n",
        "    </td>\n",
        "    <td width='50%'>\n",
        "<p align='center'><img src=\"https://drive.google.com/uc?export=view&id=1KiZ5CvmWwvDg4HSPX7FwRsQTUMtvv0gG\" width='50%' height='50%'></img></p>\n",
        "  </td>\n",
        "</tr>\n",
        "</table>\n",
        "\n",
        "Data Folder: [OneDrive](https://mnscu-my.sharepoint.com/:f:/g/personal/aq7839yd_minnstate_edu/EmOQfrwxzzRBqq8PH_8qTmMBy-1qKgM11Hb8vzjs025EEA?e=wyShYs)\n",
        "\n",
        "Redfin Data: <a href=\"https://www.redfin.com/city/10404/WI/La-Crosse\">La Crosse WI</a> | <a href=\"https://www.redfin.com/city/18151/MN/Winona\">Winona MN</a></li>\n",
        "\n",
        "<table width='100%' ><tr><td bgcolor='green'></td></tr></table>\n",
        "\n"
      ]
    },
    {
      "cell_type": "markdown",
      "metadata": {
        "id": "njXGRUIC9Lgs"
      },
      "source": [
        "## Load Data into R via URL"
      ]
    },
    {
      "cell_type": "markdown",
      "source": [
        "The tidyverse R package will be used to assist with reading in the dataset into the current R session."
      ],
      "metadata": {
        "id": "atyKkkUuKQkD"
      }
    },
    {
      "cell_type": "code",
      "metadata": {
        "id": "LgaibuX_DtWK",
        "colab": {
          "base_uri": "https://localhost:8080/"
        },
        "outputId": "7812e829-8c89-4ab2-ca5b-f3174887f472"
      },
      "source": [
        "#load tidyverse package\n",
        "library(tidyverse)"
      ],
      "execution_count": 2,
      "outputs": [
        {
          "output_type": "stream",
          "name": "stderr",
          "text": [
            "Warning message in system(\"timedatectl\", intern = TRUE):\n",
            "“running command 'timedatectl' had status 1”\n",
            "── \u001b[1mAttaching packages\u001b[22m ─────────────────────────────────────── tidyverse 1.3.1 ──\n",
            "\n",
            "\u001b[32m✔\u001b[39m \u001b[34mggplot2\u001b[39m 3.3.6      \u001b[32m✔\u001b[39m \u001b[34mpurrr  \u001b[39m 0.3.4 \n",
            "\u001b[32m✔\u001b[39m \u001b[34mtibble \u001b[39m 3.1.7      \u001b[32m✔\u001b[39m \u001b[34mdplyr  \u001b[39m 1.0.10\n",
            "\u001b[32m✔\u001b[39m \u001b[34mtidyr  \u001b[39m 1.2.1      \u001b[32m✔\u001b[39m \u001b[34mstringr\u001b[39m 1.4.1 \n",
            "\u001b[32m✔\u001b[39m \u001b[34mreadr  \u001b[39m 2.1.2      \u001b[32m✔\u001b[39m \u001b[34mforcats\u001b[39m 0.5.2 \n",
            "\n",
            "── \u001b[1mConflicts\u001b[22m ────────────────────────────────────────── tidyverse_conflicts() ──\n",
            "\u001b[31m✖\u001b[39m \u001b[34mdplyr\u001b[39m::\u001b[32mfilter()\u001b[39m masks \u001b[34mstats\u001b[39m::filter()\n",
            "\u001b[31m✖\u001b[39m \u001b[34mdplyr\u001b[39m::\u001b[32mlag()\u001b[39m    masks \u001b[34mstats\u001b[39m::lag()\n",
            "\n"
          ]
        }
      ]
    },
    {
      "cell_type": "markdown",
      "metadata": {
        "id": "DPqIPen9D5T3"
      },
      "source": [
        "The **read_csv()** function is used to read in the dataset. "
      ]
    },
    {
      "cell_type": "code",
      "metadata": {
        "id": "e07lUbQ1F1cV",
        "colab": {
          "base_uri": "https://localhost:8080/"
        },
        "outputId": "6d6d450c-0f85-47b5-af8a-3a21a4f10119"
      },
      "source": [
        "# Reading data in using read.csv via Base \n",
        "LaCrosseWinonaHomePrices <- read_csv(\"http://www.StatsClass.org/stat360/Datasets/LaCrosse_Winona_Redfin.csv\")"
      ],
      "execution_count": 3,
      "outputs": [
        {
          "output_type": "stream",
          "name": "stderr",
          "text": [
            "\u001b[1mRows: \u001b[22m\u001b[34m67\u001b[39m \u001b[1mColumns: \u001b[22m\u001b[34m27\u001b[39m\n",
            "\u001b[36m──\u001b[39m \u001b[1mColumn specification\u001b[22m \u001b[36m────────────────────────────────────────────────────────\u001b[39m\n",
            "\u001b[1mDelimiter:\u001b[22m \",\"\n",
            "\u001b[31mchr\u001b[39m (13): SALETYPE, PROPERTYTYPE, ADDRESS, CITY, STATE, LOCATION, STATUS, NE...\n",
            "\u001b[32mdbl\u001b[39m (13): ZIPCODE, PRICE, BEDS, BATHS, SQUAREFEET, LOTSIZE, YEARBUILT, DAYSO...\n",
            "\u001b[33mlgl\u001b[39m  (1): SOLDDATE\n",
            "\n",
            "\u001b[36mℹ\u001b[39m Use `spec()` to retrieve the full column specification for this data.\n",
            "\u001b[36mℹ\u001b[39m Specify the column types or set `show_col_types = FALSE` to quiet this message.\n"
          ]
        }
      ]
    },
    {
      "cell_type": "code",
      "metadata": {
        "id": "HYKWH2i0EN6s",
        "colab": {
          "base_uri": "https://localhost:8080/",
          "height": 514
        },
        "outputId": "39d6d8d0-5e87-4b7c-ab1e-40183862c447"
      },
      "source": [
        "# quick look at the data\n",
        "head(LaCrosseWinonaHomePrices)"
      ],
      "execution_count": 4,
      "outputs": [
        {
          "output_type": "display_data",
          "data": {
            "text/html": [
              "<table class=\"dataframe\">\n",
              "<caption>A tibble: 6 × 27</caption>\n",
              "<thead>\n",
              "\t<tr><th scope=col>SALETYPE</th><th scope=col>SOLDDATE</th><th scope=col>PROPERTYTYPE</th><th scope=col>ADDRESS</th><th scope=col>CITY</th><th scope=col>STATE</th><th scope=col>ZIPCODE</th><th scope=col>PRICE</th><th scope=col>BEDS</th><th scope=col>BATHS</th><th scope=col>⋯</th><th scope=col>STATUS</th><th scope=col>NEXTOPENHOUSESTARTTIME</th><th scope=col>NEXTOPENHOUSEENDTIME</th><th scope=col>URL</th><th scope=col>SOURCE</th><th scope=col>MLSNumber</th><th scope=col>FAVORITE</th><th scope=col>INTERESTED</th><th scope=col>LATITUDE</th><th scope=col>LONGITUDE</th></tr>\n",
              "\t<tr><th scope=col>&lt;chr&gt;</th><th scope=col>&lt;lgl&gt;</th><th scope=col>&lt;chr&gt;</th><th scope=col>&lt;chr&gt;</th><th scope=col>&lt;chr&gt;</th><th scope=col>&lt;chr&gt;</th><th scope=col>&lt;dbl&gt;</th><th scope=col>&lt;dbl&gt;</th><th scope=col>&lt;dbl&gt;</th><th scope=col>&lt;dbl&gt;</th><th scope=col>⋯</th><th scope=col>&lt;chr&gt;</th><th scope=col>&lt;chr&gt;</th><th scope=col>&lt;chr&gt;</th><th scope=col>&lt;chr&gt;</th><th scope=col>&lt;chr&gt;</th><th scope=col>&lt;dbl&gt;</th><th scope=col>&lt;chr&gt;</th><th scope=col>&lt;chr&gt;</th><th scope=col>&lt;dbl&gt;</th><th scope=col>&lt;dbl&gt;</th></tr>\n",
              "</thead>\n",
              "<tbody>\n",
              "\t<tr><td>MLS Listing</td><td>NA</td><td>Single Family Residential</td><td>2504 Prospect St </td><td>La Crosse</td><td>WI</td><td>54603</td><td>224900</td><td>3</td><td>2.0</td><td>⋯</td><td>Active       </td><td>NA                        </td><td>NA                        </td><td>https://www.redfin.com/WI/La-Crosse/2504-Prospect-St-54603/home/57710601</td><td>METROMLS    </td><td>1811675</td><td>N</td><td>Y</td><td>43.85815</td><td>-91.23536</td></tr>\n",
              "\t<tr><td>MLS Listing</td><td>NA</td><td>Single Family Residential</td><td>2205 Johnson St  </td><td>La Crosse</td><td>WI</td><td>54601</td><td>219900</td><td>2</td><td>2.0</td><td>⋯</td><td>Active       </td><td>NA                        </td><td>NA                        </td><td>https://www.redfin.com/WI/La-Crosse/2205-Johnson-St-54601/home/57970153 </td><td>METROMLS    </td><td>1811671</td><td>N</td><td>Y</td><td>43.80073</td><td>-91.22238</td></tr>\n",
              "\t<tr><td>MLS Listing</td><td>NA</td><td>Single Family Residential</td><td>40633 Lamoille Dr</td><td>Winona   </td><td>MN</td><td>55987</td><td>294900</td><td>3</td><td>2.0</td><td>⋯</td><td>Pre On-Market</td><td>NA                        </td><td>NA                        </td><td>https://www.redfin.com/MN/Winona/40633-Lamoille-Dr-55987/home/55910942  </td><td>NORTHSTARMLS</td><td>6260624</td><td>N</td><td>Y</td><td>44.00056</td><td>-91.46975</td></tr>\n",
              "\t<tr><td>MLS Listing</td><td>NA</td><td>Single Family Residential</td><td>730 Harvey St    </td><td>La Crosse</td><td>WI</td><td>54603</td><td>339000</td><td>3</td><td>2.5</td><td>⋯</td><td>Active       </td><td>NA                        </td><td>NA                        </td><td>https://www.redfin.com/WI/La-Crosse/730-Harvey-St-54603/home/58008728   </td><td>METROMLS    </td><td>1811603</td><td>N</td><td>Y</td><td>43.83566</td><td>-91.23375</td></tr>\n",
              "\t<tr><td>MLS Listing</td><td>NA</td><td>Single Family Residential</td><td>515 Losey Blvd N </td><td>La Crosse</td><td>WI</td><td>54601</td><td>379900</td><td>3</td><td>3.5</td><td>⋯</td><td>Active       </td><td>September-25-2022 01:00 PM</td><td>September-25-2022 02:30 PM</td><td>https://www.redfin.com/WI/La-Crosse/515-Losey-Blvd-N-54601/home/89277469</td><td>METROMLS    </td><td>1811572</td><td>N</td><td>Y</td><td>43.81707</td><td>-91.21970</td></tr>\n",
              "\t<tr><td>MLS Listing</td><td>NA</td><td>Single Family Residential</td><td>3355 Peace St    </td><td>La Crosse</td><td>WI</td><td>54601</td><td>274900</td><td>3</td><td>2.0</td><td>⋯</td><td>Active       </td><td>NA                        </td><td>NA                        </td><td>https://www.redfin.com/WI/La-Crosse/3355-Peace-St-54601/home/89290885   </td><td>METROMLS    </td><td>1811563</td><td>N</td><td>Y</td><td>43.76875</td><td>-91.20766</td></tr>\n",
              "</tbody>\n",
              "</table>\n"
            ],
            "text/markdown": "\nA tibble: 6 × 27\n\n| SALETYPE &lt;chr&gt; | SOLDDATE &lt;lgl&gt; | PROPERTYTYPE &lt;chr&gt; | ADDRESS &lt;chr&gt; | CITY &lt;chr&gt; | STATE &lt;chr&gt; | ZIPCODE &lt;dbl&gt; | PRICE &lt;dbl&gt; | BEDS &lt;dbl&gt; | BATHS &lt;dbl&gt; | ⋯ ⋯ | STATUS &lt;chr&gt; | NEXTOPENHOUSESTARTTIME &lt;chr&gt; | NEXTOPENHOUSEENDTIME &lt;chr&gt; | URL &lt;chr&gt; | SOURCE &lt;chr&gt; | MLSNumber &lt;dbl&gt; | FAVORITE &lt;chr&gt; | INTERESTED &lt;chr&gt; | LATITUDE &lt;dbl&gt; | LONGITUDE &lt;dbl&gt; |\n|---|---|---|---|---|---|---|---|---|---|---|---|---|---|---|---|---|---|---|---|---|\n| MLS Listing | NA | Single Family Residential | 2504 Prospect St  | La Crosse | WI | 54603 | 224900 | 3 | 2.0 | ⋯ | Active        | NA                         | NA                         | https://www.redfin.com/WI/La-Crosse/2504-Prospect-St-54603/home/57710601 | METROMLS     | 1811675 | N | Y | 43.85815 | -91.23536 |\n| MLS Listing | NA | Single Family Residential | 2205 Johnson St   | La Crosse | WI | 54601 | 219900 | 2 | 2.0 | ⋯ | Active        | NA                         | NA                         | https://www.redfin.com/WI/La-Crosse/2205-Johnson-St-54601/home/57970153  | METROMLS     | 1811671 | N | Y | 43.80073 | -91.22238 |\n| MLS Listing | NA | Single Family Residential | 40633 Lamoille Dr | Winona    | MN | 55987 | 294900 | 3 | 2.0 | ⋯ | Pre On-Market | NA                         | NA                         | https://www.redfin.com/MN/Winona/40633-Lamoille-Dr-55987/home/55910942   | NORTHSTARMLS | 6260624 | N | Y | 44.00056 | -91.46975 |\n| MLS Listing | NA | Single Family Residential | 730 Harvey St     | La Crosse | WI | 54603 | 339000 | 3 | 2.5 | ⋯ | Active        | NA                         | NA                         | https://www.redfin.com/WI/La-Crosse/730-Harvey-St-54603/home/58008728    | METROMLS     | 1811603 | N | Y | 43.83566 | -91.23375 |\n| MLS Listing | NA | Single Family Residential | 515 Losey Blvd N  | La Crosse | WI | 54601 | 379900 | 3 | 3.5 | ⋯ | Active        | September-25-2022 01:00 PM | September-25-2022 02:30 PM | https://www.redfin.com/WI/La-Crosse/515-Losey-Blvd-N-54601/home/89277469 | METROMLS     | 1811572 | N | Y | 43.81707 | -91.21970 |\n| MLS Listing | NA | Single Family Residential | 3355 Peace St     | La Crosse | WI | 54601 | 274900 | 3 | 2.0 | ⋯ | Active        | NA                         | NA                         | https://www.redfin.com/WI/La-Crosse/3355-Peace-St-54601/home/89290885    | METROMLS     | 1811563 | N | Y | 43.76875 | -91.20766 |\n\n",
            "text/latex": "A tibble: 6 × 27\n\\begin{tabular}{lllllllllllllllllllll}\n SALETYPE & SOLDDATE & PROPERTYTYPE & ADDRESS & CITY & STATE & ZIPCODE & PRICE & BEDS & BATHS & ⋯ & STATUS & NEXTOPENHOUSESTARTTIME & NEXTOPENHOUSEENDTIME & URL & SOURCE & MLSNumber & FAVORITE & INTERESTED & LATITUDE & LONGITUDE\\\\\n <chr> & <lgl> & <chr> & <chr> & <chr> & <chr> & <dbl> & <dbl> & <dbl> & <dbl> & ⋯ & <chr> & <chr> & <chr> & <chr> & <chr> & <dbl> & <chr> & <chr> & <dbl> & <dbl>\\\\\n\\hline\n\t MLS Listing & NA & Single Family Residential & 2504 Prospect St  & La Crosse & WI & 54603 & 224900 & 3 & 2.0 & ⋯ & Active        & NA                         & NA                         & https://www.redfin.com/WI/La-Crosse/2504-Prospect-St-54603/home/57710601 & METROMLS     & 1811675 & N & Y & 43.85815 & -91.23536\\\\\n\t MLS Listing & NA & Single Family Residential & 2205 Johnson St   & La Crosse & WI & 54601 & 219900 & 2 & 2.0 & ⋯ & Active        & NA                         & NA                         & https://www.redfin.com/WI/La-Crosse/2205-Johnson-St-54601/home/57970153  & METROMLS     & 1811671 & N & Y & 43.80073 & -91.22238\\\\\n\t MLS Listing & NA & Single Family Residential & 40633 Lamoille Dr & Winona    & MN & 55987 & 294900 & 3 & 2.0 & ⋯ & Pre On-Market & NA                         & NA                         & https://www.redfin.com/MN/Winona/40633-Lamoille-Dr-55987/home/55910942   & NORTHSTARMLS & 6260624 & N & Y & 44.00056 & -91.46975\\\\\n\t MLS Listing & NA & Single Family Residential & 730 Harvey St     & La Crosse & WI & 54603 & 339000 & 3 & 2.5 & ⋯ & Active        & NA                         & NA                         & https://www.redfin.com/WI/La-Crosse/730-Harvey-St-54603/home/58008728    & METROMLS     & 1811603 & N & Y & 43.83566 & -91.23375\\\\\n\t MLS Listing & NA & Single Family Residential & 515 Losey Blvd N  & La Crosse & WI & 54601 & 379900 & 3 & 3.5 & ⋯ & Active        & September-25-2022 01:00 PM & September-25-2022 02:30 PM & https://www.redfin.com/WI/La-Crosse/515-Losey-Blvd-N-54601/home/89277469 & METROMLS     & 1811572 & N & Y & 43.81707 & -91.21970\\\\\n\t MLS Listing & NA & Single Family Residential & 3355 Peace St     & La Crosse & WI & 54601 & 274900 & 3 & 2.0 & ⋯ & Active        & NA                         & NA                         & https://www.redfin.com/WI/La-Crosse/3355-Peace-St-54601/home/89290885    & METROMLS     & 1811563 & N & Y & 43.76875 & -91.20766\\\\\n\\end{tabular}\n",
            "text/plain": [
              "  SALETYPE    SOLDDATE PROPERTYTYPE              ADDRESS           CITY     \n",
              "1 MLS Listing NA       Single Family Residential 2504 Prospect St  La Crosse\n",
              "2 MLS Listing NA       Single Family Residential 2205 Johnson St   La Crosse\n",
              "3 MLS Listing NA       Single Family Residential 40633 Lamoille Dr Winona   \n",
              "4 MLS Listing NA       Single Family Residential 730 Harvey St     La Crosse\n",
              "5 MLS Listing NA       Single Family Residential 515 Losey Blvd N  La Crosse\n",
              "6 MLS Listing NA       Single Family Residential 3355 Peace St     La Crosse\n",
              "  STATE ZIPCODE PRICE  BEDS BATHS ⋯ STATUS        NEXTOPENHOUSESTARTTIME    \n",
              "1 WI    54603   224900 3    2.0   ⋯ Active        NA                        \n",
              "2 WI    54601   219900 2    2.0   ⋯ Active        NA                        \n",
              "3 MN    55987   294900 3    2.0   ⋯ Pre On-Market NA                        \n",
              "4 WI    54603   339000 3    2.5   ⋯ Active        NA                        \n",
              "5 WI    54601   379900 3    3.5   ⋯ Active        September-25-2022 01:00 PM\n",
              "6 WI    54601   274900 3    2.0   ⋯ Active        NA                        \n",
              "  NEXTOPENHOUSEENDTIME      \n",
              "1 NA                        \n",
              "2 NA                        \n",
              "3 NA                        \n",
              "4 NA                        \n",
              "5 September-25-2022 02:30 PM\n",
              "6 NA                        \n",
              "  URL                                                                     \n",
              "1 https://www.redfin.com/WI/La-Crosse/2504-Prospect-St-54603/home/57710601\n",
              "2 https://www.redfin.com/WI/La-Crosse/2205-Johnson-St-54601/home/57970153 \n",
              "3 https://www.redfin.com/MN/Winona/40633-Lamoille-Dr-55987/home/55910942  \n",
              "4 https://www.redfin.com/WI/La-Crosse/730-Harvey-St-54603/home/58008728   \n",
              "5 https://www.redfin.com/WI/La-Crosse/515-Losey-Blvd-N-54601/home/89277469\n",
              "6 https://www.redfin.com/WI/La-Crosse/3355-Peace-St-54601/home/89290885   \n",
              "  SOURCE       MLSNumber FAVORITE INTERESTED LATITUDE LONGITUDE\n",
              "1 METROMLS     1811675   N        Y          43.85815 -91.23536\n",
              "2 METROMLS     1811671   N        Y          43.80073 -91.22238\n",
              "3 NORTHSTARMLS 6260624   N        Y          44.00056 -91.46975\n",
              "4 METROMLS     1811603   N        Y          43.83566 -91.23375\n",
              "5 METROMLS     1811572   N        Y          43.81707 -91.21970\n",
              "6 METROMLS     1811563   N        Y          43.76875 -91.20766"
            ]
          },
          "metadata": {}
        }
      ]
    },
    {
      "cell_type": "markdown",
      "source": [
        "##  Importance of Understanding Variation"
      ],
      "metadata": {
        "id": "mfp7HPTMK376"
      }
    },
    {
      "cell_type": "markdown",
      "source": [
        "An important component of many statistical investigations is **inferential methods**.  Inferential methods permit us to draw conclusions about a population based on a sample.   Consider the following depections where interest lies in Home Prices. "
      ],
      "metadata": {
        "id": "wVERkQyqrImS"
      }
    },
    {
      "cell_type": "markdown",
      "source": [
        "<table border=\"0\" align=\"center\">\n",
        "<tr>\n",
        "  <td width=\"50%\" align=\"center\" valign=\"bottom\" bgcolor=\"white\"><font size=\"+2\">Population Side</font><br>True Home Price - All Homes<br><img src=\"https://drive.google.com/uc?export=view&id=1A08uXuaBX1rz3L3fNJ4VIOMEKF2idk_4\"></img>\n",
        "  </td>\n",
        "  <td width=\"50%\" align=\"center\" valign=\"bottom\" bgcolor=\"white\"><font size=\"+2\">Sample Side</font><br>An Estimate of the Home Price<br><img src=\"https://drive.google.com/uc?export=view&id=1L3_bHMKy3cuiRjNvuqpAuojhLhAKs0-C\"></img>\n",
        "  </td>\n",
        "</table>"
      ],
      "metadata": {
        "id": "4btdN9zXpv0A"
      }
    },
    {
      "cell_type": "markdown",
      "source": [
        "The goal is to use information from the Sample side to draw inferences about the Population side.  An inherent problem in doing this is that the information on the sample side varies from sample-to-sample.  Thus, an understanding of the inherent variation from sample-to-sample is essential to inferential methods. "
      ],
      "metadata": {
        "id": "V2hGTu7xulcT"
      }
    },
    {
      "cell_type": "markdown",
      "source": [
        "<table border=\"0\" align=\"center\">\n",
        "<tr>\n",
        "  <td align=\"center\" valign=\"center\" bgcolor=\"white\"><font size=\"+2\">Outcomes Vary Over Repeated Samples</font><br><img src=\"https://drive.google.com/uc?export=view&id=1Qs2nM_QTh_wezJX6_X8hrh0WqPl8-XNg\" width=\"50%\" height=\"50%\"></img>\n",
        "  </td>\n",
        "</table>"
      ],
      "metadata": {
        "id": "TSMtBUfyq3qK"
      }
    },
    {
      "cell_type": "markdown",
      "source": [
        "The inherent variation from sample-to-sample can be measured in two ways.\n",
        "1.   Inherent variation can be determined via statistical theory\n",
        "2.   Inherent variation can be determined via simulation (bootstrap)  "
      ],
      "metadata": {
        "id": "VIuyDBdzvGXx"
      }
    },
    {
      "cell_type": "markdown",
      "source": [
        "#### Inherent Variation in a Mean via Statistical Theory"
      ],
      "metadata": {
        "id": "MWpvys4SwHiV"
      }
    },
    {
      "cell_type": "markdown",
      "source": [
        "The Central Limit Theorem states the following:\n",
        "\n",
        ">   If a random variable, say $Y$, follows a normal distribution with $Mean = \\mu$ and $Variance = \\sigma^2$, which is often expressed as $Y \\sim N(\\mu, \\sigma^2)$\n",
        "\n",
        ">  then the distribution of the average $Y$, say $\\bar{Y}$, is known to:\n",
        "1.  Follow a normal distribution\n",
        "2.  Have the same mean, so $E(\\bar{Y}) = \\mu$, and \n",
        "3.  Have a reduced variance equal to $Var(\\bar{Y}) = \\frac{\\sigma^2}{n}$"
      ],
      "metadata": {
        "id": "9kRFI7jZwNT7"
      }
    },
    {
      "cell_type": "markdown",
      "source": [
        "<u>Comments</u>:\n",
        "\n",
        "*    In shorthand notation, if $Y \\sim N(\\mu, \\sigma^2)$, then $\\bar{Y} \\sim N(\\mu, \\frac{\\sigma^2}{n})$\n",
        "*    Normality of $Y$ is a necessary condition for the distribution of $\\bar{Y}$ to follow a normal distribution; however, when the normality condition of $Y$ is relaxed, the distribution of $\\bar{Y}$ is at least *approximately* normal\n",
        "*    The **standard error** is the standard deviation in the distribution of $\\bar{Y}$; thus, the standard error for an average is \n",
        "\n",
        "$$\\begin{array}{rcl}\n",
        "\\mbox{Standard Error of } \\bar{Y} & = & \\sqrt{Var(\\bar{Y})} \\\\\n",
        "& = & \\sqrt{\\frac{\\sigma^2}{n}} \\\\ \n",
        "& = & \\frac{\\sigma}{\\sqrt{n}}\n",
        "\\end{array}\n",
        "$$\n"
      ],
      "metadata": {
        "id": "YWSjsN3byTp2"
      }
    },
    {
      "cell_type": "markdown",
      "source": [],
      "metadata": {
        "id": "1LoA1oHQ0ugh"
      }
    },
    {
      "cell_type": "code",
      "source": [
        "(LaCrosseWinonaHomePrices\n",
        "  %>% summarize(\n",
        "                 Mean = mean(PRICE),\n",
        "                 Var = var(PRICE),\n",
        "                 StdDev = sd(PRICE),\n",
        "                 Count = n(),\n",
        "                 StdError = sd(PRICE)/sqrt(n())\n",
        "  )\n",
        ")"
      ],
      "metadata": {
        "colab": {
          "base_uri": "https://localhost:8080/",
          "height": 129
        },
        "id": "-Yh1rVBD0unm",
        "outputId": "abe63f87-22af-46a0-ec8f-812b19b877c8"
      },
      "execution_count": 8,
      "outputs": [
        {
          "output_type": "display_data",
          "data": {
            "text/html": [
              "<table class=\"dataframe\">\n",
              "<caption>A tibble: 1 × 5</caption>\n",
              "<thead>\n",
              "\t<tr><th scope=col>Mean</th><th scope=col>Var</th><th scope=col>StdDev</th><th scope=col>Count</th><th scope=col>StdError</th></tr>\n",
              "\t<tr><th scope=col>&lt;dbl&gt;</th><th scope=col>&lt;dbl&gt;</th><th scope=col>&lt;dbl&gt;</th><th scope=col>&lt;int&gt;</th><th scope=col>&lt;dbl&gt;</th></tr>\n",
              "</thead>\n",
              "<tbody>\n",
              "\t<tr><td>280885.1</td><td>12346560380</td><td>111115.1</td><td>67</td><td>13574.87</td></tr>\n",
              "</tbody>\n",
              "</table>\n"
            ],
            "text/markdown": "\nA tibble: 1 × 5\n\n| Mean &lt;dbl&gt; | Var &lt;dbl&gt; | StdDev &lt;dbl&gt; | Count &lt;int&gt; | StdError &lt;dbl&gt; |\n|---|---|---|---|---|\n| 280885.1 | 12346560380 | 111115.1 | 67 | 13574.87 |\n\n",
            "text/latex": "A tibble: 1 × 5\n\\begin{tabular}{lllll}\n Mean & Var & StdDev & Count & StdError\\\\\n <dbl> & <dbl> & <dbl> & <int> & <dbl>\\\\\n\\hline\n\t 280885.1 & 12346560380 & 111115.1 & 67 & 13574.87\\\\\n\\end{tabular}\n",
            "text/plain": [
              "  Mean     Var         StdDev   Count StdError\n",
              "1 280885.1 12346560380 111115.1 67    13574.87"
            ]
          },
          "metadata": {}
        }
      ]
    },
    {
      "cell_type": "markdown",
      "source": [],
      "metadata": {
        "id": "dIS631ME2smh"
      }
    },
    {
      "cell_type": "markdown",
      "source": [
        "<table border=\"0\" align=\"center\">\n",
        "<tr>\n",
        "  <td align=\"center\" valign=\"center\" bgcolor=\"white\"><img src=\"https://drive.google.com/uc?export=view&id=1giLIQDYoEOpyjFg5FdPOhRmEDZ7XpuYr\"></img>\n",
        "  </td>\n",
        "</table>"
      ],
      "metadata": {
        "id": "B3HNX-NC_scX"
      }
    },
    {
      "cell_type": "markdown",
      "source": [
        "<table border=\"0\" align=\"center\">\n",
        "<tr>\n",
        "  <td align=\"center\" valign=\"center\" bgcolor=\"white\"><img src=\"https://drive.google.com/uc?export=view&id=1MzAkLX9U6Ww0dgcZWsVRyrFeRWPPG4CE\"></img>\n",
        "  </td>\n",
        "</table>"
      ],
      "metadata": {
        "id": "xTN8SXez_8o3"
      }
    },
    {
      "cell_type": "markdown",
      "source": [
        "<table border=\"0\" align=\"center\">\n",
        "<tr>\n",
        "  <td align=\"center\" valign=\"center\" bgcolor=\"white\"><img src=\"https://drive.google.com/uc?export=view&id=14DfVwckWsNoCv4phm-NPR2AQAtTWzLwW\"></img>\n",
        "  </td>\n",
        "</table>"
      ],
      "metadata": {
        "id": "IID4AUJ7_86I"
      }
    },
    {
      "cell_type": "code",
      "source": [
        "#@title Plot of the Original Data\n",
        "# Rug Plot of Original Data\n",
        "ggplot(data=LaCrosseWinonaHomePrices, aes(x=PRICE)) + \n",
        "  geom_rug() + \n",
        "  xlim(0,600000) +\n",
        "  ggtitle(\"Plot of Original Data\") + \n",
        "  xlab(\"Home Price\")+\n",
        "  theme_classic()"
      ],
      "metadata": {
        "colab": {
          "base_uri": "https://localhost:8080/",
          "height": 437
        },
        "id": "UpjhB9hT2swb",
        "outputId": "c144e12e-9157-4a00-e6aa-882c2a0c4bf6"
      },
      "execution_count": 19,
      "outputs": [
        {
          "output_type": "display_data",
          "data": {
            "text/plain": [
              "plot without title"
            ],
            "image/png": "[encoded data removed]"
          },
          "metadata": {
            "image/png": {
              "width": 420,
              "height": 420
            }
          }
        }
      ]
    },
    {
      "cell_type": "markdown",
      "source": [],
      "metadata": {
        "id": "wVoTvw063IAs"
      }
    },
    {
      "cell_type": "code",
      "source": [
        "#@title Plot of 1 Resample\n",
        "#Get a single resample and put the outcomes into a data.frame\n",
        "Resample = sample(LaCrosseWinonaHomePrices$PRICE,size=length(LaCrosseWinonaHomePrices$PRICE),replace=TRUE)\n",
        "HomePrice_Resample <- data.frame(Resample)\n",
        "\n",
        "#Create a plot of the single resample\n",
        "ggplot(data=HomePrice_Resample, aes(x=Resample)) + \n",
        "  geom_rug() + \n",
        "  xlim(0,600000) +\n",
        "  ggtitle(\"Plot of Resample Data\") + \n",
        "  xlab(\"Home Price - Resample\") + \n",
        "  theme_classic()\n",
        "\n",
        "#Create a plot of the single resample\n",
        "ggplot(data=(HomePrice_Resample %>% summarize(MeanResample = mean(Resample))), aes(x=MeanResample)) + \n",
        "  geom_rug() + \n",
        "  xlim(0,600000) +\n",
        "  ggtitle(\"Plot the Mean of Resample Data\") + \n",
        "  xlab(\"\") + \n",
        "  theme_classic()\n"
      ],
      "metadata": {
        "colab": {
          "base_uri": "https://localhost:8080/",
          "height": 857
        },
        "id": "VVOEYpiE3IIs",
        "outputId": "06584cf1-3909-4abb-cb66-3de65adf806a"
      },
      "execution_count": 23,
      "outputs": [
        {
          "output_type": "display_data",
          "data": {
            "text/plain": [
              "plot without title"
            ],
            "image/png": "[encoded data removed]"
          },
          "metadata": {
            "image/png": {
              "width": 420,
              "height": 420
            }
          }
        },
        {
          "output_type": "display_data",
          "data": {
            "text/plain": [
              "plot without title"
            ],
            "image/png": "[encoded data removed]"
          },
          "metadata": {
            "image/png": {
              "width": 420,
              "height": 420
            }
          }
        }
      ]
    },
    {
      "cell_type": "markdown",
      "source": [],
      "metadata": {
        "id": "QH1DRLpOA0me"
      }
    },
    {
      "cell_type": "code",
      "source": [
        "BootMean=function(y, b=100, plotit = FALSE){\n",
        "   output.vec=rep(0,b)\n",
        "   for(i in 1:b){\n",
        "      ystar=sample(y,size=length(y),replace=TRUE)\n",
        "      output.vec[i]=mean(ystar)\n",
        "   }\n",
        "   Outcomes_DF <- data.frame(Outcomes = output.vec)\n",
        "\n",
        "   if(plotit == TRUE){\n",
        "     myplot <- ggplot(data=Outcomes_DF, aes(x=Outcomes)) + \n",
        "               geom_rug() + \n",
        "               xlab(\"Outcomes\") +\n",
        "               theme_classic()\n",
        "    print(myplot)\n",
        "   }\n",
        "   return(Outcomes_DF)\n",
        "}\n"
      ],
      "metadata": {
        "id": "RMpw5a06A0td"
      },
      "execution_count": 29,
      "outputs": []
    },
    {
      "cell_type": "markdown",
      "source": [],
      "metadata": {
        "id": "IKWTZJPIA-LW"
      }
    },
    {
      "cell_type": "code",
      "source": [
        "Mean_RepeatedSampling <- BootMean(LaCrosseWinonaHomePrices$PRICE, b=2000, plotit=TRUE)"
      ],
      "metadata": {
        "colab": {
          "base_uri": "https://localhost:8080/",
          "height": 437
        },
        "id": "vjjCA7FAA-Rd",
        "outputId": "4e6eb8ad-6b89-496e-f907-8719d7a79e1f"
      },
      "execution_count": 42,
      "outputs": [
        {
          "output_type": "display_data",
          "data": {
            "text/plain": [
              "plot without title"
            ],
            "image/png": "[encoded data removed]"
          },
          "metadata": {
            "image/png": {
              "width": 420,
              "height": 420
            }
          }
        }
      ]
    },
    {
      "cell_type": "markdown",
      "source": [],
      "metadata": {
        "id": "-6Wz60S1Bcge"
      }
    },
    {
      "cell_type": "code",
      "source": [
        "ggplot(data=Mean_RepeatedSampling, aes(x=Outcomes)) + \n",
        "  geom_rug() + \n",
        "  geom_density(adjust=2) +\n",
        "  stat_function(fun = dnorm, args = list(mean = mean(LaCrosseWinonaHomePrices$PRICE), sd = (sd(LaCrosseWinonaHomePrices$PRICE)/sqrt(length(LaCrosseWinonaHomePrices$PRICE)))), color=\"darkgreen\") + \n",
        "  #xlim(0,600000) +\n",
        "  xlim(225000,350000) +\n",
        "  xlab(\"Mean PRICE\") + \n",
        "  theme_classic()"
      ],
      "metadata": {
        "colab": {
          "base_uri": "https://localhost:8080/",
          "height": 437
        },
        "id": "uPZTmADmBco2",
        "outputId": "0793d8c7-6d36-4b1d-9419-fbcb9d5e7991"
      },
      "execution_count": 43,
      "outputs": [
        {
          "output_type": "display_data",
          "data": {
            "text/plain": [
              "plot without title"
            ],
            "image/png": "[encoded data removed]"
          },
          "metadata": {
            "image/png": {
              "width": 420,
              "height": 420
            }
          }
        }
      ]
    },
    {
      "cell_type": "markdown",
      "source": [],
      "metadata": {
        "id": "_J7TQIbAClbK"
      }
    },
    {
      "cell_type": "code",
      "source": [
        "(Mean_RepeatedSampling\n",
        "  %>% summarize(\n",
        "                 StdError_via_Simulation = sd(Outcomes)\n",
        "  )\n",
        ")"
      ],
      "metadata": {
        "colab": {
          "base_uri": "https://localhost:8080/",
          "height": 129
        },
        "id": "TC_i63GjCliq",
        "outputId": "76fee1e1-c5f5-4cc4-ff74-59184cd6bf51"
      },
      "execution_count": 55,
      "outputs": [
        {
          "output_type": "display_data",
          "data": {
            "text/html": [
              "<table class=\"dataframe\">\n",
              "<caption>A data.frame: 1 × 1</caption>\n",
              "<thead>\n",
              "\t<tr><th scope=col>StdError_via_Simulation</th></tr>\n",
              "\t<tr><th scope=col>&lt;dbl&gt;</th></tr>\n",
              "</thead>\n",
              "<tbody>\n",
              "\t<tr><td>13520.21</td></tr>\n",
              "</tbody>\n",
              "</table>\n"
            ],
            "text/markdown": "\nA data.frame: 1 × 1\n\n| StdError_via_Simulation &lt;dbl&gt; |\n|---|\n| 13520.21 |\n\n",
            "text/latex": "A data.frame: 1 × 1\n\\begin{tabular}{l}\n StdError\\_via\\_Simulation\\\\\n <dbl>\\\\\n\\hline\n\t 13520.21\\\\\n\\end{tabular}\n",
            "text/plain": [
              "  StdError_via_Simulation\n",
              "1 13520.21               "
            ]
          },
          "metadata": {}
        }
      ]
    },
    {
      "cell_type": "markdown",
      "source": [],
      "metadata": {
        "id": "eRNfINCEDMe-"
      }
    },
    {
      "cell_type": "code",
      "source": [
        "(LaCrosseWinonaHomePrices\n",
        "  %>% summarize(\n",
        "              '2.5 %' = mean(PRICE) - qt(0.975,df=n()-1) * (sd(PRICE)/sqrt(n())),\n",
        "              '97.5 %' = mean(PRICE) + qt(0.975,df=n()-1) * (sd(PRICE)/sqrt(n())),\n",
        "            )\n",
        "  %>% mutate(Type = \"Theory\")\n",
        "  %>% relocate(Type)\n",
        ") -> Theory_CI\n",
        "\n",
        "(Mean_RepeatedSampling\n",
        "  %>% summarize(\n",
        "              '2.5 %' = mean(Outcomes) - 2 * sd(Outcomes),\n",
        "              '97.5 %' = mean(Outcomes) + 2 * sd(Outcomes),\n",
        "            )\n",
        "  %>% mutate(Type = \"Simulation\")\n",
        "  %>% relocate(Type)\n",
        ") -> Simulation_CI\n",
        "\n",
        "bind_rows(Theory_CI,Simulation_CI)"
      ],
      "metadata": {
        "colab": {
          "base_uri": "https://localhost:8080/",
          "height": 161
        },
        "id": "UJNCr5lADMmL",
        "outputId": "f1cb9c3c-ebd7-4355-9570-1bb49d06a9b8"
      },
      "execution_count": 54,
      "outputs": [
        {
          "output_type": "display_data",
          "data": {
            "text/html": [
              "<table class=\"dataframe\">\n",
              "<caption>A tibble: 2 × 3</caption>\n",
              "<thead>\n",
              "\t<tr><th scope=col>Type</th><th scope=col>2.5 %</th><th scope=col>97.5 %</th></tr>\n",
              "\t<tr><th scope=col>&lt;chr&gt;</th><th scope=col>&lt;dbl&gt;</th><th scope=col>&lt;dbl&gt;</th></tr>\n",
              "</thead>\n",
              "<tbody>\n",
              "\t<tr><td>Theory    </td><td>253782.0</td><td>307988.2</td></tr>\n",
              "\t<tr><td>Simulation</td><td>254559.1</td><td>308640.0</td></tr>\n",
              "</tbody>\n",
              "</table>\n"
            ],
            "text/markdown": "\nA tibble: 2 × 3\n\n| Type &lt;chr&gt; | 2.5 % &lt;dbl&gt; | 97.5 % &lt;dbl&gt; |\n|---|---|---|\n| Theory     | 253782.0 | 307988.2 |\n| Simulation | 254559.1 | 308640.0 |\n\n",
            "text/latex": "A tibble: 2 × 3\n\\begin{tabular}{lll}\n Type & 2.5 \\% & 97.5 \\%\\\\\n <chr> & <dbl> & <dbl>\\\\\n\\hline\n\t Theory     & 253782.0 & 307988.2\\\\\n\t Simulation & 254559.1 & 308640.0\\\\\n\\end{tabular}\n",
            "text/plain": [
              "  Type       2.5 %    97.5 %  \n",
              "1 Theory     253782.0 307988.2\n",
              "2 Simulation 254559.1 308640.0"
            ]
          },
          "metadata": {}
        }
      ]
    },
    {
      "cell_type": "markdown",
      "source": [
        "\n",
        "\n",
        "---\n",
        "\n",
        "\n",
        "\n",
        "---\n",
        "\n"
      ],
      "metadata": {
        "id": "4I1hDUasCgp8"
      }
    },
    {
      "cell_type": "markdown",
      "source": [
        "A statistical modeling approach has several advantages compared to other approaches to modeling this type of data. This data represents a pseudo random sample of home prices.  Thus, it is certainly true that a different sample of homes will produce a slightly different regression line.  This begs the question to what degree will my regression line change from sample-to-sample.  In particular, to what degree will my y-intercept and slope change over repeated sampling.  "
      ],
      "metadata": {
        "id": "mUd5eA_bK8o7"
      }
    },
    {
      "cell_type": "markdown",
      "source": [
        "<table border=\"0\" align=\"center\">\n",
        "<tr>\n",
        "  <td width=\"50%\" align=\"center\" valign=\"center\" bgcolor=\"white\"><font size=\"+2\">Population Side</font><br>True Relationship - All Homes<br><img src=\"https://drive.google.com/uc?export=view&id=1zS3DBjQGDWhDmF9L2p6gAY-smrRIHa_V\"></img>\n",
        "  </td>\n",
        "  <td width=\"50%\" align=\"center\" valign=\"center\" bgcolor=\"white\"><font size=\"+2\">Sample Side</font><br>An Estimate of the True Relationship<br><img src=\"https://drive.google.com/uc?export=view&id=10xsQT7WQTurnrkUdBlpeV5tfhStlNh8m\"></img>\n",
        "  </td>\n",
        "</table>"
      ],
      "metadata": {
        "id": "aM1bUp_Hap8x"
      }
    },
    {
      "cell_type": "markdown",
      "source": [
        "<table border=\"0\" align=\"center\">\n",
        "<tr>\n",
        "  <td align=\"center\" valign=\"center\" bgcolor=\"white\"><font size=\"+2\">Outcomes Vary Over Repeated Samples</font><br><img src=\"https://drive.google.com/uc?export=view&id=1V-d4CdoSZUKB7UIAKF6Vliw4IqS1BZ2f\" width=\"50%\" height=\"50%\"></img>\n",
        "  </td>\n",
        "</table>"
      ],
      "metadata": {
        "id": "IBPXjHIi4PfG"
      }
    },
    {
      "cell_type": "markdown",
      "metadata": {
        "id": "cPBBTDRHHWS-"
      },
      "source": [
        "## Slope over Repeated Sampling"
      ]
    },
    {
      "cell_type": "markdown",
      "source": [],
      "metadata": {
        "id": "808evHlOeiqM"
      }
    },
    {
      "cell_type": "markdown",
      "source": [],
      "metadata": {
        "id": "sR2q_FVZekGx"
      }
    },
    {
      "cell_type": "code",
      "source": [
        "LModel_Price_Sqft <- lm(PRICE ~ SQUAREFEET, data=LaCrosseWinonaHomePrices)"
      ],
      "metadata": {
        "id": "zhHGpvZEekTA"
      },
      "execution_count": null,
      "outputs": []
    },
    {
      "cell_type": "markdown",
      "source": [],
      "metadata": {
        "id": "mt38A95uelvs"
      }
    },
    {
      "cell_type": "code",
      "source": [
        "summary(LModel_Price_Sqft)"
      ],
      "metadata": {
        "colab": {
          "base_uri": "https://localhost:8080/",
          "height": 349
        },
        "id": "ZlFj-y_4el6z",
        "outputId": "41cde718-9353-414c-f14f-04c8e305a96a"
      },
      "execution_count": null,
      "outputs": [
        {
          "output_type": "display_data",
          "data": {
            "text/plain": [
              "\n",
              "Call:\n",
              "lm(formula = PRICE ~ SQUAREFEET, data = LaCrosseWinonaHomePrices)\n",
              "\n",
              "Residuals:\n",
              "    Min      1Q  Median      3Q     Max \n",
              "-133303  -46568   -6090   36819  158794 \n",
              "\n",
              "Coefficients:\n",
              "             Estimate Std. Error t value Pr(>|t|)    \n",
              "(Intercept) 76499.678  20259.923   3.776 0.000348 ***\n",
              "SQUAREFEET     98.808      8.981  11.002  < 2e-16 ***\n",
              "---\n",
              "Signif. codes:  0 ‘***’ 0.001 ‘**’ 0.01 ‘*’ 0.05 ‘.’ 0.1 ‘ ’ 1\n",
              "\n",
              "Residual standard error: 66180 on 65 degrees of freedom\n",
              "Multiple R-squared:  0.6506,\tAdjusted R-squared:  0.6453 \n",
              "F-statistic:   121 on 1 and 65 DF,  p-value: < 2.2e-16\n"
            ]
          },
          "metadata": {}
        }
      ]
    },
    {
      "cell_type": "markdown",
      "source": [],
      "metadata": {
        "id": "ybK_jK7_e2x4"
      }
    },
    {
      "cell_type": "code",
      "metadata": {
        "id": "we-N8fCyHWb2"
      },
      "source": [
        "#######################################################\n",
        "# Bootstrap Regression\n",
        "# Note: bootstrapping residuals here\n",
        "#######################################################\n",
        "\n",
        "BootReg=function(slr_object,b=100,delay=0){\n",
        "\n",
        "\ty=slr_object$model[,1]\n",
        "\tx=slr_object$model[,2]\n",
        "\tresid=slr_object$residuals\n",
        "\n",
        "\toutput.mat=matrix(0,b,4)\n",
        "\t\n",
        "\tplot(x,y,type=\"n\",xlab=\"SquareFeet\",ylab=\"CurrentPrice\")\n",
        "\t#points(x,y)\n",
        "\tabline(slr_object)\n",
        "\tSys.sleep(2+delay)\n",
        "\tpoints(x,y,col=\"white\")\n",
        "\n",
        "\n",
        "\tfor(i in 1:b){\n",
        "\n",
        "\t\tresidstar = sample(resid,replace=F)\n",
        "\t\tystar=y+residstar\n",
        "\t\tlmtemp = lm(ystar~x)\n",
        "\t\t#points(x,ystar)\n",
        "\t\tabline(lmtemp,col=\"grey\")\n",
        "\t\txjitter1=min(x)+0.67*(max(x)-min(x))+runif(1,-0.2*(max(x)-min(x)),0.2*(max(x)-min(x)))\n",
        "\t\txjitter2=xjitter1 + 0.1*(max(x)-min(x))\n",
        "\t\tsegments(xjitter1,+lmtemp$coefficients[[1]]+xjitter1*lmtemp$coefficients[[2]],xjitter2,lmtemp$coefficients[[1]]+xjitter1*lmtemp$coefficients[[2]])\n",
        "\t\tsegments(xjitter2,lmtemp$coefficients[[1]]+xjitter1*lmtemp$coefficients[[2]],xjitter2,lmtemp$coefficients[[1]]+xjitter2*lmtemp$coefficients[[2]])\n",
        "\t\ttext(xjitter2+0.02*(max(x)-min(x)),lmtemp$coefficients[[1]]+xjitter1*lmtemp$coefficients[[2]],round(lmtemp$coefficients[[2]],2),cex=0.75)\n",
        "\t\tSys.sleep(delay)\n",
        "\t\tpoints(x,ystar,col=\"white\")\n",
        "\t\t\n",
        "\t\toutput.mat[i,1]=lmtemp$coefficients[[1]]\n",
        "\t\toutput.mat[i,2]=lmtemp$coefficients[[2]]\n",
        "\t\t\n",
        "\t}\n",
        "\t\n",
        "\tIntercept = output.mat[,1]\n",
        "\tSlope = output.mat[,2]\n",
        "\treturn(data.frame(Intercept, Slope))\n",
        "}\n"
      ],
      "execution_count": null,
      "outputs": []
    },
    {
      "cell_type": "markdown",
      "metadata": {
        "id": "-ni6etMxHzPl"
      },
      "source": [
        "Using the BootReg() function to get the slopes over repeated sampling"
      ]
    },
    {
      "cell_type": "code",
      "metadata": {
        "colab": {
          "base_uri": "https://localhost:8080/",
          "height": 437
        },
        "id": "na18JqF1HzWh",
        "outputId": "73e4b5d0-f246-43d8-9d3e-21e48a5966f9"
      },
      "source": [
        "LModel_RepeatedSampling <- BootReg(LModel_Price_Sqft, b=100)"
      ],
      "execution_count": null,
      "outputs": [
        {
          "output_type": "display_data",
          "data": {
            "text/plain": [
              "plot without title"
            ],
            "image/png": "[encoded data removed]"
          },
          "metadata": {
            "image/png": {
              "width": 420,
              "height": 420
            }
          }
        }
      ]
    },
    {
      "cell_type": "markdown",
      "source": [],
      "metadata": {
        "id": "ABC3wITJd9Ll"
      }
    },
    {
      "cell_type": "code",
      "source": [
        "(LModel_RepeatedSampling\n",
        "  %>% summarize(\n",
        "                 StdError_Intercept = sd(Intercept),\n",
        "                 StdError_Slope = sd(Slope)\n",
        "  )\n",
        ")"
      ],
      "metadata": {
        "colab": {
          "base_uri": "https://localhost:8080/",
          "height": 129
        },
        "id": "AMgMnuv6d9T-",
        "outputId": "d38fedde-563d-4e77-c6d2-18f46fde8426"
      },
      "execution_count": null,
      "outputs": [
        {
          "output_type": "display_data",
          "data": {
            "text/html": [
              "<table class=\"dataframe\">\n",
              "<caption>A data.frame: 1 × 2</caption>\n",
              "<thead>\n",
              "\t<tr><th scope=col>StdError_Intercept</th><th scope=col>StdError_Slope</th></tr>\n",
              "\t<tr><th scope=col>&lt;dbl&gt;</th><th scope=col>&lt;dbl&gt;</th></tr>\n",
              "</thead>\n",
              "<tbody>\n",
              "\t<tr><td>19637.23</td><td>9.493428</td></tr>\n",
              "</tbody>\n",
              "</table>\n"
            ],
            "text/markdown": "\nA data.frame: 1 × 2\n\n| StdError_Intercept &lt;dbl&gt; | StdError_Slope &lt;dbl&gt; |\n|---|---|\n| 19637.23 | 9.493428 |\n\n",
            "text/latex": "A data.frame: 1 × 2\n\\begin{tabular}{ll}\n StdError\\_Intercept & StdError\\_Slope\\\\\n <dbl> & <dbl>\\\\\n\\hline\n\t 19637.23 & 9.493428\\\\\n\\end{tabular}\n",
            "text/plain": [
              "  StdError_Intercept StdError_Slope\n",
              "1 19637.23           9.493428      "
            ]
          },
          "metadata": {}
        }
      ]
    },
    {
      "cell_type": "markdown",
      "source": [],
      "metadata": {
        "id": "6Hc2I4tJfVJw"
      }
    },
    {
      "cell_type": "code",
      "source": [
        "#plot the bootstrap distribution\n",
        "# Empirical Density Function\n",
        "ggplot(data=LModel_RepeatedSampling, aes(x=Slope)) + \n",
        "  geom_rug() + \n",
        "  #geom_histogram(aes(y=..density..),bins=8) + \n",
        "  geom_density(adjust=1.5) +\n",
        "  theme_classic()"
      ],
      "metadata": {
        "colab": {
          "base_uri": "https://localhost:8080/",
          "height": 437
        },
        "id": "1QdoOyitfVXM",
        "outputId": "01fe913d-8d74-4984-f51d-c52de2b0dab2"
      },
      "execution_count": null,
      "outputs": [
        {
          "output_type": "display_data",
          "data": {
            "text/plain": [
              "plot without title"
            ],
            "image/png": "[encoded data removed]"
          },
          "metadata": {
            "image/png": {
              "width": 420,
              "height": 420
            }
          }
        }
      ]
    },
    {
      "cell_type": "markdown",
      "source": [],
      "metadata": {
        "id": "kTUWSq_-gwuS"
      }
    },
    {
      "cell_type": "code",
      "source": [
        "\n",
        "( LModel_RepeatedSampling\n",
        "  %>% summarise(enframe(quantile(Intercept, c(0.025, 0.975)), \"Quantiles\", \"Intercept\"))\n",
        "  %>% spread(Quantiles,Intercept)\n",
        "  %>% mutate(Estimate = \"Intercept\")\n",
        "  %>% relocate(Estimate)\n",
        ") -> Intercept_CI\n",
        "\n",
        "( LModel_RepeatedSampling\n",
        "  %>% summarise(enframe(quantile(Slope, c(0.025, 0.975)), \"Quantiles\", \"Slope\"))\n",
        "  %>% spread(Quantiles,Slope)\n",
        "  %>% mutate(Estimate = \"Slope\")\n",
        "  %>% relocate(Estimate)\n",
        ") -> Slope_CI\n",
        "\n",
        "bind_rows(Intercept_CI,Slope_CI)"
      ],
      "metadata": {
        "colab": {
          "base_uri": "https://localhost:8080/",
          "height": 161
        },
        "id": "vV4LwL61gw6n",
        "outputId": "ba6a5dcd-c7be-4e2d-f512-be27d9050bf8"
      },
      "execution_count": null,
      "outputs": [
        {
          "output_type": "display_data",
          "data": {
            "text/html": [
              "<table class=\"dataframe\">\n",
              "<caption>A data.frame: 2 × 3</caption>\n",
              "<thead>\n",
              "\t<tr><th scope=col>Estimate</th><th scope=col>2.5%</th><th scope=col>97.5%</th></tr>\n",
              "\t<tr><th scope=col>&lt;chr&gt;</th><th scope=col>&lt;dbl&gt;</th><th scope=col>&lt;dbl&gt;</th></tr>\n",
              "</thead>\n",
              "<tbody>\n",
              "\t<tr><td>Intercept</td><td>39141.27757</td><td>106767.0272</td></tr>\n",
              "\t<tr><td>Slope    </td><td>   84.17569</td><td>   116.8687</td></tr>\n",
              "</tbody>\n",
              "</table>\n"
            ],
            "text/markdown": "\nA data.frame: 2 × 3\n\n| Estimate &lt;chr&gt; | 2.5% &lt;dbl&gt; | 97.5% &lt;dbl&gt; |\n|---|---|---|\n| Intercept | 39141.27757 | 106767.0272 |\n| Slope     |    84.17569 |    116.8687 |\n\n",
            "text/latex": "A data.frame: 2 × 3\n\\begin{tabular}{lll}\n Estimate & 2.5\\% & 97.5\\%\\\\\n <chr> & <dbl> & <dbl>\\\\\n\\hline\n\t Intercept & 39141.27757 & 106767.0272\\\\\n\t Slope     &    84.17569 &    116.8687\\\\\n\\end{tabular}\n",
            "text/plain": [
              "  Estimate  2.5%        97.5%      \n",
              "1 Intercept 39141.27757 106767.0272\n",
              "2 Slope        84.17569    116.8687"
            ]
          },
          "metadata": {}
        }
      ]
    },
    {
      "cell_type": "markdown",
      "source": [
        "## Getting the Theory Based Interval"
      ],
      "metadata": {
        "id": "LkogoiIvlHSs"
      }
    },
    {
      "cell_type": "markdown",
      "metadata": {
        "id": "JPU5tkQpfnKj"
      },
      "source": [
        "The 95% confidence interval for the model parameters can be computed using the confint() function."
      ]
    },
    {
      "cell_type": "code",
      "metadata": {
        "colab": {
          "base_uri": "https://localhost:8080/",
          "height": 129
        },
        "id": "JWQuPa0JfnSA",
        "outputId": "00fce0fa-b4b8-404a-9649-2478aacb67ec"
      },
      "source": [
        "confint(LModel_Price_Sqft)"
      ],
      "execution_count": null,
      "outputs": [
        {
          "output_type": "display_data",
          "data": {
            "text/html": [
              "<table class=\"dataframe\">\n",
              "<caption>A matrix: 2 × 2 of type dbl</caption>\n",
              "<thead>\n",
              "\t<tr><th></th><th scope=col>2.5 %</th><th scope=col>97.5 %</th></tr>\n",
              "</thead>\n",
              "<tbody>\n",
              "\t<tr><th scope=row>(Intercept)</th><td>36037.81715</td><td>116961.5395</td></tr>\n",
              "\t<tr><th scope=row>SQUAREFEET</th><td>   80.87241</td><td>   116.7439</td></tr>\n",
              "</tbody>\n",
              "</table>\n"
            ],
            "text/markdown": "\nA matrix: 2 × 2 of type dbl\n\n| <!--/--> | 2.5 % | 97.5 % |\n|---|---|---|\n| (Intercept) | 36037.81715 | 116961.5395 |\n| SQUAREFEET |    80.87241 |    116.7439 |\n\n",
            "text/latex": "A matrix: 2 × 2 of type dbl\n\\begin{tabular}{r|ll}\n  & 2.5 \\% & 97.5 \\%\\\\\n\\hline\n\t(Intercept) & 36037.81715 & 116961.5395\\\\\n\tSQUAREFEET &    80.87241 &    116.7439\\\\\n\\end{tabular}\n",
            "text/plain": [
              "            2.5 %       97.5 %     \n",
              "(Intercept) 36037.81715 116961.5395\n",
              "SQUAREFEET     80.87241    116.7439"
            ]
          },
          "metadata": {}
        }
      ]
    },
    {
      "cell_type": "markdown",
      "metadata": {
        "id": "9kkg1lL30Rfw"
      },
      "source": [
        "End of Document"
      ]
    }
  ]
}