{
  "nbformat": 4,
  "nbformat_minor": 0,
  "metadata": {
    "colab": {
      "provenance": [],
      "collapsed_sections": [],
      "authorship_tag": "ABX9TyNdunLpk4s9vkBf2pTb3n45",
      "include_colab_link": true
    },
    "kernelspec": {
      "name": "ir",
      "display_name": "R"
    }
  },
  "cells": [
    {
      "cell_type": "markdown",
      "metadata": {
        "id": "view-in-github",
        "colab_type": "text"
      },
      "source": [
        "<a href=\"https://colab.research.google.com/github/christophermalone/stat360/blob/main/COLAB_Readin_Data.ipynb\" target=\"_parent\"><img src=\"https://colab.research.google.com/assets/colab-badge.svg\" alt=\"Open In Colab\"/></a>"
      ]
    },
    {
      "cell_type": "markdown",
      "metadata": {
        "id": "KhClO9b02SXA"
      },
      "source": [
        "# Reading Data into COLAB\n"
      ]
    },
    {
      "cell_type": "markdown",
      "source": [
        "There are various ways in which data can be read into a COLAB document.  Three methods will be discussed here.\n",
        "\n",
        "1.  Read data directly from a URL\n",
        "2.  Place a copy of the data into COLAB file system and read the data in\n",
        "3.  Place a copy of the data into your Google Drive and read the data in"
      ],
      "metadata": {
        "id": "Q09lyDUoY9B0"
      }
    },
    {
      "cell_type": "markdown",
      "source": [
        "A local copy of the data must be obtained when using the COLAB file system or Google Drive.  A copy of the LaCrosse Winona Home Prices data can be downloaded below."
      ],
      "metadata": {
        "id": "hbsOAKUxaFKX"
      }
    },
    {
      "cell_type": "markdown",
      "source": [
        "LaCrosse - Winona Home Prices: <a href=\"http://www.StatsClass.org/stat360/Datasets/LaCrosse_Winona_Redfin.csv\">Data</a>"
      ],
      "metadata": {
        "id": "wLNLlIShZrTM"
      }
    },
    {
      "cell_type": "markdown",
      "source": [
        "\n",
        "\n",
        "---\n",
        "\n",
        "\n",
        "\n",
        "---\n",
        "\n"
      ],
      "metadata": {
        "id": "k_QGRKUiaXUg"
      }
    },
    {
      "cell_type": "markdown",
      "metadata": {
        "id": "njXGRUIC9Lgs"
      },
      "source": [
        "## Load tidyverse() Package"
      ]
    },
    {
      "cell_type": "markdown",
      "metadata": {
        "id": "FoT1NFX3DncH"
      },
      "source": [
        "The tidyverse R package will be used to assist with reading in the dataset into the current R session."
      ]
    },
    {
      "cell_type": "code",
      "metadata": {
        "id": "LgaibuX_DtWK",
        "colab": {
          "base_uri": "https://localhost:8080/"
        },
        "outputId": "046be623-88f7-4d53-9d1d-2da81e4f3237"
      },
      "source": [
        "#load tidyverse package\n",
        "library(tidyverse)"
      ],
      "execution_count": 1,
      "outputs": [
        {
          "output_type": "stream",
          "name": "stderr",
          "text": [
            "Warning message in system(\"timedatectl\", intern = TRUE):\n",
            "“running command 'timedatectl' had status 1”\n",
            "── \u001b[1mAttaching packages\u001b[22m ─────────────────────────────────────── tidyverse 1.3.1 ──\n",
            "\n",
            "\u001b[32m✔\u001b[39m \u001b[34mggplot2\u001b[39m 3.3.6      \u001b[32m✔\u001b[39m \u001b[34mpurrr  \u001b[39m 0.3.4 \n",
            "\u001b[32m✔\u001b[39m \u001b[34mtibble \u001b[39m 3.1.7      \u001b[32m✔\u001b[39m \u001b[34mdplyr  \u001b[39m 1.0.10\n",
            "\u001b[32m✔\u001b[39m \u001b[34mtidyr  \u001b[39m 1.2.1      \u001b[32m✔\u001b[39m \u001b[34mstringr\u001b[39m 1.4.1 \n",
            "\u001b[32m✔\u001b[39m \u001b[34mreadr  \u001b[39m 2.1.2      \u001b[32m✔\u001b[39m \u001b[34mforcats\u001b[39m 0.5.2 \n",
            "\n",
            "── \u001b[1mConflicts\u001b[22m ────────────────────────────────────────── tidyverse_conflicts() ──\n",
            "\u001b[31m✖\u001b[39m \u001b[34mdplyr\u001b[39m::\u001b[32mfilter()\u001b[39m masks \u001b[34mstats\u001b[39m::filter()\n",
            "\u001b[31m✖\u001b[39m \u001b[34mdplyr\u001b[39m::\u001b[32mlag()\u001b[39m    masks \u001b[34mstats\u001b[39m::lag()\n",
            "\n"
          ]
        }
      ]
    },
    {
      "cell_type": "markdown",
      "source": [
        "\n",
        "\n",
        "---\n",
        "\n",
        "\n",
        "\n",
        "---\n",
        "\n"
      ],
      "metadata": {
        "id": "8qCy1jd8abOt"
      }
    },
    {
      "cell_type": "markdown",
      "source": [
        "## Read in Data via URL"
      ],
      "metadata": {
        "id": "rTr1AWrbadLy"
      }
    },
    {
      "cell_type": "markdown",
      "metadata": {
        "id": "DPqIPen9D5T3"
      },
      "source": [
        "The **read_csv()** function is used to read in the data set directly from an URL.  The following snip-it of code demostrates reading in a data set from an URL."
      ]
    },
    {
      "cell_type": "code",
      "metadata": {
        "id": "e07lUbQ1F1cV",
        "colab": {
          "base_uri": "https://localhost:8080/"
        },
        "outputId": "3b71aa46-ffec-484e-ccfb-ac871eafa0eb"
      },
      "source": [
        "# Reading data in using an URL\n",
        "LaCrosseWinonaHomePrices <- read_csv(\"http://www.StatsClass.org/stat360/Datasets/LaCrosse_Winona_Redfin.csv\")"
      ],
      "execution_count": 2,
      "outputs": [
        {
          "output_type": "stream",
          "name": "stderr",
          "text": [
            "\u001b[1mRows: \u001b[22m\u001b[34m67\u001b[39m \u001b[1mColumns: \u001b[22m\u001b[34m27\u001b[39m\n",
            "\u001b[36m──\u001b[39m \u001b[1mColumn specification\u001b[22m \u001b[36m────────────────────────────────────────────────────────\u001b[39m\n",
            "\u001b[1mDelimiter:\u001b[22m \",\"\n",
            "\u001b[31mchr\u001b[39m (13): SALETYPE, PROPERTYTYPE, ADDRESS, CITY, STATE, LOCATION, STATUS, NE...\n",
            "\u001b[32mdbl\u001b[39m (13): ZIPCODE, PRICE, BEDS, BATHS, SQUAREFEET, LOTSIZE, YEARBUILT, DAYSO...\n",
            "\u001b[33mlgl\u001b[39m  (1): SOLDDATE\n",
            "\n",
            "\u001b[36mℹ\u001b[39m Use `spec()` to retrieve the full column specification for this data.\n",
            "\u001b[36mℹ\u001b[39m Specify the column types or set `show_col_types = FALSE` to quiet this message.\n"
          ]
        }
      ]
    },
    {
      "cell_type": "markdown",
      "source": [
        "\n",
        "\n",
        "---\n",
        "\n",
        "\n",
        "\n",
        "---\n",
        "\n"
      ],
      "metadata": {
        "id": "FAtj88fYa587"
      }
    },
    {
      "cell_type": "markdown",
      "source": [
        "## Read in Data via COLAB File System"
      ],
      "metadata": {
        "id": "FA9r03kRbF1h"
      }
    },
    {
      "cell_type": "markdown",
      "source": [
        "To read in a data set using the COLAB file system, click on the Folder icon near the upper-left corner of the the COLAB document. Typically, data is placed into the sample_data folder within this file system.\n",
        "\n",
        "Drag and drop the desired *.csv file into the sample_data folder. "
      ],
      "metadata": {
        "id": "sjdCvLUabOOx"
      }
    },
    {
      "cell_type": "markdown",
      "source": [
        "<p align='center'><img src=\"https://drive.google.com/uc?export=view&id=1nUVhXBGPrRQKwiJB__venD80JhC-aDQE\" width='50%' height='50%'></img></p>"
      ],
      "metadata": {
        "id": "_og7E7wtcR4L"
      }
    },
    {
      "cell_type": "markdown",
      "source": [
        "Next, specify the entire file system path to the *.csv file. If filename.csv is placed into the sample_data folder, the entire file system path is:\n",
        "\n",
        "$$ \\mbox{/content/sample_data/filename.csv}$$"
      ],
      "metadata": {
        "id": "HwDnt221dLyr"
      }
    },
    {
      "cell_type": "code",
      "source": [
        "# Reading data in from COLAB file system\n",
        "LaCrosseWinonaHomePrices <- read_csv(\"/content/sample_data/LaCrosse_Winona_Redfin.csv\")"
      ],
      "metadata": {
        "id": "H9iefJ6IbOX5"
      },
      "execution_count": null,
      "outputs": []
    },
    {
      "cell_type": "markdown",
      "source": [
        "\n",
        "\n",
        "---\n",
        "\n",
        "\n",
        "\n",
        "---\n",
        "\n"
      ],
      "metadata": {
        "id": "106h4Y_SeQQt"
      }
    },
    {
      "cell_type": "markdown",
      "source": [
        "## Read in Data via Google Drive"
      ],
      "metadata": {
        "id": "fbvagePFIVty"
      }
    },
    {
      "cell_type": "markdown",
      "source": [
        "To begin, you will need to drag and drop a copy of the *.csv file from your local computer into your Google Drive.\n",
        "\n",
        "Next, you must make the file shareable and identify Google's File ID for this file.  To do this, right-click on the file and select **Get link**."
      ],
      "metadata": {
        "id": "b4Ed14WjI_EH"
      }
    },
    {
      "cell_type": "markdown",
      "source": [
        "<p align='center'><img src=\"https://drive.google.com/uc?export=view&id=1DmgNP-RIw0grhHteph0_vUJFIkIvyryW\" width='35%' height='35%'></img></p>"
      ],
      "metadata": {
        "id": "t5VqDp8dIVv-"
      }
    },
    {
      "cell_type": "markdown",
      "source": [
        "In the Share window, select **Anyone with the link** under General access.  Click the Copy link button to obtian a copy of the URL for the file."
      ],
      "metadata": {
        "id": "M5uwB_hsIZYY"
      }
    },
    {
      "cell_type": "markdown",
      "source": [
        "<p align='center'><img src=\"https://drive.google.com/uc?export=view&id=1vpBCzpmDmiFSb1WMNWl8khHHKJT8edDz\" width='75%' height='75%'></img></p>"
      ],
      "metadata": {
        "id": "USY9-8A8IZi_"
      }
    },
    {
      "cell_type": "markdown",
      "source": [
        "The following is an example URL to gain access to a file stored in Google Drive.  The File ID is part of this URL."
      ],
      "metadata": {
        "id": "--Uzp88jJz3r"
      }
    },
    {
      "cell_type": "markdown",
      "source": [
        "<p align='center'><img src=\"https://drive.google.com/uc?export=view&id=19yzIvXcumLph0QtPVyQhYW5t1snhg9lV\" width='75%' height='75%'></img></p>"
      ],
      "metadata": {
        "id": "oTvu3RLJIcZQ"
      }
    },
    {
      "cell_type": "markdown",
      "source": [
        "After the Google File ID has be obtained, there are two approaches that can be taken:\n",
        "\n",
        "1.   Use an URL that points directly to the file in Google Drive\n",
        "2.   Download the file from Google Drive to the COLAB file system, then read the data in from the COLAB file system \n",
        "\n"
      ],
      "metadata": {
        "id": "tNywnbNLTzRO"
      }
    },
    {
      "cell_type": "markdown",
      "source": [
        "To use an URL that points directly to the file in your Google Drive, After Google's File ID is obtained, the File ID can be added to the end of the following string.  This URL string is then used to read in the file.\n",
        "\n",
        "$$\n",
        "https://drive.google.com/uc?export=download&id=1ajSXOOCtAe3nnStIOaa-v6U-2KJB116a\n",
        "$$"
      ],
      "metadata": {
        "id": "JK9SXGIhKIyp"
      }
    },
    {
      "cell_type": "code",
      "source": [
        "# Reading data in from Google Drive\n",
        "LaCrosseWinonaHomePrices <- read_csv(\"https://drive.google.com/uc?export=download&id=1ajSXOOCtAe3nnStIOaa-v6U-2KJB116a\")"
      ],
      "metadata": {
        "id": "eSol66TMKI3_"
      },
      "execution_count": null,
      "outputs": []
    },
    {
      "cell_type": "markdown",
      "source": [
        "COLAB has the ability to download files directly from Google Drive into COLAB file system.  The **gdown()** command permits this to happen.  The gdown command is a system-level command (not an R command); thus, must be passed through the system() R function."
      ],
      "metadata": {
        "id": "hJ_wE3T2VAVH"
      }
    },
    {
      "cell_type": "markdown",
      "source": [
        "<u>Note</u>:  The Google File ID specified here is the same as above."
      ],
      "metadata": {
        "id": "FXCy7c7-XonO"
      }
    },
    {
      "cell_type": "code",
      "source": [
        "system(\"gdown --id 1ajSXOOCtAe3nnStIOaa-v6U-2KJB116a\")"
      ],
      "metadata": {
        "id": "1TXnEbL6VAds"
      },
      "execution_count": 4,
      "outputs": []
    },
    {
      "cell_type": "markdown",
      "source": [
        "After the system-level gdown command is executed, the file will be downloaded into COLAB's file system."
      ],
      "metadata": {
        "id": "Z2bf5y67V9Vu"
      }
    },
    {
      "cell_type": "markdown",
      "source": [
        "<p align='center'><img src=\"https://drive.google.com/uc?export=view&id=1KCT-YT4LnSZvbfsrD-JL1vea6d4Mi7Sz\" width='50%' height='50%'></img></p>"
      ],
      "metadata": {
        "id": "ItMvYwdxV-5W"
      }
    },
    {
      "cell_type": "markdown",
      "source": [
        "Finally, the read_csv() function can be used to read in this data from the COLAB file system. Notice, this file was *not* placed in the sample_data folder; thus, the path differs from the path used above."
      ],
      "metadata": {
        "id": "Dp9-mAANYBXW"
      }
    },
    {
      "cell_type": "code",
      "source": [
        "# Reading data in from COLAB file system\n",
        "LaCrosseWinonaHomePrices <- read_csv(\"/content/LaCrosse_Winona_Redfin.csv\")"
      ],
      "metadata": {
        "colab": {
          "base_uri": "https://localhost:8080/"
        },
        "id": "veW-fs_NV9bw",
        "outputId": "0a7edae8-8213-4dc2-b402-beab325747f8"
      },
      "execution_count": 5,
      "outputs": [
        {
          "output_type": "stream",
          "name": "stderr",
          "text": [
            "\u001b[1mRows: \u001b[22m\u001b[34m67\u001b[39m \u001b[1mColumns: \u001b[22m\u001b[34m27\u001b[39m\n",
            "\u001b[36m──\u001b[39m \u001b[1mColumn specification\u001b[22m \u001b[36m────────────────────────────────────────────────────────\u001b[39m\n",
            "\u001b[1mDelimiter:\u001b[22m \",\"\n",
            "\u001b[31mchr\u001b[39m (13): SALETYPE, PROPERTYTYPE, ADDRESS, CITY, STATE, LOCATION, STATUS, NE...\n",
            "\u001b[32mdbl\u001b[39m (13): ZIPCODE, PRICE, BEDS, BATHS, SQUAREFEET, LOTSIZE, YEARBUILT, DAYSO...\n",
            "\u001b[33mlgl\u001b[39m  (1): SOLDDATE\n",
            "\n",
            "\u001b[36mℹ\u001b[39m Use `spec()` to retrieve the full column specification for this data.\n",
            "\u001b[36mℹ\u001b[39m Specify the column types or set `show_col_types = FALSE` to quiet this message.\n"
          ]
        }
      ]
    },
    {
      "cell_type": "markdown",
      "source": [
        "\n",
        "\n",
        "---\n",
        "\n",
        "\n",
        "\n",
        "---\n",
        "\n"
      ],
      "metadata": {
        "id": "2L3k9Dq-S2YO"
      }
    },
    {
      "cell_type": "markdown",
      "source": [
        "## Use head() and tail() to Look at the Data"
      ],
      "metadata": {
        "id": "_fBnXxQGeblk"
      }
    },
    {
      "cell_type": "markdown",
      "metadata": {
        "id": "irbG4lJbENzv"
      },
      "source": [
        "The **head()** function can be used to see the first few lines of a dataset."
      ]
    },
    {
      "cell_type": "code",
      "metadata": {
        "id": "HYKWH2i0EN6s"
      },
      "source": [
        "#Look at data\n",
        "head(LaCrosseWinonaHomePrices)"
      ],
      "execution_count": null,
      "outputs": []
    },
    {
      "cell_type": "markdown",
      "source": [
        "Likewise, <strong>tail()</strong> can be used to see the last few lines in a dataset."
      ],
      "metadata": {
        "id": "I_FDSX1LenTt"
      }
    },
    {
      "cell_type": "code",
      "source": [
        "tail(LaCrosseWinonaHomePrices)"
      ],
      "metadata": {
        "id": "UU88_sraencT"
      },
      "execution_count": null,
      "outputs": []
    },
    {
      "cell_type": "markdown",
      "metadata": {
        "id": "9kkg1lL30Rfw"
      },
      "source": [
        "\n",
        "\n",
        "---\n",
        "\n",
        "\n",
        "\n",
        "---\n",
        "End of Document\n"
      ]
    }
  ]
}