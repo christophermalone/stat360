{
  "nbformat": 4,
  "nbformat_minor": 0,
  "metadata": {
    "colab": {
      "name": "Handout5_SimpleLinearRegression_PartB.ipynb",
      "provenance": [],
      "collapsed_sections": [],
      "authorship_tag": "ABX9TyOXgfQ6sRtFikUU0ATVcN2/",
      "include_colab_link": true
    },
    "kernelspec": {
      "name": "ir",
      "display_name": "R"
    }
  },
  "cells": [
    {
      "cell_type": "markdown",
      "metadata": {
        "id": "view-in-github",
        "colab_type": "text"
      },
      "source": [
        "<a href=\"https://colab.research.google.com/github/christophermalone/stat360/blob/main/Handout5_SimpleLinearRegression_PartB.ipynb\" target=\"_parent\"><img src=\"https://colab.research.google.com/assets/colab-badge.svg\" alt=\"Open In Colab\"/></a>"
      ]
    },
    {
      "cell_type": "markdown",
      "metadata": {
        "id": "KhClO9b02SXA"
      },
      "source": [
        "# Handout #5 : Simple Linear Regression - Part B : Understanding the Standard Errors over Repeated Sampling"
      ]
    },
    {
      "cell_type": "markdown",
      "metadata": {
        "id": "AXDYLbzK2o7e"
      },
      "source": [
        "<table width='100%' ><tr><td bgcolor='green'></td></tr></table>\n",
        "\n",
        "## Example 5.1\n",
        "\n",
        "Consider data on the home prices of homes in Winona.  This data was collected using Redfin website. \n",
        "<table>\n",
        "  <tr>\n",
        "    <td width='50%'>\n",
        "      <ul>\n",
        "        <li><strong>Response Variable</strong>: CurrentPrice ($) </li><br>\n",
        "        <li>Variables under investigation (i.e. independent variables)</li>\n",
        "        <ul>\n",
        "          <li>SquareFeet, the size of the home (ft^2)</li>\n",
        "          <li>Bedroom, number of bedrooms in home</li>\n",
        "          <li>Bathrooms, number of bathrooms in home</li>\n",
        "          <li>Garage, number of vehicle stalls in garage</li>\n",
        "          <li>YearBuilt, the year in which the home was built</li>\n",
        "          <li>LotSize, the size of the lot (ft^2)</li>\n",
        "          <li>Taxes, the amount of taxes on home ($)</li>\n",
        "          <li>DaysOnMarket, the number of days this home has been on the market</li>\n",
        "          <li>OriginalPrice, the original listing price of the home</li>\n",
        "         </ul>\n",
        "    </ul>\n",
        "    </td>\n",
        "    <td width='50%'>\n",
        "<p align='center'><img src=\"https://drive.google.com/uc?export=view&id=1Nl6Jmi0W15ghB9JrJxj40F-230hEwXKm\" width='50%' height='50%'></img></p>\n",
        "  </td>\n",
        "</tr>\n",
        "</table>\n",
        "\n",
        "Data Folder: [OneDrive](https://mnscu-my.sharepoint.com/:f:/g/personal/aq7839yd_minnstate_edu/EmOQfrwxzzRBqq8PH_8qTmMBy-1qKgM11Hb8vzjs025EEA?e=wyShYs)\n",
        "\n",
        "Redfin Data: <a href=\"https://www.redfin.com/city/18151/MN/Winona\">Webpage</a></li>\n",
        "\n",
        "<table width='100%' ><tr><td bgcolor='green'></td></tr></table>\n",
        "\n"
      ]
    },
    {
      "cell_type": "markdown",
      "metadata": {
        "id": "njXGRUIC9Lgs"
      },
      "source": [
        "## Load Data into R via URL"
      ]
    },
    {
      "cell_type": "markdown",
      "metadata": {
        "id": "FoT1NFX3DncH"
      },
      "source": [
        "The tidyverse R package will be used to assist with reading in the dataset into the current R session."
      ]
    },
    {
      "cell_type": "code",
      "metadata": {
        "id": "LgaibuX_DtWK",
        "cellView": "form",
        "colab": {
          "base_uri": "https://localhost:8080/"
        },
        "outputId": "dbfb4826-35c7-4da4-d22a-f89534060dfa"
      },
      "source": [
        "#@title Load Tidyverse\n",
        "#load tidyverse package\n",
        "library(tidyverse)"
      ],
      "execution_count": 2,
      "outputs": [
        {
          "output_type": "stream",
          "name": "stderr",
          "text": [
            "Warning message in system(\"timedatectl\", intern = TRUE):\n",
            "“running command 'timedatectl' had status 1”\n",
            "── \u001b[1mAttaching packages\u001b[22m ─────────────────────────────────────── tidyverse 1.3.1 ──\n",
            "\n",
            "\u001b[32m✔\u001b[39m \u001b[34mggplot2\u001b[39m 3.3.5     \u001b[32m✔\u001b[39m \u001b[34mpurrr  \u001b[39m 0.3.4\n",
            "\u001b[32m✔\u001b[39m \u001b[34mtibble \u001b[39m 3.1.4     \u001b[32m✔\u001b[39m \u001b[34mdplyr  \u001b[39m 1.0.7\n",
            "\u001b[32m✔\u001b[39m \u001b[34mtidyr  \u001b[39m 1.1.3     \u001b[32m✔\u001b[39m \u001b[34mstringr\u001b[39m 1.4.0\n",
            "\u001b[32m✔\u001b[39m \u001b[34mreadr  \u001b[39m 2.0.1     \u001b[32m✔\u001b[39m \u001b[34mforcats\u001b[39m 0.5.1\n",
            "\n",
            "── \u001b[1mConflicts\u001b[22m ────────────────────────────────────────── tidyverse_conflicts() ──\n",
            "\u001b[31m✖\u001b[39m \u001b[34mdplyr\u001b[39m::\u001b[32mfilter()\u001b[39m masks \u001b[34mstats\u001b[39m::filter()\n",
            "\u001b[31m✖\u001b[39m \u001b[34mdplyr\u001b[39m::\u001b[32mlag()\u001b[39m    masks \u001b[34mstats\u001b[39m::lag()\n",
            "\n"
          ]
        }
      ]
    },
    {
      "cell_type": "markdown",
      "metadata": {
        "id": "DPqIPen9D5T3"
      },
      "source": [
        "The **read_csv()** function is used to read in the dataset. "
      ]
    },
    {
      "cell_type": "code",
      "metadata": {
        "id": "e07lUbQ1F1cV",
        "colab": {
          "base_uri": "https://localhost:8080/"
        },
        "cellView": "form",
        "outputId": "386d8abc-47cd-43b9-d139-da267caf6d54"
      },
      "source": [
        "#@title Reading in Data\n",
        "\n",
        "# Reading data in using read.csv via Base \n",
        "WinonaHomePrices <- read_csv(\"http://www.StatsClass.org/stat360/Datasets/HomePrices.csv\")"
      ],
      "execution_count": 3,
      "outputs": [
        {
          "output_type": "stream",
          "name": "stderr",
          "text": [
            "\u001b[1m\u001b[1mRows: \u001b[1m\u001b[22m\u001b[34m\u001b[34m207\u001b[34m\u001b[39m \u001b[1m\u001b[1mColumns: \u001b[1m\u001b[22m\u001b[34m\u001b[34m11\u001b[34m\u001b[39m\n",
            "\n",
            "\u001b[36m──\u001b[39m \u001b[1m\u001b[1mColumn specification\u001b[1m\u001b[22m \u001b[36m────────────────────────────────────────────────────────\u001b[39m\n",
            "\u001b[1mDelimiter:\u001b[22m \",\"\n",
            "\u001b[32mdbl\u001b[39m (11): MLS, CurrentPrice, SquareFeet, Bedrooms, Bathrooms, Garage, YearBu...\n",
            "\n",
            "\n",
            "\u001b[36mℹ\u001b[39m Use \u001b[30m\u001b[47m\u001b[30m\u001b[47m`spec()`\u001b[47m\u001b[30m\u001b[49m\u001b[39m to retrieve the full column specification for this data.\n",
            "\u001b[36mℹ\u001b[39m Specify the column types or set \u001b[30m\u001b[47m\u001b[30m\u001b[47m`show_col_types = FALSE`\u001b[47m\u001b[30m\u001b[49m\u001b[39m to quiet this message.\n",
            "\n"
          ]
        }
      ]
    },
    {
      "cell_type": "markdown",
      "metadata": {
        "id": "irbG4lJbENzv"
      },
      "source": [
        "The **head()** function can be used to see the first few lines of the dataset."
      ]
    },
    {
      "cell_type": "code",
      "metadata": {
        "id": "HYKWH2i0EN6s",
        "colab": {
          "base_uri": "https://localhost:8080/",
          "height": 286
        },
        "cellView": "form",
        "outputId": "81eabc92-7495-4beb-8754-e9cbfd4fbd7d"
      },
      "source": [
        "#@title View the first few rows of data\n",
        "head(WinonaHomePrices)"
      ],
      "execution_count": 4,
      "outputs": [
        {
          "output_type": "display_data",
          "data": {
            "text/plain": [
              "  MLS     CurrentPrice SquareFeet Bedrooms Bathrooms Garage YearBuilt LotSize\n",
              "1 4036305 119900       1936       3        2         2      1920      7000   \n",
              "2 4034062  73700       1696       2        1         1      1916      6860   \n",
              "3 4038971 104500       1196       3        2         2      1890      7000   \n",
              "4 4034561 114900        864       2        1         2      1940      5000   \n",
              "5 4035526 215000       3300       4        3         2      2001        NA   \n",
              "6 4035472 169500       2069       4        2         2      1886      6000   \n",
              "  Taxes DaysonMarket OriginalPrice\n",
              "1 1448  151          129900       \n",
              "2  664  245           73700       \n",
              "3 1216   51          104500       \n",
              "4 1092  218          114900       \n",
              "5 2850  174          215000       \n",
              "6 1584  174          179500       "
            ],
            "text/latex": "A tibble: 6 × 11\n\\begin{tabular}{lllllllllll}\n MLS & CurrentPrice & SquareFeet & Bedrooms & Bathrooms & Garage & YearBuilt & LotSize & Taxes & DaysonMarket & OriginalPrice\\\\\n <dbl> & <dbl> & <dbl> & <dbl> & <dbl> & <dbl> & <dbl> & <dbl> & <dbl> & <dbl> & <dbl>\\\\\n\\hline\n\t 4036305 & 119900 & 1936 & 3 & 2 & 2 & 1920 & 7000 & 1448 & 151 & 129900\\\\\n\t 4034062 &  73700 & 1696 & 2 & 1 & 1 & 1916 & 6860 &  664 & 245 &  73700\\\\\n\t 4038971 & 104500 & 1196 & 3 & 2 & 2 & 1890 & 7000 & 1216 &  51 & 104500\\\\\n\t 4034561 & 114900 &  864 & 2 & 1 & 2 & 1940 & 5000 & 1092 & 218 & 114900\\\\\n\t 4035526 & 215000 & 3300 & 4 & 3 & 2 & 2001 &   NA & 2850 & 174 & 215000\\\\\n\t 4035472 & 169500 & 2069 & 4 & 2 & 2 & 1886 & 6000 & 1584 & 174 & 179500\\\\\n\\end{tabular}\n",
            "text/markdown": "\nA tibble: 6 × 11\n\n| MLS &lt;dbl&gt; | CurrentPrice &lt;dbl&gt; | SquareFeet &lt;dbl&gt; | Bedrooms &lt;dbl&gt; | Bathrooms &lt;dbl&gt; | Garage &lt;dbl&gt; | YearBuilt &lt;dbl&gt; | LotSize &lt;dbl&gt; | Taxes &lt;dbl&gt; | DaysonMarket &lt;dbl&gt; | OriginalPrice &lt;dbl&gt; |\n|---|---|---|---|---|---|---|---|---|---|---|\n| 4036305 | 119900 | 1936 | 3 | 2 | 2 | 1920 | 7000 | 1448 | 151 | 129900 |\n| 4034062 |  73700 | 1696 | 2 | 1 | 1 | 1916 | 6860 |  664 | 245 |  73700 |\n| 4038971 | 104500 | 1196 | 3 | 2 | 2 | 1890 | 7000 | 1216 |  51 | 104500 |\n| 4034561 | 114900 |  864 | 2 | 1 | 2 | 1940 | 5000 | 1092 | 218 | 114900 |\n| 4035526 | 215000 | 3300 | 4 | 3 | 2 | 2001 |   NA | 2850 | 174 | 215000 |\n| 4035472 | 169500 | 2069 | 4 | 2 | 2 | 1886 | 6000 | 1584 | 174 | 179500 |\n\n",
            "text/html": [
              "<table class=\"dataframe\">\n",
              "<caption>A tibble: 6 × 11</caption>\n",
              "<thead>\n",
              "\t<tr><th scope=col>MLS</th><th scope=col>CurrentPrice</th><th scope=col>SquareFeet</th><th scope=col>Bedrooms</th><th scope=col>Bathrooms</th><th scope=col>Garage</th><th scope=col>YearBuilt</th><th scope=col>LotSize</th><th scope=col>Taxes</th><th scope=col>DaysonMarket</th><th scope=col>OriginalPrice</th></tr>\n",
              "\t<tr><th scope=col>&lt;dbl&gt;</th><th scope=col>&lt;dbl&gt;</th><th scope=col>&lt;dbl&gt;</th><th scope=col>&lt;dbl&gt;</th><th scope=col>&lt;dbl&gt;</th><th scope=col>&lt;dbl&gt;</th><th scope=col>&lt;dbl&gt;</th><th scope=col>&lt;dbl&gt;</th><th scope=col>&lt;dbl&gt;</th><th scope=col>&lt;dbl&gt;</th><th scope=col>&lt;dbl&gt;</th></tr>\n",
              "</thead>\n",
              "<tbody>\n",
              "\t<tr><td>4036305</td><td>119900</td><td>1936</td><td>3</td><td>2</td><td>2</td><td>1920</td><td>7000</td><td>1448</td><td>151</td><td>129900</td></tr>\n",
              "\t<tr><td>4034062</td><td> 73700</td><td>1696</td><td>2</td><td>1</td><td>1</td><td>1916</td><td>6860</td><td> 664</td><td>245</td><td> 73700</td></tr>\n",
              "\t<tr><td>4038971</td><td>104500</td><td>1196</td><td>3</td><td>2</td><td>2</td><td>1890</td><td>7000</td><td>1216</td><td> 51</td><td>104500</td></tr>\n",
              "\t<tr><td>4034561</td><td>114900</td><td> 864</td><td>2</td><td>1</td><td>2</td><td>1940</td><td>5000</td><td>1092</td><td>218</td><td>114900</td></tr>\n",
              "\t<tr><td>4035526</td><td>215000</td><td>3300</td><td>4</td><td>3</td><td>2</td><td>2001</td><td>  NA</td><td>2850</td><td>174</td><td>215000</td></tr>\n",
              "\t<tr><td>4035472</td><td>169500</td><td>2069</td><td>4</td><td>2</td><td>2</td><td>1886</td><td>6000</td><td>1584</td><td>174</td><td>179500</td></tr>\n",
              "</tbody>\n",
              "</table>\n"
            ]
          },
          "metadata": {}
        }
      ]
    },
    {
      "cell_type": "markdown",
      "metadata": {
        "id": "1yzIMikj6S_M"
      },
      "source": [
        "## Mean over Repeated Sampling"
      ]
    },
    {
      "cell_type": "code",
      "metadata": {
        "id": "wPVR7svVDXJB"
      },
      "source": [
        "BootMean=function(y,b=100){\n",
        "   output.vec=rep(0,b)\n",
        "   xstar=runif(length(y),0.25,1)\n",
        "   plot(xstar,y,axes=F,ylab=\"\",xlab=\"\",xlim=c(0,1),type=\"n\")\n",
        "   axis(2)\n",
        "   #points(xstar,y)\n",
        "   rug(mean(y),ticksize=0.25,side=2)\n",
        "   points(xstar,y,col=\"white\")\n",
        "\n",
        "   for(i in 1:b){\n",
        "      xstar=runif(length(y),0.25,1)     \n",
        "      ystar=sample(y,size=length(y),replace=TRUE)\n",
        "      output.vec[i]=mean(ystar)\n",
        "      #points(xstar,ystar)\n",
        "      rug(output.vec[i],ticksize=0.25,side=2)\n",
        "      points(xstar,ystar,col=\"white\")   \n",
        "   }\n",
        "   return(output.vec)\n",
        "}\n"
      ],
      "execution_count": 5,
      "outputs": []
    },
    {
      "cell_type": "code",
      "metadata": {
        "colab": {
          "base_uri": "https://localhost:8080/",
          "height": 455
        },
        "id": "wAayatGgDZYY",
        "outputId": "46be3a7b-9fcf-41bf-c8d9-d6021f94445f"
      },
      "source": [
        "BootMean(WinonaHomePrices$CurrentPrice, b=10)"
      ],
      "execution_count": 6,
      "outputs": [
        {
          "output_type": "display_data",
          "data": {
            "text/plain": [
              " [1] 139655.1 135907.1 143926.8 134066.9 138290.2 128926.4 138467.5 130299.3\n",
              " [9] 134745.3 142104.0"
            ],
            "text/latex": "\\begin{enumerate*}\n\\item 139655.096618357\n\\item 135907.130434783\n\\item 143926.763285024\n\\item 134066.850241546\n\\item 138290.169082126\n\\item 128926.449275362\n\\item 138467.492753623\n\\item 130299.347826087\n\\item 134745.323671498\n\\item 142103.966183575\n\\end{enumerate*}\n",
            "text/markdown": "1. 139655.096618357\n2. 135907.130434783\n3. 143926.763285024\n4. 134066.850241546\n5. 138290.169082126\n6. 128926.449275362\n7. 138467.492753623\n8. 130299.347826087\n9. 134745.323671498\n10. 142103.966183575\n\n\n",
            "text/html": [
              "<style>\n",
              ".list-inline {list-style: none; margin:0; padding: 0}\n",
              ".list-inline>li {display: inline-block}\n",
              ".list-inline>li:not(:last-child)::after {content: \"\\00b7\"; padding: 0 .5ex}\n",
              "</style>\n",
              "<ol class=list-inline><li>139655.096618357</li><li>135907.130434783</li><li>143926.763285024</li><li>134066.850241546</li><li>138290.169082126</li><li>128926.449275362</li><li>138467.492753623</li><li>130299.347826087</li><li>134745.323671498</li><li>142103.966183575</li></ol>\n"
            ]
          },
          "metadata": {}
        },
        {
          "output_type": "display_data",
          "data": {
            "image/png": "[encoded data removed]",
            "text/plain": [
              "plot without title"
            ]
          },
          "metadata": {
            "image/png": {
              "width": 420,
              "height": 420
            }
          }
        }
      ]
    },
    {
      "cell_type": "markdown",
      "metadata": {
        "id": "cPBBTDRHHWS-"
      },
      "source": [
        "## Slope over Repeated Sampling"
      ]
    },
    {
      "cell_type": "code",
      "metadata": {
        "id": "we-N8fCyHWb2"
      },
      "source": [
        "#######################################################\n",
        "# Bootstrap Regression\n",
        "# Note: bootstrapping residuals here\n",
        "#######################################################\n",
        "\n",
        "BootReg=function(slr_object,b=100,delay=0){\n",
        "\n",
        "\ty=slr_object$model[,1]\n",
        "\tx=slr_object$model[,2]\n",
        "\tresid=slr_object$residuals\n",
        "\n",
        "\toutput.mat=matrix(0,b,4)\n",
        "\t\n",
        "\tplot(x,y,type=\"n\",xlab=\"SquareFeet\",ylab=\"CurrentPrice\")\n",
        "\t#points(x,y)\n",
        "\tabline(slr_object)\n",
        "\tSys.sleep(2+delay)\n",
        "\tpoints(x,y,col=\"white\")\n",
        "\n",
        "\n",
        "\tfor(i in 1:b){\n",
        "\n",
        "\t\tresidstar = sample(resid,replace=F)\n",
        "\t\tystar=y+residstar\n",
        "\t\tlmtemp = lm(ystar~x)\n",
        "\t\t#points(x,ystar)\n",
        "\t\tabline(lmtemp,col=\"grey\")\n",
        "\t\txjitter1=min(x)+0.67*(max(x)-min(x))+runif(1,-0.2*(max(x)-min(x)),0.2*(max(x)-min(x)))\n",
        "\t\txjitter2=xjitter1 + 0.1*(max(x)-min(x))\n",
        "\t\tsegments(xjitter1,+lmtemp$coefficients[[1]]+xjitter1*lmtemp$coefficients[[2]],xjitter2,lmtemp$coefficients[[1]]+xjitter1*lmtemp$coefficients[[2]])\n",
        "\t\tsegments(xjitter2,lmtemp$coefficients[[1]]+xjitter1*lmtemp$coefficients[[2]],xjitter2,lmtemp$coefficients[[1]]+xjitter2*lmtemp$coefficients[[2]])\n",
        "\t\ttext(xjitter2+0.02*(max(x)-min(x)),lmtemp$coefficients[[1]]+xjitter1*lmtemp$coefficients[[2]],round(lmtemp$coefficients[[2]],2),cex=0.75)\n",
        "\t\tSys.sleep(delay)\n",
        "\t\tpoints(x,ystar,col=\"white\")\n",
        "\t\t\n",
        "\t\toutput.mat[i,1]=lmtemp$coefficients[[1]]\n",
        "\t\toutput.mat[i,2]=lmtemp$coefficients[[2]]\n",
        "\t\t\n",
        "\t}\n",
        "\t\n",
        "\tIntercept = output.mat[,1]\n",
        "\tSlope = output.mat[,2]\n",
        "\treturn(data.frame(Intercept, Slope))\n",
        "}\n"
      ],
      "execution_count": 7,
      "outputs": []
    },
    {
      "cell_type": "markdown",
      "metadata": {
        "id": "tDN2fi-fHYAs"
      },
      "source": [
        "First, get a model object"
      ]
    },
    {
      "cell_type": "code",
      "metadata": {
        "id": "G06aygJoHYJB"
      },
      "source": [
        "WinonaHomePrices_Model <- lm(CurrentPrice ~ SquareFeet, data=WinonaHomePrices)"
      ],
      "execution_count": 8,
      "outputs": []
    },
    {
      "cell_type": "markdown",
      "metadata": {
        "id": "-ni6etMxHzPl"
      },
      "source": [
        "Using the BootReg() function to get the slopes over repeated sampling"
      ]
    },
    {
      "cell_type": "code",
      "metadata": {
        "colab": {
          "base_uri": "https://localhost:8080/",
          "height": 831
        },
        "id": "na18JqF1HzWh",
        "outputId": "07622613-3142-4d2d-febd-5a6d4114ad28"
      },
      "source": [
        "BootReg(WinonaHomePrices_Model, b=10)"
      ],
      "execution_count": 10,
      "outputs": [
        {
          "output_type": "display_data",
          "data": {
            "text/plain": [
              "   Intercept Slope   \n",
              "1  50906.95  44.34069\n",
              "2  46918.81  46.44621\n",
              "3  36182.95  52.11414\n",
              "4  46299.58  46.77313\n",
              "5  52216.56  43.64929\n",
              "6  40580.28  49.79260\n",
              "7  42819.45  48.61044\n",
              "8  42941.35  48.54608\n",
              "9  49613.86  45.02337\n",
              "10 46710.41  46.55623"
            ],
            "text/latex": "A data.frame: 10 × 2\n\\begin{tabular}{ll}\n Intercept & Slope\\\\\n <dbl> & <dbl>\\\\\n\\hline\n\t 50906.95 & 44.34069\\\\\n\t 46918.81 & 46.44621\\\\\n\t 36182.95 & 52.11414\\\\\n\t 46299.58 & 46.77313\\\\\n\t 52216.56 & 43.64929\\\\\n\t 40580.28 & 49.79260\\\\\n\t 42819.45 & 48.61044\\\\\n\t 42941.35 & 48.54608\\\\\n\t 49613.86 & 45.02337\\\\\n\t 46710.41 & 46.55623\\\\\n\\end{tabular}\n",
            "text/markdown": "\nA data.frame: 10 × 2\n\n| Intercept &lt;dbl&gt; | Slope &lt;dbl&gt; |\n|---|---|\n| 50906.95 | 44.34069 |\n| 46918.81 | 46.44621 |\n| 36182.95 | 52.11414 |\n| 46299.58 | 46.77313 |\n| 52216.56 | 43.64929 |\n| 40580.28 | 49.79260 |\n| 42819.45 | 48.61044 |\n| 42941.35 | 48.54608 |\n| 49613.86 | 45.02337 |\n| 46710.41 | 46.55623 |\n\n",
            "text/html": [
              "<table class=\"dataframe\">\n",
              "<caption>A data.frame: 10 × 2</caption>\n",
              "<thead>\n",
              "\t<tr><th scope=col>Intercept</th><th scope=col>Slope</th></tr>\n",
              "\t<tr><th scope=col>&lt;dbl&gt;</th><th scope=col>&lt;dbl&gt;</th></tr>\n",
              "</thead>\n",
              "<tbody>\n",
              "\t<tr><td>50906.95</td><td>44.34069</td></tr>\n",
              "\t<tr><td>46918.81</td><td>46.44621</td></tr>\n",
              "\t<tr><td>36182.95</td><td>52.11414</td></tr>\n",
              "\t<tr><td>46299.58</td><td>46.77313</td></tr>\n",
              "\t<tr><td>52216.56</td><td>43.64929</td></tr>\n",
              "\t<tr><td>40580.28</td><td>49.79260</td></tr>\n",
              "\t<tr><td>42819.45</td><td>48.61044</td></tr>\n",
              "\t<tr><td>42941.35</td><td>48.54608</td></tr>\n",
              "\t<tr><td>49613.86</td><td>45.02337</td></tr>\n",
              "\t<tr><td>46710.41</td><td>46.55623</td></tr>\n",
              "</tbody>\n",
              "</table>\n"
            ]
          },
          "metadata": {}
        },
        {
          "output_type": "display_data",
          "data": {
            "image/png": "[encoded data removed]",
            "text/plain": [
              "plot without title"
            ]
          },
          "metadata": {
            "image/png": {
              "width": 420,
              "height": 420
            }
          }
        }
      ]
    },
    {
      "cell_type": "markdown",
      "metadata": {
        "id": "9kkg1lL30Rfw"
      },
      "source": [
        "End of Document"
      ]
    }
  ]
}