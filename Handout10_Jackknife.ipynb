{
  "nbformat": 4,
  "nbformat_minor": 0,
  "metadata": {
    "colab": {
      "name": "Handout10_Jackknife.ipynb",
      "provenance": [],
      "collapsed_sections": [],
      "authorship_tag": "ABX9TyMyZSKhA2wd8LPoSf+TQhFN",
      "include_colab_link": true
    },
    "kernelspec": {
      "display_name": "R",
      "name": "ir"
    }
  },
  "cells": [
    {
      "cell_type": "markdown",
      "metadata": {
        "id": "view-in-github",
        "colab_type": "text"
      },
      "source": [
        "<a href=\"https://colab.research.google.com/github/christophermalone/stat360/blob/main/Handout10_Jackknife.ipynb\" target=\"_parent\"><img src=\"https://colab.research.google.com/assets/colab-badge.svg\" alt=\"Open In Colab\"/></a>"
      ]
    },
    {
      "cell_type": "markdown",
      "metadata": {
        "id": "KhClO9b02SXA"
      },
      "source": [
        "# Handout #10 : The \"Leave-One-Out\" Concept, i.e. Jackknife"
      ]
    },
    {
      "cell_type": "markdown",
      "metadata": {
        "id": "njXGRUIC9Lgs"
      },
      "source": [
        "## Load Tidyverse"
      ]
    },
    {
      "cell_type": "markdown",
      "metadata": {
        "id": "FoT1NFX3DncH"
      },
      "source": [
        "The tidyverse R package will be used to assist with reading in the dataset into the current R session."
      ]
    },
    {
      "cell_type": "code",
      "metadata": {
        "id": "LgaibuX_DtWK",
        "colab": {
          "base_uri": "https://localhost:8080/"
        },
        "outputId": "d40b87cb-2c32-4f2a-bc23-d6cb6cd55892"
      },
      "source": [
        "#@title Load Tidyverse\n",
        "#load tidyverse package\n",
        "library(tidyverse)"
      ],
      "execution_count": null,
      "outputs": [
        {
          "output_type": "stream",
          "name": "stderr",
          "text": [
            "Warning message in system(\"timedatectl\", intern = TRUE):\n",
            "“running command 'timedatectl' had status 1”\n",
            "── \u001b[1mAttaching packages\u001b[22m ─────────────────────────────────────── tidyverse 1.3.1 ──\n",
            "\n",
            "\u001b[32m✔\u001b[39m \u001b[34mggplot2\u001b[39m 3.3.5     \u001b[32m✔\u001b[39m \u001b[34mpurrr  \u001b[39m 0.3.4\n",
            "\u001b[32m✔\u001b[39m \u001b[34mtibble \u001b[39m 3.1.5     \u001b[32m✔\u001b[39m \u001b[34mdplyr  \u001b[39m 1.0.7\n",
            "\u001b[32m✔\u001b[39m \u001b[34mtidyr  \u001b[39m 1.1.4     \u001b[32m✔\u001b[39m \u001b[34mstringr\u001b[39m 1.4.0\n",
            "\u001b[32m✔\u001b[39m \u001b[34mreadr  \u001b[39m 2.0.2     \u001b[32m✔\u001b[39m \u001b[34mforcats\u001b[39m 0.5.1\n",
            "\n",
            "── \u001b[1mConflicts\u001b[22m ────────────────────────────────────────── tidyverse_conflicts() ──\n",
            "\u001b[31m✖\u001b[39m \u001b[34mdplyr\u001b[39m::\u001b[32mfilter()\u001b[39m masks \u001b[34mstats\u001b[39m::filter()\n",
            "\u001b[31m✖\u001b[39m \u001b[34mdplyr\u001b[39m::\u001b[32mlag()\u001b[39m    masks \u001b[34mstats\u001b[39m::lag()\n",
            "\n"
          ]
        }
      ]
    },
    {
      "cell_type": "markdown",
      "metadata": {
        "id": "u7fj-9Y5Wr8r"
      },
      "source": [
        "\n",
        "\n",
        "---\n",
        "\n",
        "\n"
      ]
    },
    {
      "cell_type": "markdown",
      "metadata": {
        "id": "DPqIPen9D5T3"
      },
      "source": [
        "## Simple Case: \"Leave-One-Out\" for a Mean"
      ]
    },
    {
      "cell_type": "markdown",
      "metadata": {
        "id": "hhvtHAS3MFZ3"
      },
      "source": [
        "Let's suppose we have a simple data vector, say $\\bf{y}$.\n",
        "\n",
        "$$\\bf{y} = \\begin{bmatrix}\n",
        "2 \\\\\n",
        "3 \\\\\n",
        "5 \\\\\n",
        "8 \\\\\n",
        "10 \\\\\n",
        "\\end{bmatrix}$$\n"
      ]
    },
    {
      "cell_type": "markdown",
      "metadata": {
        "id": "r38Z6RaLR4hL"
      },
      "source": [
        "Putting this vector into R."
      ]
    },
    {
      "cell_type": "code",
      "metadata": {
        "id": "E-ETftbYR4qI"
      },
      "source": [
        "y <- c(2, 3, 5, 8, 10)"
      ],
      "execution_count": 67,
      "outputs": []
    },
    {
      "cell_type": "markdown",
      "metadata": {
        "id": "ZfZEchqjSBUx"
      },
      "source": [
        "Next, getting the mean of $\\bf{y}$ using the mean() function."
      ]
    },
    {
      "cell_type": "code",
      "metadata": {
        "colab": {
          "base_uri": "https://localhost:8080/",
          "height": 35
        },
        "id": "tzSAC5yaR_TB",
        "outputId": "396bba55-6036-4b73-d142-9c2593952eb7"
      },
      "source": [
        "mean(y)"
      ],
      "execution_count": 68,
      "outputs": [
        {
          "output_type": "display_data",
          "data": {
            "text/plain": [
              "[1] 5.6"
            ],
            "text/latex": "5.6",
            "text/markdown": "5.6",
            "text/html": [
              "5.6"
            ]
          },
          "metadata": {}
        }
      ]
    },
    {
      "cell_type": "markdown",
      "metadata": {
        "id": "CRQA64KDSLO5"
      },
      "source": [
        "The minus argument can be used to *temporarily* withhold an observation from calculations done on an object.  For example, the following will calculate the mean of y without the $1^{st}$ observation.  \n"
      ]
    },
    {
      "cell_type": "code",
      "metadata": {
        "colab": {
          "base_uri": "https://localhost:8080/",
          "height": 104
        },
        "id": "R5IHHe5wSLWI",
        "outputId": "fcf5fb17-2a15-491b-8c8d-950f76c8c2c9"
      },
      "source": [
        "#What does y look like without the 1st observation\n",
        "cat(\"y vector without 1st observation: \")\n",
        "y[-1]\n",
        "\n",
        "cat(\"\\n\")\n",
        "\n",
        "#Getting the mean of y without the 1st observation\n",
        "cat(\"Mean of y without 1st observation:\")\n",
        "mean( y[-1] )"
      ],
      "execution_count": 69,
      "outputs": [
        {
          "output_type": "stream",
          "name": "stdout",
          "text": [
            "y vector without 1st observation: "
          ]
        },
        {
          "output_type": "display_data",
          "data": {
            "text/plain": [
              "[1]  3  5  8 10"
            ],
            "text/latex": "\\begin{enumerate*}\n\\item 3\n\\item 5\n\\item 8\n\\item 10\n\\end{enumerate*}\n",
            "text/markdown": "1. 3\n2. 5\n3. 8\n4. 10\n\n\n",
            "text/html": [
              "<style>\n",
              ".list-inline {list-style: none; margin:0; padding: 0}\n",
              ".list-inline>li {display: inline-block}\n",
              ".list-inline>li:not(:last-child)::after {content: \"\\00b7\"; padding: 0 .5ex}\n",
              "</style>\n",
              "<ol class=list-inline><li>3</li><li>5</li><li>8</li><li>10</li></ol>\n"
            ]
          },
          "metadata": {}
        },
        {
          "output_type": "stream",
          "name": "stdout",
          "text": [
            "\n",
            "Mean of y without 1st observation:"
          ]
        },
        {
          "output_type": "display_data",
          "data": {
            "text/plain": [
              "[1] 6.5"
            ],
            "text/latex": "6.5",
            "text/markdown": "6.5",
            "text/html": [
              "6.5"
            ]
          },
          "metadata": {}
        }
      ]
    },
    {
      "cell_type": "markdown",
      "metadata": {
        "id": "BB4yiJx7TIMQ"
      },
      "source": [
        "Next, continue by removing the $2^{nd}$ observation from consideration."
      ]
    },
    {
      "cell_type": "code",
      "metadata": {
        "colab": {
          "base_uri": "https://localhost:8080/",
          "height": 104
        },
        "id": "Bc8JJGFrS8Pz",
        "outputId": "e3df6aa5-9832-4b0b-f7a0-d09a1ec74a3a"
      },
      "source": [
        "#What does y look like without the 2nd observation\n",
        "cat(\"y vector without 2nd observation: \")\n",
        "y[-2]\n",
        "\n",
        "cat(\"\\n\")\n",
        "\n",
        "#Getting the mean of y without the 1st observation\n",
        "cat(\"Mean of y without 2nd observation:\")\n",
        "mean( y[-2] )"
      ],
      "execution_count": 70,
      "outputs": [
        {
          "output_type": "stream",
          "name": "stdout",
          "text": [
            "y vector without 2nd observation: "
          ]
        },
        {
          "output_type": "display_data",
          "data": {
            "text/plain": [
              "[1]  2  5  8 10"
            ],
            "text/latex": "\\begin{enumerate*}\n\\item 2\n\\item 5\n\\item 8\n\\item 10\n\\end{enumerate*}\n",
            "text/markdown": "1. 2\n2. 5\n3. 8\n4. 10\n\n\n",
            "text/html": [
              "<style>\n",
              ".list-inline {list-style: none; margin:0; padding: 0}\n",
              ".list-inline>li {display: inline-block}\n",
              ".list-inline>li:not(:last-child)::after {content: \"\\00b7\"; padding: 0 .5ex}\n",
              "</style>\n",
              "<ol class=list-inline><li>2</li><li>5</li><li>8</li><li>10</li></ol>\n"
            ]
          },
          "metadata": {}
        },
        {
          "output_type": "stream",
          "name": "stdout",
          "text": [
            "\n",
            "Mean of y without 2nd observation:"
          ]
        },
        {
          "output_type": "display_data",
          "data": {
            "text/plain": [
              "[1] 6.25"
            ],
            "text/latex": "6.25",
            "text/markdown": "6.25",
            "text/html": [
              "6.25"
            ]
          },
          "metadata": {}
        }
      ]
    },
    {
      "cell_type": "markdown",
      "metadata": {
        "id": "NaD7EuxDTD2Q"
      },
      "source": [
        "Continue with remaining observations."
      ]
    },
    {
      "cell_type": "code",
      "metadata": {
        "colab": {
          "base_uri": "https://localhost:8080/",
          "height": 156
        },
        "id": "3gyrIxvoTD8n",
        "outputId": "c267c65e-8a17-484e-fee2-6666e1e50bdb"
      },
      "source": [
        "#Getting the mean of y without the 3rd observation\n",
        "cat(\"Mean of y without 3rd observation:\")\n",
        "mean( y[-3] )\n",
        "\n",
        "cat(\"\\n\")\n",
        "\n",
        "#Getting the mean of y without the 4th observation\n",
        "cat(\"Mean of y without 4th observation:\")\n",
        "mean( y[-4] )\n",
        "\n",
        "cat(\"\\n\")\n",
        "\n",
        "#Getting the mean of y without the 5th observation\n",
        "cat(\"Mean of y without 5th observation:\")\n",
        "mean( y[-5] )"
      ],
      "execution_count": 71,
      "outputs": [
        {
          "output_type": "stream",
          "name": "stdout",
          "text": [
            "Mean of y without 3rd observation:"
          ]
        },
        {
          "output_type": "display_data",
          "data": {
            "text/plain": [
              "[1] 5.75"
            ],
            "text/latex": "5.75",
            "text/markdown": "5.75",
            "text/html": [
              "5.75"
            ]
          },
          "metadata": {}
        },
        {
          "output_type": "stream",
          "name": "stdout",
          "text": [
            "\n",
            "Mean of y without 4th observation:"
          ]
        },
        {
          "output_type": "display_data",
          "data": {
            "text/plain": [
              "[1] 5"
            ],
            "text/latex": "5",
            "text/markdown": "5",
            "text/html": [
              "5"
            ]
          },
          "metadata": {}
        },
        {
          "output_type": "stream",
          "name": "stdout",
          "text": [
            "\n",
            "Mean of y without 5th observation:"
          ]
        },
        {
          "output_type": "display_data",
          "data": {
            "text/plain": [
              "[1] 4.5"
            ],
            "text/latex": "4.5",
            "text/markdown": "4.5",
            "text/html": [
              "4.5"
            ]
          },
          "metadata": {}
        }
      ]
    },
    {
      "cell_type": "code",
      "metadata": {
        "id": "Q_B_Xo8mT4aY"
      },
      "source": [
        ""
      ],
      "execution_count": 72,
      "outputs": []
    },
    {
      "cell_type": "markdown",
      "metadata": {
        "id": "ZKr7iJf5ToL7"
      },
      "source": [
        "## Leave-One-Out Algorithm for a Mean"
      ]
    },
    {
      "cell_type": "markdown",
      "metadata": {
        "id": "qOqRXgJ_T2W7"
      },
      "source": [
        "Step 1: Create an output vector to hold the outcomes from the algorithm"
      ]
    },
    {
      "cell_type": "code",
      "metadata": {
        "colab": {
          "base_uri": "https://localhost:8080/",
          "height": 35
        },
        "id": "iJHa1ubXToUI",
        "outputId": "dbd4f219-b4e9-4cdf-96b2-3d37445f561c"
      },
      "source": [
        "output = rep(0,5)\n",
        "output"
      ],
      "execution_count": null,
      "outputs": [
        {
          "output_type": "display_data",
          "data": {
            "text/plain": [
              "[1] 0 0 0 0 0"
            ],
            "text/latex": "\\begin{enumerate*}\n\\item 0\n\\item 0\n\\item 0\n\\item 0\n\\item 0\n\\end{enumerate*}\n",
            "text/markdown": "1. 0\n2. 0\n3. 0\n4. 0\n5. 0\n\n\n",
            "text/html": [
              "<style>\n",
              ".list-inline {list-style: none; margin:0; padding: 0}\n",
              ".list-inline>li {display: inline-block}\n",
              ".list-inline>li:not(:last-child)::after {content: \"\\00b7\"; padding: 0 .5ex}\n",
              "</style>\n",
              "<ol class=list-inline><li>0</li><li>0</li><li>0</li><li>0</li><li>0</li></ol>\n"
            ]
          },
          "metadata": {}
        }
      ]
    },
    {
      "cell_type": "markdown",
      "metadata": {
        "id": "WMoB4qAuUCY7"
      },
      "source": [
        "Step #2:  Use a for() loop to cycle through for each of the five observations\n"
      ]
    },
    {
      "cell_type": "code",
      "metadata": {
        "colab": {
          "base_uri": "https://localhost:8080/",
          "height": 52
        },
        "id": "jJ6glfSUUCgY",
        "outputId": "c4bca3ab-37c0-471d-e716-3d14b98631e1"
      },
      "source": [
        "for(i in 1:5){\n",
        "               output[i] = mean( y[-i] )\n",
        "             }\n",
        "\n",
        "cat(\"Output vector after for() loop: \")\n",
        "output"
      ],
      "execution_count": null,
      "outputs": [
        {
          "output_type": "stream",
          "name": "stdout",
          "text": [
            "Output vector after for() loop: "
          ]
        },
        {
          "output_type": "display_data",
          "data": {
            "text/plain": [
              "[1] 6.50 6.25 5.75 5.00 4.50"
            ],
            "text/latex": "\\begin{enumerate*}\n\\item 6.5\n\\item 6.25\n\\item 5.75\n\\item 5\n\\item 4.5\n\\end{enumerate*}\n",
            "text/markdown": "1. 6.5\n2. 6.25\n3. 5.75\n4. 5\n5. 4.5\n\n\n",
            "text/html": [
              "<style>\n",
              ".list-inline {list-style: none; margin:0; padding: 0}\n",
              ".list-inline>li {display: inline-block}\n",
              ".list-inline>li:not(:last-child)::after {content: \"\\00b7\"; padding: 0 .5ex}\n",
              "</style>\n",
              "<ol class=list-inline><li>6.5</li><li>6.25</li><li>5.75</li><li>5</li><li>4.5</li></ol>\n"
            ]
          },
          "metadata": {}
        }
      ]
    },
    {
      "cell_type": "markdown",
      "metadata": {
        "id": "Qq5IS3V4UevD"
      },
      "source": [
        "### Writing your own function for the \"Leave-One-Out\" Method"
      ]
    },
    {
      "cell_type": "markdown",
      "metadata": {
        "id": "IUyI_3N4U_N6"
      },
      "source": [
        "Consider the following code that will create a function in R.  A function is simply a collection of code.  A well-written function allows your code to be more flexible and have increased functionality.\n",
        "\n",
        "A function in R should:\n",
        "\n",
        "*   Have a good name\n",
        "*   Have clearly defined chunks of code with comments\n",
        "*   Return something\n",
        "*   Often functions contain input arguments\n",
        "\n"
      ]
    },
    {
      "cell_type": "code",
      "metadata": {
        "id": "k3NX3vqVUe3w"
      },
      "source": [
        "#A custom function which has name mean.jackknife\n",
        "#This function takes one input argument, z\n",
        "#This function returns a vector of the jackknife mean\n",
        "\n",
        "mean.jackknife = function(z){\n",
        "    \n",
        "    #Find the length of z\n",
        "    n = length(z)\n",
        "    \n",
        "    #Setup output vector\n",
        "    output = rep(0,n)\n",
        "    \n",
        "    #Loop for iterations\n",
        "    for(i in 1:n){\n",
        "        output[i] = mean( z[-i])\n",
        "    }\n",
        "    \n",
        "    #Return the output vector\n",
        "    return(output)\n",
        "\n",
        "}"
      ],
      "execution_count": null,
      "outputs": []
    },
    {
      "cell_type": "markdown",
      "metadata": {
        "id": "yr60yQ_HUs4R"
      },
      "source": [
        "Next, let's use our custom function to obtain the jackknife mean of the vector $\\bf{y}$."
      ]
    },
    {
      "cell_type": "code",
      "metadata": {
        "colab": {
          "base_uri": "https://localhost:8080/",
          "height": 35
        },
        "id": "ARMLU6LBUtAA",
        "outputId": "11aa99c9-3455-40bd-f76d-d1c4be41aa21"
      },
      "source": [
        "mean.jackknife(y)"
      ],
      "execution_count": null,
      "outputs": [
        {
          "output_type": "display_data",
          "data": {
            "text/plain": [
              "[1] 6.50 6.25 5.75 5.00 4.50"
            ],
            "text/latex": "\\begin{enumerate*}\n\\item 6.5\n\\item 6.25\n\\item 5.75\n\\item 5\n\\item 4.5\n\\end{enumerate*}\n",
            "text/markdown": "1. 6.5\n2. 6.25\n3. 5.75\n4. 5\n5. 4.5\n\n\n",
            "text/html": [
              "<style>\n",
              ".list-inline {list-style: none; margin:0; padding: 0}\n",
              ".list-inline>li {display: inline-block}\n",
              ".list-inline>li:not(:last-child)::after {content: \"\\00b7\"; padding: 0 .5ex}\n",
              "</style>\n",
              "<ol class=list-inline><li>6.5</li><li>6.25</li><li>5.75</li><li>5</li><li>4.5</li></ol>\n"
            ]
          },
          "metadata": {}
        }
      ]
    },
    {
      "cell_type": "markdown",
      "metadata": {
        "id": "Bh6Qji4I7K3F"
      },
      "source": [
        "## \"Leave-One-Out\" for Regression Coefficients"
      ]
    },
    {
      "cell_type": "markdown",
      "metadata": {
        "id": "QeV1viTmZiz5"
      },
      "source": [
        "Next, let us consider the application of \"leave-one-out\" to coefficients from a simple linear regression model.\n",
        "\n",
        "Suppose we have two vectors, say $\\bf{y} = [2, 3, 5, 8, 10]$ and $\\bf{x} = [1, 2, 3, 4, 5]$.   Next, put these vectors in a data.frame named $\\bf{mydata}$.\n",
        "\n",
        "$$\\bf{mydata} = \\begin{bmatrix}\n",
        "          2 & 1 \\\\\n",
        "          3 & 2\\\\\n",
        "          5 & 3\\\\\n",
        "          8 & 4\\\\\n",
        "          10 & 5\\\\\n",
        "          \\end{bmatrix}\n",
        "$$ \n"
      ]
    },
    {
      "cell_type": "code",
      "metadata": {
        "colab": {
          "base_uri": "https://localhost:8080/",
          "height": 272
        },
        "id": "ZCYA90_jcVj8",
        "outputId": "536b426a-b1dd-452c-b4c8-0b395dc5704c"
      },
      "source": [
        "#Getting the two vectors in R\n",
        "y_vector = c(2, 3, 5, 8, 10)\n",
        "x_vector = c(1, 2, 3, 4, 5)\n",
        "\n",
        "#Creating the mydata data.frame\n",
        "mydata <- data.frame(y=y_vector, x = x_vector)\n",
        "mydata"
      ],
      "execution_count": null,
      "outputs": [
        {
          "output_type": "display_data",
          "data": {
            "text/plain": [
              "  y  x\n",
              "1  2 1\n",
              "2  3 2\n",
              "3  5 3\n",
              "4  8 4\n",
              "5 10 5"
            ],
            "text/latex": "A data.frame: 5 × 2\n\\begin{tabular}{ll}\n y & x\\\\\n <dbl> & <dbl>\\\\\n\\hline\n\t  2 & 1\\\\\n\t  3 & 2\\\\\n\t  5 & 3\\\\\n\t  8 & 4\\\\\n\t 10 & 5\\\\\n\\end{tabular}\n",
            "text/markdown": "\nA data.frame: 5 × 2\n\n| y &lt;dbl&gt; | x &lt;dbl&gt; |\n|---|---|\n|  2 | 1 |\n|  3 | 2 |\n|  5 | 3 |\n|  8 | 4 |\n| 10 | 5 |\n\n",
            "text/html": [
              "<table class=\"dataframe\">\n",
              "<caption>A data.frame: 5 × 2</caption>\n",
              "<thead>\n",
              "\t<tr><th scope=col>y</th><th scope=col>x</th></tr>\n",
              "\t<tr><th scope=col>&lt;dbl&gt;</th><th scope=col>&lt;dbl&gt;</th></tr>\n",
              "</thead>\n",
              "<tbody>\n",
              "\t<tr><td> 2</td><td>1</td></tr>\n",
              "\t<tr><td> 3</td><td>2</td></tr>\n",
              "\t<tr><td> 5</td><td>3</td></tr>\n",
              "\t<tr><td> 8</td><td>4</td></tr>\n",
              "\t<tr><td>10</td><td>5</td></tr>\n",
              "</tbody>\n",
              "</table>\n"
            ]
          },
          "metadata": {}
        }
      ]
    },
    {
      "cell_type": "markdown",
      "metadata": {
        "id": "JFh5waMocq1M"
      },
      "source": [
        "The lm() function will be used to fit the least-square regression model for $y \\sim x$. \n",
        "\n",
        "$$\n",
        "E(Y|X=x) = \\beta_{0} + \\beta_{1}*x\n",
        "$$"
      ]
    },
    {
      "cell_type": "code",
      "metadata": {
        "colab": {
          "base_uri": "https://localhost:8080/",
          "height": 139
        },
        "id": "7vBNhDD_cq77",
        "outputId": "e25b5f19-f292-4a7a-e16b-f8b75974947d"
      },
      "source": [
        "myfit <- lm(y~x, data = mydata)\n",
        "myfit"
      ],
      "execution_count": null,
      "outputs": [
        {
          "output_type": "display_data",
          "data": {
            "text/plain": [
              "\n",
              "Call:\n",
              "lm(formula = y ~ x, data = mydata)\n",
              "\n",
              "Coefficients:\n",
              "(Intercept)            x  \n",
              "       -0.7          2.1  \n"
            ]
          },
          "metadata": {}
        }
      ]
    },
    {
      "cell_type": "markdown",
      "metadata": {
        "id": "BcR5KSj_c6YA"
      },
      "source": [
        "The coefficients from the linear model can be obtained by specifying $coefficients on the linear model object."
      ]
    },
    {
      "cell_type": "code",
      "metadata": {
        "colab": {
          "base_uri": "https://localhost:8080/",
          "height": 35
        },
        "id": "5SQEyp0Vc6e8",
        "outputId": "ee01486c-427f-4e3f-a185-c73fbeb6ca91"
      },
      "source": [
        "myfit$coefficients"
      ],
      "execution_count": null,
      "outputs": [
        {
          "output_type": "display_data",
          "data": {
            "text/plain": [
              "(Intercept)           x \n",
              "       -0.7         2.1 "
            ],
            "text/latex": "\\begin{description*}\n\\item[(Intercept)] -0.699999999999999\n\\item[x] 2.1\n\\end{description*}\n",
            "text/markdown": "(Intercept)\n:   -0.699999999999999x\n:   2.1\n\n",
            "text/html": [
              "<style>\n",
              ".dl-inline {width: auto; margin:0; padding: 0}\n",
              ".dl-inline>dt, .dl-inline>dd {float: none; width: auto; display: inline-block}\n",
              ".dl-inline>dt::after {content: \":\\0020\"; padding-right: .5ex}\n",
              ".dl-inline>dt:not(:first-of-type) {padding-left: .5ex}\n",
              "</style><dl class=dl-inline><dt>(Intercept)</dt><dd>-0.699999999999999</dd><dt>x</dt><dd>2.1</dd></dl>\n"
            ]
          },
          "metadata": {}
        }
      ]
    },
    {
      "cell_type": "markdown",
      "metadata": {
        "id": "85j-kr3ldcUF"
      },
      "source": [
        "The following code can be used to obtain the second coefficient from the linear model object, i.e. $\\hat{\\beta}_{1}$"
      ]
    },
    {
      "cell_type": "code",
      "metadata": {
        "colab": {
          "base_uri": "https://localhost:8080/",
          "height": 35
        },
        "id": "jY626KLIdcb8",
        "outputId": "05b45032-d991-4419-9666-d7712eba9f94"
      },
      "source": [
        "myfit$coefficients[2]"
      ],
      "execution_count": null,
      "outputs": [
        {
          "output_type": "display_data",
          "data": {
            "text/plain": [
              "  x \n",
              "2.1 "
            ],
            "text/latex": "\\textbf{x:} 2.1",
            "text/markdown": "**x:** 2.1",
            "text/html": [
              "<strong>x:</strong> 2.1"
            ]
          },
          "metadata": {}
        }
      ]
    },
    {
      "cell_type": "markdown",
      "metadata": {
        "id": "l2mcI3FOfAtO"
      },
      "source": [
        "### Writing your own DFBETA Function "
      ]
    },
    {
      "cell_type": "markdown",
      "metadata": {
        "id": "e8l6SQ7cfG8G"
      },
      "source": [
        "The following is a custom function, named betahat.jackknife(), that is used to obtain the jackknife estimates from a simple linear model."
      ]
    },
    {
      "cell_type": "code",
      "metadata": {
        "id": "F_EWPEHOfHC2"
      },
      "source": [
        "#A custom function for obtaining DFBETAs\n",
        "#INPUTS\n",
        "#      This function takes two input arguments\n",
        "#      1) A simple linear regression object, and \n",
        "#      2) data.frame used for fitting SLR model\n",
        "#OUTPUTS\n",
        "#     This function returns a data.frame of the jackknife \n",
        "#     estimates of the regression coefficients\n",
        "\n",
        "betahat.jackknife=function(slr_object,data_for_fit){\n",
        "    \n",
        "    #Getting the number of rows in data_for_fit\n",
        "    n = dim(data_for_fit)[1]\n",
        "    \n",
        "    #Creating the output data frame, column 1 for beta0hat and \n",
        "    # column 2 for beta1hat\n",
        "    output = data.frame( beta0hat=numeric() , beta1hat=numeric() )\n",
        "\n",
        "    #Looping through data, Beta0hat will be put into column 1\n",
        "    # and Beta1hat will be put into column 2 \n",
        "    for(i in 1:n){\n",
        "        fit_i=lm(formula(slr_object),data=data_for_fit[-i,])\n",
        "        output[i,1]=fit_i$coefficients[1]\n",
        "        output[i,2]=fit_i$coefficients[2]\n",
        "    }\n",
        "    \n",
        "    #Return the output vector\n",
        "    return(output)\n",
        "    \n",
        "}"
      ],
      "execution_count": null,
      "outputs": []
    },
    {
      "cell_type": "markdown",
      "metadata": {
        "id": "QSK0H6K5ghke"
      },
      "source": [
        "Next, let's use our custom function to obtain the jackknife estimates of the coefficients from the simple linear regression model. "
      ]
    },
    {
      "cell_type": "code",
      "metadata": {
        "colab": {
          "base_uri": "https://localhost:8080/",
          "height": 255
        },
        "id": "5NRn6LFyghrI",
        "outputId": "3c8cd978-66ed-486f-9023-d111183b1322"
      },
      "source": [
        "betahat.jackknife(myfit, data_for_fit = mydata)"
      ],
      "execution_count": null,
      "outputs": [
        {
          "output_type": "display_data",
          "data": {
            "text/plain": [
              "  beta0hat   beta1hat\n",
              "1 -1.9000000 2.400000\n",
              "2 -0.3428571 2.028571\n",
              "3 -0.5500000 2.100000\n",
              "4 -0.6571429 2.057143\n",
              "5 -0.5000000 2.000000"
            ],
            "text/latex": "A data.frame: 5 × 2\n\\begin{tabular}{r|ll}\n  & beta0hat & beta1hat\\\\\n  & <dbl> & <dbl>\\\\\n\\hline\n\t1 & -1.9000000 & 2.400000\\\\\n\t2 & -0.3428571 & 2.028571\\\\\n\t3 & -0.5500000 & 2.100000\\\\\n\t4 & -0.6571429 & 2.057143\\\\\n\t5 & -0.5000000 & 2.000000\\\\\n\\end{tabular}\n",
            "text/markdown": "\nA data.frame: 5 × 2\n\n| <!--/--> | beta0hat &lt;dbl&gt; | beta1hat &lt;dbl&gt; |\n|---|---|---|\n| 1 | -1.9000000 | 2.400000 |\n| 2 | -0.3428571 | 2.028571 |\n| 3 | -0.5500000 | 2.100000 |\n| 4 | -0.6571429 | 2.057143 |\n| 5 | -0.5000000 | 2.000000 |\n\n",
            "text/html": [
              "<table class=\"dataframe\">\n",
              "<caption>A data.frame: 5 × 2</caption>\n",
              "<thead>\n",
              "\t<tr><th></th><th scope=col>beta0hat</th><th scope=col>beta1hat</th></tr>\n",
              "\t<tr><th></th><th scope=col>&lt;dbl&gt;</th><th scope=col>&lt;dbl&gt;</th></tr>\n",
              "</thead>\n",
              "<tbody>\n",
              "\t<tr><th scope=row>1</th><td>-1.9000000</td><td>2.400000</td></tr>\n",
              "\t<tr><th scope=row>2</th><td>-0.3428571</td><td>2.028571</td></tr>\n",
              "\t<tr><th scope=row>3</th><td>-0.5500000</td><td>2.100000</td></tr>\n",
              "\t<tr><th scope=row>4</th><td>-0.6571429</td><td>2.057143</td></tr>\n",
              "\t<tr><th scope=row>5</th><td>-0.5000000</td><td>2.000000</td></tr>\n",
              "</tbody>\n",
              "</table>\n"
            ]
          },
          "metadata": {}
        }
      ]
    },
    {
      "cell_type": "markdown",
      "metadata": {
        "id": "dGPPKsafiCOm"
      },
      "source": [
        "The DFBeta terms can be computed as follows:\n",
        "\n",
        "*   $\\mbox{DFBeta}_{0} = \\hat{\\beta}_{0} - \\hat{\\beta}_{0 (-i)} $\n",
        "*  $\\mbox{DFBeta}_{1} = \\hat{\\beta}_{1} - \\hat{\\beta}_{1 (-i)} $\n",
        "\n"
      ]
    },
    {
      "cell_type": "code",
      "metadata": {
        "colab": {
          "base_uri": "https://localhost:8080/",
          "height": 272
        },
        "id": "KXqtFgkTiSq6",
        "outputId": "0a05ac0e-79c2-4e99-d4e1-6107d28f7f5f"
      },
      "source": [
        "#Putting the jackknife estimates into a data.frame called outcomes\n",
        "outcomes <- betahat.jackknife(myfit, data_for_fit = mydata)\n",
        "\n",
        "#Computing the DFBeta terms for each parameter estimate\n",
        "DFBETAs <- (\n",
        "            outcomes\n",
        "            %>% mutate(\n",
        "                        DFBeta0 = (-0.7 - beta0hat), \n",
        "                        DFBeta1 = (-2.1 - beta1hat), \n",
        "                      )\n",
        "          )\n",
        "\n",
        "#Printing the resulting data.frame\n",
        "cat(\"DFBETA for y-intercept & slope\")\n",
        "DFBETAs"
      ],
      "execution_count": null,
      "outputs": [
        {
          "output_type": "stream",
          "name": "stdout",
          "text": [
            "DFBETA for y-intercept & slope"
          ]
        },
        {
          "output_type": "display_data",
          "data": {
            "text/plain": [
              "  beta0hat   beta1hat DFBeta0     DFBeta1  \n",
              "1 -1.9000000 2.400000  1.20000000 -4.500000\n",
              "2 -0.3428571 2.028571 -0.35714286 -4.128571\n",
              "3 -0.5500000 2.100000 -0.15000000 -4.200000\n",
              "4 -0.6571429 2.057143 -0.04285714 -4.157143\n",
              "5 -0.5000000 2.000000 -0.20000000 -4.100000"
            ],
            "text/latex": "A data.frame: 5 × 4\n\\begin{tabular}{r|llll}\n  & beta0hat & beta1hat & DFBeta0 & DFBeta1\\\\\n  & <dbl> & <dbl> & <dbl> & <dbl>\\\\\n\\hline\n\t1 & -1.9000000 & 2.400000 &  1.20000000 & -4.500000\\\\\n\t2 & -0.3428571 & 2.028571 & -0.35714286 & -4.128571\\\\\n\t3 & -0.5500000 & 2.100000 & -0.15000000 & -4.200000\\\\\n\t4 & -0.6571429 & 2.057143 & -0.04285714 & -4.157143\\\\\n\t5 & -0.5000000 & 2.000000 & -0.20000000 & -4.100000\\\\\n\\end{tabular}\n",
            "text/markdown": "\nA data.frame: 5 × 4\n\n| <!--/--> | beta0hat &lt;dbl&gt; | beta1hat &lt;dbl&gt; | DFBeta0 &lt;dbl&gt; | DFBeta1 &lt;dbl&gt; |\n|---|---|---|---|---|\n| 1 | -1.9000000 | 2.400000 |  1.20000000 | -4.500000 |\n| 2 | -0.3428571 | 2.028571 | -0.35714286 | -4.128571 |\n| 3 | -0.5500000 | 2.100000 | -0.15000000 | -4.200000 |\n| 4 | -0.6571429 | 2.057143 | -0.04285714 | -4.157143 |\n| 5 | -0.5000000 | 2.000000 | -0.20000000 | -4.100000 |\n\n",
            "text/html": [
              "<table class=\"dataframe\">\n",
              "<caption>A data.frame: 5 × 4</caption>\n",
              "<thead>\n",
              "\t<tr><th></th><th scope=col>beta0hat</th><th scope=col>beta1hat</th><th scope=col>DFBeta0</th><th scope=col>DFBeta1</th></tr>\n",
              "\t<tr><th></th><th scope=col>&lt;dbl&gt;</th><th scope=col>&lt;dbl&gt;</th><th scope=col>&lt;dbl&gt;</th><th scope=col>&lt;dbl&gt;</th></tr>\n",
              "</thead>\n",
              "<tbody>\n",
              "\t<tr><th scope=row>1</th><td>-1.9000000</td><td>2.400000</td><td> 1.20000000</td><td>-4.500000</td></tr>\n",
              "\t<tr><th scope=row>2</th><td>-0.3428571</td><td>2.028571</td><td>-0.35714286</td><td>-4.128571</td></tr>\n",
              "\t<tr><th scope=row>3</th><td>-0.5500000</td><td>2.100000</td><td>-0.15000000</td><td>-4.200000</td></tr>\n",
              "\t<tr><th scope=row>4</th><td>-0.6571429</td><td>2.057143</td><td>-0.04285714</td><td>-4.157143</td></tr>\n",
              "\t<tr><th scope=row>5</th><td>-0.5000000</td><td>2.000000</td><td>-0.20000000</td><td>-4.100000</td></tr>\n",
              "</tbody>\n",
              "</table>\n"
            ]
          },
          "metadata": {}
        }
      ]
    },
    {
      "cell_type": "markdown",
      "metadata": {
        "id": "dM_fEzrfkgkh"
      },
      "source": [
        "## \"Leave-One-Out\" for Prediction"
      ]
    },
    {
      "cell_type": "markdown",
      "metadata": {
        "id": "-j--Et0mmIjB"
      },
      "source": [
        "Again, suppose we have two vectors, say $\\bf{y} = [2, 3, 5, 8, 10]$ and $\\bf{x} = [1, 2, 3, 4, 5]$.   \n",
        "\n",
        "$$\\bf{mydata} = \\begin{bmatrix}\n",
        "          2 & 1 \\\\\n",
        "          3 & 2\\\\\n",
        "          5 & 3\\\\\n",
        "          8 & 4\\\\\n",
        "          10 & 5\\\\\n",
        "          \\end{bmatrix}\n",
        "$$ "
      ]
    },
    {
      "cell_type": "code",
      "metadata": {
        "colab": {
          "base_uri": "https://localhost:8080/",
          "height": 272
        },
        "id": "mLrO0Flikgry",
        "outputId": "37784990-4d53-455f-f3d6-8f0017d2c2cb"
      },
      "source": [
        "#Getting the two vectors in R\n",
        "y_vector = c(2, 3, 5, 8, 10)\n",
        "x_vector = c(1, 2, 3, 4, 5)\n",
        "\n",
        "#Creating the mydata data.frame\n",
        "mydata <- data.frame(y=y_vector, x = x_vector)\n",
        "mydata"
      ],
      "execution_count": null,
      "outputs": [
        {
          "output_type": "display_data",
          "data": {
            "text/plain": [
              "  y  x\n",
              "1  2 1\n",
              "2  3 2\n",
              "3  5 3\n",
              "4  8 4\n",
              "5 10 5"
            ],
            "text/latex": "A data.frame: 5 × 2\n\\begin{tabular}{ll}\n y & x\\\\\n <dbl> & <dbl>\\\\\n\\hline\n\t  2 & 1\\\\\n\t  3 & 2\\\\\n\t  5 & 3\\\\\n\t  8 & 4\\\\\n\t 10 & 5\\\\\n\\end{tabular}\n",
            "text/markdown": "\nA data.frame: 5 × 2\n\n| y &lt;dbl&gt; | x &lt;dbl&gt; |\n|---|---|\n|  2 | 1 |\n|  3 | 2 |\n|  5 | 3 |\n|  8 | 4 |\n| 10 | 5 |\n\n",
            "text/html": [
              "<table class=\"dataframe\">\n",
              "<caption>A data.frame: 5 × 2</caption>\n",
              "<thead>\n",
              "\t<tr><th scope=col>y</th><th scope=col>x</th></tr>\n",
              "\t<tr><th scope=col>&lt;dbl&gt;</th><th scope=col>&lt;dbl&gt;</th></tr>\n",
              "</thead>\n",
              "<tbody>\n",
              "\t<tr><td> 2</td><td>1</td></tr>\n",
              "\t<tr><td> 3</td><td>2</td></tr>\n",
              "\t<tr><td> 5</td><td>3</td></tr>\n",
              "\t<tr><td> 8</td><td>4</td></tr>\n",
              "\t<tr><td>10</td><td>5</td></tr>\n",
              "</tbody>\n",
              "</table>\n"
            ]
          },
          "metadata": {}
        }
      ]
    },
    {
      "cell_type": "markdown",
      "metadata": {
        "id": "lbBXiMltloXi"
      },
      "source": [
        "The lm() function will be used to fit the least-square regression model for $y \\sim x$. The summary() and anova() functions will be used to obtain additonal output from this modle."
      ]
    },
    {
      "cell_type": "code",
      "metadata": {
        "colab": {
          "base_uri": "https://localhost:8080/",
          "height": 329
        },
        "id": "GO1B0D-wloe3",
        "outputId": "2931e94e-7975-4e0f-ed93-95e1d9534c21"
      },
      "source": [
        "myfit <- lm(y~x, data = mydata)\n",
        "summary(myfit)"
      ],
      "execution_count": null,
      "outputs": [
        {
          "output_type": "display_data",
          "data": {
            "text/plain": [
              "\n",
              "Call:\n",
              "lm(formula = y ~ x, data = mydata)\n",
              "\n",
              "Residuals:\n",
              "   1    2    3    4    5 \n",
              " 0.6 -0.5 -0.6  0.3  0.2 \n",
              "\n",
              "Coefficients:\n",
              "            Estimate Std. Error t value Pr(>|t|)   \n",
              "(Intercept)  -0.7000     0.6351  -1.102  0.35086   \n",
              "x             2.1000     0.1915  10.967  0.00162 **\n",
              "---\n",
              "Signif. codes:  0 ‘***’ 0.001 ‘**’ 0.01 ‘*’ 0.05 ‘.’ 0.1 ‘ ’ 1\n",
              "\n",
              "Residual standard error: 0.6055 on 3 degrees of freedom\n",
              "Multiple R-squared:  0.9757,\tAdjusted R-squared:  0.9676 \n",
              "F-statistic: 120.3 on 1 and 3 DF,  p-value: 0.001623\n"
            ]
          },
          "metadata": {}
        }
      ]
    },
    {
      "cell_type": "code",
      "metadata": {
        "colab": {
          "base_uri": "https://localhost:8080/",
          "height": 161
        },
        "id": "AW3g4M67ndox",
        "outputId": "b7269728-4478-4793-b7ac-aa872a3890fb"
      },
      "source": [
        "anova(myfit)"
      ],
      "execution_count": null,
      "outputs": [
        {
          "output_type": "display_data",
          "data": {
            "text/plain": [
              "          Df Sum Sq Mean Sq    F value  Pr(>F)     \n",
              "x         1  44.1   44.1000000 120.2727 0.001623197\n",
              "Residuals 3   1.1    0.3666667       NA          NA"
            ],
            "text/latex": "A anova: 2 × 5\n\\begin{tabular}{r|lllll}\n  & Df & Sum Sq & Mean Sq & F value & Pr(>F)\\\\\n  & <int> & <dbl> & <dbl> & <dbl> & <dbl>\\\\\n\\hline\n\tx & 1 & 44.1 & 44.1000000 & 120.2727 & 0.001623197\\\\\n\tResiduals & 3 &  1.1 &  0.3666667 &       NA &          NA\\\\\n\\end{tabular}\n",
            "text/markdown": "\nA anova: 2 × 5\n\n| <!--/--> | Df &lt;int&gt; | Sum Sq &lt;dbl&gt; | Mean Sq &lt;dbl&gt; | F value &lt;dbl&gt; | Pr(&gt;F) &lt;dbl&gt; |\n|---|---|---|---|---|---|\n| x | 1 | 44.1 | 44.1000000 | 120.2727 | 0.001623197 |\n| Residuals | 3 |  1.1 |  0.3666667 |       NA |          NA |\n\n",
            "text/html": [
              "<table class=\"dataframe\">\n",
              "<caption>A anova: 2 × 5</caption>\n",
              "<thead>\n",
              "\t<tr><th></th><th scope=col>Df</th><th scope=col>Sum Sq</th><th scope=col>Mean Sq</th><th scope=col>F value</th><th scope=col>Pr(&gt;F)</th></tr>\n",
              "\t<tr><th></th><th scope=col>&lt;int&gt;</th><th scope=col>&lt;dbl&gt;</th><th scope=col>&lt;dbl&gt;</th><th scope=col>&lt;dbl&gt;</th><th scope=col>&lt;dbl&gt;</th></tr>\n",
              "</thead>\n",
              "<tbody>\n",
              "\t<tr><th scope=row>x</th><td>1</td><td>44.1</td><td>44.1000000</td><td>120.2727</td><td>0.001623197</td></tr>\n",
              "\t<tr><th scope=row>Residuals</th><td>3</td><td> 1.1</td><td> 0.3666667</td><td>      NA</td><td>         NA</td></tr>\n",
              "</tbody>\n",
              "</table>\n"
            ]
          },
          "metadata": {}
        }
      ]
    },
    {
      "cell_type": "markdown",
      "metadata": {
        "id": "w8un9qIoosLU"
      },
      "source": [
        "The residual vector can be computed as \n",
        "\n",
        "$$\n",
        "\\bf{Residuals} = ( \\bf{y} - \\hat{E}{(Y|x)} )\n",
        "$$\n",
        "\n"
      ]
    },
    {
      "cell_type": "markdown",
      "metadata": {
        "id": "p_yvkAT8pYqz"
      },
      "source": [
        "$$\\bf{Residuals} = \\begin{bmatrix}\n",
        "          2 \\\\\n",
        "          3\\\\\n",
        "          5\\\\\n",
        "          8\\\\\n",
        "          10\\\\\n",
        "          \\end{bmatrix} - \\begin{bmatrix}\n",
        "          1.4 \\\\\n",
        "          3.5\\\\\n",
        "          5.6\\\\\n",
        "          7.7\\\\\n",
        "          9.8\\\\\n",
        "          \\end{bmatrix} = \\begin{bmatrix}\n",
        "          +0.6 \\\\\n",
        "          -0.5\\\\\n",
        "          -0.6\\\\\n",
        "          +0.3\\\\\n",
        "          +0.2\\\\\n",
        "          \\end{bmatrix}\n",
        "$$ "
      ]
    },
    {
      "cell_type": "markdown",
      "metadata": {
        "id": "EwMsHf5Ere4y"
      },
      "source": [
        "Getting the RMSE via brute force for the orginal observations."
      ]
    },
    {
      "cell_type": "code",
      "metadata": {
        "colab": {
          "base_uri": "https://localhost:8080/",
          "height": 35
        },
        "id": "hk57L_Yfqcwh",
        "outputId": "a19bb7be-b3b4-414c-ae7c-a772ec7a8078"
      },
      "source": [
        "#Using the predict() function to get predicted value for each observation in the mydata data.frame\n",
        "predictedy = predict(myfit, newdata = mydata)\n",
        "\n",
        "#Next, computing the RMSE via brute force\n",
        "sqrt(sum((y-predictedy)^2)/3)"
      ],
      "execution_count": null,
      "outputs": [
        {
          "output_type": "display_data",
          "data": {
            "text/plain": [
              "[1] 0.6055301"
            ],
            "text/latex": "0.605530070819499",
            "text/markdown": "0.605530070819499",
            "text/html": [
              "0.605530070819499"
            ]
          },
          "metadata": {}
        }
      ]
    },
    {
      "cell_type": "markdown",
      "metadata": {
        "id": "HZT6XHxwtVJE"
      },
      "source": [
        "## \"Leave-One-Out\" Algorithm for Prediction Accuracy"
      ]
    },
    {
      "cell_type": "markdown",
      "metadata": {
        "id": "n2jbTMU-thOs"
      },
      "source": [
        "First, let us consider the process for leaving out the 1st observation."
      ]
    },
    {
      "cell_type": "code",
      "metadata": {
        "colab": {
          "base_uri": "https://localhost:8080/",
          "height": 35
        },
        "id": "alUwB_6othVW",
        "outputId": "b1be17e9-fe4e-49b8-abb4-0b3403e97df0"
      },
      "source": [
        "#First, obtain a fit without the first observation\n",
        "myfit_minus_1=lm(y~x,data=mydata[-1,])\n",
        "\n",
        "#Next, obtain the prediction for the first observation\n",
        "# Here, the model was fit without this observation being included\n",
        "predictedy_1=predict(myfit_minus_1,newdata=mydata[1,])\n",
        "\n",
        "#Finally, obtain the squared residual value from this fit\n",
        "(y[1]-predictedy_1)^2\n",
        "\n"
      ],
      "execution_count": null,
      "outputs": [
        {
          "output_type": "display_data",
          "data": {
            "text/plain": [
              "   1 \n",
              "2.25 "
            ],
            "text/latex": "\\textbf{1:} 2.25",
            "text/markdown": "**1:** 2.25",
            "text/html": [
              "<strong>1:</strong> 2.25"
            ]
          },
          "metadata": {}
        }
      ]
    },
    {
      "cell_type": "markdown",
      "metadata": {
        "id": "A_mwyfsuvA-e"
      },
      "source": [
        "Now, let us extend the process completed above to all observations."
      ]
    },
    {
      "cell_type": "markdown",
      "metadata": {
        "id": "MPcuVc9ttqQm"
      },
      "source": [
        "Step 1: Create an output vector to hold the outcomes from the algorithm"
      ]
    },
    {
      "cell_type": "code",
      "metadata": {
        "colab": {
          "base_uri": "https://localhost:8080/",
          "height": 35
        },
        "id": "Mug77L0NtqYC",
        "outputId": "bfb2ebb8-fd5c-4fab-9535-190b36b98e06"
      },
      "source": [
        "output = rep(0,5)\n",
        "output"
      ],
      "execution_count": null,
      "outputs": [
        {
          "output_type": "display_data",
          "data": {
            "text/plain": [
              "[1] 0 0 0 0 0"
            ],
            "text/latex": "\\begin{enumerate*}\n\\item 0\n\\item 0\n\\item 0\n\\item 0\n\\item 0\n\\end{enumerate*}\n",
            "text/markdown": "1. 0\n2. 0\n3. 0\n4. 0\n5. 0\n\n\n",
            "text/html": [
              "<style>\n",
              ".list-inline {list-style: none; margin:0; padding: 0}\n",
              ".list-inline>li {display: inline-block}\n",
              ".list-inline>li:not(:last-child)::after {content: \"\\00b7\"; padding: 0 .5ex}\n",
              "</style>\n",
              "<ol class=list-inline><li>0</li><li>0</li><li>0</li><li>0</li><li>0</li></ol>\n"
            ]
          },
          "metadata": {}
        }
      ]
    },
    {
      "cell_type": "markdown",
      "metadata": {
        "id": "LGhT2GULuDq8"
      },
      "source": [
        "Step #2:  Use a for() loop to cycle through for each of the five observations"
      ]
    },
    {
      "cell_type": "code",
      "metadata": {
        "colab": {
          "base_uri": "https://localhost:8080/",
          "height": 52
        },
        "id": "2ZY5rrleuIcb",
        "outputId": "6ab1bc08-a926-4fb1-d932-0a841449facb"
      },
      "source": [
        "for(i in 1:5){\n",
        "              myfit_minus_i = lm( y~x, data = mydata[-i,] )\n",
        "              predictedy_i = predict( myfit_minus_i, newdata = mydata[i,] )\n",
        "              output[i] = ( y[i] - predictedy_i )^2\n",
        "             }\n",
        "\n",
        "cat(\"Output vector after for() loop: \")\n",
        "output"
      ],
      "execution_count": null,
      "outputs": [
        {
          "output_type": "stream",
          "name": "stdout",
          "text": [
            "Output vector after for() loop: "
          ]
        },
        {
          "output_type": "display_data",
          "data": {
            "text/plain": [
              "[1] 2.2500000 0.5102041 0.5625000 0.1836735 0.2500000"
            ],
            "text/latex": "\\begin{enumerate*}\n\\item 2.25\n\\item 0.510204081632653\n\\item 0.5625\n\\item 0.183673469387755\n\\item 0.25\n\\end{enumerate*}\n",
            "text/markdown": "1. 2.25\n2. 0.510204081632653\n3. 0.5625\n4. 0.183673469387755\n5. 0.25\n\n\n",
            "text/html": [
              "<style>\n",
              ".list-inline {list-style: none; margin:0; padding: 0}\n",
              ".list-inline>li {display: inline-block}\n",
              ".list-inline>li:not(:last-child)::after {content: \"\\00b7\"; padding: 0 .5ex}\n",
              "</style>\n",
              "<ol class=list-inline><li>2.25</li><li>0.510204081632653</li><li>0.5625</li><li>0.183673469387755</li><li>0.25</li></ol>\n"
            ]
          },
          "metadata": {}
        }
      ]
    },
    {
      "cell_type": "markdown",
      "metadata": {
        "id": "lES6IkUNvY1V"
      },
      "source": [
        "Getting the Mean Square Error (MSE) and Root Mean Square Error (RMSE) estimates using the jackknife approach."
      ]
    },
    {
      "cell_type": "code",
      "metadata": {
        "colab": {
          "base_uri": "https://localhost:8080/",
          "height": 104
        },
        "id": "E7iCSYuTvY_D",
        "outputId": "cbbc1d44-cca2-4287-f4d9-d19293090cb3"
      },
      "source": [
        "#Get the Mean Squared Error\n",
        "cat(\"MSE estimate via Jackknife is: \")\n",
        "mean(output)\n",
        "\n",
        "cat(\"\\n\")\n",
        "#Get the Root of the Mean Squared Error\n",
        "cat(\"RMSE estimate via Jackknife is: \")\n",
        "sqrt(mean(output))"
      ],
      "execution_count": null,
      "outputs": [
        {
          "output_type": "stream",
          "name": "stdout",
          "text": [
            "MSE estimate via Jackknife is: "
          ]
        },
        {
          "output_type": "display_data",
          "data": {
            "text/plain": [
              "[1] 0.7512755"
            ],
            "text/latex": "0.751275510204082",
            "text/markdown": "0.751275510204082",
            "text/html": [
              "0.751275510204082"
            ]
          },
          "metadata": {}
        },
        {
          "output_type": "stream",
          "name": "stdout",
          "text": [
            "\n",
            "RMSE estimate via Jackknife is: "
          ]
        },
        {
          "output_type": "display_data",
          "data": {
            "text/plain": [
              "[1] 0.8667615"
            ],
            "text/latex": "0.866761507107971",
            "text/markdown": "0.866761507107971",
            "text/html": [
              "0.866761507107971"
            ]
          },
          "metadata": {}
        }
      ]
    },
    {
      "cell_type": "markdown",
      "metadata": {
        "id": "E3vxafBNzbXF"
      },
      "source": [
        "### Writing your own RMSE Jackknife function for Prediction Accuracy"
      ]
    },
    {
      "cell_type": "markdown",
      "metadata": {
        "id": "O68onNsL0iNF"
      },
      "source": [
        "The following custom function can be used to obtain a jackknife estimate for the Root Mean Square Error."
      ]
    },
    {
      "cell_type": "code",
      "metadata": {
        "id": "t9s14vlSzbes"
      },
      "source": [
        "#A custom function for obtaining RMSE via Jackknife\n",
        "#INPUTS\n",
        "#      This function takes two input arguments\n",
        "#      1) A simple linear regression object, and \n",
        "#      2) data.frame used for fitting SLR model\n",
        "#OUTPUTS\n",
        "#     This function returns as output\n",
        "#      1) vector of squared residuals\n",
        "#      2) the jackknife estimate of RMSE\n",
        "\n",
        "rmse.jackknife=function(slr_object,data_for_fit){\n",
        "    \n",
        "    #Getting the number of rows in data\n",
        "    n = dim(data_for_fit)[1]\n",
        "\n",
        "    #Keeping a copy of orginial y (used in computed residual)\n",
        "    originaly = slr_object$model[,1]\n",
        "    \n",
        "    #Creating the output vector to save squared residuals\n",
        "    output = rep(0,n)\n",
        "\n",
        "    #Looping through data \n",
        "    for(i in 1:n){\n",
        "        fit_minus_i = lm( formula(slr_object), data=data_for_fit[-i,] )\n",
        "        predictedy_i = predict( fit_minus_i , newdata=data_for_fit[i,] )\n",
        "        output[i] = ( originaly[i] - predictedy_i )^2\n",
        "    }\n",
        "    \n",
        "    #Return the output vector and jackknife rmse\n",
        "    list(SquaredResids=output,Jackknife_RMSE=sqrt(mean(output)))\n",
        "}"
      ],
      "execution_count": null,
      "outputs": []
    },
    {
      "cell_type": "markdown",
      "metadata": {
        "id": "YqisaMT10DKf"
      },
      "source": [
        "Using the rmse.jackknife() function for the data considered here."
      ]
    },
    {
      "cell_type": "code",
      "metadata": {
        "colab": {
          "base_uri": "https://localhost:8080/",
          "height": 115
        },
        "id": "V8LEjeg80DTc",
        "outputId": "65819d8d-e229-4640-b4a4-b0ca28cc18d3"
      },
      "source": [
        "rmse.jackknife(myfit, mydata)"
      ],
      "execution_count": null,
      "outputs": [
        {
          "output_type": "display_data",
          "data": {
            "text/plain": [
              "$SquaredResids\n",
              "[1] 2.2500000 0.5102041 0.5625000 0.1836735 0.2500000\n",
              "\n",
              "$Jackknife_RMSE\n",
              "[1] 0.8667615\n"
            ],
            "text/latex": "\\begin{description}\n\\item[\\$SquaredResids] \\begin{enumerate*}\n\\item 2.25\n\\item 0.510204081632653\n\\item 0.5625\n\\item 0.183673469387755\n\\item 0.25\n\\end{enumerate*}\n\n\\item[\\$Jackknife\\_RMSE] 0.866761507107971\n\\end{description}\n",
            "text/markdown": "$SquaredResids\n:   1. 2.25\n2. 0.510204081632653\n3. 0.5625\n4. 0.183673469387755\n5. 0.25\n\n\n\n$Jackknife_RMSE\n:   0.866761507107971\n\n\n",
            "text/html": [
              "<dl>\n",
              "\t<dt>$SquaredResids</dt>\n",
              "\t\t<dd><style>\n",
              ".list-inline {list-style: none; margin:0; padding: 0}\n",
              ".list-inline>li {display: inline-block}\n",
              ".list-inline>li:not(:last-child)::after {content: \"\\00b7\"; padding: 0 .5ex}\n",
              "</style>\n",
              "<ol class=list-inline><li>2.25</li><li>0.510204081632653</li><li>0.5625</li><li>0.183673469387755</li><li>0.25</li></ol>\n",
              "</dd>\n",
              "\t<dt>$Jackknife_RMSE</dt>\n",
              "\t\t<dd>0.866761507107971</dd>\n",
              "</dl>\n"
            ]
          },
          "metadata": {}
        }
      ]
    },
    {
      "cell_type": "markdown",
      "metadata": {
        "id": "S_lmu6FZ1iTu"
      },
      "source": [
        "Finally, the jackknife RMSE (0.867) is somewhat higher than the RMSE from the model fit (0.61).  This is expected because the jackknife RMSE is using a *more true error term* as the observation being predicted is witheld while fitting the model for the jackknife approach."
      ]
    },
    {
      "cell_type": "markdown",
      "metadata": {
        "id": "9kkg1lL30Rfw"
      },
      "source": [
        "End of Document"
      ]
    }
  ]
}