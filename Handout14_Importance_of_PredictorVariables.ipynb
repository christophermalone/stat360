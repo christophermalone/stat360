{
  "nbformat": 4,
  "nbformat_minor": 0,
  "metadata": {
    "colab": {
      "name": "Handout14_Importance_of_PredictorVariables.ipynb",
      "provenance": [],
      "collapsed_sections": [
        "bCmC17zpsBJ_",
        "njXGRUIC9Lgs"
      ],
      "authorship_tag": "ABX9TyMc9pHGD6oLiokGQoZfkhoZ",
      "include_colab_link": true
    },
    "kernelspec": {
      "display_name": "R",
      "name": "ir"
    }
  },
  "cells": [
    {
      "cell_type": "markdown",
      "metadata": {
        "id": "view-in-github",
        "colab_type": "text"
      },
      "source": [
        "<a href=\"https://colab.research.google.com/github/christophermalone/stat360/blob/main/Handout14_Importance_of_PredictorVariables.ipynb\" target=\"_parent\"><img src=\"https://colab.research.google.com/assets/colab-badge.svg\" alt=\"Open In Colab\"/></a>"
      ]
    },
    {
      "cell_type": "markdown",
      "metadata": {
        "id": "KhClO9b02SXA"
      },
      "source": [
        "# Handout #14: Understanding the Importance of Individual Predictor Variables"
      ]
    },
    {
      "cell_type": "markdown",
      "metadata": {
        "id": "bCmC17zpsBJ_"
      },
      "source": [
        "<table width='100%' ><tr><td bgcolor='green'></td></tr></table>\n",
        "\n",
        "## MN Gay Marriage Amendment\n",
        "\n",
        "Consider the following data collected on counties from all across Minnesota.  The goal here is to investigate the relationship between the outcome from the 2012 ballot measure to restrict marriage between a man and women in the State of MN and various demographics. \n",
        "\n",
        "<u>Note:</u> A vote of 'Yes\" indicates marriage should be only be defined as the union of one man and one women.\n",
        "<table>\n",
        "  <tr>\n",
        "    <td width='50%'>\n",
        "      <ul>\n",
        "        <li>Response Variable: Percent Voted Yes for Amendment #1</li><br>\n",
        "        <li>Variables under investigation (i.e. independent variables)</li>\n",
        "        <ul>\n",
        "          <li>% Voted Democrat</li>\n",
        "          <li>% Voted Republican</li>\n",
        "          <li>Population Per Square Mile</li>\n",
        "          <li>Per Capita Income</li>\n",
        "          <li>Average Household Size</li>\n",
        "          <li>% Bachelor or higher Education</li>\n",
        "          <li>% Unemployment</li>\n",
        "          <li>% Population Living in Poverty</li>\n",
        "          <li>% of Population: Age 0-17</li>\n",
        "          <li>% of Population: Age 18-24</li>\n",
        "          <li>% of Population: Age 25-44</li>\n",
        "          <li>% of Population: Age 45-64</li>\n",
        "          <li>% of Population: Age 65 and Over</li>\n",
        "          <li>% of Population: White</li>\n",
        "          <li>% of Population: African American</li>\n",
        "          <li>% of Population: American Indian</li>\n",
        "          <li>% of Population: Asian</li>\n",
        "          <li>% of Population: Other</li>\n",
        "          <li>% of Population: Of Hispanic Origin</li>\n",
        "         </ul>\n",
        "     </ul>\n",
        "    </td>\n",
        "    <td width='50%'>\n",
        "    <p align='center'><img src=\"https://drive.google.com/uc?export=view&id=1yat57mNueWJ95pux9YstUjp2JuTc7E9t\" width=\"50%\" height=\"50%\"></img></p>\n",
        "      \n",
        "  </td>\n",
        "</tr>\n",
        "\n",
        "</table>\n",
        "\n",
        "Data Folder: [OneDrive](https://mnscu-my.sharepoint.com/:f:/g/personal/aq7839yd_minnstate_edu/EmOQfrwxzzRBqq8PH_8qTmMBy-1qKgM11Hb8vzjs025EEA?e=wyShYs)\n",
        "\n",
        "\n",
        "\n",
        "<table width='100%' ><tr><td bgcolor='green'></td></tr></table>\n",
        "\n",
        "\n"
      ]
    },
    {
      "cell_type": "markdown",
      "metadata": {
        "id": "njXGRUIC9Lgs"
      },
      "source": [
        "## Load tidyverse"
      ]
    },
    {
      "cell_type": "markdown",
      "metadata": {
        "id": "FoT1NFX3DncH"
      },
      "source": [
        "The tidyverse R package will be used to assist with reading in the dataset into the current R session."
      ]
    },
    {
      "cell_type": "code",
      "metadata": {
        "id": "LgaibuX_DtWK",
        "colab": {
          "base_uri": "https://localhost:8080/"
        },
        "outputId": "32af5d36-c6dd-4e87-a882-cd6d71ac7da9"
      },
      "source": [
        "#@title Load Tidyverse\n",
        "#load tidyverse package\n",
        "library(tidyverse)"
      ],
      "execution_count": null,
      "outputs": [
        {
          "output_type": "stream",
          "name": "stderr",
          "text": [
            "Warning message in system(\"timedatectl\", intern = TRUE):\n",
            "“running command 'timedatectl' had status 1”\n",
            "── \u001b[1mAttaching packages\u001b[22m ─────────────────────────────────────── tidyverse 1.3.1 ──\n",
            "\n",
            "\u001b[32m✔\u001b[39m \u001b[34mggplot2\u001b[39m 3.3.5     \u001b[32m✔\u001b[39m \u001b[34mpurrr  \u001b[39m 0.3.4\n",
            "\u001b[32m✔\u001b[39m \u001b[34mtibble \u001b[39m 3.1.6     \u001b[32m✔\u001b[39m \u001b[34mdplyr  \u001b[39m 1.0.7\n",
            "\u001b[32m✔\u001b[39m \u001b[34mtidyr  \u001b[39m 1.1.4     \u001b[32m✔\u001b[39m \u001b[34mstringr\u001b[39m 1.4.0\n",
            "\u001b[32m✔\u001b[39m \u001b[34mreadr  \u001b[39m 2.1.0     \u001b[32m✔\u001b[39m \u001b[34mforcats\u001b[39m 0.5.1\n",
            "\n",
            "── \u001b[1mConflicts\u001b[22m ────────────────────────────────────────── tidyverse_conflicts() ──\n",
            "\u001b[31m✖\u001b[39m \u001b[34mdplyr\u001b[39m::\u001b[32mfilter()\u001b[39m masks \u001b[34mstats\u001b[39m::filter()\n",
            "\u001b[31m✖\u001b[39m \u001b[34mdplyr\u001b[39m::\u001b[32mlag()\u001b[39m    masks \u001b[34mstats\u001b[39m::lag()\n",
            "\n"
          ]
        }
      ]
    },
    {
      "cell_type": "markdown",
      "metadata": {
        "id": "u7fj-9Y5Wr8r"
      },
      "source": [
        "\n",
        "\n",
        "---\n",
        "\n",
        "\n"
      ]
    },
    {
      "cell_type": "markdown",
      "metadata": {
        "id": "DPqIPen9D5T3"
      },
      "source": [
        "## Load the initial data"
      ]
    },
    {
      "cell_type": "code",
      "metadata": {
        "colab": {
          "base_uri": "https://localhost:8080/"
        },
        "id": "hM3AnlVCu2vx",
        "outputId": "5cd76527-b461-4fb6-a24e-ffff3c435dc2"
      },
      "source": [
        "# Reading data in using read_csv \n",
        "MN_Marriage_Amendment <- read_csv(\"http://www.StatsClass.org/stat360/Datasets/MN_Marriage_Amendment.csv\")"
      ],
      "execution_count": null,
      "outputs": [
        {
          "output_type": "stream",
          "name": "stderr",
          "text": [
            "\u001b[1mRows: \u001b[22m\u001b[34m87\u001b[39m \u001b[1mColumns: \u001b[22m\u001b[34m23\u001b[39m\n",
            "\n",
            "\u001b[36m──\u001b[39m \u001b[1mColumn specification\u001b[22m \u001b[36m────────────────────────────────────────────────────────\u001b[39m\n",
            "\u001b[1mDelimiter:\u001b[22m \",\"\n",
            "\u001b[31mchr\u001b[39m  (2): State, County\n",
            "\u001b[32mdbl\u001b[39m (21): FIPSCode, Pct_Yes, Pct_Democrat, Pct_Republican, PopPerSqMile, Per...\n",
            "\n",
            "\n",
            "\u001b[36mℹ\u001b[39m Use \u001b[30m\u001b[47m\u001b[30m\u001b[47m`spec()`\u001b[47m\u001b[30m\u001b[49m\u001b[39m to retrieve the full column specification for this data.\n",
            "\u001b[36mℹ\u001b[39m Specify the column types or set \u001b[30m\u001b[47m\u001b[30m\u001b[47m`show_col_types = FALSE`\u001b[47m\u001b[30m\u001b[49m\u001b[39m to quiet this message.\n",
            "\n"
          ]
        }
      ]
    },
    {
      "cell_type": "markdown",
      "metadata": {
        "id": "y1E6q0ccvNgh"
      },
      "source": [
        "Taking a quick look at the initial data..."
      ]
    },
    {
      "cell_type": "code",
      "metadata": {
        "colab": {
          "base_uri": "https://localhost:8080/",
          "height": 549
        },
        "id": "sXtmoYGmvN4e",
        "outputId": "fa52abf7-4776-46fe-ae58-e2050da7aa9f"
      },
      "source": [
        "head(MN_Marriage_Amendment)"
      ],
      "execution_count": null,
      "outputs": [
        {
          "output_type": "display_data",
          "data": {
            "text/plain": [
              "  FIPSCode State County               Pct_Yes Pct_Democrat Pct_Republican\n",
              "1 27001    MN    Aitkin County, MN    61.82   48.4         49.8          \n",
              "2 27003    MN    Anoka County, MN     50.61   47.7         50.3          \n",
              "3 27005    MN    Becker County, MN    62.92   41.8         56.4          \n",
              "4 27007    MN    Beltrami County, MN  51.08   53.8         43.9          \n",
              "5 27009    MN    Benton County, MN    55.39   41.9         55.6          \n",
              "6 27011    MN    Big Stone County, MN 67.05   48.3         49.8          \n",
              "  PopPerSqMile PerCapitaIncome AvgHousehold Size Pct_Bachelororhigher ⋯\n",
              "1   8.9        24694           2.06              15.1                 ⋯\n",
              "2 782.1        29894           2.70              25.8                 ⋯\n",
              "3  24.7        25233           2.38              21.4                 ⋯\n",
              "4  17.7        21753           2.56              29.1                 ⋯\n",
              "5  94.2        23924           2.48              18.8                 ⋯\n",
              "6  10.6        24960           2.15              16.8                 ⋯\n",
              "  Pct_Age18to24 Pct_Age25to44 Pct_Age45to64 Pct_Age65andOlder Pct_RaceWhite\n",
              "1  5.1          16.9          32.8          28.5              96           \n",
              "2  8.1          27.8          28.4          10.8              87           \n",
              "3  6.8          21.7          29.5          18.3              88           \n",
              "4 14.6          22.3          25.1          13.7              75           \n",
              "5 10.7          28.5          24.2          12.8              95           \n",
              "6  5.6          18.4          29.8          25.4              98           \n",
              "  Pct_RaceAfricanAmerican Pct_RaceAmericanIndian Pct_RaceAsian Pct_RaceOther\n",
              "1 0.4                      2.4                   0.2           0.2          \n",
              "2 4.0                      1.0                   4.0           1.5          \n",
              "3 0.4                      8.0                   0.4           0.3          \n",
              "4 0.6                     20.0                   0.7           0.3          \n",
              "5 1.9                      0.4                   1.1           0.4          \n",
              "6 0.2                      0.4                   0.1           0.3          \n",
              "  Pct_Hispanic\n",
              "1 0.9         \n",
              "2 3.6         \n",
              "3 1.2         \n",
              "4 1.5         \n",
              "5 1.6         \n",
              "6 0.8         "
            ],
            "text/latex": "A tibble: 6 × 23\n\\begin{tabular}{lllllllllllllllllllll}\n FIPSCode & State & County & Pct\\_Yes & Pct\\_Democrat & Pct\\_Republican & PopPerSqMile & PerCapitaIncome & AvgHousehold Size & Pct\\_Bachelororhigher & ⋯ & Pct\\_Age18to24 & Pct\\_Age25to44 & Pct\\_Age45to64 & Pct\\_Age65andOlder & Pct\\_RaceWhite & Pct\\_RaceAfricanAmerican & Pct\\_RaceAmericanIndian & Pct\\_RaceAsian & Pct\\_RaceOther & Pct\\_Hispanic\\\\\n <dbl> & <chr> & <chr> & <dbl> & <dbl> & <dbl> & <dbl> & <dbl> & <dbl> & <dbl> & ⋯ & <dbl> & <dbl> & <dbl> & <dbl> & <dbl> & <dbl> & <dbl> & <dbl> & <dbl> & <dbl>\\\\\n\\hline\n\t 27001 & MN & Aitkin County, MN    & 61.82 & 48.4 & 49.8 &   8.9 & 24694 & 2.06 & 15.1 & ⋯ &  5.1 & 16.9 & 32.8 & 28.5 & 96 & 0.4 &  2.4 & 0.2 & 0.2 & 0.9\\\\\n\t 27003 & MN & Anoka County, MN     & 50.61 & 47.7 & 50.3 & 782.1 & 29894 & 2.70 & 25.8 & ⋯ &  8.1 & 27.8 & 28.4 & 10.8 & 87 & 4.0 &  1.0 & 4.0 & 1.5 & 3.6\\\\\n\t 27005 & MN & Becker County, MN    & 62.92 & 41.8 & 56.4 &  24.7 & 25233 & 2.38 & 21.4 & ⋯ &  6.8 & 21.7 & 29.5 & 18.3 & 88 & 0.4 &  8.0 & 0.4 & 0.3 & 1.2\\\\\n\t 27007 & MN & Beltrami County, MN  & 51.08 & 53.8 & 43.9 &  17.7 & 21753 & 2.56 & 29.1 & ⋯ & 14.6 & 22.3 & 25.1 & 13.7 & 75 & 0.6 & 20.0 & 0.7 & 0.3 & 1.5\\\\\n\t 27009 & MN & Benton County, MN    & 55.39 & 41.9 & 55.6 &  94.2 & 23924 & 2.48 & 18.8 & ⋯ & 10.7 & 28.5 & 24.2 & 12.8 & 95 & 1.9 &  0.4 & 1.1 & 0.4 & 1.6\\\\\n\t 27011 & MN & Big Stone County, MN & 67.05 & 48.3 & 49.8 &  10.6 & 24960 & 2.15 & 16.8 & ⋯ &  5.6 & 18.4 & 29.8 & 25.4 & 98 & 0.2 &  0.4 & 0.1 & 0.3 & 0.8\\\\\n\\end{tabular}\n",
            "text/markdown": "\nA tibble: 6 × 23\n\n| FIPSCode &lt;dbl&gt; | State &lt;chr&gt; | County &lt;chr&gt; | Pct_Yes &lt;dbl&gt; | Pct_Democrat &lt;dbl&gt; | Pct_Republican &lt;dbl&gt; | PopPerSqMile &lt;dbl&gt; | PerCapitaIncome &lt;dbl&gt; | AvgHousehold Size &lt;dbl&gt; | Pct_Bachelororhigher &lt;dbl&gt; | ⋯ ⋯ | Pct_Age18to24 &lt;dbl&gt; | Pct_Age25to44 &lt;dbl&gt; | Pct_Age45to64 &lt;dbl&gt; | Pct_Age65andOlder &lt;dbl&gt; | Pct_RaceWhite &lt;dbl&gt; | Pct_RaceAfricanAmerican &lt;dbl&gt; | Pct_RaceAmericanIndian &lt;dbl&gt; | Pct_RaceAsian &lt;dbl&gt; | Pct_RaceOther &lt;dbl&gt; | Pct_Hispanic &lt;dbl&gt; |\n|---|---|---|---|---|---|---|---|---|---|---|---|---|---|---|---|---|---|---|---|---|\n| 27001 | MN | Aitkin County, MN    | 61.82 | 48.4 | 49.8 |   8.9 | 24694 | 2.06 | 15.1 | ⋯ |  5.1 | 16.9 | 32.8 | 28.5 | 96 | 0.4 |  2.4 | 0.2 | 0.2 | 0.9 |\n| 27003 | MN | Anoka County, MN     | 50.61 | 47.7 | 50.3 | 782.1 | 29894 | 2.70 | 25.8 | ⋯ |  8.1 | 27.8 | 28.4 | 10.8 | 87 | 4.0 |  1.0 | 4.0 | 1.5 | 3.6 |\n| 27005 | MN | Becker County, MN    | 62.92 | 41.8 | 56.4 |  24.7 | 25233 | 2.38 | 21.4 | ⋯ |  6.8 | 21.7 | 29.5 | 18.3 | 88 | 0.4 |  8.0 | 0.4 | 0.3 | 1.2 |\n| 27007 | MN | Beltrami County, MN  | 51.08 | 53.8 | 43.9 |  17.7 | 21753 | 2.56 | 29.1 | ⋯ | 14.6 | 22.3 | 25.1 | 13.7 | 75 | 0.6 | 20.0 | 0.7 | 0.3 | 1.5 |\n| 27009 | MN | Benton County, MN    | 55.39 | 41.9 | 55.6 |  94.2 | 23924 | 2.48 | 18.8 | ⋯ | 10.7 | 28.5 | 24.2 | 12.8 | 95 | 1.9 |  0.4 | 1.1 | 0.4 | 1.6 |\n| 27011 | MN | Big Stone County, MN | 67.05 | 48.3 | 49.8 |  10.6 | 24960 | 2.15 | 16.8 | ⋯ |  5.6 | 18.4 | 29.8 | 25.4 | 98 | 0.2 |  0.4 | 0.1 | 0.3 | 0.8 |\n\n",
            "text/html": [
              "<table class=\"dataframe\">\n",
              "<caption>A tibble: 6 × 23</caption>\n",
              "<thead>\n",
              "\t<tr><th scope=col>FIPSCode</th><th scope=col>State</th><th scope=col>County</th><th scope=col>Pct_Yes</th><th scope=col>Pct_Democrat</th><th scope=col>Pct_Republican</th><th scope=col>PopPerSqMile</th><th scope=col>PerCapitaIncome</th><th scope=col>AvgHousehold Size</th><th scope=col>Pct_Bachelororhigher</th><th scope=col>⋯</th><th scope=col>Pct_Age18to24</th><th scope=col>Pct_Age25to44</th><th scope=col>Pct_Age45to64</th><th scope=col>Pct_Age65andOlder</th><th scope=col>Pct_RaceWhite</th><th scope=col>Pct_RaceAfricanAmerican</th><th scope=col>Pct_RaceAmericanIndian</th><th scope=col>Pct_RaceAsian</th><th scope=col>Pct_RaceOther</th><th scope=col>Pct_Hispanic</th></tr>\n",
              "\t<tr><th scope=col>&lt;dbl&gt;</th><th scope=col>&lt;chr&gt;</th><th scope=col>&lt;chr&gt;</th><th scope=col>&lt;dbl&gt;</th><th scope=col>&lt;dbl&gt;</th><th scope=col>&lt;dbl&gt;</th><th scope=col>&lt;dbl&gt;</th><th scope=col>&lt;dbl&gt;</th><th scope=col>&lt;dbl&gt;</th><th scope=col>&lt;dbl&gt;</th><th scope=col>⋯</th><th scope=col>&lt;dbl&gt;</th><th scope=col>&lt;dbl&gt;</th><th scope=col>&lt;dbl&gt;</th><th scope=col>&lt;dbl&gt;</th><th scope=col>&lt;dbl&gt;</th><th scope=col>&lt;dbl&gt;</th><th scope=col>&lt;dbl&gt;</th><th scope=col>&lt;dbl&gt;</th><th scope=col>&lt;dbl&gt;</th><th scope=col>&lt;dbl&gt;</th></tr>\n",
              "</thead>\n",
              "<tbody>\n",
              "\t<tr><td>27001</td><td>MN</td><td>Aitkin County, MN   </td><td>61.82</td><td>48.4</td><td>49.8</td><td>  8.9</td><td>24694</td><td>2.06</td><td>15.1</td><td>⋯</td><td> 5.1</td><td>16.9</td><td>32.8</td><td>28.5</td><td>96</td><td>0.4</td><td> 2.4</td><td>0.2</td><td>0.2</td><td>0.9</td></tr>\n",
              "\t<tr><td>27003</td><td>MN</td><td>Anoka County, MN    </td><td>50.61</td><td>47.7</td><td>50.3</td><td>782.1</td><td>29894</td><td>2.70</td><td>25.8</td><td>⋯</td><td> 8.1</td><td>27.8</td><td>28.4</td><td>10.8</td><td>87</td><td>4.0</td><td> 1.0</td><td>4.0</td><td>1.5</td><td>3.6</td></tr>\n",
              "\t<tr><td>27005</td><td>MN</td><td>Becker County, MN   </td><td>62.92</td><td>41.8</td><td>56.4</td><td> 24.7</td><td>25233</td><td>2.38</td><td>21.4</td><td>⋯</td><td> 6.8</td><td>21.7</td><td>29.5</td><td>18.3</td><td>88</td><td>0.4</td><td> 8.0</td><td>0.4</td><td>0.3</td><td>1.2</td></tr>\n",
              "\t<tr><td>27007</td><td>MN</td><td>Beltrami County, MN </td><td>51.08</td><td>53.8</td><td>43.9</td><td> 17.7</td><td>21753</td><td>2.56</td><td>29.1</td><td>⋯</td><td>14.6</td><td>22.3</td><td>25.1</td><td>13.7</td><td>75</td><td>0.6</td><td>20.0</td><td>0.7</td><td>0.3</td><td>1.5</td></tr>\n",
              "\t<tr><td>27009</td><td>MN</td><td>Benton County, MN   </td><td>55.39</td><td>41.9</td><td>55.6</td><td> 94.2</td><td>23924</td><td>2.48</td><td>18.8</td><td>⋯</td><td>10.7</td><td>28.5</td><td>24.2</td><td>12.8</td><td>95</td><td>1.9</td><td> 0.4</td><td>1.1</td><td>0.4</td><td>1.6</td></tr>\n",
              "\t<tr><td>27011</td><td>MN</td><td>Big Stone County, MN</td><td>67.05</td><td>48.3</td><td>49.8</td><td> 10.6</td><td>24960</td><td>2.15</td><td>16.8</td><td>⋯</td><td> 5.6</td><td>18.4</td><td>29.8</td><td>25.4</td><td>98</td><td>0.2</td><td> 0.4</td><td>0.1</td><td>0.3</td><td>0.8</td></tr>\n",
              "</tbody>\n",
              "</table>\n"
            ]
          },
          "metadata": {}
        }
      ]
    },
    {
      "cell_type": "markdown",
      "metadata": {
        "id": "QFIxVtXituPn"
      },
      "source": [
        "\n",
        "\n",
        "---\n",
        "\n",
        "\n",
        "\n",
        "---\n",
        "\n"
      ]
    },
    {
      "cell_type": "markdown",
      "metadata": {
        "id": "AsHtFGHCvYLH"
      },
      "source": [
        "## Correlation Analysis"
      ]
    },
    {
      "cell_type": "markdown",
      "metadata": {
        "id": "vjhOCE9VvCCP"
      },
      "source": [
        "A complete correlation analysis should be conducted to avoid issues related to multicollinearity."
      ]
    },
    {
      "cell_type": "code",
      "metadata": {
        "colab": {
          "base_uri": "https://localhost:8080/",
          "height": 731
        },
        "id": "XLOfyN0AvCJ2",
        "outputId": "7f3ae6d9-4051-40f7-e6e0-b15374b916cd"
      },
      "source": [
        "cor(MN_Marriage_Amendment[,4:23])"
      ],
      "execution_count": null,
      "outputs": [
        {
          "output_type": "display_data",
          "data": {
            "text/plain": [
              "                        Pct_Yes     Pct_Democrat Pct_Republican PopPerSqMile\n",
              "Pct_Yes                  1.00000000 -0.64541723   0.64855039    -0.53041263 \n",
              "Pct_Democrat            -0.64541723  1.00000000  -0.99894342     0.37191654 \n",
              "Pct_Republican           0.64855039 -0.99894342   1.00000000    -0.36857228 \n",
              "PopPerSqMile            -0.53041263  0.37191654  -0.36857228     1.00000000 \n",
              "PerCapitaIncome         -0.58523594  0.11144680  -0.10841808     0.47466412 \n",
              "AvgHousehold Size       -0.22417766 -0.22015197   0.22121860     0.15928657 \n",
              "Pct_Bachelororhigher    -0.80645228  0.33506309  -0.33302413     0.55810156 \n",
              "Pct_Unemployment        -0.13263376  0.06280675  -0.06055333     0.08051932 \n",
              "Pct_Poverty              0.02110171  0.32594164  -0.32040113     0.07147410 \n",
              "Pct_Age0to17             0.05515810 -0.36309429   0.36874121     0.09151799 \n",
              "Pct_Age18to24           -0.46969158  0.28983180  -0.29602847     0.14263643 \n",
              "Pct_Age25to44           -0.51759911 -0.02059607   0.01717944     0.43221398 \n",
              "Pct_Age45to64            0.19715487  0.01602144  -0.01403094    -0.18676379 \n",
              "Pct_Age65andOlder        0.56205416 -0.01768341   0.02074151    -0.35790885 \n",
              "Pct_RaceWhite            0.35410407 -0.40693647   0.39367509    -0.47722039 \n",
              "Pct_RaceAfricanAmerican -0.62448520  0.39436745  -0.39157020     0.87190275 \n",
              "Pct_RaceAmericanIndian  -0.04270261  0.23406644  -0.22374977    -0.06369211 \n",
              "Pct_RaceAsian           -0.49015819  0.25613803  -0.25029886     0.80909140 \n",
              "Pct_RaceOther            0.06715177  0.05432809  -0.04548360     0.15702456 \n",
              "Pct_Hispanic             0.03335616  0.08144261  -0.07372257     0.15640253 \n",
              "                        PerCapitaIncome AvgHousehold Size Pct_Bachelororhigher\n",
              "Pct_Yes                 -0.58523594     -0.22417766       -0.80645228         \n",
              "Pct_Democrat             0.11144680     -0.22015197        0.33506309         \n",
              "Pct_Republican          -0.10841808      0.22121860       -0.33302413         \n",
              "PopPerSqMile             0.47466412      0.15928657        0.55810156         \n",
              "PerCapitaIncome          1.00000000      0.27115894        0.79479494         \n",
              "AvgHousehold Size        0.27115894      1.00000000        0.31680898         \n",
              "Pct_Bachelororhigher     0.79479494      0.31680898        1.00000000         \n",
              "Pct_Unemployment        -0.19078697      0.10079381       -0.10974819         \n",
              "Pct_Poverty             -0.57685091     -0.27360631       -0.20875873         \n",
              "Pct_Age0to17             0.20689757      0.81791868        0.13361938         \n",
              "Pct_Age18to24           -0.07964962      0.18717769        0.37380549         \n",
              "Pct_Age25to44            0.53901582      0.74131029        0.55709983         \n",
              "Pct_Age45to64            0.01437633     -0.56742618       -0.26488150         \n",
              "Pct_Age65andOlder       -0.41245387     -0.81782806       -0.58926856         \n",
              "Pct_RaceWhite           -0.08533944     -0.29735936       -0.34647139         \n",
              "Pct_RaceAfricanAmerican  0.53232438      0.26925262        0.67307644         \n",
              "Pct_RaceAmericanIndian  -0.27033934      0.06231724       -0.05150966         \n",
              "Pct_RaceAsian            0.52365535      0.33859399        0.64673209         \n",
              "Pct_RaceOther            0.02447708      0.21935603        0.01824289         \n",
              "Pct_Hispanic             0.02487226      0.24339077        0.02423263         \n",
              "                        Pct_Unemployment Pct_Poverty  Pct_Age0to17\n",
              "Pct_Yes                 -0.13263376       0.021101708  0.05515810 \n",
              "Pct_Democrat             0.06280675       0.325941638 -0.36309429 \n",
              "Pct_Republican          -0.06055333      -0.320401128  0.36874121 \n",
              "PopPerSqMile             0.08051932       0.071474101  0.09151799 \n",
              "PerCapitaIncome         -0.19078697      -0.576850914  0.20689757 \n",
              "AvgHousehold Size        0.10079381      -0.273606313  0.81791868 \n",
              "Pct_Bachelororhigher    -0.10974819      -0.208758733  0.13361938 \n",
              "Pct_Unemployment         1.00000000       0.373032871  0.08185164 \n",
              "Pct_Poverty              0.37303287       1.000000000 -0.31396539 \n",
              "Pct_Age0to17             0.08185164      -0.313965391  1.00000000 \n",
              "Pct_Age18to24           -0.11596182       0.313302982 -0.17341161 \n",
              "Pct_Age25to44            0.08094233      -0.367481044  0.65387694 \n",
              "Pct_Age45to64            0.11607661      -0.060441452 -0.48139886 \n",
              "Pct_Age65andOlder       -0.05005931       0.206803640 -0.62662253 \n",
              "Pct_RaceWhite           -0.21768385      -0.452875277 -0.29143896 \n",
              "Pct_RaceAfricanAmerican  0.02054073       0.049115661  0.12666305 \n",
              "Pct_RaceAmericanIndian   0.30717306       0.544473893  0.15137945 \n",
              "Pct_RaceAsian           -0.07896740      -0.068062315  0.23314888 \n",
              "Pct_RaceOther           -0.13597407      -0.019664817  0.19417292 \n",
              "Pct_Hispanic            -0.11057930      -0.001461885  0.22242698 \n",
              "                        Pct_Age18to24 Pct_Age25to44 Pct_Age45to64\n",
              "Pct_Yes                 -0.4696915847 -0.51759911    0.197154870 \n",
              "Pct_Democrat             0.2898317955 -0.02059607    0.016021439 \n",
              "Pct_Republican          -0.2960284709  0.01717944   -0.014030942 \n",
              "PopPerSqMile             0.1426364281  0.43221398   -0.186763792 \n",
              "PerCapitaIncome         -0.0796496181  0.53901582    0.014376326 \n",
              "AvgHousehold Size        0.1871776871  0.74131029   -0.567426180 \n",
              "Pct_Bachelororhigher     0.3738054888  0.55709983   -0.264881498 \n",
              "Pct_Unemployment        -0.1159618192  0.08094233    0.116076608 \n",
              "Pct_Poverty              0.3133029818 -0.36748104   -0.060441452 \n",
              "Pct_Age0to17            -0.1734116084  0.65387694   -0.481398857 \n",
              "Pct_Age18to24            1.0000000000  0.18670207   -0.649569340 \n",
              "Pct_Age25to44            0.1867020723  1.00000000   -0.548505767 \n",
              "Pct_Age45to64           -0.6495693398 -0.54850577    1.000000000 \n",
              "Pct_Age65andOlder       -0.4773388128 -0.89494712    0.641285839 \n",
              "Pct_RaceWhite           -0.1848269845 -0.27286990    0.288040497 \n",
              "Pct_RaceAfricanAmerican  0.3078447792  0.59474367   -0.363249617 \n",
              "Pct_RaceAmericanIndian  -0.0008087399 -0.13385782    0.002043753 \n",
              "Pct_RaceAsian            0.2511320648  0.53194493   -0.353398846 \n",
              "Pct_RaceOther            0.0674348977  0.17442696   -0.290952110 \n",
              "Pct_Hispanic             0.0951793148  0.19562864   -0.320925220 \n",
              "                        Pct_Age65andOlder Pct_RaceWhite Pct_RaceAfricanAmerican\n",
              "Pct_Yes                  0.56205416        0.35410407   -0.62448520            \n",
              "Pct_Democrat            -0.01768341       -0.40693647    0.39436745            \n",
              "Pct_Republican           0.02074151        0.39367509   -0.39157020            \n",
              "PopPerSqMile            -0.35790885       -0.47722039    0.87190275            \n",
              "PerCapitaIncome         -0.41245387       -0.08533944    0.53232438            \n",
              "AvgHousehold Size       -0.81782806       -0.29735936    0.26925262            \n",
              "Pct_Bachelororhigher    -0.58926856       -0.34647139    0.67307644            \n",
              "Pct_Unemployment        -0.05005931       -0.21768385    0.02054073            \n",
              "Pct_Poverty              0.20680364       -0.45287528    0.04911566            \n",
              "Pct_Age0to17            -0.62662253       -0.29143896    0.12666305            \n",
              "Pct_Age18to24           -0.47733881       -0.18482698    0.30784478            \n",
              "Pct_Age25to44           -0.89494712       -0.27286990    0.59474367            \n",
              "Pct_Age45to64            0.64128584        0.28804050   -0.36324962            \n",
              "Pct_Age65andOlder        1.00000000        0.33967547   -0.52571396            \n",
              "Pct_RaceWhite            0.33967547        1.00000000   -0.52459548            \n",
              "Pct_RaceAfricanAmerican -0.52571396       -0.52459548    1.00000000            \n",
              "Pct_RaceAmericanIndian   0.01829740       -0.72667791   -0.11485571            \n",
              "Pct_RaceAsian           -0.50753944       -0.52844353    0.84018815            \n",
              "Pct_RaceOther           -0.15402813       -0.30475509    0.30846405            \n",
              "Pct_Hispanic            -0.19214296       -0.30002276    0.31602596            \n",
              "                        Pct_RaceAmericanIndian Pct_RaceAsian Pct_RaceOther\n",
              "Pct_Yes                 -0.0427026098          -0.49015819    0.06715177  \n",
              "Pct_Democrat             0.2340664416           0.25613803    0.05432809  \n",
              "Pct_Republican          -0.2237497669          -0.25029886   -0.04548360  \n",
              "PopPerSqMile            -0.0636921085           0.80909140    0.15702456  \n",
              "PerCapitaIncome         -0.2703393380           0.52365535    0.02447708  \n",
              "AvgHousehold Size        0.0623172436           0.33859399    0.21935603  \n",
              "Pct_Bachelororhigher    -0.0515096583           0.64673209    0.01824289  \n",
              "Pct_Unemployment         0.3071730600          -0.07896740   -0.13597407  \n",
              "Pct_Poverty              0.5444738928          -0.06806232   -0.01966482  \n",
              "Pct_Age0to17             0.1513794466           0.23314888    0.19417292  \n",
              "Pct_Age18to24           -0.0008087399           0.25113206    0.06743490  \n",
              "Pct_Age25to44           -0.1338578236           0.53194493    0.17442696  \n",
              "Pct_Age45to64            0.0020437526          -0.35339885   -0.29095211  \n",
              "Pct_Age65andOlder        0.0182974035          -0.50753944   -0.15402813  \n",
              "Pct_RaceWhite           -0.7266779109          -0.52844353   -0.30475509  \n",
              "Pct_RaceAfricanAmerican -0.1148557116           0.84018815    0.30846405  \n",
              "Pct_RaceAmericanIndian   1.0000000000          -0.11940208   -0.17959447  \n",
              "Pct_RaceAsian           -0.1194020785           1.00000000    0.39245561  \n",
              "Pct_RaceOther           -0.1795944713           0.39245561    1.00000000  \n",
              "Pct_Hispanic            -0.1686719210           0.35629295    0.96418746  \n",
              "                        Pct_Hispanic\n",
              "Pct_Yes                  0.033356164\n",
              "Pct_Democrat             0.081442613\n",
              "Pct_Republican          -0.073722569\n",
              "PopPerSqMile             0.156402530\n",
              "PerCapitaIncome          0.024872262\n",
              "AvgHousehold Size        0.243390772\n",
              "Pct_Bachelororhigher     0.024232629\n",
              "Pct_Unemployment        -0.110579303\n",
              "Pct_Poverty             -0.001461885\n",
              "Pct_Age0to17             0.222426981\n",
              "Pct_Age18to24            0.095179315\n",
              "Pct_Age25to44            0.195628637\n",
              "Pct_Age45to64           -0.320925220\n",
              "Pct_Age65andOlder       -0.192142957\n",
              "Pct_RaceWhite           -0.300022758\n",
              "Pct_RaceAfricanAmerican  0.316025957\n",
              "Pct_RaceAmericanIndian  -0.168671921\n",
              "Pct_RaceAsian            0.356292945\n",
              "Pct_RaceOther            0.964187464\n",
              "Pct_Hispanic             1.000000000"
            ],
            "text/latex": "A matrix: 20 × 20 of type dbl\n\\begin{tabular}{r|llllllllllllllllllll}\n  & Pct\\_Yes & Pct\\_Democrat & Pct\\_Republican & PopPerSqMile & PerCapitaIncome & AvgHousehold Size & Pct\\_Bachelororhigher & Pct\\_Unemployment & Pct\\_Poverty & Pct\\_Age0to17 & Pct\\_Age18to24 & Pct\\_Age25to44 & Pct\\_Age45to64 & Pct\\_Age65andOlder & Pct\\_RaceWhite & Pct\\_RaceAfricanAmerican & Pct\\_RaceAmericanIndian & Pct\\_RaceAsian & Pct\\_RaceOther & Pct\\_Hispanic\\\\\n\\hline\n\tPct\\_Yes &  1.00000000 & -0.64541723 &  0.64855039 & -0.53041263 & -0.58523594 & -0.22417766 & -0.80645228 & -0.13263376 &  0.021101708 &  0.05515810 & -0.4696915847 & -0.51759911 &  0.197154870 &  0.56205416 &  0.35410407 & -0.62448520 & -0.0427026098 & -0.49015819 &  0.06715177 &  0.033356164\\\\\n\tPct\\_Democrat & -0.64541723 &  1.00000000 & -0.99894342 &  0.37191654 &  0.11144680 & -0.22015197 &  0.33506309 &  0.06280675 &  0.325941638 & -0.36309429 &  0.2898317955 & -0.02059607 &  0.016021439 & -0.01768341 & -0.40693647 &  0.39436745 &  0.2340664416 &  0.25613803 &  0.05432809 &  0.081442613\\\\\n\tPct\\_Republican &  0.64855039 & -0.99894342 &  1.00000000 & -0.36857228 & -0.10841808 &  0.22121860 & -0.33302413 & -0.06055333 & -0.320401128 &  0.36874121 & -0.2960284709 &  0.01717944 & -0.014030942 &  0.02074151 &  0.39367509 & -0.39157020 & -0.2237497669 & -0.25029886 & -0.04548360 & -0.073722569\\\\\n\tPopPerSqMile & -0.53041263 &  0.37191654 & -0.36857228 &  1.00000000 &  0.47466412 &  0.15928657 &  0.55810156 &  0.08051932 &  0.071474101 &  0.09151799 &  0.1426364281 &  0.43221398 & -0.186763792 & -0.35790885 & -0.47722039 &  0.87190275 & -0.0636921085 &  0.80909140 &  0.15702456 &  0.156402530\\\\\n\tPerCapitaIncome & -0.58523594 &  0.11144680 & -0.10841808 &  0.47466412 &  1.00000000 &  0.27115894 &  0.79479494 & -0.19078697 & -0.576850914 &  0.20689757 & -0.0796496181 &  0.53901582 &  0.014376326 & -0.41245387 & -0.08533944 &  0.53232438 & -0.2703393380 &  0.52365535 &  0.02447708 &  0.024872262\\\\\n\tAvgHousehold Size & -0.22417766 & -0.22015197 &  0.22121860 &  0.15928657 &  0.27115894 &  1.00000000 &  0.31680898 &  0.10079381 & -0.273606313 &  0.81791868 &  0.1871776871 &  0.74131029 & -0.567426180 & -0.81782806 & -0.29735936 &  0.26925262 &  0.0623172436 &  0.33859399 &  0.21935603 &  0.243390772\\\\\n\tPct\\_Bachelororhigher & -0.80645228 &  0.33506309 & -0.33302413 &  0.55810156 &  0.79479494 &  0.31680898 &  1.00000000 & -0.10974819 & -0.208758733 &  0.13361938 &  0.3738054888 &  0.55709983 & -0.264881498 & -0.58926856 & -0.34647139 &  0.67307644 & -0.0515096583 &  0.64673209 &  0.01824289 &  0.024232629\\\\\n\tPct\\_Unemployment & -0.13263376 &  0.06280675 & -0.06055333 &  0.08051932 & -0.19078697 &  0.10079381 & -0.10974819 &  1.00000000 &  0.373032871 &  0.08185164 & -0.1159618192 &  0.08094233 &  0.116076608 & -0.05005931 & -0.21768385 &  0.02054073 &  0.3071730600 & -0.07896740 & -0.13597407 & -0.110579303\\\\\n\tPct\\_Poverty &  0.02110171 &  0.32594164 & -0.32040113 &  0.07147410 & -0.57685091 & -0.27360631 & -0.20875873 &  0.37303287 &  1.000000000 & -0.31396539 &  0.3133029818 & -0.36748104 & -0.060441452 &  0.20680364 & -0.45287528 &  0.04911566 &  0.5444738928 & -0.06806232 & -0.01966482 & -0.001461885\\\\\n\tPct\\_Age0to17 &  0.05515810 & -0.36309429 &  0.36874121 &  0.09151799 &  0.20689757 &  0.81791868 &  0.13361938 &  0.08185164 & -0.313965391 &  1.00000000 & -0.1734116084 &  0.65387694 & -0.481398857 & -0.62662253 & -0.29143896 &  0.12666305 &  0.1513794466 &  0.23314888 &  0.19417292 &  0.222426981\\\\\n\tPct\\_Age18to24 & -0.46969158 &  0.28983180 & -0.29602847 &  0.14263643 & -0.07964962 &  0.18717769 &  0.37380549 & -0.11596182 &  0.313302982 & -0.17341161 &  1.0000000000 &  0.18670207 & -0.649569340 & -0.47733881 & -0.18482698 &  0.30784478 & -0.0008087399 &  0.25113206 &  0.06743490 &  0.095179315\\\\\n\tPct\\_Age25to44 & -0.51759911 & -0.02059607 &  0.01717944 &  0.43221398 &  0.53901582 &  0.74131029 &  0.55709983 &  0.08094233 & -0.367481044 &  0.65387694 &  0.1867020723 &  1.00000000 & -0.548505767 & -0.89494712 & -0.27286990 &  0.59474367 & -0.1338578236 &  0.53194493 &  0.17442696 &  0.195628637\\\\\n\tPct\\_Age45to64 &  0.19715487 &  0.01602144 & -0.01403094 & -0.18676379 &  0.01437633 & -0.56742618 & -0.26488150 &  0.11607661 & -0.060441452 & -0.48139886 & -0.6495693398 & -0.54850577 &  1.000000000 &  0.64128584 &  0.28804050 & -0.36324962 &  0.0020437526 & -0.35339885 & -0.29095211 & -0.320925220\\\\\n\tPct\\_Age65andOlder &  0.56205416 & -0.01768341 &  0.02074151 & -0.35790885 & -0.41245387 & -0.81782806 & -0.58926856 & -0.05005931 &  0.206803640 & -0.62662253 & -0.4773388128 & -0.89494712 &  0.641285839 &  1.00000000 &  0.33967547 & -0.52571396 &  0.0182974035 & -0.50753944 & -0.15402813 & -0.192142957\\\\\n\tPct\\_RaceWhite &  0.35410407 & -0.40693647 &  0.39367509 & -0.47722039 & -0.08533944 & -0.29735936 & -0.34647139 & -0.21768385 & -0.452875277 & -0.29143896 & -0.1848269845 & -0.27286990 &  0.288040497 &  0.33967547 &  1.00000000 & -0.52459548 & -0.7266779109 & -0.52844353 & -0.30475509 & -0.300022758\\\\\n\tPct\\_RaceAfricanAmerican & -0.62448520 &  0.39436745 & -0.39157020 &  0.87190275 &  0.53232438 &  0.26925262 &  0.67307644 &  0.02054073 &  0.049115661 &  0.12666305 &  0.3078447792 &  0.59474367 & -0.363249617 & -0.52571396 & -0.52459548 &  1.00000000 & -0.1148557116 &  0.84018815 &  0.30846405 &  0.316025957\\\\\n\tPct\\_RaceAmericanIndian & -0.04270261 &  0.23406644 & -0.22374977 & -0.06369211 & -0.27033934 &  0.06231724 & -0.05150966 &  0.30717306 &  0.544473893 &  0.15137945 & -0.0008087399 & -0.13385782 &  0.002043753 &  0.01829740 & -0.72667791 & -0.11485571 &  1.0000000000 & -0.11940208 & -0.17959447 & -0.168671921\\\\\n\tPct\\_RaceAsian & -0.49015819 &  0.25613803 & -0.25029886 &  0.80909140 &  0.52365535 &  0.33859399 &  0.64673209 & -0.07896740 & -0.068062315 &  0.23314888 &  0.2511320648 &  0.53194493 & -0.353398846 & -0.50753944 & -0.52844353 &  0.84018815 & -0.1194020785 &  1.00000000 &  0.39245561 &  0.356292945\\\\\n\tPct\\_RaceOther &  0.06715177 &  0.05432809 & -0.04548360 &  0.15702456 &  0.02447708 &  0.21935603 &  0.01824289 & -0.13597407 & -0.019664817 &  0.19417292 &  0.0674348977 &  0.17442696 & -0.290952110 & -0.15402813 & -0.30475509 &  0.30846405 & -0.1795944713 &  0.39245561 &  1.00000000 &  0.964187464\\\\\n\tPct\\_Hispanic &  0.03335616 &  0.08144261 & -0.07372257 &  0.15640253 &  0.02487226 &  0.24339077 &  0.02423263 & -0.11057930 & -0.001461885 &  0.22242698 &  0.0951793148 &  0.19562864 & -0.320925220 & -0.19214296 & -0.30002276 &  0.31602596 & -0.1686719210 &  0.35629295 &  0.96418746 &  1.000000000\\\\\n\\end{tabular}\n",
            "text/markdown": "\nA matrix: 20 × 20 of type dbl\n\n| <!--/--> | Pct_Yes | Pct_Democrat | Pct_Republican | PopPerSqMile | PerCapitaIncome | AvgHousehold Size | Pct_Bachelororhigher | Pct_Unemployment | Pct_Poverty | Pct_Age0to17 | Pct_Age18to24 | Pct_Age25to44 | Pct_Age45to64 | Pct_Age65andOlder | Pct_RaceWhite | Pct_RaceAfricanAmerican | Pct_RaceAmericanIndian | Pct_RaceAsian | Pct_RaceOther | Pct_Hispanic |\n|---|---|---|---|---|---|---|---|---|---|---|---|---|---|---|---|---|---|---|---|---|\n| Pct_Yes |  1.00000000 | -0.64541723 |  0.64855039 | -0.53041263 | -0.58523594 | -0.22417766 | -0.80645228 | -0.13263376 |  0.021101708 |  0.05515810 | -0.4696915847 | -0.51759911 |  0.197154870 |  0.56205416 |  0.35410407 | -0.62448520 | -0.0427026098 | -0.49015819 |  0.06715177 |  0.033356164 |\n| Pct_Democrat | -0.64541723 |  1.00000000 | -0.99894342 |  0.37191654 |  0.11144680 | -0.22015197 |  0.33506309 |  0.06280675 |  0.325941638 | -0.36309429 |  0.2898317955 | -0.02059607 |  0.016021439 | -0.01768341 | -0.40693647 |  0.39436745 |  0.2340664416 |  0.25613803 |  0.05432809 |  0.081442613 |\n| Pct_Republican |  0.64855039 | -0.99894342 |  1.00000000 | -0.36857228 | -0.10841808 |  0.22121860 | -0.33302413 | -0.06055333 | -0.320401128 |  0.36874121 | -0.2960284709 |  0.01717944 | -0.014030942 |  0.02074151 |  0.39367509 | -0.39157020 | -0.2237497669 | -0.25029886 | -0.04548360 | -0.073722569 |\n| PopPerSqMile | -0.53041263 |  0.37191654 | -0.36857228 |  1.00000000 |  0.47466412 |  0.15928657 |  0.55810156 |  0.08051932 |  0.071474101 |  0.09151799 |  0.1426364281 |  0.43221398 | -0.186763792 | -0.35790885 | -0.47722039 |  0.87190275 | -0.0636921085 |  0.80909140 |  0.15702456 |  0.156402530 |\n| PerCapitaIncome | -0.58523594 |  0.11144680 | -0.10841808 |  0.47466412 |  1.00000000 |  0.27115894 |  0.79479494 | -0.19078697 | -0.576850914 |  0.20689757 | -0.0796496181 |  0.53901582 |  0.014376326 | -0.41245387 | -0.08533944 |  0.53232438 | -0.2703393380 |  0.52365535 |  0.02447708 |  0.024872262 |\n| AvgHousehold Size | -0.22417766 | -0.22015197 |  0.22121860 |  0.15928657 |  0.27115894 |  1.00000000 |  0.31680898 |  0.10079381 | -0.273606313 |  0.81791868 |  0.1871776871 |  0.74131029 | -0.567426180 | -0.81782806 | -0.29735936 |  0.26925262 |  0.0623172436 |  0.33859399 |  0.21935603 |  0.243390772 |\n| Pct_Bachelororhigher | -0.80645228 |  0.33506309 | -0.33302413 |  0.55810156 |  0.79479494 |  0.31680898 |  1.00000000 | -0.10974819 | -0.208758733 |  0.13361938 |  0.3738054888 |  0.55709983 | -0.264881498 | -0.58926856 | -0.34647139 |  0.67307644 | -0.0515096583 |  0.64673209 |  0.01824289 |  0.024232629 |\n| Pct_Unemployment | -0.13263376 |  0.06280675 | -0.06055333 |  0.08051932 | -0.19078697 |  0.10079381 | -0.10974819 |  1.00000000 |  0.373032871 |  0.08185164 | -0.1159618192 |  0.08094233 |  0.116076608 | -0.05005931 | -0.21768385 |  0.02054073 |  0.3071730600 | -0.07896740 | -0.13597407 | -0.110579303 |\n| Pct_Poverty |  0.02110171 |  0.32594164 | -0.32040113 |  0.07147410 | -0.57685091 | -0.27360631 | -0.20875873 |  0.37303287 |  1.000000000 | -0.31396539 |  0.3133029818 | -0.36748104 | -0.060441452 |  0.20680364 | -0.45287528 |  0.04911566 |  0.5444738928 | -0.06806232 | -0.01966482 | -0.001461885 |\n| Pct_Age0to17 |  0.05515810 | -0.36309429 |  0.36874121 |  0.09151799 |  0.20689757 |  0.81791868 |  0.13361938 |  0.08185164 | -0.313965391 |  1.00000000 | -0.1734116084 |  0.65387694 | -0.481398857 | -0.62662253 | -0.29143896 |  0.12666305 |  0.1513794466 |  0.23314888 |  0.19417292 |  0.222426981 |\n| Pct_Age18to24 | -0.46969158 |  0.28983180 | -0.29602847 |  0.14263643 | -0.07964962 |  0.18717769 |  0.37380549 | -0.11596182 |  0.313302982 | -0.17341161 |  1.0000000000 |  0.18670207 | -0.649569340 | -0.47733881 | -0.18482698 |  0.30784478 | -0.0008087399 |  0.25113206 |  0.06743490 |  0.095179315 |\n| Pct_Age25to44 | -0.51759911 | -0.02059607 |  0.01717944 |  0.43221398 |  0.53901582 |  0.74131029 |  0.55709983 |  0.08094233 | -0.367481044 |  0.65387694 |  0.1867020723 |  1.00000000 | -0.548505767 | -0.89494712 | -0.27286990 |  0.59474367 | -0.1338578236 |  0.53194493 |  0.17442696 |  0.195628637 |\n| Pct_Age45to64 |  0.19715487 |  0.01602144 | -0.01403094 | -0.18676379 |  0.01437633 | -0.56742618 | -0.26488150 |  0.11607661 | -0.060441452 | -0.48139886 | -0.6495693398 | -0.54850577 |  1.000000000 |  0.64128584 |  0.28804050 | -0.36324962 |  0.0020437526 | -0.35339885 | -0.29095211 | -0.320925220 |\n| Pct_Age65andOlder |  0.56205416 | -0.01768341 |  0.02074151 | -0.35790885 | -0.41245387 | -0.81782806 | -0.58926856 | -0.05005931 |  0.206803640 | -0.62662253 | -0.4773388128 | -0.89494712 |  0.641285839 |  1.00000000 |  0.33967547 | -0.52571396 |  0.0182974035 | -0.50753944 | -0.15402813 | -0.192142957 |\n| Pct_RaceWhite |  0.35410407 | -0.40693647 |  0.39367509 | -0.47722039 | -0.08533944 | -0.29735936 | -0.34647139 | -0.21768385 | -0.452875277 | -0.29143896 | -0.1848269845 | -0.27286990 |  0.288040497 |  0.33967547 |  1.00000000 | -0.52459548 | -0.7266779109 | -0.52844353 | -0.30475509 | -0.300022758 |\n| Pct_RaceAfricanAmerican | -0.62448520 |  0.39436745 | -0.39157020 |  0.87190275 |  0.53232438 |  0.26925262 |  0.67307644 |  0.02054073 |  0.049115661 |  0.12666305 |  0.3078447792 |  0.59474367 | -0.363249617 | -0.52571396 | -0.52459548 |  1.00000000 | -0.1148557116 |  0.84018815 |  0.30846405 |  0.316025957 |\n| Pct_RaceAmericanIndian | -0.04270261 |  0.23406644 | -0.22374977 | -0.06369211 | -0.27033934 |  0.06231724 | -0.05150966 |  0.30717306 |  0.544473893 |  0.15137945 | -0.0008087399 | -0.13385782 |  0.002043753 |  0.01829740 | -0.72667791 | -0.11485571 |  1.0000000000 | -0.11940208 | -0.17959447 | -0.168671921 |\n| Pct_RaceAsian | -0.49015819 |  0.25613803 | -0.25029886 |  0.80909140 |  0.52365535 |  0.33859399 |  0.64673209 | -0.07896740 | -0.068062315 |  0.23314888 |  0.2511320648 |  0.53194493 | -0.353398846 | -0.50753944 | -0.52844353 |  0.84018815 | -0.1194020785 |  1.00000000 |  0.39245561 |  0.356292945 |\n| Pct_RaceOther |  0.06715177 |  0.05432809 | -0.04548360 |  0.15702456 |  0.02447708 |  0.21935603 |  0.01824289 | -0.13597407 | -0.019664817 |  0.19417292 |  0.0674348977 |  0.17442696 | -0.290952110 | -0.15402813 | -0.30475509 |  0.30846405 | -0.1795944713 |  0.39245561 |  1.00000000 |  0.964187464 |\n| Pct_Hispanic |  0.03335616 |  0.08144261 | -0.07372257 |  0.15640253 |  0.02487226 |  0.24339077 |  0.02423263 | -0.11057930 | -0.001461885 |  0.22242698 |  0.0951793148 |  0.19562864 | -0.320925220 | -0.19214296 | -0.30002276 |  0.31602596 | -0.1686719210 |  0.35629295 |  0.96418746 |  1.000000000 |\n\n",
            "text/html": [
              "<table class=\"dataframe\">\n",
              "<caption>A matrix: 20 × 20 of type dbl</caption>\n",
              "<thead>\n",
              "\t<tr><th></th><th scope=col>Pct_Yes</th><th scope=col>Pct_Democrat</th><th scope=col>Pct_Republican</th><th scope=col>PopPerSqMile</th><th scope=col>PerCapitaIncome</th><th scope=col>AvgHousehold Size</th><th scope=col>Pct_Bachelororhigher</th><th scope=col>Pct_Unemployment</th><th scope=col>Pct_Poverty</th><th scope=col>Pct_Age0to17</th><th scope=col>Pct_Age18to24</th><th scope=col>Pct_Age25to44</th><th scope=col>Pct_Age45to64</th><th scope=col>Pct_Age65andOlder</th><th scope=col>Pct_RaceWhite</th><th scope=col>Pct_RaceAfricanAmerican</th><th scope=col>Pct_RaceAmericanIndian</th><th scope=col>Pct_RaceAsian</th><th scope=col>Pct_RaceOther</th><th scope=col>Pct_Hispanic</th></tr>\n",
              "</thead>\n",
              "<tbody>\n",
              "\t<tr><th scope=row>Pct_Yes</th><td> 1.00000000</td><td>-0.64541723</td><td> 0.64855039</td><td>-0.53041263</td><td>-0.58523594</td><td>-0.22417766</td><td>-0.80645228</td><td>-0.13263376</td><td> 0.021101708</td><td> 0.05515810</td><td>-0.4696915847</td><td>-0.51759911</td><td> 0.197154870</td><td> 0.56205416</td><td> 0.35410407</td><td>-0.62448520</td><td>-0.0427026098</td><td>-0.49015819</td><td> 0.06715177</td><td> 0.033356164</td></tr>\n",
              "\t<tr><th scope=row>Pct_Democrat</th><td>-0.64541723</td><td> 1.00000000</td><td>-0.99894342</td><td> 0.37191654</td><td> 0.11144680</td><td>-0.22015197</td><td> 0.33506309</td><td> 0.06280675</td><td> 0.325941638</td><td>-0.36309429</td><td> 0.2898317955</td><td>-0.02059607</td><td> 0.016021439</td><td>-0.01768341</td><td>-0.40693647</td><td> 0.39436745</td><td> 0.2340664416</td><td> 0.25613803</td><td> 0.05432809</td><td> 0.081442613</td></tr>\n",
              "\t<tr><th scope=row>Pct_Republican</th><td> 0.64855039</td><td>-0.99894342</td><td> 1.00000000</td><td>-0.36857228</td><td>-0.10841808</td><td> 0.22121860</td><td>-0.33302413</td><td>-0.06055333</td><td>-0.320401128</td><td> 0.36874121</td><td>-0.2960284709</td><td> 0.01717944</td><td>-0.014030942</td><td> 0.02074151</td><td> 0.39367509</td><td>-0.39157020</td><td>-0.2237497669</td><td>-0.25029886</td><td>-0.04548360</td><td>-0.073722569</td></tr>\n",
              "\t<tr><th scope=row>PopPerSqMile</th><td>-0.53041263</td><td> 0.37191654</td><td>-0.36857228</td><td> 1.00000000</td><td> 0.47466412</td><td> 0.15928657</td><td> 0.55810156</td><td> 0.08051932</td><td> 0.071474101</td><td> 0.09151799</td><td> 0.1426364281</td><td> 0.43221398</td><td>-0.186763792</td><td>-0.35790885</td><td>-0.47722039</td><td> 0.87190275</td><td>-0.0636921085</td><td> 0.80909140</td><td> 0.15702456</td><td> 0.156402530</td></tr>\n",
              "\t<tr><th scope=row>PerCapitaIncome</th><td>-0.58523594</td><td> 0.11144680</td><td>-0.10841808</td><td> 0.47466412</td><td> 1.00000000</td><td> 0.27115894</td><td> 0.79479494</td><td>-0.19078697</td><td>-0.576850914</td><td> 0.20689757</td><td>-0.0796496181</td><td> 0.53901582</td><td> 0.014376326</td><td>-0.41245387</td><td>-0.08533944</td><td> 0.53232438</td><td>-0.2703393380</td><td> 0.52365535</td><td> 0.02447708</td><td> 0.024872262</td></tr>\n",
              "\t<tr><th scope=row>AvgHousehold Size</th><td>-0.22417766</td><td>-0.22015197</td><td> 0.22121860</td><td> 0.15928657</td><td> 0.27115894</td><td> 1.00000000</td><td> 0.31680898</td><td> 0.10079381</td><td>-0.273606313</td><td> 0.81791868</td><td> 0.1871776871</td><td> 0.74131029</td><td>-0.567426180</td><td>-0.81782806</td><td>-0.29735936</td><td> 0.26925262</td><td> 0.0623172436</td><td> 0.33859399</td><td> 0.21935603</td><td> 0.243390772</td></tr>\n",
              "\t<tr><th scope=row>Pct_Bachelororhigher</th><td>-0.80645228</td><td> 0.33506309</td><td>-0.33302413</td><td> 0.55810156</td><td> 0.79479494</td><td> 0.31680898</td><td> 1.00000000</td><td>-0.10974819</td><td>-0.208758733</td><td> 0.13361938</td><td> 0.3738054888</td><td> 0.55709983</td><td>-0.264881498</td><td>-0.58926856</td><td>-0.34647139</td><td> 0.67307644</td><td>-0.0515096583</td><td> 0.64673209</td><td> 0.01824289</td><td> 0.024232629</td></tr>\n",
              "\t<tr><th scope=row>Pct_Unemployment</th><td>-0.13263376</td><td> 0.06280675</td><td>-0.06055333</td><td> 0.08051932</td><td>-0.19078697</td><td> 0.10079381</td><td>-0.10974819</td><td> 1.00000000</td><td> 0.373032871</td><td> 0.08185164</td><td>-0.1159618192</td><td> 0.08094233</td><td> 0.116076608</td><td>-0.05005931</td><td>-0.21768385</td><td> 0.02054073</td><td> 0.3071730600</td><td>-0.07896740</td><td>-0.13597407</td><td>-0.110579303</td></tr>\n",
              "\t<tr><th scope=row>Pct_Poverty</th><td> 0.02110171</td><td> 0.32594164</td><td>-0.32040113</td><td> 0.07147410</td><td>-0.57685091</td><td>-0.27360631</td><td>-0.20875873</td><td> 0.37303287</td><td> 1.000000000</td><td>-0.31396539</td><td> 0.3133029818</td><td>-0.36748104</td><td>-0.060441452</td><td> 0.20680364</td><td>-0.45287528</td><td> 0.04911566</td><td> 0.5444738928</td><td>-0.06806232</td><td>-0.01966482</td><td>-0.001461885</td></tr>\n",
              "\t<tr><th scope=row>Pct_Age0to17</th><td> 0.05515810</td><td>-0.36309429</td><td> 0.36874121</td><td> 0.09151799</td><td> 0.20689757</td><td> 0.81791868</td><td> 0.13361938</td><td> 0.08185164</td><td>-0.313965391</td><td> 1.00000000</td><td>-0.1734116084</td><td> 0.65387694</td><td>-0.481398857</td><td>-0.62662253</td><td>-0.29143896</td><td> 0.12666305</td><td> 0.1513794466</td><td> 0.23314888</td><td> 0.19417292</td><td> 0.222426981</td></tr>\n",
              "\t<tr><th scope=row>Pct_Age18to24</th><td>-0.46969158</td><td> 0.28983180</td><td>-0.29602847</td><td> 0.14263643</td><td>-0.07964962</td><td> 0.18717769</td><td> 0.37380549</td><td>-0.11596182</td><td> 0.313302982</td><td>-0.17341161</td><td> 1.0000000000</td><td> 0.18670207</td><td>-0.649569340</td><td>-0.47733881</td><td>-0.18482698</td><td> 0.30784478</td><td>-0.0008087399</td><td> 0.25113206</td><td> 0.06743490</td><td> 0.095179315</td></tr>\n",
              "\t<tr><th scope=row>Pct_Age25to44</th><td>-0.51759911</td><td>-0.02059607</td><td> 0.01717944</td><td> 0.43221398</td><td> 0.53901582</td><td> 0.74131029</td><td> 0.55709983</td><td> 0.08094233</td><td>-0.367481044</td><td> 0.65387694</td><td> 0.1867020723</td><td> 1.00000000</td><td>-0.548505767</td><td>-0.89494712</td><td>-0.27286990</td><td> 0.59474367</td><td>-0.1338578236</td><td> 0.53194493</td><td> 0.17442696</td><td> 0.195628637</td></tr>\n",
              "\t<tr><th scope=row>Pct_Age45to64</th><td> 0.19715487</td><td> 0.01602144</td><td>-0.01403094</td><td>-0.18676379</td><td> 0.01437633</td><td>-0.56742618</td><td>-0.26488150</td><td> 0.11607661</td><td>-0.060441452</td><td>-0.48139886</td><td>-0.6495693398</td><td>-0.54850577</td><td> 1.000000000</td><td> 0.64128584</td><td> 0.28804050</td><td>-0.36324962</td><td> 0.0020437526</td><td>-0.35339885</td><td>-0.29095211</td><td>-0.320925220</td></tr>\n",
              "\t<tr><th scope=row>Pct_Age65andOlder</th><td> 0.56205416</td><td>-0.01768341</td><td> 0.02074151</td><td>-0.35790885</td><td>-0.41245387</td><td>-0.81782806</td><td>-0.58926856</td><td>-0.05005931</td><td> 0.206803640</td><td>-0.62662253</td><td>-0.4773388128</td><td>-0.89494712</td><td> 0.641285839</td><td> 1.00000000</td><td> 0.33967547</td><td>-0.52571396</td><td> 0.0182974035</td><td>-0.50753944</td><td>-0.15402813</td><td>-0.192142957</td></tr>\n",
              "\t<tr><th scope=row>Pct_RaceWhite</th><td> 0.35410407</td><td>-0.40693647</td><td> 0.39367509</td><td>-0.47722039</td><td>-0.08533944</td><td>-0.29735936</td><td>-0.34647139</td><td>-0.21768385</td><td>-0.452875277</td><td>-0.29143896</td><td>-0.1848269845</td><td>-0.27286990</td><td> 0.288040497</td><td> 0.33967547</td><td> 1.00000000</td><td>-0.52459548</td><td>-0.7266779109</td><td>-0.52844353</td><td>-0.30475509</td><td>-0.300022758</td></tr>\n",
              "\t<tr><th scope=row>Pct_RaceAfricanAmerican</th><td>-0.62448520</td><td> 0.39436745</td><td>-0.39157020</td><td> 0.87190275</td><td> 0.53232438</td><td> 0.26925262</td><td> 0.67307644</td><td> 0.02054073</td><td> 0.049115661</td><td> 0.12666305</td><td> 0.3078447792</td><td> 0.59474367</td><td>-0.363249617</td><td>-0.52571396</td><td>-0.52459548</td><td> 1.00000000</td><td>-0.1148557116</td><td> 0.84018815</td><td> 0.30846405</td><td> 0.316025957</td></tr>\n",
              "\t<tr><th scope=row>Pct_RaceAmericanIndian</th><td>-0.04270261</td><td> 0.23406644</td><td>-0.22374977</td><td>-0.06369211</td><td>-0.27033934</td><td> 0.06231724</td><td>-0.05150966</td><td> 0.30717306</td><td> 0.544473893</td><td> 0.15137945</td><td>-0.0008087399</td><td>-0.13385782</td><td> 0.002043753</td><td> 0.01829740</td><td>-0.72667791</td><td>-0.11485571</td><td> 1.0000000000</td><td>-0.11940208</td><td>-0.17959447</td><td>-0.168671921</td></tr>\n",
              "\t<tr><th scope=row>Pct_RaceAsian</th><td>-0.49015819</td><td> 0.25613803</td><td>-0.25029886</td><td> 0.80909140</td><td> 0.52365535</td><td> 0.33859399</td><td> 0.64673209</td><td>-0.07896740</td><td>-0.068062315</td><td> 0.23314888</td><td> 0.2511320648</td><td> 0.53194493</td><td>-0.353398846</td><td>-0.50753944</td><td>-0.52844353</td><td> 0.84018815</td><td>-0.1194020785</td><td> 1.00000000</td><td> 0.39245561</td><td> 0.356292945</td></tr>\n",
              "\t<tr><th scope=row>Pct_RaceOther</th><td> 0.06715177</td><td> 0.05432809</td><td>-0.04548360</td><td> 0.15702456</td><td> 0.02447708</td><td> 0.21935603</td><td> 0.01824289</td><td>-0.13597407</td><td>-0.019664817</td><td> 0.19417292</td><td> 0.0674348977</td><td> 0.17442696</td><td>-0.290952110</td><td>-0.15402813</td><td>-0.30475509</td><td> 0.30846405</td><td>-0.1795944713</td><td> 0.39245561</td><td> 1.00000000</td><td> 0.964187464</td></tr>\n",
              "\t<tr><th scope=row>Pct_Hispanic</th><td> 0.03335616</td><td> 0.08144261</td><td>-0.07372257</td><td> 0.15640253</td><td> 0.02487226</td><td> 0.24339077</td><td> 0.02423263</td><td>-0.11057930</td><td>-0.001461885</td><td> 0.22242698</td><td> 0.0951793148</td><td> 0.19562864</td><td>-0.320925220</td><td>-0.19214296</td><td>-0.30002276</td><td> 0.31602596</td><td>-0.1686719210</td><td> 0.35629295</td><td> 0.96418746</td><td> 1.000000000</td></tr>\n",
              "</tbody>\n",
              "</table>\n"
            ]
          },
          "metadata": {}
        }
      ]
    },
    {
      "cell_type": "markdown",
      "metadata": {
        "id": "mFzduAIWvczF"
      },
      "source": [
        "\n",
        "\n",
        "---\n",
        "\n",
        "\n",
        "\n",
        "---\n",
        "\n"
      ]
    },
    {
      "cell_type": "markdown",
      "metadata": {
        "id": "936gjFZftwNF"
      },
      "source": [
        "## Initial Model"
      ]
    },
    {
      "cell_type": "markdown",
      "metadata": {
        "id": "t3ZO_fMn8VUZ"
      },
      "source": [
        "The initial model:  $PctYes \\sim PctRepublican + PerCapitaIncome + PctBachelorHigher + PctUnemployment + PctPoverty + PctAge0to17 + PctAge18to24 + PctAge45to64 + PctAge65andOlder + PctRaceWhite + PctRaceAfricanAmerican + PctRaceAmericanIndian + PctRaceOther$\n",
        "\n",
        "\n",
        "<u>Note</u>:  Some of the available predictors are excluded from this initial model due to issues related to multicollinarity. "
      ]
    },
    {
      "cell_type": "code",
      "metadata": {
        "colab": {
          "base_uri": "https://localhost:8080/",
          "height": 610
        },
        "id": "jYt5VmhA828N",
        "outputId": "f2300baf-3a89-48bc-fa69-dcfd42686228"
      },
      "source": [
        "#Fitting an initial model\n",
        "Model_Initial <- lm(Pct_Yes ~ Pct_Republican \n",
        "                              + PerCapitaIncome + Pct_Bachelororhigher \n",
        "                              + Pct_Unemployment + Pct_Poverty \n",
        "                              + Pct_Age0to17 + Pct_Age18to24 + Pct_Age45to64 + Pct_Age65andOlder\n",
        "                              + Pct_RaceWhite + Pct_RaceAfricanAmerican + Pct_RaceAmericanIndian + Pct_RaceOther ,\n",
        "                              data=MN_Marriage_Amendment\n",
        "                   )\n",
        "summary(Model_Initial)"
      ],
      "execution_count": null,
      "outputs": [
        {
          "output_type": "display_data",
          "data": {
            "text/plain": [
              "\n",
              "Call:\n",
              "lm(formula = Pct_Yes ~ Pct_Republican + PerCapitaIncome + Pct_Bachelororhigher + \n",
              "    Pct_Unemployment + Pct_Poverty + Pct_Age0to17 + Pct_Age18to24 + \n",
              "    Pct_Age45to64 + Pct_Age65andOlder + Pct_RaceWhite + Pct_RaceAfricanAmerican + \n",
              "    Pct_RaceAmericanIndian + Pct_RaceOther, data = MN_Marriage_Amendment)\n",
              "\n",
              "Residuals:\n",
              "    Min      1Q  Median      3Q     Max \n",
              "-5.3185 -1.4731 -0.0521  1.4843  6.4936 \n",
              "\n",
              "Coefficients:\n",
              "                          Estimate Std. Error t value Pr(>|t|)    \n",
              "(Intercept)             18.8512110 41.6679373   0.452  0.65231    \n",
              "Pct_Republican           0.5268397  0.0520197  10.128 1.48e-15 ***\n",
              "PerCapitaIncome         -0.0005900  0.0002270  -2.599  0.01129 *  \n",
              "Pct_Bachelororhigher    -0.3185019  0.1030311  -3.091  0.00282 ** \n",
              "Pct_Unemployment        -1.6493002  0.3258654  -5.061 3.01e-06 ***\n",
              "Pct_Poverty              0.1833830  0.1831922   1.001  0.32011    \n",
              "Pct_Age0to17             1.1719541  0.4567580   2.566  0.01235 *  \n",
              "Pct_Age18to24            0.0003671  0.3346352   0.001  0.99913    \n",
              "Pct_Age45to64            0.1504863  0.3299896   0.456  0.64972    \n",
              "Pct_Age65andOlder        1.0399711  0.2314472   4.493 2.58e-05 ***\n",
              "Pct_RaceWhite           -0.0897461  0.2734590  -0.328  0.74371    \n",
              "Pct_RaceAfricanAmerican  0.0843408  0.6086867   0.139  0.89018    \n",
              "Pct_RaceAmericanIndian  -0.1798115  0.3220504  -0.558  0.57833    \n",
              "Pct_RaceOther            0.2388400  0.3509267   0.681  0.49828    \n",
              "---\n",
              "Signif. codes:  0 ‘***’ 0.001 ‘**’ 0.01 ‘*’ 0.05 ‘.’ 0.1 ‘ ’ 1\n",
              "\n",
              "Residual standard error: 2.423 on 73 degrees of freedom\n",
              "Multiple R-squared:  0.9352,\tAdjusted R-squared:  0.9236 \n",
              "F-statistic: 81.01 on 13 and 73 DF,  p-value: < 2.2e-16\n"
            ]
          },
          "metadata": {}
        }
      ]
    },
    {
      "cell_type": "markdown",
      "metadata": {
        "id": "fEQQr-5zCCGS"
      },
      "source": [
        "### Getting the t-value for significance"
      ]
    },
    {
      "cell_type": "code",
      "metadata": {
        "colab": {
          "base_uri": "https://localhost:8080/",
          "height": 34
        },
        "id": "YXuZwc0a_kn9",
        "outputId": "3bfe4387-6b01-40c7-a406-d37b853b7e7f"
      },
      "source": [
        "qt(0.05/2, df=73, lower.tail = FALSE)"
      ],
      "execution_count": null,
      "outputs": [
        {
          "output_type": "display_data",
          "data": {
            "text/plain": [
              "[1] 1.993"
            ],
            "text/latex": "1.993",
            "text/markdown": "1.993",
            "text/html": [
              "1.993"
            ]
          },
          "metadata": {}
        }
      ]
    },
    {
      "cell_type": "markdown",
      "metadata": {
        "id": "bcffay58_qpV"
      },
      "source": [
        "### Getting the t-values into a data.frame for plotting"
      ]
    },
    {
      "cell_type": "code",
      "metadata": {
        "colab": {
          "base_uri": "https://localhost:8080/",
          "height": 537
        },
        "id": "eiCNA6AUCCMB",
        "outputId": "45749e61-05ff-4427-d479-29e60339f4da"
      },
      "source": [
        "#Getting the absolute t values from the model object\n",
        "tvalue_df <- data.frame(tvalues = abs(summary(Model_Initial)$coefficients[,3]))\n",
        "\n",
        "#Add a column for the predictor names\n",
        "tvalue_df$Predictor <- rownames(tvalue_df)\n",
        "\n",
        "#Print the data.frame out for inspection\n",
        "tvalue_df"
      ],
      "execution_count": null,
      "outputs": [
        {
          "output_type": "display_data",
          "data": {
            "text/plain": [
              "                        tvalues      Predictor              \n",
              "(Intercept)              0.452415268 (Intercept)            \n",
              "Pct_Republican          10.127699521 Pct_Republican         \n",
              "PerCapitaIncome          2.599412526 PerCapitaIncome        \n",
              "Pct_Bachelororhigher     3.091319136 Pct_Bachelororhigher   \n",
              "Pct_Unemployment         5.061292286 Pct_Unemployment       \n",
              "Pct_Poverty              1.001041670 Pct_Poverty            \n",
              "Pct_Age0to17             2.565809804 Pct_Age0to17           \n",
              "Pct_Age18to24            0.001096923 Pct_Age18to24          \n",
              "Pct_Age45to64            0.456033390 Pct_Age45to64          \n",
              "Pct_Age65andOlder        4.493341061 Pct_Age65andOlder      \n",
              "Pct_RaceWhite            0.328188332 Pct_RaceWhite          \n",
              "Pct_RaceAfricanAmerican  0.138561886 Pct_RaceAfricanAmerican\n",
              "Pct_RaceAmericanIndian   0.558333322 Pct_RaceAmericanIndian \n",
              "Pct_RaceOther            0.680597982 Pct_RaceOther          "
            ],
            "text/latex": "A data.frame: 14 × 2\n\\begin{tabular}{r|ll}\n  & tvalues & Predictor\\\\\n  & <dbl> & <chr>\\\\\n\\hline\n\t(Intercept) &  0.452415268 & (Intercept)            \\\\\n\tPct\\_Republican & 10.127699521 & Pct\\_Republican         \\\\\n\tPerCapitaIncome &  2.599412526 & PerCapitaIncome        \\\\\n\tPct\\_Bachelororhigher &  3.091319136 & Pct\\_Bachelororhigher   \\\\\n\tPct\\_Unemployment &  5.061292286 & Pct\\_Unemployment       \\\\\n\tPct\\_Poverty &  1.001041670 & Pct\\_Poverty            \\\\\n\tPct\\_Age0to17 &  2.565809804 & Pct\\_Age0to17           \\\\\n\tPct\\_Age18to24 &  0.001096923 & Pct\\_Age18to24          \\\\\n\tPct\\_Age45to64 &  0.456033390 & Pct\\_Age45to64          \\\\\n\tPct\\_Age65andOlder &  4.493341061 & Pct\\_Age65andOlder      \\\\\n\tPct\\_RaceWhite &  0.328188332 & Pct\\_RaceWhite          \\\\\n\tPct\\_RaceAfricanAmerican &  0.138561886 & Pct\\_RaceAfricanAmerican\\\\\n\tPct\\_RaceAmericanIndian &  0.558333322 & Pct\\_RaceAmericanIndian \\\\\n\tPct\\_RaceOther &  0.680597982 & Pct\\_RaceOther          \\\\\n\\end{tabular}\n",
            "text/markdown": "\nA data.frame: 14 × 2\n\n| <!--/--> | tvalues &lt;dbl&gt; | Predictor &lt;chr&gt; |\n|---|---|---|\n| (Intercept) |  0.452415268 | (Intercept)             |\n| Pct_Republican | 10.127699521 | Pct_Republican          |\n| PerCapitaIncome |  2.599412526 | PerCapitaIncome         |\n| Pct_Bachelororhigher |  3.091319136 | Pct_Bachelororhigher    |\n| Pct_Unemployment |  5.061292286 | Pct_Unemployment        |\n| Pct_Poverty |  1.001041670 | Pct_Poverty             |\n| Pct_Age0to17 |  2.565809804 | Pct_Age0to17            |\n| Pct_Age18to24 |  0.001096923 | Pct_Age18to24           |\n| Pct_Age45to64 |  0.456033390 | Pct_Age45to64           |\n| Pct_Age65andOlder |  4.493341061 | Pct_Age65andOlder       |\n| Pct_RaceWhite |  0.328188332 | Pct_RaceWhite           |\n| Pct_RaceAfricanAmerican |  0.138561886 | Pct_RaceAfricanAmerican |\n| Pct_RaceAmericanIndian |  0.558333322 | Pct_RaceAmericanIndian  |\n| Pct_RaceOther |  0.680597982 | Pct_RaceOther           |\n\n",
            "text/html": [
              "<table class=\"dataframe\">\n",
              "<caption>A data.frame: 14 × 2</caption>\n",
              "<thead>\n",
              "\t<tr><th></th><th scope=col>tvalues</th><th scope=col>Predictor</th></tr>\n",
              "\t<tr><th></th><th scope=col>&lt;dbl&gt;</th><th scope=col>&lt;chr&gt;</th></tr>\n",
              "</thead>\n",
              "<tbody>\n",
              "\t<tr><th scope=row>(Intercept)</th><td> 0.452415268</td><td>(Intercept)            </td></tr>\n",
              "\t<tr><th scope=row>Pct_Republican</th><td>10.127699521</td><td>Pct_Republican         </td></tr>\n",
              "\t<tr><th scope=row>PerCapitaIncome</th><td> 2.599412526</td><td>PerCapitaIncome        </td></tr>\n",
              "\t<tr><th scope=row>Pct_Bachelororhigher</th><td> 3.091319136</td><td>Pct_Bachelororhigher   </td></tr>\n",
              "\t<tr><th scope=row>Pct_Unemployment</th><td> 5.061292286</td><td>Pct_Unemployment       </td></tr>\n",
              "\t<tr><th scope=row>Pct_Poverty</th><td> 1.001041670</td><td>Pct_Poverty            </td></tr>\n",
              "\t<tr><th scope=row>Pct_Age0to17</th><td> 2.565809804</td><td>Pct_Age0to17           </td></tr>\n",
              "\t<tr><th scope=row>Pct_Age18to24</th><td> 0.001096923</td><td>Pct_Age18to24          </td></tr>\n",
              "\t<tr><th scope=row>Pct_Age45to64</th><td> 0.456033390</td><td>Pct_Age45to64          </td></tr>\n",
              "\t<tr><th scope=row>Pct_Age65andOlder</th><td> 4.493341061</td><td>Pct_Age65andOlder      </td></tr>\n",
              "\t<tr><th scope=row>Pct_RaceWhite</th><td> 0.328188332</td><td>Pct_RaceWhite          </td></tr>\n",
              "\t<tr><th scope=row>Pct_RaceAfricanAmerican</th><td> 0.138561886</td><td>Pct_RaceAfricanAmerican</td></tr>\n",
              "\t<tr><th scope=row>Pct_RaceAmericanIndian</th><td> 0.558333322</td><td>Pct_RaceAmericanIndian </td></tr>\n",
              "\t<tr><th scope=row>Pct_RaceOther</th><td> 0.680597982</td><td>Pct_RaceOther          </td></tr>\n",
              "</tbody>\n",
              "</table>\n"
            ]
          },
          "metadata": {}
        }
      ]
    },
    {
      "cell_type": "markdown",
      "metadata": {
        "id": "fnC5Lp22AL3U"
      },
      "source": [
        "### Making a Variable Importance Plot"
      ]
    },
    {
      "cell_type": "code",
      "metadata": {
        "colab": {
          "base_uri": "https://localhost:8080/",
          "height": 437
        },
        "id": "WFa_6s4dCivH",
        "outputId": "40028f1e-167a-4fcf-bd1f-c1318cc50fd8"
      },
      "source": [
        "ggplot(tvalue_df, aes(x=reorder(Predictor,-tvalues), y=tvalues))+\n",
        " geom_bar(stat=\"identity\") +\n",
        " theme(axis.text.x=element_text(angle=90)) +\n",
        " labs(title=\"Variable Importance Plot\",\n",
        "        x =\"Predictor Variable\", y = \"| t value |\") + \n",
        " geom_hline(yintercept=1.993)  #Bars above this line are statistically significant"
      ],
      "execution_count": null,
      "outputs": [
        {
          "output_type": "display_data",
          "data": {
            "image/png": "[encoded data removed]",
            "text/plain": [
              "plot without title"
            ]
          },
          "metadata": {
            "image/png": {
              "width": 420,
              "height": 420
            }
          }
        }
      ]
    },
    {
      "cell_type": "markdown",
      "metadata": {
        "id": "P6w2Jom_MDRy"
      },
      "source": [
        "\n",
        "\n",
        "---\n",
        "\n",
        "\n",
        "\n",
        "---\n",
        "\n"
      ]
    },
    {
      "cell_type": "markdown",
      "metadata": {
        "id": "BLjTZwxAFPSF"
      },
      "source": [
        "## Dropping insignificant predictors"
      ]
    },
    {
      "cell_type": "markdown",
      "metadata": {
        "id": "1yidZXlTFmqF"
      },
      "source": [
        "**Step 0: Initial Model**\n",
        "\n",
        "PctYes∼PctRepublican+PerCapitaIncome+PctBachelorHigher+PctUnemployment+PctPoverty+PctAge0to17+PctAge18to24+PctAge45to64+PctAge65andOlder+PctRaceWhite+PctRaceAfricanAmerican+PctRaceAmericanIndian+PctRaceOther"
      ]
    },
    {
      "cell_type": "code",
      "metadata": {
        "colab": {
          "base_uri": "https://localhost:8080/",
          "height": 610
        },
        "id": "WOeHXM6zFPZk",
        "outputId": "7002afbb-8529-4946-e032-abcee60192ee"
      },
      "source": [
        "#Fitting an initial model\n",
        "Model_Step0 <- lm(Pct_Yes ~ Pct_Republican \n",
        "                              + PerCapitaIncome + Pct_Bachelororhigher \n",
        "                              + Pct_Unemployment + Pct_Poverty \n",
        "                              + Pct_Age0to17 + Pct_Age18to24 + Pct_Age45to64 + Pct_Age65andOlder\n",
        "                              + Pct_RaceWhite + Pct_RaceAfricanAmerican + Pct_RaceAmericanIndian + Pct_RaceOther ,\n",
        "                              data=MN_Marriage_Amendment\n",
        "                   )\n",
        "summary(Model_Step0)"
      ],
      "execution_count": null,
      "outputs": [
        {
          "output_type": "display_data",
          "data": {
            "text/plain": [
              "\n",
              "Call:\n",
              "lm(formula = Pct_Yes ~ Pct_Republican + PerCapitaIncome + Pct_Bachelororhigher + \n",
              "    Pct_Unemployment + Pct_Poverty + Pct_Age0to17 + Pct_Age18to24 + \n",
              "    Pct_Age45to64 + Pct_Age65andOlder + Pct_RaceWhite + Pct_RaceAfricanAmerican + \n",
              "    Pct_RaceAmericanIndian + Pct_RaceOther, data = MN_Marriage_Amendment)\n",
              "\n",
              "Residuals:\n",
              "    Min      1Q  Median      3Q     Max \n",
              "-5.3185 -1.4731 -0.0521  1.4843  6.4936 \n",
              "\n",
              "Coefficients:\n",
              "                          Estimate Std. Error t value Pr(>|t|)    \n",
              "(Intercept)             18.8512110 41.6679373   0.452  0.65231    \n",
              "Pct_Republican           0.5268397  0.0520197  10.128 1.48e-15 ***\n",
              "PerCapitaIncome         -0.0005900  0.0002270  -2.599  0.01129 *  \n",
              "Pct_Bachelororhigher    -0.3185019  0.1030311  -3.091  0.00282 ** \n",
              "Pct_Unemployment        -1.6493002  0.3258654  -5.061 3.01e-06 ***\n",
              "Pct_Poverty              0.1833830  0.1831922   1.001  0.32011    \n",
              "Pct_Age0to17             1.1719541  0.4567580   2.566  0.01235 *  \n",
              "Pct_Age18to24            0.0003671  0.3346352   0.001  0.99913    \n",
              "Pct_Age45to64            0.1504863  0.3299896   0.456  0.64972    \n",
              "Pct_Age65andOlder        1.0399711  0.2314472   4.493 2.58e-05 ***\n",
              "Pct_RaceWhite           -0.0897461  0.2734590  -0.328  0.74371    \n",
              "Pct_RaceAfricanAmerican  0.0843408  0.6086867   0.139  0.89018    \n",
              "Pct_RaceAmericanIndian  -0.1798115  0.3220504  -0.558  0.57833    \n",
              "Pct_RaceOther            0.2388400  0.3509267   0.681  0.49828    \n",
              "---\n",
              "Signif. codes:  0 ‘***’ 0.001 ‘**’ 0.01 ‘*’ 0.05 ‘.’ 0.1 ‘ ’ 1\n",
              "\n",
              "Residual standard error: 2.423 on 73 degrees of freedom\n",
              "Multiple R-squared:  0.9352,\tAdjusted R-squared:  0.9236 \n",
              "F-statistic: 81.01 on 13 and 73 DF,  p-value: < 2.2e-16\n"
            ]
          },
          "metadata": {}
        }
      ]
    },
    {
      "cell_type": "markdown",
      "metadata": {
        "id": "PLb7xJIBFvwO"
      },
      "source": [
        "**Step 1: Drop % Age 18 to 24**\n",
        "\n",
        "PctYes∼PctRepublican+PerCapitaIncome+PctBachelorHigher+PctUnemployment+PctPoverty+PctAge0to17 +PctAge45to64+PctAge65andOlder+PctRaceWhite+PctRaceAfricanAmerican+PctRaceAmericanIndian+PctRaceOther\n",
        "\n"
      ]
    },
    {
      "cell_type": "code",
      "metadata": {
        "colab": {
          "base_uri": "https://localhost:8080/",
          "height": 591
        },
        "id": "BDHBx-JrFv18",
        "outputId": "3d85da6a-a6ed-4745-cb63-e9cc020f304c"
      },
      "source": [
        "Model_Step1 <- lm(Pct_Yes ~ Pct_Republican \n",
        "                              + PerCapitaIncome + Pct_Bachelororhigher \n",
        "                              + Pct_Unemployment + Pct_Poverty \n",
        "                              + Pct_Age0to17 +                 Pct_Age45to64 + Pct_Age65andOlder\n",
        "                              + Pct_RaceWhite + Pct_RaceAfricanAmerican + Pct_RaceAmericanIndian + Pct_RaceOther ,\n",
        "                              data=MN_Marriage_Amendment\n",
        "                   )\n",
        "summary(Model_Step1)"
      ],
      "execution_count": null,
      "outputs": [
        {
          "output_type": "display_data",
          "data": {
            "text/plain": [
              "\n",
              "Call:\n",
              "lm(formula = Pct_Yes ~ Pct_Republican + PerCapitaIncome + Pct_Bachelororhigher + \n",
              "    Pct_Unemployment + Pct_Poverty + Pct_Age0to17 + Pct_Age45to64 + \n",
              "    Pct_Age65andOlder + Pct_RaceWhite + Pct_RaceAfricanAmerican + \n",
              "    Pct_RaceAmericanIndian + Pct_RaceOther, data = MN_Marriage_Amendment)\n",
              "\n",
              "Residuals:\n",
              "    Min      1Q  Median      3Q     Max \n",
              "-5.3183 -1.4733 -0.0522  1.4844  6.4936 \n",
              "\n",
              "Coefficients:\n",
              "                          Estimate Std. Error t value Pr(>|t|)    \n",
              "(Intercept)             18.8837044 29.1055100   0.649  0.51848    \n",
              "Pct_Republican           0.5268479  0.0511360  10.303 6.03e-16 ***\n",
              "PerCapitaIncome         -0.0005901  0.0002180  -2.706  0.00844 ** \n",
              "Pct_Bachelororhigher    -0.3184619  0.0956905  -3.328  0.00136 ** \n",
              "Pct_Unemployment        -1.6493833  0.3147958  -5.240 1.46e-06 ***\n",
              "Pct_Poverty              0.1834361  0.1754878   1.045  0.29929    \n",
              "Pct_Age0to17             1.1715139  0.2166397   5.408 7.50e-07 ***\n",
              "Pct_Age45to64            0.1501812  0.1763738   0.851  0.39724    \n",
              "Pct_Age65andOlder        1.0397588  0.1259956   8.252 4.32e-12 ***\n",
              "Pct_RaceWhite           -0.0898104  0.2652776  -0.339  0.73591    \n",
              "Pct_RaceAfricanAmerican  0.0840648  0.5504816   0.153  0.87904    \n",
              "Pct_RaceAmericanIndian  -0.1798750  0.3146471  -0.572  0.56928    \n",
              "Pct_RaceOther            0.2387843  0.3448833   0.692  0.49088    \n",
              "---\n",
              "Signif. codes:  0 ‘***’ 0.001 ‘**’ 0.01 ‘*’ 0.05 ‘.’ 0.1 ‘ ’ 1\n",
              "\n",
              "Residual standard error: 2.406 on 74 degrees of freedom\n",
              "Multiple R-squared:  0.9352,\tAdjusted R-squared:  0.9247 \n",
              "F-statistic: 88.96 on 12 and 74 DF,  p-value: < 2.2e-16\n"
            ]
          },
          "metadata": {}
        }
      ]
    },
    {
      "cell_type": "markdown",
      "metadata": {
        "id": "xz-oDwi8Ga1V"
      },
      "source": [
        "**Step 2: Drop % African-American**\n",
        "\n",
        "PctYes∼PctRepublican+PerCapitaIncome+PctBachelorHigher+PctUnemployment+PctPoverty+PctAge0to17 +PctAge45to64+PctAge65andOlder+PctRaceWhite+PctRaceAmericanIndian+PctRaceOther\n",
        "\n"
      ]
    },
    {
      "cell_type": "code",
      "metadata": {
        "colab": {
          "base_uri": "https://localhost:8080/",
          "height": 573
        },
        "id": "EToWnqYYGa8V",
        "outputId": "7432d51a-6240-41ee-919a-baaf59d10c66"
      },
      "source": [
        "Model_Step2 <- lm(Pct_Yes ~ Pct_Republican \n",
        "                              + PerCapitaIncome + Pct_Bachelororhigher \n",
        "                              + Pct_Unemployment + Pct_Poverty \n",
        "                              + Pct_Age0to17 +                 Pct_Age45to64 + Pct_Age65andOlder\n",
        "                              + Pct_RaceWhite +                Pct_RaceAmericanIndian + Pct_RaceOther ,\n",
        "                              data=MN_Marriage_Amendment\n",
        "                   )\n",
        "summary(Model_Step2)"
      ],
      "execution_count": null,
      "outputs": [
        {
          "output_type": "display_data",
          "data": {
            "text/plain": [
              "\n",
              "Call:\n",
              "lm(formula = Pct_Yes ~ Pct_Republican + PerCapitaIncome + Pct_Bachelororhigher + \n",
              "    Pct_Unemployment + Pct_Poverty + Pct_Age0to17 + Pct_Age45to64 + \n",
              "    Pct_Age65andOlder + Pct_RaceWhite + Pct_RaceAmericanIndian + \n",
              "    Pct_RaceOther, data = MN_Marriage_Amendment)\n",
              "\n",
              "Residuals:\n",
              "   Min     1Q Median     3Q    Max \n",
              "-5.295 -1.486 -0.037  1.488  6.468 \n",
              "\n",
              "Coefficients:\n",
              "                         Estimate Std. Error t value Pr(>|t|)    \n",
              "(Intercept)            22.5680898 16.1738182   1.395 0.167029    \n",
              "Pct_Republican          0.5259431  0.0504598  10.423 3.08e-16 ***\n",
              "PerCapitaIncome        -0.0005810  0.0002084  -2.788 0.006716 ** \n",
              "Pct_Bachelororhigher   -0.3209729  0.0936514  -3.427 0.000993 ***\n",
              "Pct_Unemployment       -1.6439302  0.3107208  -5.291 1.17e-06 ***\n",
              "Pct_Poverty             0.1883952  0.1713304   1.100 0.275023    \n",
              "Pct_Age0to17            1.1654716  0.2116045   5.508 4.88e-07 ***\n",
              "Pct_Age45to64           0.1452292  0.1722347   0.843 0.401795    \n",
              "Pct_Age65andOlder       1.0381535  0.1247361   8.323 2.90e-12 ***\n",
              "Pct_RaceWhite          -0.1259446  0.1191515  -1.057 0.293899    \n",
              "Pct_RaceAmericanIndian -0.2229611  0.1383725  -1.611 0.111313    \n",
              "Pct_RaceOther           0.2008097  0.2374118   0.846 0.400339    \n",
              "---\n",
              "Signif. codes:  0 ‘***’ 0.001 ‘**’ 0.01 ‘*’ 0.05 ‘.’ 0.1 ‘ ’ 1\n",
              "\n",
              "Residual standard error: 2.391 on 75 degrees of freedom\n",
              "Multiple R-squared:  0.9352,\tAdjusted R-squared:  0.9256 \n",
              "F-statistic: 98.33 on 11 and 75 DF,  p-value: < 2.2e-16\n"
            ]
          },
          "metadata": {}
        }
      ]
    },
    {
      "cell_type": "markdown",
      "metadata": {
        "id": "VC81z7seGtW3"
      },
      "source": [
        "**Step 3: Drop % Age 45 to 64**\n",
        "\n",
        "PctYes∼PctRepublican+PerCapitaIncome+PctBachelorHigher+PctUnemployment+PctPoverty+PctAge0to17+PctAge65andOlder+PctRaceWhite+PctRaceAmericanIndian+PctRaceOther"
      ]
    },
    {
      "cell_type": "code",
      "metadata": {
        "colab": {
          "base_uri": "https://localhost:8080/",
          "height": 537
        },
        "id": "F93PG8LuG0jd",
        "outputId": "d59489ff-6dde-447c-eacb-e399ac37073a"
      },
      "source": [
        "Model_Step3 <- lm(Pct_Yes ~ Pct_Republican \n",
        "                              + PerCapitaIncome + Pct_Bachelororhigher \n",
        "                              + Pct_Unemployment + Pct_Poverty \n",
        "                              + Pct_Age0to17 +                                        Pct_Age65andOlder\n",
        "                              + Pct_RaceWhite +                Pct_RaceAmericanIndian + Pct_RaceOther ,\n",
        "                              data=MN_Marriage_Amendment\n",
        "                   )\n",
        "summary(Model_Step3)"
      ],
      "execution_count": null,
      "outputs": [
        {
          "output_type": "display_data",
          "data": {
            "text/plain": [
              "\n",
              "Call:\n",
              "lm(formula = Pct_Yes ~ Pct_Republican + PerCapitaIncome + Pct_Bachelororhigher + \n",
              "    Pct_Unemployment + Pct_Poverty + Pct_Age0to17 + Pct_Age65andOlder + \n",
              "    Pct_RaceWhite + Pct_RaceAmericanIndian + Pct_RaceOther, data = MN_Marriage_Amendment)\n",
              "\n",
              "Residuals:\n",
              "    Min      1Q  Median      3Q     Max \n",
              "-5.2775 -1.4429 -0.1676  1.5936  6.6581 \n",
              "\n",
              "Coefficients:\n",
              "                         Estimate Std. Error t value Pr(>|t|)    \n",
              "(Intercept)            25.2877871 15.8187804   1.599  0.11406    \n",
              "Pct_Republican          0.5276101  0.0503251  10.484  < 2e-16 ***\n",
              "PerCapitaIncome        -0.0005117  0.0001911  -2.677  0.00909 ** \n",
              "Pct_Bachelororhigher   -0.3429724  0.0897726  -3.820  0.00027 ***\n",
              "Pct_Unemployment       -1.5558395  0.2920745  -5.327 9.85e-07 ***\n",
              "Pct_Poverty             0.1655801  0.1688584   0.981  0.32991    \n",
              "Pct_Age0to17            1.1050744  0.1987337   5.561 3.83e-07 ***\n",
              "Pct_Age65andOlder       1.0723398  0.1177388   9.108 8.30e-14 ***\n",
              "Pct_RaceWhite          -0.1196511  0.1186912  -1.008  0.31661    \n",
              "Pct_RaceAmericanIndian -0.1989576  0.1351549  -1.472  0.14513    \n",
              "Pct_RaceOther           0.1944039  0.2368386   0.821  0.41431    \n",
              "---\n",
              "Signif. codes:  0 ‘***’ 0.001 ‘**’ 0.01 ‘*’ 0.05 ‘.’ 0.1 ‘ ’ 1\n",
              "\n",
              "Residual standard error: 2.386 on 76 degrees of freedom\n",
              "Multiple R-squared:  0.9345,\tAdjusted R-squared:  0.9259 \n",
              "F-statistic: 108.5 on 10 and 76 DF,  p-value: < 2.2e-16\n"
            ]
          },
          "metadata": {}
        }
      ]
    },
    {
      "cell_type": "markdown",
      "metadata": {
        "id": "83JWhbPDG9g3"
      },
      "source": [
        "**Step 4: Drop % Race Other**\n",
        "\n",
        "PctYes∼PctRepublican+PerCapitaIncome+PctBachelorHigher+PctUnemployment+PctPoverty+PctAge0to17+PctAge65andOlder+PctRaceWhite+PctRaceAmericanIndian"
      ]
    },
    {
      "cell_type": "code",
      "metadata": {
        "colab": {
          "base_uri": "https://localhost:8080/",
          "height": 520
        },
        "id": "HfCq6T1DHFjt",
        "outputId": "0572e2ac-25eb-48c8-f3ad-e2c8ff8141a4"
      },
      "source": [
        "Model_Step4 <- lm(Pct_Yes ~ Pct_Republican \n",
        "                              + PerCapitaIncome + Pct_Bachelororhigher \n",
        "                              + Pct_Unemployment + Pct_Poverty \n",
        "                              + Pct_Age0to17 +                                        Pct_Age65andOlder\n",
        "                              + Pct_RaceWhite +                Pct_RaceAmericanIndian                   ,\n",
        "                              data=MN_Marriage_Amendment\n",
        "                   )\n",
        "summary(Model_Step4)"
      ],
      "execution_count": null,
      "outputs": [
        {
          "output_type": "display_data",
          "data": {
            "text/plain": [
              "\n",
              "Call:\n",
              "lm(formula = Pct_Yes ~ Pct_Republican + PerCapitaIncome + Pct_Bachelororhigher + \n",
              "    Pct_Unemployment + Pct_Poverty + Pct_Age0to17 + Pct_Age65andOlder + \n",
              "    Pct_RaceWhite + Pct_RaceAmericanIndian, data = MN_Marriage_Amendment)\n",
              "\n",
              "Residuals:\n",
              "   Min     1Q Median     3Q    Max \n",
              "-5.216 -1.409 -0.181  1.440  6.680 \n",
              "\n",
              "Coefficients:\n",
              "                         Estimate Std. Error t value Pr(>|t|)    \n",
              "(Intercept)            33.3435952 12.3799198   2.693 0.008678 ** \n",
              "Pct_Republican          0.5290464  0.0501880  10.541  < 2e-16 ***\n",
              "PerCapitaIncome        -0.0005438  0.0001867  -2.913 0.004688 ** \n",
              "Pct_Bachelororhigher   -0.3552843  0.0883230  -4.023 0.000133 ***\n",
              "Pct_Unemployment       -1.5850935  0.2892772  -5.479 5.19e-07 ***\n",
              "Pct_Poverty             0.1394112  0.1654697   0.843 0.402108    \n",
              "Pct_Age0to17            1.1170924  0.1977734   5.648 2.60e-07 ***\n",
              "Pct_Age65andOlder       1.0876708  0.1160014   9.376 2.26e-14 ***\n",
              "Pct_RaceWhite          -0.1923185  0.0788902  -2.438 0.017083 *  \n",
              "Pct_RaceAmericanIndian -0.2820049  0.0894229  -3.154 0.002300 ** \n",
              "---\n",
              "Signif. codes:  0 ‘***’ 0.001 ‘**’ 0.01 ‘*’ 0.05 ‘.’ 0.1 ‘ ’ 1\n",
              "\n",
              "Residual standard error: 2.381 on 77 degrees of freedom\n",
              "Multiple R-squared:  0.934,\tAdjusted R-squared:  0.9262 \n",
              "F-statistic:   121 on 9 and 77 DF,  p-value: < 2.2e-16\n"
            ]
          },
          "metadata": {}
        }
      ]
    },
    {
      "cell_type": "markdown",
      "metadata": {
        "id": "_tgPYvzAHNj_"
      },
      "source": [
        "**Step 5: Drop % Poverty**\n",
        "\n",
        "PctYes∼PctRepublican+PerCapitaIncome+PctBachelorHigher+PctUnemployment+PctAge0to17+PctAge65andOlder+PctRaceWhite+PctRaceAmericanIndian"
      ]
    },
    {
      "cell_type": "code",
      "metadata": {
        "colab": {
          "base_uri": "https://localhost:8080/",
          "height": 502
        },
        "id": "IWN8YqOHHNrF",
        "outputId": "240cc18c-7fa9-4e10-c7de-6db68623ea85"
      },
      "source": [
        "Model_Step5 <- lm(Pct_Yes ~ Pct_Republican \n",
        "                              + PerCapitaIncome + Pct_Bachelororhigher \n",
        "                              + Pct_Unemployment \n",
        "                              + Pct_Age0to17 +                                        Pct_Age65andOlder\n",
        "                              + Pct_RaceWhite +                Pct_RaceAmericanIndian                   ,\n",
        "                              data=MN_Marriage_Amendment\n",
        "                   )\n",
        "summary(Model_Step5)"
      ],
      "execution_count": null,
      "outputs": [
        {
          "output_type": "display_data",
          "data": {
            "text/plain": [
              "\n",
              "Call:\n",
              "lm(formula = Pct_Yes ~ Pct_Republican + PerCapitaIncome + Pct_Bachelororhigher + \n",
              "    Pct_Unemployment + Pct_Age0to17 + Pct_Age65andOlder + Pct_RaceWhite + \n",
              "    Pct_RaceAmericanIndian, data = MN_Marriage_Amendment)\n",
              "\n",
              "Residuals:\n",
              "    Min      1Q  Median      3Q     Max \n",
              "-5.3328 -1.3241 -0.2356  1.5393  6.6262 \n",
              "\n",
              "Coefficients:\n",
              "                         Estimate Std. Error t value Pr(>|t|)    \n",
              "(Intercept)            40.6209048  8.8522362   4.589 1.68e-05 ***\n",
              "Pct_Republican          0.5315823  0.0500044  10.631  < 2e-16 ***\n",
              "PerCapitaIncome        -0.0006374  0.0001498  -4.255 5.77e-05 ***\n",
              "Pct_Bachelororhigher   -0.3369253  0.0854334  -3.944 0.000174 ***\n",
              "Pct_Unemployment       -1.5011963  0.2710919  -5.538 3.99e-07 ***\n",
              "Pct_Age0to17            1.0551382  0.1832527   5.758 1.61e-07 ***\n",
              "Pct_Age65andOlder       1.0919821  0.1156727   9.440 1.51e-14 ***\n",
              "Pct_RaceWhite          -0.2231627  0.0697513  -3.199 0.001992 ** \n",
              "Pct_RaceAmericanIndian -0.2816203  0.0892553  -3.155 0.002279 ** \n",
              "---\n",
              "Signif. codes:  0 ‘***’ 0.001 ‘**’ 0.01 ‘*’ 0.05 ‘.’ 0.1 ‘ ’ 1\n",
              "\n",
              "Residual standard error: 2.377 on 78 degrees of freedom\n",
              "Multiple R-squared:  0.9334,\tAdjusted R-squared:  0.9265 \n",
              "F-statistic: 136.5 on 8 and 78 DF,  p-value: < 2.2e-16\n"
            ]
          },
          "metadata": {}
        }
      ]
    },
    {
      "cell_type": "markdown",
      "metadata": {
        "id": "08oeavvEJWhZ"
      },
      "source": [
        "### Making a variable importance plot"
      ]
    },
    {
      "cell_type": "code",
      "metadata": {
        "colab": {
          "base_uri": "https://localhost:8080/",
          "height": 34
        },
        "id": "FthY5dMwJWp-",
        "outputId": "ba7cfbe9-b12f-4405-9918-fcb0f2fa7f95"
      },
      "source": [
        "#Getting the cutoff for significant predictors (using t-distribution with df=78)\n",
        "qt(0.05/2, df=78, lower.tail = FALSE)"
      ],
      "execution_count": null,
      "outputs": [
        {
          "output_type": "display_data",
          "data": {
            "text/plain": [
              "[1] 1.9908"
            ],
            "text/latex": "1.9908",
            "text/markdown": "1.9908",
            "text/html": [
              "1.9908"
            ]
          },
          "metadata": {}
        }
      ]
    },
    {
      "cell_type": "code",
      "metadata": {
        "colab": {
          "base_uri": "https://localhost:8080/",
          "height": 437
        },
        "id": "ddeFeiVWJn2Z",
        "outputId": "141938f7-584c-4d44-e6e9-df1a6a6f6945"
      },
      "source": [
        "#Getting the absolute t values from the model object\n",
        "tvalue_df <- data.frame(tvalues = abs(summary(Model_Step5)$coefficients[,3]))\n",
        "\n",
        "#Add a column for the predictor names\n",
        "tvalue_df$Predictor <- rownames(tvalue_df)\n",
        "\n",
        "#Creating the variable importance plot\n",
        "ggplot(tvalue_df, aes(x=reorder(Predictor,-tvalues), y=tvalues))+\n",
        " geom_bar(stat=\"identity\") +\n",
        " theme(axis.text.x=element_text(angle=90)) +\n",
        " labs(title=\"Variable Importance Plot - Model Step 5\",\n",
        "        x =\"Predictor Variable\", y = \"| t value |\") + \n",
        " geom_hline(yintercept=1.9908)  #Bars above this line are statistically significant"
      ],
      "execution_count": null,
      "outputs": [
        {
          "output_type": "display_data",
          "data": {
            "image/png": "[encoded data removed]",
            "text/plain": [
              "plot without title"
            ]
          },
          "metadata": {
            "image/png": {
              "width": 420,
              "height": 420
            }
          }
        }
      ]
    },
    {
      "cell_type": "markdown",
      "metadata": {
        "id": "EYGdN_v1SYKU"
      },
      "source": [
        "\n",
        "\n",
        "---\n",
        "\n",
        "\n",
        "\n",
        "---\n",
        "\n"
      ]
    },
    {
      "cell_type": "markdown",
      "metadata": {
        "id": "0Jtx7RNjLZ_h"
      },
      "source": [
        "Getting the Sums of Squared Residuals for Initial Model"
      ]
    },
    {
      "cell_type": "code",
      "metadata": {
        "colab": {
          "base_uri": "https://localhost:8080/",
          "height": 537
        },
        "id": "dQE_4Me7LaHu",
        "outputId": "3d82bf1a-3a1d-4526-cd2f-74fa43cfba55"
      },
      "source": [
        "anova(Model_Step0)"
      ],
      "execution_count": null,
      "outputs": [
        {
          "output_type": "display_data",
          "data": {
            "text/plain": [
              "                        Df Sum Sq      Mean Sq     F value     Pr(>F)      \n",
              "Pct_Republican           1 2780.505076 2780.505076 473.6683278 1.211685e-33\n",
              "PerCapitaIncome          1 1773.589820 1773.589820 302.1369503 1.168829e-27\n",
              "Pct_Bachelororhigher     1  821.067112  821.067112 139.8715252 1.235964e-18\n",
              "Pct_Unemployment         1  230.315632  230.315632  39.2350372 2.335733e-08\n",
              "Pct_Poverty              1   43.037161   43.037161   7.3315241 8.433667e-03\n",
              "Pct_Age0to17             1    8.093459    8.093459   1.3787478 2.441310e-01\n",
              "Pct_Age18to24            1  295.496651  295.496651  50.3388416 6.942141e-10\n",
              "Pct_Age45to64            1   54.723453   54.723453   9.3223231 3.157640e-03\n",
              "Pct_Age65andOlder        1  115.913679  115.913679  19.7462823 3.092843e-05\n",
              "Pct_RaceWhite            1    2.142963    2.142963   0.3650609 5.475821e-01\n",
              "Pct_RaceAfricanAmerican  1   21.917220   21.917220   3.7336716 5.720654e-02\n",
              "Pct_RaceAmericanIndian   1   32.486941   32.486941   5.5342590 2.134597e-02\n",
              "Pct_RaceOther            1    2.719134    2.719134   0.4632136 4.982790e-01\n",
              "Residuals               73  428.521095    5.870152          NA           NA"
            ],
            "text/latex": "A anova: 14 × 5\n\\begin{tabular}{r|lllll}\n  & Df & Sum Sq & Mean Sq & F value & Pr(>F)\\\\\n  & <int> & <dbl> & <dbl> & <dbl> & <dbl>\\\\\n\\hline\n\tPct\\_Republican &  1 & 2780.505076 & 2780.505076 & 473.6683278 & 1.211685e-33\\\\\n\tPerCapitaIncome &  1 & 1773.589820 & 1773.589820 & 302.1369503 & 1.168829e-27\\\\\n\tPct\\_Bachelororhigher &  1 &  821.067112 &  821.067112 & 139.8715252 & 1.235964e-18\\\\\n\tPct\\_Unemployment &  1 &  230.315632 &  230.315632 &  39.2350372 & 2.335733e-08\\\\\n\tPct\\_Poverty &  1 &   43.037161 &   43.037161 &   7.3315241 & 8.433667e-03\\\\\n\tPct\\_Age0to17 &  1 &    8.093459 &    8.093459 &   1.3787478 & 2.441310e-01\\\\\n\tPct\\_Age18to24 &  1 &  295.496651 &  295.496651 &  50.3388416 & 6.942141e-10\\\\\n\tPct\\_Age45to64 &  1 &   54.723453 &   54.723453 &   9.3223231 & 3.157640e-03\\\\\n\tPct\\_Age65andOlder &  1 &  115.913679 &  115.913679 &  19.7462823 & 3.092843e-05\\\\\n\tPct\\_RaceWhite &  1 &    2.142963 &    2.142963 &   0.3650609 & 5.475821e-01\\\\\n\tPct\\_RaceAfricanAmerican &  1 &   21.917220 &   21.917220 &   3.7336716 & 5.720654e-02\\\\\n\tPct\\_RaceAmericanIndian &  1 &   32.486941 &   32.486941 &   5.5342590 & 2.134597e-02\\\\\n\tPct\\_RaceOther &  1 &    2.719134 &    2.719134 &   0.4632136 & 4.982790e-01\\\\\n\tResiduals & 73 &  428.521095 &    5.870152 &          NA &           NA\\\\\n\\end{tabular}\n",
            "text/markdown": "\nA anova: 14 × 5\n\n| <!--/--> | Df &lt;int&gt; | Sum Sq &lt;dbl&gt; | Mean Sq &lt;dbl&gt; | F value &lt;dbl&gt; | Pr(&gt;F) &lt;dbl&gt; |\n|---|---|---|---|---|---|\n| Pct_Republican |  1 | 2780.505076 | 2780.505076 | 473.6683278 | 1.211685e-33 |\n| PerCapitaIncome |  1 | 1773.589820 | 1773.589820 | 302.1369503 | 1.168829e-27 |\n| Pct_Bachelororhigher |  1 |  821.067112 |  821.067112 | 139.8715252 | 1.235964e-18 |\n| Pct_Unemployment |  1 |  230.315632 |  230.315632 |  39.2350372 | 2.335733e-08 |\n| Pct_Poverty |  1 |   43.037161 |   43.037161 |   7.3315241 | 8.433667e-03 |\n| Pct_Age0to17 |  1 |    8.093459 |    8.093459 |   1.3787478 | 2.441310e-01 |\n| Pct_Age18to24 |  1 |  295.496651 |  295.496651 |  50.3388416 | 6.942141e-10 |\n| Pct_Age45to64 |  1 |   54.723453 |   54.723453 |   9.3223231 | 3.157640e-03 |\n| Pct_Age65andOlder |  1 |  115.913679 |  115.913679 |  19.7462823 | 3.092843e-05 |\n| Pct_RaceWhite |  1 |    2.142963 |    2.142963 |   0.3650609 | 5.475821e-01 |\n| Pct_RaceAfricanAmerican |  1 |   21.917220 |   21.917220 |   3.7336716 | 5.720654e-02 |\n| Pct_RaceAmericanIndian |  1 |   32.486941 |   32.486941 |   5.5342590 | 2.134597e-02 |\n| Pct_RaceOther |  1 |    2.719134 |    2.719134 |   0.4632136 | 4.982790e-01 |\n| Residuals | 73 |  428.521095 |    5.870152 |          NA |           NA |\n\n",
            "text/html": [
              "<table class=\"dataframe\">\n",
              "<caption>A anova: 14 × 5</caption>\n",
              "<thead>\n",
              "\t<tr><th></th><th scope=col>Df</th><th scope=col>Sum Sq</th><th scope=col>Mean Sq</th><th scope=col>F value</th><th scope=col>Pr(&gt;F)</th></tr>\n",
              "\t<tr><th></th><th scope=col>&lt;int&gt;</th><th scope=col>&lt;dbl&gt;</th><th scope=col>&lt;dbl&gt;</th><th scope=col>&lt;dbl&gt;</th><th scope=col>&lt;dbl&gt;</th></tr>\n",
              "</thead>\n",
              "<tbody>\n",
              "\t<tr><th scope=row>Pct_Republican</th><td> 1</td><td>2780.505076</td><td>2780.505076</td><td>473.6683278</td><td>1.211685e-33</td></tr>\n",
              "\t<tr><th scope=row>PerCapitaIncome</th><td> 1</td><td>1773.589820</td><td>1773.589820</td><td>302.1369503</td><td>1.168829e-27</td></tr>\n",
              "\t<tr><th scope=row>Pct_Bachelororhigher</th><td> 1</td><td> 821.067112</td><td> 821.067112</td><td>139.8715252</td><td>1.235964e-18</td></tr>\n",
              "\t<tr><th scope=row>Pct_Unemployment</th><td> 1</td><td> 230.315632</td><td> 230.315632</td><td> 39.2350372</td><td>2.335733e-08</td></tr>\n",
              "\t<tr><th scope=row>Pct_Poverty</th><td> 1</td><td>  43.037161</td><td>  43.037161</td><td>  7.3315241</td><td>8.433667e-03</td></tr>\n",
              "\t<tr><th scope=row>Pct_Age0to17</th><td> 1</td><td>   8.093459</td><td>   8.093459</td><td>  1.3787478</td><td>2.441310e-01</td></tr>\n",
              "\t<tr><th scope=row>Pct_Age18to24</th><td> 1</td><td> 295.496651</td><td> 295.496651</td><td> 50.3388416</td><td>6.942141e-10</td></tr>\n",
              "\t<tr><th scope=row>Pct_Age45to64</th><td> 1</td><td>  54.723453</td><td>  54.723453</td><td>  9.3223231</td><td>3.157640e-03</td></tr>\n",
              "\t<tr><th scope=row>Pct_Age65andOlder</th><td> 1</td><td> 115.913679</td><td> 115.913679</td><td> 19.7462823</td><td>3.092843e-05</td></tr>\n",
              "\t<tr><th scope=row>Pct_RaceWhite</th><td> 1</td><td>   2.142963</td><td>   2.142963</td><td>  0.3650609</td><td>5.475821e-01</td></tr>\n",
              "\t<tr><th scope=row>Pct_RaceAfricanAmerican</th><td> 1</td><td>  21.917220</td><td>  21.917220</td><td>  3.7336716</td><td>5.720654e-02</td></tr>\n",
              "\t<tr><th scope=row>Pct_RaceAmericanIndian</th><td> 1</td><td>  32.486941</td><td>  32.486941</td><td>  5.5342590</td><td>2.134597e-02</td></tr>\n",
              "\t<tr><th scope=row>Pct_RaceOther</th><td> 1</td><td>   2.719134</td><td>   2.719134</td><td>  0.4632136</td><td>4.982790e-01</td></tr>\n",
              "\t<tr><th scope=row>Residuals</th><td>73</td><td> 428.521095</td><td>   5.870152</td><td>         NA</td><td>          NA</td></tr>\n",
              "</tbody>\n",
              "</table>\n"
            ]
          },
          "metadata": {}
        }
      ]
    },
    {
      "cell_type": "markdown",
      "metadata": {
        "id": "wGMnWNlQMDt_"
      },
      "source": [
        "Getting the Sums of Squared Residuals for model with only significant predictors"
      ]
    },
    {
      "cell_type": "code",
      "metadata": {
        "colab": {
          "base_uri": "https://localhost:8080/",
          "height": 380
        },
        "id": "abf0wlOSMDzU",
        "outputId": "6339a379-df4f-43ae-a021-5dba304b8762"
      },
      "source": [
        "anova(Model_Step5)"
      ],
      "execution_count": null,
      "outputs": [
        {
          "output_type": "display_data",
          "data": {
            "text/plain": [
              "                       Df Sum Sq      Mean Sq     F value     Pr(>F)      \n",
              "Pct_Republican          1 2780.505076 2780.505076 492.2583768 1.951993e-35\n",
              "PerCapitaIncome         1 1773.589820 1773.589820 313.9949116 4.519537e-29\n",
              "Pct_Bachelororhigher    1  821.067112  821.067112 145.3610594 1.680011e-19\n",
              "Pct_Unemployment        1  230.315632  230.315632  40.7748937 1.133064e-08\n",
              "Pct_Age0to17            1    2.110829    2.110829   0.3736995 5.427721e-01\n",
              "Pct_Age65andOlder       1  495.122962  495.122962  87.6561700 2.140914e-14\n",
              "Pct_RaceWhite           1   11.004624   11.004624   1.9482497 1.667362e-01\n",
              "Pct_RaceAmericanIndian  1   56.232934   56.232934   9.9554333 2.278810e-03\n",
              "Residuals              78  440.580407    5.648467          NA           NA"
            ],
            "text/latex": "A anova: 9 × 5\n\\begin{tabular}{r|lllll}\n  & Df & Sum Sq & Mean Sq & F value & Pr(>F)\\\\\n  & <int> & <dbl> & <dbl> & <dbl> & <dbl>\\\\\n\\hline\n\tPct\\_Republican &  1 & 2780.505076 & 2780.505076 & 492.2583768 & 1.951993e-35\\\\\n\tPerCapitaIncome &  1 & 1773.589820 & 1773.589820 & 313.9949116 & 4.519537e-29\\\\\n\tPct\\_Bachelororhigher &  1 &  821.067112 &  821.067112 & 145.3610594 & 1.680011e-19\\\\\n\tPct\\_Unemployment &  1 &  230.315632 &  230.315632 &  40.7748937 & 1.133064e-08\\\\\n\tPct\\_Age0to17 &  1 &    2.110829 &    2.110829 &   0.3736995 & 5.427721e-01\\\\\n\tPct\\_Age65andOlder &  1 &  495.122962 &  495.122962 &  87.6561700 & 2.140914e-14\\\\\n\tPct\\_RaceWhite &  1 &   11.004624 &   11.004624 &   1.9482497 & 1.667362e-01\\\\\n\tPct\\_RaceAmericanIndian &  1 &   56.232934 &   56.232934 &   9.9554333 & 2.278810e-03\\\\\n\tResiduals & 78 &  440.580407 &    5.648467 &          NA &           NA\\\\\n\\end{tabular}\n",
            "text/markdown": "\nA anova: 9 × 5\n\n| <!--/--> | Df &lt;int&gt; | Sum Sq &lt;dbl&gt; | Mean Sq &lt;dbl&gt; | F value &lt;dbl&gt; | Pr(&gt;F) &lt;dbl&gt; |\n|---|---|---|---|---|---|\n| Pct_Republican |  1 | 2780.505076 | 2780.505076 | 492.2583768 | 1.951993e-35 |\n| PerCapitaIncome |  1 | 1773.589820 | 1773.589820 | 313.9949116 | 4.519537e-29 |\n| Pct_Bachelororhigher |  1 |  821.067112 |  821.067112 | 145.3610594 | 1.680011e-19 |\n| Pct_Unemployment |  1 |  230.315632 |  230.315632 |  40.7748937 | 1.133064e-08 |\n| Pct_Age0to17 |  1 |    2.110829 |    2.110829 |   0.3736995 | 5.427721e-01 |\n| Pct_Age65andOlder |  1 |  495.122962 |  495.122962 |  87.6561700 | 2.140914e-14 |\n| Pct_RaceWhite |  1 |   11.004624 |   11.004624 |   1.9482497 | 1.667362e-01 |\n| Pct_RaceAmericanIndian |  1 |   56.232934 |   56.232934 |   9.9554333 | 2.278810e-03 |\n| Residuals | 78 |  440.580407 |    5.648467 |          NA |           NA |\n\n",
            "text/html": [
              "<table class=\"dataframe\">\n",
              "<caption>A anova: 9 × 5</caption>\n",
              "<thead>\n",
              "\t<tr><th></th><th scope=col>Df</th><th scope=col>Sum Sq</th><th scope=col>Mean Sq</th><th scope=col>F value</th><th scope=col>Pr(&gt;F)</th></tr>\n",
              "\t<tr><th></th><th scope=col>&lt;int&gt;</th><th scope=col>&lt;dbl&gt;</th><th scope=col>&lt;dbl&gt;</th><th scope=col>&lt;dbl&gt;</th><th scope=col>&lt;dbl&gt;</th></tr>\n",
              "</thead>\n",
              "<tbody>\n",
              "\t<tr><th scope=row>Pct_Republican</th><td> 1</td><td>2780.505076</td><td>2780.505076</td><td>492.2583768</td><td>1.951993e-35</td></tr>\n",
              "\t<tr><th scope=row>PerCapitaIncome</th><td> 1</td><td>1773.589820</td><td>1773.589820</td><td>313.9949116</td><td>4.519537e-29</td></tr>\n",
              "\t<tr><th scope=row>Pct_Bachelororhigher</th><td> 1</td><td> 821.067112</td><td> 821.067112</td><td>145.3610594</td><td>1.680011e-19</td></tr>\n",
              "\t<tr><th scope=row>Pct_Unemployment</th><td> 1</td><td> 230.315632</td><td> 230.315632</td><td> 40.7748937</td><td>1.133064e-08</td></tr>\n",
              "\t<tr><th scope=row>Pct_Age0to17</th><td> 1</td><td>   2.110829</td><td>   2.110829</td><td>  0.3736995</td><td>5.427721e-01</td></tr>\n",
              "\t<tr><th scope=row>Pct_Age65andOlder</th><td> 1</td><td> 495.122962</td><td> 495.122962</td><td> 87.6561700</td><td>2.140914e-14</td></tr>\n",
              "\t<tr><th scope=row>Pct_RaceWhite</th><td> 1</td><td>  11.004624</td><td>  11.004624</td><td>  1.9482497</td><td>1.667362e-01</td></tr>\n",
              "\t<tr><th scope=row>Pct_RaceAmericanIndian</th><td> 1</td><td>  56.232934</td><td>  56.232934</td><td>  9.9554333</td><td>2.278810e-03</td></tr>\n",
              "\t<tr><th scope=row>Residuals</th><td>78</td><td> 440.580407</td><td>   5.648467</td><td>         NA</td><td>          NA</td></tr>\n",
              "</tbody>\n",
              "</table>\n"
            ]
          },
          "metadata": {}
        }
      ]
    },
    {
      "cell_type": "markdown",
      "metadata": {
        "id": "9kkg1lL30Rfw"
      },
      "source": [
        "End of Document"
      ]
    }
  ]
}