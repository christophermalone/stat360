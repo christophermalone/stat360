{
  "nbformat": 4,
  "nbformat_minor": 0,
  "metadata": {
    "colab": {
      "name": "Handout11_CrossValidation.ipynb",
      "provenance": [],
      "collapsed_sections": [
        "bCmC17zpsBJ_",
        "njXGRUIC9Lgs",
        "E3vxafBNzbXF"
      ],
      "authorship_tag": "ABX9TyM0eRJpK94Mvk72OyM2nTLA",
      "include_colab_link": true
    },
    "kernelspec": {
      "display_name": "R",
      "name": "ir"
    }
  },
  "cells": [
    {
      "cell_type": "markdown",
      "metadata": {
        "id": "view-in-github",
        "colab_type": "text"
      },
      "source": [
        "<a href=\"https://colab.research.google.com/github/christophermalone/stat360/blob/main/Handout11_CrossValidation.ipynb\" target=\"_parent\"><img src=\"https://colab.research.google.com/assets/colab-badge.svg\" alt=\"Open In Colab\"/></a>"
      ]
    },
    {
      "cell_type": "markdown",
      "metadata": {
        "id": "KhClO9b02SXA"
      },
      "source": [
        "# Handout #11 : Cross-Validation "
      ]
    },
    {
      "cell_type": "markdown",
      "metadata": {
        "id": "bCmC17zpsBJ_"
      },
      "source": [
        "<table width='100%' ><tr><td bgcolor='green'></td></tr></table>\n",
        "\n",
        "## Texas School Districts - Teacher Turnover\n",
        "\n",
        "Consider the following data from school districts in Texas.  This investigation centers on understanding what influences the turnover rate of teachers.  There are a total of four predictor variables under consideration here.  \n",
        "<table>\n",
        "  <tr>\n",
        "    <td width='50%'>\n",
        "      <ul>\n",
        "        <li>Response Variable: TeacherTurnoverRate; percent of teachers that leave each year</li><br>\n",
        "        <li>Variables under investigation (i.e. independent variables)</li>\n",
        "        <ul>\n",
        "          <li>Pct_EconomicDisadvanted - percent of students in high school that are economically disadvantaged</li>\n",
        "          <li>FourYearGradRate - percent of students who graduate in 4 years</li>\n",
        "          <li>Avg_TeacherSalary - average teacher salary in school</li>\n",
        "          <li>Pct_RevenueLocal - percent of revenue that comes from local community \n",
        "         </ul>\n",
        "    </ul>\n",
        "    </td>\n",
        "    <td width='50%'>\n",
        "    <p align='center'><img src=\"https://drive.google.com/uc?export=view&id=1RKq_ZUpUg75MIPK5bljWb7o-BsNeW_8V\" width=\"50%\" height=\"50%\"></img></p>\n",
        "      \n",
        "  </td>\n",
        "</tr>\n",
        "</table>\n",
        "\n",
        "Data Folder: [OneDrive](https://mnscu-my.sharepoint.com/:f:/g/personal/aq7839yd_minnstate_edu/EmOQfrwxzzRBqq8PH_8qTmMBy-1qKgM11Hb8vzjs025EEA?e=wyShYs)\n",
        "\n",
        "\n",
        "\n",
        "<table width='100%' ><tr><td bgcolor='green'></td></tr></table>\n",
        "\n",
        "\n"
      ]
    },
    {
      "cell_type": "markdown",
      "metadata": {
        "id": "njXGRUIC9Lgs"
      },
      "source": [
        "## Load tidyverse"
      ]
    },
    {
      "cell_type": "markdown",
      "metadata": {
        "id": "FoT1NFX3DncH"
      },
      "source": [
        "The tidyverse R package will be used to assist with reading in the dataset into the current R session."
      ]
    },
    {
      "cell_type": "code",
      "metadata": {
        "id": "LgaibuX_DtWK"
      },
      "source": [
        "#@title Load Tidyverse\n",
        "#load tidyverse package\n",
        "library(tidyverse)"
      ],
      "execution_count": 7,
      "outputs": []
    },
    {
      "cell_type": "markdown",
      "metadata": {
        "id": "u7fj-9Y5Wr8r"
      },
      "source": [
        "\n",
        "\n",
        "---\n",
        "\n",
        "\n"
      ]
    },
    {
      "cell_type": "markdown",
      "metadata": {
        "id": "DPqIPen9D5T3"
      },
      "source": [
        "## Load the data"
      ]
    },
    {
      "cell_type": "code",
      "metadata": {
        "colab": {
          "base_uri": "https://localhost:8080/"
        },
        "id": "hM3AnlVCu2vx",
        "outputId": "33656956-9d49-4807-ede2-f63624b1232c"
      },
      "source": [
        "# Reading data in using read_csv \n",
        "TeacherTurnover <- read_csv(\"http://www.StatsClass.org/stat360/Datasets/TexasSchoolDistricts_TeacherTurnover.csv\")"
      ],
      "execution_count": 289,
      "outputs": [
        {
          "output_type": "stream",
          "name": "stderr",
          "text": [
            "\u001b[1mRows: \u001b[22m\u001b[34m1228\u001b[39m \u001b[1mColumns: \u001b[22m\u001b[34m6\u001b[39m\n",
            "\n",
            "\u001b[36m──\u001b[39m \u001b[1mColumn specification\u001b[22m \u001b[36m────────────────────────────────────────────────────────\u001b[39m\n",
            "\u001b[1mDelimiter:\u001b[22m \",\"\n",
            "\u001b[31mchr\u001b[39m (1): DistrictName\n",
            "\u001b[32mdbl\u001b[39m (5): Pct_EconomicDisadvantaged, FourYearGradRate, Avg_TeacherSalary, Pct...\n",
            "\n",
            "\n",
            "\u001b[36mℹ\u001b[39m Use \u001b[30m\u001b[47m\u001b[30m\u001b[47m`spec()`\u001b[47m\u001b[30m\u001b[49m\u001b[39m to retrieve the full column specification for this data.\n",
            "\u001b[36mℹ\u001b[39m Specify the column types or set \u001b[30m\u001b[47m\u001b[30m\u001b[47m`show_col_types = FALSE`\u001b[47m\u001b[30m\u001b[49m\u001b[39m to quiet this message.\n",
            "\n"
          ]
        }
      ]
    },
    {
      "cell_type": "markdown",
      "metadata": {
        "id": "y1E6q0ccvNgh"
      },
      "source": [
        "Taking a quick look at the data..."
      ]
    },
    {
      "cell_type": "code",
      "metadata": {
        "colab": {
          "base_uri": "https://localhost:8080/",
          "height": 286
        },
        "id": "sXtmoYGmvN4e",
        "outputId": "ff6e5373-2245-4b05-bda6-bd65083ffd50"
      },
      "source": [
        "head(TeacherTurnover)"
      ],
      "execution_count": 291,
      "outputs": [
        {
          "output_type": "display_data",
          "data": {
            "text/plain": [
              "  DistrictName  Pct_EconomicDisadvantaged FourYearGradRate Avg_TeacherSalary\n",
              "1 CAYUGA ISD    38.2                       92.1            45082            \n",
              "2 ELKHART ISD   51.5                       98.6            40536            \n",
              "3 FRANKSTON ISD 59.0                      100.0            42427            \n",
              "4 NECHES ISD    41.9                      100.0            41691            \n",
              "5 PALESTINE ISD 76.1                       89.7            42455            \n",
              "6 WESTWOOD ISD  61.9                       94.2            40148            \n",
              "  Pct_RevenueLocal TeacherTurnoverRate\n",
              "1 44.1              9.8               \n",
              "2 33.8             19.7               \n",
              "3 44.4             30.9               \n",
              "4 38.8             12.1               \n",
              "5 48.9             25.3               \n",
              "6 39.1             24.9               "
            ],
            "text/latex": "A tibble: 6 × 6\n\\begin{tabular}{llllll}\n DistrictName & Pct\\_EconomicDisadvantaged & FourYearGradRate & Avg\\_TeacherSalary & Pct\\_RevenueLocal & TeacherTurnoverRate\\\\\n <chr> & <dbl> & <dbl> & <dbl> & <dbl> & <dbl>\\\\\n\\hline\n\t CAYUGA ISD    & 38.2 &  92.1 & 45082 & 44.1 &  9.8\\\\\n\t ELKHART ISD   & 51.5 &  98.6 & 40536 & 33.8 & 19.7\\\\\n\t FRANKSTON ISD & 59.0 & 100.0 & 42427 & 44.4 & 30.9\\\\\n\t NECHES ISD    & 41.9 & 100.0 & 41691 & 38.8 & 12.1\\\\\n\t PALESTINE ISD & 76.1 &  89.7 & 42455 & 48.9 & 25.3\\\\\n\t WESTWOOD ISD  & 61.9 &  94.2 & 40148 & 39.1 & 24.9\\\\\n\\end{tabular}\n",
            "text/markdown": "\nA tibble: 6 × 6\n\n| DistrictName &lt;chr&gt; | Pct_EconomicDisadvantaged &lt;dbl&gt; | FourYearGradRate &lt;dbl&gt; | Avg_TeacherSalary &lt;dbl&gt; | Pct_RevenueLocal &lt;dbl&gt; | TeacherTurnoverRate &lt;dbl&gt; |\n|---|---|---|---|---|---|\n| CAYUGA ISD    | 38.2 |  92.1 | 45082 | 44.1 |  9.8 |\n| ELKHART ISD   | 51.5 |  98.6 | 40536 | 33.8 | 19.7 |\n| FRANKSTON ISD | 59.0 | 100.0 | 42427 | 44.4 | 30.9 |\n| NECHES ISD    | 41.9 | 100.0 | 41691 | 38.8 | 12.1 |\n| PALESTINE ISD | 76.1 |  89.7 | 42455 | 48.9 | 25.3 |\n| WESTWOOD ISD  | 61.9 |  94.2 | 40148 | 39.1 | 24.9 |\n\n",
            "text/html": [
              "<table class=\"dataframe\">\n",
              "<caption>A tibble: 6 × 6</caption>\n",
              "<thead>\n",
              "\t<tr><th scope=col>DistrictName</th><th scope=col>Pct_EconomicDisadvantaged</th><th scope=col>FourYearGradRate</th><th scope=col>Avg_TeacherSalary</th><th scope=col>Pct_RevenueLocal</th><th scope=col>TeacherTurnoverRate</th></tr>\n",
              "\t<tr><th scope=col>&lt;chr&gt;</th><th scope=col>&lt;dbl&gt;</th><th scope=col>&lt;dbl&gt;</th><th scope=col>&lt;dbl&gt;</th><th scope=col>&lt;dbl&gt;</th><th scope=col>&lt;dbl&gt;</th></tr>\n",
              "</thead>\n",
              "<tbody>\n",
              "\t<tr><td>CAYUGA ISD   </td><td>38.2</td><td> 92.1</td><td>45082</td><td>44.1</td><td> 9.8</td></tr>\n",
              "\t<tr><td>ELKHART ISD  </td><td>51.5</td><td> 98.6</td><td>40536</td><td>33.8</td><td>19.7</td></tr>\n",
              "\t<tr><td>FRANKSTON ISD</td><td>59.0</td><td>100.0</td><td>42427</td><td>44.4</td><td>30.9</td></tr>\n",
              "\t<tr><td>NECHES ISD   </td><td>41.9</td><td>100.0</td><td>41691</td><td>38.8</td><td>12.1</td></tr>\n",
              "\t<tr><td>PALESTINE ISD</td><td>76.1</td><td> 89.7</td><td>42455</td><td>48.9</td><td>25.3</td></tr>\n",
              "\t<tr><td>WESTWOOD ISD </td><td>61.9</td><td> 94.2</td><td>40148</td><td>39.1</td><td>24.9</td></tr>\n",
              "</tbody>\n",
              "</table>\n"
            ]
          },
          "metadata": {}
        }
      ]
    },
    {
      "cell_type": "markdown",
      "metadata": {
        "id": "uf9DyZtZUd9H"
      },
      "source": [
        "There are a small number of districts that have missing information.  The drop_na() function can be used to remove all NAs from the data.frame."
      ]
    },
    {
      "cell_type": "code",
      "metadata": {
        "id": "8HENxiBrUeEJ"
      },
      "source": [
        "TeacherTurnover <- (TeacherTurnover\n",
        "                    %>% drop_na()\n",
        "                   )"
      ],
      "execution_count": 293,
      "outputs": []
    },
    {
      "cell_type": "markdown",
      "metadata": {
        "id": "ZKr7iJf5ToL7"
      },
      "source": [
        "## Model Considerations"
      ]
    },
    {
      "cell_type": "markdown",
      "metadata": {
        "id": "ejOqzMksvxpx"
      },
      "source": [
        "A total of four models will be considered here.\n",
        "\n",
        "\n",
        "1.   Model #1: TeacherTurnoverRate ~ Pct_EconomicDisadvantaged\n",
        "2.   Model #2: TeacherTurnoverRate ~ FourYearGradRate\n",
        "3.   Model #3: TeacherTurnoverRate ~ Avg_TeacherSalary\n",
        "4.   Model #4: TeacherTurnoverRate ~ Pct_RevenueLocal\n",
        "\n"
      ]
    },
    {
      "cell_type": "markdown",
      "metadata": {
        "id": "W4U6ypcpwRqP"
      },
      "source": [
        "### Model #1: TeacherTurnoverRate ~ Pct_EconomicDisadvantaged"
      ]
    },
    {
      "cell_type": "code",
      "metadata": {
        "colab": {
          "base_uri": "https://localhost:8080/",
          "height": 347
        },
        "id": "S8loZdOAwU0H",
        "outputId": "37d1c917-b3b7-4a33-ec30-a6a4024b8264"
      },
      "source": [
        "Model1 <- lm(TeacherTurnoverRate ~ Pct_EconomicDisadvantaged, data=TeacherTurnover)\n",
        "summary(Model1)"
      ],
      "execution_count": 354,
      "outputs": [
        {
          "output_type": "display_data",
          "data": {
            "text/plain": [
              "\n",
              "Call:\n",
              "lm(formula = TeacherTurnoverRate ~ Pct_EconomicDisadvantaged, \n",
              "    data = TeacherTurnover)\n",
              "\n",
              "Residuals:\n",
              "    Min      1Q  Median      3Q     Max \n",
              "-23.309  -6.386  -1.715   4.525  73.752 \n",
              "\n",
              "Coefficients:\n",
              "                          Estimate Std. Error t value Pr(>|t|)    \n",
              "(Intercept)                8.74365    1.05311   8.303  3.1e-16 ***\n",
              "Pct_EconomicDisadvantaged  0.18843    0.01694  11.122  < 2e-16 ***\n",
              "---\n",
              "Signif. codes:  0 ‘***’ 0.001 ‘**’ 0.01 ‘*’ 0.05 ‘.’ 0.1 ‘ ’ 1\n",
              "\n",
              "Residual standard error: 10.53 on 1051 degrees of freedom\n",
              "Multiple R-squared:  0.1053,\tAdjusted R-squared:  0.1045 \n",
              "F-statistic: 123.7 on 1 and 1051 DF,  p-value: < 2.2e-16\n"
            ]
          },
          "metadata": {}
        }
      ]
    },
    {
      "cell_type": "markdown",
      "metadata": {
        "id": "ggbWS4xRwgwn"
      },
      "source": [
        "### Model #2: TeacherTurnoverRate ~ FourYearGradRate"
      ]
    },
    {
      "cell_type": "code",
      "metadata": {
        "colab": {
          "base_uri": "https://localhost:8080/",
          "height": 329
        },
        "id": "JdE76kobwg29",
        "outputId": "e7c1667f-7386-4105-b8cb-ebc4c92885cb"
      },
      "source": [
        "Model2 <- lm(TeacherTurnoverRate ~ FourYearGradRate, data=TeacherTurnover)\n",
        "summary(Model2)"
      ],
      "execution_count": 355,
      "outputs": [
        {
          "output_type": "display_data",
          "data": {
            "text/plain": [
              "\n",
              "Call:\n",
              "lm(formula = TeacherTurnoverRate ~ FourYearGradRate, data = TeacherTurnover)\n",
              "\n",
              "Residuals:\n",
              "    Min      1Q  Median      3Q     Max \n",
              "-33.912  -6.678  -1.947   4.492  55.194 \n",
              "\n",
              "Coefficients:\n",
              "                 Estimate Std. Error t value Pr(>|t|)    \n",
              "(Intercept)      50.72372    2.38376   21.28   <2e-16 ***\n",
              "FourYearGradRate -0.33623    0.02576  -13.05   <2e-16 ***\n",
              "---\n",
              "Signif. codes:  0 ‘***’ 0.001 ‘**’ 0.01 ‘*’ 0.05 ‘.’ 0.1 ‘ ’ 1\n",
              "\n",
              "Residual standard error: 10.33 on 1051 degrees of freedom\n",
              "Multiple R-squared:  0.1395,\tAdjusted R-squared:  0.1387 \n",
              "F-statistic: 170.4 on 1 and 1051 DF,  p-value: < 2.2e-16\n"
            ]
          },
          "metadata": {}
        }
      ]
    },
    {
      "cell_type": "markdown",
      "metadata": {
        "id": "1Q-FHUz4xQcp"
      },
      "source": [
        "### Model #3: TeacherTurnoverRate ~ Avg_TeacherSalary\n"
      ]
    },
    {
      "cell_type": "code",
      "metadata": {
        "colab": {
          "base_uri": "https://localhost:8080/",
          "height": 329
        },
        "id": "aD-mo2B9xQh-",
        "outputId": "496f9473-3067-4df3-a0d9-487ef8a45172"
      },
      "source": [
        "Model3 <- lm(TeacherTurnoverRate ~ Avg_TeacherSalary, data=TeacherTurnover)\n",
        "summary(Model3)"
      ],
      "execution_count": 356,
      "outputs": [
        {
          "output_type": "display_data",
          "data": {
            "text/plain": [
              "\n",
              "Call:\n",
              "lm(formula = TeacherTurnoverRate ~ Avg_TeacherSalary, data = TeacherTurnover)\n",
              "\n",
              "Residuals:\n",
              "    Min      1Q  Median      3Q     Max \n",
              "-27.924  -5.932  -1.298   4.728  68.412 \n",
              "\n",
              "Coefficients:\n",
              "                    Estimate Std. Error t value Pr(>|t|)    \n",
              "(Intercept)        6.812e+01  3.163e+00   21.54   <2e-16 ***\n",
              "Avg_TeacherSalary -1.089e-03  7.109e-05  -15.32   <2e-16 ***\n",
              "---\n",
              "Signif. codes:  0 ‘***’ 0.001 ‘**’ 0.01 ‘*’ 0.05 ‘.’ 0.1 ‘ ’ 1\n",
              "\n",
              "Residual standard error: 10.07 on 1051 degrees of freedom\n",
              "Multiple R-squared:  0.1826,\tAdjusted R-squared:  0.1818 \n",
              "F-statistic: 234.8 on 1 and 1051 DF,  p-value: < 2.2e-16\n"
            ]
          },
          "metadata": {}
        }
      ]
    },
    {
      "cell_type": "markdown",
      "metadata": {
        "id": "md1obSYQxa2B"
      },
      "source": [
        "### Model #4: TeacherTurnoverRate ~ Pct_RevenueLocal"
      ]
    },
    {
      "cell_type": "code",
      "metadata": {
        "colab": {
          "base_uri": "https://localhost:8080/",
          "height": 329
        },
        "id": "rUwlciV8xa7u",
        "outputId": "027d46b9-ab43-458a-a636-8b97210663a2"
      },
      "source": [
        "Model4 <- lm(TeacherTurnoverRate ~ Pct_RevenueLocal, data=TeacherTurnover)\n",
        "summary(Model4)"
      ],
      "execution_count": 357,
      "outputs": [
        {
          "output_type": "display_data",
          "data": {
            "text/plain": [
              "\n",
              "Call:\n",
              "lm(formula = TeacherTurnoverRate ~ Pct_RevenueLocal, data = TeacherTurnover)\n",
              "\n",
              "Residuals:\n",
              "    Min      1Q  Median      3Q     Max \n",
              "-21.138  -6.561  -1.657   4.306  74.921 \n",
              "\n",
              "Coefficients:\n",
              "                 Estimate Std. Error t value Pr(>|t|)    \n",
              "(Intercept)      26.09634    0.71634  36.430   <2e-16 ***\n",
              "Pct_RevenueLocal -0.15178    0.01556  -9.756   <2e-16 ***\n",
              "---\n",
              "Signif. codes:  0 ‘***’ 0.001 ‘**’ 0.01 ‘*’ 0.05 ‘.’ 0.1 ‘ ’ 1\n",
              "\n",
              "Residual standard error: 10.66 on 1051 degrees of freedom\n",
              "Multiple R-squared:  0.08305,\tAdjusted R-squared:  0.08217 \n",
              "F-statistic: 95.19 on 1 and 1051 DF,  p-value: < 2.2e-16\n"
            ]
          },
          "metadata": {}
        }
      ]
    },
    {
      "cell_type": "markdown",
      "metadata": {
        "id": "HZT6XHxwtVJE"
      },
      "source": [
        "## Apply Jackknife to Measure Prediction Accuracy"
      ]
    },
    {
      "cell_type": "markdown",
      "metadata": {
        "id": "O68onNsL0iNF"
      },
      "source": [
        "The following custom function can be used to obtain a jackknife estimate for the Root Mean Square Error."
      ]
    },
    {
      "cell_type": "code",
      "metadata": {
        "id": "t9s14vlSzbes"
      },
      "source": [
        "#A custom function for obtaining RMSE via Jackknife\n",
        "#INPUTS\n",
        "#      This function takes two input arguments\n",
        "#      1) A simple linear regression object, and \n",
        "#      2) data.frame used for fitting SLR model\n",
        "#OUTPUTS\n",
        "#     This function returns as output\n",
        "#      1) vector of squared residuals\n",
        "#      2) the jackknife estimate of RMSE\n",
        "\n",
        "rmse.jackknife=function(slr_object,data_for_fit){\n",
        "    \n",
        "    #Getting the number of rows in data\n",
        "    n = dim(data_for_fit)[1]\n",
        "\n",
        "    #Keeping a copy of orginial y (used in computed residual)\n",
        "    originaly = slr_object$model[,1]\n",
        "    \n",
        "    #Creating the output vector to save squared residuals\n",
        "    output = rep(0,n)\n",
        "\n",
        "    #Looping through data \n",
        "    for(i in 1:n){\n",
        "        fit_minus_i = lm( formula(slr_object), data=data_for_fit[-i,] )\n",
        "        predictedy_i = predict( fit_minus_i , newdata=data_for_fit[i,] )\n",
        "        output[i] = ( originaly[i] - predictedy_i )^2\n",
        "    }\n",
        "    \n",
        "    #Return the output vector and jackknife rmse\n",
        "    #list(SquaredResids=output,Jackknife_RMSE=sqrt(mean(output, na.rm=TRUE)))\n",
        "    return(Jackknife_RMSE=sqrt(mean(output, na.rm=TRUE)))\n",
        "}"
      ],
      "execution_count": 358,
      "outputs": []
    },
    {
      "cell_type": "markdown",
      "metadata": {
        "id": "YqisaMT10DKf"
      },
      "source": [
        "Using the rmse.jackknife() function for the data considered here."
      ]
    },
    {
      "cell_type": "code",
      "metadata": {
        "colab": {
          "base_uri": "https://localhost:8080/",
          "height": 225
        },
        "id": "V8LEjeg80DTc",
        "outputId": "6871fa82-8ff2-4422-da64-4f0de1e5bbc3"
      },
      "source": [
        "cat(\"\\nJackknife Estimate of RMSE for Model #1:\")\n",
        "round( rmse.jackknife(Model1, TeacherTurnover), 2)\n",
        "\n",
        "cat(\"\\nJackknife Estimate of RMSE for Model #2:\")\n",
        "round( rmse.jackknife(Model2, TeacherTurnover), 2)\n",
        "\n",
        "cat(\"\\nJackknife Estimate of RMSE for Model #3:\")\n",
        "round( rmse.jackknife(Model3, TeacherTurnover), 2)\n",
        "\n",
        "cat(\"\\nJackknife Estimate of RMSE for Model #4:\")\n",
        "round( rmse.jackknife(Model4, TeacherTurnover), 2)\n"
      ],
      "execution_count": 359,
      "outputs": [
        {
          "output_type": "stream",
          "name": "stdout",
          "text": [
            "\n",
            "Jackknife Estimate of RMSE for Model #1:"
          ]
        },
        {
          "output_type": "display_data",
          "data": {
            "text/plain": [
              "[1] 10.55"
            ],
            "text/latex": "10.55",
            "text/markdown": "10.55",
            "text/html": [
              "10.55"
            ]
          },
          "metadata": {}
        },
        {
          "output_type": "stream",
          "name": "stdout",
          "text": [
            "\n",
            "Jackknife Estimate of RMSE for Model #2:"
          ]
        },
        {
          "output_type": "display_data",
          "data": {
            "text/plain": [
              "[1] 10.37"
            ],
            "text/latex": "10.37",
            "text/markdown": "10.37",
            "text/html": [
              "10.37"
            ]
          },
          "metadata": {}
        },
        {
          "output_type": "stream",
          "name": "stdout",
          "text": [
            "\n",
            "Jackknife Estimate of RMSE for Model #3:"
          ]
        },
        {
          "output_type": "display_data",
          "data": {
            "text/plain": [
              "[1] 10.08"
            ],
            "text/latex": "10.08",
            "text/markdown": "10.08",
            "text/html": [
              "10.08"
            ]
          },
          "metadata": {}
        },
        {
          "output_type": "stream",
          "name": "stdout",
          "text": [
            "\n",
            "Jackknife Estimate of RMSE for Model #4:"
          ]
        },
        {
          "output_type": "display_data",
          "data": {
            "text/plain": [
              "[1] 10.68"
            ],
            "text/latex": "10.68",
            "text/markdown": "10.68",
            "text/html": [
              "10.68"
            ]
          },
          "metadata": {}
        }
      ]
    },
    {
      "cell_type": "markdown",
      "metadata": {
        "id": "Zjc_8cwKZtXk"
      },
      "source": [
        "\n",
        "\n",
        "---\n",
        "\n",
        "\n",
        "\n",
        "---\n",
        "\n"
      ]
    },
    {
      "cell_type": "markdown",
      "metadata": {
        "id": "S0gBu163ZsWB"
      },
      "source": [
        "## \"Leave-one-out\" via caret package"
      ]
    },
    {
      "cell_type": "code",
      "metadata": {
        "id": "g_EhUQwbZskF"
      },
      "source": [
        "install.packages(\"caret\")\n",
        "library(caret)"
      ],
      "execution_count": null,
      "outputs": []
    },
    {
      "cell_type": "markdown",
      "metadata": {
        "id": "Sb1CNLx1Z13J"
      },
      "source": [
        "The following code can be used to run a \"leave-one-out\" cross-validation algorithm with the caret package in R."
      ]
    },
    {
      "cell_type": "code",
      "metadata": {
        "colab": {
          "base_uri": "https://localhost:8080/",
          "height": 260
        },
        "id": "dTifc-UcZ1-A",
        "outputId": "9919f4f4-714e-4b4d-97ba-0853055f30b9"
      },
      "source": [
        "#Using the caret package to conduct the leave-one-out cross validation\n",
        "#The cross-validation settings are set with the trainControl() function.\n",
        "#Here, the leave-one-out cross validation (LOOCV) is being specifed\n",
        "cv_settings <- trainControl(method = \"LOOCV\")\n",
        "\n",
        "#Next, use the train() function to conduct the cross-validation procedure for this data/model\n",
        "model_caret <- train(TeacherTurnoverRate ~ Avg_TeacherSalary ,   # model to fit\n",
        "                     data = TeacherTurnover,                     # data used for the fit   \n",
        "                     trControl = cv_settings,                    # settings for cross-validation\n",
        "                     method = \"lm\",                              # specifying a regression model\n",
        "                     na.action = na.pass                        # helps with NA\n",
        "                    )\n",
        "\n",
        "#Print the output from the LOOCV algorithm\n",
        "model_caret"
      ],
      "execution_count": 366,
      "outputs": [
        {
          "output_type": "display_data",
          "data": {
            "text/plain": [
              "Linear Regression \n",
              "\n",
              "1053 samples\n",
              "   1 predictor\n",
              "\n",
              "No pre-processing\n",
              "Resampling: Leave-One-Out Cross-Validation \n",
              "Summary of sample sizes: 1052, 1052, 1052, 1052, 1052, 1052, ... \n",
              "Resampling results:\n",
              "\n",
              "  RMSE      Rsquared   MAE     \n",
              "  10.08144  0.1787502  7.178362\n",
              "\n",
              "Tuning parameter 'intercept' was held constant at a value of TRUE"
            ]
          },
          "metadata": {}
        }
      ]
    },
    {
      "cell_type": "markdown",
      "metadata": {
        "id": "UUNCBXN5bjKH"
      },
      "source": [
        "In addition to the $RMSE$, the $R^2$ and $MAE$ are computed as well on the test set."
      ]
    },
    {
      "cell_type": "markdown",
      "metadata": {
        "id": "Wmuc6B18aOIh"
      },
      "source": [
        "$$\n",
        "MAE = \\frac{\\sum |y_{i} - \\hat{y}_{i}|}{n}\n",
        "$$\n",
        "where $\\hat{y}_{i}$ is the predicted value for the $i^{th}$ observation"
      ]
    },
    {
      "cell_type": "markdown",
      "metadata": {
        "id": "jwY_NYfb771l"
      },
      "source": [
        "\n",
        "\n",
        "---\n",
        "\n",
        "\n",
        "\n",
        "---\n",
        "\n"
      ]
    },
    {
      "cell_type": "markdown",
      "metadata": {
        "id": "vYChOR3T7-Rc"
      },
      "source": [
        "##  Train / Test Cross-Validation Algorithm"
      ]
    },
    {
      "cell_type": "markdown",
      "metadata": {
        "id": "wZf1BIHN8ClE"
      },
      "source": [
        "<u>Step #1</u>:  Divide the data into the train and test set"
      ]
    },
    {
      "cell_type": "code",
      "metadata": {
        "colab": {
          "base_uri": "https://localhost:8080/",
          "height": 35
        },
        "id": "lSWAE1Aw8e0P",
        "outputId": "5a550a5d-7730-4499-ca7d-944328363de6"
      },
      "source": [
        "#How many rows in data.frame\n",
        "dim(TeacherTurnover)"
      ],
      "execution_count": 320,
      "outputs": [
        {
          "output_type": "display_data",
          "data": {
            "text/plain": [
              "[1] 1053    6"
            ],
            "text/latex": "\\begin{enumerate*}\n\\item 1053\n\\item 6\n\\end{enumerate*}\n",
            "text/markdown": "1. 1053\n2. 6\n\n\n",
            "text/html": [
              "<style>\n",
              ".list-inline {list-style: none; margin:0; padding: 0}\n",
              ".list-inline>li {display: inline-block}\n",
              ".list-inline>li:not(:last-child)::after {content: \"\\00b7\"; padding: 0 .5ex}\n",
              "</style>\n",
              "<ol class=list-inline><li>1053</li><li>6</li></ol>\n"
            ]
          },
          "metadata": {}
        }
      ]
    },
    {
      "cell_type": "code",
      "metadata": {
        "colab": {
          "base_uri": "https://localhost:8080/",
          "height": 277
        },
        "id": "cXPV3Y9p9AHm",
        "outputId": "e34366f5-aa19-420e-ee6f-3c8ac7a7b984"
      },
      "source": [
        "#Create a rowid vector\n",
        "rowid <- seq(from=1, to=1053, by=1)\n",
        "\n",
        "#Obtain the training set\n",
        "train <- sample(rowid, size = (0.75*length(rowid)), replace=FALSE)\n",
        "sort(train)\n",
        "\n",
        "cat(\"\\nHow many observations in training set:\")\n",
        "length(train)"
      ],
      "execution_count": 341,
      "outputs": [
        {
          "output_type": "display_data",
          "data": {
            "text/plain": [
              "  [1]    2    5    6    7    9   11   12   14   16   17   19   23   24   25   26\n",
              " [16]   27   31   33   34   35   37   38   39   41   42   44   45   46   47   48\n",
              " [31]   51   52   53   54   56   61   63   66   67   69   71   72   73   76   78\n",
              " [46]   80   81   82   83   84   86   88   89   90   91   92   94   95   97   99\n",
              " [61]  100  101  103  104  105  106  107  109  110  111  113  115  116  117  118\n",
              " [76]  120  122  123  124  125  127  129  130  131  132  133  134  136  138  139\n",
              " [91]  140  142  145  146  147  149  152  153  155  158  160  161  163  164  167\n",
              "[106]  168  169  170  171  172  174  175  179  181  182  183  184  185  187  189\n",
              "[121]  190  191  193  195  196  197  198  199  200  201  202  203  204  205  206\n",
              "[136]  208  209  210  211  212  213  214  215  216  217  218  219  220  223  224\n",
              "[151]  225  226  227  228  229  230  231  232  233  234  235  237  238  239  240\n",
              "[166]  241  243  244  245  246  248  249  250  251  252  253  254  255  257  258\n",
              "[181]  260  261  262  263  264  265  266  267  269  270  271  272  273  275  276\n",
              "[196]  277  278  281  282  284  285  286  287  288  289  290  291  292  294  295\n",
              "[211]  296  298  299  300  301  302  303  304  305  307  308  309  310  311  312\n",
              "[226]  313  314  315  316  319  320  322  323  325  326  328  329  330  331  334\n",
              "[241]  335  337  338  339  340  341  343  345  347  348  349  350  351  352  353\n",
              "[256]  354  357  359  360  362  363  364  365  366  367  368  369  370  372  373\n",
              "[271]  374  375  376  377  378  379  380  381  382  386  387  390  391  392  393\n",
              "[286]  394  395  396  397  398  399  400  401  402  403  404  405  406  407  408\n",
              "[301]  409  410  411  412  414  415  416  417  419  420  421  422  423  425  428\n",
              "[316]  429  430  431  432  434  435  436  437  438  439  440  441  442  443  444\n",
              "[331]  445  447  454  456  457  458  459  461  462  465  466  471  472  473  474\n",
              "[346]  475  477  479  481  483  484  485  487  488  489  490  491  492  493  495\n",
              "[361]  496  497  498  499  500  501  503  504  505  506  508  509  510  511  514\n",
              "[376]  516  517  519  521  523  525  527  528  529  531  532  533  534  536  538\n",
              "[391]  540  541  542  543  545  546  548  550  551  552  553  554  555  556  557\n",
              "[406]  559  561  562  563  564  565  566  567  568  569  570  571  572  574  575\n",
              "[421]  576  577  578  579  580  581  582  583  584  585  586  587  589  590  592\n",
              "[436]  593  594  595  596  599  600  602  603  605  607  608  609  610  612  613\n",
              "[451]  614  615  616  618  619  620  621  622  623  625  626  627  628  629  630\n",
              "[466]  631  632  634  635  636  637  638  639  640  641  643  646  647  648  650\n",
              "[481]  652  654  655  656  657  658  659  660  662  663  666  667  669  672  673\n",
              "[496]  674  675  676  677  679  681  683  684  685  687  688  689  690  691  692\n",
              "[511]  694  695  697  698  699  700  702  703  704  706  709  710  713  714  715\n",
              "[526]  716  718  720  722  724  725  726  727  729  730  731  732  733  734  735\n",
              "[541]  736  737  738  739  740  741  742  743  744  746  748  750  751  752  753\n",
              "[556]  755  756  757  758  759  760  761  763  764  765  767  769  770  772  773\n",
              "[571]  774  775  776  777  778  780  781  782  785  786  788  789  790  792  794\n",
              "[586]  796  797  798  799  801  802  803  804  805  806  809  810  811  812  813\n",
              "[601]  814  815  816  817  818  819  823  825  826  827  830  831  832  834  835\n",
              "[616]  836  839  840  841  842  844  845  846  848  849  850  851  852  853  856\n",
              "[631]  857  858  859  860  862  864  865  866  867  868  869  871  872  873  874\n",
              "[646]  875  876  877  880  881  882  884  885  886  887  888  889  890  891  892\n",
              "[661]  893  896  898  899  901  902  903  904  905  906  907  908  909  910  911\n",
              "[676]  912  913  914  915  917  918  923  924  925  926  927  928  929  931  932\n",
              "[691]  934  935  936  937  938  939  940  942  943  944  945  946  947  948  949\n",
              "[706]  950  951  952  953  954  955  956  957  958  960  962  963  964  966  967\n",
              "[721]  968  969  970  971  972  973  975  976  977  978  979  981  982  983  984\n",
              "[736]  985  986  987  989  990  991  993  994  995  996  997  998  999 1001 1002\n",
              "[751] 1005 1006 1007 1008 1009 1010 1011 1013 1015 1016 1017 1018 1019 1020 1021\n",
              "[766] 1022 1023 1024 1027 1028 1029 1030 1031 1032 1033 1034 1035 1036 1037 1038\n",
              "[781] 1039 1040 1044 1046 1047 1048 1050 1051 1052"
            ],
            "text/latex": "\\begin{enumerate*}\n\\item 2\n\\item 5\n\\item 6\n\\item 7\n\\item 9\n\\item 11\n\\item 12\n\\item 14\n\\item 16\n\\item 17\n\\item 19\n\\item 23\n\\item 24\n\\item 25\n\\item 26\n\\item 27\n\\item 31\n\\item 33\n\\item 34\n\\item 35\n\\item 37\n\\item 38\n\\item 39\n\\item 41\n\\item 42\n\\item 44\n\\item 45\n\\item 46\n\\item 47\n\\item 48\n\\item 51\n\\item 52\n\\item 53\n\\item 54\n\\item 56\n\\item 61\n\\item 63\n\\item 66\n\\item 67\n\\item 69\n\\item 71\n\\item 72\n\\item 73\n\\item 76\n\\item 78\n\\item 80\n\\item 81\n\\item 82\n\\item 83\n\\item 84\n\\item 86\n\\item 88\n\\item 89\n\\item 90\n\\item 91\n\\item 92\n\\item 94\n\\item 95\n\\item 97\n\\item 99\n\\item 100\n\\item 101\n\\item 103\n\\item 104\n\\item 105\n\\item 106\n\\item 107\n\\item 109\n\\item 110\n\\item 111\n\\item 113\n\\item 115\n\\item 116\n\\item 117\n\\item 118\n\\item 120\n\\item 122\n\\item 123\n\\item 124\n\\item 125\n\\item 127\n\\item 129\n\\item 130\n\\item 131\n\\item 132\n\\item 133\n\\item 134\n\\item 136\n\\item 138\n\\item 139\n\\item 140\n\\item 142\n\\item 145\n\\item 146\n\\item 147\n\\item 149\n\\item 152\n\\item 153\n\\item 155\n\\item 158\n\\item 160\n\\item 161\n\\item 163\n\\item 164\n\\item 167\n\\item 168\n\\item 169\n\\item 170\n\\item 171\n\\item 172\n\\item 174\n\\item 175\n\\item 179\n\\item 181\n\\item 182\n\\item 183\n\\item 184\n\\item 185\n\\item 187\n\\item 189\n\\item 190\n\\item 191\n\\item 193\n\\item 195\n\\item 196\n\\item 197\n\\item 198\n\\item 199\n\\item 200\n\\item 201\n\\item 202\n\\item 203\n\\item 204\n\\item 205\n\\item 206\n\\item 208\n\\item 209\n\\item 210\n\\item 211\n\\item 212\n\\item 213\n\\item 214\n\\item 215\n\\item 216\n\\item 217\n\\item 218\n\\item 219\n\\item 220\n\\item 223\n\\item 224\n\\item 225\n\\item 226\n\\item 227\n\\item 228\n\\item 229\n\\item 230\n\\item 231\n\\item 232\n\\item 233\n\\item 234\n\\item 235\n\\item 237\n\\item 238\n\\item 239\n\\item 240\n\\item 241\n\\item 243\n\\item 244\n\\item 245\n\\item 246\n\\item 248\n\\item 249\n\\item 250\n\\item 251\n\\item 252\n\\item 253\n\\item 254\n\\item 255\n\\item 257\n\\item 258\n\\item 260\n\\item 261\n\\item 262\n\\item 263\n\\item 264\n\\item 265\n\\item 266\n\\item 267\n\\item 269\n\\item 270\n\\item 271\n\\item 272\n\\item 273\n\\item 275\n\\item 276\n\\item 277\n\\item 278\n\\item 281\n\\item 282\n\\item 284\n\\item ⋯\n\\item 801\n\\item 802\n\\item 803\n\\item 804\n\\item 805\n\\item 806\n\\item 809\n\\item 810\n\\item 811\n\\item 812\n\\item 813\n\\item 814\n\\item 815\n\\item 816\n\\item 817\n\\item 818\n\\item 819\n\\item 823\n\\item 825\n\\item 826\n\\item 827\n\\item 830\n\\item 831\n\\item 832\n\\item 834\n\\item 835\n\\item 836\n\\item 839\n\\item 840\n\\item 841\n\\item 842\n\\item 844\n\\item 845\n\\item 846\n\\item 848\n\\item 849\n\\item 850\n\\item 851\n\\item 852\n\\item 853\n\\item 856\n\\item 857\n\\item 858\n\\item 859\n\\item 860\n\\item 862\n\\item 864\n\\item 865\n\\item 866\n\\item 867\n\\item 868\n\\item 869\n\\item 871\n\\item 872\n\\item 873\n\\item 874\n\\item 875\n\\item 876\n\\item 877\n\\item 880\n\\item 881\n\\item 882\n\\item 884\n\\item 885\n\\item 886\n\\item 887\n\\item 888\n\\item 889\n\\item 890\n\\item 891\n\\item 892\n\\item 893\n\\item 896\n\\item 898\n\\item 899\n\\item 901\n\\item 902\n\\item 903\n\\item 904\n\\item 905\n\\item 906\n\\item 907\n\\item 908\n\\item 909\n\\item 910\n\\item 911\n\\item 912\n\\item 913\n\\item 914\n\\item 915\n\\item 917\n\\item 918\n\\item 923\n\\item 924\n\\item 925\n\\item 926\n\\item 927\n\\item 928\n\\item 929\n\\item 931\n\\item 932\n\\item 934\n\\item 935\n\\item 936\n\\item 937\n\\item 938\n\\item 939\n\\item 940\n\\item 942\n\\item 943\n\\item 944\n\\item 945\n\\item 946\n\\item 947\n\\item 948\n\\item 949\n\\item 950\n\\item 951\n\\item 952\n\\item 953\n\\item 954\n\\item 955\n\\item 956\n\\item 957\n\\item 958\n\\item 960\n\\item 962\n\\item 963\n\\item 964\n\\item 966\n\\item 967\n\\item 968\n\\item 969\n\\item 970\n\\item 971\n\\item 972\n\\item 973\n\\item 975\n\\item 976\n\\item 977\n\\item 978\n\\item 979\n\\item 981\n\\item 982\n\\item 983\n\\item 984\n\\item 985\n\\item 986\n\\item 987\n\\item 989\n\\item 990\n\\item 991\n\\item 993\n\\item 994\n\\item 995\n\\item 996\n\\item 997\n\\item 998\n\\item 999\n\\item 1001\n\\item 1002\n\\item 1005\n\\item 1006\n\\item 1007\n\\item 1008\n\\item 1009\n\\item 1010\n\\item 1011\n\\item 1013\n\\item 1015\n\\item 1016\n\\item 1017\n\\item 1018\n\\item 1019\n\\item 1020\n\\item 1021\n\\item 1022\n\\item 1023\n\\item 1024\n\\item 1027\n\\item 1028\n\\item 1029\n\\item 1030\n\\item 1031\n\\item 1032\n\\item 1033\n\\item 1034\n\\item 1035\n\\item 1036\n\\item 1037\n\\item 1038\n\\item 1039\n\\item 1040\n\\item 1044\n\\item 1046\n\\item 1047\n\\item 1048\n\\item 1050\n\\item 1051\n\\item 1052\n\\end{enumerate*}\n",
            "text/markdown": "1. 2\n2. 5\n3. 6\n4. 7\n5. 9\n6. 11\n7. 12\n8. 14\n9. 16\n10. 17\n11. 19\n12. 23\n13. 24\n14. 25\n15. 26\n16. 27\n17. 31\n18. 33\n19. 34\n20. 35\n21. 37\n22. 38\n23. 39\n24. 41\n25. 42\n26. 44\n27. 45\n28. 46\n29. 47\n30. 48\n31. 51\n32. 52\n33. 53\n34. 54\n35. 56\n36. 61\n37. 63\n38. 66\n39. 67\n40. 69\n41. 71\n42. 72\n43. 73\n44. 76\n45. 78\n46. 80\n47. 81\n48. 82\n49. 83\n50. 84\n51. 86\n52. 88\n53. 89\n54. 90\n55. 91\n56. 92\n57. 94\n58. 95\n59. 97\n60. 99\n61. 100\n62. 101\n63. 103\n64. 104\n65. 105\n66. 106\n67. 107\n68. 109\n69. 110\n70. 111\n71. 113\n72. 115\n73. 116\n74. 117\n75. 118\n76. 120\n77. 122\n78. 123\n79. 124\n80. 125\n81. 127\n82. 129\n83. 130\n84. 131\n85. 132\n86. 133\n87. 134\n88. 136\n89. 138\n90. 139\n91. 140\n92. 142\n93. 145\n94. 146\n95. 147\n96. 149\n97. 152\n98. 153\n99. 155\n100. 158\n101. 160\n102. 161\n103. 163\n104. 164\n105. 167\n106. 168\n107. 169\n108. 170\n109. 171\n110. 172\n111. 174\n112. 175\n113. 179\n114. 181\n115. 182\n116. 183\n117. 184\n118. 185\n119. 187\n120. 189\n121. 190\n122. 191\n123. 193\n124. 195\n125. 196\n126. 197\n127. 198\n128. 199\n129. 200\n130. 201\n131. 202\n132. 203\n133. 204\n134. 205\n135. 206\n136. 208\n137. 209\n138. 210\n139. 211\n140. 212\n141. 213\n142. 214\n143. 215\n144. 216\n145. 217\n146. 218\n147. 219\n148. 220\n149. 223\n150. 224\n151. 225\n152. 226\n153. 227\n154. 228\n155. 229\n156. 230\n157. 231\n158. 232\n159. 233\n160. 234\n161. 235\n162. 237\n163. 238\n164. 239\n165. 240\n166. 241\n167. 243\n168. 244\n169. 245\n170. 246\n171. 248\n172. 249\n173. 250\n174. 251\n175. 252\n176. 253\n177. 254\n178. 255\n179. 257\n180. 258\n181. 260\n182. 261\n183. 262\n184. 263\n185. 264\n186. 265\n187. 266\n188. 267\n189. 269\n190. 270\n191. 271\n192. 272\n193. 273\n194. 275\n195. 276\n196. 277\n197. 278\n198. 281\n199. 282\n200. 284\n201. ⋯\n202. 801\n203. 802\n204. 803\n205. 804\n206. 805\n207. 806\n208. 809\n209. 810\n210. 811\n211. 812\n212. 813\n213. 814\n214. 815\n215. 816\n216. 817\n217. 818\n218. 819\n219. 823\n220. 825\n221. 826\n222. 827\n223. 830\n224. 831\n225. 832\n226. 834\n227. 835\n228. 836\n229. 839\n230. 840\n231. 841\n232. 842\n233. 844\n234. 845\n235. 846\n236. 848\n237. 849\n238. 850\n239. 851\n240. 852\n241. 853\n242. 856\n243. 857\n244. 858\n245. 859\n246. 860\n247. 862\n248. 864\n249. 865\n250. 866\n251. 867\n252. 868\n253. 869\n254. 871\n255. 872\n256. 873\n257. 874\n258. 875\n259. 876\n260. 877\n261. 880\n262. 881\n263. 882\n264. 884\n265. 885\n266. 886\n267. 887\n268. 888\n269. 889\n270. 890\n271. 891\n272. 892\n273. 893\n274. 896\n275. 898\n276. 899\n277. 901\n278. 902\n279. 903\n280. 904\n281. 905\n282. 906\n283. 907\n284. 908\n285. 909\n286. 910\n287. 911\n288. 912\n289. 913\n290. 914\n291. 915\n292. 917\n293. 918\n294. 923\n295. 924\n296. 925\n297. 926\n298. 927\n299. 928\n300. 929\n301. 931\n302. 932\n303. 934\n304. 935\n305. 936\n306. 937\n307. 938\n308. 939\n309. 940\n310. 942\n311. 943\n312. 944\n313. 945\n314. 946\n315. 947\n316. 948\n317. 949\n318. 950\n319. 951\n320. 952\n321. 953\n322. 954\n323. 955\n324. 956\n325. 957\n326. 958\n327. 960\n328. 962\n329. 963\n330. 964\n331. 966\n332. 967\n333. 968\n334. 969\n335. 970\n336. 971\n337. 972\n338. 973\n339. 975\n340. 976\n341. 977\n342. 978\n343. 979\n344. 981\n345. 982\n346. 983\n347. 984\n348. 985\n349. 986\n350. 987\n351. 989\n352. 990\n353. 991\n354. 993\n355. 994\n356. 995\n357. 996\n358. 997\n359. 998\n360. 999\n361. 1001\n362. 1002\n363. 1005\n364. 1006\n365. 1007\n366. 1008\n367. 1009\n368. 1010\n369. 1011\n370. 1013\n371. 1015\n372. 1016\n373. 1017\n374. 1018\n375. 1019\n376. 1020\n377. 1021\n378. 1022\n379. 1023\n380. 1024\n381. 1027\n382. 1028\n383. 1029\n384. 1030\n385. 1031\n386. 1032\n387. 1033\n388. 1034\n389. 1035\n390. 1036\n391. 1037\n392. 1038\n393. 1039\n394. 1040\n395. 1044\n396. 1046\n397. 1047\n398. 1048\n399. 1050\n400. 1051\n401. 1052\n\n\n",
            "text/html": [
              "<style>\n",
              ".list-inline {list-style: none; margin:0; padding: 0}\n",
              ".list-inline>li {display: inline-block}\n",
              ".list-inline>li:not(:last-child)::after {content: \"\\00b7\"; padding: 0 .5ex}\n",
              "</style>\n",
              "<ol class=list-inline><li>2</li><li>5</li><li>6</li><li>7</li><li>9</li><li>11</li><li>12</li><li>14</li><li>16</li><li>17</li><li>19</li><li>23</li><li>24</li><li>25</li><li>26</li><li>27</li><li>31</li><li>33</li><li>34</li><li>35</li><li>37</li><li>38</li><li>39</li><li>41</li><li>42</li><li>44</li><li>45</li><li>46</li><li>47</li><li>48</li><li>51</li><li>52</li><li>53</li><li>54</li><li>56</li><li>61</li><li>63</li><li>66</li><li>67</li><li>69</li><li>71</li><li>72</li><li>73</li><li>76</li><li>78</li><li>80</li><li>81</li><li>82</li><li>83</li><li>84</li><li>86</li><li>88</li><li>89</li><li>90</li><li>91</li><li>92</li><li>94</li><li>95</li><li>97</li><li>99</li><li>100</li><li>101</li><li>103</li><li>104</li><li>105</li><li>106</li><li>107</li><li>109</li><li>110</li><li>111</li><li>113</li><li>115</li><li>116</li><li>117</li><li>118</li><li>120</li><li>122</li><li>123</li><li>124</li><li>125</li><li>127</li><li>129</li><li>130</li><li>131</li><li>132</li><li>133</li><li>134</li><li>136</li><li>138</li><li>139</li><li>140</li><li>142</li><li>145</li><li>146</li><li>147</li><li>149</li><li>152</li><li>153</li><li>155</li><li>158</li><li>160</li><li>161</li><li>163</li><li>164</li><li>167</li><li>168</li><li>169</li><li>170</li><li>171</li><li>172</li><li>174</li><li>175</li><li>179</li><li>181</li><li>182</li><li>183</li><li>184</li><li>185</li><li>187</li><li>189</li><li>190</li><li>191</li><li>193</li><li>195</li><li>196</li><li>197</li><li>198</li><li>199</li><li>200</li><li>201</li><li>202</li><li>203</li><li>204</li><li>205</li><li>206</li><li>208</li><li>209</li><li>210</li><li>211</li><li>212</li><li>213</li><li>214</li><li>215</li><li>216</li><li>217</li><li>218</li><li>219</li><li>220</li><li>223</li><li>224</li><li>225</li><li>226</li><li>227</li><li>228</li><li>229</li><li>230</li><li>231</li><li>232</li><li>233</li><li>234</li><li>235</li><li>237</li><li>238</li><li>239</li><li>240</li><li>241</li><li>243</li><li>244</li><li>245</li><li>246</li><li>248</li><li>249</li><li>250</li><li>251</li><li>252</li><li>253</li><li>254</li><li>255</li><li>257</li><li>258</li><li>260</li><li>261</li><li>262</li><li>263</li><li>264</li><li>265</li><li>266</li><li>267</li><li>269</li><li>270</li><li>271</li><li>272</li><li>273</li><li>275</li><li>276</li><li>277</li><li>278</li><li>281</li><li>282</li><li>284</li><li>⋯</li><li>801</li><li>802</li><li>803</li><li>804</li><li>805</li><li>806</li><li>809</li><li>810</li><li>811</li><li>812</li><li>813</li><li>814</li><li>815</li><li>816</li><li>817</li><li>818</li><li>819</li><li>823</li><li>825</li><li>826</li><li>827</li><li>830</li><li>831</li><li>832</li><li>834</li><li>835</li><li>836</li><li>839</li><li>840</li><li>841</li><li>842</li><li>844</li><li>845</li><li>846</li><li>848</li><li>849</li><li>850</li><li>851</li><li>852</li><li>853</li><li>856</li><li>857</li><li>858</li><li>859</li><li>860</li><li>862</li><li>864</li><li>865</li><li>866</li><li>867</li><li>868</li><li>869</li><li>871</li><li>872</li><li>873</li><li>874</li><li>875</li><li>876</li><li>877</li><li>880</li><li>881</li><li>882</li><li>884</li><li>885</li><li>886</li><li>887</li><li>888</li><li>889</li><li>890</li><li>891</li><li>892</li><li>893</li><li>896</li><li>898</li><li>899</li><li>901</li><li>902</li><li>903</li><li>904</li><li>905</li><li>906</li><li>907</li><li>908</li><li>909</li><li>910</li><li>911</li><li>912</li><li>913</li><li>914</li><li>915</li><li>917</li><li>918</li><li>923</li><li>924</li><li>925</li><li>926</li><li>927</li><li>928</li><li>929</li><li>931</li><li>932</li><li>934</li><li>935</li><li>936</li><li>937</li><li>938</li><li>939</li><li>940</li><li>942</li><li>943</li><li>944</li><li>945</li><li>946</li><li>947</li><li>948</li><li>949</li><li>950</li><li>951</li><li>952</li><li>953</li><li>954</li><li>955</li><li>956</li><li>957</li><li>958</li><li>960</li><li>962</li><li>963</li><li>964</li><li>966</li><li>967</li><li>968</li><li>969</li><li>970</li><li>971</li><li>972</li><li>973</li><li>975</li><li>976</li><li>977</li><li>978</li><li>979</li><li>981</li><li>982</li><li>983</li><li>984</li><li>985</li><li>986</li><li>987</li><li>989</li><li>990</li><li>991</li><li>993</li><li>994</li><li>995</li><li>996</li><li>997</li><li>998</li><li>999</li><li>1001</li><li>1002</li><li>1005</li><li>1006</li><li>1007</li><li>1008</li><li>1009</li><li>1010</li><li>1011</li><li>1013</li><li>1015</li><li>1016</li><li>1017</li><li>1018</li><li>1019</li><li>1020</li><li>1021</li><li>1022</li><li>1023</li><li>1024</li><li>1027</li><li>1028</li><li>1029</li><li>1030</li><li>1031</li><li>1032</li><li>1033</li><li>1034</li><li>1035</li><li>1036</li><li>1037</li><li>1038</li><li>1039</li><li>1040</li><li>1044</li><li>1046</li><li>1047</li><li>1048</li><li>1050</li><li>1051</li><li>1052</li></ol>\n"
            ]
          },
          "metadata": {}
        },
        {
          "output_type": "stream",
          "name": "stdout",
          "text": [
            "\n",
            "How many observations in training set:"
          ]
        },
        {
          "output_type": "display_data",
          "data": {
            "text/plain": [
              "[1] 789"
            ],
            "text/latex": "789",
            "text/markdown": "789",
            "text/html": [
              "789"
            ]
          },
          "metadata": {}
        }
      ]
    },
    {
      "cell_type": "code",
      "metadata": {
        "colab": {
          "base_uri": "https://localhost:8080/",
          "height": 208
        },
        "id": "qgpCZDrF9RZl",
        "outputId": "1495b88a-7477-46dd-c038-76a4eaa7dd6f"
      },
      "source": [
        "#Obtain the test set\n",
        "test <- rowid[-train]\n",
        "sort(test)\n",
        "\n",
        "cat(\"\\nHow many observations in test set:\")\n",
        "length(test)"
      ],
      "execution_count": 342,
      "outputs": [
        {
          "output_type": "display_data",
          "data": {
            "text/plain": [
              "  [1]    1    3    4    8   10   13   15   18   20   21   22   28   29   30   32\n",
              " [16]   36   40   43   49   50   55   57   58   59   60   62   64   65   68   70\n",
              " [31]   74   75   77   79   85   87   93   96   98  102  108  112  114  119  121\n",
              " [46]  126  128  135  137  141  143  144  148  150  151  154  156  157  159  162\n",
              " [61]  165  166  173  176  177  178  180  186  188  192  194  207  221  222  236\n",
              " [76]  242  247  256  259  268  274  279  280  283  293  297  306  317  318  321\n",
              " [91]  324  327  332  333  336  342  344  346  355  356  358  361  371  383  384\n",
              "[106]  385  388  389  413  418  424  426  427  433  446  448  449  450  451  452\n",
              "[121]  453  455  460  463  464  467  468  469  470  476  478  480  482  486  494\n",
              "[136]  502  507  512  513  515  518  520  522  524  526  530  535  537  539  544\n",
              "[151]  547  549  558  560  573  588  591  597  598  601  604  606  611  617  624\n",
              "[166]  633  642  644  645  649  651  653  661  664  665  668  670  671  678  680\n",
              "[181]  682  686  693  696  701  705  707  708  711  712  717  719  721  723  728\n",
              "[196]  745  747  749  754  762  766  768  771  779  783  784  787  791  793  795\n",
              "[211]  800  807  808  820  821  822  824  828  829  833  837  838  843  847  854\n",
              "[226]  855  861  863  870  878  879  883  894  895  897  900  916  919  920  921\n",
              "[241]  922  930  933  941  959  961  965  974  980  988  992 1000 1003 1004 1012\n",
              "[256] 1014 1025 1026 1041 1042 1043 1045 1049 1053"
            ],
            "text/latex": "\\begin{enumerate*}\n\\item 1\n\\item 3\n\\item 4\n\\item 8\n\\item 10\n\\item 13\n\\item 15\n\\item 18\n\\item 20\n\\item 21\n\\item 22\n\\item 28\n\\item 29\n\\item 30\n\\item 32\n\\item 36\n\\item 40\n\\item 43\n\\item 49\n\\item 50\n\\item 55\n\\item 57\n\\item 58\n\\item 59\n\\item 60\n\\item 62\n\\item 64\n\\item 65\n\\item 68\n\\item 70\n\\item 74\n\\item 75\n\\item 77\n\\item 79\n\\item 85\n\\item 87\n\\item 93\n\\item 96\n\\item 98\n\\item 102\n\\item 108\n\\item 112\n\\item 114\n\\item 119\n\\item 121\n\\item 126\n\\item 128\n\\item 135\n\\item 137\n\\item 141\n\\item 143\n\\item 144\n\\item 148\n\\item 150\n\\item 151\n\\item 154\n\\item 156\n\\item 157\n\\item 159\n\\item 162\n\\item 165\n\\item 166\n\\item 173\n\\item 176\n\\item 177\n\\item 178\n\\item 180\n\\item 186\n\\item 188\n\\item 192\n\\item 194\n\\item 207\n\\item 221\n\\item 222\n\\item 236\n\\item 242\n\\item 247\n\\item 256\n\\item 259\n\\item 268\n\\item 274\n\\item 279\n\\item 280\n\\item 283\n\\item 293\n\\item 297\n\\item 306\n\\item 317\n\\item 318\n\\item 321\n\\item 324\n\\item 327\n\\item 332\n\\item 333\n\\item 336\n\\item 342\n\\item 344\n\\item 346\n\\item 355\n\\item 356\n\\item 358\n\\item 361\n\\item 371\n\\item 383\n\\item 384\n\\item 385\n\\item 388\n\\item 389\n\\item 413\n\\item 418\n\\item 424\n\\item 426\n\\item 427\n\\item 433\n\\item 446\n\\item 448\n\\item 449\n\\item 450\n\\item 451\n\\item 452\n\\item 453\n\\item 455\n\\item 460\n\\item 463\n\\item 464\n\\item 467\n\\item 468\n\\item 469\n\\item 470\n\\item 476\n\\item 478\n\\item 480\n\\item 482\n\\item 486\n\\item 494\n\\item 502\n\\item 507\n\\item 512\n\\item 513\n\\item 515\n\\item 518\n\\item 520\n\\item 522\n\\item 524\n\\item 526\n\\item 530\n\\item 535\n\\item 537\n\\item 539\n\\item 544\n\\item 547\n\\item 549\n\\item 558\n\\item 560\n\\item 573\n\\item 588\n\\item 591\n\\item 597\n\\item 598\n\\item 601\n\\item 604\n\\item 606\n\\item 611\n\\item 617\n\\item 624\n\\item 633\n\\item 642\n\\item 644\n\\item 645\n\\item 649\n\\item 651\n\\item 653\n\\item 661\n\\item 664\n\\item 665\n\\item 668\n\\item 670\n\\item 671\n\\item 678\n\\item 680\n\\item 682\n\\item 686\n\\item 693\n\\item 696\n\\item 701\n\\item 705\n\\item 707\n\\item 708\n\\item 711\n\\item 712\n\\item 717\n\\item 719\n\\item 721\n\\item 723\n\\item 728\n\\item 745\n\\item 747\n\\item 749\n\\item 754\n\\item 762\n\\item 766\n\\item 768\n\\item 771\n\\item 779\n\\item 783\n\\item 784\n\\item 787\n\\item 791\n\\item 793\n\\item 795\n\\item 800\n\\item 807\n\\item 808\n\\item 820\n\\item 821\n\\item 822\n\\item 824\n\\item 828\n\\item 829\n\\item 833\n\\item 837\n\\item 838\n\\item 843\n\\item 847\n\\item 854\n\\item 855\n\\item 861\n\\item 863\n\\item 870\n\\item 878\n\\item 879\n\\item 883\n\\item 894\n\\item 895\n\\item 897\n\\item 900\n\\item 916\n\\item 919\n\\item 920\n\\item 921\n\\item 922\n\\item 930\n\\item 933\n\\item 941\n\\item 959\n\\item 961\n\\item 965\n\\item 974\n\\item 980\n\\item 988\n\\item 992\n\\item 1000\n\\item 1003\n\\item 1004\n\\item 1012\n\\item 1014\n\\item 1025\n\\item 1026\n\\item 1041\n\\item 1042\n\\item 1043\n\\item 1045\n\\item 1049\n\\item 1053\n\\end{enumerate*}\n",
            "text/markdown": "1. 1\n2. 3\n3. 4\n4. 8\n5. 10\n6. 13\n7. 15\n8. 18\n9. 20\n10. 21\n11. 22\n12. 28\n13. 29\n14. 30\n15. 32\n16. 36\n17. 40\n18. 43\n19. 49\n20. 50\n21. 55\n22. 57\n23. 58\n24. 59\n25. 60\n26. 62\n27. 64\n28. 65\n29. 68\n30. 70\n31. 74\n32. 75\n33. 77\n34. 79\n35. 85\n36. 87\n37. 93\n38. 96\n39. 98\n40. 102\n41. 108\n42. 112\n43. 114\n44. 119\n45. 121\n46. 126\n47. 128\n48. 135\n49. 137\n50. 141\n51. 143\n52. 144\n53. 148\n54. 150\n55. 151\n56. 154\n57. 156\n58. 157\n59. 159\n60. 162\n61. 165\n62. 166\n63. 173\n64. 176\n65. 177\n66. 178\n67. 180\n68. 186\n69. 188\n70. 192\n71. 194\n72. 207\n73. 221\n74. 222\n75. 236\n76. 242\n77. 247\n78. 256\n79. 259\n80. 268\n81. 274\n82. 279\n83. 280\n84. 283\n85. 293\n86. 297\n87. 306\n88. 317\n89. 318\n90. 321\n91. 324\n92. 327\n93. 332\n94. 333\n95. 336\n96. 342\n97. 344\n98. 346\n99. 355\n100. 356\n101. 358\n102. 361\n103. 371\n104. 383\n105. 384\n106. 385\n107. 388\n108. 389\n109. 413\n110. 418\n111. 424\n112. 426\n113. 427\n114. 433\n115. 446\n116. 448\n117. 449\n118. 450\n119. 451\n120. 452\n121. 453\n122. 455\n123. 460\n124. 463\n125. 464\n126. 467\n127. 468\n128. 469\n129. 470\n130. 476\n131. 478\n132. 480\n133. 482\n134. 486\n135. 494\n136. 502\n137. 507\n138. 512\n139. 513\n140. 515\n141. 518\n142. 520\n143. 522\n144. 524\n145. 526\n146. 530\n147. 535\n148. 537\n149. 539\n150. 544\n151. 547\n152. 549\n153. 558\n154. 560\n155. 573\n156. 588\n157. 591\n158. 597\n159. 598\n160. 601\n161. 604\n162. 606\n163. 611\n164. 617\n165. 624\n166. 633\n167. 642\n168. 644\n169. 645\n170. 649\n171. 651\n172. 653\n173. 661\n174. 664\n175. 665\n176. 668\n177. 670\n178. 671\n179. 678\n180. 680\n181. 682\n182. 686\n183. 693\n184. 696\n185. 701\n186. 705\n187. 707\n188. 708\n189. 711\n190. 712\n191. 717\n192. 719\n193. 721\n194. 723\n195. 728\n196. 745\n197. 747\n198. 749\n199. 754\n200. 762\n201. 766\n202. 768\n203. 771\n204. 779\n205. 783\n206. 784\n207. 787\n208. 791\n209. 793\n210. 795\n211. 800\n212. 807\n213. 808\n214. 820\n215. 821\n216. 822\n217. 824\n218. 828\n219. 829\n220. 833\n221. 837\n222. 838\n223. 843\n224. 847\n225. 854\n226. 855\n227. 861\n228. 863\n229. 870\n230. 878\n231. 879\n232. 883\n233. 894\n234. 895\n235. 897\n236. 900\n237. 916\n238. 919\n239. 920\n240. 921\n241. 922\n242. 930\n243. 933\n244. 941\n245. 959\n246. 961\n247. 965\n248. 974\n249. 980\n250. 988\n251. 992\n252. 1000\n253. 1003\n254. 1004\n255. 1012\n256. 1014\n257. 1025\n258. 1026\n259. 1041\n260. 1042\n261. 1043\n262. 1045\n263. 1049\n264. 1053\n\n\n",
            "text/html": [
              "<style>\n",
              ".list-inline {list-style: none; margin:0; padding: 0}\n",
              ".list-inline>li {display: inline-block}\n",
              ".list-inline>li:not(:last-child)::after {content: \"\\00b7\"; padding: 0 .5ex}\n",
              "</style>\n",
              "<ol class=list-inline><li>1</li><li>3</li><li>4</li><li>8</li><li>10</li><li>13</li><li>15</li><li>18</li><li>20</li><li>21</li><li>22</li><li>28</li><li>29</li><li>30</li><li>32</li><li>36</li><li>40</li><li>43</li><li>49</li><li>50</li><li>55</li><li>57</li><li>58</li><li>59</li><li>60</li><li>62</li><li>64</li><li>65</li><li>68</li><li>70</li><li>74</li><li>75</li><li>77</li><li>79</li><li>85</li><li>87</li><li>93</li><li>96</li><li>98</li><li>102</li><li>108</li><li>112</li><li>114</li><li>119</li><li>121</li><li>126</li><li>128</li><li>135</li><li>137</li><li>141</li><li>143</li><li>144</li><li>148</li><li>150</li><li>151</li><li>154</li><li>156</li><li>157</li><li>159</li><li>162</li><li>165</li><li>166</li><li>173</li><li>176</li><li>177</li><li>178</li><li>180</li><li>186</li><li>188</li><li>192</li><li>194</li><li>207</li><li>221</li><li>222</li><li>236</li><li>242</li><li>247</li><li>256</li><li>259</li><li>268</li><li>274</li><li>279</li><li>280</li><li>283</li><li>293</li><li>297</li><li>306</li><li>317</li><li>318</li><li>321</li><li>324</li><li>327</li><li>332</li><li>333</li><li>336</li><li>342</li><li>344</li><li>346</li><li>355</li><li>356</li><li>358</li><li>361</li><li>371</li><li>383</li><li>384</li><li>385</li><li>388</li><li>389</li><li>413</li><li>418</li><li>424</li><li>426</li><li>427</li><li>433</li><li>446</li><li>448</li><li>449</li><li>450</li><li>451</li><li>452</li><li>453</li><li>455</li><li>460</li><li>463</li><li>464</li><li>467</li><li>468</li><li>469</li><li>470</li><li>476</li><li>478</li><li>480</li><li>482</li><li>486</li><li>494</li><li>502</li><li>507</li><li>512</li><li>513</li><li>515</li><li>518</li><li>520</li><li>522</li><li>524</li><li>526</li><li>530</li><li>535</li><li>537</li><li>539</li><li>544</li><li>547</li><li>549</li><li>558</li><li>560</li><li>573</li><li>588</li><li>591</li><li>597</li><li>598</li><li>601</li><li>604</li><li>606</li><li>611</li><li>617</li><li>624</li><li>633</li><li>642</li><li>644</li><li>645</li><li>649</li><li>651</li><li>653</li><li>661</li><li>664</li><li>665</li><li>668</li><li>670</li><li>671</li><li>678</li><li>680</li><li>682</li><li>686</li><li>693</li><li>696</li><li>701</li><li>705</li><li>707</li><li>708</li><li>711</li><li>712</li><li>717</li><li>719</li><li>721</li><li>723</li><li>728</li><li>745</li><li>747</li><li>749</li><li>754</li><li>762</li><li>766</li><li>768</li><li>771</li><li>779</li><li>783</li><li>784</li><li>787</li><li>791</li><li>793</li><li>795</li><li>800</li><li>807</li><li>808</li><li>820</li><li>821</li><li>822</li><li>824</li><li>828</li><li>829</li><li>833</li><li>837</li><li>838</li><li>843</li><li>847</li><li>854</li><li>855</li><li>861</li><li>863</li><li>870</li><li>878</li><li>879</li><li>883</li><li>894</li><li>895</li><li>897</li><li>900</li><li>916</li><li>919</li><li>920</li><li>921</li><li>922</li><li>930</li><li>933</li><li>941</li><li>959</li><li>961</li><li>965</li><li>974</li><li>980</li><li>988</li><li>992</li><li>1000</li><li>1003</li><li>1004</li><li>1012</li><li>1014</li><li>1025</li><li>1026</li><li>1041</li><li>1042</li><li>1043</li><li>1045</li><li>1049</li><li>1053</li></ol>\n"
            ]
          },
          "metadata": {}
        },
        {
          "output_type": "stream",
          "name": "stdout",
          "text": [
            "\n",
            "How many observations in test set:"
          ]
        },
        {
          "output_type": "display_data",
          "data": {
            "text/plain": [
              "[1] 264"
            ],
            "text/latex": "264",
            "text/markdown": "264",
            "text/html": [
              "264"
            ]
          },
          "metadata": {}
        }
      ]
    },
    {
      "cell_type": "markdown",
      "metadata": {
        "id": "fC0X_CIn-Sfu"
      },
      "source": [
        "Step #2: Fit the model usign the Training set"
      ]
    },
    {
      "cell_type": "code",
      "metadata": {
        "id": "uwhl-AVZ-SmN"
      },
      "source": [
        "Model3_Training <- lm(TeacherTurnoverRate ~ Avg_TeacherSalary, data=TeacherTurnover[train,])"
      ],
      "execution_count": 345,
      "outputs": []
    },
    {
      "cell_type": "markdown",
      "metadata": {
        "id": "mg39Si-A-6jP"
      },
      "source": [
        "Step #3: Make predictions for observations in Test set and obtain RMSE from these predictions"
      ]
    },
    {
      "cell_type": "code",
      "metadata": {
        "colab": {
          "base_uri": "https://localhost:8080/",
          "height": 181
        },
        "id": "HcTLweLf-6pd",
        "outputId": "922ae734-4306-4e10-fc61-bd423f3aa92a"
      },
      "source": [
        "TeacherTurnover_TestPredictions <- (TeacherTurnover[test,]\n",
        "    %>% mutate(Predicted = predict(Model3_Training, newdata=TeacherTurnover[test,]))\n",
        "    %>% mutate(Residual = (TeacherTurnoverRate - Predicted))\n",
        "    %>% mutate(Residual_Squared = Residual^2)\n",
        ")\n",
        "\n",
        "cat(\"\\n RMSE & R2 via Train / Test Cross Validation:\\n\\n\")\n",
        "(TeacherTurnover_TestPredictions\n",
        "   %>% drop_na()\n",
        "   %>% summarize(RMSE = sqrt(mean(Residual_Squared)), \n",
        "                 R2 = cor(TeacherTurnoverRate, Predicted)^2 \n",
        "                )\n",
        ")"
      ],
      "execution_count": 346,
      "outputs": [
        {
          "output_type": "stream",
          "name": "stdout",
          "text": [
            "\n",
            " RMSE & R2 via Train / Test Cross Validation:\n",
            "\n"
          ]
        },
        {
          "output_type": "display_data",
          "data": {
            "text/plain": [
              "  RMSE     R2       \n",
              "1 11.05943 0.1944627"
            ],
            "text/latex": "A tibble: 1 × 2\n\\begin{tabular}{ll}\n RMSE & R2\\\\\n <dbl> & <dbl>\\\\\n\\hline\n\t 11.05943 & 0.1944627\\\\\n\\end{tabular}\n",
            "text/markdown": "\nA tibble: 1 × 2\n\n| RMSE &lt;dbl&gt; | R2 &lt;dbl&gt; |\n|---|---|\n| 11.05943 | 0.1944627 |\n\n",
            "text/html": [
              "<table class=\"dataframe\">\n",
              "<caption>A tibble: 1 × 2</caption>\n",
              "<thead>\n",
              "\t<tr><th scope=col>RMSE</th><th scope=col>R2</th></tr>\n",
              "\t<tr><th scope=col>&lt;dbl&gt;</th><th scope=col>&lt;dbl&gt;</th></tr>\n",
              "</thead>\n",
              "<tbody>\n",
              "\t<tr><td>11.05943</td><td>0.1944627</td></tr>\n",
              "</tbody>\n",
              "</table>\n"
            ]
          },
          "metadata": {}
        }
      ]
    },
    {
      "cell_type": "markdown",
      "metadata": {
        "id": "NoUevnUgKm1B"
      },
      "source": [
        "\n",
        "\n",
        "---\n",
        "\n",
        "\n",
        "\n",
        "---\n",
        "\n"
      ]
    },
    {
      "cell_type": "markdown",
      "metadata": {
        "id": "90f08_XEcC3h"
      },
      "source": [
        "## Train / Test or Split Sample via caret package"
      ]
    },
    {
      "cell_type": "markdown",
      "metadata": {
        "id": "xcd3dS_1d3h8"
      },
      "source": [
        "The following code apply the Train / Test (or split-sample) cross-validation to our data/model.  The setup of the cross-validation settings are specifed here.\n",
        "\n",
        "*   The <strong>boot</strong> (short for bootstrap) method is specifed for the split-sample approach\n",
        "*   The proportion of observations used in the training set will be $75\\%$\n",
        "*   Only 1 instance of the split-sample process will be done here\n",
        "\n",
        "Next, consider the following implementation for our data/model.\n",
        "\n"
      ]
    },
    {
      "cell_type": "code",
      "metadata": {
        "colab": {
          "base_uri": "https://localhost:8080/",
          "height": 260
        },
        "id": "47EYAvlLSSrt",
        "outputId": "df4bec98-c2f2-4dfe-f359-4a99aecde7c6"
      },
      "source": [
        "#Using the caret package to conduct a split-sample cross validation\n",
        "#The cross-validation settings are set with the trainControl() function.\n",
        "#Here, the boot (bootstrap) is being specifed with p=75%, only 1 split-sample will run\n",
        "cv_settings <- trainControl(method = \"boot\", p=0.75, number=1)\n",
        "\n",
        "model_caret <- train(TeacherTurnoverRate ~ Avg_TeacherSalary,   # model to fit\n",
        "                     data = TeacherTurnover,                    # data used for the fit     \n",
        "                     trControl = cv_settings,                   # settings for cross-validation\n",
        "                     method = \"lm\",                             # specifying a regression model\n",
        "                     na.action = na.pass                        # helps with NA\n",
        "                    )\n",
        "\n",
        "#Print the output\n",
        "model_caret         "
      ],
      "execution_count": 391,
      "outputs": [
        {
          "output_type": "display_data",
          "data": {
            "text/plain": [
              "Linear Regression \n",
              "\n",
              "1053 samples\n",
              "   1 predictor\n",
              "\n",
              "No pre-processing\n",
              "Resampling: Bootstrapped (1 reps) \n",
              "Summary of sample sizes: 1053 \n",
              "Resampling results:\n",
              "\n",
              "  RMSE      Rsquared   MAE     \n",
              "  10.53836  0.1876332  7.518072\n",
              "\n",
              "Tuning parameter 'intercept' was held constant at a value of TRUE"
            ]
          },
          "metadata": {}
        }
      ]
    },
    {
      "cell_type": "markdown",
      "metadata": {
        "id": "IHXv1WJSkthu"
      },
      "source": [
        "## K-Fold Cross-Validation via the caret package"
      ]
    },
    {
      "cell_type": "markdown",
      "metadata": {
        "id": "xK6winMnmpi_"
      },
      "source": [
        "The following snip-it of code can be used to conduct K-Fold cross-validation using the caret package for our data/model.\n",
        "\n",
        "*    cv should be specified as the method for k-fold\n",
        "*    the number of folds is specified via number in the trainControl() function\n"
      ]
    },
    {
      "cell_type": "code",
      "metadata": {
        "colab": {
          "base_uri": "https://localhost:8080/",
          "height": 260
        },
        "id": "kp_STMHVktpl",
        "outputId": "92b55aec-2444-45f1-94d3-84f9751c2d5f"
      },
      "source": [
        "#Using the caret package to conduct a k-fold cross validation\n",
        "#The cross-validation settings are set with the trainControl() function.\n",
        "#Here, the cv method is being specifed for K-Fold and the number of folds is 8\n",
        "cv_settings <- trainControl(method = \"cv\", number=8)\n",
        "\n",
        "\n",
        "model_caret <- train(TeacherTurnoverRate ~ Avg_TeacherSalary,   # model to fit\n",
        "                     data = TeacherTurnover,                    # data used for the fit     \n",
        "                     trControl = cv_settings,                   # settings for cross-validation\n",
        "                     method = \"lm\",                             # specifying a regression model\n",
        "                     na.action = na.pass                        # helps with NA\n",
        "                    )\n",
        "\n",
        "#Print the cross-validation output\n",
        "model_caret  "
      ],
      "execution_count": 398,
      "outputs": [
        {
          "output_type": "display_data",
          "data": {
            "text/plain": [
              "Linear Regression \n",
              "\n",
              "1053 samples\n",
              "   1 predictor\n",
              "\n",
              "No pre-processing\n",
              "Resampling: Cross-Validated (8 fold) \n",
              "Summary of sample sizes: 921, 921, 922, 921, 922, 921, ... \n",
              "Resampling results:\n",
              "\n",
              "  RMSE      Rsquared   MAE     \n",
              "  10.02486  0.1814748  7.167916\n",
              "\n",
              "Tuning parameter 'intercept' was held constant at a value of TRUE"
            ]
          },
          "metadata": {}
        }
      ]
    },
    {
      "cell_type": "markdown",
      "metadata": {
        "id": "_jhW67mRmwhm"
      },
      "source": [
        "The actual statistics from each fold can be captured from the model_caret object as is shown here."
      ]
    },
    {
      "cell_type": "code",
      "metadata": {
        "colab": {
          "base_uri": "https://localhost:8080/",
          "height": 349
        },
        "id": "JaYB6bW-mws2",
        "outputId": "90e5ed28-7a2d-4eb9-afea-d699d1daddfb"
      },
      "source": [
        "KFold_Outcomes <- model_caret$resample\n",
        "KFold_Outcomes"
      ],
      "execution_count": 405,
      "outputs": [
        {
          "output_type": "display_data",
          "data": {
            "text/plain": [
              "  RMSE      Rsquared  MAE      Resample\n",
              "1  9.466924 0.1063208 7.167671 Fold1   \n",
              "2  9.227486 0.1796114 6.712111 Fold2   \n",
              "3  9.076365 0.1888829 6.591585 Fold3   \n",
              "4  9.485491 0.1298998 6.955973 Fold4   \n",
              "5  9.763006 0.2316204 7.396386 Fold5   \n",
              "6 10.132247 0.2016108 6.992389 Fold6   \n",
              "7 11.907093 0.2110928 8.025416 Fold7   \n",
              "8 11.140250 0.2027591 7.501800 Fold8   "
            ],
            "text/latex": "A data.frame: 8 × 4\n\\begin{tabular}{llll}\n RMSE & Rsquared & MAE & Resample\\\\\n <dbl> & <dbl> & <dbl> & <chr>\\\\\n\\hline\n\t  9.466924 & 0.1063208 & 7.167671 & Fold1\\\\\n\t  9.227486 & 0.1796114 & 6.712111 & Fold2\\\\\n\t  9.076365 & 0.1888829 & 6.591585 & Fold3\\\\\n\t  9.485491 & 0.1298998 & 6.955973 & Fold4\\\\\n\t  9.763006 & 0.2316204 & 7.396386 & Fold5\\\\\n\t 10.132247 & 0.2016108 & 6.992389 & Fold6\\\\\n\t 11.907093 & 0.2110928 & 8.025416 & Fold7\\\\\n\t 11.140250 & 0.2027591 & 7.501800 & Fold8\\\\\n\\end{tabular}\n",
            "text/markdown": "\nA data.frame: 8 × 4\n\n| RMSE &lt;dbl&gt; | Rsquared &lt;dbl&gt; | MAE &lt;dbl&gt; | Resample &lt;chr&gt; |\n|---|---|---|---|\n|  9.466924 | 0.1063208 | 7.167671 | Fold1 |\n|  9.227486 | 0.1796114 | 6.712111 | Fold2 |\n|  9.076365 | 0.1888829 | 6.591585 | Fold3 |\n|  9.485491 | 0.1298998 | 6.955973 | Fold4 |\n|  9.763006 | 0.2316204 | 7.396386 | Fold5 |\n| 10.132247 | 0.2016108 | 6.992389 | Fold6 |\n| 11.907093 | 0.2110928 | 8.025416 | Fold7 |\n| 11.140250 | 0.2027591 | 7.501800 | Fold8 |\n\n",
            "text/html": [
              "<table class=\"dataframe\">\n",
              "<caption>A data.frame: 8 × 4</caption>\n",
              "<thead>\n",
              "\t<tr><th scope=col>RMSE</th><th scope=col>Rsquared</th><th scope=col>MAE</th><th scope=col>Resample</th></tr>\n",
              "\t<tr><th scope=col>&lt;dbl&gt;</th><th scope=col>&lt;dbl&gt;</th><th scope=col>&lt;dbl&gt;</th><th scope=col>&lt;chr&gt;</th></tr>\n",
              "</thead>\n",
              "<tbody>\n",
              "\t<tr><td> 9.466924</td><td>0.1063208</td><td>7.167671</td><td>Fold1</td></tr>\n",
              "\t<tr><td> 9.227486</td><td>0.1796114</td><td>6.712111</td><td>Fold2</td></tr>\n",
              "\t<tr><td> 9.076365</td><td>0.1888829</td><td>6.591585</td><td>Fold3</td></tr>\n",
              "\t<tr><td> 9.485491</td><td>0.1298998</td><td>6.955973</td><td>Fold4</td></tr>\n",
              "\t<tr><td> 9.763006</td><td>0.2316204</td><td>7.396386</td><td>Fold5</td></tr>\n",
              "\t<tr><td>10.132247</td><td>0.2016108</td><td>6.992389</td><td>Fold6</td></tr>\n",
              "\t<tr><td>11.907093</td><td>0.2110928</td><td>8.025416</td><td>Fold7</td></tr>\n",
              "\t<tr><td>11.140250</td><td>0.2027591</td><td>7.501800</td><td>Fold8</td></tr>\n",
              "</tbody>\n",
              "</table>\n"
            ]
          },
          "metadata": {}
        }
      ]
    },
    {
      "cell_type": "markdown",
      "metadata": {
        "id": "Mr9Sl0vjn0wV"
      },
      "source": [
        "In order to plot these statistics easily, the data.frame will be put into a stacked format."
      ]
    },
    {
      "cell_type": "code",
      "metadata": {
        "colab": {
          "base_uri": "https://localhost:8080/",
          "height": 286
        },
        "id": "Pk9LQAZvn03l",
        "outputId": "09079b4f-cc57-40f8-d7ea-1d2d6e567012"
      },
      "source": [
        "KFold_Outcomes_Stacked <- (\n",
        "                    KFold_Outcomes \n",
        "                    %>% pivot_longer(c(RMSE, Rsquared, MAE), names_to = \"Statistic\", values_to = \"Value\")\n",
        ")\n",
        "head(KFold_Outcomes_Stacked)"
      ],
      "execution_count": 408,
      "outputs": [
        {
          "output_type": "display_data",
          "data": {
            "text/plain": [
              "  Resample Statistic Value    \n",
              "1 Fold1    RMSE      9.4669242\n",
              "2 Fold1    Rsquared  0.1063208\n",
              "3 Fold1    MAE       7.1676710\n",
              "4 Fold2    RMSE      9.2274859\n",
              "5 Fold2    Rsquared  0.1796114\n",
              "6 Fold2    MAE       6.7121106"
            ],
            "text/latex": "A tibble: 6 × 3\n\\begin{tabular}{lll}\n Resample & Statistic & Value\\\\\n <chr> & <chr> & <dbl>\\\\\n\\hline\n\t Fold1 & RMSE     & 9.4669242\\\\\n\t Fold1 & Rsquared & 0.1063208\\\\\n\t Fold1 & MAE      & 7.1676710\\\\\n\t Fold2 & RMSE     & 9.2274859\\\\\n\t Fold2 & Rsquared & 0.1796114\\\\\n\t Fold2 & MAE      & 6.7121106\\\\\n\\end{tabular}\n",
            "text/markdown": "\nA tibble: 6 × 3\n\n| Resample &lt;chr&gt; | Statistic &lt;chr&gt; | Value &lt;dbl&gt; |\n|---|---|---|\n| Fold1 | RMSE     | 9.4669242 |\n| Fold1 | Rsquared | 0.1063208 |\n| Fold1 | MAE      | 7.1676710 |\n| Fold2 | RMSE     | 9.2274859 |\n| Fold2 | Rsquared | 0.1796114 |\n| Fold2 | MAE      | 6.7121106 |\n\n",
            "text/html": [
              "<table class=\"dataframe\">\n",
              "<caption>A tibble: 6 × 3</caption>\n",
              "<thead>\n",
              "\t<tr><th scope=col>Resample</th><th scope=col>Statistic</th><th scope=col>Value</th></tr>\n",
              "\t<tr><th scope=col>&lt;chr&gt;</th><th scope=col>&lt;chr&gt;</th><th scope=col>&lt;dbl&gt;</th></tr>\n",
              "</thead>\n",
              "<tbody>\n",
              "\t<tr><td>Fold1</td><td>RMSE    </td><td>9.4669242</td></tr>\n",
              "\t<tr><td>Fold1</td><td>Rsquared</td><td>0.1063208</td></tr>\n",
              "\t<tr><td>Fold1</td><td>MAE     </td><td>7.1676710</td></tr>\n",
              "\t<tr><td>Fold2</td><td>RMSE    </td><td>9.2274859</td></tr>\n",
              "\t<tr><td>Fold2</td><td>Rsquared</td><td>0.1796114</td></tr>\n",
              "\t<tr><td>Fold2</td><td>MAE     </td><td>6.7121106</td></tr>\n",
              "</tbody>\n",
              "</table>\n"
            ]
          },
          "metadata": {}
        }
      ]
    },
    {
      "cell_type": "code",
      "metadata": {
        "colab": {
          "base_uri": "https://localhost:8080/",
          "height": 192
        },
        "id": "tBiqgwXBqgzB",
        "outputId": "faf14c60-d3e0-42b9-8b31-f6f7d94a9878"
      },
      "source": [
        "(KFold_Outcomes_Stacked\n",
        "  %>% group_by(Statistic)\n",
        "  %>% summarize(Mean = mean(Value), Range = max(Value) - min(Value))\n",
        ")"
      ],
      "execution_count": 429,
      "outputs": [
        {
          "output_type": "display_data",
          "data": {
            "text/plain": [
              "  Statistic Mean       Range    \n",
              "1 MAE        7.1679164 1.4338313\n",
              "2 RMSE      10.0248578 2.8307284\n",
              "3 Rsquared   0.1814748 0.1252996"
            ],
            "text/latex": "A tibble: 3 × 3\n\\begin{tabular}{lll}\n Statistic & Mean & Range\\\\\n <chr> & <dbl> & <dbl>\\\\\n\\hline\n\t MAE      &  7.1679164 & 1.4338313\\\\\n\t RMSE     & 10.0248578 & 2.8307284\\\\\n\t Rsquared &  0.1814748 & 0.1252996\\\\\n\\end{tabular}\n",
            "text/markdown": "\nA tibble: 3 × 3\n\n| Statistic &lt;chr&gt; | Mean &lt;dbl&gt; | Range &lt;dbl&gt; |\n|---|---|---|\n| MAE      |  7.1679164 | 1.4338313 |\n| RMSE     | 10.0248578 | 2.8307284 |\n| Rsquared |  0.1814748 | 0.1252996 |\n\n",
            "text/html": [
              "<table class=\"dataframe\">\n",
              "<caption>A tibble: 3 × 3</caption>\n",
              "<thead>\n",
              "\t<tr><th scope=col>Statistic</th><th scope=col>Mean</th><th scope=col>Range</th></tr>\n",
              "\t<tr><th scope=col>&lt;chr&gt;</th><th scope=col>&lt;dbl&gt;</th><th scope=col>&lt;dbl&gt;</th></tr>\n",
              "</thead>\n",
              "<tbody>\n",
              "\t<tr><td>MAE     </td><td> 7.1679164</td><td>1.4338313</td></tr>\n",
              "\t<tr><td>RMSE    </td><td>10.0248578</td><td>2.8307284</td></tr>\n",
              "\t<tr><td>Rsquared</td><td> 0.1814748</td><td>0.1252996</td></tr>\n",
              "</tbody>\n",
              "</table>\n"
            ]
          },
          "metadata": {}
        }
      ]
    },
    {
      "cell_type": "code",
      "metadata": {
        "colab": {
          "base_uri": "https://localhost:8080/",
          "height": 472
        },
        "id": "8TPBhYd2nNZn",
        "outputId": "24fdc6ed-85d1-4ded-cff7-4c795c3822e0"
      },
      "source": [
        "ggplot(KFold_Outcomes_Stacked, aes(x=Value)) +\n",
        " geom_dotplot() +\n",
        " facet_grid(. ~ Statistic, scales = \"free_x\") "
      ],
      "execution_count": 427,
      "outputs": [
        {
          "output_type": "stream",
          "name": "stderr",
          "text": [
            "Bin width defaults to 1/30 of the range of the data. Pick better value with `binwidth`.\n",
            "\n"
          ]
        },
        {
          "output_type": "display_data",
          "data": {
            "image/png": "[encoded data removed]",
            "text/plain": [
              "plot without title"
            ]
          },
          "metadata": {
            "image/png": {
              "width": 420,
              "height": 420
            }
          }
        }
      ]
    },
    {
      "cell_type": "markdown",
      "metadata": {
        "id": "wZ67bt21uxMa"
      },
      "source": [
        "\n",
        "\n",
        "---\n",
        "\n",
        "\n",
        "\n",
        "---\n",
        "\n"
      ]
    },
    {
      "cell_type": "markdown",
      "metadata": {
        "id": "tMSM0q8RuzVS"
      },
      "source": [
        "## Monte Carlo via caret package"
      ]
    },
    {
      "cell_type": "code",
      "metadata": {
        "colab": {
          "base_uri": "https://localhost:8080/",
          "height": 260
        },
        "id": "Ke7wAzkQuxSr",
        "outputId": "d1d18f60-7358-4410-beb6-a4865c19f08d"
      },
      "source": [
        "#Using the caret package to conduct monte carlo cross validation\n",
        "#Here, the boot (bootstrap) is being specifed with p=75%, 100 repeated splits will be done\n",
        "cv_settings <- trainControl(method = \"boot\", p=0.75, number=500)\n",
        "\n",
        "model_caret <- train(TeacherTurnoverRate ~ Avg_TeacherSalary,   # model to fit\n",
        "                     data = TeacherTurnover,                    # data used for the fit     \n",
        "                     trControl = cv_settings,                   # settings for cross-validation\n",
        "                     method = \"lm\",                             # specifying a regression model\n",
        "                     na.action = na.pass                        # helps with NA\n",
        "                    )\n",
        "\n",
        "#Print the output\n",
        "model_caret  "
      ],
      "execution_count": 431,
      "outputs": [
        {
          "output_type": "display_data",
          "data": {
            "text/plain": [
              "Linear Regression \n",
              "\n",
              "1053 samples\n",
              "   1 predictor\n",
              "\n",
              "No pre-processing\n",
              "Resampling: Bootstrapped (500 reps) \n",
              "Summary of sample sizes: 1053, 1053, 1053, 1053, 1053, 1053, ... \n",
              "Resampling results:\n",
              "\n",
              "  RMSE      Rsquared   MAE     \n",
              "  10.08282  0.1839839  7.182532\n",
              "\n",
              "Tuning parameter 'intercept' was held constant at a value of TRUE"
            ]
          },
          "metadata": {}
        }
      ]
    },
    {
      "cell_type": "markdown",
      "metadata": {
        "id": "tRIielF-vWU0"
      },
      "source": [
        "Getting some summaries from the b=500 repeated split-sample cross-validation outcomes."
      ]
    },
    {
      "cell_type": "code",
      "metadata": {
        "colab": {
          "base_uri": "https://localhost:8080/",
          "height": 647
        },
        "id": "dGkEP8zvvWb7",
        "outputId": "211bc553-e878-4e51-9464-a51d2e74d8ba"
      },
      "source": [
        "#Save the resample outcomes\n",
        "KFold_Outcomes <- model_caret$resample\n",
        "\n",
        "#Stack the outcome for easier summaries / plotting\n",
        "KFold_Outcomes_Stacked <- (\n",
        "                    KFold_Outcomes \n",
        "                    %>% pivot_longer(c(RMSE, Rsquared, MAE), names_to = \"Statistic\", values_to = \"Value\")\n",
        ")\n",
        "\n",
        "#Getting some basic summaries\n",
        "(KFold_Outcomes_Stacked\n",
        "  %>% group_by(Statistic)\n",
        "  %>% summarize(Mean = mean(Value), Range = max(Value) - min(Value), Count = n())\n",
        ")\n",
        "\n",
        "#Creating some simple dotplots of the outcomes\n",
        "ggplot(KFold_Outcomes_Stacked, aes(x=Value)) +\n",
        " geom_dotplot() +\n",
        " facet_grid(. ~ Statistic, scales = \"free_x\") "
      ],
      "execution_count": 435,
      "outputs": [
        {
          "output_type": "display_data",
          "data": {
            "text/plain": [
              "  Statistic Mean       Range     Count\n",
              "1 MAE        7.1825320 1.6645341 500  \n",
              "2 RMSE      10.0828192 3.4783380 500  \n",
              "3 Rsquared   0.1839839 0.1997111 500  "
            ],
            "text/latex": "A tibble: 3 × 4\n\\begin{tabular}{llll}\n Statistic & Mean & Range & Count\\\\\n <chr> & <dbl> & <dbl> & <int>\\\\\n\\hline\n\t MAE      &  7.1825320 & 1.6645341 & 500\\\\\n\t RMSE     & 10.0828192 & 3.4783380 & 500\\\\\n\t Rsquared &  0.1839839 & 0.1997111 & 500\\\\\n\\end{tabular}\n",
            "text/markdown": "\nA tibble: 3 × 4\n\n| Statistic &lt;chr&gt; | Mean &lt;dbl&gt; | Range &lt;dbl&gt; | Count &lt;int&gt; |\n|---|---|---|---|\n| MAE      |  7.1825320 | 1.6645341 | 500 |\n| RMSE     | 10.0828192 | 3.4783380 | 500 |\n| Rsquared |  0.1839839 | 0.1997111 | 500 |\n\n",
            "text/html": [
              "<table class=\"dataframe\">\n",
              "<caption>A tibble: 3 × 4</caption>\n",
              "<thead>\n",
              "\t<tr><th scope=col>Statistic</th><th scope=col>Mean</th><th scope=col>Range</th><th scope=col>Count</th></tr>\n",
              "\t<tr><th scope=col>&lt;chr&gt;</th><th scope=col>&lt;dbl&gt;</th><th scope=col>&lt;dbl&gt;</th><th scope=col>&lt;int&gt;</th></tr>\n",
              "</thead>\n",
              "<tbody>\n",
              "\t<tr><td>MAE     </td><td> 7.1825320</td><td>1.6645341</td><td>500</td></tr>\n",
              "\t<tr><td>RMSE    </td><td>10.0828192</td><td>3.4783380</td><td>500</td></tr>\n",
              "\t<tr><td>Rsquared</td><td> 0.1839839</td><td>0.1997111</td><td>500</td></tr>\n",
              "</tbody>\n",
              "</table>\n"
            ]
          },
          "metadata": {}
        },
        {
          "output_type": "stream",
          "name": "stderr",
          "text": [
            "Bin width defaults to 1/30 of the range of the data. Pick better value with `binwidth`.\n",
            "\n"
          ]
        },
        {
          "output_type": "display_data",
          "data": {
            "image/png": "[encoded data removed]",
            "text/plain": [
              "plot without title"
            ]
          },
          "metadata": {
            "image/png": {
              "width": 420,
              "height": 420
            }
          }
        }
      ]
    },
    {
      "cell_type": "markdown",
      "metadata": {
        "id": "9kkg1lL30Rfw"
      },
      "source": [
        "End of Document"
      ]
    }
  ]
}