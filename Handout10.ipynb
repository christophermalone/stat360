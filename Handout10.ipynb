{
  "nbformat": 4,
  "nbformat_minor": 0,
  "metadata": {
    "colab": {
      "name": "Handout10.ipynb",
      "provenance": [],
      "collapsed_sections": [],
      "authorship_tag": "ABX9TyN8AxI4HwkqxNrFFkDhsdEJ",
      "include_colab_link": true
    },
    "kernelspec": {
      "display_name": "R",
      "name": "ir"
    }
  },
  "cells": [
    {
      "cell_type": "markdown",
      "metadata": {
        "id": "view-in-github",
        "colab_type": "text"
      },
      "source": [
        "<a href=\"https://colab.research.google.com/github/christophermalone/stat360/blob/main/Handout10.ipynb\" target=\"_parent\"><img src=\"https://colab.research.google.com/assets/colab-badge.svg\" alt=\"Open In Colab\"/></a>"
      ]
    },
    {
      "cell_type": "markdown",
      "metadata": {
        "id": "KhClO9b02SXA"
      },
      "source": [
        "# Handout #10 : The \"Leave-One-Out\" Concept, i.e. Jackknife"
      ]
    },
    {
      "cell_type": "markdown",
      "metadata": {
        "id": "njXGRUIC9Lgs"
      },
      "source": [
        "## Load Tidyverse"
      ]
    },
    {
      "cell_type": "markdown",
      "metadata": {
        "id": "FoT1NFX3DncH"
      },
      "source": [
        "The tidyverse R package will be used to assist with reading in the dataset into the current R session."
      ]
    },
    {
      "cell_type": "code",
      "metadata": {
        "id": "LgaibuX_DtWK",
        "colab": {
          "base_uri": "https://localhost:8080/"
        },
        "outputId": "d40b87cb-2c32-4f2a-bc23-d6cb6cd55892"
      },
      "source": [
        "#@title Load Tidyverse\n",
        "#load tidyverse package\n",
        "library(tidyverse)"
      ],
      "execution_count": 1,
      "outputs": [
        {
          "output_type": "stream",
          "name": "stderr",
          "text": [
            "Warning message in system(\"timedatectl\", intern = TRUE):\n",
            "“running command 'timedatectl' had status 1”\n",
            "── \u001b[1mAttaching packages\u001b[22m ─────────────────────────────────────── tidyverse 1.3.1 ──\n",
            "\n",
            "\u001b[32m✔\u001b[39m \u001b[34mggplot2\u001b[39m 3.3.5     \u001b[32m✔\u001b[39m \u001b[34mpurrr  \u001b[39m 0.3.4\n",
            "\u001b[32m✔\u001b[39m \u001b[34mtibble \u001b[39m 3.1.5     \u001b[32m✔\u001b[39m \u001b[34mdplyr  \u001b[39m 1.0.7\n",
            "\u001b[32m✔\u001b[39m \u001b[34mtidyr  \u001b[39m 1.1.4     \u001b[32m✔\u001b[39m \u001b[34mstringr\u001b[39m 1.4.0\n",
            "\u001b[32m✔\u001b[39m \u001b[34mreadr  \u001b[39m 2.0.2     \u001b[32m✔\u001b[39m \u001b[34mforcats\u001b[39m 0.5.1\n",
            "\n",
            "── \u001b[1mConflicts\u001b[22m ────────────────────────────────────────── tidyverse_conflicts() ──\n",
            "\u001b[31m✖\u001b[39m \u001b[34mdplyr\u001b[39m::\u001b[32mfilter()\u001b[39m masks \u001b[34mstats\u001b[39m::filter()\n",
            "\u001b[31m✖\u001b[39m \u001b[34mdplyr\u001b[39m::\u001b[32mlag()\u001b[39m    masks \u001b[34mstats\u001b[39m::lag()\n",
            "\n"
          ]
        }
      ]
    },
    {
      "cell_type": "markdown",
      "metadata": {
        "id": "u7fj-9Y5Wr8r"
      },
      "source": [
        "\n",
        "\n",
        "---\n",
        "\n",
        "\n"
      ]
    },
    {
      "cell_type": "markdown",
      "metadata": {
        "id": "DPqIPen9D5T3"
      },
      "source": [
        "## Simple Case: \"Leave-One-Out\" for a Mean"
      ]
    },
    {
      "cell_type": "markdown",
      "metadata": {
        "id": "hhvtHAS3MFZ3"
      },
      "source": [
        "Let's suppose we have a simple data vector, say $\\bf{y}$.\n",
        "\n",
        "$$\\bf{y} = \\begin{bmatrix}\n",
        "2 \\\\\n",
        "3 \\\\\n",
        "5 \\\\\n",
        "8 \\\\\n",
        "10 \\\\\n",
        "\\end{bmatrix}$$\n"
      ]
    },
    {
      "cell_type": "markdown",
      "metadata": {
        "id": "r38Z6RaLR4hL"
      },
      "source": [
        "Putting this vector into R."
      ]
    },
    {
      "cell_type": "code",
      "metadata": {
        "id": "E-ETftbYR4qI"
      },
      "source": [
        "y <- c(2, 3, 5, 8, 10)"
      ],
      "execution_count": 2,
      "outputs": []
    },
    {
      "cell_type": "markdown",
      "metadata": {
        "id": "ZfZEchqjSBUx"
      },
      "source": [
        "Next, getting the mean of $\\bf{y}$ using the mean() function."
      ]
    },
    {
      "cell_type": "code",
      "metadata": {
        "colab": {
          "base_uri": "https://localhost:8080/",
          "height": 35
        },
        "id": "tzSAC5yaR_TB",
        "outputId": "08c5b1eb-4c6f-4f16-f455-8403b729f8e2"
      },
      "source": [
        "mean(y)"
      ],
      "execution_count": 3,
      "outputs": [
        {
          "output_type": "display_data",
          "data": {
            "text/plain": [
              "[1] 5.6"
            ],
            "text/latex": "5.6",
            "text/markdown": "5.6",
            "text/html": [
              "5.6"
            ]
          },
          "metadata": {}
        }
      ]
    },
    {
      "cell_type": "markdown",
      "metadata": {
        "id": "CRQA64KDSLO5"
      },
      "source": [
        "The minus argument can be used to *temporarily* withhold an observation from calculations done on an object.  For example, the following will calculate the mean of y without the $1^{st}$ observation.  \n"
      ]
    },
    {
      "cell_type": "code",
      "metadata": {
        "colab": {
          "base_uri": "https://localhost:8080/",
          "height": 104
        },
        "id": "R5IHHe5wSLWI",
        "outputId": "f92ffc0c-1777-4ca5-bb65-3d9722c89bbc"
      },
      "source": [
        "#What does y look like without the 1st observation\n",
        "cat(\"y vector without 1st observation: \")\n",
        "y[-1]\n",
        "\n",
        "cat(\"\\n\")\n",
        "\n",
        "#Getting the mean of y without the 1st observation\n",
        "cat(\"Mean of y without 1st observation:\")\n",
        "mean( y[-1] )"
      ],
      "execution_count": 11,
      "outputs": [
        {
          "output_type": "stream",
          "name": "stdout",
          "text": [
            "y vector without 1st observation: "
          ]
        },
        {
          "output_type": "display_data",
          "data": {
            "text/plain": [
              "[1]  3  5  8 10"
            ],
            "text/latex": "\\begin{enumerate*}\n\\item 3\n\\item 5\n\\item 8\n\\item 10\n\\end{enumerate*}\n",
            "text/markdown": "1. 3\n2. 5\n3. 8\n4. 10\n\n\n",
            "text/html": [
              "<style>\n",
              ".list-inline {list-style: none; margin:0; padding: 0}\n",
              ".list-inline>li {display: inline-block}\n",
              ".list-inline>li:not(:last-child)::after {content: \"\\00b7\"; padding: 0 .5ex}\n",
              "</style>\n",
              "<ol class=list-inline><li>3</li><li>5</li><li>8</li><li>10</li></ol>\n"
            ]
          },
          "metadata": {}
        },
        {
          "output_type": "stream",
          "name": "stdout",
          "text": [
            "\n",
            "Mean of y without 1st observation:"
          ]
        },
        {
          "output_type": "display_data",
          "data": {
            "text/plain": [
              "[1] 6.5"
            ],
            "text/latex": "6.5",
            "text/markdown": "6.5",
            "text/html": [
              "6.5"
            ]
          },
          "metadata": {}
        }
      ]
    },
    {
      "cell_type": "markdown",
      "metadata": {
        "id": "BB4yiJx7TIMQ"
      },
      "source": [
        "Next, continue by removing the $2^{nd}$ observation from consideration."
      ]
    },
    {
      "cell_type": "code",
      "metadata": {
        "colab": {
          "base_uri": "https://localhost:8080/",
          "height": 104
        },
        "id": "Bc8JJGFrS8Pz",
        "outputId": "5d5218e6-6eb3-4789-cc43-b78a3161591e"
      },
      "source": [
        "#What does y look like without the 2nd observation\n",
        "cat(\"y vector without 2nd observation: \")\n",
        "y[-2]\n",
        "\n",
        "cat(\"\\n\")\n",
        "\n",
        "#Getting the mean of y without the 1st observation\n",
        "cat(\"Mean of y without 2nd observation:\")\n",
        "mean( y[-2] )"
      ],
      "execution_count": 12,
      "outputs": [
        {
          "output_type": "stream",
          "name": "stdout",
          "text": [
            "y vector without 2nd observation: "
          ]
        },
        {
          "output_type": "display_data",
          "data": {
            "text/plain": [
              "[1]  2  5  8 10"
            ],
            "text/latex": "\\begin{enumerate*}\n\\item 2\n\\item 5\n\\item 8\n\\item 10\n\\end{enumerate*}\n",
            "text/markdown": "1. 2\n2. 5\n3. 8\n4. 10\n\n\n",
            "text/html": [
              "<style>\n",
              ".list-inline {list-style: none; margin:0; padding: 0}\n",
              ".list-inline>li {display: inline-block}\n",
              ".list-inline>li:not(:last-child)::after {content: \"\\00b7\"; padding: 0 .5ex}\n",
              "</style>\n",
              "<ol class=list-inline><li>2</li><li>5</li><li>8</li><li>10</li></ol>\n"
            ]
          },
          "metadata": {}
        },
        {
          "output_type": "stream",
          "name": "stdout",
          "text": [
            "\n",
            "Mean of y without 2nd observation:"
          ]
        },
        {
          "output_type": "display_data",
          "data": {
            "text/plain": [
              "[1] 6.25"
            ],
            "text/latex": "6.25",
            "text/markdown": "6.25",
            "text/html": [
              "6.25"
            ]
          },
          "metadata": {}
        }
      ]
    },
    {
      "cell_type": "markdown",
      "metadata": {
        "id": "NaD7EuxDTD2Q"
      },
      "source": [
        "Continue with remaining observations."
      ]
    },
    {
      "cell_type": "code",
      "metadata": {
        "colab": {
          "base_uri": "https://localhost:8080/",
          "height": 156
        },
        "id": "3gyrIxvoTD8n",
        "outputId": "f123bff7-6c3a-47f6-e85c-9229d5573d32"
      },
      "source": [
        "#Getting the mean of y without the 3rd observation\n",
        "cat(\"Mean of y without 3rd observation:\")\n",
        "mean( y[-3] )\n",
        "\n",
        "cat(\"\\n\")\n",
        "\n",
        "#Getting the mean of y without the 4th observation\n",
        "cat(\"Mean of y without 4th observation:\")\n",
        "mean( y[-4] )\n",
        "\n",
        "cat(\"\\n\")\n",
        "\n",
        "#Getting the mean of y without the 5th observation\n",
        "cat(\"Mean of y without 5th observation:\")\n",
        "mean( y[-5] )"
      ],
      "execution_count": 13,
      "outputs": [
        {
          "output_type": "stream",
          "name": "stdout",
          "text": [
            "Mean of y without 3rd observation:"
          ]
        },
        {
          "output_type": "display_data",
          "data": {
            "text/plain": [
              "[1] 5.75"
            ],
            "text/latex": "5.75",
            "text/markdown": "5.75",
            "text/html": [
              "5.75"
            ]
          },
          "metadata": {}
        },
        {
          "output_type": "stream",
          "name": "stdout",
          "text": [
            "\n",
            "Mean of y without 4th observation:"
          ]
        },
        {
          "output_type": "display_data",
          "data": {
            "text/plain": [
              "[1] 5"
            ],
            "text/latex": "5",
            "text/markdown": "5",
            "text/html": [
              "5"
            ]
          },
          "metadata": {}
        },
        {
          "output_type": "stream",
          "name": "stdout",
          "text": [
            "\n",
            "Mean of y without 5th observation:"
          ]
        },
        {
          "output_type": "display_data",
          "data": {
            "text/plain": [
              "[1] 4.5"
            ],
            "text/latex": "4.5",
            "text/markdown": "4.5",
            "text/html": [
              "4.5"
            ]
          },
          "metadata": {}
        }
      ]
    },
    {
      "cell_type": "code",
      "metadata": {
        "id": "Q_B_Xo8mT4aY"
      },
      "source": [
        ""
      ],
      "execution_count": null,
      "outputs": []
    },
    {
      "cell_type": "markdown",
      "metadata": {
        "id": "ZKr7iJf5ToL7"
      },
      "source": [
        "## Leave-One-Out Algorithm for a Mean"
      ]
    },
    {
      "cell_type": "markdown",
      "metadata": {
        "id": "qOqRXgJ_T2W7"
      },
      "source": [
        "Step 1: Create an output vector to hold the outcomes from the algorithm"
      ]
    },
    {
      "cell_type": "code",
      "metadata": {
        "colab": {
          "base_uri": "https://localhost:8080/",
          "height": 35
        },
        "id": "iJHa1ubXToUI",
        "outputId": "dbd4f219-b4e9-4cdf-96b2-3d37445f561c"
      },
      "source": [
        "output = rep(0,5)\n",
        "output"
      ],
      "execution_count": 15,
      "outputs": [
        {
          "output_type": "display_data",
          "data": {
            "text/plain": [
              "[1] 0 0 0 0 0"
            ],
            "text/latex": "\\begin{enumerate*}\n\\item 0\n\\item 0\n\\item 0\n\\item 0\n\\item 0\n\\end{enumerate*}\n",
            "text/markdown": "1. 0\n2. 0\n3. 0\n4. 0\n5. 0\n\n\n",
            "text/html": [
              "<style>\n",
              ".list-inline {list-style: none; margin:0; padding: 0}\n",
              ".list-inline>li {display: inline-block}\n",
              ".list-inline>li:not(:last-child)::after {content: \"\\00b7\"; padding: 0 .5ex}\n",
              "</style>\n",
              "<ol class=list-inline><li>0</li><li>0</li><li>0</li><li>0</li><li>0</li></ol>\n"
            ]
          },
          "metadata": {}
        }
      ]
    },
    {
      "cell_type": "markdown",
      "metadata": {
        "id": "WMoB4qAuUCY7"
      },
      "source": [
        "Step #2:  Use a for() loop to cycle through for each of the five observations\n"
      ]
    },
    {
      "cell_type": "code",
      "metadata": {
        "colab": {
          "base_uri": "https://localhost:8080/",
          "height": 52
        },
        "id": "jJ6glfSUUCgY",
        "outputId": "c4bca3ab-37c0-471d-e716-3d14b98631e1"
      },
      "source": [
        "for(i in 1:5){\n",
        "               output[i] = mean( y[-i] )\n",
        "             }\n",
        "\n",
        "cat(\"Output vector after for() loop: \")\n",
        "output"
      ],
      "execution_count": 18,
      "outputs": [
        {
          "output_type": "stream",
          "name": "stdout",
          "text": [
            "Output vector after for() loop: "
          ]
        },
        {
          "output_type": "display_data",
          "data": {
            "text/plain": [
              "[1] 6.50 6.25 5.75 5.00 4.50"
            ],
            "text/latex": "\\begin{enumerate*}\n\\item 6.5\n\\item 6.25\n\\item 5.75\n\\item 5\n\\item 4.5\n\\end{enumerate*}\n",
            "text/markdown": "1. 6.5\n2. 6.25\n3. 5.75\n4. 5\n5. 4.5\n\n\n",
            "text/html": [
              "<style>\n",
              ".list-inline {list-style: none; margin:0; padding: 0}\n",
              ".list-inline>li {display: inline-block}\n",
              ".list-inline>li:not(:last-child)::after {content: \"\\00b7\"; padding: 0 .5ex}\n",
              "</style>\n",
              "<ol class=list-inline><li>6.5</li><li>6.25</li><li>5.75</li><li>5</li><li>4.5</li></ol>\n"
            ]
          },
          "metadata": {}
        }
      ]
    },
    {
      "cell_type": "markdown",
      "metadata": {
        "id": "Qq5IS3V4UevD"
      },
      "source": [
        "### Writing your own function for the \"Leave-One-Out\" Method"
      ]
    },
    {
      "cell_type": "markdown",
      "metadata": {
        "id": "IUyI_3N4U_N6"
      },
      "source": [
        "Consider the following code that will create a function in R.  A function is simply a collection of code.  A well-written function allows your code to be more flexibility and have increased functionality.\n",
        "\n",
        "A function in R should:\n",
        "\n",
        "*   Have a good name\n",
        "*   Have clearly defined chunks of code with comments\n",
        "*   Return something\n",
        "*   Often functions contain input arguments\n",
        "\n"
      ]
    },
    {
      "cell_type": "code",
      "metadata": {
        "id": "k3NX3vqVUe3w"
      },
      "source": [
        "#A custom function which has name mean.jackknife\n",
        "#This function take one input argument, y\n",
        "#This function returns a vector of the jackknife mean\n",
        "\n",
        "mean.jackknife = function(y){\n",
        "    \n",
        "    #Find the length of y\n",
        "    n = length(y)\n",
        "    \n",
        "    #Setup output vector\n",
        "    output = rep(0,n)\n",
        "    \n",
        "    #Loop for iterations\n",
        "    for(i in 1:n){\n",
        "        output[i] = mean( y[-i])\n",
        "    }\n",
        "    \n",
        "    #Return the output vector\n",
        "    return(output)\n",
        "\n",
        "}"
      ],
      "execution_count": 19,
      "outputs": []
    },
    {
      "cell_type": "markdown",
      "metadata": {
        "id": "yr60yQ_HUs4R"
      },
      "source": [
        "Next, let's use our custom function to obtain the jackknife mean of the vector $\\bf{y}$."
      ]
    },
    {
      "cell_type": "code",
      "metadata": {
        "colab": {
          "base_uri": "https://localhost:8080/",
          "height": 35
        },
        "id": "ARMLU6LBUtAA",
        "outputId": "442510d6-371b-48cc-ff08-d3006cb8cbad"
      },
      "source": [
        "mean.jackknife(y)"
      ],
      "execution_count": 20,
      "outputs": [
        {
          "output_type": "display_data",
          "data": {
            "text/plain": [
              "[1] 6.50 6.25 5.75 5.00 4.50"
            ],
            "text/latex": "\\begin{enumerate*}\n\\item 6.5\n\\item 6.25\n\\item 5.75\n\\item 5\n\\item 4.5\n\\end{enumerate*}\n",
            "text/markdown": "1. 6.5\n2. 6.25\n3. 5.75\n4. 5\n5. 4.5\n\n\n",
            "text/html": [
              "<style>\n",
              ".list-inline {list-style: none; margin:0; padding: 0}\n",
              ".list-inline>li {display: inline-block}\n",
              ".list-inline>li:not(:last-child)::after {content: \"\\00b7\"; padding: 0 .5ex}\n",
              "</style>\n",
              "<ol class=list-inline><li>6.5</li><li>6.25</li><li>5.75</li><li>5</li><li>4.5</li></ol>\n"
            ]
          },
          "metadata": {}
        }
      ]
    },
    {
      "cell_type": "markdown",
      "metadata": {
        "id": "Bh6Qji4I7K3F"
      },
      "source": [
        "## DFBETA Algorithm"
      ]
    },
    {
      "cell_type": "markdown",
      "metadata": {
        "id": "Hxqd85t07PEU"
      },
      "source": [
        "Step 1: Create an empty data.frame to hold the outcomes from the algorithm"
      ]
    },
    {
      "cell_type": "code",
      "metadata": {
        "id": "GAyJtXmJOTng"
      },
      "source": [
        "DFBETA_Outcomes <-data.frame(rowid=numeric(), yintercept = numeric(), slope = numeric(), rmse = numeric())"
      ],
      "execution_count": null,
      "outputs": []
    },
    {
      "cell_type": "markdown",
      "metadata": {
        "id": "eKY_DuGPXzKN"
      },
      "source": [
        "Step 2: Fit a model -- removing one observation at a time, put outcomes into  data.frame"
      ]
    },
    {
      "cell_type": "code",
      "metadata": {
        "id": "8ts7P1fj7PLv"
      },
      "source": [
        "for(i in 1:65){\n",
        "  model_i <- lm(Price ~ Age, data=FordFocus[-c(i), ])\n",
        "  DFBETA_Outcomes[i,1] <- i\n",
        "  DFBETA_Outcomes[i,2] <- model_i$coefficients[1]\n",
        "  DFBETA_Outcomes[i,3] <- model_i$coefficients[2]\n",
        "  DFBETA_Outcomes[i,4] <- sigma(model_i)\n",
        "}"
      ],
      "execution_count": null,
      "outputs": []
    },
    {
      "cell_type": "markdown",
      "metadata": {
        "id": "wU8u3eJnPW-g"
      },
      "source": [
        "Step 3: Compute the change in y-intercept and slope for each observation removed"
      ]
    },
    {
      "cell_type": "code",
      "metadata": {
        "id": "dPlyRs30PXGL"
      },
      "source": [
        "DFBETA_Outcomes <- (DFBETA_Outcomes\n",
        "                      %>% mutate(\n",
        "                                  DFBeta_yint = (14421.6 - yintercept),\n",
        "                                  DFBeta_slope = (931.8 - slope)\n",
        "                                )\n",
        "                   )"
      ],
      "execution_count": null,
      "outputs": []
    },
    {
      "cell_type": "markdown",
      "metadata": {
        "id": "wKmaDifmaR80"
      },
      "source": [
        "Step 4: Sort by the most change in the slope (or yintercept)"
      ]
    },
    {
      "cell_type": "code",
      "metadata": {
        "colab": {
          "base_uri": "https://localhost:8080/",
          "height": 286
        },
        "id": "l7En1m8laSF0",
        "outputId": "2d4957d6-5db3-463b-afc7-bef4582aeb9b"
      },
      "source": [
        " (DFBETA_Outcomes\n",
        "   %>% arrange(desc(abs(DFBeta_slope)))\n",
        "   %>% head()\n",
        " )"
      ],
      "execution_count": null,
      "outputs": [
        {
          "output_type": "display_data",
          "data": {
            "text/plain": [
              "  rowid yintercept slope     rmse     DFBeta_yint DFBeta_slope\n",
              "1 65    14980.85   1073.9707 2707.428 -559.2487   -142.17067  \n",
              "2  8    14183.96    902.8605 2749.587  237.6436     28.93947  \n",
              "3 12    14168.84    904.8896 2681.682  252.7647     26.91036  \n",
              "4 13    14168.84    904.8896 2681.682  252.7647     26.91036  \n",
              "5 11    14171.12    905.1334 2685.008  250.4790     26.66664  \n",
              "6  9    14219.04    907.1395 2780.375  202.5564     24.66053  "
            ],
            "text/latex": "A data.frame: 6 × 6\n\\begin{tabular}{r|llllll}\n  & rowid & yintercept & slope & rmse & DFBeta\\_yint & DFBeta\\_slope\\\\\n  & <dbl> & <dbl> & <dbl> & <dbl> & <dbl> & <dbl>\\\\\n\\hline\n\t1 & 65 & 14980.85 & 1073.9707 & 2707.428 & -559.2487 & -142.17067\\\\\n\t2 &  8 & 14183.96 &  902.8605 & 2749.587 &  237.6436 &   28.93947\\\\\n\t3 & 12 & 14168.84 &  904.8896 & 2681.682 &  252.7647 &   26.91036\\\\\n\t4 & 13 & 14168.84 &  904.8896 & 2681.682 &  252.7647 &   26.91036\\\\\n\t5 & 11 & 14171.12 &  905.1334 & 2685.008 &  250.4790 &   26.66664\\\\\n\t6 &  9 & 14219.04 &  907.1395 & 2780.375 &  202.5564 &   24.66053\\\\\n\\end{tabular}\n",
            "text/markdown": "\nA data.frame: 6 × 6\n\n| <!--/--> | rowid &lt;dbl&gt; | yintercept &lt;dbl&gt; | slope &lt;dbl&gt; | rmse &lt;dbl&gt; | DFBeta_yint &lt;dbl&gt; | DFBeta_slope &lt;dbl&gt; |\n|---|---|---|---|---|---|---|\n| 1 | 65 | 14980.85 | 1073.9707 | 2707.428 | -559.2487 | -142.17067 |\n| 2 |  8 | 14183.96 |  902.8605 | 2749.587 |  237.6436 |   28.93947 |\n| 3 | 12 | 14168.84 |  904.8896 | 2681.682 |  252.7647 |   26.91036 |\n| 4 | 13 | 14168.84 |  904.8896 | 2681.682 |  252.7647 |   26.91036 |\n| 5 | 11 | 14171.12 |  905.1334 | 2685.008 |  250.4790 |   26.66664 |\n| 6 |  9 | 14219.04 |  907.1395 | 2780.375 |  202.5564 |   24.66053 |\n\n",
            "text/html": [
              "<table class=\"dataframe\">\n",
              "<caption>A data.frame: 6 × 6</caption>\n",
              "<thead>\n",
              "\t<tr><th></th><th scope=col>rowid</th><th scope=col>yintercept</th><th scope=col>slope</th><th scope=col>rmse</th><th scope=col>DFBeta_yint</th><th scope=col>DFBeta_slope</th></tr>\n",
              "\t<tr><th></th><th scope=col>&lt;dbl&gt;</th><th scope=col>&lt;dbl&gt;</th><th scope=col>&lt;dbl&gt;</th><th scope=col>&lt;dbl&gt;</th><th scope=col>&lt;dbl&gt;</th><th scope=col>&lt;dbl&gt;</th></tr>\n",
              "</thead>\n",
              "<tbody>\n",
              "\t<tr><th scope=row>1</th><td>65</td><td>14980.85</td><td>1073.9707</td><td>2707.428</td><td>-559.2487</td><td>-142.17067</td></tr>\n",
              "\t<tr><th scope=row>2</th><td> 8</td><td>14183.96</td><td> 902.8605</td><td>2749.587</td><td> 237.6436</td><td>  28.93947</td></tr>\n",
              "\t<tr><th scope=row>3</th><td>12</td><td>14168.84</td><td> 904.8896</td><td>2681.682</td><td> 252.7647</td><td>  26.91036</td></tr>\n",
              "\t<tr><th scope=row>4</th><td>13</td><td>14168.84</td><td> 904.8896</td><td>2681.682</td><td> 252.7647</td><td>  26.91036</td></tr>\n",
              "\t<tr><th scope=row>5</th><td>11</td><td>14171.12</td><td> 905.1334</td><td>2685.008</td><td> 250.4790</td><td>  26.66664</td></tr>\n",
              "\t<tr><th scope=row>6</th><td> 9</td><td>14219.04</td><td> 907.1395</td><td>2780.375</td><td> 202.5564</td><td>  24.66053</td></tr>\n",
              "</tbody>\n",
              "</table>\n"
            ]
          },
          "metadata": {}
        }
      ]
    },
    {
      "cell_type": "markdown",
      "metadata": {
        "id": "yLUe85RCaRB4"
      },
      "source": [
        "Creating an index plot for the Change in Slope"
      ]
    },
    {
      "cell_type": "code",
      "metadata": {
        "colab": {
          "base_uri": "https://localhost:8080/",
          "height": 437
        },
        "id": "Yn4JpGMBaREO",
        "outputId": "59ae5312-3a3a-4200-920b-925a00b69f06"
      },
      "source": [
        "ggplot(data=DFBETA_Outcomes, aes(x=rowid,y=DFBeta_slope)) + \n",
        "  geom_point() + \n",
        "  ggtitle(\"Plot of Change in Slope (DFBETA Slope)\") + \n",
        "  geom_hline(yintercept=0) +\n",
        "  theme_classic()"
      ],
      "execution_count": null,
      "outputs": [
        {
          "output_type": "display_data",
          "data": {
            "image/png": "[encoded data removed]",
            "text/plain": [
              "plot without title"
            ]
          },
          "metadata": {
            "image/png": {
              "width": 420,
              "height": 420
            }
          }
        }
      ]
    },
    {
      "cell_type": "markdown",
      "metadata": {
        "id": "9kkg1lL30Rfw"
      },
      "source": [
        "End of Document"
      ]
    }
  ]
}