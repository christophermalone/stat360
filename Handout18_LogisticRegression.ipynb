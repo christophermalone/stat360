{
  "nbformat": 4,
  "nbformat_minor": 0,
  "metadata": {
    "colab": {
      "provenance": [],
      "authorship_tag": "ABX9TyMoV8gGNXz6vEmAiyK3bAOb",
      "include_colab_link": true
    },
    "kernelspec": {
      "name": "ir",
      "display_name": "R"
    }
  },
  "cells": [
    {
      "cell_type": "markdown",
      "metadata": {
        "id": "view-in-github",
        "colab_type": "text"
      },
      "source": [
        "<a href=\"https://colab.research.google.com/github/christophermalone/stat360/blob/main/Handout18_LogisticRegression.ipynb\" target=\"_parent\"><img src=\"https://colab.research.google.com/assets/colab-badge.svg\" alt=\"Open In Colab\"/></a>"
      ]
    },
    {
      "cell_type": "markdown",
      "metadata": {
        "id": "KhClO9b02SXA"
      },
      "source": [
        "# Handout #18: Introduction to a Logistic Regression Model"
      ]
    },
    {
      "cell_type": "markdown",
      "source": [
        "A logistic regression model is appropriate when the response variable is categorical instead of numerical.  Some identify a logistic regression model as simply a regression model applied to 0/1 outcomes which, in my opinion, is an over simplication.  A logistic regression model actually belongs to a larger class of models know as generalized linear models (GLMs)."
      ],
      "metadata": {
        "id": "-OdiZlfh4M5j"
      }
    },
    {
      "cell_type": "markdown",
      "source": [
        "## A Simple Example"
      ],
      "metadata": {
        "id": "TyrV2vCr-y3w"
      }
    },
    {
      "cell_type": "markdown",
      "source": [
        " For our simple example, let's consider a prediction problem in which the response variable is whether or not a patient has Type 2 Diabetes.  The predictor variable under consideration is Age of the patient.\n",
        "\n",
        "<ul>\n",
        "        <li><strong>Response</strong>: Does the patient have Type 2 Diabetes? \n",
        "        <li><strong>Predictor Variable</strong>: Age</li>\n",
        "    </ul>"
      ],
      "metadata": {
        "id": "QDeB-kNs-8Z8"
      }
    },
    {
      "cell_type": "markdown",
      "source": [
        "Consider the following scatterplots and their corresponding data. "
      ],
      "metadata": {
        "id": "OX84jwmYB6mp"
      }
    },
    {
      "cell_type": "markdown",
      "source": [
        "<p align=\"center\">\n",
        "<table align=\"center\" bgcolor=\"white\">\n",
        "  <tr>\n",
        "    <td align=\"center\" width=\"50%\" bgcolor=\"white\" valign=\"top\"><font size=\"+2\">Plot I Graph</font> <br><img src=\"https://drive.google.com/uc?export=view&id=1W3zqJkp2I--d71pyOqxp-cQ4pWP0WlTl\"></img>\n",
        "    </td>\n",
        "<td align=\"center\" width=\"50%\" bgcolor=\"white\" valign=\"top\"><font size=\"+2\">Plot I Data</font> <br><img src=\"https://drive.google.com/uc?export=view&id=1gVG5Sc0-kTFx8fpZLdKDtZnPMmnHJA3f\" width=\"50%\",height=\"50%\"></img>\n",
        "</td>\n",
        "  </tr>\n",
        "</table>\n",
        "</p>"
      ],
      "metadata": {
        "id": "ioCngXuR7KoX"
      }
    },
    {
      "cell_type": "markdown",
      "source": [
        "<p align=\"center\">\n",
        "<table align=\"center\" bgcolor=\"white\">\n",
        "  <tr>\n",
        "    <td align=\"center\" width=\"50%\" bgcolor=\"white\" valign=\"top\"><font size=\"+2\">Plot II Graph</font> <br><img src=\"https://drive.google.com/uc?export=view&id=1cXbLx8GkbdmmNiUAUbGQifseG0yi8oE2\"></img>\n",
        "    </td>\n",
        "<td align=\"center\" width=\"50%\" bgcolor=\"white\" valign=\"top\"><font size=\"+2\">Plot II Data</font> <br><img src=\"https://drive.google.com/uc?export=view&id=1duH27FEr5rBvLYda_UAKLgvmCMovP-H1\" width=\"50%\",height=\"50%\"></img>\n",
        "</td>\n",
        "  </tr>\n",
        "</table>\n",
        "</p>"
      ],
      "metadata": {
        "id": "NZB_Tho6BBA2"
      }
    },
    {
      "cell_type": "markdown",
      "source": [
        "Discussion Points for Plot I and Plot II\n",
        "\n",
        "* The predictor variable (Age) is on the x-axis and the resposne variable (Type 2 Diabetes) is on the y-axis.\n",
        "* In Plot I, when Age is low (between 20 and 30), none of the patients have diabetes; when Age is high (between 70 and 80) all patients have diabetes. In this plot, the prediction for which class a patient belongs in (Yes or No) will have high accuracy.\n",
        "* In Plot II, a similar pattern is present. When Age is between 20 and 40, none of the patients have diabetes and when Age is between 50 and 80 all the patients have diabetes."
      ],
      "metadata": {
        "id": "bXXUqKxrBBIT"
      }
    },
    {
      "cell_type": "markdown",
      "source": [
        "Next, consider the following graphs."
      ],
      "metadata": {
        "id": "vSSZu51aBBXl"
      }
    },
    {
      "cell_type": "markdown",
      "source": [
        "<p align=\"center\">\n",
        "<table align=\"center\" bgcolor=\"white\">\n",
        "  <tr>\n",
        "    <td align=\"center\" width=\"50%\" bgcolor=\"white\" valign=\"top\"><font size=\"+2\">Plot III</font> <br><img src=\"https://drive.google.com/uc?export=view&id=1g-fWt0CJnymVSwlmdF_v7QBXEdIvd27F\"></img>\n",
        "    </td>\n",
        "<td align=\"center\" width=\"50%\" bgcolor=\"white\" valign=\"top\"><font size=\"+2\">Plot IV</font> <br><img src=\"https://drive.google.com/uc?export=view&id=1zSZ2Rcc1_rO5J8qf8Bhk7pmiisrNTDUt\" width=\"90%\" height=\"90%\"></img>\n",
        "</td>\n",
        "  </tr>\n",
        "</table>\n",
        "</p>"
      ],
      "metadata": {
        "id": "MxVtipm-Cb9I"
      }
    },
    {
      "cell_type": "markdown",
      "source": [
        "Discussion Points for Plot III and Plot IV\n",
        "\n",
        "* Consider Plot III, the predictions for which class a patient belongs to will have high accuracy for Region A and for Region C.\n",
        "* Consider Plot III, the predictions for which class a patient belongs to are less certain for Region B (between the ages of 40 and 60). Some of these patients in Region C have diabetes and others do not.\n",
        "* Consider Region C in Plot III, patients between the ages of 40 to 50 appear to be less likely to have diabetes compared to a patient between the ages of 50 and 60.\n",
        "\n",
        "\n",
        "* Plot IV includes a plot of the logistic curve. This function is determined from the data and is used to create a predicted probability of a patient having diabetes for each observation. This logistic model uses a patient's Age to make such predictions.\n",
        "* The y-axis in Plot IV is the predicted probability of a patient having diabetes conditional on the patient's Age.\n",
        "* From Plot IV, in Region A (when Age is low), the predicted probability of having diabetes is low (less than 30%); in Region C (when Age is high), the predicted probability of having diabetes is high (over 80%); the predicted probability of having diabetes is near 50% for a patient in Region B.\n",
        "* A threshold value of 0.50 (or 50%) is shown on Plot IV. Any patient whose predicted probability of having diabetes that exceeds this threshold will be classified as having diabetes, i.e. will be predicted as Type 2 Diabetes = Yes.\n"
      ],
      "metadata": {
        "id": "2Qoafea6C_B_"
      }
    },
    {
      "cell_type": "markdown",
      "source": [
        "Next, consider the following graphs in which a prediction is made for the probability of **not having Type 2 Diabetes**. "
      ],
      "metadata": {
        "id": "gsB29ddZEMB_"
      }
    },
    {
      "cell_type": "markdown",
      "source": [
        "<p align=\"center\">\n",
        "<table align=\"center\" bgcolor=\"white\">\n",
        "  <tr>\n",
        "    <td align=\"center\" width=\"50%\" bgcolor=\"white\" valign=\"top\"><font size=\"+2\">Plot V</font> <br><img src=\"https://drive.google.com/uc?export=view&id=1h1oNKz-DLeZQHCu6_MDUtuyOvHat2Xkj\"></img>\n",
        "    </td>\n",
        "<td align=\"center\" width=\"50%\" bgcolor=\"white\" valign=\"top\"><font size=\"+2\">Plot VI</font> <br><img src=\"https://drive.google.com/uc?export=view&id=1u0ojBnoSkYWE6mOhhu5hwnnXM5Nl8BYh\" width=\"90%\" height=\"90%\"></img>\n",
        "</td>\n",
        "  </tr>\n",
        "</table>\n",
        "</p>"
      ],
      "metadata": {
        "id": "yxs31chZEMCP"
      }
    },
    {
      "cell_type": "markdown",
      "source": [
        "Discussion Points for Plot V and Plot VI\n",
        "\n",
        "* In Plots V and Plot VI, the logistic curve is used to predict the probability of a patient not having diabetes instead of having diabetes.\n",
        "* The probability of not having diabetes will decrease as Age increases."
      ],
      "metadata": {
        "id": "RPaFTMuxBBcy"
      }
    },
    {
      "cell_type": "markdown",
      "source": [
        "Next, consider the following graphs in which the predicted probability that a patient has Type 2 Diabetes are compared for various curves. "
      ],
      "metadata": {
        "id": "hzJLvIC7FA9L"
      }
    },
    {
      "cell_type": "markdown",
      "source": [
        "<p align=\"center\">\n",
        "<table align=\"center\" bgcolor=\"white\">\n",
        "  <tr>\n",
        "    <td align=\"center\" width=\"50%\" bgcolor=\"white\" valign=\"top\"><font size=\"+2\">Plot VII</font> <br><img src=\"https://drive.google.com/uc?export=view&id=101IaxFxDMojRZ7PNz6ovIsYYdzUhrhj2\"></img>\n",
        "    </td>\n",
        "<td align=\"center\" width=\"50%\" bgcolor=\"white\" valign=\"top\"><font size=\"+2\">Plot VIII</font> <br><img src=\"https://drive.google.com/uc?export=view&id=1aCUkT4s0Gz9JCMufeqLhs3EZpk9RbCUr\"></img>\n",
        "</td>\n",
        "  </tr>\n",
        "</table>\n",
        "</p>"
      ],
      "metadata": {
        "id": "UBo_g7YmFA9N"
      }
    },
    {
      "cell_type": "markdown",
      "source": [
        "Discussion Points for Plot VII and Plot VIII\n",
        "\n",
        "* Two logistic curves are presented in Plot VII. The predicted probability of a patient having diabetes increases more quickly for Curve B compared to Curve A. That is, the predicted probability of having diabetes is higher for Curve B than Curve A for patients who are younger (less than 40 years old). The predicted probability of having diabetes is similar for a patient who is over the Age of 70.\n",
        "* In Plot VIII, the predicted probability of having diabetes stays fairly consistent (around 20%) for Curve C between the Ages of 20 and 60. Between the Ages of 70 and 80, the predicted probability of having diabetes increases rapidly for Curve C."
      ],
      "metadata": {
        "id": "6l0IBXpwBBiu"
      }
    },
    {
      "cell_type": "markdown",
      "source": [
        "## The Logistic Regression Model"
      ],
      "metadata": {
        "id": "szmy73KlGrJ-"
      }
    },
    {
      "cell_type": "markdown",
      "source": [
        "The process required to fit a logistic model varies between different software packages. For example, some software packages require that a numeric representation of the response variable be created before modeling. The standard numeric representation of a binary response variable is akin to the following for Type 2 Diabetes. \n",
        "\n",
        "$$\\begin{array}{rcl}\n",
        "\\mbox{Type2DiabetesValue} & = & \\begin{array}{rl}  \n",
        "\\biggl\\{ & \\begin{array}{cl} 1 &  \\mbox{Type 2 Diabetes = Yes} \\\\ \n",
        "0 &  \\mbox{Type 2 Diabetes = No} \\\\\n",
        "\\end{array} \\end{array}\n",
        "\\end{array}\n",
        "$$"
      ],
      "metadata": {
        "id": "k4QzX37SHuGV"
      }
    },
    {
      "cell_type": "markdown",
      "source": [
        "Another consideration that must be considered when dealing with fitting a logistic regression model is which binary outcome is the model predicting.  In the context of this example, one could predict the probability of Type 2 Diabetes = Yes or one could predict the probability of Type 2 Diabetes = No. The level of the response variable that is being modeled is commonly referred to as the <strong>\"success\"</strong> level.  So, if the goal is to make predictions for Type 2 Diabetes = Yes, a \"success\" would indicate that the patient has Type 2 Diabetes.\n",
        "\n",
        "$$ \\mbox{\"success\"} \\rightarrow \\mbox{Patient has diabetes}$$\n"
      ],
      "metadata": {
        "id": "0iPZTZPRH3ED"
      }
    },
    {
      "cell_type": "markdown",
      "source": [
        "Consider the following *simple* logistic regression model structure that will be used to predict $Type \\space 2 \\space Diabetes$ using $Age$.  This is considered a simple logistic model because only a single predictor variable (Age) is being considered in this logistic model. \n",
        "\n",
        "\n",
        "$$ ln \\left( \\frac{\\theta}{1-\\theta} \\right) = \\beta_0 + \\beta_1 * Age $$\n",
        "\n",
        "where, $\\theta = P(Type \\space 2 \\space Diabetes = Yes \\space | \\space Age)$, i.e. the probability that a women has Type 2 Diabetes given her Age.\n"
      ],
      "metadata": {
        "id": "RwzzQY92IAG3"
      }
    },
    {
      "cell_type": "markdown",
      "source": [
        "**Distribution of the Response Variable**\n",
        "\n",
        "A logistic model is a type of generalized linear model (glm). The distribution of the response variable must be specified when fitting a generalized linear model. The response variable is binary which implies there are two categorical levels for the response.  In this situation, a <strong>binomial</strong> distribution function is appropriate for the response.  Other types of distributions can be specified for the response variable; however, these will not be considered in this handout. (STAT 380: Advanced Statistical Modeling will cover a variety of these type of models.)\n",
        "\n",
        "\n"
      ],
      "metadata": {
        "id": "koRvDhcfIKjZ"
      }
    },
    {
      "cell_type": "markdown",
      "source": [
        "**Making Predictions**\n",
        "\n",
        "After a logistic model has been fit, there are two steps required in order to obtain a prediction for the response.\n",
        "\n",
        "<ul>\n",
        "  <strong>Step #1</strong>: Obtain the predicted probability of success, i.e. $\\theta$, for each observation\n",
        "\n",
        "<br>\n",
        "\n",
        "  $$ \\theta  = \\frac{e^{(\\beta_{0} + \\beta_{1} * Age)}}{1+e^{(\\beta_{0} + \\beta_{1} * Age)}}$$\n",
        "  \n",
        "<br>\n",
        "<strong>Step #2</strong>: Use the predicted probability of success to classify the observation as either Type 2 Diabetes = Yes or Type 2 Diabetes = No; Classify as a success when the predicted probability is greater than or equal some threshold, typically a threshold value equal to 50% is intially considered</li>\n",
        "  \n",
        "  $$\\begin{array}{rcl}\n",
        "\\mbox{Prediction for Type 2 Diabetes} & = & \\begin{array}{rl}  \n",
        "\\biggl\\{ & \\begin{array}{cl} Yes & \\theta \\ge 0.50 \\\\ No &  \\theta < 0.50 \\end{array} \\end{array}\n",
        "\\end{array}\n",
        "$$\n",
        "\n",
        "</ul>\n"
      ],
      "metadata": {
        "id": "NlhMcXdMIPs7"
      }
    },
    {
      "cell_type": "markdown",
      "source": [
        "## Titantic Example - Predicting Survival"
      ],
      "metadata": {
        "id": "AGG-Kj0IJp_S"
      }
    },
    {
      "cell_type": "markdown",
      "metadata": {
        "id": "AXDYLbzK2o7e"
      },
      "source": [
        "<table width='100%' ><tr><td bgcolor='green'></td></tr></table>\n",
        "\n",
        "## Example 18.1\n",
        "This example will use the relatively famous Titantic dataset.  The Titantic was a large ship that sank in the North Atlantic on it's maiden voyage from Europe to the United States. \n",
        "\n",
        "<table>\n",
        "  <tr>\n",
        "    <td width=\"50%\" valign=\"top\">\n",
        "      <ul>\n",
        "        <li><strong>Response:</strong> \n",
        "        <br>\n",
        "          <ul>\n",
        "            <li>Survived:  Did this person survive?</li>\n",
        "          </ul>\n",
        "          <br>\n",
        "        <li><strong>Predictor Variables</strong></li>\n",
        "          <ul>\n",
        "            <li>Gender: Gender of passenger</li>\n",
        "            <li>Age: Age of passenger</li>\n",
        "            <li>TravelingAlone: Was this person traveling alone?</li>\n",
        "            <li>TicketFair: Price of Ticket (pounds)\n",
        "          </ul>\n",
        "    </ul>\n",
        "    </td>\n",
        "    <td width=\"50%\">\n",
        "<p align='center'><img src=\"https://drive.google.com/uc?export=view&id=1pMeRh8ZkiNkuCrnPyNNkXowvvTeoCrHR\" width=\"75%\",height=\"75%\"></img></p>\n",
        "  </td>\n",
        "</tr>\n",
        "</table>\n",
        "\n",
        "Data Folder: [OneDrive](https://mnscu-my.sharepoint.com/:f:/g/personal/aq7839yd_minnstate_edu/EmOQfrwxzzRBqq8PH_8qTmMBy-1qKgM11Hb8vzjs025EEA?e=wyShYs)\n",
        "\n",
        "<table width='100%' ><tr><td bgcolor='green'></td></tr></table>\n",
        "\n"
      ]
    },
    {
      "cell_type": "markdown",
      "source": [
        "## Fitting a Logistic Model: Survivial ~ TicketFair"
      ],
      "metadata": {
        "id": "yEI-YPwYMIhJ"
      }
    },
    {
      "cell_type": "markdown",
      "source": [
        "Consider the following logsitic regression model in which the probability of survival is being modeled. \n",
        "\n",
        "$$ ln \\left( \\frac{\\theta}{1-\\theta} \\right) = \\beta_0 + \\beta_1 * TicketFair $$\n",
        "\n",
        "where, $\\theta = P(Survived = Yes \\space | \\space TicketFair)$, i.e. the probability that a person survives given their TicketFair.\n"
      ],
      "metadata": {
        "id": "owjww-wyMHHc"
      }
    },
    {
      "cell_type": "markdown",
      "metadata": {
        "id": "njXGRUIC9Lgs"
      },
      "source": [
        "### Load Data into R via URL"
      ]
    },
    {
      "cell_type": "markdown",
      "metadata": {
        "id": "JLz69t1NJI5g"
      },
      "source": [
        "The tidyverse R package will be used to assist with reading in the dataset into the current R session."
      ]
    },
    {
      "cell_type": "code",
      "metadata": {
        "id": "-iPDM-VTJI5q",
        "colab": {
          "base_uri": "https://localhost:8080/"
        },
        "outputId": "ca8c0658-57f6-4cbe-93f1-fc7e9c334120"
      },
      "source": [
        "#load tidyverse package\n",
        "library(tidyverse)"
      ],
      "execution_count": 1,
      "outputs": [
        {
          "output_type": "stream",
          "name": "stderr",
          "text": [
            "Warning message in system(\"timedatectl\", intern = TRUE):\n",
            "“running command 'timedatectl' had status 1”\n",
            "── \u001b[1mAttaching packages\u001b[22m ─────────────────────────────────────── tidyverse 1.3.1 ──\n",
            "\n",
            "\u001b[32m✔\u001b[39m \u001b[34mggplot2\u001b[39m 3.4.0      \u001b[32m✔\u001b[39m \u001b[34mpurrr  \u001b[39m 0.3.5 \n",
            "\u001b[32m✔\u001b[39m \u001b[34mtibble \u001b[39m 3.1.8      \u001b[32m✔\u001b[39m \u001b[34mdplyr  \u001b[39m 1.0.10\n",
            "\u001b[32m✔\u001b[39m \u001b[34mtidyr  \u001b[39m 1.2.1      \u001b[32m✔\u001b[39m \u001b[34mstringr\u001b[39m 1.4.1 \n",
            "\u001b[32m✔\u001b[39m \u001b[34mreadr  \u001b[39m 2.1.3      \u001b[32m✔\u001b[39m \u001b[34mforcats\u001b[39m 0.5.2 \n",
            "\n",
            "── \u001b[1mConflicts\u001b[22m ────────────────────────────────────────── tidyverse_conflicts() ──\n",
            "\u001b[31m✖\u001b[39m \u001b[34mdplyr\u001b[39m::\u001b[32mfilter()\u001b[39m masks \u001b[34mstats\u001b[39m::filter()\n",
            "\u001b[31m✖\u001b[39m \u001b[34mdplyr\u001b[39m::\u001b[32mlag()\u001b[39m    masks \u001b[34mstats\u001b[39m::lag()\n",
            "\n"
          ]
        }
      ]
    },
    {
      "cell_type": "markdown",
      "metadata": {
        "id": "8Z1kCcoKJI5r"
      },
      "source": [
        "Next, load the data into this COLAB session."
      ]
    },
    {
      "cell_type": "code",
      "metadata": {
        "colab": {
          "base_uri": "https://localhost:8080/"
        },
        "id": "hM3AnlVCu2vx",
        "outputId": "c62f05a7-9c8c-43ce-dd02-29be5ca3d1d1"
      },
      "source": [
        "# Reading data in using read_csv\n",
        "Titantic <- read_csv(\"http://www.StatsClass.org/stat360/Datasets/Titantic.csv\")"
      ],
      "execution_count": 2,
      "outputs": [
        {
          "output_type": "stream",
          "name": "stderr",
          "text": [
            "\u001b[1mRows: \u001b[22m\u001b[34m1309\u001b[39m \u001b[1mColumns: \u001b[22m\u001b[34m6\u001b[39m\n",
            "\u001b[36m──\u001b[39m \u001b[1mColumn specification\u001b[22m \u001b[36m────────────────────────────────────────────────────────\u001b[39m\n",
            "\u001b[1mDelimiter:\u001b[22m \",\"\n",
            "\u001b[31mchr\u001b[39m (4): Name, Survived, Gender, TravelingAlone\n",
            "\u001b[32mdbl\u001b[39m (2): Age, TicketFair\n",
            "\n",
            "\u001b[36mℹ\u001b[39m Use `spec()` to retrieve the full column specification for this data.\n",
            "\u001b[36mℹ\u001b[39m Specify the column types or set `show_col_types = FALSE` to quiet this message.\n"
          ]
        }
      ]
    },
    {
      "cell_type": "markdown",
      "source": [
        "Takign a look at the first few rows of the Titantic dataset."
      ],
      "metadata": {
        "id": "42jv07zUN2BS"
      }
    },
    {
      "cell_type": "code",
      "source": [
        "head(Titantic)"
      ],
      "metadata": {
        "colab": {
          "base_uri": "https://localhost:8080/",
          "height": 286
        },
        "outputId": "8fa0cd73-6d50-4d3d-e891-9aacb5266592",
        "id": "H06OObMMN1Ra"
      },
      "execution_count": 3,
      "outputs": [
        {
          "output_type": "display_data",
          "data": {
            "text/html": [
              "<table class=\"dataframe\">\n",
              "<caption>A tibble: 6 × 6</caption>\n",
              "<thead>\n",
              "\t<tr><th scope=col>Name</th><th scope=col>Survived</th><th scope=col>Gender</th><th scope=col>Age</th><th scope=col>TravelingAlone</th><th scope=col>TicketFair</th></tr>\n",
              "\t<tr><th scope=col>&lt;chr&gt;</th><th scope=col>&lt;chr&gt;</th><th scope=col>&lt;chr&gt;</th><th scope=col>&lt;dbl&gt;</th><th scope=col>&lt;chr&gt;</th><th scope=col>&lt;dbl&gt;</th></tr>\n",
              "</thead>\n",
              "<tbody>\n",
              "\t<tr><td>Allen, Miss. Elisabeth Walton                  </td><td>Yes</td><td>Female</td><td>29</td><td>Yes</td><td>211.3375</td></tr>\n",
              "\t<tr><td>Allison, Master. Hudson Trevor                 </td><td>Yes</td><td>Male  </td><td> 0</td><td>No </td><td>151.5500</td></tr>\n",
              "\t<tr><td>Allison, Miss. Helen Loraine                   </td><td>No </td><td>Female</td><td> 2</td><td>No </td><td>151.5500</td></tr>\n",
              "\t<tr><td>Allison, Mr. Hudson Joshua Creighton           </td><td>No </td><td>Male  </td><td>30</td><td>No </td><td>151.5500</td></tr>\n",
              "\t<tr><td>Allison, Mrs. Hudson J C (Bessie Waldo Daniels)</td><td>No </td><td>Female</td><td>25</td><td>No </td><td>151.5500</td></tr>\n",
              "\t<tr><td>Anderson, Mr. Harry                            </td><td>Yes</td><td>Male  </td><td>48</td><td>Yes</td><td> 26.5500</td></tr>\n",
              "</tbody>\n",
              "</table>\n"
            ],
            "text/markdown": "\nA tibble: 6 × 6\n\n| Name &lt;chr&gt; | Survived &lt;chr&gt; | Gender &lt;chr&gt; | Age &lt;dbl&gt; | TravelingAlone &lt;chr&gt; | TicketFair &lt;dbl&gt; |\n|---|---|---|---|---|---|\n| Allen, Miss. Elisabeth Walton                   | Yes | Female | 29 | Yes | 211.3375 |\n| Allison, Master. Hudson Trevor                  | Yes | Male   |  0 | No  | 151.5500 |\n| Allison, Miss. Helen Loraine                    | No  | Female |  2 | No  | 151.5500 |\n| Allison, Mr. Hudson Joshua Creighton            | No  | Male   | 30 | No  | 151.5500 |\n| Allison, Mrs. Hudson J C (Bessie Waldo Daniels) | No  | Female | 25 | No  | 151.5500 |\n| Anderson, Mr. Harry                             | Yes | Male   | 48 | Yes |  26.5500 |\n\n",
            "text/latex": "A tibble: 6 × 6\n\\begin{tabular}{llllll}\n Name & Survived & Gender & Age & TravelingAlone & TicketFair\\\\\n <chr> & <chr> & <chr> & <dbl> & <chr> & <dbl>\\\\\n\\hline\n\t Allen, Miss. Elisabeth Walton                   & Yes & Female & 29 & Yes & 211.3375\\\\\n\t Allison, Master. Hudson Trevor                  & Yes & Male   &  0 & No  & 151.5500\\\\\n\t Allison, Miss. Helen Loraine                    & No  & Female &  2 & No  & 151.5500\\\\\n\t Allison, Mr. Hudson Joshua Creighton            & No  & Male   & 30 & No  & 151.5500\\\\\n\t Allison, Mrs. Hudson J C (Bessie Waldo Daniels) & No  & Female & 25 & No  & 151.5500\\\\\n\t Anderson, Mr. Harry                             & Yes & Male   & 48 & Yes &  26.5500\\\\\n\\end{tabular}\n",
            "text/plain": [
              "  Name                                            Survived Gender Age\n",
              "1 Allen, Miss. Elisabeth Walton                   Yes      Female 29 \n",
              "2 Allison, Master. Hudson Trevor                  Yes      Male    0 \n",
              "3 Allison, Miss. Helen Loraine                    No       Female  2 \n",
              "4 Allison, Mr. Hudson Joshua Creighton            No       Male   30 \n",
              "5 Allison, Mrs. Hudson J C (Bessie Waldo Daniels) No       Female 25 \n",
              "6 Anderson, Mr. Harry                             Yes      Male   48 \n",
              "  TravelingAlone TicketFair\n",
              "1 Yes            211.3375  \n",
              "2 No             151.5500  \n",
              "3 No             151.5500  \n",
              "4 No             151.5500  \n",
              "5 No             151.5500  \n",
              "6 Yes             26.5500  "
            ]
          },
          "metadata": {}
        }
      ]
    },
    {
      "cell_type": "markdown",
      "source": [
        "There are some people for which the Suvivial status and/or TicketFair is missing.  The following code will remove these people from considering when building the logistic regression model."
      ],
      "metadata": {
        "id": "FeSLMnbceUFG"
      }
    },
    {
      "cell_type": "code",
      "source": [
        "#Removing missing values before fitting the logistic regression model\n",
        "(Titantic\n",
        " %>% drop_na(Survived, TicketFair)\n",
        ") -> Titantic_Modeling\n",
        "\n",
        "dim(Titantic_Modeling)"
      ],
      "metadata": {
        "colab": {
          "base_uri": "https://localhost:8080/",
          "height": 34
        },
        "id": "L47SVTLOeUN3",
        "outputId": "80598679-6a1a-43b5-9b72-34c0e63571ca"
      },
      "execution_count": 4,
      "outputs": [
        {
          "output_type": "display_data",
          "data": {
            "text/html": [
              "<style>\n",
              ".list-inline {list-style: none; margin:0; padding: 0}\n",
              ".list-inline>li {display: inline-block}\n",
              ".list-inline>li:not(:last-child)::after {content: \"\\00b7\"; padding: 0 .5ex}\n",
              "</style>\n",
              "<ol class=list-inline><li>1287</li><li>6</li></ol>\n"
            ],
            "text/markdown": "1. 1287\n2. 6\n\n\n",
            "text/latex": "\\begin{enumerate*}\n\\item 1287\n\\item 6\n\\end{enumerate*}\n",
            "text/plain": [
              "[1] 1287    6"
            ]
          },
          "metadata": {}
        }
      ]
    },
    {
      "cell_type": "markdown",
      "source": [
        "Next, the response variable and any categorical predictor variables must be specifed as **factor** variables in R before modeling can be done."
      ],
      "metadata": {
        "id": "FUXbsaJ4cgLv"
      }
    },
    {
      "cell_type": "code",
      "source": [
        "#Converting Survival, Gender, and TravelingAlone to factor variables\n",
        "(Titantic_Modeling\n",
        "  %>% mutate(\n",
        "              Survived = factor(Survived),\n",
        "              Gender = factor(Gender),\n",
        "              TravelingAlone = factor(TravelingAlone)\n",
        "             ) \n",
        ") -> Titantic_Modeling \n",
        "\n",
        "str(Titantic_Modeling)"
      ],
      "metadata": {
        "colab": {
          "base_uri": "https://localhost:8080/"
        },
        "id": "Rpkza4LDcgVq",
        "outputId": "2d39024a-d31c-4e73-eceb-883f1eff0680"
      },
      "execution_count": 6,
      "outputs": [
        {
          "output_type": "stream",
          "name": "stdout",
          "text": [
            "tibble [1,287 × 6] (S3: tbl_df/tbl/data.frame)\n",
            " $ Name          : chr [1:1287] \"Allen, Miss. Elisabeth Walton\" \"Allison, Master. Hudson Trevor\" \"Allison, Miss. Helen Loraine\" \"Allison, Mr. Hudson Joshua Creighton\" ...\n",
            " $ Survived      : Factor w/ 2 levels \"No\",\"Yes\": 2 2 1 1 1 2 2 2 1 1 ...\n",
            " $ Gender        : Factor w/ 2 levels \"Female\",\"Male\": 1 2 1 2 1 2 1 1 2 2 ...\n",
            " $ Age           : num [1:1287] 29 0 2 30 25 48 63 53 71 47 ...\n",
            " $ TravelingAlone: Factor w/ 2 levels \"No\",\"Yes\": 2 1 1 1 1 2 1 1 2 1 ...\n",
            " $ TicketFair    : num [1:1287] 211 152 152 152 152 ...\n"
          ]
        }
      ]
    },
    {
      "cell_type": "markdown",
      "metadata": {
        "id": "zbAWmaV4Bq1i"
      },
      "source": [
        "## Fitting the Logisitic Regression Model in R"
      ]
    },
    {
      "cell_type": "markdown",
      "source": [
        "The glm() function is used to fit a logistic regression model in R."
      ],
      "metadata": {
        "id": "tXmCIV5nO2Zh"
      }
    },
    {
      "cell_type": "code",
      "metadata": {
        "id": "JcgnmxNoEwmX"
      },
      "source": [
        "#Fitting a Logistic Regression Model in R\n",
        "LogisticModel_Survived_Age <- glm(                             # Use the generalized linear model function\n",
        "                                    Survived ~ TicketFair,     # specify the formula for the prediction equation\n",
        "                                    data=Titantic_Modeling,    # specify the data.frame used for fitting the model\n",
        "                                    family=\"binomial\"          # specify binomial as the family for logistic models\n",
        "                                  )"
      ],
      "execution_count": 7,
      "outputs": []
    },
    {
      "cell_type": "markdown",
      "source": [
        "Getting a summary of this model. "
      ],
      "metadata": {
        "id": "bta0W1sXPXd3"
      }
    },
    {
      "cell_type": "code",
      "source": [
        "#Getting a summary of this model\n",
        "summary(LogisticModel_Survived_Age)"
      ],
      "metadata": {
        "colab": {
          "base_uri": "https://localhost:8080/",
          "height": 399
        },
        "id": "50xGByVuPWUq",
        "outputId": "c9fdb084-b2ce-43ad-d90d-31e7a937b703"
      },
      "execution_count": 8,
      "outputs": [
        {
          "output_type": "display_data",
          "data": {
            "text/plain": [
              "\n",
              "Call:\n",
              "glm(formula = Survived ~ TicketFair, family = \"binomial\", data = Titantic_Modeling)\n",
              "\n",
              "Deviance Residuals: \n",
              "    Min       1Q   Median       3Q      Max  \n",
              "-2.2072  -0.9023  -0.8725   1.3585   1.5421  \n",
              "\n",
              "Coefficients:\n",
              "             Estimate Std. Error z value Pr(>|z|)    \n",
              "(Intercept) -0.864564   0.076123 -11.357  < 2e-16 ***\n",
              "TicketFair   0.012201   0.001606   7.595 3.08e-14 ***\n",
              "---\n",
              "Signif. codes:  0 ‘***’ 0.001 ‘**’ 0.01 ‘*’ 0.05 ‘.’ 0.1 ‘ ’ 1\n",
              "\n",
              "(Dispersion parameter for binomial family taken to be 1)\n",
              "\n",
              "    Null deviance: 1714.1  on 1286  degrees of freedom\n",
              "Residual deviance: 1638.6  on 1285  degrees of freedom\n",
              "AIC: 1642.6\n",
              "\n",
              "Number of Fisher Scoring iterations: 4\n"
            ]
          },
          "metadata": {}
        }
      ]
    },
    {
      "cell_type": "markdown",
      "source": [
        "<table>\n",
        "  <tr>\n",
        "    <td bgcolor=\"yellow\" valign=\"top\"><font size=\"+2\"><strong>Comments</strong></font>\n",
        "    </td>\n",
        "    <td bgcolor=\"white\" valign=\"top\">\n",
        "      <ul>\n",
        "        <li>The concept of a *residual* is not as straight forward as in regression -- predictions are for a categorical outcome. </li>\n",
        "        <li>The concept of R^2 is not as straight forward as in regression -- misclassification rate in the predictions may be used as a metric for model performance.</li>\n",
        "      </ul>\n",
        "    </td>\n",
        "  </tr>\n",
        "</table>"
      ],
      "metadata": {
        "id": "uNWDBhKhQtk4"
      }
    },
    {
      "cell_type": "markdown",
      "source": [
        "## Interpretation of the Estimated Model Parameters"
      ],
      "metadata": {
        "id": "wMoAjaEhVIts"
      }
    },
    {
      "cell_type": "markdown",
      "source": [
        "The interpretation of the estimated model parameter for $TicketFair$ is as follows.  \n",
        "\n",
        "Suppose the $TicketFair$ for person A was $100$ lbs and the $TicketFair$ for person B was $150$ lbs.  In this situation the change in $TicketFair$ between person A and B is $\\Delta = 50$ lbs.\n",
        "\n",
        "Next, compute the quantity\n",
        "\n",
        "$$\n",
        "\\begin{array}{rcl}\n",
        "\\mbox{Odds Ratio for Survival} & = &  e^{\\hat{\\beta}_{1} * \\Delta} \\\\\n",
        "                               & = &  e^{0.0122 * 50} \\\\\n",
        "                               & = & 1.84\n",
        "\\end{array}\n",
        "$$"
      ],
      "metadata": {
        "id": "olHbHZBXVI-C"
      }
    },
    {
      "cell_type": "markdown",
      "source": [
        "**Interpretation**: The odds of survivual for Peron B are 1.84 times higher than the odds of survival for Person A."
      ],
      "metadata": {
        "id": "RHMk5GHQTct9"
      }
    },
    {
      "cell_type": "markdown",
      "source": [
        "Next, consider a visual depiction for the interpretation of the estimated model parameters."
      ],
      "metadata": {
        "id": "x-uEn_TcTe5O"
      }
    },
    {
      "cell_type": "markdown",
      "source": [
        "<p align=\"center\">\n",
        "<table align=\"center\" bgcolor=\"white\">\n",
        "  <tr>\n",
        "    <td align=\"center\" bgcolor=\"white\" valign=\"top\"><font size=\"+1\">Person A: TicketFair=100 lbs</font> <br><br><img src=\"https://drive.google.com/uc?export=view&id=1vU4a7RvoykON83Mu2zI8FoHu5LFdSkRH\" ></img>\n",
        "    </td>\n",
        "<td align=\"center\" bgcolor=\"white\" valign=\"top\"><font size=\"+1\">Person B: TicketFair = 150 lbs</font> <br><br><img src=\"https://drive.google.com/uc?export=view&id=1-JNZveVYGK2-G21-qN9kTQhNbbCpwDSU\"></img>\n",
        "</td>\n",
        "  </tr>\n",
        "  <tr>\n",
        "    <td>\n",
        "      \\begin{equation}\n",
        "              \\mbox{Person A: Odds of Survival} = \\frac{0.5879}{0.4121} = 1.4268                       \n",
        "      \\end{equation}\n",
        "    </td>\n",
        "    <td>\n",
        "      \\begin{equation}\n",
        "              \\mbox{Person B: Odds of Survival} = \\frac{0.7242}{0.2758} = 2.6258                      \n",
        "      \\end{equation}\n",
        "    </td>\n",
        "  </tr>\n",
        "  <tr>\n",
        "    <td colspan=\"2\">\n",
        "     \\begin{equation}\n",
        "              \\mbox{Odds Ratio} = \\frac{2.6258}{1.4268} = 1.84                      \n",
        "      \\end{equation}\n",
        "    </td>\n",
        "  </tr>\n",
        "</table>\n",
        "</p>\n"
      ],
      "metadata": {
        "id": "VkI2aJFtQOtB"
      }
    },
    {
      "cell_type": "markdown",
      "metadata": {
        "id": "LX6SE_e6Qsxn"
      },
      "source": [
        "## Making a Prediction\n"
      ]
    },
    {
      "cell_type": "markdown",
      "source": [
        "The estimated logistic regerssion model is given by the following equation."
      ],
      "metadata": {
        "id": "AluobILdX96g"
      }
    },
    {
      "cell_type": "markdown",
      "source": [
        "$$ \\begin{array}{rcl}\n",
        "ln \\left( \\frac{\\hat{\\theta}}{1-\\hat{\\theta}} \\right) & = & \\hat{\\beta}_0 + \\hat{\\beta}_1 * TicketFair \\\\\n",
        " & = & -0.8646 + 0.0122 * TicketFair\n",
        "\\end{array}\n",
        "$$"
      ],
      "metadata": {
        "id": "3wzKk53BQjNO"
      }
    },
    {
      "cell_type": "markdown",
      "source": [
        "Solving the above prediction equation for $\\hat{\\theta}$ which is the $P(Survived = Yes \\space | \\space TicketFair)$ yields\n",
        "\n",
        "$$ \n",
        "\\hat{\\theta} = \\frac{e^{\\left(-0.8646 + 0.0122 * TicketFair\\right)}}{1 + e^{\\left( -0.8646 + 0.0122 * TicketFair\\right)}}\n",
        "$$"
      ],
      "metadata": {
        "id": "VuRVFkGxdnts"
      }
    },
    {
      "cell_type": "markdown",
      "source": [
        "When the probability of $Survived$ exceeds 50\\%, then it is more likely that a person will surive than not, so the predicted outcome (or class) will be $Survived = Yes$"
      ],
      "metadata": {
        "id": "siWqK4v4Z1e9"
      }
    },
    {
      "cell_type": "markdown",
      "source": [
        " \n",
        "  $$\\begin{array}{rcl}\n",
        "\\mbox{Prediction for Survival Class} & = & \\begin{array}{rl}  \n",
        "\\biggl\\{ & \\begin{array}{cl} Yes & \\theta \\ge 0.50 \\\\ No &  \\theta < 0.50 \\end{array} \\end{array}\n",
        "\\end{array}\n",
        "$$\n"
      ],
      "metadata": {
        "id": "ViMSj8aMZ2EV"
      }
    },
    {
      "cell_type": "markdown",
      "source": [
        "## Getting the Predicted Probabilites and Class"
      ],
      "metadata": {
        "id": "n9YoQRG2afXa"
      }
    },
    {
      "cell_type": "markdown",
      "source": [
        "The following code can be used to obtain the predicted probabilites for each person in the original data.frame.  In addition, the predicted outcome is obtained using $Threshold = 50\\%$."
      ],
      "metadata": {
        "id": "VytdVvZKauCf"
      }
    },
    {
      "cell_type": "code",
      "source": [
        "#Getting the predicted probabilites and class\n",
        "(Titantic_Modeling\n",
        " %>% mutate(\"Predicted_Probability_Yes\" = predict(LogisticModel_Survived_Age, data=Titantic_Modeling, type=\"response\"))\n",
        " %>% mutate(\"Predicted_Class\" = ifelse(Predicted_Probability_Yes > 0.50, \"Yes\", \"No\"))\n",
        " ) -> Titantic_Modeling_with_Predictions\n",
        "\n",
        "head(Titantic_Modeling_with_Predictions, 10)"
      ],
      "metadata": {
        "colab": {
          "base_uri": "https://localhost:8080/",
          "height": 412
        },
        "id": "MQqqHSiXdn2U",
        "outputId": "40f7ac04-cf17-488a-dfdc-c7ea5b2191e5"
      },
      "execution_count": 10,
      "outputs": [
        {
          "output_type": "display_data",
          "data": {
            "text/html": [
              "<table class=\"dataframe\">\n",
              "<caption>A tibble: 10 × 8</caption>\n",
              "<thead>\n",
              "\t<tr><th scope=col>Name</th><th scope=col>Survived</th><th scope=col>Gender</th><th scope=col>Age</th><th scope=col>TravelingAlone</th><th scope=col>TicketFair</th><th scope=col>Predicted_Probability_Yes</th><th scope=col>Predicted_Class</th></tr>\n",
              "\t<tr><th scope=col>&lt;chr&gt;</th><th scope=col>&lt;fct&gt;</th><th scope=col>&lt;fct&gt;</th><th scope=col>&lt;dbl&gt;</th><th scope=col>&lt;fct&gt;</th><th scope=col>&lt;dbl&gt;</th><th scope=col>&lt;dbl&gt;</th><th scope=col>&lt;chr&gt;</th></tr>\n",
              "</thead>\n",
              "<tbody>\n",
              "\t<tr><td>Allen, Miss. Elisabeth Walton                  </td><td>Yes</td><td>Female</td><td>29</td><td>Yes</td><td>211.3375</td><td>0.8473519</td><td>Yes</td></tr>\n",
              "\t<tr><td>Allison, Master. Hudson Trevor                 </td><td>Yes</td><td>Male  </td><td> 0</td><td>No </td><td>151.5500</td><td>0.7280020</td><td>Yes</td></tr>\n",
              "\t<tr><td>Allison, Miss. Helen Loraine                   </td><td>No </td><td>Female</td><td> 2</td><td>No </td><td>151.5500</td><td>0.7280020</td><td>Yes</td></tr>\n",
              "\t<tr><td>Allison, Mr. Hudson Joshua Creighton           </td><td>No </td><td>Male  </td><td>30</td><td>No </td><td>151.5500</td><td>0.7280020</td><td>Yes</td></tr>\n",
              "\t<tr><td>Allison, Mrs. Hudson J C (Bessie Waldo Daniels)</td><td>No </td><td>Female</td><td>25</td><td>No </td><td>151.5500</td><td>0.7280020</td><td>Yes</td></tr>\n",
              "\t<tr><td>Anderson, Mr. Harry                            </td><td>Yes</td><td>Male  </td><td>48</td><td>Yes</td><td> 26.5500</td><td>0.3680422</td><td>No </td></tr>\n",
              "\t<tr><td>Andrews, Miss. Kornelia Theodosia              </td><td>Yes</td><td>Female</td><td>63</td><td>No </td><td> 77.9583</td><td>0.5216393</td><td>Yes</td></tr>\n",
              "\t<tr><td>Appleton, Mrs. Edward Dale (Charlotte Lamson)  </td><td>Yes</td><td>Female</td><td>53</td><td>No </td><td> 51.4792</td><td>0.4411584</td><td>No </td></tr>\n",
              "\t<tr><td>Artagaveytia, Mr. Ramon                        </td><td>No </td><td>Male  </td><td>71</td><td>Yes</td><td> 49.5042</td><td>0.4352263</td><td>No </td></tr>\n",
              "\t<tr><td>Astor, Col. John Jacob                         </td><td>No </td><td>Male  </td><td>47</td><td>No </td><td>227.5250</td><td>0.8711860</td><td>Yes</td></tr>\n",
              "</tbody>\n",
              "</table>\n"
            ],
            "text/markdown": "\nA tibble: 10 × 8\n\n| Name &lt;chr&gt; | Survived &lt;fct&gt; | Gender &lt;fct&gt; | Age &lt;dbl&gt; | TravelingAlone &lt;fct&gt; | TicketFair &lt;dbl&gt; | Predicted_Probability_Yes &lt;dbl&gt; | Predicted_Class &lt;chr&gt; |\n|---|---|---|---|---|---|---|---|\n| Allen, Miss. Elisabeth Walton                   | Yes | Female | 29 | Yes | 211.3375 | 0.8473519 | Yes |\n| Allison, Master. Hudson Trevor                  | Yes | Male   |  0 | No  | 151.5500 | 0.7280020 | Yes |\n| Allison, Miss. Helen Loraine                    | No  | Female |  2 | No  | 151.5500 | 0.7280020 | Yes |\n| Allison, Mr. Hudson Joshua Creighton            | No  | Male   | 30 | No  | 151.5500 | 0.7280020 | Yes |\n| Allison, Mrs. Hudson J C (Bessie Waldo Daniels) | No  | Female | 25 | No  | 151.5500 | 0.7280020 | Yes |\n| Anderson, Mr. Harry                             | Yes | Male   | 48 | Yes |  26.5500 | 0.3680422 | No  |\n| Andrews, Miss. Kornelia Theodosia               | Yes | Female | 63 | No  |  77.9583 | 0.5216393 | Yes |\n| Appleton, Mrs. Edward Dale (Charlotte Lamson)   | Yes | Female | 53 | No  |  51.4792 | 0.4411584 | No  |\n| Artagaveytia, Mr. Ramon                         | No  | Male   | 71 | Yes |  49.5042 | 0.4352263 | No  |\n| Astor, Col. John Jacob                          | No  | Male   | 47 | No  | 227.5250 | 0.8711860 | Yes |\n\n",
            "text/latex": "A tibble: 10 × 8\n\\begin{tabular}{llllllll}\n Name & Survived & Gender & Age & TravelingAlone & TicketFair & Predicted\\_Probability\\_Yes & Predicted\\_Class\\\\\n <chr> & <fct> & <fct> & <dbl> & <fct> & <dbl> & <dbl> & <chr>\\\\\n\\hline\n\t Allen, Miss. Elisabeth Walton                   & Yes & Female & 29 & Yes & 211.3375 & 0.8473519 & Yes\\\\\n\t Allison, Master. Hudson Trevor                  & Yes & Male   &  0 & No  & 151.5500 & 0.7280020 & Yes\\\\\n\t Allison, Miss. Helen Loraine                    & No  & Female &  2 & No  & 151.5500 & 0.7280020 & Yes\\\\\n\t Allison, Mr. Hudson Joshua Creighton            & No  & Male   & 30 & No  & 151.5500 & 0.7280020 & Yes\\\\\n\t Allison, Mrs. Hudson J C (Bessie Waldo Daniels) & No  & Female & 25 & No  & 151.5500 & 0.7280020 & Yes\\\\\n\t Anderson, Mr. Harry                             & Yes & Male   & 48 & Yes &  26.5500 & 0.3680422 & No \\\\\n\t Andrews, Miss. Kornelia Theodosia               & Yes & Female & 63 & No  &  77.9583 & 0.5216393 & Yes\\\\\n\t Appleton, Mrs. Edward Dale (Charlotte Lamson)   & Yes & Female & 53 & No  &  51.4792 & 0.4411584 & No \\\\\n\t Artagaveytia, Mr. Ramon                         & No  & Male   & 71 & Yes &  49.5042 & 0.4352263 & No \\\\\n\t Astor, Col. John Jacob                          & No  & Male   & 47 & No  & 227.5250 & 0.8711860 & Yes\\\\\n\\end{tabular}\n",
            "text/plain": [
              "   Name                                            Survived Gender Age\n",
              "1  Allen, Miss. Elisabeth Walton                   Yes      Female 29 \n",
              "2  Allison, Master. Hudson Trevor                  Yes      Male    0 \n",
              "3  Allison, Miss. Helen Loraine                    No       Female  2 \n",
              "4  Allison, Mr. Hudson Joshua Creighton            No       Male   30 \n",
              "5  Allison, Mrs. Hudson J C (Bessie Waldo Daniels) No       Female 25 \n",
              "6  Anderson, Mr. Harry                             Yes      Male   48 \n",
              "7  Andrews, Miss. Kornelia Theodosia               Yes      Female 63 \n",
              "8  Appleton, Mrs. Edward Dale (Charlotte Lamson)   Yes      Female 53 \n",
              "9  Artagaveytia, Mr. Ramon                         No       Male   71 \n",
              "10 Astor, Col. John Jacob                          No       Male   47 \n",
              "   TravelingAlone TicketFair Predicted_Probability_Yes Predicted_Class\n",
              "1  Yes            211.3375   0.8473519                 Yes            \n",
              "2  No             151.5500   0.7280020                 Yes            \n",
              "3  No             151.5500   0.7280020                 Yes            \n",
              "4  No             151.5500   0.7280020                 Yes            \n",
              "5  No             151.5500   0.7280020                 Yes            \n",
              "6  Yes             26.5500   0.3680422                 No             \n",
              "7  No              77.9583   0.5216393                 Yes            \n",
              "8  No              51.4792   0.4411584                 No             \n",
              "9  Yes             49.5042   0.4352263                 No             \n",
              "10 No             227.5250   0.8711860                 Yes            "
            ]
          },
          "metadata": {}
        }
      ]
    },
    {
      "cell_type": "markdown",
      "metadata": {
        "id": "Wio5jSmRWEi0"
      },
      "source": [
        "## Creating a Plot of the Predicted Probabilities"
      ]
    },
    {
      "cell_type": "code",
      "metadata": {
        "colab": {
          "base_uri": "https://localhost:8080/",
          "height": 437
        },
        "id": "N_MsWLt_W5Q9",
        "outputId": "b5722621-03a2-4235-9483-4063a3cf10d9"
      },
      "source": [
        "ggplot(data=Titantic_Modeling_with_Predictions, aes(x=TicketFair, y=Predicted_Probability_Yes)) + \n",
        " #geom_point() +\n",
        " geom_line() + \n",
        " scale_y_continuous(limits=c(0, 1)) +\n",
        " labs(x = \"Ticket Fair (lbs)\", y= \"Predicted Probability for Survived = Yes\") +\n",
        " ggtitle(\"Plot of the Predicted Probabilities for Survival ~ TicketFair\") +\n",
        " theme_bw()"
      ],
      "execution_count": 13,
      "outputs": [
        {
          "output_type": "display_data",
          "data": {
            "text/plain": [
              "plot without title"
            ],
            "image/png": "[encoded data removed]"
          },
          "metadata": {
            "image/png": {
              "width": 420,
              "height": 420
            }
          }
        }
      ]
    },
    {
      "cell_type": "markdown",
      "source": [
        "\n",
        "\n",
        "---\n",
        "\n"
      ],
      "metadata": {
        "id": "K9D6h5iZckt4"
      }
    },
    {
      "cell_type": "markdown",
      "metadata": {
        "id": "hLUv_8wxXfVl"
      },
      "source": [
        "## Evaluating Model Performance"
      ]
    },
    {
      "cell_type": "markdown",
      "source": [
        "The **expss()** package cab be used to prettify tables, so let's install this package into this COLAB session."
      ],
      "metadata": {
        "id": "7JLf-WZXh2yt"
      }
    },
    {
      "cell_type": "code",
      "source": [
        "install.packages(\"expss\")"
      ],
      "metadata": {
        "id": "CV2BpK31kA87",
        "colab": {
          "base_uri": "https://localhost:8080/"
        },
        "outputId": "05f8a2c1-6ea9-4f18-852e-62d7d4908f8f"
      },
      "execution_count": null,
      "outputs": [
        {
          "output_type": "stream",
          "name": "stderr",
          "text": [
            "Installing package into ‘/usr/local/lib/R/site-library’\n",
            "(as ‘lib’ is unspecified)\n",
            "\n",
            "also installing the dependencies ‘checkmate’, ‘htmlwidgets’, ‘maditr’, ‘htmlTable’, ‘matrixStats’\n",
            "\n",
            "\n"
          ]
        }
      ]
    },
    {
      "cell_type": "markdown",
      "source": [
        "Next, load this package into this COLAB session."
      ],
      "metadata": {
        "id": "DahN4zNzhIsr"
      }
    },
    {
      "cell_type": "code",
      "source": [
        "library(expss)"
      ],
      "metadata": {
        "id": "CX5VGt-ihI1y"
      },
      "execution_count": null,
      "outputs": []
    },
    {
      "cell_type": "markdown",
      "source": [
        "A <strong>confusion matrix/table</strong> is used to investigate the quality of the predictions.  Recall, the actual response outcomes have two levels (Yes/No) and the predictions have two levels (Yes/No); thus, a simple 2x2 table can be used to investigat the quality of the predictions from a logistic regerssion model.  The following code will create a confusion table for the estimated predicitve model provided above."
      ],
      "metadata": {
        "id": "tG7_COH7jKkD"
      }
    },
    {
      "cell_type": "code",
      "source": [
        "(apply_labels(Titantic_Modeling_with_Predictions,\n",
        "              Survived = \"Actual: Survived\",\n",
        "              Predicted_Class = \"Predicted: Survived\"\n",
        "            )\n",
        ") -> Titantic_Modeling_with_Predictions\n",
        "\n",
        "cross_cases(Titantic_Modeling_with_Predictions, Survived, Predicted_Class, total_row_position =\"none\")"
      ],
      "metadata": {
        "id": "k9dehJgMjKqH",
        "colab": {
          "base_uri": "https://localhost:8080/",
          "height": 128
        },
        "outputId": "0462cacc-5914-4702-fd46-0eb6fd8e3090"
      },
      "execution_count": null,
      "outputs": [
        {
          "output_type": "display_data",
          "data": {
            "text/html": [
              "<table class='gmisc_table' style='border-collapse: collapse; margin-top: 1em; margin-bottom: 1em;' >\n",
              "<thead>\n",
              "<tr>\n",
              "<th style='border-top: 2px solid grey;'></th>\n",
              "<th colspan='1' style='font-weight: 900; border-top: 2px solid grey; text-align: center;'></th><th style='border-bottom: none; border-top: 2px solid grey;' colspan=1>&nbsp;</th>\n",
              "<th colspan='2' style='font-weight: 900; border-bottom: 1px solid grey; border-top: 2px solid grey; text-align: center;'>&nbsp;Predicted: Survived&nbsp;</th>\n",
              "</tr>\n",
              "<tr><th style='border-bottom: 1px solid grey; font-weight: 900; text-align: center;'></th>\n",
              "<th style='font-weight: 900; border-bottom: 1px solid grey; text-align: center;'></th> \n",
              "<th style='font-weight: 900; border-bottom: 1px solid grey; text-align: center;' colspan=1>&nbsp;</th>\n",
              "<th style='font-weight: 900; border-bottom: 1px solid grey; text-align: center;'>&nbsp;No&nbsp;</th>\n",
              "<th style='font-weight: 900; border-bottom: 1px solid grey; text-align: center;'>&nbsp;Yes&nbsp;</th>\n",
              "</tr>\n",
              "</thead>\n",
              "<tbody>\n",
              "<tr>\n",
              "<td style='text-align: left;'>&nbsp;Actual: Survived&nbsp;</td>\n",
              "<td style='text-align: left;'>&nbsp;No&nbsp;</td> \n",
              "<td style='text-align: left;' colspan=1>&nbsp;</td>\n",
              "<td style='text-align: right;'>744</td>\n",
              "<td style='text-align: right;'>49</td>\n",
              "</tr>\n",
              "<tr>\n",
              "<td style='border-bottom: 2px solid grey; text-align: left;'></td>\n",
              "<td style='border-bottom: 2px solid grey; text-align: left;'>&nbsp;Yes&nbsp;</td> \n",
              "<td style='border-bottom: 2px solid grey; text-align: left;' colspan=1>&nbsp;</td>\n",
              "<td style='border-bottom: 2px solid grey; text-align: right;'>391</td>\n",
              "<td style='border-bottom: 2px solid grey; text-align: right;'>103</td>\n",
              "</tr>\n",
              "</tbody>\n",
              "</table>"
            ],
            "text/markdown": "\nA etable: 2 × 3\n\n| row_labels &lt;chr&gt; | Predicted: Survived|No &lt;dbl&gt; | Predicted: Survived|Yes &lt;dbl&gt; |\n|---|---|---|\n| Actual: Survived|No  | 744 |  49 |\n| Actual: Survived|Yes | 391 | 103 |\n\n",
            "text/latex": "A etable: 2 × 3\n\\begin{tabular}{lll}\n row\\_labels & Predicted: Survived\\textbar{}No & Predicted: Survived\\textbar{}Yes\\\\\n <chr> & <dbl> & <dbl>\\\\\n\\hline\n\t Actual: Survived\\textbar{}No  & 744 &  49\\\\\n\t Actual: Survived\\textbar{}Yes & 391 & 103\\\\\n\\end{tabular}\n",
            "text/plain": [
              "                                                       \n",
              " |                  |     | Predicted: Survived |     |\n",
              " |                  |     |                  No | Yes |\n",
              " | ---------------- | --- | ------------------- | --- |\n",
              " | Actual: Survived |  No |                 744 |  49 |\n",
              " |                  | Yes |                 391 | 103 |"
            ]
          },
          "metadata": {}
        }
      ]
    },
    {
      "cell_type": "markdown",
      "source": [
        "### Performance Metrics for Classification Problems"
      ],
      "metadata": {
        "id": "2R1U-5LaLVLm"
      }
    },
    {
      "cell_type": "markdown",
      "source": [
        "The following predictive performance metrics can be used for classification problems. \n",
        "\n",
        "*  <strong>Accuracy</strong>: the proportion of predictions that were <strong>correct</strong>\n",
        "*  <strong>Missclassification Rate</strong>: the proportion of predictions that were <strong>not</strong> correct\n",
        "*  <strong>Area Under ROC Curve</strong>: an ROC curve considers the sensitivity (true positive rate) and the complement of specificity (false positive rate) from the model"
      ],
      "metadata": {
        "id": "CHTPhrPcOpie"
      }
    },
    {
      "cell_type": "markdown",
      "source": [
        "For classification problems, many of the preformance metrics use the confusion matrix."
      ],
      "metadata": {
        "id": "CSTgsz_WOFbp"
      }
    },
    {
      "cell_type": "code",
      "source": [
        "cross_cases(Titantic_Modeling_with_Predictions, Survived, Predicted_Class, total_row_position =\"none\")"
      ],
      "metadata": {
        "id": "LG8PQh2XOFiA",
        "colab": {
          "base_uri": "https://localhost:8080/",
          "height": 128
        },
        "outputId": "d6d471eb-2a5c-4997-a18d-2a63e58ab885"
      },
      "execution_count": null,
      "outputs": [
        {
          "output_type": "display_data",
          "data": {
            "text/html": [
              "<table class='gmisc_table' style='border-collapse: collapse; margin-top: 1em; margin-bottom: 1em;' >\n",
              "<thead>\n",
              "<tr>\n",
              "<th style='border-top: 2px solid grey;'></th>\n",
              "<th colspan='1' style='font-weight: 900; border-top: 2px solid grey; text-align: center;'></th><th style='border-bottom: none; border-top: 2px solid grey;' colspan=1>&nbsp;</th>\n",
              "<th colspan='2' style='font-weight: 900; border-bottom: 1px solid grey; border-top: 2px solid grey; text-align: center;'>&nbsp;Predicted: Survived&nbsp;</th>\n",
              "</tr>\n",
              "<tr><th style='border-bottom: 1px solid grey; font-weight: 900; text-align: center;'></th>\n",
              "<th style='font-weight: 900; border-bottom: 1px solid grey; text-align: center;'></th> \n",
              "<th style='font-weight: 900; border-bottom: 1px solid grey; text-align: center;' colspan=1>&nbsp;</th>\n",
              "<th style='font-weight: 900; border-bottom: 1px solid grey; text-align: center;'>&nbsp;No&nbsp;</th>\n",
              "<th style='font-weight: 900; border-bottom: 1px solid grey; text-align: center;'>&nbsp;Yes&nbsp;</th>\n",
              "</tr>\n",
              "</thead>\n",
              "<tbody>\n",
              "<tr>\n",
              "<td style='text-align: left;'>&nbsp;Actual: Survived&nbsp;</td>\n",
              "<td style='text-align: left;'>&nbsp;No&nbsp;</td> \n",
              "<td style='text-align: left;' colspan=1>&nbsp;</td>\n",
              "<td style='text-align: right;'>744</td>\n",
              "<td style='text-align: right;'>49</td>\n",
              "</tr>\n",
              "<tr>\n",
              "<td style='border-bottom: 2px solid grey; text-align: left;'></td>\n",
              "<td style='border-bottom: 2px solid grey; text-align: left;'>&nbsp;Yes&nbsp;</td> \n",
              "<td style='border-bottom: 2px solid grey; text-align: left;' colspan=1>&nbsp;</td>\n",
              "<td style='border-bottom: 2px solid grey; text-align: right;'>391</td>\n",
              "<td style='border-bottom: 2px solid grey; text-align: right;'>103</td>\n",
              "</tr>\n",
              "</tbody>\n",
              "</table>"
            ],
            "text/markdown": "\nA etable: 2 × 3\n\n| row_labels &lt;chr&gt; | Predicted: Survived|No &lt;dbl&gt; | Predicted: Survived|Yes &lt;dbl&gt; |\n|---|---|---|\n| Actual: Survived|No  | 744 |  49 |\n| Actual: Survived|Yes | 391 | 103 |\n\n",
            "text/latex": "A etable: 2 × 3\n\\begin{tabular}{lll}\n row\\_labels & Predicted: Survived\\textbar{}No & Predicted: Survived\\textbar{}Yes\\\\\n <chr> & <dbl> & <dbl>\\\\\n\\hline\n\t Actual: Survived\\textbar{}No  & 744 &  49\\\\\n\t Actual: Survived\\textbar{}Yes & 391 & 103\\\\\n\\end{tabular}\n",
            "text/plain": [
              "                                                       \n",
              " |                  |     | Predicted: Survived |     |\n",
              " |                  |     |                  No | Yes |\n",
              " | ---------------- | --- | ------------------- | --- |\n",
              " | Actual: Survived |  No |                 744 |  49 |\n",
              " |                  | Yes |                 391 | 103 |"
            ]
          },
          "metadata": {}
        }
      ]
    },
    {
      "cell_type": "markdown",
      "source": [
        "The **Accuracy** measure is simply the proportion of predictions that were correct.\n",
        "\n",
        "$$\\begin{array}{rcl}\n",
        "  Accuracy & = & \\frac{744+103}{(744+49+391+103)} \\\\ \n",
        "          & = & \\frac{847}{1287} \\\\\n",
        "           & = & 0.6581 \\\\\n",
        "           & \\approx & 66\\%\n",
        "\\end{array}\n",
        "$$"
      ],
      "metadata": {
        "id": "5vAwTz0sOlE3"
      }
    },
    {
      "cell_type": "markdown",
      "source": [
        "Similarly, the **Missclassification Rate** is the proportion of predictions that were  not correct.\n",
        "\n",
        "$$\\begin{array}{rcl}\n",
        "  \\mbox{Missclassification Rate} & = & \\frac{49+391}{(744+49+391+103)} \\\\ \n",
        "            & = & \\frac{440}{1287} \\\\\n",
        "           & = & 0.3419 \\\\\n",
        "           & \\approx & 34\\%\n",
        "\\end{array}\n",
        "$$\n",
        "\n",
        "**Note**: The short-cut is to simply compute the Missclassification Rate  = (1 - Accuracy)."
      ],
      "metadata": {
        "id": "nf37lFXVQTwA"
      }
    },
    {
      "cell_type": "markdown",
      "source": [
        "The following code chunck will compute the accuracy and missclassification rate for this logistic regression model."
      ],
      "metadata": {
        "id": "jLsVcJakfFLH"
      }
    },
    {
      "cell_type": "code",
      "source": [
        "(Titantic_Modeling_with_Predictions\n",
        " %>% summarize(\"Accuracy\" = mean(Survived == Predicted_Class), \n",
        "               \"Missclassification Rate\" = mean(Survived != Predicted_Class)\n",
        "               )\n",
        " %>% gather(key=\"Metric\", value=\"Value\")\n",
        ")"
      ],
      "metadata": {
        "id": "hOUhwCbELVTG",
        "colab": {
          "base_uri": "https://localhost:8080/",
          "height": 161
        },
        "outputId": "49bf40ed-77d9-40e7-d892-f4a6e094a1b3"
      },
      "execution_count": null,
      "outputs": [
        {
          "output_type": "display_data",
          "data": {
            "text/html": [
              "<table class=\"dataframe\">\n",
              "<caption>A tibble: 2 × 2</caption>\n",
              "<thead>\n",
              "\t<tr><th scope=col>Metric</th><th scope=col>Value</th></tr>\n",
              "\t<tr><th scope=col>&lt;chr&gt;</th><th scope=col>&lt;dbl&gt;</th></tr>\n",
              "</thead>\n",
              "<tbody>\n",
              "\t<tr><td>Accuracy               </td><td>0.6581197</td></tr>\n",
              "\t<tr><td>Missclassification Rate</td><td>0.3418803</td></tr>\n",
              "</tbody>\n",
              "</table>\n"
            ],
            "text/markdown": "\nA tibble: 2 × 2\n\n| Metric &lt;chr&gt; | Value &lt;dbl&gt; |\n|---|---|\n| Accuracy                | 0.6581197 |\n| Missclassification Rate | 0.3418803 |\n\n",
            "text/latex": "A tibble: 2 × 2\n\\begin{tabular}{ll}\n Metric & Value\\\\\n <chr> & <dbl>\\\\\n\\hline\n\t Accuracy                & 0.6581197\\\\\n\t Missclassification Rate & 0.3418803\\\\\n\\end{tabular}\n",
            "text/plain": [
              "  Metric                  Value    \n",
              "1 Accuracy                0.6581197\n",
              "2 Missclassification Rate 0.3418803"
            ]
          },
          "metadata": {}
        }
      ]
    },
    {
      "cell_type": "markdown",
      "source": [
        "### Area Under the ROC Curve"
      ],
      "metadata": {
        "id": "kAGLq1sBfZnx"
      }
    },
    {
      "cell_type": "markdown",
      "source": [
        "The Area under ROC curve is a more complete metric which can be used to measure the overall performance of predictive model used for a classification problem.  An ROC curve requires the following calculations.\n",
        "\n",
        "*  <strong>Sensitivity</strong>: the proportion of people who suvived that were predicted to have survived; want this to be high\n",
        "*  <strong>Specificity</strong>: the proportion of people who do not survive  that were predicted to have not survived; want this to be high; \n",
        "*  <strong>Threshold</strong>: the threshold/value used for the predictive probabilities to decide the predicted outcome; the default is to use threshold = 50%, a 50% threshold will simply classify a person to have survived when the predicted probability exceeds 50%\n",
        "\n",
        "<strong>Comment</strong>: Sensitivity is referred to as <strong>True Positive</strong> rate and the complement of Specificity, i.e. (1-Specificity), is commonly referred to <strong>False Positive</strong> rate."
      ],
      "metadata": {
        "id": "6Du5QVwLf5nm"
      }
    },
    {
      "cell_type": "markdown",
      "source": [
        "A ROC curve and the asscociated summaries can be obtained using the the **pROC()**mfunction in R.  This package is installed here."
      ],
      "metadata": {
        "id": "iCngkkebjsdm"
      }
    },
    {
      "cell_type": "code",
      "source": [
        "install.packages(\"pROC\")"
      ],
      "metadata": {
        "id": "lJedx75cZ5Q1",
        "colab": {
          "base_uri": "https://localhost:8080/"
        },
        "outputId": "9b064f19-87f2-4c6c-e10d-f665f9e418a5"
      },
      "execution_count": null,
      "outputs": [
        {
          "output_type": "stream",
          "name": "stderr",
          "text": [
            "Installing package into ‘/usr/local/lib/R/site-library’\n",
            "(as ‘lib’ is unspecified)\n",
            "\n",
            "also installing the dependencies ‘plyr’, ‘Rcpp’\n",
            "\n",
            "\n"
          ]
        }
      ]
    },
    {
      "cell_type": "markdown",
      "source": [
        "Next, let's load the pROC() package into this COLAB session."
      ],
      "metadata": {
        "id": "s1YVJj7kjFTx"
      }
    },
    {
      "cell_type": "code",
      "source": [
        "library(pROC)"
      ],
      "metadata": {
        "id": "mHtdgUgTjFdT"
      },
      "execution_count": null,
      "outputs": []
    },
    {
      "cell_type": "markdown",
      "source": [
        "Next, the **roc()** function will be used to obtain the ROC Curve in addition to other summary measures."
      ],
      "metadata": {
        "id": "y9IGYERlbHI7"
      }
    },
    {
      "cell_type": "code",
      "source": [
        "#Getting summaries for ROC curve\n",
        "Predicted_Probs = predict(LogisticModel_Survived_Age, data=Titantic_Modeling, type=\"response\")\n",
        "ROC_Output = roc(Titantic_Modeling$Survived ~ Predicted_Probs, plot = FALSE)\n",
        "\n",
        "ROC_Outcomes <- data.frame(Threhsolds = ROC_Output$thresholds, FalsePositive = 1-ROC_Output$specificities, TruePositive = ROC_Output$sensitivities)\n"
      ],
      "metadata": {
        "id": "4z9q6qwvkC1c",
        "colab": {
          "base_uri": "https://localhost:8080/"
        },
        "outputId": "48e5ef7c-78e3-4d84-a579-756be572eac7"
      },
      "execution_count": null,
      "outputs": [
        {
          "output_type": "stream",
          "name": "stderr",
          "text": [
            "Setting levels: control = No, case = Yes\n",
            "\n",
            "Setting direction: controls < cases\n",
            "\n"
          ]
        }
      ]
    },
    {
      "cell_type": "markdown",
      "source": [
        "The following code chunk will compute the TruePositive and FalsePositive rates when using a threshold value of 0.50."
      ],
      "metadata": {
        "id": "yXZHLX6Rm1yw"
      }
    },
    {
      "cell_type": "code",
      "source": [
        "(coords(roc=ROC_Output, x=0.50, input=\"threshold\", transpose = FALSE)\n",
        "  %>% mutate(\"FalsePositive\" = 1 - specificity)\n",
        "  %>% rename(TruePositive = sensitivity)\n",
        "  %>% rename(Threshold = threshold)\n",
        "  %>% select(Threshold, FalsePositive, TruePositive)\n",
        ")"
      ],
      "metadata": {
        "id": "sYcRnkvFm16O",
        "colab": {
          "base_uri": "https://localhost:8080/",
          "height": 129
        },
        "outputId": "22bb840f-d5c1-4ef9-d9dc-66487fd5b3a1"
      },
      "execution_count": null,
      "outputs": [
        {
          "output_type": "display_data",
          "data": {
            "text/html": [
              "<table class=\"dataframe\">\n",
              "<caption>A data.frame: 1 × 3</caption>\n",
              "<thead>\n",
              "\t<tr><th scope=col>Threshold</th><th scope=col>FalsePositive</th><th scope=col>TruePositive</th></tr>\n",
              "\t<tr><th scope=col>&lt;dbl&gt;</th><th scope=col>&lt;dbl&gt;</th><th scope=col>&lt;dbl&gt;</th></tr>\n",
              "</thead>\n",
              "<tbody>\n",
              "\t<tr><td>0.5</td><td>0.06179067</td><td>0.208502</td></tr>\n",
              "</tbody>\n",
              "</table>\n"
            ],
            "text/markdown": "\nA data.frame: 1 × 3\n\n| Threshold &lt;dbl&gt; | FalsePositive &lt;dbl&gt; | TruePositive &lt;dbl&gt; |\n|---|---|---|\n| 0.5 | 0.06179067 | 0.208502 |\n\n",
            "text/latex": "A data.frame: 1 × 3\n\\begin{tabular}{lll}\n Threshold & FalsePositive & TruePositive\\\\\n <dbl> & <dbl> & <dbl>\\\\\n\\hline\n\t 0.5 & 0.06179067 & 0.208502\\\\\n\\end{tabular}\n",
            "text/plain": [
              "  Threshold FalsePositive TruePositive\n",
              "1 0.5       0.06179067    0.208502    "
            ]
          },
          "metadata": {}
        }
      ]
    },
    {
      "cell_type": "markdown",
      "source": [
        "The following code will construct the ROC curve for this example."
      ],
      "metadata": {
        "id": "qU3aWDz4wgnp"
      }
    },
    {
      "cell_type": "code",
      "source": [
        "#The following options for roc() can be used to create the ROC curve\n",
        "RUC_Outcomes<-roc(Titantic_Modeling$Survived ~ Predicted_Probs, print.auc = TRUE, plot = TRUE, legacy.axes=TRUE)"
      ],
      "metadata": {
        "id": "59oVEw82bHPo",
        "colab": {
          "base_uri": "https://localhost:8080/",
          "height": 506
        },
        "outputId": "45d323a6-afc6-43bb-d69b-3f72e638bbda"
      },
      "execution_count": null,
      "outputs": [
        {
          "output_type": "stream",
          "name": "stderr",
          "text": [
            "Setting levels: control = No, case = Yes\n",
            "\n",
            "Setting direction: controls < cases\n",
            "\n"
          ]
        },
        {
          "output_type": "display_data",
          "data": {
            "text/plain": [
              "plot without title"
            ],
            "image/png": "[encoded data removed]"
          },
          "metadata": {
            "image/png": {
              "width": 420,
              "height": 420
            }
          }
        }
      ]
    },
    {
      "cell_type": "markdown",
      "source": [
        "The use of $Threshold = 0.50$ will *always* produce the highest Accuracy measure.  However, a different threshold value may produce a *higher* TruePositive rate or *lower* FalsePositive rate.  The following code chuck allows you to change the threshold value to understand the effect of the threshold value on the FalsePosive and TruePostive rates."
      ],
      "metadata": {
        "id": "SrtIcKNrqvFX"
      }
    },
    {
      "cell_type": "code",
      "source": [
        "# Change to value for newthreshold to understand the impact of the threshold value \n",
        "# on the TruePositive and FalsePositive rates\n",
        "newthreshold <- c(0.40)\n",
        "\n",
        "(Titantic_Modeling\n",
        " %>% mutate(\"Predicted_Probability_Yes\" = predict(LogisticModel_Survived_Age, data=Titantic_Modeling, type=\"response\"))\n",
        " %>% mutate(\"Predicted_Class\" = ifelse(Predicted_Probability_Yes > newthreshold, \"Yes\", \"No\"))\n",
        " ) -> Titantic_Modeling_Updated\n",
        "\n",
        "\n",
        "cross_cases(Titantic_Modeling_Updated, Survived, Predicted_Class, total_row_position =\"none\")"
      ],
      "metadata": {
        "id": "G-iWFc5YqvMM",
        "colab": {
          "base_uri": "https://localhost:8080/",
          "height": 128
        },
        "outputId": "8e9de646-69fc-43c5-a660-2ce1412a2177"
      },
      "execution_count": null,
      "outputs": [
        {
          "output_type": "display_data",
          "data": {
            "text/html": [
              "<table class='gmisc_table' style='border-collapse: collapse; margin-top: 1em; margin-bottom: 1em;' >\n",
              "<thead>\n",
              "<tr>\n",
              "<th style='border-top: 2px solid grey;'></th>\n",
              "<th colspan='1' style='font-weight: 900; border-top: 2px solid grey; text-align: center;'></th><th style='border-bottom: none; border-top: 2px solid grey;' colspan=1>&nbsp;</th>\n",
              "<th colspan='2' style='font-weight: 900; border-bottom: 1px solid grey; border-top: 2px solid grey; text-align: center;'>&nbsp;Predicted_Class&nbsp;</th>\n",
              "</tr>\n",
              "<tr><th style='border-bottom: 1px solid grey; font-weight: 900; text-align: center;'></th>\n",
              "<th style='font-weight: 900; border-bottom: 1px solid grey; text-align: center;'></th> \n",
              "<th style='font-weight: 900; border-bottom: 1px solid grey; text-align: center;' colspan=1>&nbsp;</th>\n",
              "<th style='font-weight: 900; border-bottom: 1px solid grey; text-align: center;'>&nbsp;No&nbsp;</th>\n",
              "<th style='font-weight: 900; border-bottom: 1px solid grey; text-align: center;'>&nbsp;Yes&nbsp;</th>\n",
              "</tr>\n",
              "</thead>\n",
              "<tbody>\n",
              "<tr>\n",
              "<td style='text-align: left;'>&nbsp;Survived&nbsp;</td>\n",
              "<td style='text-align: left;'>&nbsp;No&nbsp;</td> \n",
              "<td style='text-align: left;' colspan=1>&nbsp;</td>\n",
              "<td style='text-align: right;'>682</td>\n",
              "<td style='text-align: right;'>111</td>\n",
              "</tr>\n",
              "<tr>\n",
              "<td style='border-bottom: 2px solid grey; text-align: left;'></td>\n",
              "<td style='border-bottom: 2px solid grey; text-align: left;'>&nbsp;Yes&nbsp;</td> \n",
              "<td style='border-bottom: 2px solid grey; text-align: left;' colspan=1>&nbsp;</td>\n",
              "<td style='border-bottom: 2px solid grey; text-align: right;'>325</td>\n",
              "<td style='border-bottom: 2px solid grey; text-align: right;'>169</td>\n",
              "</tr>\n",
              "</tbody>\n",
              "</table>"
            ],
            "text/markdown": "\nA etable: 2 × 3\n\n| row_labels &lt;chr&gt; | Predicted_Class|No &lt;dbl&gt; | Predicted_Class|Yes &lt;dbl&gt; |\n|---|---|---|\n| Survived|No  | 682 | 111 |\n| Survived|Yes | 325 | 169 |\n\n",
            "text/latex": "A etable: 2 × 3\n\\begin{tabular}{lll}\n row\\_labels & Predicted\\_Class\\textbar{}No & Predicted\\_Class\\textbar{}Yes\\\\\n <chr> & <dbl> & <dbl>\\\\\n\\hline\n\t Survived\\textbar{}No  & 682 & 111\\\\\n\t Survived\\textbar{}Yes & 325 & 169\\\\\n\\end{tabular}\n",
            "text/plain": [
              "                                           \n",
              " |          |     | Predicted_Class |     |\n",
              " |          |     |              No | Yes |\n",
              " | -------- | --- | --------------- | --- |\n",
              " | Survived |  No |             682 | 111 |\n",
              " |          | Yes |             325 | 169 |"
            ]
          },
          "metadata": {}
        }
      ]
    },
    {
      "cell_type": "markdown",
      "source": [
        "The pROC() package has the ablity to identify an **optimal threshold value**. This threshold values is optimal for sensitivity and specificity and not for accuracy."
      ],
      "metadata": {
        "id": "WEE6tPnHwcAz"
      }
    },
    {
      "cell_type": "code",
      "source": [
        "(coords(roc=ROC_Output, x=\"best\",transpose = FALSE)\n",
        "  %>% mutate(\"FalsePositive\" = 1 - specificity)\n",
        "  %>% rename(TruePositive = sensitivity)\n",
        "  %>% rename(Threshold = threshold)\n",
        "  %>% select(Threshold, FalsePositive, TruePositive)\n",
        ")"
      ],
      "metadata": {
        "id": "M4F4nJIcwcHx",
        "colab": {
          "base_uri": "https://localhost:8080/",
          "height": 129
        },
        "outputId": "26ca5c52-d941-4307-83cd-248c9c2a460e"
      },
      "execution_count": null,
      "outputs": [
        {
          "output_type": "display_data",
          "data": {
            "text/html": [
              "<table class=\"dataframe\">\n",
              "<caption>A data.frame: 1 × 3</caption>\n",
              "<thead>\n",
              "\t<tr><th scope=col>Threshold</th><th scope=col>FalsePositive</th><th scope=col>TruePositive</th></tr>\n",
              "\t<tr><th scope=col>&lt;dbl&gt;</th><th scope=col>&lt;dbl&gt;</th><th scope=col>&lt;dbl&gt;</th></tr>\n",
              "</thead>\n",
              "<tbody>\n",
              "\t<tr><td>0.3363868</td><td>0.3757881</td><td>0.659919</td></tr>\n",
              "</tbody>\n",
              "</table>\n"
            ],
            "text/markdown": "\nA data.frame: 1 × 3\n\n| Threshold &lt;dbl&gt; | FalsePositive &lt;dbl&gt; | TruePositive &lt;dbl&gt; |\n|---|---|---|\n| 0.3363868 | 0.3757881 | 0.659919 |\n\n",
            "text/latex": "A data.frame: 1 × 3\n\\begin{tabular}{lll}\n Threshold & FalsePositive & TruePositive\\\\\n <dbl> & <dbl> & <dbl>\\\\\n\\hline\n\t 0.3363868 & 0.3757881 & 0.659919\\\\\n\\end{tabular}\n",
            "text/plain": [
              "  Threshold FalsePositive TruePositive\n",
              "1 0.3363868 0.3757881     0.659919    "
            ]
          },
          "metadata": {}
        }
      ]
    },
    {
      "cell_type": "markdown",
      "source": [
        "Getting the final confusion matrix when using the optimal threshold value."
      ],
      "metadata": {
        "id": "-xRdu9TglKQF"
      }
    },
    {
      "cell_type": "code",
      "source": [
        "# Here, the optimal threshold value is used to obtain a final confusion matrix.\n",
        "newthreshold <- c(0.3364)\n",
        "\n",
        "(Titantic_Modeling\n",
        " %>% mutate(\"Predicted_Probability_Yes\" = predict(LogisticModel_Survived_Age, data=Titantic_Modeling, type=\"response\"))\n",
        " %>% mutate(\"Predicted_Class\" = ifelse(Predicted_Probability_Yes > newthreshold, \"Yes\", \"No\"))\n",
        " ) -> Titantic_Modeling_Updated\n",
        "\n",
        "\n",
        "cross_cases(Titantic_Modeling_Updated, Survived, Predicted_Class, total_row_position =\"none\")"
      ],
      "metadata": {
        "colab": {
          "base_uri": "https://localhost:8080/",
          "height": 128
        },
        "id": "5nm6lLNPlKZY",
        "outputId": "59fec37c-926f-4747-c511-63791bce9f06"
      },
      "execution_count": null,
      "outputs": [
        {
          "output_type": "display_data",
          "data": {
            "text/html": [
              "<table class='gmisc_table' style='border-collapse: collapse; margin-top: 1em; margin-bottom: 1em;' >\n",
              "<thead>\n",
              "<tr>\n",
              "<th style='border-top: 2px solid grey;'></th>\n",
              "<th colspan='1' style='font-weight: 900; border-top: 2px solid grey; text-align: center;'></th><th style='border-bottom: none; border-top: 2px solid grey;' colspan=1>&nbsp;</th>\n",
              "<th colspan='2' style='font-weight: 900; border-bottom: 1px solid grey; border-top: 2px solid grey; text-align: center;'>&nbsp;Predicted_Class&nbsp;</th>\n",
              "</tr>\n",
              "<tr><th style='border-bottom: 1px solid grey; font-weight: 900; text-align: center;'></th>\n",
              "<th style='font-weight: 900; border-bottom: 1px solid grey; text-align: center;'></th> \n",
              "<th style='font-weight: 900; border-bottom: 1px solid grey; text-align: center;' colspan=1>&nbsp;</th>\n",
              "<th style='font-weight: 900; border-bottom: 1px solid grey; text-align: center;'>&nbsp;No&nbsp;</th>\n",
              "<th style='font-weight: 900; border-bottom: 1px solid grey; text-align: center;'>&nbsp;Yes&nbsp;</th>\n",
              "</tr>\n",
              "</thead>\n",
              "<tbody>\n",
              "<tr>\n",
              "<td style='text-align: left;'>&nbsp;Survived&nbsp;</td>\n",
              "<td style='text-align: left;'>&nbsp;No&nbsp;</td> \n",
              "<td style='text-align: left;' colspan=1>&nbsp;</td>\n",
              "<td style='text-align: right;'>495</td>\n",
              "<td style='text-align: right;'>298</td>\n",
              "</tr>\n",
              "<tr>\n",
              "<td style='border-bottom: 2px solid grey; text-align: left;'></td>\n",
              "<td style='border-bottom: 2px solid grey; text-align: left;'>&nbsp;Yes&nbsp;</td> \n",
              "<td style='border-bottom: 2px solid grey; text-align: left;' colspan=1>&nbsp;</td>\n",
              "<td style='border-bottom: 2px solid grey; text-align: right;'>168</td>\n",
              "<td style='border-bottom: 2px solid grey; text-align: right;'>326</td>\n",
              "</tr>\n",
              "</tbody>\n",
              "</table>"
            ],
            "text/markdown": "\nA etable: 2 × 3\n\n| row_labels &lt;chr&gt; | Predicted_Class|No &lt;dbl&gt; | Predicted_Class|Yes &lt;dbl&gt; |\n|---|---|---|\n| Survived|No  | 495 | 298 |\n| Survived|Yes | 168 | 326 |\n\n",
            "text/latex": "A etable: 2 × 3\n\\begin{tabular}{lll}\n row\\_labels & Predicted\\_Class\\textbar{}No & Predicted\\_Class\\textbar{}Yes\\\\\n <chr> & <dbl> & <dbl>\\\\\n\\hline\n\t Survived\\textbar{}No  & 495 & 298\\\\\n\t Survived\\textbar{}Yes & 168 & 326\\\\\n\\end{tabular}\n",
            "text/plain": [
              "                                           \n",
              " |          |     | Predicted_Class |     |\n",
              " |          |     |              No | Yes |\n",
              " | -------- | --- | --------------- | --- |\n",
              " | Survived |  No |             495 | 298 |\n",
              " |          | Yes |             168 | 326 |"
            ]
          },
          "metadata": {}
        }
      ]
    },
    {
      "cell_type": "markdown",
      "source": [
        "## Fitting a More Complete Logistic Regression Model"
      ],
      "metadata": {
        "id": "539TARZQh4x8"
      }
    },
    {
      "cell_type": "markdown",
      "source": [],
      "metadata": {
        "id": "j-j7H6e3imNn"
      }
    },
    {
      "cell_type": "code",
      "source": [
        "#Removing missing values before fitting the logistic regression model\n",
        "(Titantic\n",
        " %>% mutate(\n",
        "            Survived = factor(Survived),\n",
        "            Gender = factor(Gender),\n",
        "            TravelingAlong = factor(TravelingAlone)\n",
        "           )\n",
        " %>% drop_na(Survived, Gender, Age, TravelingAlone, TicketFair)\n",
        ") -> Titantic_Modeling_NoMissingness\n",
        "\n",
        "dim(Titantic_Modeling_NoMissingness)"
      ],
      "metadata": {
        "colab": {
          "base_uri": "https://localhost:8080/",
          "height": 34
        },
        "id": "NV5pfJJLimYD",
        "outputId": "cc2cdc44-1bff-4cbd-d08f-97c1cb3e3580"
      },
      "execution_count": null,
      "outputs": [
        {
          "output_type": "display_data",
          "data": {
            "text/html": [
              "<style>\n",
              ".list-inline {list-style: none; margin:0; padding: 0}\n",
              ".list-inline>li {display: inline-block}\n",
              ".list-inline>li:not(:last-child)::after {content: \"\\00b7\"; padding: 0 .5ex}\n",
              "</style>\n",
              "<ol class=list-inline><li>1033</li><li>7</li></ol>\n"
            ],
            "text/markdown": "1. 1033\n2. 7\n\n\n",
            "text/latex": "\\begin{enumerate*}\n\\item 1033\n\\item 7\n\\end{enumerate*}\n",
            "text/plain": [
              "[1] 1033    7"
            ]
          },
          "metadata": {}
        }
      ]
    },
    {
      "cell_type": "markdown",
      "source": [],
      "metadata": {
        "id": "smcdBSrSh_to"
      }
    },
    {
      "cell_type": "code",
      "source": [
        "#Fitting a Logistic Regression Model in R\n",
        "LogisticModel_Survived_All <- glm(                                                             # Use the generalized linear model function\n",
        "                                    Survived ~ Gender + Age + TravelingAlone + TicketFair,     # specify the formula for the prediction equation\n",
        "                                    data=Titantic_Modeling_NoMissingness,                      # specify the data.frame used for fitting the model\n",
        "                                    family=\"binomial\"                                          # specify binomial as the family for logistic models\n",
        "                                  )"
      ],
      "metadata": {
        "id": "OKhhERWLh_6H"
      },
      "execution_count": null,
      "outputs": []
    },
    {
      "cell_type": "markdown",
      "source": [],
      "metadata": {
        "id": "0uIs3euDiaVL"
      }
    },
    {
      "cell_type": "code",
      "source": [
        "summary(LogisticModel_Survived_All)"
      ],
      "metadata": {
        "colab": {
          "base_uri": "https://localhost:8080/",
          "height": 468
        },
        "id": "I_UUgpNziaeT",
        "outputId": "5750120d-309a-4478-f644-0a1eedd89558"
      },
      "execution_count": null,
      "outputs": [
        {
          "output_type": "display_data",
          "data": {
            "text/plain": [
              "\n",
              "Call:\n",
              "glm(formula = Survived ~ Gender + Age + TravelingAlone + TicketFair, \n",
              "    family = \"binomial\", data = Titantic_Modeling_NoMissingness)\n",
              "\n",
              "Deviance Residuals: \n",
              "    Min       1Q   Median       3Q      Max  \n",
              "-2.2783  -0.6497  -0.5913   0.7889   2.0413  \n",
              "\n",
              "Coefficients:\n",
              "                   Estimate Std. Error z value Pr(>|z|)    \n",
              "(Intercept)        1.059843   0.206295   5.138 2.78e-07 ***\n",
              "GenderMale        -2.346414   0.158828 -14.773  < 2e-16 ***\n",
              "Age               -0.010820   0.005537  -1.954   0.0507 .  \n",
              "TravelingAloneYes -0.087813   0.167908  -0.523   0.6010    \n",
              "TicketFair         0.009648   0.002019   4.778 1.77e-06 ***\n",
              "---\n",
              "Signif. codes:  0 ‘***’ 0.001 ‘**’ 0.01 ‘*’ 0.05 ‘.’ 0.1 ‘ ’ 1\n",
              "\n",
              "(Dispersion parameter for binomial family taken to be 1)\n",
              "\n",
              "    Null deviance: 1396.5  on 1032  degrees of freedom\n",
              "Residual deviance: 1051.8  on 1028  degrees of freedom\n",
              "AIC: 1061.8\n",
              "\n",
              "Number of Fisher Scoring iterations: 4\n"
            ]
          },
          "metadata": {}
        }
      ]
    },
    {
      "cell_type": "markdown",
      "source": [],
      "metadata": {
        "id": "KxRbdvMfjdhY"
      }
    },
    {
      "cell_type": "code",
      "source": [
        "#Fitting a Logistic Regression Model in R\n",
        "LogisticModel_Survived_GenderAgeTicketFair <- glm(                                           # Use the generalized linear model function\n",
        "                                                   Survived ~ Gender + Age + TicketFair,     # specify the formula for the prediction equation\n",
        "                                                   data=Titantic_Modeling_NoMissingness,     # specify the data.frame used for fitting the model\n",
        "                                                   family=\"binomial\"                         # specify binomial as the family for logistic models\n",
        "                                  )"
      ],
      "metadata": {
        "id": "7JNcTD-WjdrZ"
      },
      "execution_count": null,
      "outputs": []
    },
    {
      "cell_type": "markdown",
      "source": [],
      "metadata": {
        "id": "mr2XPewokAjX"
      }
    },
    {
      "cell_type": "code",
      "source": [
        "summary(LogisticModel_Survived_GenderAgeTicketFair)"
      ],
      "metadata": {
        "colab": {
          "base_uri": "https://localhost:8080/",
          "height": 451
        },
        "id": "I2PfMguzkBna",
        "outputId": "e404fc97-d7b2-4d8f-c8af-05bad4d2ed7d"
      },
      "execution_count": null,
      "outputs": [
        {
          "output_type": "display_data",
          "data": {
            "text/plain": [
              "\n",
              "Call:\n",
              "glm(formula = Survived ~ Gender + Age + TicketFair, family = \"binomial\", \n",
              "    data = Titantic_Modeling_NoMissingness)\n",
              "\n",
              "Deviance Residuals: \n",
              "    Min       1Q   Median       3Q      Max  \n",
              "-2.2850  -0.6475  -0.5944   0.7927   2.0388  \n",
              "\n",
              "Coefficients:\n",
              "             Estimate Std. Error z value Pr(>|z|)    \n",
              "(Intercept)  1.026477   0.196070   5.235 1.65e-07 ***\n",
              "GenderMale  -2.363468   0.155754 -15.174  < 2e-16 ***\n",
              "Age         -0.011355   0.005446  -2.085   0.0371 *  \n",
              "TicketFair   0.010024   0.001904   5.265 1.40e-07 ***\n",
              "---\n",
              "Signif. codes:  0 ‘***’ 0.001 ‘**’ 0.01 ‘*’ 0.05 ‘.’ 0.1 ‘ ’ 1\n",
              "\n",
              "(Dispersion parameter for binomial family taken to be 1)\n",
              "\n",
              "    Null deviance: 1396.5  on 1032  degrees of freedom\n",
              "Residual deviance: 1052.1  on 1029  degrees of freedom\n",
              "AIC: 1060.1\n",
              "\n",
              "Number of Fisher Scoring iterations: 4\n"
            ]
          },
          "metadata": {}
        }
      ]
    },
    {
      "cell_type": "code",
      "source": [
        "#Getting the predicted probabilites and class\n",
        "(Titantic_Modeling_NoMissingness\n",
        " %>% mutate(\"Predicted_Probability_Yes\" = predict(LogisticModel_Survived_GenderAgeTicketFair, data=Titantic_Modeling_NoMissingness, type=\"response\"))\n",
        " %>% mutate(\"Predicted_Class\" = ifelse(Predicted_Probability_Yes > 0.50, \"Yes\", \"No\"))\n",
        " ) -> Titantic_Modeling_NoMissingness_with_Predictions\n",
        "\n",
        "head(Titantic_Modeling_NoMissingness_with_Predictions, 10)"
      ],
      "metadata": {
        "colab": {
          "base_uri": "https://localhost:8080/",
          "height": 412
        },
        "outputId": "139a8249-5e2e-42a7-d1a2-ded9771896d2",
        "id": "gp1BAhqgjqSD"
      },
      "execution_count": null,
      "outputs": [
        {
          "output_type": "display_data",
          "data": {
            "text/html": [
              "<table class=\"dataframe\">\n",
              "<caption>A tibble: 10 × 9</caption>\n",
              "<thead>\n",
              "\t<tr><th scope=col>Name</th><th scope=col>Survived</th><th scope=col>Gender</th><th scope=col>Age</th><th scope=col>TravelingAlone</th><th scope=col>TicketFair</th><th scope=col>TravelingAlong</th><th scope=col>Predicted_Probability_Yes</th><th scope=col>Predicted_Class</th></tr>\n",
              "\t<tr><th scope=col>&lt;chr&gt;</th><th scope=col>&lt;fct&gt;</th><th scope=col>&lt;fct&gt;</th><th scope=col>&lt;dbl&gt;</th><th scope=col>&lt;chr&gt;</th><th scope=col>&lt;dbl&gt;</th><th scope=col>&lt;fct&gt;</th><th scope=col>&lt;dbl&gt;</th><th scope=col>&lt;chr&gt;</th></tr>\n",
              "</thead>\n",
              "<tbody>\n",
              "\t<tr><td>Allen, Miss. Elisabeth Walton                  </td><td>Yes</td><td>Female</td><td>29</td><td>Yes</td><td>211.3375</td><td>Yes</td><td>0.9435204</td><td>Yes</td></tr>\n",
              "\t<tr><td>Allison, Master. Hudson Trevor                 </td><td>Yes</td><td>Male  </td><td> 0</td><td>No </td><td>151.5500</td><td>No </td><td>0.5454299</td><td>Yes</td></tr>\n",
              "\t<tr><td>Allison, Miss. Helen Loraine                   </td><td>No </td><td>Female</td><td> 2</td><td>No </td><td>151.5500</td><td>No </td><td>0.9257372</td><td>Yes</td></tr>\n",
              "\t<tr><td>Allison, Mr. Hudson Joshua Creighton           </td><td>No </td><td>Male  </td><td>30</td><td>No </td><td>151.5500</td><td>No </td><td>0.4604765</td><td>No </td></tr>\n",
              "\t<tr><td>Allison, Mrs. Hudson J C (Bessie Waldo Daniels)</td><td>No </td><td>Female</td><td>25</td><td>No </td><td>151.5500</td><td>No </td><td>0.9056650</td><td>Yes</td></tr>\n",
              "\t<tr><td>Anderson, Mr. Harry                            </td><td>Yes</td><td>Male  </td><td>48</td><td>Yes</td><td> 26.5500</td><td>Yes</td><td>0.1657746</td><td>No </td></tr>\n",
              "\t<tr><td>Andrews, Miss. Kornelia Theodosia              </td><td>Yes</td><td>Female</td><td>63</td><td>No </td><td> 77.9583</td><td>No </td><td>0.7488733</td><td>Yes</td></tr>\n",
              "\t<tr><td>Appleton, Mrs. Edward Dale (Charlotte Lamson)  </td><td>Yes</td><td>Female</td><td>53</td><td>No </td><td> 51.4792</td><td>No </td><td>0.7192454</td><td>Yes</td></tr>\n",
              "\t<tr><td>Artagaveytia, Mr. Ramon                        </td><td>No </td><td>Male  </td><td>71</td><td>Yes</td><td> 49.5042</td><td>Yes</td><td>0.1615239</td><td>No </td></tr>\n",
              "\t<tr><td>Astor, Col. John Jacob                         </td><td>No </td><td>Male  </td><td>47</td><td>No </td><td>227.5250</td><td>No </td><td>0.6011247</td><td>Yes</td></tr>\n",
              "</tbody>\n",
              "</table>\n"
            ],
            "text/markdown": "\nA tibble: 10 × 9\n\n| Name &lt;chr&gt; | Survived &lt;fct&gt; | Gender &lt;fct&gt; | Age &lt;dbl&gt; | TravelingAlone &lt;chr&gt; | TicketFair &lt;dbl&gt; | TravelingAlong &lt;fct&gt; | Predicted_Probability_Yes &lt;dbl&gt; | Predicted_Class &lt;chr&gt; |\n|---|---|---|---|---|---|---|---|---|\n| Allen, Miss. Elisabeth Walton                   | Yes | Female | 29 | Yes | 211.3375 | Yes | 0.9435204 | Yes |\n| Allison, Master. Hudson Trevor                  | Yes | Male   |  0 | No  | 151.5500 | No  | 0.5454299 | Yes |\n| Allison, Miss. Helen Loraine                    | No  | Female |  2 | No  | 151.5500 | No  | 0.9257372 | Yes |\n| Allison, Mr. Hudson Joshua Creighton            | No  | Male   | 30 | No  | 151.5500 | No  | 0.4604765 | No  |\n| Allison, Mrs. Hudson J C (Bessie Waldo Daniels) | No  | Female | 25 | No  | 151.5500 | No  | 0.9056650 | Yes |\n| Anderson, Mr. Harry                             | Yes | Male   | 48 | Yes |  26.5500 | Yes | 0.1657746 | No  |\n| Andrews, Miss. Kornelia Theodosia               | Yes | Female | 63 | No  |  77.9583 | No  | 0.7488733 | Yes |\n| Appleton, Mrs. Edward Dale (Charlotte Lamson)   | Yes | Female | 53 | No  |  51.4792 | No  | 0.7192454 | Yes |\n| Artagaveytia, Mr. Ramon                         | No  | Male   | 71 | Yes |  49.5042 | Yes | 0.1615239 | No  |\n| Astor, Col. John Jacob                          | No  | Male   | 47 | No  | 227.5250 | No  | 0.6011247 | Yes |\n\n",
            "text/latex": "A tibble: 10 × 9\n\\begin{tabular}{lllllllll}\n Name & Survived & Gender & Age & TravelingAlone & TicketFair & TravelingAlong & Predicted\\_Probability\\_Yes & Predicted\\_Class\\\\\n <chr> & <fct> & <fct> & <dbl> & <chr> & <dbl> & <fct> & <dbl> & <chr>\\\\\n\\hline\n\t Allen, Miss. Elisabeth Walton                   & Yes & Female & 29 & Yes & 211.3375 & Yes & 0.9435204 & Yes\\\\\n\t Allison, Master. Hudson Trevor                  & Yes & Male   &  0 & No  & 151.5500 & No  & 0.5454299 & Yes\\\\\n\t Allison, Miss. Helen Loraine                    & No  & Female &  2 & No  & 151.5500 & No  & 0.9257372 & Yes\\\\\n\t Allison, Mr. Hudson Joshua Creighton            & No  & Male   & 30 & No  & 151.5500 & No  & 0.4604765 & No \\\\\n\t Allison, Mrs. Hudson J C (Bessie Waldo Daniels) & No  & Female & 25 & No  & 151.5500 & No  & 0.9056650 & Yes\\\\\n\t Anderson, Mr. Harry                             & Yes & Male   & 48 & Yes &  26.5500 & Yes & 0.1657746 & No \\\\\n\t Andrews, Miss. Kornelia Theodosia               & Yes & Female & 63 & No  &  77.9583 & No  & 0.7488733 & Yes\\\\\n\t Appleton, Mrs. Edward Dale (Charlotte Lamson)   & Yes & Female & 53 & No  &  51.4792 & No  & 0.7192454 & Yes\\\\\n\t Artagaveytia, Mr. Ramon                         & No  & Male   & 71 & Yes &  49.5042 & Yes & 0.1615239 & No \\\\\n\t Astor, Col. John Jacob                          & No  & Male   & 47 & No  & 227.5250 & No  & 0.6011247 & Yes\\\\\n\\end{tabular}\n",
            "text/plain": [
              "   Name                                            Survived Gender Age\n",
              "1  Allen, Miss. Elisabeth Walton                   Yes      Female 29 \n",
              "2  Allison, Master. Hudson Trevor                  Yes      Male    0 \n",
              "3  Allison, Miss. Helen Loraine                    No       Female  2 \n",
              "4  Allison, Mr. Hudson Joshua Creighton            No       Male   30 \n",
              "5  Allison, Mrs. Hudson J C (Bessie Waldo Daniels) No       Female 25 \n",
              "6  Anderson, Mr. Harry                             Yes      Male   48 \n",
              "7  Andrews, Miss. Kornelia Theodosia               Yes      Female 63 \n",
              "8  Appleton, Mrs. Edward Dale (Charlotte Lamson)   Yes      Female 53 \n",
              "9  Artagaveytia, Mr. Ramon                         No       Male   71 \n",
              "10 Astor, Col. John Jacob                          No       Male   47 \n",
              "   TravelingAlone TicketFair TravelingAlong Predicted_Probability_Yes\n",
              "1  Yes            211.3375   Yes            0.9435204                \n",
              "2  No             151.5500   No             0.5454299                \n",
              "3  No             151.5500   No             0.9257372                \n",
              "4  No             151.5500   No             0.4604765                \n",
              "5  No             151.5500   No             0.9056650                \n",
              "6  Yes             26.5500   Yes            0.1657746                \n",
              "7  No              77.9583   No             0.7488733                \n",
              "8  No              51.4792   No             0.7192454                \n",
              "9  Yes             49.5042   Yes            0.1615239                \n",
              "10 No             227.5250   No             0.6011247                \n",
              "   Predicted_Class\n",
              "1  Yes            \n",
              "2  Yes            \n",
              "3  Yes            \n",
              "4  No             \n",
              "5  Yes            \n",
              "6  No             \n",
              "7  Yes            \n",
              "8  Yes            \n",
              "9  No             \n",
              "10 Yes            "
            ]
          },
          "metadata": {}
        }
      ]
    },
    {
      "cell_type": "code",
      "metadata": {
        "colab": {
          "base_uri": "https://localhost:8080/",
          "height": 437
        },
        "outputId": "1efa4376-37cc-492e-ece2-91d74792776b",
        "id": "ln_v95FBjqSG"
      },
      "source": [
        "ggplot(data=Titantic_Modeling_NoMissingness_with_Predictions, aes(x=TicketFair, y=Predicted_Probability_Yes, col=Gender)) + \n",
        " geom_point() + \n",
        " scale_y_continuous(limits=c(0, 1)) +\n",
        " labs(x = \"Ticket Fair (lbs)\", y= \"Predicted Probability of Survival\") +\n",
        " ggtitle(\"Plot of the Predicted Probabilities for Survival ~ Gender+Age+TicketFair\") +\n",
        " theme_bw()"
      ],
      "execution_count": null,
      "outputs": [
        {
          "output_type": "display_data",
          "data": {
            "text/plain": [
              "plot without title"
            ],
            "image/png": "[encoded data removed]"
          },
          "metadata": {
            "image/png": {
              "width": 420,
              "height": 420
            }
          }
        }
      ]
    },
    {
      "cell_type": "markdown",
      "metadata": {
        "id": "9kkg1lL30Rfw"
      },
      "source": [
        "\n",
        "\n",
        "---\n",
        "\n",
        "\n",
        "\n",
        "---\n",
        "\n",
        "End of Document"
      ]
    }
  ]
}