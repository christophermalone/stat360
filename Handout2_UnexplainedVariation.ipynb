{
  "nbformat": 4,
  "nbformat_minor": 0,
  "metadata": {
    "colab": {
      "name": "Handout2_UnexplainedVariation.ipynb",
      "provenance": [],
      "collapsed_sections": [],
      "authorship_tag": "ABX9TyPKhphrjMzqz26IIuZZYB6u",
      "include_colab_link": true
    },
    "kernelspec": {
      "name": "ir",
      "display_name": "R"
    }
  },
  "cells": [
    {
      "cell_type": "markdown",
      "metadata": {
        "id": "view-in-github",
        "colab_type": "text"
      },
      "source": [
        "<a href=\"https://colab.research.google.com/github/christophermalone/stat360/blob/main/Handout2_UnexplainedVariation.ipynb\" target=\"_parent\"><img src=\"https://colab.research.google.com/assets/colab-badge.svg\" alt=\"Open In Colab\"/></a>"
      ]
    },
    {
      "cell_type": "markdown",
      "metadata": {
        "id": "KhClO9b02SXA"
      },
      "source": [
        "# Handout #2 : Unexplained Variation\n"
      ]
    },
    {
      "cell_type": "markdown",
      "metadata": {
        "id": "AXDYLbzK2o7e"
      },
      "source": [
        "<table width='100%' ><tr><td bgcolor='green'></td></tr></table>\n",
        "\n",
        "## Example 2.1\n",
        "\n",
        "Consider the following data that has been collected from students in my introductory statistics course over several past semesters.  \n",
        "\n",
        "<table>\n",
        "  <tr>\n",
        "    <td width='30%' valign='top'>\n",
        "      <ul>\n",
        "        <li><strong>Response Variable</strong>: Hair Length (mm)</li><br>\n",
        "        <li>Variables under investigation (i.e. independent variables)</li>\n",
        "        <ul>\n",
        "          <li>Gender</li>\n",
        "          <li>Height (inches)</li>\n",
        "         </ul>\n",
        "    </ul>\n",
        "    </td>\n",
        "    <td width='70%'>\n",
        "<p align='center'><img src=\"https://drive.google.com/uc?export=view&id=1h4lXsxXMRHVRtdg48vdbMbGahWfGz_oS\" width='50%' height='50%'></img></p>\n",
        "<p align='center'><img src=\"https://drive.google.com/uc?export=view&id=1W1F3yLFTI-AOUOg10Gnl7zsetSX-6lXz\" width='50%' height='50%'></img></p>\n",
        "  </td>\n",
        "</tr>\n",
        "</table>\n",
        "\n",
        "Data Folder: [OneDrive](https://mnscu-my.sharepoint.com/:f:/g/personal/aq7839yd_minnstate_edu/EmOQfrwxzzRBqq8PH_8qTmMBy-1qKgM11Hb8vzjs025EEA?e=wyShYs)\n",
        "\n",
        "\n",
        "\n",
        "<table width='100%' ><tr><td bgcolor='green'></td></tr></table>\n",
        "\n"
      ]
    },
    {
      "cell_type": "markdown",
      "metadata": {
        "id": "njXGRUIC9Lgs"
      },
      "source": [
        "## Load Data into R via URL"
      ]
    },
    {
      "cell_type": "markdown",
      "metadata": {
        "id": "FoT1NFX3DncH"
      },
      "source": [
        "The tidyverse R package will be used to assist with reading in the dataset into the current R session."
      ]
    },
    {
      "cell_type": "code",
      "metadata": {
        "id": "LgaibuX_DtWK",
        "cellView": "form"
      },
      "source": [
        "#@title Load Tidyverse\n",
        "#load tidyverse package\n",
        "library(tidyverse)"
      ],
      "execution_count": 29,
      "outputs": []
    },
    {
      "cell_type": "markdown",
      "metadata": {
        "id": "DPqIPen9D5T3"
      },
      "source": [
        "The **read_csv()** function is used to read in the dataset. "
      ]
    },
    {
      "cell_type": "code",
      "metadata": {
        "id": "e07lUbQ1F1cV",
        "colab": {
          "base_uri": "https://localhost:8080/"
        },
        "cellView": "form",
        "outputId": "2c6305bd-62ff-406e-c092-b554ece4bcdf"
      },
      "source": [
        "#@title Readin Data\n",
        "\n",
        "# Reading data in using read.csv via Base \n",
        "HairLength <- read_csv(\"http://www.StatsClass.org/stat360/Datasets/HairLength.csv\")"
      ],
      "execution_count": 30,
      "outputs": [
        {
          "output_type": "stream",
          "name": "stderr",
          "text": [
            "\u001b[1m\u001b[1mRows: \u001b[1m\u001b[22m\u001b[34m\u001b[34m131\u001b[34m\u001b[39m \u001b[1m\u001b[1mColumns: \u001b[1m\u001b[22m\u001b[34m\u001b[34m5\u001b[34m\u001b[39m\n",
            "\n",
            "\u001b[36m──\u001b[39m \u001b[1m\u001b[1mColumn specification\u001b[1m\u001b[22m \u001b[36m────────────────────────────────────────────────────────\u001b[39m\n",
            "\u001b[1mDelimiter:\u001b[22m \",\"\n",
            "\u001b[31mchr\u001b[39m (2): Gender, Name\n",
            "\u001b[32mdbl\u001b[39m (3): RowID, Height, Length\n",
            "\n",
            "\n",
            "\u001b[36mℹ\u001b[39m Use \u001b[30m\u001b[47m\u001b[30m\u001b[47m`spec()`\u001b[47m\u001b[30m\u001b[49m\u001b[39m to retrieve the full column specification for this data.\n",
            "\u001b[36mℹ\u001b[39m Specify the column types or set \u001b[30m\u001b[47m\u001b[30m\u001b[47m`show_col_types = FALSE`\u001b[47m\u001b[30m\u001b[49m\u001b[39m to quiet this message.\n",
            "\n"
          ]
        }
      ]
    },
    {
      "cell_type": "markdown",
      "metadata": {
        "id": "irbG4lJbENzv"
      },
      "source": [
        "The **head()** function can be used to see the first few lines of the dataset.  Similarly, the tail() function can be used to see the last few lines of a dataset."
      ]
    },
    {
      "cell_type": "code",
      "metadata": {
        "id": "HYKWH2i0EN6s",
        "colab": {
          "base_uri": "https://localhost:8080/",
          "height": 286
        },
        "cellView": "form",
        "outputId": "3369fb5d-bf19-4eb0-81e6-4729f025015b"
      },
      "source": [
        "#@title View the first few rows of data\n",
        "head(HairLength)"
      ],
      "execution_count": 31,
      "outputs": [
        {
          "output_type": "display_data",
          "data": {
            "text/plain": [
              "  RowID Gender Name   Height Length\n",
              "1 1     F      Kelsie 66     359   \n",
              "2 2     M      Eric   73      50   \n",
              "3 3     F      Susan  66     295   \n",
              "4 4     F      Alesha 72     320   \n",
              "5 5     F      Alexa  70     470   \n",
              "6 6     F      Jackie 62     180   "
            ],
            "text/latex": "A tibble: 6 × 5\n\\begin{tabular}{lllll}\n RowID & Gender & Name & Height & Length\\\\\n <dbl> & <chr> & <chr> & <dbl> & <dbl>\\\\\n\\hline\n\t 1 & F & Kelsie & 66 & 359\\\\\n\t 2 & M & Eric   & 73 &  50\\\\\n\t 3 & F & Susan  & 66 & 295\\\\\n\t 4 & F & Alesha & 72 & 320\\\\\n\t 5 & F & Alexa  & 70 & 470\\\\\n\t 6 & F & Jackie & 62 & 180\\\\\n\\end{tabular}\n",
            "text/markdown": "\nA tibble: 6 × 5\n\n| RowID &lt;dbl&gt; | Gender &lt;chr&gt; | Name &lt;chr&gt; | Height &lt;dbl&gt; | Length &lt;dbl&gt; |\n|---|---|---|---|---|\n| 1 | F | Kelsie | 66 | 359 |\n| 2 | M | Eric   | 73 |  50 |\n| 3 | F | Susan  | 66 | 295 |\n| 4 | F | Alesha | 72 | 320 |\n| 5 | F | Alexa  | 70 | 470 |\n| 6 | F | Jackie | 62 | 180 |\n\n",
            "text/html": [
              "<table class=\"dataframe\">\n",
              "<caption>A tibble: 6 × 5</caption>\n",
              "<thead>\n",
              "\t<tr><th scope=col>RowID</th><th scope=col>Gender</th><th scope=col>Name</th><th scope=col>Height</th><th scope=col>Length</th></tr>\n",
              "\t<tr><th scope=col>&lt;dbl&gt;</th><th scope=col>&lt;chr&gt;</th><th scope=col>&lt;chr&gt;</th><th scope=col>&lt;dbl&gt;</th><th scope=col>&lt;dbl&gt;</th></tr>\n",
              "</thead>\n",
              "<tbody>\n",
              "\t<tr><td>1</td><td>F</td><td>Kelsie</td><td>66</td><td>359</td></tr>\n",
              "\t<tr><td>2</td><td>M</td><td>Eric  </td><td>73</td><td> 50</td></tr>\n",
              "\t<tr><td>3</td><td>F</td><td>Susan </td><td>66</td><td>295</td></tr>\n",
              "\t<tr><td>4</td><td>F</td><td>Alesha</td><td>72</td><td>320</td></tr>\n",
              "\t<tr><td>5</td><td>F</td><td>Alexa </td><td>70</td><td>470</td></tr>\n",
              "\t<tr><td>6</td><td>F</td><td>Jackie</td><td>62</td><td>180</td></tr>\n",
              "</tbody>\n",
              "</table>\n"
            ]
          },
          "metadata": {}
        }
      ]
    },
    {
      "cell_type": "markdown",
      "metadata": {
        "id": "oV94hIr3Edo4"
      },
      "source": [
        "## Marginal Distribution"
      ]
    },
    {
      "cell_type": "code",
      "metadata": {
        "colab": {
          "base_uri": "https://localhost:8080/",
          "height": 139
        },
        "id": "9a2aJ6e41HZQ",
        "cellView": "form",
        "outputId": "c3ee3e1a-7c6d-4125-c038-2bd35e2229a8"
      },
      "source": [
        "#@title Summarize only the response variable\n",
        "#using select to specify only a single column\n",
        "(HairLength \n",
        "  %>% select(Length)\n",
        "  %>% summary()\n",
        ")"
      ],
      "execution_count": 32,
      "outputs": [
        {
          "output_type": "display_data",
          "data": {
            "text/plain": [
              "     Length     \n",
              " Min.   : 12.0  \n",
              " 1st Qu.: 60.0  \n",
              " Median :248.0  \n",
              " Mean   :237.3  \n",
              " 3rd Qu.:380.0  \n",
              " Max.   :578.0  "
            ]
          },
          "metadata": {}
        }
      ]
    },
    {
      "cell_type": "code",
      "metadata": {
        "colab": {
          "base_uri": "https://localhost:8080/",
          "height": 129
        },
        "id": "Mr1sjUwDFJIP",
        "cellView": "form",
        "outputId": "d44fb114-a0ca-47f0-fb10-ffc90dc97355"
      },
      "source": [
        "#@title Getting several statistics\n",
        "\n",
        "(HairLength \n",
        "  %>% summarize(\n",
        "                  Mean = mean(Length),\n",
        "                  'Standard Devation' = sd(Length),\n",
        "                  Variance = var(Length),\n",
        "                  Count = n(),\n",
        "               )\n",
        "  %>% mutate(CorrectedSS = Variance * (Count-1))\n",
        ")"
      ],
      "execution_count": 33,
      "outputs": [
        {
          "output_type": "display_data",
          "data": {
            "text/plain": [
              "  Mean     Standard Devation Variance Count CorrectedSS\n",
              "1 237.2595 171.7999          29515.19 131   3836975    "
            ],
            "text/latex": "A tibble: 1 × 5\n\\begin{tabular}{lllll}\n Mean & Standard Devation & Variance & Count & CorrectedSS\\\\\n <dbl> & <dbl> & <dbl> & <int> & <dbl>\\\\\n\\hline\n\t 237.2595 & 171.7999 & 29515.19 & 131 & 3836975\\\\\n\\end{tabular}\n",
            "text/markdown": "\nA tibble: 1 × 5\n\n| Mean &lt;dbl&gt; | Standard Devation &lt;dbl&gt; | Variance &lt;dbl&gt; | Count &lt;int&gt; | CorrectedSS &lt;dbl&gt; |\n|---|---|---|---|---|\n| 237.2595 | 171.7999 | 29515.19 | 131 | 3836975 |\n\n",
            "text/html": [
              "<table class=\"dataframe\">\n",
              "<caption>A tibble: 1 × 5</caption>\n",
              "<thead>\n",
              "\t<tr><th scope=col>Mean</th><th scope=col>Standard Devation</th><th scope=col>Variance</th><th scope=col>Count</th><th scope=col>CorrectedSS</th></tr>\n",
              "\t<tr><th scope=col>&lt;dbl&gt;</th><th scope=col>&lt;dbl&gt;</th><th scope=col>&lt;dbl&gt;</th><th scope=col>&lt;int&gt;</th><th scope=col>&lt;dbl&gt;</th></tr>\n",
              "</thead>\n",
              "<tbody>\n",
              "\t<tr><td>237.2595</td><td>171.7999</td><td>29515.19</td><td>131</td><td>3836975</td></tr>\n",
              "</tbody>\n",
              "</table>\n"
            ]
          },
          "metadata": {}
        }
      ]
    },
    {
      "cell_type": "markdown",
      "metadata": {
        "id": "FxuYSkQsAbHu"
      },
      "source": [
        "**Note**:  The total unexplained variation in the *marginal* distribution is given by the Corrected Sum of Squares value. \n",
        "\n",
        "$$\n",
        "\\begin{array}{rcl}\n",
        "  \\mbox{Corrected SS} & = & \\mbox{Variance} * (n-1) \\\\\n",
        "    & = & 29515.9 * (131-1) \\\\\n",
        "    & = & 3836975 \\\\\n",
        "\\end{array}\n",
        "$$"
      ]
    },
    {
      "cell_type": "code",
      "metadata": {
        "colab": {
          "base_uri": "https://localhost:8080/",
          "height": 437
        },
        "cellView": "form",
        "id": "lJGaTkVZ-6Fq",
        "outputId": "d4bc0701-2454-4ad1-e74b-178e2fbb0e95"
      },
      "source": [
        "#@title Empirical Density Function\n",
        "ggplot(data=HairLength, aes(x=Length)) + \n",
        "  geom_histogram(aes(y=..density..), bins=10) + \n",
        "  geom_density(adjust=.5) +\n",
        "  theme_classic()"
      ],
      "execution_count": 34,
      "outputs": [
        {
          "output_type": "display_data",
          "data": {
            "image/png": "[encoded data removed]",
            "text/plain": [
              "plot without title"
            ]
          },
          "metadata": {
            "image/png": {
              "width": 420,
              "height": 420
            }
          }
        }
      ]
    },
    {
      "cell_type": "markdown",
      "metadata": {
        "id": "ceS6KJM4ysnG"
      },
      "source": [
        "## Conditional Distributions"
      ]
    },
    {
      "cell_type": "code",
      "metadata": {
        "colab": {
          "base_uri": "https://localhost:8080/",
          "height": 161
        },
        "cellView": "form",
        "id": "QEfR3eZ0B9mb",
        "outputId": "f15c9e61-6b9c-498d-9da7-66de644a6e64"
      },
      "source": [
        "#@title Getting several statistics\n",
        "(HairLength \n",
        "  %>% group_by(Gender)\n",
        "  %>% summarize(\n",
        "                  Mean = mean(Length),\n",
        "                  Variance = var(Length),\n",
        "                  Count = n(),\n",
        "               )\n",
        "  %>% mutate(CorrectedSS = Variance * (Count-1))\n",
        ")"
      ],
      "execution_count": 35,
      "outputs": [
        {
          "output_type": "display_data",
          "data": {
            "text/plain": [
              "  Gender Mean      Variance  Count CorrectedSS\n",
              "1 F      346.74390 14171.181 82    1147865.62 \n",
              "2 M       54.04082  1277.165 49      61303.92 "
            ],
            "text/latex": "A tibble: 2 × 5\n\\begin{tabular}{lllll}\n Gender & Mean & Variance & Count & CorrectedSS\\\\\n <chr> & <dbl> & <dbl> & <int> & <dbl>\\\\\n\\hline\n\t F & 346.74390 & 14171.181 & 82 & 1147865.62\\\\\n\t M &  54.04082 &  1277.165 & 49 &   61303.92\\\\\n\\end{tabular}\n",
            "text/markdown": "\nA tibble: 2 × 5\n\n| Gender &lt;chr&gt; | Mean &lt;dbl&gt; | Variance &lt;dbl&gt; | Count &lt;int&gt; | CorrectedSS &lt;dbl&gt; |\n|---|---|---|---|---|\n| F | 346.74390 | 14171.181 | 82 | 1147865.62 |\n| M |  54.04082 |  1277.165 | 49 |   61303.92 |\n\n",
            "text/html": [
              "<table class=\"dataframe\">\n",
              "<caption>A tibble: 2 × 5</caption>\n",
              "<thead>\n",
              "\t<tr><th scope=col>Gender</th><th scope=col>Mean</th><th scope=col>Variance</th><th scope=col>Count</th><th scope=col>CorrectedSS</th></tr>\n",
              "\t<tr><th scope=col>&lt;chr&gt;</th><th scope=col>&lt;dbl&gt;</th><th scope=col>&lt;dbl&gt;</th><th scope=col>&lt;int&gt;</th><th scope=col>&lt;dbl&gt;</th></tr>\n",
              "</thead>\n",
              "<tbody>\n",
              "\t<tr><td>F</td><td>346.74390</td><td>14171.181</td><td>82</td><td>1147865.62</td></tr>\n",
              "\t<tr><td>M</td><td> 54.04082</td><td> 1277.165</td><td>49</td><td>  61303.92</td></tr>\n",
              "</tbody>\n",
              "</table>\n"
            ]
          },
          "metadata": {}
        }
      ]
    },
    {
      "cell_type": "markdown",
      "metadata": {
        "id": "EEk1vukNCltC"
      },
      "source": [
        "**Note**:  The total unexplained variation in the *conditional* distributions can be computed by adding the Corrected Sum of Squares values across the conditional distributions.\n",
        "\n",
        "$$\n",
        "\\begin{array}{rcl}\n",
        "  \\mbox{Corrected SS} & = & \\big( \\mbox{Variance}_F * (n_F-1) \\big) + \\big( \\mbox{Variance}_M * (n_M-1) \\big) \\\\\n",
        "    & = & \\big( 14171.181 * (82-1) \\big) + \\big( 1277.165 * (49-1) \\\\\n",
        "    & = & 1147866  +  61304 \\\\\n",
        "    & = & 1209170\n",
        "\\end{array}\n",
        "$$"
      ]
    },
    {
      "cell_type": "code",
      "metadata": {
        "colab": {
          "base_uri": "https://localhost:8080/",
          "height": 437
        },
        "id": "2-uhqpMJyst-",
        "cellView": "form",
        "outputId": "f087ed8f-2110-4989-f172-f824f21f1a51"
      },
      "source": [
        "#@title EDF By Projectile Type\n",
        "ggplot(data=HairLength, aes(x=Length, color=Gender)) + \n",
        "  geom_rug() + \n",
        "  geom_density(adjust=0.75) +\n",
        "  theme_classic()"
      ],
      "execution_count": 36,
      "outputs": [
        {
          "output_type": "display_data",
          "data": {
            "image/png": "[encoded data removed]",
            "text/plain": [
              "plot without title"
            ]
          },
          "metadata": {
            "image/png": {
              "width": 420,
              "height": 420
            }
          }
        }
      ]
    },
    {
      "cell_type": "markdown",
      "metadata": {
        "id": "TQuyw4BZEZbc"
      },
      "source": [
        "## Proportion of Variation than can be Explained"
      ]
    },
    {
      "cell_type": "markdown",
      "metadata": {
        "id": "rOhr9xxDEdk9"
      },
      "source": [
        "The proportion of unexplained variation taken away by considering the conditional distributions is typically used as a measure of overall usefulness of the conditioning variable(s).  This proportion is commonly referred to as the **coefficient of determination** or **$R^{2}$**.\n"
      ]
    },
    {
      "cell_type": "markdown",
      "metadata": {
        "id": "Iq4-nM-IEzft"
      },
      "source": [
        "$$\n",
        "R^2 = \\frac{\\mbox{Total Unexplained in Marginal Distribution}-\\mbox{Total Unexplained in Conditional Distributions}}{\\mbox{Total Unexplained in Marginal Distribution}}\n",
        "$$"
      ]
    },
    {
      "cell_type": "markdown",
      "metadata": {
        "id": "8wk0zjryFKMm"
      },
      "source": [
        "The numerator of of $R^2$ is simply the amount of variation that *can* be explained by conditioning.  Thus, $R^2$ is often expressed as\n",
        "\n",
        "$$\n",
        "R^2 = \\frac{\\mbox{Variation that can be Explained by Conditioning}}{\\mbox{Total Unexplained in Marginal Distribution}}\n",
        "$$\n"
      ]
    },
    {
      "cell_type": "markdown",
      "metadata": {
        "id": "LftekPOCFut9"
      },
      "source": [
        "\n",
        "$$\n",
        "\\begin{array}{rcl}\n",
        "R^2 & = & \\frac{3836975-1209170}{3836975} \\\\\n",
        "    & = & \\frac{2627805}{3836975} \\\\\n",
        "    & = & 0.6849 \\\\\n",
        "\\end{array}\n",
        "$$\n",
        "\n",
        "<u>Interpretation</u>:  About 70\\% of the total variation in Hair Length can be explained by considering the Gender of the individual."
      ]
    },
    {
      "cell_type": "markdown",
      "metadata": {
        "id": "8ajbyQfVz4QR"
      },
      "source": [
        "<table width='100%'><tr><td bgcolor=\"orange\"><font size=\"+2\">Task</font></td></tr></table>"
      ]
    },
    {
      "cell_type": "markdown",
      "metadata": {
        "id": "DnFZhicCz6sF"
      },
      "source": [
        "### Questions"
      ]
    },
    {
      "cell_type": "markdown",
      "metadata": {
        "id": "xZhbIxdwz632"
      },
      "source": [
        "For this task, consider again the Impact Crater dataset.\n",
        "\n",
        "1.   What is the total amount of unexplained variation in Diameter?\n",
        "2.   What is the total amount of unexplained variation in Diameter when conditioning on SandType?\n",
        "3.   What is the total amount of unexplained variation in Diameter when conditioning on ProjectileType?\n",
        "4.   Compute the appropirate $R^2$ measure when conditioning on SandType.  Next, compute the appropirate $R^2$ measure when conditioning on ProjectileType.\n",
        "5. Based on the $R^2$ calculations, which variable (SandType or ProjectileType) does a better job of explaining the variation in Diameter?  Discuss.\n",
        "\n"
      ]
    },
    {
      "cell_type": "markdown",
      "metadata": {
        "id": "kQuA2HWWz7G-"
      },
      "source": [
        "<table width='100%'><tr><td bgcolor=\"orange\"><font size=\"+2\">&nbsp;</font></td></tr></table>"
      ]
    },
    {
      "cell_type": "markdown",
      "metadata": {
        "id": "9kkg1lL30Rfw"
      },
      "source": [
        "End of Document"
      ]
    }
  ]
}