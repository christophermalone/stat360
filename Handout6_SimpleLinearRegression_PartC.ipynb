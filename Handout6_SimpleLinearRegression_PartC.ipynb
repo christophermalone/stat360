{
  "nbformat": 4,
  "nbformat_minor": 0,
  "metadata": {
    "colab": {
      "provenance": [],
      "collapsed_sections": [],
      "authorship_tag": "ABX9TyN3kXy7TwmMKv8wZ8gUqlcK",
      "include_colab_link": true
    },
    "kernelspec": {
      "name": "ir",
      "display_name": "R"
    }
  },
  "cells": [
    {
      "cell_type": "markdown",
      "metadata": {
        "id": "view-in-github",
        "colab_type": "text"
      },
      "source": [
        "<a href=\"https://colab.research.google.com/github/christophermalone/stat360/blob/main/Handout6_SimpleLinearRegression_PartC.ipynb\" target=\"_parent\"><img src=\"https://colab.research.google.com/assets/colab-badge.svg\" alt=\"Open In Colab\"/></a>"
      ]
    },
    {
      "cell_type": "markdown",
      "metadata": {
        "id": "KhClO9b02SXA"
      },
      "source": [
        "# Handout #6 - Part C : Inferential Methods for Model Parameters"
      ]
    },
    {
      "cell_type": "markdown",
      "metadata": {
        "id": "AXDYLbzK2o7e"
      },
      "source": [
        "<table width='100%' ><tr><td bgcolor='green'></td></tr></table>\n",
        "\n",
        "## Example 6.1C\n",
        "\n",
        "Consider data on the home prices of homes in La Crosse and Winona.  This data was collected using Redfin website. \n",
        "<table bgcolor=\"white\">\n",
        "  <tr>\n",
        "    <td width='50%'>\n",
        "      <ul>\n",
        "        <li><strong>Response Variable</strong>: PRICE ($) </li><br>\n",
        "        <li>Variables under investigation (i.e. independent variables)</li>\n",
        "        <ul>\n",
        "          <li>SQUAREFEET, the size of the home (ft^2)</li>\n",
        "          <li>BEDS, number of bedrooms in home</li>\n",
        "          <li>BATHS, number of bathrooms in home</li>\n",
        "          <li>LOTSIZE, the size of the lot (ft^2)</li>\n",
        "          <li>YEARBUILT, the year in which the home was built</li>\n",
        "         </ul>\n",
        "    </ul>\n",
        "    </td>\n",
        "    <td width='50%' bgclor=\"white\">\n",
        "<p align='center'><img src=\"https://drive.google.com/uc?export=view&id=1KiZ5CvmWwvDg4HSPX7FwRsQTUMtvv0gG\" width='50%' height='50%'></img></p>\n",
        "  </td>\n",
        "</tr>\n",
        "</table>\n",
        "\n",
        "Data Folder: [OneDrive](https://mnscu-my.sharepoint.com/:f:/g/personal/aq7839yd_minnstate_edu/EmOQfrwxzzRBqq8PH_8qTmMBy-1qKgM11Hb8vzjs025EEA?e=wyShYs)\n",
        "\n",
        "Redfin Data: <a href=\"https://www.redfin.com/city/10404/WI/La-Crosse\">La Crosse WI</a> | <a href=\"https://www.redfin.com/city/18151/MN/Winona\">Winona MN</a></li>\n",
        "\n",
        "<table width='100%' ><tr><td bgcolor='green'></td></tr></table>\n",
        "\n"
      ]
    },
    {
      "cell_type": "markdown",
      "metadata": {
        "id": "njXGRUIC9Lgs"
      },
      "source": [
        "## Load Data into R via URL"
      ]
    },
    {
      "cell_type": "markdown",
      "source": [
        "The tidyverse R package will be used to assist with reading in the dataset into the current R session."
      ],
      "metadata": {
        "id": "atyKkkUuKQkD"
      }
    },
    {
      "cell_type": "code",
      "metadata": {
        "id": "LgaibuX_DtWK",
        "colab": {
          "base_uri": "https://localhost:8080/"
        },
        "outputId": "653265cf-9fcd-40a2-b6d8-382be21398be"
      },
      "source": [
        "#load tidyverse package\n",
        "library(tidyverse)"
      ],
      "execution_count": 1,
      "outputs": [
        {
          "output_type": "stream",
          "name": "stderr",
          "text": [
            "Warning message in system(\"timedatectl\", intern = TRUE):\n",
            "“running command 'timedatectl' had status 1”\n",
            "── \u001b[1mAttaching packages\u001b[22m ─────────────────────────────────────── tidyverse 1.3.1 ──\n",
            "\n",
            "\u001b[32m✔\u001b[39m \u001b[34mggplot2\u001b[39m 3.3.6      \u001b[32m✔\u001b[39m \u001b[34mpurrr  \u001b[39m 0.3.4 \n",
            "\u001b[32m✔\u001b[39m \u001b[34mtibble \u001b[39m 3.1.7      \u001b[32m✔\u001b[39m \u001b[34mdplyr  \u001b[39m 1.0.10\n",
            "\u001b[32m✔\u001b[39m \u001b[34mtidyr  \u001b[39m 1.2.1      \u001b[32m✔\u001b[39m \u001b[34mstringr\u001b[39m 1.4.1 \n",
            "\u001b[32m✔\u001b[39m \u001b[34mreadr  \u001b[39m 2.1.2      \u001b[32m✔\u001b[39m \u001b[34mforcats\u001b[39m 0.5.2 \n",
            "\n",
            "── \u001b[1mConflicts\u001b[22m ────────────────────────────────────────── tidyverse_conflicts() ──\n",
            "\u001b[31m✖\u001b[39m \u001b[34mdplyr\u001b[39m::\u001b[32mfilter()\u001b[39m masks \u001b[34mstats\u001b[39m::filter()\n",
            "\u001b[31m✖\u001b[39m \u001b[34mdplyr\u001b[39m::\u001b[32mlag()\u001b[39m    masks \u001b[34mstats\u001b[39m::lag()\n",
            "\n"
          ]
        }
      ]
    },
    {
      "cell_type": "markdown",
      "metadata": {
        "id": "DPqIPen9D5T3"
      },
      "source": [
        "The **read_csv()** function is used to read in the dataset. "
      ]
    },
    {
      "cell_type": "code",
      "metadata": {
        "id": "e07lUbQ1F1cV",
        "colab": {
          "base_uri": "https://localhost:8080/"
        },
        "outputId": "03469849-1f47-4838-c18b-ee37d441e6eb"
      },
      "source": [
        "# Reading data in using read.csv via Base \n",
        "LaCrosseWinonaHomePrices <- read_csv(\"http://www.StatsClass.org/stat360/Datasets/LaCrosse_Winona_Redfin.csv\")"
      ],
      "execution_count": 2,
      "outputs": [
        {
          "output_type": "stream",
          "name": "stderr",
          "text": [
            "\u001b[1mRows: \u001b[22m\u001b[34m67\u001b[39m \u001b[1mColumns: \u001b[22m\u001b[34m27\u001b[39m\n",
            "\u001b[36m──\u001b[39m \u001b[1mColumn specification\u001b[22m \u001b[36m────────────────────────────────────────────────────────\u001b[39m\n",
            "\u001b[1mDelimiter:\u001b[22m \",\"\n",
            "\u001b[31mchr\u001b[39m (13): SALETYPE, PROPERTYTYPE, ADDRESS, CITY, STATE, LOCATION, STATUS, NE...\n",
            "\u001b[32mdbl\u001b[39m (13): ZIPCODE, PRICE, BEDS, BATHS, SQUAREFEET, LOTSIZE, YEARBUILT, DAYSO...\n",
            "\u001b[33mlgl\u001b[39m  (1): SOLDDATE\n",
            "\n",
            "\u001b[36mℹ\u001b[39m Use `spec()` to retrieve the full column specification for this data.\n",
            "\u001b[36mℹ\u001b[39m Specify the column types or set `show_col_types = FALSE` to quiet this message.\n"
          ]
        }
      ]
    },
    {
      "cell_type": "code",
      "metadata": {
        "id": "HYKWH2i0EN6s",
        "colab": {
          "base_uri": "https://localhost:8080/",
          "height": 514
        },
        "outputId": "71b07402-c87e-40c4-95d3-732f66e70d41"
      },
      "source": [
        "# quick look at the data\n",
        "head(LaCrosseWinonaHomePrices)"
      ],
      "execution_count": 3,
      "outputs": [
        {
          "output_type": "display_data",
          "data": {
            "text/html": [
              "<table class=\"dataframe\">\n",
              "<caption>A tibble: 6 × 27</caption>\n",
              "<thead>\n",
              "\t<tr><th scope=col>SALETYPE</th><th scope=col>SOLDDATE</th><th scope=col>PROPERTYTYPE</th><th scope=col>ADDRESS</th><th scope=col>CITY</th><th scope=col>STATE</th><th scope=col>ZIPCODE</th><th scope=col>PRICE</th><th scope=col>BEDS</th><th scope=col>BATHS</th><th scope=col>⋯</th><th scope=col>STATUS</th><th scope=col>NEXTOPENHOUSESTARTTIME</th><th scope=col>NEXTOPENHOUSEENDTIME</th><th scope=col>URL</th><th scope=col>SOURCE</th><th scope=col>MLSNumber</th><th scope=col>FAVORITE</th><th scope=col>INTERESTED</th><th scope=col>LATITUDE</th><th scope=col>LONGITUDE</th></tr>\n",
              "\t<tr><th scope=col>&lt;chr&gt;</th><th scope=col>&lt;lgl&gt;</th><th scope=col>&lt;chr&gt;</th><th scope=col>&lt;chr&gt;</th><th scope=col>&lt;chr&gt;</th><th scope=col>&lt;chr&gt;</th><th scope=col>&lt;dbl&gt;</th><th scope=col>&lt;dbl&gt;</th><th scope=col>&lt;dbl&gt;</th><th scope=col>&lt;dbl&gt;</th><th scope=col>⋯</th><th scope=col>&lt;chr&gt;</th><th scope=col>&lt;chr&gt;</th><th scope=col>&lt;chr&gt;</th><th scope=col>&lt;chr&gt;</th><th scope=col>&lt;chr&gt;</th><th scope=col>&lt;dbl&gt;</th><th scope=col>&lt;chr&gt;</th><th scope=col>&lt;chr&gt;</th><th scope=col>&lt;dbl&gt;</th><th scope=col>&lt;dbl&gt;</th></tr>\n",
              "</thead>\n",
              "<tbody>\n",
              "\t<tr><td>MLS Listing</td><td>NA</td><td>Single Family Residential</td><td>2504 Prospect St </td><td>La Crosse</td><td>WI</td><td>54603</td><td>224900</td><td>3</td><td>2.0</td><td>⋯</td><td>Active       </td><td>NA                        </td><td>NA                        </td><td>https://www.redfin.com/WI/La-Crosse/2504-Prospect-St-54603/home/57710601</td><td>METROMLS    </td><td>1811675</td><td>N</td><td>Y</td><td>43.85815</td><td>-91.23536</td></tr>\n",
              "\t<tr><td>MLS Listing</td><td>NA</td><td>Single Family Residential</td><td>2205 Johnson St  </td><td>La Crosse</td><td>WI</td><td>54601</td><td>219900</td><td>2</td><td>2.0</td><td>⋯</td><td>Active       </td><td>NA                        </td><td>NA                        </td><td>https://www.redfin.com/WI/La-Crosse/2205-Johnson-St-54601/home/57970153 </td><td>METROMLS    </td><td>1811671</td><td>N</td><td>Y</td><td>43.80073</td><td>-91.22238</td></tr>\n",
              "\t<tr><td>MLS Listing</td><td>NA</td><td>Single Family Residential</td><td>40633 Lamoille Dr</td><td>Winona   </td><td>MN</td><td>55987</td><td>294900</td><td>3</td><td>2.0</td><td>⋯</td><td>Pre On-Market</td><td>NA                        </td><td>NA                        </td><td>https://www.redfin.com/MN/Winona/40633-Lamoille-Dr-55987/home/55910942  </td><td>NORTHSTARMLS</td><td>6260624</td><td>N</td><td>Y</td><td>44.00056</td><td>-91.46975</td></tr>\n",
              "\t<tr><td>MLS Listing</td><td>NA</td><td>Single Family Residential</td><td>730 Harvey St    </td><td>La Crosse</td><td>WI</td><td>54603</td><td>339000</td><td>3</td><td>2.5</td><td>⋯</td><td>Active       </td><td>NA                        </td><td>NA                        </td><td>https://www.redfin.com/WI/La-Crosse/730-Harvey-St-54603/home/58008728   </td><td>METROMLS    </td><td>1811603</td><td>N</td><td>Y</td><td>43.83566</td><td>-91.23375</td></tr>\n",
              "\t<tr><td>MLS Listing</td><td>NA</td><td>Single Family Residential</td><td>515 Losey Blvd N </td><td>La Crosse</td><td>WI</td><td>54601</td><td>379900</td><td>3</td><td>3.5</td><td>⋯</td><td>Active       </td><td>September-25-2022 01:00 PM</td><td>September-25-2022 02:30 PM</td><td>https://www.redfin.com/WI/La-Crosse/515-Losey-Blvd-N-54601/home/89277469</td><td>METROMLS    </td><td>1811572</td><td>N</td><td>Y</td><td>43.81707</td><td>-91.21970</td></tr>\n",
              "\t<tr><td>MLS Listing</td><td>NA</td><td>Single Family Residential</td><td>3355 Peace St    </td><td>La Crosse</td><td>WI</td><td>54601</td><td>274900</td><td>3</td><td>2.0</td><td>⋯</td><td>Active       </td><td>NA                        </td><td>NA                        </td><td>https://www.redfin.com/WI/La-Crosse/3355-Peace-St-54601/home/89290885   </td><td>METROMLS    </td><td>1811563</td><td>N</td><td>Y</td><td>43.76875</td><td>-91.20766</td></tr>\n",
              "</tbody>\n",
              "</table>\n"
            ],
            "text/markdown": "\nA tibble: 6 × 27\n\n| SALETYPE &lt;chr&gt; | SOLDDATE &lt;lgl&gt; | PROPERTYTYPE &lt;chr&gt; | ADDRESS &lt;chr&gt; | CITY &lt;chr&gt; | STATE &lt;chr&gt; | ZIPCODE &lt;dbl&gt; | PRICE &lt;dbl&gt; | BEDS &lt;dbl&gt; | BATHS &lt;dbl&gt; | ⋯ ⋯ | STATUS &lt;chr&gt; | NEXTOPENHOUSESTARTTIME &lt;chr&gt; | NEXTOPENHOUSEENDTIME &lt;chr&gt; | URL &lt;chr&gt; | SOURCE &lt;chr&gt; | MLSNumber &lt;dbl&gt; | FAVORITE &lt;chr&gt; | INTERESTED &lt;chr&gt; | LATITUDE &lt;dbl&gt; | LONGITUDE &lt;dbl&gt; |\n|---|---|---|---|---|---|---|---|---|---|---|---|---|---|---|---|---|---|---|---|---|\n| MLS Listing | NA | Single Family Residential | 2504 Prospect St  | La Crosse | WI | 54603 | 224900 | 3 | 2.0 | ⋯ | Active        | NA                         | NA                         | https://www.redfin.com/WI/La-Crosse/2504-Prospect-St-54603/home/57710601 | METROMLS     | 1811675 | N | Y | 43.85815 | -91.23536 |\n| MLS Listing | NA | Single Family Residential | 2205 Johnson St   | La Crosse | WI | 54601 | 219900 | 2 | 2.0 | ⋯ | Active        | NA                         | NA                         | https://www.redfin.com/WI/La-Crosse/2205-Johnson-St-54601/home/57970153  | METROMLS     | 1811671 | N | Y | 43.80073 | -91.22238 |\n| MLS Listing | NA | Single Family Residential | 40633 Lamoille Dr | Winona    | MN | 55987 | 294900 | 3 | 2.0 | ⋯ | Pre On-Market | NA                         | NA                         | https://www.redfin.com/MN/Winona/40633-Lamoille-Dr-55987/home/55910942   | NORTHSTARMLS | 6260624 | N | Y | 44.00056 | -91.46975 |\n| MLS Listing | NA | Single Family Residential | 730 Harvey St     | La Crosse | WI | 54603 | 339000 | 3 | 2.5 | ⋯ | Active        | NA                         | NA                         | https://www.redfin.com/WI/La-Crosse/730-Harvey-St-54603/home/58008728    | METROMLS     | 1811603 | N | Y | 43.83566 | -91.23375 |\n| MLS Listing | NA | Single Family Residential | 515 Losey Blvd N  | La Crosse | WI | 54601 | 379900 | 3 | 3.5 | ⋯ | Active        | September-25-2022 01:00 PM | September-25-2022 02:30 PM | https://www.redfin.com/WI/La-Crosse/515-Losey-Blvd-N-54601/home/89277469 | METROMLS     | 1811572 | N | Y | 43.81707 | -91.21970 |\n| MLS Listing | NA | Single Family Residential | 3355 Peace St     | La Crosse | WI | 54601 | 274900 | 3 | 2.0 | ⋯ | Active        | NA                         | NA                         | https://www.redfin.com/WI/La-Crosse/3355-Peace-St-54601/home/89290885    | METROMLS     | 1811563 | N | Y | 43.76875 | -91.20766 |\n\n",
            "text/latex": "A tibble: 6 × 27\n\\begin{tabular}{lllllllllllllllllllll}\n SALETYPE & SOLDDATE & PROPERTYTYPE & ADDRESS & CITY & STATE & ZIPCODE & PRICE & BEDS & BATHS & ⋯ & STATUS & NEXTOPENHOUSESTARTTIME & NEXTOPENHOUSEENDTIME & URL & SOURCE & MLSNumber & FAVORITE & INTERESTED & LATITUDE & LONGITUDE\\\\\n <chr> & <lgl> & <chr> & <chr> & <chr> & <chr> & <dbl> & <dbl> & <dbl> & <dbl> & ⋯ & <chr> & <chr> & <chr> & <chr> & <chr> & <dbl> & <chr> & <chr> & <dbl> & <dbl>\\\\\n\\hline\n\t MLS Listing & NA & Single Family Residential & 2504 Prospect St  & La Crosse & WI & 54603 & 224900 & 3 & 2.0 & ⋯ & Active        & NA                         & NA                         & https://www.redfin.com/WI/La-Crosse/2504-Prospect-St-54603/home/57710601 & METROMLS     & 1811675 & N & Y & 43.85815 & -91.23536\\\\\n\t MLS Listing & NA & Single Family Residential & 2205 Johnson St   & La Crosse & WI & 54601 & 219900 & 2 & 2.0 & ⋯ & Active        & NA                         & NA                         & https://www.redfin.com/WI/La-Crosse/2205-Johnson-St-54601/home/57970153  & METROMLS     & 1811671 & N & Y & 43.80073 & -91.22238\\\\\n\t MLS Listing & NA & Single Family Residential & 40633 Lamoille Dr & Winona    & MN & 55987 & 294900 & 3 & 2.0 & ⋯ & Pre On-Market & NA                         & NA                         & https://www.redfin.com/MN/Winona/40633-Lamoille-Dr-55987/home/55910942   & NORTHSTARMLS & 6260624 & N & Y & 44.00056 & -91.46975\\\\\n\t MLS Listing & NA & Single Family Residential & 730 Harvey St     & La Crosse & WI & 54603 & 339000 & 3 & 2.5 & ⋯ & Active        & NA                         & NA                         & https://www.redfin.com/WI/La-Crosse/730-Harvey-St-54603/home/58008728    & METROMLS     & 1811603 & N & Y & 43.83566 & -91.23375\\\\\n\t MLS Listing & NA & Single Family Residential & 515 Losey Blvd N  & La Crosse & WI & 54601 & 379900 & 3 & 3.5 & ⋯ & Active        & September-25-2022 01:00 PM & September-25-2022 02:30 PM & https://www.redfin.com/WI/La-Crosse/515-Losey-Blvd-N-54601/home/89277469 & METROMLS     & 1811572 & N & Y & 43.81707 & -91.21970\\\\\n\t MLS Listing & NA & Single Family Residential & 3355 Peace St     & La Crosse & WI & 54601 & 274900 & 3 & 2.0 & ⋯ & Active        & NA                         & NA                         & https://www.redfin.com/WI/La-Crosse/3355-Peace-St-54601/home/89290885    & METROMLS     & 1811563 & N & Y & 43.76875 & -91.20766\\\\\n\\end{tabular}\n",
            "text/plain": [
              "  SALETYPE    SOLDDATE PROPERTYTYPE              ADDRESS           CITY     \n",
              "1 MLS Listing NA       Single Family Residential 2504 Prospect St  La Crosse\n",
              "2 MLS Listing NA       Single Family Residential 2205 Johnson St   La Crosse\n",
              "3 MLS Listing NA       Single Family Residential 40633 Lamoille Dr Winona   \n",
              "4 MLS Listing NA       Single Family Residential 730 Harvey St     La Crosse\n",
              "5 MLS Listing NA       Single Family Residential 515 Losey Blvd N  La Crosse\n",
              "6 MLS Listing NA       Single Family Residential 3355 Peace St     La Crosse\n",
              "  STATE ZIPCODE PRICE  BEDS BATHS ⋯ STATUS        NEXTOPENHOUSESTARTTIME    \n",
              "1 WI    54603   224900 3    2.0   ⋯ Active        NA                        \n",
              "2 WI    54601   219900 2    2.0   ⋯ Active        NA                        \n",
              "3 MN    55987   294900 3    2.0   ⋯ Pre On-Market NA                        \n",
              "4 WI    54603   339000 3    2.5   ⋯ Active        NA                        \n",
              "5 WI    54601   379900 3    3.5   ⋯ Active        September-25-2022 01:00 PM\n",
              "6 WI    54601   274900 3    2.0   ⋯ Active        NA                        \n",
              "  NEXTOPENHOUSEENDTIME      \n",
              "1 NA                        \n",
              "2 NA                        \n",
              "3 NA                        \n",
              "4 NA                        \n",
              "5 September-25-2022 02:30 PM\n",
              "6 NA                        \n",
              "  URL                                                                     \n",
              "1 https://www.redfin.com/WI/La-Crosse/2504-Prospect-St-54603/home/57710601\n",
              "2 https://www.redfin.com/WI/La-Crosse/2205-Johnson-St-54601/home/57970153 \n",
              "3 https://www.redfin.com/MN/Winona/40633-Lamoille-Dr-55987/home/55910942  \n",
              "4 https://www.redfin.com/WI/La-Crosse/730-Harvey-St-54603/home/58008728   \n",
              "5 https://www.redfin.com/WI/La-Crosse/515-Losey-Blvd-N-54601/home/89277469\n",
              "6 https://www.redfin.com/WI/La-Crosse/3355-Peace-St-54601/home/89290885   \n",
              "  SOURCE       MLSNumber FAVORITE INTERESTED LATITUDE LONGITUDE\n",
              "1 METROMLS     1811675   N        Y          43.85815 -91.23536\n",
              "2 METROMLS     1811671   N        Y          43.80073 -91.22238\n",
              "3 NORTHSTARMLS 6260624   N        Y          44.00056 -91.46975\n",
              "4 METROMLS     1811603   N        Y          43.83566 -91.23375\n",
              "5 METROMLS     1811572   N        Y          43.81707 -91.21970\n",
              "6 METROMLS     1811563   N        Y          43.76875 -91.20766"
            ]
          },
          "metadata": {}
        }
      ]
    },
    {
      "cell_type": "markdown",
      "source": [
        "##  Inferential Methods for Population Mean"
      ],
      "metadata": {
        "id": "mfp7HPTMK376"
      }
    },
    {
      "cell_type": "markdown",
      "source": [
        "Let us first review the inferential methods for a population mean.  Recall, the Central Limit Theorem states: \n"
      ],
      "metadata": {
        "id": "wVERkQyqrImS"
      }
    },
    {
      "cell_type": "markdown",
      "source": [
        ">   If a random variable, say $Y$, follows a normal distribution with $Mean = \\mu$ and $Variance = \\sigma^2$, i.e. $Y \\sim N(\\mu, \\sigma^2)$\n",
        "\n",
        ">  then the distribution of the average $Y$, say $\\bar{Y}$, is:\n",
        "1.  normal,\n",
        "2.  has the same mean as $Y$, so $E(\\bar{Y}) = \\mu$, and \n",
        "3.  has a much reduced variance equal to $Var(\\bar{Y}) = \\frac{\\sigma^2}{n}$"
      ],
      "metadata": {
        "id": "9kRFI7jZwNT7"
      }
    },
    {
      "cell_type": "markdown",
      "source": [
        "Next, consider the following quantity that is commonly referred to as a standardized score or $Z-Score$. \n",
        "\n",
        "$$ Z = \\frac{\\hat{\\mu} - \\mu}{\\frac{\\sigma}{\\sqrt{n}}}\n",
        "$$\n",
        "\n",
        ">  The distribution of $Z$ is a normal distribution with $mean = 0$, and $standard \\space deviation = 1$, i.e. $Z \\sim N(\\mu=0, \\sigma=1)$.\n",
        "\n",
        "Now, if the variance of the population is not known (almost always the case), then, the quantity $T$ is used in place of $Z$.\n",
        "\n",
        "$$ T = \\frac{\\hat{\\mu} - \\mu}{\\frac{\\hat{\\sigma}}{\\sqrt{n}}}\n",
        "$$\n",
        "\n",
        ">  The distibution of $T$ is known to follow a $t-distribution$ with $df = (n-1)$."
      ],
      "metadata": {
        "id": "2DGyd-QH4Bo5"
      }
    },
    {
      "cell_type": "markdown",
      "source": [
        "<p align='center'><img src=\"https://drive.google.com/uc?export=view&id=1mZ4jbt6_e0VCeEoaqiTGTAtQBVdxWYmO\" width='50%' height='50%'></img><br>Source: https://homepage.divms.uiowa.edu/~mbognar/applets/t.html </p>"
      ],
      "metadata": {
        "id": "aa9bzu908MaJ"
      }
    },
    {
      "cell_type": "markdown",
      "source": [
        "## 95% CI and Hypothesis Test for $\\mu$"
      ],
      "metadata": {
        "id": "Js_0Ze4YGGc2"
      }
    },
    {
      "cell_type": "markdown",
      "source": [
        "Let $\\mu = \\mbox{average home price}$.  Compute a 95% CI for $\\mu$ and consider the following hypothesis test. \n",
        "\n",
        "$$\n",
        "\\begin{array}{rl}\n",
        "H_{0}: & \\mu = 250000 \\\\\n",
        "H_{A}: & \\mu \\ne 250000 \\\\\n",
        "\\end{array}\n",
        "$$"
      ],
      "metadata": {
        "id": "vb6AI8LO-Mya"
      }
    },
    {
      "cell_type": "markdown",
      "source": [
        "The following summary statistics for $PRICE$."
      ],
      "metadata": {
        "id": "uZZK9cisXhW_"
      }
    },
    {
      "cell_type": "code",
      "source": [
        "#Getting basic summaries for PRICE\n",
        "(LaCrosseWinonaHomePrices\n",
        "  %>% summarize(\n",
        "                 Mean = mean(PRICE),\n",
        "                 StdDev = sd(PRICE),\n",
        "                 Count = n(),\n",
        "                 StdError = sd(PRICE)/sqrt(n())\n",
        "  )\n",
        ")"
      ],
      "metadata": {
        "colab": {
          "base_uri": "https://localhost:8080/",
          "height": 129
        },
        "id": "p8Wq7wb6Xhno",
        "outputId": "391e7c6a-a7e8-4d40-da77-f7fc7d1ad123"
      },
      "execution_count": null,
      "outputs": [
        {
          "output_type": "display_data",
          "data": {
            "text/html": [
              "<table class=\"dataframe\">\n",
              "<caption>A tibble: 1 × 4</caption>\n",
              "<thead>\n",
              "\t<tr><th scope=col>Mean</th><th scope=col>StdDev</th><th scope=col>Count</th><th scope=col>StdError</th></tr>\n",
              "\t<tr><th scope=col>&lt;dbl&gt;</th><th scope=col>&lt;dbl&gt;</th><th scope=col>&lt;int&gt;</th><th scope=col>&lt;dbl&gt;</th></tr>\n",
              "</thead>\n",
              "<tbody>\n",
              "\t<tr><td>280885.1</td><td>111115.1</td><td>67</td><td>13574.87</td></tr>\n",
              "</tbody>\n",
              "</table>\n"
            ],
            "text/markdown": "\nA tibble: 1 × 4\n\n| Mean &lt;dbl&gt; | StdDev &lt;dbl&gt; | Count &lt;int&gt; | StdError &lt;dbl&gt; |\n|---|---|---|---|\n| 280885.1 | 111115.1 | 67 | 13574.87 |\n\n",
            "text/latex": "A tibble: 1 × 4\n\\begin{tabular}{llll}\n Mean & StdDev & Count & StdError\\\\\n <dbl> & <dbl> & <int> & <dbl>\\\\\n\\hline\n\t 280885.1 & 111115.1 & 67 & 13574.87\\\\\n\\end{tabular}\n",
            "text/plain": [
              "  Mean     StdDev   Count StdError\n",
              "1 280885.1 111115.1 67    13574.87"
            ]
          },
          "metadata": {}
        }
      ]
    },
    {
      "cell_type": "markdown",
      "source": [
        "Consider the following output from JMP for this analysis."
      ],
      "metadata": {
        "id": "9KyI2y3KGXB9"
      }
    },
    {
      "cell_type": "markdown",
      "source": [
        "<p align='center'><img src=\"https://drive.google.com/uc?export=view&id=14szxjU_6ChiJjReNnxt42gmQcLONJ34W\" width=\"75%\" height=\"75%\"></img></p>"
      ],
      "metadata": {
        "id": "pdw9t4t3E8D6"
      }
    },
    {
      "cell_type": "markdown",
      "source": [
        "<u>Outcomes</u>:\n",
        "\n",
        "*   The test statistic is computed as $t = \\frac{(280885 - 250000)}{\\frac{111115}{\\sqrt{67}}} = \\frac{(280885 - 250000)}{13575} = 2.2752$\n",
        "*   The p-value for this test is $p-value = 0.0262$, which is defined as the $P(T < -2.2752) + P(T > 2.2752)$.\n",
        "*   Here, $p-value < \\alpha$, i.e. $0.0262 < 0.05$; thus, have enough statistical evidence to $reject \\space H_{0}$\n",
        "\n",
        "\n",
        "*   The 95% CI for $\\mu$ is\n",
        "\n",
        "$$\n",
        "$253,782 < \\mu < $307,988\n",
        "$$"
      ],
      "metadata": {
        "id": "947jslC7GeNF"
      }
    },
    {
      "cell_type": "markdown",
      "source": [
        "The **t.test()** function in R can be used to obtain the inference output from the hypothesis test above."
      ],
      "metadata": {
        "id": "o0dSamCpEFRX"
      }
    },
    {
      "cell_type": "code",
      "source": [
        "#Using t.test() to conduct the test, and get 95% CI\n",
        "t.test(LaCrosseWinonaHomePrices$PRICE, \n",
        "       mu=250000, \n",
        "       alternative = \"two.sided\",\n",
        "       conf.level = 0.95\n",
        "      )"
      ],
      "metadata": {
        "colab": {
          "base_uri": "https://localhost:8080/",
          "height": 208
        },
        "id": "rB81K78aEFwt",
        "outputId": "be430ad3-1253-4f4b-c3cd-899276b8c3f3"
      },
      "execution_count": null,
      "outputs": [
        {
          "output_type": "display_data",
          "data": {
            "text/plain": [
              "\n",
              "\tOne Sample t-test\n",
              "\n",
              "data:  LaCrosseWinonaHomePrices$PRICE\n",
              "t = 2.2752, df = 66, p-value = 0.02615\n",
              "alternative hypothesis: true mean is not equal to 250000\n",
              "95 percent confidence interval:\n",
              " 253782.0 307988.2\n",
              "sample estimates:\n",
              "mean of x \n",
              " 280885.1 \n"
            ]
          },
          "metadata": {}
        }
      ]
    },
    {
      "cell_type": "markdown",
      "source": [
        "###The Calculations for the Test"
      ],
      "metadata": {
        "id": "FigZ-XtsJ0wD"
      }
    },
    {
      "cell_type": "markdown",
      "source": [
        "The test statisic is computed as follows.\n",
        "\n",
        "$$\\begin{array}{rcl}\n",
        "T & = & \\frac{\\hat{\\mu} - \\mu}{\\frac{\\hat{\\sigma}}{\\sqrt{n}}} \\\\\n",
        "& = & \\frac{280885 - 250000}{\\frac{111115}{67}} \\\\ \n",
        "& = & \\frac{30885}{13575} \\\\ \n",
        "& = & 2.2752\n",
        "\\end{array}\n",
        "$$"
      ],
      "metadata": {
        "id": "yWNQ2-PWJ-55"
      }
    },
    {
      "cell_type": "markdown",
      "source": [
        "The p-value for this test is defined as $P(T < -2.2752) + P(T > 2.2752)$ which is computed by the following quantity where $\\nu = (67-1)$."
      ],
      "metadata": {
        "id": "cx0PUBXfPA3y"
      }
    },
    {
      "cell_type": "markdown",
      "source": [
        "\n",
        "$$\\begin{array}{rcl}\n",
        "p-value & = &\n",
        "\\int_{-\\infty}^{-2.2752} \\frac{\\Gamma(\\frac{\\nu+1}{2})}{\\sqrt{\\nu \\pi} \\space \\Gamma(\\frac{\\nu}{2})} \\left( 1 + \\frac{t^2}{\\nu}\\right)^{-(\\nu+1)/2} \\, dt \\\\ & & \\space \\space + \\space \\space \\int_{+2.2752}^{+\\infty} \\frac{\\Gamma(\\frac{\\nu+1}{2})}{\\sqrt{\\nu \\pi} \\space \\Gamma(\\frac{\\nu}{2})} \\left( 1 + \\frac{t^2}{\\nu}\\right)^{-(\\nu+1)/2} \\, dt \\\\ \n",
        "& & \\\\\n",
        "& = & 0.0261\n",
        "\\end{array}\n",
        "$$\n"
      ],
      "metadata": {
        "id": "byTXIRvAL3EL"
      }
    },
    {
      "cell_type": "markdown",
      "source": [
        "Lucky for us, computing technology will compute this $p-value$ directly from a t-distribution with $\\nu = df=(67-1)$.\n",
        "\n",
        "<p align='center'><img src=\"https://drive.google.com/uc?export=view&id=1U2ausgyL1LOqWYJGwrjByS1ASuSr15Ve\" width=\"50%\" height=\"50%\"></img></p>"
      ],
      "metadata": {
        "id": "Qr_FngUbPJFr"
      }
    },
    {
      "cell_type": "markdown",
      "source": [
        "The pt() will compute the probability from a t-distribution in R.  The following snipit will compute the p-value for this test statistic."
      ],
      "metadata": {
        "id": "NEE49oqYQEdl"
      }
    },
    {
      "cell_type": "code",
      "source": [
        "#p-value computation in R // for two-sided test\n",
        "2*(1 - pt(abs(2.2752), df=66))"
      ],
      "metadata": {
        "colab": {
          "base_uri": "https://localhost:8080/",
          "height": 34
        },
        "id": "LMIeKB2wQEkK",
        "outputId": "10a03f07-47c7-415c-aff5-62bc50e993a2"
      },
      "execution_count": null,
      "outputs": [
        {
          "output_type": "display_data",
          "data": {
            "text/html": [
              "0.0261482991202575"
            ],
            "text/markdown": "0.0261482991202575",
            "text/latex": "0.0261482991202575",
            "text/plain": [
              "[1] 0.0261483"
            ]
          },
          "metadata": {}
        }
      ]
    },
    {
      "cell_type": "markdown",
      "source": [
        "### The Calculations for the 95% CI"
      ],
      "metadata": {
        "id": "mAbTa4kmRKIy"
      }
    },
    {
      "cell_type": "markdown",
      "source": [
        "For a t-distribution with $df=66$, we know that 95% of the probability is between $-1.9965$ and $+1.9965$."
      ],
      "metadata": {
        "id": "2tH5M80cQulk"
      }
    },
    {
      "cell_type": "markdown",
      "source": [
        "<p align='center'><img src=\"https://drive.google.com/uc?export=view&id=1zQ4T6woAgu9xoo6-JKD_Qw5TCGN7tIvi\" width=\"50%\" height=\"50%\"></img></p>"
      ],
      "metadata": {
        "id": "hPW9h46QQxOy"
      }
    },
    {
      "cell_type": "markdown",
      "source": [
        "In R, the quantiles from a t-distibution for a 95% CI can be computed using the qt() function."
      ],
      "metadata": {
        "id": "BBkKTzHoRhZy"
      }
    },
    {
      "cell_type": "code",
      "source": [
        "#Getting the 2.5% and 97.5% percentiles from t-distribution \n",
        "qt(c(0.025,0.975), df=66)"
      ],
      "metadata": {
        "colab": {
          "base_uri": "https://localhost:8080/",
          "height": 34
        },
        "id": "qWzfKDXb-M6H",
        "outputId": "1f93660a-668f-4d4d-879b-5846d86eb72f"
      },
      "execution_count": 10,
      "outputs": [
        {
          "output_type": "display_data",
          "data": {
            "text/html": [
              "<style>\n",
              ".list-inline {list-style: none; margin:0; padding: 0}\n",
              ".list-inline>li {display: inline-block}\n",
              ".list-inline>li:not(:last-child)::after {content: \"\\00b7\"; padding: 0 .5ex}\n",
              "</style>\n",
              "<ol class=list-inline><li>-1.99656441895231</li><li>1.99656441895231</li></ol>\n"
            ],
            "text/markdown": "1. -1.99656441895231\n2. 1.99656441895231\n\n\n",
            "text/latex": "\\begin{enumerate*}\n\\item -1.99656441895231\n\\item 1.99656441895231\n\\end{enumerate*}\n",
            "text/plain": [
              "[1] -1.996564  1.996564"
            ]
          },
          "metadata": {}
        }
      ]
    },
    {
      "cell_type": "markdown",
      "source": [
        "Recall, $T = \\frac{\\hat{\\mu} - \\mu}{\\frac{\\hat{\\sigma}}{\\sqrt{n}}}$ is known to following a t-distribution with $df=(67-1)$.  Therefore, the following interval will caputure the middle 95% of this probability distribution. "
      ],
      "metadata": {
        "id": "qUfbm_Si_szq"
      }
    },
    {
      "cell_type": "markdown",
      "source": [
        "$$\n",
        "\\begin{array}{rcccl}\n",
        "-1.9965 &<& \\frac{\\hat{\\mu} - \\mu}{\\frac{\\hat{\\sigma}}{\\sqrt{n}}} &<& +1.9965 \\\\\n",
        "\\end{array}\n",
        "$$"
      ],
      "metadata": {
        "id": "et9Qypp7U582"
      }
    },
    {
      "cell_type": "markdown",
      "source": [
        "The 95% confidence interval can be determined by isolating the parameter $\\mu$ in this expression."
      ],
      "metadata": {
        "id": "IVKXY3-YVAzV"
      }
    },
    {
      "cell_type": "markdown",
      "source": [
        "$$\n",
        "\\begin{array}{rcccl}\n",
        "-1.9965 &<& \\frac{\\hat{\\mu} - \\mu}{\\frac{\\hat{\\sigma}}{\\sqrt{n}}} &<& +1.9965 \\\\\n",
        "\\left(-1.9965* \\frac{\\hat{\\sigma}}{\\sqrt{n}} \\right) &<& {\\hat{\\mu} - \\mu}{} &<& \\left( +1.9965 * \\frac{\\hat{\\sigma}}{\\sqrt{n}} \\right) \\\\\n",
        "- \\hat{\\mu} + \\left(-1.9965* \\frac{\\hat{\\sigma}}{\\sqrt{n}} \\right) &<& - \\mu &<& - \\hat{\\mu} + \\left( +1.9965 * \\frac{\\hat{\\sigma}}{\\sqrt{n}} \\right) \\\\\n",
        "\\hat{\\mu} - \\left(-1.9965* \\frac{\\hat{\\sigma}}{\\sqrt{n}} \\right) &>& \\mu &>&  \\hat{\\mu} - \\left( +1.9965 * \\frac{\\hat{\\sigma}}{\\sqrt{n}} \\right) \\\\\n",
        "\\end{array}\n",
        "$$\n",
        "\n",
        "Rewriting this expression with the lower endpoint on the left side of the inequality yields,\n",
        "$$\n",
        "\\begin{array}{rcccl}\n",
        "\\hat{\\mu} - \\left(+1.9965* \\frac{\\hat{\\sigma}}{\\sqrt{n}} \\right) &<& \\mu &<&  \\hat{\\mu} - \\left(-1.9965 * \\frac{\\hat{\\sigma}}{\\sqrt{n}} \\right) \\\\\n",
        "\\hat{\\mu} - \\left(1.9965* \\frac{\\hat{\\sigma}}{\\sqrt{n}} \\right) &<& \\mu &<&  \\hat{\\mu} + \\left(1.9965 * \\frac{\\hat{\\sigma}}{\\sqrt{n}} \\right) \\\\\n",
        "\\end{array}\n",
        "$$\n"
      ],
      "metadata": {
        "id": "lnHdG8B3Rr68"
      }
    },
    {
      "cell_type": "markdown",
      "source": [
        "Finally, the 95% confidence interval can be computed using the final expression.\n",
        "\n",
        "$$\n",
        "\\begin{array}{rl}\n",
        "Lower \\space Endpoint: & & \\hat{\\mu} - \\left( 1.9965 * \\frac{\\hat{\\sigma}}{\\sqrt{n}} \\right) \\\\\n",
        "& = &  280885 - \\left( 1.9965 * \\frac{111115}{\\sqrt{67}} \\right) \\\\\n",
        "& = &  280885 - \\left( 1.9965 * 13575 \\right) \\\\\n",
        "& = &  253782 \\\\\n",
        "\\end{array}\n",
        "$$\n",
        "\n",
        "Likewise for the upper endpoint, \n",
        "\n",
        "$$\n",
        "\\begin{array}{rl}\n",
        "Upper \\space Endpoint: & & \\hat{\\mu} + \\left( 1.9965 * \\frac{\\hat{\\sigma}}{\\sqrt{n}} \\right) \\\\\n",
        "& = &  280885 + \\left( 1.9965 * \\frac{111115}{\\sqrt{67}} \\right) \\\\\n",
        "& = &  280885 + \\left( 1.9965 * 13575 \\right) \\\\\n",
        "& = &  307988 \\\\\n",
        "\\end{array}\n",
        "$$"
      ],
      "metadata": {
        "id": "OjX4bG59Vbag"
      }
    },
    {
      "cell_type": "markdown",
      "source": [
        "\n",
        "\n",
        "---\n",
        "\n",
        "\n",
        "\n",
        "---\n",
        "\n"
      ],
      "metadata": {
        "id": "oYWHDWyQX7OY"
      }
    },
    {
      "cell_type": "markdown",
      "source": [
        "##  Inferential Methods for Regression Parameters"
      ],
      "metadata": {
        "id": "dIS631ME2smh"
      }
    },
    {
      "cell_type": "markdown",
      "source": [
        "Consider the following conditions that are often used in a simple linear regression setting.\n",
        "\n",
        "*   The distribution of the response variable, $Y$, is normal\n",
        "*   The mean of the conditional distribution of $Y|X$ is given by $E(Y|X) = \\beta_{0} + \\beta_{1} * X$ \n",
        "*   The variance of the conditional distribution of $Y|X$ is given by $VAR(Y|X) = \\sigma^{2}$"
      ],
      "metadata": {
        "id": "b-HWj8L52H1U"
      }
    },
    {
      "cell_type": "markdown",
      "source": [
        "Given that the response variable $Y$ follows a normal distribution and the conditional distribution of $Y|X$ has a mean and variance defined as above, then the distribution of the estimated regression parameters have the following properties."
      ],
      "metadata": {
        "id": "RFKGPbB33c9I"
      }
    },
    {
      "cell_type": "markdown",
      "source": [
        "The distribution of $\\hat{\\beta}_{1}$\n",
        "\n",
        "*  is normally distributed\n",
        "*  has a mean equal to $E(\\hat{\\beta}_{1}) = \\beta_{1}$\n",
        "*  has a variance equal to $VAR(\\hat{\\beta}_{1}) = {\\sigma}^{2} \\left( \\frac{n}{n\\sum{x_{i}^{2}} - (\\sum{x_{i}})^2} \\right)$"
      ],
      "metadata": {
        "id": "cQFIaD44775o"
      }
    },
    {
      "cell_type": "markdown",
      "source": [
        "\n",
        "The distribution of $\\hat{\\beta}_{0}$\n",
        "\n",
        "*  is normally distributed\n",
        "*  has a mean equal to $E(\\hat{\\beta}_{0}) = \\beta_{0}$\n",
        "*  has a variance equal to $VAR(\\hat{\\beta}_{0}) = {\\sigma}^{2} \\left( \\frac{\\sum{x_{i}^{2}}}{n\\sum{x_{i}^{2}} - (\\sum{x_{i}})^2} \\right)$"
      ],
      "metadata": {
        "id": "k4gZo9HH7-yY"
      }
    },
    {
      "cell_type": "markdown",
      "source": [
        "In addition, co-variation exists between $\\hat{\\beta_{0}}$ and $\\hat{\\beta}_{1}$ and is commonly expressed as\n",
        "\n",
        "*  $COV(\\hat{\\beta}_{0}, \\hat{\\beta}_{1}) = \\sigma^{2} \\left( \\frac{- \\sum{x_{i}}}{n\\sum{x_{i}^{2}} - (\\sum{x_{i}})^2} \\right)$"
      ],
      "metadata": {
        "id": "X8ytG4MQ8spN"
      }
    },
    {
      "cell_type": "markdown",
      "source": [
        "<u>Comment</u>:  Technically speaking, the distribution of the estimated regression parametes follows a **multivariate normal distribution**.  However, each marginal distribution of a multivariate normal distribution is itself a normal distribution.  The multivariate normal distribution is revisited when considering the Joint Confidence Regions near the end of this handout."
      ],
      "metadata": {
        "id": "K3yVeQR99_OX"
      }
    },
    {
      "cell_type": "markdown",
      "metadata": {
        "id": "cPBBTDRHHWS-"
      },
      "source": [
        "### Fitting the SLR model $Price \\sim SquareFeet$ "
      ]
    },
    {
      "cell_type": "markdown",
      "source": [
        "First, let's fit a simple linear regression model for $Price \\sim SquareFeet$"
      ],
      "metadata": {
        "id": "sR2q_FVZekGx"
      }
    },
    {
      "cell_type": "code",
      "source": [
        "LModel_Price_Sqft <- lm(PRICE ~ SQUAREFEET, data=LaCrosseWinonaHomePrices)"
      ],
      "metadata": {
        "id": "zhHGpvZEekTA"
      },
      "execution_count": 5,
      "outputs": []
    },
    {
      "cell_type": "markdown",
      "source": [
        "Getting a summary of this fit."
      ],
      "metadata": {
        "id": "mt38A95uelvs"
      }
    },
    {
      "cell_type": "code",
      "source": [
        "summary(LModel_Price_Sqft)"
      ],
      "metadata": {
        "id": "ZlFj-y_4el6z",
        "colab": {
          "base_uri": "https://localhost:8080/",
          "height": 349
        },
        "outputId": "a1b57013-dd30-495e-dd74-a903b3b4b8c3"
      },
      "execution_count": 6,
      "outputs": [
        {
          "output_type": "display_data",
          "data": {
            "text/plain": [
              "\n",
              "Call:\n",
              "lm(formula = PRICE ~ SQUAREFEET, data = LaCrosseWinonaHomePrices)\n",
              "\n",
              "Residuals:\n",
              "    Min      1Q  Median      3Q     Max \n",
              "-133303  -46568   -6090   36819  158794 \n",
              "\n",
              "Coefficients:\n",
              "             Estimate Std. Error t value Pr(>|t|)    \n",
              "(Intercept) 76499.678  20259.923   3.776 0.000348 ***\n",
              "SQUAREFEET     98.808      8.981  11.002  < 2e-16 ***\n",
              "---\n",
              "Signif. codes:  0 ‘***’ 0.001 ‘**’ 0.01 ‘*’ 0.05 ‘.’ 0.1 ‘ ’ 1\n",
              "\n",
              "Residual standard error: 66180 on 65 degrees of freedom\n",
              "Multiple R-squared:  0.6506,\tAdjusted R-squared:  0.6453 \n",
              "F-statistic:   121 on 1 and 65 DF,  p-value: < 2.2e-16\n"
            ]
          },
          "metadata": {}
        }
      ]
    },
    {
      "cell_type": "markdown",
      "source": [
        "Consider the following parameter estimates from this model.\n",
        "\n",
        "$$\\begin{array}{rl} \\hat{E}(Price|SquareFeet) & = & \\hat{\\beta}_{0} + \\hat{\\beta}_{1} * SquareFeet \\\\ & = & 76500 + 98.81*SquareFeet \\\\ \\end{array}$$\n",
        "\n",
        "*  $\\hat{\\beta}_{0} = 76500$\n",
        "*  $\\hat{\\beta}_{1} = 98.81$\n",
        "*  $\\hat{\\sigma} = 66180$ with $df=(n-\\# parameters \\space in \\space model) = (67-2)$\n"
      ],
      "metadata": {
        "id": "vWnSUiTrcgK6"
      }
    },
    {
      "cell_type": "markdown",
      "source": [
        "### Inference for $\\beta_{1}$"
      ],
      "metadata": {
        "id": "nQWbe2j5DB-r"
      }
    },
    {
      "cell_type": "markdown",
      "source": [
        "#### Hypothesis Test for $\\beta_{1}$"
      ],
      "metadata": {
        "id": "ZpLU2QW-NKqq"
      }
    },
    {
      "cell_type": "markdown",
      "source": [
        "By far, the most common hypothesis test for the slope is\n",
        "\n",
        "$$\n",
        "\\begin{array}{rl}\n",
        "H_{0}: & \\beta_{1} = 0 \\\\\n",
        "H_{A}: & \\beta_{1} \\ne 0 \\\\\n",
        "\\end{array}\n",
        "$$"
      ],
      "metadata": {
        "id": "VoMKYunCFC2x"
      }
    },
    {
      "cell_type": "markdown",
      "source": [
        "In words, this hypothesis test is \n",
        "\n",
        "$$\n",
        "\\begin{array}{rl}\n",
        "H_{0}: & \\mbox{No linear relationship exists between Price and SquareFeet} \\\\\n",
        "H_{A}: & \\mbox{A linear relationship exists between Price and SquareFeet} \\\\\n",
        "\\end{array}\n",
        "$$"
      ],
      "metadata": {
        "id": "GqpnozAoFsMI"
      }
    },
    {
      "cell_type": "markdown",
      "source": [
        "The test statistic for this test is given by the following\n",
        "\n",
        "$$\n",
        "\\begin{array}{rcl}\n",
        "t & = & \\frac{\\hat{\\beta}_{1} - \\beta_{1}}{Std \\space Error(\\hat{\\beta}_{1})} \\\\ \n",
        "& = & \\frac{98.81-0}{8.98} \\\\\n",
        "& = & 11.002\n",
        "\\end{array}\n",
        "$$"
      ],
      "metadata": {
        "id": "XKpyh8XSGYYn"
      }
    },
    {
      "cell_type": "markdown",
      "source": [
        "The p-value for this test is defined as $P(T < -11.002) + P(T > 11.002)$ which is computed by the following quantity where $\\nu = (67-2)$."
      ],
      "metadata": {
        "id": "rFqm4kw4HklQ"
      }
    },
    {
      "cell_type": "markdown",
      "source": [
        "<p align='center'><img src=\"https://drive.google.com/uc?export=view&id=1_g8Ybw_3YdX7CI2GhFOGCBp-_yax1qHY\" width=\"50%\" height=\"50%\"></img></p>\n"
      ],
      "metadata": {
        "id": "ph_IRm0AIxRh"
      }
    },
    {
      "cell_type": "markdown",
      "source": [
        "The $p-value$ can be computed directly in R using the pt() function."
      ],
      "metadata": {
        "id": "afn99J6RI_yn"
      }
    },
    {
      "cell_type": "code",
      "source": [
        "#p-value computation in R // for two-sided test\n",
        "2*(1 - pt(abs(11.002), df=65))"
      ],
      "metadata": {
        "colab": {
          "base_uri": "https://localhost:8080/",
          "height": 34
        },
        "id": "hepWuZgoJFwF",
        "outputId": "81b37e8b-d94d-4b7b-e160-a4a2735a30c4"
      },
      "execution_count": 8,
      "outputs": [
        {
          "output_type": "display_data",
          "data": {
            "text/html": [
              "2.22044604925031e-16"
            ],
            "text/markdown": "2.22044604925031e-16",
            "text/latex": "2.22044604925031e-16",
            "text/plain": [
              "[1] 2.220446e-16"
            ]
          },
          "metadata": {}
        }
      ]
    },
    {
      "cell_type": "markdown",
      "source": [
        "<table width='100%'><tr><td bgcolor=\"orange\"><font color=\"white\" size=\"+2\">Aside</font></td></tr></table>"
      ],
      "metadata": {
        "id": "Js9qR5jF_woy"
      }
    },
    {
      "cell_type": "markdown",
      "metadata": {
        "id": "A8wAkWfn_yIV"
      },
      "source": [
        "Conceptually, a test of significance for the slope requires us to consider the likelihood of obtaining the observed slope *under the null hypothesis*, i.e., the true slope is zero.\n",
        "\n",
        "If  $\\beta_{1} = 0$, then the observed pairing for each observation, i.e., (Price, SquareFeet) is no more or less likely than any other pairing.  Thus, a permutation test can be done by essentially scrambling the predictor variable to create new pseudo pairings.  The mean function is then fit using the scrambled pairings of the response and predictor variable.\n"
      ]
    },
    {
      "cell_type": "markdown",
      "source": [
        "<table border=\"1\">\n",
        "  <tr>\n",
        "    <td align=\"center\"><font size=\"+1\">Original Data</font></td>\n",
        "    <td align=\"center\"><font size=\"+1\">Scramble the Predictor Variable(s)</font></td>\n",
        "    <td align=\"center\"><font size=\"+1\">New pseudo pairings <br> used to fit the model</font></td>\n",
        "  </tr>\n",
        "  <tr>\n",
        "    <td align=\"center\"><img src=\"https://drive.google.com/uc?export=view&id=16UG5uas0Syr4FxYAuWcdv8xYYJvmRER4\"></img>\n",
        "    </td>\n",
        "    <td align=\"center\"><img src=\"https://drive.google.com/uc?export=view&id=1glGG-Cy75byIy4MsIoQE8jHc4n9_WNFk\"></img>\n",
        "    </td>\n",
        "    <td align=\"center\"><img src=\"https://drive.google.com/uc?export=view&id=1ynlQ5Rw0sQwfSDTBPNedTzPz3A7F9sRx\"></img>\n",
        "    </td>\n",
        "</tr>\n",
        "</table>"
      ],
      "metadata": {
        "id": "WoBuq9J9Wpxa"
      }
    },
    {
      "cell_type": "markdown",
      "source": [
        "The following is a custom function that will simulate data for a permutation based test for the slope."
      ],
      "metadata": {
        "id": "TJWBKPk5Y0xI"
      }
    },
    {
      "cell_type": "code",
      "source": [
        "#@title Custom Function for Simulation-Based Inference for a Slope\n",
        "# Custome function to visualize a permutation test of slope \n",
        "# from a simple linear regression model\n",
        "\n",
        "PermReg=function(slr_object,b=100){\n",
        "\n",
        "\ty=slr_object$model[,1]\n",
        "\tx=slr_object$model[,2]\n",
        "\n",
        "\toutput.mat=matrix(0,b,4)\n",
        "\n",
        "\tfor(i in 1:b){\n",
        "\t\txstar = sample(x,replace=F)\n",
        "\t\tlmtemp = lm(y~xstar)\n",
        "\t\toutput.mat[i,1]=lmtemp$coefficients[[1]]\n",
        "\t\toutput.mat[i,2]=lmtemp$coefficients[[2]]\n",
        "\t\toutput.mat[i,3]=min(lmtemp$fitted.values)\n",
        "\t\toutput.mat[i,4]=max(lmtemp$fitted.values)\n",
        "\t}\n",
        "\t\n",
        "\tplot(x,y,ylim=c(min(output.mat[,3],y),max(output.mat[,4],y)),type=\"n\", xlab=\"Predictor\", ylab=\"Response\")\n",
        "\tfor(i in 1:b){\n",
        "\t\tabline(output.mat[i,1],output.mat[i,2],col=\"grey\")\n",
        "\t}\n",
        "\tabline(slr_object,col=\"black\")\t\t\n",
        "}\n"
      ],
      "metadata": {
        "cellView": "form",
        "id": "Jcm00gf5Rix2"
      },
      "execution_count": 19,
      "outputs": []
    },
    {
      "cell_type": "markdown",
      "source": [
        "Next, use the **PermReg()** to obtain 100 repeated outcomes under the situation of $\\beta_{1} = 0$.  In this plot, the solid line is the estimated regression line.  The estimated regression line is an \"outlier\" against 100 repeated slopes obtained by the permutation distribution.  Thus, there is strong statistical evidence to suggest that a non-zero slope exists when considering the relationship between $Price$ and $SquareFeet$."
      ],
      "metadata": {
        "id": "1x2aADutSscx"
      }
    },
    {
      "cell_type": "code",
      "source": [
        "PermReg(LModel_Price_Sqft, b=100)"
      ],
      "metadata": {
        "colab": {
          "base_uri": "https://localhost:8080/",
          "height": 437
        },
        "id": "m3XTO-q_Ssnq",
        "outputId": "7367e8f5-f176-4ccc-b735-c5953d5ba7f4"
      },
      "execution_count": 20,
      "outputs": [
        {
          "output_type": "display_data",
          "data": {
            "text/plain": [
              "plot without title"
            ],
            "image/png": "[encoded data removed]"
          },
          "metadata": {
            "image/png": {
              "width": 420,
              "height": 420
            }
          }
        }
      ]
    },
    {
      "cell_type": "markdown",
      "source": [
        "<table width='100%'><tr><td bgcolor=\"orange\"><font color=\"white\" size=\"+2\">&nbsp;</font></td></tr></table>"
      ],
      "metadata": {
        "id": "rtF1CSi5RRzs"
      }
    },
    {
      "cell_type": "markdown",
      "source": [
        "#### The 95% CI for $\\beta_{1}$"
      ],
      "metadata": {
        "id": "JY-Uc_hjK6OH"
      }
    },
    {
      "cell_type": "markdown",
      "source": [
        "First, let's obtain the appropirate quantiles from a t-distribution with $df=(67-2)$.  A t-distribution with $df=65$ will have 95% of it's probability between $\\pm 1.9971$."
      ],
      "metadata": {
        "id": "Ta6I-yUgM8_H"
      }
    },
    {
      "cell_type": "markdown",
      "source": [
        "<p align='center'><img src=\"https://drive.google.com/uc?export=view&id=1kAZVnWNZhIxkFaq4O3oc_jfW0_zRYVCj\" width=\"50%\" height=\"50%\"></img></p>"
      ],
      "metadata": {
        "id": "CVmGYv_eM8_J"
      }
    },
    {
      "cell_type": "markdown",
      "source": [
        "The appropriate quantiles can be obtained direclty in R using the qt() function."
      ],
      "metadata": {
        "id": "OgYlI0_XMzTY"
      }
    },
    {
      "cell_type": "code",
      "source": [
        "#Getting the 2.5% and 97.5% percentiles from t-distribution \n",
        "qt(c(0.025,0.975), df=65)"
      ],
      "metadata": {
        "colab": {
          "base_uri": "https://localhost:8080/",
          "height": 34
        },
        "id": "5PUIczmRK6ZO",
        "outputId": "05fa92c9-f498-41d0-ddb7-80ee057c99a7"
      },
      "execution_count": 11,
      "outputs": [
        {
          "output_type": "display_data",
          "data": {
            "text/html": [
              "<style>\n",
              ".list-inline {list-style: none; margin:0; padding: 0}\n",
              ".list-inline>li {display: inline-block}\n",
              ".list-inline>li:not(:last-child)::after {content: \"\\00b7\"; padding: 0 .5ex}\n",
              "</style>\n",
              "<ol class=list-inline><li>-1.997137908392</li><li>1.997137908392</li></ol>\n"
            ],
            "text/markdown": "1. -1.997137908392\n2. 1.997137908392\n\n\n",
            "text/latex": "\\begin{enumerate*}\n\\item -1.997137908392\n\\item 1.997137908392\n\\end{enumerate*}\n",
            "text/plain": [
              "[1] -1.997138  1.997138"
            ]
          },
          "metadata": {}
        }
      ]
    },
    {
      "cell_type": "markdown",
      "source": [
        "The 95% confidence interval for \\beta_{1} is given by the following quantities.\n",
        "\n",
        "$$\n",
        "\\begin{array}{rl}\n",
        "Lower \\space Endpoint: & & \\hat{\\beta}_{1} - \\left( 1.9971 * Std \\space Error(\\hat{\\beta}_{1})  \\right) \\\\\n",
        "& = &  98.81 - \\left( 1.9971 * 8.98 \\right) \\\\\n",
        "& = &  80.87 \\\\\n",
        "\\end{array}\n",
        "$$\n",
        "\n",
        "Likewise for the upper endpoint, \n",
        "\n",
        "$$\n",
        "\\begin{array}{rl}\n",
        "Upper \\space Endpoint: & & \\hat{\\beta}_{1} + \\left( 1.9971 * Std \\space Error(\\hat{\\beta}_{1} \\right) \\\\\n",
        "& = &  98.81 + \\left( 1.9971 * 8.98 \\right) \\\\\n",
        "& = &   116.74 \\\\\n",
        "\\end{array}\n",
        "$$"
      ],
      "metadata": {
        "id": "zlYdOx8XO3QX"
      }
    },
    {
      "cell_type": "markdown",
      "source": [
        "### Inference for $\\beta_{0}$"
      ],
      "metadata": {
        "id": "VsR8CTLoJ_YD"
      }
    },
    {
      "cell_type": "markdown",
      "source": [
        "Akin to the test for the slope, the test done by most computing packages for the y-intercept is given by the following hypotheses. \n",
        "\n",
        "$$\n",
        "\\begin{array}{rl}\n",
        "H_{0}: & \\beta_{0} = 0 \\\\\n",
        "H_{A}: & \\beta_{0} \\ne 0 \\\\\n",
        "\\end{array}\n",
        "$$"
      ],
      "metadata": {
        "id": "PT0TxpsbJ_YE"
      }
    },
    {
      "cell_type": "markdown",
      "source": [
        "The test statistic for this test is given by the following\n",
        "\n",
        "$$\n",
        "\\begin{array}{rcl}\n",
        "t & = & \\frac{\\hat{\\beta}_{0} - \\beta_{0}}{Std \\space Error(\\hat{\\beta}_{0})} \\\\ \n",
        "& = & \\frac{76500-0}{20260} \\\\\n",
        "& = & 3.776\n",
        "\\end{array}\n",
        "$$"
      ],
      "metadata": {
        "id": "2foqQGyYJ_YF"
      }
    },
    {
      "cell_type": "markdown",
      "source": [
        "The p-value for this test is defined as $P(T < -3.776) + P(T > 3.776)$ which is computed by the following quantity where $\\nu = (67-2)$."
      ],
      "metadata": {
        "id": "ia8mQFiJJ_YG"
      }
    },
    {
      "cell_type": "markdown",
      "source": [
        "<p align='center'><img src=\"https://drive.google.com/uc?export=view&id=1cV5Dh1bcdG6XJGX1NYxqfiLh12ocU6-a\" width=\"50%\" height=\"50%\"></img></p>"
      ],
      "metadata": {
        "id": "gARhKvTYJ_YG"
      }
    },
    {
      "cell_type": "markdown",
      "source": [
        "The $p-value$ can be computed directly in R using the pt() function."
      ],
      "metadata": {
        "id": "38fDNW24J_YH"
      }
    },
    {
      "cell_type": "code",
      "source": [
        "#p-value computation in R // for two-sided test\n",
        "2*(1 - pt(abs(3.776), df=65))"
      ],
      "metadata": {
        "colab": {
          "base_uri": "https://localhost:8080/",
          "height": 34
        },
        "outputId": "235fd9b8-1410-4143-eeac-7d045fe1295f",
        "id": "DKwNOz5VJ_YH"
      },
      "execution_count": null,
      "outputs": [
        {
          "output_type": "display_data",
          "data": {
            "text/html": [
              "0.000347755991948029"
            ],
            "text/markdown": "0.000347755991948029",
            "text/latex": "0.000347755991948029",
            "text/plain": [
              "[1] 0.000347756"
            ]
          },
          "metadata": {}
        }
      ]
    },
    {
      "cell_type": "markdown",
      "source": [
        "The 95% confidence interval for $\\beta_{0}$ is computed as follows."
      ],
      "metadata": {
        "id": "Ln6eqZj4bV8Q"
      }
    },
    {
      "cell_type": "markdown",
      "source": [
        "The 95% confidence interval for \\beta_{1} is given by the following quantities.\n",
        "\n",
        "$$\n",
        "\\begin{array}{rl}\n",
        "Lower \\space Endpoint: & & \\hat{\\beta}_{0} - \\left( 1.9971 * Std \\space Error(\\hat{\\beta}_{0})  \\right) \\\\\n",
        "& = &  76500 - \\left( 1.9971 * 20260 \\right) \\\\\n",
        "& = &  36038 \\\\\n",
        "\\end{array}\n",
        "$$\n",
        "\n",
        "Likewise for the upper endpoint, \n",
        "\n",
        "$$\n",
        "\\begin{array}{rl}\n",
        "Upper \\space Endpoint: & & \\hat{\\beta}_{0} + \\left( 1.9971 * Std \\space Error(\\hat{\\beta}_{0})  \\right) \\\\\n",
        "& = &  76500 + \\left( 1.9971 * 20260 \\right) \\\\\n",
        "& = &  116962 \\\\\n",
        "\\end{array}\n",
        "$$\n"
      ],
      "metadata": {
        "id": "XRoCoa1cbTA8"
      }
    },
    {
      "cell_type": "markdown",
      "source": [
        "## 95% Confidence Intervals for Regression Parameters via confit()"
      ],
      "metadata": {
        "id": "LkogoiIvlHSs"
      }
    },
    {
      "cell_type": "markdown",
      "metadata": {
        "id": "JPU5tkQpfnKj"
      },
      "source": [
        "The 95% confidence intervals for linear model parameters can be computed using the confint() function."
      ]
    },
    {
      "cell_type": "code",
      "metadata": {
        "id": "JWQuPa0JfnSA",
        "colab": {
          "base_uri": "https://localhost:8080/",
          "height": 129
        },
        "outputId": "b8af60be-879e-40a5-f778-bc578762bc86"
      },
      "source": [
        "confint(LModel_Price_Sqft)"
      ],
      "execution_count": 21,
      "outputs": [
        {
          "output_type": "display_data",
          "data": {
            "text/html": [
              "<table class=\"dataframe\">\n",
              "<caption>A matrix: 2 × 2 of type dbl</caption>\n",
              "<thead>\n",
              "\t<tr><th></th><th scope=col>2.5 %</th><th scope=col>97.5 %</th></tr>\n",
              "</thead>\n",
              "<tbody>\n",
              "\t<tr><th scope=row>(Intercept)</th><td>36037.81715</td><td>116961.5395</td></tr>\n",
              "\t<tr><th scope=row>SQUAREFEET</th><td>   80.87241</td><td>   116.7439</td></tr>\n",
              "</tbody>\n",
              "</table>\n"
            ],
            "text/markdown": "\nA matrix: 2 × 2 of type dbl\n\n| <!--/--> | 2.5 % | 97.5 % |\n|---|---|---|\n| (Intercept) | 36037.81715 | 116961.5395 |\n| SQUAREFEET |    80.87241 |    116.7439 |\n\n",
            "text/latex": "A matrix: 2 × 2 of type dbl\n\\begin{tabular}{r|ll}\n  & 2.5 \\% & 97.5 \\%\\\\\n\\hline\n\t(Intercept) & 36037.81715 & 116961.5395\\\\\n\tSQUAREFEET &    80.87241 &    116.7439\\\\\n\\end{tabular}\n",
            "text/plain": [
              "            2.5 %       97.5 %     \n",
              "(Intercept) 36037.81715 116961.5395\n",
              "SQUAREFEET     80.87241    116.7439"
            ]
          },
          "metadata": {}
        }
      ]
    },
    {
      "cell_type": "markdown",
      "source": [
        "\n",
        "\n",
        "---\n",
        "\n",
        "\n",
        "\n",
        "---\n",
        "\n"
      ],
      "metadata": {
        "id": "uqiSVWUNc9ay"
      }
    },
    {
      "cell_type": "markdown",
      "source": [
        "## Joint Confidence Regions"
      ],
      "metadata": {
        "id": "u6eliFMCc_oc"
      }
    },
    {
      "cell_type": "markdown",
      "source": [],
      "metadata": {
        "id": "qn2NCy5Elsbq"
      }
    },
    {
      "cell_type": "markdown",
      "source": [
        "Recall, the estimated parameters in vector form.\n",
        "\n",
        "$$ \\left[\n",
        "\\begin{array}{cc}\n",
        "\\hat{\\beta}_{0} \\\\\n",
        "\\hat{\\beta}_{1} \\\\\n",
        "\\end{array}\n",
        "\\right]\n",
        "$$\n",
        "\n",
        "The mean of this vector is \n",
        "$$ E( \\left[\n",
        "\\begin{array}{cc}\n",
        "\\hat{\\beta}_{0} \\\\\n",
        "\\hat{\\beta}_{1} \\\\\n",
        "\\end{array}\n",
        "\\right] ) = \\left[\n",
        "\\begin{array}{cc}\n",
        "{\\beta}_{0} \\\\\n",
        "{\\beta}_{1} \\\\\n",
        "\\end{array}\n",
        "\\right]\n",
        "$$\n",
        "\n",
        "The variance/covariance of this vector is \n",
        "$$ VAR( \\left[\n",
        "\\begin{array}{cc}\n",
        "\\hat{\\beta}_{0} \\\\\n",
        "\\hat{\\beta}_{1} \\\\\n",
        "\\end{array}\n",
        "\\right] ) = \\sigma^{2} \\left( \\frac{1}{n\\sum{x_{i}^{2}} - (\\sum{x_{i}})^2}\\right) \\left[\n",
        "\\begin{array}{cc}\n",
        "\\sum{x_{i}^{2}}& - \\sum{x_i}  \\\\\n",
        "- \\sum{x_i} & n \\\\\n",
        "\\end{array}\n",
        "\\right]\n",
        "$$\n"
      ],
      "metadata": {
        "id": "T0ldmrPJdSUu"
      }
    },
    {
      "cell_type": "code",
      "source": [
        "#Getting a \n",
        "Marginal_CIs <- data.frame(Slope=c(80.87, 80.87, 116.74, 116.74),Yintercept=c(36038, 116962, 116962, 36038))\n",
        "\n",
        "#Graphing the ellipsoid \n",
        "ggplot(Marginal_CIs, aes(x=Slope,y=Yintercept)) +\n",
        "  geom_polygon(\n",
        "                alpha=1/5,\n",
        "                fill=\"gray\"\n",
        "              ) + \n",
        "  xlim(75,125) +\n",
        "  ylim(20000,135000) + \n",
        "  ggtitle(\"Plot of 95% Confidence Intervals\") + \n",
        "  theme_bw()\n"
      ],
      "metadata": {
        "colab": {
          "base_uri": "https://localhost:8080/",
          "height": 437
        },
        "id": "CsdZTrXpdSh4",
        "outputId": "e2395157-79d7-4e64-9883-904b9cb198da"
      },
      "execution_count": 59,
      "outputs": [
        {
          "output_type": "display_data",
          "data": {
            "text/plain": [
              "plot without title"
            ],
            "image/png": "[encoded data removed]"
          },
          "metadata": {
            "image/png": {
              "width": 420,
              "height": 420
            }
          }
        }
      ]
    },
    {
      "cell_type": "markdown",
      "source": [],
      "metadata": {
        "id": "dIi1ODocblQ8"
      }
    },
    {
      "cell_type": "code",
      "source": [
        "#download the ellipse package\n",
        "install.packages(\"ellipse\")"
      ],
      "metadata": {
        "id": "LDJD_b3vblY4",
        "colab": {
          "base_uri": "https://localhost:8080/"
        },
        "outputId": "bc2c7219-18ba-4077-d335-10c447909bcc"
      },
      "execution_count": 33,
      "outputs": [
        {
          "output_type": "stream",
          "name": "stderr",
          "text": [
            "Installing package into ‘/usr/local/lib/R/site-library’\n",
            "(as ‘lib’ is unspecified)\n",
            "\n"
          ]
        }
      ]
    },
    {
      "cell_type": "code",
      "source": [
        "#install the ellipse package in this COLAB session\n",
        "library(ellipse)"
      ],
      "metadata": {
        "colab": {
          "base_uri": "https://localhost:8080/"
        },
        "id": "F7NXcHIbgxIs",
        "outputId": "78eaa042-30c4-4086-9e41-0a18da5713e9"
      },
      "execution_count": 34,
      "outputs": [
        {
          "output_type": "stream",
          "name": "stderr",
          "text": [
            "\n",
            "Attaching package: ‘ellipse’\n",
            "\n",
            "\n",
            "The following object is masked from ‘package:graphics’:\n",
            "\n",
            "    pairs\n",
            "\n",
            "\n"
          ]
        }
      ]
    },
    {
      "cell_type": "markdown",
      "source": [],
      "metadata": {
        "id": "2nvA6Cmyglua"
      }
    },
    {
      "cell_type": "code",
      "source": [
        "#Getting a maringal CIS\n",
        "Marginal_CIs <- data.frame(Slope=c(80.87, 80.87, 116.74, 116.74),Yintercept=c(36038, 116962, 116962, 36038))\n",
        "\n",
        "#Getting the 95% Joint CI\n",
        "Joint_CIs <-as.data.frame(ellipse(LModel_Price_Sqft))\n",
        "\n",
        "#Graphing the ellipsoid \n",
        "ggplot(Marginal_CIs, mapping=aes(x=Slope,y=Yintercept)) +\n",
        "  geom_polygon( \n",
        "                alpha=1/5,\n",
        "                fill=\"gray\"\n",
        "              ) + \n",
        "  #Adding 95% Joint CI\n",
        "  geom_polygon(Joint_CIs, \n",
        "                mapping=aes(x=SQUAREFEET, y=`(Intercept)`), \n",
        "                fill=\"darkgreen\"\n",
        "              ) + \n",
        "  xlim(75,125) +\n",
        "  ylim(20000,135000) + \n",
        "  ggtitle(\"Plot of 95% Confidence Intervals\") + \n",
        "  theme_bw()\n"
      ],
      "metadata": {
        "colab": {
          "base_uri": "https://localhost:8080/",
          "height": 437
        },
        "id": "gpitR7C4gl62",
        "outputId": "40523e17-7de3-49ec-f339-8e5eff8a38c2"
      },
      "execution_count": 58,
      "outputs": [
        {
          "output_type": "display_data",
          "data": {
            "text/plain": [
              "plot without title"
            ],
            "image/png": "[encoded data removed]"
          },
          "metadata": {
            "image/png": {
              "width": 420,
              "height": 420
            }
          }
        }
      ]
    },
    {
      "cell_type": "markdown",
      "source": [],
      "metadata": {
        "id": "GHafjXnTk16V"
      }
    },
    {
      "cell_type": "markdown",
      "metadata": {
        "id": "9kkg1lL30Rfw"
      },
      "source": [
        "\n",
        "---\n",
        "\n",
        "\n",
        "\n",
        "---\n",
        "End of Document\n",
        "\n"
      ]
    }
  ]
}