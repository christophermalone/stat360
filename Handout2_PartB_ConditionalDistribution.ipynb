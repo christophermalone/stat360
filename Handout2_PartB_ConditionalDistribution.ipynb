{
  "nbformat": 4,
  "nbformat_minor": 0,
  "metadata": {
    "colab": {
      "provenance": [],
      "collapsed_sections": [],
      "authorship_tag": "ABX9TyOfPtdPuC8NbjiZvqOqjBTh",
      "include_colab_link": true
    },
    "kernelspec": {
      "name": "ir",
      "display_name": "R"
    }
  },
  "cells": [
    {
      "cell_type": "markdown",
      "metadata": {
        "id": "view-in-github",
        "colab_type": "text"
      },
      "source": [
        "<a href=\"https://colab.research.google.com/github/christophermalone/stat360/blob/main/Handout2_PartB_ConditionalDistribution.ipynb\" target=\"_parent\"><img src=\"https://colab.research.google.com/assets/colab-badge.svg\" alt=\"Open In Colab\"/></a>"
      ]
    },
    {
      "cell_type": "markdown",
      "metadata": {
        "id": "KhClO9b02SXA"
      },
      "source": [
        "# Handout #2 Part B: Variation in Conditional Distribution\n"
      ]
    },
    {
      "cell_type": "markdown",
      "metadata": {
        "id": "AXDYLbzK2o7e"
      },
      "source": [
        "<table width='100%' ><tr><td bgcolor='green'></td></tr></table>\n",
        "\n",
        "## Example 2.1 (Con't)\n",
        "\n",
        "Consider the following data that has been collected from students in my introductory statistics course over several past semesters.  \n",
        "\n",
        "<table>\n",
        "  <tr>\n",
        "    <td width='30%' valign='top'>\n",
        "      <ul>\n",
        "        <li><strong>Response Variable</strong>: Hair Length (mm)</li><br>\n",
        "        <li>Variables under investigation (i.e. independent variables)</li>\n",
        "        <ul>\n",
        "          <li>Gender</li>\n",
        "          <li>Height (inches)</li>\n",
        "         </ul>\n",
        "    </ul>\n",
        "    </td>\n",
        "    <td width='70%'>\n",
        "<p align='center'><img src=\"https://drive.google.com/uc?export=view&id=1h4lXsxXMRHVRtdg48vdbMbGahWfGz_oS\" width='50%' height='50%'></img></p>\n",
        "<p align='center'><img src=\"https://drive.google.com/uc?export=view&id=1W1F3yLFTI-AOUOg10Gnl7zsetSX-6lXz\" width='50%' height='50%'></img></p>\n",
        "  </td>\n",
        "</tr>\n",
        "</table>\n",
        "\n",
        "Data Folder: [OneDrive](https://mnscu-my.sharepoint.com/:f:/g/personal/aq7839yd_minnstate_edu/EmOQfrwxzzRBqq8PH_8qTmMBy-1qKgM11Hb8vzjs025EEA?e=wyShYs)\n",
        "\n",
        "\n",
        "\n",
        "<table width='100%' ><tr><td bgcolor='green'></td></tr></table>\n",
        "\n"
      ]
    },
    {
      "cell_type": "markdown",
      "source": [
        "## Concept of Conditioning\n",
        "\n",
        "As stated previously, there are several variables that may influence a person’s hair length.  For example, gender is likely to help explain some of the variation in hair lengths – i.e. women tend to have longer hair then men.  If you take the gender into consideration when analyzing hair length, then it is said that the conditional distribution of hair length given gender is being considered.\n"
      ],
      "metadata": {
        "id": "EFTLHaJ61rRx"
      }
    },
    {
      "cell_type": "markdown",
      "source": [
        ">  **Conditional Distribution** – the distribution of the response variable conditioning on (i.e. taking into consideration) one or more other variables\n"
      ],
      "metadata": {
        "id": "yZOaWGhU2A2C"
      }
    },
    {
      "cell_type": "markdown",
      "source": [
        "Visually, the conditional distribution simply means that the distribution of the response will be considered for each gender, separately. "
      ],
      "metadata": {
        "id": "QB1r7ICU2dsm"
      }
    },
    {
      "cell_type": "markdown",
      "source": [
        "<table border=\"1\" align=\"center\">\n",
        "  <tr>\n",
        "    <td align=\"center\" valign=\"top\" width=\"50%\"><strong>Marginal Distribution</strong></td>\n",
        "    <td align=\"center\" valign=\"top\" width=\"50%\"><strong>Conditional Distribution given Gender</strong></td>\n",
        "  </tr>\n",
        "  <tr>\n",
        "    <td align=\"center\" valign=\"top\"><img src=\"https://drive.google.com/uc?export=view&id=1VFXNKnm-_M7sz4PQomTxePhiqA7ZAUKn\"></img>\n",
        "    </td>\n",
        "    <td align=\"center\" valign=\"top\"><img src=\"https://drive.google.com/uc?export=view&id=1zkQ95xD6sXxe0dWPI-o3IafQIVVbv51x\"></img>\n",
        "    </td>\n",
        "  </tr>\n",
        "</table>\n"
      ],
      "metadata": {
        "id": "LvObafrp5HFK"
      }
    },
    {
      "cell_type": "markdown",
      "source": [
        "The following graph communicates the difference between the marginal distribution and the two conditional distributions."
      ],
      "metadata": {
        "id": "zYqxIiI56ok-"
      }
    },
    {
      "cell_type": "markdown",
      "source": [
        "<p align=\"center\"><img src=\"https://drive.google.com/uc?export=view&id=1Ht8FKSfzQy3NykINpjtVtGcp0--HPcA1\"></img></p>"
      ],
      "metadata": {
        "id": "K7-cT6dC6plX"
      }
    },
    {
      "cell_type": "markdown",
      "metadata": {
        "id": "njXGRUIC9Lgs"
      },
      "source": [
        "### Getting Summaries for each Distribution"
      ]
    },
    {
      "cell_type": "markdown",
      "metadata": {
        "id": "FoT1NFX3DncH"
      },
      "source": [
        "First, getting the tidyverse package loaded into this COLAB session."
      ]
    },
    {
      "cell_type": "code",
      "metadata": {
        "id": "LgaibuX_DtWK",
        "colab": {
          "base_uri": "https://localhost:8080/"
        },
        "outputId": "893ab68f-6757-410a-d20d-32856194e402"
      },
      "source": [
        "#load tidyverse package\n",
        "library(tidyverse)"
      ],
      "execution_count": null,
      "outputs": [
        {
          "output_type": "stream",
          "name": "stderr",
          "text": [
            "Warning message in system(\"timedatectl\", intern = TRUE):\n",
            "“running command 'timedatectl' had status 1”\n",
            "── \u001b[1mAttaching packages\u001b[22m ─────────────────────────────────────── tidyverse 1.3.1 ──\n",
            "\n",
            "\u001b[32m✔\u001b[39m \u001b[34mggplot2\u001b[39m 3.3.6     \u001b[32m✔\u001b[39m \u001b[34mpurrr  \u001b[39m 0.3.4\n",
            "\u001b[32m✔\u001b[39m \u001b[34mtibble \u001b[39m 3.1.7     \u001b[32m✔\u001b[39m \u001b[34mdplyr  \u001b[39m 1.0.9\n",
            "\u001b[32m✔\u001b[39m \u001b[34mtidyr  \u001b[39m 1.2.0     \u001b[32m✔\u001b[39m \u001b[34mstringr\u001b[39m 1.4.1\n",
            "\u001b[32m✔\u001b[39m \u001b[34mreadr  \u001b[39m 2.1.2     \u001b[32m✔\u001b[39m \u001b[34mforcats\u001b[39m 0.5.2\n",
            "\n",
            "── \u001b[1mConflicts\u001b[22m ────────────────────────────────────────── tidyverse_conflicts() ──\n",
            "\u001b[31m✖\u001b[39m \u001b[34mdplyr\u001b[39m::\u001b[32mfilter()\u001b[39m masks \u001b[34mstats\u001b[39m::filter()\n",
            "\u001b[31m✖\u001b[39m \u001b[34mdplyr\u001b[39m::\u001b[32mlag()\u001b[39m    masks \u001b[34mstats\u001b[39m::lag()\n",
            "\n"
          ]
        }
      ]
    },
    {
      "cell_type": "markdown",
      "metadata": {
        "id": "DPqIPen9D5T3"
      },
      "source": [
        "Reading in the data using read_csv() via tidyverse. "
      ]
    },
    {
      "cell_type": "code",
      "metadata": {
        "id": "e07lUbQ1F1cV",
        "colab": {
          "base_uri": "https://localhost:8080/"
        },
        "outputId": "049f85fe-17fc-4f99-a4b8-18b92aec0dd5"
      },
      "source": [
        "# Reading data in using read.csv via Base \n",
        "HairLength <- read_csv(\"http://www.StatsClass.org/stat360/Datasets/HairLength.csv\")"
      ],
      "execution_count": null,
      "outputs": [
        {
          "output_type": "stream",
          "name": "stderr",
          "text": [
            "\u001b[1mRows: \u001b[22m\u001b[34m131\u001b[39m \u001b[1mColumns: \u001b[22m\u001b[34m5\u001b[39m\n",
            "\u001b[36m──\u001b[39m \u001b[1mColumn specification\u001b[22m \u001b[36m────────────────────────────────────────────────────────\u001b[39m\n",
            "\u001b[1mDelimiter:\u001b[22m \",\"\n",
            "\u001b[31mchr\u001b[39m (2): Gender, Name\n",
            "\u001b[32mdbl\u001b[39m (3): RowID, Height, Length\n",
            "\n",
            "\u001b[36mℹ\u001b[39m Use `spec()` to retrieve the full column specification for this data.\n",
            "\u001b[36mℹ\u001b[39m Specify the column types or set `show_col_types = FALSE` to quiet this message.\n"
          ]
        }
      ]
    },
    {
      "cell_type": "markdown",
      "metadata": {
        "id": "irbG4lJbENzv"
      },
      "source": [
        "Taking a look at the first few lines in this data.frame."
      ]
    },
    {
      "cell_type": "code",
      "metadata": {
        "id": "HYKWH2i0EN6s",
        "colab": {
          "base_uri": "https://localhost:8080/",
          "height": 286
        },
        "outputId": "9cc06135-f1f0-4668-9534-b31412005a24"
      },
      "source": [
        "# View the first few rows of data\n",
        "head(HairLength)"
      ],
      "execution_count": null,
      "outputs": [
        {
          "output_type": "display_data",
          "data": {
            "text/html": [
              "<table class=\"dataframe\">\n",
              "<caption>A tibble: 6 × 5</caption>\n",
              "<thead>\n",
              "\t<tr><th scope=col>RowID</th><th scope=col>Gender</th><th scope=col>Name</th><th scope=col>Height</th><th scope=col>Length</th></tr>\n",
              "\t<tr><th scope=col>&lt;dbl&gt;</th><th scope=col>&lt;chr&gt;</th><th scope=col>&lt;chr&gt;</th><th scope=col>&lt;dbl&gt;</th><th scope=col>&lt;dbl&gt;</th></tr>\n",
              "</thead>\n",
              "<tbody>\n",
              "\t<tr><td>1</td><td>F</td><td>Kelsie</td><td>66</td><td>359</td></tr>\n",
              "\t<tr><td>2</td><td>M</td><td>Eric  </td><td>73</td><td> 50</td></tr>\n",
              "\t<tr><td>3</td><td>F</td><td>Susan </td><td>66</td><td>295</td></tr>\n",
              "\t<tr><td>4</td><td>F</td><td>Alesha</td><td>72</td><td>320</td></tr>\n",
              "\t<tr><td>5</td><td>F</td><td>Alexa </td><td>70</td><td>470</td></tr>\n",
              "\t<tr><td>6</td><td>F</td><td>Jackie</td><td>62</td><td>180</td></tr>\n",
              "</tbody>\n",
              "</table>\n"
            ],
            "text/markdown": "\nA tibble: 6 × 5\n\n| RowID &lt;dbl&gt; | Gender &lt;chr&gt; | Name &lt;chr&gt; | Height &lt;dbl&gt; | Length &lt;dbl&gt; |\n|---|---|---|---|---|\n| 1 | F | Kelsie | 66 | 359 |\n| 2 | M | Eric   | 73 |  50 |\n| 3 | F | Susan  | 66 | 295 |\n| 4 | F | Alesha | 72 | 320 |\n| 5 | F | Alexa  | 70 | 470 |\n| 6 | F | Jackie | 62 | 180 |\n\n",
            "text/latex": "A tibble: 6 × 5\n\\begin{tabular}{lllll}\n RowID & Gender & Name & Height & Length\\\\\n <dbl> & <chr> & <chr> & <dbl> & <dbl>\\\\\n\\hline\n\t 1 & F & Kelsie & 66 & 359\\\\\n\t 2 & M & Eric   & 73 &  50\\\\\n\t 3 & F & Susan  & 66 & 295\\\\\n\t 4 & F & Alesha & 72 & 320\\\\\n\t 5 & F & Alexa  & 70 & 470\\\\\n\t 6 & F & Jackie & 62 & 180\\\\\n\\end{tabular}\n",
            "text/plain": [
              "  RowID Gender Name   Height Length\n",
              "1 1     F      Kelsie 66     359   \n",
              "2 2     M      Eric   73      50   \n",
              "3 3     F      Susan  66     295   \n",
              "4 4     F      Alesha 72     320   \n",
              "5 5     F      Alexa  70     470   \n",
              "6 6     F      Jackie 62     180   "
            ]
          },
          "metadata": {}
        }
      ]
    },
    {
      "cell_type": "markdown",
      "source": [
        "**Marginal Distribution:  Total Unexplained Variation**\n",
        "\n",
        ">  The total amount of unexplained variation in the marginal distribution is commonly referred to as the Total Sum of Squared Error. "
      ],
      "metadata": {
        "id": "IyWVc_ZmILPw"
      }
    },
    {
      "cell_type": "markdown",
      "source": [
        "$$\\begin{array}{rcl}\n",
        "\\mbox{Sum of Squared Error} & = & \\sum{(Data \\space Point - Mean)^2} \\\\\n",
        " & = & \\sum{(Residuals)^2}\n",
        "\\end{array}\n",
        "$$"
      ],
      "metadata": {
        "id": "-z9ptYDJ9NEC"
      }
    },
    {
      "cell_type": "markdown",
      "source": [
        "The following code computes the Sum of Squared Error (SSE) in the marginal distribution."
      ],
      "metadata": {
        "id": "iD3TBSdd962m"
      }
    },
    {
      "cell_type": "code",
      "source": [
        "#Getting sum of squared error in marginal distribution\n",
        "(HairLength \n",
        "  %>% summarize(\n",
        "                  Mean = mean(Length),\n",
        "                  Variance = var(Length),\n",
        "                  Count = n(),\n",
        "                  SSE_MarginalDistribution = (Count-1)*Variance\n",
        "               )\n",
        ")"
      ],
      "metadata": {
        "colab": {
          "base_uri": "https://localhost:8080/",
          "height": 129
        },
        "id": "Z-LmmipL8MtU",
        "outputId": "bab48414-33f0-43b9-cbec-4db17bdf309d"
      },
      "execution_count": null,
      "outputs": [
        {
          "output_type": "display_data",
          "data": {
            "text/html": [
              "<table class=\"dataframe\">\n",
              "<caption>A tibble: 1 × 4</caption>\n",
              "<thead>\n",
              "\t<tr><th scope=col>Mean</th><th scope=col>Variance</th><th scope=col>Count</th><th scope=col>SSE_MarginalDistribution</th></tr>\n",
              "\t<tr><th scope=col>&lt;dbl&gt;</th><th scope=col>&lt;dbl&gt;</th><th scope=col>&lt;int&gt;</th><th scope=col>&lt;dbl&gt;</th></tr>\n",
              "</thead>\n",
              "<tbody>\n",
              "\t<tr><td>237.2595</td><td>29515.19</td><td>131</td><td>3836975</td></tr>\n",
              "</tbody>\n",
              "</table>\n"
            ],
            "text/markdown": "\nA tibble: 1 × 4\n\n| Mean &lt;dbl&gt; | Variance &lt;dbl&gt; | Count &lt;int&gt; | SSE_MarginalDistribution &lt;dbl&gt; |\n|---|---|---|---|\n| 237.2595 | 29515.19 | 131 | 3836975 |\n\n",
            "text/latex": "A tibble: 1 × 4\n\\begin{tabular}{llll}\n Mean & Variance & Count & SSE\\_MarginalDistribution\\\\\n <dbl> & <dbl> & <int> & <dbl>\\\\\n\\hline\n\t 237.2595 & 29515.19 & 131 & 3836975\\\\\n\\end{tabular}\n",
            "text/plain": [
              "  Mean     Variance Count SSE_MarginalDistribution\n",
              "1 237.2595 29515.19 131   3836975                 "
            ]
          },
          "metadata": {}
        }
      ]
    },
    {
      "cell_type": "markdown",
      "source": [
        "**Conditional Distribution:  Total Unexplained Variation**\n",
        "\n",
        ">  The total amount of unexplained variation in the conditional distribution is similar to that of the marginal distibution, with the exception that the mean is computed within each group."
      ],
      "metadata": {
        "id": "G1D54cgm-sET"
      }
    },
    {
      "cell_type": "code",
      "source": [
        "#Getting sum of squared error in conditional distribution\n",
        "(HairLength\n",
        "  %>% group_by(Gender) \n",
        "  %>% summarize(\n",
        "                  Mean = mean(Length),\n",
        "                  Variance = var(Length),\n",
        "                  Count = n(),\n",
        "                  SSE = (Count-1)*Variance\n",
        "               )\n",
        ") -> GenderSummaries\n",
        "\n",
        "GenderSummaries\n",
        "\n",
        "cat(\"\\n\\n\")\n",
        "(GenderSummaries\n",
        "  %>% summarize(\n",
        "                SSE_ConditionalDistribution = sum(SSE)\n",
        "  )\n",
        ")"
      ],
      "metadata": {
        "colab": {
          "base_uri": "https://localhost:8080/",
          "height": 310
        },
        "id": "XxQ0Tb4Q_cPp",
        "outputId": "ba43e872-449b-4f58-e36b-79519d85441e"
      },
      "execution_count": null,
      "outputs": [
        {
          "output_type": "display_data",
          "data": {
            "text/html": [
              "<table class=\"dataframe\">\n",
              "<caption>A tibble: 2 × 5</caption>\n",
              "<thead>\n",
              "\t<tr><th scope=col>Gender</th><th scope=col>Mean</th><th scope=col>Variance</th><th scope=col>Count</th><th scope=col>SSE</th></tr>\n",
              "\t<tr><th scope=col>&lt;chr&gt;</th><th scope=col>&lt;dbl&gt;</th><th scope=col>&lt;dbl&gt;</th><th scope=col>&lt;int&gt;</th><th scope=col>&lt;dbl&gt;</th></tr>\n",
              "</thead>\n",
              "<tbody>\n",
              "\t<tr><td>F</td><td>346.74390</td><td>14171.181</td><td>82</td><td>1147865.62</td></tr>\n",
              "\t<tr><td>M</td><td> 54.04082</td><td> 1277.165</td><td>49</td><td>  61303.92</td></tr>\n",
              "</tbody>\n",
              "</table>\n"
            ],
            "text/markdown": "\nA tibble: 2 × 5\n\n| Gender &lt;chr&gt; | Mean &lt;dbl&gt; | Variance &lt;dbl&gt; | Count &lt;int&gt; | SSE &lt;dbl&gt; |\n|---|---|---|---|---|\n| F | 346.74390 | 14171.181 | 82 | 1147865.62 |\n| M |  54.04082 |  1277.165 | 49 |   61303.92 |\n\n",
            "text/latex": "A tibble: 2 × 5\n\\begin{tabular}{lllll}\n Gender & Mean & Variance & Count & SSE\\\\\n <chr> & <dbl> & <dbl> & <int> & <dbl>\\\\\n\\hline\n\t F & 346.74390 & 14171.181 & 82 & 1147865.62\\\\\n\t M &  54.04082 &  1277.165 & 49 &   61303.92\\\\\n\\end{tabular}\n",
            "text/plain": [
              "  Gender Mean      Variance  Count SSE       \n",
              "1 F      346.74390 14171.181 82    1147865.62\n",
              "2 M       54.04082  1277.165 49      61303.92"
            ]
          },
          "metadata": {}
        },
        {
          "output_type": "stream",
          "name": "stdout",
          "text": [
            "\n",
            "\n"
          ]
        },
        {
          "output_type": "display_data",
          "data": {
            "text/html": [
              "<table class=\"dataframe\">\n",
              "<caption>A tibble: 1 × 1</caption>\n",
              "<thead>\n",
              "\t<tr><th scope=col>SSE_ConditionalDistribution</th></tr>\n",
              "\t<tr><th scope=col>&lt;dbl&gt;</th></tr>\n",
              "</thead>\n",
              "<tbody>\n",
              "\t<tr><td>1209170</td></tr>\n",
              "</tbody>\n",
              "</table>\n"
            ],
            "text/markdown": "\nA tibble: 1 × 1\n\n| SSE_ConditionalDistribution &lt;dbl&gt; |\n|---|\n| 1209170 |\n\n",
            "text/latex": "A tibble: 1 × 1\n\\begin{tabular}{l}\n SSE\\_ConditionalDistribution\\\\\n <dbl>\\\\\n\\hline\n\t 1209170\\\\\n\\end{tabular}\n",
            "text/plain": [
              "  SSE_ConditionalDistribution\n",
              "1 1209170                    "
            ]
          },
          "metadata": {}
        }
      ]
    },
    {
      "cell_type": "markdown",
      "source": [
        "From a modeling perspective, a significant advantage of considering the conditional distribution is the possible **reduction** in the unexplained variation.  Consider the substantial reduction in these quantities for the data considered here."
      ],
      "metadata": {
        "id": "UL9miAioAg1J"
      }
    },
    {
      "cell_type": "markdown",
      "source": [
        "<p align=\"center\"><img src=\"https://drive.google.com/uc?export=view&id=1PuvRdDxuwoAF9zAHSowopjC2dm74ahLO\"></img></p>"
      ],
      "metadata": {
        "id": "kh_3RqMsAoUo"
      }
    },
    {
      "cell_type": "markdown",
      "source": [
        "Identify the following quantites:\n",
        "\n",
        ">  **Marginal Distribution**\n",
        "\n",
        "*   $\\hat{E}(Hair \\space Length) = $\n",
        "*   $\\widehat{Var}(Hair \\space Length) = $\n",
        "*   $n=$\n",
        "*   $SSE_{Marginal} = $\n",
        "\n",
        "\n"
      ],
      "metadata": {
        "id": "nIc0UTUtBfYJ"
      }
    },
    {
      "cell_type": "markdown",
      "source": [
        ">  **Conditional Distribution**\n",
        "\n",
        "*   $\\hat{E}(Hair \\space Length | Gender = F) = $\n",
        "*   $\\widehat{Var}(Hair \\space Length | Gender = F) = $\n",
        "*   $n_{F}=$\n",
        "*   $SSE_{F} = $\n",
        "\n",
        "<br>\n",
        "\n",
        "*   $\\hat{E}(Hair \\space Length | Gender = M) = $\n",
        "*   $\\widehat{Var}(Hair \\space Length | Gender = M) = $\n",
        "*   $n_{M}=$\n",
        "*   $SSE_{M} = $"
      ],
      "metadata": {
        "id": "UJdTrUZ8C2RN"
      }
    },
    {
      "cell_type": "markdown",
      "source": [
        "<br>\n",
        "\n",
        "*   $SSE_{Conditional} = $"
      ],
      "metadata": {
        "id": "lDKFZIZbDrp8"
      }
    },
    {
      "cell_type": "markdown",
      "source": [
        "<table width='100%'><tr><td bgcolor=\"purple\"><font color=\"white\" size=\"+2\">Task</font></td></tr></table>"
      ],
      "metadata": {
        "id": "mcRoNlDxRv2P"
      }
    },
    {
      "cell_type": "markdown",
      "source": [
        "## Task:  Questions"
      ],
      "metadata": {
        "id": "BRnls6H4Rw0m"
      }
    },
    {
      "cell_type": "markdown",
      "source": [
        "\n",
        "\n",
        "1.   What does it mean if the residual value is positive?  Negative?\n",
        "\n",
        "2.   What does it mean if the residual is small (i.e. close to zero)?\n",
        "\n",
        "3.   Suppose the residual value for the particular data point is positive.  Is the mean an *over-estimate* or an *under-estimate* for this particular data value?  Explain.\n",
        "\n"
      ],
      "metadata": {
        "id": "wDu_-y5zRxEW"
      }
    },
    {
      "cell_type": "markdown",
      "source": [
        "<table width='100%'><tr><td bgcolor=\"purple\"><font size=\"+2\">&nbsp;</font></td></tr></table>"
      ],
      "metadata": {
        "id": "P1X6PhcYRxRG"
      }
    },
    {
      "cell_type": "markdown",
      "source": [
        "\n",
        "\n",
        "---\n",
        "\n",
        "\n",
        "\n",
        "---\n"
      ],
      "metadata": {
        "id": "NIy7TNbD0cbl"
      }
    },
    {
      "cell_type": "code",
      "source": [
        "#@title Custom Function for Plotting Residuals in Marginal/Conditional Distributions\n",
        "# See bottom of cell for use cases\n",
        "RSS <- function(myformula=y~x, mydata=data, PlotMeans=TRUE,PlotResids=TRUE, cutpoints=c(NA)){\n",
        "  \n",
        "  formula_vec <- all.vars(myformula)\n",
        "  ydata<-mydata[ , which(colnames(mydata)==formula_vec[1])]\n",
        "  x<-mydata[ , which(colnames(mydata)==formula_vec[2])]\n",
        " \n",
        "  if(is.factor(x)==TRUE){\n",
        "    numlevels <- length(levels(x))\n",
        " \n",
        "    xdata<-as.numeric(x)\n",
        "    xjitter <- xdata + runif(length(xdata),min=-0.20,max=0.20)\n",
        "  \n",
        "    #Setting up parameters for axis limits\n",
        "    xmin <- c(-1)\n",
        "    xmax <- c(numlevels+1)\n",
        "    ymin <- min(ydata)-(0.10*(max(ydata)-min(ydata)))\n",
        "    ymax <- max(ydata)+(0.05*(max(ydata)-min(ydata)))\n",
        "  \n",
        "    plot(xjitter, ydata ,xlim=c(xmin,xmax),ylim=c(ymin,ymax),axes=F,xlab=formula_vec[2], ylab=formula_vec[1],type=\"n\")\n",
        "    points(xjitter, ydata)\n",
        "    axis(1,at=c(-1,seq(from=1,to=max(xdata),by=1),xmax),labels=c(\"\",levels(x),\"\"))\n",
        "\n",
        "    axis(2)\n",
        "    xjitter_marginal <- -0.50+runif(length(ydata),min=-0.20,max=0.20)\n",
        "    points(xjitter_marginal, ydata)\n",
        "    abline(v=0,lwd=2)\n",
        "  \n",
        "    # Plotting of marginal distribution #####################\n",
        "    #\n",
        "    #Obtain grand mean\n",
        "    grand.mean=mean(ydata)\n",
        "  \n",
        "    if(PlotMeans == \"TRUE\"){\n",
        "      segments(-0.65,grand.mean,-0.35,grand.mean,lwd=2)\n",
        "    }\n",
        "    resid2 <- 0\n",
        "    if(PlotResids == \"TRUE\"){\n",
        "      for(i in 1:length(ydata)){\n",
        "        segments(xjitter_marginal[i],ydata[i],xjitter_marginal[i],grand.mean,lwd=1)\n",
        "        resid2 <- resid2 + (ydata[i]-grand.mean)^2\n",
        "      }\n",
        "      text(-0.50, ymin+(0.02*(max(ydata)-min(ydata))),paste(\"SSE:\",format(resid2,digits=3)),cex=0.75)\n",
        "    }\n",
        "    #######################################################\n",
        "  \n",
        "  \n",
        "    # Plotting the conditional distriubitons ##############\n",
        "    #\n",
        "  \n",
        "    #Obtain mean for each group\n",
        "    group.means<-c()\n",
        "    for(i in 1:numlevels){\n",
        "      group.means[i] <- mean(ydata[x == levels(x)[i]])\n",
        "    }\n",
        "  \n",
        "    if(PlotMeans == \"TRUE\"){\n",
        "      for(i in 1:numlevels){\n",
        "        segments(i-0.25,group.means[i],i+0.25,group.means[i],lwd=2)\n",
        "      }\n",
        "    }\n",
        "  \n",
        "    resid2 <- rep(0,length(levels(x)))\n",
        "    if(PlotResids == \"TRUE\"){\n",
        "      for(i in 1:length(ydata)){\n",
        "        segments(xjitter[i],ydata[i],xjitter[i],group.means[xdata[i]])\n",
        "        resid2[xdata[i]] <- resid2[xdata[i]] + (ydata[i] - group.means[xdata[i]])^2\n",
        "      }\n",
        "      for(i in 1:numlevels){\n",
        "        text(i, ymin+(0.02*(max(ydata)-min(ydata))),paste(\"SSE:\",format(resid2[i],digits=3)),cex=0.75)\n",
        "      }\n",
        "    }\n",
        "  ###################################################### \n",
        "  }\n",
        "  \n",
        "  \n",
        "  if(is.factor(x)==FALSE){\n",
        "    \n",
        "    xdata<-x\n",
        "    rangex <- max(x) - min(x)\n",
        "    \n",
        "    if(max(table(x))/length(x) > 0.10){\n",
        "      xdata <- x + runif(length(xdata),min=-0.01*rangex,max=0.01*rangex)\n",
        "      \n",
        "    }\n",
        "    \n",
        "    xmin<-min(x)-0.25*rangex\n",
        "    xmax<-max(x)+0.05*rangex\n",
        "    ymin <- min(ydata)-(0.10*(max(ydata)-min(ydata)))\n",
        "    ymax <- max(ydata)+(0.05*(max(ydata)-min(ydata)))\n",
        "    \n",
        "    plot(xdata, ydata ,xlim=c(xmin,xmax),ylim=c(ymin,ymax),axes=F,xlab=formula_vec[2], ylab=formula_vec[1],type=\"n\")\n",
        "    points(xdata, ydata)\n",
        "    axis(1) \n",
        "    #Hide axis below xmin, ymin\n",
        "    #rect(xmin,ymin-(0.20*(max(ydata)-min(ydata))),(min(x)-(0.05*rangex)),ymin, col=\"white\",border=2)\n",
        "    axis(2)\n",
        "    xjitter_marginal <- (min(x)-0.15*rangex)+runif(length(xdata),min=-0.05*rangex,max=0.05*rangex)\n",
        "    points(xjitter_marginal, ydata)\n",
        "    abline(v=(min(x)-(0.05*rangex)),lwd=2)\n",
        "  \n",
        "    # Plotting of marginal distribution #####################\n",
        "    #\n",
        "    #Obtain grand mean\n",
        "    grand.mean=mean(ydata)\n",
        "    \n",
        "    if(PlotMeans == \"TRUE\"){\n",
        "      segments((min(x)-0.20*rangex),grand.mean,(min(x)-0.10*rangex),grand.mean,lwd=2)\n",
        "    }\n",
        "    resid2 <- 0\n",
        "    if(PlotResids == \"TRUE\"){\n",
        "      for(i in 1:length(ydata)){\n",
        "        segments(xjitter_marginal[i],ydata[i],xjitter_marginal[i],grand.mean,lwd=1)\n",
        "        resid2 <- resid2 + (ydata[i]-grand.mean)^2\n",
        "      }\n",
        "      text((min(x)-0.15*rangex), ymin+(0.02*(max(ydata)-min(ydata))),paste(\"SSE:\",format(resid2,digits=3)),cex=0.75)\n",
        "    }\n",
        "    ########################################################\n",
        "    \n",
        "    \n",
        "    # Cutpoints provided, so build conditional distributions ##############\n",
        "    #\n",
        "    if(sum(is.na(cutpoints)) == 0){\n",
        "    \n",
        "      #Ensure incoming cutpoints are sorted\n",
        "      cutpoints <- sort(cutpoints)\n",
        "      abline(v=cutpoints,lty=2)\n",
        "      \n",
        "      group.means<-c()\n",
        "      for(i in 1:(1+length(cutpoints))){\n",
        "        if(i==1){\n",
        "          group.means[i]<-mean(ydata[xdata <= cutpoints[i]])\n",
        "        } else if(i == (1+length(cutpoints))){\n",
        "          group.means[i]<-mean(ydata[xdata > cutpoints[i-1]])\n",
        "        } else {\n",
        "          group.means[i]<- mean(ydata[xdata <= cutpoints[i] & xdata > cutpoints[i-1]])\n",
        "        }\n",
        "      }\n",
        "     \n",
        "    \n",
        "      if(PlotMeans == \"TRUE\"){\n",
        "        for(i in 1:(1+length(cutpoints))){\n",
        "          if(i==1){\n",
        "            segments(min(xdata),group.means[i],cutpoints[1],group.means[i],lwd=2)\n",
        "          } else if(i == (1+length(cutpoints))){\n",
        "            segments(cutpoints[i-1],group.means[i],max(xdata),group.means[i],lwd=2)\n",
        "          } else {\n",
        "            segments(cutpoints[i-1],group.means[i],cutpoints[i],group.means[i],lwd=2)\n",
        "          }\n",
        "        }\n",
        "      }\n",
        "      \n",
        "      \n",
        "      resid2 <- rep(0,(1+length(cutpoints)))\n",
        "      if(PlotResids == \"TRUE\"){\n",
        "        for(i in 1:length(ydata)){\n",
        "          if(xdata[i] <= cutpoints[1]){\n",
        "              segments(xdata[i],ydata[i],xdata[i],group.means[1])\n",
        "              resid2[1]<-resid2[1]+(ydata[i]-group.means[1])^2\n",
        "          } else if(xdata[i] > cutpoints[length(cutpoints)]){\n",
        "            segments(xdata[i],ydata[i],xdata[i],group.means[1+length(cutpoints)])\n",
        "            resid2[1+length(cutpoints)]<-resid2[1+length(cutpoints)]+(ydata[i]-group.means[1+length(cutpoints)])^2\n",
        "          } else {\n",
        "            \n",
        "            for(j in 2:length(cutpoints)){\n",
        "              if(xdata[i] > cutpoints[j-1] & xdata[i] <= cutpoints[j]){\n",
        "                segments(xdata[i],ydata[i],xdata[i],group.means[j])\n",
        "                resid2[j]<-resid2[j]+(ydata[i]-group.means[j])^2\n",
        "              }\n",
        "            }   \n",
        "            \n",
        "          }\n",
        "          \n",
        "        }\n",
        "        for(i in 1:(1+length(cutpoints))){\n",
        "          if(i == 1){\n",
        "              text(((min(xdata)+cutpoints[1])/2),ymin+(0.02*(max(ydata)-min(ydata))),paste(\"SSE:\",format(resid2[1],digits=3)),cex=0.75)\n",
        "          } else if(i == (1+length(cutpoints))){\n",
        "              text(((max(xdata)+cutpoints[length(cutpoints)])/2),ymin+(0.02*(max(ydata)-min(ydata))),paste(\"SSE:\",format(resid2[1+length(cutpoints)],digits=3)),cex=0.75)\n",
        "          } else {\n",
        "              text(((cutpoints[i-1]+cutpoints[i])/2),ymin+(0.02*(max(ydata)-min(ydata))),paste(\"SSE:\",format(resid2[j],digits=3)),cex=0.75)\n",
        "          }\n",
        "          \n",
        "        }\n",
        "      }\n",
        "    }\n",
        "    \n",
        "    if(sum(is.na(cutpoints)) > 0){\n",
        "    \n",
        "      fit<-lm(ydata~x)\n",
        "      if(PlotMeans == TRUE){\n",
        "        segments(min(x),(fit$coefficients[1]+fit$coefficients[2]*min(x)),max(x),(fit$coefficients[1]+fit$coefficients[2]*max(x)))\n",
        "      }\n",
        "      \n",
        "      if(PlotResids == TRUE){\n",
        "        for(i in 1:length(ydata)){\n",
        "          segments(xdata[i],ydata[i],xdata[i],(fit$coefficients[1]+fit$coefficients[2]*xdata[i]), lwd=2)\n",
        "        }\n",
        "          text(mean(x),ymin+(0.02*(max(ydata)-min(ydata))),paste(\"SSE:\",format(sum(fit$residuals^2),digits=3)),cex=0.75)\n",
        "      } \n",
        "    }\n",
        "    \n",
        "   \n",
        "  }\n",
        "\n",
        "}\n",
        "\n",
        "##################################################################################\n",
        "#Some example executions for Impact Crater dataset\n",
        "#RSS(Diameter~Height,mydata=impactcrater,PlotMeans=TRUE,PlotResids=TRUE,cutpoints=c(70))\n",
        "#RSS(Diameter~SandType,mydata=impactcrater,PlotMeans=TRUE,PlotResids=TRUE)\n",
        "#RSS(Diameter~ProjectileType,mydata=impactcrater,PlotMeans=TRUE,PlotResids=TRUE)\n",
        "#RSS(Diameter~Height,mydata=impactcrater,PlotMeans=TRUE,PlotResids=TRUE,cutpoints=c(70))\n",
        "#RSS(Diameter~Height,mydata=impactcrater,PlotMeans=TRUE,PlotResids=TRUE,cutpoints=c(130))\n",
        "#RSS(Diameter~Height,mydata=impactcrater,PlotMeans=TRUE,PlotResids=TRUE,cutpoints=c(70, 130))\n",
        "#RSS(Diameter~Height,mydata=impactcrater,PlotMeans=TRUE,PlotResids=TRUE)\n",
        "\n",
        "\n",
        "\n"
      ],
      "metadata": {
        "id": "q-iPzQwCUVS0",
        "cellView": "form"
      },
      "execution_count": null,
      "outputs": []
    },
    {
      "cell_type": "markdown",
      "source": [
        "Consider the following use of the custom RSS() function for plotting residuals."
      ],
      "metadata": {
        "id": "vtqdw-JB0xHs"
      }
    },
    {
      "cell_type": "code",
      "source": [
        "RSS(Length~Gender,mydata=HairLength, PlotMeans=TRUE, PlotResids=TRUE)"
      ],
      "metadata": {
        "colab": {
          "base_uri": "https://localhost:8080/",
          "height": 437
        },
        "id": "VeeZXJ-tUrby",
        "outputId": "0aab25ad-efbf-4496-8709-5d1df6ea181a"
      },
      "execution_count": null,
      "outputs": [
        {
          "output_type": "display_data",
          "data": {
            "text/plain": [
              "plot without title"
            ],
            "image/png": "[encoded data removed]"
          },
          "metadata": {
            "image/png": {
              "width": 420,
              "height": 420
            }
          }
        }
      ]
    },
    {
      "cell_type": "markdown",
      "source": [
        "\n",
        "\n",
        "---\n",
        "\n",
        "\n",
        "\n",
        "---\n",
        "End of Document\n"
      ],
      "metadata": {
        "id": "wQA1JKQ805FM"
      }
    },
    {
      "cell_type": "markdown",
      "metadata": {
        "id": "TQuyw4BZEZbc"
      },
      "source": [
        "## Proportion of Variation than can be Explained"
      ]
    },
    {
      "cell_type": "markdown",
      "metadata": {
        "id": "rOhr9xxDEdk9"
      },
      "source": [
        "The proportion of unexplained variation taken away by considering the conditional distributions is typically used as a measure of overall usefulness of the conditioning variable(s).  This proportion is commonly referred to as the **coefficient of determination** or **$R^{2}$**.\n"
      ]
    },
    {
      "cell_type": "markdown",
      "metadata": {
        "id": "Iq4-nM-IEzft"
      },
      "source": [
        "$$\n",
        "R^2 = \\frac{\\mbox{Total Unexplained in Marginal Distribution}-\\mbox{Total Unexplained in Conditional Distributions}}{\\mbox{Total Unexplained in Marginal Distribution}}\n",
        "$$"
      ]
    },
    {
      "cell_type": "markdown",
      "metadata": {
        "id": "8wk0zjryFKMm"
      },
      "source": [
        "The numerator of of $R^2$ is simply the amount of variation that *can* be explained by conditioning.  Thus, $R^2$ is often expressed as\n",
        "\n",
        "$$\n",
        "R^2 = \\frac{\\mbox{Variation that can be Explained by Conditioning}}{\\mbox{Total Unexplained in Marginal Distribution}}\n",
        "$$\n"
      ]
    },
    {
      "cell_type": "markdown",
      "metadata": {
        "id": "LftekPOCFut9"
      },
      "source": [
        "\n",
        "$$\n",
        "\\begin{array}{rcl}\n",
        "R^2 & = & \\frac{3836975-1209170}{3836975} \\\\\n",
        "    & = & \\frac{2627805}{3836975} \\\\\n",
        "    & = & 0.6849 \\\\\n",
        "\\end{array}\n",
        "$$\n",
        "\n",
        "<u>Interpretation</u>:  About 70\\% of the total variation in Hair Length can be explained by considering the Gender of the individual."
      ]
    },
    {
      "cell_type": "markdown",
      "metadata": {
        "id": "8ajbyQfVz4QR"
      },
      "source": [
        "<table width='100%'><tr><td bgcolor=\"orange\"><font size=\"+2\">Task</font></td></tr></table>"
      ]
    },
    {
      "cell_type": "markdown",
      "metadata": {
        "id": "DnFZhicCz6sF"
      },
      "source": [
        "### Questions"
      ]
    },
    {
      "cell_type": "markdown",
      "metadata": {
        "id": "xZhbIxdwz632"
      },
      "source": [
        "For this task, consider again the Impact Crater dataset.\n",
        "\n",
        "1.   What is the total amount of unexplained variation in Diameter?\n",
        "2.   What is the total amount of unexplained variation in Diameter when conditioning on SandType?\n",
        "3.   What is the total amount of unexplained variation in Diameter when conditioning on ProjectileType?\n",
        "4.   Compute the appropirate $R^2$ measure when conditioning on SandType.  Next, compute the appropirate $R^2$ measure when conditioning on ProjectileType.\n",
        "5. Based on the $R^2$ calculations, which variable (SandType or ProjectileType) does a better job of explaining the variation in Diameter?  Discuss.\n",
        "\n"
      ]
    },
    {
      "cell_type": "markdown",
      "metadata": {
        "id": "kQuA2HWWz7G-"
      },
      "source": [
        "<table width='100%'><tr><td bgcolor=\"orange\"><font size=\"+2\">&nbsp;</font></td></tr></table>"
      ]
    },
    {
      "cell_type": "markdown",
      "metadata": {
        "id": "9kkg1lL30Rfw"
      },
      "source": [
        "End of Document"
      ]
    }
  ]
}