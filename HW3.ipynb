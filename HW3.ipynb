{
  "nbformat": 4,
  "nbformat_minor": 0,
  "metadata": {
    "colab": {
      "name": "HW3.ipynb",
      "provenance": [],
      "collapsed_sections": [],
      "toc_visible": true,
      "authorship_tag": "ABX9TyPk1voCjZNZgr/oDrd243N6",
      "include_colab_link": true
    },
    "kernelspec": {
      "display_name": "R",
      "name": "ir"
    }
  },
  "cells": [
    {
      "cell_type": "markdown",
      "metadata": {
        "id": "view-in-github",
        "colab_type": "text"
      },
      "source": [
        "<a href=\"https://colab.research.google.com/github/christophermalone/stat360/blob/main/HW3.ipynb\" target=\"_parent\"><img src=\"https://colab.research.google.com/assets/colab-badge.svg\" alt=\"Open In Colab\"/></a>"
      ]
    },
    {
      "cell_type": "markdown",
      "metadata": {
        "id": "KhClO9b02SXA"
      },
      "source": [
        "# HW #3 : Predicting Price of Cars & Pickups\n"
      ]
    },
    {
      "cell_type": "markdown",
      "metadata": {
        "id": "AXDYLbzK2o7e"
      },
      "source": [
        "<table width='100%' ><tr><td bgcolor='green'></td></tr></table>\n",
        "\n",
        "## Find Cars Dataset\n",
        "\n",
        "Consider the following data collected from the FindCars.com website in Fall 2021.  Findcars provides information on cars for sale in our geographic region.  \n",
        "<table>\n",
        "  <tr>\n",
        "    <td width='50%'>\n",
        "      <ul>\n",
        "        <li><strong>Response Variable</strong>: Price ($)</li><br>\n",
        "        <li>Variables under investigation (i.e. independent variables)</li>\n",
        "        <ul>\n",
        "          <li>CarType, e.g. car, pickup, suv, etc.</li>\n",
        "          <li>Miles</li>\n",
        "         </ul>\n",
        "    </ul>\n",
        "    </td>\n",
        "    <td width='50%'>\n",
        "    <p align='center'><img src=\"https://drive.google.com/uc?export=view&id=14154g-4S0k9eGsqD8xlEmGahpyX79dH2\" width=\"50%\" height=\"50%\"></img></p>\n",
        "      \n",
        "  </td>\n",
        "</tr>\n",
        "</table>\n",
        "\n",
        "Data Folder: [OneDrive](https://mnscu-my.sharepoint.com/:f:/g/personal/aq7839yd_minnstate_edu/EmOQfrwxzzRBqq8PH_8qTmMBy-1qKgM11Hb8vzjs025EEA?e=wyShYs)\n",
        "\n",
        "\n",
        "\n",
        "<table width='100%' ><tr><td bgcolor='green'></td></tr></table>\n",
        "\n"
      ]
    },
    {
      "cell_type": "markdown",
      "metadata": {
        "id": "njXGRUIC9Lgs"
      },
      "source": [
        "## Load Data into R via URL"
      ]
    },
    {
      "cell_type": "markdown",
      "metadata": {
        "id": "FoT1NFX3DncH"
      },
      "source": [
        "The tidyverse R package will be used to assist with reading in the dataset into the current R session."
      ]
    },
    {
      "cell_type": "code",
      "metadata": {
        "cellView": "form",
        "id": "LgaibuX_DtWK"
      },
      "source": [
        "#@title Load Tidyverse\n",
        "#load tidyverse package\n",
        "library(tidyverse)"
      ],
      "execution_count": null,
      "outputs": []
    },
    {
      "cell_type": "markdown",
      "metadata": {
        "id": "DPqIPen9D5T3"
      },
      "source": [
        "## Read in the data"
      ]
    },
    {
      "cell_type": "code",
      "metadata": {
        "id": "e07lUbQ1F1cV",
        "cellView": "form"
      },
      "source": [
        "#@title Read in Data\n",
        "\n",
        "# Reading data in using read_csv \n",
        "FindCars <- read_csv(\"http://www.StatsClass.org/stat360/Datasets/FindCars.csv\")"
      ],
      "execution_count": null,
      "outputs": []
    },
    {
      "cell_type": "code",
      "metadata": {
        "id": "HYKWH2i0EN6s",
        "cellView": "form"
      },
      "source": [
        "#@title View the first few rows of data\n",
        "head(FindCars)"
      ],
      "execution_count": null,
      "outputs": []
    },
    {
      "cell_type": "markdown",
      "metadata": {
        "id": "cjPuPzFkK2j5"
      },
      "source": [
        "## Obtaining the Car data.frame"
      ]
    },
    {
      "cell_type": "markdown",
      "metadata": {
        "id": "CiAtubn2LAS5"
      },
      "source": [
        "The model to be fit to data that meet the following conditions.  A filter() can be used in subset the data.\n",
        "\n",
        "\n",
        "*   CarType = Car\n",
        "*   Car should have mileage between 25000 and 100000\n",
        "\n"
      ]
    },
    {
      "cell_type": "code",
      "metadata": {
        "id": "Rsz6f1HwpBJc"
      },
      "source": [
        "FindCars_CarsOnly <- (FindCars\n",
        "  %>% filter(CarType == \"Car\" & Miles > 25000 & Miles < 100000)\n",
        ")"
      ],
      "execution_count": null,
      "outputs": []
    },
    {
      "cell_type": "markdown",
      "metadata": {
        "id": "1yzIMikj6S_M"
      },
      "source": [
        "### Setup for Model #1"
      ]
    },
    {
      "cell_type": "markdown",
      "metadata": {
        "id": "H4diIPrN6YMm"
      },
      "source": [
        "Consider the following setup for the simple linear regression model.\n",
        "\n",
        "<ul>\n",
        "  <li><strong>Response Variable</strong>: Price</li>\n",
        "  <li><strong>Independent / Predictor Variable</strong>: Mileage</li>\n",
        "  <li><i>Assume</i> the following structure for the mean and variance functions</li>\n",
        "  </ul>"
      ]
    },
    {
      "cell_type": "markdown",
      "metadata": {
        "id": "X4gdlF3C60d2"
      },
      "source": [
        "<ul><ul>\n",
        "  <li>$E(Price | Miles, CarType=Car) = \\beta_{0} + \\beta_{1} * Miles$</li>\n",
        "  <li>$Var(Price | Miles, , CarType=Car) = \\sigma^{2}$</li>\n",
        "</ul></ul>"
      ]
    },
    {
      "cell_type": "markdown",
      "metadata": {
        "id": "oV94hIr3Edo4"
      },
      "source": [
        "### Scatterplot"
      ]
    },
    {
      "cell_type": "code",
      "metadata": {
        "id": "SYfrWHk1LxWX"
      },
      "source": [
        ""
      ],
      "execution_count": null,
      "outputs": []
    },
    {
      "cell_type": "markdown",
      "metadata": {
        "id": "IibimoOrLukG"
      },
      "source": [
        "### Fitting Model #1"
      ]
    },
    {
      "cell_type": "code",
      "metadata": {
        "id": "vt8D30NVMH1X"
      },
      "source": [
        ""
      ],
      "execution_count": null,
      "outputs": []
    },
    {
      "cell_type": "markdown",
      "metadata": {
        "id": "2_kGcYFYOvqe"
      },
      "source": [
        "\n",
        "\n",
        "---\n",
        "\n",
        "\n",
        "\n",
        "---\n",
        "\n"
      ]
    },
    {
      "cell_type": "markdown",
      "metadata": {
        "id": "4CIpyyjDOG94"
      },
      "source": [
        "## Obtaining the Pickup data.frame"
      ]
    },
    {
      "cell_type": "markdown",
      "metadata": {
        "id": "GZOD5C6KOPMY"
      },
      "source": [
        "The model to be fit to data that meet the following conditions.  A filter() can be used in subset the data.\n",
        "\n",
        "\n",
        "*   CarType = Pickup\n",
        "*   Pickup should have mileage between 25000 and 100000\n"
      ]
    },
    {
      "cell_type": "code",
      "metadata": {
        "id": "3ta4-_iAOHGm"
      },
      "source": [
        "FindCars_PickupsOnly <- (FindCars\n",
        "  %>% filter(CarType == \"Pickup\" & Miles > 25000 & Miles < 100000)\n",
        ")"
      ],
      "execution_count": null,
      "outputs": []
    },
    {
      "cell_type": "markdown",
      "metadata": {
        "id": "TDqb7Pf_OVD_"
      },
      "source": [
        "### Setup for Model #2"
      ]
    },
    {
      "cell_type": "markdown",
      "metadata": {
        "id": "CvczIemtOWiX"
      },
      "source": [
        "Consider the following setup for the simple linear regression model.\n",
        "\n",
        "<ul>\n",
        "  <li><strong>Response Variable</strong>: Price</li>\n",
        "  <li><strong>Independent / Predictor Variable</strong>: Mileage</li>\n",
        "  <li><i>Assume</i> the following structure for the mean and variance functions</li>\n",
        "  </ul>"
      ]
    },
    {
      "cell_type": "markdown",
      "metadata": {
        "id": "Gzw_at31Oc8N"
      },
      "source": [
        "<ul><ul>\n",
        "  <li>$E(Price | Miles, CarType=Pickup) = \\theta_{0} + \\theta_{1} * Miles$</li>\n",
        "  <li>$Var(Price | Miles, CarType=Pickup) = \\lambda^{2}$</li>\n",
        "</ul></ul>"
      ]
    },
    {
      "cell_type": "markdown",
      "metadata": {
        "id": "ixH4osDROrKX"
      },
      "source": [
        "### Scatterplot"
      ]
    },
    {
      "cell_type": "code",
      "metadata": {
        "id": "F3gxM771PZa2"
      },
      "source": [
        ""
      ],
      "execution_count": null,
      "outputs": []
    },
    {
      "cell_type": "markdown",
      "metadata": {
        "id": "HbnZMkIUPadQ"
      },
      "source": [
        "### Fitting Model #2"
      ]
    },
    {
      "cell_type": "code",
      "metadata": {
        "id": "2ZUM4qsdPanO"
      },
      "source": [
        ""
      ],
      "execution_count": null,
      "outputs": []
    },
    {
      "cell_type": "markdown",
      "metadata": {
        "id": "_lNi9AS_O4UG"
      },
      "source": [
        "### Making a prediction and getting the appropriate interval for a collection of pickups with 45,000 miles"
      ]
    },
    {
      "cell_type": "code",
      "metadata": {
        "id": "7i13lefbO7rH"
      },
      "source": [
        "Pickups <- data.frame(Miles = c(45000))"
      ],
      "execution_count": null,
      "outputs": []
    },
    {
      "cell_type": "code",
      "metadata": {
        "id": "-1Tda84cPiky"
      },
      "source": [
        ""
      ],
      "execution_count": null,
      "outputs": []
    },
    {
      "cell_type": "markdown",
      "metadata": {
        "id": "9kkg1lL30Rfw"
      },
      "source": [
        "End of Document"
      ]
    }
  ]
}