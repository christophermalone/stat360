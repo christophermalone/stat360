{
  "nbformat": 4,
  "nbformat_minor": 0,
  "metadata": {
    "colab": {
      "name": "Handout15_CompareTwoCompetingModels.ipynb",
      "provenance": [],
      "collapsed_sections": [
        "bCmC17zpsBJ_",
        "njXGRUIC9Lgs"
      ],
      "authorship_tag": "ABX9TyNJcvT1u4WapV7viEloEu2L",
      "include_colab_link": true
    },
    "kernelspec": {
      "display_name": "R",
      "name": "ir"
    }
  },
  "cells": [
    {
      "cell_type": "markdown",
      "metadata": {
        "id": "view-in-github",
        "colab_type": "text"
      },
      "source": [
        "<a href=\"https://colab.research.google.com/github/christophermalone/stat360/blob/main/Handout15_CompareTwoCompetingModels.ipynb\" target=\"_parent\"><img src=\"https://colab.research.google.com/assets/colab-badge.svg\" alt=\"Open In Colab\"/></a>"
      ]
    },
    {
      "cell_type": "markdown",
      "metadata": {
        "id": "KhClO9b02SXA"
      },
      "source": [
        "# Handout #15: Comparing Two Competing Models"
      ]
    },
    {
      "cell_type": "markdown",
      "metadata": {
        "id": "bCmC17zpsBJ_"
      },
      "source": [
        "<table width='100%' ><tr><td bgcolor='green'></td></tr></table>\n",
        "\n",
        "## 1st Example:  MN Gay Marriage Amendment\n",
        "\n",
        "Consider the following data collected on counties from all across Minnesota.  The goal here is to investigate the relationship between the outcome from the 2012 ballot measure to restrict marriage between a man and women in the State of MN and various demographics. \n",
        "\n",
        "<u>Note:</u> A vote of 'Yes\" indicates marriage should be only be defined as the union of one man and one women.\n",
        "<table>\n",
        "  <tr>\n",
        "    <td width='50%'>\n",
        "      <ul>\n",
        "        <li>Response Variable: Percent Voted Yes for Amendment #1</li><br>\n",
        "        <li>Variables under investigation (i.e. independent variables)</li>\n",
        "        <ul>\n",
        "          <li>% Voted Republican</li>\n",
        "          <li>Per Capita Income</li>\n",
        "          <li>% Bachelor or higher Education</li>\n",
        "          <li>% Unemployment</li>\n",
        "          <li>% of Population: Age 0-17</li>\n",
        "          <li>% of Population: Age 65 and Over</li>\n",
        "          <li>% of Population: White</li>\n",
        "          <li>% of Population: American Indian</li>\n",
        "         </ul>\n",
        "     </ul>\n",
        "    </td>\n",
        "    <td width='50%'>\n",
        "    <p align='center'>&nbsp;</p>\n",
        "      \n",
        "  </td>\n",
        "</tr>\n",
        "\n",
        "</table>\n",
        "\n",
        "Data Folder: [OneDrive](https://mnscu-my.sharepoint.com/:f:/g/personal/aq7839yd_minnstate_edu/EmOQfrwxzzRBqq8PH_8qTmMBy-1qKgM11Hb8vzjs025EEA?e=wyShYs)\n",
        "\n",
        "\n",
        "\n",
        "<table width='100%' ><tr><td bgcolor='green'></td></tr></table>\n",
        "\n",
        "\n"
      ]
    },
    {
      "cell_type": "markdown",
      "metadata": {
        "id": "njXGRUIC9Lgs"
      },
      "source": [
        "## Load tidyverse"
      ]
    },
    {
      "cell_type": "markdown",
      "metadata": {
        "id": "FoT1NFX3DncH"
      },
      "source": [
        "The tidyverse R package will be used to assist with reading in the dataset into the current R session."
      ]
    },
    {
      "cell_type": "code",
      "metadata": {
        "id": "LgaibuX_DtWK",
        "colab": {
          "base_uri": "https://localhost:8080/"
        },
        "outputId": "af7e94d7-b239-4a2f-f30e-31edf58adde3"
      },
      "source": [
        "#@title Load Tidyverse\n",
        "#load tidyverse package\n",
        "library(tidyverse)"
      ],
      "execution_count": null,
      "outputs": [
        {
          "output_type": "stream",
          "name": "stderr",
          "text": [
            "Warning message in system(\"timedatectl\", intern = TRUE):\n",
            "“running command 'timedatectl' had status 1”\n",
            "── \u001b[1mAttaching packages\u001b[22m ─────────────────────────────────────── tidyverse 1.3.1 ──\n",
            "\n",
            "\u001b[32m✔\u001b[39m \u001b[34mggplot2\u001b[39m 3.3.5     \u001b[32m✔\u001b[39m \u001b[34mpurrr  \u001b[39m 0.3.4\n",
            "\u001b[32m✔\u001b[39m \u001b[34mtibble \u001b[39m 3.1.6     \u001b[32m✔\u001b[39m \u001b[34mdplyr  \u001b[39m 1.0.7\n",
            "\u001b[32m✔\u001b[39m \u001b[34mtidyr  \u001b[39m 1.1.4     \u001b[32m✔\u001b[39m \u001b[34mstringr\u001b[39m 1.4.0\n",
            "\u001b[32m✔\u001b[39m \u001b[34mreadr  \u001b[39m 2.1.0     \u001b[32m✔\u001b[39m \u001b[34mforcats\u001b[39m 0.5.1\n",
            "\n",
            "── \u001b[1mConflicts\u001b[22m ────────────────────────────────────────── tidyverse_conflicts() ──\n",
            "\u001b[31m✖\u001b[39m \u001b[34mdplyr\u001b[39m::\u001b[32mfilter()\u001b[39m masks \u001b[34mstats\u001b[39m::filter()\n",
            "\u001b[31m✖\u001b[39m \u001b[34mdplyr\u001b[39m::\u001b[32mlag()\u001b[39m    masks \u001b[34mstats\u001b[39m::lag()\n",
            "\n"
          ]
        }
      ]
    },
    {
      "cell_type": "markdown",
      "metadata": {
        "id": "u7fj-9Y5Wr8r"
      },
      "source": [
        "\n",
        "\n",
        "---\n",
        "\n",
        "\n"
      ]
    },
    {
      "cell_type": "markdown",
      "metadata": {
        "id": "DPqIPen9D5T3"
      },
      "source": [
        "## Load the data for 1st Example"
      ]
    },
    {
      "cell_type": "code",
      "metadata": {
        "colab": {
          "base_uri": "https://localhost:8080/"
        },
        "id": "hM3AnlVCu2vx",
        "outputId": "5acbd106-186c-4680-dddd-f0a558c2438f"
      },
      "source": [
        "# Reading data in using read_csv \n",
        "MN_Marriage_Amendment <- read_csv(\"http://www.StatsClass.org/stat360/Datasets/MN_Marriage_Amendment.csv\")"
      ],
      "execution_count": null,
      "outputs": [
        {
          "output_type": "stream",
          "name": "stderr",
          "text": [
            "\u001b[1mRows: \u001b[22m\u001b[34m87\u001b[39m \u001b[1mColumns: \u001b[22m\u001b[34m23\u001b[39m\n",
            "\n",
            "\u001b[36m──\u001b[39m \u001b[1mColumn specification\u001b[22m \u001b[36m────────────────────────────────────────────────────────\u001b[39m\n",
            "\u001b[1mDelimiter:\u001b[22m \",\"\n",
            "\u001b[31mchr\u001b[39m  (2): State, County\n",
            "\u001b[32mdbl\u001b[39m (21): FIPSCode, Pct_Yes, Pct_Democrat, Pct_Republican, PopPerSqMile, Per...\n",
            "\n",
            "\n",
            "\u001b[36mℹ\u001b[39m Use \u001b[30m\u001b[47m\u001b[30m\u001b[47m`spec()`\u001b[47m\u001b[30m\u001b[49m\u001b[39m to retrieve the full column specification for this data.\n",
            "\u001b[36mℹ\u001b[39m Specify the column types or set \u001b[30m\u001b[47m\u001b[30m\u001b[47m`show_col_types = FALSE`\u001b[47m\u001b[30m\u001b[49m\u001b[39m to quiet this message.\n",
            "\n"
          ]
        }
      ]
    },
    {
      "cell_type": "markdown",
      "metadata": {
        "id": "_tgPYvzAHNj_"
      },
      "source": [
        "### 1st Example: Model #1\n",
        "\n",
        "PctYes∼PctRepublican+PerCapitaIncome+PctBachelorHigher+PctUnemployment+PctAge0to17+PctAge65andOlder+PctRaceWhite+PctRaceAmericanIndian"
      ]
    },
    {
      "cell_type": "code",
      "metadata": {
        "colab": {
          "base_uri": "https://localhost:8080/",
          "height": 502
        },
        "id": "IWN8YqOHHNrF",
        "outputId": "98185b0c-a691-443a-a9bf-39722e2068bf"
      },
      "source": [
        "Model_1 <- lm(Pct_Yes ~ Pct_Republican \n",
        "                        + PerCapitaIncome + Pct_Bachelororhigher + Pct_Unemployment \n",
        "                              + Pct_Age0to17 + Pct_Age65andOlder\n",
        "                              + Pct_RaceWhite + Pct_RaceAmericanIndian ,\n",
        "                              data=MN_Marriage_Amendment\n",
        "                   )\n",
        "summary(Model_1)"
      ],
      "execution_count": null,
      "outputs": [
        {
          "output_type": "display_data",
          "data": {
            "text/plain": [
              "\n",
              "Call:\n",
              "lm(formula = Pct_Yes ~ Pct_Republican + PerCapitaIncome + Pct_Bachelororhigher + \n",
              "    Pct_Unemployment + Pct_Age0to17 + Pct_Age65andOlder + Pct_RaceWhite + \n",
              "    Pct_RaceAmericanIndian, data = MN_Marriage_Amendment)\n",
              "\n",
              "Residuals:\n",
              "    Min      1Q  Median      3Q     Max \n",
              "-5.3328 -1.3241 -0.2356  1.5393  6.6262 \n",
              "\n",
              "Coefficients:\n",
              "                         Estimate Std. Error t value Pr(>|t|)    \n",
              "(Intercept)            40.6209048  8.8522362   4.589 1.68e-05 ***\n",
              "Pct_Republican          0.5315823  0.0500044  10.631  < 2e-16 ***\n",
              "PerCapitaIncome        -0.0006374  0.0001498  -4.255 5.77e-05 ***\n",
              "Pct_Bachelororhigher   -0.3369253  0.0854334  -3.944 0.000174 ***\n",
              "Pct_Unemployment       -1.5011963  0.2710919  -5.538 3.99e-07 ***\n",
              "Pct_Age0to17            1.0551382  0.1832527   5.758 1.61e-07 ***\n",
              "Pct_Age65andOlder       1.0919821  0.1156727   9.440 1.51e-14 ***\n",
              "Pct_RaceWhite          -0.2231627  0.0697513  -3.199 0.001992 ** \n",
              "Pct_RaceAmericanIndian -0.2816203  0.0892553  -3.155 0.002279 ** \n",
              "---\n",
              "Signif. codes:  0 ‘***’ 0.001 ‘**’ 0.01 ‘*’ 0.05 ‘.’ 0.1 ‘ ’ 1\n",
              "\n",
              "Residual standard error: 2.377 on 78 degrees of freedom\n",
              "Multiple R-squared:  0.9334,\tAdjusted R-squared:  0.9265 \n",
              "F-statistic: 136.5 on 8 and 78 DF,  p-value: < 2.2e-16\n"
            ]
          },
          "metadata": {}
        }
      ]
    },
    {
      "cell_type": "markdown",
      "metadata": {
        "id": "VmE1SZIBW7Yy"
      },
      "source": [
        "### 1st Example: Model #2 (No Age and No Race Predictors)\n",
        "\n",
        "PctYes∼PctRepublican+PerCapitaIncome+PctBachelorHigher+PctUnemployment"
      ]
    },
    {
      "cell_type": "code",
      "metadata": {
        "colab": {
          "base_uri": "https://localhost:8080/",
          "height": 412
        },
        "id": "8Kl3ADy9W7gX",
        "outputId": "56e6e57a-585f-4645-a2b7-77858000e442"
      },
      "source": [
        "Model_2 <- lm(Pct_Yes ~ Pct_Republican \n",
        "                        + PerCapitaIncome + Pct_Bachelororhigher + Pct_Unemployment ,\n",
        "             data=MN_Marriage_Amendment\n",
        "             )\n",
        "summary(Model_2)"
      ],
      "execution_count": null,
      "outputs": [
        {
          "output_type": "display_data",
          "data": {
            "text/plain": [
              "\n",
              "Call:\n",
              "lm(formula = Pct_Yes ~ Pct_Republican + PerCapitaIncome + Pct_Bachelororhigher + \n",
              "    Pct_Unemployment, data = MN_Marriage_Amendment)\n",
              "\n",
              "Residuals:\n",
              "    Min      1Q  Median      3Q     Max \n",
              "-8.5137 -2.4036  0.3936  1.9415  9.0079 \n",
              "\n",
              "Coefficients:\n",
              "                      Estimate Std. Error t value Pr(>|t|)    \n",
              "(Intercept)          62.444258   5.036628  12.398  < 2e-16 ***\n",
              "Pct_Republican        0.522887   0.059101   8.847 1.45e-13 ***\n",
              "PerCapitaIncome      -0.000205   0.000189  -1.085    0.281    \n",
              "Pct_Bachelororhigher -0.741662   0.092646  -8.005 6.82e-12 ***\n",
              "Pct_Unemployment     -1.654073   0.381575  -4.335 4.11e-05 ***\n",
              "---\n",
              "Signif. codes:  0 ‘***’ 0.001 ‘**’ 0.01 ‘*’ 0.05 ‘.’ 0.1 ‘ ’ 1\n",
              "\n",
              "Residual standard error: 3.501 on 82 degrees of freedom\n",
              "Multiple R-squared:  0.848,\tAdjusted R-squared:  0.8405 \n",
              "F-statistic: 114.3 on 4 and 82 DF,  p-value: < 2.2e-16\n"
            ]
          },
          "metadata": {}
        }
      ]
    },
    {
      "cell_type": "markdown",
      "metadata": {
        "id": "iJngBo1lXW0p"
      },
      "source": [
        "### 1st Example: Model #3 (No Age and No Race Predictors, No Per Capita Income)\n",
        "\n",
        "PctYes∼PctRepublican+PctBachelorHigher+PctUnemployment"
      ]
    },
    {
      "cell_type": "code",
      "metadata": {
        "colab": {
          "base_uri": "https://localhost:8080/",
          "height": 394
        },
        "id": "x0-L5nRpXdz4",
        "outputId": "90c9119c-3380-4a4d-ef37-209067b86996"
      },
      "source": [
        "Model_3 <- lm(Pct_Yes ~ Pct_Republican \n",
        "                        + Pct_Bachelororhigher + Pct_Unemployment ,\n",
        "             data=MN_Marriage_Amendment\n",
        "             )\n",
        "summary(Model_3)"
      ],
      "execution_count": null,
      "outputs": [
        {
          "output_type": "display_data",
          "data": {
            "text/plain": [
              "\n",
              "Call:\n",
              "lm(formula = Pct_Yes ~ Pct_Republican + Pct_Bachelororhigher + \n",
              "    Pct_Unemployment, data = MN_Marriage_Amendment)\n",
              "\n",
              "Residuals:\n",
              "    Min      1Q  Median      3Q     Max \n",
              "-8.2999 -2.3331  0.3498  2.0972  8.8869 \n",
              "\n",
              "Coefficients:\n",
              "                     Estimate Std. Error t value Pr(>|t|)    \n",
              "(Intercept)          59.44875    4.21619  14.100  < 2e-16 ***\n",
              "Pct_Republican        0.50619    0.05712   8.862 1.23e-13 ***\n",
              "Pct_Bachelororhigher -0.82260    0.05495 -14.970  < 2e-16 ***\n",
              "Pct_Unemployment     -1.59206    0.37767  -4.216 6.31e-05 ***\n",
              "---\n",
              "Signif. codes:  0 ‘***’ 0.001 ‘**’ 0.01 ‘*’ 0.05 ‘.’ 0.1 ‘ ’ 1\n",
              "\n",
              "Residual standard error: 3.505 on 83 degrees of freedom\n",
              "Multiple R-squared:  0.8458,\tAdjusted R-squared:  0.8402 \n",
              "F-statistic: 151.7 on 3 and 83 DF,  p-value: < 2.2e-16\n"
            ]
          },
          "metadata": {}
        }
      ]
    },
    {
      "cell_type": "markdown",
      "metadata": {
        "id": "bZacnW0tbga5"
      },
      "source": [
        "\n",
        "\n",
        "---\n",
        "\n",
        "\n",
        "\n",
        "---\n",
        "\n"
      ]
    },
    {
      "cell_type": "markdown",
      "metadata": {
        "id": "jsOza1phke2A"
      },
      "source": [
        "## The <font size='+10'>BIG</font> F-Test"
      ]
    },
    {
      "cell_type": "markdown",
      "metadata": {
        "id": "cFouc5lYcQ58"
      },
      "source": [
        "The BIG F-Test is a formal test that can used to compare one model against a second competing model.  This test is only valid when one of the models being compared is a *subset* of the other -- this is often the case when comparing two competing models.  The model that is a subset of the other is commonly referred to as the **Restricted Model** and larger of the two models is commonly called the **Full Model** or the Unrestricted Model.\n",
        "\n",
        "The model hypotheses and test statistic is provided here."
      ]
    },
    {
      "cell_type": "markdown",
      "metadata": {
        "id": "dg-wXt7aeUS7"
      },
      "source": [
        "$$ \\begin{array}{ccl}\n",
        "H_{O}& : & \\mbox{Restricted Model}\\\\\n",
        "H_{A}& : & \\mbox{Full Model}\\end{array} \n",
        "$$"
      ]
    },
    {
      "cell_type": "markdown",
      "metadata": {
        "id": "zznQMxYJZyAS"
      },
      "source": [
        "$$\n",
        "F \\, Ratio = \\frac{\\frac{(SSE_{HO}-SSE_{HA})}{(df_{HO} - df_{HA})}}{\\frac{SSE_{HA}}{df_{HA}}}\n",
        "$$\n",
        "\n",
        "where $SSE_{H0}$ and $df_{HO}$ are the sum of squared errors and degrees-of-freedom from the model under $H_{O}$, i.e. the restricted model; and the $SSE_{HA}$ and $df_{HA}$ are the sum of squared errors and degrees-of-freedom from the model under $H_{A}$, i.e. the full model."
      ]
    },
    {
      "cell_type": "markdown",
      "metadata": {
        "id": "xbRP50HIdGmN"
      },
      "source": [
        "The $F \\, Ratio$ follows an F-distribution with $df_{numerator} = (df_{HO} - df_{HA})$ and  $df_{denominator} = df_{HA}$"
      ]
    },
    {
      "cell_type": "markdown",
      "metadata": {
        "id": "-71EpSXud-ld"
      },
      "source": [
        "\n",
        "<p align='center'><img src=\"https://drive.google.com/uc?export=view&id=1nSIILD_r-MYr364Cr10YYXMS7MeR5npZ\" width=\"25%\" height=\"25%\"></img></p>\n"
      ]
    },
    {
      "cell_type": "markdown",
      "metadata": {
        "id": "eAHgw7NgbiDI"
      },
      "source": [
        "\n",
        "\n",
        "---\n",
        "\n",
        "\n",
        "\n",
        "---\n",
        "\n"
      ]
    },
    {
      "cell_type": "markdown",
      "metadata": {
        "id": "hTvOxqpSk0-P"
      },
      "source": [
        "## Comparing Model #3 to Model #1"
      ]
    },
    {
      "cell_type": "markdown",
      "metadata": {
        "id": "7vUQu6FQl6wo"
      },
      "source": [
        "$$ \\begin{array}{rclcl}\n",
        "[\\mbox{Restricted Model} ] \\, H_{O} &:& \\% Yes \\sim \\% \\, Republican & \\hphantom{+PerCapitaIncome}\\, + \\, \\% BachelororHigher \\, + \\, \\% \\, Unemployment & \\\\\n",
        "[\\mbox{Full Model} ] \\, H_{A} &:& \\% Yes \\sim \\% \\, Republican & \\, + PerCapitaIncome \\, + \\, \\% BachelororHigher \\, + \\, \\% \\, Unemployment &+ \\, \\% Age \\, 0 \\,to \\,17 \\, + \\, \\% Age \\, 65 \\,Over \\\\ \n",
        "& & & & + \\, \\% White \\, + \\% \\, American \\,Indian \\end{array} \n",
        "$$"
      ]
    },
    {
      "cell_type": "markdown",
      "metadata": {
        "id": "M4Ug5NUipJgo"
      },
      "source": [
        "The model specification above is equivalent to testing the following coefficients."
      ]
    },
    {
      "cell_type": "markdown",
      "metadata": {
        "id": "lbnsyWMYk4BG"
      },
      "source": [
        "$$ \\begin{array}{ccl}\n",
        "H_{O}& : & \\beta_{PerCapitaIncome} = 0 \\mbox{ and }\\beta_{\\%\\,Age \\,0-17} = 0 \\mbox{ and } \\beta_{\\%\\,Age \\, 65+} = 0 \\mbox{ and } \\beta_{\\%\\,White} = 0 \\mbox{ and } \\beta_{\\%\\,American Indian} = 0\\\\\n",
        "H_{A}& : & \\mbox{At least one is non-zero}\\end{array} \n",
        "$$"
      ]
    },
    {
      "cell_type": "code",
      "metadata": {
        "colab": {
          "base_uri": "https://localhost:8080/",
          "height": 223
        },
        "id": "3CN_A9RNagYM",
        "outputId": "13f18faa-f9fe-4d7c-b312-7ba15ae82261"
      },
      "source": [
        "#Getting the necessary values for the model under HO\n",
        "anova(Model_3)"
      ],
      "execution_count": null,
      "outputs": [
        {
          "output_type": "display_data",
          "data": {
            "text/plain": [
              "                     Df Sum Sq   Mean Sq    F value   Pr(>F)      \n",
              "Pct_Republican        1 2780.505 2780.50508 226.37489 1.966428e-25\n",
              "Pct_Bachelororhigher  1 2592.285 2592.28546 211.05099 1.634273e-24\n",
              "Pct_Unemployment      1  218.271  218.27101  17.77054 6.309837e-05\n",
              "Residuals            83 1019.468   12.28275        NA           NA"
            ],
            "text/latex": "A anova: 4 × 5\n\\begin{tabular}{r|lllll}\n  & Df & Sum Sq & Mean Sq & F value & Pr(>F)\\\\\n  & <int> & <dbl> & <dbl> & <dbl> & <dbl>\\\\\n\\hline\n\tPct\\_Republican &  1 & 2780.505 & 2780.50508 & 226.37489 & 1.966428e-25\\\\\n\tPct\\_Bachelororhigher &  1 & 2592.285 & 2592.28546 & 211.05099 & 1.634273e-24\\\\\n\tPct\\_Unemployment &  1 &  218.271 &  218.27101 &  17.77054 & 6.309837e-05\\\\\n\tResiduals & 83 & 1019.468 &   12.28275 &        NA &           NA\\\\\n\\end{tabular}\n",
            "text/markdown": "\nA anova: 4 × 5\n\n| <!--/--> | Df &lt;int&gt; | Sum Sq &lt;dbl&gt; | Mean Sq &lt;dbl&gt; | F value &lt;dbl&gt; | Pr(&gt;F) &lt;dbl&gt; |\n|---|---|---|---|---|---|\n| Pct_Republican |  1 | 2780.505 | 2780.50508 | 226.37489 | 1.966428e-25 |\n| Pct_Bachelororhigher |  1 | 2592.285 | 2592.28546 | 211.05099 | 1.634273e-24 |\n| Pct_Unemployment |  1 |  218.271 |  218.27101 |  17.77054 | 6.309837e-05 |\n| Residuals | 83 | 1019.468 |   12.28275 |        NA |           NA |\n\n",
            "text/html": [
              "<table class=\"dataframe\">\n",
              "<caption>A anova: 4 × 5</caption>\n",
              "<thead>\n",
              "\t<tr><th></th><th scope=col>Df</th><th scope=col>Sum Sq</th><th scope=col>Mean Sq</th><th scope=col>F value</th><th scope=col>Pr(&gt;F)</th></tr>\n",
              "\t<tr><th></th><th scope=col>&lt;int&gt;</th><th scope=col>&lt;dbl&gt;</th><th scope=col>&lt;dbl&gt;</th><th scope=col>&lt;dbl&gt;</th><th scope=col>&lt;dbl&gt;</th></tr>\n",
              "</thead>\n",
              "<tbody>\n",
              "\t<tr><th scope=row>Pct_Republican</th><td> 1</td><td>2780.505</td><td>2780.50508</td><td>226.37489</td><td>1.966428e-25</td></tr>\n",
              "\t<tr><th scope=row>Pct_Bachelororhigher</th><td> 1</td><td>2592.285</td><td>2592.28546</td><td>211.05099</td><td>1.634273e-24</td></tr>\n",
              "\t<tr><th scope=row>Pct_Unemployment</th><td> 1</td><td> 218.271</td><td> 218.27101</td><td> 17.77054</td><td>6.309837e-05</td></tr>\n",
              "\t<tr><th scope=row>Residuals</th><td>83</td><td>1019.468</td><td>  12.28275</td><td>       NA</td><td>          NA</td></tr>\n",
              "</tbody>\n",
              "</table>\n"
            ]
          },
          "metadata": {}
        }
      ]
    },
    {
      "cell_type": "markdown",
      "metadata": {
        "id": "w2ni0kCyanos"
      },
      "source": [
        "Getting the values for the model under $H_{O}$\n",
        "\n",
        "\n",
        "*   $SSE_{HO} = 1019.47$\n",
        "*   $df_{HO} = 83$\n",
        "\n"
      ]
    },
    {
      "cell_type": "code",
      "metadata": {
        "colab": {
          "base_uri": "https://localhost:8080/",
          "height": 380
        },
        "id": "QUn2XnCcbKOy",
        "outputId": "77f54d17-0a3d-417f-ceef-b552a88649e4"
      },
      "source": [
        "#Getting the necessary values for the model under HA\n",
        "anova(Model_1)"
      ],
      "execution_count": null,
      "outputs": [
        {
          "output_type": "display_data",
          "data": {
            "text/plain": [
              "                       Df Sum Sq      Mean Sq     F value     Pr(>F)      \n",
              "Pct_Republican          1 2780.505076 2780.505076 492.2583768 1.951993e-35\n",
              "PerCapitaIncome         1 1773.589820 1773.589820 313.9949116 4.519537e-29\n",
              "Pct_Bachelororhigher    1  821.067112  821.067112 145.3610594 1.680011e-19\n",
              "Pct_Unemployment        1  230.315632  230.315632  40.7748937 1.133064e-08\n",
              "Pct_Age0to17            1    2.110829    2.110829   0.3736995 5.427721e-01\n",
              "Pct_Age65andOlder       1  495.122962  495.122962  87.6561700 2.140914e-14\n",
              "Pct_RaceWhite           1   11.004624   11.004624   1.9482497 1.667362e-01\n",
              "Pct_RaceAmericanIndian  1   56.232934   56.232934   9.9554333 2.278810e-03\n",
              "Residuals              78  440.580407    5.648467          NA           NA"
            ],
            "text/latex": "A anova: 9 × 5\n\\begin{tabular}{r|lllll}\n  & Df & Sum Sq & Mean Sq & F value & Pr(>F)\\\\\n  & <int> & <dbl> & <dbl> & <dbl> & <dbl>\\\\\n\\hline\n\tPct\\_Republican &  1 & 2780.505076 & 2780.505076 & 492.2583768 & 1.951993e-35\\\\\n\tPerCapitaIncome &  1 & 1773.589820 & 1773.589820 & 313.9949116 & 4.519537e-29\\\\\n\tPct\\_Bachelororhigher &  1 &  821.067112 &  821.067112 & 145.3610594 & 1.680011e-19\\\\\n\tPct\\_Unemployment &  1 &  230.315632 &  230.315632 &  40.7748937 & 1.133064e-08\\\\\n\tPct\\_Age0to17 &  1 &    2.110829 &    2.110829 &   0.3736995 & 5.427721e-01\\\\\n\tPct\\_Age65andOlder &  1 &  495.122962 &  495.122962 &  87.6561700 & 2.140914e-14\\\\\n\tPct\\_RaceWhite &  1 &   11.004624 &   11.004624 &   1.9482497 & 1.667362e-01\\\\\n\tPct\\_RaceAmericanIndian &  1 &   56.232934 &   56.232934 &   9.9554333 & 2.278810e-03\\\\\n\tResiduals & 78 &  440.580407 &    5.648467 &          NA &           NA\\\\\n\\end{tabular}\n",
            "text/markdown": "\nA anova: 9 × 5\n\n| <!--/--> | Df &lt;int&gt; | Sum Sq &lt;dbl&gt; | Mean Sq &lt;dbl&gt; | F value &lt;dbl&gt; | Pr(&gt;F) &lt;dbl&gt; |\n|---|---|---|---|---|---|\n| Pct_Republican |  1 | 2780.505076 | 2780.505076 | 492.2583768 | 1.951993e-35 |\n| PerCapitaIncome |  1 | 1773.589820 | 1773.589820 | 313.9949116 | 4.519537e-29 |\n| Pct_Bachelororhigher |  1 |  821.067112 |  821.067112 | 145.3610594 | 1.680011e-19 |\n| Pct_Unemployment |  1 |  230.315632 |  230.315632 |  40.7748937 | 1.133064e-08 |\n| Pct_Age0to17 |  1 |    2.110829 |    2.110829 |   0.3736995 | 5.427721e-01 |\n| Pct_Age65andOlder |  1 |  495.122962 |  495.122962 |  87.6561700 | 2.140914e-14 |\n| Pct_RaceWhite |  1 |   11.004624 |   11.004624 |   1.9482497 | 1.667362e-01 |\n| Pct_RaceAmericanIndian |  1 |   56.232934 |   56.232934 |   9.9554333 | 2.278810e-03 |\n| Residuals | 78 |  440.580407 |    5.648467 |          NA |           NA |\n\n",
            "text/html": [
              "<table class=\"dataframe\">\n",
              "<caption>A anova: 9 × 5</caption>\n",
              "<thead>\n",
              "\t<tr><th></th><th scope=col>Df</th><th scope=col>Sum Sq</th><th scope=col>Mean Sq</th><th scope=col>F value</th><th scope=col>Pr(&gt;F)</th></tr>\n",
              "\t<tr><th></th><th scope=col>&lt;int&gt;</th><th scope=col>&lt;dbl&gt;</th><th scope=col>&lt;dbl&gt;</th><th scope=col>&lt;dbl&gt;</th><th scope=col>&lt;dbl&gt;</th></tr>\n",
              "</thead>\n",
              "<tbody>\n",
              "\t<tr><th scope=row>Pct_Republican</th><td> 1</td><td>2780.505076</td><td>2780.505076</td><td>492.2583768</td><td>1.951993e-35</td></tr>\n",
              "\t<tr><th scope=row>PerCapitaIncome</th><td> 1</td><td>1773.589820</td><td>1773.589820</td><td>313.9949116</td><td>4.519537e-29</td></tr>\n",
              "\t<tr><th scope=row>Pct_Bachelororhigher</th><td> 1</td><td> 821.067112</td><td> 821.067112</td><td>145.3610594</td><td>1.680011e-19</td></tr>\n",
              "\t<tr><th scope=row>Pct_Unemployment</th><td> 1</td><td> 230.315632</td><td> 230.315632</td><td> 40.7748937</td><td>1.133064e-08</td></tr>\n",
              "\t<tr><th scope=row>Pct_Age0to17</th><td> 1</td><td>   2.110829</td><td>   2.110829</td><td>  0.3736995</td><td>5.427721e-01</td></tr>\n",
              "\t<tr><th scope=row>Pct_Age65andOlder</th><td> 1</td><td> 495.122962</td><td> 495.122962</td><td> 87.6561700</td><td>2.140914e-14</td></tr>\n",
              "\t<tr><th scope=row>Pct_RaceWhite</th><td> 1</td><td>  11.004624</td><td>  11.004624</td><td>  1.9482497</td><td>1.667362e-01</td></tr>\n",
              "\t<tr><th scope=row>Pct_RaceAmericanIndian</th><td> 1</td><td>  56.232934</td><td>  56.232934</td><td>  9.9554333</td><td>2.278810e-03</td></tr>\n",
              "\t<tr><th scope=row>Residuals</th><td>78</td><td> 440.580407</td><td>   5.648467</td><td>         NA</td><td>          NA</td></tr>\n",
              "</tbody>\n",
              "</table>\n"
            ]
          },
          "metadata": {}
        }
      ]
    },
    {
      "cell_type": "markdown",
      "metadata": {
        "id": "8mncTPskbPaS"
      },
      "source": [
        "Getting the values for the model under $H_{A}$\n",
        "\n",
        "\n",
        "*   $SSE_{HA} = 440.58$\n",
        "*   $df_{HA} = 78$"
      ]
    },
    {
      "cell_type": "markdown",
      "metadata": {
        "id": "AthydPv0b0tb"
      },
      "source": [
        "Using these values to compute the desired $F \\, Ratio$\n",
        "\n"
      ]
    },
    {
      "cell_type": "markdown",
      "metadata": {
        "id": "wvA-mW_shInA"
      },
      "source": [
        "$$\\begin{array}{rcl}\n",
        "F \\, Ratio & = & \\frac{\\frac{(SSE_{HO}-SSE_{HA})}{(df_{HO} - df_{HA})}}{\\frac{SSE_{HA}}{df_{HA}}} \\\\\n",
        "& = & \\frac{\\frac{(1019.47-440.58)}{(83-78)}}{\\frac{440.58}{78}} \\\\\n",
        "& = & \\frac{115.78}{5.65} \\\\\n",
        "& = & 20.49\\end{array}$$"
      ]
    },
    {
      "cell_type": "markdown",
      "metadata": {
        "id": "f8ZQYur4i5jG"
      },
      "source": [
        "The $p-value$ is the upper tailed probability from an $F-Distribtion$ with $df_{numerator} = 5$ and $df_{denominator} = 78$.  The p-value can be computed in R with the following code."
      ]
    },
    {
      "cell_type": "code",
      "metadata": {
        "colab": {
          "base_uri": "https://localhost:8080/",
          "height": 34
        },
        "id": "TunB_cYTi5qe",
        "outputId": "082ccdf0-9029-4172-a30b-3a15a54e3a85"
      },
      "source": [
        "pf(q=20.49,df1=5, df2=78, lower.tail=FALSE)"
      ],
      "execution_count": null,
      "outputs": [
        {
          "output_type": "display_data",
          "data": {
            "text/plain": [
              "[1] 5.258136e-13"
            ],
            "text/latex": "5.258135639206e-13",
            "text/markdown": "5.258135639206e-13",
            "text/html": [
              "5.258135639206e-13"
            ]
          },
          "metadata": {}
        }
      ]
    },
    {
      "cell_type": "code",
      "metadata": {
        "colab": {
          "base_uri": "https://localhost:8080/",
          "height": 160
        },
        "id": "9qpdnpmgb0_7",
        "outputId": "6c982cb0-8118-4663-f7a3-41041c5f8e2c"
      },
      "source": [
        "#Doing this test using the anova() function.\n",
        "anova(Model_3, Model_1)"
      ],
      "execution_count": null,
      "outputs": [
        {
          "output_type": "display_data",
          "data": {
            "text/plain": [
              "  Res.Df RSS       Df Sum of Sq F        Pr(>F)      \n",
              "1 83     1019.4678 NA       NA        NA           NA\n",
              "2 78      440.5804  5 578.8874  20.49715 5.218781e-13"
            ],
            "text/latex": "A anova: 2 × 6\n\\begin{tabular}{r|llllll}\n  & Res.Df & RSS & Df & Sum of Sq & F & Pr(>F)\\\\\n  & <dbl> & <dbl> & <dbl> & <dbl> & <dbl> & <dbl>\\\\\n\\hline\n\t1 & 83 & 1019.4678 & NA &       NA &       NA &           NA\\\\\n\t2 & 78 &  440.5804 &  5 & 578.8874 & 20.49715 & 5.218781e-13\\\\\n\\end{tabular}\n",
            "text/markdown": "\nA anova: 2 × 6\n\n| <!--/--> | Res.Df &lt;dbl&gt; | RSS &lt;dbl&gt; | Df &lt;dbl&gt; | Sum of Sq &lt;dbl&gt; | F &lt;dbl&gt; | Pr(&gt;F) &lt;dbl&gt; |\n|---|---|---|---|---|---|---|\n| 1 | 83 | 1019.4678 | NA |       NA |       NA |           NA |\n| 2 | 78 |  440.5804 |  5 | 578.8874 | 20.49715 | 5.218781e-13 |\n\n",
            "text/html": [
              "<table class=\"dataframe\">\n",
              "<caption>A anova: 2 × 6</caption>\n",
              "<thead>\n",
              "\t<tr><th></th><th scope=col>Res.Df</th><th scope=col>RSS</th><th scope=col>Df</th><th scope=col>Sum of Sq</th><th scope=col>F</th><th scope=col>Pr(&gt;F)</th></tr>\n",
              "\t<tr><th></th><th scope=col>&lt;dbl&gt;</th><th scope=col>&lt;dbl&gt;</th><th scope=col>&lt;dbl&gt;</th><th scope=col>&lt;dbl&gt;</th><th scope=col>&lt;dbl&gt;</th><th scope=col>&lt;dbl&gt;</th></tr>\n",
              "</thead>\n",
              "<tbody>\n",
              "\t<tr><th scope=row>1</th><td>83</td><td>1019.4678</td><td>NA</td><td>      NA</td><td>      NA</td><td>          NA</td></tr>\n",
              "\t<tr><th scope=row>2</th><td>78</td><td> 440.5804</td><td> 5</td><td>578.8874</td><td>20.49715</td><td>5.218781e-13</td></tr>\n",
              "</tbody>\n",
              "</table>\n"
            ]
          },
          "metadata": {}
        }
      ]
    },
    {
      "cell_type": "markdown",
      "metadata": {
        "id": "WTh77fsmxPUR"
      },
      "source": [
        "## Comparing Model #3 to Model #2"
      ]
    },
    {
      "cell_type": "code",
      "metadata": {
        "colab": {
          "base_uri": "https://localhost:8080/",
          "height": 160
        },
        "id": "9WZAOtR0xPaY",
        "outputId": "954ab02d-1995-4cef-baf8-514f5b5eab45"
      },
      "source": [
        "#Doing this test using the anova() function.\n",
        "anova(Model_3, Model_2)"
      ],
      "execution_count": null,
      "outputs": [
        {
          "output_type": "display_data",
          "data": {
            "text/plain": [
              "  Res.Df RSS      Df Sum of Sq F        Pr(>F)   \n",
              "1 83     1019.468 NA       NA        NA        NA\n",
              "2 82     1005.052  1 14.41609  1.176177 0.2813139"
            ],
            "text/latex": "A anova: 2 × 6\n\\begin{tabular}{r|llllll}\n  & Res.Df & RSS & Df & Sum of Sq & F & Pr(>F)\\\\\n  & <dbl> & <dbl> & <dbl> & <dbl> & <dbl> & <dbl>\\\\\n\\hline\n\t1 & 83 & 1019.468 & NA &       NA &       NA &        NA\\\\\n\t2 & 82 & 1005.052 &  1 & 14.41609 & 1.176177 & 0.2813139\\\\\n\\end{tabular}\n",
            "text/markdown": "\nA anova: 2 × 6\n\n| <!--/--> | Res.Df &lt;dbl&gt; | RSS &lt;dbl&gt; | Df &lt;dbl&gt; | Sum of Sq &lt;dbl&gt; | F &lt;dbl&gt; | Pr(&gt;F) &lt;dbl&gt; |\n|---|---|---|---|---|---|---|\n| 1 | 83 | 1019.468 | NA |       NA |       NA |        NA |\n| 2 | 82 | 1005.052 |  1 | 14.41609 | 1.176177 | 0.2813139 |\n\n",
            "text/html": [
              "<table class=\"dataframe\">\n",
              "<caption>A anova: 2 × 6</caption>\n",
              "<thead>\n",
              "\t<tr><th></th><th scope=col>Res.Df</th><th scope=col>RSS</th><th scope=col>Df</th><th scope=col>Sum of Sq</th><th scope=col>F</th><th scope=col>Pr(&gt;F)</th></tr>\n",
              "\t<tr><th></th><th scope=col>&lt;dbl&gt;</th><th scope=col>&lt;dbl&gt;</th><th scope=col>&lt;dbl&gt;</th><th scope=col>&lt;dbl&gt;</th><th scope=col>&lt;dbl&gt;</th><th scope=col>&lt;dbl&gt;</th></tr>\n",
              "</thead>\n",
              "<tbody>\n",
              "\t<tr><th scope=row>1</th><td>83</td><td>1019.468</td><td>NA</td><td>      NA</td><td>      NA</td><td>       NA</td></tr>\n",
              "\t<tr><th scope=row>2</th><td>82</td><td>1005.052</td><td> 1</td><td>14.41609</td><td>1.176177</td><td>0.2813139</td></tr>\n",
              "</tbody>\n",
              "</table>\n"
            ]
          },
          "metadata": {}
        }
      ]
    },
    {
      "cell_type": "markdown",
      "metadata": {
        "id": "_xYWDrFy3Von"
      },
      "source": [
        "\n",
        "\n",
        "---\n",
        "\n",
        "\n",
        "\n",
        "---\n",
        "\n"
      ]
    },
    {
      "cell_type": "markdown",
      "metadata": {
        "id": "IGg9Vt6G3XfP"
      },
      "source": [
        "<table width='100%' ><tr><td bgcolor='green'></td></tr></table>\n",
        "\n",
        "# 2nd Example:  Comparing T-Scores\n",
        "\n",
        "Consider\n",
        "\n",
        "<table>\n",
        "  <tr>\n",
        "    <td width='50%'>\n",
        "      <ul>\n",
        "        <li>Response Variable: Forearm T-Score</li><br>\n",
        "        <li>Variables under investigation (i.e. independent variables)</li>\n",
        "        <ul>\n",
        "          <li>Spine T-Score</li>\n",
        "          <li>Hip T-Score</li>\n",
        "          <li>Neck T-Score</li>\n",
        "         </ul>\n",
        "     </ul>     \n",
        "  </td>\n",
        "  <td width='50%'>\n",
        "    <p align='center'><img src=\"https://drive.google.com/uc?export=view&id=1FmcJ0vLrEuAf_jxmPkAtFnuxpdsD4rQa\" width='35%' height='35%'></img></p>\n",
        "  </td>\n",
        "  </tr>\n",
        "</table>\n",
        "\n",
        "Data Folder: [OneDrive](https://mnscu-my.sharepoint.com/:f:/g/personal/aq7839yd_minnstate_edu/EmOQfrwxzzRBqq8PH_8qTmMBy-1qKgM11Hb8vzjs025EEA?e=wyShYs)\n",
        "\n",
        "\n",
        "\n",
        "<table width='100%' ><tr><td bgcolor='green'></td></tr></table>\n"
      ]
    },
    {
      "cell_type": "markdown",
      "metadata": {
        "id": "es63p7Vm3kej"
      },
      "source": [
        "### Loading the T-Scores data"
      ]
    },
    {
      "cell_type": "code",
      "metadata": {
        "colab": {
          "base_uri": "https://localhost:8080/"
        },
        "id": "AOEnSoDj3kug",
        "outputId": "4c37981f-2c06-4f3a-e7af-01c57f7e1a9c"
      },
      "source": [
        "# Reading data in using read_csv \n",
        "TScores <- read_csv(\"http://www.StatsClass.org/stat360/Datasets/TScores.csv\")"
      ],
      "execution_count": null,
      "outputs": [
        {
          "output_type": "stream",
          "name": "stderr",
          "text": [
            "\u001b[1mRows: \u001b[22m\u001b[34m40\u001b[39m \u001b[1mColumns: \u001b[22m\u001b[34m8\u001b[39m\n",
            "\n",
            "\u001b[36m──\u001b[39m \u001b[1mColumn specification\u001b[22m \u001b[36m────────────────────────────────────────────────────────\u001b[39m\n",
            "\u001b[1mDelimiter:\u001b[22m \",\"\n",
            "\u001b[32mdbl\u001b[39m (8): Age, Heigth, Weight, BMI, Forearm_TScore, Spine_TScore, Hip_TScore,...\n",
            "\n",
            "\n",
            "\u001b[36mℹ\u001b[39m Use \u001b[30m\u001b[47m\u001b[30m\u001b[47m`spec()`\u001b[47m\u001b[30m\u001b[49m\u001b[39m to retrieve the full column specification for this data.\n",
            "\u001b[36mℹ\u001b[39m Specify the column types or set \u001b[30m\u001b[47m\u001b[30m\u001b[47m`show_col_types = FALSE`\u001b[47m\u001b[30m\u001b[49m\u001b[39m to quiet this message.\n",
            "\n"
          ]
        }
      ]
    },
    {
      "cell_type": "markdown",
      "metadata": {
        "id": "kmNISrnl4Sv9"
      },
      "source": [
        "Taking a look at the first few rows of data..."
      ]
    },
    {
      "cell_type": "code",
      "metadata": {
        "colab": {
          "base_uri": "https://localhost:8080/",
          "height": 286
        },
        "id": "4nJwKd7w4S2d",
        "outputId": "c12bac6a-e3d3-45bf-9af3-a3583d3272d6"
      },
      "source": [
        "head(TScores)"
      ],
      "execution_count": null,
      "outputs": [
        {
          "output_type": "display_data",
          "data": {
            "text/plain": [
              "  Age Heigth Weight BMI  Forearm_TScore Spine_TScore Hip_TScore Neck_TScore\n",
              "1 42  64     134.0  23.0  1.7            1.5          0.8        0.2       \n",
              "2 47  66     158.0  25.5 -0.2            0.7         -0.3       -0.2       \n",
              "3 44  64     162.5  28.0 -0.7           -1.3         -0.4       -1.0       \n",
              "4 40  56     249.0  40.2 -1.4           -1.3          1.0        0.2       \n",
              "5 51  64     181.0  31.1  0.5           -0.8         -0.7       -1.6       \n",
              "6 45  55     151.0  25.1 -0.8           -0.5          0.3       -0.8       "
            ],
            "text/latex": "A tibble: 6 × 8\n\\begin{tabular}{llllllll}\n Age & Heigth & Weight & BMI & Forearm\\_TScore & Spine\\_TScore & Hip\\_TScore & Neck\\_TScore\\\\\n <dbl> & <dbl> & <dbl> & <dbl> & <dbl> & <dbl> & <dbl> & <dbl>\\\\\n\\hline\n\t 42 & 64 & 134.0 & 23.0 &  1.7 &  1.5 &  0.8 &  0.2\\\\\n\t 47 & 66 & 158.0 & 25.5 & -0.2 &  0.7 & -0.3 & -0.2\\\\\n\t 44 & 64 & 162.5 & 28.0 & -0.7 & -1.3 & -0.4 & -1.0\\\\\n\t 40 & 56 & 249.0 & 40.2 & -1.4 & -1.3 &  1.0 &  0.2\\\\\n\t 51 & 64 & 181.0 & 31.1 &  0.5 & -0.8 & -0.7 & -1.6\\\\\n\t 45 & 55 & 151.0 & 25.1 & -0.8 & -0.5 &  0.3 & -0.8\\\\\n\\end{tabular}\n",
            "text/markdown": "\nA tibble: 6 × 8\n\n| Age &lt;dbl&gt; | Heigth &lt;dbl&gt; | Weight &lt;dbl&gt; | BMI &lt;dbl&gt; | Forearm_TScore &lt;dbl&gt; | Spine_TScore &lt;dbl&gt; | Hip_TScore &lt;dbl&gt; | Neck_TScore &lt;dbl&gt; |\n|---|---|---|---|---|---|---|---|\n| 42 | 64 | 134.0 | 23.0 |  1.7 |  1.5 |  0.8 |  0.2 |\n| 47 | 66 | 158.0 | 25.5 | -0.2 |  0.7 | -0.3 | -0.2 |\n| 44 | 64 | 162.5 | 28.0 | -0.7 | -1.3 | -0.4 | -1.0 |\n| 40 | 56 | 249.0 | 40.2 | -1.4 | -1.3 |  1.0 |  0.2 |\n| 51 | 64 | 181.0 | 31.1 |  0.5 | -0.8 | -0.7 | -1.6 |\n| 45 | 55 | 151.0 | 25.1 | -0.8 | -0.5 |  0.3 | -0.8 |\n\n",
            "text/html": [
              "<table class=\"dataframe\">\n",
              "<caption>A tibble: 6 × 8</caption>\n",
              "<thead>\n",
              "\t<tr><th scope=col>Age</th><th scope=col>Heigth</th><th scope=col>Weight</th><th scope=col>BMI</th><th scope=col>Forearm_TScore</th><th scope=col>Spine_TScore</th><th scope=col>Hip_TScore</th><th scope=col>Neck_TScore</th></tr>\n",
              "\t<tr><th scope=col>&lt;dbl&gt;</th><th scope=col>&lt;dbl&gt;</th><th scope=col>&lt;dbl&gt;</th><th scope=col>&lt;dbl&gt;</th><th scope=col>&lt;dbl&gt;</th><th scope=col>&lt;dbl&gt;</th><th scope=col>&lt;dbl&gt;</th><th scope=col>&lt;dbl&gt;</th></tr>\n",
              "</thead>\n",
              "<tbody>\n",
              "\t<tr><td>42</td><td>64</td><td>134.0</td><td>23.0</td><td> 1.7</td><td> 1.5</td><td> 0.8</td><td> 0.2</td></tr>\n",
              "\t<tr><td>47</td><td>66</td><td>158.0</td><td>25.5</td><td>-0.2</td><td> 0.7</td><td>-0.3</td><td>-0.2</td></tr>\n",
              "\t<tr><td>44</td><td>64</td><td>162.5</td><td>28.0</td><td>-0.7</td><td>-1.3</td><td>-0.4</td><td>-1.0</td></tr>\n",
              "\t<tr><td>40</td><td>56</td><td>249.0</td><td>40.2</td><td>-1.4</td><td>-1.3</td><td> 1.0</td><td> 0.2</td></tr>\n",
              "\t<tr><td>51</td><td>64</td><td>181.0</td><td>31.1</td><td> 0.5</td><td>-0.8</td><td>-0.7</td><td>-1.6</td></tr>\n",
              "\t<tr><td>45</td><td>55</td><td>151.0</td><td>25.1</td><td>-0.8</td><td>-0.5</td><td> 0.3</td><td>-0.8</td></tr>\n",
              "</tbody>\n",
              "</table>\n"
            ]
          },
          "metadata": {}
        }
      ]
    },
    {
      "cell_type": "markdown",
      "metadata": {
        "id": "KijUSsLhHkKS"
      },
      "source": [
        ""
      ]
    },
    {
      "cell_type": "code",
      "metadata": {
        "colab": {
          "base_uri": "https://localhost:8080/",
          "height": 192
        },
        "id": "xHcQUSw4HkRH",
        "outputId": "ce33d39a-4ba7-4f5d-b08c-983d79451bcf"
      },
      "source": [
        "cor(TScores[,5:8])"
      ],
      "execution_count": null,
      "outputs": [
        {
          "output_type": "display_data",
          "data": {
            "text/plain": [
              "               Forearm_TScore Spine_TScore Hip_TScore Neck_TScore\n",
              "Forearm_TScore 1.0000000      0.6991213    0.4277183  0.5479154  \n",
              "Spine_TScore   0.6991213      1.0000000    0.5593446  0.6651856  \n",
              "Hip_TScore     0.4277183      0.5593446    1.0000000  0.8353573  \n",
              "Neck_TScore    0.5479154      0.6651856    0.8353573  1.0000000  "
            ],
            "text/latex": "A matrix: 4 × 4 of type dbl\n\\begin{tabular}{r|llll}\n  & Forearm\\_TScore & Spine\\_TScore & Hip\\_TScore & Neck\\_TScore\\\\\n\\hline\n\tForearm\\_TScore & 1.0000000 & 0.6991213 & 0.4277183 & 0.5479154\\\\\n\tSpine\\_TScore & 0.6991213 & 1.0000000 & 0.5593446 & 0.6651856\\\\\n\tHip\\_TScore & 0.4277183 & 0.5593446 & 1.0000000 & 0.8353573\\\\\n\tNeck\\_TScore & 0.5479154 & 0.6651856 & 0.8353573 & 1.0000000\\\\\n\\end{tabular}\n",
            "text/markdown": "\nA matrix: 4 × 4 of type dbl\n\n| <!--/--> | Forearm_TScore | Spine_TScore | Hip_TScore | Neck_TScore |\n|---|---|---|---|---|\n| Forearm_TScore | 1.0000000 | 0.6991213 | 0.4277183 | 0.5479154 |\n| Spine_TScore | 0.6991213 | 1.0000000 | 0.5593446 | 0.6651856 |\n| Hip_TScore | 0.4277183 | 0.5593446 | 1.0000000 | 0.8353573 |\n| Neck_TScore | 0.5479154 | 0.6651856 | 0.8353573 | 1.0000000 |\n\n",
            "text/html": [
              "<table class=\"dataframe\">\n",
              "<caption>A matrix: 4 × 4 of type dbl</caption>\n",
              "<thead>\n",
              "\t<tr><th></th><th scope=col>Forearm_TScore</th><th scope=col>Spine_TScore</th><th scope=col>Hip_TScore</th><th scope=col>Neck_TScore</th></tr>\n",
              "</thead>\n",
              "<tbody>\n",
              "\t<tr><th scope=row>Forearm_TScore</th><td>1.0000000</td><td>0.6991213</td><td>0.4277183</td><td>0.5479154</td></tr>\n",
              "\t<tr><th scope=row>Spine_TScore</th><td>0.6991213</td><td>1.0000000</td><td>0.5593446</td><td>0.6651856</td></tr>\n",
              "\t<tr><th scope=row>Hip_TScore</th><td>0.4277183</td><td>0.5593446</td><td>1.0000000</td><td>0.8353573</td></tr>\n",
              "\t<tr><th scope=row>Neck_TScore</th><td>0.5479154</td><td>0.6651856</td><td>0.8353573</td><td>1.0000000</td></tr>\n",
              "</tbody>\n",
              "</table>\n"
            ]
          },
          "metadata": {}
        }
      ]
    },
    {
      "cell_type": "markdown",
      "metadata": {
        "id": "PEt40bZiHwRT"
      },
      "source": [
        ""
      ]
    },
    {
      "cell_type": "code",
      "metadata": {
        "colab": {
          "base_uri": "https://localhost:8080/",
          "height": 437
        },
        "id": "uZDcoPbNHwX9",
        "outputId": "6853fc36-f9f1-4dcb-9d0b-5fde120d15fa"
      },
      "source": [
        "pairs(TScores[,5:8])"
      ],
      "execution_count": null,
      "outputs": [
        {
          "output_type": "display_data",
          "data": {
            "image/png": "[encoded data removed]",
            "text/plain": [
              "plot without title"
            ]
          },
          "metadata": {
            "image/png": {
              "width": 420,
              "height": 420
            }
          }
        }
      ]
    },
    {
      "cell_type": "markdown",
      "metadata": {
        "id": "Ts2XUgIS5Jhs"
      },
      "source": [
        "### Scatterplot of Forearm T-Scores vs Spine T-Scores"
      ]
    },
    {
      "cell_type": "code",
      "metadata": {
        "colab": {
          "base_uri": "https://localhost:8080/",
          "height": 437
        },
        "id": "lSDdST_g5JoV",
        "outputId": "0a1b0179-56fc-4ae9-d724-f7ed82b84e59"
      },
      "source": [
        "ggplot(data=TScores, aes(x=Spine_TScore, y=Forearm_TScore)) +\n",
        "   geom_point() +\n",
        "   geom_smooth(method='lm', formula = y~ x, se = FALSE) +\n",
        "   geom_abline(intercept=0, slope=1, color='darkgreen') + \n",
        "   labs(title=\"Comparing Forearm T-Scores to Spine T-Scores\",\n",
        "        x =\"Spine T-Scores\", y = \"Forearm T-Scores\") + \n",
        "   scale_x_continuous(limits=c(-3, 3)) +\n",
        "   scale_y_continuous(limits=c(-3, 3)) "
      ],
      "execution_count": null,
      "outputs": [
        {
          "output_type": "display_data",
          "data": {
            "image/png": "[encoded data removed]",
            "text/plain": [
              "plot without title"
            ]
          },
          "metadata": {
            "image/png": {
              "width": 420,
              "height": 420
            }
          }
        }
      ]
    },
    {
      "cell_type": "markdown",
      "metadata": {
        "id": "RQuzx5jWDDZv"
      },
      "source": [
        "### The Two Competing Models"
      ]
    },
    {
      "cell_type": "markdown",
      "metadata": {
        "id": "sH12sGM9DIru"
      },
      "source": [
        "$$\\begin{array}{rcl}\n",
        "[\\mbox{Restricted Model}]\\, H_{O} & : &  \\,0 \\,\\,+ \\,1 \\,\\,* Spine \\\\\n",
        "[\\mbox{Unrestricted Model}]\\, H_{A} & : & \\beta_{0} + \\beta_{1} * Spine\\end{array}\n",
        "$$"
      ]
    },
    {
      "cell_type": "markdown",
      "metadata": {
        "id": "dI_l_VwY5mf1"
      },
      "source": [
        "### Fitting the unrestricted model: $Forearm = \\beta_{0} + \\beta_{1}*Spine$"
      ]
    },
    {
      "cell_type": "code",
      "metadata": {
        "colab": {
          "base_uri": "https://localhost:8080/",
          "height": 340
        },
        "id": "AMoNxF8h5mnV",
        "outputId": "0ebdfaa8-7903-438f-b53f-8180dc88bca8"
      },
      "source": [
        "#Fitting a model of Forarm ~ Spine\n",
        "Model_Forearm_vs_Spine <- lm(Forearm_TScore ~ Spine_TScore, data=TScores)\n",
        "summary(Model_Forearm_vs_Spine)"
      ],
      "execution_count": null,
      "outputs": [
        {
          "output_type": "display_data",
          "data": {
            "text/plain": [
              "\n",
              "Call:\n",
              "lm(formula = Forearm_TScore ~ Spine_TScore, data = TScores)\n",
              "\n",
              "Residuals:\n",
              "     Min       1Q   Median       3Q      Max \n",
              "-1.37740 -0.35758  0.03272  0.50220  1.16189 \n",
              "\n",
              "Coefficients:\n",
              "             Estimate Std. Error t value Pr(>|t|)    \n",
              "(Intercept)    0.2975     0.1018   2.923  0.00581 ** \n",
              "Spine_TScore   0.6003     0.0996   6.027 5.22e-07 ***\n",
              "---\n",
              "Signif. codes:  0 ‘***’ 0.001 ‘**’ 0.01 ‘*’ 0.05 ‘.’ 0.1 ‘ ’ 1\n",
              "\n",
              "Residual standard error: 0.6405 on 38 degrees of freedom\n",
              "Multiple R-squared:  0.4888,\tAdjusted R-squared:  0.4753 \n",
              "F-statistic: 36.33 on 1 and 38 DF,  p-value: 5.219e-07\n"
            ]
          },
          "metadata": {}
        }
      ]
    },
    {
      "cell_type": "markdown",
      "metadata": {
        "id": "Awj03QYp51kt"
      },
      "source": [
        "Getting the $SSE$ and $df_{error}$ for this model..."
      ]
    },
    {
      "cell_type": "code",
      "metadata": {
        "colab": {
          "base_uri": "https://localhost:8080/",
          "height": 160
        },
        "id": "viy5RwHT8-y8",
        "outputId": "6cd082a2-872f-4163-8f00-8c3bc532412a"
      },
      "source": [
        "anova(Model_Forearm_vs_Spine)"
      ],
      "execution_count": null,
      "outputs": [
        {
          "output_type": "display_data",
          "data": {
            "text/plain": [
              "             Df Sum Sq   Mean Sq    F value  Pr(>F)    \n",
              "Spine_TScore  1 14.90640 14.9064047 36.33063 5.2193e-07\n",
              "Residuals    38 15.59135  0.4102986       NA         NA"
            ],
            "text/latex": "A anova: 2 × 5\n\\begin{tabular}{r|lllll}\n  & Df & Sum Sq & Mean Sq & F value & Pr(>F)\\\\\n  & <int> & <dbl> & <dbl> & <dbl> & <dbl>\\\\\n\\hline\n\tSpine\\_TScore &  1 & 14.90640 & 14.9064047 & 36.33063 & 5.2193e-07\\\\\n\tResiduals & 38 & 15.59135 &  0.4102986 &       NA &         NA\\\\\n\\end{tabular}\n",
            "text/markdown": "\nA anova: 2 × 5\n\n| <!--/--> | Df &lt;int&gt; | Sum Sq &lt;dbl&gt; | Mean Sq &lt;dbl&gt; | F value &lt;dbl&gt; | Pr(&gt;F) &lt;dbl&gt; |\n|---|---|---|---|---|---|\n| Spine_TScore |  1 | 14.90640 | 14.9064047 | 36.33063 | 5.2193e-07 |\n| Residuals | 38 | 15.59135 |  0.4102986 |       NA |         NA |\n\n",
            "text/html": [
              "<table class=\"dataframe\">\n",
              "<caption>A anova: 2 × 5</caption>\n",
              "<thead>\n",
              "\t<tr><th></th><th scope=col>Df</th><th scope=col>Sum Sq</th><th scope=col>Mean Sq</th><th scope=col>F value</th><th scope=col>Pr(&gt;F)</th></tr>\n",
              "\t<tr><th></th><th scope=col>&lt;int&gt;</th><th scope=col>&lt;dbl&gt;</th><th scope=col>&lt;dbl&gt;</th><th scope=col>&lt;dbl&gt;</th><th scope=col>&lt;dbl&gt;</th></tr>\n",
              "</thead>\n",
              "<tbody>\n",
              "\t<tr><th scope=row>Spine_TScore</th><td> 1</td><td>14.90640</td><td>14.9064047</td><td>36.33063</td><td>5.2193e-07</td></tr>\n",
              "\t<tr><th scope=row>Residuals</th><td>38</td><td>15.59135</td><td> 0.4102986</td><td>      NA</td><td>        NA</td></tr>\n",
              "</tbody>\n",
              "</table>\n"
            ]
          },
          "metadata": {}
        }
      ]
    },
    {
      "cell_type": "markdown",
      "metadata": {
        "id": "0l72vlBrATBe"
      },
      "source": [
        "\n",
        "\n",
        "*  $SSE = 15.59$\n",
        "*  $df_{error} = 38$\n",
        "\n"
      ]
    },
    {
      "cell_type": "markdown",
      "metadata": {
        "id": "v1Dt-iEe9CGs"
      },
      "source": [
        "### Fitting the restricted model: $Forearm = 0 + 1 * Spine$"
      ]
    },
    {
      "cell_type": "code",
      "metadata": {
        "colab": {
          "base_uri": "https://localhost:8080/",
          "height": 437
        },
        "id": "CNl8DuUzAorY",
        "outputId": "17de678c-441a-4e5a-cc27-1e914bb72ae9"
      },
      "source": [
        "ggplot(data=TScores, aes(x=Spine_TScore, y=Forearm_TScore)) +\n",
        "   geom_point() +\n",
        "   geom_smooth(method='lm', formula = y~ x, se = FALSE) +\n",
        "   geom_abline(intercept=0, slope=1, color='darkgreen') + \n",
        "   labs(title=\"Comparing Forearm T-Scores to Spine T-Scores\",\n",
        "        x =\"Spine T-Scores\", y = \"Forearm T-Scores\") + \n",
        "   scale_x_continuous(limits=c(-3, 3)) +\n",
        "   scale_y_continuous(limits=c(-3, 3)) "
      ],
      "execution_count": null,
      "outputs": [
        {
          "output_type": "display_data",
          "data": {
            "image/png": "[encoded data removed]",
            "text/plain": [
              "plot without title"
            ]
          },
          "metadata": {
            "image/png": {
              "width": 420,
              "height": 420
            }
          }
        }
      ]
    },
    {
      "cell_type": "markdown",
      "metadata": {
        "id": "1b1EOdSgA8gI"
      },
      "source": [
        "This \"model\" cannot be fit using the lm() function because both of the parameters are specified exactly for this \"model\".\n",
        "\n",
        "Recall, the predicted values and residuals from a \"model\" can be computed as follows.\n",
        "\n",
        "$\\mbox{Predicted Values} = \\bf{X} * \\bf{\\beta}$\n",
        "\n",
        "where $\n",
        "\\beta = \\begin{bmatrix}\n",
        "          0 \\\\\n",
        "          1 \\end{bmatrix}\n",
        "$\n",
        "\n",
        "and\n",
        "\n",
        "$\\mbox{Residuals} = (Actual - Predicted)$\n",
        "\n"
      ]
    },
    {
      "cell_type": "code",
      "metadata": {
        "colab": {
          "base_uri": "https://localhost:8080/"
        },
        "id": "DiTDJQ2D9COc",
        "outputId": "dda92f46-783e-4229-d8e6-b96d7319ff14"
      },
      "source": [
        "#Getting the columns of the X matrix\n",
        "# here there are 40 observations, so there are 40 1s in the first column\n",
        "x0 <- rep(1,40)\n",
        "x1 <- TScores$Spine_TScore\n",
        "\n",
        "#Putting the two columns together to form a matrix\n",
        "X <- cbind(x0,x1)\n",
        "\n",
        "#The Betahat vector is set to Beta_0 = 0 and Beta_1 = 1\n",
        "BetaHat <- c(0,1)\n",
        "\n",
        "#Getting the predicted values and residuals\n",
        "ForearmPredicted <- X %*% BetaHat\n",
        "ForearmResiduals <- TScores$Forearm_TScore - ForearmPredicted\n",
        "\n",
        "#Finally, computing the sum of squared residuals\n",
        "SSE <- t(ForearmResiduals) %*% ForearmResiduals\n",
        "print(SSE)"
      ],
      "execution_count": null,
      "outputs": [
        {
          "output_type": "stream",
          "name": "stdout",
          "text": [
            "      [,1]\n",
            "[1,] 24.85\n"
          ]
        }
      ]
    },
    {
      "cell_type": "markdown",
      "metadata": {
        "id": "EF1Ia7sACYuK"
      },
      "source": [
        "\n",
        "\n",
        "*   $SSE = 24.85$\n",
        "*   The $df_{error} = (40 - \\mbox{# Parameters that are estimated} ) = (40 - 0) = 40$ \n",
        "\n"
      ]
    },
    {
      "cell_type": "markdown",
      "metadata": {
        "id": "-VhcJIwH-H_j"
      },
      "source": [
        "The computation for the $F\\, -\\, Ratio$ is as follows:"
      ]
    },
    {
      "cell_type": "code",
      "metadata": {
        "colab": {
          "base_uri": "https://localhost:8080/",
          "height": 34
        },
        "id": "7Es23E-u-IGp",
        "outputId": "ac4cfd46-f5d5-47d5-ef5b-ffdb9ceaddf3"
      },
      "source": [
        "( (24.85-15.59) / (40-38) ) / (15.59/38)"
      ],
      "execution_count": null,
      "outputs": [
        {
          "output_type": "display_data",
          "data": {
            "text/plain": [
              "[1] 11.28544"
            ],
            "text/latex": "11.2854393842207",
            "text/markdown": "11.2854393842207",
            "text/html": [
              "11.2854393842207"
            ]
          },
          "metadata": {}
        }
      ]
    },
    {
      "cell_type": "markdown",
      "metadata": {
        "id": "TIdNUk8--aa_"
      },
      "source": [
        "The corresponding p-value is provided here."
      ]
    },
    {
      "cell_type": "code",
      "metadata": {
        "colab": {
          "base_uri": "https://localhost:8080/",
          "height": 34
        },
        "id": "qqlW1Tjr-ahp",
        "outputId": "7baff40a-c9e7-42ce-ec03-d0aeed16319c"
      },
      "source": [
        "pf(q=11.285,df1=2, df2=38, lower.tail=FALSE)"
      ],
      "execution_count": null,
      "outputs": [
        {
          "output_type": "display_data",
          "data": {
            "text/plain": [
              "[1] 0.0001422311"
            ],
            "text/latex": "0.000142231056533765",
            "text/markdown": "0.000142231056533765",
            "text/html": [
              "0.000142231056533765"
            ]
          },
          "metadata": {}
        }
      ]
    },
    {
      "cell_type": "markdown",
      "metadata": {
        "id": "c9D4zwCPFGMw"
      },
      "source": [
        "This $p-value$ is less than $\\alpha = 0.05$, therefore one can $reject \\, H_O$;  Thus, one must conclude that the estimated regression line is statistically different than the $y=x$ line, i.e. the line of agreement."
      ]
    },
    {
      "cell_type": "markdown",
      "metadata": {
        "id": "A2EPcoYlFkwf"
      },
      "source": [
        "Practically speaking, the Formarm T-Score should not be used as a substitute for the Spine T-Score."
      ]
    },
    {
      "cell_type": "markdown",
      "metadata": {
        "id": "pfXn2NPlPIYW"
      },
      "source": [
        "\n",
        "\n",
        "---\n",
        "\n",
        "\n",
        "\n",
        "---\n",
        "\n"
      ]
    },
    {
      "cell_type": "markdown",
      "metadata": {
        "id": "9kkg1lL30Rfw"
      },
      "source": [
        "End of Document\n",
        "\n"
      ]
    }
  ]
}