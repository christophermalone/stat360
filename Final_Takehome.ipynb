{
  "nbformat": 4,
  "nbformat_minor": 0,
  "metadata": {
    "colab": {
      "name": "Final_Takehome.ipynb",
      "provenance": [],
      "collapsed_sections": [],
      "authorship_tag": "ABX9TyNFsa9fwiIYUHtt5y2KDvVh",
      "include_colab_link": true
    },
    "kernelspec": {
      "display_name": "R",
      "name": "ir"
    }
  },
  "cells": [
    {
      "cell_type": "markdown",
      "metadata": {
        "id": "view-in-github",
        "colab_type": "text"
      },
      "source": [
        "<a href=\"https://colab.research.google.com/github/christophermalone/stat360/blob/main/Final_Takehome.ipynb\" target=\"_parent\"><img src=\"https://colab.research.google.com/assets/colab-badge.svg\" alt=\"Open In Colab\"/></a>"
      ]
    },
    {
      "cell_type": "markdown",
      "metadata": {
        "id": "KhClO9b02SXA"
      },
      "source": [
        "# STAT 360: Final Takhome Fall 2021"
      ]
    },
    {
      "cell_type": "markdown",
      "metadata": {
        "id": "FoT1NFX3DncH"
      },
      "source": [
        "## Load Tidyverse Package"
      ]
    },
    {
      "cell_type": "code",
      "metadata": {
        "id": "LgaibuX_DtWK",
        "colab": {
          "base_uri": "https://localhost:8080/"
        },
        "outputId": "21a9e70f-3c3b-4a06-9ac5-b5a91eb312a0"
      },
      "source": [
        "#load tidyverse package\n",
        "library(tidyverse)"
      ],
      "execution_count": 1,
      "outputs": [
        {
          "output_type": "stream",
          "name": "stderr",
          "text": [
            "Warning message in system(\"timedatectl\", intern = TRUE):\n",
            "“running command 'timedatectl' had status 1”\n",
            "── \u001b[1mAttaching packages\u001b[22m ─────────────────────────────────────── tidyverse 1.3.1 ──\n",
            "\n",
            "\u001b[32m✔\u001b[39m \u001b[34mggplot2\u001b[39m 3.3.5     \u001b[32m✔\u001b[39m \u001b[34mpurrr  \u001b[39m 0.3.4\n",
            "\u001b[32m✔\u001b[39m \u001b[34mtibble \u001b[39m 3.1.6     \u001b[32m✔\u001b[39m \u001b[34mdplyr  \u001b[39m 1.0.7\n",
            "\u001b[32m✔\u001b[39m \u001b[34mtidyr  \u001b[39m 1.1.4     \u001b[32m✔\u001b[39m \u001b[34mstringr\u001b[39m 1.4.0\n",
            "\u001b[32m✔\u001b[39m \u001b[34mreadr  \u001b[39m 2.1.0     \u001b[32m✔\u001b[39m \u001b[34mforcats\u001b[39m 0.5.1\n",
            "\n",
            "── \u001b[1mConflicts\u001b[22m ────────────────────────────────────────── tidyverse_conflicts() ──\n",
            "\u001b[31m✖\u001b[39m \u001b[34mdplyr\u001b[39m::\u001b[32mfilter()\u001b[39m masks \u001b[34mstats\u001b[39m::filter()\n",
            "\u001b[31m✖\u001b[39m \u001b[34mdplyr\u001b[39m::\u001b[32mlag()\u001b[39m    masks \u001b[34mstats\u001b[39m::lag()\n",
            "\n"
          ]
        }
      ]
    },
    {
      "cell_type": "markdown",
      "metadata": {
        "id": "DPqIPen9D5T3"
      },
      "source": [
        "## Data: World Happiness "
      ]
    },
    {
      "cell_type": "code",
      "metadata": {
        "id": "e07lUbQ1F1cV",
        "colab": {
          "base_uri": "https://localhost:8080/"
        },
        "outputId": "0e8c7b65-aa25-4987-8af1-2d04d63e21a5"
      },
      "source": [
        "# Reading data in using read_csv \n",
        "WorldHappiness <- read_csv(\"http://www.StatsClass.org/stat360/Datasets/WorldHappinessReport.csv\")"
      ],
      "execution_count": 3,
      "outputs": [
        {
          "output_type": "stream",
          "name": "stderr",
          "text": [
            "\u001b[1mRows: \u001b[22m\u001b[34m1949\u001b[39m \u001b[1mColumns: \u001b[22m\u001b[34m11\u001b[39m\n",
            "\n",
            "\u001b[36m──\u001b[39m \u001b[1mColumn specification\u001b[22m \u001b[36m────────────────────────────────────────────────────────\u001b[39m\n",
            "\u001b[1mDelimiter:\u001b[22m \",\"\n",
            "\u001b[31mchr\u001b[39m (3): CountryName, WorldRegion, Year\n",
            "\u001b[32mdbl\u001b[39m (8): LifeLadder, GDPperCapita, LnGDPperCapita, SocialSupport, HealthyLif...\n",
            "\n",
            "\n",
            "\u001b[36mℹ\u001b[39m Use \u001b[30m\u001b[47m\u001b[30m\u001b[47m`spec()`\u001b[47m\u001b[30m\u001b[49m\u001b[39m to retrieve the full column specification for this data.\n",
            "\u001b[36mℹ\u001b[39m Specify the column types or set \u001b[30m\u001b[47m\u001b[30m\u001b[47m`show_col_types = FALSE`\u001b[47m\u001b[30m\u001b[49m\u001b[39m to quiet this message.\n",
            "\n"
          ]
        }
      ]
    },
    {
      "cell_type": "code",
      "metadata": {
        "id": "HYKWH2i0EN6s",
        "colab": {
          "base_uri": "https://localhost:8080/",
          "height": 410
        },
        "outputId": "5a53b000-572c-43b5-a640-dd666fa38a42"
      },
      "source": [
        "head(WorldHappiness)"
      ],
      "execution_count": 4,
      "outputs": [
        {
          "output_type": "display_data",
          "data": {
            "text/plain": [
              "  CountryName WorldRegion    Year      LifeLadder GDPperCapita LnGDPperCapita\n",
              "1 Afghanistan Asia & Pacific Year_2008 3.724      1588         7.370         \n",
              "2 Afghanistan Asia & Pacific Year_2009 4.402      1882         7.540         \n",
              "3 Afghanistan Asia & Pacific Year_2010 4.758      2094         7.647         \n",
              "4 Afghanistan Asia & Pacific Year_2011 3.832      2039         7.620         \n",
              "5 Afghanistan Asia & Pacific Year_2012 3.783      2219         7.705         \n",
              "6 Afghanistan Asia & Pacific Year_2013 3.572      2264         7.725         \n",
              "  SocialSupport HealthyLifeExpectancyatBirth FreedomtoMakeLifeChoices\n",
              "1 0.451         50.80                        0.718                   \n",
              "2 0.552         51.20                        0.679                   \n",
              "3 0.539         51.60                        0.600                   \n",
              "4 0.521         51.92                        0.496                   \n",
              "5 0.521         52.24                        0.531                   \n",
              "6 0.484         52.56                        0.578                   \n",
              "  Generosity PerceptionsofCorruption\n",
              "1 0.168      0.882                  \n",
              "2 0.190      0.850                  \n",
              "3 0.121      0.707                  \n",
              "4 0.162      0.731                  \n",
              "5 0.236      0.776                  \n",
              "6 0.061      0.823                  "
            ],
            "text/latex": "A tibble: 6 × 11\n\\begin{tabular}{lllllllllll}\n CountryName & WorldRegion & Year & LifeLadder & GDPperCapita & LnGDPperCapita & SocialSupport & HealthyLifeExpectancyatBirth & FreedomtoMakeLifeChoices & Generosity & PerceptionsofCorruption\\\\\n <chr> & <chr> & <chr> & <dbl> & <dbl> & <dbl> & <dbl> & <dbl> & <dbl> & <dbl> & <dbl>\\\\\n\\hline\n\t Afghanistan & Asia \\& Pacific & Year\\_2008 & 3.724 & 1588 & 7.370 & 0.451 & 50.80 & 0.718 & 0.168 & 0.882\\\\\n\t Afghanistan & Asia \\& Pacific & Year\\_2009 & 4.402 & 1882 & 7.540 & 0.552 & 51.20 & 0.679 & 0.190 & 0.850\\\\\n\t Afghanistan & Asia \\& Pacific & Year\\_2010 & 4.758 & 2094 & 7.647 & 0.539 & 51.60 & 0.600 & 0.121 & 0.707\\\\\n\t Afghanistan & Asia \\& Pacific & Year\\_2011 & 3.832 & 2039 & 7.620 & 0.521 & 51.92 & 0.496 & 0.162 & 0.731\\\\\n\t Afghanistan & Asia \\& Pacific & Year\\_2012 & 3.783 & 2219 & 7.705 & 0.521 & 52.24 & 0.531 & 0.236 & 0.776\\\\\n\t Afghanistan & Asia \\& Pacific & Year\\_2013 & 3.572 & 2264 & 7.725 & 0.484 & 52.56 & 0.578 & 0.061 & 0.823\\\\\n\\end{tabular}\n",
            "text/markdown": "\nA tibble: 6 × 11\n\n| CountryName &lt;chr&gt; | WorldRegion &lt;chr&gt; | Year &lt;chr&gt; | LifeLadder &lt;dbl&gt; | GDPperCapita &lt;dbl&gt; | LnGDPperCapita &lt;dbl&gt; | SocialSupport &lt;dbl&gt; | HealthyLifeExpectancyatBirth &lt;dbl&gt; | FreedomtoMakeLifeChoices &lt;dbl&gt; | Generosity &lt;dbl&gt; | PerceptionsofCorruption &lt;dbl&gt; |\n|---|---|---|---|---|---|---|---|---|---|---|\n| Afghanistan | Asia &amp; Pacific | Year_2008 | 3.724 | 1588 | 7.370 | 0.451 | 50.80 | 0.718 | 0.168 | 0.882 |\n| Afghanistan | Asia &amp; Pacific | Year_2009 | 4.402 | 1882 | 7.540 | 0.552 | 51.20 | 0.679 | 0.190 | 0.850 |\n| Afghanistan | Asia &amp; Pacific | Year_2010 | 4.758 | 2094 | 7.647 | 0.539 | 51.60 | 0.600 | 0.121 | 0.707 |\n| Afghanistan | Asia &amp; Pacific | Year_2011 | 3.832 | 2039 | 7.620 | 0.521 | 51.92 | 0.496 | 0.162 | 0.731 |\n| Afghanistan | Asia &amp; Pacific | Year_2012 | 3.783 | 2219 | 7.705 | 0.521 | 52.24 | 0.531 | 0.236 | 0.776 |\n| Afghanistan | Asia &amp; Pacific | Year_2013 | 3.572 | 2264 | 7.725 | 0.484 | 52.56 | 0.578 | 0.061 | 0.823 |\n\n",
            "text/html": [
              "<table class=\"dataframe\">\n",
              "<caption>A tibble: 6 × 11</caption>\n",
              "<thead>\n",
              "\t<tr><th scope=col>CountryName</th><th scope=col>WorldRegion</th><th scope=col>Year</th><th scope=col>LifeLadder</th><th scope=col>GDPperCapita</th><th scope=col>LnGDPperCapita</th><th scope=col>SocialSupport</th><th scope=col>HealthyLifeExpectancyatBirth</th><th scope=col>FreedomtoMakeLifeChoices</th><th scope=col>Generosity</th><th scope=col>PerceptionsofCorruption</th></tr>\n",
              "\t<tr><th scope=col>&lt;chr&gt;</th><th scope=col>&lt;chr&gt;</th><th scope=col>&lt;chr&gt;</th><th scope=col>&lt;dbl&gt;</th><th scope=col>&lt;dbl&gt;</th><th scope=col>&lt;dbl&gt;</th><th scope=col>&lt;dbl&gt;</th><th scope=col>&lt;dbl&gt;</th><th scope=col>&lt;dbl&gt;</th><th scope=col>&lt;dbl&gt;</th><th scope=col>&lt;dbl&gt;</th></tr>\n",
              "</thead>\n",
              "<tbody>\n",
              "\t<tr><td>Afghanistan</td><td>Asia &amp; Pacific</td><td>Year_2008</td><td>3.724</td><td>1588</td><td>7.370</td><td>0.451</td><td>50.80</td><td>0.718</td><td>0.168</td><td>0.882</td></tr>\n",
              "\t<tr><td>Afghanistan</td><td>Asia &amp; Pacific</td><td>Year_2009</td><td>4.402</td><td>1882</td><td>7.540</td><td>0.552</td><td>51.20</td><td>0.679</td><td>0.190</td><td>0.850</td></tr>\n",
              "\t<tr><td>Afghanistan</td><td>Asia &amp; Pacific</td><td>Year_2010</td><td>4.758</td><td>2094</td><td>7.647</td><td>0.539</td><td>51.60</td><td>0.600</td><td>0.121</td><td>0.707</td></tr>\n",
              "\t<tr><td>Afghanistan</td><td>Asia &amp; Pacific</td><td>Year_2011</td><td>3.832</td><td>2039</td><td>7.620</td><td>0.521</td><td>51.92</td><td>0.496</td><td>0.162</td><td>0.731</td></tr>\n",
              "\t<tr><td>Afghanistan</td><td>Asia &amp; Pacific</td><td>Year_2012</td><td>3.783</td><td>2219</td><td>7.705</td><td>0.521</td><td>52.24</td><td>0.531</td><td>0.236</td><td>0.776</td></tr>\n",
              "\t<tr><td>Afghanistan</td><td>Asia &amp; Pacific</td><td>Year_2013</td><td>3.572</td><td>2264</td><td>7.725</td><td>0.484</td><td>52.56</td><td>0.578</td><td>0.061</td><td>0.823</td></tr>\n",
              "</tbody>\n",
              "</table>\n"
            ]
          },
          "metadata": {}
        }
      ]
    },
    {
      "cell_type": "markdown",
      "metadata": {
        "id": "CfgjQJvx1UrA"
      },
      "source": [
        "Work space for your final..."
      ]
    },
    {
      "cell_type": "markdown",
      "metadata": {
        "id": "pTzbQGvlJxy8"
      },
      "source": [
        "\n",
        "\n",
        "---\n",
        "\n",
        "\n",
        "\n",
        "---\n",
        "End of Document\n",
        "\n"
      ]
    }
  ]
}