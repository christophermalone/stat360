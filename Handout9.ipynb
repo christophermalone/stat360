{
  "nbformat": 4,
  "nbformat_minor": 0,
  "metadata": {
    "colab": {
      "provenance": [],
      "collapsed_sections": [],
      "authorship_tag": "ABX9TyM7L1Tpnin35eVD/xJ4MkeG",
      "include_colab_link": true
    },
    "kernelspec": {
      "display_name": "R",
      "name": "ir"
    }
  },
  "cells": [
    {
      "cell_type": "markdown",
      "metadata": {
        "id": "view-in-github",
        "colab_type": "text"
      },
      "source": [
        "<a href=\"https://colab.research.google.com/github/christophermalone/stat360/blob/main/Handout9.ipynb\" target=\"_parent\"><img src=\"https://colab.research.google.com/assets/colab-badge.svg\" alt=\"Open In Colab\"/></a>"
      ]
    },
    {
      "cell_type": "markdown",
      "metadata": {
        "id": "KhClO9b02SXA"
      },
      "source": [
        "# Handout #9: Matrix Representation of SLR Model"
      ]
    },
    {
      "cell_type": "markdown",
      "metadata": {
        "id": "AXDYLbzK2o7e"
      },
      "source": [
        "<table width='100%' ><tr><td bgcolor='green'></td></tr></table>\n",
        "\n",
        "## Example 9.1: Nutrition Data\n",
        "\n",
        "Consider the following data collected on a variety of menu items from various fast-food restaurants.  \n",
        "<table>\n",
        "  <tr>\n",
        "    <td width='50%'>\n",
        "      <ul>\n",
        "          <li>Restaurant: Name of restaurant</li>\n",
        "          <li>Item: Menu item</li>\n",
        "          <li>Type: Type of menu item, e.g. sub, pizza, wrap, sandwich, etc</li>\n",
        "          <li>Breakfast: Is this primarily a breakfast item</li>\n",
        "          <li>ServingSize: Serving Size</li>\n",
        "          <li>Calories: Calories per serving</li>\n",
        "          <li>TotalFat: Total fat per serving</li>\n",
        "          <li>SaturatedFat: Saturated fat per serving</li>\n",
        "          <li>Cholesterol: Cholesterol per serving</li>\n",
        "          <li>Sodium: Sodium per serving</li>\n",
        "          <li>TotalCarbs: Total carbs per serving</li>\n",
        "          <li>Fiber: Fiber per serving</li>\n",
        "          <li>Sugar: Sugar per serving</li>\n",
        "          <li>Protein: Protein per serving</li>\n",
        "        </ul>\n",
        "    </td>\n",
        "  <td width='50%'>\n",
        "<p align='center'><img src=\"https://drive.google.com/uc?export=view&id=1IyBujqqB1cse-0mboxvbwEEftc-bINB6\" width='50%' height='50%'></img></p>\n",
        "  </td>\n",
        "</tr>\n",
        "</table>\n",
        "\n",
        "Data Folder: [OneDrive](https://mnscu-my.sharepoint.com/:f:/g/personal/aq7839yd_minnstate_edu/EmOQfrwxzzRBqq8PH_8qTmMBy-1qKgM11Hb8vzjs025EEA?e=wyShYs)\n",
        "\n",
        "\n",
        "\n",
        "<table width='100%' ><tr><td bgcolor='green'></td></tr></table>\n",
        "\n"
      ]
    },
    {
      "cell_type": "markdown",
      "metadata": {
        "id": "DOJij6nsGGMd"
      },
      "source": [
        "## Load Data into R"
      ]
    },
    {
      "cell_type": "markdown",
      "metadata": {
        "id": "0HM7Ya8XGGMx"
      },
      "source": [
        "First, load the tidyverse package."
      ]
    },
    {
      "cell_type": "code",
      "metadata": {
        "id": "AvBIqlKCGGMy"
      },
      "source": [
        "#load the tidyverse package\n",
        "library(tidyverse)"
      ],
      "execution_count": null,
      "outputs": []
    },
    {
      "cell_type": "markdown",
      "source": [
        "Next, load the Nutrition dataset into R using read_csv()."
      ],
      "metadata": {
        "id": "UUP7B8XWtYFx"
      }
    },
    {
      "cell_type": "code",
      "metadata": {
        "id": "9uE63ExDGGMz"
      },
      "source": [
        "# Reading data in using read_csv \n",
        "Nutrition <- read_csv(\"http://www.StatsClass.org/stat360/Datasets/Nutrition.csv\")"
      ],
      "execution_count": null,
      "outputs": []
    },
    {
      "cell_type": "markdown",
      "source": [
        "Next, taking a look at the Nutrition dataset."
      ],
      "metadata": {
        "id": "w2i9vEfLtokI"
      }
    },
    {
      "cell_type": "code",
      "metadata": {
        "id": "qD671LkxGGM0"
      },
      "source": [
        "#View the first few rows of data\n",
        "head(Nutrition)"
      ],
      "execution_count": null,
      "outputs": []
    },
    {
      "cell_type": "markdown",
      "metadata": {
        "id": "3bdvJZGhGGM0"
      },
      "source": [
        "## SLR: Model Setup"
      ]
    },
    {
      "cell_type": "markdown",
      "metadata": {
        "id": "XnNPsUWUGGM0"
      },
      "source": [
        "Consider *only* the data from Wendy's along with the following setup for the simple linear regression model.\n",
        "\n",
        "<ul>\n",
        "  <li><strong>Restaurant</strong>: Wendys</li>\n",
        "  <li><strong>Response Variable</strong>: SaturatedFat</li>\n",
        "  <li><strong>Independent / Predictor Variable</strong>: Calories</li>\n",
        "  <li><i>Assume</i> the following structure for the mean and variance functions</li>\n",
        "  </ul>"
      ]
    },
    {
      "cell_type": "markdown",
      "metadata": {
        "id": "TlcXW3eDGGM1"
      },
      "source": [
        "<ul><ul>\n",
        "  <li>$E(SaturatedFat | Calories, Restaurant = Wendys) = \\beta_{0} + \\beta_{1} * Calories$</li>\n",
        "  <li>$Var(SaturatedFat | Calories, Restaurant = Wendys) = \\sigma^{2}$</li>\n",
        "</ul></ul>"
      ]
    },
    {
      "cell_type": "markdown",
      "source": [
        "The following snipit of code can be used to filter() the data down to just $Restaurant = Wendys$"
      ],
      "metadata": {
        "id": "5tlsXGBMt1rD"
      }
    },
    {
      "cell_type": "code",
      "source": [
        "(Nutrition\n",
        "  %>% filter(Restaurant == \"Wendys\")\n",
        "  %>% select(Restaurant, Item, SaturatedFat, Calories)\n",
        ") -> Wendys"
      ],
      "metadata": {
        "id": "duqigaDNt2HS"
      },
      "execution_count": null,
      "outputs": []
    },
    {
      "cell_type": "markdown",
      "source": [
        "Before preceding, check the data.frame to ensure that the filtering/selecting was done correctly."
      ],
      "metadata": {
        "id": "kWdth3ggt-29"
      }
    },
    {
      "cell_type": "code",
      "source": [
        "#Taking a look at the Wendys data.frame\n",
        "Wendys"
      ],
      "metadata": {
        "id": "9ljSNut5vSHI"
      },
      "execution_count": null,
      "outputs": []
    },
    {
      "cell_type": "markdown",
      "metadata": {
        "id": "Ww8jS6fyGGM2"
      },
      "source": [
        "## SLR - Analysis"
      ]
    },
    {
      "cell_type": "markdown",
      "source": [
        "First, getting a scatterplot with the simple linear regression line."
      ],
      "metadata": {
        "id": "o6VI720dwKXA"
      }
    },
    {
      "cell_type": "code",
      "metadata": {
        "id": "tLg56KSwGGM3",
        "colab": {
          "base_uri": "https://localhost:8080/",
          "height": 437
        },
        "outputId": "3c8b4cc9-f384-4c5c-86be-4b79d6011b2d"
      },
      "source": [
        "# Scatterplot with simple linear regression line\n",
        "ggplot(data=Wendys, aes(x=Calories,y=SaturatedFat)) + \n",
        "  geom_point() +   \n",
        "  geom_smooth(method='lm', formula = y ~ x, se=FALSE) +\n",
        "  theme_classic()"
      ],
      "execution_count": null,
      "outputs": [
        {
          "output_type": "display_data",
          "data": {
            "text/plain": [
              "plot without title"
            ],
            "image/png": "[encoded data removed]"
          },
          "metadata": {
            "image/png": {
              "width": 420,
              "height": 420
            }
          }
        }
      ]
    },
    {
      "cell_type": "markdown",
      "source": [
        "Next, let's fit the simple linear regression model."
      ],
      "metadata": {
        "id": "5D4brkFjwjwx"
      }
    },
    {
      "cell_type": "code",
      "metadata": {
        "id": "Nb2ZN_q8GGM4"
      },
      "source": [
        "#Fitting the simple linear regression model\n",
        "WendysLinearModel_SaturatedFat_Calories <- lm(SaturatedFat ~ Calories, data=Wendys)"
      ],
      "execution_count": null,
      "outputs": []
    },
    {
      "cell_type": "markdown",
      "source": [
        "Getting the simple linear regression output."
      ],
      "metadata": {
        "id": "Lh9RGiM_wvfP"
      }
    },
    {
      "cell_type": "code",
      "metadata": {
        "id": "oHwXpR0tGGM5",
        "colab": {
          "base_uri": "https://localhost:8080/",
          "height": 329
        },
        "outputId": "c585d921-282e-48bc-a1c6-58940e3d78be"
      },
      "source": [
        "#Getting a summary of the model\n",
        "summary(WendysLinearModel_SaturatedFat_Calories)"
      ],
      "execution_count": null,
      "outputs": [
        {
          "output_type": "display_data",
          "data": {
            "text/plain": [
              "\n",
              "Call:\n",
              "lm(formula = SaturatedFat ~ Calories, data = Wendys)\n",
              "\n",
              "Residuals:\n",
              "    Min      1Q  Median      3Q     Max \n",
              "-5.5057 -1.9513  0.7454  2.0320  3.0130 \n",
              "\n",
              "Coefficients:\n",
              "             Estimate Std. Error t value Pr(>|t|)    \n",
              "(Intercept) -5.833332   1.208443  -4.827 5.30e-05 ***\n",
              "Calories     0.030963   0.002205  14.044 1.19e-13 ***\n",
              "---\n",
              "Signif. codes:  0 ‘***’ 0.001 ‘**’ 0.01 ‘*’ 0.05 ‘.’ 0.1 ‘ ’ 1\n",
              "\n",
              "Residual standard error: 2.564 on 26 degrees of freedom\n",
              "Multiple R-squared:  0.8835,\tAdjusted R-squared:  0.8791 \n",
              "F-statistic: 197.2 on 1 and 26 DF,  p-value: 1.19e-13\n"
            ]
          },
          "metadata": {}
        }
      ]
    },
    {
      "cell_type": "markdown",
      "source": [
        "Next, obtain the 95% confidence interval for the model parameters."
      ],
      "metadata": {
        "id": "3mrWW8zKG1x9"
      }
    },
    {
      "cell_type": "code",
      "metadata": {
        "id": "tJZx6t79zzYx",
        "colab": {
          "base_uri": "https://localhost:8080/",
          "height": 129
        },
        "outputId": "f43c35a8-7eff-49a3-f0c4-af261d10113c"
      },
      "source": [
        "#Getting 95% Confidence Intervals for Model Parameters\n",
        "confint(WendysLinearModel_SaturatedFat_Calories)"
      ],
      "execution_count": null,
      "outputs": [
        {
          "output_type": "display_data",
          "data": {
            "text/html": [
              "<table class=\"dataframe\">\n",
              "<caption>A matrix: 2 × 2 of type dbl</caption>\n",
              "<thead>\n",
              "\t<tr><th></th><th scope=col>2.5 %</th><th scope=col>97.5 %</th></tr>\n",
              "</thead>\n",
              "<tbody>\n",
              "\t<tr><th scope=row>(Intercept)</th><td>-8.31732270</td><td>-3.34934221</td></tr>\n",
              "\t<tr><th scope=row>Calories</th><td> 0.02643087</td><td> 0.03549421</td></tr>\n",
              "</tbody>\n",
              "</table>\n"
            ],
            "text/markdown": "\nA matrix: 2 × 2 of type dbl\n\n| <!--/--> | 2.5 % | 97.5 % |\n|---|---|---|\n| (Intercept) | -8.31732270 | -3.34934221 |\n| Calories |  0.02643087 |  0.03549421 |\n\n",
            "text/latex": "A matrix: 2 × 2 of type dbl\n\\begin{tabular}{r|ll}\n  & 2.5 \\% & 97.5 \\%\\\\\n\\hline\n\t(Intercept) & -8.31732270 & -3.34934221\\\\\n\tCalories &  0.02643087 &  0.03549421\\\\\n\\end{tabular}\n",
            "text/plain": [
              "            2.5 %       97.5 %     \n",
              "(Intercept) -8.31732270 -3.34934221\n",
              "Calories     0.02643087  0.03549421"
            ]
          },
          "metadata": {}
        }
      ]
    },
    {
      "cell_type": "markdown",
      "metadata": {
        "id": "hkTwJftG0FWS"
      },
      "source": [
        "Suppose the goal is to make a prediction for a new food item with 900 Calories.  That is, estimate the value for $E(SaturatedFat | Calories = 900)$"
      ]
    },
    {
      "cell_type": "markdown",
      "metadata": {
        "id": "wjQqvdIX0rgE"
      },
      "source": [
        "First, create a small data.frame and set calories to 900. Recall, the name of the predictor variable(s) must match exactly the name of the predictor variable9s) in the model object."
      ]
    },
    {
      "cell_type": "code",
      "metadata": {
        "id": "gJuoI_yN0Fgb"
      },
      "source": [
        "NewFoodItem <- data.frame(Calories = c(900))"
      ],
      "execution_count": null,
      "outputs": []
    },
    {
      "cell_type": "markdown",
      "metadata": {
        "id": "baoQNyTL0NuS"
      },
      "source": [
        "Next, use the predict() function to obtain a prediction for this new food item."
      ]
    },
    {
      "cell_type": "code",
      "metadata": {
        "colab": {
          "base_uri": "https://localhost:8080/",
          "height": 34
        },
        "id": "uifIcXYS0N1Z",
        "outputId": "01e67904-fb9a-4bbf-96b9-5deb744b3f4c"
      },
      "source": [
        "round(predict(WendysLinearModel_SaturatedFat_Calories,newdata = NewFoodItem),2)"
      ],
      "execution_count": null,
      "outputs": [
        {
          "output_type": "display_data",
          "data": {
            "text/html": [
              "<strong>1:</strong> 22.03"
            ],
            "text/markdown": "**1:** 22.03",
            "text/latex": "\\textbf{1:} 22.03",
            "text/plain": [
              "    1 \n",
              "22.03 "
            ]
          },
          "metadata": {}
        }
      ]
    },
    {
      "cell_type": "markdown",
      "metadata": {
        "id": "om464suG08NS"
      },
      "source": [
        "Using the argument interval = \"confid\" in the predict() function will return the 95% Confidence Interval for this prediction."
      ]
    },
    {
      "cell_type": "code",
      "metadata": {
        "id": "eIWuLR7s08Uo",
        "colab": {
          "base_uri": "https://localhost:8080/",
          "height": 248
        },
        "outputId": "da5c631c-7063-4084-9e93-34197ac1ca20"
      },
      "source": [
        "predict(WendysLinearModel_SaturatedFat_Calories,newdata = NewFoodItem, interval = \"confid\", se=TRUE)"
      ],
      "execution_count": null,
      "outputs": [
        {
          "output_type": "display_data",
          "data": {
            "text/html": [
              "<dl>\n",
              "\t<dt>$fit</dt>\n",
              "\t\t<dd><table class=\"dataframe\">\n",
              "<caption>A matrix: 1 × 3 of type dbl</caption>\n",
              "<thead>\n",
              "\t<tr><th></th><th scope=col>fit</th><th scope=col>lwr</th><th scope=col>upr</th></tr>\n",
              "</thead>\n",
              "<tbody>\n",
              "\t<tr><th scope=row>1</th><td>22.03295</td><td>19.97316</td><td>24.09275</td></tr>\n",
              "</tbody>\n",
              "</table>\n",
              "</dd>\n",
              "\t<dt>$se.fit</dt>\n",
              "\t\t<dd>1.00207465297145</dd>\n",
              "\t<dt>$df</dt>\n",
              "\t\t<dd>26</dd>\n",
              "\t<dt>$residual.scale</dt>\n",
              "\t\t<dd>2.56407708140082</dd>\n",
              "</dl>\n"
            ],
            "text/markdown": "$fit\n:   \nA matrix: 1 × 3 of type dbl\n\n| <!--/--> | fit | lwr | upr |\n|---|---|---|---|\n| 1 | 22.03295 | 19.97316 | 24.09275 |\n\n\n$se.fit\n:   1.00207465297145\n$df\n:   26\n$residual.scale\n:   2.56407708140082\n\n\n",
            "text/latex": "\\begin{description}\n\\item[\\$fit] A matrix: 1 × 3 of type dbl\n\\begin{tabular}{r|lll}\n  & fit & lwr & upr\\\\\n\\hline\n\t1 & 22.03295 & 19.97316 & 24.09275\\\\\n\\end{tabular}\n\n\\item[\\$se.fit] 1.00207465297145\n\\item[\\$df] 26\n\\item[\\$residual.scale] 2.56407708140082\n\\end{description}\n",
            "text/plain": [
              "$fit\n",
              "       fit      lwr      upr\n",
              "1 22.03295 19.97316 24.09275\n",
              "\n",
              "$se.fit\n",
              "[1] 1.002075\n",
              "\n",
              "$df\n",
              "[1] 26\n",
              "\n",
              "$residual.scale\n",
              "[1] 2.564077\n"
            ]
          },
          "metadata": {}
        }
      ]
    },
    {
      "cell_type": "markdown",
      "metadata": {
        "id": "izpSfMNI08cw"
      },
      "source": [
        "Likewise, using the argument interval = \"predict\" in the predict() function will return the 95% Prediction Interval for this prediction."
      ]
    },
    {
      "cell_type": "code",
      "metadata": {
        "id": "lXHKgPyi7JGs",
        "colab": {
          "base_uri": "https://localhost:8080/",
          "height": 98
        },
        "outputId": "4217b293-6a43-49f9-dc0d-ce457afcfef5"
      },
      "source": [
        "predict(WendysLinearModel_SaturatedFat_Calories,newdata = NewFoodItem, interval = \"predict\")"
      ],
      "execution_count": null,
      "outputs": [
        {
          "output_type": "display_data",
          "data": {
            "text/html": [
              "<table class=\"dataframe\">\n",
              "<caption>A matrix: 1 × 3 of type dbl</caption>\n",
              "<thead>\n",
              "\t<tr><th></th><th scope=col>fit</th><th scope=col>lwr</th><th scope=col>upr</th></tr>\n",
              "</thead>\n",
              "<tbody>\n",
              "\t<tr><th scope=row>1</th><td>22.03295</td><td>16.37422</td><td>27.69169</td></tr>\n",
              "</tbody>\n",
              "</table>\n"
            ],
            "text/markdown": "\nA matrix: 1 × 3 of type dbl\n\n| <!--/--> | fit | lwr | upr |\n|---|---|---|---|\n| 1 | 22.03295 | 16.37422 | 27.69169 |\n\n",
            "text/latex": "A matrix: 1 × 3 of type dbl\n\\begin{tabular}{r|lll}\n  & fit & lwr & upr\\\\\n\\hline\n\t1 & 22.03295 & 16.37422 & 27.69169\\\\\n\\end{tabular}\n",
            "text/plain": [
              "  fit      lwr      upr     \n",
              "1 22.03295 16.37422 27.69169"
            ]
          },
          "metadata": {}
        }
      ]
    },
    {
      "cell_type": "markdown",
      "source": [
        "## Matrix Representation of a SLR Model"
      ],
      "metadata": {
        "id": "1Op-Nq5ergXX"
      }
    },
    {
      "cell_type": "markdown",
      "source": [
        "Consider the following equation and its corresponding matrix representation for the simple linear regression model considered here."
      ],
      "metadata": {
        "id": "WtGPdV9QrgaG"
      }
    },
    {
      "cell_type": "markdown",
      "source": [
        "<p align=\"center\"><img src=\"https://drive.google.com/uc?export=view&id=1mxUozjOaoumNAYQ4xtQMG8HM0pXrDCkZ\" width=\"25%\" height=\"25%\"></img></p>\n"
      ],
      "metadata": {
        "id": "qRChppwrzUPg"
      }
    },
    {
      "cell_type": "markdown",
      "source": [
        "The simple linear regression model and it corresponding matrix representation for the observed data is provided here."
      ],
      "metadata": {
        "id": "RRt8p2vC1XmH"
      }
    },
    {
      "cell_type": "markdown",
      "source": [
        "<p align=\"center\"><img src=\"https://drive.google.com/uc?export=view&id=123YwYoJOsBLJYaxqt8khLtyz21HMM7xq\" width=\"35%\" height=\"35%\"></img></p>"
      ],
      "metadata": {
        "id": "8ND_BK7s0MAv"
      }
    },
    {
      "cell_type": "markdown",
      "source": [
        "If the conditional distribution of $\\mathbf{Y}|\\mathbf{X}$ is $Normal$ with mean equal to $\\mathbf{X}\\underline{\\mathbf{\\beta}}$ and constant variance equal to $\\sigma^{2}$, then the following expression is used to represent the distributional assumptions for the conditional distribution when using matrix notation."
      ],
      "metadata": {
        "id": "272C9IoSKUg1"
      }
    },
    {
      "cell_type": "markdown",
      "source": [
        "$$ \\mathbf{Y}|\\mathbf{X} \\sim N(\\mathbf{X}\\underline{\\mathbf{\\beta}} \\space , \\space \\sigma^{2} \\mathbf{I} ) \n",
        "$$\n",
        "\n",
        "where $\\mathbf{I}_{nxn}$ identity matrix. Some express the fact that the variablity comes *solely* from the error term using the following expression. "
      ],
      "metadata": {
        "id": "92qejPK7DZ69"
      }
    },
    {
      "cell_type": "markdown",
      "source": [
        "$$\\underline{\\mathbf{\\epsilon}} \\sim N(\\underline{\\mathbf{0}} \\space , \\space \\sigma^{2}*\\mathbf{I})\n",
        "$$\n",
        "\n",
        "which written out explicitly is"
      ],
      "metadata": {
        "id": "lnuWbftiFAZH"
      }
    },
    {
      "cell_type": "markdown",
      "source": [
        "$$\\begin{array}{rcl}\n",
        "\\left[\n",
        "  \\begin{array}{c}\n",
        "  \\epsilon_{1} \\\\\n",
        "  \\epsilon_{2} \\\\\n",
        "  \\epsilon_{3} \\\\\n",
        "  \\vdots \\\\\n",
        "  \\vdots \\\\\n",
        "  \\epsilon_{27} \\\\\n",
        "  \\epsilon_{28} \\\\\n",
        "  \\end{array}\n",
        "\\right] & \\sim & \n",
        "N\n",
        "\\left(\n",
        "  \\left[\n",
        "    \\begin{array}{c}\n",
        "     0 \\\\\n",
        "     0 \\\\\n",
        "     0 \\\\\n",
        "     \\vdots \\\\\n",
        "     \\vdots \\\\\n",
        "     0 \\\\\n",
        "     0 \\\\\n",
        "    \\end{array}\n",
        "  \\right] , \\space \\space \\sigma^{2} * \n",
        "  \\left[\n",
        "    \\begin{array}{ccccccc}\n",
        "    1 & 0 & 0 & \\cdots & \\cdots & 0 & 0 \\\\\n",
        "    0 & 1 & 0 & \\cdots & \\cdots & 0 & 0 \\\\\n",
        "    0 & 0 & 1 & \\cdots & \\cdots & 0 & 0 \\\\\n",
        "    \\vdots & \\vdots & \\vdots & \\ddots & \\ddots & \\vdots & \\vdots \\\\ \n",
        "    \\vdots & \\vdots & \\vdots & \\ddots & \\ddots & \\vdots & \\vdots \\\\ \n",
        "     0 & 0 & 0 & \\cdots & \\cdots & 1 & 0 \\\\\n",
        "     0 & 0 & 0 & \\cdots & \\cdots & 0 & 1 \\\\\n",
        "    \\end{array}\n",
        "  \\right]\n",
        "\\right)\n",
        "\\end{array}\n",
        "$$"
      ],
      "metadata": {
        "id": "NRAPTk4VFmLJ"
      }
    },
    {
      "cell_type": "markdown",
      "source": [
        "<table width='100%'><tr><td bgcolor=\"orange\"><font color=\"white\" size=\"+2\">Aside - Other Variance/Covariance Structures</font></td></tr></table>\n"
      ],
      "metadata": {
        "id": "trwTAVe7JeZg"
      }
    },
    {
      "cell_type": "markdown",
      "source": [
        "**Example 9.2**: Time Series - Analysis.  One situation in which the $\\sigma^2 \\bf{I} $ variane/covariance structure would not be appropriate is the situation of time-series data. Consider a situation in which the Unemployment Rate in Winona, MN is to be modeled. "
      ],
      "metadata": {
        "id": "J9TAWiaM-9C6"
      }
    },
    {
      "cell_type": "markdown",
      "source": [
        "<table border=\"0\">\n",
        "  <tr>\n",
        "    <td align=\"center\" valign=\"top\" width=\"50%\"><font size=\"+1\">Unemployment in Winona, MN</font><br><br><img src=\"https://drive.google.com/uc?export=view&id=1XHcrTdH8z7yfaMUtktq884uxIcxnKOnr\" width=\"50%\" height=\"50%\"></img></td>\n",
        "    <td align=\"center\" valign=\"top\" width=\"50%\"><font size=\"+1\">Unemployment in current month is *not* <br>independent of the unemployment in previous month</font><br><br>\n",
        "<img src=\"https://drive.google.com/uc?export=view&id=1K146qnnUlF9DrLmqFCcnH1WULqR1DXfY\"  width=\"75%\" height=\"75%\"></img></td>\n",
        "\n",
        "  </tr>\n",
        "</table>"
      ],
      "metadata": {
        "id": "1sparHNWGOVq"
      }
    },
    {
      "cell_type": "markdown",
      "source": [
        "For time-series data, a model that uses an autoregressive (AR-1) variance/covariance structure could be used.  For an autoregressive model, the variance/covariance structure has homogeneous variances and a covariance structure that decline exponentially as the distance between observations increases."
      ],
      "metadata": {
        "id": "RUppRfOhUtey"
      }
    },
    {
      "cell_type": "markdown",
      "source": [
        "$$\\begin{array}{rcl}\n",
        "\\left[\n",
        "  \\begin{array}{c}\n",
        "  \\epsilon_{1} \\\\\n",
        "  \\epsilon_{2} \\\\\n",
        "  \\epsilon_{3} \\\\\n",
        "  \\vdots \\\\\n",
        "  \\vdots \\\\\n",
        "  \\epsilon_{27} \\\\\n",
        "  \\epsilon_{28} \\\\\n",
        "  \\end{array}\n",
        "\\right] & \\sim & \n",
        "N\n",
        "\\left(\n",
        "  \\left[\n",
        "    \\begin{array}{c}\n",
        "     0 \\\\\n",
        "     0 \\\\\n",
        "     0 \\\\\n",
        "     \\vdots \\\\\n",
        "     \\vdots \\\\\n",
        "     0 \\\\\n",
        "     0 \\\\\n",
        "    \\end{array}\n",
        "  \\right] , \\space \\space \\sigma^{2} * \n",
        "  \\left[\n",
        "    \\begin{array}{ccccccc}\n",
        "    1 & \\rho & \\rho^{2} & \\cdots & \\cdots & \\rho^{27} & \\rho^{28} \\\\\n",
        "    \\rho & 1 & \\rho & \\cdots & \\cdots & \\rho^{26} & \\rho^{27} \\\\\n",
        "    \\rho^{2} & \\rho & 1 & \\cdots & \\cdots & \\rho^{25} & \\rho^{26} \\\\\n",
        "    \\vdots & \\vdots & \\vdots & \\ddots & \\ddots & \\vdots & \\vdots \\\\ \n",
        "    \\vdots & \\vdots & \\vdots & \\ddots & \\ddots & \\vdots & \\vdots \\\\ \n",
        "     \\rho^{27} & \\rho^{26} & \\rho^{25} & \\cdots & \\cdots & 1 & \\rho \\\\\n",
        "     \\rho^{28}  & \\rho^{27}  & \\rho^{26}  & \\cdots & \\cdots & \\rho & 1 \\\\\n",
        "    \\end{array}\n",
        "  \\right]\n",
        "\\right)\n",
        "\\end{array}\n",
        "$$"
      ],
      "metadata": {
        "id": "TdMLmWRv_BdV"
      }
    },
    {
      "cell_type": "markdown",
      "source": [
        "**Example 9.3**:  Repeated Measures Analysis. Consider the following data structure in which glucose levels were measured on a total of 59 subjects at baseline and at three repeated time points, i.e. baseline, 30 minutes, 60 minutes, and 90 minutes.  Subjects were randomly assigned to the Treatment Group = Relaxation or Treatement Group = Control. In this particular situation, the standard constant variance assumption is not appropriate."
      ],
      "metadata": {
        "id": "1JwD7KD55Dz9"
      }
    },
    {
      "cell_type": "markdown",
      "source": [
        "<table border=\"0\">\n",
        "  <tr>\n",
        "    <td align=\"center\" valign=\"top\" width=\"50%\"><img src=\"https://drive.google.com/uc?export=view&id=1_SbzGtxVMSoOfOcsse15dv4MKJMNpz7c\" width=\"75%\" height=\"75%\"></img></td>\n",
        "    <td align=\"center\" valign=\"top\" width=\"50%\"><font size=\"+1\">1<sup>st</sup> four observations are *not* independent,<br>(i.e. same person; same for next four, etc)</font><br>\n",
        "<img src=\"https://drive.google.com/uc?export=view&id=1qyUO_Pilg8nRIJod_5tfFlRucEzB2GMl\"  width=\"75%\" height=\"75%\"></img></td>\n",
        "  </tr>\n",
        "</table>"
      ],
      "metadata": {
        "id": "t9w1INjy3I7m"
      }
    },
    {
      "cell_type": "markdown",
      "source": [
        "A better modeling approach for the error structure would be to allow the errors within a subject to be correlated with each other.\n",
        "\n",
        "\n"
      ],
      "metadata": {
        "id": "59CRL6ZL4uoa"
      }
    },
    {
      "cell_type": "markdown",
      "source": [
        "<p align=\"center\"><img src=\"https://drive.google.com/uc?export=view&id=19K3MqraMmShXcU5zYnNjFsyLubZ3NWCa\" width=\"75%\" height=\"75%\"></img></p>"
      ],
      "metadata": {
        "id": "OQ2OH6CF9zSr"
      }
    },
    {
      "cell_type": "markdown",
      "source": [
        "<table width='100%'><tr><td bgcolor=\"orange\"><font color=\"white\" size=\"+2\">&nbsp;</font></td></tr></table>\n"
      ],
      "metadata": {
        "id": "hWwtmHugKyPd"
      }
    },
    {
      "cell_type": "markdown",
      "metadata": {
        "id": "Bh6Qji4I7K3F"
      },
      "source": [
        "## Matrix Results for Linear Models"
      ]
    },
    {
      "cell_type": "markdown",
      "source": [
        "Consider the following definitions for the matrix representation of a simple linear regression model."
      ],
      "metadata": {
        "id": "W_J1_CGO_8YM"
      }
    },
    {
      "cell_type": "markdown",
      "source": [
        "<p align=\"center\"><img src=\"https://drive.google.com/uc?export=view&id=1gDawT5p-mndhnAM0ND0Fu9unh2Ip9E3a\" width=\"50%\" height=\"50%\"></img></p>"
      ],
      "metadata": {
        "id": "N3bLD2ydG_Jl"
      }
    },
    {
      "cell_type": "markdown",
      "source": [
        "The following results follow:\n",
        "\n",
        ">  $\\underline{\\mathbf{\\hat{\\beta}}} = (\\mathbf{X'X})^{-1} \\mathbf{X'Y}$\n",
        "\n",
        ">  $Var(\\underline{\\mathbf{\\hat{\\beta}}}) = \\hat{\\sigma}^{2}(\\mathbf{X'X})^{-1}$\n"
      ],
      "metadata": {
        "id": "9CcuHM7QHNLD"
      }
    },
    {
      "cell_type": "markdown",
      "source": [
        "where \n",
        "\n",
        ">  $\\hat{\\sigma}^{2} = \\frac{\\hat{\\bf{r}}' \\hat{\\bf{r}}}{(n-2)}$, and \n",
        "\n",
        "> $\\bf{r} = (\\bf{y} - \\bf{X}\\underline{\\hat{\\bf{\\beta}}})$\n",
        "\n"
      ],
      "metadata": {
        "id": "TnFnXbESWpbJ"
      }
    },
    {
      "cell_type": "markdown",
      "source": [
        "Suppose a prediction is to be made for a food item from Wendy's that is known to have $Calories = 900$.\n",
        "\n",
        "$$ \\begin{array}{rcl}\n",
        "\\hat{E}(SaturatedFat | Calories = 900) & =  & -5.83 + 0.031 * 900 \\\\\n",
        " & =  & 22.07  \\\\\n",
        "\\end{array}\n",
        "$$"
      ],
      "metadata": {
        "id": "qnHoZiZBIeoN"
      }
    },
    {
      "cell_type": "markdown",
      "source": [
        "When using the matrix reprentation, such a calculation is called a **linear combination** of the estimated parameter vector.\n",
        "\n",
        "$$ \\begin{array}{rcl}\n",
        " & = & \\mathbf{c}\\underline{\\mathbf{\\hat{\\beta}}} \\\\\n",
        " & = & \\left[ \\begin{array}{cc} 1 & 900 \\\\ \\end{array} \\right] \\left[ \\begin{array}{cc} -5.83 \\\\ 0.031 \\\\ \\end{array} \\right] \\\\\n",
        " & = & 22.03 \\\\\n",
        "\\end{array}\n",
        "$$"
      ],
      "metadata": {
        "id": "VKTXkiY1LMwe"
      }
    },
    {
      "cell_type": "markdown",
      "source": [
        "The variance/covariance of a linear combination of the estimated parameter vector is given by the following result:\n",
        "\n",
        ">  $\\begin{array}{rcl} Var(\\mathbf{c}\\underline{\\mathbf{\\hat{\\beta}}}) & = &  \\mathbf{c} \\space Var(\\underline{\\mathbf{\\hat{\\beta}}}) \\space \\mathbf{c'}\\\\\n",
        "& = &  \\mathbf{c} [\\hat{\\sigma}^{2}(\\mathbf{X'X})^{-1}]\\mathbf{c'} \\\\ \\end{array}$\n"
      ],
      "metadata": {
        "id": "a6leeMFuLZqh"
      }
    },
    {
      "cell_type": "markdown",
      "source": [
        "## Matrix Algebra for Wendy's Example"
      ],
      "metadata": {
        "id": "aLkp1CogPmcH"
      }
    },
    {
      "cell_type": "markdown",
      "metadata": {
        "id": "Hxqd85t07PEU"
      },
      "source": [
        "In this section, the various matrix computations will be done for the Wendy's exmaple.  "
      ]
    },
    {
      "cell_type": "code",
      "metadata": {
        "colab": {
          "base_uri": "https://localhost:8080/",
          "height": 34
        },
        "id": "8ts7P1fj7PLv",
        "outputId": "6482d7d5-25f7-4e76-a4bd-47f499409d34"
      },
      "source": [
        "#determine how many rows are in the Wendys data.frame.\n",
        "dim(Wendys)"
      ],
      "execution_count": null,
      "outputs": [
        {
          "output_type": "display_data",
          "data": {
            "text/html": [
              "<style>\n",
              ".list-inline {list-style: none; margin:0; padding: 0}\n",
              ".list-inline>li {display: inline-block}\n",
              ".list-inline>li:not(:last-child)::after {content: \"\\00b7\"; padding: 0 .5ex}\n",
              "</style>\n",
              "<ol class=list-inline><li>28</li><li>4</li></ol>\n"
            ],
            "text/markdown": "1. 28\n2. 4\n\n\n",
            "text/latex": "\\begin{enumerate*}\n\\item 28\n\\item 4\n\\end{enumerate*}\n",
            "text/plain": [
              "[1] 28  4"
            ]
          },
          "metadata": {}
        }
      ]
    },
    {
      "cell_type": "markdown",
      "source": [
        "The first step is to create the design matrix $\\bf{X}$."
      ],
      "metadata": {
        "id": "Ljw83mAiRB0s"
      }
    },
    {
      "cell_type": "code",
      "metadata": {
        "id": "zqxGh3io7cMG"
      },
      "source": [
        "#Setting up the X matrix\n",
        "x0 <- rep(1,28)\n",
        "x1 <- Wendys$Calories\n",
        "\n",
        "#Create the matrix\n",
        "X <- cbind(x0,x1)\n",
        "\n",
        "#Print the X matrix\n",
        "print(X)"
      ],
      "execution_count": null,
      "outputs": []
    },
    {
      "cell_type": "markdown",
      "metadata": {
        "id": "9b7d6fM48cLd"
      },
      "source": [
        "Next, create the response vector $\\bf{y}$."
      ]
    },
    {
      "cell_type": "code",
      "metadata": {
        "id": "fXcReZDb8cS2"
      },
      "source": [
        "y <- Wendys$SaturatedFat\n",
        "\n",
        "#Print the response vector\n",
        "print(y)"
      ],
      "execution_count": null,
      "outputs": []
    },
    {
      "cell_type": "markdown",
      "source": [
        "The matrix $(\\bf{X'X})^{-1}$ is needed in order to compute the estimated parameter vector. "
      ],
      "metadata": {
        "id": "bc2_t5YNSZt6"
      }
    },
    {
      "cell_type": "code",
      "metadata": {
        "id": "zFufarqg-Q32"
      },
      "source": [
        "#Getting X'X inverse\n",
        "#First, create XpX\n",
        "XpX <- t(X) %*% X\n",
        "cat(\"\\n X'X:\\n\")\n",
        "print(XpX)\n",
        "\n",
        "#Next, getting its inverse\n",
        "XpXInv <- solve(XpX, diag(2) )\n",
        "cat(\"\\n (X'X)^-1:\\n\")\n",
        "print(XpXInv)"
      ],
      "execution_count": null,
      "outputs": []
    },
    {
      "cell_type": "code",
      "source": [],
      "metadata": {
        "id": "QfXPFowmltQd"
      },
      "execution_count": null,
      "outputs": []
    },
    {
      "cell_type": "markdown",
      "metadata": {
        "id": "KyjX0s8H_sQH"
      },
      "source": [
        "### Getting $\\underline{\\hat{\\bf{\\beta}}} = (\\bf{X^{'}}\\bf{X})^{-1} \\bf{X^{'}} \\bf{y}$"
      ]
    },
    {
      "cell_type": "code",
      "metadata": {
        "id": "Oc3n7FGB_sXm"
      },
      "source": [
        "#Getting the estimated model parameters\n",
        "BetaHat<- XpXInv %*% t(X) %*% y\n",
        "cat(\"\\n Betahat:\\n\")\n",
        "print(BetaHat)"
      ],
      "execution_count": null,
      "outputs": []
    },
    {
      "cell_type": "markdown",
      "metadata": {
        "id": "8Bpgs4BZl-59"
      },
      "source": [
        "### Getting the Predicted Values and Residuals"
      ]
    },
    {
      "cell_type": "markdown",
      "source": [
        "Next, the predicted values are computed as follows $\\hat{\\bf{y}} = \\bf{X}\\underline{\\hat{\\bf{\\beta}}}$."
      ],
      "metadata": {
        "id": "Nc7Q-TKBmSNU"
      }
    },
    {
      "cell_type": "code",
      "metadata": {
        "colab": {
          "base_uri": "https://localhost:8080/"
        },
        "outputId": "515e66d0-3bd4-40df-fb66-dbe2f87432d0",
        "id": "y0bkq_8Xl-5-"
      },
      "source": [
        "#Getting the predicted values\n",
        "yPredicted <- X %*% BetaHat\n",
        "print(yPredicted)"
      ],
      "execution_count": null,
      "outputs": [
        {
          "output_type": "stream",
          "name": "stdout",
          "text": [
            "            [,1]\n",
            " [1,] 12.1249406\n",
            " [2,] 18.9366993\n",
            " [3,] 26.9869597\n",
            " [4,]  8.7190612\n",
            " [5,] 17.0789470\n",
            " [6,] 24.2003311\n",
            " [7,] 14.6019438\n",
            " [8,] 15.8404454\n",
            " [9,]  6.5516834\n",
            "[10,]  5.0035565\n",
            "[11,]  1.9073025\n",
            "[12,]  0.9784263\n",
            "[13,]  8.0998104\n",
            "[14,]  2.2169279\n",
            "[15,]  7.4805596\n",
            "[16,]  4.6939311\n",
            "[17,]  5.9324326\n",
            "[18,] 11.5056898\n",
            "[19,] 10.5768136\n",
            "[20,]  4.6939311\n",
            "[21,] 11.8153152\n",
            "[22,]  7.7901850\n",
            "[23,] 18.0078231\n",
            "[24,]  0.6688009\n",
            "[25,]  8.7190612\n",
            "[26,] 12.1249406\n",
            "[27,]  4.0746803\n",
            "[28,]  0.6688009\n"
          ]
        }
      ]
    },
    {
      "cell_type": "markdown",
      "source": [
        "Next, computing the residuals for the Wendy's example.\n",
        "\n",
        ">  $\\begin{array}{rcl} \\bf{r} & = & (\\bf{y} - \\bf{X}\\underline{\\hat{\\bf{\\beta}}}) \\\\ & = & (\\bf{y} - \\hat{\\bf{y}})\\end{array}$"
      ],
      "metadata": {
        "id": "LgPsVwPKmi4g"
      }
    },
    {
      "cell_type": "code",
      "metadata": {
        "colab": {
          "base_uri": "https://localhost:8080/"
        },
        "outputId": "60e9d510-ca6b-4f15-83fe-b420195dfcb1",
        "id": "RT9BFc2ml-5-"
      },
      "source": [
        "#Computing the residual vector \n",
        "Residuals <- (y - yPredicted)\n",
        "print(Residuals)"
      ],
      "execution_count": null,
      "outputs": [
        {
          "output_type": "stream",
          "name": "stdout",
          "text": [
            "            [,1]\n",
            " [1,]  1.8750594\n",
            " [2,]  2.0633007\n",
            " [3,]  3.0130403\n",
            " [4,]  1.2809388\n",
            " [5,] -5.0789470\n",
            " [6,]  2.7996689\n",
            " [7,]  2.3980562\n",
            " [8,]  2.1595546\n",
            " [9,]  2.4483166\n",
            "[10,]  1.9964435\n",
            "[11,]  2.0926975\n",
            "[12,]  2.0215737\n",
            "[13,] -2.0998104\n",
            "[14,]  1.2830721\n",
            "[15,] -0.4805596\n",
            "[16,] -0.1939311\n",
            "[17,] -1.9324326\n",
            "[18,] -5.5056898\n",
            "[19,] -4.5768136\n",
            "[20,] -0.1939311\n",
            "[21,] -3.8153152\n",
            "[22,]  0.2098150\n",
            "[23,] -2.0078231\n",
            "[24,]  1.3311991\n",
            "[25,] -0.7190612\n",
            "[26,] -0.1249406\n",
            "[27,] -2.0746803\n",
            "[28,]  1.8311991\n"
          ]
        }
      ]
    },
    {
      "cell_type": "markdown",
      "metadata": {
        "id": "7o_1sDo0lqbJ"
      },
      "source": [
        "### Getting $\\hat{\\sigma}^2$"
      ]
    },
    {
      "cell_type": "markdown",
      "metadata": {
        "id": "WxaWm3IjlqbK"
      },
      "source": [
        "The Sum-of-Squared Residuals can easily be obtained using $(\\bf{r'r})$.  Dividing this by $(n-2)$ yields $\\hat{\\sigma}^{2} = \\mbox{Mean-Squared Error}$"
      ]
    },
    {
      "cell_type": "code",
      "metadata": {
        "colab": {
          "base_uri": "https://localhost:8080/"
        },
        "outputId": "0c8384da-3d91-421e-e517-fb4993cdd6e8",
        "id": "W-Kqmam-lqbK"
      },
      "source": [
        "#Getting the variance in the conditional distribution\n",
        "SigmaHatSquared <- t(Residuals)%*%Residuals / (28-2)\n",
        "cat(\"SigmaHat-Squared\\n\")\n",
        "print(SigmaHatSquared)"
      ],
      "execution_count": null,
      "outputs": [
        {
          "output_type": "stream",
          "name": "stdout",
          "text": [
            "SigmaHat-Squared\n",
            "         [,1]\n",
            "[1,] 6.574491\n"
          ]
        }
      ]
    },
    {
      "cell_type": "markdown",
      "metadata": {
        "id": "vhm8dWo9IQOL"
      },
      "source": [
        "### Getting $Var(\\underline{\\hat{\\beta}})$"
      ]
    },
    {
      "cell_type": "code",
      "metadata": {
        "colab": {
          "base_uri": "https://localhost:8080/"
        },
        "id": "S9D59b-pIQYy",
        "outputId": "bef4c4ef-531c-4cc0-9a71-61bbc3f37459"
      },
      "source": [
        "#Variance/Covariance of BetaHat\n",
        "Var_BetaHat <- 6.57 * XpXInv\n",
        "cat(\"Var(BetaHat): \\n\")\n",
        "print(Var_BetaHat)"
      ],
      "execution_count": null,
      "outputs": [
        {
          "output_type": "stream",
          "name": "stdout",
          "text": [
            "Var(BetaHat): \n",
            "           [,1]          [,2]\n",
            "x0  1.459336973 -2.438936e-03\n",
            "x1 -0.002438936  4.857055e-06\n"
          ]
        }
      ]
    },
    {
      "cell_type": "markdown",
      "metadata": {
        "id": "4IUvHkfPPkVx"
      },
      "source": [
        "### Getting the Variance of Linear Combination, i.e. $Var(\\mathbf{c}\\underline{\\mathbf{\\hat{\\beta}}})$ "
      ]
    },
    {
      "cell_type": "markdown",
      "metadata": {
        "id": "IQjLvxk0YCpC"
      },
      "source": [
        "Recall, a prediction was needed for a new food item with Calories = 900. Here, a vector containing the multiplier for $\\hat{\\beta}_{0}$ and $\\hat{\\beta}_{1}$ is created for the linear combination."
      ]
    },
    {
      "cell_type": "code",
      "metadata": {
        "colab": {
          "base_uri": "https://localhost:8080/",
          "height": 133
        },
        "id": "vcJbPiz_Pkdu",
        "outputId": "88065095-609d-4fec-8003-d42dc0ef1f09"
      },
      "source": [
        "#Creating a vector for the linear combination\n",
        "NewFoodItem <- cbind( x0=c(1) , x1=c(900) )\n",
        "NewFoodItem"
      ],
      "execution_count": null,
      "outputs": [
        {
          "output_type": "display_data",
          "data": {
            "text/html": [
              "<table class=\"dataframe\">\n",
              "<caption>A matrix: 1 × 2 of type dbl</caption>\n",
              "<thead>\n",
              "\t<tr><th scope=col>x0</th><th scope=col>x1</th></tr>\n",
              "</thead>\n",
              "<tbody>\n",
              "\t<tr><td>1</td><td>900</td></tr>\n",
              "</tbody>\n",
              "</table>\n"
            ],
            "text/markdown": "\nA matrix: 1 × 2 of type dbl\n\n| x0 | x1 |\n|---|---|\n| 1 | 900 |\n\n",
            "text/latex": "A matrix: 1 × 2 of type dbl\n\\begin{tabular}{ll}\n x0 & x1\\\\\n\\hline\n\t 1 & 900\\\\\n\\end{tabular}\n",
            "text/plain": [
              "     x0 x1 \n",
              "[1,] 1  900"
            ]
          },
          "metadata": {}
        }
      ]
    },
    {
      "cell_type": "markdown",
      "metadata": {
        "id": "OJFw7b-5PvNM"
      },
      "source": [
        "Next, use this linear combination to obtain the desired prediction. \n",
        "\n",
        "$$\\begin{bmatrix}\n",
        "1&900 \\\\\n",
        "\\end{bmatrix} * \\begin{bmatrix} \\hat{\\beta_{0}} \\\\ \\hat{\\beta}_{1}\\end{bmatrix}$$"
      ]
    },
    {
      "cell_type": "code",
      "metadata": {
        "colab": {
          "base_uri": "https://localhost:8080/",
          "height": 100
        },
        "id": "Ju4RRr-wPvXw",
        "outputId": "b28b0208-4e29-4abd-c54e-9b88c8a6e265"
      },
      "source": [
        "#Getting the predicted value for Calories = 900\n",
        "Prediction_Calories900 <- NewFoodItem %*% BetaHat\n",
        "Prediction_Calories900"
      ],
      "execution_count": null,
      "outputs": [
        {
          "output_type": "display_data",
          "data": {
            "text/html": [
              "<table class=\"dataframe\">\n",
              "<caption>A matrix: 1 × 1 of type dbl</caption>\n",
              "<tbody>\n",
              "\t<tr><td>22.03295</td></tr>\n",
              "</tbody>\n",
              "</table>\n"
            ],
            "text/markdown": "\nA matrix: 1 × 1 of type dbl\n\n| 22.03295 |\n\n",
            "text/latex": "A matrix: 1 × 1 of type dbl\n\\begin{tabular}{l}\n\t 22.03295\\\\\n\\end{tabular}\n",
            "text/plain": [
              "     [,1]    \n",
              "[1,] 22.03295"
            ]
          },
          "metadata": {}
        }
      ]
    },
    {
      "cell_type": "markdown",
      "metadata": {
        "id": "ib8JbJ1FYn2W"
      },
      "source": [
        "Note:  The variance for a linear comibination of the estimated model parameters is given by \n",
        "\n",
        "$$\n",
        "Var({\\bf{c}} * \\hat{\\bf{\\underline{\\beta}}}) = {\\bf{c}} * Var(\\hat{\\bf{\\underline{\\beta}}})*{\\bf{c'}} \n",
        "$$"
      ]
    },
    {
      "cell_type": "markdown",
      "metadata": {
        "id": "fr5eUFAzaGCc"
      },
      "source": [
        "Using this result, the variance for this prediction is computed as follows"
      ]
    },
    {
      "cell_type": "code",
      "metadata": {
        "colab": {
          "base_uri": "https://localhost:8080/",
          "height": 100
        },
        "id": "kTngBsNQYn_P",
        "outputId": "5e01d2ec-4b3f-44df-e852-ce6dbfb3bd65"
      },
      "source": [
        "NewFoodItem %*% Var_BetaHat %*% t(NewFoodItem)"
      ],
      "execution_count": null,
      "outputs": [
        {
          "output_type": "display_data",
          "data": {
            "text/html": [
              "<table class=\"dataframe\">\n",
              "<caption>A matrix: 1 × 1 of type dbl</caption>\n",
              "<tbody>\n",
              "\t<tr><td>1.003468</td></tr>\n",
              "</tbody>\n",
              "</table>\n"
            ],
            "text/markdown": "\nA matrix: 1 × 1 of type dbl\n\n| 1.003468 |\n\n",
            "text/latex": "A matrix: 1 × 1 of type dbl\n\\begin{tabular}{l}\n\t 1.003468\\\\\n\\end{tabular}\n",
            "text/plain": [
              "     [,1]    \n",
              "[1,] 1.003468"
            ]
          },
          "metadata": {}
        }
      ]
    },
    {
      "cell_type": "markdown",
      "metadata": {
        "id": "SbhWK6xAaiMl"
      },
      "source": [
        "The 95% Confidence Interval for this prediction is given by the following code."
      ]
    },
    {
      "cell_type": "code",
      "metadata": {
        "colab": {
          "base_uri": "https://localhost:8080/"
        },
        "id": "tGFXqQ0QaiUY",
        "outputId": "3ac70eff-085f-4178-9239-6debceab284a"
      },
      "source": [
        "LowerCI <- Prediction_Calories900 - qt(0.975,df=26) * sqrt(1.003468)\n",
        "UpperCI <- Prediction_Calories900 + qt(0.975,df=26) * sqrt(1.003468)\n",
        "\n",
        "cat(\"The 95% CI is for this prediction is\",round(LowerCI,2), \"up to\",round(UpperCI,2),\".\\n\")"
      ],
      "execution_count": null,
      "outputs": [
        {
          "output_type": "stream",
          "name": "stdout",
          "text": [
            "The 95% CI is for this prediction is 19.97 up to 24.09 .\n"
          ]
        }
      ]
    },
    {
      "cell_type": "markdown",
      "metadata": {
        "id": "NabmklvjbhgN"
      },
      "source": [
        "The 95% Prediction Interval for this prediction is given by the following code."
      ]
    },
    {
      "cell_type": "code",
      "metadata": {
        "colab": {
          "base_uri": "https://localhost:8080/"
        },
        "id": "UwcZDfBlbhnd",
        "outputId": "c884fcdf-9805-4156-b3a4-dce7bb7cc61e"
      },
      "source": [
        "LowerPI <- Prediction_Calories900 - qt(0.975,df=26) * sqrt(1.003468 + 6.574)\n",
        "UpperPI <- Prediction_Calories900 + qt(0.975,df=26) * sqrt(1.003468 + 6.574)\n",
        "\n",
        "cat(\"The 95% PI is for this prediction is\",round(LowerPI,2), \"up to\",round(UpperPI,2),\".\\n\")"
      ],
      "execution_count": null,
      "outputs": [
        {
          "output_type": "stream",
          "name": "stdout",
          "text": [
            "The 95% PI is for this prediction is 16.37 up to 27.69 .\n"
          ]
        }
      ]
    },
    {
      "cell_type": "markdown",
      "source": [
        "## Testing Multiple Parameters"
      ],
      "metadata": {
        "id": "vQrYtpM6q3S6"
      }
    },
    {
      "cell_type": "markdown",
      "source": [
        "**Example 9.3**: Consider the follwing situation.  Suppose a risk score is obtained for a particular disease.  Patients are evaluated at the onset of their disease and given a risk score.  After three months of treatment, patients are reevaluated and a second risk score measurement is obtained. "
      ],
      "metadata": {
        "id": "VYqtib7Vq3ci"
      }
    },
    {
      "cell_type": "markdown",
      "source": [
        "<table border=\"0\">\n",
        "  <tr>\n",
        "    <td align=\"center\" valign=\"center\" width=\"50%\" bgcolor=\"lightgray\"><font size=\"+2\">Situation #1</font></td>\n",
        "    <td align=\"center\" valign=\"center\" width=\"50%\" bgcolor=\"lightgray\"><font size=\"+2\">Situation #2</font></td>\n",
        "    </tr>\n",
        "    <tr>\n",
        "    <td align=\"center\" valign=\"center\" width=\"50%\"><img src=\"https://drive.google.com/uc?export=view&id=1teZ1dy0VqeyUcHT92D2dUTF0f-Gm48fZ\" width=\"75% height=\"75%\"></img></td>\n",
        "    <td align=\"center\" valign=\"center\" width=\"50%\"><img src=\"https://drive.google.com/uc?export=view&id=1dRnkDAZzNYDaJ7WfoWWLuw_P1PXdSWDv\"  width=\"75% height=\"75%\"></img></td>\n",
        "  </tr>\n",
        "  <tr>\n",
        "    <td align=\"center\" valign=\"center\" width=\"50%\" bgcolor=\"lightgray\"><font size=\"+2\">Situation #3</font></td>\n",
        "    <td align=\"center\" valign=\"center\" width=\"50%\" bgcolor=\"lightgray\"><font size=\"+2\">Situation #4</font></td>\n",
        "    </tr>\n",
        "    <tr>\n",
        "    <td align=\"center\" valign=\"center\" width=\"50%\"><img src=\"https://drive.google.com/uc?export=view&id=1vnuTKYZNA1Wng6Ud_3Kxqng4kWI-v6oy\"  width=\"75% height=\"75%\"></img></td>\n",
        "    <td align=\"center\" valign=\"center\" width=\"50%\"><img src=\"https://drive.google.com/uc?export=view&id=1loM4Fo1YN0GriDrr_E3wMb3FfbPRaC5z\"  width=\"75% height=\"75%\"></img></td>\n",
        "  </tr>\n",
        "</table>"
      ],
      "metadata": {
        "id": "_dgpUVp1vLq9"
      }
    },
    {
      "cell_type": "markdown",
      "source": [
        "<table width='100%'><tr><td bgcolor=\"purple\"><font color=\"white\" size=\"+2\">Task</font></td></tr></table>"
      ],
      "metadata": {
        "id": "mcRoNlDxRv2P"
      }
    },
    {
      "cell_type": "markdown",
      "source": [
        "## Task:  Questions"
      ],
      "metadata": {
        "id": "BRnls6H4Rw0m"
      }
    },
    {
      "cell_type": "markdown",
      "source": [
        "Discuss the effect of the treatment for each situation:\n",
        "\n",
        " - Situation #1\n",
        " - Situation #2\n",
        " - Situation #3\n",
        " - Situation #4\n",
        "\n",
        "\n",
        "\n"
      ],
      "metadata": {
        "id": "wDu_-y5zRxEW"
      }
    },
    {
      "cell_type": "markdown",
      "source": [
        "<table width='100%'><tr><td bgcolor=\"purple\"><font color=\"white\" size=\"+2\">&nbsp;</font></td></tr></table>"
      ],
      "metadata": {
        "id": "Q6JhdIwI7dNp"
      }
    },
    {
      "cell_type": "markdown",
      "source": [
        "**Research Question**:  Does the treatment produce any measureable effect after 3 months? "
      ],
      "metadata": {
        "id": "dFMtlu0AvN18"
      }
    },
    {
      "cell_type": "markdown",
      "source": [
        "The statistical hypotheses for this research question are provided here."
      ],
      "metadata": {
        "id": "1SN6v_OGMLKA"
      }
    },
    {
      "cell_type": "markdown",
      "source": [
        "$$\\begin{array}{rl}\n",
        "H_{0}: &  \\mbox{Treatment has no effect} \\\\\n",
        "H_{A}: &  \\mbox{Treatment has some effect} \\\\\n",
        "\\end{array}\n",
        "$$"
      ],
      "metadata": {
        "id": "r31JmPK6L9Vx"
      }
    },
    {
      "cell_type": "markdown",
      "source": [
        "The following hypothesis test will permit one to test whether or not the treatment has some effect."
      ],
      "metadata": {
        "id": "UHISqVYMLlp7"
      }
    },
    {
      "cell_type": "markdown",
      "source": [
        "$$\\begin{array}{rl}\n",
        "H_{0}: &  \\beta_{0} = 0 \\space and \\space \\beta_{1} = 1 \\\\\n",
        "H_{A}: &  \\beta_{0} \\ne 0 \\space or \\space \\beta_{1} \\ne 1 \\\\\n",
        "\\end{array}\n",
        "$$"
      ],
      "metadata": {
        "id": "Aue4IQgCvkFv"
      }
    },
    {
      "cell_type": "markdown",
      "source": [
        "The following would be the matrix representation of this test."
      ],
      "metadata": {
        "id": "N8G0lxz9MlBC"
      }
    },
    {
      "cell_type": "markdown",
      "source": [
        "$$\\begin{array}{rl}\n",
        "H_{0}: &  \\left[ \\begin{array}{cc} 1 & 0 \\\\ 0 & 1 \\\\ \\end{array} \\right] \n",
        "            \\left[ \\begin{array}{cc} \\beta_{0} \\\\ \\beta_{1}  \\end{array} \\right]   = \\left[ \\begin{array}{cc} 0 \\\\ 1 \\end{array} \\right]\\\\\n",
        "H_{A}: &  \\left[ \\begin{array}{cc} 1 & 0 \\\\ 0 & 1 \\end{array} \\right] \n",
        "            \\left[ \\begin{array}{cc} \\beta_{0} \\\\ \\beta_{1}  \\end{array} \\right]   \\ne \\left[ \\begin{array}{cc} 0 \\\\ 1 \\end{array} \\right]\\\\\n",
        "\\end{array}\n",
        "$$"
      ],
      "metadata": {
        "id": "erjMsMp4M43A"
      }
    },
    {
      "cell_type": "markdown",
      "source": [
        "Conducting this statistical test requires us to use the variance/covariance structure of the model parameters, i.e. $Var(\\mathbf{C}\\underline{\\hat{\\beta}})$.  As mentioned previously, an understanding of $Var(\\underline{\\hat{\\beta}})$ and its properties is important as its used extensively by statisticians when modeling."
      ],
      "metadata": {
        "id": "iKY86iebUSMp"
      }
    },
    {
      "cell_type": "markdown",
      "metadata": {
        "id": "9kkg1lL30Rfw"
      },
      "source": [
        "\n",
        "\n",
        "---\n",
        "\n",
        "\n",
        "\n",
        "---\n",
        "\n",
        "\n",
        "End of Document"
      ]
    }
  ]
}