{
  "nbformat": 4,
  "nbformat_minor": 0,
  "metadata": {
    "colab": {
      "provenance": [],
      "collapsed_sections": [],
      "authorship_tag": "ABX9TyOjNpOdjfUL9biwIa7ChiBq",
      "include_colab_link": true
    },
    "kernelspec": {
      "name": "ir",
      "display_name": "R"
    }
  },
  "cells": [
    {
      "cell_type": "markdown",
      "metadata": {
        "id": "view-in-github",
        "colab_type": "text"
      },
      "source": [
        "<a href=\"https://colab.research.google.com/github/christophermalone/stat360/blob/main/Handout2_PartC_RSquared.ipynb\" target=\"_parent\"><img src=\"https://colab.research.google.com/assets/colab-badge.svg\" alt=\"Open In Colab\"/></a>"
      ]
    },
    {
      "cell_type": "markdown",
      "metadata": {
        "id": "KhClO9b02SXA"
      },
      "source": [
        "# Handout #2 Part C: Computing $R^2$\n"
      ]
    },
    {
      "cell_type": "markdown",
      "metadata": {
        "id": "AXDYLbzK2o7e"
      },
      "source": [
        "<table width='100%' ><tr><td bgcolor='green'></td></tr></table>\n",
        "\n",
        "## Example 2.1 (Con't)\n",
        "\n",
        "Consider the following data that has been collected from students in my introductory statistics course over several past semesters.  \n",
        "\n",
        "<table>\n",
        "  <tr>\n",
        "    <td width='30%' valign='top'>\n",
        "      <ul>\n",
        "        <li><strong>Response Variable</strong>: Hair Length (mm)</li><br>\n",
        "        <li>Variables under investigation (i.e. independent variables)</li>\n",
        "        <ul>\n",
        "          <li>Gender</li>\n",
        "          <li>Height (inches)</li>\n",
        "         </ul>\n",
        "    </ul>\n",
        "    </td>\n",
        "    <td width='70%'>\n",
        "<p align='center'><img src=\"https://drive.google.com/uc?export=view&id=1h4lXsxXMRHVRtdg48vdbMbGahWfGz_oS\" width='50%' height='50%'></img></p>\n",
        "<p align='center'><img src=\"https://drive.google.com/uc?export=view&id=1W1F3yLFTI-AOUOg10Gnl7zsetSX-6lXz\" width='50%' height='50%'></img></p>\n",
        "  </td>\n",
        "</tr>\n",
        "</table>\n",
        "\n",
        "Data Folder: [OneDrive](https://mnscu-my.sharepoint.com/:f:/g/personal/aq7839yd_minnstate_edu/EmOQfrwxzzRBqq8PH_8qTmMBy-1qKgM11Hb8vzjs025EEA?e=wyShYs)\n",
        "\n",
        "\n",
        "\n",
        "<table width='100%' ><tr><td bgcolor='green'></td></tr></table>\n",
        "\n"
      ]
    },
    {
      "cell_type": "markdown",
      "source": [
        "## Proportion of Variance being Explained\n",
        "\n",
        "The potential amount of unexplained variation that can be explained by conditioning certainly depends on the total amount in the marginal distribution. For the Hair Length example when conditioning on Gender, we have:\n",
        "\n",
        "$$\\mbox{Unexplained Variation in Marginal Distribution} = 3836975$$\n",
        "\n",
        "$$\\mbox{Unexplained Variation in Conditional Distribution} = 1209170$$\n",
        "\n",
        "The reduction in the unexplained variation by conditioning is\n",
        "\n",
        "$$\\mbox{Reduction in Unexplained Variation} = 3836975 - 1209170 = 2627805$$\n",
        "\n",
        "\n"
      ],
      "metadata": {
        "id": "EFTLHaJ61rRx"
      }
    },
    {
      "cell_type": "markdown",
      "source": [
        "This reduction is a substantial amount considering that the total unexplained variation in the marginal distribution was 3836975.  As a result, the proportion of unexplained variance taken away by considering the conditional distributions is typically used as a measure of overall usefulness of the conditioning variable(s).  This proportion is commonly referred to as the **coefficient of determination** or $\\bf{R^2}$.\n"
      ],
      "metadata": {
        "id": "9huxV3GBD8XN"
      }
    },
    {
      "cell_type": "markdown",
      "source": [
        "$$\n",
        "R^{2} = \\frac{\\mbox{Total Unexplained Variation in Marginal}-\\mbox{Total Unexplained Variation in Conditional}}{\\mbox{Total Unexplained Variation in Marginal}}\n",
        "$$"
      ],
      "metadata": {
        "id": "LLnRJLfaFYMd"
      }
    },
    {
      "cell_type": "markdown",
      "source": [
        "\n",
        "<u>Notation</u>:\n",
        "\n",
        "*    Sum of Squares Total (i.e. $SS_{Total}$) is commonly used to identify the total unexplained variation in the marginal distribution of the response\n",
        "\n",
        "*    Sum of Squares Error (i.e. $SS_{Error}$) is commonly used to identify the total amount of unexplained variation in the conditional distributions \n"
      ],
      "metadata": {
        "id": "uymSG1gDGC6e"
      }
    },
    {
      "cell_type": "markdown",
      "source": [
        "The coefficient of determination, $R^2$, is defined as follows when using this common notation\n",
        "\n",
        "$$\n",
        "R^{2} = \\frac{(SS_{Total} - SS_{Error})}{SS_{Total}}\n",
        "$$\n",
        "\n",
        "or, more simply\n",
        "\n",
        "$$\n",
        "R^{2} = 1 - \\frac{SS_{Error}}{SS_{Total}}\n",
        "$$\n"
      ],
      "metadata": {
        "id": "yEeqW8gvGRXt"
      }
    },
    {
      "cell_type": "markdown",
      "source": [
        "The coefficient of determination or R2 value for our situation would then be computed as\n",
        "\n",
        "$$ \\begin{array}{rcl}\n",
        "R^{2} & = & \\frac{(SS_{Total} - SS_{Error})}{SS_{Total}} \\\\\n",
        " & = & \\frac{3836975 - 1209170}{3836975} \\\\\n",
        " & = & \\frac{2627805}{3836975} \\\\\n",
        " & = & 0.6849 \\\\\n",
        " & \\approx & 69\\% \\\\\n",
        "\\end{array}\n",
        "$$"
      ],
      "metadata": {
        "id": "JVHrIbNeG4B1"
      }
    },
    {
      "cell_type": "markdown",
      "source": [
        "<u>Question</u>:  What is the the correct interpretation of this quantity, in context?"
      ],
      "metadata": {
        "id": "FqjarruBHV6c"
      }
    },
    {
      "cell_type": "markdown",
      "source": [
        "### Coefficient of Determination"
      ],
      "metadata": {
        "id": "WmJ5HyiLHsuT"
      }
    },
    {
      "cell_type": "markdown",
      "source": [
        "Wiki Entry:  http://en.wikipedia.org/wiki/Coefficient_of_determination\n"
      ],
      "metadata": {
        "id": "K5_jZuCeIDyr"
      }
    },
    {
      "cell_type": "markdown",
      "source": [
        "<p align='center'><img src=\"https://drive.google.com/uc?export=view&id=1L9cGH8m_-h8SR0kMFyBu2exIH7Grdhp-\" width='60%' height='60%'></img></p>\n"
      ],
      "metadata": {
        "id": "KyCRmO8UIK0C"
      }
    },
    {
      "cell_type": "markdown",
      "metadata": {
        "id": "njXGRUIC9Lgs"
      },
      "source": [
        "## Getting Summary Quantities for R^2"
      ]
    },
    {
      "cell_type": "markdown",
      "metadata": {
        "id": "FoT1NFX3DncH"
      },
      "source": [
        "First, getting the tidyverse package loaded into this COLAB session."
      ]
    },
    {
      "cell_type": "code",
      "metadata": {
        "id": "LgaibuX_DtWK",
        "colab": {
          "base_uri": "https://localhost:8080/"
        },
        "outputId": "9a538f9f-5615-47ef-98e1-f33680f34f2e"
      },
      "source": [
        "#load tidyverse package\n",
        "library(tidyverse)"
      ],
      "execution_count": 2,
      "outputs": [
        {
          "output_type": "stream",
          "name": "stderr",
          "text": [
            "Warning message in system(\"timedatectl\", intern = TRUE):\n",
            "“running command 'timedatectl' had status 1”\n",
            "── \u001b[1mAttaching packages\u001b[22m ─────────────────────────────────────── tidyverse 1.3.1 ──\n",
            "\n",
            "\u001b[32m✔\u001b[39m \u001b[34mggplot2\u001b[39m 3.3.6     \u001b[32m✔\u001b[39m \u001b[34mpurrr  \u001b[39m 0.3.4\n",
            "\u001b[32m✔\u001b[39m \u001b[34mtibble \u001b[39m 3.1.7     \u001b[32m✔\u001b[39m \u001b[34mdplyr  \u001b[39m 1.0.9\n",
            "\u001b[32m✔\u001b[39m \u001b[34mtidyr  \u001b[39m 1.2.0     \u001b[32m✔\u001b[39m \u001b[34mstringr\u001b[39m 1.4.1\n",
            "\u001b[32m✔\u001b[39m \u001b[34mreadr  \u001b[39m 2.1.2     \u001b[32m✔\u001b[39m \u001b[34mforcats\u001b[39m 0.5.2\n",
            "\n",
            "── \u001b[1mConflicts\u001b[22m ────────────────────────────────────────── tidyverse_conflicts() ──\n",
            "\u001b[31m✖\u001b[39m \u001b[34mdplyr\u001b[39m::\u001b[32mfilter()\u001b[39m masks \u001b[34mstats\u001b[39m::filter()\n",
            "\u001b[31m✖\u001b[39m \u001b[34mdplyr\u001b[39m::\u001b[32mlag()\u001b[39m    masks \u001b[34mstats\u001b[39m::lag()\n",
            "\n"
          ]
        }
      ]
    },
    {
      "cell_type": "markdown",
      "metadata": {
        "id": "DPqIPen9D5T3"
      },
      "source": [
        "Reading in the data using read_csv() via tidyverse. "
      ]
    },
    {
      "cell_type": "code",
      "metadata": {
        "id": "e07lUbQ1F1cV",
        "colab": {
          "base_uri": "https://localhost:8080/"
        },
        "outputId": "1fdd778d-5ca2-4cd9-f7fe-eae60ccfa1a1"
      },
      "source": [
        "# Reading data in using read.csv via Base \n",
        "HairLength <- read_csv(\"http://www.StatsClass.org/stat360/Datasets/HairLength.csv\")"
      ],
      "execution_count": 3,
      "outputs": [
        {
          "output_type": "stream",
          "name": "stderr",
          "text": [
            "\u001b[1mRows: \u001b[22m\u001b[34m131\u001b[39m \u001b[1mColumns: \u001b[22m\u001b[34m5\u001b[39m\n",
            "\u001b[36m──\u001b[39m \u001b[1mColumn specification\u001b[22m \u001b[36m────────────────────────────────────────────────────────\u001b[39m\n",
            "\u001b[1mDelimiter:\u001b[22m \",\"\n",
            "\u001b[31mchr\u001b[39m (2): Gender, Name\n",
            "\u001b[32mdbl\u001b[39m (3): RowID, Height, Length\n",
            "\n",
            "\u001b[36mℹ\u001b[39m Use `spec()` to retrieve the full column specification for this data.\n",
            "\u001b[36mℹ\u001b[39m Specify the column types or set `show_col_types = FALSE` to quiet this message.\n"
          ]
        }
      ]
    },
    {
      "cell_type": "code",
      "source": [
        "#Getting sum of squared error in marginal distribution\n",
        "(HairLength \n",
        "  %>% summarize(\n",
        "                  Mean = mean(Length),\n",
        "                  Variance = var(Length),\n",
        "                  Count = n(),\n",
        "                  SSE_MarginalDistribution = (Count-1)*Variance\n",
        "               )\n",
        ")"
      ],
      "metadata": {
        "colab": {
          "base_uri": "https://localhost:8080/",
          "height": 129
        },
        "id": "Z-LmmipL8MtU",
        "outputId": "9f8294b7-b68a-48dc-e877-ac3234d6a85e"
      },
      "execution_count": 4,
      "outputs": [
        {
          "output_type": "display_data",
          "data": {
            "text/html": [
              "<table class=\"dataframe\">\n",
              "<caption>A tibble: 1 × 4</caption>\n",
              "<thead>\n",
              "\t<tr><th scope=col>Mean</th><th scope=col>Variance</th><th scope=col>Count</th><th scope=col>SSE_MarginalDistribution</th></tr>\n",
              "\t<tr><th scope=col>&lt;dbl&gt;</th><th scope=col>&lt;dbl&gt;</th><th scope=col>&lt;int&gt;</th><th scope=col>&lt;dbl&gt;</th></tr>\n",
              "</thead>\n",
              "<tbody>\n",
              "\t<tr><td>237.2595</td><td>29515.19</td><td>131</td><td>3836975</td></tr>\n",
              "</tbody>\n",
              "</table>\n"
            ],
            "text/markdown": "\nA tibble: 1 × 4\n\n| Mean &lt;dbl&gt; | Variance &lt;dbl&gt; | Count &lt;int&gt; | SSE_MarginalDistribution &lt;dbl&gt; |\n|---|---|---|---|\n| 237.2595 | 29515.19 | 131 | 3836975 |\n\n",
            "text/latex": "A tibble: 1 × 4\n\\begin{tabular}{llll}\n Mean & Variance & Count & SSE\\_MarginalDistribution\\\\\n <dbl> & <dbl> & <int> & <dbl>\\\\\n\\hline\n\t 237.2595 & 29515.19 & 131 & 3836975\\\\\n\\end{tabular}\n",
            "text/plain": [
              "  Mean     Variance Count SSE_MarginalDistribution\n",
              "1 237.2595 29515.19 131   3836975                 "
            ]
          },
          "metadata": {}
        }
      ]
    },
    {
      "cell_type": "code",
      "source": [
        "#Getting sum of squared error in conditional distribution\n",
        "(HairLength\n",
        "  %>% group_by(Gender) \n",
        "  %>% summarize(\n",
        "                  Mean = mean(Length),\n",
        "                  Variance = var(Length),\n",
        "                  Count = n(),\n",
        "                  SSE = (Count-1)*Variance\n",
        "               )\n",
        ") -> GenderSummaries\n",
        "\n",
        "GenderSummaries\n",
        "\n",
        "cat(\"\\n\\n\")\n",
        "(GenderSummaries\n",
        "  %>% summarize(\n",
        "                SSE_ConditionalDistribution = sum(SSE)\n",
        "  )\n",
        ")"
      ],
      "metadata": {
        "colab": {
          "base_uri": "https://localhost:8080/",
          "height": 308
        },
        "id": "mQ4Q9owGJcp8",
        "outputId": "11bc22d3-a5b3-42c6-bba6-bc242c6bb191"
      },
      "execution_count": 5,
      "outputs": [
        {
          "output_type": "display_data",
          "data": {
            "text/html": [
              "<table class=\"dataframe\">\n",
              "<caption>A tibble: 2 × 5</caption>\n",
              "<thead>\n",
              "\t<tr><th scope=col>Gender</th><th scope=col>Mean</th><th scope=col>Variance</th><th scope=col>Count</th><th scope=col>SSE</th></tr>\n",
              "\t<tr><th scope=col>&lt;chr&gt;</th><th scope=col>&lt;dbl&gt;</th><th scope=col>&lt;dbl&gt;</th><th scope=col>&lt;int&gt;</th><th scope=col>&lt;dbl&gt;</th></tr>\n",
              "</thead>\n",
              "<tbody>\n",
              "\t<tr><td>F</td><td>346.74390</td><td>14171.181</td><td>82</td><td>1147865.62</td></tr>\n",
              "\t<tr><td>M</td><td> 54.04082</td><td> 1277.165</td><td>49</td><td>  61303.92</td></tr>\n",
              "</tbody>\n",
              "</table>\n"
            ],
            "text/markdown": "\nA tibble: 2 × 5\n\n| Gender &lt;chr&gt; | Mean &lt;dbl&gt; | Variance &lt;dbl&gt; | Count &lt;int&gt; | SSE &lt;dbl&gt; |\n|---|---|---|---|---|\n| F | 346.74390 | 14171.181 | 82 | 1147865.62 |\n| M |  54.04082 |  1277.165 | 49 |   61303.92 |\n\n",
            "text/latex": "A tibble: 2 × 5\n\\begin{tabular}{lllll}\n Gender & Mean & Variance & Count & SSE\\\\\n <chr> & <dbl> & <dbl> & <int> & <dbl>\\\\\n\\hline\n\t F & 346.74390 & 14171.181 & 82 & 1147865.62\\\\\n\t M &  54.04082 &  1277.165 & 49 &   61303.92\\\\\n\\end{tabular}\n",
            "text/plain": [
              "  Gender Mean      Variance  Count SSE       \n",
              "1 F      346.74390 14171.181 82    1147865.62\n",
              "2 M       54.04082  1277.165 49      61303.92"
            ]
          },
          "metadata": {}
        },
        {
          "output_type": "stream",
          "name": "stdout",
          "text": [
            "\n",
            "\n"
          ]
        },
        {
          "output_type": "display_data",
          "data": {
            "text/html": [
              "<table class=\"dataframe\">\n",
              "<caption>A tibble: 1 × 1</caption>\n",
              "<thead>\n",
              "\t<tr><th scope=col>SSE_ConditionalDistribution</th></tr>\n",
              "\t<tr><th scope=col>&lt;dbl&gt;</th></tr>\n",
              "</thead>\n",
              "<tbody>\n",
              "\t<tr><td>1209170</td></tr>\n",
              "</tbody>\n",
              "</table>\n"
            ],
            "text/markdown": "\nA tibble: 1 × 1\n\n| SSE_ConditionalDistribution &lt;dbl&gt; |\n|---|\n| 1209170 |\n\n",
            "text/latex": "A tibble: 1 × 1\n\\begin{tabular}{l}\n SSE\\_ConditionalDistribution\\\\\n <dbl>\\\\\n\\hline\n\t 1209170\\\\\n\\end{tabular}\n",
            "text/plain": [
              "  SSE_ConditionalDistribution\n",
              "1 1209170                    "
            ]
          },
          "metadata": {}
        }
      ]
    },
    {
      "cell_type": "markdown",
      "source": [
        "### Fitting a Model"
      ],
      "metadata": {
        "id": "mGe9lMwHFk8X"
      }
    },
    {
      "cell_type": "markdown",
      "source": [
        "The lm() function can be used to fit a linear statistical model to a set of data.\n",
        "\n",
        "Syntax for lm():\n",
        "\n",
        "*     The model structure is provided using $Response \\sim Predictor$\n",
        "*     The dataset must be specified\n",
        "\n",
        "$$\n",
        "lm(Response \\sim Predictor, data = \\space \\space)\n",
        "$$"
      ],
      "metadata": {
        "id": "UqHYPYWOxPdy"
      }
    },
    {
      "cell_type": "code",
      "source": [
        "# Computing R^2 via a model\n",
        "LMModel_Length_Gender <- lm(Length ~ Gender, data = HairLength)\n",
        "summary(LMModel_Length_Gender)"
      ],
      "metadata": {
        "colab": {
          "base_uri": "https://localhost:8080/",
          "height": 329
        },
        "id": "mRcFb2t8FlIl",
        "outputId": "a577ce84-7b18-4b1a-b84d-45b4e729c741"
      },
      "execution_count": 6,
      "outputs": [
        {
          "output_type": "display_data",
          "data": {
            "text/plain": [
              "\n",
              "Call:\n",
              "lm(formula = Length ~ Gender, data = HairLength)\n",
              "\n",
              "Residuals:\n",
              "     Min       1Q   Median       3Q      Max \n",
              "-313.744  -35.541   -1.744   40.256  231.256 \n",
              "\n",
              "Coefficients:\n",
              "            Estimate Std. Error t value Pr(>|t|)    \n",
              "(Intercept)   346.74      10.69   32.43   <2e-16 ***\n",
              "GenderM      -292.70      17.48  -16.74   <2e-16 ***\n",
              "---\n",
              "Signif. codes:  0 ‘***’ 0.001 ‘**’ 0.01 ‘*’ 0.05 ‘.’ 0.1 ‘ ’ 1\n",
              "\n",
              "Residual standard error: 96.82 on 129 degrees of freedom\n",
              "Multiple R-squared:  0.6849,\tAdjusted R-squared:  0.6824 \n",
              "F-statistic: 280.3 on 1 and 129 DF,  p-value: < 2.2e-16\n"
            ]
          },
          "metadata": {}
        }
      ]
    },
    {
      "cell_type": "markdown",
      "source": [
        "Consider the following components of the linear model output."
      ],
      "metadata": {
        "id": "0aPf4y3Zylee"
      }
    },
    {
      "cell_type": "markdown",
      "source": [
        "<p align='center'><img src=\"https://drive.google.com/uc?export=view&id=1YxVOvHhsQgDp-MXl2vkGn1RSTTCObl9i\" width='60%' height='60%'></img></p>"
      ],
      "metadata": {
        "id": "kDmJmGBgxCfs"
      }
    },
    {
      "cell_type": "markdown",
      "source": [
        "<u>Comments</u>:\n",
        "\n",
        "*  The Call: portion of the output provides information regarding the model specification\n",
        "*  The Estimates provide the group means; (Intercept) is the estimated mean for Females, and (Intercept) + GenderM is the estimated mean for Males.\n",
        "*   The $R^2 = 0.6849 = 68.49\\%$ is the Multiple R-Squared value in this output"
      ],
      "metadata": {
        "id": "3a8g9Mzlyz9l"
      }
    },
    {
      "cell_type": "markdown",
      "metadata": {
        "id": "9kkg1lL30Rfw"
      },
      "source": [
        "\n",
        "---\n",
        "\n",
        "\n",
        "\n",
        "---\n",
        "End of Document\n"
      ]
    }
  ]
}