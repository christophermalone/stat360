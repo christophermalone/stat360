{
  "nbformat": 4,
  "nbformat_minor": 0,
  "metadata": {
    "colab": {
      "name": "HW1_Fall2021.ipynb",
      "provenance": [],
      "collapsed_sections": [],
      "authorship_tag": "ABX9TyPZN1mHKopw2ZyBFuLmBB6x",
      "include_colab_link": true
    },
    "kernelspec": {
      "name": "ir",
      "display_name": "R"
    }
  },
  "cells": [
    {
      "cell_type": "markdown",
      "metadata": {
        "id": "view-in-github",
        "colab_type": "text"
      },
      "source": [
        "<a href=\"https://colab.research.google.com/github/christophermalone/stat360/blob/main/HW1_Fall2021.ipynb\" target=\"_parent\"><img src=\"https://colab.research.google.com/assets/colab-badge.svg\" alt=\"Open In Colab\"/></a>"
      ]
    },
    {
      "cell_type": "markdown",
      "metadata": {
        "id": "KhClO9b02SXA"
      },
      "source": [
        "# Homework #1 - Fall 2021"
      ]
    },
    {
      "cell_type": "markdown",
      "metadata": {
        "id": "AXDYLbzK2o7e"
      },
      "source": [
        "<table width='100%' ><tr><td bgcolor='green'></td></tr></table>\n",
        "\n",
        "## Find Cars Dataset\n",
        "\n",
        "Consider the following data collected from the FindCars.com website.  Findcars provides information on cars for sale in our geographic region.  \n",
        "<table>\n",
        "  <tr>\n",
        "    <td width='50%'>\n",
        "      <ul>\n",
        "        <li><strong>Response Variable</strong>: Pirce ($)</li><br>\n",
        "        <li>Variables under investigation (i.e. independent variables)</li>\n",
        "        <ul>\n",
        "          <li>CarType, e.g. car, pickup, suv, etc.</li>\n",
        "          <li>ForeignBased: Is the manufactor outside the US?</li>\n",
        "          <li>Color</li>\n",
        "         </ul>\n",
        "    </ul>\n",
        "    </td>\n",
        "    <td width='50%'>\n",
        "      &nbsp;\n",
        "  </td>\n",
        "</tr>\n",
        "</table>\n",
        "\n",
        "Data Folder: [OneDrive](https://mnscu-my.sharepoint.com/:f:/g/personal/aq7839yd_minnstate_edu/EmOQfrwxzzRBqq8PH_8qTmMBy-1qKgM11Hb8vzjs025EEA?e=wyShYs)\n",
        "\n",
        "\n",
        "\n",
        "<table width='100%' ><tr><td bgcolor='green'></td></tr></table>\n",
        "\n"
      ]
    },
    {
      "cell_type": "markdown",
      "metadata": {
        "id": "njXGRUIC9Lgs"
      },
      "source": [
        "## Load Data into R via URL"
      ]
    },
    {
      "cell_type": "markdown",
      "metadata": {
        "id": "FoT1NFX3DncH"
      },
      "source": [
        "The tidyverse R package will be used to assist with reading in the dataset into the current R session."
      ]
    },
    {
      "cell_type": "code",
      "metadata": {
        "id": "LgaibuX_DtWK",
        "cellView": "form",
        "colab": {
          "base_uri": "https://localhost:8080/"
        },
        "outputId": "b1aa4985-9cc9-4f94-a0b0-9fd935cbdc53"
      },
      "source": [
        "#@title Load Tidyverse\n",
        "#load tidyverse package\n",
        "library(tidyverse)"
      ],
      "execution_count": null,
      "outputs": [
        {
          "output_type": "stream",
          "text": [
            "Warning message in system(\"timedatectl\", intern = TRUE):\n",
            "“running command 'timedatectl' had status 1”\n",
            "── \u001b[1mAttaching packages\u001b[22m ─────────────────────────────────────── tidyverse 1.3.1 ──\n",
            "\n",
            "\u001b[32m✔\u001b[39m \u001b[34mggplot2\u001b[39m 3.3.5     \u001b[32m✔\u001b[39m \u001b[34mpurrr  \u001b[39m 0.3.4\n",
            "\u001b[32m✔\u001b[39m \u001b[34mtibble \u001b[39m 3.1.3     \u001b[32m✔\u001b[39m \u001b[34mdplyr  \u001b[39m 1.0.7\n",
            "\u001b[32m✔\u001b[39m \u001b[34mtidyr  \u001b[39m 1.1.3     \u001b[32m✔\u001b[39m \u001b[34mstringr\u001b[39m 1.4.0\n",
            "\u001b[32m✔\u001b[39m \u001b[34mreadr  \u001b[39m 2.0.1     \u001b[32m✔\u001b[39m \u001b[34mforcats\u001b[39m 0.5.1\n",
            "\n",
            "── \u001b[1mConflicts\u001b[22m ────────────────────────────────────────── tidyverse_conflicts() ──\n",
            "\u001b[31m✖\u001b[39m \u001b[34mdplyr\u001b[39m::\u001b[32mfilter()\u001b[39m masks \u001b[34mstats\u001b[39m::filter()\n",
            "\u001b[31m✖\u001b[39m \u001b[34mdplyr\u001b[39m::\u001b[32mlag()\u001b[39m    masks \u001b[34mstats\u001b[39m::lag()\n",
            "\n"
          ],
          "name": "stderr"
        }
      ]
    },
    {
      "cell_type": "markdown",
      "metadata": {
        "id": "DPqIPen9D5T3"
      },
      "source": [
        "The **read_csv()** function is used to read in the dataset. "
      ]
    },
    {
      "cell_type": "code",
      "metadata": {
        "id": "e07lUbQ1F1cV"
      },
      "source": [
        "#@title Readin Data\n",
        "\n",
        "# Reading data in using read.csv via Base \n",
        "FindCars <- read.csv(\"http://www.StatsClass.org/stat360/Datasets/FindCars.csv\")"
      ],
      "execution_count": 1,
      "outputs": []
    },
    {
      "cell_type": "markdown",
      "metadata": {
        "id": "irbG4lJbENzv"
      },
      "source": [
        "The **head()** function can be used to see the first few lines of the dataset.  Similarly, the tail() function can be used to see the last few lines of a dataset."
      ]
    },
    {
      "cell_type": "code",
      "metadata": {
        "id": "HYKWH2i0EN6s",
        "colab": {
          "base_uri": "https://localhost:8080/",
          "height": 286
        },
        "outputId": "adc7195a-4f7a-4219-9957-0bb451a27543"
      },
      "source": [
        "#@title View the first few rows of data\n",
        "head(FindCars)"
      ],
      "execution_count": 3,
      "outputs": [
        {
          "output_type": "display_data",
          "data": {
            "text/plain": [
              "  Description                       Year Make   Price Call.For.Price Miles \n",
              "1 2010 Acura TL SH-AWD W/TECH W/HPT 2010  Acura 9995  No             151126\n",
              "2 2019 Acura TLX SH-AWD             2019  Acura 35579 No              37506\n",
              "3 2019 Acura TLX A-Spec             2019  Acura       Yes              9707\n",
              "4 2010 Acura TSX                    2010  Acura 6500  No             165000\n",
              "5 2020 Audi A3 S line Premium 45 TF 2020  Audi  38940 No                  0\n",
              "6 2021 Audi A4 Premium              2021  Audi  43805 No                  0\n",
              "  CarType ForeignBased Engine           DriveTrain    ExactColor            \n",
              "1 Car     Yes          3.5L V6 SOHC 24V Auto  4WD/AWD Black                 \n",
              "2 Car     Yes          3.5L V6 SOHC 24V Auto  4WD/AWD White                 \n",
              "3 Car     Yes          3.5L V6 SOHC 24V Auto  FWD     White                 \n",
              "4 Car     Yes          2.4L L4 DOHC 16V Auto  FWD     Gray                  \n",
              "5 Car     Yes          2.0L L4 DOHC 16V Auto  4WD/AWD Mythos Blk Met        \n",
              "6 Car     Yes          4 2.0 L          Auto          Glacier White Metallic\n",
              "  Color Dealer                Location      Sold\n",
              "1 Black Eagle Motors WI       Onalaska, WI  No  \n",
              "2 White Tom Kadlec Honda      Rochester, MN No  \n",
              "3 White Shakopee Chevrolet    Shakopee, MN  No  \n",
              "4 Gray  Midway Auto Sales     Rochester, MN No  \n",
              "5       Park Place Motor Cars Rochester, MN No  \n",
              "6 White Park Place Motor Cars Rochester, MN No  "
            ],
            "text/latex": "A data.frame: 6 × 15\n\\begin{tabular}{r|lllllllllllllll}\n  & Description & Year & Make & Price & Call.For.Price & Miles & CarType & ForeignBased & Engine & DriveTrain & ExactColor & Color & Dealer & Location & Sold\\\\\n  & <chr> & <int> & <chr> & <chr> & <chr> & <int> & <chr> & <chr> & <chr> & <chr> & <chr> & <chr> & <chr> & <chr> & <chr>\\\\\n\\hline\n\t1 & 2010 Acura TL SH-AWD W/TECH W/HPT & 2010 &  Acura & 9995  & No  & 151126 & Car & Yes & 3.5L V6 SOHC 24V & Auto  4WD/AWD & Black                  & Black & Eagle Motors WI       & Onalaska, WI  & No\\\\\n\t2 & 2019 Acura TLX SH-AWD             & 2019 &  Acura & 35579 & No  &  37506 & Car & Yes & 3.5L V6 SOHC 24V & Auto  4WD/AWD & White                  & White & Tom Kadlec Honda      & Rochester, MN & No\\\\\n\t3 & 2019 Acura TLX A-Spec             & 2019 &  Acura &       & Yes &   9707 & Car & Yes & 3.5L V6 SOHC 24V & Auto  FWD     & White                  & White & Shakopee Chevrolet    & Shakopee, MN  & No\\\\\n\t4 & 2010 Acura TSX                    & 2010 &  Acura & 6500  & No  & 165000 & Car & Yes & 2.4L L4 DOHC 16V & Auto  FWD     & Gray                   & Gray  & Midway Auto Sales     & Rochester, MN & No\\\\\n\t5 & 2020 Audi A3 S line Premium 45 TF & 2020 &  Audi  & 38940 & No  &      0 & Car & Yes & 2.0L L4 DOHC 16V & Auto  4WD/AWD & Mythos Blk Met         &       & Park Place Motor Cars & Rochester, MN & No\\\\\n\t6 & 2021 Audi A4 Premium              & 2021 &  Audi  & 43805 & No  &      0 & Car & Yes & 4 2.0 L          & Auto          & Glacier White Metallic & White & Park Place Motor Cars & Rochester, MN & No\\\\\n\\end{tabular}\n",
            "text/markdown": "\nA data.frame: 6 × 15\n\n| <!--/--> | Description &lt;chr&gt; | Year &lt;int&gt; | Make &lt;chr&gt; | Price &lt;chr&gt; | Call.For.Price &lt;chr&gt; | Miles &lt;int&gt; | CarType &lt;chr&gt; | ForeignBased &lt;chr&gt; | Engine &lt;chr&gt; | DriveTrain &lt;chr&gt; | ExactColor &lt;chr&gt; | Color &lt;chr&gt; | Dealer &lt;chr&gt; | Location &lt;chr&gt; | Sold &lt;chr&gt; |\n|---|---|---|---|---|---|---|---|---|---|---|---|---|---|---|---|\n| 1 | 2010 Acura TL SH-AWD W/TECH W/HPT | 2010 |  Acura | 9995  | No  | 151126 | Car | Yes | 3.5L V6 SOHC 24V | Auto  4WD/AWD | Black                  | Black | Eagle Motors WI       | Onalaska, WI  | No |\n| 2 | 2019 Acura TLX SH-AWD             | 2019 |  Acura | 35579 | No  |  37506 | Car | Yes | 3.5L V6 SOHC 24V | Auto  4WD/AWD | White                  | White | Tom Kadlec Honda      | Rochester, MN | No |\n| 3 | 2019 Acura TLX A-Spec             | 2019 |  Acura | <!----> | Yes |   9707 | Car | Yes | 3.5L V6 SOHC 24V | Auto  FWD     | White                  | White | Shakopee Chevrolet    | Shakopee, MN  | No |\n| 4 | 2010 Acura TSX                    | 2010 |  Acura | 6500  | No  | 165000 | Car | Yes | 2.4L L4 DOHC 16V | Auto  FWD     | Gray                   | Gray  | Midway Auto Sales     | Rochester, MN | No |\n| 5 | 2020 Audi A3 S line Premium 45 TF | 2020 |  Audi  | 38940 | No  |      0 | Car | Yes | 2.0L L4 DOHC 16V | Auto  4WD/AWD | Mythos Blk Met         | <!----> | Park Place Motor Cars | Rochester, MN | No |\n| 6 | 2021 Audi A4 Premium              | 2021 |  Audi  | 43805 | No  |      0 | Car | Yes | 4 2.0 L          | Auto          | Glacier White Metallic | White | Park Place Motor Cars | Rochester, MN | No |\n\n",
            "text/html": [
              "<table class=\"dataframe\">\n",
              "<caption>A data.frame: 6 × 15</caption>\n",
              "<thead>\n",
              "\t<tr><th></th><th scope=col>Description</th><th scope=col>Year</th><th scope=col>Make</th><th scope=col>Price</th><th scope=col>Call.For.Price</th><th scope=col>Miles</th><th scope=col>CarType</th><th scope=col>ForeignBased</th><th scope=col>Engine</th><th scope=col>DriveTrain</th><th scope=col>ExactColor</th><th scope=col>Color</th><th scope=col>Dealer</th><th scope=col>Location</th><th scope=col>Sold</th></tr>\n",
              "\t<tr><th></th><th scope=col>&lt;chr&gt;</th><th scope=col>&lt;int&gt;</th><th scope=col>&lt;chr&gt;</th><th scope=col>&lt;chr&gt;</th><th scope=col>&lt;chr&gt;</th><th scope=col>&lt;int&gt;</th><th scope=col>&lt;chr&gt;</th><th scope=col>&lt;chr&gt;</th><th scope=col>&lt;chr&gt;</th><th scope=col>&lt;chr&gt;</th><th scope=col>&lt;chr&gt;</th><th scope=col>&lt;chr&gt;</th><th scope=col>&lt;chr&gt;</th><th scope=col>&lt;chr&gt;</th><th scope=col>&lt;chr&gt;</th></tr>\n",
              "</thead>\n",
              "<tbody>\n",
              "\t<tr><th scope=row>1</th><td>2010 Acura TL SH-AWD W/TECH W/HPT</td><td>2010</td><td> Acura</td><td>9995 </td><td>No </td><td>151126</td><td>Car</td><td>Yes</td><td>3.5L V6 SOHC 24V</td><td>Auto  4WD/AWD</td><td>Black                 </td><td>Black</td><td>Eagle Motors WI      </td><td>Onalaska, WI </td><td>No</td></tr>\n",
              "\t<tr><th scope=row>2</th><td>2019 Acura TLX SH-AWD            </td><td>2019</td><td> Acura</td><td>35579</td><td>No </td><td> 37506</td><td>Car</td><td>Yes</td><td>3.5L V6 SOHC 24V</td><td>Auto  4WD/AWD</td><td>White                 </td><td>White</td><td>Tom Kadlec Honda     </td><td>Rochester, MN</td><td>No</td></tr>\n",
              "\t<tr><th scope=row>3</th><td>2019 Acura TLX A-Spec            </td><td>2019</td><td> Acura</td><td>     </td><td>Yes</td><td>  9707</td><td>Car</td><td>Yes</td><td>3.5L V6 SOHC 24V</td><td>Auto  FWD    </td><td>White                 </td><td>White</td><td>Shakopee Chevrolet   </td><td>Shakopee, MN </td><td>No</td></tr>\n",
              "\t<tr><th scope=row>4</th><td>2010 Acura TSX                   </td><td>2010</td><td> Acura</td><td>6500 </td><td>No </td><td>165000</td><td>Car</td><td>Yes</td><td>2.4L L4 DOHC 16V</td><td>Auto  FWD    </td><td>Gray                  </td><td>Gray </td><td>Midway Auto Sales    </td><td>Rochester, MN</td><td>No</td></tr>\n",
              "\t<tr><th scope=row>5</th><td>2020 Audi A3 S line Premium 45 TF</td><td>2020</td><td> Audi </td><td>38940</td><td>No </td><td>     0</td><td>Car</td><td>Yes</td><td>2.0L L4 DOHC 16V</td><td>Auto  4WD/AWD</td><td>Mythos Blk Met        </td><td>     </td><td>Park Place Motor Cars</td><td>Rochester, MN</td><td>No</td></tr>\n",
              "\t<tr><th scope=row>6</th><td>2021 Audi A4 Premium             </td><td>2021</td><td> Audi </td><td>43805</td><td>No </td><td>     0</td><td>Car</td><td>Yes</td><td>4 2.0 L         </td><td>Auto         </td><td>Glacier White Metallic</td><td>White</td><td>Park Place Motor Cars</td><td>Rochester, MN</td><td>No</td></tr>\n",
              "</tbody>\n",
              "</table>\n"
            ]
          },
          "metadata": {}
        }
      ]
    },
    {
      "cell_type": "markdown",
      "metadata": {
        "id": "oV94hIr3Edo4"
      },
      "source": [
        "## Basic Summary Statistics"
      ]
    },
    {
      "cell_type": "markdown",
      "metadata": {
        "id": "IvVORVE_3-3t"
      },
      "source": [
        "1. Obtain the basic summary statistics for Price.  Provide an brief interpretation of the mean and standard deviation."
      ]
    },
    {
      "cell_type": "markdown",
      "metadata": {
        "id": "vJDIn-N04NYF"
      },
      "source": [
        "2. Create a histogram of Price.  Add a kernal density smoother to this histogram.  Briefly discuss what is learned about Price when considering this histogram."
      ]
    },
    {
      "cell_type": "markdown",
      "metadata": {
        "id": "uYYSkWMs4b33"
      },
      "source": [
        "3. Create a CDF plot for Price.  This plot has a long tail on the upper end of this plot.  Why is this happening?"
      ]
    },
    {
      "cell_type": "markdown",
      "metadata": {
        "id": "OhQ3TMDq4_H1"
      },
      "source": [
        "4. Some believe Color impact Price.  For example, White cars tend to be cheaper?  Does this appear to be true?  Discuss briefly."
      ]
    },
    {
      "cell_type": "markdown",
      "metadata": {
        "id": "cXZ09CP84sKN"
      },
      "source": [
        "5. Use descriptive summaries and graphs to investigate the effect of CarType on Price.  Briefly describe what is learned in this investigation."
      ]
    },
    {
      "cell_type": "markdown",
      "metadata": {
        "id": "oEP3blYK5LXK"
      },
      "source": [
        "6. Use descriptive summaries and graphs to investigate the effect of ForeignBased on Price.  Briefly describe what is learned in this investigation."
      ]
    },
    {
      "cell_type": "markdown",
      "metadata": {
        "id": "dMjMdVGz5Pd-"
      },
      "source": [
        "7. Which predictor variable, CarType or ForeignBased, appears to have more effect on Price?  Briefly discuss."
      ]
    }
  ]
}