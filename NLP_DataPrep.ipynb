{
  "nbformat": 4,
  "nbformat_minor": 0,
  "metadata": {
    "colab": {
      "name": "NLP_DataPrep.ipynb",
      "provenance": [],
      "authorship_tag": "ABX9TyOLyi2HjuqP1UtF6kgnJFat",
      "include_colab_link": true
    },
    "kernelspec": {
      "name": "python3",
      "display_name": "Python 3"
    },
    "language_info": {
      "name": "python"
    }
  },
  "cells": [
    {
      "cell_type": "markdown",
      "metadata": {
        "id": "view-in-github",
        "colab_type": "text"
      },
      "source": [
        "<a href=\"https://colab.research.google.com/github/christophermalone/stat360/blob/main/NLP_DataPrep.ipynb\" target=\"_parent\"><img src=\"https://colab.research.google.com/assets/colab-badge.svg\" alt=\"Open In Colab\"/></a>"
      ]
    },
    {
      "cell_type": "markdown",
      "metadata": {
        "id": "5CqQN9Jsz41f"
      },
      "source": [
        "# Natural Language Processing - Data Prep"
      ]
    },
    {
      "cell_type": "markdown",
      "metadata": {
        "id": "fZYQQVQH8wAy"
      },
      "source": [
        "Natural language processing (NLP) is a area of data science in which one writes code to process and analyze large amounts of data centered around language.  The goal is to get code to extract information and insights contained within the written language.\n",
        "\n",
        "In our case study here, natrual language processing will be used to evaluate language contained in reviews of products from Amazon.  Why process language?\n",
        "\n",
        "\n",
        "*   Automatically identify \"negative\" reviews so that an employee can address the review directly\n",
        "*   To better understand the nuances in language that makes a review helpful to consumers\n",
        "\n"
      ]
    },
    {
      "cell_type": "markdown",
      "metadata": {
        "id": "mqyq7xt3-o4J"
      },
      "source": [
        "## Getting a Set of Reviews"
      ]
    },
    {
      "cell_type": "markdown",
      "metadata": {
        "id": "N1Kb3-z7-vzQ"
      },
      "source": [
        "There will be three different Amazon products under consideration here -- a waterproof matress protector that has been identified as a \"good\" product, liquid grass seed that has been identifed as a \"bad\" product, and a book titled, \"I Wish My Kid Had Cancer\" where reviews are considered \"emotional\".\n",
        "\n",
        "*   Amazon Product - Good:  https://www.amazon.com/SafeRest-Hypoallergenic-Waterproof-Mattress-Protector/dp/B003PWNGQU\n",
        "*   Amazon Product - Bad:  https://www.amazon.com/Hydro-Mousse-Liquid-Fescue-Hydroseeding/dp/B00LMFJ8KA/?th=1\n",
        "*   Amazon Product - Emotional: https://www.amazon.com/Wish-Kids-Had-Cancer-Surviving/dp/1606720708/ \n",
        "\n",
        "\n",
        "\n"
      ]
    },
    {
      "cell_type": "markdown",
      "metadata": {
        "id": "7Aq-k3YuADSJ"
      },
      "source": [
        "There exists a Google Chrome extention that can be used to easily extract Amazon reviews into a CSV file.  The <strong>Amazon Reviews Exporter</strong> is the name of this Chrome extension.\n",
        "\n",
        "<p align='center'><img src=\"https://drive.google.com/uc?export=view&id=1qOoO-ZDNGsvcAjFYEidVTM-IVjjwhF0S\" width=\"75%\" height=\"75%\"></img></p>\n",
        "\n"
      ]
    },
    {
      "cell_type": "markdown",
      "metadata": {
        "id": "qehPTW5JCuzr"
      },
      "source": [
        "To use the Amazon Review Exporter, simply navigate to a website on Amazon and open the App.  The App has several options that can be specified, e.g. limit the number of reviews, keywords, download images, etc.\n",
        "\n",
        "<p align='center'><img src=\"https://drive.google.com/uc?export=view&id=17VxR-0KgwVaeDZtg6gcOGnxtdK0siFzW\" width=\"25%\" height=\"25%\"></img></p>\n"
      ]
    },
    {
      "cell_type": "markdown",
      "metadata": {
        "id": "KE6Pg_ZnGAIt"
      },
      "source": [
        "The following snip-if is an example of the information captured by the Amazon Reviews Exporter.\n",
        "\n",
        "\n",
        "<p align='center'><img src=\"https://drive.google.com/uc?export=view&id=1K7oDtidJNUcq6rXpOf9lfsyTOEGTYUBu\" width=\"100%\" height=\"100%\"></img></p>\n"
      ]
    },
    {
      "cell_type": "markdown",
      "metadata": {
        "id": "SPwpXf-iH6Kw"
      },
      "source": [
        "## Reading a CSV File into Python"
      ]
    },
    {
      "cell_type": "markdown",
      "metadata": {
        "id": "hHkbokTTIAue"
      },
      "source": [
        "The <strong>pandas</strong> library will be used for data prep tasks in Python.  The following code will import the pandas package and <strong>pd</strong> will be the name given to this library within our code. "
      ]
    },
    {
      "cell_type": "code",
      "metadata": {
        "id": "Qnb3T9ngIZM2"
      },
      "source": [
        "# install and import pandas library\n",
        "import pandas as pd"
      ],
      "execution_count": null,
      "outputs": []
    },
    {
      "cell_type": "markdown",
      "metadata": {
        "id": "YIkIInyWJ54f"
      },
      "source": [
        "The read_csv() function from the pandas library will be used to read in the CSV file that contains the reviews.  "
      ]
    },
    {
      "cell_type": "code",
      "metadata": {
        "colab": {
          "base_uri": "https://localhost:8080/",
          "height": 310
        },
        "id": "40RxjsEzz5ag",
        "outputId": "39890686-c266-46ec-ddea-e4b5ec8acc94"
      },
      "source": [
        "# Creating a pandas dataframe from the CSV file containing the reviews to be analyzed\n",
        "Reviews = pd.read_csv('/content/sample_data/AmazonReviews_Good.csv', sep=',')\n",
        "#Reviews = pd.read_csv('/content/sample_data/AmazonReviews_Poor.csv', sep=',')\n",
        "#Reviews = pd.read_csv('/content/sample_data/AmazonReviews_Emotional.csv', sep=',')\n",
        "\n",
        "#Taking a look at the first five reviews\n",
        "Reviews.head()"
      ],
      "execution_count": null,
      "outputs": [
        {
          "output_type": "execute_result",
          "data": {
            "text/html": [
              "<div>\n",
              "<style scoped>\n",
              "    .dataframe tbody tr th:only-of-type {\n",
              "        vertical-align: middle;\n",
              "    }\n",
              "\n",
              "    .dataframe tbody tr th {\n",
              "        vertical-align: top;\n",
              "    }\n",
              "\n",
              "    .dataframe thead th {\n",
              "        text-align: right;\n",
              "    }\n",
              "</style>\n",
              "<table border=\"1\" class=\"dataframe\">\n",
              "  <thead>\n",
              "    <tr style=\"text-align: right;\">\n",
              "      <th></th>\n",
              "      <th>id</th>\n",
              "      <th>profileName</th>\n",
              "      <th>text</th>\n",
              "      <th>date</th>\n",
              "      <th>title</th>\n",
              "      <th>rating</th>\n",
              "      <th>images</th>\n",
              "      <th>helpful</th>\n",
              "      <th>Size</th>\n",
              "    </tr>\n",
              "  </thead>\n",
              "  <tbody>\n",
              "    <tr>\n",
              "      <th>0</th>\n",
              "      <td>R24BGSL5VYNKCP</td>\n",
              "      <td>P G</td>\n",
              "      <td>\\n  Got this for my 3 year old's bed. She's po...</td>\n",
              "      <td>Reviewed in the United States on October 23, 2018</td>\n",
              "      <td>Wasn't urine-proof</td>\n",
              "      <td>1</td>\n",
              "      <td>NaN</td>\n",
              "      <td>3</td>\n",
              "      <td>Twin</td>\n",
              "    </tr>\n",
              "    <tr>\n",
              "      <th>1</th>\n",
              "      <td>R2L7FX82QZOWCB</td>\n",
              "      <td>klmvi</td>\n",
              "      <td>\\n  I spent many hours reviewing water proof p...</td>\n",
              "      <td>Reviewed in the United States on March 10, 2018</td>\n",
              "      <td>I read all of the 1 and 2 star reviews for a v...</td>\n",
              "      <td>5</td>\n",
              "      <td>NaN</td>\n",
              "      <td>3</td>\n",
              "      <td>King</td>\n",
              "    </tr>\n",
              "    <tr>\n",
              "      <th>2</th>\n",
              "      <td>R2QUPFXE8FUZ3L</td>\n",
              "      <td>J. Clark</td>\n",
              "      <td>\\n  Seemed to work great for two years, but yo...</td>\n",
              "      <td>Reviewed in the United States on October 5, 2018</td>\n",
              "      <td>DISINTEGRATED. MATTRESS RUINED.</td>\n",
              "      <td>1</td>\n",
              "      <td>https://images-na.ssl-images-amazon.com/images...</td>\n",
              "      <td>2</td>\n",
              "      <td>King</td>\n",
              "    </tr>\n",
              "    <tr>\n",
              "      <th>3</th>\n",
              "      <td>R1GJUJSPBI0OVM</td>\n",
              "      <td>Kevin C.</td>\n",
              "      <td>\\n  My wife went into labor a year and a half ...</td>\n",
              "      <td>Reviewed in the United States on September 2, ...</td>\n",
              "      <td>Protected mattress through birth!</td>\n",
              "      <td>5</td>\n",
              "      <td>NaN</td>\n",
              "      <td>12</td>\n",
              "      <td>Queen</td>\n",
              "    </tr>\n",
              "    <tr>\n",
              "      <th>4</th>\n",
              "      <td>RB220J2C8V7MU</td>\n",
              "      <td>Nikki Trost</td>\n",
              "      <td>\\n  Our dog has an incontinence issue and has ...</td>\n",
              "      <td>Reviewed in the United States on October 6, 2017</td>\n",
              "      <td>Best of several we've tried by far</td>\n",
              "      <td>5</td>\n",
              "      <td>NaN</td>\n",
              "      <td>1</td>\n",
              "      <td>King</td>\n",
              "    </tr>\n",
              "  </tbody>\n",
              "</table>\n",
              "</div>"
            ],
            "text/plain": [
              "               id  profileName  ... helpful   Size\n",
              "0  R24BGSL5VYNKCP          P G  ...       3   Twin\n",
              "1  R2L7FX82QZOWCB        klmvi  ...       3   King\n",
              "2  R2QUPFXE8FUZ3L     J. Clark  ...       2   King\n",
              "3  R1GJUJSPBI0OVM     Kevin C.  ...      12  Queen\n",
              "4   RB220J2C8V7MU  Nikki Trost  ...       1   King\n",
              "\n",
              "[5 rows x 9 columns]"
            ]
          },
          "metadata": {},
          "execution_count": 23
        }
      ]
    },
    {
      "cell_type": "markdown",
      "metadata": {
        "id": "4e4kIIPhNmdd"
      },
      "source": [
        "The print() function can be used to print out an entire review.  Here the text from the $27^{th}$ review is being printed, i.e. Python starts its counting at 0."
      ]
    },
    {
      "cell_type": "code",
      "metadata": {
        "colab": {
          "base_uri": "https://localhost:8080/"
        },
        "id": "-SHm_QSxNmls",
        "outputId": "d068b0e3-8f36-4e2e-ac3f-c7f359177cca"
      },
      "source": [
        "print(Reviews.iloc[26]['text'])"
      ],
      "execution_count": null,
      "outputs": [
        {
          "output_type": "stream",
          "name": "stdout",
          "text": [
            "\n",
            "  Nice protector! Does just what I needed. Deep pockets for the thicker mattresses, and it stays on well.I really like this product. Reasonably priced, too.\n",
            "\n"
          ]
        }
      ]
    },
    {
      "cell_type": "markdown",
      "metadata": {
        "id": "AA8YJ-cV0mvZ"
      },
      "source": [
        "## Getting rid of all non-alphabetic characters"
      ]
    },
    {
      "cell_type": "markdown",
      "metadata": {
        "id": "Xi2DilgAQN-0"
      },
      "source": [
        "The first data processing step will be to get rid of all non-alphabetic characters.  The regular expression library will be use to accomplish task.\n",
        "\n",
        "\n",
        "\n",
        "*   A custom function called clean() is created to facilitate this task\n",
        "*   The function is called using the .apply() method\n",
        "*   The reviews that have the non-alphabetic characters removed are put into variable called CleanedReviews\n",
        "\n"
      ]
    },
    {
      "cell_type": "code",
      "metadata": {
        "colab": {
          "base_uri": "https://localhost:8080/",
          "height": 379
        },
        "id": "3g7uMWnS0m33",
        "outputId": "889785dd-47fe-43d6-82c8-8576e1baed5a"
      },
      "source": [
        "import re as re\n",
        "\n",
        "# Define a function to clean the text\n",
        "def clean(text):\n",
        "    # Removes all special characters and numericals leaving the alphabets\n",
        "    text = re.sub('[^A-Za-z]+', ' ', str(text)) \n",
        "    return text\n",
        "\n",
        "# Removing the non-alphabetic characters\n",
        "Reviews['CleanedReviews'] = Reviews['text'].apply(clean)\n",
        "Reviews.head()"
      ],
      "execution_count": null,
      "outputs": [
        {
          "output_type": "execute_result",
          "data": {
            "text/html": [
              "<div>\n",
              "<style scoped>\n",
              "    .dataframe tbody tr th:only-of-type {\n",
              "        vertical-align: middle;\n",
              "    }\n",
              "\n",
              "    .dataframe tbody tr th {\n",
              "        vertical-align: top;\n",
              "    }\n",
              "\n",
              "    .dataframe thead th {\n",
              "        text-align: right;\n",
              "    }\n",
              "</style>\n",
              "<table border=\"1\" class=\"dataframe\">\n",
              "  <thead>\n",
              "    <tr style=\"text-align: right;\">\n",
              "      <th></th>\n",
              "      <th>id</th>\n",
              "      <th>profileName</th>\n",
              "      <th>text</th>\n",
              "      <th>date</th>\n",
              "      <th>title</th>\n",
              "      <th>rating</th>\n",
              "      <th>images</th>\n",
              "      <th>helpful</th>\n",
              "      <th>Size</th>\n",
              "      <th>CleanedReviews</th>\n",
              "    </tr>\n",
              "  </thead>\n",
              "  <tbody>\n",
              "    <tr>\n",
              "      <th>0</th>\n",
              "      <td>R24BGSL5VYNKCP</td>\n",
              "      <td>P G</td>\n",
              "      <td>\\n  Got this for my 3 year old's bed. She's po...</td>\n",
              "      <td>Reviewed in the United States on October 23, 2018</td>\n",
              "      <td>Wasn't urine-proof</td>\n",
              "      <td>1</td>\n",
              "      <td>NaN</td>\n",
              "      <td>3</td>\n",
              "      <td>Twin</td>\n",
              "      <td>Got this for my year old s bed She s potty tr...</td>\n",
              "    </tr>\n",
              "    <tr>\n",
              "      <th>1</th>\n",
              "      <td>R2L7FX82QZOWCB</td>\n",
              "      <td>klmvi</td>\n",
              "      <td>\\n  I spent many hours reviewing water proof p...</td>\n",
              "      <td>Reviewed in the United States on March 10, 2018</td>\n",
              "      <td>I read all of the 1 and 2 star reviews for a v...</td>\n",
              "      <td>5</td>\n",
              "      <td>NaN</td>\n",
              "      <td>3</td>\n",
              "      <td>King</td>\n",
              "      <td>I spent many hours reviewing water proof pads...</td>\n",
              "    </tr>\n",
              "    <tr>\n",
              "      <th>2</th>\n",
              "      <td>R2QUPFXE8FUZ3L</td>\n",
              "      <td>J. Clark</td>\n",
              "      <td>\\n  Seemed to work great for two years, but yo...</td>\n",
              "      <td>Reviewed in the United States on October 5, 2018</td>\n",
              "      <td>DISINTEGRATED. MATTRESS RUINED.</td>\n",
              "      <td>1</td>\n",
              "      <td>https://images-na.ssl-images-amazon.com/images...</td>\n",
              "      <td>2</td>\n",
              "      <td>King</td>\n",
              "      <td>Seemed to work great for two years but you do...</td>\n",
              "    </tr>\n",
              "    <tr>\n",
              "      <th>3</th>\n",
              "      <td>R1GJUJSPBI0OVM</td>\n",
              "      <td>Kevin C.</td>\n",
              "      <td>\\n  My wife went into labor a year and a half ...</td>\n",
              "      <td>Reviewed in the United States on September 2, ...</td>\n",
              "      <td>Protected mattress through birth!</td>\n",
              "      <td>5</td>\n",
              "      <td>NaN</td>\n",
              "      <td>12</td>\n",
              "      <td>Queen</td>\n",
              "      <td>My wife went into labor a year and a half ago...</td>\n",
              "    </tr>\n",
              "    <tr>\n",
              "      <th>4</th>\n",
              "      <td>RB220J2C8V7MU</td>\n",
              "      <td>Nikki Trost</td>\n",
              "      <td>\\n  Our dog has an incontinence issue and has ...</td>\n",
              "      <td>Reviewed in the United States on October 6, 2017</td>\n",
              "      <td>Best of several we've tried by far</td>\n",
              "      <td>5</td>\n",
              "      <td>NaN</td>\n",
              "      <td>1</td>\n",
              "      <td>King</td>\n",
              "      <td>Our dog has an incontinence issue and has lea...</td>\n",
              "    </tr>\n",
              "  </tbody>\n",
              "</table>\n",
              "</div>"
            ],
            "text/plain": [
              "               id  ...                                     CleanedReviews\n",
              "0  R24BGSL5VYNKCP  ...   Got this for my year old s bed She s potty tr...\n",
              "1  R2L7FX82QZOWCB  ...   I spent many hours reviewing water proof pads...\n",
              "2  R2QUPFXE8FUZ3L  ...   Seemed to work great for two years but you do...\n",
              "3  R1GJUJSPBI0OVM  ...   My wife went into labor a year and a half ago...\n",
              "4   RB220J2C8V7MU  ...   Our dog has an incontinence issue and has lea...\n",
              "\n",
              "[5 rows x 10 columns]"
            ]
          },
          "metadata": {},
          "execution_count": 29
        }
      ]
    },
    {
      "cell_type": "markdown",
      "metadata": {
        "id": "gRbNFHBVRYGQ"
      },
      "source": [
        "Comparing a cleaned review against it's original."
      ]
    },
    {
      "cell_type": "code",
      "metadata": {
        "colab": {
          "base_uri": "https://localhost:8080/"
        },
        "id": "fs8gDW_hRYNW",
        "outputId": "9eb736b8-8475-4f95-d5be-3289fbd4ffc5"
      },
      "source": [
        "print(Reviews.iloc[26]['text'])\n",
        "print(Reviews.iloc[26]['CleanedReviews'])"
      ],
      "execution_count": null,
      "outputs": [
        {
          "output_type": "stream",
          "name": "stdout",
          "text": [
            "\n",
            "  Nice protector! Does just what I needed. Deep pockets for the thicker mattresses, and it stays on well.I really like this product. Reasonably priced, too.\n",
            "\n",
            " Nice protector Does just what I needed Deep pockets for the thicker mattresses and it stays on well I really like this product Reasonably priced too \n"
          ]
        }
      ]
    },
    {
      "cell_type": "markdown",
      "metadata": {
        "id": "gpGyoLq71Kpo"
      },
      "source": [
        "## Tokenization, Parts of Speech tagging, Removal of Stopwords"
      ]
    },
    {
      "cell_type": "markdown",
      "metadata": {
        "id": "VgXIvpJ0Se1I"
      },
      "source": [
        "<strong>Tokenization</strong> of words is the process of seperating the language into individualized words which is common in practice.  Tokenization of phrases can also be used to split languge into smaller pieces for analysis.\n",
        "\n",
        "<strong>Stopwords</strong> are words that are commonly used and have no real meaning in language.  For example - the, and, as are considered stopwords.  Most often stopwords are removed from consideration when analyzing text.\n",
        "\n",
        " "
      ]
    },
    {
      "cell_type": "markdown",
      "metadata": {
        "id": "y8fieB5QVL0P"
      },
      "source": [
        "The natural language toolkit is used to the the tokenization, parts of speech, and removal of stop words. Also, a custom function called token_stop_pos() is written here to assist with the necessary data processing steps."
      ]
    },
    {
      "cell_type": "code",
      "metadata": {
        "colab": {
          "base_uri": "https://localhost:8080/"
        },
        "id": "-9z2ySSk1Jy7",
        "outputId": "297f7d67-92cd-449f-f5c7-d62708aa3e34"
      },
      "source": [
        "import nltk\n",
        "nltk.download('punkt')\n",
        "from nltk.tokenize import word_tokenize\n",
        "from nltk import pos_tag\n",
        "nltk.download('stopwords')\n",
        "from nltk.corpus import stopwords\n",
        "nltk.download('wordnet')\n",
        "from nltk.corpus import wordnet\n",
        "\n",
        "nltk.download('averaged_perceptron_tagger')\n",
        "\n",
        "# POS tagger dictionary\n",
        "pos_dict = {'J':wordnet.ADJ, 'V':wordnet.VERB, 'N':wordnet.NOUN, 'R':wordnet.ADV}\n",
        "\n",
        "def token_stop_pos(text):\n",
        "    tags = pos_tag(word_tokenize(text))\n",
        "    newlist = []\n",
        "    for word, tag in tags:\n",
        "        if word.lower() not in set(stopwords.words('english')):\n",
        "            newlist.append(tuple([word, pos_dict.get(tag[0])]))\n",
        "    return newlist\n"
      ],
      "execution_count": null,
      "outputs": [
        {
          "output_type": "stream",
          "name": "stdout",
          "text": [
            "[nltk_data] Downloading package punkt to /root/nltk_data...\n",
            "[nltk_data]   Package punkt is already up-to-date!\n",
            "[nltk_data] Downloading package stopwords to /root/nltk_data...\n",
            "[nltk_data]   Package stopwords is already up-to-date!\n",
            "[nltk_data] Downloading package wordnet to /root/nltk_data...\n",
            "[nltk_data]   Package wordnet is already up-to-date!\n",
            "[nltk_data] Downloading package averaged_perceptron_tagger to\n",
            "[nltk_data]     /root/nltk_data...\n",
            "[nltk_data]   Package averaged_perceptron_tagger is already up-to-\n",
            "[nltk_data]       date!\n"
          ]
        }
      ]
    },
    {
      "cell_type": "markdown",
      "metadata": {
        "id": "B71kfkJdSQdG"
      },
      "source": [
        "The following code uses the custom token_stop_pos() function defined above.  This custom function tokenizes the text, removes any stop words, and identifies the parts of speech.  The pos dictionary is specified to keep only adjectives, verbs, nouns, and adverbs."
      ]
    },
    {
      "cell_type": "code",
      "metadata": {
        "colab": {
          "base_uri": "https://localhost:8080/",
          "height": 466
        },
        "id": "PxSgWVhJSQjK",
        "outputId": "d5980220-5142-4b5a-b8d8-70e516c74757"
      },
      "source": [
        "Reviews['POS_Tagged'] = Reviews['CleanedReviews'].apply(token_stop_pos)\n",
        "Reviews.head()"
      ],
      "execution_count": null,
      "outputs": [
        {
          "output_type": "execute_result",
          "data": {
            "text/html": [
              "<div>\n",
              "<style scoped>\n",
              "    .dataframe tbody tr th:only-of-type {\n",
              "        vertical-align: middle;\n",
              "    }\n",
              "\n",
              "    .dataframe tbody tr th {\n",
              "        vertical-align: top;\n",
              "    }\n",
              "\n",
              "    .dataframe thead th {\n",
              "        text-align: right;\n",
              "    }\n",
              "</style>\n",
              "<table border=\"1\" class=\"dataframe\">\n",
              "  <thead>\n",
              "    <tr style=\"text-align: right;\">\n",
              "      <th></th>\n",
              "      <th>id</th>\n",
              "      <th>profileName</th>\n",
              "      <th>text</th>\n",
              "      <th>date</th>\n",
              "      <th>title</th>\n",
              "      <th>rating</th>\n",
              "      <th>images</th>\n",
              "      <th>helpful</th>\n",
              "      <th>Size</th>\n",
              "      <th>CleanedReviews</th>\n",
              "      <th>POS_Tagged</th>\n",
              "    </tr>\n",
              "  </thead>\n",
              "  <tbody>\n",
              "    <tr>\n",
              "      <th>0</th>\n",
              "      <td>R24BGSL5VYNKCP</td>\n",
              "      <td>P G</td>\n",
              "      <td>\\n  Got this for my 3 year old's bed. She's po...</td>\n",
              "      <td>Reviewed in the United States on October 23, 2018</td>\n",
              "      <td>Wasn't urine-proof</td>\n",
              "      <td>1</td>\n",
              "      <td>NaN</td>\n",
              "      <td>3</td>\n",
              "      <td>Twin</td>\n",
              "      <td>Got this for my year old s bed She s potty tr...</td>\n",
              "      <td>[(Got, n), (year, n), (old, a), (bed, v), (pot...</td>\n",
              "    </tr>\n",
              "    <tr>\n",
              "      <th>1</th>\n",
              "      <td>R2L7FX82QZOWCB</td>\n",
              "      <td>klmvi</td>\n",
              "      <td>\\n  I spent many hours reviewing water proof p...</td>\n",
              "      <td>Reviewed in the United States on March 10, 2018</td>\n",
              "      <td>I read all of the 1 and 2 star reviews for a v...</td>\n",
              "      <td>5</td>\n",
              "      <td>NaN</td>\n",
              "      <td>3</td>\n",
              "      <td>King</td>\n",
              "      <td>I spent many hours reviewing water proof pads...</td>\n",
              "      <td>[(spent, v), (many, a), (hours, n), (reviewing...</td>\n",
              "    </tr>\n",
              "    <tr>\n",
              "      <th>2</th>\n",
              "      <td>R2QUPFXE8FUZ3L</td>\n",
              "      <td>J. Clark</td>\n",
              "      <td>\\n  Seemed to work great for two years, but yo...</td>\n",
              "      <td>Reviewed in the United States on October 5, 2018</td>\n",
              "      <td>DISINTEGRATED. MATTRESS RUINED.</td>\n",
              "      <td>1</td>\n",
              "      <td>https://images-na.ssl-images-amazon.com/images...</td>\n",
              "      <td>2</td>\n",
              "      <td>King</td>\n",
              "      <td>Seemed to work great for two years but you do...</td>\n",
              "      <td>[(Seemed, v), (work, v), (great, a), (two, Non...</td>\n",
              "    </tr>\n",
              "    <tr>\n",
              "      <th>3</th>\n",
              "      <td>R1GJUJSPBI0OVM</td>\n",
              "      <td>Kevin C.</td>\n",
              "      <td>\\n  My wife went into labor a year and a half ...</td>\n",
              "      <td>Reviewed in the United States on September 2, ...</td>\n",
              "      <td>Protected mattress through birth!</td>\n",
              "      <td>5</td>\n",
              "      <td>NaN</td>\n",
              "      <td>12</td>\n",
              "      <td>Queen</td>\n",
              "      <td>My wife went into labor a year and a half ago...</td>\n",
              "      <td>[(wife, n), (went, v), (labor, n), (year, n), ...</td>\n",
              "    </tr>\n",
              "    <tr>\n",
              "      <th>4</th>\n",
              "      <td>RB220J2C8V7MU</td>\n",
              "      <td>Nikki Trost</td>\n",
              "      <td>\\n  Our dog has an incontinence issue and has ...</td>\n",
              "      <td>Reviewed in the United States on October 6, 2017</td>\n",
              "      <td>Best of several we've tried by far</td>\n",
              "      <td>5</td>\n",
              "      <td>NaN</td>\n",
              "      <td>1</td>\n",
              "      <td>King</td>\n",
              "      <td>Our dog has an incontinence issue and has lea...</td>\n",
              "      <td>[(dog, n), (incontinence, n), (issue, n), (lea...</td>\n",
              "    </tr>\n",
              "  </tbody>\n",
              "</table>\n",
              "</div>"
            ],
            "text/plain": [
              "               id  ...                                         POS_Tagged\n",
              "0  R24BGSL5VYNKCP  ...  [(Got, n), (year, n), (old, a), (bed, v), (pot...\n",
              "1  R2L7FX82QZOWCB  ...  [(spent, v), (many, a), (hours, n), (reviewing...\n",
              "2  R2QUPFXE8FUZ3L  ...  [(Seemed, v), (work, v), (great, a), (two, Non...\n",
              "3  R1GJUJSPBI0OVM  ...  [(wife, n), (went, v), (labor, n), (year, n), ...\n",
              "4   RB220J2C8V7MU  ...  [(dog, n), (incontinence, n), (issue, n), (lea...\n",
              "\n",
              "[5 rows x 11 columns]"
            ]
          },
          "metadata": {},
          "execution_count": 33
        }
      ]
    },
    {
      "cell_type": "markdown",
      "metadata": {
        "id": "jtNxsXvXT9Nn"
      },
      "source": [
        "Once again, taking a look at an individual review and its processing.\n",
        "\n",
        "\n"
      ]
    },
    {
      "cell_type": "code",
      "metadata": {
        "colab": {
          "base_uri": "https://localhost:8080/"
        },
        "id": "BLRUnQo4T9Vl",
        "outputId": "5f1c0d6c-ad71-4a02-efb8-3d3179aee30f"
      },
      "source": [
        "print(Reviews.iloc[26]['text'])\n",
        "print(Reviews.iloc[26]['CleanedReviews'])\n",
        "print(Reviews.iloc[26]['POS_Tagged'])"
      ],
      "execution_count": null,
      "outputs": [
        {
          "output_type": "stream",
          "name": "stdout",
          "text": [
            "\n",
            "  Nice protector! Does just what I needed. Deep pockets for the thicker mattresses, and it stays on well.I really like this product. Reasonably priced, too.\n",
            "\n",
            " Nice protector Does just what I needed Deep pockets for the thicker mattresses and it stays on well I really like this product Reasonably priced too \n",
            "[('Nice', 'a'), ('protector', 'n'), ('needed', 'v'), ('Deep', 'n'), ('pockets', 'n'), ('thicker', 'n'), ('mattresses', 'n'), ('stays', 'v'), ('well', 'r'), ('really', 'r'), ('like', None), ('product', 'n'), ('Reasonably', 'r'), ('priced', 'v')]\n"
          ]
        }
      ]
    },
    {
      "cell_type": "markdown",
      "metadata": {
        "id": "z23nVI4z2vfy"
      },
      "source": [
        "## Obtain the root of each word"
      ]
    },
    {
      "cell_type": "markdown",
      "metadata": {
        "id": "XvZDG8mXWDBW"
      },
      "source": [
        "<strong>Lemmatization</strong> is the process of converting a word to its base form. An alternative process is <strong>stemming</strong> a word which simply removes the last few characters, e.g. the s from studys would be removed by stemming or the ied from studied would be removed by stemming.  Lemmatization is a more sophicated and considers the context and converts the word to its meaningful base form. Lemmatization tends to lead to more meaningful conversation than stemming. "
      ]
    },
    {
      "cell_type": "markdown",
      "metadata": {
        "id": "FSJvd0ZwXD0B"
      },
      "source": [
        "Once again the natural language toolkit will be used for the lemmitization of our reviews.  The custom lemmatize() function takes the parts of speech list, applies the lemmatization to this list, and then creates a string that contains the base roots of each word."
      ]
    },
    {
      "cell_type": "code",
      "metadata": {
        "id": "Q5OL62iY2vnI"
      },
      "source": [
        "from nltk.stem import WordNetLemmatizer\n",
        "wordnet_lemmatizer = WordNetLemmatizer()\n",
        "\n",
        "def lemmatize(pos_data):\n",
        "    lemma_rew = \" \"\n",
        "    for word, pos in pos_data:\n",
        "        if not pos: \n",
        "            lemma = word\n",
        "            lemma_rew = lemma_rew + \" \" + lemma\n",
        "        else:  \n",
        "            lemma = wordnet_lemmatizer.lemmatize(word, pos=pos)\n",
        "            lemma_rew = lemma_rew + \" \" + lemma\n",
        "    return lemma_rew"
      ],
      "execution_count": 37,
      "outputs": []
    },
    {
      "cell_type": "markdown",
      "metadata": {
        "id": "0UYbLFlJW83W"
      },
      "source": [
        "Apply the lemmatize() function to the parts of speech list.  The outcome from this function will be put into a variable called Lemma.\n"
      ]
    },
    {
      "cell_type": "code",
      "metadata": {
        "colab": {
          "base_uri": "https://localhost:8080/",
          "height": 379
        },
        "id": "IWM8S8rxW8-1",
        "outputId": "c602b78f-3a22-4b01-c4cd-48e62eed799a"
      },
      "source": [
        "Reviews['Lemma'] = Reviews['POS_Tagged'].apply(lemmatize)\n",
        "Reviews.head()"
      ],
      "execution_count": 38,
      "outputs": [
        {
          "output_type": "execute_result",
          "data": {
            "text/html": [
              "<div>\n",
              "<style scoped>\n",
              "    .dataframe tbody tr th:only-of-type {\n",
              "        vertical-align: middle;\n",
              "    }\n",
              "\n",
              "    .dataframe tbody tr th {\n",
              "        vertical-align: top;\n",
              "    }\n",
              "\n",
              "    .dataframe thead th {\n",
              "        text-align: right;\n",
              "    }\n",
              "</style>\n",
              "<table border=\"1\" class=\"dataframe\">\n",
              "  <thead>\n",
              "    <tr style=\"text-align: right;\">\n",
              "      <th></th>\n",
              "      <th>id</th>\n",
              "      <th>profileName</th>\n",
              "      <th>text</th>\n",
              "      <th>date</th>\n",
              "      <th>title</th>\n",
              "      <th>rating</th>\n",
              "      <th>images</th>\n",
              "      <th>helpful</th>\n",
              "      <th>Size</th>\n",
              "      <th>CleanedReviews</th>\n",
              "      <th>POS_Tagged</th>\n",
              "      <th>Lemma</th>\n",
              "    </tr>\n",
              "  </thead>\n",
              "  <tbody>\n",
              "    <tr>\n",
              "      <th>0</th>\n",
              "      <td>R24BGSL5VYNKCP</td>\n",
              "      <td>P G</td>\n",
              "      <td>\\n  Got this for my 3 year old's bed. She's po...</td>\n",
              "      <td>Reviewed in the United States on October 23, 2018</td>\n",
              "      <td>Wasn't urine-proof</td>\n",
              "      <td>1</td>\n",
              "      <td>NaN</td>\n",
              "      <td>3</td>\n",
              "      <td>Twin</td>\n",
              "      <td>Got this for my year old s bed She s potty tr...</td>\n",
              "      <td>[(Got, n), (year, n), (old, a), (bed, v), (pot...</td>\n",
              "      <td>Got year old bed potty train still occasiona...</td>\n",
              "    </tr>\n",
              "    <tr>\n",
              "      <th>1</th>\n",
              "      <td>R2L7FX82QZOWCB</td>\n",
              "      <td>klmvi</td>\n",
              "      <td>\\n  I spent many hours reviewing water proof p...</td>\n",
              "      <td>Reviewed in the United States on March 10, 2018</td>\n",
              "      <td>I read all of the 1 and 2 star reviews for a v...</td>\n",
              "      <td>5</td>\n",
              "      <td>NaN</td>\n",
              "      <td>3</td>\n",
              "      <td>King</td>\n",
              "      <td>I spent many hours reviewing water proof pads...</td>\n",
              "      <td>[(spent, v), (many, a), (hours, n), (reviewing...</td>\n",
              "      <td>spend many hour review water proof pad king ...</td>\n",
              "    </tr>\n",
              "    <tr>\n",
              "      <th>2</th>\n",
              "      <td>R2QUPFXE8FUZ3L</td>\n",
              "      <td>J. Clark</td>\n",
              "      <td>\\n  Seemed to work great for two years, but yo...</td>\n",
              "      <td>Reviewed in the United States on October 5, 2018</td>\n",
              "      <td>DISINTEGRATED. MATTRESS RUINED.</td>\n",
              "      <td>1</td>\n",
              "      <td>https://images-na.ssl-images-amazon.com/images...</td>\n",
              "      <td>2</td>\n",
              "      <td>King</td>\n",
              "      <td>Seemed to work great for two years but you do...</td>\n",
              "      <td>[(Seemed, v), (work, v), (great, a), (two, Non...</td>\n",
              "      <td>Seemed work great two year really know test ...</td>\n",
              "    </tr>\n",
              "    <tr>\n",
              "      <th>3</th>\n",
              "      <td>R1GJUJSPBI0OVM</td>\n",
              "      <td>Kevin C.</td>\n",
              "      <td>\\n  My wife went into labor a year and a half ...</td>\n",
              "      <td>Reviewed in the United States on September 2, ...</td>\n",
              "      <td>Protected mattress through birth!</td>\n",
              "      <td>5</td>\n",
              "      <td>NaN</td>\n",
              "      <td>12</td>\n",
              "      <td>Queen</td>\n",
              "      <td>My wife went into labor a year and a half ago...</td>\n",
              "      <td>[(wife, n), (went, v), (labor, n), (year, n), ...</td>\n",
              "      <td>wife go labor year half ago labor go quickly...</td>\n",
              "    </tr>\n",
              "    <tr>\n",
              "      <th>4</th>\n",
              "      <td>RB220J2C8V7MU</td>\n",
              "      <td>Nikki Trost</td>\n",
              "      <td>\\n  Our dog has an incontinence issue and has ...</td>\n",
              "      <td>Reviewed in the United States on October 6, 2017</td>\n",
              "      <td>Best of several we've tried by far</td>\n",
              "      <td>5</td>\n",
              "      <td>NaN</td>\n",
              "      <td>1</td>\n",
              "      <td>King</td>\n",
              "      <td>Our dog has an incontinence issue and has lea...</td>\n",
              "      <td>[(dog, n), (incontinence, n), (issue, n), (lea...</td>\n",
              "      <td>dog incontinence issue leak bed take long ve...</td>\n",
              "    </tr>\n",
              "  </tbody>\n",
              "</table>\n",
              "</div>"
            ],
            "text/plain": [
              "               id  ...                                              Lemma\n",
              "0  R24BGSL5VYNKCP  ...    Got year old bed potty train still occasiona...\n",
              "1  R2L7FX82QZOWCB  ...    spend many hour review water proof pad king ...\n",
              "2  R2QUPFXE8FUZ3L  ...    Seemed work great two year really know test ...\n",
              "3  R1GJUJSPBI0OVM  ...    wife go labor year half ago labor go quickly...\n",
              "4   RB220J2C8V7MU  ...    dog incontinence issue leak bed take long ve...\n",
              "\n",
              "[5 rows x 12 columns]"
            ]
          },
          "metadata": {},
          "execution_count": 38
        }
      ]
    },
    {
      "cell_type": "markdown",
      "metadata": {
        "id": "9aShPuqvX0s4"
      },
      "source": [
        "Once again, taking a look at an individual review and its processing."
      ]
    },
    {
      "cell_type": "code",
      "metadata": {
        "colab": {
          "base_uri": "https://localhost:8080/"
        },
        "id": "1DqxSg43X01O",
        "outputId": "2e71a405-ae79-433b-aaa8-9caa7c8f6919"
      },
      "source": [
        "print(Reviews.iloc[26]['text'])\n",
        "print(Reviews.iloc[26]['CleanedReviews'])\n",
        "print(Reviews.iloc[26]['POS_Tagged'])\n",
        "print(Reviews.iloc[26]['Lemma'])"
      ],
      "execution_count": 40,
      "outputs": [
        {
          "output_type": "stream",
          "name": "stdout",
          "text": [
            "\n",
            "  Nice protector! Does just what I needed. Deep pockets for the thicker mattresses, and it stays on well.I really like this product. Reasonably priced, too.\n",
            "\n",
            " Nice protector Does just what I needed Deep pockets for the thicker mattresses and it stays on well I really like this product Reasonably priced too \n",
            "[('Nice', 'a'), ('protector', 'n'), ('needed', 'v'), ('Deep', 'n'), ('pockets', 'n'), ('thicker', 'n'), ('mattresses', 'n'), ('stays', 'v'), ('well', 'r'), ('really', 'r'), ('like', None), ('product', 'n'), ('Reasonably', 'r'), ('priced', 'v')]\n",
            "  Nice protector need Deep pocket thicker mattress stay well really like product Reasonably price\n"
          ]
        }
      ]
    },
    {
      "cell_type": "markdown",
      "metadata": {
        "id": "oRgB8kEM3Ruj"
      },
      "source": [
        "## Getting a Sentiment Score via TextBlob"
      ]
    },
    {
      "cell_type": "markdown",
      "metadata": {
        "id": "sGT76iKmYO_9"
      },
      "source": [
        "The TextBlob library will be used to obtain a <strong>sentiment score</strong> for each review.  A sentiment score is simply a metric that is used to measure a thought, view, or attitude which is based mostly on a persons emotion. \n",
        "\n",
        "There are a wide variety of sentiments that can be measured.  Here, a <strong>polarity</strong> sentiment score will be obtained from the TextBlob library. The polarity score measures the positivity / negativity of a word.\n",
        "\n",
        "An example list of positive / negative words -- this list is *not* associated with the TextBlob library and is only provided as an example.\n",
        "\n",
        "\n",
        "*   Postive Words: https://ptrckprry.com/course/ssd/data/positive-words.txt \n",
        "*   Negative Words: https://ptrckprry.com/course/ssd/data/negative-words.txt\n",
        "\n"
      ]
    },
    {
      "cell_type": "markdown",
      "metadata": {
        "id": "kkGJjOWGbOjg"
      },
      "source": [
        "The code for three custom functions that 1) gets the subjectivty score, 2) get the polarity score, and identifies a review as positive/negative/neutral. The TextBlob library is used for this analysis."
      ]
    },
    {
      "cell_type": "code",
      "metadata": {
        "id": "vYNpuIG_3Vgx"
      },
      "source": [
        "from textblob import TextBlob\n",
        "\n",
        "# function to calculate subjectivity \n",
        "def getSubjectivity(review):\n",
        "    return TextBlob(review).sentiment.subjectivity\n",
        "\n",
        "# function to calculate polarity\n",
        "def getPolarity(review):\n",
        "    return TextBlob(review).sentiment.polarity\n",
        "\n",
        "# function to analyze the reviews\n",
        "def analysis(score):\n",
        "    if score < 0:\n",
        "        return 'Negative'\n",
        "    elif score == 0:\n",
        "        return 'Neutral'\n",
        "    else:\n",
        "        return 'Positive'\n",
        "\n"
      ],
      "execution_count": 41,
      "outputs": []
    },
    {
      "cell_type": "markdown",
      "metadata": {
        "id": "9aUIij0ubuCp"
      },
      "source": [
        "Apply the getSubjectivity(), getPolarity(), and analysis() functions to Lemma variable.  "
      ]
    },
    {
      "cell_type": "code",
      "metadata": {
        "colab": {
          "base_uri": "https://localhost:8080/",
          "height": 553
        },
        "id": "dh3AZNW5buKo",
        "outputId": "6d54a133-30e6-4cbf-8682-0a7514f1d822"
      },
      "source": [
        "#Reviews['Subjectivity'] = Reviews['Lemma'].apply(getSubjectivity) \n",
        "Reviews['Polarity'] = Reviews['Lemma'].apply(getPolarity) \n",
        "Reviews['Analysis'] = Reviews['Polarity'].apply(analysis)\n",
        "Reviews.head()"
      ],
      "execution_count": 44,
      "outputs": [
        {
          "output_type": "execute_result",
          "data": {
            "text/html": [
              "<div>\n",
              "<style scoped>\n",
              "    .dataframe tbody tr th:only-of-type {\n",
              "        vertical-align: middle;\n",
              "    }\n",
              "\n",
              "    .dataframe tbody tr th {\n",
              "        vertical-align: top;\n",
              "    }\n",
              "\n",
              "    .dataframe thead th {\n",
              "        text-align: right;\n",
              "    }\n",
              "</style>\n",
              "<table border=\"1\" class=\"dataframe\">\n",
              "  <thead>\n",
              "    <tr style=\"text-align: right;\">\n",
              "      <th></th>\n",
              "      <th>id</th>\n",
              "      <th>profileName</th>\n",
              "      <th>text</th>\n",
              "      <th>date</th>\n",
              "      <th>title</th>\n",
              "      <th>rating</th>\n",
              "      <th>images</th>\n",
              "      <th>helpful</th>\n",
              "      <th>Size</th>\n",
              "      <th>CleanedReviews</th>\n",
              "      <th>POS_Tagged</th>\n",
              "      <th>Lemma</th>\n",
              "      <th>Polarity</th>\n",
              "      <th>Analysis</th>\n",
              "      <th>Subjectivity</th>\n",
              "    </tr>\n",
              "  </thead>\n",
              "  <tbody>\n",
              "    <tr>\n",
              "      <th>0</th>\n",
              "      <td>R24BGSL5VYNKCP</td>\n",
              "      <td>P G</td>\n",
              "      <td>\\n  Got this for my 3 year old's bed. She's po...</td>\n",
              "      <td>Reviewed in the United States on October 23, 2018</td>\n",
              "      <td>Wasn't urine-proof</td>\n",
              "      <td>1</td>\n",
              "      <td>NaN</td>\n",
              "      <td>3</td>\n",
              "      <td>Twin</td>\n",
              "      <td>Got this for my year old s bed She s potty tr...</td>\n",
              "      <td>[(Got, n), (year, n), (old, a), (bed, v), (pot...</td>\n",
              "      <td>Got year old bed potty train still occasiona...</td>\n",
              "      <td>-0.186234</td>\n",
              "      <td>Negative</td>\n",
              "      <td>0.513506</td>\n",
              "    </tr>\n",
              "    <tr>\n",
              "      <th>1</th>\n",
              "      <td>R2L7FX82QZOWCB</td>\n",
              "      <td>klmvi</td>\n",
              "      <td>\\n  I spent many hours reviewing water proof p...</td>\n",
              "      <td>Reviewed in the United States on March 10, 2018</td>\n",
              "      <td>I read all of the 1 and 2 star reviews for a v...</td>\n",
              "      <td>5</td>\n",
              "      <td>NaN</td>\n",
              "      <td>3</td>\n",
              "      <td>King</td>\n",
              "      <td>I spent many hours reviewing water proof pads...</td>\n",
              "      <td>[(spent, v), (many, a), (hours, n), (reviewing...</td>\n",
              "      <td>spend many hour review water proof pad king ...</td>\n",
              "      <td>0.201571</td>\n",
              "      <td>Positive</td>\n",
              "      <td>0.555810</td>\n",
              "    </tr>\n",
              "    <tr>\n",
              "      <th>2</th>\n",
              "      <td>R2QUPFXE8FUZ3L</td>\n",
              "      <td>J. Clark</td>\n",
              "      <td>\\n  Seemed to work great for two years, but yo...</td>\n",
              "      <td>Reviewed in the United States on October 5, 2018</td>\n",
              "      <td>DISINTEGRATED. MATTRESS RUINED.</td>\n",
              "      <td>1</td>\n",
              "      <td>https://images-na.ssl-images-amazon.com/images...</td>\n",
              "      <td>2</td>\n",
              "      <td>King</td>\n",
              "      <td>Seemed to work great for two years but you do...</td>\n",
              "      <td>[(Seemed, v), (work, v), (great, a), (two, Non...</td>\n",
              "      <td>Seemed work great two year really know test ...</td>\n",
              "      <td>0.083333</td>\n",
              "      <td>Positive</td>\n",
              "      <td>0.566667</td>\n",
              "    </tr>\n",
              "    <tr>\n",
              "      <th>3</th>\n",
              "      <td>R1GJUJSPBI0OVM</td>\n",
              "      <td>Kevin C.</td>\n",
              "      <td>\\n  My wife went into labor a year and a half ...</td>\n",
              "      <td>Reviewed in the United States on September 2, ...</td>\n",
              "      <td>Protected mattress through birth!</td>\n",
              "      <td>5</td>\n",
              "      <td>NaN</td>\n",
              "      <td>12</td>\n",
              "      <td>Queen</td>\n",
              "      <td>My wife went into labor a year and a half ago...</td>\n",
              "      <td>[(wife, n), (went, v), (labor, n), (year, n), ...</td>\n",
              "      <td>wife go labor year half ago labor go quickly...</td>\n",
              "      <td>0.123214</td>\n",
              "      <td>Positive</td>\n",
              "      <td>0.364015</td>\n",
              "    </tr>\n",
              "    <tr>\n",
              "      <th>4</th>\n",
              "      <td>RB220J2C8V7MU</td>\n",
              "      <td>Nikki Trost</td>\n",
              "      <td>\\n  Our dog has an incontinence issue and has ...</td>\n",
              "      <td>Reviewed in the United States on October 6, 2017</td>\n",
              "      <td>Best of several we've tried by far</td>\n",
              "      <td>5</td>\n",
              "      <td>NaN</td>\n",
              "      <td>1</td>\n",
              "      <td>King</td>\n",
              "      <td>Our dog has an incontinence issue and has lea...</td>\n",
              "      <td>[(dog, n), (incontinence, n), (issue, n), (lea...</td>\n",
              "      <td>dog incontinence issue leak bed take long ve...</td>\n",
              "      <td>0.129982</td>\n",
              "      <td>Positive</td>\n",
              "      <td>0.511586</td>\n",
              "    </tr>\n",
              "  </tbody>\n",
              "</table>\n",
              "</div>"
            ],
            "text/plain": [
              "               id  profileName  ...  Analysis Subjectivity\n",
              "0  R24BGSL5VYNKCP          P G  ...  Negative     0.513506\n",
              "1  R2L7FX82QZOWCB        klmvi  ...  Positive     0.555810\n",
              "2  R2QUPFXE8FUZ3L     J. Clark  ...  Positive     0.566667\n",
              "3  R1GJUJSPBI0OVM     Kevin C.  ...  Positive     0.364015\n",
              "4   RB220J2C8V7MU  Nikki Trost  ...  Positive     0.511586\n",
              "\n",
              "[5 rows x 15 columns]"
            ]
          },
          "metadata": {},
          "execution_count": 44
        }
      ]
    },
    {
      "cell_type": "markdown",
      "metadata": {
        "id": "GhEGHwB6cgXb"
      },
      "source": [
        "Once again, taking a look at an individual review and its processing."
      ]
    },
    {
      "cell_type": "code",
      "metadata": {
        "colab": {
          "base_uri": "https://localhost:8080/"
        },
        "id": "zzDI-i7Ecgew",
        "outputId": "2e5f89fa-5d8e-456d-d22f-93d4d46813ad"
      },
      "source": [
        "print(Reviews.iloc[26]['text'])\n",
        "print(Reviews.iloc[26]['CleanedReviews'])\n",
        "print(Reviews.iloc[26]['POS_Tagged'])\n",
        "print(Reviews.iloc[26]['Lemma'])\n",
        "print(Reviews.iloc[26]['Polarity'])\n",
        "print(Reviews.iloc[26]['Analysis'])"
      ],
      "execution_count": 46,
      "outputs": [
        {
          "output_type": "stream",
          "name": "stdout",
          "text": [
            "\n",
            "  Nice protector! Does just what I needed. Deep pockets for the thicker mattresses, and it stays on well.I really like this product. Reasonably priced, too.\n",
            "\n",
            " Nice protector Does just what I needed Deep pockets for the thicker mattresses and it stays on well I really like this product Reasonably priced too \n",
            "[('Nice', 'a'), ('protector', 'n'), ('needed', 'v'), ('Deep', 'n'), ('pockets', 'n'), ('thicker', 'n'), ('mattresses', 'n'), ('stays', 'v'), ('well', 'r'), ('really', 'r'), ('like', None), ('product', 'n'), ('Reasonably', 'r'), ('priced', 'v')]\n",
            "  Nice protector need Deep pocket thicker mattress stay well really like product Reasonably price\n",
            "0.25\n",
            "Positive\n"
          ]
        }
      ]
    },
    {
      "cell_type": "markdown",
      "metadata": {
        "id": "ZaI6r_vv3aGp"
      },
      "source": [
        "## Simple Summaries of the Sentiment Scores"
      ]
    },
    {
      "cell_type": "code",
      "metadata": {
        "id": "EL6x55z83aqK",
        "colab": {
          "base_uri": "https://localhost:8080/",
          "height": 206
        },
        "outputId": "7a0ecf3c-2d44-41e8-e134-6f8de89dc761"
      },
      "source": [
        "#Getting a subset of the columns \n",
        "Reviews_Subset = pd.DataFrame(Reviews[['id', 'date', 'text', 'helpful', 'Lemma', 'Analysis', 'Polarity']])\n",
        "Reviews_Subset.head()"
      ],
      "execution_count": 49,
      "outputs": [
        {
          "output_type": "execute_result",
          "data": {
            "text/html": [
              "<div>\n",
              "<style scoped>\n",
              "    .dataframe tbody tr th:only-of-type {\n",
              "        vertical-align: middle;\n",
              "    }\n",
              "\n",
              "    .dataframe tbody tr th {\n",
              "        vertical-align: top;\n",
              "    }\n",
              "\n",
              "    .dataframe thead th {\n",
              "        text-align: right;\n",
              "    }\n",
              "</style>\n",
              "<table border=\"1\" class=\"dataframe\">\n",
              "  <thead>\n",
              "    <tr style=\"text-align: right;\">\n",
              "      <th></th>\n",
              "      <th>id</th>\n",
              "      <th>date</th>\n",
              "      <th>text</th>\n",
              "      <th>helpful</th>\n",
              "      <th>Lemma</th>\n",
              "      <th>Analysis</th>\n",
              "      <th>Polarity</th>\n",
              "    </tr>\n",
              "  </thead>\n",
              "  <tbody>\n",
              "    <tr>\n",
              "      <th>0</th>\n",
              "      <td>R24BGSL5VYNKCP</td>\n",
              "      <td>Reviewed in the United States on October 23, 2018</td>\n",
              "      <td>\\n  Got this for my 3 year old's bed. She's po...</td>\n",
              "      <td>3</td>\n",
              "      <td>Got year old bed potty train still occasiona...</td>\n",
              "      <td>Negative</td>\n",
              "      <td>-0.186234</td>\n",
              "    </tr>\n",
              "    <tr>\n",
              "      <th>1</th>\n",
              "      <td>R2L7FX82QZOWCB</td>\n",
              "      <td>Reviewed in the United States on March 10, 2018</td>\n",
              "      <td>\\n  I spent many hours reviewing water proof p...</td>\n",
              "      <td>3</td>\n",
              "      <td>spend many hour review water proof pad king ...</td>\n",
              "      <td>Positive</td>\n",
              "      <td>0.201571</td>\n",
              "    </tr>\n",
              "    <tr>\n",
              "      <th>2</th>\n",
              "      <td>R2QUPFXE8FUZ3L</td>\n",
              "      <td>Reviewed in the United States on October 5, 2018</td>\n",
              "      <td>\\n  Seemed to work great for two years, but yo...</td>\n",
              "      <td>2</td>\n",
              "      <td>Seemed work great two year really know test ...</td>\n",
              "      <td>Positive</td>\n",
              "      <td>0.083333</td>\n",
              "    </tr>\n",
              "    <tr>\n",
              "      <th>3</th>\n",
              "      <td>R1GJUJSPBI0OVM</td>\n",
              "      <td>Reviewed in the United States on September 2, ...</td>\n",
              "      <td>\\n  My wife went into labor a year and a half ...</td>\n",
              "      <td>12</td>\n",
              "      <td>wife go labor year half ago labor go quickly...</td>\n",
              "      <td>Positive</td>\n",
              "      <td>0.123214</td>\n",
              "    </tr>\n",
              "    <tr>\n",
              "      <th>4</th>\n",
              "      <td>RB220J2C8V7MU</td>\n",
              "      <td>Reviewed in the United States on October 6, 2017</td>\n",
              "      <td>\\n  Our dog has an incontinence issue and has ...</td>\n",
              "      <td>1</td>\n",
              "      <td>dog incontinence issue leak bed take long ve...</td>\n",
              "      <td>Positive</td>\n",
              "      <td>0.129982</td>\n",
              "    </tr>\n",
              "  </tbody>\n",
              "</table>\n",
              "</div>"
            ],
            "text/plain": [
              "               id  ...  Polarity\n",
              "0  R24BGSL5VYNKCP  ... -0.186234\n",
              "1  R2L7FX82QZOWCB  ...  0.201571\n",
              "2  R2QUPFXE8FUZ3L  ...  0.083333\n",
              "3  R1GJUJSPBI0OVM  ...  0.123214\n",
              "4   RB220J2C8V7MU  ...  0.129982\n",
              "\n",
              "[5 rows x 7 columns]"
            ]
          },
          "metadata": {},
          "execution_count": 49
        }
      ]
    },
    {
      "cell_type": "markdown",
      "metadata": {
        "id": "MJhmvc2JxfmN"
      },
      "source": [
        "Identify the number of positive vs negative reviews..."
      ]
    },
    {
      "cell_type": "code",
      "metadata": {
        "colab": {
          "base_uri": "https://localhost:8080/"
        },
        "id": "0JYYXvMC3w3y",
        "outputId": "60a0b94d-4416-4159-df1b-9ca6c2ea3f48"
      },
      "source": [
        "tb_counts = Reviews.Analysis.value_counts()\n",
        "tb_counts"
      ],
      "execution_count": 47,
      "outputs": [
        {
          "output_type": "execute_result",
          "data": {
            "text/plain": [
              "Positive    4234\n",
              "Negative     641\n",
              "Neutral      125\n",
              "Name: Analysis, dtype: int64"
            ]
          },
          "metadata": {},
          "execution_count": 47
        }
      ]
    },
    {
      "cell_type": "code",
      "metadata": {
        "colab": {
          "base_uri": "https://localhost:8080/"
        },
        "id": "nrvGgc7dSio6",
        "outputId": "7b09031a-8d0d-4be7-c9a3-8236433bb169"
      },
      "source": [
        "#Install dfply for dplyr like functionality in Python\n",
        "!pip install dfply\n",
        "from dfply import *"
      ],
      "execution_count": 53,
      "outputs": [
        {
          "output_type": "stream",
          "name": "stdout",
          "text": [
            "Requirement already satisfied: dfply in /usr/local/lib/python3.7/dist-packages (0.3.3)\n",
            "Requirement already satisfied: pandas in /usr/local/lib/python3.7/dist-packages (from dfply) (1.1.5)\n",
            "Requirement already satisfied: numpy in /usr/local/lib/python3.7/dist-packages (from dfply) (1.19.5)\n",
            "Requirement already satisfied: python-dateutil>=2.7.3 in /usr/local/lib/python3.7/dist-packages (from pandas->dfply) (2.8.2)\n",
            "Requirement already satisfied: pytz>=2017.2 in /usr/local/lib/python3.7/dist-packages (from pandas->dfply) (2018.9)\n",
            "Requirement already satisfied: six>=1.5 in /usr/local/lib/python3.7/dist-packages (from python-dateutil>=2.7.3->pandas->dfply) (1.15.0)\n"
          ]
        }
      ]
    },
    {
      "cell_type": "code",
      "metadata": {
        "colab": {
          "base_uri": "https://localhost:8080/",
          "height": 150
        },
        "id": "GqZgEeU1SwwC",
        "outputId": "0b4dd2f8-9e96-4d1b-ab1f-bc5886a16e1e"
      },
      "source": [
        "#Piping in dfply and using filter_by() to grab requested rows.\n",
        "Reviews_Negative = (\n",
        "                      Reviews\n",
        "                      >> arrange(X.Polarity)\n",
        "                      >> filter_by(X.Polarity < -0.50)\n",
        "                      >> filter_by(X.helpful > 25)\n",
        "                      >> mutate(Year = X.date.str.split(',').str[-1].astype(np.int64))\n",
        "                      >> filter_by(X.Year > 2014)\n",
        "                      \n",
        "                      >> mutate(WebLink = '<ul><li>Please address the following review: https://www.amazon.com/gp/customer-reviews/' + X.id + '</li></ul>')\n",
        "                    )\n",
        "Reviews_Negative.shape\n",
        "Reviews_Negative.head()\n",
        "\n"
      ],
      "execution_count": 55,
      "outputs": [
        {
          "output_type": "execute_result",
          "data": {
            "text/html": [
              "<div>\n",
              "<style scoped>\n",
              "    .dataframe tbody tr th:only-of-type {\n",
              "        vertical-align: middle;\n",
              "    }\n",
              "\n",
              "    .dataframe tbody tr th {\n",
              "        vertical-align: top;\n",
              "    }\n",
              "\n",
              "    .dataframe thead th {\n",
              "        text-align: right;\n",
              "    }\n",
              "</style>\n",
              "<table border=\"1\" class=\"dataframe\">\n",
              "  <thead>\n",
              "    <tr style=\"text-align: right;\">\n",
              "      <th></th>\n",
              "      <th>id</th>\n",
              "      <th>profileName</th>\n",
              "      <th>text</th>\n",
              "      <th>date</th>\n",
              "      <th>title</th>\n",
              "      <th>rating</th>\n",
              "      <th>images</th>\n",
              "      <th>helpful</th>\n",
              "      <th>Size</th>\n",
              "      <th>CleanedReviews</th>\n",
              "      <th>POS_Tagged</th>\n",
              "      <th>Lemma</th>\n",
              "      <th>Polarity</th>\n",
              "      <th>Analysis</th>\n",
              "      <th>Subjectivity</th>\n",
              "      <th>Year</th>\n",
              "      <th>WebLink</th>\n",
              "    </tr>\n",
              "  </thead>\n",
              "  <tbody>\n",
              "    <tr>\n",
              "      <th>21</th>\n",
              "      <td>RTRWS0P8LMHGF</td>\n",
              "      <td>Busymom</td>\n",
              "      <td>\\n  Donâ€™t understand what the fuss is about ...</td>\n",
              "      <td>Reviewed in the United States on August 14, 2018</td>\n",
              "      <td>Donâ€™t waste your money!</td>\n",
              "      <td>1</td>\n",
              "      <td>NaN</td>\n",
              "      <td>112</td>\n",
              "      <td>King</td>\n",
              "      <td>Don t understand what the fuss is about these...</td>\n",
              "      <td>[(understand, v), (fuss, n), (things, n), (wat...</td>\n",
              "      <td>understand fuss thing waterproof kid pee bed...</td>\n",
              "      <td>-0.7</td>\n",
              "      <td>Negative</td>\n",
              "      <td>0.666667</td>\n",
              "      <td>2018</td>\n",
              "      <td>&lt;ul&gt;&lt;li&gt;Please address the following review: h...</td>\n",
              "    </tr>\n",
              "  </tbody>\n",
              "</table>\n",
              "</div>"
            ],
            "text/plain": [
              "               id  ...                                            WebLink\n",
              "21  RTRWS0P8LMHGF  ...  <ul><li>Please address the following review: h...\n",
              "\n",
              "[1 rows x 17 columns]"
            ]
          },
          "metadata": {},
          "execution_count": 55
        }
      ]
    },
    {
      "cell_type": "markdown",
      "metadata": {
        "id": "f55amXrPJFOB"
      },
      "source": [
        "## Sending an email via Python"
      ]
    },
    {
      "cell_type": "code",
      "metadata": {
        "colab": {
          "base_uri": "https://localhost:8080/"
        },
        "id": "Km2Ujx5FJ90S",
        "outputId": "3f0ba0de-56af-43ab-ce7b-42aca45fc76f"
      },
      "source": [
        "#Source:  https://towardsdatascience.com/automate-sending-emails-with-gmail-in-python-449cc0c3c317\n",
        "!pip install yagmail\n",
        "import yagmail\n",
        "\n",
        "user = '<yourgmail>@gmail.com'\n",
        "app_password = '<token for external email sending via gmail>' # a token for gmail\n",
        "to = '<sent info to email>'\n",
        "\n",
        "subject = 'Test Email - Python'\n",
        "content = 'Here are the your Amazon reviews that require your attention:<br><br>' + ''.join(map(str, Reviews_N.WebLink.tolist()))\n",
        "\n",
        "with yagmail.SMTP(user, app_password) as yag:\n",
        "    yag.send(to, subject, content)\n",
        "    print('Sent email successfully')"
      ],
      "execution_count": 57,
      "outputs": [
        {
          "output_type": "stream",
          "name": "stdout",
          "text": [
            "Requirement already satisfied: yagmail in /usr/local/lib/python3.7/dist-packages (0.14.260)\n",
            "Requirement already satisfied: premailer in /usr/local/lib/python3.7/dist-packages (from yagmail) (3.10.0)\n",
            "Requirement already satisfied: cachetools in /usr/local/lib/python3.7/dist-packages (from premailer->yagmail) (4.2.4)\n",
            "Requirement already satisfied: cssutils in /usr/local/lib/python3.7/dist-packages (from premailer->yagmail) (2.3.0)\n",
            "Requirement already satisfied: requests in /usr/local/lib/python3.7/dist-packages (from premailer->yagmail) (2.23.0)\n",
            "Requirement already satisfied: cssselect in /usr/local/lib/python3.7/dist-packages (from premailer->yagmail) (1.1.0)\n",
            "Requirement already satisfied: lxml in /usr/local/lib/python3.7/dist-packages (from premailer->yagmail) (4.2.6)\n",
            "Requirement already satisfied: importlib-metadata in /usr/local/lib/python3.7/dist-packages (from cssutils->premailer->yagmail) (4.8.2)\n",
            "Requirement already satisfied: zipp>=0.5 in /usr/local/lib/python3.7/dist-packages (from importlib-metadata->cssutils->premailer->yagmail) (3.6.0)\n",
            "Requirement already satisfied: typing-extensions>=3.6.4 in /usr/local/lib/python3.7/dist-packages (from importlib-metadata->cssutils->premailer->yagmail) (3.10.0.2)\n",
            "Requirement already satisfied: certifi>=2017.4.17 in /usr/local/lib/python3.7/dist-packages (from requests->premailer->yagmail) (2021.10.8)\n",
            "Requirement already satisfied: chardet<4,>=3.0.2 in /usr/local/lib/python3.7/dist-packages (from requests->premailer->yagmail) (3.0.4)\n",
            "Requirement already satisfied: urllib3!=1.25.0,!=1.25.1,<1.26,>=1.21.1 in /usr/local/lib/python3.7/dist-packages (from requests->premailer->yagmail) (1.24.3)\n",
            "Requirement already satisfied: idna<3,>=2.5 in /usr/local/lib/python3.7/dist-packages (from requests->premailer->yagmail) (2.10)\n",
            "Sent email successfully\n"
          ]
        }
      ]
    },
    {
      "cell_type": "markdown",
      "metadata": {
        "id": "9ieaW-q6yuTO"
      },
      "source": [
        "\n",
        "\n",
        "---\n",
        "\n",
        "\n",
        "\n",
        "---\n",
        "\n",
        "\n",
        "\n",
        "---\n",
        "\n"
      ]
    },
    {
      "cell_type": "markdown",
      "metadata": {
        "id": "ApXblZiMyv9d"
      },
      "source": [
        "Not complete..."
      ]
    },
    {
      "cell_type": "markdown",
      "metadata": {
        "id": "UhQJpnZ6yqN_"
      },
      "source": [
        "## Emotion Analysis"
      ]
    },
    {
      "cell_type": "markdown",
      "metadata": {
        "id": "P-CaRhxODNZk"
      },
      "source": [
        "Source:  https://towardsdatascience.com/text2emotion-python-package-to-detect-emotions-from-textual-data-b2e7b7ce1153\n",
        "\n"
      ]
    },
    {
      "cell_type": "code",
      "metadata": {
        "id": "PQavpQM4DNia",
        "colab": {
          "base_uri": "https://localhost:8080/"
        },
        "outputId": "268d3460-e5ed-41b8-96d6-0863d256b00e"
      },
      "source": [
        "#Install package using pip\n",
        "!pip install text2emotion\n",
        "\n",
        "#Import the modules\n",
        "import text2emotion as te\n",
        "\n",
        "# function to calculate polarity\n",
        "def getEmotion(review):\n",
        "    return te.get_emotion(review)\n",
        "\n",
        " "
      ],
      "execution_count": null,
      "outputs": [
        {
          "output_type": "stream",
          "name": "stdout",
          "text": [
            "Requirement already satisfied: text2emotion in /usr/local/lib/python3.7/dist-packages (0.0.5)\n",
            "Requirement already satisfied: emoji>=0.6.0 in /usr/local/lib/python3.7/dist-packages (from text2emotion) (1.6.1)\n",
            "Requirement already satisfied: nltk in /usr/local/lib/python3.7/dist-packages (from text2emotion) (3.2.5)\n",
            "Requirement already satisfied: six in /usr/local/lib/python3.7/dist-packages (from nltk->text2emotion) (1.15.0)\n"
          ]
        }
      ]
    },
    {
      "cell_type": "code",
      "metadata": {
        "id": "l0lBptVJGEEs"
      },
      "source": [
        "#Get the emotion scores\n",
        "fin_data['Emotion'] = fin_data['Lemma'].apply(getEmotion)\n"
      ],
      "execution_count": null,
      "outputs": []
    },
    {
      "cell_type": "code",
      "metadata": {
        "id": "3hNv_to4LoTu",
        "colab": {
          "base_uri": "https://localhost:8080/",
          "height": 310
        },
        "outputId": "76f6e92e-2593-4e4f-b92e-3fc89f945311"
      },
      "source": [
        "#Split emotion list up into seperate columns\n",
        "fin_data[['Happy','Angry', 'Surprise', 'Sad', 'Fear']] = pd.DataFrame(fin_data.Emotion.values.tolist(), index= fin_data.index)\n",
        "\n",
        "fin_data.head()"
      ],
      "execution_count": null,
      "outputs": [
        {
          "output_type": "execute_result",
          "data": {
            "text/html": [
              "<div>\n",
              "<style scoped>\n",
              "    .dataframe tbody tr th:only-of-type {\n",
              "        vertical-align: middle;\n",
              "    }\n",
              "\n",
              "    .dataframe tbody tr th {\n",
              "        vertical-align: top;\n",
              "    }\n",
              "\n",
              "    .dataframe thead th {\n",
              "        text-align: right;\n",
              "    }\n",
              "</style>\n",
              "<table border=\"1\" class=\"dataframe\">\n",
              "  <thead>\n",
              "    <tr style=\"text-align: right;\">\n",
              "      <th></th>\n",
              "      <th>id</th>\n",
              "      <th>date</th>\n",
              "      <th>review</th>\n",
              "      <th>helpful</th>\n",
              "      <th>Lemma</th>\n",
              "      <th>Polarity</th>\n",
              "      <th>Analysis</th>\n",
              "      <th>Emotion</th>\n",
              "      <th>Happy</th>\n",
              "      <th>Angry</th>\n",
              "      <th>Surprise</th>\n",
              "      <th>Sad</th>\n",
              "      <th>Fear</th>\n",
              "    </tr>\n",
              "  </thead>\n",
              "  <tbody>\n",
              "    <tr>\n",
              "      <th>0</th>\n",
              "      <td>R3MZRW67QAA2ZG</td>\n",
              "      <td>Reviewed in the United States on May 9, 2018</td>\n",
              "      <td>it’s sprays green however it’s green liquid no...</td>\n",
              "      <td>609</td>\n",
              "      <td>spray green however green liquid foam Mousse...</td>\n",
              "      <td>-0.1625</td>\n",
              "      <td>Negative</td>\n",
              "      <td>{'Happy': 0.0, 'Angry': 0.0, 'Surprise': 1.0, ...</td>\n",
              "      <td>0.0</td>\n",
              "      <td>0.0</td>\n",
              "      <td>1.0</td>\n",
              "      <td>0.0</td>\n",
              "      <td>0.0</td>\n",
              "    </tr>\n",
              "    <tr>\n",
              "      <th>1</th>\n",
              "      <td>R21KMZ4ZOZHSSA</td>\n",
              "      <td>Reviewed in the United States on April 30, 2016</td>\n",
              "      <td>Complete waste of time and money</td>\n",
              "      <td>1</td>\n",
              "      <td>Complete waste time money</td>\n",
              "      <td>-0.0500</td>\n",
              "      <td>Negative</td>\n",
              "      <td>{'Happy': 0, 'Angry': 0, 'Surprise': 0, 'Sad':...</td>\n",
              "      <td>0.0</td>\n",
              "      <td>0.0</td>\n",
              "      <td>0.0</td>\n",
              "      <td>0.0</td>\n",
              "      <td>0.0</td>\n",
              "    </tr>\n",
              "    <tr>\n",
              "      <th>2</th>\n",
              "      <td>R1GYHC9PRPS419</td>\n",
              "      <td>Reviewed in the United States on July 24, 2016</td>\n",
              "      <td>Garbage. Do not buy! Doesn't work and complete...</td>\n",
              "      <td>816</td>\n",
              "      <td>Garbage buy work completely break apart st use</td>\n",
              "      <td>0.1000</td>\n",
              "      <td>Positive</td>\n",
              "      <td>{'Happy': 0.0, 'Angry': 0.0, 'Surprise': 0.5, ...</td>\n",
              "      <td>0.0</td>\n",
              "      <td>0.0</td>\n",
              "      <td>0.5</td>\n",
              "      <td>0.0</td>\n",
              "      <td>0.5</td>\n",
              "    </tr>\n",
              "    <tr>\n",
              "      <th>3</th>\n",
              "      <td>RM6O1US7MGXUC</td>\n",
              "      <td>Reviewed in the United States on May 30, 2017</td>\n",
              "      <td>One Star</td>\n",
              "      <td>469</td>\n",
              "      <td>One Star</td>\n",
              "      <td>0.0000</td>\n",
              "      <td>Neutral</td>\n",
              "      <td>{'Happy': 0, 'Angry': 0, 'Surprise': 0, 'Sad':...</td>\n",
              "      <td>0.0</td>\n",
              "      <td>0.0</td>\n",
              "      <td>0.0</td>\n",
              "      <td>0.0</td>\n",
              "      <td>0.0</td>\n",
              "    </tr>\n",
              "    <tr>\n",
              "      <th>4</th>\n",
              "      <td>R2WYXNIEZHZN9</td>\n",
              "      <td>Reviewed in the United States on May 28, 2018</td>\n",
              "      <td>Waste of money, The commercial is false advert...</td>\n",
              "      <td>323</td>\n",
              "      <td>Waste money commercial false advertising opi...</td>\n",
              "      <td>-0.2000</td>\n",
              "      <td>Negative</td>\n",
              "      <td>{'Happy': 0.0, 'Angry': 0.0, 'Surprise': 0.0, ...</td>\n",
              "      <td>0.0</td>\n",
              "      <td>0.0</td>\n",
              "      <td>0.0</td>\n",
              "      <td>1.0</td>\n",
              "      <td>0.0</td>\n",
              "    </tr>\n",
              "  </tbody>\n",
              "</table>\n",
              "</div>"
            ],
            "text/plain": [
              "               id                                             date  ...  Sad  Fear\n",
              "0  R3MZRW67QAA2ZG     Reviewed in the United States on May 9, 2018  ...  0.0   0.0\n",
              "1  R21KMZ4ZOZHSSA  Reviewed in the United States on April 30, 2016  ...  0.0   0.0\n",
              "2  R1GYHC9PRPS419   Reviewed in the United States on July 24, 2016  ...  0.0   0.5\n",
              "3   RM6O1US7MGXUC    Reviewed in the United States on May 30, 2017  ...  0.0   0.0\n",
              "4   R2WYXNIEZHZN9    Reviewed in the United States on May 28, 2018  ...  1.0   0.0\n",
              "\n",
              "[5 rows x 13 columns]"
            ]
          },
          "metadata": {},
          "execution_count": 173
        }
      ]
    },
    {
      "cell_type": "markdown",
      "metadata": {
        "id": "0Fn36qMLL2C9"
      },
      "source": [
        ""
      ]
    },
    {
      "cell_type": "code",
      "metadata": {
        "id": "vRymAJAXL2M8",
        "colab": {
          "base_uri": "https://localhost:8080/",
          "height": 80
        },
        "outputId": "3a27685c-44da-4ea7-e37d-06501cc2057d"
      },
      "source": [
        "#Piping in dfply and using filter_by() to grab requested rows.\n",
        "(fin_data\n",
        "    >>summarize(\n",
        "                  Avg_Happy=X.Happy.mean(),\n",
        "                  Avg_Angry=X.Angry.mean(),\n",
        "                  Avg_Surprise=X.Surprise.mean(),\n",
        "                  Avg_Sad=X.Sad.mean(),\n",
        "                  Avg_Fear=X.Fear.mean()\n",
        "                )\n",
        ")"
      ],
      "execution_count": null,
      "outputs": [
        {
          "output_type": "execute_result",
          "data": {
            "text/html": [
              "<div>\n",
              "<style scoped>\n",
              "    .dataframe tbody tr th:only-of-type {\n",
              "        vertical-align: middle;\n",
              "    }\n",
              "\n",
              "    .dataframe tbody tr th {\n",
              "        vertical-align: top;\n",
              "    }\n",
              "\n",
              "    .dataframe thead th {\n",
              "        text-align: right;\n",
              "    }\n",
              "</style>\n",
              "<table border=\"1\" class=\"dataframe\">\n",
              "  <thead>\n",
              "    <tr style=\"text-align: right;\">\n",
              "      <th></th>\n",
              "      <th>Avg_Happy</th>\n",
              "      <th>Avg_Angry</th>\n",
              "      <th>Avg_Surprise</th>\n",
              "      <th>Avg_Sad</th>\n",
              "      <th>Avg_Fear</th>\n",
              "    </tr>\n",
              "  </thead>\n",
              "  <tbody>\n",
              "    <tr>\n",
              "      <th>0</th>\n",
              "      <td>0.06774</td>\n",
              "      <td>0.016091</td>\n",
              "      <td>0.051438</td>\n",
              "      <td>0.07931</td>\n",
              "      <td>0.241178</td>\n",
              "    </tr>\n",
              "  </tbody>\n",
              "</table>\n",
              "</div>"
            ],
            "text/plain": [
              "   Avg_Happy  Avg_Angry  Avg_Surprise  Avg_Sad  Avg_Fear\n",
              "0    0.06774   0.016091      0.051438  0.07931  0.241178"
            ]
          },
          "metadata": {},
          "execution_count": 174
        }
      ]
    }
  ]
}