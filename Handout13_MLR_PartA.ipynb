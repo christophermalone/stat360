{
  "nbformat": 4,
  "nbformat_minor": 0,
  "metadata": {
    "colab": {
      "provenance": [],
      "collapsed_sections": [
        "bCmC17zpsBJ_"
      ],
      "authorship_tag": "ABX9TyOpUxNrzL+I8aYBHrlLM1HO",
      "include_colab_link": true
    },
    "kernelspec": {
      "display_name": "R",
      "name": "ir"
    }
  },
  "cells": [
    {
      "cell_type": "markdown",
      "metadata": {
        "id": "view-in-github",
        "colab_type": "text"
      },
      "source": [
        "<a href=\"https://colab.research.google.com/github/christophermalone/stat360/blob/main/Handout13_MLR_PartA.ipynb\" target=\"_parent\"><img src=\"https://colab.research.google.com/assets/colab-badge.svg\" alt=\"Open In Colab\"/></a>"
      ]
    },
    {
      "cell_type": "markdown",
      "metadata": {
        "id": "KhClO9b02SXA"
      },
      "source": [
        "# Handout #13 - Part A : Multiple Linear Regression"
      ]
    },
    {
      "cell_type": "markdown",
      "metadata": {
        "id": "bCmC17zpsBJ_"
      },
      "source": [
        "<table width='100%' ><tr><td bgcolor='green'></td></tr></table>\n",
        "\n",
        "## Grandfather Clocks\n",
        "\n",
        "Consider the following data from an auction site regarding the price of grandfather clocks.   Most grandfather clocks are considered to be antiques.  The goal is to understand the auction price as a function of Age and Number of Bidders.\n",
        "<table>\n",
        "  <tr>\n",
        "    <td width='50%'>\n",
        "      <ul>\n",
        "        <li>Response Variable: Price ($)</li><br>\n",
        "        <li>Variables under investigation (i.e. independent variables)</li>\n",
        "        <ul>\n",
        "          <li>Age: Age of grandfather clock</li>\n",
        "          <li>Number of Bidders</li>\n",
        "         </ul>\n",
        "    </ul>\n",
        "    </td>\n",
        "    <td width='50%'>\n",
        "    <p align='center'><img src=\"https://drive.google.com/uc?export=view&id=1wI9yLroxTYfky6Weymd5_aO-hOJiMO_F\" width=\"25%\" height=\"25%\"></img></p>\n",
        "      \n",
        "  </td>\n",
        "</tr>\n",
        "</table>\n",
        "\n",
        "Data Folder: [OneDrive](https://mnscu-my.sharepoint.com/:f:/g/personal/aq7839yd_minnstate_edu/EmOQfrwxzzRBqq8PH_8qTmMBy-1qKgM11Hb8vzjs025EEA?e=wyShYs)\n",
        "\n",
        "\n",
        "\n",
        "<table width='100%' ><tr><td bgcolor='green'></td></tr></table>\n",
        "\n",
        "\n"
      ]
    },
    {
      "cell_type": "markdown",
      "metadata": {
        "id": "njXGRUIC9Lgs"
      },
      "source": [
        "## Load Data into COLAB Session"
      ]
    },
    {
      "cell_type": "markdown",
      "metadata": {
        "id": "FoT1NFX3DncH"
      },
      "source": [
        "First, install the tidyverse() package. "
      ]
    },
    {
      "cell_type": "code",
      "metadata": {
        "id": "LgaibuX_DtWK"
      },
      "source": [
        "#load tidyverse package\n",
        "library(tidyverse)"
      ],
      "execution_count": null,
      "outputs": []
    },
    {
      "cell_type": "markdown",
      "source": [
        "Next, reading in the Granfather Clocks data.frame."
      ],
      "metadata": {
        "id": "r2NtMALBotok"
      }
    },
    {
      "cell_type": "code",
      "metadata": {
        "colab": {
          "base_uri": "https://localhost:8080/"
        },
        "id": "hM3AnlVCu2vx",
        "outputId": "e16ceb8f-91c8-41ab-bb13-b65a6c87dafd"
      },
      "source": [
        "# Reading data in using read_csv \n",
        " GrandfatherClocks <- read_csv(\"http://www.StatsClass.org/stat360/Datasets/Grandfather_Clocks.csv\")"
      ],
      "execution_count": null,
      "outputs": [
        {
          "output_type": "stream",
          "name": "stderr",
          "text": [
            "\u001b[1mRows: \u001b[22m\u001b[34m32\u001b[39m \u001b[1mColumns: \u001b[22m\u001b[34m3\u001b[39m\n",
            "\u001b[36m──\u001b[39m \u001b[1mColumn specification\u001b[22m \u001b[36m────────────────────────────────────────────────────────\u001b[39m\n",
            "\u001b[1mDelimiter:\u001b[22m \",\"\n",
            "\u001b[32mdbl\u001b[39m (3): Price, Age, Number_Bidders\n",
            "\n",
            "\u001b[36mℹ\u001b[39m Use `spec()` to retrieve the full column specification for this data.\n",
            "\u001b[36mℹ\u001b[39m Specify the column types or set `show_col_types = FALSE` to quiet this message.\n"
          ]
        }
      ]
    },
    {
      "cell_type": "markdown",
      "metadata": {
        "id": "y1E6q0ccvNgh"
      },
      "source": [
        "Taking a quick look at the data..."
      ]
    },
    {
      "cell_type": "code",
      "metadata": {
        "id": "sXtmoYGmvN4e"
      },
      "source": [
        "head(GrandfatherClocks)"
      ],
      "execution_count": null,
      "outputs": []
    },
    {
      "cell_type": "markdown",
      "metadata": {
        "id": "ZKr7iJf5ToL7"
      },
      "source": [
        "## Model Considerations"
      ]
    },
    {
      "cell_type": "markdown",
      "metadata": {
        "id": "ejOqzMksvxpx"
      },
      "source": [
        "A total of three models will be considered here.\n",
        "\n",
        "\n",
        "1.   Model #1: Price ~ Age\n",
        "2.   Model #2: Price ~ NumberBidders\n",
        "3.   Model #3: Price ~ Age + NumberBidders\n",
        "\n"
      ]
    },
    {
      "cell_type": "markdown",
      "metadata": {
        "id": "W4U6ypcpwRqP"
      },
      "source": [
        "### Model #1: Price ~ Age"
      ]
    },
    {
      "cell_type": "markdown",
      "source": [
        "Consider a simple linear model for $Price \\sim Age$.\n"
      ],
      "metadata": {
        "id": "F1XFDE7ipIUe"
      }
    },
    {
      "cell_type": "markdown",
      "source": [
        "Model Conditions\n",
        "\n",
        "*  $E(Price | Age ) = \\theta_{0} + \\theta_{1} * Age$\n",
        "*  $Var(Price | Age) = \\lambda^2$\n",
        "*  $Price$ follows a normal distribution"
      ],
      "metadata": {
        "id": "gIKQuHyGpNc-"
      }
    },
    {
      "cell_type": "markdown",
      "source": [
        "First, let's consider a scatterplot for $Price \\sim Age$. "
      ],
      "metadata": {
        "id": "8vjSNlLqpk23"
      }
    },
    {
      "cell_type": "code",
      "source": [
        "#Scatterplot with simple linear regression line\n",
        "ggplot(data=GrandfatherClocks, aes(x=Age,y=Price)) + \n",
        "  geom_point() +    \n",
        "  geom_smooth(method='lm', formula = y ~ x, se=FALSE) +  \n",
        "  theme_classic()"
      ],
      "metadata": {
        "id": "x6a8zTVDpk-m"
      },
      "execution_count": null,
      "outputs": []
    },
    {
      "cell_type": "markdown",
      "source": [
        "Next, fit the simple linear regression model for $Price \\sim Age$"
      ],
      "metadata": {
        "id": "Cy_lKjZHqGyh"
      }
    },
    {
      "cell_type": "code",
      "metadata": {
        "id": "S8loZdOAwU0H",
        "colab": {
          "base_uri": "https://localhost:8080/",
          "height": 329
        },
        "outputId": "7943dd98-b49a-4671-9689-ae179e37f033"
      },
      "source": [
        "LinearModel_Price_Age <- lm(Price ~ Age, data=GrandfatherClocks)\n",
        "summary(LinearModel_Price_Age)"
      ],
      "execution_count": null,
      "outputs": [
        {
          "output_type": "display_data",
          "data": {
            "text/plain": [
              "\n",
              "Call:\n",
              "lm(formula = Price ~ Age, data = GrandfatherClocks)\n",
              "\n",
              "Residuals:\n",
              "    Min      1Q  Median      3Q     Max \n",
              "-485.29 -192.66   30.75  157.21  541.21 \n",
              "\n",
              "Coefficients:\n",
              "            Estimate Std. Error t value Pr(>|t|)    \n",
              "(Intercept)  -191.66     263.89  -0.726    0.473    \n",
              "Age            10.48       1.79   5.854  2.1e-06 ***\n",
              "---\n",
              "Signif. codes:  0 ‘***’ 0.001 ‘**’ 0.01 ‘*’ 0.05 ‘.’ 0.1 ‘ ’ 1\n",
              "\n",
              "Residual standard error: 273 on 30 degrees of freedom\n",
              "Multiple R-squared:  0.5332,\tAdjusted R-squared:  0.5177 \n",
              "F-statistic: 34.27 on 1 and 30 DF,  p-value: 2.096e-06\n"
            ]
          },
          "metadata": {}
        }
      ]
    },
    {
      "cell_type": "markdown",
      "metadata": {
        "id": "ggbWS4xRwgwn"
      },
      "source": [
        "### Model #2: Price ~ NumberBidders"
      ]
    },
    {
      "cell_type": "markdown",
      "source": [
        "Consider a simple linear model for $Price \\sim NumberBidders$.\n"
      ],
      "metadata": {
        "id": "eNS1Y_PjqagV"
      }
    },
    {
      "cell_type": "markdown",
      "source": [
        "Model Conditions\n",
        "\n",
        "*  $E(Price | NumberBidders ) = \\eta_{0} + \\eta_{1} * NumberBidders$\n",
        "*  $Var(Price | NumberBidders) = \\gamma^2$\n",
        "*  $Price$ follows a normal distribution"
      ],
      "metadata": {
        "id": "qO11NBsDqagW"
      }
    },
    {
      "cell_type": "markdown",
      "source": [
        "First, let's consider a scatterplot for $Price \\sim NumberBidders$. "
      ],
      "metadata": {
        "id": "80f2HLdWqagW"
      }
    },
    {
      "cell_type": "code",
      "source": [
        "#Scatterplot with simple linear regression line\n",
        "ggplot(data=GrandfatherClocks, aes(x=Number_Bidders,y=Price)) + \n",
        "  geom_point() +    \n",
        "  geom_smooth(method='lm', formula = y ~ x, se=FALSE) +  \n",
        "  theme_classic()"
      ],
      "metadata": {
        "id": "GluSjMxAqagW"
      },
      "execution_count": null,
      "outputs": []
    },
    {
      "cell_type": "markdown",
      "source": [
        "Next, fit the simple linear regression model for $Price \\sim NumberBidders$"
      ],
      "metadata": {
        "id": "b9DG2EmqqagX"
      }
    },
    {
      "cell_type": "code",
      "metadata": {
        "id": "3QmtUgqeqagX",
        "colab": {
          "base_uri": "https://localhost:8080/",
          "height": 329
        },
        "outputId": "66bce7dc-29fe-4c82-be84-b04cf214560f"
      },
      "source": [
        "LinearModel_Price_NumberBidders <- lm(Price ~ Number_Bidders, data=GrandfatherClocks)\n",
        "summary(LinearModel_Price_NumberBidders)"
      ],
      "execution_count": null,
      "outputs": [
        {
          "output_type": "display_data",
          "data": {
            "text/plain": [
              "\n",
              "Call:\n",
              "lm(formula = Price ~ Number_Bidders, data = GrandfatherClocks)\n",
              "\n",
              "Residuals:\n",
              "    Min      1Q  Median      3Q     Max \n",
              "-516.31 -355.27  -29.49  302.76  688.23 \n",
              "\n",
              "Coefficients:\n",
              "               Estimate Std. Error t value Pr(>|t|)   \n",
              "(Intercept)      806.40     230.68   3.496  0.00149 **\n",
              "Number_Bidders    54.64      23.23   2.352  0.02540 * \n",
              "---\n",
              "Signif. codes:  0 ‘***’ 0.001 ‘**’ 0.01 ‘*’ 0.05 ‘.’ 0.1 ‘ ’ 1\n",
              "\n",
              "Residual standard error: 367.2 on 30 degrees of freedom\n",
              "Multiple R-squared:  0.1557,\tAdjusted R-squared:  0.1276 \n",
              "F-statistic: 5.534 on 1 and 30 DF,  p-value: 0.0254\n"
            ]
          },
          "metadata": {}
        }
      ]
    },
    {
      "cell_type": "markdown",
      "metadata": {
        "id": "1Q-FHUz4xQcp"
      },
      "source": [
        "### Model #3: Price ~ Age + NumberBidders\n"
      ]
    },
    {
      "cell_type": "markdown",
      "source": [
        "Consider a multiple linear regression model for $Price \\sim Age + NumberBidders$.\n"
      ],
      "metadata": {
        "id": "xAtOTh4-vru3"
      }
    },
    {
      "cell_type": "markdown",
      "source": [
        "Model Conditions\n",
        "\n",
        "*  $E(Price | Age, NumberBidders ) = \\beta_{0} + \\beta_{1} * Age + \\beta_{2} * NumberBidders$\n",
        "*  $Var(Price | Age, NumberBidders) = \\sigma^2$\n",
        "*  $Price$ follows a normal distribution"
      ],
      "metadata": {
        "id": "Nmgp54bFvru4"
      }
    },
    {
      "cell_type": "markdown",
      "source": [
        "The appropriate plot for $Price \\sim Age + NumberBidders$ is a 3D scatterplot."
      ],
      "metadata": {
        "id": "TfzheUY321q9"
      }
    },
    {
      "cell_type": "markdown",
      "source": [
        "<p align='center'><img src=\"https://drive.google.com/uc?export=view&id=12tPtAFmMPP9E4K2PJnMuS8zA8I9QCWQc\" width=\"50%\" height=\"50%\"></img></p>"
      ],
      "metadata": {
        "id": "TBY__Z0l211M"
      }
    },
    {
      "cell_type": "markdown",
      "source": [
        "Next, fit the multiple linear regression model for $Price \\sim Age + NumberBidders$"
      ],
      "metadata": {
        "id": "ppeOirorvru5"
      }
    },
    {
      "cell_type": "code",
      "metadata": {
        "colab": {
          "base_uri": "https://localhost:8080/",
          "height": 347
        },
        "id": "NJfjEeobvru6",
        "outputId": "66ad6f5d-ced7-4725-b621-2251822a08c3"
      },
      "source": [
        "LinearModel_Price_AgeandNumberBidders <- lm(Price ~ Age + Number_Bidders, data=GrandfatherClocks)\n",
        "summary(LinearModel_Price_AgeandNumberBidders)"
      ],
      "execution_count": null,
      "outputs": [
        {
          "output_type": "display_data",
          "data": {
            "text/plain": [
              "\n",
              "Call:\n",
              "lm(formula = Price ~ Age + Number_Bidders, data = GrandfatherClocks)\n",
              "\n",
              "Residuals:\n",
              "   Min     1Q Median     3Q    Max \n",
              "-207.2 -117.8   16.5  102.7  213.5 \n",
              "\n",
              "Coefficients:\n",
              "                 Estimate Std. Error t value Pr(>|t|)    \n",
              "(Intercept)    -1336.7221   173.3561  -7.711 1.67e-08 ***\n",
              "Age               12.7362     0.9024  14.114 1.60e-14 ***\n",
              "Number_Bidders    85.8151     8.7058   9.857 9.14e-11 ***\n",
              "---\n",
              "Signif. codes:  0 ‘***’ 0.001 ‘**’ 0.01 ‘*’ 0.05 ‘.’ 0.1 ‘ ’ 1\n",
              "\n",
              "Residual standard error: 133.1 on 29 degrees of freedom\n",
              "Multiple R-squared:  0.8927,\tAdjusted R-squared:  0.8853 \n",
              "F-statistic: 120.7 on 2 and 29 DF,  p-value: 8.769e-15\n"
            ]
          },
          "metadata": {}
        }
      ]
    },
    {
      "cell_type": "markdown",
      "source": [
        "### Summary of the three Models"
      ],
      "metadata": {
        "id": "r2OwAPPHymc7"
      }
    },
    {
      "cell_type": "markdown",
      "source": [
        "| Model | $R^2$ | $RMSE$         \n",
        "| :-: | :-: | :-:\n",
        "| Price ~ Age | 53.3%  | 273\n",
        "| Price ~ NumberBidders | 15.6% | 367\n",
        "| &nbsp; | &nbsp; | &nbsp;  \n",
        "| Price ~ Age + NumberBidders | 89.3% <font size=\"+1\">&#8593;</font> | 133 <font size=\"+1\">&#8595;</font>"
      ],
      "metadata": {
        "id": "muqwUhdyU1o3"
      }
    },
    {
      "cell_type": "markdown",
      "source": [
        "**Comments**\n",
        "\n",
        "*  The model that includes both $Age$ and $NumberBidders$ is best -- highest $R^2$ and lowest $RMSE$ value\n",
        "*   There appears to be an added benefit of considering the predictors simultaneous -- $R^22=89.3\\%$ is higher than the sum of the $R^2$ values from the two simple linear regression models\n"
      ],
      "metadata": {
        "id": "_3oq2AV-Ww8d"
      }
    },
    {
      "cell_type": "markdown",
      "source": [
        "**Interpretation** \n",
        "\n",
        "* $R^2$ from multiple linear regression model; $R^{2} = 89.3\\%$, 89.3% of the variation in price can be explained by this model that includes Age and Number of Bidders are predictors\n",
        "\n",
        "\n",
        "* $RMSE = \\$133$, average residual value; the average amount of error when making predictions for the price of a Grandfather Clock is $133 \n"
      ],
      "metadata": {
        "id": "HLKAsxxXXGSr"
      }
    },
    {
      "cell_type": "markdown",
      "source": [
        "### Interpretation of Model Parameters"
      ],
      "metadata": {
        "id": "B41yOIysYEuQ"
      }
    },
    {
      "cell_type": "markdown",
      "source": [
        "* Model: $Price \\sim Age$"
      ],
      "metadata": {
        "id": "rpBHuAJNac-R"
      }
    },
    {
      "cell_type": "markdown",
      "source": [
        "$$\\begin{array}{rcl}\n",
        "\\hat{E}(Price \\space | \\space Age) & = & \\hat{\\theta}_{0} + \\hat{\\theta}_{1} * Age \\\\\n",
        " & = & -192 + 10.48 * Age \n",
        "\\end{array}\n",
        "$$"
      ],
      "metadata": {
        "id": "Ko6CrF1-YIAK"
      }
    },
    {
      "cell_type": "markdown",
      "source": [
        "* $\\hat{\\theta}_{0} = -192$;  expected price of a grandfather clock when \n",
        "$Age = 0$\n",
        "\n",
        "* $\\hat{\\theta}_{1} = 10.48$; expected increase in price for a 1-unit increase in $Age$\n"
      ],
      "metadata": {
        "id": "j5m7FJ2cannz"
      }
    },
    {
      "cell_type": "markdown",
      "source": [
        "\n",
        "<p align='center'><img src=\"https://drive.google.com/uc?export=view&id=1MpyVNz31yOq6C43EgAY2m246ly5UI6rF\" width=\"50%\" height=\"50%\"></img></p>"
      ],
      "metadata": {
        "id": "MLHJQZKDbupU"
      }
    },
    {
      "cell_type": "markdown",
      "source": [
        "* Model: $Price \\sim NumberBidders$"
      ],
      "metadata": {
        "id": "E3jNlj79cgRx"
      }
    },
    {
      "cell_type": "markdown",
      "source": [
        "$$\\begin{array}{rcl}\n",
        "\\hat{E}(Price \\space | \\space NumberBidders) & = & \\hat{\\eta}_{0} + \\hat{\\eta}_{1} * NumberBidders \\\\\n",
        " & = & 806 + 54.64 * NumberBidders \n",
        "\\end{array}\n",
        "$$"
      ],
      "metadata": {
        "id": "SIuV-BE4cgRz"
      }
    },
    {
      "cell_type": "markdown",
      "source": [
        "* $\\hat{\\eta}_{0} = 806$;  expected price of a grandfather clock when \n",
        "$NumberBidders = 0$\n",
        "\n",
        "* $\\hat{\\eta}_{1} = 54.64$; expected increase in price for a 1-unit increase in $NumberBidders$\n"
      ],
      "metadata": {
        "id": "sA2uSVZScgR0"
      }
    },
    {
      "cell_type": "markdown",
      "source": [
        "<p align='center'><img src=\"https://drive.google.com/uc?export=view&id=15Q8JQjZJqNfRdLi0PujQQ_xx-BboFmdv\" width=\"50%\" height=\"50%\"></img></p>\n"
      ],
      "metadata": {
        "id": "pF9gP3TCcgR1"
      }
    },
    {
      "cell_type": "markdown",
      "source": [
        "* Model: $Price \\sim Age + NumberBidders$"
      ],
      "metadata": {
        "id": "JWRSlCgeo0-r"
      }
    },
    {
      "cell_type": "markdown",
      "source": [
        "$$\\begin{array}{rcl}\n",
        "\\hat{E}(Price \\space | \\space Age, NumberBidders) & = & \\hat{\\beta}_{0} + \\hat{\\beta}_{1} * Age + \\hat{\\beta}_{2} * NumberBidders \\\\\n",
        " & = & -1337 + 12.74 * Age + 85.82 * NumberBidders \n",
        "\\end{array}\n",
        "$$"
      ],
      "metadata": {
        "id": "BAIblpJfo0-s"
      }
    },
    {
      "cell_type": "markdown",
      "source": [
        "* $\\hat{\\beta}_{0} = -1337$;  expected price of a grandfather clock when \n",
        "$Age = 0 $ and $NumberBidders = 0$\n",
        "\n",
        "* $\\hat{\\beta}_{1} = 12.74$; expected increase in price for a 1-unit increase in $Age$ while holding the $NumberBidders$ *constant*\n",
        "\n",
        "* $\\hat{\\beta}_{2} = 85.82$; expected increase in price for a 1-unit increase in $NumberBidders$ while holding the $Age$ *constant*"
      ],
      "metadata": {
        "id": "rg9UAQn4o0-s"
      }
    },
    {
      "cell_type": "markdown",
      "source": [
        "<p align='center'><img src=\"https://drive.google.com/uc?export=view&id=1b3_GeXpQaArzorp_3meXD9OZ6uFY_YHs\" width=\"50%\" height=\"50%\"></img></p>"
      ],
      "metadata": {
        "id": "UYIMIxH1okE_"
      }
    },
    {
      "cell_type": "markdown",
      "source": [
        "More on the Interpretation of the Coefficients"
      ],
      "metadata": {
        "id": "93lDN8aktbyd"
      }
    },
    {
      "cell_type": "markdown",
      "source": [
        "* Effect of Age\n",
        "\n",
        "<p align='center'><img src=\"https://drive.google.com/uc?export=view&id=1v5eGGabxhsM_0sfzc24VqpaxnEMBEJTW\" width=\"50%\" height=\"50%\"></img></p>"
      ],
      "metadata": {
        "id": "9wNsmxgAraUu"
      }
    },
    {
      "cell_type": "markdown",
      "source": [
        "* Effect of NumberBidders\n",
        "<p align='center'><img src=\"https://drive.google.com/uc?export=view&id=1dB5LjogeIGO2YHIcKbd7y7ihLfx2qqCz\" width=\"50%\" height=\"50%\"></img></p>\n"
      ],
      "metadata": {
        "id": "B0Y-kOZZrjtb"
      }
    },
    {
      "cell_type": "markdown",
      "source": [
        "### Issues when Interpreting Coefficients for Multiple Linear Regression Model"
      ],
      "metadata": {
        "id": "Qrbk11INrzAy"
      }
    },
    {
      "cell_type": "markdown",
      "source": [
        "\n",
        "1.  In a multiple linear regression setting, an assumption is made that all other predictor variables are held *constant* when interpreting an estimated regression coefficient.  In practice, predictor variables often have non-zero correlations with each other suggesting that holding one variable constant while changing the other is not reasonable.   Here, the correlation between Age and Number of Bidders is fairly low (-0.2537); therefore, this concern is not likely to be much of an issue here.\n"
      ],
      "metadata": {
        "id": "DlXAPysDr0Wh"
      }
    },
    {
      "cell_type": "markdown",
      "source": [
        "<p align='center'><img src=\"https://drive.google.com/uc?export=view&id=15Mo34GMii0zTFZFFaUyvku0IHeDp8U23\" width=\"50%\" height=\"50%\"></img></p>"
      ],
      "metadata": {
        "id": "r2X2kZprr81U"
      }
    },
    {
      "cell_type": "markdown",
      "source": [
        "Getting the correlation matrix of the data.frame used to the fit the model $Price \\sim Age + NumberBidders$"
      ],
      "metadata": {
        "id": "H80oLhXGuWXC"
      }
    },
    {
      "cell_type": "code",
      "source": [
        "cor(GrandfatherClocks)"
      ],
      "metadata": {
        "colab": {
          "base_uri": "https://localhost:8080/",
          "height": 161
        },
        "id": "NxSLIJ3puRtg",
        "outputId": "ade00226-9d16-453f-fc43-9818eb5b2050"
      },
      "execution_count": 13,
      "outputs": [
        {
          "output_type": "display_data",
          "data": {
            "text/html": [
              "<table class=\"dataframe\">\n",
              "<caption>A matrix: 3 × 3 of type dbl</caption>\n",
              "<thead>\n",
              "\t<tr><th></th><th scope=col>Price</th><th scope=col>Age</th><th scope=col>Number_Bidders</th></tr>\n",
              "</thead>\n",
              "<tbody>\n",
              "\t<tr><th scope=row>Price</th><td>1.0000000</td><td> 0.7302332</td><td> 0.3946404</td></tr>\n",
              "\t<tr><th scope=row>Age</th><td>0.7302332</td><td> 1.0000000</td><td>-0.2537491</td></tr>\n",
              "\t<tr><th scope=row>Number_Bidders</th><td>0.3946404</td><td>-0.2537491</td><td> 1.0000000</td></tr>\n",
              "</tbody>\n",
              "</table>\n"
            ],
            "text/markdown": "\nA matrix: 3 × 3 of type dbl\n\n| <!--/--> | Price | Age | Number_Bidders |\n|---|---|---|---|\n| Price | 1.0000000 |  0.7302332 |  0.3946404 |\n| Age | 0.7302332 |  1.0000000 | -0.2537491 |\n| Number_Bidders | 0.3946404 | -0.2537491 |  1.0000000 |\n\n",
            "text/latex": "A matrix: 3 × 3 of type dbl\n\\begin{tabular}{r|lll}\n  & Price & Age & Number\\_Bidders\\\\\n\\hline\n\tPrice & 1.0000000 &  0.7302332 &  0.3946404\\\\\n\tAge & 0.7302332 &  1.0000000 & -0.2537491\\\\\n\tNumber\\_Bidders & 0.3946404 & -0.2537491 &  1.0000000\\\\\n\\end{tabular}\n",
            "text/plain": [
              "               Price     Age        Number_Bidders\n",
              "Price          1.0000000  0.7302332  0.3946404    \n",
              "Age            0.7302332  1.0000000 -0.2537491    \n",
              "Number_Bidders 0.3946404 -0.2537491  1.0000000    "
            ]
          },
          "metadata": {}
        }
      ]
    },
    {
      "cell_type": "markdown",
      "source": [
        "2.   Consider the estimated coefficients from the two simple linear regression models and the multiple linear regression model.  The size of the coefficient alone does *not* determine its importance.  The coefficient for Age is considerably smaller than Number of Bidders; however, when making predictions the coefficient for Age will get multiplied by a much larger value (between 100 and 200 years) compared to Number of Bidders (values between 4 and 16).  Thus, one cannot determine the effect each predictor has on price by only considering the size of the coefficient.\n",
        "\n",
        "\n"
      ],
      "metadata": {
        "id": "6qBEngI4r9Uw"
      }
    },
    {
      "cell_type": "markdown",
      "source": [
        "<p align='center'><img src=\"https://drive.google.com/uc?export=view&id=1Ngd9wfJRRxdO1WSYb4aukM1dhaBTAZEF\" width=\"65%\" height=\"65%\"></img></p>\n"
      ],
      "metadata": {
        "id": "LP06moQCsUoS"
      }
    },
    {
      "cell_type": "markdown",
      "source": [
        "### Tests for the Multiple Linear Regression Coefficients"
      ],
      "metadata": {
        "id": "eAQA1hifsvWM"
      }
    },
    {
      "cell_type": "markdown",
      "source": [
        "Next, consider the t-value and Pr(>|t|) values for each of the model parameters."
      ],
      "metadata": {
        "id": "nNvGqY__u3sr"
      }
    },
    {
      "cell_type": "markdown",
      "source": [
        "<p align='center'><img src=\"https://drive.google.com/uc?export=view&id=1l1yv7kTCJ_pzJV9DUss0CUZ74sq4i1ON\" width=\"65%\" height=\"65%\"></img></p>"
      ],
      "metadata": {
        "id": "42eyhWJEsxCz"
      }
    },
    {
      "cell_type": "markdown",
      "source": [
        "<p align='center'><img src=\"https://drive.google.com/uc?export=view&id=1VZmQ8L0kNVqpbHTSHtTprnsQdt-gqHKa\"></img></p>\n",
        "\n"
      ],
      "metadata": {
        "id": "F3LycyOosxK4"
      }
    },
    {
      "cell_type": "markdown",
      "metadata": {
        "id": "_C_H1P1iX0wr"
      },
      "source": [
        "\n",
        "\n",
        "---\n",
        "\n",
        "\n",
        "\n",
        "---\n",
        "\n"
      ]
    },
    {
      "cell_type": "markdown",
      "metadata": {
        "id": "OKfebwW4Ew0M"
      },
      "source": [
        "### Confidence Intervals for Model Parameters"
      ]
    },
    {
      "cell_type": "markdown",
      "source": [
        "The confint() function can be used to obtain the 95% Confidence Interval for the Model parameters. "
      ],
      "metadata": {
        "id": "I82PgIIAvu4u"
      }
    },
    {
      "cell_type": "code",
      "metadata": {
        "colab": {
          "base_uri": "https://localhost:8080/",
          "height": 161
        },
        "id": "aVidTddYCIXV",
        "outputId": "29fdb4c0-8153-4bc8-d341-a8b65b622b0e"
      },
      "source": [
        "confint(LinearModel_Price_AgeandNumberBidders)"
      ],
      "execution_count": 14,
      "outputs": [
        {
          "output_type": "display_data",
          "data": {
            "text/html": [
              "<table class=\"dataframe\">\n",
              "<caption>A matrix: 3 × 2 of type dbl</caption>\n",
              "<thead>\n",
              "\t<tr><th></th><th scope=col>2.5 %</th><th scope=col>97.5 %</th></tr>\n",
              "</thead>\n",
              "<tbody>\n",
              "\t<tr><th scope=row>(Intercept)</th><td>-1691.27514</td><td>-982.16896</td></tr>\n",
              "\t<tr><th scope=row>Age</th><td>   10.89062</td><td>  14.58177</td></tr>\n",
              "\t<tr><th scope=row>Number_Bidders</th><td>   68.00986</td><td> 103.62040</td></tr>\n",
              "</tbody>\n",
              "</table>\n"
            ],
            "text/markdown": "\nA matrix: 3 × 2 of type dbl\n\n| <!--/--> | 2.5 % | 97.5 % |\n|---|---|---|\n| (Intercept) | -1691.27514 | -982.16896 |\n| Age |    10.89062 |   14.58177 |\n| Number_Bidders |    68.00986 |  103.62040 |\n\n",
            "text/latex": "A matrix: 3 × 2 of type dbl\n\\begin{tabular}{r|ll}\n  & 2.5 \\% & 97.5 \\%\\\\\n\\hline\n\t(Intercept) & -1691.27514 & -982.16896\\\\\n\tAge &    10.89062 &   14.58177\\\\\n\tNumber\\_Bidders &    68.00986 &  103.62040\\\\\n\\end{tabular}\n",
            "text/plain": [
              "               2.5 %       97.5 %    \n",
              "(Intercept)    -1691.27514 -982.16896\n",
              "Age               10.89062   14.58177\n",
              "Number_Bidders    68.00986  103.62040"
            ]
          },
          "metadata": {}
        }
      ]
    },
    {
      "cell_type": "markdown",
      "source": [
        "**Interpretation:**"
      ],
      "metadata": {
        "id": "M1jlxVAJvW3N"
      }
    },
    {
      "cell_type": "markdown",
      "source": [
        "1. We are 95% certain that the expected price will increase by $10.89$ up to $14.58$ for each additional year older the grandfather clock is (assuming the number of bidders is held constant).\n",
        "\n",
        "2. We are 95% certain that the expected price will increase by $68.01$ up to $103.62$ for each additional bidder (assuming the age is held constant).\n"
      ],
      "metadata": {
        "id": "c1wXpV6qvQV9"
      }
    },
    {
      "cell_type": "markdown",
      "source": [
        "### Variable Importance"
      ],
      "metadata": {
        "id": "rrWyEYELwQUg"
      }
    },
    {
      "cell_type": "markdown",
      "source": [
        "There are a wide variety of methods that can be used to make predictions (e.g. Multiple Linear Regression, Regression Trees, Neural Networks, etc). Most algorithms allow one to investigate the importance of each predictor variable. The importance of a predictor variable in a multiple linear regression analysis is measured by considering the tvalue from the regression output."
      ],
      "metadata": {
        "id": "-P7-sHICwyeW"
      }
    },
    {
      "cell_type": "markdown",
      "source": [
        "$$\\mbox{Variable Importance} \\rightarrow |t-value| $$"
      ],
      "metadata": {
        "id": "3dFw-nIXxQJv"
      }
    },
    {
      "cell_type": "markdown",
      "source": [
        "**Comments**:\n",
        "*  The $t-value$ is computed as $t-value = \\frac{\\hat{\\beta}}{\\mbox{Std Error of} \\space \\hat{\\beta}}$\n",
        "* The y−intercpt is excluded from consideration when investigating the importance of the predictor variables.\n",
        "*  A $|t-value|$ larger than $2$ is most commonly used to determine large. Some use a more liberal value of $1.5$ instead of $2$ to identify important predictor variables in a regression model.\n",
        "* Often a plot is used to display the importance of the predictor variable. The following variable importance plot has a horizontal line drawn at $2$. Any predictor variable whose height exceeds the horizontal line would be considered important in the regression model.\n",
        "\n",
        "\n"
      ],
      "metadata": {
        "id": "CLqibihpwvJW"
      }
    },
    {
      "cell_type": "markdown",
      "source": [
        "<p align='center'><img src=\"https://drive.google.com/uc?export=view&id=1h0TKaZRyRk2bpCEpsS7OHESalF2EH9-W\"></img></p>"
      ],
      "metadata": {
        "id": "uH_Fq4ASydwa"
      }
    },
    {
      "cell_type": "markdown",
      "source": [
        "The following code snipit will place the $|t-values|$ from our regression model. "
      ],
      "metadata": {
        "id": "uLyXHhAAzWji"
      }
    },
    {
      "cell_type": "code",
      "source": [
        "VariableImportanceDF = data.frame(\n",
        "                                  VariableNames = all.vars(LinearModel_Price_AgeandNumberBidders$terms)[-1],\n",
        "                                  tvalues = abs(coef(summary(LinearModel_Price_AgeandNumberBidders))[, \"t value\"][-1])\n",
        "                                 )\n",
        "head(VariableImportanceDF)"
      ],
      "metadata": {
        "colab": {
          "base_uri": "https://localhost:8080/",
          "height": 161
        },
        "id": "BCAFVe-mzWvB",
        "outputId": "3f0c2fe9-2036-4df4-c433-a8207ee5024b"
      },
      "execution_count": 38,
      "outputs": [
        {
          "output_type": "display_data",
          "data": {
            "text/html": [
              "<table class=\"dataframe\">\n",
              "<caption>A data.frame: 2 × 2</caption>\n",
              "<thead>\n",
              "\t<tr><th></th><th scope=col>VariableNames</th><th scope=col>tvalues</th></tr>\n",
              "\t<tr><th></th><th scope=col>&lt;chr&gt;</th><th scope=col>&lt;dbl&gt;</th></tr>\n",
              "</thead>\n",
              "<tbody>\n",
              "\t<tr><th scope=row>Age</th><td>Age           </td><td>14.114001</td></tr>\n",
              "\t<tr><th scope=row>Number_Bidders</th><td>Number_Bidders</td><td> 9.857286</td></tr>\n",
              "</tbody>\n",
              "</table>\n"
            ],
            "text/markdown": "\nA data.frame: 2 × 2\n\n| <!--/--> | VariableNames &lt;chr&gt; | tvalues &lt;dbl&gt; |\n|---|---|---|\n| Age | Age            | 14.114001 |\n| Number_Bidders | Number_Bidders |  9.857286 |\n\n",
            "text/latex": "A data.frame: 2 × 2\n\\begin{tabular}{r|ll}\n  & VariableNames & tvalues\\\\\n  & <chr> & <dbl>\\\\\n\\hline\n\tAge & Age            & 14.114001\\\\\n\tNumber\\_Bidders & Number\\_Bidders &  9.857286\\\\\n\\end{tabular}\n",
            "text/plain": [
              "               VariableNames  tvalues  \n",
              "Age            Age            14.114001\n",
              "Number_Bidders Number_Bidders  9.857286"
            ]
          },
          "metadata": {}
        }
      ]
    },
    {
      "cell_type": "markdown",
      "source": [
        "The following ggplot() code can be used to create a Variable Importance Plot for our multiple linear regression model."
      ],
      "metadata": {
        "id": "w0ACJ1ZF0HoN"
      }
    },
    {
      "cell_type": "code",
      "source": [
        "#Scatterplot with simple linear regression line\n",
        "ggplot(data=VariableImportanceDF, aes(x=VariableNames, y=tvalues)) + \n",
        "  geom_col() + \n",
        "  geom_hline(yintercept=2, col=\"red\") +  #put horizontal line at t-value = 2 \n",
        "  geom_text(aes(label = round(tvalues,2)), size=8, vjust = 1.5, col=\"white\") +\n",
        "  ggtitle(\"Variable Importance Plot\") +  \n",
        "  theme_classic()"
      ],
      "metadata": {
        "colab": {
          "base_uri": "https://localhost:8080/",
          "height": 437
        },
        "id": "hG1YRnkp1PLI",
        "outputId": "76509820-f66d-494e-8f61-0bf810c51901"
      },
      "execution_count": 51,
      "outputs": [
        {
          "output_type": "display_data",
          "data": {
            "text/plain": [
              "plot without title"
            ],
            "image/png": "[encoded data removed]"
          },
          "metadata": {
            "image/png": {
              "width": 420,
              "height": 420
            }
          }
        }
      ]
    },
    {
      "cell_type": "markdown",
      "metadata": {
        "id": "9kkg1lL30Rfw"
      },
      "source": [
        "\n",
        "\n",
        "---\n",
        "\n",
        "\n",
        "\n",
        "---\n",
        "\n",
        "\n",
        "End of Document"
      ]
    }
  ]
}