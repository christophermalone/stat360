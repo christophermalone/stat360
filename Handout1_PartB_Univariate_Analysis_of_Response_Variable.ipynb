{
  "nbformat": 4,
  "nbformat_minor": 0,
  "metadata": {
    "colab": {
      "name": "Handout1_PartB_Univariate Analysis of Response Variable.ipynb",
      "provenance": [],
      "collapsed_sections": [],
      "authorship_tag": "ABX9TyPFOigfbJXs6Pt15HK2ScWh",
      "include_colab_link": true
    },
    "kernelspec": {
      "name": "ir",
      "display_name": "R"
    }
  },
  "cells": [
    {
      "cell_type": "markdown",
      "metadata": {
        "id": "view-in-github",
        "colab_type": "text"
      },
      "source": [
        "<a href=\"https://colab.research.google.com/github/christophermalone/stat360/blob/main/Handout1_PartB_Univariate_Analysis_of_Response_Variable.ipynb\" target=\"_parent\"><img src=\"https://colab.research.google.com/assets/colab-badge.svg\" alt=\"Open In Colab\"/></a>"
      ]
    },
    {
      "cell_type": "markdown",
      "metadata": {
        "id": "KhClO9b02SXA"
      },
      "source": [
        "# Handout #1 Part B: Univariate Analysis of a Response Variable - Inference\n"
      ]
    },
    {
      "cell_type": "markdown",
      "metadata": {
        "id": "AXDYLbzK2o7e"
      },
      "source": [
        "<table width='100%' ><tr><td bgcolor='green'></td></tr></table>\n",
        "\n",
        "## Example 1B.1\n",
        "\n",
        "Consider the following Crater Impact study that was done here at Winona State Univeristy.  This study investigated the effect of certain variables on the size of an impact crater. \n",
        "<table>\n",
        "  <tr>\n",
        "    <td width='50%'>\n",
        "      <ul>\n",
        "        <li><strong>Response Variable</strong>: Diameter of crater (cm)</li><br>\n",
        "        <li>Variables under investigation (i.e. independent variables)</li>\n",
        "        <ul>\n",
        "          <li>Hight from which projectile was dropped</li>\n",
        "          <li>Projectile Type (glass, steel, or wood ball)</li>\n",
        "          <li>Sand Type (course, fine)</li>\n",
        "         </ul>\n",
        "    </ul>\n",
        "    </td>\n",
        "    <td width='50%'>\n",
        "<p align='center'><img src=\"https://drive.google.com/uc?export=view&id=1-969XxPtKCcG9MeX4NMRfkTUTaMoj8cY\"></img></p>\n",
        "  </td>\n",
        "</tr>\n",
        "</table>\n",
        "\n",
        "Data Folder: [OneDrive](https://mnscu-my.sharepoint.com/:f:/g/personal/aq7839yd_minnstate_edu/EmOQfrwxzzRBqq8PH_8qTmMBy-1qKgM11Hb8vzjs025EEA?e=wyShYs)\n",
        "\n",
        "\n",
        "YouTube: [Impact Craters](https://www.youtube.com/results?search_query=worlds+biggest+impact+craters)\n",
        "\n",
        "\n",
        "<table width='100%' ><tr><td bgcolor='green'></td></tr></table>\n",
        "\n"
      ]
    },
    {
      "cell_type": "markdown",
      "metadata": {
        "id": "njXGRUIC9Lgs"
      },
      "source": [
        "## Load Data into R via URL"
      ]
    },
    {
      "cell_type": "markdown",
      "metadata": {
        "id": "FoT1NFX3DncH"
      },
      "source": [
        "The tidyverse R package will be used to assist with reading in the dataset into the current R session."
      ]
    },
    {
      "cell_type": "code",
      "metadata": {
        "id": "LgaibuX_DtWK",
        "cellView": "form",
        "colab": {
          "base_uri": "https://localhost:8080/"
        },
        "outputId": "b1aa4985-9cc9-4f94-a0b0-9fd935cbdc53"
      },
      "source": [
        "#@title Load Tidyverse\n",
        "#load tidyverse package\n",
        "library(tidyverse)"
      ],
      "execution_count": 1,
      "outputs": [
        {
          "output_type": "stream",
          "text": [
            "Warning message in system(\"timedatectl\", intern = TRUE):\n",
            "“running command 'timedatectl' had status 1”\n",
            "── \u001b[1mAttaching packages\u001b[22m ─────────────────────────────────────── tidyverse 1.3.1 ──\n",
            "\n",
            "\u001b[32m✔\u001b[39m \u001b[34mggplot2\u001b[39m 3.3.5     \u001b[32m✔\u001b[39m \u001b[34mpurrr  \u001b[39m 0.3.4\n",
            "\u001b[32m✔\u001b[39m \u001b[34mtibble \u001b[39m 3.1.3     \u001b[32m✔\u001b[39m \u001b[34mdplyr  \u001b[39m 1.0.7\n",
            "\u001b[32m✔\u001b[39m \u001b[34mtidyr  \u001b[39m 1.1.3     \u001b[32m✔\u001b[39m \u001b[34mstringr\u001b[39m 1.4.0\n",
            "\u001b[32m✔\u001b[39m \u001b[34mreadr  \u001b[39m 2.0.1     \u001b[32m✔\u001b[39m \u001b[34mforcats\u001b[39m 0.5.1\n",
            "\n",
            "── \u001b[1mConflicts\u001b[22m ────────────────────────────────────────── tidyverse_conflicts() ──\n",
            "\u001b[31m✖\u001b[39m \u001b[34mdplyr\u001b[39m::\u001b[32mfilter()\u001b[39m masks \u001b[34mstats\u001b[39m::filter()\n",
            "\u001b[31m✖\u001b[39m \u001b[34mdplyr\u001b[39m::\u001b[32mlag()\u001b[39m    masks \u001b[34mstats\u001b[39m::lag()\n",
            "\n"
          ],
          "name": "stderr"
        }
      ]
    },
    {
      "cell_type": "markdown",
      "metadata": {
        "id": "DPqIPen9D5T3"
      },
      "source": [
        "The **read_csv()** function is used to read in the dataset. "
      ]
    },
    {
      "cell_type": "code",
      "metadata": {
        "id": "e07lUbQ1F1cV",
        "cellView": "form"
      },
      "source": [
        "#@title Readin Data\n",
        "\n",
        "# Reading data in using read.csv via Base \n",
        "ImpactCrater <- read.csv(\"http://www.StatsClass.org/stat360/Datasets/ImpactCrater.csv\")"
      ],
      "execution_count": 2,
      "outputs": []
    },
    {
      "cell_type": "markdown",
      "metadata": {
        "id": "irbG4lJbENzv"
      },
      "source": [
        "The **head()** function can be used to see the first few lines of the dataset.  Similarly, the tail() function can be used to see the last few lines of a dataset."
      ]
    },
    {
      "cell_type": "code",
      "metadata": {
        "id": "HYKWH2i0EN6s",
        "cellView": "form"
      },
      "source": [
        "#@title View the first few rows of data\n",
        "head(ImpactCrater)"
      ],
      "execution_count": null,
      "outputs": []
    },
    {
      "cell_type": "markdown",
      "metadata": {
        "id": "oV94hIr3Edo4"
      },
      "source": [
        "## Basic Summary Statistics"
      ]
    },
    {
      "cell_type": "code",
      "metadata": {
        "colab": {
          "base_uri": "https://localhost:8080/",
          "height": 128
        },
        "id": "Mr1sjUwDFJIP",
        "cellView": "form",
        "outputId": "4254174c-f1cc-41e7-bec5-f4cdfaa295f3"
      },
      "source": [
        "#@title Getting several statistics\n",
        "\n",
        "(ImpactCrater \n",
        "  %>% summarize(\n",
        "                  Avg_Diameter = mean(Diameter),\n",
        "                  Stdev_Diameter = sd(Diameter),\n",
        "                  n_Diameter = n(),\n",
        "                  Min_Diameter = min(Diameter),\n",
        "                  Max_Diameter = max(Diameter)\n",
        "                \n",
        "               )\n",
        ")"
      ],
      "execution_count": 3,
      "outputs": [
        {
          "output_type": "display_data",
          "data": {
            "text/plain": [
              "  Avg_Diameter Stdev_Diameter n_Diameter Min_Diameter Max_Diameter\n",
              "1 6.675694     1.724657       144        3.25         11          "
            ],
            "text/latex": "A data.frame: 1 × 5\n\\begin{tabular}{lllll}\n Avg\\_Diameter & Stdev\\_Diameter & n\\_Diameter & Min\\_Diameter & Max\\_Diameter\\\\\n <dbl> & <dbl> & <int> & <dbl> & <dbl>\\\\\n\\hline\n\t 6.675694 & 1.724657 & 144 & 3.25 & 11\\\\\n\\end{tabular}\n",
            "text/markdown": "\nA data.frame: 1 × 5\n\n| Avg_Diameter &lt;dbl&gt; | Stdev_Diameter &lt;dbl&gt; | n_Diameter &lt;int&gt; | Min_Diameter &lt;dbl&gt; | Max_Diameter &lt;dbl&gt; |\n|---|---|---|---|---|\n| 6.675694 | 1.724657 | 144 | 3.25 | 11 |\n\n",
            "text/html": [
              "<table class=\"dataframe\">\n",
              "<caption>A data.frame: 1 × 5</caption>\n",
              "<thead>\n",
              "\t<tr><th scope=col>Avg_Diameter</th><th scope=col>Stdev_Diameter</th><th scope=col>n_Diameter</th><th scope=col>Min_Diameter</th><th scope=col>Max_Diameter</th></tr>\n",
              "\t<tr><th scope=col>&lt;dbl&gt;</th><th scope=col>&lt;dbl&gt;</th><th scope=col>&lt;int&gt;</th><th scope=col>&lt;dbl&gt;</th><th scope=col>&lt;dbl&gt;</th></tr>\n",
              "</thead>\n",
              "<tbody>\n",
              "\t<tr><td>6.675694</td><td>1.724657</td><td>144</td><td>3.25</td><td>11</td></tr>\n",
              "</tbody>\n",
              "</table>\n"
            ]
          },
          "metadata": {}
        }
      ]
    },
    {
      "cell_type": "markdown",
      "metadata": {
        "id": "Yx2xRa69X6zI"
      },
      "source": [
        "## Inferential Methods"
      ]
    },
    {
      "cell_type": "markdown",
      "metadata": {
        "id": "z3JDfQ91l33J"
      },
      "source": [
        "First, consider a plot of the original data."
      ]
    },
    {
      "cell_type": "code",
      "metadata": {
        "id": "z5SREZgNYBQ8",
        "colab": {
          "base_uri": "https://localhost:8080/",
          "height": 437
        },
        "cellView": "form",
        "outputId": "88bd3d0e-fd23-4ffd-e948-75c13378183b"
      },
      "source": [
        "#@title Rug Plot of Diameter\n",
        "ggplot(data=ImpactCrater, aes(x=Diameter)) + \n",
        "  geom_rug() + \n",
        "  scale_x_continuous(breaks=c(3,4,5,6,7,8,9,10,11)) +\n",
        "  labs(x=\"Diameter\") +\n",
        "  theme_classic()"
      ],
      "execution_count": 36,
      "outputs": [
        {
          "output_type": "display_data",
          "data": {
            "image/png": "[encoded data removed]",
            "text/plain": [
              "plot without title"
            ]
          },
          "metadata": {
            "image/png": {
              "width": 420,
              "height": 420
            }
          }
        }
      ]
    },
    {
      "cell_type": "markdown",
      "metadata": {
        "id": "dOdzrU5lZCDA"
      },
      "source": [
        "Here, inference will be made about the population mean, i.e. $\\mu$.  Let us consider the value of the sample mean."
      ]
    },
    {
      "cell_type": "code",
      "metadata": {
        "colab": {
          "base_uri": "https://localhost:8080/",
          "height": 437
        },
        "cellView": "form",
        "id": "PCKUhI7TZCJZ",
        "outputId": "ad1a6147-9a9d-40ab-80ef-199f48bb5549"
      },
      "source": [
        "#@title Rug Plot of Sample Mean\n",
        "\n",
        "AvgDiameter <- data.frame(Avg_Diameter = c(6.67))\n",
        "ggplot(data=AvgDiameter, aes(x=Avg_Diameter)) + \n",
        "  geom_rug() + \n",
        "  scale_x_continuous(limits=c(3,11),breaks=c(3,4,5,6,7,8,9,10,11) ) +\n",
        "  labs(x=\"Average Diameter\") +\n",
        "  theme_classic()"
      ],
      "execution_count": 38,
      "outputs": [
        {
          "output_type": "display_data",
          "data": {
            "image/png": "[encoded data removed]",
            "text/plain": [
              "plot without title"
            ]
          },
          "metadata": {
            "image/png": {
              "width": 420,
              "height": 420
            }
          }
        }
      ]
    },
    {
      "cell_type": "markdown",
      "metadata": {
        "id": "XDNA2L-6mSyo"
      },
      "source": [
        "A comparison of the individual data value and the average diameter."
      ]
    },
    {
      "cell_type": "markdown",
      "metadata": {
        "id": "htAdoP0wcVk6"
      },
      "source": [
        "\n",
        "\n",
        "<p align='center'><img src=\"https://drive.google.com/uc?export=view&id=1gmZMS8fgTe521ELBgCqGI7glrDUmABXC\" width=\"75%\" height=\"75%\"></img></p>"
      ]
    },
    {
      "cell_type": "markdown",
      "metadata": {
        "id": "r3rAYED5mYTP"
      },
      "source": [
        "Next, consider the concept of taking *repeated sampling* which would allow us to understand how the sample mean will vary from sample-to-sample."
      ]
    },
    {
      "cell_type": "markdown",
      "metadata": {
        "id": "pLD28-wPixEB"
      },
      "source": [
        "<p align='center'><img src=\"https://drive.google.com/uc?export=view&id=1P37_4ekGPiXPgnO9asfCk4TCpNHF4bRI\" width=\"50%\" height=\"50%\"></img></p>"
      ]
    },
    {
      "cell_type": "markdown",
      "metadata": {
        "id": "T0hamh_tmky5"
      },
      "source": [
        "The following code will allow us to take repeated samples in using the dplyr package."
      ]
    },
    {
      "cell_type": "code",
      "metadata": {
        "id": "qljulJK5cVtC"
      },
      "source": [
        "AvgDiameterRepeated <- data.frame(ResampleID = 1:100) %>% \n",
        "    group_by(ResampleID) %>% \n",
        "    mutate(Avg_Diameter = mean(sample(ImpactCrater$Diameter, replace = TRUE)))"
      ],
      "execution_count": 28,
      "outputs": []
    },
    {
      "cell_type": "markdown",
      "metadata": {
        "id": "cQMHU59_mprj"
      },
      "source": [
        "Next, check to see the data.frame was created properly."
      ]
    },
    {
      "cell_type": "code",
      "metadata": {
        "colab": {
          "base_uri": "https://localhost:8080/",
          "height": 34
        },
        "id": "WjDx45odctEw",
        "outputId": "80b71f67-4c8a-4a3b-cfe2-34f21321de52"
      },
      "source": [
        "ls()"
      ],
      "execution_count": 20,
      "outputs": [
        {
          "output_type": "display_data",
          "data": {
            "text/plain": [
              "[1] \"AvgDiameter\"         \"AvgDiameterRepeated\" \"ImpactCrater\"       "
            ],
            "text/latex": "\\begin{enumerate*}\n\\item 'AvgDiameter'\n\\item 'AvgDiameterRepeated'\n\\item 'ImpactCrater'\n\\end{enumerate*}\n",
            "text/markdown": "1. 'AvgDiameter'\n2. 'AvgDiameterRepeated'\n3. 'ImpactCrater'\n\n\n",
            "text/html": [
              "<style>\n",
              ".list-inline {list-style: none; margin:0; padding: 0}\n",
              ".list-inline>li {display: inline-block}\n",
              ".list-inline>li:not(:last-child)::after {content: \"\\00b7\"; padding: 0 .5ex}\n",
              "</style>\n",
              "<ol class=list-inline><li>'AvgDiameter'</li><li>'AvgDiameterRepeated'</li><li>'ImpactCrater'</li></ol>\n"
            ]
          },
          "metadata": {}
        }
      ]
    },
    {
      "cell_type": "markdown",
      "metadata": {
        "id": "obwsF1-lmuOx"
      },
      "source": [
        "Taking a look at the outcomes from the repeated samples."
      ]
    },
    {
      "cell_type": "code",
      "metadata": {
        "colab": {
          "base_uri": "https://localhost:8080/",
          "height": 282
        },
        "id": "nElXwoWdcvp_",
        "outputId": "e5da9ab1-5638-4392-bfe3-bad5695f8f1e"
      },
      "source": [
        "head(AvgDiameterRepeated)"
      ],
      "execution_count": 29,
      "outputs": [
        {
          "output_type": "display_data",
          "data": {
            "text/plain": [
              "  ResampleID Avg_Diameter\n",
              "1 1          6.622222    \n",
              "2 2          6.630208    \n",
              "3 3          6.411458    \n",
              "4 4          6.439236    \n",
              "5 5          6.625000    \n",
              "6 6          6.808681    "
            ],
            "text/latex": "A grouped\\_df: 6 × 2\n\\begin{tabular}{ll}\n ResampleID & Avg\\_Diameter\\\\\n <int> & <dbl>\\\\\n\\hline\n\t 1 & 6.622222\\\\\n\t 2 & 6.630208\\\\\n\t 3 & 6.411458\\\\\n\t 4 & 6.439236\\\\\n\t 5 & 6.625000\\\\\n\t 6 & 6.808681\\\\\n\\end{tabular}\n",
            "text/markdown": "\nA grouped_df: 6 × 2\n\n| ResampleID &lt;int&gt; | Avg_Diameter &lt;dbl&gt; |\n|---|---|\n| 1 | 6.622222 |\n| 2 | 6.630208 |\n| 3 | 6.411458 |\n| 4 | 6.439236 |\n| 5 | 6.625000 |\n| 6 | 6.808681 |\n\n",
            "text/html": [
              "<table class=\"dataframe\">\n",
              "<caption>A grouped_df: 6 × 2</caption>\n",
              "<thead>\n",
              "\t<tr><th scope=col>ResampleID</th><th scope=col>Avg_Diameter</th></tr>\n",
              "\t<tr><th scope=col>&lt;int&gt;</th><th scope=col>&lt;dbl&gt;</th></tr>\n",
              "</thead>\n",
              "<tbody>\n",
              "\t<tr><td>1</td><td>6.622222</td></tr>\n",
              "\t<tr><td>2</td><td>6.630208</td></tr>\n",
              "\t<tr><td>3</td><td>6.411458</td></tr>\n",
              "\t<tr><td>4</td><td>6.439236</td></tr>\n",
              "\t<tr><td>5</td><td>6.625000</td></tr>\n",
              "\t<tr><td>6</td><td>6.808681</td></tr>\n",
              "</tbody>\n",
              "</table>\n"
            ]
          },
          "metadata": {}
        }
      ]
    },
    {
      "cell_type": "code",
      "metadata": {
        "colab": {
          "base_uri": "https://localhost:8080/",
          "height": 437
        },
        "id": "G7MkbjVyc3FZ",
        "outputId": "af6925c2-f9b4-4fec-c813-5a7eff22c1ef"
      },
      "source": [
        "ggplot(data=AvgDiameterRepeated, aes(x=Avg_Diameter)) + \n",
        "  geom_rug() + \n",
        "  scale_x_continuous(limits=c(3,11),breaks=c(3,4,5,6,7,8,9,10,11) ) +\n",
        "  labs(x=\"Average Diameter\") +\n",
        "  theme_classic()"
      ],
      "execution_count": 33,
      "outputs": [
        {
          "output_type": "display_data",
          "data": {
            "image/png": "[encoded data removed]",
            "text/plain": [
              "plot without title"
            ]
          },
          "metadata": {
            "image/png": {
              "width": 420,
              "height": 420
            }
          }
        }
      ]
    },
    {
      "cell_type": "markdown",
      "metadata": {
        "id": "IVRU24h2m0ap"
      },
      "source": [
        "Comparing the individual data values to the repeated sample values."
      ]
    },
    {
      "cell_type": "markdown",
      "metadata": {
        "id": "zbs89IE0jFhp"
      },
      "source": [
        "\n",
        "\n",
        "<p align='center'><img src=\"https://drive.google.com/uc?export=view&id=1GAkVKfUghFAtsX0i210V3sy1CZfDgwx1\" width=\"75%\" height=\"75%\"></img></p>"
      ]
    },
    {
      "cell_type": "markdown",
      "metadata": {
        "id": "8uF9sPJgm5fU"
      },
      "source": [
        "A 95% *confidence interval* tries to identify the *middle 95% * of these repeated sample means."
      ]
    },
    {
      "cell_type": "markdown",
      "metadata": {
        "id": "x1kZ_zQvjVmf"
      },
      "source": [
        "\n",
        "<p align='center'><img src=\"https://drive.google.com/uc?export=view&id=1aN7nC3uD0iCwprizqZ7GP50XOkMso1W9\" width=\"75%\" height=\"75%\"></img></p>"
      ]
    },
    {
      "cell_type": "markdown",
      "metadata": {
        "id": "z99kYTx0dfXR"
      },
      "source": [
        "Getting the percentiles using from the repeated sample means."
      ]
    },
    {
      "cell_type": "code",
      "metadata": {
        "colab": {
          "base_uri": "https://localhost:8080/",
          "height": 159
        },
        "id": "q_T0FgjOdfdX",
        "outputId": "fdda9927-264f-45fc-eb94-a25f03120655"
      },
      "source": [
        "#@title 95% CI via Repeated Sampling\n",
        "(AvgDiameterRepeated \n",
        "  %>% ungroup()  #Removes group_by from ResampleID \n",
        "  %>% summarise(\n",
        "                enframe(\n",
        "                          quantile(Avg_Diameter, c(0.025,0.975)), \"Percentile\", \"Diameter\")\n",
        "                       )\n",
        ")"
      ],
      "execution_count": 32,
      "outputs": [
        {
          "output_type": "display_data",
          "data": {
            "text/plain": [
              "  Percentile Diameter\n",
              "1 2.5%       6.360955\n",
              "2 97.5%      7.005095"
            ],
            "text/latex": "A tibble: 2 × 2\n\\begin{tabular}{ll}\n Percentile & Diameter\\\\\n <chr> & <dbl>\\\\\n\\hline\n\t 2.5\\%  & 6.360955\\\\\n\t 97.5\\% & 7.005095\\\\\n\\end{tabular}\n",
            "text/markdown": "\nA tibble: 2 × 2\n\n| Percentile &lt;chr&gt; | Diameter &lt;dbl&gt; |\n|---|---|\n| 2.5%  | 6.360955 |\n| 97.5% | 7.005095 |\n\n",
            "text/html": [
              "<table class=\"dataframe\">\n",
              "<caption>A tibble: 2 × 2</caption>\n",
              "<thead>\n",
              "\t<tr><th scope=col>Percentile</th><th scope=col>Diameter</th></tr>\n",
              "\t<tr><th scope=col>&lt;chr&gt;</th><th scope=col>&lt;dbl&gt;</th></tr>\n",
              "</thead>\n",
              "<tbody>\n",
              "\t<tr><td>2.5% </td><td>6.360955</td></tr>\n",
              "\t<tr><td>97.5%</td><td>7.005095</td></tr>\n",
              "</tbody>\n",
              "</table>\n"
            ]
          },
          "metadata": {}
        }
      ]
    },
    {
      "cell_type": "markdown",
      "metadata": {
        "id": "1TibggF-iOo5"
      },
      "source": [
        "## Theory Based Approach"
      ]
    },
    {
      "cell_type": "markdown",
      "metadata": {
        "id": "T0Xu5TtqjjoE"
      },
      "source": [
        "$$\n",
        "\\bar{x} - \\left( t_{df=(n-1)}*\\frac{s}{\\sqrt{n}} \\right) < \\mu < \\bar{x} + \\left( t_{df=(n-1)}*\\frac{s}{\\sqrt{n}} \\right)\n",
        "$$"
      ]
    },
    {
      "cell_type": "code",
      "metadata": {
        "colab": {
          "base_uri": "https://localhost:8080/",
          "height": 34
        },
        "id": "3-OogexajjvY",
        "outputId": "150f0819-0d45-47b9-9f5d-c64baec3f5a8"
      },
      "source": [
        "qt(0.975,df=143)"
      ],
      "execution_count": 35,
      "outputs": [
        {
          "output_type": "display_data",
          "data": {
            "text/plain": [
              "[1] 1.976692"
            ],
            "text/latex": "1.97669219792979",
            "text/markdown": "1.97669219792979",
            "text/html": [
              "1.97669219792979"
            ]
          },
          "metadata": {}
        }
      ]
    },
    {
      "cell_type": "markdown",
      "metadata": {
        "id": "frMebam9lJOJ"
      },
      "source": [
        "$$ 6.68 - \\left(1.98 *\\frac{1.72}{\\sqrt{144}} \\right) < \\mu < 6.68 + \\left(1.98 *\\frac{1.72}{\\sqrt{144}} \\right) $$"
      ]
    },
    {
      "cell_type": "code",
      "metadata": {
        "colab": {
          "base_uri": "https://localhost:8080/",
          "height": 210
        },
        "id": "1EenHFCTiOv1",
        "outputId": "ccef181d-9487-40c5-c9b3-cecf2bb4408b"
      },
      "source": [
        "t.test(ImpactCrater$Diameter)"
      ],
      "execution_count": 34,
      "outputs": [
        {
          "output_type": "display_data",
          "data": {
            "text/plain": [
              "\n",
              "\tOne Sample t-test\n",
              "\n",
              "data:  ImpactCrater$Diameter\n",
              "t = 46.449, df = 143, p-value < 2.2e-16\n",
              "alternative hypothesis: true mean is not equal to 0\n",
              "95 percent confidence interval:\n",
              " 6.391602 6.959787\n",
              "sample estimates:\n",
              "mean of x \n",
              " 6.675694 \n"
            ]
          },
          "metadata": {}
        }
      ]
    }
  ]
}