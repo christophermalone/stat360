{
  "nbformat": 4,
  "nbformat_minor": 0,
  "metadata": {
    "colab": {
      "name": "Handout2_PartA_MarginalDistribution.ipynb",
      "provenance": [],
      "collapsed_sections": [],
      "authorship_tag": "ABX9TyP9KSsOe4tr5BO2BZloZYbO",
      "include_colab_link": true
    },
    "kernelspec": {
      "name": "ir",
      "display_name": "R"
    }
  },
  "cells": [
    {
      "cell_type": "markdown",
      "metadata": {
        "id": "view-in-github",
        "colab_type": "text"
      },
      "source": [
        "<a href=\"https://colab.research.google.com/github/christophermalone/stat360/blob/main/Handout2_PartA_MarginalDistribution.ipynb\" target=\"_parent\"><img src=\"https://colab.research.google.com/assets/colab-badge.svg\" alt=\"Open In Colab\"/></a>"
      ]
    },
    {
      "cell_type": "markdown",
      "metadata": {
        "id": "KhClO9b02SXA"
      },
      "source": [
        "# Handout #2 Part A: Variation in Marginal Distribution\n"
      ]
    },
    {
      "cell_type": "markdown",
      "metadata": {
        "id": "AXDYLbzK2o7e"
      },
      "source": [
        "<table width='100%' ><tr><td bgcolor='green'></td></tr></table>\n",
        "\n",
        "## Example 2.1\n",
        "\n",
        "Consider the following data that has been collected from students in my introductory statistics course over several past semesters.  \n",
        "\n",
        "<table>\n",
        "  <tr>\n",
        "    <td width='30%' valign='top'>\n",
        "      <ul>\n",
        "        <li><strong>Response Variable</strong>: Hair Length (mm)</li><br>\n",
        "        <li>Variables under investigation (i.e. independent variables)</li>\n",
        "        <ul>\n",
        "          <li>Gender</li>\n",
        "          <li>Height (inches)</li>\n",
        "         </ul>\n",
        "    </ul>\n",
        "    </td>\n",
        "    <td width='70%'>\n",
        "<p align='center'><img src=\"https://drive.google.com/uc?export=view&id=1h4lXsxXMRHVRtdg48vdbMbGahWfGz_oS\" width='50%' height='50%'></img></p>\n",
        "<p align='center'><img src=\"https://drive.google.com/uc?export=view&id=1W1F3yLFTI-AOUOg10Gnl7zsetSX-6lXz\" width='50%' height='50%'></img></p>\n",
        "  </td>\n",
        "</tr>\n",
        "</table>\n",
        "\n",
        "Data Folder: [OneDrive](https://mnscu-my.sharepoint.com/:f:/g/personal/aq7839yd_minnstate_edu/EmOQfrwxzzRBqq8PH_8qTmMBy-1qKgM11Hb8vzjs025EEA?e=wyShYs)\n",
        "\n",
        "\n",
        "\n",
        "<table width='100%' ><tr><td bgcolor='green'></td></tr></table>\n",
        "\n"
      ]
    },
    {
      "cell_type": "markdown",
      "metadata": {
        "id": "njXGRUIC9Lgs"
      },
      "source": [
        "## Load Data into R via URL"
      ]
    },
    {
      "cell_type": "markdown",
      "metadata": {
        "id": "FoT1NFX3DncH"
      },
      "source": [
        "The tidyverse package is a common R package used for the management of data. The tidyverse() package is loaded into this COLAB session here."
      ]
    },
    {
      "cell_type": "code",
      "metadata": {
        "id": "LgaibuX_DtWK",
        "colab": {
          "base_uri": "https://localhost:8080/"
        },
        "outputId": "12fbcc08-d2c5-4bb5-c688-bd4777dd63ff"
      },
      "source": [
        "#load tidyverse package\n",
        "library(tidyverse)"
      ],
      "execution_count": null,
      "outputs": [
        {
          "output_type": "stream",
          "name": "stderr",
          "text": [
            "Warning message in system(\"timedatectl\", intern = TRUE):\n",
            "“running command 'timedatectl' had status 1”\n",
            "── \u001b[1mAttaching packages\u001b[22m ─────────────────────────────────────── tidyverse 1.3.1 ──\n",
            "\n",
            "\u001b[32m✔\u001b[39m \u001b[34mggplot2\u001b[39m 3.3.6     \u001b[32m✔\u001b[39m \u001b[34mpurrr  \u001b[39m 0.3.4\n",
            "\u001b[32m✔\u001b[39m \u001b[34mtibble \u001b[39m 3.1.7     \u001b[32m✔\u001b[39m \u001b[34mdplyr  \u001b[39m 1.0.9\n",
            "\u001b[32m✔\u001b[39m \u001b[34mtidyr  \u001b[39m 1.2.0     \u001b[32m✔\u001b[39m \u001b[34mstringr\u001b[39m 1.4.0\n",
            "\u001b[32m✔\u001b[39m \u001b[34mreadr  \u001b[39m 2.1.2     \u001b[32m✔\u001b[39m \u001b[34mforcats\u001b[39m 0.5.1\n",
            "\n",
            "── \u001b[1mConflicts\u001b[22m ────────────────────────────────────────── tidyverse_conflicts() ──\n",
            "\u001b[31m✖\u001b[39m \u001b[34mdplyr\u001b[39m::\u001b[32mfilter()\u001b[39m masks \u001b[34mstats\u001b[39m::filter()\n",
            "\u001b[31m✖\u001b[39m \u001b[34mdplyr\u001b[39m::\u001b[32mlag()\u001b[39m    masks \u001b[34mstats\u001b[39m::lag()\n",
            "\n"
          ]
        }
      ]
    },
    {
      "cell_type": "markdown",
      "metadata": {
        "id": "DPqIPen9D5T3"
      },
      "source": [
        "The **read_csv()** function is used to read in the dataset. "
      ]
    },
    {
      "cell_type": "code",
      "metadata": {
        "id": "e07lUbQ1F1cV"
      },
      "source": [
        "# Reading data in using read.csv via Base \n",
        "HairLength <- read.csv(\"http://www.StatsClass.org/stat360/Datasets/HairLength.csv\", stringsAsFactors = TRUE)"
      ],
      "execution_count": null,
      "outputs": []
    },
    {
      "cell_type": "markdown",
      "metadata": {
        "id": "irbG4lJbENzv"
      },
      "source": [
        "The **head()** function can be used to see the first few lines of the dataset.  Similarly, the tail() function can be used to see the last few lines of a dataset."
      ]
    },
    {
      "cell_type": "code",
      "metadata": {
        "id": "HYKWH2i0EN6s",
        "colab": {
          "base_uri": "https://localhost:8080/",
          "height": 286
        },
        "outputId": "c85efb80-7be1-4a44-a3ff-e8f56e1e92c9"
      },
      "source": [
        "# View the first few rows of data\n",
        "head(HairLength)"
      ],
      "execution_count": null,
      "outputs": [
        {
          "output_type": "display_data",
          "data": {
            "text/html": [
              "<table class=\"dataframe\">\n",
              "<caption>A data.frame: 6 × 5</caption>\n",
              "<thead>\n",
              "\t<tr><th></th><th scope=col>RowID</th><th scope=col>Gender</th><th scope=col>Name</th><th scope=col>Height</th><th scope=col>Length</th></tr>\n",
              "\t<tr><th></th><th scope=col>&lt;int&gt;</th><th scope=col>&lt;fct&gt;</th><th scope=col>&lt;fct&gt;</th><th scope=col>&lt;int&gt;</th><th scope=col>&lt;int&gt;</th></tr>\n",
              "</thead>\n",
              "<tbody>\n",
              "\t<tr><th scope=row>1</th><td>1</td><td>F</td><td>Kelsie</td><td>66</td><td>359</td></tr>\n",
              "\t<tr><th scope=row>2</th><td>2</td><td>M</td><td>Eric  </td><td>73</td><td> 50</td></tr>\n",
              "\t<tr><th scope=row>3</th><td>3</td><td>F</td><td>Susan </td><td>66</td><td>295</td></tr>\n",
              "\t<tr><th scope=row>4</th><td>4</td><td>F</td><td>Alesha</td><td>72</td><td>320</td></tr>\n",
              "\t<tr><th scope=row>5</th><td>5</td><td>F</td><td>Alexa </td><td>70</td><td>470</td></tr>\n",
              "\t<tr><th scope=row>6</th><td>6</td><td>F</td><td>Jackie</td><td>62</td><td>180</td></tr>\n",
              "</tbody>\n",
              "</table>\n"
            ],
            "text/markdown": "\nA data.frame: 6 × 5\n\n| <!--/--> | RowID &lt;int&gt; | Gender &lt;fct&gt; | Name &lt;fct&gt; | Height &lt;int&gt; | Length &lt;int&gt; |\n|---|---|---|---|---|---|\n| 1 | 1 | F | Kelsie | 66 | 359 |\n| 2 | 2 | M | Eric   | 73 |  50 |\n| 3 | 3 | F | Susan  | 66 | 295 |\n| 4 | 4 | F | Alesha | 72 | 320 |\n| 5 | 5 | F | Alexa  | 70 | 470 |\n| 6 | 6 | F | Jackie | 62 | 180 |\n\n",
            "text/latex": "A data.frame: 6 × 5\n\\begin{tabular}{r|lllll}\n  & RowID & Gender & Name & Height & Length\\\\\n  & <int> & <fct> & <fct> & <int> & <int>\\\\\n\\hline\n\t1 & 1 & F & Kelsie & 66 & 359\\\\\n\t2 & 2 & M & Eric   & 73 &  50\\\\\n\t3 & 3 & F & Susan  & 66 & 295\\\\\n\t4 & 4 & F & Alesha & 72 & 320\\\\\n\t5 & 5 & F & Alexa  & 70 & 470\\\\\n\t6 & 6 & F & Jackie & 62 & 180\\\\\n\\end{tabular}\n",
            "text/plain": [
              "  RowID Gender Name   Height Length\n",
              "1 1     F      Kelsie 66     359   \n",
              "2 2     M      Eric   73      50   \n",
              "3 3     F      Susan  66     295   \n",
              "4 4     F      Alesha 72     320   \n",
              "5 5     F      Alexa  70     470   \n",
              "6 6     F      Jackie 62     180   "
            ]
          },
          "metadata": {}
        }
      ]
    },
    {
      "cell_type": "markdown",
      "source": [
        "## Marginal Distribution"
      ],
      "metadata": {
        "id": "IyWVc_ZmILPw"
      }
    },
    {
      "cell_type": "markdown",
      "source": [
        "A univariate analysis of the response marginalizes (or ignores) the effect of all other variables that may be under study.  In this situation, it is said that the marginal distribution of the response is being considered.\n"
      ],
      "metadata": {
        "id": "dNoSTM8IIPWX"
      }
    },
    {
      "cell_type": "markdown",
      "source": [
        "<p align='center'><img src=\"https://drive.google.com/uc?export=view&id=1LPzWbsWEWnveFHxLiwlCVu07HK7Kw8W0\" width='35%' height='35%'></img></p>"
      ],
      "metadata": {
        "id": "VsI16lDSIOT_"
      }
    },
    {
      "cell_type": "markdown",
      "source": [
        "A summary of marginal distribution *ignores* all other variables and considers the response variable in isolation."
      ],
      "metadata": {
        "id": "JiVKtiN-48_o"
      }
    },
    {
      "cell_type": "code",
      "source": [
        "# Summary of the response variable\n",
        "( HairLength\n",
        "  %>% select(Length)\n",
        "  %>% summary()\n",
        ")"
      ],
      "metadata": {
        "colab": {
          "base_uri": "https://localhost:8080/",
          "height": 138
        },
        "id": "2kB7sPir49JI",
        "outputId": "6e9862f7-1558-4baa-fdf9-fe058b431efd"
      },
      "execution_count": null,
      "outputs": [
        {
          "output_type": "display_data",
          "data": {
            "text/plain": [
              "     Length     \n",
              " Min.   : 12.0  \n",
              " 1st Qu.: 60.0  \n",
              " Median :248.0  \n",
              " Mean   :237.3  \n",
              " 3rd Qu.:380.0  \n",
              " Max.   :578.0  "
            ]
          },
          "metadata": {}
        }
      ]
    },
    {
      "cell_type": "markdown",
      "source": [
        "An alternative summarization that includes measures of variation."
      ],
      "metadata": {
        "id": "igDt2t-wKo61"
      }
    },
    {
      "cell_type": "code",
      "source": [
        "#Getting individual summary statistics\n",
        "(HairLength \n",
        "  %>% summarize(\n",
        "                  Mean = mean(Length),\n",
        "                  'Standard Devation' = sd(Length),\n",
        "                  Variance = var(Length),\n",
        "                  Count = n(),\n",
        "               )\n",
        ")"
      ],
      "metadata": {
        "colab": {
          "base_uri": "https://localhost:8080/",
          "height": 129
        },
        "id": "_RNC-7NmKpBz",
        "outputId": "c1627dee-e3b4-4190-c18a-29dd50fae494"
      },
      "execution_count": null,
      "outputs": [
        {
          "output_type": "display_data",
          "data": {
            "text/html": [
              "<table class=\"dataframe\">\n",
              "<caption>A data.frame: 1 × 4</caption>\n",
              "<thead>\n",
              "\t<tr><th scope=col>Mean</th><th scope=col>Standard Devation</th><th scope=col>Variance</th><th scope=col>Count</th></tr>\n",
              "\t<tr><th scope=col>&lt;dbl&gt;</th><th scope=col>&lt;dbl&gt;</th><th scope=col>&lt;dbl&gt;</th><th scope=col>&lt;int&gt;</th></tr>\n",
              "</thead>\n",
              "<tbody>\n",
              "\t<tr><td>237.2595</td><td>171.7999</td><td>29515.19</td><td>131</td></tr>\n",
              "</tbody>\n",
              "</table>\n"
            ],
            "text/markdown": "\nA data.frame: 1 × 4\n\n| Mean &lt;dbl&gt; | Standard Devation &lt;dbl&gt; | Variance &lt;dbl&gt; | Count &lt;int&gt; |\n|---|---|---|---|\n| 237.2595 | 171.7999 | 29515.19 | 131 |\n\n",
            "text/latex": "A data.frame: 1 × 4\n\\begin{tabular}{llll}\n Mean & Standard Devation & Variance & Count\\\\\n <dbl> & <dbl> & <dbl> & <int>\\\\\n\\hline\n\t 237.2595 & 171.7999 & 29515.19 & 131\\\\\n\\end{tabular}\n",
            "text/plain": [
              "  Mean     Standard Devation Variance Count\n",
              "1 237.2595 171.7999          29515.19 131  "
            ]
          },
          "metadata": {}
        }
      ]
    },
    {
      "cell_type": "markdown",
      "source": [
        "Next, consider a visual summary of the response variable - Hair Length."
      ],
      "metadata": {
        "id": "RjYMf3tYI7wo"
      }
    },
    {
      "cell_type": "code",
      "source": [
        "# Plotting the Empirical Density Function\n",
        "ggplot(data=HairLength, aes(x=Length)) + \n",
        "  geom_histogram(aes(y=..density..), bins=10) + \n",
        "  geom_density(adjust=0.5) +\n",
        "  theme_classic()"
      ],
      "metadata": {
        "colab": {
          "base_uri": "https://localhost:8080/",
          "height": 437
        },
        "id": "D6vmdYqyI73x",
        "outputId": "903258dc-9ade-4cf6-dbfe-fa3f3e9ba85b"
      },
      "execution_count": null,
      "outputs": [
        {
          "output_type": "display_data",
          "data": {
            "text/plain": [
              "plot without title"
            ],
            "image/png": "[encoded data removed]"
          },
          "metadata": {
            "image/png": {
              "width": 420,
              "height": 420
            }
          }
        }
      ]
    },
    {
      "cell_type": "markdown",
      "source": [
        "Historically, the **mean** and **variance** have been considered to be sufficient in describing a distribution.  [In fact, the mean and variance are said to be sufficient statistics for a wide class of distributions.] Certainly, information is lost when all data values are reduced to a single quantity that is supposedly  describing a typical value (i.e. mean or average) and a single quantity being used to quantify the variation (i.e. standard deviation or variance)."
      ],
      "metadata": {
        "id": "4NiIO9ZrJtcw"
      }
    },
    {
      "cell_type": "markdown",
      "source": [
        "In this class, we will use the E() or expectation notation to denote the mean and Var() to denote the variance.  The following notion will be used to describe the mean and variance of the response Hair Length.\n",
        "\n",
        "\n",
        "\n",
        "*   $\\mbox{Mean} = E(Hair \\space Length)$\n",
        "*   $\\mbox{Variance} = Var(Hair \\space Length)$\n",
        "\n"
      ],
      "metadata": {
        "id": "hD6d2iAfJ2w_"
      }
    },
    {
      "cell_type": "code",
      "source": [],
      "metadata": {
        "id": "7lMZgj43LnCj"
      },
      "execution_count": null,
      "outputs": []
    },
    {
      "cell_type": "markdown",
      "source": [
        "When these quantities are *estimated* from the data, the commonly used “hat” notation will be used.\n"
      ],
      "metadata": {
        "id": "ZrwLHDf9KJxp"
      }
    },
    {
      "cell_type": "markdown",
      "source": [
        "\n",
        "\n",
        "*   Estimate of the mean from the data\n",
        "$$\\hat{E}(Hair \\space Length) = 237.3$$\n",
        "\n",
        "*   Estimate of the variance from the data\n",
        "$$\\begin{array}{rcl}\n",
        "\\hat{Var}(Hair \\space Length) & = & [\\space \\hat{Std}(Hair \\space Length) \\space]^2 \\\\\n",
        "& = & [ \\space 171.7999 \\space]^2 \\\\\n",
        "& = & 29515.19 \\\\\n",
        "\\end{array}\n",
        "$$"
      ],
      "metadata": {
        "id": "NKETGW5UKNnA"
      }
    },
    {
      "cell_type": "markdown",
      "source": [
        "## Explained vs. Unexplained Variation"
      ],
      "metadata": {
        "id": "PXgIsRNuMcRc"
      }
    },
    {
      "cell_type": "markdown",
      "source": [
        "Consider the following Wiki entry for “Explained” Variation.\n",
        "\n"
      ],
      "metadata": {
        "id": "Mf8i80xgMg3M"
      }
    },
    {
      "cell_type": "markdown",
      "source": [
        "<table>\n",
        "<tr>\n",
        "  <td align=\"center\" valign=\"top\">\n",
        "<img src=\"https://drive.google.com/uc?export=view&id=1w1MscaHKpkJWD5CaaykuReAGIbMycXHq\" width='75%' height='75%'></img><br>\n",
        "Source:  <a href=\"https://en.wikipedia.org/wiki/Explained_variation\">https://en.wikipedia.org/wiki/Explained_variation</a>\n",
        "</td>\n",
        "</tr>\n",
        "</table>"
      ],
      "metadata": {
        "id": "Q5SEJ6eBNl0s"
      }
    },
    {
      "cell_type": "markdown",
      "source": [
        "Consider next the concept of explained vs unexplained variation in the context of our example.  There are several reasons why people have different hair lengths (e.g. specific hair styles, days since last haircut, gender, etc.).  If such variables are known to have an effect on hair length, then some of the inherent variation in hair length can be explained. However, if the aforementioned variables have no effect on hair length or if the aforementioned variables are ignored all together, then all the variation in hair length is said to be unexplained.\n",
        "\n",
        "\n",
        "*   **Explained Variation**: Variation in a response that can be attributed to one or more other variables\n",
        "*   **Unexplained Variation**: Variation in a response that remains after considering other variables\n",
        "\n"
      ],
      "metadata": {
        "id": "Bx2DGfo0OkwT"
      }
    },
    {
      "cell_type": "markdown",
      "source": [
        "**Comment**:  When *only* the marginal distribution of a response is being considered, then all the variation in the response is said to be unexplained.\n"
      ],
      "metadata": {
        "id": "n-yT08JwOKdt"
      }
    },
    {
      "cell_type": "markdown",
      "source": [
        "## Measuring the Unexplained Variation"
      ],
      "metadata": {
        "id": "jb1RRM3xPDen"
      }
    },
    {
      "cell_type": "markdown",
      "source": [
        "Recall, the *unexplained* variation is the inherent variation that exists in hair lengths.  Up to this point, we have only considered the marginal distribution of hair length (i.e. we have ignored other variables such as gender, hair style, etc.), thus all the variation in hair length is said to be unexplained. "
      ],
      "metadata": {
        "id": "SRBRV-CbPGPN"
      }
    },
    {
      "cell_type": "markdown",
      "source": [
        "<p align='center'><img src=\"https://drive.google.com/uc?export=view&id=1AT1rY6PXjviRT_Fh0snHOiwo5K7NIKQw\"></img></p>"
      ],
      "metadata": {
        "id": "F0gdyUaqQqdl"
      }
    },
    {
      "cell_type": "markdown",
      "source": [
        "The variance of the response is used to quantify the amount of unexplained variation.  "
      ],
      "metadata": {
        "id": "Q8ukuzf8RDpK"
      }
    },
    {
      "cell_type": "markdown",
      "source": [
        "$$Variance = \\frac{\\sum{(Residual)^2}}{n-1}$$\n",
        "\n",
        "where\n",
        "\n",
        "$$Residual = (Data \\space Point - Mean)$$"
      ],
      "metadata": {
        "id": "JK9F_sTvRKh5"
      }
    },
    {
      "cell_type": "markdown",
      "source": [
        "<table width='100%'><tr><td bgcolor=\"purple\"><font color=\"white\" size=\"+2\">Task</font></td></tr></table>"
      ],
      "metadata": {
        "id": "mcRoNlDxRv2P"
      }
    },
    {
      "cell_type": "markdown",
      "source": [
        "## Task:  Questions"
      ],
      "metadata": {
        "id": "BRnls6H4Rw0m"
      }
    },
    {
      "cell_type": "markdown",
      "source": [
        "\n",
        "\n",
        "1.   What does it mean if the residual value is positive?  Negative?\n",
        "\n",
        "2.   What does it mean if the residual is small (i.e. close to zero)?\n",
        "\n",
        "3.   Suppose the residual value for the particular data point is positive.  Is the mean an *over-estimate* or an *under-estimate* for this particular data value?  Explain.\n",
        "\n"
      ],
      "metadata": {
        "id": "wDu_-y5zRxEW"
      }
    },
    {
      "cell_type": "markdown",
      "source": [
        "<table width='100%'><tr><td bgcolor=\"purple\"><font size=\"+2\">&nbsp;</font></td></tr></table>"
      ],
      "metadata": {
        "id": "P1X6PhcYRxRG"
      }
    },
    {
      "cell_type": "markdown",
      "source": [
        "The residual value for the $1^{st}$ observation in the Hair Length dataset.  "
      ],
      "metadata": {
        "id": "G8G9CWB5SUOw"
      }
    },
    {
      "cell_type": "code",
      "source": [
        "# Getting the 1st residual value\n",
        "( HairLength\n",
        "  %>% mutate(`Mean Length` = mean(Length))\n",
        "  %>% mutate('Residual' = (Length - `Mean Length`) )\n",
        "  %>% select(RowID, Length, `Mean Length`, Residual)\n",
        "  %>% filter(RowID == 1)\n",
        ")"
      ],
      "metadata": {
        "colab": {
          "base_uri": "https://localhost:8080/",
          "height": 129
        },
        "id": "-Z-6yfw2SayH",
        "outputId": "eaa39029-4000-4107-ef17-745ea5942545"
      },
      "execution_count": null,
      "outputs": [
        {
          "output_type": "display_data",
          "data": {
            "text/html": [
              "<table class=\"dataframe\">\n",
              "<caption>A data.frame: 1 × 4</caption>\n",
              "<thead>\n",
              "\t<tr><th scope=col>RowID</th><th scope=col>Length</th><th scope=col>Mean Length</th><th scope=col>Residual</th></tr>\n",
              "\t<tr><th scope=col>&lt;int&gt;</th><th scope=col>&lt;int&gt;</th><th scope=col>&lt;dbl&gt;</th><th scope=col>&lt;dbl&gt;</th></tr>\n",
              "</thead>\n",
              "<tbody>\n",
              "\t<tr><td>1</td><td>359</td><td>237.2595</td><td>121.7405</td></tr>\n",
              "</tbody>\n",
              "</table>\n"
            ],
            "text/markdown": "\nA data.frame: 1 × 4\n\n| RowID &lt;int&gt; | Length &lt;int&gt; | Mean Length &lt;dbl&gt; | Residual &lt;dbl&gt; |\n|---|---|---|---|\n| 1 | 359 | 237.2595 | 121.7405 |\n\n",
            "text/latex": "A data.frame: 1 × 4\n\\begin{tabular}{llll}\n RowID & Length & Mean Length & Residual\\\\\n <int> & <int> & <dbl> & <dbl>\\\\\n\\hline\n\t 1 & 359 & 237.2595 & 121.7405\\\\\n\\end{tabular}\n",
            "text/plain": [
              "  RowID Length Mean Length Residual\n",
              "1 1     359    237.2595    121.7405"
            ]
          },
          "metadata": {}
        }
      ]
    },
    {
      "cell_type": "markdown",
      "source": [
        "<p align='center'><img src=\"https://drive.google.com/uc?export=view&id=1AeyPdEVBcKsj70K8YGe8UPhGBZMfjfKN\" width=\"50%\" height=\"50%\"></img></p>"
      ],
      "metadata": {
        "id": "BOpv9if4YE0Z"
      }
    },
    {
      "cell_type": "markdown",
      "source": [
        "Next, consider the residual values for the 1st three observataions."
      ],
      "metadata": {
        "id": "S8uRsY6Cd19I"
      }
    },
    {
      "cell_type": "code",
      "source": [
        "# Getting residual value for 1st three observations\n",
        "( HairLength\n",
        "  %>% mutate(`Mean Length` = mean(Length))\n",
        "  %>% mutate('Residual' = (Length - `Mean Length`) )\n",
        "  %>% select(RowID, Length, `Mean Length`, Residual)\n",
        "  %>% filter(RowID < 4)\n",
        ") -> HairLength_Subset\n",
        "\n",
        "HairLength_Subset$Color <- c(\"RED\",\"GREEN\",\"BLUE\")\n",
        "\n",
        "HairLength_Subset"
      ],
      "metadata": {
        "colab": {
          "base_uri": "https://localhost:8080/",
          "height": 192
        },
        "id": "tY3JNLSWYeql",
        "outputId": "b149072c-8660-40ee-a087-bf683b182292"
      },
      "execution_count": null,
      "outputs": [
        {
          "output_type": "display_data",
          "data": {
            "text/html": [
              "<table class=\"dataframe\">\n",
              "<caption>A data.frame: 3 × 5</caption>\n",
              "<thead>\n",
              "\t<tr><th scope=col>RowID</th><th scope=col>Length</th><th scope=col>Mean Length</th><th scope=col>Residual</th><th scope=col>Color</th></tr>\n",
              "\t<tr><th scope=col>&lt;int&gt;</th><th scope=col>&lt;int&gt;</th><th scope=col>&lt;dbl&gt;</th><th scope=col>&lt;dbl&gt;</th><th scope=col>&lt;chr&gt;</th></tr>\n",
              "</thead>\n",
              "<tbody>\n",
              "\t<tr><td>1</td><td>359</td><td>237.3</td><td> 121.7</td><td>RED  </td></tr>\n",
              "\t<tr><td>2</td><td> 50</td><td>237.3</td><td>-187.3</td><td>GREEN</td></tr>\n",
              "\t<tr><td>3</td><td>295</td><td>237.3</td><td>  57.7</td><td>BLUE </td></tr>\n",
              "</tbody>\n",
              "</table>\n"
            ],
            "text/markdown": "\nA data.frame: 3 × 5\n\n| RowID &lt;int&gt; | Length &lt;int&gt; | Mean Length &lt;dbl&gt; | Residual &lt;dbl&gt; | Color &lt;chr&gt; |\n|---|---|---|---|---|\n| 1 | 359 | 237.3 |  121.7 | RED   |\n| 2 |  50 | 237.3 | -187.3 | GREEN |\n| 3 | 295 | 237.3 |   57.7 | BLUE  |\n\n",
            "text/latex": "A data.frame: 3 × 5\n\\begin{tabular}{lllll}\n RowID & Length & Mean Length & Residual & Color\\\\\n <int> & <int> & <dbl> & <dbl> & <chr>\\\\\n\\hline\n\t 1 & 359 & 237.3 &  121.7 & RED  \\\\\n\t 2 &  50 & 237.3 & -187.3 & GREEN\\\\\n\t 3 & 295 & 237.3 &   57.7 & BLUE \\\\\n\\end{tabular}\n",
            "text/plain": [
              "  RowID Length Mean Length Residual Color\n",
              "1 1     359    237.3        121.7   RED  \n",
              "2 2      50    237.3       -187.3   GREEN\n",
              "3 3     295    237.3         57.7   BLUE "
            ]
          },
          "metadata": {}
        }
      ]
    },
    {
      "cell_type": "markdown",
      "source": [
        "<p align='center'><img src=\"https://drive.google.com/uc?export=view&id=1RZLk1yt5C4KCdRCJPWq6M9_gyRyMDJaR\" width=\"25%\" height=\"25%\"></img></p>\n"
      ],
      "metadata": {
        "id": "tX9hCKSYc0zn"
      }
    },
    {
      "cell_type": "markdown",
      "source": [
        "All residual values are shown on the graphic below.  "
      ],
      "metadata": {
        "id": "2xuVlTnTevbD"
      }
    },
    {
      "cell_type": "markdown",
      "source": [
        "<p align='center'><img src=\"https://drive.google.com/uc?export=view&id=13KQHcp2tGUiiUIfVWZQ74nS69p66y2Ic\" width=\"25%\" height=\"25%\"></img></p>"
      ],
      "metadata": {
        "id": "ocJB4r4zfFBp"
      }
    },
    {
      "cell_type": "markdown",
      "source": [
        "### Putting the Residuals into a Spreadsheet"
      ],
      "metadata": {
        "id": "qPeHA1QQnHMG"
      }
    },
    {
      "cell_type": "markdown",
      "source": [
        "The following code snipit can be used to write a *.csv file.  The Residuals.csv file is placed into the /content/sample_data/ folder."
      ],
      "metadata": {
        "id": "KmtISKIEnPmu"
      }
    },
    {
      "cell_type": "code",
      "source": [
        "# Getting the residual values for all observations\n",
        "( HairLength\n",
        "  %>% mutate(`Mean Length` = mean(Length))\n",
        "  %>% mutate('Residual' = (Length - `Mean Length`) )\n",
        "  %>% select(RowID, Length, `Mean Length`, Residual)\n",
        ") -> Residuals\n",
        "\n",
        "#Save the Residuals data.frame into a *.csv file that can be downloaded\n",
        "write.csv(Residuals, '/content/sample_data/Residuals.csv', row.names=FALSE)\n",
        "list.files('/content/sample_data/')"
      ],
      "metadata": {
        "colab": {
          "base_uri": "https://localhost:8080/",
          "height": 34
        },
        "id": "hVKYhqTSe5ca",
        "outputId": "0c5a4d2e-4a96-46ba-f533-dde4a3bee7a5"
      },
      "execution_count": null,
      "outputs": [
        {
          "output_type": "display_data",
          "data": {
            "text/html": [
              "<style>\n",
              ".list-inline {list-style: none; margin:0; padding: 0}\n",
              ".list-inline>li {display: inline-block}\n",
              ".list-inline>li:not(:last-child)::after {content: \"\\00b7\"; padding: 0 .5ex}\n",
              "</style>\n",
              "<ol class=list-inline><li>'anscombe.json'</li><li>'california_housing_test.csv'</li><li>'california_housing_train.csv'</li><li>'mnist_test.csv'</li><li>'mnist_train_small.csv'</li><li>'README.md'</li><li>'Residuals.csv'</li></ol>\n"
            ],
            "text/markdown": "1. 'anscombe.json'\n2. 'california_housing_test.csv'\n3. 'california_housing_train.csv'\n4. 'mnist_test.csv'\n5. 'mnist_train_small.csv'\n6. 'README.md'\n7. 'Residuals.csv'\n\n\n",
            "text/latex": "\\begin{enumerate*}\n\\item 'anscombe.json'\n\\item 'california\\_housing\\_test.csv'\n\\item 'california\\_housing\\_train.csv'\n\\item 'mnist\\_test.csv'\n\\item 'mnist\\_train\\_small.csv'\n\\item 'README.md'\n\\item 'Residuals.csv'\n\\end{enumerate*}\n",
            "text/plain": [
              "[1] \"anscombe.json\"                \"california_housing_test.csv\" \n",
              "[3] \"california_housing_train.csv\" \"mnist_test.csv\"              \n",
              "[5] \"mnist_train_small.csv\"        \"README.md\"                   \n",
              "[7] \"Residuals.csv\"               "
            ]
          },
          "metadata": {}
        }
      ]
    },
    {
      "cell_type": "markdown",
      "source": [
        "The residual value from each observation can be viewed via the print() command."
      ],
      "metadata": {
        "id": "KX4NxHKCmMr3"
      }
    },
    {
      "cell_type": "code",
      "source": [
        "print(Residuals)"
      ],
      "metadata": {
        "id": "Y0ux7hCFmM_r",
        "outputId": "d0b44cdb-9208-4a9c-8108-9f703f549e9e",
        "colab": {
          "base_uri": "https://localhost:8080/"
        }
      },
      "execution_count": null,
      "outputs": [
        {
          "output_type": "stream",
          "name": "stdout",
          "text": [
            "    RowID Length Mean Length    Residual\n",
            "1       1    359    237.2595  121.740458\n",
            "2       2     50    237.2595 -187.259542\n",
            "3       3    295    237.2595   57.740458\n",
            "4       4    320    237.2595   82.740458\n",
            "5       5    470    237.2595  232.740458\n",
            "6       6    180    237.2595  -57.259542\n",
            "7       7     36    237.2595 -201.259542\n",
            "8       8    248    237.2595   10.740458\n",
            "9       9     70    237.2595 -167.259542\n",
            "10     10    180    237.2595  -57.259542\n",
            "11     11    270    237.2595   32.740458\n",
            "12     12     48    237.2595 -189.259542\n",
            "13     13     64    237.2595 -173.259542\n",
            "14     14    260    237.2595   22.740458\n",
            "15     15    400    237.2595  162.740458\n",
            "16     16    165    237.2595  -72.259542\n",
            "17     17    285    237.2595   47.740458\n",
            "18     18    160    237.2595  -77.259542\n",
            "19     19     33    237.2595 -204.259542\n",
            "20     20     18    237.2595 -219.259542\n",
            "21     21    385    237.2595  147.740458\n",
            "22     22    535    237.2595  297.740458\n",
            "23     23     19    237.2595 -218.259542\n",
            "24     24    389    237.2595  151.740458\n",
            "25     25    350    237.2595  112.740458\n",
            "26     26    578    237.2595  340.740458\n",
            "27     27    180    237.2595  -57.259542\n",
            "28     28    370    237.2595  132.740458\n",
            "29     29     30    237.2595 -207.259542\n",
            "30     30    173    237.2595  -64.259542\n",
            "31     31     77    237.2595 -160.259542\n",
            "32     32    420    237.2595  182.740458\n",
            "33     33    390    237.2595  152.740458\n",
            "34     34     45    237.2595 -192.259542\n",
            "35     35    390    237.2595  152.740458\n",
            "36     36    360    237.2595  122.740458\n",
            "37     37    530    237.2595  292.740458\n",
            "38     38    155    237.2595  -82.259542\n",
            "39     39     15    237.2595 -222.259542\n",
            "40     40    490    237.2595  252.740458\n",
            "41     41    265    237.2595   27.740458\n",
            "42     42     77    237.2595 -160.259542\n",
            "43     43    500    237.2595  262.740458\n",
            "44     44     29    237.2595 -208.259542\n",
            "45     45     30    237.2595 -207.259542\n",
            "46     46     39    237.2595 -198.259542\n",
            "47     47    200    237.2595  -37.259542\n",
            "48     48    455    237.2595  217.740458\n",
            "49     49    165    237.2595  -72.259542\n",
            "50     50    270    237.2595   32.740458\n",
            "51     51    290    237.2595   52.740458\n",
            "52     52     20    237.2595 -217.259542\n",
            "53     53    409    237.2595  171.740458\n",
            "54     54    402    237.2595  164.740458\n",
            "55     55    407    237.2595  169.740458\n",
            "56     56    220    237.2595  -17.259542\n",
            "57     57    209    237.2595  -28.259542\n",
            "58     58    383    237.2595  145.740458\n",
            "59     59    270    237.2595   32.740458\n",
            "60     60     25    237.2595 -212.259542\n",
            "61     61     41    237.2595 -196.259542\n",
            "62     62     60    237.2595 -177.259542\n",
            "63     63    370    237.2595  132.740458\n",
            "64     64    380    237.2595  142.740458\n",
            "65     65     25    237.2595 -212.259542\n",
            "66     66    354    237.2595  116.740458\n",
            "67     67    133    237.2595 -104.259542\n",
            "68     68    395    237.2595  157.740458\n",
            "69     69    290    237.2595   52.740458\n",
            "70     70    370    237.2595  132.740458\n",
            "71     71    360    237.2595  122.740458\n",
            "72     72    440    237.2595  202.740458\n",
            "73     73    109    237.2595 -128.259542\n",
            "74     74     37    237.2595 -200.259542\n",
            "75     75    320    237.2595   82.740458\n",
            "76     76    240    237.2595    2.740458\n",
            "77     77    400    237.2595  162.740458\n",
            "78     78     48    237.2595 -189.259542\n",
            "79     79    455    237.2595  217.740458\n",
            "80     80     40    237.2595 -197.259542\n",
            "81     81    550    237.2595  312.740458\n",
            "82     82    340    237.2595  102.740458\n",
            "83     83    360    237.2595  122.740458\n",
            "84     84    560    237.2595  322.740458\n",
            "85     85     71    237.2595 -166.259542\n",
            "86     86     60    237.2595 -177.259542\n",
            "87     87     65    237.2595 -172.259542\n",
            "88     88    243    237.2595    5.740458\n",
            "89     89     12    237.2595 -225.259542\n",
            "90     90     64    237.2595 -173.259542\n",
            "91     91     64    237.2595 -173.259542\n",
            "92     92    345    237.2595  107.740458\n",
            "93     93    105    237.2595 -132.259542\n",
            "94     94    480    237.2595  242.740458\n",
            "95     95    120    237.2595 -117.259542\n",
            "96     96    240    237.2595    2.740458\n",
            "97     97    456    237.2595  218.740458\n",
            "98     98    345    237.2595  107.740458\n",
            "99     99    480    237.2595  242.740458\n",
            "100   100    384    237.2595  146.740458\n",
            "101   101     40    237.2595 -197.259542\n",
            "102   102     31    237.2595 -206.259542\n",
            "103   103     35    237.2595 -202.259542\n",
            "104   104    295    237.2595   57.740458\n",
            "105   105    540    237.2595  302.740458\n",
            "106   106    335    237.2595   97.740458\n",
            "107   107    360    237.2595  122.740458\n",
            "108   108     21    237.2595 -216.259542\n",
            "109   109    550    237.2595  312.740458\n",
            "110   110     90    237.2595 -147.259542\n",
            "111   111     25    237.2595 -212.259542\n",
            "112   112    150    237.2595  -87.259542\n",
            "113   113     41    237.2595 -196.259542\n",
            "114   114     28    237.2595 -209.259542\n",
            "115   115     16    237.2595 -221.259542\n",
            "116   116     50    237.2595 -187.259542\n",
            "117   117     34    237.2595 -203.259542\n",
            "118   118    345    237.2595  107.740458\n",
            "119   119    358    237.2595  120.740458\n",
            "120   120     52    237.2595 -185.259542\n",
            "121   121    380    237.2595  142.740458\n",
            "122   122    470    237.2595  232.740458\n",
            "123   123     46    237.2595 -191.259542\n",
            "124   124     70    237.2595 -167.259542\n",
            "125   125    330    237.2595   92.740458\n",
            "126   126    575    237.2595  337.740458\n",
            "127   127     82    237.2595 -155.259542\n",
            "128   128    300    237.2595   62.740458\n",
            "129   129     80    237.2595 -157.259542\n",
            "130   130    384    237.2595  146.740458\n",
            "131   131    300    237.2595   62.740458\n"
          ]
        }
      ]
    },
    {
      "cell_type": "markdown",
      "source": [
        "Here, the IRdisplay() package will be used to display the Residual data.frame in a Google Speadsheet."
      ],
      "metadata": {
        "id": "EQLVV8_HjpXF"
      }
    },
    {
      "cell_type": "code",
      "source": [
        "# download the IRdisplay() package\n",
        "install.packages(\"IRdisplay\")"
      ],
      "metadata": {
        "colab": {
          "base_uri": "https://localhost:8080/"
        },
        "id": "8gtsDhKGjpiU",
        "outputId": "a903c860-2c92-4e73-b43c-e6dcd343e0be"
      },
      "execution_count": null,
      "outputs": [
        {
          "output_type": "stream",
          "name": "stderr",
          "text": [
            "Installing package into ‘/usr/local/lib/R/site-library’\n",
            "(as ‘lib’ is unspecified)\n",
            "\n"
          ]
        }
      ]
    },
    {
      "cell_type": "code",
      "source": [
        "# load the IRdisplay package into the current COLAB session\n",
        "library(IRdisplay)"
      ],
      "metadata": {
        "id": "IF57Tx40nygw"
      },
      "execution_count": null,
      "outputs": []
    },
    {
      "cell_type": "code",
      "source": [
        "#@title Display Residual data.frame as spreadsheet\n",
        "display_html(\"<iframe width='650px' height='400px' src='https://docs.google.com/spreadsheets/d/e/2PACX-1vS7hhTOvLOLVvs5NnpEBU9_3QkKr16l_i26p5hUN5EGl1bDPb5lW-C2m7KzOnB1nufqB9uHAmwUPi04/pubhtml?gid=667044368&amp;single=true&amp;widget=true&amp;headers=false'>\n",
        "</iframe>\")"
      ],
      "metadata": {
        "colab": {
          "base_uri": "https://localhost:8080/",
          "height": 425
        },
        "id": "fs30UYOakCaS",
        "outputId": "3ffb435d-b105-482b-aa5c-2760e36c2425"
      },
      "execution_count": null,
      "outputs": [
        {
          "output_type": "display_data",
          "data": {
            "text/html": [
              "<iframe width='650px' height='400px' src='https://docs.google.com/spreadsheets/d/e/2PACX-1vS7hhTOvLOLVvs5NnpEBU9_3QkKr16l_i26p5hUN5EGl1bDPb5lW-C2m7KzOnB1nufqB9uHAmwUPi04/pubhtml?gid=667044368&amp;single=true&amp;widget=true&amp;headers=false'>\n",
              "</iframe>"
            ]
          },
          "metadata": {}
        }
      ]
    },
    {
      "cell_type": "markdown",
      "source": [
        "Source: https://docs.google.com/spreadsheets/d/10PqgI-qWAzLwuljNepBUBTelgDRs2AkpcjUc1Sks0aE/copy?usp=sharing"
      ],
      "metadata": {
        "id": "CVqYMqYrmi-4"
      }
    },
    {
      "cell_type": "markdown",
      "source": [
        "## Dealing with the Cancelling out Effect"
      ],
      "metadata": {
        "id": "5L0RPH9Tqmif"
      }
    },
    {
      "cell_type": "markdown",
      "source": [
        "Notice, that when all the residual values are added up the total is 0.  This happens whenever the average is used to estimate the mean function.  Visually, we can see this happens because all the positive residuals cancel out all the negative residuals. \n"
      ],
      "metadata": {
        "id": "a8_FpwH_itoX"
      }
    },
    {
      "cell_type": "markdown",
      "source": [
        "**Task**: Show that $\\sum Residuals = 0$."
      ],
      "metadata": {
        "id": "r9RtPLaHpSRB"
      }
    },
    {
      "cell_type": "markdown",
      "source": [
        "$$\\begin{array}{rcl}\n",
        " \\sum Residuals & = & \\sum(Data \\space Point - Mean) \\\\\n",
        " & = & \\sum Data \\space Point - \\sum Mean \\\\\n",
        " & = & \\sum Data \\space Point - n * Mean \\\\\n",
        " & = & \\sum Data \\space Point - n * \\frac{\\sum Data \\space Point}{n} \\\\ \n",
        " & = & \\sum Data \\space Point - \\sum Data \\space Point \\\\ \n",
        " & = & 0\n",
        "\\end{array}\n",
        "$$"
      ],
      "metadata": {
        "id": "IYh0A24Fpa7_"
      }
    },
    {
      "cell_type": "markdown",
      "source": [
        "There are two **mathematical** ways to avoid the cancelling out effect when summing the residuals.\n"
      ],
      "metadata": {
        "id": "hm0UUV3kqwX2"
      }
    },
    {
      "cell_type": "markdown",
      "source": [
        "\n",
        "\n",
        "*   **Total (Squared) Variation** = $\\sum{(Residual)^2}$\n",
        "*   **Total (Absolute) Variation** = $\\sum{|Residual|}$\n",
        "\n"
      ],
      "metadata": {
        "id": "Y6cHKc9Nq6vH"
      }
    },
    {
      "cell_type": "markdown",
      "source": [
        "## Computing Total Variation in the Marginal Distribution"
      ],
      "metadata": {
        "id": "EAiS1g-9w_zb"
      }
    },
    {
      "cell_type": "markdown",
      "source": [
        "The first method -- squaring the residuals -- is more generally known as squared error loss or L2 loss. The absolute or L1 loss function is the name given when an absolute value is used to get rid of the negatives. \n"
      ],
      "metadata": {
        "id": "xyh9BpjdrbUH"
      }
    },
    {
      "cell_type": "markdown",
      "source": [
        "Consider the following Wiki entry for \"Loss Function\"."
      ],
      "metadata": {
        "id": "uaiMYPtNriF9"
      }
    },
    {
      "cell_type": "markdown",
      "source": [
        "<table>\n",
        "<tr>\n",
        "  <td align=\"center\" valign=\"top\">\n",
        "<img src=\"https://drive.google.com/uc?export=view&id=1hZmktO2M3kPNeJWY-90P19vbBef87FVK\" width='75%' height='75%'></img><br>\n",
        "Source:  <a href=\"https://en.wikipedia.org/wiki/Loss_function\">https://en.wikipedia.org/wiki/Loss_function</a>\n",
        "</td>\n",
        "</tr>\n",
        "</table>\n"
      ],
      "metadata": {
        "id": "F6ohFZ70skNu"
      }
    },
    {
      "cell_type": "markdown",
      "source": [
        "**Comments**:\n",
        "\n",
        "1.   Whenever an L2 loss function is used, the *mean* is the qauntity that will minimize the residuals across all observations.\n",
        "\n",
        "2.   If an L1 loss function is being used, then the *median* is the quantity that will minimize the residuals across all observations."
      ],
      "metadata": {
        "id": "lSALInnNs7cP"
      }
    },
    {
      "cell_type": "code",
      "source": [
        "#@title Display Sum of |Residual|\n",
        "display_html(\"<iframe width='800px' height='400px' src='https://docs.google.com/spreadsheets/d/e/2PACX-1vS7hhTOvLOLVvs5NnpEBU9_3QkKr16l_i26p5hUN5EGl1bDPb5lW-C2m7KzOnB1nufqB9uHAmwUPi04/pubhtml?gid=1495890913&amp;single=true&amp;widget=true&amp;headers=false'>\n",
        "</iframe>\")"
      ],
      "metadata": {
        "colab": {
          "base_uri": "https://localhost:8080/",
          "height": 425
        },
        "id": "y3xucKUhtjpb",
        "outputId": "d2e14e2f-e37b-44b3-8bec-1dc50452e3aa"
      },
      "execution_count": null,
      "outputs": [
        {
          "output_type": "display_data",
          "data": {
            "text/html": [
              "<iframe width='800px' height='400px' src='https://docs.google.com/spreadsheets/d/e/2PACX-1vS7hhTOvLOLVvs5NnpEBU9_3QkKr16l_i26p5hUN5EGl1bDPb5lW-C2m7KzOnB1nufqB9uHAmwUPi04/pubhtml?gid=1495890913&amp;single=true&amp;widget=true&amp;headers=false'>\n",
              "</iframe>"
            ]
          },
          "metadata": {}
        }
      ]
    },
    {
      "cell_type": "markdown",
      "source": [
        "Total variation when using absolute loss function.\n",
        "\n",
        "$$\\begin{array}{rcl}\n",
        "\\mbox{Total Variation with L1 Loss} & = & \\sum{|Residual|} \\\\\n",
        "& = & 20106.2 \\\\\n",
        "\\end{array}\n",
        "$$"
      ],
      "metadata": {
        "id": "BWOQRS4NvveC"
      }
    },
    {
      "cell_type": "code",
      "source": [
        "#@title Display Sum of Residual^2\n",
        "display_html(\"<iframe width='800px' height='400px' src='https://docs.google.com/spreadsheets/d/e/2PACX-1vS7hhTOvLOLVvs5NnpEBU9_3QkKr16l_i26p5hUN5EGl1bDPb5lW-C2m7KzOnB1nufqB9uHAmwUPi04/pubhtml?gid=934511772&amp;single=true&amp;widget=true&amp;headers=false'>\n",
        "</iframe>\")"
      ],
      "metadata": {
        "colab": {
          "base_uri": "https://localhost:8080/",
          "height": 425
        },
        "cellView": "form",
        "id": "yLXMaePEvXHM",
        "outputId": "eb46f0d7-8432-40c3-c04b-a2b5b247d074"
      },
      "execution_count": null,
      "outputs": [
        {
          "output_type": "display_data",
          "data": {
            "text/html": [
              "<iframe width='800px' height='400px' src='https://docs.google.com/spreadsheets/d/e/2PACX-1vS7hhTOvLOLVvs5NnpEBU9_3QkKr16l_i26p5hUN5EGl1bDPb5lW-C2m7KzOnB1nufqB9uHAmwUPi04/pubhtml?gid=934511772&amp;single=true&amp;widget=true&amp;headers=false'>\n",
              "</iframe>"
            ]
          },
          "metadata": {}
        }
      ]
    },
    {
      "cell_type": "markdown",
      "source": [
        "Total variation when using squared loss function.\n",
        "\n",
        "$$\\begin{array}{rcl}\n",
        "\\mbox{Total Variation with L2 Loss} & = & \\sum{(Residual)^2} \\\\\n",
        "& = & 3836975.2 \\\\\n",
        "\\end{array}\n",
        "$$"
      ],
      "metadata": {
        "id": "j4A56Kq2YGZQ"
      }
    },
    {
      "cell_type": "markdown",
      "source": [
        "**Comments**: \n",
        "\n",
        "1.  The total amount of variation (when using L2 Loss) is SAME as the numerator of the variance.\n",
        "\n",
        "$$\\begin{array}{rcl}\n",
        "\\mbox{Total Variation} & = & \\sum{(Residual)^2} \\\\\n",
        " & = & \\sum{(Data \\space Point - Mean)^2} \\\\\n",
        " & = & \\frac{(n-1)}{(n-1)}\\sum{(Data \\space Point - Mean)^2} \\\\\n",
        " & = & (n-1) * \\frac{\\sum{(Data \\space Point - Mean)^2}}{(n-1)} \\\\\n",
        "  & = & (n-1) * \\left( \\frac{\\sum{(Data \\space Point - Mean)^2}}{(n-1)} \\right) \\\\\n",
        " & = & (n-1) * Variance\n",
        "\\end{array}\n",
        "$$\n",
        "\n",
        "2.  The total variation is sometimes referred to as the total sum of squared error in the marginal distribution."
      ],
      "metadata": {
        "id": "YWE60MKwxKrD"
      }
    },
    {
      "cell_type": "code",
      "source": [
        "#Getting sum of squared error in marginal distribution\n",
        "(HairLength \n",
        "  %>% summarize(\n",
        "                  Mean = mean(Length),\n",
        "                  Variance = var(Length),\n",
        "                  Count = n(),\n",
        "                  SSE_MarginalDistribution = (Count-1)*Variance\n",
        "               )\n",
        ")"
      ],
      "metadata": {
        "colab": {
          "base_uri": "https://localhost:8080/",
          "height": 129
        },
        "id": "r9syznkczrdG",
        "outputId": "98d1dd1b-ebbd-4d0f-dd7c-98a54274bd1f"
      },
      "execution_count": null,
      "outputs": [
        {
          "output_type": "display_data",
          "data": {
            "text/html": [
              "<table class=\"dataframe\">\n",
              "<caption>A data.frame: 1 × 4</caption>\n",
              "<thead>\n",
              "\t<tr><th scope=col>Mean</th><th scope=col>Variance</th><th scope=col>Count</th><th scope=col>SSE_MarginalDistribution</th></tr>\n",
              "\t<tr><th scope=col>&lt;dbl&gt;</th><th scope=col>&lt;dbl&gt;</th><th scope=col>&lt;int&gt;</th><th scope=col>&lt;dbl&gt;</th></tr>\n",
              "</thead>\n",
              "<tbody>\n",
              "\t<tr><td>237.2595</td><td>29515.19</td><td>131</td><td>3836975</td></tr>\n",
              "</tbody>\n",
              "</table>\n"
            ],
            "text/markdown": "\nA data.frame: 1 × 4\n\n| Mean &lt;dbl&gt; | Variance &lt;dbl&gt; | Count &lt;int&gt; | SSE_MarginalDistribution &lt;dbl&gt; |\n|---|---|---|---|\n| 237.2595 | 29515.19 | 131 | 3836975 |\n\n",
            "text/latex": "A data.frame: 1 × 4\n\\begin{tabular}{llll}\n Mean & Variance & Count & SSE\\_MarginalDistribution\\\\\n <dbl> & <dbl> & <int> & <dbl>\\\\\n\\hline\n\t 237.2595 & 29515.19 & 131 & 3836975\\\\\n\\end{tabular}\n",
            "text/plain": [
              "  Mean     Variance Count SSE_MarginalDistribution\n",
              "1 237.2595 29515.19 131   3836975                 "
            ]
          },
          "metadata": {}
        }
      ]
    },
    {
      "cell_type": "markdown",
      "source": [
        "\n",
        "\n",
        "---\n",
        "\n",
        "\n",
        "\n",
        "---\n"
      ],
      "metadata": {
        "id": "NIy7TNbD0cbl"
      }
    },
    {
      "cell_type": "code",
      "source": [
        "#@title Custom Function for Plotting Residuals in Marginal/Conditional Distributions\n",
        "# See bottom of cell for use cases\n",
        "RSS <- function(myformula=y~x, mydata=data, PlotMeans=TRUE,PlotResids=TRUE, cutpoints=c(NA)){\n",
        "  \n",
        "  formula_vec <- all.vars(myformula)\n",
        "  ydata<-mydata[ , which(colnames(mydata)==formula_vec[1])]\n",
        "  x<-mydata[ , which(colnames(mydata)==formula_vec[2])]\n",
        " \n",
        "  if(is.factor(x)==TRUE){\n",
        "    numlevels <- length(levels(x))\n",
        " \n",
        "    xdata<-as.numeric(x)\n",
        "    xjitter <- xdata + runif(length(xdata),min=-0.20,max=0.20)\n",
        "  \n",
        "    #Setting up parameters for axis limits\n",
        "    xmin <- c(-1)\n",
        "    xmax <- c(numlevels+1)\n",
        "    ymin <- min(ydata)-(0.10*(max(ydata)-min(ydata)))\n",
        "    ymax <- max(ydata)+(0.05*(max(ydata)-min(ydata)))\n",
        "  \n",
        "    plot(xjitter, ydata ,xlim=c(xmin,xmax),ylim=c(ymin,ymax),axes=F,xlab=formula_vec[2], ylab=formula_vec[1],type=\"n\")\n",
        "    points(xjitter, ydata)\n",
        "    axis(1,at=c(-1,seq(from=1,to=max(xdata),by=1),xmax),labels=c(\"\",levels(x),\"\"))\n",
        "\n",
        "    axis(2)\n",
        "    xjitter_marginal <- -0.50+runif(length(ydata),min=-0.20,max=0.20)\n",
        "    points(xjitter_marginal, ydata)\n",
        "    abline(v=0,lwd=2)\n",
        "  \n",
        "    # Plotting of marginal distribution #####################\n",
        "    #\n",
        "    #Obtain grand mean\n",
        "    grand.mean=mean(ydata)\n",
        "  \n",
        "    if(PlotMeans == \"TRUE\"){\n",
        "      segments(-0.65,grand.mean,-0.35,grand.mean,lwd=2)\n",
        "    }\n",
        "    resid2 <- 0\n",
        "    if(PlotResids == \"TRUE\"){\n",
        "      for(i in 1:length(ydata)){\n",
        "        segments(xjitter_marginal[i],ydata[i],xjitter_marginal[i],grand.mean,lwd=1)\n",
        "        resid2 <- resid2 + (ydata[i]-grand.mean)^2\n",
        "      }\n",
        "      text(-0.50, ymin+(0.02*(max(ydata)-min(ydata))),paste(\"SSE:\",format(resid2,digits=3)),cex=0.75)\n",
        "    }\n",
        "    #######################################################\n",
        "  \n",
        "  \n",
        "    # Plotting the conditional distriubitons ##############\n",
        "    #\n",
        "  \n",
        "    #Obtain mean for each group\n",
        "    group.means<-c()\n",
        "    for(i in 1:numlevels){\n",
        "      group.means[i] <- mean(ydata[x == levels(x)[i]])\n",
        "    }\n",
        "  \n",
        "    if(PlotMeans == \"TRUE\"){\n",
        "      for(i in 1:numlevels){\n",
        "        segments(i-0.25,group.means[i],i+0.25,group.means[i],lwd=2)\n",
        "      }\n",
        "    }\n",
        "  \n",
        "    resid2 <- rep(0,length(levels(x)))\n",
        "    if(PlotResids == \"TRUE\"){\n",
        "      for(i in 1:length(ydata)){\n",
        "        segments(xjitter[i],ydata[i],xjitter[i],group.means[xdata[i]])\n",
        "        resid2[xdata[i]] <- resid2[xdata[i]] + (ydata[i] - group.means[xdata[i]])^2\n",
        "      }\n",
        "      for(i in 1:numlevels){\n",
        "        text(i, ymin+(0.02*(max(ydata)-min(ydata))),paste(\"SSE:\",format(resid2[i],digits=3)),cex=0.75)\n",
        "      }\n",
        "    }\n",
        "  ###################################################### \n",
        "  }\n",
        "  \n",
        "  \n",
        "  if(is.factor(x)==FALSE){\n",
        "    \n",
        "    xdata<-x\n",
        "    rangex <- max(x) - min(x)\n",
        "    \n",
        "    if(max(table(x))/length(x) > 0.10){\n",
        "      xdata <- x + runif(length(xdata),min=-0.01*rangex,max=0.01*rangex)\n",
        "      \n",
        "    }\n",
        "    \n",
        "    xmin<-min(x)-0.25*rangex\n",
        "    xmax<-max(x)+0.05*rangex\n",
        "    ymin <- min(ydata)-(0.10*(max(ydata)-min(ydata)))\n",
        "    ymax <- max(ydata)+(0.05*(max(ydata)-min(ydata)))\n",
        "    \n",
        "    plot(xdata, ydata ,xlim=c(xmin,xmax),ylim=c(ymin,ymax),axes=F,xlab=formula_vec[2], ylab=formula_vec[1],type=\"n\")\n",
        "    points(xdata, ydata)\n",
        "    axis(1) \n",
        "    #Hide axis below xmin, ymin\n",
        "    #rect(xmin,ymin-(0.20*(max(ydata)-min(ydata))),(min(x)-(0.05*rangex)),ymin, col=\"white\",border=2)\n",
        "    axis(2)\n",
        "    xjitter_marginal <- (min(x)-0.15*rangex)+runif(length(xdata),min=-0.05*rangex,max=0.05*rangex)\n",
        "    points(xjitter_marginal, ydata)\n",
        "    abline(v=(min(x)-(0.05*rangex)),lwd=2)\n",
        "  \n",
        "    # Plotting of marginal distribution #####################\n",
        "    #\n",
        "    #Obtain grand mean\n",
        "    grand.mean=mean(ydata)\n",
        "    \n",
        "    if(PlotMeans == \"TRUE\"){\n",
        "      segments((min(x)-0.20*rangex),grand.mean,(min(x)-0.10*rangex),grand.mean,lwd=2)\n",
        "    }\n",
        "    resid2 <- 0\n",
        "    if(PlotResids == \"TRUE\"){\n",
        "      for(i in 1:length(ydata)){\n",
        "        segments(xjitter_marginal[i],ydata[i],xjitter_marginal[i],grand.mean,lwd=1)\n",
        "        resid2 <- resid2 + (ydata[i]-grand.mean)^2\n",
        "      }\n",
        "      text((min(x)-0.15*rangex), ymin+(0.02*(max(ydata)-min(ydata))),paste(\"SSE:\",format(resid2,digits=3)),cex=0.75)\n",
        "    }\n",
        "    ########################################################\n",
        "    \n",
        "    \n",
        "    # Cutpoints provided, so build conditional distributions ##############\n",
        "    #\n",
        "    if(sum(is.na(cutpoints)) == 0){\n",
        "    \n",
        "      #Ensure incoming cutpoints are sorted\n",
        "      cutpoints <- sort(cutpoints)\n",
        "      abline(v=cutpoints,lty=2)\n",
        "      \n",
        "      group.means<-c()\n",
        "      for(i in 1:(1+length(cutpoints))){\n",
        "        if(i==1){\n",
        "          group.means[i]<-mean(ydata[xdata <= cutpoints[i]])\n",
        "        } else if(i == (1+length(cutpoints))){\n",
        "          group.means[i]<-mean(ydata[xdata > cutpoints[i-1]])\n",
        "        } else {\n",
        "          group.means[i]<- mean(ydata[xdata <= cutpoints[i] & xdata > cutpoints[i-1]])\n",
        "        }\n",
        "      }\n",
        "     \n",
        "    \n",
        "      if(PlotMeans == \"TRUE\"){\n",
        "        for(i in 1:(1+length(cutpoints))){\n",
        "          if(i==1){\n",
        "            segments(min(xdata),group.means[i],cutpoints[1],group.means[i],lwd=2)\n",
        "          } else if(i == (1+length(cutpoints))){\n",
        "            segments(cutpoints[i-1],group.means[i],max(xdata),group.means[i],lwd=2)\n",
        "          } else {\n",
        "            segments(cutpoints[i-1],group.means[i],cutpoints[i],group.means[i],lwd=2)\n",
        "          }\n",
        "        }\n",
        "      }\n",
        "      \n",
        "      \n",
        "      resid2 <- rep(0,(1+length(cutpoints)))\n",
        "      if(PlotResids == \"TRUE\"){\n",
        "        for(i in 1:length(ydata)){\n",
        "          if(xdata[i] <= cutpoints[1]){\n",
        "              segments(xdata[i],ydata[i],xdata[i],group.means[1])\n",
        "              resid2[1]<-resid2[1]+(ydata[i]-group.means[1])^2\n",
        "          } else if(xdata[i] > cutpoints[length(cutpoints)]){\n",
        "            segments(xdata[i],ydata[i],xdata[i],group.means[1+length(cutpoints)])\n",
        "            resid2[1+length(cutpoints)]<-resid2[1+length(cutpoints)]+(ydata[i]-group.means[1+length(cutpoints)])^2\n",
        "          } else {\n",
        "            \n",
        "            for(j in 2:length(cutpoints)){\n",
        "              if(xdata[i] > cutpoints[j-1] & xdata[i] <= cutpoints[j]){\n",
        "                segments(xdata[i],ydata[i],xdata[i],group.means[j])\n",
        "                resid2[j]<-resid2[j]+(ydata[i]-group.means[j])^2\n",
        "              }\n",
        "            }   \n",
        "            \n",
        "          }\n",
        "          \n",
        "        }\n",
        "        for(i in 1:(1+length(cutpoints))){\n",
        "          if(i == 1){\n",
        "              text(((min(xdata)+cutpoints[1])/2),ymin+(0.02*(max(ydata)-min(ydata))),paste(\"SSE:\",format(resid2[1],digits=3)),cex=0.75)\n",
        "          } else if(i == (1+length(cutpoints))){\n",
        "              text(((max(xdata)+cutpoints[length(cutpoints)])/2),ymin+(0.02*(max(ydata)-min(ydata))),paste(\"SSE:\",format(resid2[1+length(cutpoints)],digits=3)),cex=0.75)\n",
        "          } else {\n",
        "              text(((cutpoints[i-1]+cutpoints[i])/2),ymin+(0.02*(max(ydata)-min(ydata))),paste(\"SSE:\",format(resid2[j],digits=3)),cex=0.75)\n",
        "          }\n",
        "          \n",
        "        }\n",
        "      }\n",
        "    }\n",
        "    \n",
        "    if(sum(is.na(cutpoints)) > 0){\n",
        "    \n",
        "      fit<-lm(ydata~x)\n",
        "      if(PlotMeans == TRUE){\n",
        "        segments(min(x),(fit$coefficients[1]+fit$coefficients[2]*min(x)),max(x),(fit$coefficients[1]+fit$coefficients[2]*max(x)))\n",
        "      }\n",
        "      \n",
        "      if(PlotResids == TRUE){\n",
        "        for(i in 1:length(ydata)){\n",
        "          segments(xdata[i],ydata[i],xdata[i],(fit$coefficients[1]+fit$coefficients[2]*xdata[i]), lwd=2)\n",
        "        }\n",
        "          text(mean(x),ymin+(0.02*(max(ydata)-min(ydata))),paste(\"SSE:\",format(sum(fit$residuals^2),digits=3)),cex=0.75)\n",
        "      } \n",
        "    }\n",
        "    \n",
        "   \n",
        "  }\n",
        "\n",
        "}\n",
        "\n",
        "##################################################################################\n",
        "#Some example executions for Impact Crater dataset\n",
        "#RSS(Diameter~Height,mydata=impactcrater,PlotMeans=TRUE,PlotResids=TRUE,cutpoints=c(70))\n",
        "#RSS(Diameter~SandType,mydata=impactcrater,PlotMeans=TRUE,PlotResids=TRUE)\n",
        "#RSS(Diameter~ProjectileType,mydata=impactcrater,PlotMeans=TRUE,PlotResids=TRUE)\n",
        "#RSS(Diameter~Height,mydata=impactcrater,PlotMeans=TRUE,PlotResids=TRUE,cutpoints=c(70))\n",
        "#RSS(Diameter~Height,mydata=impactcrater,PlotMeans=TRUE,PlotResids=TRUE,cutpoints=c(130))\n",
        "#RSS(Diameter~Height,mydata=impactcrater,PlotMeans=TRUE,PlotResids=TRUE,cutpoints=c(70, 130))\n",
        "#RSS(Diameter~Height,mydata=impactcrater,PlotMeans=TRUE,PlotResids=TRUE)\n",
        "\n",
        "\n",
        "\n"
      ],
      "metadata": {
        "id": "q-iPzQwCUVS0",
        "cellView": "form"
      },
      "execution_count": null,
      "outputs": []
    },
    {
      "cell_type": "markdown",
      "source": [
        "Consider the following use of the custom RSS() function for plotting residuals."
      ],
      "metadata": {
        "id": "vtqdw-JB0xHs"
      }
    },
    {
      "cell_type": "code",
      "source": [
        "RSS(Length~Gender,mydata=HairLength, PlotMeans=TRUE, PlotResids=TRUE)"
      ],
      "metadata": {
        "colab": {
          "base_uri": "https://localhost:8080/",
          "height": 437
        },
        "id": "VeeZXJ-tUrby",
        "outputId": "0aab25ad-efbf-4496-8709-5d1df6ea181a"
      },
      "execution_count": null,
      "outputs": [
        {
          "output_type": "display_data",
          "data": {
            "text/plain": [
              "plot without title"
            ],
            "image/png": "[encoded data removed]"
          },
          "metadata": {
            "image/png": {
              "width": 420,
              "height": 420
            }
          }
        }
      ]
    },
    {
      "cell_type": "markdown",
      "source": [
        "\n",
        "\n",
        "---\n",
        "\n",
        "\n",
        "\n",
        "---\n",
        "End of Document\n"
      ],
      "metadata": {
        "id": "wQA1JKQ805FM"
      }
    }
  ]
}