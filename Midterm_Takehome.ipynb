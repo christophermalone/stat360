{
  "nbformat": 4,
  "nbformat_minor": 0,
  "metadata": {
    "colab": {
      "name": "Midterm_Takehome.ipynb",
      "provenance": [],
      "collapsed_sections": [],
      "authorship_tag": "ABX9TyNSDLTVTk+Ooj2dlruKtFyX",
      "include_colab_link": true
    },
    "kernelspec": {
      "display_name": "R",
      "name": "ir"
    }
  },
  "cells": [
    {
      "cell_type": "markdown",
      "metadata": {
        "id": "view-in-github",
        "colab_type": "text"
      },
      "source": [
        "<a href=\"https://colab.research.google.com/github/christophermalone/stat360/blob/main/Midterm_Takehome.ipynb\" target=\"_parent\"><img src=\"https://colab.research.google.com/assets/colab-badge.svg\" alt=\"Open In Colab\"/></a>"
      ]
    },
    {
      "cell_type": "markdown",
      "metadata": {
        "id": "KhClO9b02SXA"
      },
      "source": [
        "# STAT 360: Midterm Takhome Fall 2021"
      ]
    },
    {
      "cell_type": "markdown",
      "metadata": {
        "id": "FoT1NFX3DncH"
      },
      "source": [
        "## Load Tidyverse Package"
      ]
    },
    {
      "cell_type": "code",
      "metadata": {
        "id": "LgaibuX_DtWK"
      },
      "source": [
        "#load tidyverse package\n",
        "library(tidyverse)"
      ],
      "execution_count": null,
      "outputs": []
    },
    {
      "cell_type": "markdown",
      "metadata": {
        "id": "DPqIPen9D5T3"
      },
      "source": [
        "## Data: Fire Ants"
      ]
    },
    {
      "cell_type": "code",
      "metadata": {
        "id": "e07lUbQ1F1cV"
      },
      "source": [
        "# Reading data in using read_csv \n",
        "FireAnts <- read_csv(\"http://www.StatsClass.org/stat360/Datasets/FireAnts.csv\")"
      ],
      "execution_count": null,
      "outputs": []
    },
    {
      "cell_type": "code",
      "metadata": {
        "id": "HYKWH2i0EN6s"
      },
      "source": [
        "head(FireAnts)"
      ],
      "execution_count": null,
      "outputs": []
    },
    {
      "cell_type": "markdown",
      "metadata": {
        "id": "CfgjQJvx1UrA"
      },
      "source": [
        "Work space for your midterm..."
      ]
    },
    {
      "cell_type": "code",
      "metadata": {
        "id": "3P1eOlRn1TOr"
      },
      "source": [
        ""
      ],
      "execution_count": null,
      "outputs": []
    },
    {
      "cell_type": "markdown",
      "metadata": {
        "id": "CN4mB6jscKFr"
      },
      "source": [
        "## Data: US Poverty - County Level"
      ]
    },
    {
      "cell_type": "code",
      "metadata": {
        "id": "76eXAgD4cKNJ"
      },
      "source": [
        "# Reading data in using read_csv \n",
        "US_Poverty <- read_csv(\"http://www.StatsClass.org/stat360/Datasets/US_Poverty.csv\")"
      ],
      "execution_count": null,
      "outputs": []
    },
    {
      "cell_type": "code",
      "metadata": {
        "id": "MstdIS8T1i8S"
      },
      "source": [
        "head(US_Poverty)"
      ],
      "execution_count": null,
      "outputs": []
    },
    {
      "cell_type": "markdown",
      "metadata": {
        "id": "lNhNphqset27"
      },
      "source": [
        "Work space for your midterm..."
      ]
    },
    {
      "cell_type": "code",
      "metadata": {
        "id": "Zq3iKFgz1flK"
      },
      "source": [
        ""
      ],
      "execution_count": null,
      "outputs": []
    },
    {
      "cell_type": "markdown",
      "metadata": {
        "id": "pTzbQGvlJxy8"
      },
      "source": [
        "End of Document"
      ]
    }
  ]
}