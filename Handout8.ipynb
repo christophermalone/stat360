{
  "nbformat": 4,
  "nbformat_minor": 0,
  "metadata": {
    "colab": {
      "name": "Handout8.ipynb",
      "provenance": [],
      "collapsed_sections": [],
      "authorship_tag": "ABX9TyNj8Pv16hWa4V2NAPJhnp5z",
      "include_colab_link": true
    },
    "kernelspec": {
      "display_name": "R",
      "name": "ir"
    }
  },
  "cells": [
    {
      "cell_type": "markdown",
      "metadata": {
        "id": "view-in-github",
        "colab_type": "text"
      },
      "source": [
        "<a href=\"https://colab.research.google.com/github/christophermalone/stat360/blob/main/Handout8.ipynb\" target=\"_parent\"><img src=\"https://colab.research.google.com/assets/colab-badge.svg\" alt=\"Open In Colab\"/></a>"
      ]
    },
    {
      "cell_type": "markdown",
      "metadata": {
        "id": "KhClO9b02SXA"
      },
      "source": [
        "# Handout #8 : Simple Linear Regression - Matrix Representation"
      ]
    },
    {
      "cell_type": "markdown",
      "metadata": {
        "id": "AXDYLbzK2o7e"
      },
      "source": [
        "<table width='100%' ><tr><td bgcolor='green'></td></tr></table>\n",
        "\n",
        "## Nutrition Data\n",
        "\n",
        "Consider the following data collected on a variety of menu items from various fast-food restaurants.  \n",
        "<table>\n",
        "  <tr>\n",
        "    <td width='50%'>\n",
        "      <ul>\n",
        "          <li>Restaurant: Name of restaurant</li>\n",
        "          <li>Item: Menu item</li>\n",
        "          <li>Type: Type of menu item, e.g. sub, pizza, wrap, sandwich, etc</li>\n",
        "          <li>Breakfast: Is this primarily a breakfast item</li>\n",
        "          <li>ServingSize: Serving Size</li>\n",
        "          <li>Calories: Calories per serving</li>\n",
        "          <li>TotalFat: Total fat per serving</li>\n",
        "          <li>SaturatedFat: Saturated fat per serving</li>\n",
        "          <li>Cholesterol: Cholesterol per serving</li>\n",
        "          <li>Sodium: Sodium per serving</li>\n",
        "          <li>TotalCarbs: Total carbs per serving</li>\n",
        "          <li>Fiber: Fiber per serving</li>\n",
        "          <li>Sugar: Sugar per serving</li>\n",
        "          <li>Protein: Protein per serving</li>\n",
        "        </ul>\n",
        "    </td>\n",
        "  <td width='50%'>\n",
        " \n",
        "<p align='center'><img src=\"https://drive.google.com/uc?export=view&id=1od0unQ8y1mSNiuBPX3gSUBG6QDIDnXBD\" width='50%' height='50%'></img></p>\n",
        "\n",
        "  </td>\n",
        "</tr>\n",
        "</table>\n",
        "\n",
        "Data Folder: [OneDrive](https://mnscu-my.sharepoint.com/:f:/g/personal/aq7839yd_minnstate_edu/EmOQfrwxzzRBqq8PH_8qTmMBy-1qKgM11Hb8vzjs025EEA?e=wyShYs)\n",
        "\n",
        "\n",
        "\n",
        "<table width='100%' ><tr><td bgcolor='green'></td></tr></table>\n",
        "\n"
      ]
    },
    {
      "cell_type": "markdown",
      "metadata": {
        "id": "njXGRUIC9Lgs"
      },
      "source": [
        "## Load Data into R via URL"
      ]
    },
    {
      "cell_type": "markdown",
      "metadata": {
        "id": "FoT1NFX3DncH"
      },
      "source": [
        "The tidyverse R package will be used to assist with reading in the dataset into the current R session."
      ]
    },
    {
      "cell_type": "code",
      "metadata": {
        "id": "LgaibuX_DtWK",
        "colab": {
          "base_uri": "https://localhost:8080/"
        },
        "outputId": "e94e5187-01de-4cfe-e2e2-15a424901517"
      },
      "source": [
        "#@title Load Tidyverse\n",
        "#load tidyverse package\n",
        "library(tidyverse)"
      ],
      "execution_count": 1,
      "outputs": [
        {
          "output_type": "stream",
          "name": "stderr",
          "text": [
            "Warning message in system(\"timedatectl\", intern = TRUE):\n",
            "“running command 'timedatectl' had status 1”\n",
            "── \u001b[1mAttaching packages\u001b[22m ─────────────────────────────────────── tidyverse 1.3.1 ──\n",
            "\n",
            "\u001b[32m✔\u001b[39m \u001b[34mggplot2\u001b[39m 3.3.5     \u001b[32m✔\u001b[39m \u001b[34mpurrr  \u001b[39m 0.3.4\n",
            "\u001b[32m✔\u001b[39m \u001b[34mtibble \u001b[39m 3.1.4     \u001b[32m✔\u001b[39m \u001b[34mdplyr  \u001b[39m 1.0.7\n",
            "\u001b[32m✔\u001b[39m \u001b[34mtidyr  \u001b[39m 1.1.3     \u001b[32m✔\u001b[39m \u001b[34mstringr\u001b[39m 1.4.0\n",
            "\u001b[32m✔\u001b[39m \u001b[34mreadr  \u001b[39m 2.0.1     \u001b[32m✔\u001b[39m \u001b[34mforcats\u001b[39m 0.5.1\n",
            "\n",
            "── \u001b[1mConflicts\u001b[22m ────────────────────────────────────────── tidyverse_conflicts() ──\n",
            "\u001b[31m✖\u001b[39m \u001b[34mdplyr\u001b[39m::\u001b[32mfilter()\u001b[39m masks \u001b[34mstats\u001b[39m::filter()\n",
            "\u001b[31m✖\u001b[39m \u001b[34mdplyr\u001b[39m::\u001b[32mlag()\u001b[39m    masks \u001b[34mstats\u001b[39m::lag()\n",
            "\n"
          ]
        }
      ]
    },
    {
      "cell_type": "markdown",
      "metadata": {
        "id": "DPqIPen9D5T3"
      },
      "source": [
        "## Read in the data"
      ]
    },
    {
      "cell_type": "code",
      "metadata": {
        "colab": {
          "base_uri": "https://localhost:8080/"
        },
        "id": "e07lUbQ1F1cV",
        "outputId": "e1520c8b-3e13-4c01-fb35-97bea9344a23"
      },
      "source": [
        "#@title Read in Data\n",
        "\n",
        "# Reading data in using read_csv \n",
        "Nutrition <- read_csv(\"http://www.StatsClass.org/stat360/Datasets/Nutrition.csv\")"
      ],
      "execution_count": 2,
      "outputs": [
        {
          "output_type": "stream",
          "name": "stderr",
          "text": [
            "\u001b[1m\u001b[1mRows: \u001b[1m\u001b[22m\u001b[34m\u001b[34m196\u001b[34m\u001b[39m \u001b[1m\u001b[1mColumns: \u001b[1m\u001b[22m\u001b[34m\u001b[34m14\u001b[34m\u001b[39m\n",
            "\n",
            "\u001b[36m──\u001b[39m \u001b[1m\u001b[1mColumn specification\u001b[1m\u001b[22m \u001b[36m────────────────────────────────────────────────────────\u001b[39m\n",
            "\u001b[1mDelimiter:\u001b[22m \",\"\n",
            "\u001b[31mchr\u001b[39m  (4): Restaurant, Item, Type, Breakfast\n",
            "\u001b[32mdbl\u001b[39m (10): ServingSize, Calories, TotalFat, SaturatedFat, Cholesterol, Sodium...\n",
            "\n",
            "\n",
            "\u001b[36mℹ\u001b[39m Use \u001b[30m\u001b[47m\u001b[30m\u001b[47m`spec()`\u001b[47m\u001b[30m\u001b[49m\u001b[39m to retrieve the full column specification for this data.\n",
            "\u001b[36mℹ\u001b[39m Specify the column types or set \u001b[30m\u001b[47m\u001b[30m\u001b[47m`show_col_types = FALSE`\u001b[47m\u001b[30m\u001b[49m\u001b[39m to quiet this message.\n",
            "\n"
          ]
        }
      ]
    },
    {
      "cell_type": "markdown",
      "metadata": {
        "id": "irbG4lJbENzv"
      },
      "source": [
        "View the first few rows of the data.frame."
      ]
    },
    {
      "cell_type": "code",
      "metadata": {
        "colab": {
          "base_uri": "https://localhost:8080/",
          "height": 286
        },
        "id": "HYKWH2i0EN6s",
        "outputId": "1cf581df-a7d9-451d-ab3d-979ae84408a2"
      },
      "source": [
        "#@title View the first few rows of data\n",
        "head(Nutrition)"
      ],
      "execution_count": null,
      "outputs": [
        {
          "output_type": "display_data",
          "data": {
            "text/plain": [
              "  Restaurant Item                     Type Breakfast ServingSize Calories\n",
              "1 Subway     BLT                      Sub  No        151         320     \n",
              "2 Subway     Black Forest Ham         Sub  No        221         290     \n",
              "3 Subway     Buffalo Chicken          Sub  No        269         420     \n",
              "4 Subway     Chicken Bacon Ranch Melt Sub  No        293         570     \n",
              "5 Subway     Cold Cut Combo           Sub  No        235         370     \n",
              "6 Subway     Italian BMT              Sub  No        228         410     \n",
              "  TotalFat SaturatedFat Cholesterol Sodium TotalCarbs Fiber Sugar Protein\n",
              "1  9.0      4           20           680   43         5     6     15     \n",
              "2  4.5      1           25           830   46         5     8     18     \n",
              "3 15.0      3           55          1130   46         5     8     25     \n",
              "4 28.0     10           95          1080   47         5     8     35     \n",
              "5 13.0      4           50          1140   46         5     7     18     \n",
              "6 16.0      6           45          1300   46         5     8     20     "
            ],
            "text/latex": "A tibble: 6 × 14\n\\begin{tabular}{llllllllllllll}\n Restaurant & Item & Type & Breakfast & ServingSize & Calories & TotalFat & SaturatedFat & Cholesterol & Sodium & TotalCarbs & Fiber & Sugar & Protein\\\\\n <chr> & <chr> & <chr> & <chr> & <dbl> & <dbl> & <dbl> & <dbl> & <dbl> & <dbl> & <dbl> & <dbl> & <dbl> & <dbl>\\\\\n\\hline\n\t Subway & BLT                      & Sub & No & 151 & 320 &  9.0 &  4 & 20 &  680 & 43 & 5 & 6 & 15\\\\\n\t Subway & Black Forest Ham         & Sub & No & 221 & 290 &  4.5 &  1 & 25 &  830 & 46 & 5 & 8 & 18\\\\\n\t Subway & Buffalo Chicken          & Sub & No & 269 & 420 & 15.0 &  3 & 55 & 1130 & 46 & 5 & 8 & 25\\\\\n\t Subway & Chicken Bacon Ranch Melt & Sub & No & 293 & 570 & 28.0 & 10 & 95 & 1080 & 47 & 5 & 8 & 35\\\\\n\t Subway & Cold Cut Combo           & Sub & No & 235 & 370 & 13.0 &  4 & 50 & 1140 & 46 & 5 & 7 & 18\\\\\n\t Subway & Italian BMT              & Sub & No & 228 & 410 & 16.0 &  6 & 45 & 1300 & 46 & 5 & 8 & 20\\\\\n\\end{tabular}\n",
            "text/markdown": "\nA tibble: 6 × 14\n\n| Restaurant &lt;chr&gt; | Item &lt;chr&gt; | Type &lt;chr&gt; | Breakfast &lt;chr&gt; | ServingSize &lt;dbl&gt; | Calories &lt;dbl&gt; | TotalFat &lt;dbl&gt; | SaturatedFat &lt;dbl&gt; | Cholesterol &lt;dbl&gt; | Sodium &lt;dbl&gt; | TotalCarbs &lt;dbl&gt; | Fiber &lt;dbl&gt; | Sugar &lt;dbl&gt; | Protein &lt;dbl&gt; |\n|---|---|---|---|---|---|---|---|---|---|---|---|---|---|\n| Subway | BLT                      | Sub | No | 151 | 320 |  9.0 |  4 | 20 |  680 | 43 | 5 | 6 | 15 |\n| Subway | Black Forest Ham         | Sub | No | 221 | 290 |  4.5 |  1 | 25 |  830 | 46 | 5 | 8 | 18 |\n| Subway | Buffalo Chicken          | Sub | No | 269 | 420 | 15.0 |  3 | 55 | 1130 | 46 | 5 | 8 | 25 |\n| Subway | Chicken Bacon Ranch Melt | Sub | No | 293 | 570 | 28.0 | 10 | 95 | 1080 | 47 | 5 | 8 | 35 |\n| Subway | Cold Cut Combo           | Sub | No | 235 | 370 | 13.0 |  4 | 50 | 1140 | 46 | 5 | 7 | 18 |\n| Subway | Italian BMT              | Sub | No | 228 | 410 | 16.0 |  6 | 45 | 1300 | 46 | 5 | 8 | 20 |\n\n",
            "text/html": [
              "<table class=\"dataframe\">\n",
              "<caption>A tibble: 6 × 14</caption>\n",
              "<thead>\n",
              "\t<tr><th scope=col>Restaurant</th><th scope=col>Item</th><th scope=col>Type</th><th scope=col>Breakfast</th><th scope=col>ServingSize</th><th scope=col>Calories</th><th scope=col>TotalFat</th><th scope=col>SaturatedFat</th><th scope=col>Cholesterol</th><th scope=col>Sodium</th><th scope=col>TotalCarbs</th><th scope=col>Fiber</th><th scope=col>Sugar</th><th scope=col>Protein</th></tr>\n",
              "\t<tr><th scope=col>&lt;chr&gt;</th><th scope=col>&lt;chr&gt;</th><th scope=col>&lt;chr&gt;</th><th scope=col>&lt;chr&gt;</th><th scope=col>&lt;dbl&gt;</th><th scope=col>&lt;dbl&gt;</th><th scope=col>&lt;dbl&gt;</th><th scope=col>&lt;dbl&gt;</th><th scope=col>&lt;dbl&gt;</th><th scope=col>&lt;dbl&gt;</th><th scope=col>&lt;dbl&gt;</th><th scope=col>&lt;dbl&gt;</th><th scope=col>&lt;dbl&gt;</th><th scope=col>&lt;dbl&gt;</th></tr>\n",
              "</thead>\n",
              "<tbody>\n",
              "\t<tr><td>Subway</td><td>BLT                     </td><td>Sub</td><td>No</td><td>151</td><td>320</td><td> 9.0</td><td> 4</td><td>20</td><td> 680</td><td>43</td><td>5</td><td>6</td><td>15</td></tr>\n",
              "\t<tr><td>Subway</td><td>Black Forest Ham        </td><td>Sub</td><td>No</td><td>221</td><td>290</td><td> 4.5</td><td> 1</td><td>25</td><td> 830</td><td>46</td><td>5</td><td>8</td><td>18</td></tr>\n",
              "\t<tr><td>Subway</td><td>Buffalo Chicken         </td><td>Sub</td><td>No</td><td>269</td><td>420</td><td>15.0</td><td> 3</td><td>55</td><td>1130</td><td>46</td><td>5</td><td>8</td><td>25</td></tr>\n",
              "\t<tr><td>Subway</td><td>Chicken Bacon Ranch Melt</td><td>Sub</td><td>No</td><td>293</td><td>570</td><td>28.0</td><td>10</td><td>95</td><td>1080</td><td>47</td><td>5</td><td>8</td><td>35</td></tr>\n",
              "\t<tr><td>Subway</td><td>Cold Cut Combo          </td><td>Sub</td><td>No</td><td>235</td><td>370</td><td>13.0</td><td> 4</td><td>50</td><td>1140</td><td>46</td><td>5</td><td>7</td><td>18</td></tr>\n",
              "\t<tr><td>Subway</td><td>Italian BMT             </td><td>Sub</td><td>No</td><td>228</td><td>410</td><td>16.0</td><td> 6</td><td>45</td><td>1300</td><td>46</td><td>5</td><td>8</td><td>20</td></tr>\n",
              "</tbody>\n",
              "</table>\n"
            ]
          },
          "metadata": {}
        }
      ]
    },
    {
      "cell_type": "markdown",
      "metadata": {
        "id": "cjPuPzFkK2j5"
      },
      "source": [
        "## Obtain the desired subset of data"
      ]
    },
    {
      "cell_type": "markdown",
      "metadata": {
        "id": "CiAtubn2LAS5"
      },
      "source": [
        "The model to be fit to data that meet the following conditions.  A filter() can be used in subset the data.\n",
        "\n",
        "\n",
        "*    Restaurant = Wendys\n",
        "\n"
      ]
    },
    {
      "cell_type": "code",
      "metadata": {
        "id": "Rsz6f1HwpBJc"
      },
      "source": [
        "Wendys <- (Nutrition\n",
        "  %>% filter(Restaurant == \"Wendys\")\n",
        "  %>% select(Restaurant, Item, SaturatedFat, Calories)\n",
        ")"
      ],
      "execution_count": 3,
      "outputs": []
    },
    {
      "cell_type": "markdown",
      "metadata": {
        "id": "y3ugjp0GpT-O"
      },
      "source": [
        "Before preceding, check the data.frame to ensure that the filtering/selecting was done correctly."
      ]
    },
    {
      "cell_type": "code",
      "metadata": {
        "colab": {
          "base_uri": "https://localhost:8080/",
          "height": 975
        },
        "id": "4B3P2yG3pUcR",
        "outputId": "47677669-9d8c-45a8-93af-1f038b0c6046"
      },
      "source": [
        "Wendys"
      ],
      "execution_count": 4,
      "outputs": [
        {
          "output_type": "display_data",
          "data": {
            "text/plain": [
              "   Restaurant Item                                 SaturatedFat Calories\n",
              "1  Wendys     Daves Hot N Juicy 1/4 lb Single      14.0          580    \n",
              "2  Wendys     Daves Hot N Juicy 1/2 lb Double      21.0          800    \n",
              "3  Wendys     Daves Hot N Juicy 3/4 lb Triple      30.0         1060    \n",
              "4  Wendys     Baja Salad Half Size                 10.0          470    \n",
              "5  Wendys     Asiago Ranch Chicken Club            12.0          740    \n",
              "6  Wendys     Baconator                            27.0          970    \n",
              "7  Wendys     Baconator Single                     17.0          660    \n",
              "8  Wendys     Son of Baconator                     18.0          700    \n",
              "9  Wendys     Jr Bacon Cheeseburger                 9.0          400    \n",
              "10 Wendys     Jr Cheeseburger Deluxe                7.0          350    \n",
              "11 Wendys     J Hamburger                           4.0          250    \n",
              "12 Wendys     5 piece Chicken Nuggets               3.0          220    \n",
              "13 Wendys     10 piece Chicken Nuggets              6.0          450    \n",
              "14 Wendys     Grilled Chicken Go Wrap               3.5          260    \n",
              "15 Wendys     Crispy Chicken Caesar Wrap            7.0          430    \n",
              "16 Wendys     Spicy Chicken Go Wrap                 4.5          340    \n",
              "17 Wendys     Crispy Chicken Sandwich               4.0          380    \n",
              "18 Wendys     Home Style Chicken Fillet             6.0          560    \n",
              "19 Wendys     Spicy Chicken sandwich                6.0          530    \n",
              "20 Wendys     Apple Pecan Chicken Salad Half-Size   4.5          340    \n",
              "21 Wendys     Apple Pecan Chicken Salad full-Size   8.0          570    \n",
              "22 Wendys     Spicy Chicken Caesar Salad Half-Size  8.0          440    \n",
              "23 Wendys     Spicy Chicken Caesar Salad full-Size 16.0          770    \n",
              "24 Wendys     Garden Side Salad                     2.0          210    \n",
              "25 Wendys     Broccoli Cheese Potato                8.0          470    \n",
              "26 Wendys     Bacon Cheese Potato                  12.0          580    \n",
              "27 Wendys     Sour Cream and Chive Potato           2.0          320    \n",
              "28 Wendys     Small Chill                           2.5          210    "
            ],
            "text/latex": "A tibble: 28 × 4\n\\begin{tabular}{llll}\n Restaurant & Item & SaturatedFat & Calories\\\\\n <chr> & <chr> & <dbl> & <dbl>\\\\\n\\hline\n\t Wendys & Daves Hot N Juicy 1/4 lb Single      & 14.0 &  580\\\\\n\t Wendys & Daves Hot N Juicy 1/2 lb Double      & 21.0 &  800\\\\\n\t Wendys & Daves Hot N Juicy 3/4 lb Triple      & 30.0 & 1060\\\\\n\t Wendys & Baja Salad Half Size                 & 10.0 &  470\\\\\n\t Wendys & Asiago Ranch Chicken Club            & 12.0 &  740\\\\\n\t Wendys & Baconator                            & 27.0 &  970\\\\\n\t Wendys & Baconator Single                     & 17.0 &  660\\\\\n\t Wendys & Son of Baconator                     & 18.0 &  700\\\\\n\t Wendys & Jr Bacon Cheeseburger                &  9.0 &  400\\\\\n\t Wendys & Jr Cheeseburger Deluxe               &  7.0 &  350\\\\\n\t Wendys & J Hamburger                          &  4.0 &  250\\\\\n\t Wendys & 5 piece Chicken Nuggets              &  3.0 &  220\\\\\n\t Wendys & 10 piece Chicken Nuggets             &  6.0 &  450\\\\\n\t Wendys & Grilled Chicken Go Wrap              &  3.5 &  260\\\\\n\t Wendys & Crispy Chicken Caesar Wrap           &  7.0 &  430\\\\\n\t Wendys & Spicy Chicken Go Wrap                &  4.5 &  340\\\\\n\t Wendys & Crispy Chicken Sandwich              &  4.0 &  380\\\\\n\t Wendys & Home Style Chicken Fillet            &  6.0 &  560\\\\\n\t Wendys & Spicy Chicken sandwich               &  6.0 &  530\\\\\n\t Wendys & Apple Pecan Chicken Salad Half-Size  &  4.5 &  340\\\\\n\t Wendys & Apple Pecan Chicken Salad full-Size  &  8.0 &  570\\\\\n\t Wendys & Spicy Chicken Caesar Salad Half-Size &  8.0 &  440\\\\\n\t Wendys & Spicy Chicken Caesar Salad full-Size & 16.0 &  770\\\\\n\t Wendys & Garden Side Salad                    &  2.0 &  210\\\\\n\t Wendys & Broccoli Cheese Potato               &  8.0 &  470\\\\\n\t Wendys & Bacon Cheese Potato                  & 12.0 &  580\\\\\n\t Wendys & Sour Cream and Chive Potato          &  2.0 &  320\\\\\n\t Wendys & Small Chill                          &  2.5 &  210\\\\\n\\end{tabular}\n",
            "text/markdown": "\nA tibble: 28 × 4\n\n| Restaurant &lt;chr&gt; | Item &lt;chr&gt; | SaturatedFat &lt;dbl&gt; | Calories &lt;dbl&gt; |\n|---|---|---|---|\n| Wendys | Daves Hot N Juicy 1/4 lb Single      | 14.0 |  580 |\n| Wendys | Daves Hot N Juicy 1/2 lb Double      | 21.0 |  800 |\n| Wendys | Daves Hot N Juicy 3/4 lb Triple      | 30.0 | 1060 |\n| Wendys | Baja Salad Half Size                 | 10.0 |  470 |\n| Wendys | Asiago Ranch Chicken Club            | 12.0 |  740 |\n| Wendys | Baconator                            | 27.0 |  970 |\n| Wendys | Baconator Single                     | 17.0 |  660 |\n| Wendys | Son of Baconator                     | 18.0 |  700 |\n| Wendys | Jr Bacon Cheeseburger                |  9.0 |  400 |\n| Wendys | Jr Cheeseburger Deluxe               |  7.0 |  350 |\n| Wendys | J Hamburger                          |  4.0 |  250 |\n| Wendys | 5 piece Chicken Nuggets              |  3.0 |  220 |\n| Wendys | 10 piece Chicken Nuggets             |  6.0 |  450 |\n| Wendys | Grilled Chicken Go Wrap              |  3.5 |  260 |\n| Wendys | Crispy Chicken Caesar Wrap           |  7.0 |  430 |\n| Wendys | Spicy Chicken Go Wrap                |  4.5 |  340 |\n| Wendys | Crispy Chicken Sandwich              |  4.0 |  380 |\n| Wendys | Home Style Chicken Fillet            |  6.0 |  560 |\n| Wendys | Spicy Chicken sandwich               |  6.0 |  530 |\n| Wendys | Apple Pecan Chicken Salad Half-Size  |  4.5 |  340 |\n| Wendys | Apple Pecan Chicken Salad full-Size  |  8.0 |  570 |\n| Wendys | Spicy Chicken Caesar Salad Half-Size |  8.0 |  440 |\n| Wendys | Spicy Chicken Caesar Salad full-Size | 16.0 |  770 |\n| Wendys | Garden Side Salad                    |  2.0 |  210 |\n| Wendys | Broccoli Cheese Potato               |  8.0 |  470 |\n| Wendys | Bacon Cheese Potato                  | 12.0 |  580 |\n| Wendys | Sour Cream and Chive Potato          |  2.0 |  320 |\n| Wendys | Small Chill                          |  2.5 |  210 |\n\n",
            "text/html": [
              "<table class=\"dataframe\">\n",
              "<caption>A tibble: 28 × 4</caption>\n",
              "<thead>\n",
              "\t<tr><th scope=col>Restaurant</th><th scope=col>Item</th><th scope=col>SaturatedFat</th><th scope=col>Calories</th></tr>\n",
              "\t<tr><th scope=col>&lt;chr&gt;</th><th scope=col>&lt;chr&gt;</th><th scope=col>&lt;dbl&gt;</th><th scope=col>&lt;dbl&gt;</th></tr>\n",
              "</thead>\n",
              "<tbody>\n",
              "\t<tr><td>Wendys</td><td>Daves Hot N Juicy 1/4 lb Single     </td><td>14.0</td><td> 580</td></tr>\n",
              "\t<tr><td>Wendys</td><td>Daves Hot N Juicy 1/2 lb Double     </td><td>21.0</td><td> 800</td></tr>\n",
              "\t<tr><td>Wendys</td><td>Daves Hot N Juicy 3/4 lb Triple     </td><td>30.0</td><td>1060</td></tr>\n",
              "\t<tr><td>Wendys</td><td>Baja Salad Half Size                </td><td>10.0</td><td> 470</td></tr>\n",
              "\t<tr><td>Wendys</td><td>Asiago Ranch Chicken Club           </td><td>12.0</td><td> 740</td></tr>\n",
              "\t<tr><td>Wendys</td><td>Baconator                           </td><td>27.0</td><td> 970</td></tr>\n",
              "\t<tr><td>Wendys</td><td>Baconator Single                    </td><td>17.0</td><td> 660</td></tr>\n",
              "\t<tr><td>Wendys</td><td>Son of Baconator                    </td><td>18.0</td><td> 700</td></tr>\n",
              "\t<tr><td>Wendys</td><td>Jr Bacon Cheeseburger               </td><td> 9.0</td><td> 400</td></tr>\n",
              "\t<tr><td>Wendys</td><td>Jr Cheeseburger Deluxe              </td><td> 7.0</td><td> 350</td></tr>\n",
              "\t<tr><td>Wendys</td><td>J Hamburger                         </td><td> 4.0</td><td> 250</td></tr>\n",
              "\t<tr><td>Wendys</td><td>5 piece Chicken Nuggets             </td><td> 3.0</td><td> 220</td></tr>\n",
              "\t<tr><td>Wendys</td><td>10 piece Chicken Nuggets            </td><td> 6.0</td><td> 450</td></tr>\n",
              "\t<tr><td>Wendys</td><td>Grilled Chicken Go Wrap             </td><td> 3.5</td><td> 260</td></tr>\n",
              "\t<tr><td>Wendys</td><td>Crispy Chicken Caesar Wrap          </td><td> 7.0</td><td> 430</td></tr>\n",
              "\t<tr><td>Wendys</td><td>Spicy Chicken Go Wrap               </td><td> 4.5</td><td> 340</td></tr>\n",
              "\t<tr><td>Wendys</td><td>Crispy Chicken Sandwich             </td><td> 4.0</td><td> 380</td></tr>\n",
              "\t<tr><td>Wendys</td><td>Home Style Chicken Fillet           </td><td> 6.0</td><td> 560</td></tr>\n",
              "\t<tr><td>Wendys</td><td>Spicy Chicken sandwich              </td><td> 6.0</td><td> 530</td></tr>\n",
              "\t<tr><td>Wendys</td><td>Apple Pecan Chicken Salad Half-Size </td><td> 4.5</td><td> 340</td></tr>\n",
              "\t<tr><td>Wendys</td><td>Apple Pecan Chicken Salad full-Size </td><td> 8.0</td><td> 570</td></tr>\n",
              "\t<tr><td>Wendys</td><td>Spicy Chicken Caesar Salad Half-Size</td><td> 8.0</td><td> 440</td></tr>\n",
              "\t<tr><td>Wendys</td><td>Spicy Chicken Caesar Salad full-Size</td><td>16.0</td><td> 770</td></tr>\n",
              "\t<tr><td>Wendys</td><td>Garden Side Salad                   </td><td> 2.0</td><td> 210</td></tr>\n",
              "\t<tr><td>Wendys</td><td>Broccoli Cheese Potato              </td><td> 8.0</td><td> 470</td></tr>\n",
              "\t<tr><td>Wendys</td><td>Bacon Cheese Potato                 </td><td>12.0</td><td> 580</td></tr>\n",
              "\t<tr><td>Wendys</td><td>Sour Cream and Chive Potato         </td><td> 2.0</td><td> 320</td></tr>\n",
              "\t<tr><td>Wendys</td><td>Small Chill                         </td><td> 2.5</td><td> 210</td></tr>\n",
              "</tbody>\n",
              "</table>\n"
            ]
          },
          "metadata": {}
        }
      ]
    },
    {
      "cell_type": "markdown",
      "metadata": {
        "id": "1yzIMikj6S_M"
      },
      "source": [
        "## Simple Linear Regression - Model Setup"
      ]
    },
    {
      "cell_type": "markdown",
      "metadata": {
        "id": "H4diIPrN6YMm"
      },
      "source": [
        "Consider the following setup for the simple linear regression model.\n",
        "\n",
        "<ul>\n",
        "  <li><strong>Response Variable</strong>: SaturatedFat</li>\n",
        "  <li><strong>Independent / Predictor Variable</strong>: Calories</li>\n",
        "  <li><i>Assume</i> the following structure for the mean and variance functions</li>\n",
        "  </ul>"
      ]
    },
    {
      "cell_type": "markdown",
      "metadata": {
        "id": "X4gdlF3C60d2"
      },
      "source": [
        "<ul><ul>\n",
        "  <li>$E(SaturatedFat | Calories, Resturant = Wendys) = \\beta_{0} + \\beta_{1} * Calories$</li>\n",
        "  <li>$Var(SaturatedFat | Calories, Resturant = Wendys) = \\sigma^{2}$</li>\n",
        "</ul></ul>"
      ]
    },
    {
      "cell_type": "markdown",
      "metadata": {
        "id": "oV94hIr3Edo4"
      },
      "source": [
        "## Simple Linear Regression - Scatterplot"
      ]
    },
    {
      "cell_type": "markdown",
      "metadata": {
        "id": "3mzVUHNu4Cuw"
      },
      "source": [
        "The following code can be used to to create a scatterplot and include simple linear regression line."
      ]
    },
    {
      "cell_type": "code",
      "metadata": {
        "colab": {
          "base_uri": "https://localhost:8080/",
          "height": 437
        },
        "id": "yHLAoooA4C1_",
        "outputId": "baa8b186-9698-44c6-983b-2572cc54565b"
      },
      "source": [
        "#@title Scatterplot with simple linear regression line\n",
        "ggplot(data=Wendys, aes(x=Calories,y=SaturatedFat)) + \n",
        "  geom_point() +   \n",
        "  geom_smooth(method='lm', formula = y ~ x, se=FALSE) +\n",
        "  theme_classic()"
      ],
      "execution_count": 5,
      "outputs": [
        {
          "output_type": "display_data",
          "data": {
            "image/png": "[encoded data removed]",
            "text/plain": [
              "plot without title"
            ]
          },
          "metadata": {
            "image/png": {
              "width": 420,
              "height": 420
            }
          }
        }
      ]
    },
    {
      "cell_type": "markdown",
      "metadata": {
        "id": "pMv6R69HD8km"
      },
      "source": [
        ""
      ]
    },
    {
      "cell_type": "markdown",
      "metadata": {
        "id": "Ur8YR3NjNHjw"
      },
      "source": [
        "## Fitting the Model"
      ]
    },
    {
      "cell_type": "code",
      "metadata": {
        "id": "7sJchah397NR"
      },
      "source": [
        "#@title Fitting the simple linear regression model\n",
        "Wendys_Model <- lm(SaturatedFat ~ Calories, data=Wendys)"
      ],
      "execution_count": 6,
      "outputs": []
    },
    {
      "cell_type": "code",
      "metadata": {
        "colab": {
          "base_uri": "https://localhost:8080/",
          "height": 329
        },
        "id": "yngvjUY0-lyB",
        "outputId": "1c349a40-d81b-4bbd-ac82-e234fe09bd34"
      },
      "source": [
        "#@title Getting a summary of the model\n",
        "summary(Wendys_Model)"
      ],
      "execution_count": 7,
      "outputs": [
        {
          "output_type": "display_data",
          "data": {
            "text/plain": [
              "\n",
              "Call:\n",
              "lm(formula = SaturatedFat ~ Calories, data = Wendys)\n",
              "\n",
              "Residuals:\n",
              "    Min      1Q  Median      3Q     Max \n",
              "-5.5057 -1.9513  0.7454  2.0320  3.0130 \n",
              "\n",
              "Coefficients:\n",
              "             Estimate Std. Error t value Pr(>|t|)    \n",
              "(Intercept) -5.833332   1.208443  -4.827 5.30e-05 ***\n",
              "Calories     0.030963   0.002205  14.044 1.19e-13 ***\n",
              "---\n",
              "Signif. codes:  0 ‘***’ 0.001 ‘**’ 0.01 ‘*’ 0.05 ‘.’ 0.1 ‘ ’ 1\n",
              "\n",
              "Residual standard error: 2.564 on 26 degrees of freedom\n",
              "Multiple R-squared:  0.8835,\tAdjusted R-squared:  0.8791 \n",
              "F-statistic: 197.2 on 1 and 26 DF,  p-value: 1.19e-13\n"
            ]
          },
          "metadata": {}
        }
      ]
    },
    {
      "cell_type": "code",
      "metadata": {
        "colab": {
          "base_uri": "https://localhost:8080/",
          "height": 129
        },
        "id": "tJZx6t79zzYx",
        "outputId": "eeb3b81e-1164-49f3-d6a2-85d5c720ac49"
      },
      "source": [
        "#@title 95% Confidence Interval for Model Parameters\n",
        "round(confint(Wendys_Model),3)"
      ],
      "execution_count": 11,
      "outputs": [
        {
          "output_type": "display_data",
          "data": {
            "text/plain": [
              "            2.5 %  97.5 %\n",
              "(Intercept) -8.317 -3.349\n",
              "Calories     0.026  0.035"
            ],
            "text/latex": "A matrix: 2 × 2 of type dbl\n\\begin{tabular}{r|ll}\n  & 2.5 \\% & 97.5 \\%\\\\\n\\hline\n\t(Intercept) & -8.317 & -3.349\\\\\n\tCalories &  0.026 &  0.035\\\\\n\\end{tabular}\n",
            "text/markdown": "\nA matrix: 2 × 2 of type dbl\n\n| <!--/--> | 2.5 % | 97.5 % |\n|---|---|---|\n| (Intercept) | -8.317 | -3.349 |\n| Calories |  0.026 |  0.035 |\n\n",
            "text/html": [
              "<table class=\"dataframe\">\n",
              "<caption>A matrix: 2 × 2 of type dbl</caption>\n",
              "<thead>\n",
              "\t<tr><th></th><th scope=col>2.5 %</th><th scope=col>97.5 %</th></tr>\n",
              "</thead>\n",
              "<tbody>\n",
              "\t<tr><th scope=row>(Intercept)</th><td>-8.317</td><td>-3.349</td></tr>\n",
              "\t<tr><th scope=row>Calories</th><td> 0.026</td><td> 0.035</td></tr>\n",
              "</tbody>\n",
              "</table>\n"
            ]
          },
          "metadata": {}
        }
      ]
    },
    {
      "cell_type": "markdown",
      "metadata": {
        "id": "H7SRa979SOle"
      },
      "source": [
        "## 95% Confidence Interval and Prediction Interval"
      ]
    },
    {
      "cell_type": "markdown",
      "metadata": {
        "id": "hkTwJftG0FWS"
      },
      "source": [
        "Suppose the goal is to make a prediction for a new food item with 900 Calories.  That is, determine the value for $E(SaturatedFat | Calories = 900)$"
      ]
    },
    {
      "cell_type": "markdown",
      "metadata": {
        "id": "wjQqvdIX0rgE"
      },
      "source": [
        "First, create a data.frame and set calories to 900."
      ]
    },
    {
      "cell_type": "code",
      "metadata": {
        "id": "gJuoI_yN0Fgb"
      },
      "source": [
        "NewFoodItem <- data.frame(Calories = c(900))"
      ],
      "execution_count": 12,
      "outputs": []
    },
    {
      "cell_type": "markdown",
      "metadata": {
        "id": "baoQNyTL0NuS"
      },
      "source": [
        "Next, use the predict() function to obtain a prediction for this new food item."
      ]
    },
    {
      "cell_type": "code",
      "metadata": {
        "colab": {
          "base_uri": "https://localhost:8080/",
          "height": 35
        },
        "id": "uifIcXYS0N1Z",
        "outputId": "b3ad2666-2794-4fa4-92d3-66fb9dc24a33"
      },
      "source": [
        "round(predict(Wendys_Model,newdata = NewFoodItem),3)"
      ],
      "execution_count": 14,
      "outputs": [
        {
          "output_type": "display_data",
          "data": {
            "text/plain": [
              "     1 \n",
              "22.033 "
            ],
            "text/latex": "\\textbf{1:} 22.033",
            "text/markdown": "**1:** 22.033",
            "text/html": [
              "<strong>1:</strong> 22.033"
            ]
          },
          "metadata": {}
        }
      ]
    },
    {
      "cell_type": "markdown",
      "metadata": {
        "id": "om464suG08NS"
      },
      "source": [
        "Using the argument interval = \"confid\" in the predict() function will return the 95% Confidence Interval for this prediction."
      ]
    },
    {
      "cell_type": "code",
      "metadata": {
        "colab": {
          "base_uri": "https://localhost:8080/",
          "height": 247
        },
        "id": "eIWuLR7s08Uo",
        "outputId": "156726d1-3155-4385-f63b-401c0354e85f"
      },
      "source": [
        "predict(Wendys_Model,newdata = NewFoodItem, interval = \"confid\", se=TRUE)"
      ],
      "execution_count": 16,
      "outputs": [
        {
          "output_type": "display_data",
          "data": {
            "text/plain": [
              "$fit\n",
              "       fit      lwr      upr\n",
              "1 22.03295 19.97316 24.09275\n",
              "\n",
              "$se.fit\n",
              "[1] 1.002075\n",
              "\n",
              "$df\n",
              "[1] 26\n",
              "\n",
              "$residual.scale\n",
              "[1] 2.564077\n"
            ],
            "text/latex": "\\begin{description}\n\\item[\\$fit] A matrix: 1 × 3 of type dbl\n\\begin{tabular}{r|lll}\n  & fit & lwr & upr\\\\\n\\hline\n\t1 & 22.03295 & 19.97316 & 24.09275\\\\\n\\end{tabular}\n\n\\item[\\$se.fit] 1.00207465297145\n\\item[\\$df] 26\n\\item[\\$residual.scale] 2.56407708140082\n\\end{description}\n",
            "text/markdown": "$fit\n:   \nA matrix: 1 × 3 of type dbl\n\n| <!--/--> | fit | lwr | upr |\n|---|---|---|---|\n| 1 | 22.03295 | 19.97316 | 24.09275 |\n\n\n$se.fit\n:   1.00207465297145\n$df\n:   26\n$residual.scale\n:   2.56407708140082\n\n\n",
            "text/html": [
              "<dl>\n",
              "\t<dt>$fit</dt>\n",
              "\t\t<dd><table class=\"dataframe\">\n",
              "<caption>A matrix: 1 × 3 of type dbl</caption>\n",
              "<thead>\n",
              "\t<tr><th></th><th scope=col>fit</th><th scope=col>lwr</th><th scope=col>upr</th></tr>\n",
              "</thead>\n",
              "<tbody>\n",
              "\t<tr><th scope=row>1</th><td>22.03295</td><td>19.97316</td><td>24.09275</td></tr>\n",
              "</tbody>\n",
              "</table>\n",
              "</dd>\n",
              "\t<dt>$se.fit</dt>\n",
              "\t\t<dd>1.00207465297145</dd>\n",
              "\t<dt>$df</dt>\n",
              "\t\t<dd>26</dd>\n",
              "\t<dt>$residual.scale</dt>\n",
              "\t\t<dd>2.56407708140082</dd>\n",
              "</dl>\n"
            ]
          },
          "metadata": {}
        }
      ]
    },
    {
      "cell_type": "markdown",
      "metadata": {
        "id": "izpSfMNI08cw"
      },
      "source": [
        "Likewise, using the argument interval = \"predict\" in the predict() function will return the 95% Prediction Interval for this prediction."
      ]
    },
    {
      "cell_type": "code",
      "metadata": {
        "colab": {
          "base_uri": "https://localhost:8080/",
          "height": 98
        },
        "id": "lXHKgPyi7JGs",
        "outputId": "38c535ac-b520-44a0-8e03-90ddbd8d41aa"
      },
      "source": [
        "predict(Wendys_Model,newdata = NewFoodItem, interval = \"predict\")"
      ],
      "execution_count": 21,
      "outputs": [
        {
          "output_type": "display_data",
          "data": {
            "text/plain": [
              "  fit      lwr      upr     \n",
              "1 22.03295 16.37422 27.69169"
            ],
            "text/latex": "A matrix: 1 × 3 of type dbl\n\\begin{tabular}{r|lll}\n  & fit & lwr & upr\\\\\n\\hline\n\t1 & 22.03295 & 16.37422 & 27.69169\\\\\n\\end{tabular}\n",
            "text/markdown": "\nA matrix: 1 × 3 of type dbl\n\n| <!--/--> | fit | lwr | upr |\n|---|---|---|---|\n| 1 | 22.03295 | 16.37422 | 27.69169 |\n\n",
            "text/html": [
              "<table class=\"dataframe\">\n",
              "<caption>A matrix: 1 × 3 of type dbl</caption>\n",
              "<thead>\n",
              "\t<tr><th></th><th scope=col>fit</th><th scope=col>lwr</th><th scope=col>upr</th></tr>\n",
              "</thead>\n",
              "<tbody>\n",
              "\t<tr><th scope=row>1</th><td>22.03295</td><td>16.37422</td><td>27.69169</td></tr>\n",
              "</tbody>\n",
              "</table>\n"
            ]
          },
          "metadata": {}
        }
      ]
    },
    {
      "cell_type": "markdown",
      "metadata": {
        "id": "Bh6Qji4I7K3F"
      },
      "source": [
        "## Matrix Algebra for Fitting Models"
      ]
    },
    {
      "cell_type": "markdown",
      "metadata": {
        "id": "Hxqd85t07PEU"
      },
      "source": [
        "The first step is to setup the $\\bf{X}$ matrix."
      ]
    },
    {
      "cell_type": "code",
      "metadata": {
        "colab": {
          "base_uri": "https://localhost:8080/",
          "height": 35
        },
        "id": "8ts7P1fj7PLv",
        "outputId": "fb372d70-56bf-4352-eb91-d2eff26d51e9"
      },
      "source": [
        "dim(Wendys)"
      ],
      "execution_count": 22,
      "outputs": [
        {
          "output_type": "display_data",
          "data": {
            "text/plain": [
              "[1] 28  4"
            ],
            "text/latex": "\\begin{enumerate*}\n\\item 28\n\\item 4\n\\end{enumerate*}\n",
            "text/markdown": "1. 28\n2. 4\n\n\n",
            "text/html": [
              "<style>\n",
              ".list-inline {list-style: none; margin:0; padding: 0}\n",
              ".list-inline>li {display: inline-block}\n",
              ".list-inline>li:not(:last-child)::after {content: \"\\00b7\"; padding: 0 .5ex}\n",
              "</style>\n",
              "<ol class=list-inline><li>28</li><li>4</li></ol>\n"
            ]
          },
          "metadata": {}
        }
      ]
    },
    {
      "cell_type": "code",
      "metadata": {
        "colab": {
          "base_uri": "https://localhost:8080/"
        },
        "id": "zqxGh3io7cMG",
        "outputId": "e5725337-8693-4232-d8bf-5e92497d1633"
      },
      "source": [
        "#@title Setting up the X matrix\n",
        "x0 <- rep(1,28)\n",
        "x1 <- Wendys$Calories\n",
        "\n",
        "#Create the matrix\n",
        "X <- cbind(x0,x1)\n",
        "\n",
        "#Print the X matrix\n",
        "print(X)"
      ],
      "execution_count": 27,
      "outputs": [
        {
          "output_type": "stream",
          "name": "stdout",
          "text": [
            "      x0   x1\n",
            " [1,]  1  580\n",
            " [2,]  1  800\n",
            " [3,]  1 1060\n",
            " [4,]  1  470\n",
            " [5,]  1  740\n",
            " [6,]  1  970\n",
            " [7,]  1  660\n",
            " [8,]  1  700\n",
            " [9,]  1  400\n",
            "[10,]  1  350\n",
            "[11,]  1  250\n",
            "[12,]  1  220\n",
            "[13,]  1  450\n",
            "[14,]  1  260\n",
            "[15,]  1  430\n",
            "[16,]  1  340\n",
            "[17,]  1  380\n",
            "[18,]  1  560\n",
            "[19,]  1  530\n",
            "[20,]  1  340\n",
            "[21,]  1  570\n",
            "[22,]  1  440\n",
            "[23,]  1  770\n",
            "[24,]  1  210\n",
            "[25,]  1  470\n",
            "[26,]  1  580\n",
            "[27,]  1  320\n",
            "[28,]  1  210\n"
          ]
        }
      ]
    },
    {
      "cell_type": "markdown",
      "metadata": {
        "id": "9b7d6fM48cLd"
      },
      "source": [
        "Next, obtain a vector, say $\\bf{y}$, for the response."
      ]
    },
    {
      "cell_type": "code",
      "metadata": {
        "colab": {
          "base_uri": "https://localhost:8080/"
        },
        "id": "fXcReZDb8cS2",
        "outputId": "52498c3f-98d2-40ef-b59c-b726ba9c8701"
      },
      "source": [
        "y <- Wendys$SaturatedFat\n",
        "\n",
        "#Print the response vector\n",
        "print(y)"
      ],
      "execution_count": 29,
      "outputs": [
        {
          "output_type": "stream",
          "name": "stdout",
          "text": [
            " [1] 14.0 21.0 30.0 10.0 12.0 27.0 17.0 18.0  9.0  7.0  4.0  3.0  6.0  3.5  7.0\n",
            "[16]  4.5  4.0  6.0  6.0  4.5  8.0  8.0 16.0  2.0  8.0 12.0  2.0  2.5\n"
          ]
        }
      ]
    },
    {
      "cell_type": "markdown",
      "metadata": {
        "id": "asedqzBn-Qwh"
      },
      "source": [
        "## Getting $(\\bf{X^{'}}\\bf{X})^{-1}$"
      ]
    },
    {
      "cell_type": "code",
      "metadata": {
        "colab": {
          "base_uri": "https://localhost:8080/"
        },
        "id": "zFufarqg-Q32",
        "outputId": "7c5b795d-9b1a-4ab6-d27a-6c25cfa0f22a"
      },
      "source": [
        "#@title Getting X'X inverse\n",
        "#First, create XpX\n",
        "XpX <- t(X) %*% X\n",
        "cat(\"XpX:\\n\")\n",
        "print(XpX)\n",
        "\n",
        "#Next, getting its inverse\n",
        "XpXInv <- solve(XpX,diag(2))\n",
        "cat(\"\\n\")\n",
        "cat(\"XpXInv:\\n\")\n",
        "print(XpXInv)"
      ],
      "execution_count": 41,
      "outputs": [
        {
          "output_type": "stream",
          "name": "stdout",
          "text": [
            "XpX:\n",
            "      x0      x1\n",
            "x0    28   14060\n",
            "x1 14060 8412800\n",
            "\n",
            "XpXInv:\n",
            "            [,1]          [,2]\n",
            "x0  0.2221213049 -3.712231e-04\n",
            "x1 -0.0003712231  7.392778e-07\n"
          ]
        }
      ]
    },
    {
      "cell_type": "markdown",
      "metadata": {
        "id": "KyjX0s8H_sQH"
      },
      "source": [
        "## Getting $\\hat{\\bf{\\beta}} = (\\bf{X^{'}}\\bf{X})^{-1} \\bf{X^{'}} \\bf{y}$"
      ]
    },
    {
      "cell_type": "code",
      "metadata": {
        "colab": {
          "base_uri": "https://localhost:8080/"
        },
        "id": "Oc3n7FGB_sXm",
        "outputId": "fbd42e4f-9e33-4e87-c7df-a2f84702954a"
      },
      "source": [
        "#@title Getting the estimated model parameters\n",
        "BetaHat<- XpXInv %*% t(X) %*% y\n",
        "cat(\"Betahat:\\n\")\n",
        "print(BetaHat)"
      ],
      "execution_count": 44,
      "outputs": [
        {
          "output_type": "stream",
          "name": "stdout",
          "text": [
            "Betahat:\n",
            "          [,1]\n",
            "x0 -5.83333245\n",
            "x1  0.03096254\n"
          ]
        }
      ]
    },
    {
      "cell_type": "markdown",
      "metadata": {
        "id": "8HL5DahwCCDK"
      },
      "source": [
        "## Predicted Values and Residuals"
      ]
    },
    {
      "cell_type": "code",
      "metadata": {
        "colab": {
          "base_uri": "https://localhost:8080/"
        },
        "id": "19uaM6emCCKJ",
        "outputId": "67fac1cd-6146-4892-eaad-5d80ba4026ec"
      },
      "source": [
        "#@title Getting the predicted values\n",
        "yPredicted <- X %*% BetaHat\n",
        "print(round(yPredicted,2))"
      ],
      "execution_count": 50,
      "outputs": [
        {
          "output_type": "stream",
          "name": "stdout",
          "text": [
            "       [,1]\n",
            " [1,] 12.12\n",
            " [2,] 18.94\n",
            " [3,] 26.99\n",
            " [4,]  8.72\n",
            " [5,] 17.08\n",
            " [6,] 24.20\n",
            " [7,] 14.60\n",
            " [8,] 15.84\n",
            " [9,]  6.55\n",
            "[10,]  5.00\n",
            "[11,]  1.91\n",
            "[12,]  0.98\n",
            "[13,]  8.10\n",
            "[14,]  2.22\n",
            "[15,]  7.48\n",
            "[16,]  4.69\n",
            "[17,]  5.93\n",
            "[18,] 11.51\n",
            "[19,] 10.58\n",
            "[20,]  4.69\n",
            "[21,] 11.82\n",
            "[22,]  7.79\n",
            "[23,] 18.01\n",
            "[24,]  0.67\n",
            "[25,]  8.72\n",
            "[26,] 12.12\n",
            "[27,]  4.07\n",
            "[28,]  0.67\n"
          ]
        }
      ]
    },
    {
      "cell_type": "code",
      "metadata": {
        "colab": {
          "base_uri": "https://localhost:8080/"
        },
        "id": "oO9A9dpoC1DY",
        "outputId": "2e890795-8bab-42a0-e547-d62958a924ec"
      },
      "source": [
        "Residuals <- (y - yPredicted)\n",
        "print(round(Residuals,2))"
      ],
      "execution_count": 52,
      "outputs": [
        {
          "output_type": "stream",
          "name": "stdout",
          "text": [
            "       [,1]\n",
            " [1,]  1.88\n",
            " [2,]  2.06\n",
            " [3,]  3.01\n",
            " [4,]  1.28\n",
            " [5,] -5.08\n",
            " [6,]  2.80\n",
            " [7,]  2.40\n",
            " [8,]  2.16\n",
            " [9,]  2.45\n",
            "[10,]  2.00\n",
            "[11,]  2.09\n",
            "[12,]  2.02\n",
            "[13,] -2.10\n",
            "[14,]  1.28\n",
            "[15,] -0.48\n",
            "[16,] -0.19\n",
            "[17,] -1.93\n",
            "[18,] -5.51\n",
            "[19,] -4.58\n",
            "[20,] -0.19\n",
            "[21,] -3.82\n",
            "[22,]  0.21\n",
            "[23,] -2.01\n",
            "[24,]  1.33\n",
            "[25,] -0.72\n",
            "[26,] -0.12\n",
            "[27,] -2.07\n",
            "[28,]  1.83\n"
          ]
        }
      ]
    },
    {
      "cell_type": "markdown",
      "metadata": {
        "id": "MF-MB64mDa8a"
      },
      "source": [
        "## Getting $\\hat{\\sigma}^2$"
      ]
    },
    {
      "cell_type": "markdown",
      "metadata": {
        "id": "PFnLeUMcGWMR"
      },
      "source": [
        "The Sum-of-Squared Residuals can easily be obtained using $(\\bf{r^{'}}\\bf{r})$.  Dividing this by $(n-2)$ yields $\\hat{\\sigma}^{2} = \\mbox{Mean-Squared Error}$"
      ]
    },
    {
      "cell_type": "code",
      "metadata": {
        "colab": {
          "base_uri": "https://localhost:8080/"
        },
        "id": "is-l1SyBGWT5",
        "outputId": "407ff28f-042e-403a-bc1b-62ea73f56882"
      },
      "source": [
        "#@title Getting the variance in the conditional distribution\n",
        "SigmaHatSquared <- t(Residuals)%*%Residuals / (28-2)\n",
        "cat(\"SigmaHat-Squared\\n\")\n",
        "print(SigmaHat)"
      ],
      "execution_count": 57,
      "outputs": [
        {
          "output_type": "stream",
          "name": "stdout",
          "text": [
            "SigmaHat-Squared\n",
            "         [,1]\n",
            "[1,] 6.574491\n"
          ]
        }
      ]
    },
    {
      "cell_type": "markdown",
      "metadata": {
        "id": "vhm8dWo9IQOL"
      },
      "source": [
        "## Getting $Var(\\hat{\\beta})$"
      ]
    },
    {
      "cell_type": "code",
      "metadata": {
        "colab": {
          "base_uri": "https://localhost:8080/"
        },
        "id": "S9D59b-pIQYy",
        "outputId": "f580b7c9-3057-4c97-8e29-8fc9f864961a"
      },
      "source": [
        "#@title Variance/Covariance of BetaHat\n",
        "Var_BetaHat <- 6.57 * XpXInv\n",
        "cat(\"Var(BetaHat): \\n\")\n",
        "print(Var_BetaHat)"
      ],
      "execution_count": 61,
      "outputs": [
        {
          "output_type": "stream",
          "name": "stdout",
          "text": [
            "Var(BetaHat): \n",
            "           [,1]          [,2]\n",
            "x0  1.459336973 -2.438936e-03\n",
            "x1 -0.002438936  4.857055e-06\n"
          ]
        }
      ]
    },
    {
      "cell_type": "markdown",
      "metadata": {
        "id": "q7U3s0ZQMfs4"
      },
      "source": [
        "## The 95% Joint Confidence Region for Model Parameters for SLR"
      ]
    },
    {
      "cell_type": "code",
      "metadata": {
        "colab": {
          "base_uri": "https://localhost:8080/",
          "height": 437
        },
        "id": "7qO_L75NJrza",
        "outputId": "607aa8f7-4d0f-48e7-a382-2acd647f2953"
      },
      "source": [
        "#@title Obtainign the 95% Confidence Ellipsoid for the Estimated Model Parameters\n",
        "\n",
        "#Only need to install and load the ellipse library once\n",
        "#install.packages(\"ellipse\")\n",
        "#library(ellipse)\n",
        "joint_ci<-as.data.frame(ellipse(Wendys_Model))\n",
        "\n",
        "#Graphing the ellipsoid \n",
        "ggplot(joint_ci, mapping=aes(x=`(Intercept)`,y=Calories)) +\n",
        "geom_polygon(fill=\"darkgreen\") +\n",
        "theme_classic()\n"
      ],
      "execution_count": 67,
      "outputs": [
        {
          "output_type": "display_data",
          "data": {
            "image/png": "[encoded data removed]",
            "text/plain": [
              "plot without title"
            ]
          },
          "metadata": {
            "image/png": {
              "width": 420,
              "height": 420
            }
          }
        }
      ]
    },
    {
      "cell_type": "markdown",
      "metadata": {
        "id": "3nEATf4EM2GQ"
      },
      "source": [
        "## Visualization of $R^2$"
      ]
    },
    {
      "cell_type": "markdown",
      "metadata": {
        "id": "6ceVNQx6M5dG"
      },
      "source": [
        ""
      ]
    },
    {
      "cell_type": "code",
      "metadata": {
        "colab": {
          "base_uri": "https://localhost:8080/",
          "height": 437
        },
        "id": "VwWKp9R6M5jX",
        "outputId": "05c62348-42e2-456a-b0fb-3f5da40e12ad"
      },
      "source": [
        "Wendys_withPredicted <- ( Wendys\n",
        "                              %>% mutate(\n",
        "                                          yPredicted = Wendys_Model$fitted.values,\n",
        "                                          Residuals = Wendys_Model$residuals\n",
        "                                         )\n",
        "                          )\n",
        "# Creating a visualization of R^2\n",
        "ggplot(Wendys_withPredicted, aes(x=SaturatedFat, y=yPredicted)) +\n",
        "    geom_point() +\n",
        "    geom_abline(intercept = 0, slope = 1) +  #adds y=x line, i.e. line of agreement\n",
        "    theme_bw()"
      ],
      "execution_count": 73,
      "outputs": [
        {
          "output_type": "display_data",
          "data": {
            "image/png": "[encoded data removed]",
            "text/plain": [
              "plot without title"
            ]
          },
          "metadata": {
            "image/png": {
              "width": 420,
              "height": 420
            }
          }
        }
      ]
    },
    {
      "cell_type": "code",
      "metadata": {
        "colab": {
          "base_uri": "https://localhost:8080/",
          "height": 35
        },
        "id": "YtGmLi9oM2MU",
        "outputId": "f2343a40-2dd0-45c8-8849-83eea104d0bf"
      },
      "source": [
        "round( cor(Wendys$SaturatedFat, Wendys_withPredicted$yPredicted)^2 , 4)"
      ],
      "execution_count": 79,
      "outputs": [
        {
          "output_type": "display_data",
          "data": {
            "text/plain": [
              "[1] 0.8835"
            ],
            "text/latex": "0.8835",
            "text/markdown": "0.8835",
            "text/html": [
              "0.8835"
            ]
          },
          "metadata": {}
        }
      ]
    },
    {
      "cell_type": "markdown",
      "metadata": {
        "id": "4IUvHkfPPkVx"
      },
      "source": [
        "## Using Matrix Algebra for a Prediction"
      ]
    },
    {
      "cell_type": "markdown",
      "metadata": {
        "id": "IQjLvxk0YCpC"
      },
      "source": [
        "Getting the predicted value for new food item with Calories = 900. "
      ]
    },
    {
      "cell_type": "code",
      "metadata": {
        "colab": {
          "base_uri": "https://localhost:8080/",
          "height": 133
        },
        "id": "vcJbPiz_Pkdu",
        "outputId": "e7c9956c-7e8f-4729-c566-b95de9a30f03"
      },
      "source": [
        "NewFoodItem <- cbind( x0=c(1) , x1=c(900) )\n",
        "NewFoodItem"
      ],
      "execution_count": 93,
      "outputs": [
        {
          "output_type": "display_data",
          "data": {
            "text/plain": [
              "     x0 x1 \n",
              "[1,] 1  900"
            ],
            "text/latex": "A matrix: 1 × 2 of type dbl\n\\begin{tabular}{ll}\n x0 & x1\\\\\n\\hline\n\t 1 & 900\\\\\n\\end{tabular}\n",
            "text/markdown": "\nA matrix: 1 × 2 of type dbl\n\n| x0 | x1 |\n|---|---|\n| 1 | 900 |\n\n",
            "text/html": [
              "<table class=\"dataframe\">\n",
              "<caption>A matrix: 1 × 2 of type dbl</caption>\n",
              "<thead>\n",
              "\t<tr><th scope=col>x0</th><th scope=col>x1</th></tr>\n",
              "</thead>\n",
              "<tbody>\n",
              "\t<tr><td>1</td><td>900</td></tr>\n",
              "</tbody>\n",
              "</table>\n"
            ]
          },
          "metadata": {}
        }
      ]
    },
    {
      "cell_type": "markdown",
      "metadata": {
        "id": "OJFw7b-5PvNM"
      },
      "source": [
        "Getting the prediction using the following formula. $$\\begin{bmatrix}\n",
        "1&900 \\\\\n",
        "\\end{bmatrix} * \\begin{bmatrix} \\hat{\\beta_{0}} \\\\ \\hat{\\beta}_{1}\\end{bmatrix}$$"
      ]
    },
    {
      "cell_type": "code",
      "metadata": {
        "colab": {
          "base_uri": "https://localhost:8080/",
          "height": 101
        },
        "id": "Ju4RRr-wPvXw",
        "outputId": "c4d0875c-0625-4bae-b97d-7f63a10bc7cd"
      },
      "source": [
        "Prediction_Calories900 <- NewFoodItem %*% BetaHat\n",
        "Prediction_Calories900"
      ],
      "execution_count": 94,
      "outputs": [
        {
          "output_type": "display_data",
          "data": {
            "text/plain": [
              "     [,1]    \n",
              "[1,] 22.03295"
            ],
            "text/latex": "A matrix: 1 × 1 of type dbl\n\\begin{tabular}{l}\n\t 22.03295\\\\\n\\end{tabular}\n",
            "text/markdown": "\nA matrix: 1 × 1 of type dbl\n\n| 22.03295 |\n\n",
            "text/html": [
              "<table class=\"dataframe\">\n",
              "<caption>A matrix: 1 × 1 of type dbl</caption>\n",
              "<tbody>\n",
              "\t<tr><td>22.03295</td></tr>\n",
              "</tbody>\n",
              "</table>\n"
            ]
          },
          "metadata": {}
        }
      ]
    },
    {
      "cell_type": "markdown",
      "metadata": {
        "id": "ib8JbJ1FYn2W"
      },
      "source": [
        "Note:  The variance for a linear comibination of the estimated model parameters is given by \n",
        "\n",
        "$$\n",
        "Var({\\bf{r}} * \\hat{\\bf{\\beta}}) = {\\bf{r}} * Var(\\hat{\\bf{\\beta}})*{\\bf{r}}^{'} \n",
        "$$"
      ]
    },
    {
      "cell_type": "markdown",
      "metadata": {
        "id": "fr5eUFAzaGCc"
      },
      "source": [
        "Using the above result, the variance for a prediction can be computed as"
      ]
    },
    {
      "cell_type": "code",
      "metadata": {
        "colab": {
          "base_uri": "https://localhost:8080/",
          "height": 101
        },
        "id": "kTngBsNQYn_P",
        "outputId": "3098ec99-31c4-4c20-dde4-40e8585a48fa"
      },
      "source": [
        "NewFoodItem %*% Var_BetaHat %*% t(NewFoodItem)"
      ],
      "execution_count": 99,
      "outputs": [
        {
          "output_type": "display_data",
          "data": {
            "text/plain": [
              "     [,1]    \n",
              "[1,] 1.003468"
            ],
            "text/latex": "A matrix: 1 × 1 of type dbl\n\\begin{tabular}{l}\n\t 1.003468\\\\\n\\end{tabular}\n",
            "text/markdown": "\nA matrix: 1 × 1 of type dbl\n\n| 1.003468 |\n\n",
            "text/html": [
              "<table class=\"dataframe\">\n",
              "<caption>A matrix: 1 × 1 of type dbl</caption>\n",
              "<tbody>\n",
              "\t<tr><td>1.003468</td></tr>\n",
              "</tbody>\n",
              "</table>\n"
            ]
          },
          "metadata": {}
        }
      ]
    },
    {
      "cell_type": "markdown",
      "metadata": {
        "id": "S0r4qRGCaO8T"
      },
      "source": [
        "The standard deviation for this linear combination of the estimated model parameters is given by the following quantity."
      ]
    },
    {
      "cell_type": "code",
      "metadata": {
        "colab": {
          "base_uri": "https://localhost:8080/",
          "height": 118
        },
        "id": "f5aP7PrcaPD9",
        "outputId": "7d9370e3-711b-49e0-e915-3633f9182fc1"
      },
      "source": [
        "round( sqrt( NewFoodItem %*% Var_BetaHat %*% t(NewFoodItem) ) , 3)"
      ],
      "execution_count": 111,
      "outputs": [
        {
          "output_type": "display_data",
          "data": {
            "text/plain": [
              "     [,1] \n",
              "[1,] 1.002"
            ],
            "text/latex": "A matrix: 1 × 1 of type dbl\n\\begin{tabular}{l}\n\t 1.002\\\\\n\\end{tabular}\n",
            "text/markdown": "\nA matrix: 1 × 1 of type dbl\n\n| 1.002 |\n\n",
            "text/html": [
              "<table class=\"dataframe\">\n",
              "<caption>A matrix: 1 × 1 of type dbl</caption>\n",
              "<tbody>\n",
              "\t<tr><td>1.002</td></tr>\n",
              "</tbody>\n",
              "</table>\n"
            ]
          },
          "metadata": {}
        }
      ]
    },
    {
      "cell_type": "markdown",
      "metadata": {
        "id": "SbhWK6xAaiMl"
      },
      "source": [
        "The 95% Confidence Interval for this prediction is given by the following code."
      ]
    },
    {
      "cell_type": "code",
      "metadata": {
        "colab": {
          "base_uri": "https://localhost:8080/"
        },
        "id": "tGFXqQ0QaiUY",
        "outputId": "85634e48-5176-4d5d-987f-b254d25d81d6"
      },
      "source": [
        "LowerCI <- 22.03295 - qt(0.975,df=26) * sqrt(1.003468)\n",
        "UpperCI <- 22.03295 + qt(0.975,df=26) * sqrt(1.003468)\n",
        "\n",
        "cat(\"The 95% CI is for this prediction is\",round(LowerCI,2), \"up to\",round(UpperCI,2),\".\\n\")"
      ],
      "execution_count": 109,
      "outputs": [
        {
          "output_type": "stream",
          "name": "stdout",
          "text": [
            "The 95% CI is for this prediction is 19.97 up to 24.09 .\n"
          ]
        }
      ]
    },
    {
      "cell_type": "markdown",
      "metadata": {
        "id": "NabmklvjbhgN"
      },
      "source": [
        "The 95% Prediction Interval for this prediction is given by the following code."
      ]
    },
    {
      "cell_type": "code",
      "metadata": {
        "colab": {
          "base_uri": "https://localhost:8080/"
        },
        "id": "UwcZDfBlbhnd",
        "outputId": "1b6917ae-4664-435d-b893-c3c57dbdfe3b"
      },
      "source": [
        "LowerPI <- 22.03295 - qt(0.975,df=26) * sqrt(1.003468 + 6.574)\n",
        "UpperPI <- 22.03295 + qt(0.975,df=26) * sqrt(1.003468 + 6.574)\n",
        "\n",
        "cat(\"The 95% PI is for this prediction is\",round(LowerPI,2), \"up to\",round(UpperPI,2),\".\\n\")"
      ],
      "execution_count": 110,
      "outputs": [
        {
          "output_type": "stream",
          "name": "stdout",
          "text": [
            "The 95% PI is for this prediction is 16.37 up to 27.69 .\n"
          ]
        }
      ]
    },
    {
      "cell_type": "markdown",
      "metadata": {
        "id": "9kkg1lL30Rfw"
      },
      "source": [
        "End of Document"
      ]
    }
  ]
}