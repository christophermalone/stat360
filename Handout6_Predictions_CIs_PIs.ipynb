{
  "nbformat": 4,
  "nbformat_minor": 0,
  "metadata": {
    "colab": {
      "name": "Handout6_Predictions_CIs_PIs.ipynb",
      "provenance": [],
      "collapsed_sections": [],
      "authorship_tag": "ABX9TyNA03MkycD2S440SYKupoKb",
      "include_colab_link": true
    },
    "kernelspec": {
      "display_name": "R",
      "name": "ir"
    }
  },
  "cells": [
    {
      "cell_type": "markdown",
      "metadata": {
        "id": "view-in-github",
        "colab_type": "text"
      },
      "source": [
        "<a href=\"https://colab.research.google.com/github/christophermalone/stat360/blob/main/Handout6_Predictions_CIs_PIs.ipynb\" target=\"_parent\"><img src=\"https://colab.research.google.com/assets/colab-badge.svg\" alt=\"Open In Colab\"/></a>"
      ]
    },
    {
      "cell_type": "markdown",
      "metadata": {
        "id": "KhClO9b02SXA"
      },
      "source": [
        "# Handout #6 : Simple Linear Regression - Predictions, Confidence Intervals, and Prediction Intervals\n"
      ]
    },
    {
      "cell_type": "markdown",
      "metadata": {
        "id": "AXDYLbzK2o7e"
      },
      "source": [
        "<table width='100%' ><tr><td bgcolor='green'></td></tr></table>\n",
        "\n",
        "## Find Cars Dataset\n",
        "\n",
        "Consider the following data collected from the FindCars.com website.  Findcars provides information on cars for sale in our geographic region.  \n",
        "<table>\n",
        "  <tr>\n",
        "    <td width='50%'>\n",
        "      <ul>\n",
        "        <li><strong>Response Variable</strong>: Price ($)</li><br>\n",
        "        <li>Variables under investigation (i.e. independent variables)</li>\n",
        "        <ul>\n",
        "          <li>CarType, e.g. car, pickup, suv, etc.</li>\n",
        "          <li>Miles</li>\n",
        "         </ul>\n",
        "    </ul>\n",
        "    </td>\n",
        "    <td width='50%'>\n",
        "    <p align='center'><img src=\"https://drive.google.com/uc?export=view&id=14154g-4S0k9eGsqD8xlEmGahpyX79dH2\" width=\"50%\" height=\"50%\"></img></p>\n",
        "      \n",
        "  </td>\n",
        "</tr>\n",
        "</table>\n",
        "\n",
        "Data Folder: [OneDrive](https://mnscu-my.sharepoint.com/:f:/g/personal/aq7839yd_minnstate_edu/EmOQfrwxzzRBqq8PH_8qTmMBy-1qKgM11Hb8vzjs025EEA?e=wyShYs)\n",
        "\n",
        "\n",
        "\n",
        "<table width='100%' ><tr><td bgcolor='green'></td></tr></table>\n",
        "\n"
      ]
    },
    {
      "cell_type": "markdown",
      "metadata": {
        "id": "njXGRUIC9Lgs"
      },
      "source": [
        "## Load Data into R via URL"
      ]
    },
    {
      "cell_type": "markdown",
      "metadata": {
        "id": "FoT1NFX3DncH"
      },
      "source": [
        "The tidyverse R package will be used to assist with reading in the dataset into the current R session."
      ]
    },
    {
      "cell_type": "code",
      "metadata": {
        "cellView": "form",
        "id": "LgaibuX_DtWK"
      },
      "source": [
        "#@title Load Tidyverse\n",
        "#load tidyverse package\n",
        "library(tidyverse)"
      ],
      "execution_count": null,
      "outputs": []
    },
    {
      "cell_type": "markdown",
      "metadata": {
        "id": "DPqIPen9D5T3"
      },
      "source": [
        "The **read_csv()** function is used to read in the dataset. "
      ]
    },
    {
      "cell_type": "code",
      "metadata": {
        "colab": {
          "base_uri": "https://localhost:8080/"
        },
        "id": "e07lUbQ1F1cV",
        "outputId": "801245e3-85d9-4513-cfb4-38b79928459c"
      },
      "source": [
        "#@title Read in Data\n",
        "\n",
        "# Reading data in using read.csv via Base \n",
        "FindCars <- read_csv(\"http://www.StatsClass.org/stat360/Datasets/FindCars.csv\")"
      ],
      "execution_count": null,
      "outputs": [
        {
          "name": "stderr",
          "output_type": "stream",
          "text": [
            "\u001b[1m\u001b[1mRows: \u001b[1m\u001b[22m\u001b[34m\u001b[34m8037\u001b[34m\u001b[39m \u001b[1m\u001b[1mColumns: \u001b[1m\u001b[22m\u001b[34m\u001b[34m15\u001b[34m\u001b[39m\n",
            "\n",
            "\u001b[36m──\u001b[39m \u001b[1m\u001b[1mColumn specification\u001b[1m\u001b[22m \u001b[36m────────────────────────────────────────────────────────\u001b[39m\n",
            "\u001b[1mDelimiter:\u001b[22m \",\"\n",
            "\u001b[31mchr\u001b[39m (12): Description, Make, Call For Price, CarType, ForeignBased, Engine, ...\n",
            "\u001b[32mdbl\u001b[39m  (3): Year, Price, Miles\n",
            "\n",
            "\n",
            "\u001b[36mℹ\u001b[39m Use \u001b[30m\u001b[47m\u001b[30m\u001b[47m`spec()`\u001b[47m\u001b[30m\u001b[49m\u001b[39m to retrieve the full column specification for this data.\n",
            "\u001b[36mℹ\u001b[39m Specify the column types or set \u001b[30m\u001b[47m\u001b[30m\u001b[47m`show_col_types = FALSE`\u001b[47m\u001b[30m\u001b[49m\u001b[39m to quiet this message.\n",
            "\n"
          ]
        }
      ]
    },
    {
      "cell_type": "markdown",
      "metadata": {
        "id": "irbG4lJbENzv"
      },
      "source": [
        "The **head()** function can be used to see the first few lines of the dataset."
      ]
    },
    {
      "cell_type": "code",
      "metadata": {
        "colab": {
          "base_uri": "https://localhost:8080/",
          "height": 286
        },
        "id": "HYKWH2i0EN6s",
        "outputId": "25f336fe-fafb-4890-a7c2-22f92efc22f9"
      },
      "source": [
        "#@title View the first few rows of data\n",
        "head(FindCars)"
      ],
      "execution_count": null,
      "outputs": [
        {
          "data": {
            "text/html": [
              "<table class=\"dataframe\">\n",
              "<caption>A tibble: 6 × 15</caption>\n",
              "<thead>\n",
              "\t<tr><th scope=col>Description</th><th scope=col>Year</th><th scope=col>Make</th><th scope=col>Price</th><th scope=col>Call For Price</th><th scope=col>Miles</th><th scope=col>CarType</th><th scope=col>ForeignBased</th><th scope=col>Engine</th><th scope=col>DriveTrain</th><th scope=col>ExactColor</th><th scope=col>Color</th><th scope=col>Dealer</th><th scope=col>Location</th><th scope=col>Sold</th></tr>\n",
              "\t<tr><th scope=col>&lt;chr&gt;</th><th scope=col>&lt;dbl&gt;</th><th scope=col>&lt;chr&gt;</th><th scope=col>&lt;dbl&gt;</th><th scope=col>&lt;chr&gt;</th><th scope=col>&lt;dbl&gt;</th><th scope=col>&lt;chr&gt;</th><th scope=col>&lt;chr&gt;</th><th scope=col>&lt;chr&gt;</th><th scope=col>&lt;chr&gt;</th><th scope=col>&lt;chr&gt;</th><th scope=col>&lt;chr&gt;</th><th scope=col>&lt;chr&gt;</th><th scope=col>&lt;chr&gt;</th><th scope=col>&lt;chr&gt;</th></tr>\n",
              "</thead>\n",
              "<tbody>\n",
              "\t<tr><td>2010 Acura TL SH-AWD W/TECH W/HPT</td><td>2010</td><td>Acura</td><td> 9995</td><td>No </td><td>151126</td><td>Car</td><td>Yes</td><td>3.5L V6 SOHC 24V</td><td>Auto  4WD/AWD</td><td>Black                 </td><td>Black</td><td>Eagle Motors WI      </td><td>Onalaska, WI </td><td>No</td></tr>\n",
              "\t<tr><td>2019 Acura TLX SH-AWD            </td><td>2019</td><td>Acura</td><td>35579</td><td>No </td><td> 37506</td><td>Car</td><td>Yes</td><td>3.5L V6 SOHC 24V</td><td>Auto  4WD/AWD</td><td>White                 </td><td>White</td><td>Tom Kadlec Honda     </td><td>Rochester, MN</td><td>No</td></tr>\n",
              "\t<tr><td>2019 Acura TLX A-Spec            </td><td>2019</td><td>Acura</td><td>   NA</td><td>Yes</td><td>  9707</td><td>Car</td><td>Yes</td><td>3.5L V6 SOHC 24V</td><td>Auto  FWD    </td><td>White                 </td><td>White</td><td>Shakopee Chevrolet   </td><td>Shakopee, MN </td><td>No</td></tr>\n",
              "\t<tr><td>2010 Acura TSX                   </td><td>2010</td><td>Acura</td><td> 6500</td><td>No </td><td>165000</td><td>Car</td><td>Yes</td><td>2.4L L4 DOHC 16V</td><td>Auto  FWD    </td><td>Gray                  </td><td>Gray </td><td>Midway Auto Sales    </td><td>Rochester, MN</td><td>No</td></tr>\n",
              "\t<tr><td>2020 Audi A3 S line Premium 45 TF</td><td>2020</td><td>Audi </td><td>38940</td><td>No </td><td>     0</td><td>Car</td><td>Yes</td><td>2.0L L4 DOHC 16V</td><td>Auto  4WD/AWD</td><td>Mythos Blk Met        </td><td>NA   </td><td>Park Place Motor Cars</td><td>Rochester, MN</td><td>No</td></tr>\n",
              "\t<tr><td>2021 Audi A4 Premium             </td><td>2021</td><td>Audi </td><td>43805</td><td>No </td><td>     0</td><td>Car</td><td>Yes</td><td>4 2.0 L         </td><td>Auto         </td><td>Glacier White Metallic</td><td>White</td><td>Park Place Motor Cars</td><td>Rochester, MN</td><td>No</td></tr>\n",
              "</tbody>\n",
              "</table>\n"
            ],
            "text/latex": "A tibble: 6 × 15\n\\begin{tabular}{lllllllllllllll}\n Description & Year & Make & Price & Call For Price & Miles & CarType & ForeignBased & Engine & DriveTrain & ExactColor & Color & Dealer & Location & Sold\\\\\n <chr> & <dbl> & <chr> & <dbl> & <chr> & <dbl> & <chr> & <chr> & <chr> & <chr> & <chr> & <chr> & <chr> & <chr> & <chr>\\\\\n\\hline\n\t 2010 Acura TL SH-AWD W/TECH W/HPT & 2010 & Acura &  9995 & No  & 151126 & Car & Yes & 3.5L V6 SOHC 24V & Auto  4WD/AWD & Black                  & Black & Eagle Motors WI       & Onalaska, WI  & No\\\\\n\t 2019 Acura TLX SH-AWD             & 2019 & Acura & 35579 & No  &  37506 & Car & Yes & 3.5L V6 SOHC 24V & Auto  4WD/AWD & White                  & White & Tom Kadlec Honda      & Rochester, MN & No\\\\\n\t 2019 Acura TLX A-Spec             & 2019 & Acura &    NA & Yes &   9707 & Car & Yes & 3.5L V6 SOHC 24V & Auto  FWD     & White                  & White & Shakopee Chevrolet    & Shakopee, MN  & No\\\\\n\t 2010 Acura TSX                    & 2010 & Acura &  6500 & No  & 165000 & Car & Yes & 2.4L L4 DOHC 16V & Auto  FWD     & Gray                   & Gray  & Midway Auto Sales     & Rochester, MN & No\\\\\n\t 2020 Audi A3 S line Premium 45 TF & 2020 & Audi  & 38940 & No  &      0 & Car & Yes & 2.0L L4 DOHC 16V & Auto  4WD/AWD & Mythos Blk Met         & NA    & Park Place Motor Cars & Rochester, MN & No\\\\\n\t 2021 Audi A4 Premium              & 2021 & Audi  & 43805 & No  &      0 & Car & Yes & 4 2.0 L          & Auto          & Glacier White Metallic & White & Park Place Motor Cars & Rochester, MN & No\\\\\n\\end{tabular}\n",
            "text/markdown": "\nA tibble: 6 × 15\n\n| Description &lt;chr&gt; | Year &lt;dbl&gt; | Make &lt;chr&gt; | Price &lt;dbl&gt; | Call For Price &lt;chr&gt; | Miles &lt;dbl&gt; | CarType &lt;chr&gt; | ForeignBased &lt;chr&gt; | Engine &lt;chr&gt; | DriveTrain &lt;chr&gt; | ExactColor &lt;chr&gt; | Color &lt;chr&gt; | Dealer &lt;chr&gt; | Location &lt;chr&gt; | Sold &lt;chr&gt; |\n|---|---|---|---|---|---|---|---|---|---|---|---|---|---|---|\n| 2010 Acura TL SH-AWD W/TECH W/HPT | 2010 | Acura |  9995 | No  | 151126 | Car | Yes | 3.5L V6 SOHC 24V | Auto  4WD/AWD | Black                  | Black | Eagle Motors WI       | Onalaska, WI  | No |\n| 2019 Acura TLX SH-AWD             | 2019 | Acura | 35579 | No  |  37506 | Car | Yes | 3.5L V6 SOHC 24V | Auto  4WD/AWD | White                  | White | Tom Kadlec Honda      | Rochester, MN | No |\n| 2019 Acura TLX A-Spec             | 2019 | Acura |    NA | Yes |   9707 | Car | Yes | 3.5L V6 SOHC 24V | Auto  FWD     | White                  | White | Shakopee Chevrolet    | Shakopee, MN  | No |\n| 2010 Acura TSX                    | 2010 | Acura |  6500 | No  | 165000 | Car | Yes | 2.4L L4 DOHC 16V | Auto  FWD     | Gray                   | Gray  | Midway Auto Sales     | Rochester, MN | No |\n| 2020 Audi A3 S line Premium 45 TF | 2020 | Audi  | 38940 | No  |      0 | Car | Yes | 2.0L L4 DOHC 16V | Auto  4WD/AWD | Mythos Blk Met         | NA    | Park Place Motor Cars | Rochester, MN | No |\n| 2021 Audi A4 Premium              | 2021 | Audi  | 43805 | No  |      0 | Car | Yes | 4 2.0 L          | Auto          | Glacier White Metallic | White | Park Place Motor Cars | Rochester, MN | No |\n\n",
            "text/plain": [
              "  Description                       Year Make  Price Call For Price Miles \n",
              "1 2010 Acura TL SH-AWD W/TECH W/HPT 2010 Acura  9995 No             151126\n",
              "2 2019 Acura TLX SH-AWD             2019 Acura 35579 No              37506\n",
              "3 2019 Acura TLX A-Spec             2019 Acura    NA Yes              9707\n",
              "4 2010 Acura TSX                    2010 Acura  6500 No             165000\n",
              "5 2020 Audi A3 S line Premium 45 TF 2020 Audi  38940 No                  0\n",
              "6 2021 Audi A4 Premium              2021 Audi  43805 No                  0\n",
              "  CarType ForeignBased Engine           DriveTrain    ExactColor            \n",
              "1 Car     Yes          3.5L V6 SOHC 24V Auto  4WD/AWD Black                 \n",
              "2 Car     Yes          3.5L V6 SOHC 24V Auto  4WD/AWD White                 \n",
              "3 Car     Yes          3.5L V6 SOHC 24V Auto  FWD     White                 \n",
              "4 Car     Yes          2.4L L4 DOHC 16V Auto  FWD     Gray                  \n",
              "5 Car     Yes          2.0L L4 DOHC 16V Auto  4WD/AWD Mythos Blk Met        \n",
              "6 Car     Yes          4 2.0 L          Auto          Glacier White Metallic\n",
              "  Color Dealer                Location      Sold\n",
              "1 Black Eagle Motors WI       Onalaska, WI  No  \n",
              "2 White Tom Kadlec Honda      Rochester, MN No  \n",
              "3 White Shakopee Chevrolet    Shakopee, MN  No  \n",
              "4 Gray  Midway Auto Sales     Rochester, MN No  \n",
              "5 NA    Park Place Motor Cars Rochester, MN No  \n",
              "6 White Park Place Motor Cars Rochester, MN No  "
            ]
          },
          "metadata": {},
          "output_type": "display_data"
        }
      ]
    },
    {
      "cell_type": "code",
      "metadata": {
        "id": "Rsz6f1HwpBJc"
      },
      "source": [
        "FindCars_CarsOnly <- (FindCars\n",
        "  %>% filter(CarType == \"Car\" & Miles > 25000 & Miles < 100000)\n",
        ")"
      ],
      "execution_count": null,
      "outputs": []
    },
    {
      "cell_type": "markdown",
      "metadata": {
        "id": "y3ugjp0GpT-O"
      },
      "source": [
        ""
      ]
    },
    {
      "cell_type": "code",
      "metadata": {
        "colab": {
          "base_uri": "https://localhost:8080/",
          "height": 286
        },
        "id": "4B3P2yG3pUcR",
        "outputId": "70e2cd61-eedc-4c4e-80d0-c31645b9ce65"
      },
      "source": [
        "head(FindCars_CarsOnly)"
      ],
      "execution_count": null,
      "outputs": [
        {
          "data": {
            "text/html": [
              "<table class=\"dataframe\">\n",
              "<caption>A tibble: 6 × 15</caption>\n",
              "<thead>\n",
              "\t<tr><th scope=col>Description</th><th scope=col>Year</th><th scope=col>Make</th><th scope=col>Price</th><th scope=col>Call For Price</th><th scope=col>Miles</th><th scope=col>CarType</th><th scope=col>ForeignBased</th><th scope=col>Engine</th><th scope=col>DriveTrain</th><th scope=col>ExactColor</th><th scope=col>Color</th><th scope=col>Dealer</th><th scope=col>Location</th><th scope=col>Sold</th></tr>\n",
              "\t<tr><th scope=col>&lt;chr&gt;</th><th scope=col>&lt;dbl&gt;</th><th scope=col>&lt;chr&gt;</th><th scope=col>&lt;dbl&gt;</th><th scope=col>&lt;chr&gt;</th><th scope=col>&lt;dbl&gt;</th><th scope=col>&lt;chr&gt;</th><th scope=col>&lt;chr&gt;</th><th scope=col>&lt;chr&gt;</th><th scope=col>&lt;chr&gt;</th><th scope=col>&lt;chr&gt;</th><th scope=col>&lt;chr&gt;</th><th scope=col>&lt;chr&gt;</th><th scope=col>&lt;chr&gt;</th><th scope=col>&lt;chr&gt;</th></tr>\n",
              "</thead>\n",
              "<tbody>\n",
              "\t<tr><td>2010 Acura TL SH-AWD W/TECH W/HPT</td><td>2010</td><td>Acura</td><td> 9995</td><td>No </td><td>151126</td><td>Car</td><td>Yes</td><td>3.5L V6 SOHC 24V      </td><td>Auto  4WD/AWD</td><td>Black               </td><td>Black </td><td>Eagle Motors WI       </td><td>Onalaska, WI </td><td>No</td></tr>\n",
              "\t<tr><td>2019 Acura TLX SH-AWD            </td><td>2019</td><td>Acura</td><td>35579</td><td>No </td><td> 37506</td><td>Car</td><td>Yes</td><td>3.5L V6 SOHC 24V      </td><td>Auto  4WD/AWD</td><td>White               </td><td>White </td><td>Tom Kadlec Honda      </td><td>Rochester, MN</td><td>No</td></tr>\n",
              "\t<tr><td>2019 Acura TLX A-Spec            </td><td>2019</td><td>Acura</td><td>   NA</td><td>Yes</td><td>  9707</td><td>Car</td><td>Yes</td><td>3.5L V6 SOHC 24V      </td><td>Auto  FWD    </td><td>White               </td><td>White </td><td>Shakopee Chevrolet    </td><td>Shakopee, MN </td><td>No</td></tr>\n",
              "\t<tr><td>2010 Acura TSX                   </td><td>2010</td><td>Acura</td><td> 6500</td><td>No </td><td>165000</td><td>Car</td><td>Yes</td><td>2.4L L4 DOHC 16V      </td><td>Auto  FWD    </td><td>Gray                </td><td>Gray  </td><td>Midway Auto Sales     </td><td>Rochester, MN</td><td>No</td></tr>\n",
              "\t<tr><td>2018 Audi A4 Premium Plus        </td><td>2018</td><td>Audi </td><td>30498</td><td>No </td><td> 31949</td><td>Car</td><td>Yes</td><td>2.0L L4 DOHC 16V TU...</td><td>Auto  4WD/AWD</td><td>Matador Red Metallic</td><td>Red   </td><td>Park Place Motor Cars </td><td>Rochester, MN</td><td>No</td></tr>\n",
              "\t<tr><td>2017 Audi A4 2.0T Premium quattro</td><td>2017</td><td>Audi </td><td>22987</td><td>No </td><td> 75410</td><td>Car</td><td>Yes</td><td>2.0L L4 DOHC 16V TU...</td><td>Auto  4WD/AWD</td><td>Silver              </td><td>Silver</td><td>Mercedes Benz of Roc..</td><td>Rochester, MN</td><td>No</td></tr>\n",
              "</tbody>\n",
              "</table>\n"
            ],
            "text/latex": "A tibble: 6 × 15\n\\begin{tabular}{lllllllllllllll}\n Description & Year & Make & Price & Call For Price & Miles & CarType & ForeignBased & Engine & DriveTrain & ExactColor & Color & Dealer & Location & Sold\\\\\n <chr> & <dbl> & <chr> & <dbl> & <chr> & <dbl> & <chr> & <chr> & <chr> & <chr> & <chr> & <chr> & <chr> & <chr> & <chr>\\\\\n\\hline\n\t 2010 Acura TL SH-AWD W/TECH W/HPT & 2010 & Acura &  9995 & No  & 151126 & Car & Yes & 3.5L V6 SOHC 24V       & Auto  4WD/AWD & Black                & Black  & Eagle Motors WI        & Onalaska, WI  & No\\\\\n\t 2019 Acura TLX SH-AWD             & 2019 & Acura & 35579 & No  &  37506 & Car & Yes & 3.5L V6 SOHC 24V       & Auto  4WD/AWD & White                & White  & Tom Kadlec Honda       & Rochester, MN & No\\\\\n\t 2019 Acura TLX A-Spec             & 2019 & Acura &    NA & Yes &   9707 & Car & Yes & 3.5L V6 SOHC 24V       & Auto  FWD     & White                & White  & Shakopee Chevrolet     & Shakopee, MN  & No\\\\\n\t 2010 Acura TSX                    & 2010 & Acura &  6500 & No  & 165000 & Car & Yes & 2.4L L4 DOHC 16V       & Auto  FWD     & Gray                 & Gray   & Midway Auto Sales      & Rochester, MN & No\\\\\n\t 2018 Audi A4 Premium Plus         & 2018 & Audi  & 30498 & No  &  31949 & Car & Yes & 2.0L L4 DOHC 16V TU... & Auto  4WD/AWD & Matador Red Metallic & Red    & Park Place Motor Cars  & Rochester, MN & No\\\\\n\t 2017 Audi A4 2.0T Premium quattro & 2017 & Audi  & 22987 & No  &  75410 & Car & Yes & 2.0L L4 DOHC 16V TU... & Auto  4WD/AWD & Silver               & Silver & Mercedes Benz of Roc.. & Rochester, MN & No\\\\\n\\end{tabular}\n",
            "text/markdown": "\nA tibble: 6 × 15\n\n| Description &lt;chr&gt; | Year &lt;dbl&gt; | Make &lt;chr&gt; | Price &lt;dbl&gt; | Call For Price &lt;chr&gt; | Miles &lt;dbl&gt; | CarType &lt;chr&gt; | ForeignBased &lt;chr&gt; | Engine &lt;chr&gt; | DriveTrain &lt;chr&gt; | ExactColor &lt;chr&gt; | Color &lt;chr&gt; | Dealer &lt;chr&gt; | Location &lt;chr&gt; | Sold &lt;chr&gt; |\n|---|---|---|---|---|---|---|---|---|---|---|---|---|---|---|\n| 2010 Acura TL SH-AWD W/TECH W/HPT | 2010 | Acura |  9995 | No  | 151126 | Car | Yes | 3.5L V6 SOHC 24V       | Auto  4WD/AWD | Black                | Black  | Eagle Motors WI        | Onalaska, WI  | No |\n| 2019 Acura TLX SH-AWD             | 2019 | Acura | 35579 | No  |  37506 | Car | Yes | 3.5L V6 SOHC 24V       | Auto  4WD/AWD | White                | White  | Tom Kadlec Honda       | Rochester, MN | No |\n| 2019 Acura TLX A-Spec             | 2019 | Acura |    NA | Yes |   9707 | Car | Yes | 3.5L V6 SOHC 24V       | Auto  FWD     | White                | White  | Shakopee Chevrolet     | Shakopee, MN  | No |\n| 2010 Acura TSX                    | 2010 | Acura |  6500 | No  | 165000 | Car | Yes | 2.4L L4 DOHC 16V       | Auto  FWD     | Gray                 | Gray   | Midway Auto Sales      | Rochester, MN | No |\n| 2018 Audi A4 Premium Plus         | 2018 | Audi  | 30498 | No  |  31949 | Car | Yes | 2.0L L4 DOHC 16V TU... | Auto  4WD/AWD | Matador Red Metallic | Red    | Park Place Motor Cars  | Rochester, MN | No |\n| 2017 Audi A4 2.0T Premium quattro | 2017 | Audi  | 22987 | No  |  75410 | Car | Yes | 2.0L L4 DOHC 16V TU... | Auto  4WD/AWD | Silver               | Silver | Mercedes Benz of Roc.. | Rochester, MN | No |\n\n",
            "text/plain": [
              "  Description                       Year Make  Price Call For Price Miles \n",
              "1 2010 Acura TL SH-AWD W/TECH W/HPT 2010 Acura  9995 No             151126\n",
              "2 2019 Acura TLX SH-AWD             2019 Acura 35579 No              37506\n",
              "3 2019 Acura TLX A-Spec             2019 Acura    NA Yes              9707\n",
              "4 2010 Acura TSX                    2010 Acura  6500 No             165000\n",
              "5 2018 Audi A4 Premium Plus         2018 Audi  30498 No              31949\n",
              "6 2017 Audi A4 2.0T Premium quattro 2017 Audi  22987 No              75410\n",
              "  CarType ForeignBased Engine                 DriveTrain   \n",
              "1 Car     Yes          3.5L V6 SOHC 24V       Auto  4WD/AWD\n",
              "2 Car     Yes          3.5L V6 SOHC 24V       Auto  4WD/AWD\n",
              "3 Car     Yes          3.5L V6 SOHC 24V       Auto  FWD    \n",
              "4 Car     Yes          2.4L L4 DOHC 16V       Auto  FWD    \n",
              "5 Car     Yes          2.0L L4 DOHC 16V TU... Auto  4WD/AWD\n",
              "6 Car     Yes          2.0L L4 DOHC 16V TU... Auto  4WD/AWD\n",
              "  ExactColor           Color  Dealer                 Location      Sold\n",
              "1 Black                Black  Eagle Motors WI        Onalaska, WI  No  \n",
              "2 White                White  Tom Kadlec Honda       Rochester, MN No  \n",
              "3 White                White  Shakopee Chevrolet     Shakopee, MN  No  \n",
              "4 Gray                 Gray   Midway Auto Sales      Rochester, MN No  \n",
              "5 Matador Red Metallic Red    Park Place Motor Cars  Rochester, MN No  \n",
              "6 Silver               Silver Mercedes Benz of Roc.. Rochester, MN No  "
            ]
          },
          "metadata": {},
          "output_type": "display_data"
        }
      ]
    },
    {
      "cell_type": "markdown",
      "metadata": {
        "id": "Hl__3N1zpkVr"
      },
      "source": [
        ""
      ]
    },
    {
      "cell_type": "code",
      "metadata": {
        "colab": {
          "base_uri": "https://localhost:8080/",
          "height": 35
        },
        "id": "9JUQ0OWKpkch",
        "outputId": "276f8499-62a6-428f-c408-970933b67915"
      },
      "source": [
        "dim(FindCars_CarsOnly)"
      ],
      "execution_count": null,
      "outputs": [
        {
          "data": {
            "text/html": [
              "<style>\n",
              ".list-inline {list-style: none; margin:0; padding: 0}\n",
              ".list-inline>li {display: inline-block}\n",
              ".list-inline>li:not(:last-child)::after {content: \"\\00b7\"; padding: 0 .5ex}\n",
              "</style>\n",
              "<ol class=list-inline><li>568</li><li>15</li></ol>\n"
            ],
            "text/latex": "\\begin{enumerate*}\n\\item 568\n\\item 15\n\\end{enumerate*}\n",
            "text/markdown": "1. 568\n2. 15\n\n\n",
            "text/plain": [
              "[1] 568  15"
            ]
          },
          "metadata": {},
          "output_type": "display_data"
        }
      ]
    },
    {
      "cell_type": "markdown",
      "metadata": {
        "id": "1yzIMikj6S_M"
      },
      "source": [
        "## Simple Linear Regression - Model Setup"
      ]
    },
    {
      "cell_type": "markdown",
      "metadata": {
        "id": "H4diIPrN6YMm"
      },
      "source": [
        "Consider the following setup for the simple linear regression model.\n",
        "\n",
        "<ul>\n",
        "  <li><strong>Response Variable</strong>: CurrentPrice</li>\n",
        "  <li><strong>Independent / Predictor Variable</strong>: SquareFeet</li>\n",
        "  <li><i>Assume</i> the following structure for the <strong>mean</strong> and <strong>variance</strong> functions</li>\n",
        "  </ul>"
      ]
    },
    {
      "cell_type": "markdown",
      "metadata": {
        "id": "X4gdlF3C60d2"
      },
      "source": [
        "<ul><ul>\n",
        "  <li>$E(CurrentPrice | SquareFeet) = \\beta_{0} + \\beta_{1} * SquareFeet$</li>\n",
        "  <li>$Var(CurrentPrice | SquareFeet) = \\sigma^{2}$</li>\n",
        "</ul></ul>"
      ]
    },
    {
      "cell_type": "markdown",
      "metadata": {
        "id": "z_qj1v7q72na"
      },
      "source": [
        "<u>Comments</u>\n",
        "\n",
        "The mean function specified above is called a <strong>simple linear regression model</strong>: \n",
        "\n",
        "*   <strong>Simple</strong> implies a single predictor variable, i.e. SquareFeet\n",
        "*   <strong>Linear</strong> implies the function is linear in its parameters, not in which the predictor variable are used in the model.  For example, the following mean function is a linear regression model because this model is linear in its parameters, but is not a straight line.\n",
        "<br>\n",
        "[Math Stuff]: A linear mean function implies the partial derivative with respect to any parameter is free of all other parameters.\n",
        "*    The above variance function is simply a constant, generically labeled as $\\sigma^2$.\n"
      ]
    },
    {
      "cell_type": "markdown",
      "metadata": {
        "id": "oV94hIr3Edo4"
      },
      "source": [
        "## Simple Linear Regression - Scatterplot"
      ]
    },
    {
      "cell_type": "markdown",
      "metadata": {
        "id": "3mzVUHNu4Cuw"
      },
      "source": [
        "Typically, the first step in doing a simple linear regression analysis is to create a scatterplot of the two variables.  The response variables goes on the y-axis and the independent / predictor variable goes on the x-axis."
      ]
    },
    {
      "cell_type": "code",
      "metadata": {
        "colab": {
          "base_uri": "https://localhost:8080/",
          "height": 507
        },
        "id": "yHLAoooA4C1_",
        "outputId": "892fa666-92eb-46fa-9ea1-30859e732ce7"
      },
      "source": [
        "#@title Scatterplot with simple linear regression line\n",
        "ggplot(data=FindCars_CarsOnly, aes(x=Miles,y=Price)) + \n",
        "  geom_point() +    #adding the points to the plot\n",
        "  geom_smooth(method='lm', formula = y ~ x, se=TRUE) +  #adding a regression line to the plot without the standard error bands \n",
        "  theme_classic()"
      ],
      "execution_count": null,
      "outputs": [
        {
          "name": "stderr",
          "output_type": "stream",
          "text": [
            "Warning message:\n",
            "“Removed 26 rows containing non-finite values (stat_smooth).”\n",
            "Warning message:\n",
            "“Removed 26 rows containing missing values (geom_point).”\n"
          ]
        },
        {
          "data": {
            "image/png": "[encoded data removed]",
            "text/plain": [
              "plot without title"
            ]
          },
          "metadata": {
            "image/png": {
              "height": 420,
              "width": 420
            }
          },
          "output_type": "display_data"
        }
      ]
    },
    {
      "cell_type": "markdown",
      "metadata": {
        "id": "Ur8YR3NjNHjw"
      },
      "source": [
        "## Simple Linear Regression - Fitting the Model"
      ]
    },
    {
      "cell_type": "code",
      "metadata": {
        "id": "7sJchah397NR"
      },
      "source": [
        "#@title Fitting the simple linear regression model\n",
        "CarPrices_Model <- lm(Price ~ Miles, data=FindCars_CarsOnly)"
      ],
      "execution_count": null,
      "outputs": []
    },
    {
      "cell_type": "markdown",
      "metadata": {
        "id": "B-ybKIvR-aOm"
      },
      "source": [
        "The output from model fit is saved into an R object."
      ]
    },
    {
      "cell_type": "code",
      "metadata": {
        "colab": {
          "base_uri": "https://localhost:8080/",
          "height": 139
        },
        "id": "PYKOT-4M_gUy",
        "outputId": "24aca3dc-0890-486e-9955-667f39574964"
      },
      "source": [
        "#@title The model object\n",
        "CarPrices_Model"
      ],
      "execution_count": null,
      "outputs": [
        {
          "data": {
            "text/plain": [
              "\n",
              "Call:\n",
              "lm(formula = Price ~ Miles, data = FindCars_CarsOnly)\n",
              "\n",
              "Coefficients:\n",
              "(Intercept)        Miles  \n",
              " 24845.7833      -0.1047  \n"
            ]
          },
          "metadata": {},
          "output_type": "display_data"
        }
      ]
    },
    {
      "cell_type": "markdown",
      "metadata": {
        "id": "A8wAkWfn_yIV"
      },
      "source": [
        "There are many elements attached to this object.  The names() function will identify the various elements."
      ]
    },
    {
      "cell_type": "code",
      "metadata": {
        "colab": {
          "base_uri": "https://localhost:8080/",
          "height": 35
        },
        "id": "DA1WJcJd_yPi",
        "outputId": "157ed69b-e05c-4261-9581-621f340a73f3"
      },
      "source": [
        "names(WinonaHomePrices_Model)"
      ],
      "execution_count": null,
      "outputs": [
        {
          "data": {
            "text/html": [
              "<style>\n",
              ".list-inline {list-style: none; margin:0; padding: 0}\n",
              ".list-inline>li {display: inline-block}\n",
              ".list-inline>li:not(:last-child)::after {content: \"\\00b7\"; padding: 0 .5ex}\n",
              "</style>\n",
              "<ol class=list-inline><li>'coefficients'</li><li>'residuals'</li><li>'effects'</li><li>'rank'</li><li>'fitted.values'</li><li>'assign'</li><li>'qr'</li><li>'df.residual'</li><li>'xlevels'</li><li>'call'</li><li>'terms'</li><li>'model'</li></ol>\n"
            ],
            "text/latex": "\\begin{enumerate*}\n\\item 'coefficients'\n\\item 'residuals'\n\\item 'effects'\n\\item 'rank'\n\\item 'fitted.values'\n\\item 'assign'\n\\item 'qr'\n\\item 'df.residual'\n\\item 'xlevels'\n\\item 'call'\n\\item 'terms'\n\\item 'model'\n\\end{enumerate*}\n",
            "text/markdown": "1. 'coefficients'\n2. 'residuals'\n3. 'effects'\n4. 'rank'\n5. 'fitted.values'\n6. 'assign'\n7. 'qr'\n8. 'df.residual'\n9. 'xlevels'\n10. 'call'\n11. 'terms'\n12. 'model'\n\n\n",
            "text/plain": [
              " [1] \"coefficients\"  \"residuals\"     \"effects\"       \"rank\"         \n",
              " [5] \"fitted.values\" \"assign\"        \"qr\"            \"df.residual\"  \n",
              " [9] \"xlevels\"       \"call\"          \"terms\"         \"model\"        "
            ]
          },
          "metadata": {},
          "output_type": "display_data"
        }
      ]
    },
    {
      "cell_type": "markdown",
      "metadata": {
        "id": "0XESRAcjAGh7"
      },
      "source": [
        "For example, to obtain the call that was used to build the simple linear regression model, $call can be added to the end of the object name."
      ]
    },
    {
      "cell_type": "code",
      "metadata": {
        "colab": {
          "base_uri": "https://localhost:8080/",
          "height": 35
        },
        "id": "wxnhiDdfAGqs",
        "outputId": "fcd5b897-6103-4fc2-e929-09783f17f9da"
      },
      "source": [
        "CarPrices_Model$call"
      ],
      "execution_count": null,
      "outputs": [
        {
          "data": {
            "text/plain": [
              "lm(formula = CurrentPrice ~ SquareFeet, data = WinonaHomePrices)"
            ]
          },
          "metadata": {},
          "output_type": "display_data"
        }
      ]
    },
    {
      "cell_type": "code",
      "metadata": {
        "colab": {
          "base_uri": "https://localhost:8080/",
          "height": 131
        },
        "id": "YXhobufi-aW5",
        "outputId": "cd5d5317-554b-4fa8-edb3-2777b10e176a"
      },
      "source": [
        "anova(WinonaHomePrices_Model)"
      ],
      "execution_count": null,
      "outputs": [
        {
          "ename": "ERROR",
          "evalue": "ignored",
          "output_type": "error",
          "traceback": [
            "Error in anova(WinonaHomePrices_Model): object 'WinonaHomePrices_Model' not found\nTraceback:\n",
            "1. anova(WinonaHomePrices_Model)"
          ]
        }
      ]
    },
    {
      "cell_type": "markdown",
      "metadata": {
        "id": "PEnan0NT0RrE"
      },
      "source": [
        "Fitting a restricted model, i.e. with just a y-intercept."
      ]
    },
    {
      "cell_type": "code",
      "metadata": {
        "colab": {
          "base_uri": "https://localhost:8080/",
          "height": 192
        },
        "id": "PhwreHypTV87",
        "outputId": "95ad2255-d882-44bf-f02c-afbef331634f"
      },
      "source": [
        "anova(CarPrices_Model)"
      ],
      "execution_count": null,
      "outputs": [
        {
          "data": {
            "text/html": [
              "<table class=\"dataframe\">\n",
              "<caption>A anova: 3 × 5</caption>\n",
              "<thead>\n",
              "\t<tr><th></th><th scope=col>Df</th><th scope=col>Sum Sq</th><th scope=col>Mean Sq</th><th scope=col>F value</th><th scope=col>Pr(&gt;F)</th></tr>\n",
              "\t<tr><th></th><th scope=col>&lt;int&gt;</th><th scope=col>&lt;dbl&gt;</th><th scope=col>&lt;dbl&gt;</th><th scope=col>&lt;dbl&gt;</th><th scope=col>&lt;dbl&gt;</th></tr>\n",
              "</thead>\n",
              "<tbody>\n",
              "\t<tr><th scope=row>Miles</th><td>  1</td><td> 404785665</td><td>404785665</td><td>21.96626</td><td>5.440533e-06</td></tr>\n",
              "\t<tr><th scope=row>Year</th><td>  1</td><td> 226085370</td><td>226085370</td><td>12.26884</td><td>5.802355e-04</td></tr>\n",
              "\t<tr><th scope=row>Residuals</th><td>181</td><td>3335397993</td><td> 18427613</td><td>      NA</td><td>          NA</td></tr>\n",
              "</tbody>\n",
              "</table>\n"
            ],
            "text/latex": "A anova: 3 × 5\n\\begin{tabular}{r|lllll}\n  & Df & Sum Sq & Mean Sq & F value & Pr(>F)\\\\\n  & <int> & <dbl> & <dbl> & <dbl> & <dbl>\\\\\n\\hline\n\tMiles &   1 &  404785665 & 404785665 & 21.96626 & 5.440533e-06\\\\\n\tYear &   1 &  226085370 & 226085370 & 12.26884 & 5.802355e-04\\\\\n\tResiduals & 181 & 3335397993 &  18427613 &       NA &           NA\\\\\n\\end{tabular}\n",
            "text/markdown": "\nA anova: 3 × 5\n\n| <!--/--> | Df &lt;int&gt; | Sum Sq &lt;dbl&gt; | Mean Sq &lt;dbl&gt; | F value &lt;dbl&gt; | Pr(&gt;F) &lt;dbl&gt; |\n|---|---|---|---|---|---|\n| Miles |   1 |  404785665 | 404785665 | 21.96626 | 5.440533e-06 |\n| Year |   1 |  226085370 | 226085370 | 12.26884 | 5.802355e-04 |\n| Residuals | 181 | 3335397993 |  18427613 |       NA |           NA |\n\n",
            "text/plain": [
              "          Df  Sum Sq     Mean Sq   F value  Pr(>F)      \n",
              "Miles       1  404785665 404785665 21.96626 5.440533e-06\n",
              "Year        1  226085370 226085370 12.26884 5.802355e-04\n",
              "Residuals 181 3335397993  18427613       NA           NA"
            ]
          },
          "metadata": {},
          "output_type": "display_data"
        }
      ]
    },
    {
      "cell_type": "markdown",
      "metadata": {
        "id": "-hY8RA360W4M"
      },
      "source": [
        "Getting the output for the coefficients."
      ]
    },
    {
      "cell_type": "code",
      "metadata": {
        "colab": {
          "background_save": true,
          "base_uri": "https://localhost:8080/",
          "height": 364
        },
        "id": "yngvjUY0-lyB",
        "outputId": "03cb4373-9370-4104-efcb-5fb070a311cc"
      },
      "source": [
        "summary(CarPrices_Model)"
      ],
      "execution_count": null,
      "outputs": [
        {
          "data": {
            "text/plain": [
              "\n",
              "Call:\n",
              "lm(formula = Price ~ Miles, data = FindCars_CarsOnly)\n",
              "\n",
              "Residuals:\n",
              "   Min     1Q Median     3Q    Max \n",
              "-16348  -3592   -235   2950  42847 \n",
              "\n",
              "Coefficients:\n",
              "              Estimate Std. Error t value Pr(>|t|)    \n",
              "(Intercept)  2.771e+04  7.996e+02   34.66   <2e-16 ***\n",
              "Miles       -1.791e-01  1.216e-02  -14.73   <2e-16 ***\n",
              "---\n",
              "Signif. codes:  0 ‘***’ 0.001 ‘**’ 0.01 ‘*’ 0.05 ‘.’ 0.1 ‘ ’ 1\n",
              "\n",
              "Residual standard error: 6247 on 540 degrees of freedom\n",
              "  (26 observations deleted due to missingness)\n",
              "Multiple R-squared:  0.2866,\tAdjusted R-squared:  0.2853 \n",
              "F-statistic:   217 on 1 and 540 DF,  p-value: < 2.2e-16\n"
            ]
          },
          "metadata": {},
          "output_type": "display_data"
        }
      ]
    },
    {
      "cell_type": "markdown",
      "metadata": {
        "id": "9kkg1lL30Rfw"
      },
      "source": [
        "End of Document"
      ]
    }
  ]
}