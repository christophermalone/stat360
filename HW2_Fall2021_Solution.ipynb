{
  "nbformat": 4,
  "nbformat_minor": 0,
  "metadata": {
    "colab": {
      "name": "HW2_Fall2021_Solution.ipynb",
      "provenance": [],
      "collapsed_sections": [],
      "authorship_tag": "ABX9TyMi43UAUC7cmZvWlYtAemS6",
      "include_colab_link": true
    },
    "kernelspec": {
      "name": "ir",
      "display_name": "R"
    }
  },
  "cells": [
    {
      "cell_type": "markdown",
      "metadata": {
        "id": "view-in-github",
        "colab_type": "text"
      },
      "source": [
        "<a href=\"https://colab.research.google.com/github/christophermalone/stat360/blob/main/HW2_Fall2021_Solution.ipynb\" target=\"_parent\"><img src=\"https://colab.research.google.com/assets/colab-badge.svg\" alt=\"Open In Colab\"/></a>"
      ]
    },
    {
      "cell_type": "markdown",
      "metadata": {
        "id": "KhClO9b02SXA"
      },
      "source": [
        "# Homework #2 - Solution - Fall 2021"
      ]
    },
    {
      "cell_type": "markdown",
      "metadata": {
        "id": "i8vz2bOduHhk"
      },
      "source": [
        "## Problem #1 - Haystacks"
      ]
    },
    {
      "cell_type": "code",
      "metadata": {
        "id": "LgaibuX_DtWK",
        "cellView": "form",
        "colab": {
          "base_uri": "https://localhost:8080/"
        },
        "outputId": "7cb34c39-f1ff-4e11-94c3-fca35eea3256"
      },
      "source": [
        "#@title Load Tidyverse\n",
        "#load tidyverse package\n",
        "library(tidyverse)"
      ],
      "execution_count": 1,
      "outputs": [
        {
          "output_type": "stream",
          "name": "stderr",
          "text": [
            "Warning message in system(\"timedatectl\", intern = TRUE):\n",
            "“running command 'timedatectl' had status 1”\n",
            "── \u001b[1mAttaching packages\u001b[22m ─────────────────────────────────────── tidyverse 1.3.1 ──\n",
            "\n",
            "\u001b[32m✔\u001b[39m \u001b[34mggplot2\u001b[39m 3.3.5     \u001b[32m✔\u001b[39m \u001b[34mpurrr  \u001b[39m 0.3.4\n",
            "\u001b[32m✔\u001b[39m \u001b[34mtibble \u001b[39m 3.1.5     \u001b[32m✔\u001b[39m \u001b[34mdplyr  \u001b[39m 1.0.7\n",
            "\u001b[32m✔\u001b[39m \u001b[34mtidyr  \u001b[39m 1.1.4     \u001b[32m✔\u001b[39m \u001b[34mstringr\u001b[39m 1.4.0\n",
            "\u001b[32m✔\u001b[39m \u001b[34mreadr  \u001b[39m 2.0.2     \u001b[32m✔\u001b[39m \u001b[34mforcats\u001b[39m 0.5.1\n",
            "\n",
            "── \u001b[1mConflicts\u001b[22m ────────────────────────────────────────── tidyverse_conflicts() ──\n",
            "\u001b[31m✖\u001b[39m \u001b[34mdplyr\u001b[39m::\u001b[32mfilter()\u001b[39m masks \u001b[34mstats\u001b[39m::filter()\n",
            "\u001b[31m✖\u001b[39m \u001b[34mdplyr\u001b[39m::\u001b[32mlag()\u001b[39m    masks \u001b[34mstats\u001b[39m::lag()\n",
            "\n"
          ]
        }
      ]
    },
    {
      "cell_type": "code",
      "metadata": {
        "id": "e07lUbQ1F1cV",
        "colab": {
          "base_uri": "https://localhost:8080/"
        },
        "cellView": "form",
        "outputId": "c805ee4a-4860-497e-97e6-12d62676393e"
      },
      "source": [
        "#@title Reading Data\n",
        "\n",
        "# Reading data in using read_csv\n",
        "Haystacks <- read_csv(\"http://www.StatsClass.org/stat360/Datasets/Haystacks.csv\")"
      ],
      "execution_count": 2,
      "outputs": [
        {
          "output_type": "stream",
          "name": "stderr",
          "text": [
            "\u001b[1m\u001b[1mRows: \u001b[1m\u001b[22m\u001b[34m\u001b[34m120\u001b[34m\u001b[39m \u001b[1m\u001b[1mColumns: \u001b[1m\u001b[22m\u001b[34m\u001b[34m4\u001b[34m\u001b[39m\n",
            "\n",
            "\u001b[36m──\u001b[39m \u001b[1m\u001b[1mColumn specification\u001b[1m\u001b[22m \u001b[36m────────────────────────────────────────────────────────\u001b[39m\n",
            "\u001b[1mDelimiter:\u001b[22m \",\"\n",
            "\u001b[32mdbl\u001b[39m (4): RowID, Volume, Circumference, Over\n",
            "\n",
            "\n",
            "\u001b[36mℹ\u001b[39m Use \u001b[30m\u001b[47m\u001b[30m\u001b[47m`spec()`\u001b[47m\u001b[30m\u001b[49m\u001b[39m to retrieve the full column specification for this data.\n",
            "\u001b[36mℹ\u001b[39m Specify the column types or set \u001b[30m\u001b[47m\u001b[30m\u001b[47m`show_col_types = FALSE`\u001b[47m\u001b[30m\u001b[49m\u001b[39m to quiet this message.\n",
            "\n"
          ]
        }
      ]
    },
    {
      "cell_type": "code",
      "metadata": {
        "id": "HYKWH2i0EN6s",
        "colab": {
          "base_uri": "https://localhost:8080/",
          "height": 286
        },
        "cellView": "form",
        "outputId": "0fe2ddc2-febb-43f3-d290-2280d516994e"
      },
      "source": [
        "#@title View the first few rows of data\n",
        "head(Haystacks)"
      ],
      "execution_count": 4,
      "outputs": [
        {
          "output_type": "display_data",
          "data": {
            "text/plain": [
              "  RowID Volume Circumference Over\n",
              "1 1     2853   69.0          37.0\n",
              "2 2     2702   65.0          36.5\n",
              "3 3     3099   73.0          38.5\n",
              "4 4     1306   62.5          26.5\n",
              "5 5     2294   70.0          35.0\n",
              "6 6     2725   68.0          36.5"
            ],
            "text/latex": "A tibble: 6 × 4\n\\begin{tabular}{llll}\n RowID & Volume & Circumference & Over\\\\\n <dbl> & <dbl> & <dbl> & <dbl>\\\\\n\\hline\n\t 1 & 2853 & 69.0 & 37.0\\\\\n\t 2 & 2702 & 65.0 & 36.5\\\\\n\t 3 & 3099 & 73.0 & 38.5\\\\\n\t 4 & 1306 & 62.5 & 26.5\\\\\n\t 5 & 2294 & 70.0 & 35.0\\\\\n\t 6 & 2725 & 68.0 & 36.5\\\\\n\\end{tabular}\n",
            "text/markdown": "\nA tibble: 6 × 4\n\n| RowID &lt;dbl&gt; | Volume &lt;dbl&gt; | Circumference &lt;dbl&gt; | Over &lt;dbl&gt; |\n|---|---|---|---|\n| 1 | 2853 | 69.0 | 37.0 |\n| 2 | 2702 | 65.0 | 36.5 |\n| 3 | 3099 | 73.0 | 38.5 |\n| 4 | 1306 | 62.5 | 26.5 |\n| 5 | 2294 | 70.0 | 35.0 |\n| 6 | 2725 | 68.0 | 36.5 |\n\n",
            "text/html": [
              "<table class=\"dataframe\">\n",
              "<caption>A tibble: 6 × 4</caption>\n",
              "<thead>\n",
              "\t<tr><th scope=col>RowID</th><th scope=col>Volume</th><th scope=col>Circumference</th><th scope=col>Over</th></tr>\n",
              "\t<tr><th scope=col>&lt;dbl&gt;</th><th scope=col>&lt;dbl&gt;</th><th scope=col>&lt;dbl&gt;</th><th scope=col>&lt;dbl&gt;</th></tr>\n",
              "</thead>\n",
              "<tbody>\n",
              "\t<tr><td>1</td><td>2853</td><td>69.0</td><td>37.0</td></tr>\n",
              "\t<tr><td>2</td><td>2702</td><td>65.0</td><td>36.5</td></tr>\n",
              "\t<tr><td>3</td><td>3099</td><td>73.0</td><td>38.5</td></tr>\n",
              "\t<tr><td>4</td><td>1306</td><td>62.5</td><td>26.5</td></tr>\n",
              "\t<tr><td>5</td><td>2294</td><td>70.0</td><td>35.0</td></tr>\n",
              "\t<tr><td>6</td><td>2725</td><td>68.0</td><td>36.5</td></tr>\n",
              "</tbody>\n",
              "</table>\n"
            ]
          },
          "metadata": {}
        }
      ]
    },
    {
      "cell_type": "markdown",
      "metadata": {
        "id": "oV94hIr3Edo4"
      },
      "source": [
        "### Marginal Distribution"
      ]
    },
    {
      "cell_type": "code",
      "metadata": {
        "colab": {
          "base_uri": "https://localhost:8080/",
          "height": 129
        },
        "id": "4WsK4sxqdj1Z",
        "cellView": "form",
        "outputId": "2cdc82b2-f614-4749-a092-c1ffda127862"
      },
      "source": [
        "#@title Question 1: Marginal Distribution\n",
        "( Haystacks\n",
        "     %>% summarize(\n",
        "                    Avg = mean(Volume),\n",
        "                    'Standard Deviation' = sd(Volume),\n",
        "                    'Variance' = var(Volume),\n",
        "                    Count = n()\n",
        "                 )\n",
        "     %>% mutate('Total Unexplained' = (Count - 1) * Variance)\n",
        ")"
      ],
      "execution_count": 9,
      "outputs": [
        {
          "output_type": "display_data",
          "data": {
            "text/plain": [
              "  Avg      Standard Deviation Variance Count Total Unexplained\n",
              "1 3017.789 914.698            836672.5 120   99564027         "
            ],
            "text/latex": "A tibble: 1 × 5\n\\begin{tabular}{lllll}\n Avg & Standard Deviation & Variance & Count & Total Unexplained\\\\\n <dbl> & <dbl> & <dbl> & <int> & <dbl>\\\\\n\\hline\n\t 3017.789 & 914.698 & 836672.5 & 120 & 99564027\\\\\n\\end{tabular}\n",
            "text/markdown": "\nA tibble: 1 × 5\n\n| Avg &lt;dbl&gt; | Standard Deviation &lt;dbl&gt; | Variance &lt;dbl&gt; | Count &lt;int&gt; | Total Unexplained &lt;dbl&gt; |\n|---|---|---|---|---|\n| 3017.789 | 914.698 | 836672.5 | 120 | 99564027 |\n\n",
            "text/html": [
              "<table class=\"dataframe\">\n",
              "<caption>A tibble: 1 × 5</caption>\n",
              "<thead>\n",
              "\t<tr><th scope=col>Avg</th><th scope=col>Standard Deviation</th><th scope=col>Variance</th><th scope=col>Count</th><th scope=col>Total Unexplained</th></tr>\n",
              "\t<tr><th scope=col>&lt;dbl&gt;</th><th scope=col>&lt;dbl&gt;</th><th scope=col>&lt;dbl&gt;</th><th scope=col>&lt;int&gt;</th><th scope=col>&lt;dbl&gt;</th></tr>\n",
              "</thead>\n",
              "<tbody>\n",
              "\t<tr><td>3017.789</td><td>914.698</td><td>836672.5</td><td>120</td><td>99564027</td></tr>\n",
              "</tbody>\n",
              "</table>\n"
            ]
          },
          "metadata": {}
        }
      ]
    },
    {
      "cell_type": "markdown",
      "metadata": {
        "id": "iXv6YnWVwhLI"
      },
      "source": [
        "### Distribution of Volume | Circumference"
      ]
    },
    {
      "cell_type": "code",
      "metadata": {
        "colab": {
          "base_uri": "https://localhost:8080/",
          "height": 437
        },
        "id": "unWcESmxlu-j",
        "outputId": "3ec0c5ec-6c97-4d7e-8c2d-dccdb19f7241"
      },
      "source": [
        "#@title Question 2: Plot of Volume vs Circumference\n",
        "ggplot(data=Haystacks, aes(x=Circumference, y=Volume)) + \n",
        "  geom_point() +\n",
        "  theme_classic()"
      ],
      "execution_count": 11,
      "outputs": [
        {
          "output_type": "display_data",
          "data": {
            "image/png": "[encoded data removed]",
            "text/plain": [
              "plot without title"
            ]
          },
          "metadata": {
            "image/png": {
              "width": 420,
              "height": 420
            }
          }
        }
      ]
    },
    {
      "cell_type": "code",
      "metadata": {
        "id": "u2nm814gxGm4"
      },
      "source": [
        "#@title Question 4: Getting the predicted volume and plotting the function on the scatterplot\n",
        "Haystacks <- (Haystacks\n",
        "               %>% mutate(Predicted_Volume = (Circumference^3) / (12 * 3.1416^2))\n",
        "             )"
      ],
      "execution_count": 16,
      "outputs": []
    },
    {
      "cell_type": "code",
      "metadata": {
        "colab": {
          "base_uri": "https://localhost:8080/",
          "height": 437
        },
        "id": "MnOpbLqPxf6C",
        "outputId": "20c4e24e-1af5-4fc6-d1bd-d505647224eb"
      },
      "source": [
        "ggplot(data=Haystacks, aes(x=Circumference, y=Volume)) + \n",
        "  geom_point() +\n",
        "  geom_line(aes(x=Circumference, y=Predicted_Volume)) +\n",
        "  theme_classic()"
      ],
      "execution_count": 17,
      "outputs": [
        {
          "output_type": "display_data",
          "data": {
            "image/png": "[encoded data removed]",
            "text/plain": [
              "plot without title"
            ]
          },
          "metadata": {
            "image/png": {
              "width": 420,
              "height": 420
            }
          }
        }
      ]
    },
    {
      "cell_type": "markdown",
      "metadata": {
        "id": "PYD2eVnLv83O"
      },
      "source": [
        "\n",
        "\n",
        "---\n",
        "\n",
        "\n",
        "End of Document"
      ]
    }
  ]
}