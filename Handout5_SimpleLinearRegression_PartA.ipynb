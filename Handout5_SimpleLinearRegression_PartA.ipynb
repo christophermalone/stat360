{
  "nbformat": 4,
  "nbformat_minor": 0,
  "metadata": {
    "colab": {
      "name": "Handout5_SimpleLinearRegression_PartA.ipynb",
      "provenance": [],
      "collapsed_sections": [],
      "authorship_tag": "ABX9TyP59vqWLY27IZt0pVN72OvO",
      "include_colab_link": true
    },
    "kernelspec": {
      "name": "ir",
      "display_name": "R"
    }
  },
  "cells": [
    {
      "cell_type": "markdown",
      "metadata": {
        "id": "view-in-github",
        "colab_type": "text"
      },
      "source": [
        "<a href=\"https://colab.research.google.com/github/christophermalone/stat360/blob/main/Handout5_SimpleLinearRegression_PartA.ipynb\" target=\"_parent\"><img src=\"https://colab.research.google.com/assets/colab-badge.svg\" alt=\"Open In Colab\"/></a>"
      ]
    },
    {
      "cell_type": "markdown",
      "metadata": {
        "id": "KhClO9b02SXA"
      },
      "source": [
        "# Handout #5 : Simple Linear Regression - Part A : Analysis of Variance Output\n"
      ]
    },
    {
      "cell_type": "markdown",
      "metadata": {
        "id": "AXDYLbzK2o7e"
      },
      "source": [
        "<table width='100%' ><tr><td bgcolor='green'></td></tr></table>\n",
        "\n",
        "## Example 5.1\n",
        "\n",
        "Consider data on the home prices of homes in Winona.  This data was collected using Redfin website. \n",
        "<table>\n",
        "  <tr>\n",
        "    <td width='50%'>\n",
        "      <ul>\n",
        "        <li><strong>Response Variable</strong>: CurrentPrice ($) </li><br>\n",
        "        <li>Variables under investigation (i.e. independent variables)</li>\n",
        "        <ul>\n",
        "          <li>SquareFeet, the size of the home (ft^2)</li>\n",
        "          <li>Bedroom, number of bedrooms in home</li>\n",
        "          <li>Bathrooms, number of bathrooms in home</li>\n",
        "          <li>Garage, number of vehicle stalls in garage</li>\n",
        "          <li>YearBuilt, the year in which the home was built</li>\n",
        "          <li>LotSize, the size of the lot (ft^2)</li>\n",
        "          <li>Taxes, the amount of taxes on home ($)</li>\n",
        "          <li>DaysOnMarket, the number of days this home has been on the market</li>\n",
        "          <li>OriginalPrice, the original listing price of the home</li>\n",
        "         </ul>\n",
        "    </ul>\n",
        "    </td>\n",
        "    <td width='50%'>\n",
        "<p align='center'><img src=\"https://drive.google.com/uc?export=view&id=1Nl6Jmi0W15ghB9JrJxj40F-230hEwXKm\" width='50%' height='50%'></img></p>\n",
        "  </td>\n",
        "</tr>\n",
        "</table>\n",
        "\n",
        "Data Folder: [OneDrive](https://mnscu-my.sharepoint.com/:f:/g/personal/aq7839yd_minnstate_edu/EmOQfrwxzzRBqq8PH_8qTmMBy-1qKgM11Hb8vzjs025EEA?e=wyShYs)\n",
        "\n",
        "Redfin Data: <a href=\"https://www.redfin.com/city/18151/MN/Winona\">Webpage</a></li>\n",
        "\n",
        "<table width='100%' ><tr><td bgcolor='green'></td></tr></table>\n",
        "\n"
      ]
    },
    {
      "cell_type": "markdown",
      "metadata": {
        "id": "njXGRUIC9Lgs"
      },
      "source": [
        "## Load Data into R via URL"
      ]
    },
    {
      "cell_type": "markdown",
      "metadata": {
        "id": "FoT1NFX3DncH"
      },
      "source": [
        "The tidyverse R package will be used to assist with reading in the dataset into the current R session."
      ]
    },
    {
      "cell_type": "code",
      "metadata": {
        "id": "LgaibuX_DtWK",
        "cellView": "form",
        "colab": {
          "base_uri": "https://localhost:8080/"
        },
        "outputId": "a46eadc0-2ff4-46c5-9e0f-5a8ebe68d10a"
      },
      "source": [
        "#@title Load Tidyverse\n",
        "#load tidyverse package\n",
        "library(tidyverse)"
      ],
      "execution_count": 1,
      "outputs": [
        {
          "output_type": "stream",
          "name": "stderr",
          "text": [
            "Warning message in system(\"timedatectl\", intern = TRUE):\n",
            "“running command 'timedatectl' had status 1”\n",
            "── \u001b[1mAttaching packages\u001b[22m ─────────────────────────────────────── tidyverse 1.3.1 ──\n",
            "\n",
            "\u001b[32m✔\u001b[39m \u001b[34mggplot2\u001b[39m 3.3.5     \u001b[32m✔\u001b[39m \u001b[34mpurrr  \u001b[39m 0.3.4\n",
            "\u001b[32m✔\u001b[39m \u001b[34mtibble \u001b[39m 3.1.4     \u001b[32m✔\u001b[39m \u001b[34mdplyr  \u001b[39m 1.0.7\n",
            "\u001b[32m✔\u001b[39m \u001b[34mtidyr  \u001b[39m 1.1.3     \u001b[32m✔\u001b[39m \u001b[34mstringr\u001b[39m 1.4.0\n",
            "\u001b[32m✔\u001b[39m \u001b[34mreadr  \u001b[39m 2.0.1     \u001b[32m✔\u001b[39m \u001b[34mforcats\u001b[39m 0.5.1\n",
            "\n",
            "── \u001b[1mConflicts\u001b[22m ────────────────────────────────────────── tidyverse_conflicts() ──\n",
            "\u001b[31m✖\u001b[39m \u001b[34mdplyr\u001b[39m::\u001b[32mfilter()\u001b[39m masks \u001b[34mstats\u001b[39m::filter()\n",
            "\u001b[31m✖\u001b[39m \u001b[34mdplyr\u001b[39m::\u001b[32mlag()\u001b[39m    masks \u001b[34mstats\u001b[39m::lag()\n",
            "\n"
          ]
        }
      ]
    },
    {
      "cell_type": "markdown",
      "metadata": {
        "id": "DPqIPen9D5T3"
      },
      "source": [
        "The **read_csv()** function is used to read in the dataset. "
      ]
    },
    {
      "cell_type": "code",
      "metadata": {
        "id": "e07lUbQ1F1cV",
        "colab": {
          "base_uri": "https://localhost:8080/"
        },
        "cellView": "form",
        "outputId": "81c373d4-19a8-4938-e9f1-ceff0486039e"
      },
      "source": [
        "#@title Reading in Data\n",
        "\n",
        "# Reading data in using read.csv via Base \n",
        "WinonaHomePrices <- read_csv(\"http://www.StatsClass.org/stat360/Datasets/HomePrices.csv\")"
      ],
      "execution_count": 2,
      "outputs": [
        {
          "output_type": "stream",
          "name": "stderr",
          "text": [
            "\u001b[1m\u001b[1mRows: \u001b[1m\u001b[22m\u001b[34m\u001b[34m207\u001b[34m\u001b[39m \u001b[1m\u001b[1mColumns: \u001b[1m\u001b[22m\u001b[34m\u001b[34m11\u001b[34m\u001b[39m\n",
            "\n",
            "\u001b[36m──\u001b[39m \u001b[1m\u001b[1mColumn specification\u001b[1m\u001b[22m \u001b[36m────────────────────────────────────────────────────────\u001b[39m\n",
            "\u001b[1mDelimiter:\u001b[22m \",\"\n",
            "\u001b[32mdbl\u001b[39m (11): MLS, CurrentPrice, SquareFeet, Bedrooms, Bathrooms, Garage, YearBu...\n",
            "\n",
            "\n",
            "\u001b[36mℹ\u001b[39m Use \u001b[30m\u001b[47m\u001b[30m\u001b[47m`spec()`\u001b[47m\u001b[30m\u001b[49m\u001b[39m to retrieve the full column specification for this data.\n",
            "\u001b[36mℹ\u001b[39m Specify the column types or set \u001b[30m\u001b[47m\u001b[30m\u001b[47m`show_col_types = FALSE`\u001b[47m\u001b[30m\u001b[49m\u001b[39m to quiet this message.\n",
            "\n"
          ]
        }
      ]
    },
    {
      "cell_type": "markdown",
      "metadata": {
        "id": "irbG4lJbENzv"
      },
      "source": [
        "The **head()** function can be used to see the first few lines of the dataset."
      ]
    },
    {
      "cell_type": "code",
      "metadata": {
        "id": "HYKWH2i0EN6s",
        "colab": {
          "base_uri": "https://localhost:8080/",
          "height": 286
        },
        "cellView": "form",
        "outputId": "cb8602ae-bc53-435c-9207-55f7494ba1d0"
      },
      "source": [
        "#@title View the first few rows of data\n",
        "head(WinonaHomePrices)"
      ],
      "execution_count": 3,
      "outputs": [
        {
          "output_type": "display_data",
          "data": {
            "text/plain": [
              "  MLS     CurrentPrice SquareFeet Bedrooms Bathrooms Garage YearBuilt LotSize\n",
              "1 4036305 119900       1936       3        2         2      1920      7000   \n",
              "2 4034062  73700       1696       2        1         1      1916      6860   \n",
              "3 4038971 104500       1196       3        2         2      1890      7000   \n",
              "4 4034561 114900        864       2        1         2      1940      5000   \n",
              "5 4035526 215000       3300       4        3         2      2001        NA   \n",
              "6 4035472 169500       2069       4        2         2      1886      6000   \n",
              "  Taxes DaysonMarket OriginalPrice\n",
              "1 1448  151          129900       \n",
              "2  664  245           73700       \n",
              "3 1216   51          104500       \n",
              "4 1092  218          114900       \n",
              "5 2850  174          215000       \n",
              "6 1584  174          179500       "
            ],
            "text/latex": "A tibble: 6 × 11\n\\begin{tabular}{lllllllllll}\n MLS & CurrentPrice & SquareFeet & Bedrooms & Bathrooms & Garage & YearBuilt & LotSize & Taxes & DaysonMarket & OriginalPrice\\\\\n <dbl> & <dbl> & <dbl> & <dbl> & <dbl> & <dbl> & <dbl> & <dbl> & <dbl> & <dbl> & <dbl>\\\\\n\\hline\n\t 4036305 & 119900 & 1936 & 3 & 2 & 2 & 1920 & 7000 & 1448 & 151 & 129900\\\\\n\t 4034062 &  73700 & 1696 & 2 & 1 & 1 & 1916 & 6860 &  664 & 245 &  73700\\\\\n\t 4038971 & 104500 & 1196 & 3 & 2 & 2 & 1890 & 7000 & 1216 &  51 & 104500\\\\\n\t 4034561 & 114900 &  864 & 2 & 1 & 2 & 1940 & 5000 & 1092 & 218 & 114900\\\\\n\t 4035526 & 215000 & 3300 & 4 & 3 & 2 & 2001 &   NA & 2850 & 174 & 215000\\\\\n\t 4035472 & 169500 & 2069 & 4 & 2 & 2 & 1886 & 6000 & 1584 & 174 & 179500\\\\\n\\end{tabular}\n",
            "text/markdown": "\nA tibble: 6 × 11\n\n| MLS &lt;dbl&gt; | CurrentPrice &lt;dbl&gt; | SquareFeet &lt;dbl&gt; | Bedrooms &lt;dbl&gt; | Bathrooms &lt;dbl&gt; | Garage &lt;dbl&gt; | YearBuilt &lt;dbl&gt; | LotSize &lt;dbl&gt; | Taxes &lt;dbl&gt; | DaysonMarket &lt;dbl&gt; | OriginalPrice &lt;dbl&gt; |\n|---|---|---|---|---|---|---|---|---|---|---|\n| 4036305 | 119900 | 1936 | 3 | 2 | 2 | 1920 | 7000 | 1448 | 151 | 129900 |\n| 4034062 |  73700 | 1696 | 2 | 1 | 1 | 1916 | 6860 |  664 | 245 |  73700 |\n| 4038971 | 104500 | 1196 | 3 | 2 | 2 | 1890 | 7000 | 1216 |  51 | 104500 |\n| 4034561 | 114900 |  864 | 2 | 1 | 2 | 1940 | 5000 | 1092 | 218 | 114900 |\n| 4035526 | 215000 | 3300 | 4 | 3 | 2 | 2001 |   NA | 2850 | 174 | 215000 |\n| 4035472 | 169500 | 2069 | 4 | 2 | 2 | 1886 | 6000 | 1584 | 174 | 179500 |\n\n",
            "text/html": [
              "<table class=\"dataframe\">\n",
              "<caption>A tibble: 6 × 11</caption>\n",
              "<thead>\n",
              "\t<tr><th scope=col>MLS</th><th scope=col>CurrentPrice</th><th scope=col>SquareFeet</th><th scope=col>Bedrooms</th><th scope=col>Bathrooms</th><th scope=col>Garage</th><th scope=col>YearBuilt</th><th scope=col>LotSize</th><th scope=col>Taxes</th><th scope=col>DaysonMarket</th><th scope=col>OriginalPrice</th></tr>\n",
              "\t<tr><th scope=col>&lt;dbl&gt;</th><th scope=col>&lt;dbl&gt;</th><th scope=col>&lt;dbl&gt;</th><th scope=col>&lt;dbl&gt;</th><th scope=col>&lt;dbl&gt;</th><th scope=col>&lt;dbl&gt;</th><th scope=col>&lt;dbl&gt;</th><th scope=col>&lt;dbl&gt;</th><th scope=col>&lt;dbl&gt;</th><th scope=col>&lt;dbl&gt;</th><th scope=col>&lt;dbl&gt;</th></tr>\n",
              "</thead>\n",
              "<tbody>\n",
              "\t<tr><td>4036305</td><td>119900</td><td>1936</td><td>3</td><td>2</td><td>2</td><td>1920</td><td>7000</td><td>1448</td><td>151</td><td>129900</td></tr>\n",
              "\t<tr><td>4034062</td><td> 73700</td><td>1696</td><td>2</td><td>1</td><td>1</td><td>1916</td><td>6860</td><td> 664</td><td>245</td><td> 73700</td></tr>\n",
              "\t<tr><td>4038971</td><td>104500</td><td>1196</td><td>3</td><td>2</td><td>2</td><td>1890</td><td>7000</td><td>1216</td><td> 51</td><td>104500</td></tr>\n",
              "\t<tr><td>4034561</td><td>114900</td><td> 864</td><td>2</td><td>1</td><td>2</td><td>1940</td><td>5000</td><td>1092</td><td>218</td><td>114900</td></tr>\n",
              "\t<tr><td>4035526</td><td>215000</td><td>3300</td><td>4</td><td>3</td><td>2</td><td>2001</td><td>  NA</td><td>2850</td><td>174</td><td>215000</td></tr>\n",
              "\t<tr><td>4035472</td><td>169500</td><td>2069</td><td>4</td><td>2</td><td>2</td><td>1886</td><td>6000</td><td>1584</td><td>174</td><td>179500</td></tr>\n",
              "</tbody>\n",
              "</table>\n"
            ]
          },
          "metadata": {}
        }
      ]
    },
    {
      "cell_type": "markdown",
      "metadata": {
        "id": "1yzIMikj6S_M"
      },
      "source": [
        "## Simple Linear Regression - Model Setup"
      ]
    },
    {
      "cell_type": "markdown",
      "metadata": {
        "id": "H4diIPrN6YMm"
      },
      "source": [
        "Consider the following setup for the simple linear regression model.\n",
        "\n",
        "<ul>\n",
        "  <li><strong>Response Variable</strong>: CurrentPrice</li>\n",
        "  <li><strong>Independent / Predictor Variable</strong>: SquareFeet</li>\n",
        "  <li><i>Assume</i> the following structure for the <strong>mean</strong> and <strong>variance</strong> functions</li>\n",
        "  </ul>"
      ]
    },
    {
      "cell_type": "markdown",
      "metadata": {
        "id": "X4gdlF3C60d2"
      },
      "source": [
        "<ul><ul>\n",
        "  <li>$E(CurrentPrice | SquareFeet) = \\beta_{0} + \\beta_{1} * SquareFeet$</li>\n",
        "  <li>$Var(CurrentPrice | SquareFeet) = \\sigma^{2}$</li>\n",
        "</ul></ul>"
      ]
    },
    {
      "cell_type": "markdown",
      "metadata": {
        "id": "z_qj1v7q72na"
      },
      "source": [
        "<u>Comments</u>\n",
        "\n",
        "The mean function specified above is called a <strong>simple linear regression model</strong>: \n",
        "\n",
        "*   <strong>Simple</strong> implies a single predictor variable, i.e. SquareFeet\n",
        "*   <strong>Linear</strong> implies the function is linear in its parameters, not in which the predictor variable are used in the model.  For example, the following mean function is a linear regression model because this model is linear in its parameters, but is not a straight line.\n",
        "<br>\n",
        "[Math Stuff]: A linear mean function implies the partial derivative with respect to any parameter is free of all other parameters.\n",
        "*    The above variance function is simply a constant, generically labeled as $\\sigma^2$.\n"
      ]
    },
    {
      "cell_type": "markdown",
      "metadata": {
        "id": "oV94hIr3Edo4"
      },
      "source": [
        "## Simple Linear Regression - Scatterplot"
      ]
    },
    {
      "cell_type": "markdown",
      "metadata": {
        "id": "3mzVUHNu4Cuw"
      },
      "source": [
        "Typically, the first step in doing a simple linear regression analysis is to create a scatterplot of the two variables.  The response variables goes on the y-axis and the independent / predictor variable goes on the x-axis."
      ]
    },
    {
      "cell_type": "code",
      "metadata": {
        "id": "yHLAoooA4C1_",
        "colab": {
          "base_uri": "https://localhost:8080/",
          "height": 437
        },
        "outputId": "9c959206-618c-4346-f120-3b5cc38a6a7e"
      },
      "source": [
        "#@title Scatterplot with simple linear regression line\n",
        "ggplot(data=WinonaHomePrices, aes(x=SquareFeet,y=CurrentPrice)) + \n",
        "  geom_point() +    #adding the points to the plot\n",
        "  geom_smooth(method='lm', formula = y ~ x, se=FALSE) +  #adding a regression line to the plot without the standard error bands \n",
        "  theme_classic()"
      ],
      "execution_count": null,
      "outputs": [
        {
          "output_type": "display_data",
          "data": {
            "image/png": "[encoded data removed]",
            "text/plain": [
              "plot without title"
            ]
          },
          "metadata": {
            "image/png": {
              "width": 420,
              "height": 420
            }
          }
        }
      ]
    },
    {
      "cell_type": "markdown",
      "metadata": {
        "id": "Ur8YR3NjNHjw"
      },
      "source": [
        "## Simple Linear Regression - Fitting the Model"
      ]
    },
    {
      "cell_type": "code",
      "metadata": {
        "id": "7sJchah397NR"
      },
      "source": [
        "#@title Fitting the simple linear regression model\n",
        "WinonaHomePrices_Model <- lm(CurrentPrice ~ SquareFeet, data=WinonaHomePrices)"
      ],
      "execution_count": null,
      "outputs": []
    },
    {
      "cell_type": "markdown",
      "metadata": {
        "id": "B-ybKIvR-aOm"
      },
      "source": [
        "The output from model fit is saved into an R object."
      ]
    },
    {
      "cell_type": "code",
      "metadata": {
        "colab": {
          "base_uri": "https://localhost:8080/",
          "height": 139
        },
        "id": "PYKOT-4M_gUy",
        "outputId": "4ff75ce2-2e41-4897-890e-5c3fdc537933"
      },
      "source": [
        "#@title The model object\n",
        "WinonaHomePrices_Model"
      ],
      "execution_count": null,
      "outputs": [
        {
          "output_type": "display_data",
          "data": {
            "text/plain": [
              "\n",
              "Call:\n",
              "lm(formula = CurrentPrice ~ SquareFeet, data = WinonaHomePrices)\n",
              "\n",
              "Coefficients:\n",
              "(Intercept)   SquareFeet  \n",
              "   46509.35        46.66  \n"
            ]
          },
          "metadata": {}
        }
      ]
    },
    {
      "cell_type": "markdown",
      "metadata": {
        "id": "A8wAkWfn_yIV"
      },
      "source": [
        "There are many elements attached to this object.  The names() function will identify the various elements."
      ]
    },
    {
      "cell_type": "code",
      "metadata": {
        "colab": {
          "base_uri": "https://localhost:8080/",
          "height": 35
        },
        "id": "DA1WJcJd_yPi",
        "outputId": "157ed69b-e05c-4261-9581-621f340a73f3"
      },
      "source": [
        "names(WinonaHomePrices_Model)"
      ],
      "execution_count": null,
      "outputs": [
        {
          "output_type": "display_data",
          "data": {
            "text/plain": [
              " [1] \"coefficients\"  \"residuals\"     \"effects\"       \"rank\"         \n",
              " [5] \"fitted.values\" \"assign\"        \"qr\"            \"df.residual\"  \n",
              " [9] \"xlevels\"       \"call\"          \"terms\"         \"model\"        "
            ],
            "text/latex": "\\begin{enumerate*}\n\\item 'coefficients'\n\\item 'residuals'\n\\item 'effects'\n\\item 'rank'\n\\item 'fitted.values'\n\\item 'assign'\n\\item 'qr'\n\\item 'df.residual'\n\\item 'xlevels'\n\\item 'call'\n\\item 'terms'\n\\item 'model'\n\\end{enumerate*}\n",
            "text/markdown": "1. 'coefficients'\n2. 'residuals'\n3. 'effects'\n4. 'rank'\n5. 'fitted.values'\n6. 'assign'\n7. 'qr'\n8. 'df.residual'\n9. 'xlevels'\n10. 'call'\n11. 'terms'\n12. 'model'\n\n\n",
            "text/html": [
              "<style>\n",
              ".list-inline {list-style: none; margin:0; padding: 0}\n",
              ".list-inline>li {display: inline-block}\n",
              ".list-inline>li:not(:last-child)::after {content: \"\\00b7\"; padding: 0 .5ex}\n",
              "</style>\n",
              "<ol class=list-inline><li>'coefficients'</li><li>'residuals'</li><li>'effects'</li><li>'rank'</li><li>'fitted.values'</li><li>'assign'</li><li>'qr'</li><li>'df.residual'</li><li>'xlevels'</li><li>'call'</li><li>'terms'</li><li>'model'</li></ol>\n"
            ]
          },
          "metadata": {}
        }
      ]
    },
    {
      "cell_type": "markdown",
      "metadata": {
        "id": "0XESRAcjAGh7"
      },
      "source": [
        "For example, to obtain the call that was used to build the simple linear regression model, $call can be added to the end of the object name."
      ]
    },
    {
      "cell_type": "code",
      "metadata": {
        "colab": {
          "base_uri": "https://localhost:8080/",
          "height": 35
        },
        "id": "wxnhiDdfAGqs",
        "outputId": "fcd5b897-6103-4fc2-e929-09783f17f9da"
      },
      "source": [
        "WinonaHomePrices_Model$call"
      ],
      "execution_count": null,
      "outputs": [
        {
          "output_type": "display_data",
          "data": {
            "text/plain": [
              "lm(formula = CurrentPrice ~ SquareFeet, data = WinonaHomePrices)"
            ]
          },
          "metadata": {}
        }
      ]
    },
    {
      "cell_type": "code",
      "metadata": {
        "colab": {
          "base_uri": "https://localhost:8080/",
          "height": 161
        },
        "id": "YXhobufi-aW5",
        "outputId": "e54e7728-0ab5-4e7c-c4bb-6798975cbca4"
      },
      "source": [
        "anova(WinonaHomePrices_Model)"
      ],
      "execution_count": null,
      "outputs": [
        {
          "output_type": "display_data",
          "data": {
            "text/plain": [
              "           Df  Sum Sq       Mean Sq      F value  Pr(>F)      \n",
              "SquareFeet   1 361215923587 361215923587 173.4965 4.129567e-29\n",
              "Residuals  205 426805545074   2081978269       NA           NA"
            ],
            "text/latex": "A anova: 2 × 5\n\\begin{tabular}{r|lllll}\n  & Df & Sum Sq & Mean Sq & F value & Pr(>F)\\\\\n  & <int> & <dbl> & <dbl> & <dbl> & <dbl>\\\\\n\\hline\n\tSquareFeet &   1 & 361215923587 & 361215923587 & 173.4965 & 4.129567e-29\\\\\n\tResiduals & 205 & 426805545074 &   2081978269 &       NA &           NA\\\\\n\\end{tabular}\n",
            "text/markdown": "\nA anova: 2 × 5\n\n| <!--/--> | Df &lt;int&gt; | Sum Sq &lt;dbl&gt; | Mean Sq &lt;dbl&gt; | F value &lt;dbl&gt; | Pr(&gt;F) &lt;dbl&gt; |\n|---|---|---|---|---|---|\n| SquareFeet |   1 | 361215923587 | 361215923587 | 173.4965 | 4.129567e-29 |\n| Residuals | 205 | 426805545074 |   2081978269 |       NA |           NA |\n\n",
            "text/html": [
              "<table class=\"dataframe\">\n",
              "<caption>A anova: 2 × 5</caption>\n",
              "<thead>\n",
              "\t<tr><th></th><th scope=col>Df</th><th scope=col>Sum Sq</th><th scope=col>Mean Sq</th><th scope=col>F value</th><th scope=col>Pr(&gt;F)</th></tr>\n",
              "\t<tr><th></th><th scope=col>&lt;int&gt;</th><th scope=col>&lt;dbl&gt;</th><th scope=col>&lt;dbl&gt;</th><th scope=col>&lt;dbl&gt;</th><th scope=col>&lt;dbl&gt;</th></tr>\n",
              "</thead>\n",
              "<tbody>\n",
              "\t<tr><th scope=row>SquareFeet</th><td>  1</td><td>361215923587</td><td>361215923587</td><td>173.4965</td><td>4.129567e-29</td></tr>\n",
              "\t<tr><th scope=row>Residuals</th><td>205</td><td>426805545074</td><td>  2081978269</td><td>      NA</td><td>          NA</td></tr>\n",
              "</tbody>\n",
              "</table>\n"
            ]
          },
          "metadata": {}
        }
      ]
    },
    {
      "cell_type": "markdown",
      "metadata": {
        "id": "PEnan0NT0RrE"
      },
      "source": [
        "Fitting a restricted model, i.e. with just a y-intercept."
      ]
    },
    {
      "cell_type": "code",
      "metadata": {
        "colab": {
          "base_uri": "https://localhost:8080/",
          "height": 129
        },
        "id": "PhwreHypTV87",
        "outputId": "fc013379-972e-4624-e87c-2f7424c0c2b6"
      },
      "source": [
        "anova(lm(CurrentPrice ~ rep(1,207), data=WinonaHomePrices))"
      ],
      "execution_count": null,
      "outputs": [
        {
          "output_type": "display_data",
          "data": {
            "text/plain": [
              "          Df  Sum Sq       Mean Sq    F value Pr(>F)\n",
              "Residuals 206 788021468661 3825346935 NA      NA    "
            ],
            "text/latex": "A anova: 1 × 5\n\\begin{tabular}{r|lllll}\n  & Df & Sum Sq & Mean Sq & F value & Pr(>F)\\\\\n  & <int> & <dbl> & <dbl> & <dbl> & <dbl>\\\\\n\\hline\n\tResiduals & 206 & 788021468661 & 3825346935 & NA & NA\\\\\n\\end{tabular}\n",
            "text/markdown": "\nA anova: 1 × 5\n\n| <!--/--> | Df &lt;int&gt; | Sum Sq &lt;dbl&gt; | Mean Sq &lt;dbl&gt; | F value &lt;dbl&gt; | Pr(&gt;F) &lt;dbl&gt; |\n|---|---|---|---|---|---|\n| Residuals | 206 | 788021468661 | 3825346935 | NA | NA |\n\n",
            "text/html": [
              "<table class=\"dataframe\">\n",
              "<caption>A anova: 1 × 5</caption>\n",
              "<thead>\n",
              "\t<tr><th></th><th scope=col>Df</th><th scope=col>Sum Sq</th><th scope=col>Mean Sq</th><th scope=col>F value</th><th scope=col>Pr(&gt;F)</th></tr>\n",
              "\t<tr><th></th><th scope=col>&lt;int&gt;</th><th scope=col>&lt;dbl&gt;</th><th scope=col>&lt;dbl&gt;</th><th scope=col>&lt;dbl&gt;</th><th scope=col>&lt;dbl&gt;</th></tr>\n",
              "</thead>\n",
              "<tbody>\n",
              "\t<tr><th scope=row>Residuals</th><td>206</td><td>788021468661</td><td>3825346935</td><td>NA</td><td>NA</td></tr>\n",
              "</tbody>\n",
              "</table>\n"
            ]
          },
          "metadata": {}
        }
      ]
    },
    {
      "cell_type": "markdown",
      "metadata": {
        "id": "-hY8RA360W4M"
      },
      "source": [
        "Getting the output for the coefficients."
      ]
    },
    {
      "cell_type": "code",
      "metadata": {
        "colab": {
          "base_uri": "https://localhost:8080/",
          "height": 329
        },
        "id": "yngvjUY0-lyB",
        "outputId": "7cb24869-f1df-4dde-cadc-2c250f722911"
      },
      "source": [
        "summary(WinonaHomePrices_Model)"
      ],
      "execution_count": null,
      "outputs": [
        {
          "output_type": "display_data",
          "data": {
            "text/plain": [
              "\n",
              "Call:\n",
              "lm(formula = CurrentPrice ~ SquareFeet, data = WinonaHomePrices)\n",
              "\n",
              "Residuals:\n",
              "    Min      1Q  Median      3Q     Max \n",
              "-122809  -24601   -1478   21576  180999 \n",
              "\n",
              "Coefficients:\n",
              "             Estimate Std. Error t value Pr(>|t|)    \n",
              "(Intercept) 46509.351   7421.878   6.267 2.14e-09 ***\n",
              "SquareFeet     46.662      3.543  13.172  < 2e-16 ***\n",
              "---\n",
              "Signif. codes:  0 ‘***’ 0.001 ‘**’ 0.01 ‘*’ 0.05 ‘.’ 0.1 ‘ ’ 1\n",
              "\n",
              "Residual standard error: 45630 on 205 degrees of freedom\n",
              "Multiple R-squared:  0.4584,\tAdjusted R-squared:  0.4557 \n",
              "F-statistic: 173.5 on 1 and 205 DF,  p-value: < 2.2e-16\n"
            ]
          },
          "metadata": {}
        }
      ]
    },
    {
      "cell_type": "markdown",
      "metadata": {
        "id": "9kkg1lL30Rfw"
      },
      "source": [
        "End of Document"
      ]
    }
  ]
}