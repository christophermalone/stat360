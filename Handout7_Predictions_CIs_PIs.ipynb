{
  "nbformat": 4,
  "nbformat_minor": 0,
  "metadata": {
    "colab": {
      "provenance": [],
      "collapsed_sections": [],
      "authorship_tag": "ABX9TyO3Mm7wbnYrt9IApQAHe0ob",
      "include_colab_link": true
    },
    "kernelspec": {
      "display_name": "R",
      "name": "ir"
    }
  },
  "cells": [
    {
      "cell_type": "markdown",
      "metadata": {
        "id": "view-in-github",
        "colab_type": "text"
      },
      "source": [
        "<a href=\"https://colab.research.google.com/github/christophermalone/stat360/blob/main/Handout7_Predictions_CIs_PIs.ipynb\" target=\"_parent\"><img src=\"https://colab.research.google.com/assets/colab-badge.svg\" alt=\"Open In Colab\"/></a>"
      ]
    },
    {
      "cell_type": "markdown",
      "metadata": {
        "id": "KhClO9b02SXA"
      },
      "source": [
        "# Handout #7 : SLR - Predictions, Confidence Intervals, and Prediction Intervals\n"
      ]
    },
    {
      "cell_type": "markdown",
      "metadata": {
        "id": "AXDYLbzK2o7e"
      },
      "source": [
        "<table width='100%' ><tr><td bgcolor='green'></td></tr></table>\n",
        "\n",
        "## Find Cars Dataset\n",
        "\n",
        "Consider the following data collected from the FindCars.com website.  Findcars provides information on cars for sale in our geographic region.  \n",
        "<table>\n",
        "  <tr>\n",
        "    <td width='50%'>\n",
        "      <ul>\n",
        "        <li><strong>Response Variable</strong>: Price ($)</li><br>\n",
        "        <li>Variables under investigation (i.e. independent variables)</li>\n",
        "        <ul>\n",
        "          <li>CarType, e.g. car, pickup, suv, etc.</li>\n",
        "          <li>Miles</li>\n",
        "         </ul>\n",
        "    </ul>\n",
        "    </td>\n",
        "    <td width='50%'>\n",
        "    <p align='center'><img src=\"https://drive.google.com/uc?export=view&id=14154g-4S0k9eGsqD8xlEmGahpyX79dH2\" width=\"50%\" height=\"50%\"></img></p>\n",
        "      \n",
        "  </td>\n",
        "</tr>\n",
        "</table>\n",
        "\n",
        "FindCars.com: [Website](http://www.findcars.com)\n",
        "\n",
        "Data Folder: [OneDrive](https://mnscu-my.sharepoint.com/:f:/g/personal/aq7839yd_minnstate_edu/EmOQfrwxzzRBqq8PH_8qTmMBy-1qKgM11Hb8vzjs025EEA?e=wyShYs)\n",
        "\n",
        "\n",
        "\n",
        "<table width='100%' ><tr><td bgcolor='green'></td></tr></table>\n",
        "\n"
      ]
    },
    {
      "cell_type": "markdown",
      "metadata": {
        "id": "njXGRUIC9Lgs"
      },
      "source": [
        "## Load dataset into COLAB"
      ]
    },
    {
      "cell_type": "markdown",
      "metadata": {
        "id": "FoT1NFX3DncH"
      },
      "source": [
        "Load the tidyverse() package into the current COLAB session."
      ]
    },
    {
      "cell_type": "code",
      "metadata": {
        "id": "LgaibuX_DtWK"
      },
      "source": [
        "#load tidyverse package\n",
        "library(tidyverse)"
      ],
      "execution_count": null,
      "outputs": []
    },
    {
      "cell_type": "markdown",
      "source": [
        "Next, read the data in using read_csv() function."
      ],
      "metadata": {
        "id": "f0j4qwXL3azu"
      }
    },
    {
      "cell_type": "code",
      "metadata": {
        "id": "e07lUbQ1F1cV"
      },
      "source": [
        "# Reading data in using read_csv \n",
        "FindCars <- read_csv(\"http://www.StatsClass.org/stat360/Datasets/FindCars.csv\")"
      ],
      "execution_count": null,
      "outputs": []
    },
    {
      "cell_type": "markdown",
      "metadata": {
        "id": "irbG4lJbENzv"
      },
      "source": [
        "View the first few rows of the FindCars data.frame."
      ]
    },
    {
      "cell_type": "code",
      "metadata": {
        "id": "HYKWH2i0EN6s"
      },
      "source": [
        "#View the first few rows of data\n",
        "head(FindCars)"
      ],
      "execution_count": null,
      "outputs": []
    },
    {
      "cell_type": "markdown",
      "metadata": {
        "id": "cjPuPzFkK2j5"
      },
      "source": [
        "## Obtain the Desired Subset of Data"
      ]
    },
    {
      "cell_type": "markdown",
      "metadata": {
        "id": "CiAtubn2LAS5"
      },
      "source": [
        "The model will be fit to data that meet the following conditions.  A filter() can be used in subset the data.\n",
        "\n",
        "\n",
        "*   CarType = Car\n",
        "*   Car should have mileage between 25000 and 100000\n",
        "\n"
      ]
    },
    {
      "cell_type": "code",
      "metadata": {
        "id": "Rsz6f1HwpBJc"
      },
      "source": [
        "#Using a fitler() to subset the desired data\n",
        "FindCars_CarsOnly <- (FindCars\n",
        "  %>% filter(CarType == \"Car\" & Miles > 25000 & Miles < 100000)\n",
        ")"
      ],
      "execution_count": 5,
      "outputs": []
    },
    {
      "cell_type": "markdown",
      "metadata": {
        "id": "y3ugjp0GpT-O"
      },
      "source": [
        "Before preceding, take a look at the FindCars_CarsOnly data.frame to ensure that the filtering was done correctly."
      ]
    },
    {
      "cell_type": "code",
      "metadata": {
        "id": "4B3P2yG3pUcR"
      },
      "source": [
        "head(FindCars_CarsOnly, n=20)"
      ],
      "execution_count": null,
      "outputs": []
    },
    {
      "cell_type": "markdown",
      "metadata": {
        "id": "1yzIMikj6S_M"
      },
      "source": [
        "## Simple Linear Regression - Model Setup"
      ]
    },
    {
      "cell_type": "markdown",
      "metadata": {
        "id": "H4diIPrN6YMm"
      },
      "source": [
        "Consider the following setup for the simple linear regression model.\n",
        "\n",
        "<ul>\n",
        "  <li><strong>Response Variable</strong>: Price</li>\n",
        "  <li><strong>Independent / Predictor Variable</strong>: Mileage</li>\n",
        "  <li><i>Assume</i> the following structure for the mean and variance functions</li>\n",
        "  </ul>"
      ]
    },
    {
      "cell_type": "markdown",
      "metadata": {
        "id": "X4gdlF3C60d2"
      },
      "source": [
        "<ul><ul>\n",
        "  <li>$E(Price | Miles) = \\beta_{0} + \\beta_{1} * Miles$</li>\n",
        "  <li>$Var(Price | Miles) = \\sigma^{2}$</li>\n",
        "</ul></ul>"
      ]
    },
    {
      "cell_type": "markdown",
      "metadata": {
        "id": "oV94hIr3Edo4"
      },
      "source": [
        "## Simple Linear Regression - Scatterplot"
      ]
    },
    {
      "cell_type": "markdown",
      "metadata": {
        "id": "3mzVUHNu4Cuw"
      },
      "source": [
        "First, create a scatterplot and include simple linear regression line."
      ]
    },
    {
      "cell_type": "code",
      "metadata": {
        "colab": {
          "base_uri": "https://localhost:8080/",
          "height": 511
        },
        "id": "yHLAoooA4C1_",
        "outputId": "478f9687-07d0-440b-a598-34af902822ca"
      },
      "source": [
        "#Scatterplot with simple linear regression line\n",
        "ggplot(data=FindCars_CarsOnly, aes(x=Miles,y=Price)) + \n",
        "  geom_point() +   \n",
        "  geom_smooth(method='lm', formula = y ~ x, se=FALSE) +\n",
        "  theme_classic()"
      ],
      "execution_count": null,
      "outputs": [
        {
          "output_type": "stream",
          "name": "stderr",
          "text": [
            "Warning message:\n",
            "“Removed 26 rows containing non-finite values (stat_smooth).”\n",
            "Warning message:\n",
            "“Removed 26 rows containing missing values (geom_point).”\n"
          ]
        },
        {
          "output_type": "display_data",
          "data": {
            "text/plain": [
              "plot without title"
            ],
            "image/png": "[encoded data removed]"
          },
          "metadata": {
            "image/png": {
              "width": 420,
              "height": 420
            }
          }
        }
      ]
    },
    {
      "cell_type": "markdown",
      "source": [
        "<table width='100%'><tr><td bgcolor=\"purple\"><font color=\"white\" size=\"+2\">Task</font></td></tr></table>"
      ],
      "metadata": {
        "id": "mcRoNlDxRv2P"
      }
    },
    {
      "cell_type": "markdown",
      "source": [
        "## Task:  Questions"
      ],
      "metadata": {
        "id": "BRnls6H4Rw0m"
      }
    },
    {
      "cell_type": "markdown",
      "source": [
        "\n",
        "\n",
        "1.   Describe the relationship between Price and Miles.\n",
        "\n",
        " - Form\n",
        " - Direction\n",
        " - Strength\n",
        "\n",
        "\n",
        "\n"
      ],
      "metadata": {
        "id": "wDu_-y5zRxEW"
      }
    },
    {
      "cell_type": "markdown",
      "source": [
        "\n",
        "2.   Does the propsed mean function seem appropriate?  Discuss.\n"
      ],
      "metadata": {
        "id": "8fgrJCrBExqP"
      }
    },
    {
      "cell_type": "markdown",
      "source": [
        "3.   Does the variance in Price appear to change as a function of Miles? That is, does a constant variance function seem appropriate? Discuss."
      ],
      "metadata": {
        "id": "4Y6dD1-vEziO"
      }
    },
    {
      "cell_type": "markdown",
      "source": [
        "<table width='100%'><tr><td bgcolor=\"purple\"><font color=\"white\" size=\"+2\">&nbsp;</font></td></tr></table>"
      ],
      "metadata": {
        "id": "Q6JhdIwI7dNp"
      }
    },
    {
      "cell_type": "markdown",
      "metadata": {
        "id": "foTUaE9qNAAz"
      },
      "source": [
        "## A Visual Inspection of the Mean Function"
      ]
    },
    {
      "cell_type": "markdown",
      "metadata": {
        "id": "QC8Vc3nKN19K"
      },
      "source": [
        "A visual inspection for your assumption regarding the mean function can be done.  If a robust smoother (e.g. loess smoother) is fairly linear, the a linear mean function is reasonable. "
      ]
    },
    {
      "cell_type": "code",
      "metadata": {
        "id": "nISkmkPINAH5"
      },
      "source": [
        "#Scatterplot with lm and loess smoother\n",
        "ggplot(data=FindCars_CarsOnly, aes(x=Miles,y=Price)) + \n",
        "  geom_point() +    \n",
        "  geom_smooth(method='lm', formula = y ~ x, se=FALSE) + #Add a SLR line\n",
        "  geom_smooth(method='loess', formula = y ~ x, se=FALSE, col=\"darkgreen\") +  #Add loess smoother \n",
        "  theme_classic()"
      ],
      "execution_count": null,
      "outputs": []
    },
    {
      "cell_type": "markdown",
      "source": [
        "<table width='100%'><tr><td bgcolor=\"purple\"><font color=\"white\" size=\"+2\">Task</font></td></tr></table>"
      ],
      "metadata": {
        "id": "cfhBlJZp86JY"
      }
    },
    {
      "cell_type": "markdown",
      "source": [
        "## Task:  Questions"
      ],
      "metadata": {
        "id": "_qLjLAQ086JZ"
      }
    },
    {
      "cell_type": "markdown",
      "source": [
        "\n",
        "\n",
        "4.   Here, the loess smoother and lm smoother are nearly identical.  What does this imply about the use of a linear mean function to model this data?  Briefly discuss.\n",
        "\n",
        "\n"
      ],
      "metadata": {
        "id": "EEiD7MZx86JZ"
      }
    },
    {
      "cell_type": "markdown",
      "source": [
        "<table width='100%'><tr><td bgcolor=\"purple\"><font color=\"white\" size=\"+2\">&nbsp;</font></td></tr></table>"
      ],
      "metadata": {
        "id": "Dm7s3ZLi9KHX"
      }
    },
    {
      "cell_type": "markdown",
      "metadata": {
        "id": "Ur8YR3NjNHjw"
      },
      "source": [
        "## Fitting the SLR Model"
      ]
    },
    {
      "cell_type": "markdown",
      "source": [
        "Now, let's fit the simple linear regression model to this data."
      ],
      "metadata": {
        "id": "4ZKRHD8-9gjZ"
      }
    },
    {
      "cell_type": "code",
      "metadata": {
        "id": "7sJchah397NR"
      },
      "source": [
        "#Fitting the simple linear regression model\n",
        "LinearModel_Price_Miles <- lm(Price ~ Miles, data=FindCars_CarsOnly)"
      ],
      "execution_count": 8,
      "outputs": []
    },
    {
      "cell_type": "markdown",
      "source": [
        "Next, getting a summary of the model output."
      ],
      "metadata": {
        "id": "Bm4uSSti9rAo"
      }
    },
    {
      "cell_type": "code",
      "metadata": {
        "colab": {
          "base_uri": "https://localhost:8080/",
          "height": 347
        },
        "id": "yngvjUY0-lyB",
        "outputId": "fa224fbc-0414-4ea9-b5ce-c95630db18e4"
      },
      "source": [
        "#Getting a summary of the model\n",
        "summary(LinearModel_Price_Miles)"
      ],
      "execution_count": 12,
      "outputs": [
        {
          "output_type": "display_data",
          "data": {
            "text/plain": [
              "\n",
              "Call:\n",
              "lm(formula = Price ~ Miles, data = FindCars_CarsOnly)\n",
              "\n",
              "Residuals:\n",
              "   Min     1Q Median     3Q    Max \n",
              "-16348  -3592   -235   2950  42847 \n",
              "\n",
              "Coefficients:\n",
              "              Estimate Std. Error t value Pr(>|t|)    \n",
              "(Intercept)  2.771e+04  7.996e+02   34.66   <2e-16 ***\n",
              "Miles       -1.791e-01  1.216e-02  -14.73   <2e-16 ***\n",
              "---\n",
              "Signif. codes:  0 ‘***’ 0.001 ‘**’ 0.01 ‘*’ 0.05 ‘.’ 0.1 ‘ ’ 1\n",
              "\n",
              "Residual standard error: 6247 on 540 degrees of freedom\n",
              "  (26 observations deleted due to missingness)\n",
              "Multiple R-squared:  0.2866,\tAdjusted R-squared:  0.2853 \n",
              "F-statistic:   217 on 1 and 540 DF,  p-value: < 2.2e-16\n"
            ]
          },
          "metadata": {}
        }
      ]
    },
    {
      "cell_type": "markdown",
      "source": [
        "<table width='100%'><tr><td bgcolor=\"purple\"><font color=\"white\" size=\"+2\">Task</font></td></tr></table>"
      ],
      "metadata": {
        "id": "jk0tg2cH9825"
      }
    },
    {
      "cell_type": "markdown",
      "source": [
        "## Task:  Questions"
      ],
      "metadata": {
        "id": "pl76tKzk9826"
      }
    },
    {
      "cell_type": "markdown",
      "source": [
        "Consider the estimated simple linear regression model.\n",
        "\n",
        "$$\\begin{array}{rcl}\n",
        "\\hat{E}(Price|Miles) & = & \\hat{\\beta}_{0} + \\hat{\\beta}_{1} * Miles \\\\\n",
        "& = & 27710 -0.1791 * Miles\\\\\n",
        "\\end{array}\n",
        "$$\n",
        "\n"
      ],
      "metadata": {
        "id": "IFzZ_6JN9826"
      }
    },
    {
      "cell_type": "markdown",
      "source": [
        "5.    What is the interpretation of $\\hat{\\beta}_{1} = -\\$0.1791$?"
      ],
      "metadata": {
        "id": "yHauZtlZ-nf8"
      }
    },
    {
      "cell_type": "markdown",
      "source": [
        "6.    What is the interpretation of $\\hat{\\beta}_{0} = \\$27,710$?"
      ],
      "metadata": {
        "id": "zW8fNUqQ-13g"
      }
    },
    {
      "cell_type": "markdown",
      "source": [
        "7.  What is the interpretation of $R^2$? "
      ],
      "metadata": {
        "id": "EJYVJUQR_A0M"
      }
    },
    {
      "cell_type": "markdown",
      "source": [
        "8.  What is the interpretation of the Root Mean Square Error = $RMSE$ (named Residual standard error by R)?"
      ],
      "metadata": {
        "id": "t4y4LR-Q_GFB"
      }
    },
    {
      "cell_type": "markdown",
      "source": [
        "Consider the follwoing statistical hypothesis test done by R.\n",
        "\n",
        "$$\\begin{array}{rl}\n",
        "H_{0}: & \\beta_{1} = 0 \\\\\n",
        "H_{A}: & \\beta_{1} \\ne 0 \\\\\n",
        "\\end{array}\n",
        "$$"
      ],
      "metadata": {
        "id": "K329fE_p_dCa"
      }
    },
    {
      "cell_type": "markdown",
      "source": [
        "9.  What is the test statistic, p-value, decision, and conclusion from this test?\n",
        "\n",
        "- Test Statistic:\n",
        "- P-value:\n",
        "- Decision:\n",
        "- Conclusion:"
      ],
      "metadata": {
        "id": "m39b623A_4GD"
      }
    },
    {
      "cell_type": "markdown",
      "source": [
        "<table width='100%'><tr><td bgcolor=\"purple\"><font color=\"white\" size=\"+2\">&nbsp;</font></td></tr></table>"
      ],
      "metadata": {
        "id": "UlB-6QlH9826"
      }
    },
    {
      "cell_type": "markdown",
      "source": [
        "## Confidence Intervals for Model Parameters"
      ],
      "metadata": {
        "id": "WMWnCNwiBgiB"
      }
    },
    {
      "cell_type": "markdown",
      "source": [
        "First, let's obtain the appropirate quantiles from a t-distribution with $df=(542-2)$.  A t-distribution with $df=540$ will have 95% of it's probability between $\\pm 1.9644$."
      ],
      "metadata": {
        "id": "Ta6I-yUgM8_H"
      }
    },
    {
      "cell_type": "markdown",
      "source": [
        "<p align='center'><img src=\"https://drive.google.com/uc?export=view&id=1PySieW0XFu43Wf_QypF0dq7ulT0O1nkF\" width=\"50%\" height=\"50%\"></img>\n",
        "<br><font size=\"-1\">Source: https://homepage.divms.uiowa.edu/~mbognar/applets/t.html</font>\n",
        "</p>\n",
        "\n"
      ],
      "metadata": {
        "id": "CVmGYv_eM8_J"
      }
    },
    {
      "cell_type": "markdown",
      "source": [
        "The appropriate quantiles can be obtained direclty in R using the qt() function."
      ],
      "metadata": {
        "id": "OgYlI0_XMzTY"
      }
    },
    {
      "cell_type": "code",
      "source": [
        "#Getting the 2.5% and 97.5% percentiles from t-distribution \n",
        "qt(c(0.025,0.975), df=540)"
      ],
      "metadata": {
        "id": "5PUIczmRK6ZO"
      },
      "execution_count": null,
      "outputs": []
    },
    {
      "cell_type": "markdown",
      "source": [
        "The 95% confidence interval for $\\beta_{1}$ is given by the following quantities.  \n",
        "\n",
        "$$\n",
        "\\begin{array}{rl}\n",
        "Lower \\space Endpoint: & & \\hat{\\beta}_{1} - \\left( 1.9644 * Std \\space Error(\\hat{\\beta}_{1})  \\right) \\\\\n",
        "& = &  -0.1791- \\left( 1.9644 * 0.0122 \\right) \\\\\n",
        "& = &  -0.2030 \\\\\n",
        "\\end{array}\n",
        "$$\n",
        "\n",
        "Likewise for the upper endpoint, \n",
        "\n",
        "$$\n",
        "\\begin{array}{rl}\n",
        "Upper \\space Endpoint: & & \\hat{\\beta}_{1} + \\left( 1.9971 * Std \\space Error(\\hat{\\beta}_{1} \\right) \\\\\n",
        "& = &  -0.1791 + \\left( 1.9644 * 0.0122 \\right) \\\\\n",
        "& = & -0.1552   \\\\\n",
        "\\end{array}\n",
        "$$"
      ],
      "metadata": {
        "id": "zlYdOx8XO3QX"
      }
    },
    {
      "cell_type": "markdown",
      "source": [
        "The confidence interval for $\\beta_{0}$ can be computed similarly.  The 95% confidence interval for $\\beta_{0}$ and $\\beta_{1}$ can be computed directly using the confit() function in R.  This is demostrated here."
      ],
      "metadata": {
        "id": "4wY_Yi0tDe9g"
      }
    },
    {
      "cell_type": "code",
      "metadata": {
        "id": "xeA_UgloRbc0"
      },
      "source": [
        "# CI for Model Parameters\n",
        "confint(LMModel_Price_Miles)"
      ],
      "execution_count": null,
      "outputs": []
    },
    {
      "cell_type": "markdown",
      "source": [
        "<table width='100%'><tr><td bgcolor=\"purple\"><font color=\"white\" size=\"+2\">Task</font></td></tr></table>"
      ],
      "metadata": {
        "id": "DhxgqEc0ENl-"
      }
    },
    {
      "cell_type": "markdown",
      "source": [
        "## Task:  Questions"
      ],
      "metadata": {
        "id": "3cvc_E2hENmS"
      }
    },
    {
      "cell_type": "markdown",
      "source": [
        "10.    Provide an interpretation of the 95% CI for $\\beta_{0}$:  "
      ],
      "metadata": {
        "id": "8cZrKC5QENmT"
      }
    },
    {
      "cell_type": "markdown",
      "source": [
        "11.    Provide an interpretation of the 95% CI for $\\beta_{1}$:"
      ],
      "metadata": {
        "id": "krddqUUDEc_4"
      }
    },
    {
      "cell_type": "markdown",
      "source": [
        "<table width='100%'><tr><td bgcolor=\"purple\"><font color=\"white\" size=\"+2\">&nbsp;</font></td></tr></table>"
      ],
      "metadata": {
        "id": "XjzlnCnMEkSv"
      }
    },
    {
      "cell_type": "markdown",
      "source": [
        "##  Getting the Quality of Fit Plots"
      ],
      "metadata": {
        "id": "IwenGJDhJqmJ"
      }
    },
    {
      "cell_type": "markdown",
      "source": [
        "First, let's create a data.frame that contains the predicted values and residuals for all data in our original dataset."
      ],
      "metadata": {
        "id": "PPZ3VfTKJ-a6"
      }
    },
    {
      "cell_type": "code",
      "source": [
        "#Getting a data.frame that contains the predicted and residuals\n",
        "(FindCars_CarsOnly\n",
        " %>% mutate(\n",
        "            Predicted_Price = predict(LinearModel_Price_Miles, newdata = FindCars_CarsOnly),\n",
        "            Residual = (Price - Predicted_Price)\n",
        "           )\n",
        "  %>% select(Description, Year, Make, Dealer, Location, Price, Miles, Predicted_Price, Residual)\n",
        " ) -> FindCars_CarsOnly_with_Predicted_and_Residuals"
      ],
      "metadata": {
        "id": "KDt50QtkJqs_"
      },
      "execution_count": 13,
      "outputs": []
    },
    {
      "cell_type": "markdown",
      "source": [
        "Next, getting a scatterplot of $Actual$ vs $Predicted$. "
      ],
      "metadata": {
        "id": "KsKHsd-6G5Wy"
      }
    },
    {
      "cell_type": "code",
      "source": [
        "#Scatterplot actual of Actual vs Predicted\n",
        "ggplot(data=FindCars_CarsOnly_with_Predicted_and_Residuals, aes(x=Predicted_Price, y=Price)) + \n",
        "  geom_point() +    #adding the points to the plot\n",
        "  geom_abline(intercept = 0, slope = 1, col=\"darkgreen\", size=1) +   # adding a y=x reference line\n",
        " # geom_smooth(method='loess', formula = y ~ x, se=FALSE) +  #adding a loess smoother to identify patterns\n",
        "  \n",
        "  # Deal with scaling the plot appropriately\n",
        "  coord_fixed(ratio = 1) +    # Force the plot to be square, i.e. aspect ratio = 1\n",
        "  xlim(0,60000) +            # Set the limits on the x-axis (should match the y-axis)\n",
        "  ylim(0,60000) +            # Set the limits on the y-axis (should match the x-axis)\n",
        "  \n",
        "  ggtitle(\"Plot of Actual vs Predicted\") +   #Add a title to the plot\n",
        "  \n",
        "  theme_bw()"
      ],
      "metadata": {
        "id": "urOgB3qGG5cp"
      },
      "execution_count": null,
      "outputs": []
    },
    {
      "cell_type": "markdown",
      "source": [
        "Also, a scatterplot of $Residuals$ vs $Predicted$. "
      ],
      "metadata": {
        "id": "qJfrW5dDJNxE"
      }
    },
    {
      "cell_type": "code",
      "source": [
        "#Scatterplot with simple linear regression line\n",
        "ggplot(data=FindCars_CarsOnly_with_Predicted_and_Residuals, aes(x=Predicted_Price, y=Residual)) + \n",
        "  geom_point() +    #adding the points to the plot\n",
        "  geom_abline(intercept = 0, slope = 0, color=\"darkgreen\", size=1) +   # adding a y=0 reference line\n",
        "  geom_smooth(method='loess', formula = y ~ x, se=FALSE) +  #adding a loess smoother to identify patterns in Residuals\n",
        "  \n",
        "  # Make the y-axis symmetric about 0\n",
        "  ylim(-40000,40000) + \n",
        "\n",
        "  ggtitle(\"Plot of Residuals vs Predicted\") +   #Add a title to the plot\n",
        "  \n",
        "  theme_bw()"
      ],
      "metadata": {
        "id": "0kmjAR9tJN4h"
      },
      "execution_count": null,
      "outputs": []
    },
    {
      "cell_type": "markdown",
      "source": [
        "<table width='100%'><tr><td bgcolor=\"purple\"><font color=\"white\" size=\"+2\">Task</font></td></tr></table>"
      ],
      "metadata": {
        "id": "hXTsowCdKjYx"
      }
    },
    {
      "cell_type": "markdown",
      "source": [
        "## Task:  Questions"
      ],
      "metadata": {
        "id": "y9_vZ_shKjYy"
      }
    },
    {
      "cell_type": "markdown",
      "source": [
        "12.    What is learned from the $Actual$ vs $Predicted$ scatterplot? Discuss."
      ],
      "metadata": {
        "id": "Z4ee7oCzKjYy"
      }
    },
    {
      "cell_type": "markdown",
      "source": [
        "13.    What is learned from the $Residual$ vs $Predicted$ scatterplot? Discuss."
      ],
      "metadata": {
        "id": "JE-ciClgKjYy"
      }
    },
    {
      "cell_type": "markdown",
      "source": [
        "14.  Consider the following code.  What is this code doing?  Why might it be important to investigate these particular cars?  Discuss."
      ],
      "metadata": {
        "id": "6RNhRGpKLeuj"
      }
    },
    {
      "cell_type": "code",
      "source": [
        "(FindCars_CarsOnly_with_Predicted_and_Residuals\n",
        " %>% filter(Residual > 20000)\n",
        ")"
      ],
      "metadata": {
        "id": "MkoYFBZnLe1o"
      },
      "execution_count": null,
      "outputs": []
    },
    {
      "cell_type": "markdown",
      "source": [
        "<table width='100%'><tr><td bgcolor=\"purple\"><font color=\"white\" size=\"+2\">&nbsp;</font></td></tr></table>"
      ],
      "metadata": {
        "id": "0y_kK18CKjYz"
      }
    },
    {
      "cell_type": "markdown",
      "metadata": {
        "id": "H7SRa979SOle"
      },
      "source": [
        "## Making a Prediction"
      ]
    },
    {
      "cell_type": "markdown",
      "source": [
        "Suppose the goal is to make a prediction for a car that has $Miles= 60000$.  "
      ],
      "metadata": {
        "id": "7PBBBmbnd7Bz"
      }
    },
    {
      "cell_type": "markdown",
      "source": [
        "<p align='center'><font size=\"+1\">Used Car with Miles = 600000</font><br><img src=\"https://drive.google.com/uc?export=view&id=1C9nfG_4DJ2nOYCPAlIcJWdEQW5MC3jwR\" width=\"25%\" height=\"25%\"></img>\n",
        "</p>"
      ],
      "metadata": {
        "id": "-pw0uDBC5Fvb"
      }
    },
    {
      "cell_type": "markdown",
      "source": [
        "From the scatterplot that includes the estimated regression line, we can see that a car with $Miles=60000$ has an expected price near $\\$17,000$."
      ],
      "metadata": {
        "id": "RzUcs7-d5_dD"
      }
    },
    {
      "cell_type": "markdown",
      "source": [
        "<p align='center'><img src=\"https://drive.google.com/uc?export=view&id=1w86YtGaGARz1jcmve2ufD7OIHh8Kz_OG\" width=\"50%\" height=\"50%\"></img>\n",
        "</p>"
      ],
      "metadata": {
        "id": "r-ntTiL1d7EG"
      }
    },
    {
      "cell_type": "markdown",
      "source": [
        "The estimated regression equation for the expected price of a car given Miles is given by the following equation.\n",
        "\n",
        "$$\\begin{array}{rcl}\n",
        "\\hat{E}(Price|Miles=60000) & = & 27710 - 0.1791 * Miles \\\\\n",
        "& = & 27710 - 0.1791 * 60000 \\\\\n",
        "& = & \\$16,964 \\\\ \n",
        "& \\approx & \\$17,000\n",
        "\\end{array}\n",
        "$$"
      ],
      "metadata": {
        "id": "jt4vBEQHehod"
      }
    },
    {
      "cell_type": "markdown",
      "metadata": {
        "id": "CReMZl1ZSTU9"
      },
      "source": [
        "In R, making a prediction for a new observation requires that one to create a new data.frame.  The new data.frame must contain a value for each of the predictor variables in the model.  "
      ]
    },
    {
      "cell_type": "code",
      "metadata": {
        "id": "az4bPOVYSOud"
      },
      "source": [
        "MyCar <- data.frame(Miles = c(60000))"
      ],
      "execution_count": 17,
      "outputs": []
    },
    {
      "cell_type": "markdown",
      "source": [
        "<u>Note</u>:  The names used for the predictors in the new data.frame must match **exactly** the names used for the predictors in the model object.  "
      ],
      "metadata": {
        "id": "2TILgMTS8Y6D"
      }
    },
    {
      "cell_type": "markdown",
      "source": [
        "\n",
        "<p align='center'><img src=\"https://drive.google.com/uc?export=view&id=1xUIvSPhJovx5lw45LME66WGzeBQCJObf\" width=\"50%\" height=\"50%\"></img>\n",
        "</p>"
      ],
      "metadata": {
        "id": "VzOx1H06gT5U"
      }
    },
    {
      "cell_type": "markdown",
      "metadata": {
        "id": "78w3CjRsSrXp"
      },
      "source": [
        "Next, the predict() function can be used to make the prediction.  The predict() function takes two arguments:\n",
        "\n",
        "\n",
        "1.   The model object that will be used for the prediction\n",
        "2.   A data.frame that contians values for which predictions will be made.\n",
        "\n"
      ]
    },
    {
      "cell_type": "code",
      "metadata": {
        "id": "Ebot5o4CSrft"
      },
      "source": [
        "predict(LinearModel_Price_Miles, newdata=MyCar)"
      ],
      "execution_count": null,
      "outputs": []
    },
    {
      "cell_type": "code",
      "source": [],
      "metadata": {
        "id": "RlQtdCWWqtWX"
      },
      "execution_count": null,
      "outputs": []
    },
    {
      "cell_type": "code",
      "source": [],
      "metadata": {
        "id": "fXDuHyfTq6iP"
      },
      "execution_count": null,
      "outputs": []
    },
    {
      "cell_type": "markdown",
      "source": [
        "## Variation in a Prediction"
      ],
      "metadata": {
        "id": "vBZp1aFX8854"
      }
    },
    {
      "cell_type": "markdown",
      "source": [
        "Suppose the goal is to predict the price of a car with $Miles = 60000$.  The variation in this prediction is due to two components:\n",
        "\n",
        "- Variation in the estimated mean function, i.e. a different set of data will produce a slightly different mean function; hence a slightly different prediction\n",
        "- Variation due to other factors not be considered, i.e. the fact that two different cars with the same mileage may not cost the same\n"
      ],
      "metadata": {
        "id": "PLM3i5tHAlSf"
      }
    },
    {
      "cell_type": "markdown",
      "source": [
        "<p align='center'><img src=\"https://drive.google.com/uc?export=view&id=1Iici4bRbqAD9yVRGKXP8MHrPm3a-sI8y\" width=\"50%\" height=\"50%\"></img>\n",
        "</p>"
      ],
      "metadata": {
        "id": "JMhXTBnDCuXG"
      }
    },
    {
      "cell_type": "markdown",
      "source": [
        "<table>\n",
        "  <tr>\n",
        "    <td align=\"center\" valign=\"top\"><font size=\"+1\">Variation in Estimated Mean Function</font><br><img src=\"https://drive.google.com/uc?export=view&id=1jVd9ykv3sh3FCUXnbVJjseOc-GKyFHAU\"></img>\n",
        "    </td>\n",
        "    <td align=\"center\" valign=\"top\"><font size=\"+1\">Variation in Individual Cars</font><br><img src=\"https://drive.google.com/uc?export=view&id=168VzIE7An2ukkQtRd4_qDC9_uYFfGhgO\"></img>\n",
        "    </td>\n",
        "  </tr>\n",
        "</table>\n"
      ],
      "metadata": {
        "id": "7MFzzPuoDGDQ"
      }
    },
    {
      "cell_type": "markdown",
      "source": [
        "Recall, the bootstrap procedure allows one to investigate the variation present in the coefficients of the estimated regression equation over repeated sampling.  Thus, the boostrap can help us understand the variation in the estiamted regression line over repeated sampling."
      ],
      "metadata": {
        "id": "gE4pK5hX-ugp"
      }
    },
    {
      "cell_type": "code",
      "source": [
        "#@title Bootstrap - Repeated Slopes Graph\n",
        "#######################################################\n",
        "# Bootstrap Regression\n",
        "# Note: bootstrapping residuals here\n",
        "#######################################################\n",
        "\n",
        "BootstrapSlopeGraph=function(slr_object,b=100,delay=0){\n",
        "\n",
        "\ty=slr_object$model[,1]\n",
        "\tx=slr_object$model[,2]\n",
        "\tresid=slr_object$residuals\n",
        "\n",
        "\tplot(x,y,type=\"n\", xlab=\"Miles\",ylab=\"Price\", xaxt=\"n\", yaxt=\"n\")\n",
        "\tabline(slr_object)\n",
        "  xmarks <-c(40000,60000,80000,100000)\n",
        "  ymarks <-c(0,10000,20000,30000,40000,50000,60000)\n",
        "  axis(1,at=xmarks,labels=format(xmarks,scientific=FALSE))\n",
        "  axis(2,at=ymarks,labels=format(ymarks,scientific=FALSE))\n",
        "\n",
        "\tfor(i in 1:b){\n",
        "\t\tresidstar = sample(resid,replace=F)\n",
        "\t\tystar=y+residstar\n",
        "\t\tlmtemp = lm(ystar~x)\n",
        "\t\tabline(lmtemp,col=\"grey\")\n",
        "\t}\n",
        "}\n"
      ],
      "metadata": {
        "cellView": "form",
        "id": "Cj0R-Q8p-jrj"
      },
      "execution_count": 19,
      "outputs": []
    },
    {
      "cell_type": "markdown",
      "source": [
        "Next, the BoostrapSlopeGraph() function will be used to obtain a total of 1000 repeated regression lines."
      ],
      "metadata": {
        "id": "uGP5Od63-qbL"
      }
    },
    {
      "cell_type": "code",
      "source": [
        "BootstrapSlopeGraph(LinearModel_Price_Miles, b=1000)"
      ],
      "metadata": {
        "id": "JutEmoPh-qmS"
      },
      "execution_count": null,
      "outputs": []
    },
    {
      "cell_type": "markdown",
      "source": [
        "It can be shown that for a simple linear regression model, the estimated regression line must pass through the point $(\\bar{x}, \\bar{y})$.  An side-effect of this condition is that there is less variability in the estimated regression line near the average x value and more variability in the estimated regression line away from the average x value."
      ],
      "metadata": {
        "id": "_2aU5l-e_aMZ"
      }
    },
    {
      "cell_type": "markdown",
      "source": [
        "<p align='center'><img src=\"https://drive.google.com/uc?export=view&id=13jctVF1gG06-d7_QIz6yMP1uD8dehdBD\" width=\"50%\" height=\"50%\"></img>\n",
        "</p>"
      ],
      "metadata": {
        "id": "OjMDqLBtQQPn"
      }
    },
    {
      "cell_type": "markdown",
      "source": [
        "The following provides a list of equations for the variation in a mean, variation in a mean that is estimated from a SLR line, and the variation in an individual prediction that is obtained from an estimated regression line."
      ],
      "metadata": {
        "id": "QBQ21Vz1EEI8"
      }
    },
    {
      "cell_type": "markdown",
      "source": [
        "- Variation in $\\hat{E}(Price)$\n",
        "  $$ \\sqrt{\\hat{\\sigma}^{2} \\left( \\frac{1}{n} \\right)}\n",
        "  $$\n",
        "\n",
        "- Variation in $\\hat{E}(Price | Miles)$\n",
        "  $$ \\sqrt{\\hat{\\sigma}^{2} \\left( \\frac{1}{n} + \\frac{(x_{pred} - \\bar{x})^2}{\\sum(x_i - \\bar{x})^2}\\right)}\n",
        "  $$\n",
        "\n",
        "- Variation in $Price|Miles$\n",
        "  $$ \\sqrt{\\hat{\\sigma}^{2} \\left( \\frac{1}{n} + \\frac{(x_{pred} - \\bar{x})^2}{\\sum(x_i - \\bar{x})^2}\\right) + \\hat{\\sigma}^2}\n",
        "  $$"
      ],
      "metadata": {
        "id": "JMT-CqTShpew"
      }
    },
    {
      "cell_type": "markdown",
      "metadata": {
        "id": "ddXi2cGoUVtH"
      },
      "source": [
        "## The 95% Confidence Interval for a Prediction"
      ]
    },
    {
      "cell_type": "markdown",
      "metadata": {
        "id": "L3OEi1BbU8B-"
      },
      "source": [
        "The following specification of the predict() function will compute a 95% Confidence Interval for an *average* prediction."
      ]
    },
    {
      "cell_type": "code",
      "metadata": {
        "id": "Z5On2MwdUVzN"
      },
      "source": [
        "predict(LinearModel_Price_Miles, newdata=MyCar, interval = \"confid\", se=TRUE)"
      ],
      "execution_count": null,
      "outputs": []
    },
    {
      "cell_type": "markdown",
      "source": [
        "The $se.fit$ value from the predict() output is the standard error of the estimated regression line for $Miles=60000$.\n",
        "\n",
        "$$ \\sqrt{\\hat{\\sigma}^{2} \\left( \\frac{1}{n} + \\frac{(x_{pred} - \\bar{x})^2}{\\sum(x_i - \\bar{x})^2}\\right)} = 269.38\n",
        "$$"
      ],
      "metadata": {
        "id": "xHTwRZItG7l7"
      }
    },
    {
      "cell_type": "markdown",
      "source": [
        "The following summaries for Miles allow one to compute $(x_{pred}-\\bar{x})^2$ and $\\sum(x_i - \\bar{x})^2$ when computing $se.fit$."
      ],
      "metadata": {
        "id": "PehWr1f1r7n5"
      }
    },
    {
      "cell_type": "code",
      "source": [
        "(FindCars_CarsOnly\n",
        "  %>% summarize(\n",
        "                  Mean_Miles = mean(Miles),\n",
        "                  Variance_Miles = var(Miles),\n",
        "                  Count = n()\n",
        "               )\n",
        ")"
      ],
      "metadata": {
        "id": "RFnHwb-4rhpX"
      },
      "execution_count": null,
      "outputs": []
    },
    {
      "cell_type": "markdown",
      "source": [
        "The 95% confidence interval for $E(Price|Miles=60000) $ is given by the following quantities.  The value $1.96644$ is the appropriate t-quantile from a t-distribution with $df=540$. \n",
        "\n",
        "$$\n",
        "\\begin{array}{rl}\n",
        "Lower \\space Endpoint: & & \\hat{E}(Price|Miles=60000) - \\left( 1.9644 * Std \\space Error  \\right) \\\\\n",
        "& = &  16964.23- \\left( 1.9644 * 269.38 \\right) \\\\\n",
        "& = &  16435.07 \\\\\n",
        "\\end{array}\n",
        "$$\n",
        "\n",
        "Likewise for the upper endpoint, \n",
        "\n",
        "$$\n",
        "\\begin{array}{rl}\n",
        "Upper \\space Endpoint: & & \\hat{E}(Price|Miles=60000) + \\left( 1.9644 * Std \\space Error  \\right) \\\\\n",
        "& = &  16964.23 + \\left( 1.9644 * 269.38 \\right) \\\\\n",
        "& = &  17493.39 \\\\\n",
        "\\end{array}\n",
        "$$\n"
      ],
      "metadata": {
        "id": "4v6qIa3OIqzw"
      }
    },
    {
      "cell_type": "markdown",
      "source": [
        "Again, a 95% Confidence Interval is for an **average**.  That is, what is the expected average price for a collection of used cars all with $Miles=60000$.\n",
        "\n",
        "<p align='center'><font size=\"+1\">Several Used Car with Miles = 600000</font><br><img src=\"https://drive.google.com/uc?export=view&id=1gyw84-ptqDP6L0zxQK01h1k6UjSCQD7O\" width=\"25%\" height=\"25%\"></img>\n",
        "</p>"
      ],
      "metadata": {
        "id": "YXhJ_y9LHFT5"
      }
    },
    {
      "cell_type": "markdown",
      "source": [
        "## The 95% Prediction Interval for a Prediction"
      ],
      "metadata": {
        "id": "eE_Mw1a0KtoP"
      }
    },
    {
      "cell_type": "markdown",
      "metadata": {
        "id": "I1ZU9VsAUxKP"
      },
      "source": [
        "The following specification of the predict() function will compute a 95% Prediction Interval for an *individual* prediction."
      ]
    },
    {
      "cell_type": "code",
      "metadata": {
        "id": "bG07wceoUxUQ"
      },
      "source": [
        "predict(LinearModel_Price_Miles, newdata=MyCar, interval = \"predict\", se=TRUE)"
      ],
      "execution_count": null,
      "outputs": []
    },
    {
      "cell_type": "markdown",
      "source": [
        "\n",
        "$$ \\begin{array}{rcl}\n",
        "\\sqrt{\\hat{\\sigma}^{2} \\left( \\frac{1}{n} + \\frac{(x_{pred} - \\bar{x})^2}{\\sum(x_i - \\bar{x})^2}\\right) + \\hat{\\sigma}^2} & = & \\sqrt{269.38^2 + 6247.28^2}\\\\\n",
        "& = & \\sqrt{39101073} \\\\ \n",
        "& = & 6253 \\\\ \n",
        "\\end{array} \n",
        "$$"
      ],
      "metadata": {
        "id": "JtOTHLWiLDls"
      }
    },
    {
      "cell_type": "markdown",
      "source": [
        "The 95% Prediction Interval for $E(Price|Miles=60000) $ is given by the following quantities.  \n",
        "\n",
        "$$\n",
        "\\begin{array}{rl}\n",
        "Lower \\space Endpoint: & & \\hat{E}(Price|Miles=60000) - \\left( 1.9644 * Std \\space Error  \\right) \\\\\n",
        "& = &  16964.23- \\left( 1.9644 * 6253 \\right) \\\\\n",
        "& = &  4681\\\\\n",
        "\\end{array}\n",
        "$$\n",
        "\n",
        "Likewise for the upper endpoint, \n",
        "\n",
        "$$\n",
        "\\begin{array}{rl}\n",
        "Upper \\space Endpoint: & & \\hat{E}(Price|Miles=60000) + \\left( 1.9644 * Std \\space Error  \\right) \\\\\n",
        "& = &  16964.23 + \\left( 1.9644 * 6253 \\right) \\\\\n",
        "& = &  29248 \\\\\n",
        "\\end{array}\n",
        "$$\n"
      ],
      "metadata": {
        "id": "HB5bsgvTMhX2"
      }
    },
    {
      "cell_type": "markdown",
      "source": [
        "Again, a 95% Prediction Interval is for the average of an **individual** car.  That is, what is the average price for a single used car with $Miles=60000$.\n",
        "\n",
        "<p align='center'><font size=\"+1\">Used Car with Miles = 600000</font><br><img src=\"https://drive.google.com/uc?export=view&id=1C9nfG_4DJ2nOYCPAlIcJWdEQW5MC3jwR\" width=\"25%\" height=\"25%\"></img>\n",
        "</p>\n"
      ],
      "metadata": {
        "id": "4GNVdbteNsaY"
      }
    },
    {
      "cell_type": "markdown",
      "source": [
        "## Final Thoughts"
      ],
      "metadata": {
        "id": "yFfl4xH1PZ9r"
      }
    },
    {
      "cell_type": "markdown",
      "source": [
        "In practice, there tends to be confusion between 95% confidence intervals and 95% prediction intervals.\n",
        "\n",
        "1.  Prediction intervals are *always* wider than confidence intervals.\n",
        "2.  Prediction intervals are often too wide to be useful in practice.\n",
        "3.  Many do *not* understand the difference between a prediction interval and confidence interval for a prediction.  This tends to lead to confusion/abuse in practice, i.e. people report confidence interval limits, but interpret them as prediction intervals.\n",
        "\n",
        "\n",
        "4.  In ggplot, setting se=TRUE in the geom_smooth() function produces the 95% confidence interval for all predicted values.\n"
      ],
      "metadata": {
        "id": "fcKPEQhnPcZa"
      }
    },
    {
      "cell_type": "code",
      "metadata": {
        "id": "uB2h96NHVUEK"
      },
      "source": [
        "#Scatterplot with specification of se=TRUE\n",
        "ggplot(data=FindCars_CarsOnly, aes(x=Miles,y=Price)) + \n",
        "  geom_point() +    \n",
        "  geom_smooth(method='lm', formula = y ~ x, se=TRUE) +  \n",
        "  theme_classic()"
      ],
      "execution_count": null,
      "outputs": []
    },
    {
      "cell_type": "markdown",
      "metadata": {
        "id": "2NF0yQxjWHz3"
      },
      "source": [
        "## Getting the 95% Confidence Interval and 95% Prediction Interval Bands"
      ]
    },
    {
      "cell_type": "markdown",
      "source": [
        "The following code will add the 95% CIs and 95% PIs to the original data.frame.  This is needed in order to plot the bands with ggplot."
      ],
      "metadata": {
        "id": "hRHxI95SQaCT"
      }
    },
    {
      "cell_type": "code",
      "source": [
        "#Getting the 95% Confidence Intervals and Prediction Intervals via predict()\n",
        "\n",
        "#Use predict() and mutate to obtain the 95% CIs and 95% PIs\n",
        "(FindCars_CarsOnly\n",
        "  %>% mutate(Price_CI = predict(LinearModel_Price_Miles, newdata=FindCars_CarsOnly, interval=\"confid\"))\n",
        "  %>% mutate(Price_PI = predict(LinearModel_Price_Miles, newdata=FindCars_CarsOnly, interval=\"predict\"))\n",
        "  %>% select(Description, Year, Make, Dealer, Location, Price, Miles, Price_CI, Price_PI)\n",
        ") -> FindCars_CarsOnly_with_CI_and_PI\n",
        "\n",
        "cat(\"\\n\\n The 95% CI and 95% PIs have been added to the data.frame:\\n\\n\")\n",
        "head(FindCars_CarsOnly_with_CI_and_PI)\n",
        "\n",
        "#Next, pull apart the columns that include the CIs and PIs\n",
        "(FindCars_CarsOnly_with_CI_and_PI\n",
        "   %>% rowwise()\n",
        "   %>% mutate(\n",
        "               Price_Predicted = Price_CI[1],\n",
        "               Price_LowerCI= Price_CI[2],\n",
        "               Price_UpperCI= Price_CI[3],\n",
        "               Price_LowerPI= Price_PI[2],\n",
        "               Price_UpperPI= Price_PI[3],\n",
        "             )\n",
        " ) -> FindCars_CarsOnly_with_CI_and_PI_SplitApart\n",
        "\n",
        "cat(\"\\n\\n The 95% CI and 95% PIs now are aplit apart:\\n\\n\")\n",
        "head(FindCars_CarsOnly_with_CI_and_PI_SplitApart)"
      ],
      "metadata": {
        "id": "cgT2EcVFQaL9"
      },
      "execution_count": null,
      "outputs": []
    },
    {
      "cell_type": "markdown",
      "source": [
        "Next, ggplot will be used to plot the 95% CI and 95% PI bands."
      ],
      "metadata": {
        "id": "ErXVrwfcUo6d"
      }
    },
    {
      "cell_type": "code",
      "metadata": {
        "id": "Dg73DyzcWH7P"
      },
      "source": [
        "#Scatterplot with 95% Confidence Interval and 95% Prediction Interval bands\n",
        "ggplot(data=FindCars_CarsOnly_with_CI_and_PI_SplitApart, aes(x=Miles,y=Price)) + \n",
        "  geom_point(alpha = 0.1) +    \n",
        "  geom_line(aes(x=Miles,y=Price_Predicted), col=\"black\") +\n",
        "  geom_line(aes(x=Miles,y=Price_LowerCI), linetype = \"dashed\", col=\"black\") +\n",
        "  geom_line(aes(x=Miles,y=Price_UpperCI), linetype = \"dashed\", col=\"black\") +\n",
        "  geom_line(aes(x=Miles,y=Price_LowerPI), linetype = \"longdash\", col=\"red\") +\n",
        "  geom_line(aes(x=Miles,y=Price_UpperPI), linetype = \"longdash\", col=\"red\") +\n",
        "  theme_classic()\n"
      ],
      "execution_count": null,
      "outputs": []
    },
    {
      "cell_type": "markdown",
      "metadata": {
        "id": "IyX3F2x3bk9D"
      },
      "source": [
        "## Outlier Detection"
      ]
    },
    {
      "cell_type": "markdown",
      "source": [
        "The following snipit of code can be used for outlier detection."
      ],
      "metadata": {
        "id": "USNJW2QLU0tR"
      }
    },
    {
      "cell_type": "code",
      "metadata": {
        "id": "cNVev_CoblE2"
      },
      "source": [
        "#Identify the outliers on the low/high side \n",
        "(FindCars_CarsOnly_with_CI_and_PI_SplitApart\n",
        "    %>% mutate(Outlier = case_when(\n",
        "                                   Price < Price_LowerPI ~ \"Yes, much lower than expected\",\n",
        "                                   Price > Price_UpperPI ~ \"Yes, much higher than expected\",\n",
        "                                   TRUE ~ \"No\"\n",
        "                                  )\n",
        "              )\n",
        ") -> Outliers\n",
        "\n",
        "(Outliers\n",
        "  %>% select(Description, Year, Make, Price, Miles, Price_Predicted, Dealer, Location, Outlier)\n",
        "  %>% filter(str_detect(Outlier, \"Yes\"))  # str_detect looks for keyword in a string\n",
        "  %>% arrange(Outlier)  # used to sort a data.frame by a particular column\n",
        ")\n"
      ],
      "execution_count": null,
      "outputs": []
    },
    {
      "cell_type": "markdown",
      "source": [
        "Next, let's recreate the scatterplot with the 95% CI and PI bands with color coding the outliers."
      ],
      "metadata": {
        "id": "sM83nVSdVgxo"
      }
    },
    {
      "cell_type": "code",
      "source": [
        "#Scatterplot with 95% Confidence Interval and 95% Prediction Interval bands\n",
        "ggplot(data=Outliers, aes(x=Miles,y=Price, col=Outlier)) + \n",
        "  geom_point() +    \n",
        "  scale_color_manual(values=c(\"lightgray\", \"red\", \"darkgreen\")) + \n",
        "  geom_line(aes(x=Miles,y=Price_Predicted), col=\"black\") +\n",
        "  geom_line(aes(x=Miles,y=Price_LowerCI), linetype = \"dashed\", col=\"black\") +\n",
        "  geom_line(aes(x=Miles,y=Price_UpperCI), linetype = \"dashed\", col=\"black\") +\n",
        "  geom_line(aes(x=Miles,y=Price_LowerPI), linetype = \"longdash\", col=\"red\") +\n",
        "  geom_line(aes(x=Miles,y=Price_UpperPI), linetype = \"longdash\", col=\"red\") +\n",
        "  theme_classic()"
      ],
      "metadata": {
        "id": "KOxjCT0xVg_Q"
      },
      "execution_count": null,
      "outputs": []
    },
    {
      "cell_type": "markdown",
      "source": [
        "Finally, reduce the list of outliers to only include those that fall below the 95% Prediction Interval band."
      ],
      "metadata": {
        "id": "L9ZirBMpZAdy"
      }
    },
    {
      "cell_type": "code",
      "source": [
        "(Outliers\n",
        "  %>% select(Description, Year, Make, Price, Miles, Price_Predicted, Dealer, Location, Outlier)\n",
        "  %>% filter(str_detect(Outlier, \"lower\"))  # str_detect looks for keyword in a string\n",
        "  %>% arrange(Outlier)  # used to sort a data.frame by a particular column\n",
        ")"
      ],
      "metadata": {
        "id": "UrMex0TPZApK"
      },
      "execution_count": null,
      "outputs": []
    },
    {
      "cell_type": "markdown",
      "metadata": {
        "id": "9kkg1lL30Rfw"
      },
      "source": [
        "\n",
        "\n",
        "---\n",
        "\n",
        "\n",
        "\n",
        "---\n",
        "\n",
        "\n",
        "End of Document"
      ]
    }
  ]
}