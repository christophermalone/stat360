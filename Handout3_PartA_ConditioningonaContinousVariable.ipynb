{
  "nbformat": 4,
  "nbformat_minor": 0,
  "metadata": {
    "colab": {
      "provenance": [],
      "collapsed_sections": [],
      "authorship_tag": "ABX9TyOZsLM9rR9zuaDHUFEpd92W",
      "include_colab_link": true
    },
    "kernelspec": {
      "name": "ir",
      "display_name": "R"
    }
  },
  "cells": [
    {
      "cell_type": "markdown",
      "metadata": {
        "id": "view-in-github",
        "colab_type": "text"
      },
      "source": [
        "<a href=\"https://colab.research.google.com/github/christophermalone/stat360/blob/main/Handout3_PartA_ConditioningonaContinousVariable.ipynb\" target=\"_parent\"><img src=\"https://colab.research.google.com/assets/colab-badge.svg\" alt=\"Open In Colab\"/></a>"
      ]
    },
    {
      "cell_type": "markdown",
      "metadata": {
        "id": "KhClO9b02SXA"
      },
      "source": [
        "# Handout #3 - Part A : Conditioning on a Continous Predictor Variable\n"
      ]
    },
    {
      "cell_type": "markdown",
      "metadata": {
        "id": "AXDYLbzK2o7e"
      },
      "source": [
        "<table width='100%' ><tr><td bgcolor='green'></td></tr></table>\n",
        "\n",
        "## Example 3.1\n",
        "\n",
        "Consider once again the Crater Impact study that was done here at Winona State Univeristy.  This study investigated the effect of certain variables on the size of an impact crater. \n",
        "<table>\n",
        "  <tr>\n",
        "    <td width='50%'>\n",
        "      <ul>\n",
        "        <li><strong>Response Variable</strong>: Diameter of crater (cm)</li><br>\n",
        "        <li>Variables under investigation (i.e. independent variables)</li>\n",
        "        <ul>\n",
        "          <li>Hight from which projectile was dropped</li>\n",
        "          <li>Projectile Type (glass, steel, or wood ball)</li>\n",
        "          <li>Sand Type (course, fine)</li>\n",
        "         </ul>\n",
        "    </ul>\n",
        "    </td>\n",
        "    <td width='50%'>\n",
        "<p align='center'><img src=\"https://drive.google.com/uc?export=view&id=1-969XxPtKCcG9MeX4NMRfkTUTaMoj8cY\"></img></p>\n",
        "  </td>\n",
        "</tr>\n",
        "</table>\n",
        "\n",
        "Data Folder: [OneDrive](https://mnscu-my.sharepoint.com/:f:/g/personal/aq7839yd_minnstate_edu/EmOQfrwxzzRBqq8PH_8qTmMBy-1qKgM11Hb8vzjs025EEA?e=wyShYs)\n",
        "\n",
        "\n",
        "\n",
        "<table width='100%' ><tr><td bgcolor='green'></td></tr></table>\n",
        "\n"
      ]
    },
    {
      "cell_type": "markdown",
      "source": [
        "Previously, for the Impact Crater dataset, we have investigated the following conditional distributions.\n",
        "\n",
        "*    Diameter | SandType\n",
        "\n",
        "*    Diameter | ProjectileType\n",
        "\n",
        "In this handout, we will consider the conditional distribution of Diameter | Height.  Recall, the height is the distance from which the projectile was dropped.  It is expected that as the height of the fall increases, the diameter increases.  \n",
        "\n",
        "**Goal**: Understand the relationship between the Diameter and the height in which the projectile was dropped. "
      ],
      "metadata": {
        "id": "8AEILbZyyxNf"
      }
    },
    {
      "cell_type": "markdown",
      "source": [
        "<p align='center'><img src=\"https://drive.google.com/uc?export=view&id=18tzrNl_8j_dTlB1-DLmhVo_D5npGIwr6\" width=\"50%\" height=\"50%\"></img></p>"
      ],
      "metadata": {
        "id": "dpzqRt0sDqbx"
      }
    },
    {
      "cell_type": "markdown",
      "source": [
        "If the conditioning variable in numerical, the conditional distribution of the response given this variable is best displayed via a scatterplot.\n",
        "\n",
        "<p align='center'><img src=\"https://drive.google.com/uc?export=view&id=1nvd5ZXPEgnMMmtOfygVW_swRet32xprC\" width=\"50%\" height=\"50%\"></img></p>"
      ],
      "metadata": {
        "id": "6uJ-55PTEGWf"
      }
    },
    {
      "cell_type": "markdown",
      "source": [
        "<table width='100%'><tr><td bgcolor=\"purple\"><font color=\"white\" size=\"+2\">Task</font></td></tr></table>"
      ],
      "metadata": {
        "id": "mcRoNlDxRv2P"
      }
    },
    {
      "cell_type": "markdown",
      "source": [
        "## Task:  Questions"
      ],
      "metadata": {
        "id": "BRnls6H4Rw0m"
      }
    },
    {
      "cell_type": "markdown",
      "source": [
        "\n",
        "\n",
        "1.   What is the relationship between the height in which the projectile is dropped and the diameter of the crater it creates?  Discuss.\n",
        "\n",
        "\n",
        "\n"
      ],
      "metadata": {
        "id": "wDu_-y5zRxEW"
      }
    },
    {
      "cell_type": "markdown",
      "source": [
        "\n",
        "2.   Does the mean diameter appear to change as a function of height?  Explain.\n"
      ],
      "metadata": {
        "id": "8fgrJCrBExqP"
      }
    },
    {
      "cell_type": "markdown",
      "source": [
        "3.   Does the variance in the diameter appear to change as a function of height?  Discuss."
      ],
      "metadata": {
        "id": "4Y6dD1-vEziO"
      }
    },
    {
      "cell_type": "markdown",
      "source": [
        "<table width='100%'><tr><td bgcolor=\"purple\"><font size=\"+2\">&nbsp;</font></td></tr></table>"
      ],
      "metadata": {
        "id": "P1X6PhcYRxRG"
      }
    },
    {
      "cell_type": "markdown",
      "metadata": {
        "id": "njXGRUIC9Lgs"
      },
      "source": [
        "## Loading Data "
      ]
    },
    {
      "cell_type": "markdown",
      "metadata": {
        "id": "FoT1NFX3DncH"
      },
      "source": [
        "First, loading the tidyverse() package into this COLAB session."
      ]
    },
    {
      "cell_type": "code",
      "metadata": {
        "id": "LgaibuX_DtWK",
        "colab": {
          "base_uri": "https://localhost:8080/"
        },
        "outputId": "f6e9d85d-ab51-400e-f4c2-1befb026a4f8"
      },
      "source": [
        "#load tidyverse package\n",
        "library(tidyverse)"
      ],
      "execution_count": 1,
      "outputs": [
        {
          "output_type": "stream",
          "name": "stderr",
          "text": [
            "Warning message in system(\"timedatectl\", intern = TRUE):\n",
            "“running command 'timedatectl' had status 1”\n",
            "── \u001b[1mAttaching packages\u001b[22m ─────────────────────────────────────── tidyverse 1.3.1 ──\n",
            "\n",
            "\u001b[32m✔\u001b[39m \u001b[34mggplot2\u001b[39m 3.3.6     \u001b[32m✔\u001b[39m \u001b[34mpurrr  \u001b[39m 0.3.4\n",
            "\u001b[32m✔\u001b[39m \u001b[34mtibble \u001b[39m 3.1.7     \u001b[32m✔\u001b[39m \u001b[34mdplyr  \u001b[39m 1.0.9\n",
            "\u001b[32m✔\u001b[39m \u001b[34mtidyr  \u001b[39m 1.2.0     \u001b[32m✔\u001b[39m \u001b[34mstringr\u001b[39m 1.4.1\n",
            "\u001b[32m✔\u001b[39m \u001b[34mreadr  \u001b[39m 2.1.2     \u001b[32m✔\u001b[39m \u001b[34mforcats\u001b[39m 0.5.2\n",
            "\n",
            "── \u001b[1mConflicts\u001b[22m ────────────────────────────────────────── tidyverse_conflicts() ──\n",
            "\u001b[31m✖\u001b[39m \u001b[34mdplyr\u001b[39m::\u001b[32mfilter()\u001b[39m masks \u001b[34mstats\u001b[39m::filter()\n",
            "\u001b[31m✖\u001b[39m \u001b[34mdplyr\u001b[39m::\u001b[32mlag()\u001b[39m    masks \u001b[34mstats\u001b[39m::lag()\n",
            "\n"
          ]
        }
      ]
    },
    {
      "cell_type": "markdown",
      "metadata": {
        "id": "DPqIPen9D5T3"
      },
      "source": [
        "The **read_csv()** function is used to read in the dataset. "
      ]
    },
    {
      "cell_type": "code",
      "metadata": {
        "id": "e07lUbQ1F1cV",
        "colab": {
          "base_uri": "https://localhost:8080/"
        },
        "outputId": "2427f90c-7fe9-495a-8b4b-e1692204b1be"
      },
      "source": [
        "# Reading data in using read.csv via Base \n",
        "ImpactCrater <- read_csv(\"http://www.StatsClass.org/stat360/Datasets/ImpactCrater.csv\")"
      ],
      "execution_count": 2,
      "outputs": [
        {
          "output_type": "stream",
          "name": "stderr",
          "text": [
            "\u001b[1mRows: \u001b[22m\u001b[34m144\u001b[39m \u001b[1mColumns: \u001b[22m\u001b[34m5\u001b[39m\n",
            "\u001b[36m──\u001b[39m \u001b[1mColumn specification\u001b[22m \u001b[36m────────────────────────────────────────────────────────\u001b[39m\n",
            "\u001b[1mDelimiter:\u001b[22m \",\"\n",
            "\u001b[31mchr\u001b[39m (2): SandType, ProjectileType\n",
            "\u001b[32mdbl\u001b[39m (3): ID, Height, Diameter\n",
            "\n",
            "\u001b[36mℹ\u001b[39m Use `spec()` to retrieve the full column specification for this data.\n",
            "\u001b[36mℹ\u001b[39m Specify the column types or set `show_col_types = FALSE` to quiet this message.\n"
          ]
        }
      ]
    },
    {
      "cell_type": "code",
      "metadata": {
        "id": "HYKWH2i0EN6s",
        "colab": {
          "base_uri": "https://localhost:8080/",
          "height": 286
        },
        "outputId": "1ab00651-2168-4f57-ce09-d22dd0aca1e9"
      },
      "source": [
        "# View the first few rows of data\n",
        "head(ImpactCrater)"
      ],
      "execution_count": 3,
      "outputs": [
        {
          "output_type": "display_data",
          "data": {
            "text/html": [
              "<table class=\"dataframe\">\n",
              "<caption>A tibble: 6 × 5</caption>\n",
              "<thead>\n",
              "\t<tr><th scope=col>ID</th><th scope=col>SandType</th><th scope=col>ProjectileType</th><th scope=col>Height</th><th scope=col>Diameter</th></tr>\n",
              "\t<tr><th scope=col>&lt;dbl&gt;</th><th scope=col>&lt;chr&gt;</th><th scope=col>&lt;chr&gt;</th><th scope=col>&lt;dbl&gt;</th><th scope=col>&lt;dbl&gt;</th></tr>\n",
              "</thead>\n",
              "<tbody>\n",
              "\t<tr><td>1</td><td>Coarse</td><td>WoodBall</td><td>25</td><td>3.75</td></tr>\n",
              "\t<tr><td>2</td><td>Coarse</td><td>WoodBall</td><td>25</td><td>3.25</td></tr>\n",
              "\t<tr><td>3</td><td>Coarse</td><td>WoodBall</td><td>25</td><td>3.50</td></tr>\n",
              "\t<tr><td>4</td><td>Coarse</td><td>WoodBall</td><td>50</td><td>4.80</td></tr>\n",
              "\t<tr><td>5</td><td>Coarse</td><td>WoodBall</td><td>50</td><td>4.50</td></tr>\n",
              "\t<tr><td>6</td><td>Coarse</td><td>WoodBall</td><td>50</td><td>4.30</td></tr>\n",
              "</tbody>\n",
              "</table>\n"
            ],
            "text/markdown": "\nA tibble: 6 × 5\n\n| ID &lt;dbl&gt; | SandType &lt;chr&gt; | ProjectileType &lt;chr&gt; | Height &lt;dbl&gt; | Diameter &lt;dbl&gt; |\n|---|---|---|---|---|\n| 1 | Coarse | WoodBall | 25 | 3.75 |\n| 2 | Coarse | WoodBall | 25 | 3.25 |\n| 3 | Coarse | WoodBall | 25 | 3.50 |\n| 4 | Coarse | WoodBall | 50 | 4.80 |\n| 5 | Coarse | WoodBall | 50 | 4.50 |\n| 6 | Coarse | WoodBall | 50 | 4.30 |\n\n",
            "text/latex": "A tibble: 6 × 5\n\\begin{tabular}{lllll}\n ID & SandType & ProjectileType & Height & Diameter\\\\\n <dbl> & <chr> & <chr> & <dbl> & <dbl>\\\\\n\\hline\n\t 1 & Coarse & WoodBall & 25 & 3.75\\\\\n\t 2 & Coarse & WoodBall & 25 & 3.25\\\\\n\t 3 & Coarse & WoodBall & 25 & 3.50\\\\\n\t 4 & Coarse & WoodBall & 50 & 4.80\\\\\n\t 5 & Coarse & WoodBall & 50 & 4.50\\\\\n\t 6 & Coarse & WoodBall & 50 & 4.30\\\\\n\\end{tabular}\n",
            "text/plain": [
              "  ID SandType ProjectileType Height Diameter\n",
              "1 1  Coarse   WoodBall       25     3.75    \n",
              "2 2  Coarse   WoodBall       25     3.25    \n",
              "3 3  Coarse   WoodBall       25     3.50    \n",
              "4 4  Coarse   WoodBall       50     4.80    \n",
              "5 5  Coarse   WoodBall       50     4.50    \n",
              "6 6  Coarse   WoodBall       50     4.30    "
            ]
          },
          "metadata": {}
        }
      ]
    },
    {
      "cell_type": "markdown",
      "metadata": {
        "id": "oV94hIr3Edo4"
      },
      "source": [
        "### Unexplained Variation in Marginal Distribution"
      ]
    },
    {
      "cell_type": "markdown",
      "source": [
        "Consider once again the formula for the total unexplained variation in the marginal distribution of Diameter.  In words, the total unexplained variation is the sum of all the squared distances from each data point to the mean.  \n"
      ],
      "metadata": {
        "id": "Dst_OYDfjU17"
      }
    },
    {
      "cell_type": "markdown",
      "metadata": {
        "id": "kZebw7KEp8Qz"
      },
      "source": [
        "$$\n",
        "\\begin{array}{rcl}\n",
        "\\mbox{SSE}_{Marginal} &  =  & \\sum (Data \\space Point \\space - \\space Mean)^2 \\\\\n",
        "&  =  & \\sum (Residuals)^2 \\\\\n",
        "& = & (n-1) * Variance \\\\\n",
        "\\end{array}\n",
        "$$"
      ]
    },
    {
      "cell_type": "markdown",
      "source": [
        "<p align='center'><img src=\"https://drive.google.com/uc?export=view&id=1rhkVu8iahGapp42LBgPVfZXsuzRnQmLu\" width=\"50%\" height=\"50%\"></img></p>\n"
      ],
      "metadata": {
        "id": "ExKpsmZhi2Li"
      }
    },
    {
      "cell_type": "markdown",
      "source": [
        "The following code provides the desired summaries for the marginal distribution."
      ],
      "metadata": {
        "id": "fh1G0N-_kF96"
      }
    },
    {
      "cell_type": "code",
      "metadata": {
        "colab": {
          "base_uri": "https://localhost:8080/",
          "height": 129
        },
        "id": "Mr1sjUwDFJIP",
        "outputId": "331d7069-2645-4d32-a728-34f24f3a542f"
      },
      "source": [
        "# Summary statistics for the marginal distribution\n",
        "\n",
        "(ImpactCrater \n",
        "  %>% summarize(\n",
        "                  Mean = mean(Diameter),\n",
        "                  'Standard Deviation' = sd(Diameter),\n",
        "                  Variance = var(Diameter),\n",
        "                  Count = n()                \n",
        "               )\n",
        "   %>% mutate('SSE_Marginal' = (Count-1)*Variance)\n",
        ")"
      ],
      "execution_count": 4,
      "outputs": [
        {
          "output_type": "display_data",
          "data": {
            "text/html": [
              "<table class=\"dataframe\">\n",
              "<caption>A tibble: 1 × 5</caption>\n",
              "<thead>\n",
              "\t<tr><th scope=col>Mean</th><th scope=col>Standard Deviation</th><th scope=col>Variance</th><th scope=col>Count</th><th scope=col>SSE_Marginal</th></tr>\n",
              "\t<tr><th scope=col>&lt;dbl&gt;</th><th scope=col>&lt;dbl&gt;</th><th scope=col>&lt;dbl&gt;</th><th scope=col>&lt;int&gt;</th><th scope=col>&lt;dbl&gt;</th></tr>\n",
              "</thead>\n",
              "<tbody>\n",
              "\t<tr><td>6.675694</td><td>1.724657</td><td>2.97444</td><td>144</td><td>425.3449</td></tr>\n",
              "</tbody>\n",
              "</table>\n"
            ],
            "text/markdown": "\nA tibble: 1 × 5\n\n| Mean &lt;dbl&gt; | Standard Deviation &lt;dbl&gt; | Variance &lt;dbl&gt; | Count &lt;int&gt; | SSE_Marginal &lt;dbl&gt; |\n|---|---|---|---|---|\n| 6.675694 | 1.724657 | 2.97444 | 144 | 425.3449 |\n\n",
            "text/latex": "A tibble: 1 × 5\n\\begin{tabular}{lllll}\n Mean & Standard Deviation & Variance & Count & SSE\\_Marginal\\\\\n <dbl> & <dbl> & <dbl> & <int> & <dbl>\\\\\n\\hline\n\t 6.675694 & 1.724657 & 2.97444 & 144 & 425.3449\\\\\n\\end{tabular}\n",
            "text/plain": [
              "  Mean     Standard Deviation Variance Count SSE_Marginal\n",
              "1 6.675694 1.724657           2.97444  144   425.3449    "
            ]
          },
          "metadata": {}
        }
      ]
    },
    {
      "cell_type": "markdown",
      "source": [
        "<u>Comment</u>:  The total amount of unexplained variation in the *marginal* \n",
        "distribution is 425.3."
      ],
      "metadata": {
        "id": "Z0uoGk7TwlXg"
      }
    },
    {
      "cell_type": "markdown",
      "source": [
        "### Unexplained Variation in Conditional Distribution of Diameter | Height"
      ],
      "metadata": {
        "id": "3a2wV56EtlrZ"
      }
    },
    {
      "cell_type": "markdown",
      "source": [
        "The first step in getting the Sum of Squared Error is to obtain an estimate of the mean diameter for each observation. Here several observations have been dropped from the **same** height; thus, an estimate of the mean is needed for each height, and the estimate of the mean will be the same for all observations at each specific height."
      ],
      "metadata": {
        "id": "ijcGMN_2tv33"
      }
    },
    {
      "cell_type": "code",
      "source": [
        "# Getting the means for each height\n",
        "\n",
        "(ImpactCrater \n",
        "  %>% group_by(Height)\n",
        "  %>% summarize(\n",
        "                  Mean = mean(Diameter),\n",
        "               )\n",
        ")"
      ],
      "metadata": {
        "colab": {
          "base_uri": "https://localhost:8080/",
          "height": 349
        },
        "id": "9OfBD9ujuPMc",
        "outputId": "407ac91c-1125-495b-a4c6-34ff6f9d6cd0"
      },
      "execution_count": null,
      "outputs": [
        {
          "output_type": "display_data",
          "data": {
            "text/html": [
              "<table class=\"dataframe\">\n",
              "<caption>A tibble: 8 × 2</caption>\n",
              "<thead>\n",
              "\t<tr><th scope=col>Height</th><th scope=col>Mean</th></tr>\n",
              "\t<tr><th scope=col>&lt;dbl&gt;</th><th scope=col>&lt;dbl&gt;</th></tr>\n",
              "</thead>\n",
              "<tbody>\n",
              "\t<tr><td> 25</td><td>4.983333</td></tr>\n",
              "\t<tr><td> 50</td><td>5.752778</td></tr>\n",
              "\t<tr><td> 75</td><td>6.238889</td></tr>\n",
              "\t<tr><td>100</td><td>6.658333</td></tr>\n",
              "\t<tr><td>125</td><td>7.005556</td></tr>\n",
              "\t<tr><td>150</td><td>7.327778</td></tr>\n",
              "\t<tr><td>175</td><td>7.544444</td></tr>\n",
              "\t<tr><td>200</td><td>7.894444</td></tr>\n",
              "</tbody>\n",
              "</table>\n"
            ],
            "text/markdown": "\nA tibble: 8 × 2\n\n| Height &lt;dbl&gt; | Mean &lt;dbl&gt; |\n|---|---|\n|  25 | 4.983333 |\n|  50 | 5.752778 |\n|  75 | 6.238889 |\n| 100 | 6.658333 |\n| 125 | 7.005556 |\n| 150 | 7.327778 |\n| 175 | 7.544444 |\n| 200 | 7.894444 |\n\n",
            "text/latex": "A tibble: 8 × 2\n\\begin{tabular}{ll}\n Height & Mean\\\\\n <dbl> & <dbl>\\\\\n\\hline\n\t  25 & 4.983333\\\\\n\t  50 & 5.752778\\\\\n\t  75 & 6.238889\\\\\n\t 100 & 6.658333\\\\\n\t 125 & 7.005556\\\\\n\t 150 & 7.327778\\\\\n\t 175 & 7.544444\\\\\n\t 200 & 7.894444\\\\\n\\end{tabular}\n",
            "text/plain": [
              "  Height Mean    \n",
              "1  25    4.983333\n",
              "2  50    5.752778\n",
              "3  75    6.238889\n",
              "4 100    6.658333\n",
              "5 125    7.005556\n",
              "6 150    7.327778\n",
              "7 175    7.544444\n",
              "8 200    7.894444"
            ]
          },
          "metadata": {}
        }
      ]
    },
    {
      "cell_type": "markdown",
      "source": [
        "A plot of the average diameter for each height is provided next."
      ],
      "metadata": {
        "id": "_GEO5L2PuckY"
      }
    },
    {
      "cell_type": "markdown",
      "source": [
        "<p align='center'><img src=\"https://drive.google.com/uc?export=view&id=1DZ2sq9fmdUXMzfF_UNRZYeRsOhCcR7V1\" width=\"50%\" height=\"50%\"></img></p>"
      ],
      "metadata": {
        "id": "l7xUVidEtwKI"
      }
    },
    {
      "cell_type": "markdown",
      "source": [
        "The total amount of unexplained variation is computed using the residuals across all heights."
      ],
      "metadata": {
        "id": "4yNKa1SIwbhJ"
      }
    },
    {
      "cell_type": "markdown",
      "source": [
        "<p align='center'><img src=\"https://drive.google.com/uc?export=view&id=12pyLDfPK07DBDz7Zr3MjR-29qpqmnZCz\" width=\"50%\" height=\"50%\"></img></p>\n"
      ],
      "metadata": {
        "id": "ygUxA77Kt_gd"
      }
    },
    {
      "cell_type": "markdown",
      "metadata": {
        "id": "0tpwvcUrMy24"
      },
      "source": [
        "The following code provides the desired summaries for the conditional distribution."
      ]
    },
    {
      "cell_type": "code",
      "metadata": {
        "colab": {
          "base_uri": "https://localhost:8080/",
          "height": 349
        },
        "id": "ADLElFgiPI7F",
        "outputId": "b2f04a30-15da-4318-adc0-8527423852c1"
      },
      "source": [
        "#Getting the relevent summary statistics for conditional distribution\n",
        "\n",
        "(ImpactCrater \n",
        "  %>% group_by(Height)\n",
        "  %>% summarize(\n",
        "                  Mean = mean(Diameter),\n",
        "                  'Standard Deviation' = sd(Diameter),\n",
        "                  Variance = var(Diameter),\n",
        "                  Count = n()                \n",
        "               )\n",
        "   %>% mutate('SSE_EachHeight' = (Count-1)*Variance)\n",
        ") -> SSE\n",
        "\n",
        "SSE"
      ],
      "execution_count": 5,
      "outputs": [
        {
          "output_type": "display_data",
          "data": {
            "text/html": [
              "<table class=\"dataframe\">\n",
              "<caption>A tibble: 8 × 6</caption>\n",
              "<thead>\n",
              "\t<tr><th scope=col>Height</th><th scope=col>Mean</th><th scope=col>Standard Deviation</th><th scope=col>Variance</th><th scope=col>Count</th><th scope=col>SSE_EachHeight</th></tr>\n",
              "\t<tr><th scope=col>&lt;dbl&gt;</th><th scope=col>&lt;dbl&gt;</th><th scope=col>&lt;dbl&gt;</th><th scope=col>&lt;dbl&gt;</th><th scope=col>&lt;int&gt;</th><th scope=col>&lt;dbl&gt;</th></tr>\n",
              "</thead>\n",
              "<tbody>\n",
              "\t<tr><td> 25</td><td>4.983333</td><td>1.149424</td><td>1.321176</td><td>18</td><td>22.46000</td></tr>\n",
              "\t<tr><td> 50</td><td>5.752778</td><td>1.202506</td><td>1.446021</td><td>18</td><td>24.58236</td></tr>\n",
              "\t<tr><td> 75</td><td>6.238889</td><td>1.299837</td><td>1.689575</td><td>18</td><td>28.72278</td></tr>\n",
              "\t<tr><td>100</td><td>6.658333</td><td>1.561226</td><td>2.437426</td><td>18</td><td>41.43625</td></tr>\n",
              "\t<tr><td>125</td><td>7.005556</td><td>1.534878</td><td>2.355850</td><td>18</td><td>40.04944</td></tr>\n",
              "\t<tr><td>150</td><td>7.327778</td><td>1.642113</td><td>2.696536</td><td>18</td><td>45.84111</td></tr>\n",
              "\t<tr><td>175</td><td>7.544444</td><td>1.689491</td><td>2.854379</td><td>18</td><td>48.52444</td></tr>\n",
              "\t<tr><td>200</td><td>7.894444</td><td>1.773488</td><td>3.145261</td><td>18</td><td>53.46944</td></tr>\n",
              "</tbody>\n",
              "</table>\n"
            ],
            "text/markdown": "\nA tibble: 8 × 6\n\n| Height &lt;dbl&gt; | Mean &lt;dbl&gt; | Standard Deviation &lt;dbl&gt; | Variance &lt;dbl&gt; | Count &lt;int&gt; | SSE_EachHeight &lt;dbl&gt; |\n|---|---|---|---|---|---|\n|  25 | 4.983333 | 1.149424 | 1.321176 | 18 | 22.46000 |\n|  50 | 5.752778 | 1.202506 | 1.446021 | 18 | 24.58236 |\n|  75 | 6.238889 | 1.299837 | 1.689575 | 18 | 28.72278 |\n| 100 | 6.658333 | 1.561226 | 2.437426 | 18 | 41.43625 |\n| 125 | 7.005556 | 1.534878 | 2.355850 | 18 | 40.04944 |\n| 150 | 7.327778 | 1.642113 | 2.696536 | 18 | 45.84111 |\n| 175 | 7.544444 | 1.689491 | 2.854379 | 18 | 48.52444 |\n| 200 | 7.894444 | 1.773488 | 3.145261 | 18 | 53.46944 |\n\n",
            "text/latex": "A tibble: 8 × 6\n\\begin{tabular}{llllll}\n Height & Mean & Standard Deviation & Variance & Count & SSE\\_EachHeight\\\\\n <dbl> & <dbl> & <dbl> & <dbl> & <int> & <dbl>\\\\\n\\hline\n\t  25 & 4.983333 & 1.149424 & 1.321176 & 18 & 22.46000\\\\\n\t  50 & 5.752778 & 1.202506 & 1.446021 & 18 & 24.58236\\\\\n\t  75 & 6.238889 & 1.299837 & 1.689575 & 18 & 28.72278\\\\\n\t 100 & 6.658333 & 1.561226 & 2.437426 & 18 & 41.43625\\\\\n\t 125 & 7.005556 & 1.534878 & 2.355850 & 18 & 40.04944\\\\\n\t 150 & 7.327778 & 1.642113 & 2.696536 & 18 & 45.84111\\\\\n\t 175 & 7.544444 & 1.689491 & 2.854379 & 18 & 48.52444\\\\\n\t 200 & 7.894444 & 1.773488 & 3.145261 & 18 & 53.46944\\\\\n\\end{tabular}\n",
            "text/plain": [
              "  Height Mean     Standard Deviation Variance Count SSE_EachHeight\n",
              "1  25    4.983333 1.149424           1.321176 18    22.46000      \n",
              "2  50    5.752778 1.202506           1.446021 18    24.58236      \n",
              "3  75    6.238889 1.299837           1.689575 18    28.72278      \n",
              "4 100    6.658333 1.561226           2.437426 18    41.43625      \n",
              "5 125    7.005556 1.534878           2.355850 18    40.04944      \n",
              "6 150    7.327778 1.642113           2.696536 18    45.84111      \n",
              "7 175    7.544444 1.689491           2.854379 18    48.52444      \n",
              "8 200    7.894444 1.773488           3.145261 18    53.46944      "
            ]
          },
          "metadata": {}
        }
      ]
    },
    {
      "cell_type": "code",
      "source": [
        "#@title Getting the IRdisplay package\n",
        "# install the IRdisplay package\n",
        "install.packages(\"IRdisplay\")"
      ],
      "metadata": {
        "colab": {
          "base_uri": "https://localhost:8080/"
        },
        "cellView": "form",
        "id": "-AYB2ifvDPPF",
        "outputId": "875ec6a1-7d2d-41c7-a8f9-8d3d1f8e09bd"
      },
      "execution_count": 6,
      "outputs": [
        {
          "output_type": "stream",
          "name": "stderr",
          "text": [
            "Installing package into ‘/usr/local/lib/R/site-library’\n",
            "(as ‘lib’ is unspecified)\n",
            "\n"
          ]
        }
      ]
    },
    {
      "cell_type": "code",
      "source": [
        "#@title Loading IRdisplay\n",
        "#load IRdisplay\n",
        "library(IRdisplay)"
      ],
      "metadata": {
        "cellView": "form",
        "id": "wvMU-1FyDe-W"
      },
      "execution_count": 7,
      "outputs": []
    },
    {
      "cell_type": "code",
      "source": [
        "#@title Display SSE Table\n",
        "#using display_html to print table\n",
        "display_html('\n",
        "              <table border=\"1\" align=\"center\">\n",
        "              <tr>\n",
        "                <th align=\"center\" valign=\"top\" rowspan=\"2\">Marginal <br>Distribution</th>\n",
        "                <th align=\"center\" valign=\"top\" colspan=\"8\">Conditional Distribution of Diameter | Height</th>\n",
        "              </tr>\n",
        "              <tr>\n",
        "                <td align=\"center\" valign=\"bottom\">Height=25</td>\n",
        "                <td align=\"center\" valign=\"bottom\">Height=50</td>\n",
        "                <td align=\"center\" valign=\"bottom\">Height=75</td>\n",
        "                <td align=\"center\" valign=\"bottom\">Height=100</td>\n",
        "                <td align=\"center\" valign=\"bottom\">Height=125</td>\n",
        "                <td align=\"center\" valign=\"bottom\">Height=150</td>\n",
        "                <td align=\"center\" valign=\"bottom\">Height=175</td>\n",
        "                <td align=\"center\" valign=\"bottom\">Height=200</td>\n",
        "              </tr>\n",
        "              <tr>\n",
        "                <td align=\"center\" valign=\"top\" rowspan=\"2\">425.35</td>\n",
        "                <td align=\"center\" valign=\"bottom\">22.46</td>\n",
        "                <td align=\"center\" valign=\"bottom\">24.58</td>\n",
        "                <td align=\"center\" valign=\"bottom\">28.72</td>\n",
        "                <td align=\"center\" valign=\"bottom\">41.44</td>\n",
        "                <td align=\"center\" valign=\"bottom\">40.05</td>\n",
        "                <td align=\"center\" valign=\"bottom\">45.84</td>\n",
        "                <td align=\"center\" valign=\"bottom\">48.52</td>\n",
        "                <td align=\"center\" valign=\"bottom\">53.46</td>\n",
        "              </tr>\n",
        "              <tr>\n",
        "                 <td align=\"center\" valign=\"top\" colspan=\"8\">Total = 305.1</td>\n",
        "              </tr>\n",
        "            </table>    \n",
        "            ')"
      ],
      "metadata": {
        "colab": {
          "base_uri": "https://localhost:8080/",
          "height": 114
        },
        "cellView": "form",
        "id": "hvHxHBKwDjdL",
        "outputId": "c7249f90-39c1-42a1-d097-d9503a9bf244"
      },
      "execution_count": 8,
      "outputs": [
        {
          "output_type": "display_data",
          "data": {
            "text/html": [
              "\n",
              "              <table border=\"1\" align=\"center\">\n",
              "              <tr>\n",
              "                <th align=\"center\" valign=\"top\" rowspan=\"2\">Marginal <br>Distribution</th>\n",
              "                <th align=\"center\" valign=\"top\" colspan=\"8\">Conditional Distribution of Diameter | Height</th>\n",
              "              </tr>\n",
              "              <tr>\n",
              "                <td align=\"center\" valign=\"bottom\">Height=25</td>\n",
              "                <td align=\"center\" valign=\"bottom\">Height=50</td>\n",
              "                <td align=\"center\" valign=\"bottom\">Height=75</td>\n",
              "                <td align=\"center\" valign=\"bottom\">Height=100</td>\n",
              "                <td align=\"center\" valign=\"bottom\">Height=125</td>\n",
              "                <td align=\"center\" valign=\"bottom\">Height=150</td>\n",
              "                <td align=\"center\" valign=\"bottom\">Height=175</td>\n",
              "                <td align=\"center\" valign=\"bottom\">Height=200</td>\n",
              "              </tr>\n",
              "              <tr>\n",
              "                <td align=\"center\" valign=\"top\" rowspan=\"2\">425.35</td>\n",
              "                <td align=\"center\" valign=\"bottom\">22.46</td>\n",
              "                <td align=\"center\" valign=\"bottom\">24.58</td>\n",
              "                <td align=\"center\" valign=\"bottom\">28.72</td>\n",
              "                <td align=\"center\" valign=\"bottom\">41.44</td>\n",
              "                <td align=\"center\" valign=\"bottom\">40.05</td>\n",
              "                <td align=\"center\" valign=\"bottom\">45.84</td>\n",
              "                <td align=\"center\" valign=\"bottom\">48.52</td>\n",
              "                <td align=\"center\" valign=\"bottom\">53.46</td>\n",
              "              </tr>\n",
              "              <tr>\n",
              "                 <td align=\"center\" valign=\"top\" colspan=\"8\">Total = 305.1</td>\n",
              "              </tr>\n",
              "            </table>    \n",
              "            "
            ]
          },
          "metadata": {}
        }
      ]
    },
    {
      "cell_type": "markdown",
      "source": [
        "Getting R to compute the total SSE across all heights."
      ],
      "metadata": {
        "id": "k2g_bq94EiYH"
      }
    },
    {
      "cell_type": "code",
      "source": [
        "# Computing the total SSE across all heights\n",
        "cat(\"\\n\\nTotal Unexplained Variation Across all Heights\\n\\n\")\n",
        "(SSE\n",
        "  %>% summarize(\n",
        "                 SSE_Conditional = sum(SSE_EachHeight)\n",
        "                )\n",
        ")"
      ],
      "metadata": {
        "colab": {
          "base_uri": "https://localhost:8080/",
          "height": 199
        },
        "id": "cRmaRcLW-dTA",
        "outputId": "7d970121-833c-41c9-a2e0-400996d98999"
      },
      "execution_count": 9,
      "outputs": [
        {
          "output_type": "stream",
          "name": "stdout",
          "text": [
            "\n",
            "\n",
            "Total Unexplained Variation Across all Heights\n",
            "\n"
          ]
        },
        {
          "output_type": "display_data",
          "data": {
            "text/html": [
              "<table class=\"dataframe\">\n",
              "<caption>A tibble: 1 × 1</caption>\n",
              "<thead>\n",
              "\t<tr><th scope=col>SSE_Conditional</th></tr>\n",
              "\t<tr><th scope=col>&lt;dbl&gt;</th></tr>\n",
              "</thead>\n",
              "<tbody>\n",
              "\t<tr><td>305.0858</td></tr>\n",
              "</tbody>\n",
              "</table>\n"
            ],
            "text/markdown": "\nA tibble: 1 × 1\n\n| SSE_Conditional &lt;dbl&gt; |\n|---|\n| 305.0858 |\n\n",
            "text/latex": "A tibble: 1 × 1\n\\begin{tabular}{l}\n SSE\\_Conditional\\\\\n <dbl>\\\\\n\\hline\n\t 305.0858\\\\\n\\end{tabular}\n",
            "text/plain": [
              "  SSE_Conditional\n",
              "1 305.0858       "
            ]
          },
          "metadata": {}
        }
      ]
    },
    {
      "cell_type": "markdown",
      "source": [
        "<u>Comment</u>:  The total amount of unexplained variation in the *conditional* distribution is 305.1."
      ],
      "metadata": {
        "id": "FffcTxLo8b39"
      }
    },
    {
      "cell_type": "markdown",
      "source": [
        "### Computing $R^2$"
      ],
      "metadata": {
        "id": "AUhiTzZn7762"
      }
    },
    {
      "cell_type": "markdown",
      "source": [
        "he $R^2$ is computed as follows\n",
        "\n",
        "$$\n",
        "\\begin{array}{rcl}\n",
        "R^2 & = & \\frac{\\mbox{Total Unexplained Variation in Marginal} - \\mbox{Total Unexplained Variation in Conditional}}{\\mbox{Total Unexplained Variation in Marginal}} \\\\\n",
        "    & = & \\frac{425.3 - 305.1}{425.3} \\\\ \n",
        "    & = & 0.2826 \\\\ \n",
        "\\end{array}\n",
        "$$\n",
        "\n",
        "<u>Interpretation</u>: About 28\\% of the variation in Diameter can be explained by considering the height in which the projectile was dropped from."
      ],
      "metadata": {
        "id": "MNvHYXKC8Pq1"
      }
    },
    {
      "cell_type": "markdown",
      "source": [
        "### Creating a Plot with the Conditional Means"
      ],
      "metadata": {
        "id": "r_F96Tav84uV"
      }
    },
    {
      "cell_type": "code",
      "metadata": {
        "colab": {
          "base_uri": "https://localhost:8080/",
          "height": 349
        },
        "id": "LGo8uE5fhlQd",
        "outputId": "58105044-9a0c-4ec1-9b64-06270fccf898"
      },
      "source": [
        "#@title Getting Conditional Means\n",
        "# Getting the conditional means\n",
        "#  A LeftSide & RightSide variable will be used to create the bar\n",
        "\n",
        "ImpactCraterMeans <- (ImpactCrater \n",
        "  %>% group_by(Height)\n",
        "  %>% summarize(\n",
        "                 Mean = mean(Diameter),                \n",
        "               )\n",
        "  %>% mutate(\n",
        "              LeftSide = Height - 10,\n",
        "              RightSide = Height + 10\n",
        "            )\n",
        ")\n",
        "ImpactCraterMeans"
      ],
      "execution_count": 10,
      "outputs": [
        {
          "output_type": "display_data",
          "data": {
            "text/html": [
              "<table class=\"dataframe\">\n",
              "<caption>A tibble: 8 × 4</caption>\n",
              "<thead>\n",
              "\t<tr><th scope=col>Height</th><th scope=col>Mean</th><th scope=col>LeftSide</th><th scope=col>RightSide</th></tr>\n",
              "\t<tr><th scope=col>&lt;dbl&gt;</th><th scope=col>&lt;dbl&gt;</th><th scope=col>&lt;dbl&gt;</th><th scope=col>&lt;dbl&gt;</th></tr>\n",
              "</thead>\n",
              "<tbody>\n",
              "\t<tr><td> 25</td><td>4.983333</td><td> 15</td><td> 35</td></tr>\n",
              "\t<tr><td> 50</td><td>5.752778</td><td> 40</td><td> 60</td></tr>\n",
              "\t<tr><td> 75</td><td>6.238889</td><td> 65</td><td> 85</td></tr>\n",
              "\t<tr><td>100</td><td>6.658333</td><td> 90</td><td>110</td></tr>\n",
              "\t<tr><td>125</td><td>7.005556</td><td>115</td><td>135</td></tr>\n",
              "\t<tr><td>150</td><td>7.327778</td><td>140</td><td>160</td></tr>\n",
              "\t<tr><td>175</td><td>7.544444</td><td>165</td><td>185</td></tr>\n",
              "\t<tr><td>200</td><td>7.894444</td><td>190</td><td>210</td></tr>\n",
              "</tbody>\n",
              "</table>\n"
            ],
            "text/markdown": "\nA tibble: 8 × 4\n\n| Height &lt;dbl&gt; | Mean &lt;dbl&gt; | LeftSide &lt;dbl&gt; | RightSide &lt;dbl&gt; |\n|---|---|---|---|\n|  25 | 4.983333 |  15 |  35 |\n|  50 | 5.752778 |  40 |  60 |\n|  75 | 6.238889 |  65 |  85 |\n| 100 | 6.658333 |  90 | 110 |\n| 125 | 7.005556 | 115 | 135 |\n| 150 | 7.327778 | 140 | 160 |\n| 175 | 7.544444 | 165 | 185 |\n| 200 | 7.894444 | 190 | 210 |\n\n",
            "text/latex": "A tibble: 8 × 4\n\\begin{tabular}{llll}\n Height & Mean & LeftSide & RightSide\\\\\n <dbl> & <dbl> & <dbl> & <dbl>\\\\\n\\hline\n\t  25 & 4.983333 &  15 &  35\\\\\n\t  50 & 5.752778 &  40 &  60\\\\\n\t  75 & 6.238889 &  65 &  85\\\\\n\t 100 & 6.658333 &  90 & 110\\\\\n\t 125 & 7.005556 & 115 & 135\\\\\n\t 150 & 7.327778 & 140 & 160\\\\\n\t 175 & 7.544444 & 165 & 185\\\\\n\t 200 & 7.894444 & 190 & 210\\\\\n\\end{tabular}\n",
            "text/plain": [
              "  Height Mean     LeftSide RightSide\n",
              "1  25    4.983333  15       35      \n",
              "2  50    5.752778  40       60      \n",
              "3  75    6.238889  65       85      \n",
              "4 100    6.658333  90      110      \n",
              "5 125    7.005556 115      135      \n",
              "6 150    7.327778 140      160      \n",
              "7 175    7.544444 165      185      \n",
              "8 200    7.894444 190      210      "
            ]
          },
          "metadata": {}
        }
      ]
    },
    {
      "cell_type": "code",
      "metadata": {
        "colab": {
          "base_uri": "https://localhost:8080/",
          "height": 437
        },
        "id": "47KdePJiiLfn",
        "outputId": "fdea6f18-3e07-4183-f10c-9a81b715cd67"
      },
      "source": [
        "#@title Plotting the Conditional Means\n",
        "# Using ggplot() to plot the means for each height\n",
        "# The geom_segment() is used to create segments for each mean\n",
        "ggplot(data=ImpactCrater, aes(x=Height,y=Diameter) ) + \n",
        "  geom_point() + \n",
        "  geom_jitter(width=5) +  #Add a little jitter to the points\n",
        "  theme_classic() +\n",
        "  geom_segment(data = ImpactCraterMeans, aes(x = LeftSide, y = Mean, xend = RightSide, yend = Mean)) #Used to create the line segments for each conditional mean"
      ],
      "execution_count": 11,
      "outputs": [
        {
          "output_type": "display_data",
          "data": {
            "text/plain": [
              "plot without title"
            ],
            "image/png": "[encoded data removed]"
          },
          "metadata": {
            "image/png": {
              "width": 420,
              "height": 420
            }
          }
        }
      ]
    },
    {
      "cell_type": "markdown",
      "metadata": {
        "id": "wepYBir7mGN_"
      },
      "source": [
        "### Conditional Distribution of Diameter | (Height, ProjectileType)"
      ]
    },
    {
      "cell_type": "markdown",
      "source": [
        "Again, to compute an $R^2$ value one needs the total amount of unexplained variation in the *marginal* distribution and the total amount of unexplained variation in the *conditional* distribution. "
      ],
      "metadata": {
        "id": "MvtAbDciFzef"
      }
    },
    {
      "cell_type": "code",
      "source": [
        "# Computing the SSE in marginal distribution\n",
        "\n",
        "(ImpactCrater \n",
        "  %>% summarize(\n",
        "                  Mean = mean(Diameter),\n",
        "                  'Standard Deviation' = sd(Diameter),\n",
        "                  Variance = var(Diameter),\n",
        "                  Count = n()                \n",
        "               )\n",
        "   %>% mutate('SSE_Marginal' = (Count-1)*Variance)\n",
        ")"
      ],
      "metadata": {
        "colab": {
          "base_uri": "https://localhost:8080/",
          "height": 129
        },
        "id": "oYsS-2_qFzl9",
        "outputId": "6aba5efc-8fca-49a5-8b5a-9b0c64c32761"
      },
      "execution_count": 12,
      "outputs": [
        {
          "output_type": "display_data",
          "data": {
            "text/html": [
              "<table class=\"dataframe\">\n",
              "<caption>A tibble: 1 × 5</caption>\n",
              "<thead>\n",
              "\t<tr><th scope=col>Mean</th><th scope=col>Standard Deviation</th><th scope=col>Variance</th><th scope=col>Count</th><th scope=col>SSE_Marginal</th></tr>\n",
              "\t<tr><th scope=col>&lt;dbl&gt;</th><th scope=col>&lt;dbl&gt;</th><th scope=col>&lt;dbl&gt;</th><th scope=col>&lt;int&gt;</th><th scope=col>&lt;dbl&gt;</th></tr>\n",
              "</thead>\n",
              "<tbody>\n",
              "\t<tr><td>6.675694</td><td>1.724657</td><td>2.97444</td><td>144</td><td>425.3449</td></tr>\n",
              "</tbody>\n",
              "</table>\n"
            ],
            "text/markdown": "\nA tibble: 1 × 5\n\n| Mean &lt;dbl&gt; | Standard Deviation &lt;dbl&gt; | Variance &lt;dbl&gt; | Count &lt;int&gt; | SSE_Marginal &lt;dbl&gt; |\n|---|---|---|---|---|\n| 6.675694 | 1.724657 | 2.97444 | 144 | 425.3449 |\n\n",
            "text/latex": "A tibble: 1 × 5\n\\begin{tabular}{lllll}\n Mean & Standard Deviation & Variance & Count & SSE\\_Marginal\\\\\n <dbl> & <dbl> & <dbl> & <int> & <dbl>\\\\\n\\hline\n\t 6.675694 & 1.724657 & 2.97444 & 144 & 425.3449\\\\\n\\end{tabular}\n",
            "text/plain": [
              "  Mean     Standard Deviation Variance Count SSE_Marginal\n",
              "1 6.675694 1.724657           2.97444  144   425.3449    "
            ]
          },
          "metadata": {}
        }
      ]
    },
    {
      "cell_type": "markdown",
      "metadata": {
        "id": "YLi2QDNPmUmU"
      },
      "source": [
        "Next, computing the total amount of unexplained variation in the conditional distribution."
      ]
    },
    {
      "cell_type": "code",
      "metadata": {
        "colab": {
          "base_uri": "https://localhost:8080/",
          "height": 885
        },
        "id": "hQYxzaV0mUtG",
        "outputId": "d7666b84-490a-4cb9-c19a-0e0eb7ff3e6d"
      },
      "source": [
        "# Computing the SSE in the conditional distribution\n",
        "(ImpactCrater \n",
        "  %>% group_by(Height, ProjectileType)\n",
        "  %>% summarize(\n",
        "                  Mean = mean(Diameter),\n",
        "                  Variance = var(Diameter),\n",
        "                  Count = n(),     \n",
        "               )\n",
        "   %>% mutate(SSE = (Count-1)*Variance)\n",
        "   %>% ungroup()\n",
        ") -> SSE\n",
        "\n",
        "SSE"
      ],
      "execution_count": 13,
      "outputs": [
        {
          "output_type": "stream",
          "name": "stderr",
          "text": [
            "\u001b[1m\u001b[22m`summarise()` has grouped output by 'Height'. You can override using the\n",
            "`.groups` argument.\n"
          ]
        },
        {
          "output_type": "display_data",
          "data": {
            "text/html": [
              "<table class=\"dataframe\">\n",
              "<caption>A tibble: 24 × 6</caption>\n",
              "<thead>\n",
              "\t<tr><th scope=col>Height</th><th scope=col>ProjectileType</th><th scope=col>Mean</th><th scope=col>Variance</th><th scope=col>Count</th><th scope=col>SSE</th></tr>\n",
              "\t<tr><th scope=col>&lt;dbl&gt;</th><th scope=col>&lt;chr&gt;</th><th scope=col>&lt;dbl&gt;</th><th scope=col>&lt;dbl&gt;</th><th scope=col>&lt;int&gt;</th><th scope=col>&lt;dbl&gt;</th></tr>\n",
              "</thead>\n",
              "<tbody>\n",
              "\t<tr><td> 25</td><td>GlassBall</td><td>5.191667</td><td>0.14841667</td><td>6</td><td>0.7420833</td></tr>\n",
              "\t<tr><td> 25</td><td>SteelBall</td><td>6.041667</td><td>0.93541667</td><td>6</td><td>4.6770833</td></tr>\n",
              "\t<tr><td> 25</td><td>WoodBall </td><td>3.716667</td><td>0.08666667</td><td>6</td><td>0.4333333</td></tr>\n",
              "\t<tr><td> 50</td><td>GlassBall</td><td>5.783333</td><td>0.12666667</td><td>6</td><td>0.6333333</td></tr>\n",
              "\t<tr><td> 50</td><td>SteelBall</td><td>7.000000</td><td>0.87500000</td><td>6</td><td>4.3750000</td></tr>\n",
              "\t<tr><td> 50</td><td>WoodBall </td><td>4.475000</td><td>0.08775000</td><td>6</td><td>0.4387500</td></tr>\n",
              "\t<tr><td> 75</td><td>GlassBall</td><td>6.241667</td><td>0.05041667</td><td>6</td><td>0.2520833</td></tr>\n",
              "\t<tr><td> 75</td><td>SteelBall</td><td>7.708333</td><td>0.41041667</td><td>6</td><td>2.0520833</td></tr>\n",
              "\t<tr><td> 75</td><td>WoodBall </td><td>4.766667</td><td>0.09166667</td><td>6</td><td>0.4583333</td></tr>\n",
              "\t<tr><td>100</td><td>GlassBall</td><td>6.491667</td><td>0.86041667</td><td>6</td><td>4.3020833</td></tr>\n",
              "\t<tr><td>100</td><td>SteelBall</td><td>8.283333</td><td>1.63766667</td><td>6</td><td>8.1883333</td></tr>\n",
              "\t<tr><td>100</td><td>WoodBall </td><td>5.200000</td><td>0.03500000</td><td>6</td><td>0.1750000</td></tr>\n",
              "\t<tr><td>125</td><td>GlassBall</td><td>6.966667</td><td>0.23166667</td><td>6</td><td>1.1583333</td></tr>\n",
              "\t<tr><td>125</td><td>SteelBall</td><td>8.750000</td><td>0.45000000</td><td>6</td><td>2.2500000</td></tr>\n",
              "\t<tr><td>125</td><td>WoodBall </td><td>5.300000</td><td>0.18400000</td><td>6</td><td>0.9200000</td></tr>\n",
              "\t<tr><td>150</td><td>GlassBall</td><td>7.308333</td><td>0.20441667</td><td>6</td><td>1.0220833</td></tr>\n",
              "\t<tr><td>150</td><td>SteelBall</td><td>9.233333</td><td>0.25066667</td><td>6</td><td>1.2533333</td></tr>\n",
              "\t<tr><td>150</td><td>WoodBall </td><td>5.441667</td><td>0.08641667</td><td>6</td><td>0.4320833</td></tr>\n",
              "\t<tr><td>175</td><td>GlassBall</td><td>7.441667</td><td>0.24441667</td><td>6</td><td>1.2220833</td></tr>\n",
              "\t<tr><td>175</td><td>SteelBall</td><td>9.500000</td><td>0.47500000</td><td>6</td><td>2.3750000</td></tr>\n",
              "\t<tr><td>175</td><td>WoodBall </td><td>5.691667</td><td>0.26441667</td><td>6</td><td>1.3220833</td></tr>\n",
              "\t<tr><td>200</td><td>GlassBall</td><td>7.700000</td><td>0.52000000</td><td>6</td><td>2.6000000</td></tr>\n",
              "\t<tr><td>200</td><td>SteelBall</td><td>9.983333</td><td>0.38566667</td><td>6</td><td>1.9283333</td></tr>\n",
              "\t<tr><td>200</td><td>WoodBall </td><td>6.000000</td><td>0.20000000</td><td>6</td><td>1.0000000</td></tr>\n",
              "</tbody>\n",
              "</table>\n"
            ],
            "text/markdown": "\nA tibble: 24 × 6\n\n| Height &lt;dbl&gt; | ProjectileType &lt;chr&gt; | Mean &lt;dbl&gt; | Variance &lt;dbl&gt; | Count &lt;int&gt; | SSE &lt;dbl&gt; |\n|---|---|---|---|---|---|\n|  25 | GlassBall | 5.191667 | 0.14841667 | 6 | 0.7420833 |\n|  25 | SteelBall | 6.041667 | 0.93541667 | 6 | 4.6770833 |\n|  25 | WoodBall  | 3.716667 | 0.08666667 | 6 | 0.4333333 |\n|  50 | GlassBall | 5.783333 | 0.12666667 | 6 | 0.6333333 |\n|  50 | SteelBall | 7.000000 | 0.87500000 | 6 | 4.3750000 |\n|  50 | WoodBall  | 4.475000 | 0.08775000 | 6 | 0.4387500 |\n|  75 | GlassBall | 6.241667 | 0.05041667 | 6 | 0.2520833 |\n|  75 | SteelBall | 7.708333 | 0.41041667 | 6 | 2.0520833 |\n|  75 | WoodBall  | 4.766667 | 0.09166667 | 6 | 0.4583333 |\n| 100 | GlassBall | 6.491667 | 0.86041667 | 6 | 4.3020833 |\n| 100 | SteelBall | 8.283333 | 1.63766667 | 6 | 8.1883333 |\n| 100 | WoodBall  | 5.200000 | 0.03500000 | 6 | 0.1750000 |\n| 125 | GlassBall | 6.966667 | 0.23166667 | 6 | 1.1583333 |\n| 125 | SteelBall | 8.750000 | 0.45000000 | 6 | 2.2500000 |\n| 125 | WoodBall  | 5.300000 | 0.18400000 | 6 | 0.9200000 |\n| 150 | GlassBall | 7.308333 | 0.20441667 | 6 | 1.0220833 |\n| 150 | SteelBall | 9.233333 | 0.25066667 | 6 | 1.2533333 |\n| 150 | WoodBall  | 5.441667 | 0.08641667 | 6 | 0.4320833 |\n| 175 | GlassBall | 7.441667 | 0.24441667 | 6 | 1.2220833 |\n| 175 | SteelBall | 9.500000 | 0.47500000 | 6 | 2.3750000 |\n| 175 | WoodBall  | 5.691667 | 0.26441667 | 6 | 1.3220833 |\n| 200 | GlassBall | 7.700000 | 0.52000000 | 6 | 2.6000000 |\n| 200 | SteelBall | 9.983333 | 0.38566667 | 6 | 1.9283333 |\n| 200 | WoodBall  | 6.000000 | 0.20000000 | 6 | 1.0000000 |\n\n",
            "text/latex": "A tibble: 24 × 6\n\\begin{tabular}{llllll}\n Height & ProjectileType & Mean & Variance & Count & SSE\\\\\n <dbl> & <chr> & <dbl> & <dbl> & <int> & <dbl>\\\\\n\\hline\n\t  25 & GlassBall & 5.191667 & 0.14841667 & 6 & 0.7420833\\\\\n\t  25 & SteelBall & 6.041667 & 0.93541667 & 6 & 4.6770833\\\\\n\t  25 & WoodBall  & 3.716667 & 0.08666667 & 6 & 0.4333333\\\\\n\t  50 & GlassBall & 5.783333 & 0.12666667 & 6 & 0.6333333\\\\\n\t  50 & SteelBall & 7.000000 & 0.87500000 & 6 & 4.3750000\\\\\n\t  50 & WoodBall  & 4.475000 & 0.08775000 & 6 & 0.4387500\\\\\n\t  75 & GlassBall & 6.241667 & 0.05041667 & 6 & 0.2520833\\\\\n\t  75 & SteelBall & 7.708333 & 0.41041667 & 6 & 2.0520833\\\\\n\t  75 & WoodBall  & 4.766667 & 0.09166667 & 6 & 0.4583333\\\\\n\t 100 & GlassBall & 6.491667 & 0.86041667 & 6 & 4.3020833\\\\\n\t 100 & SteelBall & 8.283333 & 1.63766667 & 6 & 8.1883333\\\\\n\t 100 & WoodBall  & 5.200000 & 0.03500000 & 6 & 0.1750000\\\\\n\t 125 & GlassBall & 6.966667 & 0.23166667 & 6 & 1.1583333\\\\\n\t 125 & SteelBall & 8.750000 & 0.45000000 & 6 & 2.2500000\\\\\n\t 125 & WoodBall  & 5.300000 & 0.18400000 & 6 & 0.9200000\\\\\n\t 150 & GlassBall & 7.308333 & 0.20441667 & 6 & 1.0220833\\\\\n\t 150 & SteelBall & 9.233333 & 0.25066667 & 6 & 1.2533333\\\\\n\t 150 & WoodBall  & 5.441667 & 0.08641667 & 6 & 0.4320833\\\\\n\t 175 & GlassBall & 7.441667 & 0.24441667 & 6 & 1.2220833\\\\\n\t 175 & SteelBall & 9.500000 & 0.47500000 & 6 & 2.3750000\\\\\n\t 175 & WoodBall  & 5.691667 & 0.26441667 & 6 & 1.3220833\\\\\n\t 200 & GlassBall & 7.700000 & 0.52000000 & 6 & 2.6000000\\\\\n\t 200 & SteelBall & 9.983333 & 0.38566667 & 6 & 1.9283333\\\\\n\t 200 & WoodBall  & 6.000000 & 0.20000000 & 6 & 1.0000000\\\\\n\\end{tabular}\n",
            "text/plain": [
              "   Height ProjectileType Mean     Variance   Count SSE      \n",
              "1   25    GlassBall      5.191667 0.14841667 6     0.7420833\n",
              "2   25    SteelBall      6.041667 0.93541667 6     4.6770833\n",
              "3   25    WoodBall       3.716667 0.08666667 6     0.4333333\n",
              "4   50    GlassBall      5.783333 0.12666667 6     0.6333333\n",
              "5   50    SteelBall      7.000000 0.87500000 6     4.3750000\n",
              "6   50    WoodBall       4.475000 0.08775000 6     0.4387500\n",
              "7   75    GlassBall      6.241667 0.05041667 6     0.2520833\n",
              "8   75    SteelBall      7.708333 0.41041667 6     2.0520833\n",
              "9   75    WoodBall       4.766667 0.09166667 6     0.4583333\n",
              "10 100    GlassBall      6.491667 0.86041667 6     4.3020833\n",
              "11 100    SteelBall      8.283333 1.63766667 6     8.1883333\n",
              "12 100    WoodBall       5.200000 0.03500000 6     0.1750000\n",
              "13 125    GlassBall      6.966667 0.23166667 6     1.1583333\n",
              "14 125    SteelBall      8.750000 0.45000000 6     2.2500000\n",
              "15 125    WoodBall       5.300000 0.18400000 6     0.9200000\n",
              "16 150    GlassBall      7.308333 0.20441667 6     1.0220833\n",
              "17 150    SteelBall      9.233333 0.25066667 6     1.2533333\n",
              "18 150    WoodBall       5.441667 0.08641667 6     0.4320833\n",
              "19 175    GlassBall      7.441667 0.24441667 6     1.2220833\n",
              "20 175    SteelBall      9.500000 0.47500000 6     2.3750000\n",
              "21 175    WoodBall       5.691667 0.26441667 6     1.3220833\n",
              "22 200    GlassBall      7.700000 0.52000000 6     2.6000000\n",
              "23 200    SteelBall      9.983333 0.38566667 6     1.9283333\n",
              "24 200    WoodBall       6.000000 0.20000000 6     1.0000000"
            ]
          },
          "metadata": {}
        }
      ]
    },
    {
      "cell_type": "markdown",
      "source": [
        "Letting R compute the total amount of unexplained variation across all heights and projectile type combinations."
      ],
      "metadata": {
        "id": "SBaONpeGHJ3n"
      }
    },
    {
      "cell_type": "code",
      "source": [
        "# Computing the total SSE across all heights and projectile types\n",
        "cat(\"\\n\\nTotal Unexplained Variation\\n\\n\")\n",
        "(SSE\n",
        "  %>% ungroup()\n",
        "  %>% summarize(\n",
        "                 SSE_Conditional = sum(SSE)\n",
        "                )\n",
        ")"
      ],
      "metadata": {
        "colab": {
          "base_uri": "https://localhost:8080/",
          "height": 199
        },
        "id": "ZVB0KaGRHKNZ",
        "outputId": "585e0394-0de1-4a4c-94c5-13389739dfe2"
      },
      "execution_count": 14,
      "outputs": [
        {
          "output_type": "stream",
          "name": "stdout",
          "text": [
            "\n",
            "\n",
            "Total Unexplained Variation\n",
            "\n"
          ]
        },
        {
          "output_type": "display_data",
          "data": {
            "text/html": [
              "<table class=\"dataframe\">\n",
              "<caption>A tibble: 1 × 1</caption>\n",
              "<thead>\n",
              "\t<tr><th scope=col>SSE_Conditional</th></tr>\n",
              "\t<tr><th scope=col>&lt;dbl&gt;</th></tr>\n",
              "</thead>\n",
              "<tbody>\n",
              "\t<tr><td>44.21083</td></tr>\n",
              "</tbody>\n",
              "</table>\n"
            ],
            "text/markdown": "\nA tibble: 1 × 1\n\n| SSE_Conditional &lt;dbl&gt; |\n|---|\n| 44.21083 |\n\n",
            "text/latex": "A tibble: 1 × 1\n\\begin{tabular}{l}\n SSE\\_Conditional\\\\\n <dbl>\\\\\n\\hline\n\t 44.21083\\\\\n\\end{tabular}\n",
            "text/plain": [
              "  SSE_Conditional\n",
              "1 44.21083       "
            ]
          },
          "metadata": {}
        }
      ]
    },
    {
      "cell_type": "markdown",
      "metadata": {
        "id": "EbSOUae6nPpO"
      },
      "source": [
        "Computing the updated $R^2$ value when conditioning on both Height and Projectile Type. \n",
        "\n",
        "$$\n",
        "\\begin{array}{rcl}\n",
        "R^2 & = & \\frac{\\mbox{Total Unexplained Variation in Marginal} - \\mbox{Total Unexplained Variation in Conditional}}{\\mbox{Total Unexplained Variation in Marginal}} \\\\\n",
        "    & = & \\frac{425.3 - 44.2}{425.3} \\\\ \n",
        "    & = & \\frac{381.1}{425.3} \\\\ \n",
        "    & = & 0.8961 \\\\ \n",
        "\\end{array}\n",
        "$$\n",
        "\n",
        "<u>Interpretation</u>: About 90 \\% of the variation in Diameter can be explained by considering the height from which the projectile was dropped from and the projectile type."
      ]
    },
    {
      "cell_type": "markdown",
      "source": [
        "### Updating the Plot with the Conditional Means"
      ],
      "metadata": {
        "id": "qeor3gVrH1qI"
      }
    },
    {
      "cell_type": "markdown",
      "source": [
        "The following code can be used to update the plot for the Conditional Distribution of Diameter | (Height, ProjectileType)."
      ],
      "metadata": {
        "id": "0h5sKqcRJcnQ"
      }
    },
    {
      "cell_type": "code",
      "metadata": {
        "colab": {
          "base_uri": "https://localhost:8080/",
          "height": 472
        },
        "id": "IH1RUrG0nvd-",
        "outputId": "67a3889b-1924-4d67-aaa7-3a8f93534a40",
        "cellView": "form"
      },
      "source": [
        "#@title Plot of Diameter | (Height, ProjectileType)\n",
        "#Get the means for each Height/ ProjectileType combination\n",
        "(ImpactCrater \n",
        "  %>% group_by(Height, ProjectileType)\n",
        "  %>% summarize(\n",
        "                 Mean = mean(Diameter),                \n",
        "               )\n",
        "  %>% mutate(\n",
        "              LeftSide = Height - 10,\n",
        "              RightSide = Height + 10\n",
        "            )\n",
        "  %>% ungroup()\n",
        ") -> ImpactCraterMeans\n",
        "\n",
        "#Creating the plot\n",
        "ggplot(data=ImpactCrater, aes(x=Height,y=Diameter, color=ProjectileType)) + \n",
        "  geom_point() + \n",
        "  geom_jitter(width=5) +  #Add a little jitter to the points\n",
        "  theme_classic() + \n",
        "  geom_segment(data = ImpactCraterMeans, aes(x = LeftSide, y = Mean, xend = RightSide, yend = Mean)) #Used to create the line segments for each conditional mean"
      ],
      "execution_count": 15,
      "outputs": [
        {
          "output_type": "stream",
          "name": "stderr",
          "text": [
            "\u001b[1m\u001b[22m`summarise()` has grouped output by 'Height'. You can override using the\n",
            "`.groups` argument.\n"
          ]
        },
        {
          "output_type": "display_data",
          "data": {
            "text/plain": [
              "plot without title"
            ],
            "image/png": "[encoded data removed]"
          },
          "metadata": {
            "image/png": {
              "width": 420,
              "height": 420
            }
          }
        }
      ]
    },
    {
      "cell_type": "markdown",
      "source": [
        "\n",
        "\n",
        "---\n",
        "\n",
        "\n",
        "\n",
        "---\n",
        "\n"
      ],
      "metadata": {
        "id": "SGLwlfx9ZmU0"
      }
    },
    {
      "cell_type": "markdown",
      "source": [
        "<table width='100%' ><tr><td bgcolor='green'></td></tr></table>\n",
        "\n",
        "## Example 3.2\n",
        "\n",
        "Consider data from the Nenana Ice Classic -- Alaska's greatest guessing game!  Those participating must guess the date and time the ice will go out on the Tanana River in Nenana, AL.  Tens of thousands of dollars in prize money are awarded each year.\n",
        "<table>\n",
        "  <tr>\n",
        "    <td width='50%'>\n",
        "      <ul>\n",
        "        <li><strong>Response Variable</strong>: DayIntoYear</li><br>\n",
        "        <li><strong>Predictor Variable</strong>: Year</li>\n",
        "    </ul>\n",
        "    </td>\n",
        "    <td width='50%'>\n",
        "<p align='center'><img src=\"https://drive.google.com/uc?export=view&id=16BxddrJYtjIlbKJnKbAiCdVOlnyvameU\"></img></p>\n",
        "  </td>\n",
        "</tr>\n",
        "</table>\n",
        "\n",
        "Nenana Ice Classic Website: [Link](https://www.nenanaakiceclassic.com/)\n",
        "\n",
        "Data Folder: [OneDrive](https://mnscu-my.sharepoint.com/:f:/g/personal/aq7839yd_minnstate_edu/EmOQfrwxzzRBqq8PH_8qTmMBy-1qKgM11Hb8vzjs025EEA?e=wyShYs)\n",
        "\n",
        "\n",
        "\n",
        "<table width='100%' ><tr><td bgcolor='green'></td></tr></table>\n",
        "\n"
      ],
      "metadata": {
        "id": "q9K8nU_yVpta"
      }
    },
    {
      "cell_type": "markdown",
      "source": [
        "Reading the Nenana data into this COLAB session."
      ],
      "metadata": {
        "id": "JT2P_dksVqSb"
      }
    },
    {
      "cell_type": "code",
      "source": [
        "# Reading data in using read.csv via Base \n",
        "Nenana <- read_csv(\"http://www.StatsClass.org/stat360/Datasets/Nenana.csv\")"
      ],
      "metadata": {
        "colab": {
          "base_uri": "https://localhost:8080/"
        },
        "id": "tGFa9APbVqZp",
        "outputId": "0cdefab1-c568-4b8c-c5c8-cc1fb2a330f1"
      },
      "execution_count": 16,
      "outputs": [
        {
          "output_type": "stream",
          "name": "stderr",
          "text": [
            "\u001b[1mRows: \u001b[22m\u001b[34m106\u001b[39m \u001b[1mColumns: \u001b[22m\u001b[34m3\u001b[39m\n",
            "\u001b[36m──\u001b[39m \u001b[1mColumn specification\u001b[22m \u001b[36m────────────────────────────────────────────────────────\u001b[39m\n",
            "\u001b[1mDelimiter:\u001b[22m \",\"\n",
            "\u001b[31mchr\u001b[39m (1): DateTime\n",
            "\u001b[32mdbl\u001b[39m (2): Year, DayIntoYear\n",
            "\n",
            "\u001b[36mℹ\u001b[39m Use `spec()` to retrieve the full column specification for this data.\n",
            "\u001b[36mℹ\u001b[39m Specify the column types or set `show_col_types = FALSE` to quiet this message.\n"
          ]
        }
      ]
    },
    {
      "cell_type": "markdown",
      "source": [
        "Taking a look at the most recent years and the Date/Time of the ice out."
      ],
      "metadata": {
        "id": "08HrEPJBZ_Mx"
      }
    },
    {
      "cell_type": "code",
      "source": [
        "tail(Nenana)"
      ],
      "metadata": {
        "colab": {
          "base_uri": "https://localhost:8080/",
          "height": 286
        },
        "id": "7gecYxUUV6AP",
        "outputId": "503d342e-5445-4a6d-abf9-3dd6895746a3"
      },
      "execution_count": 17,
      "outputs": [
        {
          "output_type": "display_data",
          "data": {
            "text/html": [
              "<table class=\"dataframe\">\n",
              "<caption>A tibble: 6 × 3</caption>\n",
              "<thead>\n",
              "\t<tr><th scope=col>Year</th><th scope=col>DayIntoYear</th><th scope=col>DateTime</th></tr>\n",
              "\t<tr><th scope=col>&lt;dbl&gt;</th><th scope=col>&lt;dbl&gt;</th><th scope=col>&lt;chr&gt;</th></tr>\n",
              "</thead>\n",
              "<tbody>\n",
              "\t<tr><td>2017</td><td>121.5000</td><td>May 01 at 12:00 (noon)</td></tr>\n",
              "\t<tr><td>2018</td><td>121.5541</td><td>May 01 at 13:18       </td></tr>\n",
              "\t<tr><td>2019</td><td>103.0146</td><td>April 13 at 00:21     </td></tr>\n",
              "\t<tr><td>2020</td><td>118.5389</td><td>April 27 at 12:56     </td></tr>\n",
              "\t<tr><td>2021</td><td>120.5347</td><td>April 30 at 12:50     </td></tr>\n",
              "\t<tr><td>2022</td><td>122.7826</td><td>May 02 at 18:47       </td></tr>\n",
              "</tbody>\n",
              "</table>\n"
            ],
            "text/markdown": "\nA tibble: 6 × 3\n\n| Year &lt;dbl&gt; | DayIntoYear &lt;dbl&gt; | DateTime &lt;chr&gt; |\n|---|---|---|\n| 2017 | 121.5000 | May 01 at 12:00 (noon) |\n| 2018 | 121.5541 | May 01 at 13:18        |\n| 2019 | 103.0146 | April 13 at 00:21      |\n| 2020 | 118.5389 | April 27 at 12:56      |\n| 2021 | 120.5347 | April 30 at 12:50      |\n| 2022 | 122.7826 | May 02 at 18:47        |\n\n",
            "text/latex": "A tibble: 6 × 3\n\\begin{tabular}{lll}\n Year & DayIntoYear & DateTime\\\\\n <dbl> & <dbl> & <chr>\\\\\n\\hline\n\t 2017 & 121.5000 & May 01 at 12:00 (noon)\\\\\n\t 2018 & 121.5541 & May 01 at 13:18       \\\\\n\t 2019 & 103.0146 & April 13 at 00:21     \\\\\n\t 2020 & 118.5389 & April 27 at 12:56     \\\\\n\t 2021 & 120.5347 & April 30 at 12:50     \\\\\n\t 2022 & 122.7826 & May 02 at 18:47       \\\\\n\\end{tabular}\n",
            "text/plain": [
              "  Year DayIntoYear DateTime              \n",
              "1 2017 121.5000    May 01 at 12:00 (noon)\n",
              "2 2018 121.5541    May 01 at 13:18       \n",
              "3 2019 103.0146    April 13 at 00:21     \n",
              "4 2020 118.5389    April 27 at 12:56     \n",
              "5 2021 120.5347    April 30 at 12:50     \n",
              "6 2022 122.7826    May 02 at 18:47       "
            ]
          },
          "metadata": {}
        }
      ]
    },
    {
      "cell_type": "markdown",
      "source": [
        "Consider only the data from the last 20 years.  A filter() is used to select only the 20 most recent years of data."
      ],
      "metadata": {
        "id": "KaxIMnCAaK0R"
      }
    },
    {
      "cell_type": "code",
      "source": [
        "( Nenana\n",
        "   %>% filter(Year > 2002)\n",
        ") -> Nenana_MostRecent\n",
        "\n",
        "Nenana_MostRecent"
      ],
      "metadata": {
        "colab": {
          "base_uri": "https://localhost:8080/",
          "height": 725
        },
        "id": "WxgO5iiKaK7x",
        "outputId": "a20d0136-d633-4c26-9a8e-bc362f632977"
      },
      "execution_count": 58,
      "outputs": [
        {
          "output_type": "display_data",
          "data": {
            "text/html": [
              "<table class=\"dataframe\">\n",
              "<caption>A spec_tbl_df: 20 × 3</caption>\n",
              "<thead>\n",
              "\t<tr><th scope=col>Year</th><th scope=col>DayIntoYear</th><th scope=col>DateTime</th></tr>\n",
              "\t<tr><th scope=col>&lt;dbl&gt;</th><th scope=col>&lt;dbl&gt;</th><th scope=col>&lt;chr&gt;</th></tr>\n",
              "</thead>\n",
              "<tbody>\n",
              "\t<tr><td>2003</td><td>119.7656</td><td>April 29 at 18:22     </td></tr>\n",
              "\t<tr><td>2004</td><td>115.5944</td><td>April 24 at 14:16     </td></tr>\n",
              "\t<tr><td>2005</td><td>118.5007</td><td>April 28 at 12:01     </td></tr>\n",
              "\t<tr><td>2006</td><td>122.7285</td><td>May 2 at 17:29        </td></tr>\n",
              "\t<tr><td>2007</td><td>117.6160</td><td>April 27 at 14:47     </td></tr>\n",
              "\t<tr><td>2008</td><td>126.9535</td><td>May 5 at 22:53        </td></tr>\n",
              "\t<tr><td>2009</td><td>121.8618</td><td>May 1 at 20:41        </td></tr>\n",
              "\t<tr><td>2010</td><td>119.3792</td><td>April 29 at 9:06      </td></tr>\n",
              "\t<tr><td>2011</td><td>124.6833</td><td>May 4 at 16:24        </td></tr>\n",
              "\t<tr><td>2012</td><td>114.8187</td><td>Apr 23 at 19:39       </td></tr>\n",
              "\t<tr><td>2013</td><td>140.6118</td><td>May 20 at 14:41       </td></tr>\n",
              "\t<tr><td>2014</td><td>115.6583</td><td>Apr 25 at 15:48       </td></tr>\n",
              "\t<tr><td>2015</td><td>114.6001</td><td>Apr 24 at 14:25       </td></tr>\n",
              "\t<tr><td>2016</td><td>114.6520</td><td>Apr 23 at 15:39       </td></tr>\n",
              "\t<tr><td>2017</td><td>121.5000</td><td>May 01 at 12:00 (noon)</td></tr>\n",
              "\t<tr><td>2018</td><td>121.5541</td><td>May 01 at 13:18       </td></tr>\n",
              "\t<tr><td>2019</td><td>103.0146</td><td>April 13 at 00:21     </td></tr>\n",
              "\t<tr><td>2020</td><td>118.5389</td><td>April 27 at 12:56     </td></tr>\n",
              "\t<tr><td>2021</td><td>120.5347</td><td>April 30 at 12:50     </td></tr>\n",
              "\t<tr><td>2022</td><td>122.7826</td><td>May 02 at 18:47       </td></tr>\n",
              "</tbody>\n",
              "</table>\n"
            ],
            "text/markdown": "\nA spec_tbl_df: 20 × 3\n\n| Year &lt;dbl&gt; | DayIntoYear &lt;dbl&gt; | DateTime &lt;chr&gt; |\n|---|---|---|\n| 2003 | 119.7656 | April 29 at 18:22      |\n| 2004 | 115.5944 | April 24 at 14:16      |\n| 2005 | 118.5007 | April 28 at 12:01      |\n| 2006 | 122.7285 | May 2 at 17:29         |\n| 2007 | 117.6160 | April 27 at 14:47      |\n| 2008 | 126.9535 | May 5 at 22:53         |\n| 2009 | 121.8618 | May 1 at 20:41         |\n| 2010 | 119.3792 | April 29 at 9:06       |\n| 2011 | 124.6833 | May 4 at 16:24         |\n| 2012 | 114.8187 | Apr 23 at 19:39        |\n| 2013 | 140.6118 | May 20 at 14:41        |\n| 2014 | 115.6583 | Apr 25 at 15:48        |\n| 2015 | 114.6001 | Apr 24 at 14:25        |\n| 2016 | 114.6520 | Apr 23 at 15:39        |\n| 2017 | 121.5000 | May 01 at 12:00 (noon) |\n| 2018 | 121.5541 | May 01 at 13:18        |\n| 2019 | 103.0146 | April 13 at 00:21      |\n| 2020 | 118.5389 | April 27 at 12:56      |\n| 2021 | 120.5347 | April 30 at 12:50      |\n| 2022 | 122.7826 | May 02 at 18:47        |\n\n",
            "text/latex": "A spec\\_tbl\\_df: 20 × 3\n\\begin{tabular}{lll}\n Year & DayIntoYear & DateTime\\\\\n <dbl> & <dbl> & <chr>\\\\\n\\hline\n\t 2003 & 119.7656 & April 29 at 18:22     \\\\\n\t 2004 & 115.5944 & April 24 at 14:16     \\\\\n\t 2005 & 118.5007 & April 28 at 12:01     \\\\\n\t 2006 & 122.7285 & May 2 at 17:29        \\\\\n\t 2007 & 117.6160 & April 27 at 14:47     \\\\\n\t 2008 & 126.9535 & May 5 at 22:53        \\\\\n\t 2009 & 121.8618 & May 1 at 20:41        \\\\\n\t 2010 & 119.3792 & April 29 at 9:06      \\\\\n\t 2011 & 124.6833 & May 4 at 16:24        \\\\\n\t 2012 & 114.8187 & Apr 23 at 19:39       \\\\\n\t 2013 & 140.6118 & May 20 at 14:41       \\\\\n\t 2014 & 115.6583 & Apr 25 at 15:48       \\\\\n\t 2015 & 114.6001 & Apr 24 at 14:25       \\\\\n\t 2016 & 114.6520 & Apr 23 at 15:39       \\\\\n\t 2017 & 121.5000 & May 01 at 12:00 (noon)\\\\\n\t 2018 & 121.5541 & May 01 at 13:18       \\\\\n\t 2019 & 103.0146 & April 13 at 00:21     \\\\\n\t 2020 & 118.5389 & April 27 at 12:56     \\\\\n\t 2021 & 120.5347 & April 30 at 12:50     \\\\\n\t 2022 & 122.7826 & May 02 at 18:47       \\\\\n\\end{tabular}\n",
            "text/plain": [
              "   Year DayIntoYear DateTime              \n",
              "1  2003 119.7656    April 29 at 18:22     \n",
              "2  2004 115.5944    April 24 at 14:16     \n",
              "3  2005 118.5007    April 28 at 12:01     \n",
              "4  2006 122.7285    May 2 at 17:29        \n",
              "5  2007 117.6160    April 27 at 14:47     \n",
              "6  2008 126.9535    May 5 at 22:53        \n",
              "7  2009 121.8618    May 1 at 20:41        \n",
              "8  2010 119.3792    April 29 at 9:06      \n",
              "9  2011 124.6833    May 4 at 16:24        \n",
              "10 2012 114.8187    Apr 23 at 19:39       \n",
              "11 2013 140.6118    May 20 at 14:41       \n",
              "12 2014 115.6583    Apr 25 at 15:48       \n",
              "13 2015 114.6001    Apr 24 at 14:25       \n",
              "14 2016 114.6520    Apr 23 at 15:39       \n",
              "15 2017 121.5000    May 01 at 12:00 (noon)\n",
              "16 2018 121.5541    May 01 at 13:18       \n",
              "17 2019 103.0146    April 13 at 00:21     \n",
              "18 2020 118.5389    April 27 at 12:56     \n",
              "19 2021 120.5347    April 30 at 12:50     \n",
              "20 2022 122.7826    May 02 at 18:47       "
            ]
          },
          "metadata": {}
        }
      ]
    },
    {
      "cell_type": "markdown",
      "source": [
        "Next, consider a line graph showing the relationship between DayIntoYear and Year over the last 20 years."
      ],
      "metadata": {
        "id": "sEl-ceH7ai-J"
      }
    },
    {
      "cell_type": "code",
      "source": [
        "# Plot of DayIntoYear vs Year\n",
        "ggplot(data=Nenana_MostRecent, aes(x=Year,y=DayIntoYear) ) + \n",
        "  geom_point() +\n",
        "  geom_line() + \n",
        "  ylim(0, 150) + \n",
        "  theme_classic()"
      ],
      "metadata": {
        "colab": {
          "base_uri": "https://localhost:8080/",
          "height": 437
        },
        "id": "oZU_KqCAajFP",
        "outputId": "733ce907-ac19-4f0c-9d84-9e7313ef60d9"
      },
      "execution_count": 27,
      "outputs": [
        {
          "output_type": "display_data",
          "data": {
            "text/plain": [
              "plot without title"
            ],
            "image/png": "[encoded data removed]"
          },
          "metadata": {
            "image/png": {
              "width": 420,
              "height": 420
            }
          }
        }
      ]
    },
    {
      "cell_type": "markdown",
      "source": [
        "First, computing the total amount of unexplained variation in the marginal distribution."
      ],
      "metadata": {
        "id": "iuESlm1jX2QC"
      }
    },
    {
      "cell_type": "code",
      "source": [
        "# Computing the SSE in marginal distribution\n",
        "\n",
        "(Nenana_MostRecent \n",
        "  %>% summarize(\n",
        "                  Mean = mean(DayIntoYear),\n",
        "                  'Standard Deviation' = sd(DayIntoYear),\n",
        "                  Variance = var(DayIntoYear),\n",
        "                  Count = n()                \n",
        "               )\n",
        "   %>% mutate('SSE_Marginal' = (Count-1)*Variance)\n",
        ")"
      ],
      "metadata": {
        "colab": {
          "base_uri": "https://localhost:8080/",
          "height": 129
        },
        "id": "3YhY3QWfX2Wh",
        "outputId": "c621b290-44d3-439c-8c81-7ce4d7d3c32c"
      },
      "execution_count": 34,
      "outputs": [
        {
          "output_type": "display_data",
          "data": {
            "text/html": [
              "<table class=\"dataframe\">\n",
              "<caption>A tibble: 1 × 5</caption>\n",
              "<thead>\n",
              "\t<tr><th scope=col>Mean</th><th scope=col>Standard Deviation</th><th scope=col>Variance</th><th scope=col>Count</th><th scope=col>SSE_Marginal</th></tr>\n",
              "\t<tr><th scope=col>&lt;dbl&gt;</th><th scope=col>&lt;dbl&gt;</th><th scope=col>&lt;dbl&gt;</th><th scope=col>&lt;int&gt;</th><th scope=col>&lt;dbl&gt;</th></tr>\n",
              "</thead>\n",
              "<tbody>\n",
              "\t<tr><td>119.7674</td><td>7.031994</td><td>49.44895</td><td>20</td><td>939.53</td></tr>\n",
              "</tbody>\n",
              "</table>\n"
            ],
            "text/markdown": "\nA tibble: 1 × 5\n\n| Mean &lt;dbl&gt; | Standard Deviation &lt;dbl&gt; | Variance &lt;dbl&gt; | Count &lt;int&gt; | SSE_Marginal &lt;dbl&gt; |\n|---|---|---|---|---|\n| 119.7674 | 7.031994 | 49.44895 | 20 | 939.53 |\n\n",
            "text/latex": "A tibble: 1 × 5\n\\begin{tabular}{lllll}\n Mean & Standard Deviation & Variance & Count & SSE\\_Marginal\\\\\n <dbl> & <dbl> & <dbl> & <int> & <dbl>\\\\\n\\hline\n\t 119.7674 & 7.031994 & 49.44895 & 20 & 939.53\\\\\n\\end{tabular}\n",
            "text/plain": [
              "  Mean     Standard Deviation Variance Count SSE_Marginal\n",
              "1 119.7674 7.031994           49.44895 20    939.53      "
            ]
          },
          "metadata": {}
        }
      ]
    },
    {
      "cell_type": "markdown",
      "source": [
        "<u>Comment</u>:  The total amount of unexplained variation in the *marginal* \n",
        "distribution is 939.5."
      ],
      "metadata": {
        "id": "Z_MqjlxZYKry"
      }
    },
    {
      "cell_type": "markdown",
      "source": [
        "Next, the total amount of unexplained variation in the conditional distibution must be obtained."
      ],
      "metadata": {
        "id": "1Elo55COVYay"
      }
    },
    {
      "cell_type": "code",
      "source": [
        "# Getting the conditional means\n",
        " (Nenana_MostRecent \n",
        "    %>% group_by(Year)\n",
        "    %>% summarize(\n",
        "                   Mean = mean(DayIntoYear)              \n",
        "                 )\n",
        ")"
      ],
      "metadata": {
        "colab": {
          "base_uri": "https://localhost:8080/",
          "height": 725
        },
        "id": "7CnMU4iQXRbW",
        "outputId": "152fd50c-e924-498d-ce2e-a59ccfa6f3b3"
      },
      "execution_count": 48,
      "outputs": [
        {
          "output_type": "display_data",
          "data": {
            "text/html": [
              "<table class=\"dataframe\">\n",
              "<caption>A tibble: 20 × 2</caption>\n",
              "<thead>\n",
              "\t<tr><th scope=col>Year</th><th scope=col>Mean</th></tr>\n",
              "\t<tr><th scope=col>&lt;dbl&gt;</th><th scope=col>&lt;dbl&gt;</th></tr>\n",
              "</thead>\n",
              "<tbody>\n",
              "\t<tr><td>2003</td><td>119.7656</td></tr>\n",
              "\t<tr><td>2004</td><td>115.5944</td></tr>\n",
              "\t<tr><td>2005</td><td>118.5007</td></tr>\n",
              "\t<tr><td>2006</td><td>122.7285</td></tr>\n",
              "\t<tr><td>2007</td><td>117.6160</td></tr>\n",
              "\t<tr><td>2008</td><td>126.9535</td></tr>\n",
              "\t<tr><td>2009</td><td>121.8618</td></tr>\n",
              "\t<tr><td>2010</td><td>119.3792</td></tr>\n",
              "\t<tr><td>2011</td><td>124.6833</td></tr>\n",
              "\t<tr><td>2012</td><td>114.8187</td></tr>\n",
              "\t<tr><td>2013</td><td>140.6118</td></tr>\n",
              "\t<tr><td>2014</td><td>115.6583</td></tr>\n",
              "\t<tr><td>2015</td><td>114.6001</td></tr>\n",
              "\t<tr><td>2016</td><td>114.6520</td></tr>\n",
              "\t<tr><td>2017</td><td>121.5000</td></tr>\n",
              "\t<tr><td>2018</td><td>121.5541</td></tr>\n",
              "\t<tr><td>2019</td><td>103.0146</td></tr>\n",
              "\t<tr><td>2020</td><td>118.5389</td></tr>\n",
              "\t<tr><td>2021</td><td>120.5347</td></tr>\n",
              "\t<tr><td>2022</td><td>122.7826</td></tr>\n",
              "</tbody>\n",
              "</table>\n"
            ],
            "text/markdown": "\nA tibble: 20 × 2\n\n| Year &lt;dbl&gt; | Mean &lt;dbl&gt; |\n|---|---|\n| 2003 | 119.7656 |\n| 2004 | 115.5944 |\n| 2005 | 118.5007 |\n| 2006 | 122.7285 |\n| 2007 | 117.6160 |\n| 2008 | 126.9535 |\n| 2009 | 121.8618 |\n| 2010 | 119.3792 |\n| 2011 | 124.6833 |\n| 2012 | 114.8187 |\n| 2013 | 140.6118 |\n| 2014 | 115.6583 |\n| 2015 | 114.6001 |\n| 2016 | 114.6520 |\n| 2017 | 121.5000 |\n| 2018 | 121.5541 |\n| 2019 | 103.0146 |\n| 2020 | 118.5389 |\n| 2021 | 120.5347 |\n| 2022 | 122.7826 |\n\n",
            "text/latex": "A tibble: 20 × 2\n\\begin{tabular}{ll}\n Year & Mean\\\\\n <dbl> & <dbl>\\\\\n\\hline\n\t 2003 & 119.7656\\\\\n\t 2004 & 115.5944\\\\\n\t 2005 & 118.5007\\\\\n\t 2006 & 122.7285\\\\\n\t 2007 & 117.6160\\\\\n\t 2008 & 126.9535\\\\\n\t 2009 & 121.8618\\\\\n\t 2010 & 119.3792\\\\\n\t 2011 & 124.6833\\\\\n\t 2012 & 114.8187\\\\\n\t 2013 & 140.6118\\\\\n\t 2014 & 115.6583\\\\\n\t 2015 & 114.6001\\\\\n\t 2016 & 114.6520\\\\\n\t 2017 & 121.5000\\\\\n\t 2018 & 121.5541\\\\\n\t 2019 & 103.0146\\\\\n\t 2020 & 118.5389\\\\\n\t 2021 & 120.5347\\\\\n\t 2022 & 122.7826\\\\\n\\end{tabular}\n",
            "text/plain": [
              "   Year Mean    \n",
              "1  2003 119.7656\n",
              "2  2004 115.5944\n",
              "3  2005 118.5007\n",
              "4  2006 122.7285\n",
              "5  2007 117.6160\n",
              "6  2008 126.9535\n",
              "7  2009 121.8618\n",
              "8  2010 119.3792\n",
              "9  2011 124.6833\n",
              "10 2012 114.8187\n",
              "11 2013 140.6118\n",
              "12 2014 115.6583\n",
              "13 2015 114.6001\n",
              "14 2016 114.6520\n",
              "15 2017 121.5000\n",
              "16 2018 121.5541\n",
              "17 2019 103.0146\n",
              "18 2020 118.5389\n",
              "19 2021 120.5347\n",
              "20 2022 122.7826"
            ]
          },
          "metadata": {}
        }
      ]
    },
    {
      "cell_type": "markdown",
      "source": [
        "Consider a plot of the conditional means."
      ],
      "metadata": {
        "id": "2gjxTJV1VoFH"
      }
    },
    {
      "cell_type": "code",
      "source": [
        "# Getting the conditional means\n",
        " (Nenana_MostRecent \n",
        "    %>% group_by(Year)\n",
        "    %>% summarize(\n",
        "                   Mean = mean(DayIntoYear),                \n",
        "                 )\n",
        "     %>% mutate(\n",
        "                 LeftSide = Year - 0.40,\n",
        "                 RightSide = Year + 0.40\n",
        "                )\n",
        ") -> DayIntoYearMeans\n",
        "\n",
        "# Using ggplot() to plot the means for each Year\n",
        "# The geom_segment() is used to create segments for each mean\n",
        "ggplot(data=Nenana_MostRecent, aes(x=Year,y=DayIntoYear) ) + \n",
        "  geom_point() + \n",
        "  geom_segment(data = DayIntoYearMeans, aes(x = LeftSide, y = Mean, xend = RightSide, yend = Mean)) + #Used to create the line segments for each conditional mean\n",
        "  ylim(0, 150) + \n",
        "  theme_classic() \n",
        "  "
      ],
      "metadata": {
        "colab": {
          "base_uri": "https://localhost:8080/",
          "height": 437
        },
        "id": "FVanjuWJVoM1",
        "outputId": "8ced1055-c1b0-4d50-a600-4492e993d800"
      },
      "execution_count": 25,
      "outputs": [
        {
          "output_type": "display_data",
          "data": {
            "text/plain": [
              "plot without title"
            ],
            "image/png": "[encoded data removed]"
          },
          "metadata": {
            "image/png": {
              "width": 420,
              "height": 420
            }
          }
        }
      ]
    },
    {
      "cell_type": "markdown",
      "source": [
        "There is a **problem** -- when observations are not replicated in the conditional distribution, there is *no independent measure of error*. "
      ],
      "metadata": {
        "id": "pdfNZxzAY1KS"
      }
    },
    {
      "cell_type": "code",
      "source": [
        "# Computing the SSE in the conditional distribution\n",
        "(Nenana_MostRecent \n",
        "  %>% group_by(Year)\n",
        "  %>% summarize(\n",
        "                  Mean = mean(DayIntoYear),\n",
        "                  Variance = var(DayIntoYear),\n",
        "                  Count = n(),     \n",
        "               )\n",
        "   %>% mutate(SSE = (Count-1)*Variance)\n",
        "   %>% ungroup()\n",
        ") -> SSE\n",
        "\n",
        "SSE\n",
        "\n",
        "# Computing the total SSE across all heights and projectile types\n",
        "cat(\"\\n\\nTotal Unexplained Variation\\n\\n\")\n",
        "(SSE\n",
        "  %>% ungroup()\n",
        "  %>% summarize(\n",
        "                 SSE_Conditional = sum(SSE)\n",
        "                )\n",
        ")"
      ],
      "metadata": {
        "colab": {
          "base_uri": "https://localhost:8080/",
          "height": 907
        },
        "id": "pHEuBOCOY1RH",
        "outputId": "53d56798-d5bf-4495-955c-a651186e4dbe"
      },
      "execution_count": 39,
      "outputs": [
        {
          "output_type": "display_data",
          "data": {
            "text/html": [
              "<table class=\"dataframe\">\n",
              "<caption>A tibble: 20 × 5</caption>\n",
              "<thead>\n",
              "\t<tr><th scope=col>Year</th><th scope=col>Mean</th><th scope=col>Variance</th><th scope=col>Count</th><th scope=col>SSE</th></tr>\n",
              "\t<tr><th scope=col>&lt;dbl&gt;</th><th scope=col>&lt;dbl&gt;</th><th scope=col>&lt;dbl&gt;</th><th scope=col>&lt;int&gt;</th><th scope=col>&lt;dbl&gt;</th></tr>\n",
              "</thead>\n",
              "<tbody>\n",
              "\t<tr><td>2003</td><td>119.7656</td><td>NA</td><td>1</td><td>NA</td></tr>\n",
              "\t<tr><td>2004</td><td>115.5944</td><td>NA</td><td>1</td><td>NA</td></tr>\n",
              "\t<tr><td>2005</td><td>118.5007</td><td>NA</td><td>1</td><td>NA</td></tr>\n",
              "\t<tr><td>2006</td><td>122.7285</td><td>NA</td><td>1</td><td>NA</td></tr>\n",
              "\t<tr><td>2007</td><td>117.6160</td><td>NA</td><td>1</td><td>NA</td></tr>\n",
              "\t<tr><td>2008</td><td>126.9535</td><td>NA</td><td>1</td><td>NA</td></tr>\n",
              "\t<tr><td>2009</td><td>121.8618</td><td>NA</td><td>1</td><td>NA</td></tr>\n",
              "\t<tr><td>2010</td><td>119.3792</td><td>NA</td><td>1</td><td>NA</td></tr>\n",
              "\t<tr><td>2011</td><td>124.6833</td><td>NA</td><td>1</td><td>NA</td></tr>\n",
              "\t<tr><td>2012</td><td>114.8187</td><td>NA</td><td>1</td><td>NA</td></tr>\n",
              "\t<tr><td>2013</td><td>140.6118</td><td>NA</td><td>1</td><td>NA</td></tr>\n",
              "\t<tr><td>2014</td><td>115.6583</td><td>NA</td><td>1</td><td>NA</td></tr>\n",
              "\t<tr><td>2015</td><td>114.6001</td><td>NA</td><td>1</td><td>NA</td></tr>\n",
              "\t<tr><td>2016</td><td>114.6520</td><td>NA</td><td>1</td><td>NA</td></tr>\n",
              "\t<tr><td>2017</td><td>121.5000</td><td>NA</td><td>1</td><td>NA</td></tr>\n",
              "\t<tr><td>2018</td><td>121.5541</td><td>NA</td><td>1</td><td>NA</td></tr>\n",
              "\t<tr><td>2019</td><td>103.0146</td><td>NA</td><td>1</td><td>NA</td></tr>\n",
              "\t<tr><td>2020</td><td>118.5389</td><td>NA</td><td>1</td><td>NA</td></tr>\n",
              "\t<tr><td>2021</td><td>120.5347</td><td>NA</td><td>1</td><td>NA</td></tr>\n",
              "\t<tr><td>2022</td><td>122.7826</td><td>NA</td><td>1</td><td>NA</td></tr>\n",
              "</tbody>\n",
              "</table>\n"
            ],
            "text/markdown": "\nA tibble: 20 × 5\n\n| Year &lt;dbl&gt; | Mean &lt;dbl&gt; | Variance &lt;dbl&gt; | Count &lt;int&gt; | SSE &lt;dbl&gt; |\n|---|---|---|---|---|\n| 2003 | 119.7656 | NA | 1 | NA |\n| 2004 | 115.5944 | NA | 1 | NA |\n| 2005 | 118.5007 | NA | 1 | NA |\n| 2006 | 122.7285 | NA | 1 | NA |\n| 2007 | 117.6160 | NA | 1 | NA |\n| 2008 | 126.9535 | NA | 1 | NA |\n| 2009 | 121.8618 | NA | 1 | NA |\n| 2010 | 119.3792 | NA | 1 | NA |\n| 2011 | 124.6833 | NA | 1 | NA |\n| 2012 | 114.8187 | NA | 1 | NA |\n| 2013 | 140.6118 | NA | 1 | NA |\n| 2014 | 115.6583 | NA | 1 | NA |\n| 2015 | 114.6001 | NA | 1 | NA |\n| 2016 | 114.6520 | NA | 1 | NA |\n| 2017 | 121.5000 | NA | 1 | NA |\n| 2018 | 121.5541 | NA | 1 | NA |\n| 2019 | 103.0146 | NA | 1 | NA |\n| 2020 | 118.5389 | NA | 1 | NA |\n| 2021 | 120.5347 | NA | 1 | NA |\n| 2022 | 122.7826 | NA | 1 | NA |\n\n",
            "text/latex": "A tibble: 20 × 5\n\\begin{tabular}{lllll}\n Year & Mean & Variance & Count & SSE\\\\\n <dbl> & <dbl> & <dbl> & <int> & <dbl>\\\\\n\\hline\n\t 2003 & 119.7656 & NA & 1 & NA\\\\\n\t 2004 & 115.5944 & NA & 1 & NA\\\\\n\t 2005 & 118.5007 & NA & 1 & NA\\\\\n\t 2006 & 122.7285 & NA & 1 & NA\\\\\n\t 2007 & 117.6160 & NA & 1 & NA\\\\\n\t 2008 & 126.9535 & NA & 1 & NA\\\\\n\t 2009 & 121.8618 & NA & 1 & NA\\\\\n\t 2010 & 119.3792 & NA & 1 & NA\\\\\n\t 2011 & 124.6833 & NA & 1 & NA\\\\\n\t 2012 & 114.8187 & NA & 1 & NA\\\\\n\t 2013 & 140.6118 & NA & 1 & NA\\\\\n\t 2014 & 115.6583 & NA & 1 & NA\\\\\n\t 2015 & 114.6001 & NA & 1 & NA\\\\\n\t 2016 & 114.6520 & NA & 1 & NA\\\\\n\t 2017 & 121.5000 & NA & 1 & NA\\\\\n\t 2018 & 121.5541 & NA & 1 & NA\\\\\n\t 2019 & 103.0146 & NA & 1 & NA\\\\\n\t 2020 & 118.5389 & NA & 1 & NA\\\\\n\t 2021 & 120.5347 & NA & 1 & NA\\\\\n\t 2022 & 122.7826 & NA & 1 & NA\\\\\n\\end{tabular}\n",
            "text/plain": [
              "   Year Mean     Variance Count SSE\n",
              "1  2003 119.7656 NA       1     NA \n",
              "2  2004 115.5944 NA       1     NA \n",
              "3  2005 118.5007 NA       1     NA \n",
              "4  2006 122.7285 NA       1     NA \n",
              "5  2007 117.6160 NA       1     NA \n",
              "6  2008 126.9535 NA       1     NA \n",
              "7  2009 121.8618 NA       1     NA \n",
              "8  2010 119.3792 NA       1     NA \n",
              "9  2011 124.6833 NA       1     NA \n",
              "10 2012 114.8187 NA       1     NA \n",
              "11 2013 140.6118 NA       1     NA \n",
              "12 2014 115.6583 NA       1     NA \n",
              "13 2015 114.6001 NA       1     NA \n",
              "14 2016 114.6520 NA       1     NA \n",
              "15 2017 121.5000 NA       1     NA \n",
              "16 2018 121.5541 NA       1     NA \n",
              "17 2019 103.0146 NA       1     NA \n",
              "18 2020 118.5389 NA       1     NA \n",
              "19 2021 120.5347 NA       1     NA \n",
              "20 2022 122.7826 NA       1     NA "
            ]
          },
          "metadata": {}
        },
        {
          "output_type": "stream",
          "name": "stdout",
          "text": [
            "\n",
            "\n",
            "Total Unexplained Variation\n",
            "\n"
          ]
        },
        {
          "output_type": "display_data",
          "data": {
            "text/html": [
              "<table class=\"dataframe\">\n",
              "<caption>A tibble: 1 × 1</caption>\n",
              "<thead>\n",
              "\t<tr><th scope=col>SSE_Conditional</th></tr>\n",
              "\t<tr><th scope=col>&lt;dbl&gt;</th></tr>\n",
              "</thead>\n",
              "<tbody>\n",
              "\t<tr><td>NA</td></tr>\n",
              "</tbody>\n",
              "</table>\n"
            ],
            "text/markdown": "\nA tibble: 1 × 1\n\n| SSE_Conditional &lt;dbl&gt; |\n|---|\n| NA |\n\n",
            "text/latex": "A tibble: 1 × 1\n\\begin{tabular}{l}\n SSE\\_Conditional\\\\\n <dbl>\\\\\n\\hline\n\t NA\\\\\n\\end{tabular}\n",
            "text/plain": [
              "  SSE_Conditional\n",
              "1 NA             "
            ]
          },
          "metadata": {}
        }
      ]
    },
    {
      "cell_type": "markdown",
      "source": [],
      "metadata": {
        "id": "KWAXKHDiaSHb"
      }
    },
    {
      "cell_type": "code",
      "source": [
        "# Using ggplot() to plot the means for each Year\n",
        "# The geom_segment() is used to create segments for each mean\n",
        "ggplot(data=Nenana_MostRecent, aes(x=Year,y=DayIntoYear) ) + \n",
        "  geom_point() + \n",
        "  geom_smooth(method=\"lm\", formula=y~x, se = FALSE, col=\"black\") + \n",
        "  ylim(0, 150) + \n",
        "  theme_classic() "
      ],
      "metadata": {
        "colab": {
          "base_uri": "https://localhost:8080/",
          "height": 437
        },
        "id": "hgxu78cRaSOx",
        "outputId": "311f7e14-5c01-40ad-db58-d428e54c8d46"
      },
      "execution_count": 42,
      "outputs": [
        {
          "output_type": "display_data",
          "data": {
            "text/plain": [
              "plot without title"
            ],
            "image/png": "[encoded data removed]"
          },
          "metadata": {
            "image/png": {
              "width": 420,
              "height": 420
            }
          }
        }
      ]
    },
    {
      "cell_type": "markdown",
      "source": [
        "The following code will obtain an estimate for each year using a simple linear model."
      ],
      "metadata": {
        "id": "rhryhsYYb5Ik"
      }
    },
    {
      "cell_type": "code",
      "source": [
        "#Fitting a simple linear model to the data\n",
        "LMModel_DayIntoYear_Year <- lm(DayIntoYear ~ Year, data=Nenana_MostRecent)\n",
        "\n",
        "#Getting estimated mean (predicted) for each Year\n",
        "(Nenana_MostRecent\n",
        "   %>%  mutate(\n",
        "               Predicted_DayIntoYear = predict(LMModel_DayIntoYear_Year, newdata = Nenana_MostRecent )\n",
        "   )\n",
        ") -> Nenana_MostRecent_Means\n",
        "\n",
        "Nenana_MostRecent_Means"
      ],
      "metadata": {
        "colab": {
          "base_uri": "https://localhost:8080/",
          "height": 725
        },
        "id": "fw3JY8Lub5Px",
        "outputId": "926e8b17-b292-409c-f498-b7440a7ef2b4"
      },
      "execution_count": 59,
      "outputs": [
        {
          "output_type": "display_data",
          "data": {
            "text/html": [
              "<table class=\"dataframe\">\n",
              "<caption>A tibble: 20 × 4</caption>\n",
              "<thead>\n",
              "\t<tr><th scope=col>Year</th><th scope=col>DayIntoYear</th><th scope=col>DateTime</th><th scope=col>Predicted_DayIntoYear</th></tr>\n",
              "\t<tr><th scope=col>&lt;dbl&gt;</th><th scope=col>&lt;dbl&gt;</th><th scope=col>&lt;chr&gt;</th><th scope=col>&lt;dbl&gt;</th></tr>\n",
              "</thead>\n",
              "<tbody>\n",
              "\t<tr><td>2003</td><td>119.7656</td><td>April 29 at 18:22     </td><td>121.1661</td></tr>\n",
              "\t<tr><td>2004</td><td>115.5944</td><td>April 24 at 14:16     </td><td>121.0188</td></tr>\n",
              "\t<tr><td>2005</td><td>118.5007</td><td>April 28 at 12:01     </td><td>120.8716</td></tr>\n",
              "\t<tr><td>2006</td><td>122.7285</td><td>May 2 at 17:29        </td><td>120.7244</td></tr>\n",
              "\t<tr><td>2007</td><td>117.6160</td><td>April 27 at 14:47     </td><td>120.5772</td></tr>\n",
              "\t<tr><td>2008</td><td>126.9535</td><td>May 5 at 22:53        </td><td>120.4299</td></tr>\n",
              "\t<tr><td>2009</td><td>121.8618</td><td>May 1 at 20:41        </td><td>120.2827</td></tr>\n",
              "\t<tr><td>2010</td><td>119.3792</td><td>April 29 at 9:06      </td><td>120.1355</td></tr>\n",
              "\t<tr><td>2011</td><td>124.6833</td><td>May 4 at 16:24        </td><td>119.9883</td></tr>\n",
              "\t<tr><td>2012</td><td>114.8187</td><td>Apr 23 at 19:39       </td><td>119.8411</td></tr>\n",
              "\t<tr><td>2013</td><td>140.6118</td><td>May 20 at 14:41       </td><td>119.6938</td></tr>\n",
              "\t<tr><td>2014</td><td>115.6583</td><td>Apr 25 at 15:48       </td><td>119.5466</td></tr>\n",
              "\t<tr><td>2015</td><td>114.6001</td><td>Apr 24 at 14:25       </td><td>119.3994</td></tr>\n",
              "\t<tr><td>2016</td><td>114.6520</td><td>Apr 23 at 15:39       </td><td>119.2522</td></tr>\n",
              "\t<tr><td>2017</td><td>121.5000</td><td>May 01 at 12:00 (noon)</td><td>119.1049</td></tr>\n",
              "\t<tr><td>2018</td><td>121.5541</td><td>May 01 at 13:18       </td><td>118.9577</td></tr>\n",
              "\t<tr><td>2019</td><td>103.0146</td><td>April 13 at 00:21     </td><td>118.8105</td></tr>\n",
              "\t<tr><td>2020</td><td>118.5389</td><td>April 27 at 12:56     </td><td>118.6633</td></tr>\n",
              "\t<tr><td>2021</td><td>120.5347</td><td>April 30 at 12:50     </td><td>118.5160</td></tr>\n",
              "\t<tr><td>2022</td><td>122.7826</td><td>May 02 at 18:47       </td><td>118.3688</td></tr>\n",
              "</tbody>\n",
              "</table>\n"
            ],
            "text/markdown": "\nA tibble: 20 × 4\n\n| Year &lt;dbl&gt; | DayIntoYear &lt;dbl&gt; | DateTime &lt;chr&gt; | Predicted_DayIntoYear &lt;dbl&gt; |\n|---|---|---|---|\n| 2003 | 119.7656 | April 29 at 18:22      | 121.1661 |\n| 2004 | 115.5944 | April 24 at 14:16      | 121.0188 |\n| 2005 | 118.5007 | April 28 at 12:01      | 120.8716 |\n| 2006 | 122.7285 | May 2 at 17:29         | 120.7244 |\n| 2007 | 117.6160 | April 27 at 14:47      | 120.5772 |\n| 2008 | 126.9535 | May 5 at 22:53         | 120.4299 |\n| 2009 | 121.8618 | May 1 at 20:41         | 120.2827 |\n| 2010 | 119.3792 | April 29 at 9:06       | 120.1355 |\n| 2011 | 124.6833 | May 4 at 16:24         | 119.9883 |\n| 2012 | 114.8187 | Apr 23 at 19:39        | 119.8411 |\n| 2013 | 140.6118 | May 20 at 14:41        | 119.6938 |\n| 2014 | 115.6583 | Apr 25 at 15:48        | 119.5466 |\n| 2015 | 114.6001 | Apr 24 at 14:25        | 119.3994 |\n| 2016 | 114.6520 | Apr 23 at 15:39        | 119.2522 |\n| 2017 | 121.5000 | May 01 at 12:00 (noon) | 119.1049 |\n| 2018 | 121.5541 | May 01 at 13:18        | 118.9577 |\n| 2019 | 103.0146 | April 13 at 00:21      | 118.8105 |\n| 2020 | 118.5389 | April 27 at 12:56      | 118.6633 |\n| 2021 | 120.5347 | April 30 at 12:50      | 118.5160 |\n| 2022 | 122.7826 | May 02 at 18:47        | 118.3688 |\n\n",
            "text/latex": "A tibble: 20 × 4\n\\begin{tabular}{llll}\n Year & DayIntoYear & DateTime & Predicted\\_DayIntoYear\\\\\n <dbl> & <dbl> & <chr> & <dbl>\\\\\n\\hline\n\t 2003 & 119.7656 & April 29 at 18:22      & 121.1661\\\\\n\t 2004 & 115.5944 & April 24 at 14:16      & 121.0188\\\\\n\t 2005 & 118.5007 & April 28 at 12:01      & 120.8716\\\\\n\t 2006 & 122.7285 & May 2 at 17:29         & 120.7244\\\\\n\t 2007 & 117.6160 & April 27 at 14:47      & 120.5772\\\\\n\t 2008 & 126.9535 & May 5 at 22:53         & 120.4299\\\\\n\t 2009 & 121.8618 & May 1 at 20:41         & 120.2827\\\\\n\t 2010 & 119.3792 & April 29 at 9:06       & 120.1355\\\\\n\t 2011 & 124.6833 & May 4 at 16:24         & 119.9883\\\\\n\t 2012 & 114.8187 & Apr 23 at 19:39        & 119.8411\\\\\n\t 2013 & 140.6118 & May 20 at 14:41        & 119.6938\\\\\n\t 2014 & 115.6583 & Apr 25 at 15:48        & 119.5466\\\\\n\t 2015 & 114.6001 & Apr 24 at 14:25        & 119.3994\\\\\n\t 2016 & 114.6520 & Apr 23 at 15:39        & 119.2522\\\\\n\t 2017 & 121.5000 & May 01 at 12:00 (noon) & 119.1049\\\\\n\t 2018 & 121.5541 & May 01 at 13:18        & 118.9577\\\\\n\t 2019 & 103.0146 & April 13 at 00:21      & 118.8105\\\\\n\t 2020 & 118.5389 & April 27 at 12:56      & 118.6633\\\\\n\t 2021 & 120.5347 & April 30 at 12:50      & 118.5160\\\\\n\t 2022 & 122.7826 & May 02 at 18:47        & 118.3688\\\\\n\\end{tabular}\n",
            "text/plain": [
              "   Year DayIntoYear DateTime               Predicted_DayIntoYear\n",
              "1  2003 119.7656    April 29 at 18:22      121.1661             \n",
              "2  2004 115.5944    April 24 at 14:16      121.0188             \n",
              "3  2005 118.5007    April 28 at 12:01      120.8716             \n",
              "4  2006 122.7285    May 2 at 17:29         120.7244             \n",
              "5  2007 117.6160    April 27 at 14:47      120.5772             \n",
              "6  2008 126.9535    May 5 at 22:53         120.4299             \n",
              "7  2009 121.8618    May 1 at 20:41         120.2827             \n",
              "8  2010 119.3792    April 29 at 9:06       120.1355             \n",
              "9  2011 124.6833    May 4 at 16:24         119.9883             \n",
              "10 2012 114.8187    Apr 23 at 19:39        119.8411             \n",
              "11 2013 140.6118    May 20 at 14:41        119.6938             \n",
              "12 2014 115.6583    Apr 25 at 15:48        119.5466             \n",
              "13 2015 114.6001    Apr 24 at 14:25        119.3994             \n",
              "14 2016 114.6520    Apr 23 at 15:39        119.2522             \n",
              "15 2017 121.5000    May 01 at 12:00 (noon) 119.1049             \n",
              "16 2018 121.5541    May 01 at 13:18        118.9577             \n",
              "17 2019 103.0146    April 13 at 00:21      118.8105             \n",
              "18 2020 118.5389    April 27 at 12:56      118.6633             \n",
              "19 2021 120.5347    April 30 at 12:50      118.5160             \n",
              "20 2022 122.7826    May 02 at 18:47        118.3688             "
            ]
          },
          "metadata": {}
        }
      ]
    },
    {
      "cell_type": "markdown",
      "source": [
        "Next, the residual (or error) can be estimated by considering the difference between the data point and the mean which is estimated by the simple linear model. "
      ],
      "metadata": {
        "id": "tYG_Mu_IcwPT"
      }
    },
    {
      "cell_type": "code",
      "source": [
        "# Using ggplot() to plot the means for each Year\n",
        "# The geom_segment() is used to create segments for each mean\n",
        "ggplot(data=Nenana_MostRecent_Means, aes(x=Year,y=DayIntoYear) ) + \n",
        "  geom_point() + \n",
        "  geom_smooth(method=\"lm\", formula=y~x, se = FALSE, col=\"black\") + \n",
        "  geom_segment(aes(x = Year, y = DayIntoYear, xend = Year, yend = Predicted_DayIntoYear)) + #Used to create the line segments for each conditional mean\n",
        "  ylim(0, 150) + \n",
        "  theme_classic() "
      ],
      "metadata": {
        "colab": {
          "base_uri": "https://localhost:8080/",
          "height": 437
        },
        "id": "_3HoYXQ0cwWb",
        "outputId": "e85ba4b7-8243-4040-98eb-638516eb3030"
      },
      "execution_count": 61,
      "outputs": [
        {
          "output_type": "display_data",
          "data": {
            "text/plain": [
              "plot without title"
            ],
            "image/png": "[encoded data removed]"
          },
          "metadata": {
            "image/png": {
              "width": 420,
              "height": 420
            }
          }
        }
      ]
    },
    {
      "cell_type": "markdown",
      "source": [
        "The total amount of unexplained variation can be computing using the residual values from this plot.\n",
        "\n",
        "$$\n",
        "\\mbox{Total Amount of Unexplained Variation} = \\sum (Residual)^2\n",
        "$$"
      ],
      "metadata": {
        "id": "Dp-cUwplasAa"
      }
    },
    {
      "cell_type": "code",
      "source": [
        "#Fitting a simple linear model to the data\n",
        "LMModel_DayIntoYear_Year <- lm(DayIntoYear ~ Year, data=Nenana_MostRecent)\n",
        "\n",
        "#Getting estimated mean (predicted) for each Year\n",
        "(Nenana_MostRecent\n",
        "   %>%  mutate(\n",
        "               Predicted_DayIntoYear = predict(LMModel_DayIntoYear_Year, newdata = Nenana_MostRecent ),\n",
        "               Residual_DayIntoYear = (DayIntoYear - Predicted_DayIntoYear),\n",
        "               Residual_Squared =  Residual_DayIntoYear^2\n",
        "   )\n",
        ") -> Nenana_MostRecent_SSE\n",
        "\n",
        "Nenana_MostRecent_SSE\n",
        "\n",
        "cat(\"\\n\\nTotal Amount of Unexplained Variation\\n\\n\")\n",
        "(Nenana_MostRecent_SSE\n",
        "  %>% summarize(\n",
        "                  SSE_Conditional = sum(Residual_Squared)\n",
        "  )\n",
        ")"
      ],
      "metadata": {
        "colab": {
          "base_uri": "https://localhost:8080/",
          "height": 907
        },
        "id": "_SJAayyMasJb",
        "outputId": "33eae564-06a7-4321-f6b1-78fa55840689"
      },
      "execution_count": 67,
      "outputs": [
        {
          "output_type": "display_data",
          "data": {
            "text/html": [
              "<table class=\"dataframe\">\n",
              "<caption>A tibble: 20 × 6</caption>\n",
              "<thead>\n",
              "\t<tr><th scope=col>Year</th><th scope=col>DayIntoYear</th><th scope=col>DateTime</th><th scope=col>Predicted_DayIntoYear</th><th scope=col>Residual_DayIntoYear</th><th scope=col>Residual_Squared</th></tr>\n",
              "\t<tr><th scope=col>&lt;dbl&gt;</th><th scope=col>&lt;dbl&gt;</th><th scope=col>&lt;chr&gt;</th><th scope=col>&lt;dbl&gt;</th><th scope=col>&lt;dbl&gt;</th><th scope=col>&lt;dbl&gt;</th></tr>\n",
              "</thead>\n",
              "<tbody>\n",
              "\t<tr><td>2003</td><td>119.7656</td><td>April 29 at 18:22     </td><td>121.1661</td><td> -1.4004686</td><td>  1.9613122</td></tr>\n",
              "\t<tr><td>2004</td><td>115.5944</td><td>April 24 at 14:16     </td><td>121.0188</td><td> -5.4244445</td><td> 29.4245983</td></tr>\n",
              "\t<tr><td>2005</td><td>118.5007</td><td>April 28 at 12:01     </td><td>120.8716</td><td> -2.3709205</td><td>  5.6212638</td></tr>\n",
              "\t<tr><td>2006</td><td>122.7285</td><td>May 2 at 17:29        </td><td>120.7244</td><td>  2.0041036</td><td>  4.0164313</td></tr>\n",
              "\t<tr><td>2007</td><td>117.6160</td><td>April 27 at 14:47     </td><td>120.5772</td><td> -2.9611723</td><td>  8.7685416</td></tr>\n",
              "\t<tr><td>2008</td><td>126.9535</td><td>May 5 at 22:53        </td><td>120.4299</td><td>  6.5235517</td><td> 42.5567272</td></tr>\n",
              "\t<tr><td>2009</td><td>121.8618</td><td>May 1 at 20:41        </td><td>120.2827</td><td>  1.5790758</td><td>  2.4934803</td></tr>\n",
              "\t<tr><td>2010</td><td>119.3792</td><td>April 29 at 9:06      </td><td>120.1355</td><td> -0.7563002</td><td>  0.5719899</td></tr>\n",
              "\t<tr><td>2011</td><td>124.6833</td><td>May 4 at 16:24        </td><td>119.9883</td><td>  4.6950239</td><td> 22.0432495</td></tr>\n",
              "\t<tr><td>2012</td><td>114.8187</td><td>Apr 23 at 19:39       </td><td>119.8411</td><td> -5.0223520</td><td> 25.2240199</td></tr>\n",
              "\t<tr><td>2013</td><td>140.6118</td><td>May 20 at 14:41       </td><td>119.6938</td><td> 20.9179720</td><td>437.5615539</td></tr>\n",
              "\t<tr><td>2014</td><td>115.6583</td><td>Apr 25 at 15:48       </td><td>119.5466</td><td> -3.8883039</td><td> 15.1189073</td></tr>\n",
              "\t<tr><td>2015</td><td>114.6001</td><td>Apr 24 at 14:25       </td><td>119.3994</td><td> -4.7992798</td><td> 23.0330871</td></tr>\n",
              "\t<tr><td>2016</td><td>114.6520</td><td>Apr 23 at 15:39       </td><td>119.2522</td><td> -4.6001558</td><td> 21.1614333</td></tr>\n",
              "\t<tr><td>2017</td><td>121.5000</td><td>May 01 at 12:00 (noon)</td><td>119.1049</td><td>  2.3950683</td><td>  5.7363520</td></tr>\n",
              "\t<tr><td>2018</td><td>121.5541</td><td>May 01 at 13:18       </td><td>118.9577</td><td>  2.5963923</td><td>  6.7412531</td></tr>\n",
              "\t<tr><td>2019</td><td>103.0146</td><td>April 13 at 00:21     </td><td>118.8105</td><td>-15.7958836</td><td>249.5099390</td></tr>\n",
              "\t<tr><td>2020</td><td>118.5389</td><td>April 27 at 12:56     </td><td>118.6633</td><td> -0.1243595</td><td>  0.0154653</td></tr>\n",
              "\t<tr><td>2021</td><td>120.5347</td><td>April 30 at 12:50     </td><td>118.5160</td><td>  2.0186645</td><td>  4.0750064</td></tr>\n",
              "\t<tr><td>2022</td><td>122.7826</td><td>May 02 at 18:47       </td><td>118.3688</td><td>  4.4137886</td><td> 19.4815296</td></tr>\n",
              "</tbody>\n",
              "</table>\n"
            ],
            "text/markdown": "\nA tibble: 20 × 6\n\n| Year &lt;dbl&gt; | DayIntoYear &lt;dbl&gt; | DateTime &lt;chr&gt; | Predicted_DayIntoYear &lt;dbl&gt; | Residual_DayIntoYear &lt;dbl&gt; | Residual_Squared &lt;dbl&gt; |\n|---|---|---|---|---|---|\n| 2003 | 119.7656 | April 29 at 18:22      | 121.1661 |  -1.4004686 |   1.9613122 |\n| 2004 | 115.5944 | April 24 at 14:16      | 121.0188 |  -5.4244445 |  29.4245983 |\n| 2005 | 118.5007 | April 28 at 12:01      | 120.8716 |  -2.3709205 |   5.6212638 |\n| 2006 | 122.7285 | May 2 at 17:29         | 120.7244 |   2.0041036 |   4.0164313 |\n| 2007 | 117.6160 | April 27 at 14:47      | 120.5772 |  -2.9611723 |   8.7685416 |\n| 2008 | 126.9535 | May 5 at 22:53         | 120.4299 |   6.5235517 |  42.5567272 |\n| 2009 | 121.8618 | May 1 at 20:41         | 120.2827 |   1.5790758 |   2.4934803 |\n| 2010 | 119.3792 | April 29 at 9:06       | 120.1355 |  -0.7563002 |   0.5719899 |\n| 2011 | 124.6833 | May 4 at 16:24         | 119.9883 |   4.6950239 |  22.0432495 |\n| 2012 | 114.8187 | Apr 23 at 19:39        | 119.8411 |  -5.0223520 |  25.2240199 |\n| 2013 | 140.6118 | May 20 at 14:41        | 119.6938 |  20.9179720 | 437.5615539 |\n| 2014 | 115.6583 | Apr 25 at 15:48        | 119.5466 |  -3.8883039 |  15.1189073 |\n| 2015 | 114.6001 | Apr 24 at 14:25        | 119.3994 |  -4.7992798 |  23.0330871 |\n| 2016 | 114.6520 | Apr 23 at 15:39        | 119.2522 |  -4.6001558 |  21.1614333 |\n| 2017 | 121.5000 | May 01 at 12:00 (noon) | 119.1049 |   2.3950683 |   5.7363520 |\n| 2018 | 121.5541 | May 01 at 13:18        | 118.9577 |   2.5963923 |   6.7412531 |\n| 2019 | 103.0146 | April 13 at 00:21      | 118.8105 | -15.7958836 | 249.5099390 |\n| 2020 | 118.5389 | April 27 at 12:56      | 118.6633 |  -0.1243595 |   0.0154653 |\n| 2021 | 120.5347 | April 30 at 12:50      | 118.5160 |   2.0186645 |   4.0750064 |\n| 2022 | 122.7826 | May 02 at 18:47        | 118.3688 |   4.4137886 |  19.4815296 |\n\n",
            "text/latex": "A tibble: 20 × 6\n\\begin{tabular}{llllll}\n Year & DayIntoYear & DateTime & Predicted\\_DayIntoYear & Residual\\_DayIntoYear & Residual\\_Squared\\\\\n <dbl> & <dbl> & <chr> & <dbl> & <dbl> & <dbl>\\\\\n\\hline\n\t 2003 & 119.7656 & April 29 at 18:22      & 121.1661 &  -1.4004686 &   1.9613122\\\\\n\t 2004 & 115.5944 & April 24 at 14:16      & 121.0188 &  -5.4244445 &  29.4245983\\\\\n\t 2005 & 118.5007 & April 28 at 12:01      & 120.8716 &  -2.3709205 &   5.6212638\\\\\n\t 2006 & 122.7285 & May 2 at 17:29         & 120.7244 &   2.0041036 &   4.0164313\\\\\n\t 2007 & 117.6160 & April 27 at 14:47      & 120.5772 &  -2.9611723 &   8.7685416\\\\\n\t 2008 & 126.9535 & May 5 at 22:53         & 120.4299 &   6.5235517 &  42.5567272\\\\\n\t 2009 & 121.8618 & May 1 at 20:41         & 120.2827 &   1.5790758 &   2.4934803\\\\\n\t 2010 & 119.3792 & April 29 at 9:06       & 120.1355 &  -0.7563002 &   0.5719899\\\\\n\t 2011 & 124.6833 & May 4 at 16:24         & 119.9883 &   4.6950239 &  22.0432495\\\\\n\t 2012 & 114.8187 & Apr 23 at 19:39        & 119.8411 &  -5.0223520 &  25.2240199\\\\\n\t 2013 & 140.6118 & May 20 at 14:41        & 119.6938 &  20.9179720 & 437.5615539\\\\\n\t 2014 & 115.6583 & Apr 25 at 15:48        & 119.5466 &  -3.8883039 &  15.1189073\\\\\n\t 2015 & 114.6001 & Apr 24 at 14:25        & 119.3994 &  -4.7992798 &  23.0330871\\\\\n\t 2016 & 114.6520 & Apr 23 at 15:39        & 119.2522 &  -4.6001558 &  21.1614333\\\\\n\t 2017 & 121.5000 & May 01 at 12:00 (noon) & 119.1049 &   2.3950683 &   5.7363520\\\\\n\t 2018 & 121.5541 & May 01 at 13:18        & 118.9577 &   2.5963923 &   6.7412531\\\\\n\t 2019 & 103.0146 & April 13 at 00:21      & 118.8105 & -15.7958836 & 249.5099390\\\\\n\t 2020 & 118.5389 & April 27 at 12:56      & 118.6633 &  -0.1243595 &   0.0154653\\\\\n\t 2021 & 120.5347 & April 30 at 12:50      & 118.5160 &   2.0186645 &   4.0750064\\\\\n\t 2022 & 122.7826 & May 02 at 18:47        & 118.3688 &   4.4137886 &  19.4815296\\\\\n\\end{tabular}\n",
            "text/plain": [
              "   Year DayIntoYear DateTime               Predicted_DayIntoYear\n",
              "1  2003 119.7656    April 29 at 18:22      121.1661             \n",
              "2  2004 115.5944    April 24 at 14:16      121.0188             \n",
              "3  2005 118.5007    April 28 at 12:01      120.8716             \n",
              "4  2006 122.7285    May 2 at 17:29         120.7244             \n",
              "5  2007 117.6160    April 27 at 14:47      120.5772             \n",
              "6  2008 126.9535    May 5 at 22:53         120.4299             \n",
              "7  2009 121.8618    May 1 at 20:41         120.2827             \n",
              "8  2010 119.3792    April 29 at 9:06       120.1355             \n",
              "9  2011 124.6833    May 4 at 16:24         119.9883             \n",
              "10 2012 114.8187    Apr 23 at 19:39        119.8411             \n",
              "11 2013 140.6118    May 20 at 14:41        119.6938             \n",
              "12 2014 115.6583    Apr 25 at 15:48        119.5466             \n",
              "13 2015 114.6001    Apr 24 at 14:25        119.3994             \n",
              "14 2016 114.6520    Apr 23 at 15:39        119.2522             \n",
              "15 2017 121.5000    May 01 at 12:00 (noon) 119.1049             \n",
              "16 2018 121.5541    May 01 at 13:18        118.9577             \n",
              "17 2019 103.0146    April 13 at 00:21      118.8105             \n",
              "18 2020 118.5389    April 27 at 12:56      118.6633             \n",
              "19 2021 120.5347    April 30 at 12:50      118.5160             \n",
              "20 2022 122.7826    May 02 at 18:47        118.3688             \n",
              "   Residual_DayIntoYear Residual_Squared\n",
              "1   -1.4004686            1.9613122     \n",
              "2   -5.4244445           29.4245983     \n",
              "3   -2.3709205            5.6212638     \n",
              "4    2.0041036            4.0164313     \n",
              "5   -2.9611723            8.7685416     \n",
              "6    6.5235517           42.5567272     \n",
              "7    1.5790758            2.4934803     \n",
              "8   -0.7563002            0.5719899     \n",
              "9    4.6950239           22.0432495     \n",
              "10  -5.0223520           25.2240199     \n",
              "11  20.9179720          437.5615539     \n",
              "12  -3.8883039           15.1189073     \n",
              "13  -4.7992798           23.0330871     \n",
              "14  -4.6001558           21.1614333     \n",
              "15   2.3950683            5.7363520     \n",
              "16   2.5963923            6.7412531     \n",
              "17 -15.7958836          249.5099390     \n",
              "18  -0.1243595            0.0154653     \n",
              "19   2.0186645            4.0750064     \n",
              "20   4.4137886           19.4815296     "
            ]
          },
          "metadata": {}
        },
        {
          "output_type": "stream",
          "name": "stdout",
          "text": [
            "\n",
            "\n",
            "Total Amount of Unexplained Variation\n",
            "\n"
          ]
        },
        {
          "output_type": "display_data",
          "data": {
            "text/html": [
              "<table class=\"dataframe\">\n",
              "<caption>A tibble: 1 × 1</caption>\n",
              "<thead>\n",
              "\t<tr><th scope=col>SSE_Conditional</th></tr>\n",
              "\t<tr><th scope=col>&lt;dbl&gt;</th></tr>\n",
              "</thead>\n",
              "<tbody>\n",
              "\t<tr><td>925.1161</td></tr>\n",
              "</tbody>\n",
              "</table>\n"
            ],
            "text/markdown": "\nA tibble: 1 × 1\n\n| SSE_Conditional &lt;dbl&gt; |\n|---|\n| 925.1161 |\n\n",
            "text/latex": "A tibble: 1 × 1\n\\begin{tabular}{l}\n SSE\\_Conditional\\\\\n <dbl>\\\\\n\\hline\n\t 925.1161\\\\\n\\end{tabular}\n",
            "text/plain": [
              "  SSE_Conditional\n",
              "1 925.1161       "
            ]
          },
          "metadata": {}
        }
      ]
    },
    {
      "cell_type": "markdown",
      "source": [
        "Computing the updated $R^2$ value when conditioning on Year.\n",
        "\n",
        "$$\n",
        "\\begin{array}{rcl}\n",
        "R^2 & = & \\frac{\\mbox{Total Unexplained Variation in Marginal} - \\mbox{Total Unexplained Variation in Conditional}}{\\mbox{Total Unexplained Variation in Marginal}} \\\\\n",
        "    & = & \\frac{939.5 - 925.1}{939.5} \\\\ \n",
        "    & = & \\frac{14.4}{939.5} \\\\ \n",
        "    & = & 0.01534 \\\\ \n",
        "\\end{array}\n",
        "$$\n",
        "\n",
        "<u>Interpretation</u>: About 1.5\\% of the variation in DayIntoYear can be explained by considering Year."
      ],
      "metadata": {
        "id": "lg6t5poYeuJd"
      }
    },
    {
      "cell_type": "markdown",
      "source": [
        "### Getting Summaries of the Simple Linear Model"
      ],
      "metadata": {
        "id": "Sm7QonjufOi7"
      }
    },
    {
      "cell_type": "markdown",
      "source": [
        "First, fitting the simple linear model."
      ],
      "metadata": {
        "id": "e_FA6TYCffee"
      }
    },
    {
      "cell_type": "code",
      "source": [
        "#Fitting a simple linear model to the data\n",
        "LMModel_DayIntoYear_Year <- lm(DayIntoYear ~ Year, data=Nenana_MostRecent)\n",
        "LMModel_DayIntoYear_Year"
      ],
      "metadata": {
        "colab": {
          "base_uri": "https://localhost:8080/",
          "height": 138
        },
        "id": "5WdijUXjfOpj",
        "outputId": "48807fbe-9a40-4ca0-8332-e3e9bf1075b4"
      },
      "execution_count": 71,
      "outputs": [
        {
          "output_type": "display_data",
          "data": {
            "text/plain": [
              "\n",
              "Call:\n",
              "lm(formula = DayIntoYear ~ Year, data = Nenana_MostRecent)\n",
              "\n",
              "Coefficients:\n",
              "(Intercept)         Year  \n",
              "   416.0559      -0.1472  \n"
            ]
          },
          "metadata": {}
        }
      ]
    },
    {
      "cell_type": "markdown",
      "source": [
        "Next, consider the output provided by the summary() function."
      ],
      "metadata": {
        "id": "dcGckJ3_fl7D"
      }
    },
    {
      "cell_type": "code",
      "source": [
        "#Gettting a summary() of the linear model object\n",
        "summary(LMModel_DayIntoYear_Year)"
      ],
      "metadata": {
        "colab": {
          "base_uri": "https://localhost:8080/",
          "height": 295
        },
        "id": "gwOwhqrhfmFF",
        "outputId": "f2952f33-2209-4f2f-eda3-7ffe61b7fc20"
      },
      "execution_count": 72,
      "outputs": [
        {
          "output_type": "display_data",
          "data": {
            "text/plain": [
              "\n",
              "Call:\n",
              "lm(formula = DayIntoYear ~ Year, data = Nenana_MostRecent)\n",
              "\n",
              "Residuals:\n",
              "     Min       1Q   Median       3Q      Max \n",
              "-15.7959  -4.0663  -0.4403   2.4454  20.9180 \n",
              "\n",
              "Coefficients:\n",
              "            Estimate Std. Error t value Pr(>|t|)\n",
              "(Intercept) 416.0559   559.4854   0.744    0.467\n",
              "Year         -0.1472     0.2780  -0.530    0.603\n",
              "\n",
              "Residual standard error: 7.169 on 18 degrees of freedom\n",
              "Multiple R-squared:  0.01534,\tAdjusted R-squared:  -0.03936 \n",
              "F-statistic: 0.2805 on 1 and 18 DF,  p-value: 0.6029\n"
            ]
          },
          "metadata": {}
        }
      ]
    },
    {
      "cell_type": "markdown",
      "source": [
        "The unexplained (and explanined) variation quantites can be obtained using the anova() function in R."
      ],
      "metadata": {
        "id": "lfIFksZPfu6P"
      }
    },
    {
      "cell_type": "code",
      "source": [
        "#Getting the unexplained variation quantities using anova()\n",
        "anova(LMModel_DayIntoYear_Year)"
      ],
      "metadata": {
        "colab": {
          "base_uri": "https://localhost:8080/",
          "height": 161
        },
        "id": "kX-uR5qafvC8",
        "outputId": "0fbc5a61-a6b6-4262-c0c0-1b9a566538bf"
      },
      "execution_count": 73,
      "outputs": [
        {
          "output_type": "display_data",
          "data": {
            "text/html": [
              "<table class=\"dataframe\">\n",
              "<caption>A anova: 2 × 5</caption>\n",
              "<thead>\n",
              "\t<tr><th></th><th scope=col>Df</th><th scope=col>Sum Sq</th><th scope=col>Mean Sq</th><th scope=col>F value</th><th scope=col>Pr(&gt;F)</th></tr>\n",
              "\t<tr><th></th><th scope=col>&lt;int&gt;</th><th scope=col>&lt;dbl&gt;</th><th scope=col>&lt;dbl&gt;</th><th scope=col>&lt;dbl&gt;</th><th scope=col>&lt;dbl&gt;</th></tr>\n",
              "</thead>\n",
              "<tbody>\n",
              "\t<tr><th scope=row>Year</th><td> 1</td><td> 14.41382</td><td>14.41382</td><td>0.28045</td><td>0.6028776</td></tr>\n",
              "\t<tr><th scope=row>Residuals</th><td>18</td><td>925.11614</td><td>51.39534</td><td>     NA</td><td>       NA</td></tr>\n",
              "</tbody>\n",
              "</table>\n"
            ],
            "text/markdown": "\nA anova: 2 × 5\n\n| <!--/--> | Df &lt;int&gt; | Sum Sq &lt;dbl&gt; | Mean Sq &lt;dbl&gt; | F value &lt;dbl&gt; | Pr(&gt;F) &lt;dbl&gt; |\n|---|---|---|---|---|---|\n| Year |  1 |  14.41382 | 14.41382 | 0.28045 | 0.6028776 |\n| Residuals | 18 | 925.11614 | 51.39534 |      NA |        NA |\n\n",
            "text/latex": "A anova: 2 × 5\n\\begin{tabular}{r|lllll}\n  & Df & Sum Sq & Mean Sq & F value & Pr(>F)\\\\\n  & <int> & <dbl> & <dbl> & <dbl> & <dbl>\\\\\n\\hline\n\tYear &  1 &  14.41382 & 14.41382 & 0.28045 & 0.6028776\\\\\n\tResiduals & 18 & 925.11614 & 51.39534 &      NA &        NA\\\\\n\\end{tabular}\n",
            "text/plain": [
              "          Df Sum Sq    Mean Sq  F value Pr(>F)   \n",
              "Year       1  14.41382 14.41382 0.28045 0.6028776\n",
              "Residuals 18 925.11614 51.39534      NA        NA"
            ]
          },
          "metadata": {}
        }
      ]
    },
    {
      "cell_type": "markdown",
      "metadata": {
        "id": "9kkg1lL30Rfw"
      },
      "source": [
        "---\n",
        "\n",
        "\n",
        "\n",
        "---\n",
        "End of Document\n"
      ]
    }
  ]
}