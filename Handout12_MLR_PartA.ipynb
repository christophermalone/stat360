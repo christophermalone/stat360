{
  "nbformat": 4,
  "nbformat_minor": 0,
  "metadata": {
    "colab": {
      "name": "Handout12_MLR_PartA.ipynb",
      "provenance": [],
      "collapsed_sections": [
        "bCmC17zpsBJ_",
        "njXGRUIC9Lgs",
        "E3vxafBNzbXF"
      ],
      "authorship_tag": "ABX9TyMnudI6DqcRxl92btqL9jIs",
      "include_colab_link": true
    },
    "kernelspec": {
      "display_name": "R",
      "name": "ir"
    }
  },
  "cells": [
    {
      "cell_type": "markdown",
      "metadata": {
        "id": "view-in-github",
        "colab_type": "text"
      },
      "source": [
        "<a href=\"https://colab.research.google.com/github/christophermalone/stat360/blob/main/Handout12_MLR_PartA.ipynb\" target=\"_parent\"><img src=\"https://colab.research.google.com/assets/colab-badge.svg\" alt=\"Open In Colab\"/></a>"
      ]
    },
    {
      "cell_type": "markdown",
      "metadata": {
        "id": "KhClO9b02SXA"
      },
      "source": [
        "# Handout #12 : Multiple Linear Regression - Part A "
      ]
    },
    {
      "cell_type": "markdown",
      "metadata": {
        "id": "bCmC17zpsBJ_"
      },
      "source": [
        "<table width='100%' ><tr><td bgcolor='green'></td></tr></table>\n",
        "\n",
        "## Grandfather Clocks\n",
        "\n",
        "Consider the following data from an auction site regarding the price of grandfather clocks.   Most grandfather clocks are considered to be antiques.  The goal is to understand the auction price as a function of Age and Number of Bidders.\n",
        "<table>\n",
        "  <tr>\n",
        "    <td width='50%'>\n",
        "      <ul>\n",
        "        <li>Response Variable: Price ($)</li><br>\n",
        "        <li>Variables under investigation (i.e. independent variables)</li>\n",
        "        <ul>\n",
        "          <li>Age: Age of grandfather clock</li>\n",
        "          <li>Number of Bidders</li>\n",
        "         </ul>\n",
        "    </ul>\n",
        "    </td>\n",
        "    <td width='50%'>\n",
        "    <p align='center'><img src=\"https://drive.google.com/uc?export=view&id=1wI9yLroxTYfky6Weymd5_aO-hOJiMO_F\" width=\"25%\" height=\"25%\"></img></p>\n",
        "      \n",
        "  </td>\n",
        "</tr>\n",
        "</table>\n",
        "\n",
        "Data Folder: [OneDrive](https://mnscu-my.sharepoint.com/:f:/g/personal/aq7839yd_minnstate_edu/EmOQfrwxzzRBqq8PH_8qTmMBy-1qKgM11Hb8vzjs025EEA?e=wyShYs)\n",
        "\n",
        "\n",
        "\n",
        "<table width='100%' ><tr><td bgcolor='green'></td></tr></table>\n",
        "\n",
        "\n"
      ]
    },
    {
      "cell_type": "markdown",
      "metadata": {
        "id": "njXGRUIC9Lgs"
      },
      "source": [
        "## Load tidyverse"
      ]
    },
    {
      "cell_type": "markdown",
      "metadata": {
        "id": "FoT1NFX3DncH"
      },
      "source": [
        "The tidyverse R package will be used to assist with reading in the dataset into the current R session."
      ]
    },
    {
      "cell_type": "code",
      "metadata": {
        "colab": {
          "background_save": true
        },
        "id": "LgaibuX_DtWK"
      },
      "source": [
        "#@title Load Tidyverse\n",
        "#load tidyverse package\n",
        "library(tidyverse)"
      ],
      "execution_count": null,
      "outputs": []
    },
    {
      "cell_type": "markdown",
      "metadata": {
        "id": "u7fj-9Y5Wr8r"
      },
      "source": [
        "\n",
        "\n",
        "---\n",
        "\n",
        "\n"
      ]
    },
    {
      "cell_type": "markdown",
      "metadata": {
        "id": "DPqIPen9D5T3"
      },
      "source": [
        "## Load the data"
      ]
    },
    {
      "cell_type": "code",
      "metadata": {
        "colab": {
          "background_save": true,
          "base_uri": "https://localhost:8080/"
        },
        "id": "hM3AnlVCu2vx",
        "outputId": "d9f05722-97c8-4f1f-9ff5-c6f2b76b6bd2"
      },
      "source": [
        "# Reading data in using read_csv \n",
        " GrandfatherClocks <- read_csv(\"http://www.StatsClass.org/stat360/Datasets/Grandfather_Clocks.csv\")"
      ],
      "execution_count": null,
      "outputs": [
        {
          "name": "stderr",
          "output_type": "stream",
          "text": [
            "\u001b[1mRows: \u001b[22m\u001b[34m32\u001b[39m \u001b[1mColumns: \u001b[22m\u001b[34m3\u001b[39m\n",
            "\n",
            "\u001b[36m──\u001b[39m \u001b[1mColumn specification\u001b[22m \u001b[36m────────────────────────────────────────────────────────\u001b[39m\n",
            "\u001b[1mDelimiter:\u001b[22m \",\"\n",
            "\u001b[32mdbl\u001b[39m (3): Price, Age, Number_Bidders\n",
            "\n",
            "\n",
            "\u001b[36mℹ\u001b[39m Use \u001b[30m\u001b[47m\u001b[30m\u001b[47m`spec()`\u001b[47m\u001b[30m\u001b[49m\u001b[39m to retrieve the full column specification for this data.\n",
            "\u001b[36mℹ\u001b[39m Specify the column types or set \u001b[30m\u001b[47m\u001b[30m\u001b[47m`show_col_types = FALSE`\u001b[47m\u001b[30m\u001b[49m\u001b[39m to quiet this message.\n",
            "\n"
          ]
        }
      ]
    },
    {
      "cell_type": "markdown",
      "metadata": {
        "id": "y1E6q0ccvNgh"
      },
      "source": [
        "Taking a quick look at the data..."
      ]
    },
    {
      "cell_type": "code",
      "metadata": {
        "colab": {
          "background_save": true,
          "base_uri": "https://localhost:8080/",
          "height": 286
        },
        "id": "sXtmoYGmvN4e",
        "outputId": "6c3dfe2d-23bb-460f-dd3d-deb0a3879bc7"
      },
      "source": [
        "head(GrandfatherClocks)"
      ],
      "execution_count": null,
      "outputs": [
        {
          "data": {
            "text/html": [
              "<table class=\"dataframe\">\n",
              "<caption>A tibble: 6 × 3</caption>\n",
              "<thead>\n",
              "\t<tr><th scope=col>Price</th><th scope=col>Age</th><th scope=col>Number_Bidders</th></tr>\n",
              "\t<tr><th scope=col>&lt;dbl&gt;</th><th scope=col>&lt;dbl&gt;</th><th scope=col>&lt;dbl&gt;</th></tr>\n",
              "</thead>\n",
              "<tbody>\n",
              "\t<tr><td>1235</td><td>127</td><td>13</td></tr>\n",
              "\t<tr><td>1080</td><td>115</td><td>12</td></tr>\n",
              "\t<tr><td> 845</td><td>127</td><td> 7</td></tr>\n",
              "\t<tr><td>1522</td><td>150</td><td> 9</td></tr>\n",
              "\t<tr><td>1047</td><td>156</td><td> 6</td></tr>\n",
              "\t<tr><td>1979</td><td>182</td><td>11</td></tr>\n",
              "</tbody>\n",
              "</table>\n"
            ],
            "text/latex": "A tibble: 6 × 3\n\\begin{tabular}{lll}\n Price & Age & Number\\_Bidders\\\\\n <dbl> & <dbl> & <dbl>\\\\\n\\hline\n\t 1235 & 127 & 13\\\\\n\t 1080 & 115 & 12\\\\\n\t  845 & 127 &  7\\\\\n\t 1522 & 150 &  9\\\\\n\t 1047 & 156 &  6\\\\\n\t 1979 & 182 & 11\\\\\n\\end{tabular}\n",
            "text/markdown": "\nA tibble: 6 × 3\n\n| Price &lt;dbl&gt; | Age &lt;dbl&gt; | Number_Bidders &lt;dbl&gt; |\n|---|---|---|\n| 1235 | 127 | 13 |\n| 1080 | 115 | 12 |\n|  845 | 127 |  7 |\n| 1522 | 150 |  9 |\n| 1047 | 156 |  6 |\n| 1979 | 182 | 11 |\n\n",
            "text/plain": [
              "  Price Age Number_Bidders\n",
              "1 1235  127 13            \n",
              "2 1080  115 12            \n",
              "3  845  127  7            \n",
              "4 1522  150  9            \n",
              "5 1047  156  6            \n",
              "6 1979  182 11            "
            ]
          },
          "metadata": {},
          "output_type": "display_data"
        }
      ]
    },
    {
      "cell_type": "markdown",
      "metadata": {
        "id": "ZKr7iJf5ToL7"
      },
      "source": [
        "## Model Considerations"
      ]
    },
    {
      "cell_type": "markdown",
      "metadata": {
        "id": "ejOqzMksvxpx"
      },
      "source": [
        "A total of three models will be considered here.\n",
        "\n",
        "\n",
        "1.   Model #1: Price ~ Age\n",
        "2.   Model #2: Price ~ NumberBidders\n",
        "3.   Model #3: Price ~ Age + NumberBidders\n",
        "\n"
      ]
    },
    {
      "cell_type": "markdown",
      "metadata": {
        "id": "W4U6ypcpwRqP"
      },
      "source": [
        "### Model #1: Price ~ Age"
      ]
    },
    {
      "cell_type": "code",
      "metadata": {
        "colab": {
          "background_save": true,
          "base_uri": "https://localhost:8080/",
          "height": 329
        },
        "id": "S8loZdOAwU0H",
        "outputId": "15fdafbf-5f6b-4c17-9e2c-56f72b81fd6b"
      },
      "source": [
        "Model_Age <- lm(Price ~ Age, data=GrandfatherClocks)\n",
        "summary(Model_Age)"
      ],
      "execution_count": null,
      "outputs": [
        {
          "data": {
            "text/plain": [
              "\n",
              "Call:\n",
              "lm(formula = Price ~ Age, data = GrandfatherClocks)\n",
              "\n",
              "Residuals:\n",
              "    Min      1Q  Median      3Q     Max \n",
              "-485.29 -192.66   30.75  157.21  541.21 \n",
              "\n",
              "Coefficients:\n",
              "            Estimate Std. Error t value Pr(>|t|)    \n",
              "(Intercept)  -191.66     263.89  -0.726    0.473    \n",
              "Age            10.48       1.79   5.854  2.1e-06 ***\n",
              "---\n",
              "Signif. codes:  0 ‘***’ 0.001 ‘**’ 0.01 ‘*’ 0.05 ‘.’ 0.1 ‘ ’ 1\n",
              "\n",
              "Residual standard error: 273 on 30 degrees of freedom\n",
              "Multiple R-squared:  0.5332,\tAdjusted R-squared:  0.5177 \n",
              "F-statistic: 34.27 on 1 and 30 DF,  p-value: 2.096e-06\n"
            ]
          },
          "metadata": {},
          "output_type": "display_data"
        }
      ]
    },
    {
      "cell_type": "markdown",
      "metadata": {
        "id": "ggbWS4xRwgwn"
      },
      "source": [
        "### Model #2: Price ~ NumberBidders"
      ]
    },
    {
      "cell_type": "code",
      "metadata": {
        "colab": {
          "background_save": true,
          "base_uri": "https://localhost:8080/",
          "height": 329
        },
        "id": "JdE76kobwg29",
        "outputId": "039f832c-7b01-4681-eca3-5f4c659d0368"
      },
      "source": [
        "Model_NumberBidders <- lm(Price ~ Number_Bidders, data=GrandfatherClocks)\n",
        "summary(Model_NumberBidders)"
      ],
      "execution_count": null,
      "outputs": [
        {
          "data": {
            "text/plain": [
              "\n",
              "Call:\n",
              "lm(formula = Price ~ Number_Bidders, data = GrandfatherClocks)\n",
              "\n",
              "Residuals:\n",
              "    Min      1Q  Median      3Q     Max \n",
              "-516.31 -355.27  -29.49  302.76  688.23 \n",
              "\n",
              "Coefficients:\n",
              "               Estimate Std. Error t value Pr(>|t|)   \n",
              "(Intercept)      806.40     230.68   3.496  0.00149 **\n",
              "Number_Bidders    54.64      23.23   2.352  0.02540 * \n",
              "---\n",
              "Signif. codes:  0 ‘***’ 0.001 ‘**’ 0.01 ‘*’ 0.05 ‘.’ 0.1 ‘ ’ 1\n",
              "\n",
              "Residual standard error: 367.2 on 30 degrees of freedom\n",
              "Multiple R-squared:  0.1557,\tAdjusted R-squared:  0.1276 \n",
              "F-statistic: 5.534 on 1 and 30 DF,  p-value: 0.0254\n"
            ]
          },
          "metadata": {},
          "output_type": "display_data"
        }
      ]
    },
    {
      "cell_type": "markdown",
      "metadata": {
        "id": "1Q-FHUz4xQcp"
      },
      "source": [
        "### Model #3: Price ~ Age + NumberBidders\n"
      ]
    },
    {
      "cell_type": "code",
      "metadata": {
        "colab": {
          "background_save": true,
          "base_uri": "https://localhost:8080/",
          "height": 347
        },
        "id": "aD-mo2B9xQh-",
        "outputId": "f26ea3be-426c-41cf-8963-8ab53c02f5bd"
      },
      "source": [
        "Model_Age_and_NumberBidders <- lm(Price ~ Age + Number_Bidders, data=GrandfatherClocks)\n",
        "summary(Model_Age_and_NumberBidders)"
      ],
      "execution_count": null,
      "outputs": [
        {
          "data": {
            "text/plain": [
              "\n",
              "Call:\n",
              "lm(formula = Price ~ Age + Number_Bidders, data = GrandfatherClocks)\n",
              "\n",
              "Residuals:\n",
              "   Min     1Q Median     3Q    Max \n",
              "-207.2 -117.8   16.5  102.7  213.5 \n",
              "\n",
              "Coefficients:\n",
              "                 Estimate Std. Error t value Pr(>|t|)    \n",
              "(Intercept)    -1336.7221   173.3561  -7.711 1.67e-08 ***\n",
              "Age               12.7362     0.9024  14.114 1.60e-14 ***\n",
              "Number_Bidders    85.8151     8.7058   9.857 9.14e-11 ***\n",
              "---\n",
              "Signif. codes:  0 ‘***’ 0.001 ‘**’ 0.01 ‘*’ 0.05 ‘.’ 0.1 ‘ ’ 1\n",
              "\n",
              "Residual standard error: 133.1 on 29 degrees of freedom\n",
              "Multiple R-squared:  0.8927,\tAdjusted R-squared:  0.8853 \n",
              "F-statistic: 120.7 on 2 and 29 DF,  p-value: 8.769e-15\n"
            ]
          },
          "metadata": {},
          "output_type": "display_data"
        }
      ]
    },
    {
      "cell_type": "markdown",
      "metadata": {
        "id": "_C_H1P1iX0wr"
      },
      "source": [
        "\n",
        "\n",
        "---\n",
        "\n",
        "\n",
        "\n",
        "---\n",
        "\n"
      ]
    },
    {
      "cell_type": "markdown",
      "metadata": {
        "id": "OKfebwW4Ew0M"
      },
      "source": [
        "## Confidence Intervals for Model Parameters"
      ]
    },
    {
      "cell_type": "code",
      "metadata": {
        "colab": {
          "background_save": true,
          "base_uri": "https://localhost:8080/",
          "height": 161
        },
        "id": "aVidTddYCIXV",
        "outputId": "d3e229b2-580d-4602-ad6d-ef3d3719a6de"
      },
      "source": [
        "confint(Model_Age_and_NumberBidders)"
      ],
      "execution_count": null,
      "outputs": [
        {
          "data": {
            "text/html": [
              "<table class=\"dataframe\">\n",
              "<caption>A matrix: 3 × 2 of type dbl</caption>\n",
              "<thead>\n",
              "\t<tr><th></th><th scope=col>2.5 %</th><th scope=col>97.5 %</th></tr>\n",
              "</thead>\n",
              "<tbody>\n",
              "\t<tr><th scope=row>(Intercept)</th><td>-1691.27514</td><td>-982.16896</td></tr>\n",
              "\t<tr><th scope=row>Age</th><td>   10.89062</td><td>  14.58177</td></tr>\n",
              "\t<tr><th scope=row>Number_Bidders</th><td>   68.00986</td><td> 103.62040</td></tr>\n",
              "</tbody>\n",
              "</table>\n"
            ],
            "text/latex": "A matrix: 3 × 2 of type dbl\n\\begin{tabular}{r|ll}\n  & 2.5 \\% & 97.5 \\%\\\\\n\\hline\n\t(Intercept) & -1691.27514 & -982.16896\\\\\n\tAge &    10.89062 &   14.58177\\\\\n\tNumber\\_Bidders &    68.00986 &  103.62040\\\\\n\\end{tabular}\n",
            "text/markdown": "\nA matrix: 3 × 2 of type dbl\n\n| <!--/--> | 2.5 % | 97.5 % |\n|---|---|---|\n| (Intercept) | -1691.27514 | -982.16896 |\n| Age |    10.89062 |   14.58177 |\n| Number_Bidders |    68.00986 |  103.62040 |\n\n",
            "text/plain": [
              "               2.5 %       97.5 %    \n",
              "(Intercept)    -1691.27514 -982.16896\n",
              "Age               10.89062   14.58177\n",
              "Number_Bidders    68.00986  103.62040"
            ]
          },
          "metadata": {},
          "output_type": "display_data"
        }
      ]
    },
    {
      "cell_type": "markdown",
      "metadata": {
        "id": "BaQCT6sgX2I4"
      },
      "source": [
        "## Correlation Matrix"
      ]
    },
    {
      "cell_type": "code",
      "metadata": {
        "colab": {
          "background_save": true,
          "base_uri": "https://localhost:8080/",
          "height": 161
        },
        "id": "xiNSFwS4ZfdS",
        "outputId": "9e167f89-bdc5-4b46-8721-8b9cb9b9f948"
      },
      "source": [
        "cor(GrandfatherClocks)"
      ],
      "execution_count": null,
      "outputs": [
        {
          "data": {
            "text/html": [
              "<table class=\"dataframe\">\n",
              "<caption>A matrix: 3 × 3 of type dbl</caption>\n",
              "<thead>\n",
              "\t<tr><th></th><th scope=col>Price</th><th scope=col>Age</th><th scope=col>Number_Bidders</th></tr>\n",
              "</thead>\n",
              "<tbody>\n",
              "\t<tr><th scope=row>Price</th><td>1.0000000</td><td> 0.7302332</td><td> 0.3946404</td></tr>\n",
              "\t<tr><th scope=row>Age</th><td>0.7302332</td><td> 1.0000000</td><td>-0.2537491</td></tr>\n",
              "\t<tr><th scope=row>Number_Bidders</th><td>0.3946404</td><td>-0.2537491</td><td> 1.0000000</td></tr>\n",
              "</tbody>\n",
              "</table>\n"
            ],
            "text/latex": "A matrix: 3 × 3 of type dbl\n\\begin{tabular}{r|lll}\n  & Price & Age & Number\\_Bidders\\\\\n\\hline\n\tPrice & 1.0000000 &  0.7302332 &  0.3946404\\\\\n\tAge & 0.7302332 &  1.0000000 & -0.2537491\\\\\n\tNumber\\_Bidders & 0.3946404 & -0.2537491 &  1.0000000\\\\\n\\end{tabular}\n",
            "text/markdown": "\nA matrix: 3 × 3 of type dbl\n\n| <!--/--> | Price | Age | Number_Bidders |\n|---|---|---|---|\n| Price | 1.0000000 |  0.7302332 |  0.3946404 |\n| Age | 0.7302332 |  1.0000000 | -0.2537491 |\n| Number_Bidders | 0.3946404 | -0.2537491 |  1.0000000 |\n\n",
            "text/plain": [
              "               Price     Age        Number_Bidders\n",
              "Price          1.0000000  0.7302332  0.3946404    \n",
              "Age            0.7302332  1.0000000 -0.2537491    \n",
              "Number_Bidders 0.3946404 -0.2537491  1.0000000    "
            ]
          },
          "metadata": {},
          "output_type": "display_data"
        }
      ]
    },
    {
      "cell_type": "markdown",
      "metadata": {
        "id": "9kkg1lL30Rfw"
      },
      "source": [
        "End of Document"
      ]
    }
  ]
}