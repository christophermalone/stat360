{
  "nbformat": 4,
  "nbformat_minor": 0,
  "metadata": {
    "colab": {
      "provenance": [],
      "collapsed_sections": [
        "bCmC17zpsBJ_"
      ],
      "authorship_tag": "ABX9TyMadHHujiuSCxI+XKdN0Mli",
      "include_colab_link": true
    },
    "kernelspec": {
      "display_name": "R",
      "name": "ir"
    }
  },
  "cells": [
    {
      "cell_type": "markdown",
      "metadata": {
        "id": "view-in-github",
        "colab_type": "text"
      },
      "source": [
        "<a href=\"https://colab.research.google.com/github/christophermalone/stat360/blob/main/Handout12_PartB_CrossValidation.ipynb\" target=\"_parent\"><img src=\"https://colab.research.google.com/assets/colab-badge.svg\" alt=\"Open In Colab\"/></a>"
      ]
    },
    {
      "cell_type": "markdown",
      "metadata": {
        "id": "KhClO9b02SXA"
      },
      "source": [
        "# Handout #12 - Part B: Cross-Validation Methods"
      ]
    },
    {
      "cell_type": "markdown",
      "metadata": {
        "id": "bCmC17zpsBJ_"
      },
      "source": [
        "<table width='100%' ><tr><td bgcolor='green'></td></tr></table>\n",
        "\n",
        "## Texas School Districts - Teacher Turnover\n",
        "\n",
        "**Example 12.1**:  Consider the following data from school districts in Texas.  This investigation centers on understanding what influences the turnover rate of teachers.  There are a total of four predictor variables under consideration here.  \n",
        "<table>\n",
        "  <tr>\n",
        "    <td width='50%'>\n",
        "      <ul>\n",
        "        <li>Response Variable: TeacherTurnoverRate; percent of teachers that leave each year</li><br>\n",
        "        <li>Variables under investigation (i.e. independent variables)</li>\n",
        "        <ul>\n",
        "          <li>Pct_EconomicDisadvanted - percent of students in high school that are economically disadvantaged</li>\n",
        "          <li>FourYearGradRate - percent of students who graduate in 4 years</li>\n",
        "          <li>Avg_TeacherSalary - average teacher salary in school</li>\n",
        "          <li>Pct_RevenueLocal - percent of revenue that comes from local community \n",
        "         </ul>\n",
        "    </ul>\n",
        "    </td>\n",
        "    <td width='50%'>\n",
        "    <p align='center'><img src=\"https://drive.google.com/uc?export=view&id=1RKq_ZUpUg75MIPK5bljWb7o-BsNeW_8V\" width=\"50%\" height=\"50%\"></img></p>\n",
        "      \n",
        "  </td>\n",
        "</tr>\n",
        "</table>\n",
        "\n",
        "Data Folder: [OneDrive](https://mnscu-my.sharepoint.com/:f:/g/personal/aq7839yd_minnstate_edu/EmOQfrwxzzRBqq8PH_8qTmMBy-1qKgM11Hb8vzjs025EEA?e=wyShYs)\n",
        "\n",
        "\n",
        "\n",
        "<table width='100%' ><tr><td bgcolor='green'></td></tr></table>\n",
        "\n",
        "\n"
      ]
    },
    {
      "cell_type": "markdown",
      "metadata": {
        "id": "njXGRUIC9Lgs"
      },
      "source": [
        "## Load data into COLAB Session"
      ]
    },
    {
      "cell_type": "markdown",
      "source": [
        "First, load the tidyverse() package."
      ],
      "metadata": {
        "id": "Mpb92BkOo-Z1"
      }
    },
    {
      "cell_type": "code",
      "metadata": {
        "id": "LgaibuX_DtWK"
      },
      "source": [
        "#load tidyverse package\n",
        "library(tidyverse)"
      ],
      "execution_count": 3,
      "outputs": []
    },
    {
      "cell_type": "markdown",
      "source": [
        "Next, read in the dataset."
      ],
      "metadata": {
        "id": "UY0f2zQ2pCOT"
      }
    },
    {
      "cell_type": "code",
      "metadata": {
        "colab": {
          "base_uri": "https://localhost:8080/"
        },
        "id": "hM3AnlVCu2vx",
        "outputId": "16719285-dcbb-4506-fa08-1e2676652132"
      },
      "source": [
        "# Reading data in using read_csv \n",
        "TeacherTurnover <- read_csv(\"http://www.StatsClass.org/stat360/Datasets/TexasSchoolDistricts_TeacherTurnover.csv\")"
      ],
      "execution_count": 27,
      "outputs": [
        {
          "output_type": "stream",
          "name": "stderr",
          "text": [
            "\u001b[1mRows: \u001b[22m\u001b[34m1228\u001b[39m \u001b[1mColumns: \u001b[22m\u001b[34m6\u001b[39m\n",
            "\u001b[36m──\u001b[39m \u001b[1mColumn specification\u001b[22m \u001b[36m────────────────────────────────────────────────────────\u001b[39m\n",
            "\u001b[1mDelimiter:\u001b[22m \",\"\n",
            "\u001b[31mchr\u001b[39m (1): DistrictName\n",
            "\u001b[32mdbl\u001b[39m (5): Pct_EconomicDisadvantaged, FourYearGradRate, Avg_TeacherSalary, Pct...\n",
            "\n",
            "\u001b[36mℹ\u001b[39m Use `spec()` to retrieve the full column specification for this data.\n",
            "\u001b[36mℹ\u001b[39m Specify the column types or set `show_col_types = FALSE` to quiet this message.\n"
          ]
        }
      ]
    },
    {
      "cell_type": "markdown",
      "metadata": {
        "id": "y1E6q0ccvNgh"
      },
      "source": [
        "Taking a quick look at the data..."
      ]
    },
    {
      "cell_type": "code",
      "metadata": {
        "colab": {
          "base_uri": "https://localhost:8080/",
          "height": 304
        },
        "id": "sXtmoYGmvN4e",
        "outputId": "bbb97189-a3ed-4b83-c216-f1944104bcfd"
      },
      "source": [
        "dim(TeacherTurnover)\n",
        "head(TeacherTurnover)"
      ],
      "execution_count": 28,
      "outputs": [
        {
          "output_type": "display_data",
          "data": {
            "text/html": [
              "<style>\n",
              ".list-inline {list-style: none; margin:0; padding: 0}\n",
              ".list-inline>li {display: inline-block}\n",
              ".list-inline>li:not(:last-child)::after {content: \"\\00b7\"; padding: 0 .5ex}\n",
              "</style>\n",
              "<ol class=list-inline><li>1228</li><li>6</li></ol>\n"
            ],
            "text/markdown": "1. 1228\n2. 6\n\n\n",
            "text/latex": "\\begin{enumerate*}\n\\item 1228\n\\item 6\n\\end{enumerate*}\n",
            "text/plain": [
              "[1] 1228    6"
            ]
          },
          "metadata": {}
        },
        {
          "output_type": "display_data",
          "data": {
            "text/html": [
              "<table class=\"dataframe\">\n",
              "<caption>A tibble: 6 × 6</caption>\n",
              "<thead>\n",
              "\t<tr><th scope=col>DistrictName</th><th scope=col>Pct_EconomicDisadvantaged</th><th scope=col>FourYearGradRate</th><th scope=col>Avg_TeacherSalary</th><th scope=col>Pct_RevenueLocal</th><th scope=col>TeacherTurnoverRate</th></tr>\n",
              "\t<tr><th scope=col>&lt;chr&gt;</th><th scope=col>&lt;dbl&gt;</th><th scope=col>&lt;dbl&gt;</th><th scope=col>&lt;dbl&gt;</th><th scope=col>&lt;dbl&gt;</th><th scope=col>&lt;dbl&gt;</th></tr>\n",
              "</thead>\n",
              "<tbody>\n",
              "\t<tr><td>CAYUGA ISD   </td><td>38.2</td><td> 92.1</td><td>45082</td><td>44.1</td><td> 9.8</td></tr>\n",
              "\t<tr><td>ELKHART ISD  </td><td>51.5</td><td> 98.6</td><td>40536</td><td>33.8</td><td>19.7</td></tr>\n",
              "\t<tr><td>FRANKSTON ISD</td><td>59.0</td><td>100.0</td><td>42427</td><td>44.4</td><td>30.9</td></tr>\n",
              "\t<tr><td>NECHES ISD   </td><td>41.9</td><td>100.0</td><td>41691</td><td>38.8</td><td>12.1</td></tr>\n",
              "\t<tr><td>PALESTINE ISD</td><td>76.1</td><td> 89.7</td><td>42455</td><td>48.9</td><td>25.3</td></tr>\n",
              "\t<tr><td>WESTWOOD ISD </td><td>61.9</td><td> 94.2</td><td>40148</td><td>39.1</td><td>24.9</td></tr>\n",
              "</tbody>\n",
              "</table>\n"
            ],
            "text/markdown": "\nA tibble: 6 × 6\n\n| DistrictName &lt;chr&gt; | Pct_EconomicDisadvantaged &lt;dbl&gt; | FourYearGradRate &lt;dbl&gt; | Avg_TeacherSalary &lt;dbl&gt; | Pct_RevenueLocal &lt;dbl&gt; | TeacherTurnoverRate &lt;dbl&gt; |\n|---|---|---|---|---|---|\n| CAYUGA ISD    | 38.2 |  92.1 | 45082 | 44.1 |  9.8 |\n| ELKHART ISD   | 51.5 |  98.6 | 40536 | 33.8 | 19.7 |\n| FRANKSTON ISD | 59.0 | 100.0 | 42427 | 44.4 | 30.9 |\n| NECHES ISD    | 41.9 | 100.0 | 41691 | 38.8 | 12.1 |\n| PALESTINE ISD | 76.1 |  89.7 | 42455 | 48.9 | 25.3 |\n| WESTWOOD ISD  | 61.9 |  94.2 | 40148 | 39.1 | 24.9 |\n\n",
            "text/latex": "A tibble: 6 × 6\n\\begin{tabular}{llllll}\n DistrictName & Pct\\_EconomicDisadvantaged & FourYearGradRate & Avg\\_TeacherSalary & Pct\\_RevenueLocal & TeacherTurnoverRate\\\\\n <chr> & <dbl> & <dbl> & <dbl> & <dbl> & <dbl>\\\\\n\\hline\n\t CAYUGA ISD    & 38.2 &  92.1 & 45082 & 44.1 &  9.8\\\\\n\t ELKHART ISD   & 51.5 &  98.6 & 40536 & 33.8 & 19.7\\\\\n\t FRANKSTON ISD & 59.0 & 100.0 & 42427 & 44.4 & 30.9\\\\\n\t NECHES ISD    & 41.9 & 100.0 & 41691 & 38.8 & 12.1\\\\\n\t PALESTINE ISD & 76.1 &  89.7 & 42455 & 48.9 & 25.3\\\\\n\t WESTWOOD ISD  & 61.9 &  94.2 & 40148 & 39.1 & 24.9\\\\\n\\end{tabular}\n",
            "text/plain": [
              "  DistrictName  Pct_EconomicDisadvantaged FourYearGradRate Avg_TeacherSalary\n",
              "1 CAYUGA ISD    38.2                       92.1            45082            \n",
              "2 ELKHART ISD   51.5                       98.6            40536            \n",
              "3 FRANKSTON ISD 59.0                      100.0            42427            \n",
              "4 NECHES ISD    41.9                      100.0            41691            \n",
              "5 PALESTINE ISD 76.1                       89.7            42455            \n",
              "6 WESTWOOD ISD  61.9                       94.2            40148            \n",
              "  Pct_RevenueLocal TeacherTurnoverRate\n",
              "1 44.1              9.8               \n",
              "2 33.8             19.7               \n",
              "3 44.4             30.9               \n",
              "4 38.8             12.1               \n",
              "5 48.9             25.3               \n",
              "6 39.1             24.9               "
            ]
          },
          "metadata": {}
        }
      ]
    },
    {
      "cell_type": "markdown",
      "metadata": {
        "id": "uf9DyZtZUd9H"
      },
      "source": [
        "There are a small number of districts that have missing information.  The drop_na() function can be used to remove all NAs from the data.frame."
      ]
    },
    {
      "cell_type": "code",
      "metadata": {
        "id": "8HENxiBrUeEJ",
        "colab": {
          "base_uri": "https://localhost:8080/",
          "height": 34
        },
        "outputId": "3efd983b-71d4-4c43-db57-1cfe22ea75f8"
      },
      "source": [
        "(TeacherTurnover\n",
        "  %>% drop_na()      #na.omit() will also work to get rid of NAs\n",
        ") -> TeacherTurnover_NoNAs\n",
        "\n",
        "dim(TeacherTurnover_NoNAs)"
      ],
      "execution_count": 29,
      "outputs": [
        {
          "output_type": "display_data",
          "data": {
            "text/html": [
              "<style>\n",
              ".list-inline {list-style: none; margin:0; padding: 0}\n",
              ".list-inline>li {display: inline-block}\n",
              ".list-inline>li:not(:last-child)::after {content: \"\\00b7\"; padding: 0 .5ex}\n",
              "</style>\n",
              "<ol class=list-inline><li>1053</li><li>6</li></ol>\n"
            ],
            "text/markdown": "1. 1053\n2. 6\n\n\n",
            "text/latex": "\\begin{enumerate*}\n\\item 1053\n\\item 6\n\\end{enumerate*}\n",
            "text/plain": [
              "[1] 1053    6"
            ]
          },
          "metadata": {}
        }
      ]
    },
    {
      "cell_type": "markdown",
      "metadata": {
        "id": "ZKr7iJf5ToL7"
      },
      "source": [
        "## Model Considerations"
      ]
    },
    {
      "cell_type": "markdown",
      "metadata": {
        "id": "ejOqzMksvxpx"
      },
      "source": [
        "A total of four models will be considered here.\n",
        "\n",
        "\n",
        "1.   Model #1: TeacherTurnoverRate ~ Pct_EconomicDisadvantaged\n",
        "2.   Model #2: TeacherTurnoverRate ~ FourYearGradRate\n",
        "3.   Model #3: TeacherTurnoverRate ~ Avg_TeacherSalary\n",
        "4.   Model #4: TeacherTurnoverRate ~ Pct_RevenueLocal\n",
        "\n"
      ]
    },
    {
      "cell_type": "markdown",
      "metadata": {
        "id": "W4U6ypcpwRqP"
      },
      "source": [
        "### Model #1: TeacherTurnoverRate ~ Pct_EconomicDisadvantaged"
      ]
    },
    {
      "cell_type": "code",
      "source": [],
      "metadata": {
        "id": "BBv2kLdDrWTT"
      },
      "execution_count": null,
      "outputs": []
    },
    {
      "cell_type": "code",
      "metadata": {
        "colab": {
          "base_uri": "https://localhost:8080/",
          "height": 347
        },
        "id": "S8loZdOAwU0H",
        "outputId": "436d5bf4-4546-4efd-e7c6-c23f9ab01f2d"
      },
      "source": [
        "LM_TeacherTurnoverRate_PCTEconomicDisadvantaged <- lm(TeacherTurnoverRate ~ Pct_EconomicDisadvantaged, data=TeacherTurnover_NoNAs)\n",
        "summary(LM_TeacherTurnoverRate_PCTEconomicDisadvantaged)"
      ],
      "execution_count": 15,
      "outputs": [
        {
          "output_type": "display_data",
          "data": {
            "text/plain": [
              "\n",
              "Call:\n",
              "lm(formula = TeacherTurnoverRate ~ Pct_EconomicDisadvantaged, \n",
              "    data = TeacherTurnover_NoNAs)\n",
              "\n",
              "Residuals:\n",
              "    Min      1Q  Median      3Q     Max \n",
              "-23.309  -6.386  -1.715   4.525  73.752 \n",
              "\n",
              "Coefficients:\n",
              "                          Estimate Std. Error t value Pr(>|t|)    \n",
              "(Intercept)                8.74365    1.05311   8.303  3.1e-16 ***\n",
              "Pct_EconomicDisadvantaged  0.18843    0.01694  11.122  < 2e-16 ***\n",
              "---\n",
              "Signif. codes:  0 ‘***’ 0.001 ‘**’ 0.01 ‘*’ 0.05 ‘.’ 0.1 ‘ ’ 1\n",
              "\n",
              "Residual standard error: 10.53 on 1051 degrees of freedom\n",
              "Multiple R-squared:  0.1053,\tAdjusted R-squared:  0.1045 \n",
              "F-statistic: 123.7 on 1 and 1051 DF,  p-value: < 2.2e-16\n"
            ]
          },
          "metadata": {}
        }
      ]
    },
    {
      "cell_type": "markdown",
      "metadata": {
        "id": "ggbWS4xRwgwn"
      },
      "source": [
        "### Model #2: TeacherTurnoverRate ~ FourYearGradRate"
      ]
    },
    {
      "cell_type": "code",
      "metadata": {
        "colab": {
          "base_uri": "https://localhost:8080/",
          "height": 329
        },
        "id": "JdE76kobwg29",
        "outputId": "1afe9ca7-b3fc-4b05-cc8c-1d5a582e24fe"
      },
      "source": [
        "LM_TeacherTurnoverRate_FourYearGradRate <- lm(TeacherTurnoverRate ~ FourYearGradRate, data=TeacherTurnover_NoNAs)\n",
        "summary(LM_TeacherTurnoverRate_FourYearGradRate)"
      ],
      "execution_count": 16,
      "outputs": [
        {
          "output_type": "display_data",
          "data": {
            "text/plain": [
              "\n",
              "Call:\n",
              "lm(formula = TeacherTurnoverRate ~ FourYearGradRate, data = TeacherTurnover_NoNAs)\n",
              "\n",
              "Residuals:\n",
              "    Min      1Q  Median      3Q     Max \n",
              "-33.912  -6.678  -1.947   4.492  55.194 \n",
              "\n",
              "Coefficients:\n",
              "                 Estimate Std. Error t value Pr(>|t|)    \n",
              "(Intercept)      50.72372    2.38376   21.28   <2e-16 ***\n",
              "FourYearGradRate -0.33623    0.02576  -13.05   <2e-16 ***\n",
              "---\n",
              "Signif. codes:  0 ‘***’ 0.001 ‘**’ 0.01 ‘*’ 0.05 ‘.’ 0.1 ‘ ’ 1\n",
              "\n",
              "Residual standard error: 10.33 on 1051 degrees of freedom\n",
              "Multiple R-squared:  0.1395,\tAdjusted R-squared:  0.1387 \n",
              "F-statistic: 170.4 on 1 and 1051 DF,  p-value: < 2.2e-16\n"
            ]
          },
          "metadata": {}
        }
      ]
    },
    {
      "cell_type": "markdown",
      "metadata": {
        "id": "1Q-FHUz4xQcp"
      },
      "source": [
        "### Model #3: TeacherTurnoverRate ~ Avg_TeacherSalary\n"
      ]
    },
    {
      "cell_type": "code",
      "metadata": {
        "colab": {
          "base_uri": "https://localhost:8080/",
          "height": 329
        },
        "id": "aD-mo2B9xQh-",
        "outputId": "c099542a-12a2-4d09-94d7-e73f651db2cd"
      },
      "source": [
        "LM_TeacherTurnoverRate_AvgTeacherSalary <- lm(TeacherTurnoverRate ~ Avg_TeacherSalary, data=TeacherTurnover_NoNAs)\n",
        "summary(LM_TeacherTurnoverRate_AvgTeacherSalary)"
      ],
      "execution_count": 17,
      "outputs": [
        {
          "output_type": "display_data",
          "data": {
            "text/plain": [
              "\n",
              "Call:\n",
              "lm(formula = TeacherTurnoverRate ~ Avg_TeacherSalary, data = TeacherTurnover_NoNAs)\n",
              "\n",
              "Residuals:\n",
              "    Min      1Q  Median      3Q     Max \n",
              "-27.924  -5.932  -1.298   4.728  68.412 \n",
              "\n",
              "Coefficients:\n",
              "                    Estimate Std. Error t value Pr(>|t|)    \n",
              "(Intercept)        6.812e+01  3.163e+00   21.54   <2e-16 ***\n",
              "Avg_TeacherSalary -1.089e-03  7.109e-05  -15.32   <2e-16 ***\n",
              "---\n",
              "Signif. codes:  0 ‘***’ 0.001 ‘**’ 0.01 ‘*’ 0.05 ‘.’ 0.1 ‘ ’ 1\n",
              "\n",
              "Residual standard error: 10.07 on 1051 degrees of freedom\n",
              "Multiple R-squared:  0.1826,\tAdjusted R-squared:  0.1818 \n",
              "F-statistic: 234.8 on 1 and 1051 DF,  p-value: < 2.2e-16\n"
            ]
          },
          "metadata": {}
        }
      ]
    },
    {
      "cell_type": "markdown",
      "metadata": {
        "id": "md1obSYQxa2B"
      },
      "source": [
        "### Model #4: TeacherTurnoverRate ~ Pct_RevenueLocal"
      ]
    },
    {
      "cell_type": "code",
      "metadata": {
        "colab": {
          "base_uri": "https://localhost:8080/",
          "height": 329
        },
        "id": "rUwlciV8xa7u",
        "outputId": "0ce940d0-4b11-4200-d23f-e483831ff76d"
      },
      "source": [
        "LM_TeacherTurnoverRate_PctRevenueLocal <- lm(TeacherTurnoverRate ~ Pct_RevenueLocal, data=TeacherTurnover_NoNAs)\n",
        "summary(LM_TeacherTurnoverRate_PctRevenueLocal)"
      ],
      "execution_count": 32,
      "outputs": [
        {
          "output_type": "display_data",
          "data": {
            "text/plain": [
              "\n",
              "Call:\n",
              "lm(formula = TeacherTurnoverRate ~ Pct_RevenueLocal, data = TeacherTurnover_NoNAs)\n",
              "\n",
              "Residuals:\n",
              "    Min      1Q  Median      3Q     Max \n",
              "-21.138  -6.561  -1.657   4.306  74.921 \n",
              "\n",
              "Coefficients:\n",
              "                 Estimate Std. Error t value Pr(>|t|)    \n",
              "(Intercept)      26.09634    0.71634  36.430   <2e-16 ***\n",
              "Pct_RevenueLocal -0.15178    0.01556  -9.756   <2e-16 ***\n",
              "---\n",
              "Signif. codes:  0 ‘***’ 0.001 ‘**’ 0.01 ‘*’ 0.05 ‘.’ 0.1 ‘ ’ 1\n",
              "\n",
              "Residual standard error: 10.66 on 1051 degrees of freedom\n",
              "Multiple R-squared:  0.08305,\tAdjusted R-squared:  0.08217 \n",
              "F-statistic: 95.19 on 1 and 1051 DF,  p-value: < 2.2e-16\n"
            ]
          },
          "metadata": {}
        }
      ]
    },
    {
      "cell_type": "markdown",
      "metadata": {
        "id": "HZT6XHxwtVJE"
      },
      "source": [
        "## Custom Jackknife Function to Measure Prediction Accuracy"
      ]
    },
    {
      "cell_type": "markdown",
      "metadata": {
        "id": "O68onNsL0iNF"
      },
      "source": [
        "The following custom function can be used to obtain a jackknife estimate for the Root Mean Square Error."
      ]
    },
    {
      "cell_type": "code",
      "metadata": {
        "id": "t9s14vlSzbes"
      },
      "source": [
        "#Custom function to compute the RMSE - Jackknife Estimate\n",
        "rmse.jackknife=function(slr_object,data_for_fit){\n",
        "\n",
        "    #A custom function for obtaining RMSE via Jackknife\n",
        "    #INPUTS\n",
        "    #      This function takes two input arguments\n",
        "    #      1) A simple linear regression object, and \n",
        "    #      2) data.frame used for fitting SLR model\n",
        "    #OUTPUTS\n",
        "    #     This function returns as output\n",
        "    #      1) vector of squared residuals\n",
        "    #      2) the jackknife estimate of RMSE\n",
        "\n",
        "    #Getting the number of rows in data\n",
        "    n = dim(data_for_fit)[1]\n",
        "\n",
        "    #Keeping a copy of orginial y (used in computed residual)\n",
        "    originaly = slr_object$model[,1]\n",
        "    \n",
        "    #Creating the output vector to save squared residuals\n",
        "    output = rep(0,n)\n",
        "\n",
        "    #Looping through data \n",
        "    for(i in 1:n){\n",
        "        fit_minus_i = lm( formula(slr_object), data=data_for_fit[-i,] )\n",
        "        predictedy_i = predict( fit_minus_i , newdata=data_for_fit[i,] )\n",
        "        output[i] = ( originaly[i] - predictedy_i )^2\n",
        "    }\n",
        "    \n",
        "    #Return the output vector and jackknife rmse\n",
        "    #list(SquaredResids=output,Jackknife_RMSE=sqrt(mean(output, na.rm=TRUE)))\n",
        "    return(Jackknife_RMSE=sqrt(mean(output, na.rm=TRUE)))\n",
        "}"
      ],
      "execution_count": 19,
      "outputs": []
    },
    {
      "cell_type": "markdown",
      "metadata": {
        "id": "YqisaMT10DKf"
      },
      "source": [
        "Using the rmse.jackknife() function for the data considered here."
      ]
    },
    {
      "cell_type": "code",
      "metadata": {
        "colab": {
          "base_uri": "https://localhost:8080/",
          "height": 225
        },
        "id": "V8LEjeg80DTc",
        "outputId": "a35e5866-77a7-414b-b3f5-e8bdf3f1d93b"
      },
      "source": [
        "cat(\"\\nJackknife Estimate of RMSE for PCT_EconomicDisadvantaged:\")\n",
        "round( rmse.jackknife(LM_TeacherTurnoverRate_PCTEconomicDisadvantaged, TeacherTurnover_NoNAs), 2)\n",
        "\n",
        "cat(\"\\nJackknife Estimate of RMSE for FourYearGradRate:\")\n",
        "round( rmse.jackknife(LM_TeacherTurnoverRate_FourYearGradRate, TeacherTurnover_NoNAs), 2)\n",
        "\n",
        "cat(\"\\nJackknife Estimate of RMSE for AvgTeacherSalary:\")\n",
        "round( rmse.jackknife(LM_TeacherTurnoverRate_AvgTeacherSalary, TeacherTurnover_NoNAs), 2)\n",
        "\n",
        "cat(\"\\nJackknife Estimate of RMSE for Pct_RevenueLocal:\")\n",
        "round( rmse.jackknife(LM_TeacherTurnoverRate_PctRevenueLocal, TeacherTurnover_NoNAs), 2)\n"
      ],
      "execution_count": 33,
      "outputs": [
        {
          "output_type": "stream",
          "name": "stdout",
          "text": [
            "\n",
            "Jackknife Estimate of RMSE for PCT_EconomicDisadvantaged:"
          ]
        },
        {
          "output_type": "display_data",
          "data": {
            "text/html": [
              "10.55"
            ],
            "text/markdown": "10.55",
            "text/latex": "10.55",
            "text/plain": [
              "[1] 10.55"
            ]
          },
          "metadata": {}
        },
        {
          "output_type": "stream",
          "name": "stdout",
          "text": [
            "\n",
            "Jackknife Estimate of RMSE for FourYearGradRate:"
          ]
        },
        {
          "output_type": "display_data",
          "data": {
            "text/html": [
              "10.37"
            ],
            "text/markdown": "10.37",
            "text/latex": "10.37",
            "text/plain": [
              "[1] 10.37"
            ]
          },
          "metadata": {}
        },
        {
          "output_type": "stream",
          "name": "stdout",
          "text": [
            "\n",
            "Jackknife Estimate of RMSE for AvgTeacherSalary:"
          ]
        },
        {
          "output_type": "display_data",
          "data": {
            "text/html": [
              "10.08"
            ],
            "text/markdown": "10.08",
            "text/latex": "10.08",
            "text/plain": [
              "[1] 10.08"
            ]
          },
          "metadata": {}
        },
        {
          "output_type": "stream",
          "name": "stdout",
          "text": [
            "\n",
            "Jackknife Estimate of RMSE for Pct_RevenueLocal:"
          ]
        },
        {
          "output_type": "display_data",
          "data": {
            "text/html": [
              "10.68"
            ],
            "text/markdown": "10.68",
            "text/latex": "10.68",
            "text/plain": [
              "[1] 10.68"
            ]
          },
          "metadata": {}
        }
      ]
    },
    {
      "cell_type": "markdown",
      "metadata": {
        "id": "Zjc_8cwKZtXk"
      },
      "source": [
        "\n",
        "\n",
        "---\n",
        "\n",
        "\n",
        "\n",
        "---\n",
        "\n"
      ]
    },
    {
      "cell_type": "markdown",
      "metadata": {
        "id": "S0gBu163ZsWB"
      },
      "source": [
        "## CARET Package: Leave-one-out"
      ]
    },
    {
      "cell_type": "markdown",
      "source": [
        "The caret() package in R is the primary package for doing cross-validation of models.  First, let's load this package.\n",
        "\n",
        "**Note**:  This will take about 5 minutes to load into COLAB."
      ],
      "metadata": {
        "id": "LlDLZ1tvt1ez"
      }
    },
    {
      "cell_type": "code",
      "metadata": {
        "id": "g_EhUQwbZskF"
      },
      "source": [
        "install.packages(\"caret\")\n",
        "library(caret)"
      ],
      "execution_count": null,
      "outputs": []
    },
    {
      "cell_type": "markdown",
      "metadata": {
        "id": "Sb1CNLx1Z13J"
      },
      "source": [
        "The following code can be used to run a \"leave-one-out\" cross-validation algorithm with the caret package in R."
      ]
    },
    {
      "cell_type": "code",
      "metadata": {
        "colab": {
          "base_uri": "https://localhost:8080/",
          "height": 260
        },
        "id": "dTifc-UcZ1-A",
        "outputId": "886f3bff-d6d6-4b18-fa05-d2edcccd9624"
      },
      "source": [
        "#Using the caret package to conduct the leave-one-out cross validation\n",
        "#The cross-validation settings are set with the trainControl() function.\n",
        "#Here, the leave-one-out cross validation (LOOCV) is being specifed\n",
        "cv_settings <- trainControl(method = \"LOOCV\")\n",
        "\n",
        "#Next, use the train() function to conduct the cross-validation procedure for this data/model\n",
        "LOOCV_TeacherTurnoverRate_AvgTeacherSalary <- train(\n",
        "                                                     TeacherTurnoverRate ~ Avg_TeacherSalary ,   # model to fit\n",
        "                                                     data = TeacherTurnover_NoNAs,               # data used for the fit   \n",
        "                                                     trControl = cv_settings,                    # settings for cross-validation\n",
        "                                                     method = \"lm\",                              # specifying a regression model\n",
        "                                                     na.action = na.pass                         # helps with NA\n",
        "                                                    )\n",
        "\n",
        "#Print the output from the LOOCV algorithm\n",
        "LOOCV_TeacherTurnoverRate_AvgTeacherSalary"
      ],
      "execution_count": 35,
      "outputs": [
        {
          "output_type": "display_data",
          "data": {
            "text/plain": [
              "Linear Regression \n",
              "\n",
              "1053 samples\n",
              "   1 predictor\n",
              "\n",
              "No pre-processing\n",
              "Resampling: Leave-One-Out Cross-Validation \n",
              "Summary of sample sizes: 1052, 1052, 1052, 1052, 1052, 1052, ... \n",
              "Resampling results:\n",
              "\n",
              "  RMSE      Rsquared   MAE     \n",
              "  10.08144  0.1787502  7.178362\n",
              "\n",
              "Tuning parameter 'intercept' was held constant at a value of TRUE"
            ]
          },
          "metadata": {}
        }
      ]
    },
    {
      "cell_type": "markdown",
      "metadata": {
        "id": "UUNCBXN5bjKH"
      },
      "source": [
        "In addition to the $RMSE$, the $R^2$ and $MAE$ are computed as well on the test set."
      ]
    },
    {
      "cell_type": "markdown",
      "metadata": {
        "id": "Wmuc6B18aOIh"
      },
      "source": [
        "$$\n",
        "MAE = \\frac{\\sum |y_{i} - \\hat{y}_{i}|}{n}\n",
        "$$\n",
        "where $\\hat{y}_{i}$ is the predicted value for the $i^{th}$ observation"
      ]
    },
    {
      "cell_type": "markdown",
      "metadata": {
        "id": "jwY_NYfb771l"
      },
      "source": [
        "\n",
        "\n",
        "---\n",
        "\n",
        "\n",
        "\n",
        "---\n",
        "\n"
      ]
    },
    {
      "cell_type": "markdown",
      "metadata": {
        "id": "vYChOR3T7-Rc"
      },
      "source": [
        "##  Train / Test Cross-Validation Algorithm"
      ]
    },
    {
      "cell_type": "markdown",
      "metadata": {
        "id": "wZf1BIHN8ClE"
      },
      "source": [
        "<u>Step #1</u>:  Divide the data into the train and test set"
      ]
    },
    {
      "cell_type": "code",
      "metadata": {
        "colab": {
          "base_uri": "https://localhost:8080/",
          "height": 34
        },
        "id": "lSWAE1Aw8e0P",
        "outputId": "c3f0b3a0-cd7e-4c5d-9f05-d9c4de6503a5"
      },
      "source": [
        "#How many rows in data.frame\n",
        "dim(TeacherTurnover_NoNAs)"
      ],
      "execution_count": 44,
      "outputs": [
        {
          "output_type": "display_data",
          "data": {
            "text/html": [
              "<style>\n",
              ".list-inline {list-style: none; margin:0; padding: 0}\n",
              ".list-inline>li {display: inline-block}\n",
              ".list-inline>li:not(:last-child)::after {content: \"\\00b7\"; padding: 0 .5ex}\n",
              "</style>\n",
              "<ol class=list-inline><li>1053</li><li>6</li></ol>\n"
            ],
            "text/markdown": "1. 1053\n2. 6\n\n\n",
            "text/latex": "\\begin{enumerate*}\n\\item 1053\n\\item 6\n\\end{enumerate*}\n",
            "text/plain": [
              "[1] 1053    6"
            ]
          },
          "metadata": {}
        }
      ]
    },
    {
      "cell_type": "code",
      "metadata": {
        "colab": {
          "base_uri": "https://localhost:8080/",
          "height": 260
        },
        "id": "cXPV3Y9p9AHm",
        "outputId": "c6dd640d-13d1-4c22-fe44-bef3f3ba1caf"
      },
      "source": [
        "#Create a rowid vector\n",
        "rowid <- seq(from=1, to=1053, by=1)\n",
        "\n",
        "#Obtain the training set\n",
        "train <- sample(rowid, size = (0.75*length(rowid)), replace=FALSE)\n",
        "sort(train)\n",
        "\n",
        "cat(\"\\nHow many observations in training set:\")\n",
        "length(train)"
      ],
      "execution_count": 45,
      "outputs": [
        {
          "output_type": "display_data",
          "data": {
            "text/html": [
              "<style>\n",
              ".list-inline {list-style: none; margin:0; padding: 0}\n",
              ".list-inline>li {display: inline-block}\n",
              ".list-inline>li:not(:last-child)::after {content: \"\\00b7\"; padding: 0 .5ex}\n",
              "</style>\n",
              "<ol class=list-inline><li>1</li><li>2</li><li>3</li><li>4</li><li>6</li><li>7</li><li>10</li><li>11</li><li>12</li><li>13</li><li>14</li><li>15</li><li>16</li><li>17</li><li>19</li><li>20</li><li>21</li><li>22</li><li>23</li><li>25</li><li>26</li><li>27</li><li>29</li><li>30</li><li>31</li><li>32</li><li>33</li><li>35</li><li>36</li><li>37</li><li>38</li><li>39</li><li>40</li><li>42</li><li>44</li><li>46</li><li>50</li><li>52</li><li>54</li><li>55</li><li>56</li><li>57</li><li>58</li><li>59</li><li>61</li><li>62</li><li>63</li><li>64</li><li>65</li><li>67</li><li>68</li><li>71</li><li>72</li><li>73</li><li>74</li><li>75</li><li>76</li><li>77</li><li>78</li><li>79</li><li>80</li><li>81</li><li>82</li><li>83</li><li>85</li><li>86</li><li>87</li><li>91</li><li>93</li><li>94</li><li>95</li><li>97</li><li>98</li><li>101</li><li>103</li><li>104</li><li>105</li><li>108</li><li>110</li><li>111</li><li>112</li><li>114</li><li>116</li><li>118</li><li>119</li><li>120</li><li>122</li><li>123</li><li>126</li><li>127</li><li>130</li><li>131</li><li>133</li><li>134</li><li>135</li><li>136</li><li>137</li><li>138</li><li>140</li><li>141</li><li>142</li><li>144</li><li>145</li><li>146</li><li>147</li><li>149</li><li>150</li><li>152</li><li>153</li><li>154</li><li>155</li><li>156</li><li>157</li><li>158</li><li>159</li><li>160</li><li>161</li><li>162</li><li>163</li><li>165</li><li>166</li><li>168</li><li>169</li><li>170</li><li>172</li><li>174</li><li>175</li><li>176</li><li>177</li><li>178</li><li>179</li><li>180</li><li>181</li><li>183</li><li>184</li><li>186</li><li>188</li><li>189</li><li>190</li><li>191</li><li>192</li><li>193</li><li>195</li><li>196</li><li>197</li><li>199</li><li>200</li><li>201</li><li>203</li><li>206</li><li>208</li><li>210</li><li>211</li><li>212</li><li>213</li><li>215</li><li>216</li><li>217</li><li>218</li><li>219</li><li>220</li><li>221</li><li>222</li><li>226</li><li>227</li><li>228</li><li>229</li><li>230</li><li>232</li><li>234</li><li>235</li><li>237</li><li>238</li><li>239</li><li>240</li><li>242</li><li>244</li><li>245</li><li>247</li><li>250</li><li>251</li><li>252</li><li>253</li><li>254</li><li>255</li><li>257</li><li>258</li><li>259</li><li>260</li><li>261</li><li>262</li><li>263</li><li>264</li><li>265</li><li>268</li><li>270</li><li>271</li><li>273</li><li>274</li><li>277</li><li>⋯</li><li>795</li><li>797</li><li>798</li><li>799</li><li>800</li><li>802</li><li>805</li><li>806</li><li>808</li><li>809</li><li>810</li><li>812</li><li>813</li><li>814</li><li>816</li><li>819</li><li>820</li><li>821</li><li>822</li><li>823</li><li>825</li><li>827</li><li>828</li><li>829</li><li>830</li><li>831</li><li>833</li><li>834</li><li>835</li><li>836</li><li>837</li><li>838</li><li>839</li><li>840</li><li>841</li><li>843</li><li>844</li><li>845</li><li>846</li><li>847</li><li>848</li><li>849</li><li>851</li><li>852</li><li>853</li><li>854</li><li>856</li><li>857</li><li>858</li><li>859</li><li>860</li><li>862</li><li>863</li><li>864</li><li>866</li><li>868</li><li>869</li><li>870</li><li>872</li><li>873</li><li>874</li><li>875</li><li>876</li><li>877</li><li>879</li><li>880</li><li>881</li><li>882</li><li>884</li><li>885</li><li>886</li><li>887</li><li>888</li><li>889</li><li>890</li><li>891</li><li>892</li><li>893</li><li>894</li><li>895</li><li>896</li><li>897</li><li>898</li><li>899</li><li>901</li><li>902</li><li>904</li><li>906</li><li>908</li><li>910</li><li>911</li><li>912</li><li>913</li><li>916</li><li>917</li><li>918</li><li>919</li><li>923</li><li>924</li><li>925</li><li>926</li><li>927</li><li>928</li><li>929</li><li>931</li><li>932</li><li>933</li><li>934</li><li>935</li><li>936</li><li>937</li><li>938</li><li>939</li><li>940</li><li>941</li><li>943</li><li>944</li><li>945</li><li>946</li><li>947</li><li>948</li><li>949</li><li>950</li><li>951</li><li>954</li><li>956</li><li>957</li><li>959</li><li>961</li><li>962</li><li>963</li><li>964</li><li>965</li><li>967</li><li>968</li><li>969</li><li>971</li><li>972</li><li>973</li><li>974</li><li>975</li><li>976</li><li>977</li><li>979</li><li>980</li><li>981</li><li>982</li><li>984</li><li>986</li><li>988</li><li>989</li><li>990</li><li>991</li><li>992</li><li>993</li><li>995</li><li>996</li><li>997</li><li>998</li><li>999</li><li>1000</li><li>1002</li><li>1003</li><li>1004</li><li>1005</li><li>1006</li><li>1008</li><li>1009</li><li>1010</li><li>1011</li><li>1012</li><li>1013</li><li>1015</li><li>1018</li><li>1019</li><li>1020</li><li>1021</li><li>1022</li><li>1023</li><li>1024</li><li>1025</li><li>1027</li><li>1028</li><li>1030</li><li>1031</li><li>1032</li><li>1034</li><li>1036</li><li>1037</li><li>1038</li><li>1039</li><li>1040</li><li>1041</li><li>1042</li><li>1044</li><li>1045</li><li>1046</li><li>1050</li><li>1051</li><li>1053</li></ol>\n"
            ],
            "text/markdown": "1. 1\n2. 2\n3. 3\n4. 4\n5. 6\n6. 7\n7. 10\n8. 11\n9. 12\n10. 13\n11. 14\n12. 15\n13. 16\n14. 17\n15. 19\n16. 20\n17. 21\n18. 22\n19. 23\n20. 25\n21. 26\n22. 27\n23. 29\n24. 30\n25. 31\n26. 32\n27. 33\n28. 35\n29. 36\n30. 37\n31. 38\n32. 39\n33. 40\n34. 42\n35. 44\n36. 46\n37. 50\n38. 52\n39. 54\n40. 55\n41. 56\n42. 57\n43. 58\n44. 59\n45. 61\n46. 62\n47. 63\n48. 64\n49. 65\n50. 67\n51. 68\n52. 71\n53. 72\n54. 73\n55. 74\n56. 75\n57. 76\n58. 77\n59. 78\n60. 79\n61. 80\n62. 81\n63. 82\n64. 83\n65. 85\n66. 86\n67. 87\n68. 91\n69. 93\n70. 94\n71. 95\n72. 97\n73. 98\n74. 101\n75. 103\n76. 104\n77. 105\n78. 108\n79. 110\n80. 111\n81. 112\n82. 114\n83. 116\n84. 118\n85. 119\n86. 120\n87. 122\n88. 123\n89. 126\n90. 127\n91. 130\n92. 131\n93. 133\n94. 134\n95. 135\n96. 136\n97. 137\n98. 138\n99. 140\n100. 141\n101. 142\n102. 144\n103. 145\n104. 146\n105. 147\n106. 149\n107. 150\n108. 152\n109. 153\n110. 154\n111. 155\n112. 156\n113. 157\n114. 158\n115. 159\n116. 160\n117. 161\n118. 162\n119. 163\n120. 165\n121. 166\n122. 168\n123. 169\n124. 170\n125. 172\n126. 174\n127. 175\n128. 176\n129. 177\n130. 178\n131. 179\n132. 180\n133. 181\n134. 183\n135. 184\n136. 186\n137. 188\n138. 189\n139. 190\n140. 191\n141. 192\n142. 193\n143. 195\n144. 196\n145. 197\n146. 199\n147. 200\n148. 201\n149. 203\n150. 206\n151. 208\n152. 210\n153. 211\n154. 212\n155. 213\n156. 215\n157. 216\n158. 217\n159. 218\n160. 219\n161. 220\n162. 221\n163. 222\n164. 226\n165. 227\n166. 228\n167. 229\n168. 230\n169. 232\n170. 234\n171. 235\n172. 237\n173. 238\n174. 239\n175. 240\n176. 242\n177. 244\n178. 245\n179. 247\n180. 250\n181. 251\n182. 252\n183. 253\n184. 254\n185. 255\n186. 257\n187. 258\n188. 259\n189. 260\n190. 261\n191. 262\n192. 263\n193. 264\n194. 265\n195. 268\n196. 270\n197. 271\n198. 273\n199. 274\n200. 277\n201. ⋯\n202. 795\n203. 797\n204. 798\n205. 799\n206. 800\n207. 802\n208. 805\n209. 806\n210. 808\n211. 809\n212. 810\n213. 812\n214. 813\n215. 814\n216. 816\n217. 819\n218. 820\n219. 821\n220. 822\n221. 823\n222. 825\n223. 827\n224. 828\n225. 829\n226. 830\n227. 831\n228. 833\n229. 834\n230. 835\n231. 836\n232. 837\n233. 838\n234. 839\n235. 840\n236. 841\n237. 843\n238. 844\n239. 845\n240. 846\n241. 847\n242. 848\n243. 849\n244. 851\n245. 852\n246. 853\n247. 854\n248. 856\n249. 857\n250. 858\n251. 859\n252. 860\n253. 862\n254. 863\n255. 864\n256. 866\n257. 868\n258. 869\n259. 870\n260. 872\n261. 873\n262. 874\n263. 875\n264. 876\n265. 877\n266. 879\n267. 880\n268. 881\n269. 882\n270. 884\n271. 885\n272. 886\n273. 887\n274. 888\n275. 889\n276. 890\n277. 891\n278. 892\n279. 893\n280. 894\n281. 895\n282. 896\n283. 897\n284. 898\n285. 899\n286. 901\n287. 902\n288. 904\n289. 906\n290. 908\n291. 910\n292. 911\n293. 912\n294. 913\n295. 916\n296. 917\n297. 918\n298. 919\n299. 923\n300. 924\n301. 925\n302. 926\n303. 927\n304. 928\n305. 929\n306. 931\n307. 932\n308. 933\n309. 934\n310. 935\n311. 936\n312. 937\n313. 938\n314. 939\n315. 940\n316. 941\n317. 943\n318. 944\n319. 945\n320. 946\n321. 947\n322. 948\n323. 949\n324. 950\n325. 951\n326. 954\n327. 956\n328. 957\n329. 959\n330. 961\n331. 962\n332. 963\n333. 964\n334. 965\n335. 967\n336. 968\n337. 969\n338. 971\n339. 972\n340. 973\n341. 974\n342. 975\n343. 976\n344. 977\n345. 979\n346. 980\n347. 981\n348. 982\n349. 984\n350. 986\n351. 988\n352. 989\n353. 990\n354. 991\n355. 992\n356. 993\n357. 995\n358. 996\n359. 997\n360. 998\n361. 999\n362. 1000\n363. 1002\n364. 1003\n365. 1004\n366. 1005\n367. 1006\n368. 1008\n369. 1009\n370. 1010\n371. 1011\n372. 1012\n373. 1013\n374. 1015\n375. 1018\n376. 1019\n377. 1020\n378. 1021\n379. 1022\n380. 1023\n381. 1024\n382. 1025\n383. 1027\n384. 1028\n385. 1030\n386. 1031\n387. 1032\n388. 1034\n389. 1036\n390. 1037\n391. 1038\n392. 1039\n393. 1040\n394. 1041\n395. 1042\n396. 1044\n397. 1045\n398. 1046\n399. 1050\n400. 1051\n401. 1053\n\n\n",
            "text/latex": "\\begin{enumerate*}\n\\item 1\n\\item 2\n\\item 3\n\\item 4\n\\item 6\n\\item 7\n\\item 10\n\\item 11\n\\item 12\n\\item 13\n\\item 14\n\\item 15\n\\item 16\n\\item 17\n\\item 19\n\\item 20\n\\item 21\n\\item 22\n\\item 23\n\\item 25\n\\item 26\n\\item 27\n\\item 29\n\\item 30\n\\item 31\n\\item 32\n\\item 33\n\\item 35\n\\item 36\n\\item 37\n\\item 38\n\\item 39\n\\item 40\n\\item 42\n\\item 44\n\\item 46\n\\item 50\n\\item 52\n\\item 54\n\\item 55\n\\item 56\n\\item 57\n\\item 58\n\\item 59\n\\item 61\n\\item 62\n\\item 63\n\\item 64\n\\item 65\n\\item 67\n\\item 68\n\\item 71\n\\item 72\n\\item 73\n\\item 74\n\\item 75\n\\item 76\n\\item 77\n\\item 78\n\\item 79\n\\item 80\n\\item 81\n\\item 82\n\\item 83\n\\item 85\n\\item 86\n\\item 87\n\\item 91\n\\item 93\n\\item 94\n\\item 95\n\\item 97\n\\item 98\n\\item 101\n\\item 103\n\\item 104\n\\item 105\n\\item 108\n\\item 110\n\\item 111\n\\item 112\n\\item 114\n\\item 116\n\\item 118\n\\item 119\n\\item 120\n\\item 122\n\\item 123\n\\item 126\n\\item 127\n\\item 130\n\\item 131\n\\item 133\n\\item 134\n\\item 135\n\\item 136\n\\item 137\n\\item 138\n\\item 140\n\\item 141\n\\item 142\n\\item 144\n\\item 145\n\\item 146\n\\item 147\n\\item 149\n\\item 150\n\\item 152\n\\item 153\n\\item 154\n\\item 155\n\\item 156\n\\item 157\n\\item 158\n\\item 159\n\\item 160\n\\item 161\n\\item 162\n\\item 163\n\\item 165\n\\item 166\n\\item 168\n\\item 169\n\\item 170\n\\item 172\n\\item 174\n\\item 175\n\\item 176\n\\item 177\n\\item 178\n\\item 179\n\\item 180\n\\item 181\n\\item 183\n\\item 184\n\\item 186\n\\item 188\n\\item 189\n\\item 190\n\\item 191\n\\item 192\n\\item 193\n\\item 195\n\\item 196\n\\item 197\n\\item 199\n\\item 200\n\\item 201\n\\item 203\n\\item 206\n\\item 208\n\\item 210\n\\item 211\n\\item 212\n\\item 213\n\\item 215\n\\item 216\n\\item 217\n\\item 218\n\\item 219\n\\item 220\n\\item 221\n\\item 222\n\\item 226\n\\item 227\n\\item 228\n\\item 229\n\\item 230\n\\item 232\n\\item 234\n\\item 235\n\\item 237\n\\item 238\n\\item 239\n\\item 240\n\\item 242\n\\item 244\n\\item 245\n\\item 247\n\\item 250\n\\item 251\n\\item 252\n\\item 253\n\\item 254\n\\item 255\n\\item 257\n\\item 258\n\\item 259\n\\item 260\n\\item 261\n\\item 262\n\\item 263\n\\item 264\n\\item 265\n\\item 268\n\\item 270\n\\item 271\n\\item 273\n\\item 274\n\\item 277\n\\item ⋯\n\\item 795\n\\item 797\n\\item 798\n\\item 799\n\\item 800\n\\item 802\n\\item 805\n\\item 806\n\\item 808\n\\item 809\n\\item 810\n\\item 812\n\\item 813\n\\item 814\n\\item 816\n\\item 819\n\\item 820\n\\item 821\n\\item 822\n\\item 823\n\\item 825\n\\item 827\n\\item 828\n\\item 829\n\\item 830\n\\item 831\n\\item 833\n\\item 834\n\\item 835\n\\item 836\n\\item 837\n\\item 838\n\\item 839\n\\item 840\n\\item 841\n\\item 843\n\\item 844\n\\item 845\n\\item 846\n\\item 847\n\\item 848\n\\item 849\n\\item 851\n\\item 852\n\\item 853\n\\item 854\n\\item 856\n\\item 857\n\\item 858\n\\item 859\n\\item 860\n\\item 862\n\\item 863\n\\item 864\n\\item 866\n\\item 868\n\\item 869\n\\item 870\n\\item 872\n\\item 873\n\\item 874\n\\item 875\n\\item 876\n\\item 877\n\\item 879\n\\item 880\n\\item 881\n\\item 882\n\\item 884\n\\item 885\n\\item 886\n\\item 887\n\\item 888\n\\item 889\n\\item 890\n\\item 891\n\\item 892\n\\item 893\n\\item 894\n\\item 895\n\\item 896\n\\item 897\n\\item 898\n\\item 899\n\\item 901\n\\item 902\n\\item 904\n\\item 906\n\\item 908\n\\item 910\n\\item 911\n\\item 912\n\\item 913\n\\item 916\n\\item 917\n\\item 918\n\\item 919\n\\item 923\n\\item 924\n\\item 925\n\\item 926\n\\item 927\n\\item 928\n\\item 929\n\\item 931\n\\item 932\n\\item 933\n\\item 934\n\\item 935\n\\item 936\n\\item 937\n\\item 938\n\\item 939\n\\item 940\n\\item 941\n\\item 943\n\\item 944\n\\item 945\n\\item 946\n\\item 947\n\\item 948\n\\item 949\n\\item 950\n\\item 951\n\\item 954\n\\item 956\n\\item 957\n\\item 959\n\\item 961\n\\item 962\n\\item 963\n\\item 964\n\\item 965\n\\item 967\n\\item 968\n\\item 969\n\\item 971\n\\item 972\n\\item 973\n\\item 974\n\\item 975\n\\item 976\n\\item 977\n\\item 979\n\\item 980\n\\item 981\n\\item 982\n\\item 984\n\\item 986\n\\item 988\n\\item 989\n\\item 990\n\\item 991\n\\item 992\n\\item 993\n\\item 995\n\\item 996\n\\item 997\n\\item 998\n\\item 999\n\\item 1000\n\\item 1002\n\\item 1003\n\\item 1004\n\\item 1005\n\\item 1006\n\\item 1008\n\\item 1009\n\\item 1010\n\\item 1011\n\\item 1012\n\\item 1013\n\\item 1015\n\\item 1018\n\\item 1019\n\\item 1020\n\\item 1021\n\\item 1022\n\\item 1023\n\\item 1024\n\\item 1025\n\\item 1027\n\\item 1028\n\\item 1030\n\\item 1031\n\\item 1032\n\\item 1034\n\\item 1036\n\\item 1037\n\\item 1038\n\\item 1039\n\\item 1040\n\\item 1041\n\\item 1042\n\\item 1044\n\\item 1045\n\\item 1046\n\\item 1050\n\\item 1051\n\\item 1053\n\\end{enumerate*}\n",
            "text/plain": [
              "  [1]    1    2    3    4    6    7   10   11   12   13   14   15   16   17   19\n",
              " [16]   20   21   22   23   25   26   27   29   30   31   32   33   35   36   37\n",
              " [31]   38   39   40   42   44   46   50   52   54   55   56   57   58   59   61\n",
              " [46]   62   63   64   65   67   68   71   72   73   74   75   76   77   78   79\n",
              " [61]   80   81   82   83   85   86   87   91   93   94   95   97   98  101  103\n",
              " [76]  104  105  108  110  111  112  114  116  118  119  120  122  123  126  127\n",
              " [91]  130  131  133  134  135  136  137  138  140  141  142  144  145  146  147\n",
              "[106]  149  150  152  153  154  155  156  157  158  159  160  161  162  163  165\n",
              "[121]  166  168  169  170  172  174  175  176  177  178  179  180  181  183  184\n",
              "[136]  186  188  189  190  191  192  193  195  196  197  199  200  201  203  206\n",
              "[151]  208  210  211  212  213  215  216  217  218  219  220  221  222  226  227\n",
              "[166]  228  229  230  232  234  235  237  238  239  240  242  244  245  247  250\n",
              "[181]  251  252  253  254  255  257  258  259  260  261  262  263  264  265  268\n",
              "[196]  270  271  273  274  277  278  279  281  282  283  284  285  286  289  290\n",
              "[211]  292  293  294  295  296  298  299  300  301  302  304  307  309  310  311\n",
              "[226]  312  313  314  315  316  318  319  320  321  325  328  329  330  333  334\n",
              "[241]  335  337  338  339  340  342  344  345  346  347  348  349  350  351  352\n",
              "[256]  353  354  355  356  360  361  363  364  366  368  369  371  372  373  374\n",
              "[271]  375  376  377  378  379  380  381  382  383  385  387  390  391  392  393\n",
              "[286]  394  395  396  397  398  399  400  401  402  404  405  406  407  409  410\n",
              "[301]  411  412  413  414  415  416  417  418  420  421  422  423  426  427  428\n",
              "[316]  430  431  433  434  436  437  438  439  440  441  442  443  444  446  448\n",
              "[331]  449  450  451  453  454  455  456  457  459  460  461  464  465  466  467\n",
              "[346]  468  469  470  471  474  475  476  477  478  480  481  483  484  485  486\n",
              "[361]  487  488  490  491  493  495  496  497  498  499  500  501  502  503  504\n",
              "[376]  505  506  507  508  509  510  512  514  516  517  521  523  524  525  526\n",
              "[391]  527  529  530  531  532  533  535  536  537  538  539  540  541  543  545\n",
              "[406]  547  548  554  555  556  558  560  562  563  564  568  569  570  571  572\n",
              "[421]  573  575  577  579  580  581  582  583  587  588  589  591  593  595  596\n",
              "[436]  597  598  599  600  601  602  604  605  606  607  608  609  611  612  613\n",
              "[451]  614  615  617  618  619  620  622  623  624  625  626  628  629  631  633\n",
              "[466]  634  635  636  637  638  639  641  643  644  645  648  649  650  651  652\n",
              "[481]  653  654  655  656  658  662  663  664  665  666  667  671  672  673  674\n",
              "[496]  676  677  678  679  680  681  682  683  684  685  686  687  688  689  691\n",
              "[511]  692  693  694  695  696  699  700  701  702  703  704  705  706  707  708\n",
              "[526]  709  710  711  713  714  715  717  718  720  721  722  723  725  726  727\n",
              "[541]  728  729  730  731  732  733  734  736  737  738  740  741  742  744  745\n",
              "[556]  746  747  748  749  750  751  753  754  755  756  757  758  761  763  764\n",
              "[571]  768  769  770  774  776  777  778  780  781  782  783  784  786  787  788\n",
              "[586]  789  791  792  793  795  797  798  799  800  802  805  806  808  809  810\n",
              "[601]  812  813  814  816  819  820  821  822  823  825  827  828  829  830  831\n",
              "[616]  833  834  835  836  837  838  839  840  841  843  844  845  846  847  848\n",
              "[631]  849  851  852  853  854  856  857  858  859  860  862  863  864  866  868\n",
              "[646]  869  870  872  873  874  875  876  877  879  880  881  882  884  885  886\n",
              "[661]  887  888  889  890  891  892  893  894  895  896  897  898  899  901  902\n",
              "[676]  904  906  908  910  911  912  913  916  917  918  919  923  924  925  926\n",
              "[691]  927  928  929  931  932  933  934  935  936  937  938  939  940  941  943\n",
              "[706]  944  945  946  947  948  949  950  951  954  956  957  959  961  962  963\n",
              "[721]  964  965  967  968  969  971  972  973  974  975  976  977  979  980  981\n",
              "[736]  982  984  986  988  989  990  991  992  993  995  996  997  998  999 1000\n",
              "[751] 1002 1003 1004 1005 1006 1008 1009 1010 1011 1012 1013 1015 1018 1019 1020\n",
              "[766] 1021 1022 1023 1024 1025 1027 1028 1030 1031 1032 1034 1036 1037 1038 1039\n",
              "[781] 1040 1041 1042 1044 1045 1046 1050 1051 1053"
            ]
          },
          "metadata": {}
        },
        {
          "output_type": "stream",
          "name": "stdout",
          "text": [
            "\n",
            "How many observations in training set:"
          ]
        },
        {
          "output_type": "display_data",
          "data": {
            "text/html": [
              "789"
            ],
            "text/markdown": "789",
            "text/latex": "789",
            "text/plain": [
              "[1] 789"
            ]
          },
          "metadata": {}
        }
      ]
    },
    {
      "cell_type": "code",
      "metadata": {
        "colab": {
          "base_uri": "https://localhost:8080/",
          "height": 208
        },
        "id": "qgpCZDrF9RZl",
        "outputId": "a66bd27b-5c97-40f3-b90e-cd34a9fa9e4d"
      },
      "source": [
        "#Obtain the test set\n",
        "test <- rowid[-train]\n",
        "sort(test)\n",
        "\n",
        "cat(\"\\nHow many observations in test set:\")\n",
        "length(test)"
      ],
      "execution_count": 46,
      "outputs": [
        {
          "output_type": "display_data",
          "data": {
            "text/html": [
              "<style>\n",
              ".list-inline {list-style: none; margin:0; padding: 0}\n",
              ".list-inline>li {display: inline-block}\n",
              ".list-inline>li:not(:last-child)::after {content: \"\\00b7\"; padding: 0 .5ex}\n",
              "</style>\n",
              "<ol class=list-inline><li>5</li><li>8</li><li>9</li><li>18</li><li>24</li><li>28</li><li>34</li><li>41</li><li>43</li><li>45</li><li>47</li><li>48</li><li>49</li><li>51</li><li>53</li><li>60</li><li>66</li><li>69</li><li>70</li><li>84</li><li>88</li><li>89</li><li>90</li><li>92</li><li>96</li><li>99</li><li>100</li><li>102</li><li>106</li><li>107</li><li>109</li><li>113</li><li>115</li><li>117</li><li>121</li><li>124</li><li>125</li><li>128</li><li>129</li><li>132</li><li>139</li><li>143</li><li>148</li><li>151</li><li>164</li><li>167</li><li>171</li><li>173</li><li>182</li><li>185</li><li>187</li><li>194</li><li>198</li><li>202</li><li>204</li><li>205</li><li>207</li><li>209</li><li>214</li><li>223</li><li>224</li><li>225</li><li>231</li><li>233</li><li>236</li><li>241</li><li>243</li><li>246</li><li>248</li><li>249</li><li>256</li><li>266</li><li>267</li><li>269</li><li>272</li><li>275</li><li>276</li><li>280</li><li>287</li><li>288</li><li>291</li><li>297</li><li>303</li><li>305</li><li>306</li><li>308</li><li>317</li><li>322</li><li>323</li><li>324</li><li>326</li><li>327</li><li>331</li><li>332</li><li>336</li><li>341</li><li>343</li><li>357</li><li>358</li><li>359</li><li>362</li><li>365</li><li>367</li><li>370</li><li>384</li><li>386</li><li>388</li><li>389</li><li>403</li><li>408</li><li>419</li><li>424</li><li>425</li><li>429</li><li>432</li><li>435</li><li>445</li><li>447</li><li>452</li><li>458</li><li>462</li><li>463</li><li>472</li><li>473</li><li>479</li><li>482</li><li>489</li><li>492</li><li>494</li><li>511</li><li>513</li><li>515</li><li>518</li><li>519</li><li>520</li><li>522</li><li>528</li><li>534</li><li>542</li><li>544</li><li>546</li><li>549</li><li>550</li><li>551</li><li>552</li><li>553</li><li>557</li><li>559</li><li>561</li><li>565</li><li>566</li><li>567</li><li>574</li><li>576</li><li>578</li><li>584</li><li>585</li><li>586</li><li>590</li><li>592</li><li>594</li><li>603</li><li>610</li><li>616</li><li>621</li><li>627</li><li>630</li><li>632</li><li>640</li><li>642</li><li>646</li><li>647</li><li>657</li><li>659</li><li>660</li><li>661</li><li>668</li><li>669</li><li>670</li><li>675</li><li>690</li><li>697</li><li>698</li><li>712</li><li>716</li><li>719</li><li>724</li><li>735</li><li>739</li><li>743</li><li>752</li><li>759</li><li>760</li><li>762</li><li>765</li><li>766</li><li>767</li><li>771</li><li>772</li><li>773</li><li>775</li><li>779</li><li>785</li><li>790</li><li>794</li><li>796</li><li>801</li><li>803</li><li>804</li><li>807</li><li>811</li><li>815</li><li>817</li><li>818</li><li>824</li><li>826</li><li>832</li><li>842</li><li>850</li><li>855</li><li>861</li><li>865</li><li>867</li><li>871</li><li>878</li><li>883</li><li>900</li><li>903</li><li>905</li><li>907</li><li>909</li><li>914</li><li>915</li><li>920</li><li>921</li><li>922</li><li>930</li><li>942</li><li>952</li><li>953</li><li>955</li><li>958</li><li>960</li><li>966</li><li>970</li><li>978</li><li>983</li><li>985</li><li>987</li><li>994</li><li>1001</li><li>1007</li><li>1014</li><li>1016</li><li>1017</li><li>1026</li><li>1029</li><li>1033</li><li>1035</li><li>1043</li><li>1047</li><li>1048</li><li>1049</li><li>1052</li></ol>\n"
            ],
            "text/markdown": "1. 5\n2. 8\n3. 9\n4. 18\n5. 24\n6. 28\n7. 34\n8. 41\n9. 43\n10. 45\n11. 47\n12. 48\n13. 49\n14. 51\n15. 53\n16. 60\n17. 66\n18. 69\n19. 70\n20. 84\n21. 88\n22. 89\n23. 90\n24. 92\n25. 96\n26. 99\n27. 100\n28. 102\n29. 106\n30. 107\n31. 109\n32. 113\n33. 115\n34. 117\n35. 121\n36. 124\n37. 125\n38. 128\n39. 129\n40. 132\n41. 139\n42. 143\n43. 148\n44. 151\n45. 164\n46. 167\n47. 171\n48. 173\n49. 182\n50. 185\n51. 187\n52. 194\n53. 198\n54. 202\n55. 204\n56. 205\n57. 207\n58. 209\n59. 214\n60. 223\n61. 224\n62. 225\n63. 231\n64. 233\n65. 236\n66. 241\n67. 243\n68. 246\n69. 248\n70. 249\n71. 256\n72. 266\n73. 267\n74. 269\n75. 272\n76. 275\n77. 276\n78. 280\n79. 287\n80. 288\n81. 291\n82. 297\n83. 303\n84. 305\n85. 306\n86. 308\n87. 317\n88. 322\n89. 323\n90. 324\n91. 326\n92. 327\n93. 331\n94. 332\n95. 336\n96. 341\n97. 343\n98. 357\n99. 358\n100. 359\n101. 362\n102. 365\n103. 367\n104. 370\n105. 384\n106. 386\n107. 388\n108. 389\n109. 403\n110. 408\n111. 419\n112. 424\n113. 425\n114. 429\n115. 432\n116. 435\n117. 445\n118. 447\n119. 452\n120. 458\n121. 462\n122. 463\n123. 472\n124. 473\n125. 479\n126. 482\n127. 489\n128. 492\n129. 494\n130. 511\n131. 513\n132. 515\n133. 518\n134. 519\n135. 520\n136. 522\n137. 528\n138. 534\n139. 542\n140. 544\n141. 546\n142. 549\n143. 550\n144. 551\n145. 552\n146. 553\n147. 557\n148. 559\n149. 561\n150. 565\n151. 566\n152. 567\n153. 574\n154. 576\n155. 578\n156. 584\n157. 585\n158. 586\n159. 590\n160. 592\n161. 594\n162. 603\n163. 610\n164. 616\n165. 621\n166. 627\n167. 630\n168. 632\n169. 640\n170. 642\n171. 646\n172. 647\n173. 657\n174. 659\n175. 660\n176. 661\n177. 668\n178. 669\n179. 670\n180. 675\n181. 690\n182. 697\n183. 698\n184. 712\n185. 716\n186. 719\n187. 724\n188. 735\n189. 739\n190. 743\n191. 752\n192. 759\n193. 760\n194. 762\n195. 765\n196. 766\n197. 767\n198. 771\n199. 772\n200. 773\n201. 775\n202. 779\n203. 785\n204. 790\n205. 794\n206. 796\n207. 801\n208. 803\n209. 804\n210. 807\n211. 811\n212. 815\n213. 817\n214. 818\n215. 824\n216. 826\n217. 832\n218. 842\n219. 850\n220. 855\n221. 861\n222. 865\n223. 867\n224. 871\n225. 878\n226. 883\n227. 900\n228. 903\n229. 905\n230. 907\n231. 909\n232. 914\n233. 915\n234. 920\n235. 921\n236. 922\n237. 930\n238. 942\n239. 952\n240. 953\n241. 955\n242. 958\n243. 960\n244. 966\n245. 970\n246. 978\n247. 983\n248. 985\n249. 987\n250. 994\n251. 1001\n252. 1007\n253. 1014\n254. 1016\n255. 1017\n256. 1026\n257. 1029\n258. 1033\n259. 1035\n260. 1043\n261. 1047\n262. 1048\n263. 1049\n264. 1052\n\n\n",
            "text/latex": "\\begin{enumerate*}\n\\item 5\n\\item 8\n\\item 9\n\\item 18\n\\item 24\n\\item 28\n\\item 34\n\\item 41\n\\item 43\n\\item 45\n\\item 47\n\\item 48\n\\item 49\n\\item 51\n\\item 53\n\\item 60\n\\item 66\n\\item 69\n\\item 70\n\\item 84\n\\item 88\n\\item 89\n\\item 90\n\\item 92\n\\item 96\n\\item 99\n\\item 100\n\\item 102\n\\item 106\n\\item 107\n\\item 109\n\\item 113\n\\item 115\n\\item 117\n\\item 121\n\\item 124\n\\item 125\n\\item 128\n\\item 129\n\\item 132\n\\item 139\n\\item 143\n\\item 148\n\\item 151\n\\item 164\n\\item 167\n\\item 171\n\\item 173\n\\item 182\n\\item 185\n\\item 187\n\\item 194\n\\item 198\n\\item 202\n\\item 204\n\\item 205\n\\item 207\n\\item 209\n\\item 214\n\\item 223\n\\item 224\n\\item 225\n\\item 231\n\\item 233\n\\item 236\n\\item 241\n\\item 243\n\\item 246\n\\item 248\n\\item 249\n\\item 256\n\\item 266\n\\item 267\n\\item 269\n\\item 272\n\\item 275\n\\item 276\n\\item 280\n\\item 287\n\\item 288\n\\item 291\n\\item 297\n\\item 303\n\\item 305\n\\item 306\n\\item 308\n\\item 317\n\\item 322\n\\item 323\n\\item 324\n\\item 326\n\\item 327\n\\item 331\n\\item 332\n\\item 336\n\\item 341\n\\item 343\n\\item 357\n\\item 358\n\\item 359\n\\item 362\n\\item 365\n\\item 367\n\\item 370\n\\item 384\n\\item 386\n\\item 388\n\\item 389\n\\item 403\n\\item 408\n\\item 419\n\\item 424\n\\item 425\n\\item 429\n\\item 432\n\\item 435\n\\item 445\n\\item 447\n\\item 452\n\\item 458\n\\item 462\n\\item 463\n\\item 472\n\\item 473\n\\item 479\n\\item 482\n\\item 489\n\\item 492\n\\item 494\n\\item 511\n\\item 513\n\\item 515\n\\item 518\n\\item 519\n\\item 520\n\\item 522\n\\item 528\n\\item 534\n\\item 542\n\\item 544\n\\item 546\n\\item 549\n\\item 550\n\\item 551\n\\item 552\n\\item 553\n\\item 557\n\\item 559\n\\item 561\n\\item 565\n\\item 566\n\\item 567\n\\item 574\n\\item 576\n\\item 578\n\\item 584\n\\item 585\n\\item 586\n\\item 590\n\\item 592\n\\item 594\n\\item 603\n\\item 610\n\\item 616\n\\item 621\n\\item 627\n\\item 630\n\\item 632\n\\item 640\n\\item 642\n\\item 646\n\\item 647\n\\item 657\n\\item 659\n\\item 660\n\\item 661\n\\item 668\n\\item 669\n\\item 670\n\\item 675\n\\item 690\n\\item 697\n\\item 698\n\\item 712\n\\item 716\n\\item 719\n\\item 724\n\\item 735\n\\item 739\n\\item 743\n\\item 752\n\\item 759\n\\item 760\n\\item 762\n\\item 765\n\\item 766\n\\item 767\n\\item 771\n\\item 772\n\\item 773\n\\item 775\n\\item 779\n\\item 785\n\\item 790\n\\item 794\n\\item 796\n\\item 801\n\\item 803\n\\item 804\n\\item 807\n\\item 811\n\\item 815\n\\item 817\n\\item 818\n\\item 824\n\\item 826\n\\item 832\n\\item 842\n\\item 850\n\\item 855\n\\item 861\n\\item 865\n\\item 867\n\\item 871\n\\item 878\n\\item 883\n\\item 900\n\\item 903\n\\item 905\n\\item 907\n\\item 909\n\\item 914\n\\item 915\n\\item 920\n\\item 921\n\\item 922\n\\item 930\n\\item 942\n\\item 952\n\\item 953\n\\item 955\n\\item 958\n\\item 960\n\\item 966\n\\item 970\n\\item 978\n\\item 983\n\\item 985\n\\item 987\n\\item 994\n\\item 1001\n\\item 1007\n\\item 1014\n\\item 1016\n\\item 1017\n\\item 1026\n\\item 1029\n\\item 1033\n\\item 1035\n\\item 1043\n\\item 1047\n\\item 1048\n\\item 1049\n\\item 1052\n\\end{enumerate*}\n",
            "text/plain": [
              "  [1]    5    8    9   18   24   28   34   41   43   45   47   48   49   51   53\n",
              " [16]   60   66   69   70   84   88   89   90   92   96   99  100  102  106  107\n",
              " [31]  109  113  115  117  121  124  125  128  129  132  139  143  148  151  164\n",
              " [46]  167  171  173  182  185  187  194  198  202  204  205  207  209  214  223\n",
              " [61]  224  225  231  233  236  241  243  246  248  249  256  266  267  269  272\n",
              " [76]  275  276  280  287  288  291  297  303  305  306  308  317  322  323  324\n",
              " [91]  326  327  331  332  336  341  343  357  358  359  362  365  367  370  384\n",
              "[106]  386  388  389  403  408  419  424  425  429  432  435  445  447  452  458\n",
              "[121]  462  463  472  473  479  482  489  492  494  511  513  515  518  519  520\n",
              "[136]  522  528  534  542  544  546  549  550  551  552  553  557  559  561  565\n",
              "[151]  566  567  574  576  578  584  585  586  590  592  594  603  610  616  621\n",
              "[166]  627  630  632  640  642  646  647  657  659  660  661  668  669  670  675\n",
              "[181]  690  697  698  712  716  719  724  735  739  743  752  759  760  762  765\n",
              "[196]  766  767  771  772  773  775  779  785  790  794  796  801  803  804  807\n",
              "[211]  811  815  817  818  824  826  832  842  850  855  861  865  867  871  878\n",
              "[226]  883  900  903  905  907  909  914  915  920  921  922  930  942  952  953\n",
              "[241]  955  958  960  966  970  978  983  985  987  994 1001 1007 1014 1016 1017\n",
              "[256] 1026 1029 1033 1035 1043 1047 1048 1049 1052"
            ]
          },
          "metadata": {}
        },
        {
          "output_type": "stream",
          "name": "stdout",
          "text": [
            "\n",
            "How many observations in test set:"
          ]
        },
        {
          "output_type": "display_data",
          "data": {
            "text/html": [
              "264"
            ],
            "text/markdown": "264",
            "text/latex": "264",
            "text/plain": [
              "[1] 264"
            ]
          },
          "metadata": {}
        }
      ]
    },
    {
      "cell_type": "markdown",
      "metadata": {
        "id": "fC0X_CIn-Sfu"
      },
      "source": [
        "<u>Step #2</u>: Fit the model usign the Training set"
      ]
    },
    {
      "cell_type": "code",
      "metadata": {
        "id": "uwhl-AVZ-SmN"
      },
      "source": [
        "SplitSampleCV_TeacherTurnoverRate_AvgTeacherSalary <- lm(TeacherTurnoverRate ~ Avg_TeacherSalary, data=TeacherTurnover_NoNAs[train,])"
      ],
      "execution_count": 47,
      "outputs": []
    },
    {
      "cell_type": "markdown",
      "metadata": {
        "id": "mg39Si-A-6jP"
      },
      "source": [
        "<u>Step #3</u>: Make predictions for observations in Test set and obtain RMSE from these predictions"
      ]
    },
    {
      "cell_type": "code",
      "metadata": {
        "colab": {
          "base_uri": "https://localhost:8080/",
          "height": 181
        },
        "id": "HcTLweLf-6pd",
        "outputId": "753f2539-fdb5-4695-ebfd-c5865c2d8bb2"
      },
      "source": [
        "(TeacherTurnover_NoNAs[test,]\n",
        "    %>% mutate(Predicted = predict(SplitSampleCV_TeacherTurnoverRate_AvgTeacherSalary, newdata=TeacherTurnover_NoNAs[test,]))\n",
        "    %>% mutate(Residual = (TeacherTurnoverRate - Predicted))\n",
        "    %>% mutate(Residual_Squared = Residual^2)\n",
        ") -> TeacherTurnover_NoNAs_with_SplitSampleCVPredictions\n",
        "\n",
        "cat(\"\\n RMSE & R2 via Train / Test Cross Validation:\\n\\n\")\n",
        "(TeacherTurnover_NoNAs_with_SplitSampleCVPredictions\n",
        "   %>% drop_na()\n",
        "   %>% summarize(RMSE = sqrt(mean(Residual_Squared)), \n",
        "                 R2 = cor(TeacherTurnoverRate, Predicted)^2 \n",
        "                )\n",
        ")"
      ],
      "execution_count": 48,
      "outputs": [
        {
          "output_type": "stream",
          "name": "stdout",
          "text": [
            "\n",
            " RMSE & R2 via Train / Test Cross Validation:\n",
            "\n"
          ]
        },
        {
          "output_type": "display_data",
          "data": {
            "text/html": [
              "<table class=\"dataframe\">\n",
              "<caption>A tibble: 1 × 2</caption>\n",
              "<thead>\n",
              "\t<tr><th scope=col>RMSE</th><th scope=col>R2</th></tr>\n",
              "\t<tr><th scope=col>&lt;dbl&gt;</th><th scope=col>&lt;dbl&gt;</th></tr>\n",
              "</thead>\n",
              "<tbody>\n",
              "\t<tr><td>9.672629</td><td>0.1152968</td></tr>\n",
              "</tbody>\n",
              "</table>\n"
            ],
            "text/markdown": "\nA tibble: 1 × 2\n\n| RMSE &lt;dbl&gt; | R2 &lt;dbl&gt; |\n|---|---|\n| 9.672629 | 0.1152968 |\n\n",
            "text/latex": "A tibble: 1 × 2\n\\begin{tabular}{ll}\n RMSE & R2\\\\\n <dbl> & <dbl>\\\\\n\\hline\n\t 9.672629 & 0.1152968\\\\\n\\end{tabular}\n",
            "text/plain": [
              "  RMSE     R2       \n",
              "1 9.672629 0.1152968"
            ]
          },
          "metadata": {}
        }
      ]
    },
    {
      "cell_type": "markdown",
      "metadata": {
        "id": "NoUevnUgKm1B"
      },
      "source": [
        "\n",
        "\n",
        "---\n",
        "\n",
        "\n",
        "\n",
        "---\n",
        "\n"
      ]
    },
    {
      "cell_type": "markdown",
      "metadata": {
        "id": "90f08_XEcC3h"
      },
      "source": [
        "## CARET Package: Split-Sample"
      ]
    },
    {
      "cell_type": "markdown",
      "metadata": {
        "id": "xcd3dS_1d3h8"
      },
      "source": [
        "The following code applies the Split-Sample (or Train / Test) cross-validation to our data/model.  The setup of the cross-validation settings are specifed here.\n",
        "\n",
        "*   The <strong>boot</strong> (short for bootstrap) method is specifed for the split-sample approach\n",
        "*   The proportion of observations used in the training set will be $75\\%$\n",
        "*   Only 1 instance of the split-sample process will be done here\n",
        "\n",
        "Next, consider the following implementation for our data/model.\n",
        "\n"
      ]
    },
    {
      "cell_type": "code",
      "metadata": {
        "colab": {
          "base_uri": "https://localhost:8080/",
          "height": 260
        },
        "id": "47EYAvlLSSrt",
        "outputId": "836853b8-f61d-4024-85ce-ef9b8870676c"
      },
      "source": [
        "#Using the caret package to conduct a split-sample cross validation\n",
        "#The cross-validation settings are set with the trainControl() function.\n",
        "#Here, the boot (bootstrap) is being specifed with p=75%, only 1 split-sample will run\n",
        "cv_settings <- trainControl(method = \"boot\", p=0.75, number=1)\n",
        "\n",
        "SplitSampleCV_TeacherTurnoverRate_AvgTeacherSalary <- train(\n",
        "                                                            TeacherTurnoverRate ~ Avg_TeacherSalary,   # model to fit\n",
        "                                                            data = TeacherTurnover_NoNAs,              # data used for the fit     \n",
        "                                                            trControl = cv_settings,                   # settings for cross-validation\n",
        "                                                            method = \"lm\",                             # specifying a regression model\n",
        "                                                            na.action = na.pass                        # helps with NA\n",
        "                                                           )\n",
        "\n",
        "#Print the output\n",
        "SplitSampleCV_TeacherTurnoverRate_AvgTeacherSalary         "
      ],
      "execution_count": 49,
      "outputs": [
        {
          "output_type": "display_data",
          "data": {
            "text/plain": [
              "Linear Regression \n",
              "\n",
              "1053 samples\n",
              "   1 predictor\n",
              "\n",
              "No pre-processing\n",
              "Resampling: Bootstrapped (1 reps) \n",
              "Summary of sample sizes: 1053 \n",
              "Resampling results:\n",
              "\n",
              "  RMSE      Rsquared   MAE     \n",
              "  9.075715  0.1757173  7.067846\n",
              "\n",
              "Tuning parameter 'intercept' was held constant at a value of TRUE"
            ]
          },
          "metadata": {}
        }
      ]
    },
    {
      "cell_type": "markdown",
      "metadata": {
        "id": "IHXv1WJSkthu"
      },
      "source": [
        "## CARET Package: K-Fold"
      ]
    },
    {
      "cell_type": "markdown",
      "metadata": {
        "id": "xK6winMnmpi_"
      },
      "source": [
        "The following snip-it of code can be used to conduct K-Fold cross-validation using the caret package for our data/model.\n",
        "\n",
        "*    cv should be specified as the method for k-fold\n",
        "*    the number of folds is specified via number in the trainControl() function\n"
      ]
    },
    {
      "cell_type": "code",
      "metadata": {
        "colab": {
          "base_uri": "https://localhost:8080/",
          "height": 260
        },
        "id": "kp_STMHVktpl",
        "outputId": "70481bab-28df-4737-f1ab-302b3d7783c8"
      },
      "source": [
        "#Using the caret package to conduct a k-fold cross validation\n",
        "#The cross-validation settings are set with the trainControl() function.\n",
        "#Here, the cv method is being specifed for K-Fold and the number of folds is 8\n",
        "cv_settings <- trainControl(method = \"cv\", number=8)\n",
        "\n",
        "\n",
        "KFold8CV_TeacherTurnoverRate_AvgTeacherSalary <- train(\n",
        "                                                       TeacherTurnoverRate ~ Avg_TeacherSalary,   # model to fit\n",
        "                                                       data = TeacherTurnover_NoNAs,              # data used for the fit     \n",
        "                                                       trControl = cv_settings,                   # settings for cross-validation\n",
        "                                                       method = \"lm\",                             # specifying a regression model\n",
        "                                                       na.action = na.pass                        # helps with NA\n",
        "                                                       )\n",
        "\n",
        "#Print the cross-validation output\n",
        "KFold8CV_TeacherTurnoverRate_AvgTeacherSalary  "
      ],
      "execution_count": 51,
      "outputs": [
        {
          "output_type": "display_data",
          "data": {
            "text/plain": [
              "Linear Regression \n",
              "\n",
              "1053 samples\n",
              "   1 predictor\n",
              "\n",
              "No pre-processing\n",
              "Resampling: Cross-Validated (8 fold) \n",
              "Summary of sample sizes: 921, 921, 922, 922, 920, 922, ... \n",
              "Resampling results:\n",
              "\n",
              "  RMSE      Rsquared   MAE     \n",
              "  9.992914  0.1911317  7.173771\n",
              "\n",
              "Tuning parameter 'intercept' was held constant at a value of TRUE"
            ]
          },
          "metadata": {}
        }
      ]
    },
    {
      "cell_type": "markdown",
      "metadata": {
        "id": "_jhW67mRmwhm"
      },
      "source": [
        "The actual statistics from each fold can be captured from the caret model object as is shown here."
      ]
    },
    {
      "cell_type": "code",
      "metadata": {
        "colab": {
          "base_uri": "https://localhost:8080/",
          "height": 349
        },
        "id": "JaYB6bW-mws2",
        "outputId": "1c90420a-de70-40a7-cd35-dd0ab3e3a39d"
      },
      "source": [
        "KFold_Outcomes <- KFold8CV_TeacherTurnoverRate_AvgTeacherSalary$resample\n",
        "KFold_Outcomes"
      ],
      "execution_count": 52,
      "outputs": [
        {
          "output_type": "display_data",
          "data": {
            "text/html": [
              "<table class=\"dataframe\">\n",
              "<caption>A data.frame: 8 × 4</caption>\n",
              "<thead>\n",
              "\t<tr><th scope=col>RMSE</th><th scope=col>Rsquared</th><th scope=col>MAE</th><th scope=col>Resample</th></tr>\n",
              "\t<tr><th scope=col>&lt;dbl&gt;</th><th scope=col>&lt;dbl&gt;</th><th scope=col>&lt;dbl&gt;</th><th scope=col>&lt;chr&gt;</th></tr>\n",
              "</thead>\n",
              "<tbody>\n",
              "\t<tr><td>12.016288</td><td>0.1292398</td><td>8.295581</td><td>Fold1</td></tr>\n",
              "\t<tr><td> 9.824187</td><td>0.1300179</td><td>6.875942</td><td>Fold2</td></tr>\n",
              "\t<tr><td>10.576803</td><td>0.1146609</td><td>7.993067</td><td>Fold3</td></tr>\n",
              "\t<tr><td>11.710547</td><td>0.2379790</td><td>7.108806</td><td>Fold4</td></tr>\n",
              "\t<tr><td> 9.294620</td><td>0.2134295</td><td>7.206833</td><td>Fold5</td></tr>\n",
              "\t<tr><td> 8.826213</td><td>0.2215548</td><td>6.633618</td><td>Fold6</td></tr>\n",
              "\t<tr><td> 9.436301</td><td>0.2208249</td><td>6.900357</td><td>Fold7</td></tr>\n",
              "\t<tr><td> 8.258355</td><td>0.2613471</td><td>6.375960</td><td>Fold8</td></tr>\n",
              "</tbody>\n",
              "</table>\n"
            ],
            "text/markdown": "\nA data.frame: 8 × 4\n\n| RMSE &lt;dbl&gt; | Rsquared &lt;dbl&gt; | MAE &lt;dbl&gt; | Resample &lt;chr&gt; |\n|---|---|---|---|\n| 12.016288 | 0.1292398 | 8.295581 | Fold1 |\n|  9.824187 | 0.1300179 | 6.875942 | Fold2 |\n| 10.576803 | 0.1146609 | 7.993067 | Fold3 |\n| 11.710547 | 0.2379790 | 7.108806 | Fold4 |\n|  9.294620 | 0.2134295 | 7.206833 | Fold5 |\n|  8.826213 | 0.2215548 | 6.633618 | Fold6 |\n|  9.436301 | 0.2208249 | 6.900357 | Fold7 |\n|  8.258355 | 0.2613471 | 6.375960 | Fold8 |\n\n",
            "text/latex": "A data.frame: 8 × 4\n\\begin{tabular}{llll}\n RMSE & Rsquared & MAE & Resample\\\\\n <dbl> & <dbl> & <dbl> & <chr>\\\\\n\\hline\n\t 12.016288 & 0.1292398 & 8.295581 & Fold1\\\\\n\t  9.824187 & 0.1300179 & 6.875942 & Fold2\\\\\n\t 10.576803 & 0.1146609 & 7.993067 & Fold3\\\\\n\t 11.710547 & 0.2379790 & 7.108806 & Fold4\\\\\n\t  9.294620 & 0.2134295 & 7.206833 & Fold5\\\\\n\t  8.826213 & 0.2215548 & 6.633618 & Fold6\\\\\n\t  9.436301 & 0.2208249 & 6.900357 & Fold7\\\\\n\t  8.258355 & 0.2613471 & 6.375960 & Fold8\\\\\n\\end{tabular}\n",
            "text/plain": [
              "  RMSE      Rsquared  MAE      Resample\n",
              "1 12.016288 0.1292398 8.295581 Fold1   \n",
              "2  9.824187 0.1300179 6.875942 Fold2   \n",
              "3 10.576803 0.1146609 7.993067 Fold3   \n",
              "4 11.710547 0.2379790 7.108806 Fold4   \n",
              "5  9.294620 0.2134295 7.206833 Fold5   \n",
              "6  8.826213 0.2215548 6.633618 Fold6   \n",
              "7  9.436301 0.2208249 6.900357 Fold7   \n",
              "8  8.258355 0.2613471 6.375960 Fold8   "
            ]
          },
          "metadata": {}
        }
      ]
    },
    {
      "cell_type": "markdown",
      "metadata": {
        "id": "Mr9Sl0vjn0wV"
      },
      "source": [
        "In order to plot these statistics easily, the data.frame will be put into a stacked format."
      ]
    },
    {
      "cell_type": "code",
      "metadata": {
        "colab": {
          "base_uri": "https://localhost:8080/",
          "height": 286
        },
        "id": "Pk9LQAZvn03l",
        "outputId": "e697ad86-2cfc-4410-8202-42c18e4a4eb3"
      },
      "source": [
        "(KFold_Outcomes \n",
        "   %>% pivot_longer(c(RMSE, Rsquared, MAE), names_to = \"Statistic\", values_to = \"Value\")\n",
        ") -> KFold_Outcomes_Stacked\n",
        "\n",
        "head(KFold_Outcomes_Stacked)"
      ],
      "execution_count": 59,
      "outputs": [
        {
          "output_type": "display_data",
          "data": {
            "text/html": [
              "<table class=\"dataframe\">\n",
              "<caption>A tibble: 6 × 3</caption>\n",
              "<thead>\n",
              "\t<tr><th scope=col>Resample</th><th scope=col>Statistic</th><th scope=col>Value</th></tr>\n",
              "\t<tr><th scope=col>&lt;chr&gt;</th><th scope=col>&lt;chr&gt;</th><th scope=col>&lt;dbl&gt;</th></tr>\n",
              "</thead>\n",
              "<tbody>\n",
              "\t<tr><td>Fold1</td><td>RMSE    </td><td>12.0162883</td></tr>\n",
              "\t<tr><td>Fold1</td><td>Rsquared</td><td> 0.1292398</td></tr>\n",
              "\t<tr><td>Fold1</td><td>MAE     </td><td> 8.2955810</td></tr>\n",
              "\t<tr><td>Fold2</td><td>RMSE    </td><td> 9.8241871</td></tr>\n",
              "\t<tr><td>Fold2</td><td>Rsquared</td><td> 0.1300179</td></tr>\n",
              "\t<tr><td>Fold2</td><td>MAE     </td><td> 6.8759419</td></tr>\n",
              "</tbody>\n",
              "</table>\n"
            ],
            "text/markdown": "\nA tibble: 6 × 3\n\n| Resample &lt;chr&gt; | Statistic &lt;chr&gt; | Value &lt;dbl&gt; |\n|---|---|---|\n| Fold1 | RMSE     | 12.0162883 |\n| Fold1 | Rsquared |  0.1292398 |\n| Fold1 | MAE      |  8.2955810 |\n| Fold2 | RMSE     |  9.8241871 |\n| Fold2 | Rsquared |  0.1300179 |\n| Fold2 | MAE      |  6.8759419 |\n\n",
            "text/latex": "A tibble: 6 × 3\n\\begin{tabular}{lll}\n Resample & Statistic & Value\\\\\n <chr> & <chr> & <dbl>\\\\\n\\hline\n\t Fold1 & RMSE     & 12.0162883\\\\\n\t Fold1 & Rsquared &  0.1292398\\\\\n\t Fold1 & MAE      &  8.2955810\\\\\n\t Fold2 & RMSE     &  9.8241871\\\\\n\t Fold2 & Rsquared &  0.1300179\\\\\n\t Fold2 & MAE      &  6.8759419\\\\\n\\end{tabular}\n",
            "text/plain": [
              "  Resample Statistic Value     \n",
              "1 Fold1    RMSE      12.0162883\n",
              "2 Fold1    Rsquared   0.1292398\n",
              "3 Fold1    MAE        8.2955810\n",
              "4 Fold2    RMSE       9.8241871\n",
              "5 Fold2    Rsquared   0.1300179\n",
              "6 Fold2    MAE        6.8759419"
            ]
          },
          "metadata": {}
        }
      ]
    },
    {
      "cell_type": "markdown",
      "source": [
        "Next, getting the mean and range for each statistic across the 8 folds."
      ],
      "metadata": {
        "id": "u-PuD_UoyIJr"
      }
    },
    {
      "cell_type": "code",
      "metadata": {
        "colab": {
          "base_uri": "https://localhost:8080/",
          "height": 192
        },
        "id": "tBiqgwXBqgzB",
        "outputId": "d90a2651-9afa-4535-c31a-36d82ef787fa"
      },
      "source": [
        "(KFold_Outcomes_Stacked\n",
        "  %>% group_by(Statistic)\n",
        "  %>% summarize(Mean = mean(Value), Range = max(Value) - min(Value))\n",
        ")"
      ],
      "execution_count": 60,
      "outputs": [
        {
          "output_type": "display_data",
          "data": {
            "text/html": [
              "<table class=\"dataframe\">\n",
              "<caption>A tibble: 3 × 3</caption>\n",
              "<thead>\n",
              "\t<tr><th scope=col>Statistic</th><th scope=col>Mean</th><th scope=col>Range</th></tr>\n",
              "\t<tr><th scope=col>&lt;chr&gt;</th><th scope=col>&lt;dbl&gt;</th><th scope=col>&lt;dbl&gt;</th></tr>\n",
              "</thead>\n",
              "<tbody>\n",
              "\t<tr><td>MAE     </td><td>7.1737705</td><td>1.9196206</td></tr>\n",
              "\t<tr><td>RMSE    </td><td>9.9929145</td><td>3.7579335</td></tr>\n",
              "\t<tr><td>Rsquared</td><td>0.1911317</td><td>0.1466861</td></tr>\n",
              "</tbody>\n",
              "</table>\n"
            ],
            "text/markdown": "\nA tibble: 3 × 3\n\n| Statistic &lt;chr&gt; | Mean &lt;dbl&gt; | Range &lt;dbl&gt; |\n|---|---|---|\n| MAE      | 7.1737705 | 1.9196206 |\n| RMSE     | 9.9929145 | 3.7579335 |\n| Rsquared | 0.1911317 | 0.1466861 |\n\n",
            "text/latex": "A tibble: 3 × 3\n\\begin{tabular}{lll}\n Statistic & Mean & Range\\\\\n <chr> & <dbl> & <dbl>\\\\\n\\hline\n\t MAE      & 7.1737705 & 1.9196206\\\\\n\t RMSE     & 9.9929145 & 3.7579335\\\\\n\t Rsquared & 0.1911317 & 0.1466861\\\\\n\\end{tabular}\n",
            "text/plain": [
              "  Statistic Mean      Range    \n",
              "1 MAE       7.1737705 1.9196206\n",
              "2 RMSE      9.9929145 3.7579335\n",
              "3 Rsquared  0.1911317 0.1466861"
            ]
          },
          "metadata": {}
        }
      ]
    },
    {
      "cell_type": "markdown",
      "source": [
        "Creating a simple dotplot of the summary measures from each of the 8 folds."
      ],
      "metadata": {
        "id": "gW2AKBAWyUWq"
      }
    },
    {
      "cell_type": "code",
      "metadata": {
        "colab": {
          "base_uri": "https://localhost:8080/",
          "height": 472
        },
        "id": "8TPBhYd2nNZn",
        "outputId": "d20736cd-edea-4df1-ab6c-427f583bc665"
      },
      "source": [
        "ggplot(KFold_Outcomes_Stacked, aes(x=Value)) +\n",
        " geom_dotplot() +\n",
        " facet_grid(. ~ Statistic, scales = \"free_x\") "
      ],
      "execution_count": 61,
      "outputs": [
        {
          "output_type": "stream",
          "name": "stderr",
          "text": [
            "Bin width defaults to 1/30 of the range of the data. Pick better value with `binwidth`.\n",
            "\n"
          ]
        },
        {
          "output_type": "display_data",
          "data": {
            "text/plain": [
              "plot without title"
            ],
            "image/png": "[encoded data removed]"
          },
          "metadata": {
            "image/png": {
              "width": 420,
              "height": 420
            }
          }
        }
      ]
    },
    {
      "cell_type": "markdown",
      "metadata": {
        "id": "wZ67bt21uxMa"
      },
      "source": [
        "\n",
        "\n",
        "---\n",
        "\n",
        "\n",
        "\n",
        "---\n",
        "\n"
      ]
    },
    {
      "cell_type": "markdown",
      "metadata": {
        "id": "tMSM0q8RuzVS"
      },
      "source": [
        "## CARET Package: Repeated Split-Sample"
      ]
    },
    {
      "cell_type": "markdown",
      "source": [
        "Here, a *repeated* Split-Sample (or Test/Train) method is used for cross-validaiton."
      ],
      "metadata": {
        "id": "YkiGeIVfzB1R"
      }
    },
    {
      "cell_type": "code",
      "metadata": {
        "colab": {
          "base_uri": "https://localhost:8080/",
          "height": 260
        },
        "id": "Ke7wAzkQuxSr",
        "outputId": "6668dd70-69b5-480a-a1a0-44c08f9113db"
      },
      "source": [
        "#Using the caret package to conduct monte carlo cross validation\n",
        "#Here, the boot (bootstrap) is being specifed with p=75%, 100 repeated splits will be done\n",
        "cv_settings <- trainControl(method = \"boot\", p=0.75, number=500)\n",
        "\n",
        "SplitSampleRepeatedCV_TeacherTurnoverRate_AvgTeacherSalary <- train(\n",
        "                                                                    TeacherTurnoverRate ~ Avg_TeacherSalary,   # model to fit\n",
        "                                                                    data = TeacherTurnover_NoNAs,              # data used for the fit     \n",
        "                                                                    trControl = cv_settings,                   # settings for cross-validation\n",
        "                                                                    method = \"lm\",                             # specifying a regression model\n",
        "                                                                    na.action = na.pass                        # helps with NA\n",
        "                                                                    )\n",
        "\n",
        "#Print the output\n",
        "SplitSampleRepeatedCV_TeacherTurnoverRate_AvgTeacherSalary  "
      ],
      "execution_count": 57,
      "outputs": [
        {
          "output_type": "display_data",
          "data": {
            "text/plain": [
              "Linear Regression \n",
              "\n",
              "1053 samples\n",
              "   1 predictor\n",
              "\n",
              "No pre-processing\n",
              "Resampling: Bootstrapped (500 reps) \n",
              "Summary of sample sizes: 1053, 1053, 1053, 1053, 1053, 1053, ... \n",
              "Resampling results:\n",
              "\n",
              "  RMSE      Rsquared  MAE     \n",
              "  10.03945  0.186057  7.175192\n",
              "\n",
              "Tuning parameter 'intercept' was held constant at a value of TRUE"
            ]
          },
          "metadata": {}
        }
      ]
    },
    {
      "cell_type": "markdown",
      "metadata": {
        "id": "tRIielF-vWU0"
      },
      "source": [
        "Getting some summaries from the b=500 repeated split-sample cross-validation outcomes."
      ]
    },
    {
      "cell_type": "code",
      "metadata": {
        "colab": {
          "base_uri": "https://localhost:8080/",
          "height": 647
        },
        "id": "dGkEP8zvvWb7",
        "outputId": "088def10-0626-46fc-9cb8-24cb0ba45b12"
      },
      "source": [
        "#Save the resample outcomes\n",
        "SplitSampleRepeated_Outcomes <- SplitSampleRepeatedCV_TeacherTurnoverRate_AvgTeacherSalary$resample\n",
        "\n",
        "#Stack the outcome for easier summaries / plotting\n",
        "(SplitSampleRepeated_Outcomes \n",
        "    %>% pivot_longer(c(RMSE, Rsquared, MAE), names_to = \"Statistic\", values_to = \"Value\")\n",
        ") -> SplitSampleRepeated_Outcomes_Stacked\n",
        "\n",
        "#Getting some basic summaries\n",
        "(SplitSampleRepeated_Outcomes_Stacked\n",
        "  %>% group_by(Statistic)\n",
        "  %>% summarize(Mean = mean(Value), Range = max(Value) - min(Value), Count = n())\n",
        ")\n",
        "\n",
        "#Creating some simple dotplots of the outcomes\n",
        "ggplot(SplitSampleRepeated_Outcomes_Stacked, aes(x=Value)) +\n",
        " geom_dotplot() +\n",
        " facet_grid(. ~ Statistic, scales = \"free_x\") "
      ],
      "execution_count": 58,
      "outputs": [
        {
          "output_type": "display_data",
          "data": {
            "text/html": [
              "<table class=\"dataframe\">\n",
              "<caption>A tibble: 3 × 4</caption>\n",
              "<thead>\n",
              "\t<tr><th scope=col>Statistic</th><th scope=col>Mean</th><th scope=col>Range</th><th scope=col>Count</th></tr>\n",
              "\t<tr><th scope=col>&lt;chr&gt;</th><th scope=col>&lt;dbl&gt;</th><th scope=col>&lt;dbl&gt;</th><th scope=col>&lt;int&gt;</th></tr>\n",
              "</thead>\n",
              "<tbody>\n",
              "\t<tr><td>MAE     </td><td> 7.175192</td><td>1.6253292</td><td>500</td></tr>\n",
              "\t<tr><td>RMSE    </td><td>10.039450</td><td>3.0842623</td><td>500</td></tr>\n",
              "\t<tr><td>Rsquared</td><td> 0.186057</td><td>0.1819452</td><td>500</td></tr>\n",
              "</tbody>\n",
              "</table>\n"
            ],
            "text/markdown": "\nA tibble: 3 × 4\n\n| Statistic &lt;chr&gt; | Mean &lt;dbl&gt; | Range &lt;dbl&gt; | Count &lt;int&gt; |\n|---|---|---|---|\n| MAE      |  7.175192 | 1.6253292 | 500 |\n| RMSE     | 10.039450 | 3.0842623 | 500 |\n| Rsquared |  0.186057 | 0.1819452 | 500 |\n\n",
            "text/latex": "A tibble: 3 × 4\n\\begin{tabular}{llll}\n Statistic & Mean & Range & Count\\\\\n <chr> & <dbl> & <dbl> & <int>\\\\\n\\hline\n\t MAE      &  7.175192 & 1.6253292 & 500\\\\\n\t RMSE     & 10.039450 & 3.0842623 & 500\\\\\n\t Rsquared &  0.186057 & 0.1819452 & 500\\\\\n\\end{tabular}\n",
            "text/plain": [
              "  Statistic Mean      Range     Count\n",
              "1 MAE        7.175192 1.6253292 500  \n",
              "2 RMSE      10.039450 3.0842623 500  \n",
              "3 Rsquared   0.186057 0.1819452 500  "
            ]
          },
          "metadata": {}
        },
        {
          "output_type": "stream",
          "name": "stderr",
          "text": [
            "Bin width defaults to 1/30 of the range of the data. Pick better value with `binwidth`.\n",
            "\n"
          ]
        },
        {
          "output_type": "display_data",
          "data": {
            "text/plain": [
              "plot without title"
            ],
            "image/png": "[encoded data removed]"
          },
          "metadata": {
            "image/png": {
              "width": 420,
              "height": 420
            }
          }
        }
      ]
    },
    {
      "cell_type": "markdown",
      "source": [
        "## Task"
      ],
      "metadata": {
        "id": "3fghZMyG08PK"
      }
    },
    {
      "cell_type": "markdown",
      "source": [
        "Above, the various cross-validation methods have been applied to the model $TeacherTurnoverRate \\sim Avg\\_TeacherSalary$.  \n",
        "\n",
        "\n"
      ],
      "metadata": {
        "id": "q-G-kiYF08iJ"
      }
    },
    {
      "cell_type": "markdown",
      "source": [
        "1.  Pick a second model from above and apply the $K-Fold$ and $Monte \\space Carlo$ cross-validation methods to your choosen model. How well does your model cross-validate?  Briefly discuss."
      ],
      "metadata": {
        "id": "4LADcdas1eLD"
      }
    },
    {
      "cell_type": "markdown",
      "source": [
        "2.   There is another cross-validation method called *repeated* $K-Fold$. How would you suppose this methods works?  How would the cross-validated $RMSE$ statistic be computed with this method?  Discuss."
      ],
      "metadata": {
        "id": "U14QT4B81ztA"
      }
    },
    {
      "cell_type": "markdown",
      "source": [
        "3.   Figure out how to get the caret() package to run the *repeated* $K-Fold$ cross-validation method on the same model from Task #1.  How does the $RMSE$ from a single iteration of $K-Fold$ compare to the $RMSE$ the a repeated $K-Fold$?  Briefly discuss."
      ],
      "metadata": {
        "id": "gH-6PVyl2Uxw"
      }
    },
    {
      "cell_type": "markdown",
      "metadata": {
        "id": "9kkg1lL30Rfw"
      },
      "source": [
        "\n",
        "\n",
        "---\n",
        "\n",
        "\n",
        "\n",
        "---\n",
        "\n",
        "\n",
        "End of Document"
      ]
    }
  ]
}