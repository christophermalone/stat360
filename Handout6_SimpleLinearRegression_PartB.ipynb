{
  "nbformat": 4,
  "nbformat_minor": 0,
  "metadata": {
    "colab": {
      "provenance": [],
      "collapsed_sections": [],
      "authorship_tag": "ABX9TyM1HFAP+yFgchQ7w0D3y06p",
      "include_colab_link": true
    },
    "kernelspec": {
      "name": "ir",
      "display_name": "R"
    }
  },
  "cells": [
    {
      "cell_type": "markdown",
      "metadata": {
        "id": "view-in-github",
        "colab_type": "text"
      },
      "source": [
        "<a href=\"https://colab.research.google.com/github/christophermalone/stat360/blob/main/Handout6_SimpleLinearRegression_PartB.ipynb\" target=\"_parent\"><img src=\"https://colab.research.google.com/assets/colab-badge.svg\" alt=\"Open In Colab\"/></a>"
      ]
    },
    {
      "cell_type": "markdown",
      "metadata": {
        "id": "KhClO9b02SXA"
      },
      "source": [
        "# Handout #6 - Part B : Understanding a Standard Error"
      ]
    },
    {
      "cell_type": "markdown",
      "metadata": {
        "id": "AXDYLbzK2o7e"
      },
      "source": [
        "<table width='100%' ><tr><td bgcolor='green'></td></tr></table>\n",
        "\n",
        "## Example 6.1\n",
        "\n",
        "Consider data on the home prices of homes in La Crosse and Winona.  This data was collected using Redfin website. \n",
        "<table>\n",
        "  <tr>\n",
        "    <td width='50%'>\n",
        "      <ul>\n",
        "        <li><strong>Response Variable</strong>: PRICE ($) </li><br>\n",
        "        <li>Variables under investigation (i.e. independent variables)</li>\n",
        "        <ul>\n",
        "          <li>SQUAREFEET, the size of the home (ft^2)</li>\n",
        "          <li>BEDS, number of bedrooms in home</li>\n",
        "          <li>BATHS, number of bathrooms in home</li>\n",
        "          <li>LOTSIZE, the size of the lot (ft^2)</li>\n",
        "          <li>YEARBUILT, the year in which the home was built</li>\n",
        "         </ul>\n",
        "    </ul>\n",
        "    </td>\n",
        "    <td width='50%'>\n",
        "<p align='center'><img src=\"https://drive.google.com/uc?export=view&id=1KiZ5CvmWwvDg4HSPX7FwRsQTUMtvv0gG\" width='50%' height='50%'></img></p>\n",
        "  </td>\n",
        "</tr>\n",
        "</table>\n",
        "\n",
        "Data Folder: [OneDrive](https://mnscu-my.sharepoint.com/:f:/g/personal/aq7839yd_minnstate_edu/EmOQfrwxzzRBqq8PH_8qTmMBy-1qKgM11Hb8vzjs025EEA?e=wyShYs)\n",
        "\n",
        "Redfin Data: <a href=\"https://www.redfin.com/city/10404/WI/La-Crosse\">La Crosse WI</a> | <a href=\"https://www.redfin.com/city/18151/MN/Winona\">Winona MN</a></li>\n",
        "\n",
        "<table width='100%' ><tr><td bgcolor='green'></td></tr></table>\n",
        "\n"
      ]
    },
    {
      "cell_type": "markdown",
      "metadata": {
        "id": "njXGRUIC9Lgs"
      },
      "source": [
        "## Load Data into R via URL"
      ]
    },
    {
      "cell_type": "markdown",
      "source": [
        "The tidyverse R package will be used to assist with reading in the dataset into the current R session."
      ],
      "metadata": {
        "id": "atyKkkUuKQkD"
      }
    },
    {
      "cell_type": "code",
      "metadata": {
        "id": "LgaibuX_DtWK"
      },
      "source": [
        "#load tidyverse package\n",
        "library(tidyverse)"
      ],
      "execution_count": 34,
      "outputs": []
    },
    {
      "cell_type": "markdown",
      "metadata": {
        "id": "DPqIPen9D5T3"
      },
      "source": [
        "The **read_csv()** function is used to read in the dataset. "
      ]
    },
    {
      "cell_type": "code",
      "metadata": {
        "id": "e07lUbQ1F1cV"
      },
      "source": [
        "# Reading data in using read.csv via Base \n",
        "LaCrosseWinonaHomePrices <- read_csv(\"http://www.StatsClass.org/stat360/Datasets/LaCrosse_Winona_Redfin.csv\")"
      ],
      "execution_count": null,
      "outputs": []
    },
    {
      "cell_type": "code",
      "metadata": {
        "id": "HYKWH2i0EN6s"
      },
      "source": [
        "# quick look at the data\n",
        "head(LaCrosseWinonaHomePrices)"
      ],
      "execution_count": null,
      "outputs": []
    },
    {
      "cell_type": "markdown",
      "source": [
        "##  Importance of Understanding Variation"
      ],
      "metadata": {
        "id": "mfp7HPTMK376"
      }
    },
    {
      "cell_type": "markdown",
      "source": [
        "An important component of many statistical investigations is **inferential methods**.  Inferential methods permit us to draw conclusions about a population based on a sample.   Consider the following depections where interest lies in Home Prices. "
      ],
      "metadata": {
        "id": "wVERkQyqrImS"
      }
    },
    {
      "cell_type": "markdown",
      "source": [
        "<table border=\"0\" align=\"center\">\n",
        "<tr>\n",
        "  <td width=\"50%\" align=\"center\" valign=\"bottom\" bgcolor=\"white\"><font size=\"+2\">Population Side</font><br>True Home Price - All Homes<br><img src=\"https://drive.google.com/uc?export=view&id=1A08uXuaBX1rz3L3fNJ4VIOMEKF2idk_4\"></img>\n",
        "  </td>\n",
        "  <td width=\"50%\" align=\"center\" valign=\"bottom\" bgcolor=\"white\"><font size=\"+2\">Sample Side</font><br>An Estimate of the Home Price<br><img src=\"https://drive.google.com/uc?export=view&id=1L3_bHMKy3cuiRjNvuqpAuojhLhAKs0-C\"></img>\n",
        "  </td>\n",
        "</table>"
      ],
      "metadata": {
        "id": "4btdN9zXpv0A"
      }
    },
    {
      "cell_type": "markdown",
      "source": [
        "The goal is to use information from the Sample side to draw inferences about the Population side.  An inherent problem in doing this is that the information on the sample side varies from sample-to-sample.  Thus, an understanding of the inherent variation from sample-to-sample is essential to inferential methods. "
      ],
      "metadata": {
        "id": "V2hGTu7xulcT"
      }
    },
    {
      "cell_type": "markdown",
      "source": [
        "<table border=\"0\" align=\"center\">\n",
        "<tr>\n",
        "  <td align=\"center\" valign=\"center\" bgcolor=\"white\"><font size=\"+2\">Outcomes Vary Over Repeated Samples</font><br><br><br><br><img src=\"https://drive.google.com/uc?export=view&id=1Qs2nM_QTh_wezJX6_X8hrh0WqPl8-XNg\" width=\"50%\" height=\"50%\"></img>\n",
        "  </td>\n",
        "</table>"
      ],
      "metadata": {
        "id": "TSMtBUfyq3qK"
      }
    },
    {
      "cell_type": "markdown",
      "source": [
        "The inherent variation from sample-to-sample can be measured in two ways.\n",
        "1.   Inherent variation can be determined via statistical theory\n",
        "2.   Inherent variation can be determined via simulation (bootstrap)  "
      ],
      "metadata": {
        "id": "VIuyDBdzvGXx"
      }
    },
    {
      "cell_type": "markdown",
      "source": [
        "#### Inherent Variation in the Mean via Statistical Theory"
      ],
      "metadata": {
        "id": "MWpvys4SwHiV"
      }
    },
    {
      "cell_type": "markdown",
      "source": [
        "The Central Limit Theorem states the following:\n",
        "\n",
        ">   If a random variable, say $Y$, follows a normal distribution with $Mean = \\mu$ and $Variance = \\sigma^2$, which is often expressed as $Y \\sim N(\\mu, \\sigma^2)$\n",
        "\n",
        ">  then the distribution of the average $Y$, say $\\bar{Y}$, is known to:\n",
        "1.  Follow a normal distribution\n",
        "2.  Have the same mean, so $E(\\bar{Y}) = \\mu$, and \n",
        "3.  Have a reduced variance equal to $Var(\\bar{Y}) = \\frac{\\sigma^2}{n}$"
      ],
      "metadata": {
        "id": "9kRFI7jZwNT7"
      }
    },
    {
      "cell_type": "markdown",
      "source": [
        "<u>Comments</u>:\n",
        "\n",
        "*    In shorthand notation, if $Y \\sim N(\\mu, \\sigma^2)$, then $\\bar{Y} \\sim N(\\mu, \\frac{\\sigma^2}{n})$\n",
        "*    Normality of $Y$ is a necessary condition for the distribution of $\\bar{Y}$ to follow a normal distribution; however, when the normality condition of $Y$ is relaxed, the distribution of $\\bar{Y}$ is at least *approximately* normal\n",
        "*    The **standard error** is the standard deviation in the distribution of $\\bar{Y}$; thus, the standard error for an average is \n",
        "\n",
        "$$\\begin{array}{rcl}\n",
        "\\mbox{Standard Error of } \\bar{Y} & = & \\sqrt{Var(\\bar{Y})} \\\\\n",
        "& = & \\sqrt{\\frac{\\sigma^2}{n}} \\\\ \n",
        "& = & \\frac{\\sigma}{\\sqrt{n}}\n",
        "\\end{array}\n",
        "$$\n"
      ],
      "metadata": {
        "id": "YWSjsN3byTp2"
      }
    },
    {
      "cell_type": "markdown",
      "source": [
        "The following code snipit will compute the relavent quantites for the distribution of $\\overline{PRICE}$."
      ],
      "metadata": {
        "id": "1LoA1oHQ0ugh"
      }
    },
    {
      "cell_type": "code",
      "source": [
        "(LaCrosseWinonaHomePrices\n",
        "  %>% summarize(\n",
        "                 Mean = mean(PRICE),\n",
        "                 Var = var(PRICE),\n",
        "                 StdDev = sd(PRICE),\n",
        "                 Count = n(),\n",
        "                 StdError = sd(PRICE)/sqrt(n())\n",
        "  )\n",
        ")"
      ],
      "metadata": {
        "id": "-Yh1rVBD0unm"
      },
      "execution_count": null,
      "outputs": []
    },
    {
      "cell_type": "markdown",
      "source": [
        "#### Inherent Variation in the Mean via Simulation"
      ],
      "metadata": {
        "id": "dIS631ME2smh"
      }
    },
    {
      "cell_type": "markdown",
      "source": [
        "Efron (1979) developed the **bootstrap** which a simulation-based technique that allows for the investigation of the sampling distribution of almost any statistic using random sampling methods.  When using the bootstrap approach, the original sample is considered a pseudo population.  A random sample is taken with replacement from the original sample. The statistic of interest is computed using this random ssample and its value is retained.  This process is repeated a total of $b \\space times$.\n",
        "\n",
        "Wiki Bootstrap: https://en.wikipedia.org/wiki/Bootstrapping_(statistics)"
      ],
      "metadata": {
        "id": "kBkMHJBgexFJ"
      }
    },
    {
      "cell_type": "markdown",
      "source": [
        "Step 1: Take a random sample (with replacement) from the original sample.  Compute the statistic of interest and retain its value.\n",
        "\n",
        "<table border=\"0\" align=\"center\">\n",
        "<tr>\n",
        "  <td align=\"center\" valign=\"center\" bgcolor=\"white\"><img src=\"https://drive.google.com/uc?export=view&id=1giLIQDYoEOpyjFg5FdPOhRmEDZ7XpuYr\"></img>\n",
        "  </td>\n",
        "</table>"
      ],
      "metadata": {
        "id": "B3HNX-NC_scX"
      }
    },
    {
      "cell_type": "markdown",
      "source": [
        "Step 2:  Take another random sample (with replacement) from the original sample.  Compute the statistic of interest and retain its value.\n",
        "<table border=\"0\" align=\"center\">\n",
        "<tr>\n",
        "  <td align=\"center\" valign=\"center\" bgcolor=\"white\"><img src=\"https://drive.google.com/uc?export=view&id=1MzAkLX9U6Ww0dgcZWsVRyrFeRWPPG4CE\"></img>\n",
        "  </td>\n",
        "</table>"
      ],
      "metadata": {
        "id": "xTN8SXez_8o3"
      }
    },
    {
      "cell_type": "markdown",
      "source": [
        "Step 3:  Repeat Step 2 a total of $b = 100 \\space times$.\n",
        "\n",
        "<table border=\"0\" align=\"center\">\n",
        "<tr>\n",
        "  <td align=\"center\" valign=\"center\" bgcolor=\"white\"><img src=\"https://drive.google.com/uc?export=view&id=14DfVwckWsNoCv4phm-NPR2AQAtTWzLwW\"></img>\n",
        "  </td>\n",
        "</table>"
      ],
      "metadata": {
        "id": "IID4AUJ7_86I"
      }
    },
    {
      "cell_type": "code",
      "source": [
        "#@title Plot of the Original Data\n",
        "# Rug Plot of Original Data\n",
        "ggplot(data=LaCrosseWinonaHomePrices, aes(x=PRICE)) + \n",
        "  geom_rug() + \n",
        "  xlim(0,600000) +\n",
        "  ggtitle(\"Plot of Original Data\") + \n",
        "  xlab(\"Home Price\")+\n",
        "  theme_classic()"
      ],
      "metadata": {
        "id": "UpjhB9hT2swb",
        "cellView": "form"
      },
      "execution_count": null,
      "outputs": []
    },
    {
      "cell_type": "code",
      "source": [
        "#@title Plot of Single Resample\n",
        "#Get a single resample and put the outcomes into a data.frame\n",
        "Resample = sample(LaCrosseWinonaHomePrices$PRICE,size=length(LaCrosseWinonaHomePrices$PRICE),replace=TRUE)\n",
        "HomePrice_Resample <- data.frame(Resample)\n",
        "\n",
        "#Create a plot of the single resample\n",
        "ggplot(data=HomePrice_Resample, aes(x=Resample)) + \n",
        "  geom_rug() + \n",
        "  xlim(0,600000) +\n",
        "  ggtitle(\"Plot of Single Resample of Original Data\") + \n",
        "  xlab(\"Home Price - Resample\") + \n",
        "  theme_classic()\n",
        "\n",
        "#Create a plot of the single resample\n",
        "ggplot(data=(HomePrice_Resample %>% summarize(MeanResample = mean(Resample))), aes(x=MeanResample)) + \n",
        "  geom_rug() + \n",
        "  xlim(0,600000) +\n",
        "  ggtitle(\"Plot of the Mean from the Resample Data\") + \n",
        "  xlab(\"\") + \n",
        "  theme_classic()\n"
      ],
      "metadata": {
        "id": "VVOEYpiE3IIs",
        "cellView": "form"
      },
      "execution_count": null,
      "outputs": []
    },
    {
      "cell_type": "markdown",
      "source": [
        "The following is a custom function that I wrote that will allow us to bootstratp the average."
      ],
      "metadata": {
        "id": "QH1DRLpOA0me"
      }
    },
    {
      "cell_type": "code",
      "source": [
        "#@title Custom Bootstrap Average Function\n",
        "# Custom function to bootstrap the mean\n",
        "BootMean=function(y, b=100, plotit = FALSE){\n",
        "  #Inputs\n",
        "   #  y: the vector for which the bootstrap will be applied to\n",
        "   #  b: number of bootstrap iterations\n",
        "   #  plotit:  logical for plotting bootstrap outcomes\n",
        "  #Outputs\n",
        "   #  Outcomes_DF: data.frame containing the bootstrap mean from each iteration\n",
        "   #  If plotit = TRUE: rug plot of bootstrap distribution\n",
        "\n",
        "\n",
        "   output.vec=rep(0,b)\n",
        "   for(i in 1:b){\n",
        "      ystar=sample(y,size=length(y),replace=TRUE)\n",
        "      output.vec[i]=mean(ystar)\n",
        "   }\n",
        "   Outcomes_DF <- data.frame(Outcomes = output.vec)\n",
        "\n",
        "   if(plotit == TRUE){\n",
        "     myplot <- ggplot(data=Outcomes_DF, aes(x=Outcomes)) + \n",
        "               geom_rug() + \n",
        "               xlab(\"Outcomes\") +\n",
        "               theme_classic()\n",
        "    print(myplot)\n",
        "   }\n",
        "   return(Outcomes_DF)\n",
        "}\n"
      ],
      "metadata": {
        "id": "RMpw5a06A0td",
        "cellView": "form"
      },
      "execution_count": 65,
      "outputs": []
    },
    {
      "cell_type": "markdown",
      "source": [
        "The following code snipit will use the **BootMean()** custom function to bootstrap the average PRICE.  A total of $b=20$ repeated bootstrap outcomes will be obtained. "
      ],
      "metadata": {
        "id": "IKWTZJPIA-LW"
      }
    },
    {
      "cell_type": "code",
      "source": [
        "#Use the BootMean() function to obtain 20 repeated bootstrap outcomes\n",
        "# plotit = TRUE will plot the bootstrap outcomes\n",
        "Mean_RepeatedSampling <- BootMean(LaCrosseWinonaHomePrices$PRICE, b=20, plotit=TRUE)"
      ],
      "metadata": {
        "id": "vjjCA7FAA-Rd"
      },
      "execution_count": null,
      "outputs": []
    },
    {
      "cell_type": "markdown",
      "source": [
        "Next, the outcomes from the bootstrap distribution are plotted.  An empirical density smoother is added to the histogram.  In addition, a normal curve is included (green) for reference."
      ],
      "metadata": {
        "id": "-6Wz60S1Bcge"
      }
    },
    {
      "cell_type": "code",
      "source": [
        "#Plotting the bootstrap resampling distribution for the average price\n",
        "ggplot(data=Mean_RepeatedSampling, aes(x=Outcomes)) + \n",
        "  geom_rug() + \n",
        "  geom_density(adjust=2) +\n",
        "  stat_function(fun = dnorm, args = list(mean = mean(LaCrosseWinonaHomePrices$PRICE), sd = (sd(LaCrosseWinonaHomePrices$PRICE)/sqrt(length(LaCrosseWinonaHomePrices$PRICE)))), color=\"darkgreen\") + \n",
        "  xlim(0,600000) +\n",
        "  #xlim(225000,350000) +\n",
        "  ggtitle(\"Bootstrap Distribution of the Sample Mean\") + \n",
        "  xlab(\"Mean PRICE\") + \n",
        "  theme_classic()\n"
      ],
      "metadata": {
        "id": "uPZTmADmBco2"
      },
      "execution_count": null,
      "outputs": []
    },
    {
      "cell_type": "markdown",
      "source": [
        "The **standard error** of a statistic can be estimated by computing the standard deviation of the bootstrap distribution. The following code computes an estimate of the standard error using the bootstrap distribution. "
      ],
      "metadata": {
        "id": "_J7TQIbAClbK"
      }
    },
    {
      "cell_type": "code",
      "source": [
        "cat(\"\\nBootstrap Standard Error Estimate:\\n\\n\")\n",
        "(Mean_RepeatedSampling\n",
        "  %>% summarize(\n",
        "                 StdError = sd(Outcomes)\n",
        "  )\n",
        ")"
      ],
      "metadata": {
        "id": "TC_i63GjCliq"
      },
      "execution_count": null,
      "outputs": []
    },
    {
      "cell_type": "markdown",
      "source": [
        "The methodology for constructing a 95% Confidence Interval will be discussed in detail later in this course.  The 95% Confidence Intervals for the Population Mean are provided here simply for comparison purposes."
      ],
      "metadata": {
        "id": "eRNfINCEDMe-"
      }
    },
    {
      "cell_type": "code",
      "source": [
        "#@title Comparing the 95% Confidence Intervals\n",
        "\n",
        "#Computing the theory based 95% CI\n",
        "(LaCrosseWinonaHomePrices\n",
        "  %>% summarize(\n",
        "              '2.5%' = mean(PRICE) - qt(0.975,df=n()-1) * (sd(PRICE)/sqrt(n())),\n",
        "              '97.5%' = mean(PRICE) + qt(0.975,df=n()-1) * (sd(PRICE)/sqrt(n())),\n",
        "            )\n",
        "  %>% mutate(Type = \"Theory\")\n",
        "  %>% relocate(Type)\n",
        ") -> Theory_CI\n",
        "\n",
        "#Computing the 95% CI via Bootstrap\n",
        "(Mean_RepeatedSampling\n",
        "  %>% summarise(enframe(quantile(Outcomes, c(0.025, 0.975)), \"Quantile\", \"Value\"))\n",
        "  %>% spread(Quantile,Value)\n",
        "  %>% mutate(Type = \"Bootstrap\")\n",
        "  %>% relocate(Type)\n",
        ") -> Bootstrap_CI\n",
        "\n",
        "#Putting the two data.frames together\n",
        "bind_rows(Theory_CI,Bootstrap_CI)\n"
      ],
      "metadata": {
        "id": "UJNCr5lADMmL",
        "cellView": "form"
      },
      "execution_count": null,
      "outputs": []
    },
    {
      "cell_type": "markdown",
      "source": [
        "\n",
        "\n",
        "---\n",
        "\n",
        "\n",
        "\n",
        "---\n",
        "\n"
      ],
      "metadata": {
        "id": "4I1hDUasCgp8"
      }
    },
    {
      "cell_type": "markdown",
      "source": [
        "### Inherent Variation in a Regression Line"
      ],
      "metadata": {
        "id": "POKtgBtkTble"
      }
    },
    {
      "cell_type": "markdown",
      "source": [
        "In modeling home prices using a sample, it is certainly true that a different sample of homes will produce a slightly different regression line.  This begs the question to what degree will my regression line change from sample-to-sample.  In particular, to what degree will my y-intercept and slope change over repeated sampling.  "
      ],
      "metadata": {
        "id": "mUd5eA_bK8o7"
      }
    },
    {
      "cell_type": "markdown",
      "source": [
        "<table border=\"0\" align=\"center\">\n",
        "<tr>\n",
        "  <td width=\"50%\" align=\"center\" valign=\"center\" bgcolor=\"white\"><font size=\"+2\">Population Side</font><br>True Relationship - All Homes<br><img src=\"https://drive.google.com/uc?export=view&id=1zS3DBjQGDWhDmF9L2p6gAY-smrRIHa_V\"></img>\n",
        "  </td>\n",
        "  <td width=\"50%\" align=\"center\" valign=\"center\" bgcolor=\"white\"><font size=\"+2\">Sample Side</font><br>An Estimate of the True Relationship<br><img src=\"https://drive.google.com/uc?export=view&id=10xsQT7WQTurnrkUdBlpeV5tfhStlNh8m\"></img>\n",
        "  </td>\n",
        "</table>"
      ],
      "metadata": {
        "id": "aM1bUp_Hap8x"
      }
    },
    {
      "cell_type": "markdown",
      "source": [
        "The goal is to use information from the sample to draw inferences about the true relationship between Home Price and Square Feet. An inherent problem in doing this is that the information on the sample side varies from sample-to-sample. Thus, an understanding of the inherent variation from sample-to-sample is essential to understanding the true relationship."
      ],
      "metadata": {
        "id": "BG_TlhFyT2Sc"
      }
    },
    {
      "cell_type": "markdown",
      "source": [
        "<table border=\"0\" align=\"center\">\n",
        "<tr>\n",
        "  <td align=\"center\" valign=\"center\" bgcolor=\"white\"><font size=\"+2\">Outcomes Vary Over Repeated Samples</font><br><img src=\"https://drive.google.com/uc?export=view&id=1V-d4CdoSZUKB7UIAKF6Vliw4IqS1BZ2f\" width=\"50%\" height=\"50%\"></img>\n",
        "  </td>\n",
        "</table>"
      ],
      "metadata": {
        "id": "IBPXjHIi4PfG"
      }
    },
    {
      "cell_type": "markdown",
      "metadata": {
        "id": "cPBBTDRHHWS-"
      },
      "source": [
        "#### Fitting a Simple Linear Regression Model"
      ]
    },
    {
      "cell_type": "markdown",
      "source": [
        "First, let's fit a simple linear regression model for $Price \\sim SquareFeet$"
      ],
      "metadata": {
        "id": "sR2q_FVZekGx"
      }
    },
    {
      "cell_type": "code",
      "source": [
        "LModel_Price_Sqft <- lm(PRICE ~ SQUAREFEET, data=LaCrosseWinonaHomePrices)"
      ],
      "metadata": {
        "id": "zhHGpvZEekTA"
      },
      "execution_count": 45,
      "outputs": []
    },
    {
      "cell_type": "markdown",
      "source": [
        "Getting a summary of this fit."
      ],
      "metadata": {
        "id": "mt38A95uelvs"
      }
    },
    {
      "cell_type": "code",
      "source": [
        "summary(LModel_Price_Sqft)"
      ],
      "metadata": {
        "id": "ZlFj-y_4el6z"
      },
      "execution_count": null,
      "outputs": []
    },
    {
      "cell_type": "markdown",
      "source": [
        "Some summaries from this model include\n",
        "\n",
        "$$\\begin{array}{rcl}\n",
        "\\hat{E}(Price|SquareFeet) & = & \\hat{\\beta}_{0} + \\hat{\\beta}_{1} * SquareFeet \\\\\n",
        " & = & \\$76499.68 + \\$98.81 * SquareFeet \\\\\n",
        "\\end{array}\n",
        "$$\n",
        "\n",
        "*    $R^2 = 0.6506 \\approx 65\\%$, the percent of variation in Price can be explained by Square Feet using this estimated regression model\n",
        "*    $RMSE = \\$66,180$, the average error in the prediction\n"
      ],
      "metadata": {
        "id": "t6jAdiUIUbgo"
      }
    },
    {
      "cell_type": "markdown",
      "source": [
        "The following is a custom function that can be used to obtain the bootstrap distribution of the estimated y-intercept and slope from the estimated regression line."
      ],
      "metadata": {
        "id": "ybK_jK7_e2x4"
      }
    },
    {
      "cell_type": "code",
      "metadata": {
        "id": "we-N8fCyHWb2",
        "cellView": "form"
      },
      "source": [
        "#@title Custom Bootstrap Regression Function\n",
        "#######################################################\n",
        "# Bootstrap Regression\n",
        "# Note: bootstrapping residuals here\n",
        "#######################################################\n",
        "\n",
        "BootReg=function(slr_object,b=100,delay=0){\n",
        "\n",
        "\ty=slr_object$model[,1]\n",
        "\tx=slr_object$model[,2]\n",
        "\tresid=slr_object$residuals\n",
        "\n",
        "\toutput.mat=matrix(0,b,4)\n",
        "\t\n",
        "\tplot(x,y,type=\"n\",xlab=\"SquareFeet\",ylab=\"CurrentPrice\")\n",
        "\t#points(x,y)\n",
        "\tabline(slr_object)\n",
        "\tSys.sleep(2+delay)\n",
        "\tpoints(x,y,col=\"white\")\n",
        "\n",
        "\n",
        "\tfor(i in 1:b){\n",
        "\n",
        "\t\tresidstar = sample(resid,replace=F)\n",
        "\t\tystar=y+residstar\n",
        "\t\tlmtemp = lm(ystar~x)\n",
        "\t\t#points(x,ystar)\n",
        "\t\tabline(lmtemp,col=\"grey\")\n",
        "\t\txjitter1=min(x)+0.67*(max(x)-min(x))+runif(1,-0.2*(max(x)-min(x)),0.2*(max(x)-min(x)))\n",
        "\t\txjitter2=xjitter1 + 0.1*(max(x)-min(x))\n",
        "\t\tsegments(xjitter1,+lmtemp$coefficients[[1]]+xjitter1*lmtemp$coefficients[[2]],xjitter2,lmtemp$coefficients[[1]]+xjitter1*lmtemp$coefficients[[2]])\n",
        "\t\tsegments(xjitter2,lmtemp$coefficients[[1]]+xjitter1*lmtemp$coefficients[[2]],xjitter2,lmtemp$coefficients[[1]]+xjitter2*lmtemp$coefficients[[2]])\n",
        "\t\ttext(xjitter2+0.02*(max(x)-min(x)),lmtemp$coefficients[[1]]+xjitter1*lmtemp$coefficients[[2]],round(lmtemp$coefficients[[2]],2),cex=0.75)\n",
        "\t\tSys.sleep(delay)\n",
        "\t\tpoints(x,ystar,col=\"white\")\n",
        "\t\t\n",
        "\t\toutput.mat[i,1]=lmtemp$coefficients[[1]]\n",
        "\t\toutput.mat[i,2]=lmtemp$coefficients[[2]]\n",
        "\t\t\n",
        "\t}\n",
        "\t\n",
        "\tIntercept = output.mat[,1]\n",
        "\tSlope = output.mat[,2]\n",
        "\treturn(data.frame(Intercept, Slope))\n",
        "}\n"
      ],
      "execution_count": 64,
      "outputs": []
    },
    {
      "cell_type": "markdown",
      "metadata": {
        "id": "-ni6etMxHzPl"
      },
      "source": [
        "Using the BootReg() function to get the slopes over repeated sampling"
      ]
    },
    {
      "cell_type": "code",
      "metadata": {
        "id": "na18JqF1HzWh"
      },
      "source": [
        "LModel_RepeatedSampling <- BootReg(LModel_Price_Sqft, b=10)"
      ],
      "execution_count": null,
      "outputs": []
    },
    {
      "cell_type": "markdown",
      "source": [
        "The following code snipit will compute the bootstrap standard error estimates for the y-intercept and slope."
      ],
      "metadata": {
        "id": "ABC3wITJd9Ll"
      }
    },
    {
      "cell_type": "code",
      "source": [
        "(LModel_RepeatedSampling\n",
        "  %>% summarize(\n",
        "                 StdError_Intercept = sd(Intercept),\n",
        "                 StdError_Slope = sd(Slope)\n",
        "  )\n",
        ")"
      ],
      "metadata": {
        "id": "AMgMnuv6d9T-"
      },
      "execution_count": null,
      "outputs": []
    },
    {
      "cell_type": "markdown",
      "source": [
        "The following code snipit will create an approximate 95% confidence interval using the bootstrap distribution."
      ],
      "metadata": {
        "id": "kTUWSq_-gwuS"
      }
    },
    {
      "cell_type": "code",
      "source": [
        "#Computing the 95% CI via Percentiles from the bootstrap distribution.\n",
        "( LModel_RepeatedSampling\n",
        "  %>% summarise(enframe(quantile(Intercept, c(0.025, 0.975)), \"Quantiles\", \"Intercept\"))\n",
        "  %>% spread(Quantiles,Intercept)\n",
        "  %>% mutate(Estimate = \"Intercept\")\n",
        "  %>% relocate(Estimate)\n",
        ") -> Intercept_CI\n",
        "\n",
        "( LModel_RepeatedSampling\n",
        "  %>% summarise(enframe(quantile(Slope, c(0.025, 0.975)), \"Quantiles\", \"Slope\"))\n",
        "  %>% spread(Quantiles,Slope)\n",
        "  %>% mutate(Estimate = \"Slope\")\n",
        "  %>% relocate(Estimate)\n",
        ") -> Slope_CI\n",
        "\n",
        "bind_rows(Intercept_CI,Slope_CI)"
      ],
      "metadata": {
        "id": "vV4LwL61gw6n"
      },
      "execution_count": null,
      "outputs": []
    },
    {
      "cell_type": "markdown",
      "source": [
        "#### Getting the Theory Based 95% Confidence Intervals for Regression Estimates"
      ],
      "metadata": {
        "id": "LkogoiIvlHSs"
      }
    },
    {
      "cell_type": "markdown",
      "metadata": {
        "id": "JPU5tkQpfnKj"
      },
      "source": [
        "The 95% confidence interval for the model parameters can be computed using the confint() function."
      ]
    },
    {
      "cell_type": "code",
      "metadata": {
        "id": "JWQuPa0JfnSA"
      },
      "source": [
        "confint(LModel_Price_Sqft)"
      ],
      "execution_count": null,
      "outputs": []
    },
    {
      "cell_type": "markdown",
      "metadata": {
        "id": "9kkg1lL30Rfw"
      },
      "source": [
        "\n",
        "---\n",
        "\n",
        "\n",
        "\n",
        "---\n",
        "End of Document\n",
        "\n"
      ]
    }
  ]
}