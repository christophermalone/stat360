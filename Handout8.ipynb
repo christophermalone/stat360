{
  "nbformat": 4,
  "nbformat_minor": 0,
  "metadata": {
    "colab": {
      "provenance": [],
      "collapsed_sections": [],
      "authorship_tag": "ABX9TyP2EdSF/LCLTTCUc5arriBY",
      "include_colab_link": true
    },
    "kernelspec": {
      "display_name": "R",
      "name": "ir"
    }
  },
  "cells": [
    {
      "cell_type": "markdown",
      "metadata": {
        "id": "view-in-github",
        "colab_type": "text"
      },
      "source": [
        "<a href=\"https://colab.research.google.com/github/christophermalone/stat360/blob/main/Handout8.ipynb\" target=\"_parent\"><img src=\"https://colab.research.google.com/assets/colab-badge.svg\" alt=\"Open In Colab\"/></a>"
      ]
    },
    {
      "cell_type": "markdown",
      "metadata": {
        "id": "KhClO9b02SXA"
      },
      "source": [
        "# Handout #8 : Linear Model Assumptions"
      ]
    },
    {
      "cell_type": "markdown",
      "metadata": {
        "id": "AXDYLbzK2o7e"
      },
      "source": [
        "<table width='100%' ><tr><td bgcolor='green'></td></tr></table>\n",
        "\n",
        "## Example 8.1: Nutrition Data\n",
        "\n",
        "Consider the following data collected on a variety of menu items from various fast-food restaurants.  \n",
        "<table>\n",
        "  <tr>\n",
        "    <td width='50%'>\n",
        "      <ul>\n",
        "          <li>Restaurant: Name of restaurant</li>\n",
        "          <li>Item: Menu item</li>\n",
        "          <li>Type: Type of menu item, e.g. sub, pizza, wrap, sandwich, etc</li>\n",
        "          <li>Breakfast: Is this primarily a breakfast item</li>\n",
        "          <li>ServingSize: Serving Size</li>\n",
        "          <li>Calories: Calories per serving</li>\n",
        "          <li>TotalFat: Total fat per serving</li>\n",
        "          <li>SaturatedFat: Saturated fat per serving</li>\n",
        "          <li>Cholesterol: Cholesterol per serving</li>\n",
        "          <li>Sodium: Sodium per serving</li>\n",
        "          <li>TotalCarbs: Total carbs per serving</li>\n",
        "          <li>Fiber: Fiber per serving</li>\n",
        "          <li>Sugar: Sugar per serving</li>\n",
        "          <li>Protein: Protein per serving</li>\n",
        "        </ul>\n",
        "    </td>\n",
        "  <td width='50%'><p align='center'><img src=\"https://drive.google.com/uc?export=view&id=1xqpwzKXlYfqugyObQU0SDl5LPo73g2ie\" width='50%' height='50%'></img></p\n",
        "  </td>\n",
        "</tr>\n",
        "</table>\n",
        "\n",
        "Data Folder: [OneDrive](https://mnscu-my.sharepoint.com/:f:/g/personal/aq7839yd_minnstate_edu/EmOQfrwxzzRBqq8PH_8qTmMBy-1qKgM11Hb8vzjs025EEA?e=wyShYs)\n",
        "\n",
        "\n",
        "\n",
        "<table width='100%' ><tr><td bgcolor='green'></td></tr></table>\n",
        "\n"
      ]
    },
    {
      "cell_type": "markdown",
      "metadata": {
        "id": "njXGRUIC9Lgs"
      },
      "source": [
        "## Load Data into R"
      ]
    },
    {
      "cell_type": "markdown",
      "metadata": {
        "id": "FoT1NFX3DncH"
      },
      "source": [
        "First, load the tidyverse package."
      ]
    },
    {
      "cell_type": "code",
      "metadata": {
        "id": "LgaibuX_DtWK"
      },
      "source": [
        "#load the tidyverse package\n",
        "library(tidyverse)"
      ],
      "execution_count": null,
      "outputs": []
    },
    {
      "cell_type": "markdown",
      "source": [
        "Next, load the Nutrition dataset into R using read_csv()."
      ],
      "metadata": {
        "id": "UUP7B8XWtYFx"
      }
    },
    {
      "cell_type": "code",
      "metadata": {
        "id": "e07lUbQ1F1cV"
      },
      "source": [
        "# Reading data in using read_csv \n",
        "Nutrition <- read_csv(\"http://www.StatsClass.org/stat360/Datasets/Nutrition.csv\")"
      ],
      "execution_count": null,
      "outputs": []
    },
    {
      "cell_type": "markdown",
      "source": [
        "Next, taking a look at the Nutrition dataset."
      ],
      "metadata": {
        "id": "w2i9vEfLtokI"
      }
    },
    {
      "cell_type": "code",
      "metadata": {
        "id": "HYKWH2i0EN6s"
      },
      "source": [
        "#View the first few rows of data\n",
        "head(Nutrition)"
      ],
      "execution_count": null,
      "outputs": []
    },
    {
      "cell_type": "markdown",
      "metadata": {
        "id": "1yzIMikj6S_M"
      },
      "source": [
        "## SLR: Model Setup"
      ]
    },
    {
      "cell_type": "markdown",
      "metadata": {
        "id": "H4diIPrN6YMm"
      },
      "source": [
        "Consider *only* the data from Wendy's along with the following setup for the simple linear regression model.\n",
        "\n",
        "<ul>\n",
        "  <li><strong>Restaurant</strong>: Wendys</li>\n",
        "  <li><strong>Response Variable</strong>: SaturatedFat</li>\n",
        "  <li><strong>Independent / Predictor Variable</strong>: Calories</li>\n",
        "  <li><i>Assume</i> the following structure for the mean and variance functions</li>\n",
        "  </ul>"
      ]
    },
    {
      "cell_type": "markdown",
      "metadata": {
        "id": "X4gdlF3C60d2"
      },
      "source": [
        "<ul><ul>\n",
        "  <li>$E(SaturatedFat | Calories, Restaurant = Wendys) = \\beta_{0} + \\beta_{1} * Calories$</li>\n",
        "  <li>$Var(SaturatedFat | Calories, Restaurant = Wendys) = \\sigma^{2}$</li>\n",
        "</ul></ul>"
      ]
    },
    {
      "cell_type": "markdown",
      "source": [
        "The following snipit of code can be used to filter() the data down to just $Restaurant = Wendys$"
      ],
      "metadata": {
        "id": "5tlsXGBMt1rD"
      }
    },
    {
      "cell_type": "code",
      "source": [
        "(Nutrition\n",
        "  %>% filter(Restaurant == \"Wendys\")\n",
        "  %>% select(Restaurant, Item, SaturatedFat, Calories)\n",
        ") -> Wendys"
      ],
      "metadata": {
        "id": "duqigaDNt2HS"
      },
      "execution_count": null,
      "outputs": []
    },
    {
      "cell_type": "markdown",
      "source": [
        "Before preceding, check the data.frame to ensure that the filtering/selecting was done correctly."
      ],
      "metadata": {
        "id": "kWdth3ggt-29"
      }
    },
    {
      "cell_type": "code",
      "source": [
        "#Taking a look at the Wendys data.frame\n",
        "Wendys"
      ],
      "metadata": {
        "id": "9ljSNut5vSHI"
      },
      "execution_count": null,
      "outputs": []
    },
    {
      "cell_type": "markdown",
      "metadata": {
        "id": "oV94hIr3Edo4"
      },
      "source": [
        "## SLR - Analysis"
      ]
    },
    {
      "cell_type": "markdown",
      "source": [
        "First, getting a scatterplot with the simple linear regression line."
      ],
      "metadata": {
        "id": "o6VI720dwKXA"
      }
    },
    {
      "cell_type": "code",
      "metadata": {
        "colab": {
          "base_uri": "https://localhost:8080/",
          "height": 437
        },
        "id": "yHLAoooA4C1_",
        "outputId": "ce4edf11-4cc1-42b9-f8d9-75e5b3066291"
      },
      "source": [
        "# Scatterplot with simple linear regression line\n",
        "ggplot(data=Wendys, aes(x=Calories,y=SaturatedFat)) + \n",
        "  geom_point() +   \n",
        "  geom_smooth(method='lm', formula = y ~ x, se=FALSE) +\n",
        "  theme_classic()"
      ],
      "execution_count": null,
      "outputs": [
        {
          "output_type": "display_data",
          "data": {
            "text/plain": [
              "plot without title"
            ],
            "image/png": "[encoded data removed]"
          },
          "metadata": {
            "image/png": {
              "width": 420,
              "height": 420
            }
          }
        }
      ]
    },
    {
      "cell_type": "markdown",
      "source": [
        "Next, let's fit the simple linear regression model."
      ],
      "metadata": {
        "id": "5D4brkFjwjwx"
      }
    },
    {
      "cell_type": "code",
      "metadata": {
        "id": "7sJchah397NR"
      },
      "source": [
        "#Fitting the simple linear regression model\n",
        "WendysLinearModel_SaturatedFat_Calories <- lm(SaturatedFat ~ Calories, data=Wendys)"
      ],
      "execution_count": null,
      "outputs": []
    },
    {
      "cell_type": "markdown",
      "source": [
        "Getting the simple linear regression output."
      ],
      "metadata": {
        "id": "Lh9RGiM_wvfP"
      }
    },
    {
      "cell_type": "code",
      "metadata": {
        "colab": {
          "base_uri": "https://localhost:8080/",
          "height": 329
        },
        "id": "yngvjUY0-lyB",
        "outputId": "b2257bfd-5756-46e0-d1f7-05f63f013639"
      },
      "source": [
        "#Getting a summary of the model\n",
        "summary(WendysLinearModel_SaturatedFat_Calories)"
      ],
      "execution_count": null,
      "outputs": [
        {
          "output_type": "display_data",
          "data": {
            "text/plain": [
              "\n",
              "Call:\n",
              "lm(formula = SaturatedFat ~ Calories, data = Wendys)\n",
              "\n",
              "Residuals:\n",
              "    Min      1Q  Median      3Q     Max \n",
              "-5.5057 -1.9513  0.7454  2.0320  3.0130 \n",
              "\n",
              "Coefficients:\n",
              "             Estimate Std. Error t value Pr(>|t|)    \n",
              "(Intercept) -5.833332   1.208443  -4.827 5.30e-05 ***\n",
              "Calories     0.030963   0.002205  14.044 1.19e-13 ***\n",
              "---\n",
              "Signif. codes:  0 ‘***’ 0.001 ‘**’ 0.01 ‘*’ 0.05 ‘.’ 0.1 ‘ ’ 1\n",
              "\n",
              "Residual standard error: 2.564 on 26 degrees of freedom\n",
              "Multiple R-squared:  0.8835,\tAdjusted R-squared:  0.8791 \n",
              "F-statistic: 197.2 on 1 and 26 DF,  p-value: 1.19e-13\n"
            ]
          },
          "metadata": {}
        }
      ]
    },
    {
      "cell_type": "markdown",
      "metadata": {
        "id": "AZQlcxrGRbTF"
      },
      "source": [
        "Getting the 95% Confidence Intervals for the parameters in the model, i.e. $\\beta_{0}$ and $\\beta_{1}$ "
      ]
    },
    {
      "cell_type": "code",
      "metadata": {
        "colab": {
          "base_uri": "https://localhost:8080/",
          "height": 129
        },
        "id": "yBbcHMjE2gwk",
        "outputId": "d9aa6622-1b59-4fbc-d050-861a73b39d25"
      },
      "source": [
        "#Getting CIs for model parameters\n",
        "confint(WendysLinearModel_SaturatedFat_Calories)"
      ],
      "execution_count": null,
      "outputs": [
        {
          "output_type": "display_data",
          "data": {
            "text/html": [
              "<table class=\"dataframe\">\n",
              "<caption>A matrix: 2 × 2 of type dbl</caption>\n",
              "<thead>\n",
              "\t<tr><th></th><th scope=col>2.5 %</th><th scope=col>97.5 %</th></tr>\n",
              "</thead>\n",
              "<tbody>\n",
              "\t<tr><th scope=row>(Intercept)</th><td>-8.31732270</td><td>-3.34934221</td></tr>\n",
              "\t<tr><th scope=row>Calories</th><td> 0.02643087</td><td> 0.03549421</td></tr>\n",
              "</tbody>\n",
              "</table>\n"
            ],
            "text/markdown": "\nA matrix: 2 × 2 of type dbl\n\n| <!--/--> | 2.5 % | 97.5 % |\n|---|---|---|\n| (Intercept) | -8.31732270 | -3.34934221 |\n| Calories |  0.02643087 |  0.03549421 |\n\n",
            "text/latex": "A matrix: 2 × 2 of type dbl\n\\begin{tabular}{r|ll}\n  & 2.5 \\% & 97.5 \\%\\\\\n\\hline\n\t(Intercept) & -8.31732270 & -3.34934221\\\\\n\tCalories &  0.02643087 &  0.03549421\\\\\n\\end{tabular}\n",
            "text/plain": [
              "            2.5 %       97.5 %     \n",
              "(Intercept) -8.31732270 -3.34934221\n",
              "Calories     0.02643087  0.03549421"
            ]
          },
          "metadata": {}
        }
      ]
    },
    {
      "cell_type": "markdown",
      "source": [
        "## Theoretical Considerations"
      ],
      "metadata": {
        "id": "dLsUo9NVxc2h"
      }
    },
    {
      "cell_type": "markdown",
      "source": [
        "The correctness of the hypothesis tests for the model parameters and the computations of the 95% confidence intervals relies on the following theoretical conditions. "
      ],
      "metadata": {
        "id": "B987CP_QzQur"
      }
    },
    {
      "cell_type": "markdown",
      "source": [
        "*   Mean: $E(Y | X) = \\beta_{0} + \\beta_{1}*X$\n",
        "*   Variance: $E(Y | X) = \\sigma^{2}$\n",
        "*   $Y_{i}$ are *independent* of one another\n",
        "*   Distribution of $Y$ is $Normal$\n",
        "\n"
      ],
      "metadata": {
        "id": "YHzkV3cQxndT"
      }
    },
    {
      "cell_type": "markdown",
      "source": [
        "Next, consider the form of a simple linear regression model."
      ],
      "metadata": {
        "id": "xETiyOhYz5bE"
      }
    },
    {
      "cell_type": "markdown",
      "source": [
        "$$Y_{i} = \\beta_{0} + \\beta_{1}*x_{i} + \\epsilon_{i}$$"
      ],
      "metadata": {
        "id": "dYCMlZmUz5vf"
      }
    },
    {
      "cell_type": "markdown",
      "source": [
        "where\n",
        "\n",
        "*  $Y_{i}$:  the value of the response variable for observation $i$\n",
        "*  $\\beta_{0}$: y-intercept\n",
        "*  $\\beta_{1}$: slope\n",
        "*  $x_{i}$:  the value of the predictor variable for observation $i$\n",
        "*  $\\epsilon_{i}$: the error (residual) term for observation $i$\n"
      ],
      "metadata": {
        "id": "UqVutc6T0isp"
      }
    },
    {
      "cell_type": "markdown",
      "source": [
        "The mathematical representation for each observation in our dataset has the following form."
      ],
      "metadata": {
        "id": "haKtXn0A1dsO"
      }
    },
    {
      "cell_type": "markdown",
      "source": [
        "$$\\begin{array}{ccc}\n",
        "Y_{1} & = & \\beta_{0} * 1 + \\beta_{1} * x_{1} + \\epsilon_{1} \\\\\n",
        "Y_{2} & = & \\beta_{0} * 1 + \\beta_{1} * x_{2} + \\epsilon_{2} \\\\\n",
        "Y_{3} & = & \\beta_{0} * 1 + \\beta_{1} * x_{3} + \\epsilon_{3} \\\\\n",
        "\\vdots & = & \\vdots  \\\\ \n",
        "\\vdots & = & \\vdots \\\\ \n",
        "Y_{27} & = & \\beta_{0} * 1 + \\beta_{1} * x_{27} + \\epsilon_{27} \\\\\n",
        "Y_{28} & = & \\beta_{0} * 1 + \\beta_{1} * x_{28} + \\epsilon_{28} \\\\\n",
        "\\end{array}\n",
        "$$"
      ],
      "metadata": {
        "id": "2JlrQTeX1oTa"
      }
    },
    {
      "cell_type": "markdown",
      "source": [
        "For our observed data, the mathematical representation is as follows."
      ],
      "metadata": {
        "id": "n6m3mxmEJ3Wt"
      }
    },
    {
      "cell_type": "markdown",
      "source": [
        "$$\\begin{array}{ccc}\n",
        "14 & = & -5.8333 * 1 + 0.03096 * 580 + 1.88 \\\\\n",
        "21 & = & -5.8333 * 1 + 0.03096 * 800 + 2.06 \\\\\n",
        "30 & = & -5.8333 * 1 + 0.03096 * 1060 + 3.01 \\\\\n",
        "\\vdots & = &  \\vdots \\\\ \n",
        "\\vdots & = &   \\vdots \\\\ \n",
        "2.0 & = & -5.8333 * 1 + 0.03096 * 320 + -2.07 \\\\\n",
        "2.5 & = & -5.8333 * 1 + 0.03096 * 210 + 1.83 \\\\\n",
        "\\end{array}\n",
        "$$"
      ],
      "metadata": {
        "id": "Cci62CRpJ3W1"
      }
    },
    {
      "cell_type": "markdown",
      "source": [
        "Consider the following two components of the simple linear regression equation."
      ],
      "metadata": {
        "id": "qHtHQTwJKBcC"
      }
    },
    {
      "cell_type": "markdown",
      "source": [
        "$$Y_{i} = \\underbrace{\\beta_{0} + \\beta_{1}*x_{i}}_{\\mbox{Mean}} + \\underbrace{\\epsilon_{i}}_{\\mbox{Variance}}$$"
      ],
      "metadata": {
        "id": "DHe4ZIHxKBcE"
      }
    },
    {
      "cell_type": "markdown",
      "source": [
        "If the conditional distribution of $Y|X$ is $Normal$ with mean equal to $\\beta_{0} + \\beta_{1}*x_{i}$ and variance equal to $\\sigma^{2}$, then the following expression is used to represent the distributional assumptions for the conditional distribution.\n",
        "\n",
        "$$ Y_{i} | X=x_{i} \\sim N(\\beta_{0} + \\beta_{1}*x_{i} \\space, \\space \\sigma^{2})\n",
        "$$"
      ],
      "metadata": {
        "id": "07t-pFAPKBcE"
      }
    },
    {
      "cell_type": "markdown",
      "source": [
        "*   Mean: $E(Y_{i}|X=x_{i})= \\beta_{0} + \\beta_{1} * x_{i}$\n",
        "*   Variance: $Var(Y_{i}|X=x_{i}) = Var(\\epsilon_{i}) = \\sigma^{2}$\n",
        "\n"
      ],
      "metadata": {
        "id": "aFK0JazvKBcF"
      }
    },
    {
      "cell_type": "markdown",
      "source": [
        "Some people emphasize the fact that the variability in the conditional distribution of  $Y_{i} | X=x_{i}$  comes *solely* from the error term with the following distributional property for the error (or residual) term. "
      ],
      "metadata": {
        "id": "i0TYuNLYKBcF"
      }
    },
    {
      "cell_type": "markdown",
      "source": [
        "$$ \\begin{array}{rcl}\n",
        "\\epsilon_{i} & \\sim & N(0,\\sigma^2) \\space for \\space all \\space i , \\space and \\space COV(\\epsilon_{i}, \\epsilon_{j})=0 \\space for \\space all \\space i \\ne j\\\\\n",
        "& \\sim & \\space iid\\space N(0,\\sigma^2) \n",
        "\\end{array}\n",
        "$$"
      ],
      "metadata": {
        "id": "IRpjZLZyKBcG"
      }
    },
    {
      "cell_type": "markdown",
      "source": [
        "A *visual* depiction  of the theoretical assumptions is provided here."
      ],
      "metadata": {
        "id": "wxi6UptJ66q9"
      }
    },
    {
      "cell_type": "markdown",
      "source": [
        "<table>\n",
        "  <tr>\n",
        "    <td align=\"center\" width=\"50%\" valign=\"top\" ><font size=\"+1\">SaturatedFat | Calories = 580</font></td>\n",
        "    <td align=\"center\" width=\"50%\" valign=\"top\" ><font size=\"+1\">SaturatedFat | Calories = 900</font></td>\n",
        "  </tr>\n",
        "  <tr>\n",
        "    <td align=\"center\" valign=\"top\" width=\"50%\"><img src=\"https://drive.google.com/uc?export=view&id=1G8gwhqvx1ZPnyvA6qjRwdLikDoTH5pRX\" width='75%' height='75%'></td>\n",
        "    <td align=\"center\" width=\"50%\" valign=\"top\"><img src=\"https://drive.google.com/uc?export=view&id=145TuewjvdlAQb8KTrn4Q0kqZs-a-MtMI\" width='75%' height='75%'></img></td>\n",
        "  </tr>\n",
        "</table>"
      ],
      "metadata": {
        "id": "VtVHXXf1663c"
      }
    },
    {
      "cell_type": "markdown",
      "source": [
        "Of course, the theoretical consideration apply to any $X=x_{i}$ value."
      ],
      "metadata": {
        "id": "7goVU5S-7mRU"
      }
    },
    {
      "cell_type": "markdown",
      "source": [
        "<table>\n",
        "  <tr>\n",
        "    <td align=\"center\" width=\"50%\" valign=\"top\" ><font size=\"+1\">Generalizes to any X</font></td>\n",
        "  </tr>\n",
        "  <tr>\n",
        "    <td align=\"center\" valign=\"top\"><img src=\"https://drive.google.com/uc?export=view&id=1Mz9qjtH5pPjf8bx80lXq0cLbj-azKsOH\" width='50%' height='50%'></td>\n",
        "  </tr>\n",
        "</table>"
      ],
      "metadata": {
        "id": "-Y20ZY1N7mZl"
      }
    },
    {
      "cell_type": "markdown",
      "source": [
        "Another common view of this picture is to turning the graph to the left and pushing it over on its back which allows one to more easily see the normality assumption for the conditional distributions.<br><img src=\"https://drive.google.com/uc?export=view&id=1iRam17Ygi8G3dDuClG_7pFjU3PcgizVo\"></img>"
      ],
      "metadata": {
        "id": "P61Jl-iS8paF"
      }
    },
    {
      "cell_type": "markdown",
      "source": [
        "<table width='100%'><tr><td bgcolor=\"orange\"><font color=\"white\" size=\"+2\">Aside - Matrix Representation</font></td></tr></table>\n"
      ],
      "metadata": {
        "id": "trwTAVe7JeZg"
      }
    },
    {
      "cell_type": "markdown",
      "source": [
        "In matrix notation, the above can be expressed as follows."
      ],
      "metadata": {
        "id": "1JwD7KD55Dz9"
      }
    },
    {
      "cell_type": "markdown",
      "source": [
        "$$\\mathbf{Y} = \\mathbf{X} \\underline{\\mathbf{\\beta}} + \\underline{\\mathbf{\\epsilon}}  \n",
        "$$"
      ],
      "metadata": {
        "id": "LTx5Eaz05LtC"
      }
    },
    {
      "cell_type": "markdown",
      "source": [
        "or explicitly written as\n",
        "\n",
        "$$\n",
        "\\begin{array}{rcl}\n",
        "\\left[\n",
        "  \\begin{array}{c}\n",
        "  Y_{1} \\\\\n",
        "  Y_{2} \\\\\n",
        "  Y_{3} \\\\\n",
        "  \\vdots \\\\\n",
        "  \\vdots \\\\\n",
        "  Y_{27} \\\\\n",
        "  Y_{28} \\\\\n",
        "  \\end{array}\n",
        "\\right]\n",
        " & = & \n",
        "  \\left[\n",
        "    \\begin{array}{cc}\n",
        "    1 & x_{1} \\\\\n",
        "    1 & x_{2} \\\\\n",
        "    1 & x_{3} \\\\\n",
        "    \\vdots & \\vdots \\\\\n",
        "    \\vdots & \\vdots \\\\\n",
        "    1 & x_{27} \\\\\n",
        "    1 & x_{28} \\\\\n",
        "    \\end{array}\n",
        "  \\right]\n",
        "  & \n",
        "  \\left[\n",
        "    \\begin{array}{c}\n",
        "      \\beta_{0} \\\\ \n",
        "      \\beta_{1} \\\\ \n",
        "    \\end{array}\n",
        "  \\right] & + & \n",
        "  \\left[\n",
        "    \\begin{array}{c}\n",
        "    \\epsilon_{1} \\\\\n",
        "    \\epsilon_{2} \\\\\n",
        "    \\epsilon_{3} \\\\\n",
        "    \\vdots \\\\\n",
        "    \\vdots \\\\\n",
        "    \\epsilon_{27} \\\\\n",
        "    \\epsilon_{28} \\\\\n",
        "    \\end{array}\n",
        "  \\right]\n",
        "   \\\\\n",
        "\\end{array}\n",
        "$$"
      ],
      "metadata": {
        "id": "vfikWa-b59ev"
      }
    },
    {
      "cell_type": "markdown",
      "source": [
        "The observed data is expressed as follows when using matrix notaiton. "
      ],
      "metadata": {
        "id": "Rsm268dq8jKk"
      }
    },
    {
      "cell_type": "markdown",
      "source": [
        "$$\\hat{\\mathbf{Y}} = \\mathbf{X} \\underline{\\hat{\\mathbf{\\beta}}} + \\underline{\\mathbf{\\hat{\\epsilon}}}  \n",
        "$$"
      ],
      "metadata": {
        "id": "nqkiTLGB8jK7"
      }
    },
    {
      "cell_type": "markdown",
      "source": [
        "or explicitly written as\n",
        "\n",
        "$$\n",
        "\\begin{array}{rcl}\n",
        "\\left[\n",
        "  \\begin{array}{c}\n",
        "  14 \\\\\n",
        "  21 \\\\\n",
        "  30 \\\\\n",
        "  \\vdots \\\\\n",
        "  \\vdots \\\\\n",
        "  2.0 \\\\\n",
        "  2.5 \\\\\n",
        "  \\end{array}\n",
        "\\right]\n",
        " & = & \n",
        "  \\left[\n",
        "    \\begin{array}{cc}\n",
        "    1 & 580 \\\\\n",
        "    1 & 800 \\\\\n",
        "    1 & 1060 \\\\\n",
        "    \\vdots & \\vdots \\\\\n",
        "    \\vdots & \\vdots \\\\\n",
        "    1 & 320 \\\\\n",
        "    1 & 210 \\\\\n",
        "    \\end{array}\n",
        "  \\right]\n",
        "  & \n",
        "  \\left[\n",
        "    \\begin{array}{c}\n",
        "      -5.83333 \\\\ \n",
        "      0.03096 \\\\ \n",
        "    \\end{array}\n",
        "  \\right] & + & \n",
        "  \\left[\n",
        "    \\begin{array}{c}\n",
        "    1.88 \\\\\n",
        "    2.06 \\\\\n",
        "    3.01 \\\\\n",
        "    \\vdots \\\\\n",
        "    \\vdots \\\\\n",
        "    -2.07 \\\\\n",
        "    1.83 \\\\\n",
        "    \\end{array}\n",
        "  \\right]\n",
        "   \\\\\n",
        "\\end{array}\n",
        "$$"
      ],
      "metadata": {
        "id": "5TBdmgY484no"
      }
    },
    {
      "cell_type": "markdown",
      "source": [
        "If the conditional distribution of $\\mathbf{Y}|\\mathbf{X}$ is $Normal$ with mean equal to $\\mathbf{X}\\underline{\\mathbf{\\beta}}$ and constant variance equal to $\\sigma^{2}$, then the following expression is used to represent the distributional assumptions for the conditional distribution when using matrix notation."
      ],
      "metadata": {
        "id": "272C9IoSKUg1"
      }
    },
    {
      "cell_type": "markdown",
      "source": [
        "$$ \\mathbf{Y}|\\mathbf{X} \\sim N(\\mathbf{X}\\underline{\\mathbf{\\beta}} \\space , \\space \\sigma^{2} \\mathbf{I} ) \n",
        "$$\n",
        "\n",
        "where $\\mathbf{I}_{nxn}$ identity matrix. Some express the fact that the variablity comes *solely* from the error term using the following expression. "
      ],
      "metadata": {
        "id": "92qejPK7DZ69"
      }
    },
    {
      "cell_type": "markdown",
      "source": [
        "$$\\underline{\\mathbf{\\epsilon}} \\sim N(\\underline{\\mathbf{0}} \\space , \\space \\sigma^{2}*\\mathbf{I})\n",
        "$$\n",
        "\n",
        "which written out explicitly is"
      ],
      "metadata": {
        "id": "lnuWbftiFAZH"
      }
    },
    {
      "cell_type": "markdown",
      "source": [
        "$$\\begin{array}{rcl}\n",
        "\\left[\n",
        "  \\begin{array}{c}\n",
        "  \\epsilon_{1} \\\\\n",
        "  \\epsilon_{2} \\\\\n",
        "  \\epsilon_{3} \\\\\n",
        "  \\vdots \\\\\n",
        "  \\vdots \\\\\n",
        "  \\epsilon_{27} \\\\\n",
        "  \\epsilon_{28} \\\\\n",
        "  \\end{array}\n",
        "\\right] & \\sim & \n",
        "N\n",
        "\\left(\n",
        "  \\left[\n",
        "    \\begin{array}{c}\n",
        "     0 \\\\\n",
        "     0 \\\\\n",
        "     0 \\\\\n",
        "     \\vdots \\\\\n",
        "     \\vdots \\\\\n",
        "     0 \\\\\n",
        "     0 \\\\\n",
        "    \\end{array}\n",
        "  \\right] , \\space \\space \\sigma^{2} * \n",
        "  \\left[\n",
        "    \\begin{array}{ccccccc}\n",
        "    1 & 0 & 0 & \\cdots & \\cdots & 0 & 0 \\\\\n",
        "    0 & 1 & 0 & \\cdots & \\cdots & 0 & 0 \\\\\n",
        "    0 & 0 & 1 & \\cdots & \\cdots & 0 & 0 \\\\\n",
        "    \\vdots & \\vdots & \\vdots & \\ddots & \\ddots & \\vdots & \\vdots \\\\ \n",
        "    \\vdots & \\vdots & \\vdots & \\ddots & \\ddots & \\vdots & \\vdots \\\\ \n",
        "     0 & 0 & 0 & \\cdots & \\cdots & 1 & 0 \\\\\n",
        "     0 & 0 & 0 & \\cdots & \\cdots & 0 & 1 \\\\\n",
        "    \\end{array}\n",
        "  \\right]\n",
        "\\right)\n",
        "\\end{array}\n",
        "$$"
      ],
      "metadata": {
        "id": "NRAPTk4VFmLJ"
      }
    },
    {
      "cell_type": "markdown",
      "source": [
        "<table width='100%'><tr><td bgcolor=\"orange\"><font color=\"white\" size=\"+2\">&nbsp;</font></td></tr></table>\n"
      ],
      "metadata": {
        "id": "hWwtmHugKyPd"
      }
    },
    {
      "cell_type": "markdown",
      "metadata": {
        "id": "H7SRa979SOle"
      },
      "source": [
        "## Checking the Assumptions"
      ]
    },
    {
      "cell_type": "markdown",
      "source": [
        "Recall, the following set of theoretical assumptions for a simple linear regression model."
      ],
      "metadata": {
        "id": "eNZgINlmNKWd"
      }
    },
    {
      "cell_type": "markdown",
      "source": [
        "*   Correct Mean: $E(Y | X) = \\beta_{0} + \\beta_{1}*X$\n",
        ">  **How is this assumption checked:**  $Residual$ vs $Predicted$ scatterplot (and possibly $Residual$ vs $Predictor \\space Variable$ scatterplot)<br>**Desired Outcome:** Random scatter above and below $y=0$ line\n",
        "<br><br>**Comment**: An alternative plot to verify correct functional form is to create a scatterplot of the $Actual$ vs $Predicted$.  Points on this scatterplot should fall on the $y=x$ line.\n",
        "*   Constant Variance: $E(Y | X) = \\sigma^{2}$\n",
        ">  **How is this assumption checked:**  $Residual$ vs $Predicted$ scatterplot (or $|Residuals|$ vs $Predicted$ scatterplot)\n",
        "<br>**Desired Outcome:** No funnel shape (or no trend present)\n",
        "*   Independence: $Y_{i}$ are *independent* of one another $\\Leftrightarrow$ $Residuals$ are *independent* of one another\n",
        ">  **How is this assumption checked:**  $Residual$ vs $Predicted$ scatterplot\n",
        "<br>**Desired Outcome:** No auto-correlation present\n",
        "*  Normality:  Distribution of $Y$ is $Normal$ $\\Leftrightarrow$ $Residuals$ are $Normal$\n",
        ">  **How is this assumption checked:**  Histogram of $Residuals$ (or $qqnorm$ plot of $Residuals$)\n",
        "<br>**Desired Outcome:** bell-shaped histogram (or straight line on qqnorm plot)"
      ],
      "metadata": {
        "id": "t1bgn_H6NKk-"
      }
    },
    {
      "cell_type": "markdown",
      "source": [
        "### Correct Form for the Mean"
      ],
      "metadata": {
        "id": "LyQuUxaeR9tq"
      }
    },
    {
      "cell_type": "markdown",
      "source": [
        "*    **Plot**:  $Residual$ vs $Predicted$ (and, if needed $Residual$ vs each $Predictor \\space Variable$)\n",
        "\n",
        "*   **Visual Inspection**: Random scatter above and below $y=0$ line\n",
        "*    **Formal Procedure**: None\n",
        "\n"
      ],
      "metadata": {
        "id": "nN5aOwLxUchR"
      }
    },
    {
      "cell_type": "markdown",
      "source": [
        "<table>\n",
        "  <tr>\n",
        "    <td align=\"center\" width=\"50%\" valign=\"top\" ><font size=\"+2\">Good</font></td>\n",
        "    <td align=\"center\" width=\"50%\" valign=\"top\" ><font size=\"+2\">Bad</font></td>\n",
        "  </tr>\n",
        "  <tr>\n",
        "    <td align=\"center\" valign=\"top\" width=\"50%\"><img src=\"https://drive.google.com/uc?export=view&id=1DrVMGkeZ_5iafQ1JshqyGiPW7FLS3kMz\" width='75%' height='75%'></td>\n",
        "    <td align=\"center\" width=\"50%\" valign=\"top\"><img src=\"https://drive.google.com/uc?export=view&id=12Zxpw8UVTqDE6-ufjzXJgfF6tpurlSI9\" width='75%' height='75%'><br><br><font size=\"+1\">OR</font><br><br>\n",
        "    <img src=\"https://drive.google.com/uc?export=view&id=134jwfqi-m8oWoK-u_fJHJzb_0jO6Kq5t\" width='75%' height='75%'></td>\n",
        "  </tr>\n",
        "</table>"
      ],
      "metadata": {
        "id": "rtee3hiPSA4D"
      }
    },
    {
      "cell_type": "markdown",
      "source": [
        "### Constant Variance"
      ],
      "metadata": {
        "id": "WM2KZUt6R31u"
      }
    },
    {
      "cell_type": "markdown",
      "source": [
        "*    **Plot**:  $Residual$ vs $Predicted$ scatterplot (or $|Residual|$ vs $Predicted$ scatterplot)\n",
        "\n",
        "*   **Visual Inspection**: No funnel shape (or no trend present)\n",
        "*    **Formal Procedure**: Statistical test for trend in $|Residual|$ vs $Predicted$ scatterplot\n",
        "\n"
      ],
      "metadata": {
        "id": "LWfs5PtYVLLR"
      }
    },
    {
      "cell_type": "markdown",
      "source": [
        "<table>\n",
        "  <tr>\n",
        "    <td align=\"center\" width=\"50%\" valign=\"top\" ><font size=\"+2\">Good</font></td>\n",
        "    <td align=\"center\" width=\"50%\" valign=\"top\" ><font size=\"+2\">Bad</font></td>\n",
        "  </tr>\n",
        "  <tr>\n",
        "    <td align=\"center\" valign=\"top\" width=\"50%\"><img src=\"https://drive.google.com/uc?export=view&id=1DrVMGkeZ_5iafQ1JshqyGiPW7FLS3kMz\" width='75%' height='75%'></td>\n",
        "    <td align=\"center\" width=\"50%\" valign=\"top\"><img src=\"https://drive.google.com/uc?export=view&id=1oqkJ7guSPIqBRf9o-xPW0oHaproqJrci\" width='75%' height='75%'><br><br><font size=\"+1\">OR</font><br><br>\n",
        "    <img src=\"https://drive.google.com/uc?export=view&id=1dkeArk2HEzx2_xxFsMqgNC5h_jnS2GWX\" width='75%' height='75%'></td>\n",
        "  </tr>\n",
        "</table>"
      ],
      "metadata": {
        "id": "drIa08ieR4Pd"
      }
    },
    {
      "cell_type": "markdown",
      "source": [
        "### Independence"
      ],
      "metadata": {
        "id": "YjM-lnLuSS3_"
      }
    },
    {
      "cell_type": "markdown",
      "source": [
        "*    **Plot**:  $Residual$ vs $Predicted$ scatterplot\n",
        "*   **Visual Inspection**: No auto-correlation present (no snake pattern or extreme bouncing back-and-forth) \n",
        "*    **Formal Procedure**: Durbin-Watson Test for auto-correlation\n",
        "\n"
      ],
      "metadata": {
        "id": "GeWATuRBWGiO"
      }
    },
    {
      "cell_type": "markdown",
      "source": [
        "<table>\n",
        "  <tr>\n",
        "    <td align=\"center\" width=\"50%\" valign=\"top\" ><font size=\"+2\">Good</font></td>\n",
        "    <td align=\"center\" width=\"50%\" valign=\"top\" ><font size=\"+2\">Bad</font></td>\n",
        "  </tr>\n",
        "  <tr>\n",
        "    <td align=\"center\" valign=\"top\" width=\"50%\"><img src=\"https://drive.google.com/uc?export=view&id=1DrVMGkeZ_5iafQ1JshqyGiPW7FLS3kMz\" width='75%' height='75%'></td>\n",
        "    <td align=\"center\" width=\"50%\" valign=\"top\"><img src=\"https://drive.google.com/uc?export=view&id=19jQWcUDkugI6mfUdgtBSQMF08-cnfI1F\" width='75%' height='75%'><br><br><font size=\"+1\">OR</font><br><br>\n",
        "    <img src=\"https://drive.google.com/uc?export=view&id=1l7k4cG23oKj6EmlfQVFIeaNLakZFg088\" width='75%' height='75%'></td>\n",
        "  </tr>\n",
        "</table>"
      ],
      "metadata": {
        "id": "9XNefJBDSUx-"
      }
    },
    {
      "cell_type": "markdown",
      "source": [
        "### Normality"
      ],
      "metadata": {
        "id": "0WMQmz46SwbA"
      }
    },
    {
      "cell_type": "markdown",
      "source": [
        "*    **Plot**:  Histogram of $Residuals$ (or QQ-Normal Plot of $Residuals$)\n",
        "*   **Visual Inspection**: Bell-shaped pattern (or straight line in qq plot). \n",
        "*    **Formal Procedure**: Formal tests for normality do exist, but are rarely used in practice in this setting\n"
      ],
      "metadata": {
        "id": "0CfxiZmMWb4t"
      }
    },
    {
      "cell_type": "markdown",
      "source": [
        "<table>\n",
        "  <tr>\n",
        "    <td align=\"center\" valign=\"top\" ><font size=\"+2\">Good</font></td>\n",
        "  </tr>\n",
        "  <tr>\n",
        "    <td align=\"center\" valign=\"top\"><font size=\"+1\">Histogram of Residuals</font><br><img src=\"https://drive.google.com/uc?export=view&id=12e3q4M2QOO99s-5ZDWOGwMpn39KWubYZ\" width='50%' height='50%'>\n",
        "    <br><br><font size=\"+1\">OR<br><br>QQ-Normal Plot of Residuals</font><br>\n",
        "   <img src=\"https://drive.google.com/uc?export=view&id=1QyuMnsb2uWxa54no-cRpgEYrkUHWb8vJ\" width='50%' height='50%'> <br>Source: https://towardsdatascience.com/q-q-plots-explained-5aa8495426c0\n",
        "    </td>\n",
        "  </tr>\n",
        "</table>"
      ],
      "metadata": {
        "id": "s4OjiA3aSwg2"
      }
    },
    {
      "cell_type": "markdown",
      "source": [
        "## Checking Assumptions for our SLR Model"
      ],
      "metadata": {
        "id": "vG8ZA3GwXTxy"
      }
    },
    {
      "cell_type": "markdown",
      "metadata": {
        "id": "yfNQ0dYi7tSi"
      },
      "source": [
        "To verify the assumptions, the predicted values and residuals from the fit are needed.  The predict() function can be used to obtain a prediction.  However, the linear model object in R contains the predicted values (or fitted values) and residuals for all observations used to build the model.\n",
        "\n",
        "*   **Predicted Values**:WendysLinearModel_SaturatedFat_Calories\\$fitted.values\n",
        "*   **Residuals**: WendysLinearModel_SaturatedFat_Calories\\$residuals\n"
      ]
    },
    {
      "cell_type": "code",
      "metadata": {
        "colab": {
          "base_uri": "https://localhost:8080/",
          "height": 34
        },
        "id": "Cxf7BF5V3FwQ",
        "outputId": "bf68d7ed-e25a-46d4-c0e2-3605d379f906"
      },
      "source": [
        "names(WendysLinearModel_SaturatedFat_Calories)"
      ],
      "execution_count": null,
      "outputs": [
        {
          "output_type": "display_data",
          "data": {
            "text/html": [
              "<style>\n",
              ".list-inline {list-style: none; margin:0; padding: 0}\n",
              ".list-inline>li {display: inline-block}\n",
              ".list-inline>li:not(:last-child)::after {content: \"\\00b7\"; padding: 0 .5ex}\n",
              "</style>\n",
              "<ol class=list-inline><li>'coefficients'</li><li>'residuals'</li><li>'effects'</li><li>'rank'</li><li>'fitted.values'</li><li>'assign'</li><li>'qr'</li><li>'df.residual'</li><li>'xlevels'</li><li>'call'</li><li>'terms'</li><li>'model'</li></ol>\n"
            ],
            "text/markdown": "1. 'coefficients'\n2. 'residuals'\n3. 'effects'\n4. 'rank'\n5. 'fitted.values'\n6. 'assign'\n7. 'qr'\n8. 'df.residual'\n9. 'xlevels'\n10. 'call'\n11. 'terms'\n12. 'model'\n\n\n",
            "text/latex": "\\begin{enumerate*}\n\\item 'coefficients'\n\\item 'residuals'\n\\item 'effects'\n\\item 'rank'\n\\item 'fitted.values'\n\\item 'assign'\n\\item 'qr'\n\\item 'df.residual'\n\\item 'xlevels'\n\\item 'call'\n\\item 'terms'\n\\item 'model'\n\\end{enumerate*}\n",
            "text/plain": [
              " [1] \"coefficients\"  \"residuals\"     \"effects\"       \"rank\"         \n",
              " [5] \"fitted.values\" \"assign\"        \"qr\"            \"df.residual\"  \n",
              " [9] \"xlevels\"       \"call\"          \"terms\"         \"model\"        "
            ]
          },
          "metadata": {}
        }
      ]
    },
    {
      "cell_type": "markdown",
      "metadata": {
        "id": "CReMZl1ZSTU9"
      },
      "source": [
        "Next, lets create data.frame that includes the predicted values and residuals for each observation used to construct the model."
      ]
    },
    {
      "cell_type": "code",
      "metadata": {
        "id": "az4bPOVYSOud"
      },
      "source": [
        "#Using predict() function\n",
        "#(Wendys\n",
        "# %>% mutate(\n",
        "#            Predicted_SaturatedFat = predict(WendysLinearModel_SaturatedFat_Calories, newdata = Wendys),\n",
        "#            Residual = (SaturatedFat - Predicted_SaturatedFat)\n",
        "#           )\n",
        "# ) -> Wendys_with_Predicted_and_Residuals\n",
        "\n",
        "#Using fitted.values and residuals from model object\n",
        "(Wendys\n",
        "  %>% mutate(\n",
        "             Predicted_SaturatedFat = WendysLinearModel_SaturatedFat_Calories$fitted.values,\n",
        "             Residual = WendysLinearModel_SaturatedFat_Calories$residuals\n",
        "            )\n",
        ") -> Wendys_with_Predicted_and_Residuals\n",
        "\n",
        "head(Wendys_with_Predicted_and_Residuals)"
      ],
      "execution_count": null,
      "outputs": []
    },
    {
      "cell_type": "markdown",
      "source": [
        "Next, using ggplot() to create the $Residuals$ vs $Predicted$ scatterplot "
      ],
      "metadata": {
        "id": "rBz8ode-Zg0B"
      }
    },
    {
      "cell_type": "code",
      "metadata": {
        "id": "DJf-JSAb5-RP"
      },
      "source": [
        "#Getting the Residuals vs Predicted Values scatterplot\n",
        "ggplot(data=Wendys_with_Predicted_and_Residuals, aes(x=Predicted_SaturatedFat,y=Residual)) + \n",
        "  geom_point() + \n",
        "  geom_hline(yintercept=0, linetype=\"dashed\") +\n",
        "  ylim(-6, 6) +   \n",
        "  theme_bw()"
      ],
      "execution_count": null,
      "outputs": []
    },
    {
      "cell_type": "markdown",
      "source": [
        "**Comment**:  If problems present themselves in this plot, it may be necessary to plot the $Residual$ vs $Predictor \\space Variables$ to investigate further."
      ],
      "metadata": {
        "id": "bDwaNIkXaMx3"
      }
    },
    {
      "cell_type": "markdown",
      "source": [
        "<table width='100%'><tr><td bgcolor=\"purple\"><font color=\"white\" size=\"+2\">Task</font></td></tr></table>"
      ],
      "metadata": {
        "id": "DhxgqEc0ENl-"
      }
    },
    {
      "cell_type": "markdown",
      "source": [
        "## Task:  Questions"
      ],
      "metadata": {
        "id": "3cvc_E2hENmS"
      }
    },
    {
      "cell_type": "markdown",
      "source": [
        "Using the $Residuals$ vs $Predicted$ scatterplot, verify the following assumptions:\n",
        "\n",
        "1.  Correct Function Form for Mean:\n",
        "2.  Constant Variance\n",
        "3.  Independence:"
      ],
      "metadata": {
        "id": "8cZrKC5QENmT"
      }
    },
    {
      "cell_type": "markdown",
      "source": [
        "<table width='100%'><tr><td bgcolor=\"purple\"><font color=\"white\" size=\"+2\">&nbsp;</font></td></tr></table>"
      ],
      "metadata": {
        "id": "XjzlnCnMEkSv"
      }
    },
    {
      "cell_type": "markdown",
      "metadata": {
        "id": "jKRcpDdNI0F9"
      },
      "source": [
        "An sufficient alternative to constructing the above ggplot is to simply pass the linear model object through the basic plot() function in R.  Specify which=1 for the Residuals vs Predicted plot."
      ]
    },
    {
      "cell_type": "code",
      "metadata": {
        "id": "zqbs-hGn4u3W"
      },
      "source": [
        "#pass linear model object through generic plot() function\n",
        "#specify which=1 for Residuals vs Predicted\n",
        "plot(WendysLinearModel_SaturatedFat_Calories, which=1)"
      ],
      "execution_count": null,
      "outputs": []
    },
    {
      "cell_type": "markdown",
      "source": [
        "Next, getting a histogram of the $Residuals$ to check normality condition."
      ],
      "metadata": {
        "id": "7P0O6grsa8jd"
      }
    },
    {
      "cell_type": "code",
      "source": [
        "#Getting the Residuals vs Predicted Values scatterplot\n",
        "ggplot(data=Wendys_with_Predicted_and_Residuals, aes(x=Residual)) + \n",
        "  geom_histogram(aes(y=..density..), bins=6) + \n",
        "  geom_density() + \n",
        "  stat_function(fun = dnorm,\n",
        "                args = list(mean = c(0), #Mean of residuals is 0 for a linear model\n",
        "                            sd = c(2.564)), #RMSE value is the stadard deviation in residuals\n",
        "                col = \"darkgreen\",\n",
        "                size = 1)+\n",
        "  theme_classic()"
      ],
      "metadata": {
        "id": "Hs53xC4ua8qd"
      },
      "execution_count": null,
      "outputs": []
    },
    {
      "cell_type": "markdown",
      "source": [
        "<table width='100%'><tr><td bgcolor=\"purple\"><font color=\"white\" size=\"+2\">Task</font></td></tr></table>"
      ],
      "metadata": {
        "id": "7iZgB10ScI2f"
      }
    },
    {
      "cell_type": "markdown",
      "source": [
        "## Task:  Questions"
      ],
      "metadata": {
        "id": "OWbgZjYAcI2g"
      }
    },
    {
      "cell_type": "markdown",
      "source": [
        "Using the histogram of the $Residuals$ to verify the normality assumption:\n",
        "\n",
        "4.  Normality Assumption: "
      ],
      "metadata": {
        "id": "x92aagracI2h"
      }
    },
    {
      "cell_type": "markdown",
      "source": [
        "<table width='100%'><tr><td bgcolor=\"purple\"><font color=\"white\" size=\"+2\">&nbsp;</font></td></tr></table>"
      ],
      "metadata": {
        "id": "vhQFFMxmcI2h"
      }
    },
    {
      "cell_type": "markdown",
      "source": [
        "If the linear model object is passed through the plot() function with $which=2$, a quantile-quantile normal plot of the $Residuals$ is created. "
      ],
      "metadata": {
        "id": "l9T_DsZvbW3I"
      }
    },
    {
      "cell_type": "code",
      "source": [
        "plot(WendysLinearModel_SaturatedFat_Calories, which=2)"
      ],
      "metadata": {
        "id": "9IFdDUBXbW-S"
      },
      "execution_count": null,
      "outputs": []
    },
    {
      "cell_type": "markdown",
      "metadata": {
        "id": "WgCBlkpGJK1-"
      },
      "source": [
        "## Using car Package"
      ]
    },
    {
      "cell_type": "markdown",
      "metadata": {
        "id": "xbRVkA_I9l5B"
      },
      "source": [
        "The **car** package is an R package that can be used to assist you with doing a regression analysis.  This R package includes functions to accompany J. Fox and S. Weisberg book titled \"An R Companion for Applied Regression.\n",
        "\n",
        "Source:  [Webpage](tinyurl.com/carbook) for An R Companion for Applied Regression\n",
        "\n",
        "**Note**:  The car package takes about 5 minutes to download into Google Colab."
      ]
    },
    {
      "cell_type": "code",
      "metadata": {
        "id": "p-v7MudR9mEJ"
      },
      "source": [
        "#download the car package\n",
        "install.packages(\"car\")"
      ],
      "execution_count": null,
      "outputs": []
    },
    {
      "cell_type": "markdown",
      "source": [
        "Next, install the car() package into this COLAB session."
      ],
      "metadata": {
        "id": "Y6Jugdqkc-C0"
      }
    },
    {
      "cell_type": "code",
      "source": [
        "#Install the car package into this COLAB session\n",
        "library(car)"
      ],
      "metadata": {
        "id": "OCcLOiDnc-J2"
      },
      "execution_count": null,
      "outputs": []
    },
    {
      "cell_type": "markdown",
      "metadata": {
        "id": "UmbI65u1DjuT"
      },
      "source": [
        "The car package includes a function called durbinWatsonTest() that can be used to check the **independence** assumption of a liner model. "
      ]
    },
    {
      "cell_type": "markdown",
      "source": [
        "The statistical hypothesis for a Durbin-Watson test is given by the following.  For more information on the Durbin-Watson test, see it's [Wiki Page](https://en.wikipedia.org/wiki/Durbin%E2%80%93Watson_statistic)."
      ],
      "metadata": {
        "id": "rzqai6kB3-6z"
      }
    },
    {
      "cell_type": "markdown",
      "source": [
        "$$\\begin{array}{rcl}\n",
        "H_{0} & : & \\mbox{No auto-correlation present} \\\\\n",
        "H_{A} & : & \\mbox{Auto-correlation present} \\\\\n",
        "\\end{array}\n",
        "$$"
      ],
      "metadata": {
        "id": "h5D282Oa3ozg"
      }
    },
    {
      "cell_type": "code",
      "metadata": {
        "colab": {
          "base_uri": "https://localhost:8080/",
          "height": 69
        },
        "id": "_JLve7IEDj0j",
        "outputId": "4e9c302f-6f89-4998-d8da-2654b36ecf03"
      },
      "source": [
        "durbinWatsonTest(WendysLinearModel_SaturatedFat_Calories)"
      ],
      "execution_count": null,
      "outputs": [
        {
          "output_type": "display_data",
          "data": {
            "text/plain": [
              " lag Autocorrelation D-W Statistic p-value\n",
              "   1       0.2677706      1.424273   0.092\n",
              " Alternative hypothesis: rho != 0"
            ]
          },
          "metadata": {}
        }
      ]
    },
    {
      "cell_type": "markdown",
      "source": [
        "An alternative QQ-Normal plot is provided by the car() package.  This is shown here."
      ],
      "metadata": {
        "id": "lDgdkRe44aU1"
      }
    },
    {
      "cell_type": "code",
      "metadata": {
        "colab": {
          "base_uri": "https://localhost:8080/",
          "height": 454
        },
        "id": "2dONZO2CKVRo",
        "outputId": "1b1df273-d351-4204-839b-26c2c2adfecd"
      },
      "source": [
        "#The qqplot() function is from the car package\n",
        "qqPlot(WendysLinearModel_SaturatedFat_Calories, distribution=\"norm\")"
      ],
      "execution_count": null,
      "outputs": [
        {
          "output_type": "display_data",
          "data": {
            "text/html": [
              "<style>\n",
              ".list-inline {list-style: none; margin:0; padding: 0}\n",
              ".list-inline>li {display: inline-block}\n",
              ".list-inline>li:not(:last-child)::after {content: \"\\00b7\"; padding: 0 .5ex}\n",
              "</style>\n",
              "<ol class=list-inline><li>5</li><li>18</li></ol>\n"
            ],
            "text/markdown": "1. 5\n2. 18\n\n\n",
            "text/latex": "\\begin{enumerate*}\n\\item 5\n\\item 18\n\\end{enumerate*}\n",
            "text/plain": [
              "[1]  5 18"
            ]
          },
          "metadata": {}
        },
        {
          "output_type": "display_data",
          "data": {
            "text/plain": [
              "plot without title"
            ],
            "image/png": "[encoded data removed]"
          },
          "metadata": {
            "image/png": {
              "width": 420,
              "height": 420
            }
          }
        }
      ]
    },
    {
      "cell_type": "markdown",
      "metadata": {
        "id": "45H5Rf2eNCF3"
      },
      "source": [
        "## Outlier Detection"
      ]
    },
    {
      "cell_type": "markdown",
      "source": [
        "One last consideration is the identification of $outliers$. Outliers do not necessarily impact the theoretical considerations, but extreme outliers should be identified.  There are more formal rules for the identification of outliers, but an approximate rule for determining outliers is given by\n",
        "\n",
        " $$ |Residual| >  2 *RMSE$$"
      ],
      "metadata": {
        "id": "PRyx4MrsBb1C"
      }
    },
    {
      "cell_type": "code",
      "metadata": {
        "id": "7mNz09qLN0dv"
      },
      "source": [
        "#Taking a look at the residuals for each food item\n",
        "WendysLinearModel_SaturatedFat_Calories$residuals"
      ],
      "execution_count": null,
      "outputs": []
    },
    {
      "cell_type": "markdown",
      "metadata": {
        "id": "Vm1ZEGp-OmFd"
      },
      "source": [
        "The which() function in R can be used to quickly identify observations that are outliers."
      ]
    },
    {
      "cell_type": "code",
      "metadata": {
        "id": "7lfhRScmNCME"
      },
      "source": [
        "#Identify rows that are outliers...\n",
        "#The RMSE value from our model is 2.564\n",
        "which( abs(WendysLinearModel_SaturatedFat_Calories$residuals) > 2 * 2.564) "
      ],
      "execution_count": null,
      "outputs": []
    },
    {
      "cell_type": "markdown",
      "metadata": {
        "id": "j5fKO0N0OQ_g"
      },
      "source": [
        "The following snipit of code can be used to identify the item (row = 18) from the data.frame that contains the predicted values and the residuals."
      ]
    },
    {
      "cell_type": "code",
      "metadata": {
        "id": "lkuR66CKORHS"
      },
      "source": [
        "Wendys_with_Predicted_and_Residuals[18,]"
      ],
      "execution_count": null,
      "outputs": []
    },
    {
      "cell_type": "markdown",
      "source": [
        "Consider the following $Residual$ vs $Predicted$ scatterplot.  This plot includes horizontal lines to identify any outliers. "
      ],
      "metadata": {
        "id": "3B6QzEg3CZd0"
      }
    },
    {
      "cell_type": "code",
      "source": [
        "#Getting the Residuals vs Predicted Values scatterplot\n",
        "ggplot(data=Wendys_with_Predicted_and_Residuals, aes(x=Predicted_SaturatedFat,y=Residual)) + \n",
        "  geom_point() + \n",
        "  geom_hline(yintercept=0, linetype=\"dashed\") +\n",
        "  geom_hline(yintercept=+5.128, color=\"red\") +\n",
        "  geom_hline(yintercept=-5.128, color=\"red\") +\n",
        "  ylim(-6, 6) +  \n",
        "  theme_bw()"
      ],
      "metadata": {
        "id": "Nfkc-9g7CaFD"
      },
      "execution_count": null,
      "outputs": []
    },
    {
      "cell_type": "markdown",
      "source": [
        "A variation of the plot above, is to use Food Item name as a label.  As we can see from this plot, \"chicken\" food items tend to be over-predicted."
      ],
      "metadata": {
        "id": "C2KPdwxrDkBO"
      }
    },
    {
      "cell_type": "code",
      "source": [
        "#Getting the Residuals vs Predicted Values scatterplot\n",
        "ggplot(data=Wendys_with_Predicted_and_Residuals, aes(x=Predicted_SaturatedFat,y=Residual, label=Item)) + \n",
        "  geom_point() + \n",
        "  geom_text()+ \n",
        "  geom_hline(yintercept=0, linetype=\"dashed\") +\n",
        "  geom_hline(yintercept=+5.128, color=\"red\") +\n",
        "  geom_hline(yintercept=-5.128, color=\"red\") +\n",
        "  ylim(-6, 6) +  \n",
        "  theme_bw()"
      ],
      "metadata": {
        "id": "mFWr51N0DkK0"
      },
      "execution_count": null,
      "outputs": []
    },
    {
      "cell_type": "markdown",
      "metadata": {
        "id": "9kkg1lL30Rfw"
      },
      "source": [
        "\n",
        "\n",
        "---\n",
        "\n",
        "\n",
        "\n",
        "---\n",
        "End of Document\n",
        "\n"
      ]
    }
  ]
}